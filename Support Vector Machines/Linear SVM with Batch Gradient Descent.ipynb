{
 "cells": [
  {
   "cell_type": "markdown",
   "metadata": {},
   "source": [
    "<h1>Linear SVM with Batch Gradient Descent</h1>"
   ]
  },
  {
   "cell_type": "code",
   "execution_count": 18,
   "metadata": {},
   "outputs": [],
   "source": [
    "from sklearn.base import BaseEstimator\n",
    "from sklearn import datasets\n",
    "import numpy as np\n",
    "\n",
    "class LinSVC(BaseEstimator):\n",
    "    def __init__(self,C,eta0,eta_d,n_epochs,random_state = None):\n",
    "        self.C = C\n",
    "        self.eta0 = eta0\n",
    "        self.eta_d = eta_d\n",
    "        self.n_epochs = n_epochs\n",
    "        self.random_state = random_state\n",
    "    def eta(self,epoch):\n",
    "        return self.eta0/(epoch + self.eta_d)\n",
    "    def fit(self,X,y):\n",
    "        if self.random_state != None:\n",
    "            np.random.seed(self.random_state)\n",
    "        #set up a random weight vector \n",
    "        w = np.random.rand(X.shape[1],1)\n",
    "        #set up b\n",
    "        b = 0\n",
    "        m = len(X)\n",
    "        #t will be -1 when y = 0 and 1 when y = 1\n",
    "        t = y\n",
    "        t[np.where(t == 0)[0]] = -1\n",
    "        t[np.where(t == 1)[0]] = 1\n",
    "        #element wise multiply t with X\n",
    "        X_t = X*t.reshape(-1,1)\n",
    "        self.costs = []\n",
    "        #Training\n",
    "        for epoch in range(self.n_epochs):\n",
    "            #the support vectors will occur between wx + b = -1\n",
    "            #and wx + b = 1\n",
    "            #if we multiply with t where t = 1 when y = 1 and\n",
    "            #t = -1 when y = 0, all wx+b within -1 to 1 will occur\n",
    "            #between 0 and 1. Hence all support vectors occur in\n",
    "            #this range\n",
    "            support_vectors_idx = np.where((np.dot(X_t,w) + (t*b).reshape(-1,1))<1)[0]\n",
    "            X_t_sv = X_t[support_vectors_idx]\n",
    "            t_sv = t[support_vectors_idx]\n",
    "            #for cost we only take the support vectors into consideration\n",
    "            #also the cost equation is the Lagrangian equation\n",
    "            #for support vectors\n",
    "            #we use only support vectors to calculate the cost because\n",
    "            #self.C != 0 only for support vectors\n",
    "            #If we used the kernel , the lagrangian would be the dual form lagrangian here\n",
    "            J = (1/2)*np.dot(np.transpose(w),w) + self.C*(1) - self.C*np.sum(np.dot(X_t_sv,w)) - self.C*np.sum(b*t_sv)\n",
    "            self.costs.append(J[0][0])\n",
    "            #derivative of J with respect to w\n",
    "            w_gradient_vector = w - self.C*np.sum(X_t_sv,axis = 0).reshape(-1,1)\n",
    "            #derivative of J with respect to b\n",
    "            b_derivative = -self.C*np.sum(t_sv)\n",
    "            \n",
    "            #gradient descent\n",
    "            w = w - self.eta(epoch)*w_gradient_vector\n",
    "            b = b - self.eta(epoch)*b_derivative\n",
    "            \n",
    "        self.intercept_ = np.array([b])\n",
    "        self.coef_ = np.array([w])\n",
    "        support_vectors_idx = np.where((np.dot(X_t,w) + t*b)<1)[0].ravel()\n",
    "        self.support_vectors_ = X[support_vectors_idx]\n",
    "        return self\n",
    "    \n",
    "    def decision_function(self,X):\n",
    "        #If we used a kernelized method, instead of np.dot(X,self.coef_[0])\n",
    "        #we would have self.C*t_sv*kernel(self.supportvector*X)\n",
    "        return np.dot(X,self.coef_[0]) + self.intercept_[0]\n",
    "    \n",
    "    def predict(self,X):\n",
    "        return ((np.dot(X,self.coef_[0]) + self.intercept_[0])>=0).astype(np.float64)\n",
    "    \n"
   ]
  },
  {
   "cell_type": "code",
   "execution_count": 23,
   "metadata": {},
   "outputs": [
    {
     "data": {
      "text/plain": [
       "array([[1.],\n",
       "       [0.]])"
      ]
     },
     "execution_count": 23,
     "metadata": {},
     "output_type": "execute_result"
    }
   ],
   "source": [
    "iris = datasets.load_iris()\n",
    "X = iris[\"data\"][:,(2,3)]\n",
    "y = (iris[\"target\"] == 2).astype(np.float64)\n",
    "\n",
    "C = 2\n",
    "svm_clf = LinSVC(C=C,eta0 = 10, eta_d = 1000, n_epochs = 60000,random_state = 2)\n",
    "svm_clf.fit(X,y)           \n",
    "svm_clf.predict(np.array([[5,2],[4,1]]))            "
   ]
  },
  {
   "cell_type": "code",
   "execution_count": 24,
   "metadata": {},
   "outputs": [
    {
     "data": {
      "text/plain": [
       "(0, 100)"
      ]
     },
     "execution_count": 24,
     "metadata": {},
     "output_type": "execute_result"
    },
    {
     "data": {
      "image/png": "[encoded data removed]",
      "text/plain": [
       "<Figure size 720x576 with 1 Axes>"
      ]
     },
     "metadata": {
      "needs_background": "light"
     },
     "output_type": "display_data"
    }
   ],
   "source": [
    "import matplotlib.pyplot as plt\n",
    "fig,ax = plt.subplots(1,1,figsize = (10,8))\n",
    "ax.plot(range(len(svm_clf.costs)),svm_clf.costs)\n",
    "ax.set_ylim([0,100])"
   ]
  },
  {
   "cell_type": "code",
   "execution_count": 25,
   "metadata": {},
   "outputs": [
    {
     "data": {
      "text/plain": [
       "array([-15.56770527])"
      ]
     },
     "execution_count": 25,
     "metadata": {},
     "output_type": "execute_result"
    }
   ],
   "source": [
    "svm_clf.intercept_"
   ]
  },
  {
   "cell_type": "code",
   "execution_count": 26,
   "metadata": {},
   "outputs": [
    {
     "data": {
      "text/plain": [
       "array([[[2.28126905],\n",
       "        [2.7161964 ]]])"
      ]
     },
     "execution_count": 26,
     "metadata": {},
     "output_type": "execute_result"
    }
   ],
   "source": [
    "svm_clf.coef_"
   ]
  },
  {
   "cell_type": "markdown",
   "metadata": {},
   "source": [
    "<h2>Training using the inbuilt SVC method</h2>"
   ]
  },
  {
   "cell_type": "code",
   "execution_count": 27,
   "metadata": {},
   "outputs": [
    {
     "data": {
      "text/plain": [
       "array([ 1., -1.])"
      ]
     },
     "execution_count": 27,
     "metadata": {},
     "output_type": "execute_result"
    }
   ],
   "source": [
    "from sklearn.svm import SVC\n",
    "svc_sklearn = SVC(kernel = 'linear',C = 2)\n",
    "svc_sklearn.fit(X,y)\n",
    "svc_sklearn.predict(np.array([[5,2],[4,1]]))"
   ]
  },
  {
   "cell_type": "code",
   "execution_count": 28,
   "metadata": {},
   "outputs": [
    {
     "data": {
      "text/plain": [
       "array([-15.51721253])"
      ]
     },
     "execution_count": 28,
     "metadata": {},
     "output_type": "execute_result"
    }
   ],
   "source": [
    "svc_sklearn.intercept_"
   ]
  },
  {
   "cell_type": "code",
   "execution_count": 29,
   "metadata": {},
   "outputs": [
    {
     "data": {
      "text/plain": [
       "array([[2.27128546, 2.71287145]])"
      ]
     },
     "execution_count": 29,
     "metadata": {},
     "output_type": "execute_result"
    }
   ],
   "source": [
    "svc_sklearn.coef_"
   ]
  },
  {
   "cell_type": "code",
   "execution_count": 32,
   "metadata": {},
   "outputs": [],
   "source": [
    "idx0 = np.where(y == -1)[0]\n",
    "idx1 = np.where(y == 1)[0]"
   ]
  },
  {
   "cell_type": "code",
   "execution_count": 56,
   "metadata": {},
   "outputs": [
    {
     "data": {
      "image/png": "[encoded data removed]",
      "text/plain": [
       "<Figure size 792x230.4 with 2 Axes>"
      ]
     },
     "metadata": {
      "needs_background": "light"
     },
     "output_type": "display_data"
    }
   ],
   "source": [
    "fig,ax = plt.subplots(1,2,figsize = (11,3.2),sharey = True)\n",
    "ax[0].set_xlim(4,6)\n",
    "ax[0].set_ylim(0.8,2.8)\n",
    "ax[0].plot(X[:,0][idx0],X[:,1][idx0],'bs')\n",
    "ax[0].plot(X[:,0][idx1],X[:,1][idx1],'g^')\n",
    "\n",
    "\n",
    "ax[1].set_xlim(4,6)\n",
    "#ax[0].set_ylim(0.5,3.0)\n",
    "ax[1].plot(X[:,0][idx0],X[:,1][idx0],'bs')\n",
    "ax[1].plot(X[:,0][idx1],X[:,1][idx1],'g^')\n",
    "\n",
    "\n",
    "w_linsvc = svm_clf.coef_[0]\n",
    "b_linsvc = svm_clf.intercept_[0]\n",
    "\n",
    "w_svc = svc_sklearn.coef_[0]\n",
    "b_svc = svc_sklearn.intercept_[0]\n",
    "\n",
    "x0 = np.linspace(4,6,200)\n",
    "decision_boundary_linsvc = -(w_linsvc[0]/w_linsvc[1] * x0) - (b_linsvc/w_linsvc[1])\n",
    "decision_boundary_one_linsvc = (1/w_linsvc[1]) -(w_linsvc[0]/w_linsvc[1] * x0) - (b_linsvc/w_linsvc[1])\n",
    "decision_boundary_minusone_linsvc = -(1/w_linsvc[1]) -(w_linsvc[0]/w_linsvc[1] * x0) - (b_linsvc/w_linsvc[1])\n",
    "\n",
    "decision_boundary_svc = -(w_svc[0]/w_svc[1] * x0) - (b_svc/w_svc[1])\n",
    "decision_boundary_one_svc = (1/w_svc[1]) -(w_svc[0]/w_svc[1] * x0) - (b_svc/w_svc[1])\n",
    "decision_boundary_minusone_svc = -(1/w_svc[1]) -(w_svc[0]/w_svc[1] * x0) - (b_svc/w_svc[1])\n",
    "\n",
    "\n",
    "\n",
    "ax[0].plot(x0,decision_boundary_linsvc,'k-')\n",
    "ax[0].plot(x0,decision_boundary_one_linsvc,'k--')\n",
    "ax[0].plot(x0,decision_boundary_minusone_linsvc,'k--')\n",
    "\n",
    "ax[1].plot(x0,decision_boundary_svc,'k-')\n",
    "ax[1].plot(x0,decision_boundary_one_svc,'k--')\n",
    "ax[1].plot(x0,decision_boundary_minusone_svc,'k--')\n",
    "\n",
    "ax[0].set_title('LinearSVM with Gradient Descent')\n",
    "ax[1].set_title('Sklearn SVC')\n",
    "plt.show()"
   ]
  },
  {
   "cell_type": "code",
   "execution_count": null,
   "metadata": {},
   "outputs": [],
   "source": []
  },
  {
   "cell_type": "code",
   "execution_count": null,
   "metadata": {},
   "outputs": [],
   "source": []
  }
 ],
 "metadata": {
  "kernelspec": {
   "display_name": "Python 3",
   "language": "python",
   "name": "python3"
  },
  "language_info": {
   "codemirror_mode": {
    "name": "ipython",
    "version": 3
   },
   "file_extension": ".py",
   "mimetype": "text/x-python",
   "name": "python",
   "nbconvert_exporter": "python",
   "pygments_lexer": "ipython3",
   "version": "3.7.3"
  }
 },
 "nbformat": 4,
 "nbformat_minor": 2
}
