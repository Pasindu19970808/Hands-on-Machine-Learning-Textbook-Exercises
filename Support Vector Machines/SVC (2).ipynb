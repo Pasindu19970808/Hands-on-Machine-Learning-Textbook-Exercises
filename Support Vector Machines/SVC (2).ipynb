{
 "cells": [
  {
   "cell_type": "code",
   "execution_count": 1,
   "metadata": {},
   "outputs": [],
   "source": [
    "import numpy as np\n",
    "from sklearn import datasets\n",
    "from sklearn.pipeline import Pipeline\n",
    "from sklearn.preprocessing import StandardScaler\n",
    "from sklearn.svm import LinearSVC"
   ]
  },
  {
   "cell_type": "code",
   "execution_count": 2,
   "metadata": {},
   "outputs": [
    {
     "data": {
      "text/plain": [
       "array([0., 0., 0., 0., 0., 0., 0., 0., 0., 0., 0., 0., 0., 0., 0., 0., 0.,\n",
       "       0., 0., 0., 0., 0., 0., 0., 0., 0., 0., 0., 0., 0., 0., 0., 0., 0.,\n",
       "       0., 0., 0., 0., 0., 0., 0., 0., 0., 0., 0., 0., 0., 0., 0., 0., 0.,\n",
       "       0., 0., 0., 0., 0., 0., 0., 0., 0., 0., 0., 0., 0., 0., 0., 0., 0.,\n",
       "       0., 0., 0., 0., 0., 0., 0., 0., 0., 0., 0., 0., 0., 0., 0., 0., 0.,\n",
       "       0., 0., 0., 0., 0., 0., 0., 0., 0., 0., 0., 0., 0., 0., 0., 1., 1.,\n",
       "       1., 1., 1., 1., 1., 1., 1., 1., 1., 1., 1., 1., 1., 1., 1., 1., 1.,\n",
       "       1., 1., 1., 1., 1., 1., 1., 1., 1., 1., 1., 1., 1., 1., 1., 1., 1.,\n",
       "       1., 1., 1., 1., 1., 1., 1., 1., 1., 1., 1., 1., 1., 1.])"
      ]
     },
     "execution_count": 2,
     "metadata": {},
     "output_type": "execute_result"
    }
   ],
   "source": [
    "iris = datasets.load_iris()\n",
    "X = iris[\"data\"][:,(2,3)]\n",
    "y = (iris[\"target\"] == 2).astype(np.float64)\n",
    "y"
   ]
  },
  {
   "cell_type": "code",
   "execution_count": 3,
   "metadata": {},
   "outputs": [],
   "source": [
    "from sklearn.model_selection import StratifiedShuffleSplit\n",
    "splitter = StratifiedShuffleSplit(n_splits = 1,test_size = 0.2,random_state = 0)"
   ]
  },
  {
   "cell_type": "code",
   "execution_count": 4,
   "metadata": {},
   "outputs": [],
   "source": [
    "unique_elements,count_elements = np.unique(y,return_counts = True)"
   ]
  },
  {
   "cell_type": "code",
   "execution_count": 5,
   "metadata": {},
   "outputs": [
    {
     "name": "stdout",
     "output_type": "stream",
     "text": [
      "[0. 1.]\n"
     ]
    }
   ],
   "source": [
    "print(unique_elements)"
   ]
  },
  {
   "cell_type": "code",
   "execution_count": 6,
   "metadata": {},
   "outputs": [
    {
     "name": "stdout",
     "output_type": "stream",
     "text": [
      "[100  50]\n"
     ]
    }
   ],
   "source": [
    "print(count_elements)"
   ]
  },
  {
   "cell_type": "code",
   "execution_count": 7,
   "metadata": {},
   "outputs": [],
   "source": [
    "for train_index,test_index in splitter.split(X,y):\n",
    "    X_train = X[train_index]\n",
    "    X_test = X[test_index]\n",
    "    y_train = y[train_index]\n",
    "    y_test = y[test_index]\n"
   ]
  },
  {
   "cell_type": "code",
   "execution_count": 8,
   "metadata": {},
   "outputs": [],
   "source": [
    "unique_elements,count_elements = np.unique(y_train,return_counts = True)"
   ]
  },
  {
   "cell_type": "code",
   "execution_count": 9,
   "metadata": {},
   "outputs": [
    {
     "data": {
      "text/plain": [
       "array([0.66666667, 0.33333333])"
      ]
     },
     "execution_count": 9,
     "metadata": {},
     "output_type": "execute_result"
    }
   ],
   "source": [
    "count_elements/sum(count_elements)"
   ]
  },
  {
   "cell_type": "code",
   "execution_count": 10,
   "metadata": {},
   "outputs": [
    {
     "data": {
      "text/plain": [
       "Pipeline(memory=None,\n",
       "         steps=[('scaler',\n",
       "                 StandardScaler(copy=True, with_mean=True, with_std=True)),\n",
       "                ('linear_svc',\n",
       "                 LinearSVC(C=1, class_weight=None, dual=True,\n",
       "                           fit_intercept=True, intercept_scaling=1,\n",
       "                           loss='hinge', max_iter=1000, multi_class='ovr',\n",
       "                           penalty='l2', random_state=None, tol=0.0001,\n",
       "                           verbose=0))],\n",
       "         verbose=False)"
      ]
     },
     "execution_count": 10,
     "metadata": {},
     "output_type": "execute_result"
    }
   ],
   "source": [
    "svm_clf = Pipeline([('scaler',StandardScaler()),\n",
    "                   ('linear_svc',LinearSVC(C = 1, loss = 'hinge'))])\n",
    "svm_clf.fit(X_train,y_train)"
   ]
  },
  {
   "cell_type": "code",
   "execution_count": 11,
   "metadata": {},
   "outputs": [],
   "source": [
    "y_pred = svm_clf.predict(X_test)"
   ]
  },
  {
   "cell_type": "code",
   "execution_count": 12,
   "metadata": {},
   "outputs": [],
   "source": [
    "from sklearn.metrics import confusion_matrix"
   ]
  },
  {
   "cell_type": "code",
   "execution_count": 13,
   "metadata": {},
   "outputs": [
    {
     "data": {
      "text/plain": [
       "array([[19,  1],\n",
       "       [ 1,  9]], dtype=int64)"
      ]
     },
     "execution_count": 13,
     "metadata": {},
     "output_type": "execute_result"
    }
   ],
   "source": [
    "confusion_matrix(y_test,y_pred)"
   ]
  },
  {
   "cell_type": "markdown",
   "metadata": {},
   "source": [
    "The Linear SVC class used here regularizes the bias term, hence it is always important to center the training set first by substracting it's mean. This is already done by Standard Scaler."
   ]
  },
  {
   "cell_type": "markdown",
   "metadata": {},
   "source": [
    "<h3>Nonlinear SVM Classification</h3>"
   ]
  },
  {
   "cell_type": "markdown",
   "metadata": {},
   "source": [
    "As datasets are rarely linearly separable, linear SVM class is not always applicable.\n",
    "Instead it is better to add more features, such as polynomial features. "
   ]
  },
  {
   "cell_type": "code",
   "execution_count": 14,
   "metadata": {},
   "outputs": [],
   "source": [
    "from sklearn.datasets import make_moons\n",
    "from sklearn.pipeline import Pipeline\n",
    "from sklearn.preprocessing import PolynomialFeatures\n",
    "import matplotlib.pyplot as plt"
   ]
  },
  {
   "cell_type": "code",
   "execution_count": 15,
   "metadata": {},
   "outputs": [
    {
     "data": {
      "image/png": "[encoded data removed]",
      "text/plain": [
       "<Figure size 576x576 with 1 Axes>"
      ]
     },
     "metadata": {
      "needs_background": "light"
     },
     "output_type": "display_data"
    }
   ],
   "source": [
    "X,y = make_moons(n_samples = 100, noise = 0.15, random_state = 42)\n",
    "\n",
    "idx_1 = np.where(y == 1)[0]\n",
    "idx_0 = np.where(y == 0)[0]\n",
    "\n",
    "fig,ax = plt.subplots(1,1,figsize = (8,8))\n",
    "ax.plot(X[:,0][idx_1],X[:,1][idx_1],'g^')\n",
    "ax.plot(X[:,0][idx_0],X[:,1][idx_0],'bs')\n",
    "ax.grid()\n"
   ]
  },
  {
   "cell_type": "markdown",
   "metadata": {},
   "source": [
    "The above dataset is impossible to be linearly classified, hence it is required that we change the dimension of this by adding in a polynomial"
   ]
  },
  {
   "cell_type": "code",
   "execution_count": 16,
   "metadata": {},
   "outputs": [
    {
     "data": {
      "text/plain": [
       "<mpl_toolkits.mplot3d.art3d.Path3DCollection at 0x204fcc5cbe0>"
      ]
     },
     "execution_count": 16,
     "metadata": {},
     "output_type": "execute_result"
    },
    {
     "data": {
      "image/png": "[encoded data removed]",
      "text/plain": [
       "<Figure size 720x540 with 1 Axes>"
      ]
     },
     "metadata": {
      "needs_background": "light"
     },
     "output_type": "display_data"
    }
   ],
   "source": [
    "from mpl_toolkits import mplot3d\n",
    "\n",
    "fig = plt.figure(figsize=(10, 7.5))\n",
    "ax = plt.axes(projection='3d') \n",
    "#ax.plot3D(X[:,0],X[:,1],y,'gray')\n",
    "ax.scatter3D(X[:,0],X[:,1],y,cmap = 'viridis')\n"
   ]
  },
  {
   "cell_type": "code",
   "execution_count": 17,
   "metadata": {},
   "outputs": [],
   "source": [
    "from sklearn.pipeline import Pipeline\n",
    "from sklearn.preprocessing import PolynomialFeatures\n",
    "\n",
    "polynomial_svm_clf = Pipeline([\n",
    "    ('polyfeatures',PolynomialFeatures(degree=3)),\n",
    "     ('scaler',StandardScaler()),\n",
    "     ('svm_clf',LinearSVC(C=10,loss = 'hinge'))\n",
    "])"
   ]
  },
  {
   "cell_type": "code",
   "execution_count": 18,
   "metadata": {},
   "outputs": [
    {
     "name": "stderr",
     "output_type": "stream",
     "text": [
      "C:\\Users\\ASUS\\Anaconda3\\lib\\site-packages\\sklearn\\svm\\base.py:929: ConvergenceWarning: Liblinear failed to converge, increase the number of iterations.\n",
      "  \"the number of iterations.\", ConvergenceWarning)\n"
     ]
    },
    {
     "data": {
      "text/plain": [
       "Pipeline(memory=None,\n",
       "         steps=[('polyfeatures',\n",
       "                 PolynomialFeatures(degree=3, include_bias=True,\n",
       "                                    interaction_only=False, order='C')),\n",
       "                ('scaler',\n",
       "                 StandardScaler(copy=True, with_mean=True, with_std=True)),\n",
       "                ('svm_clf',\n",
       "                 LinearSVC(C=10, class_weight=None, dual=True,\n",
       "                           fit_intercept=True, intercept_scaling=1,\n",
       "                           loss='hinge', max_iter=1000, multi_class='ovr',\n",
       "                           penalty='l2', random_state=None, tol=0.0001,\n",
       "                           verbose=0))],\n",
       "         verbose=False)"
      ]
     },
     "execution_count": 18,
     "metadata": {},
     "output_type": "execute_result"
    }
   ],
   "source": [
    "polynomial_svm_clf.fit(X,y)"
   ]
  },
  {
   "cell_type": "code",
   "execution_count": 19,
   "metadata": {},
   "outputs": [
    {
     "data": {
      "text/plain": [
       "['__abstractmethods__',\n",
       " '__class__',\n",
       " '__delattr__',\n",
       " '__dict__',\n",
       " '__dir__',\n",
       " '__doc__',\n",
       " '__eq__',\n",
       " '__format__',\n",
       " '__ge__',\n",
       " '__getattribute__',\n",
       " '__getitem__',\n",
       " '__getstate__',\n",
       " '__gt__',\n",
       " '__hash__',\n",
       " '__init__',\n",
       " '__init_subclass__',\n",
       " '__le__',\n",
       " '__len__',\n",
       " '__lt__',\n",
       " '__module__',\n",
       " '__ne__',\n",
       " '__new__',\n",
       " '__reduce__',\n",
       " '__reduce_ex__',\n",
       " '__repr__',\n",
       " '__setattr__',\n",
       " '__setstate__',\n",
       " '__sizeof__',\n",
       " '__str__',\n",
       " '__subclasshook__',\n",
       " '__weakref__',\n",
       " '_abc_impl',\n",
       " '_estimator_type',\n",
       " '_final_estimator',\n",
       " '_fit',\n",
       " '_get_param_names',\n",
       " '_get_params',\n",
       " '_get_tags',\n",
       " '_inverse_transform',\n",
       " '_iter',\n",
       " '_log_message',\n",
       " '_pairwise',\n",
       " '_replace_estimator',\n",
       " '_required_parameters',\n",
       " '_set_params',\n",
       " '_transform',\n",
       " '_validate_names',\n",
       " '_validate_steps',\n",
       " 'classes_',\n",
       " 'decision_function',\n",
       " 'fit',\n",
       " 'fit_predict',\n",
       " 'fit_transform',\n",
       " 'get_params',\n",
       " 'inverse_transform',\n",
       " 'memory',\n",
       " 'named_steps',\n",
       " 'predict',\n",
       " 'predict_log_proba',\n",
       " 'predict_proba',\n",
       " 'score',\n",
       " 'set_params',\n",
       " 'steps',\n",
       " 'transform',\n",
       " 'verbose']"
      ]
     },
     "execution_count": 19,
     "metadata": {},
     "output_type": "execute_result"
    }
   ],
   "source": [
    "dir(polynomial_svm_clf)"
   ]
  },
  {
   "cell_type": "code",
   "execution_count": 20,
   "metadata": {},
   "outputs": [
    {
     "data": {
      "text/plain": [
       "{'memory': None,\n",
       " 'steps': [('polyfeatures',\n",
       "   PolynomialFeatures(degree=3, include_bias=True, interaction_only=False,\n",
       "                      order='C')),\n",
       "  ('scaler', StandardScaler(copy=True, with_mean=True, with_std=True)),\n",
       "  ('svm_clf', LinearSVC(C=10, class_weight=None, dual=True, fit_intercept=True,\n",
       "             intercept_scaling=1, loss='hinge', max_iter=1000, multi_class='ovr',\n",
       "             penalty='l2', random_state=None, tol=0.0001, verbose=0))],\n",
       " 'verbose': False,\n",
       " 'polyfeatures': PolynomialFeatures(degree=3, include_bias=True, interaction_only=False,\n",
       "                    order='C'),\n",
       " 'scaler': StandardScaler(copy=True, with_mean=True, with_std=True),\n",
       " 'svm_clf': LinearSVC(C=10, class_weight=None, dual=True, fit_intercept=True,\n",
       "           intercept_scaling=1, loss='hinge', max_iter=1000, multi_class='ovr',\n",
       "           penalty='l2', random_state=None, tol=0.0001, verbose=0),\n",
       " 'polyfeatures__degree': 3,\n",
       " 'polyfeatures__include_bias': True,\n",
       " 'polyfeatures__interaction_only': False,\n",
       " 'polyfeatures__order': 'C',\n",
       " 'scaler__copy': True,\n",
       " 'scaler__with_mean': True,\n",
       " 'scaler__with_std': True,\n",
       " 'svm_clf__C': 10,\n",
       " 'svm_clf__class_weight': None,\n",
       " 'svm_clf__dual': True,\n",
       " 'svm_clf__fit_intercept': True,\n",
       " 'svm_clf__intercept_scaling': 1,\n",
       " 'svm_clf__loss': 'hinge',\n",
       " 'svm_clf__max_iter': 1000,\n",
       " 'svm_clf__multi_class': 'ovr',\n",
       " 'svm_clf__penalty': 'l2',\n",
       " 'svm_clf__random_state': None,\n",
       " 'svm_clf__tol': 0.0001,\n",
       " 'svm_clf__verbose': 0}"
      ]
     },
     "execution_count": 20,
     "metadata": {},
     "output_type": "execute_result"
    }
   ],
   "source": [
    "polynomial_svm_clf.get_params()"
   ]
  },
  {
   "cell_type": "code",
   "execution_count": 21,
   "metadata": {},
   "outputs": [
    {
     "data": {
      "text/plain": [
       "array([[ 0.        , -0.46535845, -0.12013109, -5.01205409, -1.54692522,\n",
       "         0.59312762,  6.61413321,  0.10469994,  1.39742809, -2.86714529]])"
      ]
     },
     "execution_count": 21,
     "metadata": {},
     "output_type": "execute_result"
    }
   ],
   "source": [
    "polynomial_svm_clf.get_params()['svm_clf'].coef_"
   ]
  },
  {
   "cell_type": "code",
   "execution_count": 22,
   "metadata": {},
   "outputs": [
    {
     "data": {
      "text/plain": [
       "array([[ 1.2288319 , -1.45680539],\n",
       "       [-0.46341168,  0.5158751 ],\n",
       "       [ 0.26652612, -1.21498185],\n",
       "       [-1.78655886, -0.01424789],\n",
       "       [-1.37234475, -0.193244  ],\n",
       "       [-1.29483672,  1.21475044],\n",
       "       [-0.30969263,  0.97191709],\n",
       "       [ 0.98515796, -1.3765251 ],\n",
       "       [ 0.40462952,  0.92037829],\n",
       "       [ 0.41735682, -0.7344115 ],\n",
       "       [-0.1387788 ,  1.04134997],\n",
       "       [-0.92160698,  1.3422951 ],\n",
       "       [ 0.87924151, -1.76986871],\n",
       "       [-1.26906087,  1.33690337],\n",
       "       [ 1.62319751,  0.10601539],\n",
       "       [ 0.78122265,  0.26387389],\n",
       "       [ 0.70266053, -1.19868072],\n",
       "       [ 0.62278892, -1.54291373],\n",
       "       [-0.01243448,  0.82690336],\n",
       "       [-0.85231282,  1.26601374],\n",
       "       [-0.63553453, -0.22415248],\n",
       "       [ 1.51333936, -0.85331953],\n",
       "       [-0.52823928,  1.09901505],\n",
       "       [-1.7085747 ,  0.22557657],\n",
       "       [-0.05445585, -0.47747725],\n",
       "       [-0.11049293,  1.41352991],\n",
       "       [-1.60473273,  0.44469157],\n",
       "       [ 1.68733848, -0.30511962],\n",
       "       [ 0.25705094,  0.55386752],\n",
       "       [ 0.22909122, -1.69340688],\n",
       "       [ 0.46333892,  1.09960148],\n",
       "       [-1.73804513, -0.2552081 ],\n",
       "       [ 1.44558678, -1.46602429],\n",
       "       [-0.75396489,  2.03514845],\n",
       "       [ 1.90377191, -0.81301669],\n",
       "       [ 0.3636322 ,  0.19093942],\n",
       "       [-0.24857248, -1.38592442],\n",
       "       [-0.11092277, -0.70149767],\n",
       "       [-1.26306521,  1.13010802],\n",
       "       [ 0.09779564,  1.37243559],\n",
       "       [-1.66890054, -0.83938941],\n",
       "       [-1.06692985,  1.26985177],\n",
       "       [ 0.25458436,  0.17336612],\n",
       "       [ 1.7691352 ,  0.18452082],\n",
       "       [-0.8603715 ,  1.39230157],\n",
       "       [-0.20357916,  1.55939734],\n",
       "       [ 1.20472075, -1.28523468],\n",
       "       [-0.40402475,  1.7564883 ],\n",
       "       [-0.21617951, -1.30037307],\n",
       "       [ 0.01217043,  1.20360658],\n",
       "       [-0.81249457,  1.53227833],\n",
       "       [ 0.69338877, -0.05949511],\n",
       "       [-0.14974353,  1.02159066],\n",
       "       [-1.27275108,  0.94109623],\n",
       "       [ 0.35678502,  0.80541581],\n",
       "       [ 0.93655427, -0.89304047],\n",
       "       [ 0.56049454,  0.21112079],\n",
       "       [-0.16891702, -1.61704289],\n",
       "       [-1.28460905,  0.97861873],\n",
       "       [ 1.21557834, -0.68550616],\n",
       "       [-0.25830784, -0.45474975],\n",
       "       [ 1.49774638,  0.83558995],\n",
       "       [-0.4212231 ,  0.91439573],\n",
       "       [-1.81205053,  0.47413355],\n",
       "       [-0.51056336,  0.52479515],\n",
       "       [ 0.18527584, -1.25847008],\n",
       "       [-1.9756276 , -0.35665652],\n",
       "       [ 0.32501237, -0.95638843],\n",
       "       [-0.36043413, -0.62761651],\n",
       "       [ 2.11220418,  0.24451502],\n",
       "       [ 0.86123509, -1.33578868],\n",
       "       [-1.42959466,  0.38507887],\n",
       "       [-0.31933309, -1.04306725],\n",
       "       [-1.61526865, -0.3415778 ],\n",
       "       [ 1.61912564,  0.23895957],\n",
       "       [-0.55471131, -0.59437277],\n",
       "       [ 0.19671609, -1.55298439],\n",
       "       [-0.89417685,  1.17353424],\n",
       "       [ 1.70684276, -0.43828177],\n",
       "       [-0.60086837, -0.79695748],\n",
       "       [-0.37010799, -1.31132864],\n",
       "       [ 1.25741859, -0.58926382],\n",
       "       [-1.47192155,  0.39206854],\n",
       "       [-0.76972201,  0.98924357],\n",
       "       [ 0.34785765, -0.20950015],\n",
       "       [-0.58159591,  0.04953738],\n",
       "       [-0.30470585,  1.32656455],\n",
       "       [ 0.85283165, -0.43105954],\n",
       "       [-0.6086924 ,  1.35352811],\n",
       "       [ 1.27613147, -0.69428889],\n",
       "       [ 1.18302747, -0.33856266],\n",
       "       [ 0.4214774 , -1.24242903],\n",
       "       [ 1.28581332, -0.80552684],\n",
       "       [ 0.99563592, -1.11944262],\n",
       "       [ 0.02988001,  1.19631123],\n",
       "       [-0.3605218 , -0.82250703],\n",
       "       [ 0.56546411, -1.55363865],\n",
       "       [ 0.0071089 ,  0.89374883],\n",
       "       [ 1.52505724, -0.58842344],\n",
       "       [-0.622266  ,  0.4269437 ]])"
      ]
     },
     "execution_count": 22,
     "metadata": {},
     "output_type": "execute_result"
    }
   ],
   "source": [
    "scaler_plot = StandardScaler()\n",
    "X_scaled = scaler_plot.fit_transform(X)\n",
    "X_scaled"
   ]
  },
  {
   "cell_type": "code",
   "execution_count": 23,
   "metadata": {},
   "outputs": [
    {
     "data": {
      "text/plain": [
       "array([[ 1.00000000e+00,  1.22883190e+00, -1.45680539e+00,\n",
       "         1.51002785e+00, -1.79016894e+00,  2.12228194e+00,\n",
       "         1.85557040e+00, -2.19981671e+00,  2.60792776e+00,\n",
       "        -3.09175178e+00],\n",
       "       [ 1.00000000e+00, -4.63411675e-01,  5.15875098e-01,\n",
       "         2.14750381e-01, -2.39062543e-01,  2.66127116e-01,\n",
       "        -9.95178337e-02,  1.10784374e-01, -1.23326413e-01,\n",
       "         1.37288352e-01],\n",
       "       [ 1.00000000e+00,  2.66526124e-01, -1.21498185e+00,\n",
       "         7.10361748e-02, -3.23824404e-01,  1.47618090e+00,\n",
       "         1.89329964e-02, -8.63076633e-02,  3.93440774e-01,\n",
       "        -1.79353301e+00],\n",
       "       [ 1.00000000e+00, -1.78655886e+00, -1.42478945e-02,\n",
       "         3.19179257e+00,  2.54547022e-02,  2.03002498e-04,\n",
       "        -5.70232529e+00, -4.54763238e-02, -3.62675912e-04,\n",
       "        -2.89235819e-06],\n",
       "       [ 1.00000000e+00, -1.37234475e+00, -1.93243996e-01,\n",
       "         1.88333012e+00,  2.65197384e-01,  3.73432420e-02,\n",
       "        -2.58457822e+00, -3.63942239e-01, -5.12478023e-02,\n",
       "        -7.21635732e-03],\n",
       "       [ 1.00000000e+00, -1.29483672e+00,  1.21475044e+00,\n",
       "         1.67660214e+00, -1.57290348e+00,  1.47561864e+00,\n",
       "        -2.17092602e+00,  2.03665319e+00, -1.91068520e+00,\n",
       "         1.79250839e+00],\n",
       "       [ 1.00000000e+00, -3.09692628e-01,  9.71917091e-01,\n",
       "         9.59095241e-02, -3.00995559e-01,  9.44622832e-01,\n",
       "        -2.97024726e-02,  9.32161056e-02, -2.92542728e-01,\n",
       "         9.18095075e-01],\n",
       "       [ 1.00000000e+00,  9.85157959e-01, -1.37652510e+00,\n",
       "         9.70536204e-01, -1.35609466e+00,  1.89482134e+00,\n",
       "         9.56131466e-01, -1.33596744e+00,  1.86669833e+00,\n",
       "        -2.60826913e+00],\n",
       "       [ 1.00000000e+00,  4.04629518e-01,  9.20378289e-01,\n",
       "         1.63725047e-01,  3.72412224e-01,  8.47096195e-01,\n",
       "         6.62479869e-02,  1.50688979e-01,  3.42760125e-01,\n",
       "         7.79648947e-01],\n",
       "       [ 1.00000000e+00,  4.17356822e-01, -7.34411501e-01,\n",
       "         1.74186717e-01, -3.06511650e-01,  5.39360252e-01,\n",
       "         7.26980147e-02, -1.27924728e-01,  2.25105681e-01,\n",
       "        -3.96112372e-01],\n",
       "       [ 1.00000000e+00, -1.38778796e-01,  1.04134997e+00,\n",
       "         1.92595542e-02, -1.44517295e-01,  1.08440976e+00,\n",
       "        -2.67281773e-03,  2.00559362e-02, -1.50493081e-01,\n",
       "         1.12925007e+00],\n",
       "       [ 1.00000000e+00, -9.21606981e-01,  1.34229510e+00,\n",
       "         8.49359427e-01, -1.23706853e+00,  1.80175612e+00,\n",
       "        -7.82775578e-01,  1.14009099e+00, -1.66051102e+00,\n",
       "         2.41848841e+00],\n",
       "       [ 1.00000000e+00,  8.79241513e-01, -1.76986871e+00,\n",
       "         7.73065638e-01, -1.55614204e+00,  3.13243526e+00,\n",
       "         6.79711401e-01, -1.36822468e+00,  2.75416711e+00,\n",
       "        -5.54399915e+00],\n",
       "       [ 1.00000000e+00, -1.26906087e+00,  1.33690337e+00,\n",
       "         1.61051550e+00, -1.69661176e+00,  1.78731062e+00,\n",
       "        -2.04384220e+00,  2.15310359e+00, -2.26820598e+00,\n",
       "         2.38946160e+00],\n",
       "       [ 1.00000000e+00,  1.62319751e+00,  1.06015387e-01,\n",
       "         2.63477016e+00,  1.72083913e-01,  1.12392624e-02,\n",
       "         4.27675235e+00,  2.79326179e-01,  1.82435427e-02,\n",
       "         1.19153475e-03],\n",
       "       [ 1.00000000e+00,  7.81222651e-01,  2.63873886e-01,\n",
       "         6.10308831e-01,  2.06144257e-01,  6.96294276e-02,\n",
       "         4.76787083e-01,  1.61044563e-01,  5.43960861e-02,\n",
       "         1.83733876e-02],\n",
       "       [ 1.00000000e+00,  7.02660534e-01, -1.19868072e+00,\n",
       "         4.93731826e-01, -8.42265633e-01,  1.43683546e+00,\n",
       "         3.46925868e-01, -5.91826820e-01,  1.00960757e+00,\n",
       "        -1.72230697e+00],\n",
       "       [ 1.00000000e+00,  6.22788924e-01, -1.54291373e+00,\n",
       "         3.87866044e-01, -9.60909581e-01,  2.38058277e+00,\n",
       "         2.41558676e-01, -5.98443844e-01,  1.48260058e+00,\n",
       "        -3.67303384e+00],\n",
       "       [ 1.00000000e+00, -1.24344767e-02,  8.26903360e-01,\n",
       "         1.54616211e-04, -1.02821106e-02,  6.83769167e-01,\n",
       "        -1.92257167e-06,  1.27852664e-04, -8.50231178e-03,\n",
       "         5.65411022e-01],\n",
       "       [ 1.00000000e+00, -8.52312818e-01,  1.26601374e+00,\n",
       "         7.26437140e-01, -1.07903974e+00,  1.60279079e+00,\n",
       "        -6.19151686e-01,  9.19679401e-01, -1.36607914e+00,\n",
       "         2.02915517e+00],\n",
       "       [ 1.00000000e+00, -6.35534525e-01, -2.24152478e-01,\n",
       "         4.03904133e-01,  1.42456639e-01,  5.02443336e-02,\n",
       "        -2.56695021e-01, -9.05361124e-02, -3.19320087e-02,\n",
       "        -1.12623919e-02],\n",
       "       [ 1.00000000e+00,  1.51333936e+00, -8.53319528e-01,\n",
       "         2.29019603e+00, -1.29136203e+00,  7.28154217e-01,\n",
       "         3.46584381e+00, -1.95426900e+00,  1.10194444e+00,\n",
       "        -6.21348213e-01],\n",
       "       [ 1.00000000e+00, -5.28239281e-01,  1.09901505e+00,\n",
       "         2.79036738e-01, -5.80542919e-01,  1.20783408e+00,\n",
       "        -1.47398166e-01,  3.06665574e-01, -6.38025405e-01,\n",
       "         1.32742783e+00],\n",
       "       [ 1.00000000e+00, -1.70857470e+00,  2.25576568e-01,\n",
       "         2.91922752e+00, -3.85414418e-01,  5.08847880e-02,\n",
       "        -4.98771829e+00,  6.58509325e-01, -8.69404616e-02,\n",
       "         1.14784158e-02],\n",
       "       [ 1.00000000e+00, -5.44558512e-02, -4.77477251e-01,\n",
       "         2.96543973e-03,  2.60014301e-02,  2.27984525e-01,\n",
       "        -1.61485545e-04, -1.41593001e-03, -1.24150914e-02,\n",
       "        -1.08857424e-01],\n",
       "       [ 1.00000000e+00, -1.10492928e-01,  1.41352991e+00,\n",
       "         1.22086870e-02, -1.56185058e-01,  1.99806681e+00,\n",
       "        -1.34897357e-03,  1.72573443e-02, -2.20772251e-01,\n",
       "         2.82432720e+00],\n",
       "       [ 1.00000000e+00, -1.60473273e+00,  4.44691573e-01,\n",
       "         2.57516714e+00, -7.13611122e-01,  1.97750595e-01,\n",
       "        -4.13245500e+00,  1.14515513e+00, -3.17336852e-01,\n",
       "         8.79380230e-02],\n",
       "       [ 1.00000000e+00,  1.68733848e+00, -3.05119622e-01,\n",
       "         2.84711113e+00, -5.14840078e-01,  9.30979836e-02,\n",
       "         4.80404017e+00, -8.68709473e-01,  1.57087810e-01,\n",
       "        -2.84060215e-02],\n",
       "       [ 1.00000000e+00,  2.57050940e-01,  5.53867519e-01,\n",
       "         6.60751858e-02,  1.42372166e-01,  3.06769228e-01,\n",
       "         1.69846886e-02,  3.65968992e-02,  7.88553185e-02,\n",
       "         1.69909511e-01],\n",
       "       [ 1.00000000e+00,  2.29091220e-01, -1.69340688e+00,\n",
       "         5.24827873e-02, -3.87944649e-01,  2.86762686e+00,\n",
       "         1.20233458e-02, -8.88747130e-02,  6.56948137e-01,\n",
       "        -4.85605904e+00],\n",
       "       [ 1.00000000e+00,  4.63338917e-01,  1.09960148e+00,\n",
       "         2.14682952e-01,  5.09488157e-01,  1.20912340e+00,\n",
       "         9.94709668e-02,  2.36065691e-01,  5.60233929e-01,\n",
       "         1.32955388e+00],\n",
       "       [ 1.00000000e+00, -1.73804513e+00, -2.55208095e-01,\n",
       "         3.02080086e+00,  4.43563186e-01,  6.51311719e-02,\n",
       "        -5.25028822e+00, -7.70932835e-01, -1.13200916e-01,\n",
       "        -1.66220023e-02],\n",
       "       [ 1.00000000e+00,  1.44558678e+00, -1.46602429e+00,\n",
       "         2.08972115e+00, -2.11926535e+00,  2.14922723e+00,\n",
       "         3.02087328e+00, -3.06358198e+00,  3.10689448e+00,\n",
       "        -3.15081934e+00],\n",
       "       [ 1.00000000e+00, -7.53964894e-01,  2.03514845e+00,\n",
       "         5.68463062e-01, -1.53443049e+00,  4.14182923e+00,\n",
       "        -4.28601192e-01,  1.15690672e+00, -3.12279383e+00,\n",
       "         8.42923734e+00],\n",
       "       [ 1.00000000e+00,  1.90377191e+00, -8.13016691e-01,\n",
       "         3.62434750e+00, -1.54779834e+00,  6.60996140e-01,\n",
       "         6.89993098e+00, -2.94665501e+00,  1.25838589e+00,\n",
       "        -5.37400894e-01],\n",
       "       [ 1.00000000e+00,  3.63632199e-01,  1.90939424e-01,\n",
       "         1.32228376e-01,  6.94317227e-02,  3.64578637e-02,\n",
       "         4.80824953e-02,  2.52476100e-02,  1.32572531e-02,\n",
       "         6.96124349e-03],\n",
       "       [ 1.00000000e+00, -2.48572484e-01, -1.38592442e+00,\n",
       "         6.17882796e-02,  3.44502675e-01,  1.92078650e+00,\n",
       "        -1.53588661e-02, -8.56338856e-02, -4.77454670e-01,\n",
       "        -2.66206491e+00],\n",
       "       [ 1.00000000e+00, -1.10922766e-01, -7.01497673e-01,\n",
       "         1.23038600e-02,  7.78120622e-02,  4.92098985e-01,\n",
       "        -1.36477819e-03, -8.63112917e-03, -5.45849805e-02,\n",
       "        -3.45206292e-01],\n",
       "       [ 1.00000000e+00, -1.26306521e+00,  1.13010802e+00,\n",
       "         1.59533372e+00, -1.42740012e+00,  1.27714414e+00,\n",
       "        -2.01501051e+00,  1.80289943e+00, -1.61311632e+00,\n",
       "         1.44331083e+00],\n",
       "       [ 1.00000000e+00,  9.77956436e-02,  1.37243559e+00,\n",
       "         9.56398790e-03,  1.34218222e-01,  1.88357945e+00,\n",
       "         9.35316351e-04,  1.31259574e-02,  1.84205865e-01,\n",
       "         2.58509148e+00],\n",
       "       [ 1.00000000e+00, -1.66890054e+00, -8.39389414e-01,\n",
       "         2.78522902e+00,  1.40085745e+00,  7.04574588e-01,\n",
       "        -4.64827023e+00, -2.33789176e+00, -1.17586491e+00,\n",
       "        -5.91412451e-01],\n",
       "       [ 1.00000000e+00, -1.06692985e+00,  1.26985177e+00,\n",
       "         1.13833931e+00, -1.35484276e+00,  1.61252352e+00,\n",
       "        -1.21452820e+00,  1.44552219e+00, -1.72044948e+00,\n",
       "         2.04766584e+00],\n",
       "       [ 1.00000000e+00,  2.54584364e-01,  1.73366115e-01,\n",
       "         6.48131986e-02,  4.41363023e-02,  3.00558100e-02,\n",
       "         1.65004270e-02,  1.12364125e-02,  7.65173928e-03,\n",
       "         5.21065902e-03],\n",
       "       [ 1.00000000e+00,  1.76913520e+00,  1.84520820e-01,\n",
       "         3.12983936e+00,  3.26442278e-01,  3.40479330e-02,\n",
       "         5.53710897e+00,  5.77520524e-01,  6.02353967e-02,\n",
       "         6.28255251e-03],\n",
       "       [ 1.00000000e+00, -8.60371503e-01,  1.39230157e+00,\n",
       "         7.40239123e-01, -1.19789660e+00,  1.93850367e+00,\n",
       "        -6.36880647e-01,  1.03063609e+00, -1.66783331e+00,\n",
       "         2.69898170e+00],\n",
       "       [ 1.00000000e+00, -2.03579161e-01,  1.55939734e+00,\n",
       "         4.14444747e-02, -3.17460802e-01,  2.43172007e+00,\n",
       "        -8.43723139e-03,  6.46284037e-02, -4.95047531e-01,\n",
       "         3.79201781e+00],\n",
       "       [ 1.00000000e+00,  1.20472075e+00, -1.28523468e+00,\n",
       "         1.45135208e+00, -1.54834888e+00,  1.65182818e+00,\n",
       "         1.74847397e+00, -1.86532803e+00,  1.98999168e+00,\n",
       "        -2.12298686e+00],\n",
       "       [ 1.00000000e+00, -4.04024751e-01,  1.75648830e+00,\n",
       "         1.63236000e-01, -7.09664750e-01,  3.08525116e+00,\n",
       "        -6.59513842e-02,  2.86722124e-01, -1.24651783e+00,\n",
       "         5.41920758e+00],\n",
       "       [ 1.00000000e+00, -2.16179509e-01, -1.30037307e+00,\n",
       "         4.67335801e-02,  2.81114011e-01,  1.69097011e+00,\n",
       "        -1.01028424e-02, -6.07710889e-02, -3.65553088e-01,\n",
       "        -2.19889199e+00],\n",
       "       [ 1.00000000e+00,  1.21704306e-02,  1.20360658e+00,\n",
       "         1.48119382e-04,  1.46484104e-02,  1.44866880e+00,\n",
       "         1.80267666e-06,  1.78277463e-04,  1.76309232e-02,\n",
       "         1.74362731e+00],\n",
       "       [ 1.00000000e+00, -8.12494572e-01,  1.53227833e+00,\n",
       "         6.60147429e-01, -1.24496782e+00,  2.34787687e+00,\n",
       "        -5.36366202e-01,  1.01152960e+00, -1.90763721e+00,\n",
       "         3.59760085e+00],\n",
       "       [ 1.00000000e+00,  6.93388768e-01, -5.94951066e-02,\n",
       "         4.80787983e-01, -4.12532387e-02,  3.53966771e-03,\n",
       "         3.33372987e-01, -2.86045323e-02,  2.45436583e-03,\n",
       "        -2.10592908e-04],\n",
       "       [ 1.00000000e+00, -1.49743533e-01,  1.02159066e+00,\n",
       "         2.24231258e-02, -1.52976595e-01,  1.04364747e+00,\n",
       "        -3.35771808e-03,  2.29072558e-02, -1.56279460e-01,\n",
       "         1.06618051e+00],\n",
       "       [ 1.00000000e+00, -1.27275108e+00,  9.41096232e-01,\n",
       "         1.61989531e+00, -1.19778125e+00,  8.85662117e-01,\n",
       "        -2.06172351e+00,  1.52447738e+00, -1.12722742e+00,\n",
       "         8.33493281e-01],\n",
       "       [ 1.00000000e+00,  3.56785020e-01,  8.05415808e-01,\n",
       "         1.27295551e-01,  2.87360295e-01,  6.48694623e-01,\n",
       "         4.54171457e-02,  1.02525849e-01,  2.31444524e-01,\n",
       "         5.22468904e-01],\n",
       "       [ 1.00000000e+00,  9.36554268e-01, -8.93040472e-01,\n",
       "         8.77133896e-01, -8.36380866e-01,  7.97521285e-01,\n",
       "         8.21483494e-01, -7.83316069e-01,  7.46921963e-01,\n",
       "        -7.12218785e-01],\n",
       "       [ 1.00000000e+00,  5.60494538e-01,  2.11120787e-01,\n",
       "         3.14154127e-01,  1.18332048e-01,  4.45719869e-02,\n",
       "         1.76081672e-01,  6.63244666e-02,  2.49823552e-02,\n",
       "         9.41007296e-03],\n",
       "       [ 1.00000000e+00, -1.68917015e-01, -1.61704289e+00,\n",
       "         2.85329581e-02,  2.73146059e-01,  2.61482772e+00,\n",
       "        -4.81970212e-03, -4.61390171e-02, -4.41688895e-01,\n",
       "        -4.22828859e+00],\n",
       "       [ 1.00000000e+00, -1.28460905e+00,  9.78618733e-01,\n",
       "         1.65022041e+00, -1.25714248e+00,  9.57694625e-01,\n",
       "        -2.11988808e+00,  1.61493661e+00, -1.23026318e+00,\n",
       "         9.37217900e-01],\n",
       "       [ 1.00000000e+00,  1.21557834e+00, -6.85506160e-01,\n",
       "         1.47763069e+00, -8.33286438e-01,  4.69918695e-01,\n",
       "         1.79617586e+00, -1.01292494e+00,  5.71222986e-01,\n",
       "        -3.22132160e-01],\n",
       "       [ 1.00000000e+00, -2.58307843e-01, -4.54749752e-01,\n",
       "         6.67229418e-02,  1.17465428e-01,  2.06797337e-01,\n",
       "        -1.72350592e-02, -3.03422412e-02, -5.34173741e-02,\n",
       "        -9.40410377e-02],\n",
       "       [ 1.00000000e+00,  1.49774638e+00,  8.35589946e-01,\n",
       "         2.24324422e+00,  1.25150182e+00,  6.98210557e-01,\n",
       "         3.35981091e+00,  1.87443232e+00,  1.04574234e+00,\n",
       "         5.83417722e-01],\n",
       "       [ 1.00000000e+00, -4.21223097e-01,  9.14395729e-01,\n",
       "         1.77428897e-01, -3.85164600e-01,  8.36119548e-01,\n",
       "        -7.47371495e-02,  1.62240226e-01, -3.52192865e-01,\n",
       "         7.64544144e-01],\n",
       "       [ 1.00000000e+00, -1.81205053e+00,  4.74133547e-01,\n",
       "         3.28352712e+00, -8.59153945e-01,  2.24802621e-01,\n",
       "        -5.94991705e+00,  1.55683036e+00, -4.07353708e-01,\n",
       "         1.06586464e-01],\n",
       "       [ 1.00000000e+00, -5.10563359e-01,  5.24795148e-01,\n",
       "         2.60674943e-01, -2.67941173e-01,  2.75409947e-01,\n",
       "        -1.33091075e-01,  1.36800945e-01, -1.40614228e-01,\n",
       "         1.44533804e-01],\n",
       "       [ 1.00000000e+00,  1.85275836e-01, -1.25847008e+00,\n",
       "         3.43271354e-02, -2.33164095e-01,  1.58374693e+00,\n",
       "         6.35998870e-03, -4.31996727e-02,  2.93430037e-01,\n",
       "        -1.99309812e+00],\n",
       "       [ 1.00000000e+00, -1.97562760e+00, -3.56656522e-01,\n",
       "         3.90310441e+00,  7.04620467e-01,  1.27203874e-01,\n",
       "        -7.71108078e+00, -1.39206764e+00, -2.51307485e-01,\n",
       "        -4.53680914e-02],\n",
       "       [ 1.00000000e+00,  3.25012368e-01, -9.56388432e-01,\n",
       "         1.05633039e-01, -3.10838069e-01,  9.14678833e-01,\n",
       "         3.43320442e-02, -1.01026217e-01,  2.97281933e-01,\n",
       "        -8.74788254e-01],\n",
       "       [ 1.00000000e+00, -3.60434130e-01, -6.27616513e-01,\n",
       "         1.29912762e-01,  2.26214412e-01,  3.93902487e-01,\n",
       "        -4.68249935e-02, -8.15353948e-02, -1.41975900e-01,\n",
       "        -2.47219705e-01],\n",
       "       [ 1.00000000e+00,  2.11220418e+00,  2.44515023e-01,\n",
       "         4.46140652e+00,  5.16465655e-01,  5.97875966e-02,\n",
       "         9.42340151e+00,  1.09088092e+00,  1.26283612e-01,\n",
       "         1.46189656e-02],\n",
       "       [ 1.00000000e+00,  8.61235094e-01, -1.33578868e+00,\n",
       "         7.41725887e-01, -1.15042809e+00,  1.78433139e+00,\n",
       "         6.38800364e-01, -9.90789040e-01,  1.53672881e+00,\n",
       "        -2.38348966e+00],\n",
       "       [ 1.00000000e+00, -1.42959466e+00,  3.85078870e-01,\n",
       "         2.04374089e+00, -5.50506696e-01,  1.48285736e-01,\n",
       "        -2.92172106e+00,  7.87001432e-01, -2.11988497e-01,\n",
       "         5.71017039e-02],\n",
       "       [ 1.00000000e+00, -3.19333095e-01, -1.04306725e+00,\n",
       "         1.01973625e-01,  3.33085892e-01,  1.08798928e+00,\n",
       "        -3.25635533e-02, -1.06365349e-01, -3.47430984e-01,\n",
       "        -1.13484598e+00],\n",
       "       [ 1.00000000e+00, -1.61526865e+00, -3.41577801e-01,\n",
       "         2.60909282e+00,  5.51739914e-01,  1.16675394e-01,\n",
       "        -4.21438585e+00, -8.91208188e-01, -1.88462106e-01,\n",
       "        -3.98537245e-02],\n",
       "       [ 1.00000000e+00,  1.61912564e+00,  2.38959566e-01,\n",
       "         2.62156783e+00,  3.86905560e-01,  5.71016743e-02,\n",
       "         4.24464768e+00,  6.26448712e-01,  9.24547849e-02,\n",
       "         1.36449913e-02],\n",
       "       [ 1.00000000e+00, -5.54711309e-01, -5.94372766e-01,\n",
       "         3.07704637e-01,  3.29705295e-01,  3.53278985e-01,\n",
       "        -1.70687242e-01, -1.82891256e-01, -1.95967849e-01,\n",
       "        -2.09979408e-01],\n",
       "       [ 1.00000000e+00,  1.96716089e-01, -1.55298439e+00,\n",
       "         3.86972196e-02, -3.05497014e-01,  2.41176050e+00,\n",
       "         7.61236567e-03, -6.00961777e-02,  4.74432093e-01,\n",
       "        -3.74542640e+00],\n",
       "       [ 1.00000000e+00, -8.94176851e-01,  1.17353424e+00,\n",
       "         7.99552240e-01, -1.04934715e+00,  1.37718260e+00,\n",
       "        -7.14941104e-01,  9.38301927e-01, -1.23144480e+00,\n",
       "         1.61617093e+00],\n",
       "       [ 1.00000000e+00,  1.70684276e+00, -4.38281768e-01,\n",
       "         2.91331219e+00, -7.48078060e-01,  1.92090908e-01,\n",
       "         4.97256581e+00, -1.27685162e+00,  3.27868975e-01,\n",
       "        -8.41899427e-02],\n",
       "       [ 1.00000000e+00, -6.00868370e-01, -7.96957481e-01,\n",
       "         3.61042799e-01,  4.78866543e-01,  6.35141227e-01,\n",
       "        -2.16939198e-01, -2.87735759e-01, -3.81636274e-01,\n",
       "        -5.06180552e-01],\n",
       "       [ 1.00000000e+00, -3.70107995e-01, -1.31132864e+00,\n",
       "         1.36979928e-01,  4.85333212e-01,  1.71958279e+00,\n",
       "        -5.06973664e-02, -1.79625702e-01, -6.36431340e-01,\n",
       "        -2.25493816e+00],\n",
       "       [ 1.00000000e+00,  1.25741859e+00, -5.89263824e-01,\n",
       "         1.58110150e+00, -7.40951285e-01,  3.47231855e-01,\n",
       "         1.98810641e+00, -9.31685917e-01,  4.36615788e-01,\n",
       "        -2.04611171e-01],\n",
       "       [ 1.00000000e+00, -1.47192155e+00,  3.92068542e-01,\n",
       "         2.16655304e+00, -5.77094134e-01,  1.53717741e-01,\n",
       "        -3.18899610e+00,  8.49437291e-01, -2.26260456e-01,\n",
       "         6.02678907e-02],\n",
       "       [ 1.00000000e+00, -7.69722008e-01,  9.89243566e-01,\n",
       "         5.92471969e-01, -7.61442544e-01,  9.78602833e-01,\n",
       "        -4.56038714e-01,  5.86099084e-01, -7.53252138e-01,\n",
       "         9.68076557e-01],\n",
       "       [ 1.00000000e+00,  3.47857651e-01, -2.09500148e-01,\n",
       "         1.21004945e-01, -7.28762295e-02,  4.38903122e-02,\n",
       "         4.20924961e-02, -2.53505540e-02,  1.52675809e-02,\n",
       "        -9.19502691e-03],\n",
       "       [ 1.00000000e+00, -5.81595911e-01,  4.95373801e-02,\n",
       "         3.38253804e-01, -2.88107377e-02,  2.45395202e-03,\n",
       "        -1.96727029e-01,  1.67562072e-02, -1.42720846e-03,\n",
       "         1.21562354e-04],\n",
       "       [ 1.00000000e+00, -3.04705849e-01,  1.32656455e+00,\n",
       "         9.28456547e-02, -4.04211977e-01,  1.75977350e+00,\n",
       "        -2.82906141e-02,  1.23165754e-01, -5.36213278e-01,\n",
       "         2.33445313e+00],\n",
       "       [ 1.00000000e+00,  8.52831649e-01, -4.31059541e-01,\n",
       "         7.27321822e-01, -3.67621219e-01,  1.85812328e-01,\n",
       "         6.20283069e-01, -3.13519011e-01,  1.58466634e-01,\n",
       "        -8.00961767e-02],\n",
       "       [ 1.00000000e+00, -6.08692396e-01,  1.35352811e+00,\n",
       "         3.70506433e-01, -8.23882270e-01,  1.83203835e+00,\n",
       "        -2.25524449e-01,  5.01490873e-01, -1.11514781e+00,\n",
       "         2.47971541e+00],\n",
       "       [ 1.00000000e+00,  1.27613147e+00, -6.94288886e-01,\n",
       "         1.62851153e+00, -8.86003897e-01,  4.82037058e-01,\n",
       "         2.07819481e+00, -1.13065745e+00,  6.15142659e-01,\n",
       "        -3.34672972e-01],\n",
       "       [ 1.00000000e+00,  1.18302747e+00, -3.38562655e-01,\n",
       "         1.39955399e+00, -4.00528921e-01,  1.14624671e-01,\n",
       "         1.65571082e+00, -4.73836715e-01,  1.35604135e-01,\n",
       "        -3.88076331e-02],\n",
       "       [ 1.00000000e+00,  4.21477402e-01, -1.24242903e+00,\n",
       "         1.77643200e-01, -5.23655759e-01,  1.54362989e+00,\n",
       "         7.48725946e-02, -2.20709069e-01,  6.50605115e-01,\n",
       "        -1.91785058e+00],\n",
       "       [ 1.00000000e+00,  1.28581332e+00, -8.05526842e-01,\n",
       "         1.65331589e+00, -1.03575714e+00,  6.48873494e-01,\n",
       "         2.12585560e+00, -1.33179033e+00,  8.34330181e-01,\n",
       "        -5.22685017e-01],\n",
       "       [ 1.00000000e+00,  9.95635918e-01, -1.11944262e+00,\n",
       "         9.91290880e-01, -1.11455728e+00,  1.25315178e+00,\n",
       "         9.86964805e-01, -1.10969326e+00,  1.24768293e+00,\n",
       "        -1.40283152e+00],\n",
       "       [ 1.00000000e+00,  2.98800123e-02,  1.19631123e+00,\n",
       "         8.92815136e-04,  3.57457943e-02,  1.43116056e+00,\n",
       "         2.66773273e-05,  1.06808477e-03,  4.27630951e-02,\n",
       "         1.71211345e+00],\n",
       "       [ 1.00000000e+00, -3.60521804e-01, -8.22507031e-01,\n",
       "         1.29975971e-01,  2.96531718e-01,  6.76517816e-01,\n",
       "        -4.68591715e-02, -1.06906150e-01, -2.43899423e-01,\n",
       "        -5.56440660e-01],\n",
       "       [ 1.00000000e+00,  5.65464108e-01, -1.55363865e+00,\n",
       "         3.19749657e-01, -8.78526892e-01,  2.41379305e+00,\n",
       "         1.80806955e-01, -4.96775425e-01,  1.36491333e+00,\n",
       "        -3.75016217e+00],\n",
       "       [ 1.00000000e+00,  7.10889501e-03,  8.93748830e-01,\n",
       "         5.05363882e-05,  6.35356659e-03,  7.98786970e-01,\n",
       "         3.59257878e-07,  4.51668378e-05,  5.67849270e-03,\n",
       "         7.13914920e-01],\n",
       "       [ 1.00000000e+00,  1.52505724e+00, -5.88423441e-01,\n",
       "         2.32579958e+00, -8.97379428e-01,  3.46242146e-01,\n",
       "         3.54697747e+00, -1.36855499e+00,  5.28039091e-01,\n",
       "        -2.03736995e-01],\n",
       "       [ 1.00000000e+00, -6.22265997e-01,  4.26943697e-01,\n",
       "         3.87214971e-01, -2.65672546e-01,  1.82280921e-01,\n",
       "        -2.40950710e-01,  1.65318991e-01, -1.13427219e-01,\n",
       "         7.78236902e-02]])"
      ]
     },
     "execution_count": 23,
     "metadata": {},
     "output_type": "execute_result"
    }
   ],
   "source": [
    "poly3 = PolynomialFeatures(degree = 3)\n",
    "Xpoly = poly3.fit_transform(X_scaled)\n",
    "Xpoly"
   ]
  },
  {
   "cell_type": "code",
   "execution_count": 24,
   "metadata": {},
   "outputs": [
    {
     "data": {
      "text/plain": [
       "LinearSVC(C=10, class_weight=None, dual=True, fit_intercept=True,\n",
       "          intercept_scaling=1, loss='hinge', max_iter=1000, multi_class='ovr',\n",
       "          penalty='l2', random_state=None, tol=0.0001, verbose=0)"
      ]
     },
     "execution_count": 24,
     "metadata": {},
     "output_type": "execute_result"
    }
   ],
   "source": [
    "svm_clf_plot = LinearSVC(C = 10,loss = 'hinge')\n",
    "svm_clf_plot.fit(Xpoly,y)"
   ]
  },
  {
   "cell_type": "code",
   "execution_count": 25,
   "metadata": {},
   "outputs": [
    {
     "data": {
      "text/plain": [
       "array([1, 1, 1, 0, 0, 0, 0, 1, 0, 0, 0, 0, 1, 0, 1, 0, 1, 1, 0, 0, 1, 1,\n",
       "       0, 0, 1, 0, 0, 1, 0, 1, 0, 0, 1, 0, 1, 0, 1, 1, 0, 0, 0, 0, 0, 1,\n",
       "       0, 0, 1, 0, 1, 0, 0, 0, 0, 0, 0, 1, 0, 1, 0, 1, 1, 1, 0, 0, 1, 1,\n",
       "       0, 1, 1, 1, 1, 0, 1, 0, 1, 1, 1, 0, 1, 1, 1, 1, 0, 0, 0, 1, 0, 0,\n",
       "       0, 1, 1, 1, 1, 1, 0, 1, 1, 0, 1, 1], dtype=int64)"
      ]
     },
     "execution_count": 25,
     "metadata": {},
     "output_type": "execute_result"
    }
   ],
   "source": [
    "svm_clf_plot.predict(Xpoly)"
   ]
  },
  {
   "cell_type": "code",
   "execution_count": 26,
   "metadata": {},
   "outputs": [
    {
     "data": {
      "text/plain": [
       "array([1, 1, 1, 0, 0, 0, 0, 1, 0, 0, 0, 0, 1, 0, 1, 0, 1, 1, 0, 0, 1, 1,\n",
       "       0, 0, 1, 0, 0, 1, 0, 1, 0, 0, 1, 0, 1, 0, 1, 1, 0, 0, 0, 0, 0, 1,\n",
       "       0, 0, 1, 0, 1, 0, 0, 0, 0, 0, 0, 1, 0, 1, 0, 1, 1, 1, 1, 0, 1, 1,\n",
       "       0, 1, 1, 1, 1, 0, 1, 0, 1, 1, 1, 0, 1, 1, 1, 1, 0, 0, 0, 1, 0, 0,\n",
       "       0, 1, 1, 1, 1, 1, 0, 1, 1, 0, 1, 1], dtype=int64)"
      ]
     },
     "execution_count": 26,
     "metadata": {},
     "output_type": "execute_result"
    }
   ],
   "source": [
    "y"
   ]
  },
  {
   "cell_type": "code",
   "execution_count": 27,
   "metadata": {},
   "outputs": [
    {
     "data": {
      "text/plain": [
       "array([[0, 0, 0, ..., 1, 1, 1],\n",
       "       [0, 0, 0, ..., 1, 1, 1],\n",
       "       [0, 0, 0, ..., 1, 1, 1],\n",
       "       ...,\n",
       "       [0, 0, 0, ..., 1, 1, 1],\n",
       "       [0, 0, 0, ..., 1, 1, 1],\n",
       "       [0, 0, 0, ..., 1, 1, 1]], dtype=int64)"
      ]
     },
     "execution_count": 27,
     "metadata": {},
     "output_type": "execute_result"
    }
   ],
   "source": [
    "#plot the prediction contours\n",
    "axes_limits = [-1.5,2.5,-1,1.5]\n",
    "x0s = np.linspace(axes_limits[0],axes_limits[1],100)\n",
    "x1s = np.linspace(axes_limits[2],axes_limits[3],100)\n",
    "x0,x1 = np.meshgrid(x0s,x1s)\n",
    "X = np.c_[x0.ravel(),x1.ravel()]\n",
    "y_pred = polynomial_svm_clf.predict(X).reshape(x0.shape)\n",
    "y_pred"
   ]
  },
  {
   "cell_type": "code",
   "execution_count": 28,
   "metadata": {},
   "outputs": [],
   "source": [
    "ydecision = polynomial_svm_clf.decision_function(X).reshape(x0.shape)"
   ]
  },
  {
   "cell_type": "code",
   "execution_count": 29,
   "metadata": {},
   "outputs": [
    {
     "data": {
      "image/png": "[encoded data removed]",
      "text/plain": [
       "<Figure size 576x576 with 1 Axes>"
      ]
     },
     "metadata": {
      "needs_background": "light"
     },
     "output_type": "display_data"
    }
   ],
   "source": [
    "X,y = make_moons(n_samples = 100, noise = 0.15, random_state = 42)\n",
    "\n",
    "idx_1 = np.where(y == 1)[0]\n",
    "idx_0 = np.where(y == 0)[0]\n",
    "\n",
    "fig,ax = plt.subplots(1,1,figsize = (8,8))\n",
    "ax.plot(X[:,0][idx_1],X[:,1][idx_1],'g^')\n",
    "ax.plot(X[:,0][idx_0],X[:,1][idx_0],'bs')\n",
    "ax.grid()"
   ]
  },
  {
   "cell_type": "code",
   "execution_count": 30,
   "metadata": {},
   "outputs": [
    {
     "name": "stderr",
     "output_type": "stream",
     "text": [
      "C:\\Users\\ASUS\\Anaconda3\\lib\\site-packages\\sklearn\\svm\\base.py:929: ConvergenceWarning: Liblinear failed to converge, increase the number of iterations.\n",
      "  \"the number of iterations.\", ConvergenceWarning)\n"
     ]
    },
    {
     "data": {
      "text/plain": [
       "Pipeline(memory=None,\n",
       "         steps=[('polyfeatures',\n",
       "                 PolynomialFeatures(degree=3, include_bias=True,\n",
       "                                    interaction_only=False, order='C')),\n",
       "                ('scaler',\n",
       "                 StandardScaler(copy=True, with_mean=True, with_std=True)),\n",
       "                ('svm_clf',\n",
       "                 LinearSVC(C=10, class_weight=None, dual=True,\n",
       "                           fit_intercept=True, intercept_scaling=1,\n",
       "                           loss='hinge', max_iter=1000, multi_class='ovr',\n",
       "                           penalty='l2', random_state=None, tol=0.0001,\n",
       "                           verbose=0))],\n",
       "         verbose=False)"
      ]
     },
     "execution_count": 30,
     "metadata": {},
     "output_type": "execute_result"
    }
   ],
   "source": [
    "from sklearn.pipeline import Pipeline\n",
    "from sklearn.preprocessing import PolynomialFeatures\n",
    "\n",
    "polynomial_svm_clf = Pipeline([\n",
    "    ('polyfeatures',PolynomialFeatures(degree=3)),\n",
    "     ('scaler',StandardScaler()),\n",
    "     ('svm_clf',LinearSVC(C=10,loss = 'hinge'))\n",
    "])\n",
    "polynomial_svm_clf.fit(X,y)"
   ]
  },
  {
   "cell_type": "code",
   "execution_count": 31,
   "metadata": {},
   "outputs": [
    {
     "data": {
      "text/plain": [
       "array([[0, 0, 0, ..., 1, 1, 1],\n",
       "       [0, 0, 0, ..., 1, 1, 1],\n",
       "       [0, 0, 0, ..., 1, 1, 1],\n",
       "       ...,\n",
       "       [0, 0, 0, ..., 1, 1, 1],\n",
       "       [0, 0, 0, ..., 1, 1, 1],\n",
       "       [0, 0, 0, ..., 1, 1, 1]], dtype=int64)"
      ]
     },
     "execution_count": 31,
     "metadata": {},
     "output_type": "execute_result"
    }
   ],
   "source": [
    "axes_limits = [-1.5,2.5,-1,1.5]\n",
    "x0s = np.linspace(axes_limits[0],axes_limits[1],100)\n",
    "x1s = np.linspace(axes_limits[2],axes_limits[3],100)\n",
    "x0,x1 = np.meshgrid(x0s,x1s)\n",
    "X = np.c_[x0.ravel(),x1.ravel()]\n",
    "y_pred = polynomial_svm_clf.predict(X).reshape(x0.shape)\n",
    "y_pred"
   ]
  },
  {
   "cell_type": "code",
   "execution_count": 32,
   "metadata": {},
   "outputs": [],
   "source": [
    "ydecision = polynomial_svm_clf.decision_function(X).reshape(x0.shape)"
   ]
  },
  {
   "cell_type": "code",
   "execution_count": 33,
   "metadata": {},
   "outputs": [
    {
     "data": {
      "image/png": "[encoded data removed]",
      "text/plain": [
       "<Figure size 576x576 with 1 Axes>"
      ]
     },
     "metadata": {
      "needs_background": "light"
     },
     "output_type": "display_data"
    }
   ],
   "source": [
    "X,y = make_moons(n_samples = 100, noise = 0.15, random_state = 42)\n",
    "\n",
    "idx_1 = np.where(y == 1)[0]\n",
    "idx_0 = np.where(y == 0)[0]\n",
    "\n",
    "fig,ax = plt.subplots(1,1,figsize = (8,8))\n",
    "ax.plot(X[:,0][idx_1],X[:,1][idx_1],'g^')\n",
    "ax.plot(X[:,0][idx_0],X[:,1][idx_0],'bs')\n",
    "ax.contourf(x0,x1,y_pred,cmap = plt.cm.brg,alpha = 0.2)\n",
    "ax.grid()\n",
    "#the boundary line is the line where wx + b = 0"
   ]
  },
  {
   "cell_type": "code",
   "execution_count": 34,
   "metadata": {},
   "outputs": [
    {
     "data": {
      "application/javascript": [
       "/* Put everything inside the global mpl namespace */\n",
       "window.mpl = {};\n",
       "\n",
       "\n",
       "mpl.get_websocket_type = function() {\n",
       "    if (typeof(WebSocket) !== 'undefined') {\n",
       "        return WebSocket;\n",
       "    } else if (typeof(MozWebSocket) !== 'undefined') {\n",
       "        return MozWebSocket;\n",
       "    } else {\n",
       "        alert('Your browser does not have WebSocket support. ' +\n",
       "              'Please try Chrome, Safari or Firefox ≥ 6. ' +\n",
       "              'Firefox 4 and 5 are also supported but you ' +\n",
       "              'have to enable WebSockets in about:config.');\n",
       "    };\n",
       "}\n",
       "\n",
       "mpl.figure = function(figure_id, websocket, ondownload, parent_element) {\n",
       "    this.id = figure_id;\n",
       "\n",
       "    this.ws = websocket;\n",
       "\n",
       "    this.supports_binary = (this.ws.binaryType != undefined);\n",
       "\n",
       "    if (!this.supports_binary) {\n",
       "        var warnings = document.getElementById(\"mpl-warnings\");\n",
       "        if (warnings) {\n",
       "            warnings.style.display = 'block';\n",
       "            warnings.textContent = (\n",
       "                \"This browser does not support binary websocket messages. \" +\n",
       "                    \"Performance may be slow.\");\n",
       "        }\n",
       "    }\n",
       "\n",
       "    this.imageObj = new Image();\n",
       "\n",
       "    this.context = undefined;\n",
       "    this.message = undefined;\n",
       "    this.canvas = undefined;\n",
       "    this.rubberband_canvas = undefined;\n",
       "    this.rubberband_context = undefined;\n",
       "    this.format_dropdown = undefined;\n",
       "\n",
       "    this.image_mode = 'full';\n",
       "\n",
       "    this.root = $('<div/>');\n",
       "    this._root_extra_style(this.root)\n",
       "    this.root.attr('style', 'display: inline-block');\n",
       "\n",
       "    $(parent_element).append(this.root);\n",
       "\n",
       "    this._init_header(this);\n",
       "    this._init_canvas(this);\n",
       "    this._init_toolbar(this);\n",
       "\n",
       "    var fig = this;\n",
       "\n",
       "    this.waiting = false;\n",
       "\n",
       "    this.ws.onopen =  function () {\n",
       "            fig.send_message(\"supports_binary\", {value: fig.supports_binary});\n",
       "            fig.send_message(\"send_image_mode\", {});\n",
       "            if (mpl.ratio != 1) {\n",
       "                fig.send_message(\"set_dpi_ratio\", {'dpi_ratio': mpl.ratio});\n",
       "            }\n",
       "            fig.send_message(\"refresh\", {});\n",
       "        }\n",
       "\n",
       "    this.imageObj.onload = function() {\n",
       "            if (fig.image_mode == 'full') {\n",
       "                // Full images could contain transparency (where diff images\n",
       "                // almost always do), so we need to clear the canvas so that\n",
       "                // there is no ghosting.\n",
       "                fig.context.clearRect(0, 0, fig.canvas.width, fig.canvas.height);\n",
       "            }\n",
       "            fig.context.drawImage(fig.imageObj, 0, 0);\n",
       "        };\n",
       "\n",
       "    this.imageObj.onunload = function() {\n",
       "        fig.ws.close();\n",
       "    }\n",
       "\n",
       "    this.ws.onmessage = this._make_on_message_function(this);\n",
       "\n",
       "    this.ondownload = ondownload;\n",
       "}\n",
       "\n",
       "mpl.figure.prototype._init_header = function() {\n",
       "    var titlebar = $(\n",
       "        '<div class=\"ui-dialog-titlebar ui-widget-header ui-corner-all ' +\n",
       "        'ui-helper-clearfix\"/>');\n",
       "    var titletext = $(\n",
       "        '<div class=\"ui-dialog-title\" style=\"width: 100%; ' +\n",
       "        'text-align: center; padding: 3px;\"/>');\n",
       "    titlebar.append(titletext)\n",
       "    this.root.append(titlebar);\n",
       "    this.header = titletext[0];\n",
       "}\n",
       "\n",
       "\n",
       "\n",
       "mpl.figure.prototype._canvas_extra_style = function(canvas_div) {\n",
       "\n",
       "}\n",
       "\n",
       "\n",
       "mpl.figure.prototype._root_extra_style = function(canvas_div) {\n",
       "\n",
       "}\n",
       "\n",
       "mpl.figure.prototype._init_canvas = function() {\n",
       "    var fig = this;\n",
       "\n",
       "    var canvas_div = $('<div/>');\n",
       "\n",
       "    canvas_div.attr('style', 'position: relative; clear: both; outline: 0');\n",
       "\n",
       "    function canvas_keyboard_event(event) {\n",
       "        return fig.key_event(event, event['data']);\n",
       "    }\n",
       "\n",
       "    canvas_div.keydown('key_press', canvas_keyboard_event);\n",
       "    canvas_div.keyup('key_release', canvas_keyboard_event);\n",
       "    this.canvas_div = canvas_div\n",
       "    this._canvas_extra_style(canvas_div)\n",
       "    this.root.append(canvas_div);\n",
       "\n",
       "    var canvas = $('<canvas/>');\n",
       "    canvas.addClass('mpl-canvas');\n",
       "    canvas.attr('style', \"left: 0; top: 0; z-index: 0; outline: 0\")\n",
       "\n",
       "    this.canvas = canvas[0];\n",
       "    this.context = canvas[0].getContext(\"2d\");\n",
       "\n",
       "    var backingStore = this.context.backingStorePixelRatio ||\n",
       "\tthis.context.webkitBackingStorePixelRatio ||\n",
       "\tthis.context.mozBackingStorePixelRatio ||\n",
       "\tthis.context.msBackingStorePixelRatio ||\n",
       "\tthis.context.oBackingStorePixelRatio ||\n",
       "\tthis.context.backingStorePixelRatio || 1;\n",
       "\n",
       "    mpl.ratio = (window.devicePixelRatio || 1) / backingStore;\n",
       "\n",
       "    var rubberband = $('<canvas/>');\n",
       "    rubberband.attr('style', \"position: absolute; left: 0; top: 0; z-index: 1;\")\n",
       "\n",
       "    var pass_mouse_events = true;\n",
       "\n",
       "    canvas_div.resizable({\n",
       "        start: function(event, ui) {\n",
       "            pass_mouse_events = false;\n",
       "        },\n",
       "        resize: function(event, ui) {\n",
       "            fig.request_resize(ui.size.width, ui.size.height);\n",
       "        },\n",
       "        stop: function(event, ui) {\n",
       "            pass_mouse_events = true;\n",
       "            fig.request_resize(ui.size.width, ui.size.height);\n",
       "        },\n",
       "    });\n",
       "\n",
       "    function mouse_event_fn(event) {\n",
       "        if (pass_mouse_events)\n",
       "            return fig.mouse_event(event, event['data']);\n",
       "    }\n",
       "\n",
       "    rubberband.mousedown('button_press', mouse_event_fn);\n",
       "    rubberband.mouseup('button_release', mouse_event_fn);\n",
       "    // Throttle sequential mouse events to 1 every 20ms.\n",
       "    rubberband.mousemove('motion_notify', mouse_event_fn);\n",
       "\n",
       "    rubberband.mouseenter('figure_enter', mouse_event_fn);\n",
       "    rubberband.mouseleave('figure_leave', mouse_event_fn);\n",
       "\n",
       "    canvas_div.on(\"wheel\", function (event) {\n",
       "        event = event.originalEvent;\n",
       "        event['data'] = 'scroll'\n",
       "        if (event.deltaY < 0) {\n",
       "            event.step = 1;\n",
       "        } else {\n",
       "            event.step = -1;\n",
       "        }\n",
       "        mouse_event_fn(event);\n",
       "    });\n",
       "\n",
       "    canvas_div.append(canvas);\n",
       "    canvas_div.append(rubberband);\n",
       "\n",
       "    this.rubberband = rubberband;\n",
       "    this.rubberband_canvas = rubberband[0];\n",
       "    this.rubberband_context = rubberband[0].getContext(\"2d\");\n",
       "    this.rubberband_context.strokeStyle = \"#000000\";\n",
       "\n",
       "    this._resize_canvas = function(width, height) {\n",
       "        // Keep the size of the canvas, canvas container, and rubber band\n",
       "        // canvas in synch.\n",
       "        canvas_div.css('width', width)\n",
       "        canvas_div.css('height', height)\n",
       "\n",
       "        canvas.attr('width', width * mpl.ratio);\n",
       "        canvas.attr('height', height * mpl.ratio);\n",
       "        canvas.attr('style', 'width: ' + width + 'px; height: ' + height + 'px;');\n",
       "\n",
       "        rubberband.attr('width', width);\n",
       "        rubberband.attr('height', height);\n",
       "    }\n",
       "\n",
       "    // Set the figure to an initial 600x600px, this will subsequently be updated\n",
       "    // upon first draw.\n",
       "    this._resize_canvas(600, 600);\n",
       "\n",
       "    // Disable right mouse context menu.\n",
       "    $(this.rubberband_canvas).bind(\"contextmenu\",function(e){\n",
       "        return false;\n",
       "    });\n",
       "\n",
       "    function set_focus () {\n",
       "        canvas.focus();\n",
       "        canvas_div.focus();\n",
       "    }\n",
       "\n",
       "    window.setTimeout(set_focus, 100);\n",
       "}\n",
       "\n",
       "mpl.figure.prototype._init_toolbar = function() {\n",
       "    var fig = this;\n",
       "\n",
       "    var nav_element = $('<div/>');\n",
       "    nav_element.attr('style', 'width: 100%');\n",
       "    this.root.append(nav_element);\n",
       "\n",
       "    // Define a callback function for later on.\n",
       "    function toolbar_event(event) {\n",
       "        return fig.toolbar_button_onclick(event['data']);\n",
       "    }\n",
       "    function toolbar_mouse_event(event) {\n",
       "        return fig.toolbar_button_onmouseover(event['data']);\n",
       "    }\n",
       "\n",
       "    for(var toolbar_ind in mpl.toolbar_items) {\n",
       "        var name = mpl.toolbar_items[toolbar_ind][0];\n",
       "        var tooltip = mpl.toolbar_items[toolbar_ind][1];\n",
       "        var image = mpl.toolbar_items[toolbar_ind][2];\n",
       "        var method_name = mpl.toolbar_items[toolbar_ind][3];\n",
       "\n",
       "        if (!name) {\n",
       "            // put a spacer in here.\n",
       "            continue;\n",
       "        }\n",
       "        var button = $('<button/>');\n",
       "        button.addClass('ui-button ui-widget ui-state-default ui-corner-all ' +\n",
       "                        'ui-button-icon-only');\n",
       "        button.attr('role', 'button');\n",
       "        button.attr('aria-disabled', 'false');\n",
       "        button.click(method_name, toolbar_event);\n",
       "        button.mouseover(tooltip, toolbar_mouse_event);\n",
       "\n",
       "        var icon_img = $('<span/>');\n",
       "        icon_img.addClass('ui-button-icon-primary ui-icon');\n",
       "        icon_img.addClass(image);\n",
       "        icon_img.addClass('ui-corner-all');\n",
       "\n",
       "        var tooltip_span = $('<span/>');\n",
       "        tooltip_span.addClass('ui-button-text');\n",
       "        tooltip_span.html(tooltip);\n",
       "\n",
       "        button.append(icon_img);\n",
       "        button.append(tooltip_span);\n",
       "\n",
       "        nav_element.append(button);\n",
       "    }\n",
       "\n",
       "    var fmt_picker_span = $('<span/>');\n",
       "\n",
       "    var fmt_picker = $('<select/>');\n",
       "    fmt_picker.addClass('mpl-toolbar-option ui-widget ui-widget-content');\n",
       "    fmt_picker_span.append(fmt_picker);\n",
       "    nav_element.append(fmt_picker_span);\n",
       "    this.format_dropdown = fmt_picker[0];\n",
       "\n",
       "    for (var ind in mpl.extensions) {\n",
       "        var fmt = mpl.extensions[ind];\n",
       "        var option = $(\n",
       "            '<option/>', {selected: fmt === mpl.default_extension}).html(fmt);\n",
       "        fmt_picker.append(option);\n",
       "    }\n",
       "\n",
       "    // Add hover states to the ui-buttons\n",
       "    $( \".ui-button\" ).hover(\n",
       "        function() { $(this).addClass(\"ui-state-hover\");},\n",
       "        function() { $(this).removeClass(\"ui-state-hover\");}\n",
       "    );\n",
       "\n",
       "    var status_bar = $('<span class=\"mpl-message\"/>');\n",
       "    nav_element.append(status_bar);\n",
       "    this.message = status_bar[0];\n",
       "}\n",
       "\n",
       "mpl.figure.prototype.request_resize = function(x_pixels, y_pixels) {\n",
       "    // Request matplotlib to resize the figure. Matplotlib will then trigger a resize in the client,\n",
       "    // which will in turn request a refresh of the image.\n",
       "    this.send_message('resize', {'width': x_pixels, 'height': y_pixels});\n",
       "}\n",
       "\n",
       "mpl.figure.prototype.send_message = function(type, properties) {\n",
       "    properties['type'] = type;\n",
       "    properties['figure_id'] = this.id;\n",
       "    this.ws.send(JSON.stringify(properties));\n",
       "}\n",
       "\n",
       "mpl.figure.prototype.send_draw_message = function() {\n",
       "    if (!this.waiting) {\n",
       "        this.waiting = true;\n",
       "        this.ws.send(JSON.stringify({type: \"draw\", figure_id: this.id}));\n",
       "    }\n",
       "}\n",
       "\n",
       "\n",
       "mpl.figure.prototype.handle_save = function(fig, msg) {\n",
       "    var format_dropdown = fig.format_dropdown;\n",
       "    var format = format_dropdown.options[format_dropdown.selectedIndex].value;\n",
       "    fig.ondownload(fig, format);\n",
       "}\n",
       "\n",
       "\n",
       "mpl.figure.prototype.handle_resize = function(fig, msg) {\n",
       "    var size = msg['size'];\n",
       "    if (size[0] != fig.canvas.width || size[1] != fig.canvas.height) {\n",
       "        fig._resize_canvas(size[0], size[1]);\n",
       "        fig.send_message(\"refresh\", {});\n",
       "    };\n",
       "}\n",
       "\n",
       "mpl.figure.prototype.handle_rubberband = function(fig, msg) {\n",
       "    var x0 = msg['x0'] / mpl.ratio;\n",
       "    var y0 = (fig.canvas.height - msg['y0']) / mpl.ratio;\n",
       "    var x1 = msg['x1'] / mpl.ratio;\n",
       "    var y1 = (fig.canvas.height - msg['y1']) / mpl.ratio;\n",
       "    x0 = Math.floor(x0) + 0.5;\n",
       "    y0 = Math.floor(y0) + 0.5;\n",
       "    x1 = Math.floor(x1) + 0.5;\n",
       "    y1 = Math.floor(y1) + 0.5;\n",
       "    var min_x = Math.min(x0, x1);\n",
       "    var min_y = Math.min(y0, y1);\n",
       "    var width = Math.abs(x1 - x0);\n",
       "    var height = Math.abs(y1 - y0);\n",
       "\n",
       "    fig.rubberband_context.clearRect(\n",
       "        0, 0, fig.canvas.width, fig.canvas.height);\n",
       "\n",
       "    fig.rubberband_context.strokeRect(min_x, min_y, width, height);\n",
       "}\n",
       "\n",
       "mpl.figure.prototype.handle_figure_label = function(fig, msg) {\n",
       "    // Updates the figure title.\n",
       "    fig.header.textContent = msg['label'];\n",
       "}\n",
       "\n",
       "mpl.figure.prototype.handle_cursor = function(fig, msg) {\n",
       "    var cursor = msg['cursor'];\n",
       "    switch(cursor)\n",
       "    {\n",
       "    case 0:\n",
       "        cursor = 'pointer';\n",
       "        break;\n",
       "    case 1:\n",
       "        cursor = 'default';\n",
       "        break;\n",
       "    case 2:\n",
       "        cursor = 'crosshair';\n",
       "        break;\n",
       "    case 3:\n",
       "        cursor = 'move';\n",
       "        break;\n",
       "    }\n",
       "    fig.rubberband_canvas.style.cursor = cursor;\n",
       "}\n",
       "\n",
       "mpl.figure.prototype.handle_message = function(fig, msg) {\n",
       "    fig.message.textContent = msg['message'];\n",
       "}\n",
       "\n",
       "mpl.figure.prototype.handle_draw = function(fig, msg) {\n",
       "    // Request the server to send over a new figure.\n",
       "    fig.send_draw_message();\n",
       "}\n",
       "\n",
       "mpl.figure.prototype.handle_image_mode = function(fig, msg) {\n",
       "    fig.image_mode = msg['mode'];\n",
       "}\n",
       "\n",
       "mpl.figure.prototype.updated_canvas_event = function() {\n",
       "    // Called whenever the canvas gets updated.\n",
       "    this.send_message(\"ack\", {});\n",
       "}\n",
       "\n",
       "// A function to construct a web socket function for onmessage handling.\n",
       "// Called in the figure constructor.\n",
       "mpl.figure.prototype._make_on_message_function = function(fig) {\n",
       "    return function socket_on_message(evt) {\n",
       "        if (evt.data instanceof Blob) {\n",
       "            /* FIXME: We get \"Resource interpreted as Image but\n",
       "             * transferred with MIME type text/plain:\" errors on\n",
       "             * Chrome.  But how to set the MIME type?  It doesn't seem\n",
       "             * to be part of the websocket stream */\n",
       "            evt.data.type = \"image/png\";\n",
       "\n",
       "            /* Free the memory for the previous frames */\n",
       "            if (fig.imageObj.src) {\n",
       "                (window.URL || window.webkitURL).revokeObjectURL(\n",
       "                    fig.imageObj.src);\n",
       "            }\n",
       "\n",
       "            fig.imageObj.src = (window.URL || window.webkitURL).createObjectURL(\n",
       "                evt.data);\n",
       "            fig.updated_canvas_event();\n",
       "            fig.waiting = false;\n",
       "            return;\n",
       "        }\n",
       "        else if (typeof evt.data === 'string' && evt.data.slice(0, 21) == \"data:image/png;base64\") {\n",
       "            fig.imageObj.src = evt.data;\n",
       "            fig.updated_canvas_event();\n",
       "            fig.waiting = false;\n",
       "            return;\n",
       "        }\n",
       "\n",
       "        var msg = JSON.parse(evt.data);\n",
       "        var msg_type = msg['type'];\n",
       "\n",
       "        // Call the  \"handle_{type}\" callback, which takes\n",
       "        // the figure and JSON message as its only arguments.\n",
       "        try {\n",
       "            var callback = fig[\"handle_\" + msg_type];\n",
       "        } catch (e) {\n",
       "            console.log(\"No handler for the '\" + msg_type + \"' message type: \", msg);\n",
       "            return;\n",
       "        }\n",
       "\n",
       "        if (callback) {\n",
       "            try {\n",
       "                // console.log(\"Handling '\" + msg_type + \"' message: \", msg);\n",
       "                callback(fig, msg);\n",
       "            } catch (e) {\n",
       "                console.log(\"Exception inside the 'handler_\" + msg_type + \"' callback:\", e, e.stack, msg);\n",
       "            }\n",
       "        }\n",
       "    };\n",
       "}\n",
       "\n",
       "// from http://stackoverflow.com/questions/1114465/getting-mouse-location-in-canvas\n",
       "mpl.findpos = function(e) {\n",
       "    //this section is from http://www.quirksmode.org/js/events_properties.html\n",
       "    var targ;\n",
       "    if (!e)\n",
       "        e = window.event;\n",
       "    if (e.target)\n",
       "        targ = e.target;\n",
       "    else if (e.srcElement)\n",
       "        targ = e.srcElement;\n",
       "    if (targ.nodeType == 3) // defeat Safari bug\n",
       "        targ = targ.parentNode;\n",
       "\n",
       "    // jQuery normalizes the pageX and pageY\n",
       "    // pageX,Y are the mouse positions relative to the document\n",
       "    // offset() returns the position of the element relative to the document\n",
       "    var x = e.pageX - $(targ).offset().left;\n",
       "    var y = e.pageY - $(targ).offset().top;\n",
       "\n",
       "    return {\"x\": x, \"y\": y};\n",
       "};\n",
       "\n",
       "/*\n",
       " * return a copy of an object with only non-object keys\n",
       " * we need this to avoid circular references\n",
       " * http://stackoverflow.com/a/24161582/3208463\n",
       " */\n",
       "function simpleKeys (original) {\n",
       "  return Object.keys(original).reduce(function (obj, key) {\n",
       "    if (typeof original[key] !== 'object')\n",
       "        obj[key] = original[key]\n",
       "    return obj;\n",
       "  }, {});\n",
       "}\n",
       "\n",
       "mpl.figure.prototype.mouse_event = function(event, name) {\n",
       "    var canvas_pos = mpl.findpos(event)\n",
       "\n",
       "    if (name === 'button_press')\n",
       "    {\n",
       "        this.canvas.focus();\n",
       "        this.canvas_div.focus();\n",
       "    }\n",
       "\n",
       "    var x = canvas_pos.x * mpl.ratio;\n",
       "    var y = canvas_pos.y * mpl.ratio;\n",
       "\n",
       "    this.send_message(name, {x: x, y: y, button: event.button,\n",
       "                             step: event.step,\n",
       "                             guiEvent: simpleKeys(event)});\n",
       "\n",
       "    /* This prevents the web browser from automatically changing to\n",
       "     * the text insertion cursor when the button is pressed.  We want\n",
       "     * to control all of the cursor setting manually through the\n",
       "     * 'cursor' event from matplotlib */\n",
       "    event.preventDefault();\n",
       "    return false;\n",
       "}\n",
       "\n",
       "mpl.figure.prototype._key_event_extra = function(event, name) {\n",
       "    // Handle any extra behaviour associated with a key event\n",
       "}\n",
       "\n",
       "mpl.figure.prototype.key_event = function(event, name) {\n",
       "\n",
       "    // Prevent repeat events\n",
       "    if (name == 'key_press')\n",
       "    {\n",
       "        if (event.which === this._key)\n",
       "            return;\n",
       "        else\n",
       "            this._key = event.which;\n",
       "    }\n",
       "    if (name == 'key_release')\n",
       "        this._key = null;\n",
       "\n",
       "    var value = '';\n",
       "    if (event.ctrlKey && event.which != 17)\n",
       "        value += \"ctrl+\";\n",
       "    if (event.altKey && event.which != 18)\n",
       "        value += \"alt+\";\n",
       "    if (event.shiftKey && event.which != 16)\n",
       "        value += \"shift+\";\n",
       "\n",
       "    value += 'k';\n",
       "    value += event.which.toString();\n",
       "\n",
       "    this._key_event_extra(event, name);\n",
       "\n",
       "    this.send_message(name, {key: value,\n",
       "                             guiEvent: simpleKeys(event)});\n",
       "    return false;\n",
       "}\n",
       "\n",
       "mpl.figure.prototype.toolbar_button_onclick = function(name) {\n",
       "    if (name == 'download') {\n",
       "        this.handle_save(this, null);\n",
       "    } else {\n",
       "        this.send_message(\"toolbar_button\", {name: name});\n",
       "    }\n",
       "};\n",
       "\n",
       "mpl.figure.prototype.toolbar_button_onmouseover = function(tooltip) {\n",
       "    this.message.textContent = tooltip;\n",
       "};\n",
       "mpl.toolbar_items = [[\"Home\", \"Reset original view\", \"fa fa-home icon-home\", \"home\"], [\"Back\", \"Back to previous view\", \"fa fa-arrow-left icon-arrow-left\", \"back\"], [\"Forward\", \"Forward to next view\", \"fa fa-arrow-right icon-arrow-right\", \"forward\"], [\"\", \"\", \"\", \"\"], [\"Pan\", \"Pan axes with left mouse, zoom with right\", \"fa fa-arrows icon-move\", \"pan\"], [\"Zoom\", \"Zoom to rectangle\", \"fa fa-square-o icon-check-empty\", \"zoom\"], [\"\", \"\", \"\", \"\"], [\"Download\", \"Download plot\", \"fa fa-floppy-o icon-save\", \"download\"]];\n",
       "\n",
       "mpl.extensions = [\"eps\", \"jpeg\", \"pdf\", \"png\", \"ps\", \"raw\", \"svg\", \"tif\"];\n",
       "\n",
       "mpl.default_extension = \"png\";var comm_websocket_adapter = function(comm) {\n",
       "    // Create a \"websocket\"-like object which calls the given IPython comm\n",
       "    // object with the appropriate methods. Currently this is a non binary\n",
       "    // socket, so there is still some room for performance tuning.\n",
       "    var ws = {};\n",
       "\n",
       "    ws.close = function() {\n",
       "        comm.close()\n",
       "    };\n",
       "    ws.send = function(m) {\n",
       "        //console.log('sending', m);\n",
       "        comm.send(m);\n",
       "    };\n",
       "    // Register the callback with on_msg.\n",
       "    comm.on_msg(function(msg) {\n",
       "        //console.log('receiving', msg['content']['data'], msg);\n",
       "        // Pass the mpl event to the overridden (by mpl) onmessage function.\n",
       "        ws.onmessage(msg['content']['data'])\n",
       "    });\n",
       "    return ws;\n",
       "}\n",
       "\n",
       "mpl.mpl_figure_comm = function(comm, msg) {\n",
       "    // This is the function which gets called when the mpl process\n",
       "    // starts-up an IPython Comm through the \"matplotlib\" channel.\n",
       "\n",
       "    var id = msg.content.data.id;\n",
       "    // Get hold of the div created by the display call when the Comm\n",
       "    // socket was opened in Python.\n",
       "    var element = $(\"#\" + id);\n",
       "    var ws_proxy = comm_websocket_adapter(comm)\n",
       "\n",
       "    function ondownload(figure, format) {\n",
       "        window.open(figure.imageObj.src);\n",
       "    }\n",
       "\n",
       "    var fig = new mpl.figure(id, ws_proxy,\n",
       "                           ondownload,\n",
       "                           element.get(0));\n",
       "\n",
       "    // Call onopen now - mpl needs it, as it is assuming we've passed it a real\n",
       "    // web socket which is closed, not our websocket->open comm proxy.\n",
       "    ws_proxy.onopen();\n",
       "\n",
       "    fig.parent_element = element.get(0);\n",
       "    fig.cell_info = mpl.find_output_cell(\"<div id='\" + id + \"'></div>\");\n",
       "    if (!fig.cell_info) {\n",
       "        console.error(\"Failed to find cell for figure\", id, fig);\n",
       "        return;\n",
       "    }\n",
       "\n",
       "    var output_index = fig.cell_info[2]\n",
       "    var cell = fig.cell_info[0];\n",
       "\n",
       "};\n",
       "\n",
       "mpl.figure.prototype.handle_close = function(fig, msg) {\n",
       "    var width = fig.canvas.width/mpl.ratio\n",
       "    fig.root.unbind('remove')\n",
       "\n",
       "    // Update the output cell to use the data from the current canvas.\n",
       "    fig.push_to_output();\n",
       "    var dataURL = fig.canvas.toDataURL();\n",
       "    // Re-enable the keyboard manager in IPython - without this line, in FF,\n",
       "    // the notebook keyboard shortcuts fail.\n",
       "    IPython.keyboard_manager.enable()\n",
       "    $(fig.parent_element).html('<img src=\"' + dataURL + '\" width=\"' + width + '\">');\n",
       "    fig.close_ws(fig, msg);\n",
       "}\n",
       "\n",
       "mpl.figure.prototype.close_ws = function(fig, msg){\n",
       "    fig.send_message('closing', msg);\n",
       "    // fig.ws.close()\n",
       "}\n",
       "\n",
       "mpl.figure.prototype.push_to_output = function(remove_interactive) {\n",
       "    // Turn the data on the canvas into data in the output cell.\n",
       "    var width = this.canvas.width/mpl.ratio\n",
       "    var dataURL = this.canvas.toDataURL();\n",
       "    this.cell_info[1]['text/html'] = '<img src=\"' + dataURL + '\" width=\"' + width + '\">';\n",
       "}\n",
       "\n",
       "mpl.figure.prototype.updated_canvas_event = function() {\n",
       "    // Tell IPython that the notebook contents must change.\n",
       "    IPython.notebook.set_dirty(true);\n",
       "    this.send_message(\"ack\", {});\n",
       "    var fig = this;\n",
       "    // Wait a second, then push the new image to the DOM so\n",
       "    // that it is saved nicely (might be nice to debounce this).\n",
       "    setTimeout(function () { fig.push_to_output() }, 1000);\n",
       "}\n",
       "\n",
       "mpl.figure.prototype._init_toolbar = function() {\n",
       "    var fig = this;\n",
       "\n",
       "    var nav_element = $('<div/>');\n",
       "    nav_element.attr('style', 'width: 100%');\n",
       "    this.root.append(nav_element);\n",
       "\n",
       "    // Define a callback function for later on.\n",
       "    function toolbar_event(event) {\n",
       "        return fig.toolbar_button_onclick(event['data']);\n",
       "    }\n",
       "    function toolbar_mouse_event(event) {\n",
       "        return fig.toolbar_button_onmouseover(event['data']);\n",
       "    }\n",
       "\n",
       "    for(var toolbar_ind in mpl.toolbar_items){\n",
       "        var name = mpl.toolbar_items[toolbar_ind][0];\n",
       "        var tooltip = mpl.toolbar_items[toolbar_ind][1];\n",
       "        var image = mpl.toolbar_items[toolbar_ind][2];\n",
       "        var method_name = mpl.toolbar_items[toolbar_ind][3];\n",
       "\n",
       "        if (!name) { continue; };\n",
       "\n",
       "        var button = $('<button class=\"btn btn-default\" href=\"#\" title=\"' + name + '\"><i class=\"fa ' + image + ' fa-lg\"></i></button>');\n",
       "        button.click(method_name, toolbar_event);\n",
       "        button.mouseover(tooltip, toolbar_mouse_event);\n",
       "        nav_element.append(button);\n",
       "    }\n",
       "\n",
       "    // Add the status bar.\n",
       "    var status_bar = $('<span class=\"mpl-message\" style=\"text-align:right; float: right;\"/>');\n",
       "    nav_element.append(status_bar);\n",
       "    this.message = status_bar[0];\n",
       "\n",
       "    // Add the close button to the window.\n",
       "    var buttongrp = $('<div class=\"btn-group inline pull-right\"></div>');\n",
       "    var button = $('<button class=\"btn btn-mini btn-primary\" href=\"#\" title=\"Stop Interaction\"><i class=\"fa fa-power-off icon-remove icon-large\"></i></button>');\n",
       "    button.click(function (evt) { fig.handle_close(fig, {}); } );\n",
       "    button.mouseover('Stop Interaction', toolbar_mouse_event);\n",
       "    buttongrp.append(button);\n",
       "    var titlebar = this.root.find($('.ui-dialog-titlebar'));\n",
       "    titlebar.prepend(buttongrp);\n",
       "}\n",
       "\n",
       "mpl.figure.prototype._root_extra_style = function(el){\n",
       "    var fig = this\n",
       "    el.on(\"remove\", function(){\n",
       "\tfig.close_ws(fig, {});\n",
       "    });\n",
       "}\n",
       "\n",
       "mpl.figure.prototype._canvas_extra_style = function(el){\n",
       "    // this is important to make the div 'focusable\n",
       "    el.attr('tabindex', 0)\n",
       "    // reach out to IPython and tell the keyboard manager to turn it's self\n",
       "    // off when our div gets focus\n",
       "\n",
       "    // location in version 3\n",
       "    if (IPython.notebook.keyboard_manager) {\n",
       "        IPython.notebook.keyboard_manager.register_events(el);\n",
       "    }\n",
       "    else {\n",
       "        // location in version 2\n",
       "        IPython.keyboard_manager.register_events(el);\n",
       "    }\n",
       "\n",
       "}\n",
       "\n",
       "mpl.figure.prototype._key_event_extra = function(event, name) {\n",
       "    var manager = IPython.notebook.keyboard_manager;\n",
       "    if (!manager)\n",
       "        manager = IPython.keyboard_manager;\n",
       "\n",
       "    // Check for shift+enter\n",
       "    if (event.shiftKey && event.which == 13) {\n",
       "        this.canvas_div.blur();\n",
       "        event.shiftKey = false;\n",
       "        // Send a \"J\" for go to next cell\n",
       "        event.which = 74;\n",
       "        event.keyCode = 74;\n",
       "        manager.command_mode();\n",
       "        manager.handle_keydown(event);\n",
       "    }\n",
       "}\n",
       "\n",
       "mpl.figure.prototype.handle_save = function(fig, msg) {\n",
       "    fig.ondownload(fig, null);\n",
       "}\n",
       "\n",
       "\n",
       "mpl.find_output_cell = function(html_output) {\n",
       "    // Return the cell and output element which can be found *uniquely* in the notebook.\n",
       "    // Note - this is a bit hacky, but it is done because the \"notebook_saving.Notebook\"\n",
       "    // IPython event is triggered only after the cells have been serialised, which for\n",
       "    // our purposes (turning an active figure into a static one), is too late.\n",
       "    var cells = IPython.notebook.get_cells();\n",
       "    var ncells = cells.length;\n",
       "    for (var i=0; i<ncells; i++) {\n",
       "        var cell = cells[i];\n",
       "        if (cell.cell_type === 'code'){\n",
       "            for (var j=0; j<cell.output_area.outputs.length; j++) {\n",
       "                var data = cell.output_area.outputs[j];\n",
       "                if (data.data) {\n",
       "                    // IPython >= 3 moved mimebundle to data attribute of output\n",
       "                    data = data.data;\n",
       "                }\n",
       "                if (data['text/html'] == html_output) {\n",
       "                    return [cell, data, j];\n",
       "                }\n",
       "            }\n",
       "        }\n",
       "    }\n",
       "}\n",
       "\n",
       "// Register the function which deals with the matplotlib target/channel.\n",
       "// The kernel may be null if the page has been refreshed.\n",
       "if (IPython.notebook.kernel != null) {\n",
       "    IPython.notebook.kernel.comm_manager.register_target('matplotlib', mpl.mpl_figure_comm);\n",
       "}\n"
      ],
      "text/plain": [
       "<IPython.core.display.Javascript object>"
      ]
     },
     "metadata": {},
     "output_type": "display_data"
    },
    {
     "data": {
      "text/html": [
       "<img src=\"data:image/png;base64,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\" width=\"1000\">"
      ],
      "text/plain": [
       "<IPython.core.display.HTML object>"
      ]
     },
     "metadata": {},
     "output_type": "display_data"
    }
   ],
   "source": [
    "%matplotlib notebook\n",
    "import matplotlib as mpl\n",
    "from mpl_toolkits import mplot3d\n",
    "fig = plt.figure(figsize=(10, 7.5))\n",
    "ax = plt.axes(projection='3d')\n",
    "\n",
    "ax.plot_surface(x0,x1,y_pred,cmap=mpl.cm.coolwarm)\n",
    "plt.show()"
   ]
  },
  {
   "cell_type": "code",
   "execution_count": 35,
   "metadata": {},
   "outputs": [
    {
     "data": {
      "text/plain": [
       "Pipeline(memory=None,\n",
       "         steps=[('scaler',\n",
       "                 StandardScaler(copy=True, with_mean=True, with_std=True)),\n",
       "                ('svm-clf',\n",
       "                 SVC(C=5, cache_size=200, class_weight=None, coef0=1,\n",
       "                     decision_function_shape='ovr', degree=3,\n",
       "                     gamma='auto_deprecated', kernel='poly', max_iter=-1,\n",
       "                     probability=False, random_state=None, shrinking=True,\n",
       "                     tol=0.001, verbose=False))],\n",
       "         verbose=False)"
      ]
     },
     "execution_count": 35,
     "metadata": {},
     "output_type": "execute_result"
    }
   ],
   "source": [
    "from sklearn.svm import SVC\n",
    "X,y = make_moons(n_samples = 100, noise = 0.15, random_state = 42)\n",
    "\n",
    "poly_kernel_svm_clf = Pipeline([\n",
    "    ('scaler',StandardScaler()),\n",
    "    ('svm-clf',SVC(kernel = 'poly',degree= 3, coef0 = 1, C= 5))\n",
    "])\n",
    "\n",
    "poly_kernel_svm_clf.fit(X,y)"
   ]
  },
  {
   "cell_type": "markdown",
   "metadata": {},
   "source": [
    "**Coef0 is the intercept term of a polynomial equation in this case**"
   ]
  },
  {
   "cell_type": "code",
   "execution_count": 36,
   "metadata": {},
   "outputs": [
    {
     "data": {
      "text/plain": [
       "array([[0, 0, 0, ..., 1, 1, 1],\n",
       "       [0, 0, 0, ..., 1, 1, 1],\n",
       "       [0, 0, 0, ..., 1, 1, 1],\n",
       "       ...,\n",
       "       [0, 0, 0, ..., 1, 1, 1],\n",
       "       [0, 0, 0, ..., 1, 1, 1],\n",
       "       [0, 0, 0, ..., 1, 1, 1]], dtype=int64)"
      ]
     },
     "execution_count": 36,
     "metadata": {},
     "output_type": "execute_result"
    }
   ],
   "source": [
    "xaxislims = [-1.5,2.5,-1,1.5]\n",
    "x0s = np.linspace(xaxislims[0],xaxislims[1],100)\n",
    "x1s = np.linspace(xaxislims[2],xaxislims[3],100)\n",
    "x0,x1 = np.meshgrid(x0s,x1s)\n",
    "X_samples = np.c_[x0.ravel(),x1.ravel()]\n",
    "y_predicted = poly_kernel_svm_clf.predict(X_samples).reshape(x0.shape)\n",
    "y_predicted"
   ]
  },
  {
   "cell_type": "code",
   "execution_count": 37,
   "metadata": {},
   "outputs": [
    {
     "data": {
      "text/plain": [
       "Pipeline(memory=None,\n",
       "         steps=[('scaler',\n",
       "                 StandardScaler(copy=True, with_mean=True, with_std=True)),\n",
       "                ('svm-clf',\n",
       "                 SVC(C=5, cache_size=200, class_weight=None, coef0=1,\n",
       "                     decision_function_shape='ovr', degree=10,\n",
       "                     gamma='auto_deprecated', kernel='poly', max_iter=-1,\n",
       "                     probability=False, random_state=None, shrinking=True,\n",
       "                     tol=0.001, verbose=False))],\n",
       "         verbose=False)"
      ]
     },
     "execution_count": 37,
     "metadata": {},
     "output_type": "execute_result"
    }
   ],
   "source": [
    "\n",
    "\n",
    "poly_kernel_svm_clf_10 = Pipeline([\n",
    "    ('scaler',StandardScaler()),\n",
    "    ('svm-clf',SVC(kernel = 'poly',degree= 10, coef0 = 1, C= 5))\n",
    "])\n",
    "\n",
    "poly_kernel_svm_clf_10.fit(X,y)"
   ]
  },
  {
   "cell_type": "code",
   "execution_count": 38,
   "metadata": {},
   "outputs": [
    {
     "data": {
      "text/plain": [
       "array([[1, 1, 1, ..., 1, 1, 1],\n",
       "       [1, 1, 1, ..., 1, 1, 1],\n",
       "       [1, 1, 1, ..., 1, 1, 1],\n",
       "       ...,\n",
       "       [0, 0, 0, ..., 0, 1, 1],\n",
       "       [0, 0, 0, ..., 0, 1, 1],\n",
       "       [0, 0, 0, ..., 0, 0, 1]], dtype=int64)"
      ]
     },
     "execution_count": 38,
     "metadata": {},
     "output_type": "execute_result"
    }
   ],
   "source": [
    "xaxislims = [-1.5,2.5,-1,1.5]\n",
    "x0s = np.linspace(xaxislims[0],xaxislims[1],100)\n",
    "x1s = np.linspace(xaxislims[2],xaxislims[3],100)\n",
    "x0,x1 = np.meshgrid(x0s,x1s)\n",
    "X_samples = np.c_[x0.ravel(),x1.ravel()]\n",
    "y_predicted_10 = poly_kernel_svm_clf_10.predict(X_samples).reshape(x0.shape)\n",
    "y_predicted_10"
   ]
  },
  {
   "cell_type": "code",
   "execution_count": 39,
   "metadata": {
    "scrolled": true
   },
   "outputs": [
    {
     "data": {
      "image/png": "[encoded data removed]",
      "text/plain": [
       "<Figure size 720x576 with 2 Axes>"
      ]
     },
     "metadata": {
      "needs_background": "light"
     },
     "output_type": "display_data"
    }
   ],
   "source": [
    "%matplotlib inline\n",
    "idx_0 = np.where(y == 0)[0]\n",
    "idx_1 = np.where(y == 1)[0]\n",
    "fig,ax = plt.subplots(1,2,figsize = (10,8))\n",
    "ax[0].plot(X[:,0][idx_0],X[:,1][idx_0],'bs')\n",
    "ax[0].plot(X[:,0][idx_1],X[:,1][idx_1],'g^')\n",
    "ax[1].plot(X[:,0][idx_0],X[:,1][idx_0],'bs')\n",
    "ax[1].plot(X[:,0][idx_1],X[:,1][idx_1],'g^')\n",
    "ax[0].contourf(x0,x1,y_predicted,cmap = plt.cm.brg,alpha = 0.2)\n",
    "ax[1].contourf(x0,x1,y_predicted_10,cmap = plt.cm.brg,alpha = 0.2)\n",
    "ax[0].grid()\n",
    "ax[1].grid()"
   ]
  },
  {
   "cell_type": "code",
   "execution_count": 40,
   "metadata": {},
   "outputs": [
    {
     "data": {
      "text/plain": [
       "Pipeline(memory=None,\n",
       "         steps=[('scaler',\n",
       "                 StandardScaler(copy=True, with_mean=True, with_std=True)),\n",
       "                ('svm-clf',\n",
       "                 SVC(C=50, cache_size=200, class_weight=None, coef0=1,\n",
       "                     decision_function_shape='ovr', degree=3,\n",
       "                     gamma='auto_deprecated', kernel='poly', max_iter=-1,\n",
       "                     probability=False, random_state=None, shrinking=True,\n",
       "                     tol=0.001, verbose=False))],\n",
       "         verbose=False)"
      ]
     },
     "execution_count": 40,
     "metadata": {},
     "output_type": "execute_result"
    }
   ],
   "source": [
    "poly_kernel_svm_clf_3 = Pipeline([\n",
    "    ('scaler',StandardScaler()),\n",
    "    ('svm-clf',SVC(kernel = 'poly',degree= 3, coef0 = 1, C= 50))\n",
    "])\n",
    "\n",
    "poly_kernel_svm_clf_3.fit(X,y)"
   ]
  },
  {
   "cell_type": "code",
   "execution_count": 41,
   "metadata": {},
   "outputs": [
    {
     "data": {
      "image/png": "[encoded data removed]",
      "text/plain": [
       "<Figure size 720x576 with 1 Axes>"
      ]
     },
     "metadata": {
      "needs_background": "light"
     },
     "output_type": "display_data"
    }
   ],
   "source": [
    "xaxislims = [-1.5,2.5,-1,1.5]\n",
    "x0s = np.linspace(xaxislims[0],xaxislims[1],100)\n",
    "x1s = np.linspace(xaxislims[2],xaxislims[3],100)\n",
    "x0,x1 = np.meshgrid(x0s,x1s)\n",
    "X_samples = np.c_[x0.ravel(),x1.ravel()]\n",
    "y_predicted = poly_kernel_svm_clf_3.predict(X_samples).reshape(x0.shape)\n",
    "\n",
    "%matplotlib inline\n",
    "idx_0 = np.where(y == 0)[0]\n",
    "idx_1 = np.where(y == 1)[0]\n",
    "fig,ax = plt.subplots(1,1,figsize = (10,8))\n",
    "ax.plot(X[:,0][idx_0],X[:,1][idx_0],'bs')\n",
    "ax.plot(X[:,0][idx_1],X[:,1][idx_1],'g^')\n",
    "\n",
    "ax.contourf(x0,x1,y_predicted,cmap = plt.cm.brg,alpha = 0.2)\n",
    "\n",
    "ax.grid()\n"
   ]
  },
  {
   "cell_type": "markdown",
   "metadata": {},
   "source": [
    "The above plot is with C = 50 and a degree of 3, while the degree 3 with C=5 plot has also been plot earlier. Its clearly seen that increasing C has resulted in higher accuracy however margin between the 2 classes has decreases. Here too C acts in the same context of SVC(kernel = 'rbf', gamma = xxx, C = xxx)"
   ]
  },
  {
   "cell_type": "markdown",
   "metadata": {},
   "source": [
    "<h3>Similarity Features</h3>\n",
    "\n",
    "Use a similarity function to measure how much each instance resembles a particular landmark.\n",
    "\n",
    "To a given 1d dataset, we add landmarks that we want to measure the similarity from. Then for each point on the single dimension, we measure the similarity from the 2 landmarks. "
   ]
  },
  {
   "cell_type": "code",
   "execution_count": null,
   "metadata": {},
   "outputs": [],
   "source": [
    "ld1 = -2\n",
    "ld2 = 1\n",
    "gamma = 0.3\n",
    "x1d = np.linspace(min(list(range(-4,5))),max(list(range(-4,5))),100)\n",
    "similarity_from_ld1 = np.exp(-1.5*((np.array(x1d) - ld1))**2)\n",
    "similarity_from_ld2 = np.exp(-1.5*((np.array(x1d) - ld2))**2)"
   ]
  },
  {
   "cell_type": "code",
   "execution_count": null,
   "metadata": {},
   "outputs": [],
   "source": [
    "fig,ax = plt.subplots(1,1,figsize = (8,5))\n",
    "ax.plot(x1d,[0]*len(x1d),'b-')\n",
    "ax.plot(x1d,similarity_from_ld1,'r-')\n",
    "ax.plot(x1d,similarity_from_ld2,'g-')\n",
    "ax.grid()"
   ]
  },
  {
   "cell_type": "markdown",
   "metadata": {},
   "source": [
    "As Gamma increases, the similarity bell curves increase as the simlairyt values tend to come closer to zero in a smaller range as the exponent is an inverse here. Hence when gamma increases, the influence a particular landmark has on other landmarks decreases too."
   ]
  },
  {
   "cell_type": "markdown",
   "metadata": {},
   "source": [
    "Above we have only selected a single landmark, however we can make each instance in the dataset a landmark. This will create many dimensions and thus increase the chances of making the training set linearly separable. However adding landmarks like this makes it have m instances and m features.\n",
    "Instead the kernel trick allows to make the dataset linearly separable without having to add additional similarity features"
   ]
  },
  {
   "cell_type": "code",
   "execution_count": null,
   "metadata": {
    "scrolled": true
   },
   "outputs": [],
   "source": [
    "gammalist = [0.1,5]\n",
    "clist = [0.001,1000]\n",
    "idx_0 = np.where(y == 0)[0]\n",
    "idx_1 = np.where(y == 1)[0]\n",
    "fig,ax = plt.subplots(2,2,figsize = (6,5))\n",
    "axesrownum = 0\n",
    "axescolnum = 0\n",
    "for gamma in gammalist:\n",
    "    if axescolnum != 0:\n",
    "        axesrownum +=1\n",
    "        axescolnum = 0\n",
    "    \n",
    "    for c in clist:\n",
    "        xaxislims = [-1.5,2.5,-1,1.5]\n",
    "        ax[axesrownum,axescolnum].plot(X[:,0][idx_0],X[:,1][idx_0],'bs')\n",
    "        ax[axesrownum,axescolnum].plot(X[:,0][idx_1],X[:,1][idx_1],'g^')\n",
    "        x0s = np.linspace(xaxislims[0],xaxislims[1],100)\n",
    "        x1s = np.linspace(xaxislims[2],xaxislims[3],100)\n",
    "        x0,x1 = np.meshgrid(x0s,x1s)\n",
    "        X_samples = np.c_[x0.ravel(),x1.ravel()]\n",
    "        rbf_kernel_svm_clf = Pipeline([\n",
    "            ('scaler',StandardScaler()),\n",
    "            ('svm_clf',SVC(kernel = 'rbf',gamma = gamma,C = c))\n",
    "        ])\n",
    "        rbf_kernel_svm_clf.fit(X,y)           \n",
    "        y_predicted = rbf_kernel_svm_clf.predict(X_samples).reshape(x0.shape)\n",
    "        ax[axesrownum,axescolnum].contourf(x0,x1,y_predicted,cmap = plt.cm.brg,alpha = 0.2)\n",
    "        axescolnum +=1"
   ]
  },
  {
   "cell_type": "markdown",
   "metadata": {},
   "source": [
    "In this kernel, **notice that as gamma increases, the decision boundaries tend to be irregular and overfit** This is because a larger gamma causes the similarity bell curve to become narrower hence for a particular instance, it will only have high similarity with the values close to it, and influence only the instances close to it. Hence the decision boundary is also concentrated in that area. \n",
    "\n",
    "**Hence if it is required to reduce overfitting of a svm with a RBF kernel, you can reduce the gamma value**\n",
    "\n",
    "\n",
    "**Relationship between C and gamma**\n",
    "\n",
    "Notice how in the last 2 images, the gamma is high. With a lower C value, it results in a higher sized margin between the 2 classifications but lower accuracy. But with the last image, increasing C has resulted in a smaller margin but higher accuracy.\n",
    "\n",
    "In third image, the decision boundary doesnt encapsulate all the blue points, but has a larger margin. In the final image, the decision boundary reaches and encapsulates the blues ones too. However now, the margin between the blue and green points is much smaller\n"
   ]
  },
  {
   "cell_type": "markdown",
   "metadata": {},
   "source": [
    "<h5>LinearSVC vs SVC(kernel = 'linear')</h5>\n",
    "LinearSVC implements liblinear while SVC with kernel implements libsvm. Liblinear does one vs all, while libsvm does one vs one. Also liblinear regularizes the intercept(bias term).\n",
    "\n",
    "LinearSVC takes a long time if you want high precision and this is controlled by the tolerance hyperparameter. LinearSVC has a computational complexity of O(mxn) while SVC has a computational complexity of OSVC, simply doubling the number of training instances will result in at least a 4times increase in computational time. \n",
    "\n",
    "**SVC should be used for complex but small or medium training sets**\n"
   ]
  },
  {
   "cell_type": "markdown",
   "metadata": {},
   "source": [
    "<h2> SVM Regression </h2>\n",
    "\n",
    "SVM algorithm supports both linear/non linear classification(SVM classification) and linear/non linear regression (SVM Regression). \n",
    "\n",
    "Instead of trying to separate all instances using a street, we try to fit everything within the street with minimal margin violations. \n",
    "\n",
    "LinearSVR is equivalent to LinearSVC\n",
    "\n",
    "SVR(kernel = xxx) is equivalent to SVC(kernel = xxx)"
   ]
  },
  {
   "cell_type": "code",
   "execution_count": null,
   "metadata": {},
   "outputs": [],
   "source": [
    "np.random.seed(42)\n",
    "m = 50\n",
    "X = 2*np.random.rand(m,1)\n",
    "y = (4 + 3*X + np.random.randn(m,1)).ravel()"
   ]
  },
  {
   "cell_type": "code",
   "execution_count": null,
   "metadata": {},
   "outputs": [],
   "source": [
    "#linear SVM regression\n",
    "from sklearn.svm import LinearSVR\n",
    "\n",
    "svm_reg = LinearSVR(epsilon = 1.5, random_state = 42)\n",
    "svm_reg.fit(X,y)"
   ]
  },
  {
   "cell_type": "code",
   "execution_count": null,
   "metadata": {},
   "outputs": [],
   "source": [
    "svm_reg1 = LinearSVR(epsilon = 1.5,random_state = 42)\n",
    "svm_reg2 = LinearSVR(epsilon = 0.5,random_state = 42)\n",
    "svm_reg1.fit(X,y)\n",
    "svm_reg2.fit(X,y)\n",
    "\n",
    "def findsupportvector(svm_reg,X,y):\n",
    "    y_pred = svm_reg.predict(X)\n",
    "    off_margin = (np.abs(y - y_pred) >= svm_reg.epsilon)\n",
    "    return np.argwhere(off_margin)\n",
    "\n",
    "svm_reg1.support_ = findsupportvector(svm_reg1, X,y)\n",
    "svm_reg2.support_ = findsupportvector(svm_reg2, X,y)\n"
   ]
  },
  {
   "cell_type": "code",
   "execution_count": null,
   "metadata": {},
   "outputs": [],
   "source": [
    " y = y.reshape(-1,1)"
   ]
  },
  {
   "cell_type": "code",
   "execution_count": null,
   "metadata": {},
   "outputs": [],
   "source": [
    "axes_lims = [0,2,3,11]\n",
    "X_values = np.linspace(axes_lims[0],axes_lims[1],100).reshape(100,1)\n",
    "y_predict_1 = svm_reg1.predict(X_values)\n",
    "fig,ax = plt.subplots(1,1,figsize = (9,4))\n",
    "ax.plot(X_values,y_predict_1,'b-')\n",
    "ax.plot(X_values,y_predict_1 - svm_reg1.epsilon,'k--')\n",
    "ax.plot(X_values,y_predict_1 + svm_reg1.epsilon,'k--')\n",
    "ax.scatter(X,y)\n",
    "ax.scatter(X[svm_reg1.support_],y[svm_reg1.support_])\n",
    "ax.title.set_text('Epsilon = 1.5')"
   ]
  },
  {
   "cell_type": "code",
   "execution_count": null,
   "metadata": {},
   "outputs": [],
   "source": [
    "axes_lims = [0,2,3,11]\n",
    "X_values = np.linspace(axes_lims[0],axes_lims[1],100).reshape(100,1)\n",
    "y_predict_2 = svm_reg2.predict(X_values)\n",
    "fig,ax = plt.subplots(1,1,figsize = (9,4))\n",
    "ax.plot(X_values,y_predict_2,'b-')\n",
    "ax.plot(X_values,y_predict_2 - svm_reg2.epsilon,'k--')\n",
    "ax.plot(X_values,y_predict_2 + svm_reg2.epsilon,'k--')\n",
    "ax.scatter(X,y)\n",
    "ax.scatter(X[svm_reg2.support_],y[svm_reg2.support_])\n",
    "ax.title.set_text('Epsilon = 0.5')"
   ]
  },
  {
   "cell_type": "markdown",
   "metadata": {},
   "source": [
    "All the orange markers in above figures are outside the street"
   ]
  },
  {
   "cell_type": "markdown",
   "metadata": {},
   "source": [
    "<h3> Summary </h3>\n",
    "SVR and LinearSVR try to fit the maximum number of instances within the fitted line and the epsilon range.Everything else is outside the street.\n",
    "\n",
    "\n",
    "\n",
    "<h3>Radial Basis Function kernel in SVC</h3>\n",
    "Gamma defines how far the influence of a single training example reaches. \n",
    "C parameter trades off correct classification of training examples against maximization of the decision function's margin. **A larger C**, a smaller margin will be accepted if the decision function is better at classifying all training points correctly. **A lower C** results in a larger margin at the cost of training accuracy.\n",
    "\n",
    "**Hence a higher C value increases the importance of classifying the instances correctly**\n",
    "\n",
    "A smooth model **with lower gamma values** can be made more complex by increasing the importance of classiying each point correctly **with larger C values** \n",
    "\n",
    "GAMMA TRIES TO OVERFIT WITH INCREASING MAGNITUDE WHILE C TRIES TO PULL IT BACK AND MAKE IT LESS OVERFIT. "
   ]
  },
  {
   "cell_type": "markdown",
   "metadata": {},
   "source": [
    "- LinearSVC : increasing C, smaller margin, higher accuracy\n",
    "- SVC(kernel = poly, C):increasing C, smaller margin, higher accuracy\n",
    "- LinearSVR(epsilon): C has no significant role\n",
    "- SVR(kernel = 'poly', C): C acts as a regularization term with C = 1/lambda\n"
   ]
  },
  {
   "cell_type": "code",
   "execution_count": null,
   "metadata": {},
   "outputs": [],
   "source": []
  }
 ],
 "metadata": {
  "kernelspec": {
   "display_name": "Python 3",
   "language": "python",
   "name": "python3"
  },
  "language_info": {
   "codemirror_mode": {
    "name": "ipython",
    "version": 3
   },
   "file_extension": ".py",
   "mimetype": "text/x-python",
   "name": "python",
   "nbconvert_exporter": "python",
   "pygments_lexer": "ipython3",
   "version": "3.7.3"
  }
 },
 "nbformat": 4,
 "nbformat_minor": 2
}
