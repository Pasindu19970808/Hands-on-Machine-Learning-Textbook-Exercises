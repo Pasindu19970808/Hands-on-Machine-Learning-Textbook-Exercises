{
 "metadata": {
  "language_info": {
   "codemirror_mode": {
    "name": "ipython",
    "version": 3
   },
   "file_extension": ".py",
   "mimetype": "text/x-python",
   "name": "python",
   "nbconvert_exporter": "python",
   "pygments_lexer": "ipython3",
   "version": "3.8.8"
  },
  "orig_nbformat": 2,
  "kernelspec": {
   "name": "python3",
   "display_name": "Python 3.8.8 64-bit"
  },
  "interpreter": {
   "hash": "965ba1120b0c101b3f715b6e258a73742ec1cf86f2c8b04492724c87d9f112c3"
  }
 },
 "nbformat": 4,
 "nbformat_minor": 2,
 "cells": [
  {
   "source": [
    "<h3> Loading and Preprocessing Data with TensorFlow </h3> \n",
    "\n",
    "- Data API\n",
    "- Features API\n",
    "- tf.Transform\n",
    "- TF Datasets"
   ],
   "cell_type": "markdown",
   "metadata": {}
  },
  {
   "source": [
    "<h3> Data API </h3> "
   ],
   "cell_type": "markdown",
   "metadata": {}
  },
  {
   "cell_type": "code",
   "execution_count": 2,
   "metadata": {},
   "outputs": [],
   "source": [
    "import tensorflow as tf"
   ]
  },
  {
   "cell_type": "code",
   "execution_count": 4,
   "metadata": {},
   "outputs": [
    {
     "output_type": "execute_result",
     "data": {
      "text/plain": [
       "<TensorSliceDataset shapes: (), types: tf.int32>"
      ]
     },
     "metadata": {},
     "execution_count": 4
    }
   ],
   "source": [
    "X = tf.range(10)\n",
    "dataset = tf.data.Dataset.from_tensor_slices(X)\n",
    "dataset"
   ]
  },
  {
   "source": [
    "The from_tensor_slices() function takes a tensor and creates a tf.data.Dataset whose elements are all the slices of X. So this dataset contains 10 items. "
   ],
   "cell_type": "markdown",
   "metadata": {}
  },
  {
   "cell_type": "code",
   "execution_count": 6,
   "metadata": {},
   "outputs": [
    {
     "output_type": "stream",
     "name": "stdout",
     "text": [
      "tf.Tensor([0 1 2 3 4 5 6], shape=(7,), dtype=int32)\ntf.Tensor([7 8 9 0 1 2 3], shape=(7,), dtype=int32)\ntf.Tensor([4 5 6 7 8 9 0], shape=(7,), dtype=int32)\ntf.Tensor([1 2 3 4 5 6 7], shape=(7,), dtype=int32)\ntf.Tensor([8 9], shape=(2,), dtype=int32)\n"
     ]
    }
   ],
   "source": [
    "#repeat the dataset instance 3 times and get 7 items out of it \n",
    "dataset1 = dataset.repeat(3).batch(7)\n",
    "for item in dataset1:\n",
    "    print(item)"
   ]
  },
  {
   "cell_type": "code",
   "execution_count": 8,
   "metadata": {},
   "outputs": [
    {
     "output_type": "stream",
     "name": "stdout",
     "text": [
      "tf.Tensor([0 1 2 3 4 5 6], shape=(7,), dtype=int32)\ntf.Tensor([7 8 9 0 1 2 3], shape=(7,), dtype=int32)\ntf.Tensor([4 5 6 7 8 9 0], shape=(7,), dtype=int32)\ntf.Tensor([1 2 3 4 5 6 7], shape=(7,), dtype=int32)\n"
     ]
    }
   ],
   "source": [
    "dataset2 = dataset.repeat(3).batch(7, drop_remainder=True)\n",
    "for item in dataset2:\n",
    "    print(item)"
   ]
  },
  {
   "source": [
    "dataset methods do not modify datasets. They only create new ones. Hence reference to the dataset is required"
   ],
   "cell_type": "markdown",
   "metadata": {}
  },
  {
   "source": [
    "#applying transformations or functions to the data\n",
    "dataset3 = dataset.map(lambda x: x*2)\n",
    "for item in dataset3:\n",
    "    print(item)"
   ],
   "cell_type": "code",
   "metadata": {},
   "execution_count": 10,
   "outputs": [
    {
     "output_type": "stream",
     "name": "stdout",
     "text": [
      "tf.Tensor(0, shape=(), dtype=int32)\ntf.Tensor(2, shape=(), dtype=int32)\ntf.Tensor(4, shape=(), dtype=int32)\ntf.Tensor(6, shape=(), dtype=int32)\ntf.Tensor(8, shape=(), dtype=int32)\ntf.Tensor(10, shape=(), dtype=int32)\ntf.Tensor(12, shape=(), dtype=int32)\ntf.Tensor(14, shape=(), dtype=int32)\ntf.Tensor(16, shape=(), dtype=int32)\ntf.Tensor(18, shape=(), dtype=int32)\n"
     ]
    }
   ]
  },
  {
   "cell_type": "code",
   "execution_count": 12,
   "metadata": {},
   "outputs": [
    {
     "output_type": "stream",
     "name": "stdout",
     "text": [
      "tf.Tensor(0, shape=(), dtype=int32)\ntf.Tensor(2, shape=(), dtype=int32)\ntf.Tensor(4, shape=(), dtype=int32)\ntf.Tensor(6, shape=(), dtype=int32)\ntf.Tensor(8, shape=(), dtype=int32)\n"
     ]
    }
   ],
   "source": [
    "dataset4 = dataset.filter(lambda x: x%2 == 0)\n",
    "for item in dataset4:\n",
    "    print(item)"
   ]
  },
  {
   "source": [
    "<h3> Shuffling the Data </h3> "
   ],
   "cell_type": "markdown",
   "metadata": {}
  },
  {
   "source": [
    "For effective shuffing, we can split a data source to multiple files, and then pick files randomly and simultaneously read them, interleaving their lines. "
   ],
   "cell_type": "markdown",
   "metadata": {}
  },
  {
   "cell_type": "code",
   "execution_count": 14,
   "metadata": {},
   "outputs": [],
   "source": [
    "from sklearn.datasets import fetch_california_housing\n",
    "from sklearn.model_selection import train_test_split\n",
    "from sklearn.preprocessing import StandardScaler"
   ]
  },
  {
   "cell_type": "code",
   "execution_count": 16,
   "metadata": {},
   "outputs": [],
   "source": [
    "housing = fetch_california_housing()\n",
    "X_train_full,X_test,y_train_full,y_test = train_test_split(housing.data,housing.target.reshape(-1,1), random_state = 42)\n",
    "X_train,X_valid,y_train,y_valid = train_test_split(X_train_full,y_train_full,random_state=42)\n",
    "\n",
    "scaler = StandardScaler()\n",
    "scaler.fit(X_train)\n",
    "X_mean = scaler.mean_\n",
    "X_std = scaler.scale_"
   ]
  },
  {
   "source": [
    "<h4> Splitting the data into many csv files </h4> "
   ],
   "cell_type": "markdown",
   "metadata": {}
  },
  {
   "cell_type": "code",
   "execution_count": 18,
   "metadata": {},
   "outputs": [],
   "source": [
    "#create dataframe of train,valid,test data\n",
    "import pandas as pd\n",
    "column_names = housing.feature_names + housing.target_names\n",
    "\n",
    "housing_train_df = pd.DataFrame(data = X_train)\n",
    "housing_train_df[\"Price\"] = y_train\n",
    "housing_train_df.columns = column_names\n",
    "\n",
    "housing_valid_df = pd.DataFrame(data = X_valid)\n",
    "housing_valid_df[\"Price\"] = y_valid\n",
    "housing_valid_df.columns = column_names\n",
    "\n",
    "housing_test_df = pd.DataFrame(data = X_test)\n",
    "housing_test_df[\"Price\"] = y_test\n",
    "housing_test_df.columns = column_names"
   ]
  },
  {
   "cell_type": "code",
   "execution_count": 20,
   "metadata": {},
   "outputs": [],
   "source": [
    "dataframe_dict = {'train':housing_train_df, 'valid':housing_valid_df, 'test':housing_test_df}\n",
    "n_parts = {'train':20, 'valid':10,'test':10}"
   ]
  },
  {
   "cell_type": "code",
   "execution_count": 22,
   "metadata": {},
   "outputs": [],
   "source": [
    "import os\n",
    "import numpy as np\n",
    "file_path_dict = dict()\n",
    "for key in dataframe_dict.keys():\n",
    "    file_path_dict[key] = list()\n",
    "    df = dataframe_dict[key]\n",
    "    no_files = n_parts[key]\n",
    "    dir_path = os.path.join(os.getcwd(),\"housing\",key)\n",
    "    if not os.path.exists(dir_path):\n",
    "        os.makedirs(dir_path)\n",
    "    for file_idx,idx_array in enumerate(np.array_split(np.arange(df.shape[0]),no_files)):\n",
    "        temp_df = df.iloc[idx_array,:]\n",
    "        saving_path = os.path.join(dir_path,\"{}_{}.csv\".format(key,file_idx))\n",
    "        file_path_dict[key].append(saving_path)\n",
    "        temp_df.to_csv(saving_path, index = False)"
   ]
  },
  {
   "cell_type": "code",
   "execution_count": 24,
   "metadata": {},
   "outputs": [],
   "source": [
    "#create list of filepaths for train, validate, test\n",
    "train_filepaths = file_path_dict[\"train\"]\n",
    "valid_filepaths = file_path_dict[\"valid\"]\n",
    "test_filepaths = file_path_dict[\"test\"]"
   ]
  },
  {
   "source": [
    "By default the tf.data.Dataset.list_files() returns a dataset that shuffles the file paths"
   ],
   "cell_type": "markdown",
   "metadata": {}
  },
  {
   "cell_type": "code",
   "execution_count": 26,
   "metadata": {},
   "outputs": [],
   "source": [
    "#create a dataset containing only the train filepaths\n",
    "train_filepath_dataset = tf.data.Dataset.list_files(train_filepaths,seed = 42)\n",
    "#next we can use the interleave() methods, with a number of files to read specified\n",
    "n_readers = 5\n",
    "dataset = train_filepath_dataset.interleave(lambda filepath: tf.data.TextLineDataset(filepath).skip(1), cycle_length = n_readers)\n",
    "#the interleave method will create a dataset that will pull 5 file paths from the filepath_dataset and for each one, it calls the function we gave to create a new dataset. \n",
    "#After it runs through the first 5 filepaths, it will continue to run on the other filepaths"
   ]
  },
  {
   "source": [
    "By default interleave() does not use parallelism. It reads one line at a time from each file, sequentially. "
   ],
   "cell_type": "markdown",
   "metadata": {}
  },
  {
   "cell_type": "code",
   "execution_count": 28,
   "metadata": {},
   "outputs": [
    {
     "output_type": "stream",
     "name": "stdout",
     "text": [
      "b'5.9522,26.0,6.196521739130435,1.0069565217391305,1479.0,2.5721739130434784,34.5,-119.75,4.384'\nb'3.8456,35.0,5.461346633416459,0.9576059850374065,1154.0,2.8778054862842892,37.96,-122.05,1.598'\nb'2.1856,41.0,3.7189873417721517,1.0658227848101265,803.0,2.0329113924050635,32.76,-117.12,1.205'\nb'1.6571,34.0,4.454976303317536,1.0876777251184835,1358.0,3.2180094786729856,37.94,-122.35,1.052'\nb'3.9688,41.0,5.259786476868327,0.9715302491103203,916.0,3.2597864768683276,33.98,-118.07,1.698'\n"
     ]
    }
   ],
   "source": [
    "for line in dataset.take(5):\n",
    "    print(line.numpy())"
   ]
  },
  {
   "source": [
    "<h3> Preprocessing the data </h3> "
   ],
   "cell_type": "markdown",
   "metadata": {}
  },
  {
   "cell_type": "code",
   "execution_count": 30,
   "metadata": {},
   "outputs": [
    {
     "output_type": "execute_result",
     "data": {
      "text/plain": [
       "array([ 3.89175860e+00,  2.86245478e+01,  5.45593655e+00,  1.09963474e+00,\n",
       "        1.42428122e+03,  2.95886657e+00,  3.56464315e+01, -1.19584363e+02])"
      ]
     },
     "metadata": {},
     "execution_count": 30
    }
   ],
   "source": [
    "X_mean"
   ]
  },
  {
   "cell_type": "code",
   "execution_count": 32,
   "metadata": {},
   "outputs": [
    {
     "output_type": "execute_result",
     "data": {
      "text/plain": [
       "array([1.90927329e+00, 1.26409177e+01, 2.55038070e+00, 4.65460128e-01,\n",
       "       1.09576000e+03, 2.36138048e+00, 2.13456672e+00, 2.00093304e+00])"
      ]
     },
     "metadata": {},
     "execution_count": 32
    }
   ],
   "source": [
    "X_std"
   ]
  },
  {
   "cell_type": "code",
   "execution_count": 34,
   "metadata": {},
   "outputs": [],
   "source": [
    "n_inputs = 8"
   ]
  },
  {
   "cell_type": "code",
   "execution_count": 36,
   "metadata": {},
   "outputs": [],
   "source": [
    "def preprocess(line):\n",
    "    defs = [0.]*n_inputs + [tf.constant([],dtype = tf.float32)]\n",
    "    #first argument is the line to pass\n",
    "    #second is the default value in the column\n",
    "    #by passing an empty array in tf.constant([]), we can accept any value into this, however it will raise exception if no value is available\n",
    "    fields = tf.io.decode_csv(line,record_defaults=defs)\n",
    "    #decode_csv returns a list of scalar tensors, which needs to be stacked to give a single 1D tensor\n",
    "    x = tf.stack(fields[:-1])\n",
    "    #stack allows us to stack the list of scalar tensors into one single 1D tensor\n",
    "    y = tf.stack(fields[-1:])\n",
    "    return (x - X_mean)/X_std, y"
   ]
  },
  {
   "cell_type": "code",
   "execution_count": 38,
   "metadata": {},
   "outputs": [],
   "source": [
    "def csv_reader_dataset(filepaths,n_readers = 5, n_read_threads = None, shuffle_buffer_size = 10000, n_parse_threads = 5, batch_size = 32):\n",
    "    dataset = tf.data.Dataset.list_files(filepaths)\n",
    "    dataset = dataset.interleave(lambda filepath:tf.data.TextLineDataset(filepath), cycle_length = n_readers, num_parallel_calls = n_read_threads)\n",
    "    dataset = dataset.shuffle(shuffle_buffer_size)\n",
    "    dataset = dataset.map(preprocess, num_parallel_calls = n_parse_threads)\n",
    "    dataset = dataset.batch(batch_size)\n",
    "    return dataset.prefetch(1)"
   ]
  },
  {
   "cell_type": "code",
   "execution_count": 40,
   "metadata": {},
   "outputs": [],
   "source": [
    "Train_processed = csv_reader_dataset(train_filepaths, batch_size = 3)"
   ]
  },
  {
   "cell_type": "code",
   "execution_count": 42,
   "metadata": {},
   "outputs": [
    {
     "output_type": "stream",
     "name": "stdout",
     "text": [
      "X = tf.Tensor(\n[[-0.6995115   1.0581076  -0.50768846  0.00485739  0.6933259   0.9386411\n   1.0416952  -1.3321956 ]\n [ 0.18763229  0.8998913  -0.06012543 -0.1459513  -0.18825404  0.23343122\n  -0.68230814  0.71184903]\n [-0.38934112  1.8491895  -0.03967553 -0.1600461  -0.6409079  -0.39896438\n   1.3696309  -0.93737936]], shape=(3, 8), dtype=float32)\ny = tf.Tensor(\n[[3.714]\n [1.779]\n [1.589]], shape=(3, 1), dtype=float32)\nX = tf.Tensor(\n[[ 0.09262241 -0.8404887  -0.79305923 -0.3465419  -0.25578707 -0.44558677\n   0.83556503 -1.277221  ]\n [ 0.29337934 -0.20762321  0.10447887 -0.33604828 -0.42096922  0.03345006\n   1.3883705  -0.8524199 ]\n [ 0.89135545 -0.60316414  0.19229767 -0.18285045  1.4480531   0.17167047\n   0.6622282  -1.0123452 ]], shape=(3, 8), dtype=float32)\ny = tf.Tensor(\n[[3.786]\n [1.105]\n [3.868]], shape=(3, 1), dtype=float32)\nX = tf.Tensor(\n[[-0.6398553   0.9789995  -0.22239974 -0.08394154  0.23337112 -0.2509843\n   1.5195441  -0.7474693 ]\n [-0.04654054  0.5834586  -0.01093122 -0.21019256  0.01890811 -0.15243022\n   1.1494452  -1.3122045 ]\n [-1.300316    0.42524222  0.12930529  1.6274391  -1.251443    0.3501544\n  -0.4761762   0.8317958 ]], shape=(3, 8), dtype=float32)\ny = tf.Tensor(\n[[1.39 ]\n [1.299]\n [1.375]], shape=(3, 1), dtype=float32)\nX = tf.Tensor(\n[[ 0.17993306  0.1879177  -0.49215898 -0.15814985  0.09921767  1.1603459\n  -0.644829    0.57691365]\n [ 1.9693574  -1.3942459   0.57391685 -0.18768094  0.78641194 -0.17258006\n   1.0089018  -1.2172476 ]\n [ 3.0522826  -1.5524622   1.1176071  -0.26494953  0.5080663   0.16646163\n   0.8636744  -1.1522793 ]], shape=(3, 8), dtype=float32)\ny = tf.Tensor(\n[[1.568  ]\n [3.593  ]\n [5.00001]], shape=(3, 1), dtype=float32)\nX = tf.Tensor(\n[[-0.27065727 -1.6315705   0.08441731  0.10967682 -0.92290395 -0.05509469\n   0.680966   -0.13275439]\n [ 1.0190481   0.5834586  -0.00695349 -0.2904981   0.03533506 -0.09281277\n  -0.81348175  0.60190356]\n [-0.9173431   0.10880951 -1.0022461   0.16813074  0.01890811 -0.19614981\n  -0.72915536  0.6268896 ]], shape=(3, 8), dtype=float32)\ny = tf.Tensor(\n[[0.807]\n [2.896]\n [2.   ]], shape=(3, 1), dtype=float32)\n"
     ]
    }
   ],
   "source": [
    "#this takes 5 batches, with each batch having 3 training examples in it\n",
    "for X_batch,y_batch in Train_processed.take(5):\n",
    "    print(\"X =\", X_batch)\n",
    "    print(\"y =\", y_batch)"
   ]
  },
  {
   "cell_type": "code",
   "execution_count": 44,
   "metadata": {},
   "outputs": [],
   "source": [
    "Valid_processed = csv_reader_dataset(valid_filepaths)\n",
    "Test_processed = csv_reader_dataset(test_filepaths)"
   ]
  },
  {
   "source": [
    "Look into \n",
    "- concatenate()\n",
    "- zip()\n",
    "- window()\n",
    "- reduce()\n",
    "- cache()\n",
    "- shard()\n",
    "- flat_map()\n",
    "- padded_batch()"
   ],
   "cell_type": "markdown",
   "metadata": {}
  },
  {
   "source": [
    "<h3> TFRecord Format </h3> "
   ],
   "cell_type": "markdown",
   "metadata": {}
  },
  {
   "source": [
    "- TensorFlow's preferred format for storing large amounts of data\n",
    "- Contains a sequence of binary records of varying sizes\n",
    "- Each record has a length, a Cycle Redundancy Check checksum to check that the length was not corrupted. "
   ],
   "cell_type": "markdown",
   "metadata": {}
  },
  {
   "source": [
    "<h3> Protocol buffers </h3>\n",
    "\n",
    "A portable, extensible and efficient binary format. "
   ],
   "cell_type": "markdown",
   "metadata": {}
  },
  {
   "cell_type": "code",
   "execution_count": 46,
   "metadata": {},
   "outputs": [],
   "source": [
    "a = b'\\n\\x05Alice\\x10{\\x1a\\x07a@b.com\\x1a\\x07c@d.com'"
   ]
  },
  {
   "cell_type": "code",
   "execution_count": 48,
   "metadata": {},
   "outputs": [
    {
     "output_type": "execute_result",
     "data": {
      "text/plain": [
       "b'\\n\\x05Alice\\x10{\\x1a\\x07a@b.com\\x1a\\x07c@d.com'"
      ]
     },
     "metadata": {},
     "execution_count": 48
    }
   ],
   "source": [
    "a"
   ]
  },
  {
   "cell_type": "code",
   "execution_count": 50,
   "metadata": {},
   "outputs": [
    {
     "output_type": "execute_result",
     "data": {
      "text/plain": [
       "bytes"
      ]
     },
     "metadata": {},
     "execution_count": 50
    }
   ],
   "source": [
    "type(a)"
   ]
  },
  {
   "cell_type": "code",
   "execution_count": 52,
   "metadata": {},
   "outputs": [
    {
     "output_type": "execute_result",
     "data": {
      "text/plain": [
       "'\\n\\x05Alice\\x10{\\x1a\\x07a@b.com\\x1a\\x07c@d.com'"
      ]
     },
     "metadata": {},
     "execution_count": 52
    }
   ],
   "source": [
    "a.decode('utf-8')"
   ]
  },
  {
   "cell_type": "code",
   "execution_count": 54,
   "metadata": {},
   "outputs": [],
   "source": [
    "import json \n",
    "\n",
    "\n",
    "test_json = {'one':{'a':'A','b':[1,2,3]},'two':{'c':'C','d':[1,2,3]}}"
   ]
  },
  {
   "cell_type": "code",
   "execution_count": 56,
   "metadata": {},
   "outputs": [
    {
     "output_type": "execute_result",
     "data": {
      "text/plain": [
       "str"
      ]
     },
     "metadata": {},
     "execution_count": 56
    }
   ],
   "source": [
    "json_string = json.dumps(test_json)\n",
    "type(json_string)"
   ]
  },
  {
   "cell_type": "code",
   "execution_count": 58,
   "metadata": {},
   "outputs": [
    {
     "output_type": "execute_result",
     "data": {
      "text/plain": [
       "{'one': {'a': 'A', 'b': [1, 2, 3]}, 'two': {'c': 'C', 'd': [1, 2, 3]}}"
      ]
     },
     "metadata": {},
     "execution_count": 58
    }
   ],
   "source": [
    "json.loads(json_string)"
   ]
  },
  {
   "source": [
    "<h3> The Features API </h3> \n",
    "\n",
    "It lets you define how each feature or group of features should be preprocessed. \n",
    "\n",
    "tf.feature_column\n",
    "\n",
    "- Using bucketized_column to bin data\n",
    "\n",
    "Sometimes you have multimodal data where there are separate peaks in it's distribution. In these cases, you define a bucket for each mode, where the boundaries are between the peaks."
   ],
   "cell_type": "markdown",
   "metadata": {}
  },
  {
   "source": [
    "https://www.tensorflow.org/tutorials/structured_data/feature_columns"
   ],
   "cell_type": "markdown",
   "metadata": {}
  },
  {
   "cell_type": "code",
   "execution_count": 65,
   "metadata": {},
   "outputs": [
    {
     "output_type": "execute_result",
     "data": {
      "text/plain": [
       "  Type  Age                Breed1  Gender Color1    Color2 MaturitySize  \\\n",
       "0  Cat    3                 Tabby    Male  Black     White        Small   \n",
       "1  Cat    1  Domestic Medium Hair    Male  Black     Brown       Medium   \n",
       "2  Dog    1           Mixed Breed    Male  Brown     White       Medium   \n",
       "3  Dog    4           Mixed Breed  Female  Black     Brown       Medium   \n",
       "4  Dog    1           Mixed Breed    Male  Black  No Color       Medium   \n",
       "\n",
       "  FurLength Vaccinated Sterilized   Health  Fee  \\\n",
       "0     Short         No         No  Healthy  100   \n",
       "1    Medium   Not Sure   Not Sure  Healthy    0   \n",
       "2    Medium        Yes         No  Healthy    0   \n",
       "3     Short        Yes         No  Healthy  150   \n",
       "4     Short         No         No  Healthy    0   \n",
       "\n",
       "                                         Description  PhotoAmt  AdoptionSpeed  \n",
       "0  Nibble is a 3+ month old ball of cuteness. He ...         1              2  \n",
       "1  I just found it alone yesterday near my apartm...         2              0  \n",
       "2  Their pregnant mother was dumped by her irresp...         7              3  \n",
       "3  Good guard dog, very alert, active, obedience ...         8              2  \n",
       "4  This handsome yet cute boy is up for adoption....         3              2  "
      ],
      "text/html": "<div>\n<style scoped>\n    .dataframe tbody tr th:only-of-type {\n        vertical-align: middle;\n    }\n\n    .dataframe tbody tr th {\n        vertical-align: top;\n    }\n\n    .dataframe thead th {\n        text-align: right;\n    }\n</style>\n<table border=\"1\" class=\"dataframe\">\n  <thead>\n    <tr style=\"text-align: right;\">\n      <th></th>\n      <th>Type</th>\n      <th>Age</th>\n      <th>Breed1</th>\n      <th>Gender</th>\n      <th>Color1</th>\n      <th>Color2</th>\n      <th>MaturitySize</th>\n      <th>FurLength</th>\n      <th>Vaccinated</th>\n      <th>Sterilized</th>\n      <th>Health</th>\n      <th>Fee</th>\n      <th>Description</th>\n      <th>PhotoAmt</th>\n      <th>AdoptionSpeed</th>\n    </tr>\n  </thead>\n  <tbody>\n    <tr>\n      <th>0</th>\n      <td>Cat</td>\n      <td>3</td>\n      <td>Tabby</td>\n      <td>Male</td>\n      <td>Black</td>\n      <td>White</td>\n      <td>Small</td>\n      <td>Short</td>\n      <td>No</td>\n      <td>No</td>\n      <td>Healthy</td>\n      <td>100</td>\n      <td>Nibble is a 3+ month old ball of cuteness. He ...</td>\n      <td>1</td>\n      <td>2</td>\n    </tr>\n    <tr>\n      <th>1</th>\n      <td>Cat</td>\n      <td>1</td>\n      <td>Domestic Medium Hair</td>\n      <td>Male</td>\n      <td>Black</td>\n      <td>Brown</td>\n      <td>Medium</td>\n      <td>Medium</td>\n      <td>Not Sure</td>\n      <td>Not Sure</td>\n      <td>Healthy</td>\n      <td>0</td>\n      <td>I just found it alone yesterday near my apartm...</td>\n      <td>2</td>\n      <td>0</td>\n    </tr>\n    <tr>\n      <th>2</th>\n      <td>Dog</td>\n      <td>1</td>\n      <td>Mixed Breed</td>\n      <td>Male</td>\n      <td>Brown</td>\n      <td>White</td>\n      <td>Medium</td>\n      <td>Medium</td>\n      <td>Yes</td>\n      <td>No</td>\n      <td>Healthy</td>\n      <td>0</td>\n      <td>Their pregnant mother was dumped by her irresp...</td>\n      <td>7</td>\n      <td>3</td>\n    </tr>\n    <tr>\n      <th>3</th>\n      <td>Dog</td>\n      <td>4</td>\n      <td>Mixed Breed</td>\n      <td>Female</td>\n      <td>Black</td>\n      <td>Brown</td>\n      <td>Medium</td>\n      <td>Short</td>\n      <td>Yes</td>\n      <td>No</td>\n      <td>Healthy</td>\n      <td>150</td>\n      <td>Good guard dog, very alert, active, obedience ...</td>\n      <td>8</td>\n      <td>2</td>\n    </tr>\n    <tr>\n      <th>4</th>\n      <td>Dog</td>\n      <td>1</td>\n      <td>Mixed Breed</td>\n      <td>Male</td>\n      <td>Black</td>\n      <td>No Color</td>\n      <td>Medium</td>\n      <td>Short</td>\n      <td>No</td>\n      <td>No</td>\n      <td>Healthy</td>\n      <td>0</td>\n      <td>This handsome yet cute boy is up for adoption....</td>\n      <td>3</td>\n      <td>2</td>\n    </tr>\n  </tbody>\n</table>\n</div>"
     },
     "metadata": {},
     "execution_count": 65
    }
   ],
   "source": [
    "petsdf = pd.read_csv(r'C:\\Users\\ASUS\\Desktop\\Hands on ML\\Hands-on-Machine-Learning-Textbook-Exercises\\DeepLearning_1\\petfinder-mini\\petfinder-mini.csv')\n",
    "petsdf.head()"
   ]
  },
  {
   "cell_type": "code",
   "execution_count": 66,
   "metadata": {},
   "outputs": [
    {
     "output_type": "execute_result",
     "data": {
      "text/plain": [
       "  Type  Age                Breed1  Gender Color1    Color2 MaturitySize  \\\n",
       "0  Cat    3                 Tabby    Male  Black     White        Small   \n",
       "1  Cat    1  Domestic Medium Hair    Male  Black     Brown       Medium   \n",
       "2  Dog    1           Mixed Breed    Male  Brown     White       Medium   \n",
       "3  Dog    4           Mixed Breed  Female  Black     Brown       Medium   \n",
       "4  Dog    1           Mixed Breed    Male  Black  No Color       Medium   \n",
       "\n",
       "  FurLength Vaccinated Sterilized   Health  Fee  PhotoAmt  target  \n",
       "0     Short         No         No  Healthy  100         1       1  \n",
       "1    Medium   Not Sure   Not Sure  Healthy    0         2       1  \n",
       "2    Medium        Yes         No  Healthy    0         7       1  \n",
       "3     Short        Yes         No  Healthy  150         8       1  \n",
       "4     Short         No         No  Healthy    0         3       1  "
      ],
      "text/html": "<div>\n<style scoped>\n    .dataframe tbody tr th:only-of-type {\n        vertical-align: middle;\n    }\n\n    .dataframe tbody tr th {\n        vertical-align: top;\n    }\n\n    .dataframe thead th {\n        text-align: right;\n    }\n</style>\n<table border=\"1\" class=\"dataframe\">\n  <thead>\n    <tr style=\"text-align: right;\">\n      <th></th>\n      <th>Type</th>\n      <th>Age</th>\n      <th>Breed1</th>\n      <th>Gender</th>\n      <th>Color1</th>\n      <th>Color2</th>\n      <th>MaturitySize</th>\n      <th>FurLength</th>\n      <th>Vaccinated</th>\n      <th>Sterilized</th>\n      <th>Health</th>\n      <th>Fee</th>\n      <th>PhotoAmt</th>\n      <th>target</th>\n    </tr>\n  </thead>\n  <tbody>\n    <tr>\n      <th>0</th>\n      <td>Cat</td>\n      <td>3</td>\n      <td>Tabby</td>\n      <td>Male</td>\n      <td>Black</td>\n      <td>White</td>\n      <td>Small</td>\n      <td>Short</td>\n      <td>No</td>\n      <td>No</td>\n      <td>Healthy</td>\n      <td>100</td>\n      <td>1</td>\n      <td>1</td>\n    </tr>\n    <tr>\n      <th>1</th>\n      <td>Cat</td>\n      <td>1</td>\n      <td>Domestic Medium Hair</td>\n      <td>Male</td>\n      <td>Black</td>\n      <td>Brown</td>\n      <td>Medium</td>\n      <td>Medium</td>\n      <td>Not Sure</td>\n      <td>Not Sure</td>\n      <td>Healthy</td>\n      <td>0</td>\n      <td>2</td>\n      <td>1</td>\n    </tr>\n    <tr>\n      <th>2</th>\n      <td>Dog</td>\n      <td>1</td>\n      <td>Mixed Breed</td>\n      <td>Male</td>\n      <td>Brown</td>\n      <td>White</td>\n      <td>Medium</td>\n      <td>Medium</td>\n      <td>Yes</td>\n      <td>No</td>\n      <td>Healthy</td>\n      <td>0</td>\n      <td>7</td>\n      <td>1</td>\n    </tr>\n    <tr>\n      <th>3</th>\n      <td>Dog</td>\n      <td>4</td>\n      <td>Mixed Breed</td>\n      <td>Female</td>\n      <td>Black</td>\n      <td>Brown</td>\n      <td>Medium</td>\n      <td>Short</td>\n      <td>Yes</td>\n      <td>No</td>\n      <td>Healthy</td>\n      <td>150</td>\n      <td>8</td>\n      <td>1</td>\n    </tr>\n    <tr>\n      <th>4</th>\n      <td>Dog</td>\n      <td>1</td>\n      <td>Mixed Breed</td>\n      <td>Male</td>\n      <td>Black</td>\n      <td>No Color</td>\n      <td>Medium</td>\n      <td>Short</td>\n      <td>No</td>\n      <td>No</td>\n      <td>Healthy</td>\n      <td>0</td>\n      <td>3</td>\n      <td>1</td>\n    </tr>\n  </tbody>\n</table>\n</div>"
     },
     "metadata": {},
     "execution_count": 66
    }
   ],
   "source": [
    "petsdf['target'] = np.where(petsdf[\"AdoptionSpeed\"] == 4,0,1)\n",
    "petsdf.drop(columns=['AdoptionSpeed', 'Description'], inplace = True)\n",
    "petsdf.head()"
   ]
  },
  {
   "cell_type": "code",
   "execution_count": 67,
   "metadata": {},
   "outputs": [],
   "source": [
    "train, test = train_test_split(petsdf, test_size=0.2, random_state=42)\n",
    "train, val = train_test_split(train, test_size=0.2, random_state=42)"
   ]
  },
  {
   "source": [
    "Wrap the dataset under tf.data as it allows us to use feature columns"
   ],
   "cell_type": "markdown",
   "metadata": {}
  },
  {
   "cell_type": "code",
   "execution_count": 68,
   "metadata": {},
   "outputs": [],
   "source": [
    "def df_to_dataset(df,shuffle = True, batch_size = 32):\n",
    "    df = df.copy()\n",
    "    #obtain the targets\n",
    "    labels = df.pop('target')\n",
    "    ds = tf.data.Dataset.from_tensor_slices((dict(df),labels))\n",
    "    if shuffle:\n",
    "        ds = ds.shuffle(buffer_size=len(df))\n",
    "    ds = ds.batch(batch_size)\n",
    "    return ds"
   ]
  },
  {
   "cell_type": "code",
   "execution_count": 69,
   "metadata": {},
   "outputs": [],
   "source": [
    "#getting the item thats required from a tensorflow dataset\n",
    "#labels = train.pop('target')\n",
    "#list(tf.data.Dataset.from_tensor_slices((dict(train),labels)).take(1).as_numpy_iterator())"
   ]
  },
  {
   "cell_type": "code",
   "execution_count": 70,
   "metadata": {},
   "outputs": [],
   "source": [
    "train_ds = df_to_dataset(train,batch_size=5)\n",
    "val_ds = df_to_dataset(val,shuffle = False, batch_size=5)\n",
    "test_ds = df_to_dataset(test,shuffle = False, batch_size=5)"
   ]
  },
  {
   "cell_type": "code",
   "execution_count": 71,
   "metadata": {},
   "outputs": [
    {
     "output_type": "stream",
     "name": "stdout",
     "text": [
      "['Type', 'Age', 'Breed1', 'Gender', 'Color1', 'Color2', 'MaturitySize', 'FurLength', 'Vaccinated', 'Sterilized', 'Health', 'Fee', 'PhotoAmt']\ntf.Tensor([1 4 3 4 2], shape=(5,), dtype=int64)\ntf.Tensor([1 0 0 1 1], shape=(5,), dtype=int32)\n"
     ]
    }
   ],
   "source": [
    "for feature_batch, label_batch in train_ds.take(1):\n",
    "    print(list(feature_batch.keys()))\n",
    "    print(feature_batch[\"Age\"])\n",
    "    print(label_batch)"
   ]
  },
  {
   "source": [
    "Using feature columns \n",
    "\n",
    "Now we create several types of feature columns and demonstrate how they transform a column from a dataframe"
   ],
   "cell_type": "markdown",
   "metadata": {}
  },
  {
   "cell_type": "code",
   "execution_count": 72,
   "metadata": {},
   "outputs": [],
   "source": [
    "#iter creates a iterable of the input object\n",
    "#then we can use next(iter(obj)) to obtain the element starting with the first one\n",
    "example_batch = next(iter(train_ds))[0]"
   ]
  },
  {
   "cell_type": "code",
   "execution_count": 73,
   "metadata": {},
   "outputs": [
    {
     "output_type": "execute_result",
     "data": {
      "text/plain": [
       "{'Type': <tf.Tensor: shape=(5,), dtype=string, numpy=array([b'Dog', b'Dog', b'Cat', b'Dog', b'Dog'], dtype=object)>,\n",
       " 'Age': <tf.Tensor: shape=(5,), dtype=int64, numpy=array([ 2,  2,  2, 36,  2], dtype=int64)>,\n",
       " 'Breed1': <tf.Tensor: shape=(5,), dtype=string, numpy=\n",
       " array([b'Mixed Breed', b'Mixed Breed', b'Domestic Short Hair',\n",
       "        b'Golden Retriever', b'Mixed Breed'], dtype=object)>,\n",
       " 'Gender': <tf.Tensor: shape=(5,), dtype=string, numpy=array([b'Female', b'Female', b'Male', b'Female', b'Male'], dtype=object)>,\n",
       " 'Color1': <tf.Tensor: shape=(5,), dtype=string, numpy=array([b'Yellow', b'Black', b'Black', b'Golden', b'Brown'], dtype=object)>,\n",
       " 'Color2': <tf.Tensor: shape=(5,), dtype=string, numpy=array([b'Cream', b'Brown', b'Gray', b'No Color', b'White'], dtype=object)>,\n",
       " 'MaturitySize': <tf.Tensor: shape=(5,), dtype=string, numpy=array([b'Medium', b'Medium', b'Small', b'Large', b'Medium'], dtype=object)>,\n",
       " 'FurLength': <tf.Tensor: shape=(5,), dtype=string, numpy=array([b'Short', b'Short', b'Medium', b'Long', b'Short'], dtype=object)>,\n",
       " 'Vaccinated': <tf.Tensor: shape=(5,), dtype=string, numpy=array([b'No', b'Not Sure', b'No', b'No', b'Yes'], dtype=object)>,\n",
       " 'Sterilized': <tf.Tensor: shape=(5,), dtype=string, numpy=array([b'No', b'No', b'Not Sure', b'No', b'No'], dtype=object)>,\n",
       " 'Health': <tf.Tensor: shape=(5,), dtype=string, numpy=\n",
       " array([b'Healthy', b'Healthy', b'Healthy', b'Minor Injury', b'Healthy'],\n",
       "       dtype=object)>,\n",
       " 'Fee': <tf.Tensor: shape=(5,), dtype=int64, numpy=array([0, 0, 0, 0, 0], dtype=int64)>,\n",
       " 'PhotoAmt': <tf.Tensor: shape=(5,), dtype=int64, numpy=array([1, 1, 2, 5, 4], dtype=int64)>}"
      ]
     },
     "metadata": {},
     "execution_count": 73
    }
   ],
   "source": [
    "example_batch"
   ]
  },
  {
   "source": [
    "Understanding of tf.keras.layers.DenseFeatures\n",
    "\n",
    "By creating tf.feature_columns.xxx_column that does specific transformations, then adding these columns to a list, we create a list of transformations to be done on the data\n",
    "\n",
    "feature_columns.append(transformation_name)\n",
    "feature_layer = tf.keras.layers.DenseFeatures(feature_columns)\n",
    "\n",
    "\n",
    "Then we create a dictionary to associate column names with column values\n",
    "\n",
    "inputs = {}\n",
    "\n",
    "inputs(\"temp_num\") = tf.keras.Input(shape = (1,), name = \"feature_name\")\n",
    "\n",
    "#apply the transformation\n",
    "\n",
    "x = feature_layer(inputs)\n",
    "\n",
    "Continue normally \n",
    "\n",
    "x = tf.keras.layers.Dense(128, activation='relu')(x)\n",
    "\n",
    "x = tf.keras.layers.Dense(128, activation='relu')(x)\n",
    "\n",
    "https://stackoverflow.com/questions/54375298/how-to-use-tensorflow-feature-columns-as-input-to-a-keras-model"
   ],
   "cell_type": "markdown",
   "metadata": {}
  },
  {
   "cell_type": "code",
   "execution_count": 74,
   "metadata": {},
   "outputs": [],
   "source": [
    "def demo(feature_column):\n",
    "    feature_layer = tf.keras.layers.DenseFeatures(feature_column)\n",
    "    print(feature_layer(example_batch).numpy())"
   ]
  },
  {
   "cell_type": "code",
   "execution_count": 75,
   "metadata": {},
   "outputs": [],
   "source": [
    "photo_count= tf.feature_column.numeric_column('PhotoAmt')"
   ]
  },
  {
   "source": [
    "<h3> Bucketized columns </h3> "
   ],
   "cell_type": "markdown",
   "metadata": {}
  },
  {
   "cell_type": "code",
   "execution_count": 76,
   "metadata": {},
   "outputs": [],
   "source": [
    "age = tf.feature_column.numeric_column('Age')\n",
    "age_bucketized = tf.feature_column.bucketized_column(age,boundaries = [1,3,5])"
   ]
  },
  {
   "cell_type": "code",
   "execution_count": 77,
   "metadata": {},
   "outputs": [
    {
     "output_type": "stream",
     "name": "stdout",
     "text": [
      "[[0. 1. 0. 0.]\n [0. 1. 0. 0.]\n [0. 1. 0. 0.]\n [0. 0. 0. 1.]\n [0. 1. 0. 0.]]\n"
     ]
    }
   ],
   "source": [
    "demo(age_bucketized)"
   ]
  },
  {
   "cell_type": "code",
   "execution_count": 78,
   "metadata": {},
   "outputs": [
    {
     "output_type": "stream",
     "name": "stdout",
     "text": [
      "[[ 2.]\n [ 2.]\n [ 2.]\n [36.]\n [ 2.]]\n"
     ]
    }
   ],
   "source": [
    "demo(age)"
   ]
  },
  {
   "source": [
    "<h3> Categorical columns </h3> \n",
    "\n",
    "We cannot feed strings directly into a model, hence we must first map them to numeric values. \n",
    "\n",
    "To pass in strings we can use:\n",
    "\n",
    "- categorical_column_with_vocabulary_list\n",
    "- categorical_column_with_vocabulary_file (if loading the categories from a list)"
   ],
   "cell_type": "markdown",
   "metadata": {}
  },
  {
   "cell_type": "code",
   "execution_count": 79,
   "metadata": {},
   "outputs": [
    {
     "output_type": "stream",
     "name": "stdout",
     "text": [
      "[[0. 1.]\n [0. 1.]\n [1. 0.]\n [0. 1.]\n [0. 1.]]\n"
     ]
    }
   ],
   "source": [
    "#converts into numerical values\n",
    "animal_type = tf.feature_column.categorical_column_with_vocabulary_list('Type', ['Cat','Dog'])\n",
    "#converts into one-hot vector\n",
    "animal_type_one_hot = tf.feature_column.indicator_column(animal_type)\n",
    "demo(animal_type_one_hot)"
   ]
  },
  {
   "source": [
    "<h3> Embedding Columns </h3> \n",
    "\n",
    "If we have thousands or more values per category, as the number of categories grows large, it becomes infeasible to train a neural network using one-hot encodings. Embedding represents the data as a lower dimensional dense vector. "
   ],
   "cell_type": "markdown",
   "metadata": {}
  },
  {
   "cell_type": "code",
   "execution_count": 80,
   "metadata": {},
   "outputs": [
    {
     "output_type": "stream",
     "name": "stdout",
     "text": [
      "[[-0.6872541   0.23651108  0.19703852  0.87541044  0.33767933]\n [-0.6872541   0.23651108  0.19703852  0.87541044  0.33767933]\n [-0.20582496 -0.01826351  0.7618332   0.5168024  -0.52089995]\n [ 0.15614133 -0.06637327 -0.41340065 -0.10094053  0.06796455]\n [-0.6872541   0.23651108  0.19703852  0.87541044  0.33767933]]\n"
     ]
    }
   ],
   "source": [
    "breed1 = tf.feature_column.categorical_column_with_vocabulary_list('Breed1', train[\"Breed1\"].unique().tolist())\n",
    "breed1_embedding = tf.feature_column.embedding_column(breed1, dimension=5)\n",
    "demo(breed1_embedding)"
   ]
  },
  {
   "source": [
    "<h3> Hashed Feature Columns </h3>\n",
    "\n",
    "Calculates the hash value of a input, then selects the one of hash_bucket_size to encode the string. We can make the hash_bucket_size much smaller than the actual number of categories.\n",
    "\n",
    "Key Point: An important downside of this technique is that there may be collisions in which different strings are mapped to the same bucket. In practice, this can work well for some datasets regardless."
   ],
   "cell_type": "markdown",
   "metadata": {}
  },
  {
   "cell_type": "code",
   "execution_count": 81,
   "metadata": {},
   "outputs": [
    {
     "output_type": "stream",
     "name": "stdout",
     "text": [
      "[[0. 0. 0. 0. 0. 0. 0. 1. 0. 0.]\n [0. 0. 0. 0. 0. 0. 0. 1. 0. 0.]\n [0. 0. 0. 0. 0. 0. 0. 0. 0. 1.]\n [0. 0. 1. 0. 0. 0. 0. 0. 0. 0.]\n [0. 0. 0. 0. 0. 0. 0. 1. 0. 0.]]\n"
     ]
    }
   ],
   "source": [
    "breed1_hashed = tf.feature_column.categorical_column_with_hash_bucket(\"Breed1\", hash_bucket_size = 10)\n",
    "demo(tf.feature_column.indicator_column(breed1_hashed))"
   ]
  },
  {
   "source": [
    "<h3> Crossed feature columns </h3> \n",
    "\n",
    "Some features are better when combined, hence we may use this feature. \n",
    "\n",
    "It first creates the combinations for the 2 categories. Then makes hashes of the combinations. Then bucketize the hashes. "
   ],
   "cell_type": "markdown",
   "metadata": {}
  },
  {
   "cell_type": "code",
   "execution_count": 83,
   "metadata": {},
   "outputs": [
    {
     "output_type": "error",
     "ename": "OverflowError",
     "evalue": "Python int too large to convert to C long",
     "traceback": [
      "\u001b[1;31m---------------------------------------------------------------------------\u001b[0m",
      "\u001b[1;31mTypeError\u001b[0m                                 Traceback (most recent call last)",
      "\u001b[1;32m~\\AppData\\Roaming\\Python\\Python38\\site-packages\\tensorflow\\python\\keras\\feature_column\\dense_features.py\u001b[0m in \u001b[0;36mcall\u001b[1;34m(self, features, cols_to_output_tensors, training)\u001b[0m\n\u001b[0;32m    164\u001b[0m         \u001b[1;32mtry\u001b[0m\u001b[1;33m:\u001b[0m\u001b[1;33m\u001b[0m\u001b[1;33m\u001b[0m\u001b[0m\n\u001b[1;32m--> 165\u001b[1;33m           tensor = column.get_dense_tensor(\n\u001b[0m\u001b[0;32m    166\u001b[0m               transformation_cache, self._state_manager, training=training)\n",
      "\u001b[1;31mTypeError\u001b[0m: get_dense_tensor() got an unexpected keyword argument 'training'",
      "\nDuring handling of the above exception, another exception occurred:\n",
      "\u001b[1;31mTypeError\u001b[0m                                 Traceback (most recent call last)",
      "\u001b[1;32m~\\AppData\\Roaming\\Python\\Python38\\site-packages\\tensorflow\\python\\feature_column\\feature_column_v2.py\u001b[0m in \u001b[0;36mget\u001b[1;34m(self, key, state_manager, training)\u001b[0m\n\u001b[0;32m   2351\u001b[0m     \u001b[1;32mtry\u001b[0m\u001b[1;33m:\u001b[0m\u001b[1;33m\u001b[0m\u001b[1;33m\u001b[0m\u001b[0m\n\u001b[1;32m-> 2352\u001b[1;33m       transformed = column.transform_feature(\n\u001b[0m\u001b[0;32m   2353\u001b[0m           self, state_manager, training=training)\n",
      "\u001b[1;31mTypeError\u001b[0m: transform_feature() got an unexpected keyword argument 'training'",
      "\nDuring handling of the above exception, another exception occurred:\n",
      "\u001b[1;31mTypeError\u001b[0m                                 Traceback (most recent call last)",
      "\u001b[1;32m~\\AppData\\Roaming\\Python\\Python38\\site-packages\\tensorflow\\python\\feature_column\\feature_column_v2.py\u001b[0m in \u001b[0;36mget\u001b[1;34m(self, key, state_manager, training)\u001b[0m\n\u001b[0;32m   2351\u001b[0m     \u001b[1;32mtry\u001b[0m\u001b[1;33m:\u001b[0m\u001b[1;33m\u001b[0m\u001b[1;33m\u001b[0m\u001b[0m\n\u001b[1;32m-> 2352\u001b[1;33m       transformed = column.transform_feature(\n\u001b[0m\u001b[0;32m   2353\u001b[0m           self, state_manager, training=training)\n",
      "\u001b[1;31mTypeError\u001b[0m: transform_feature() got an unexpected keyword argument 'training'",
      "\nDuring handling of the above exception, another exception occurred:\n",
      "\u001b[1;31mOverflowError\u001b[0m                             Traceback (most recent call last)",
      "\u001b[1;32m<ipython-input-83-0843b8588349>\u001b[0m in \u001b[0;36m<module>\u001b[1;34m\u001b[0m\n\u001b[0;32m      1\u001b[0m \u001b[0mcrossed_feature\u001b[0m \u001b[1;33m=\u001b[0m \u001b[0mtf\u001b[0m\u001b[1;33m.\u001b[0m\u001b[0mfeature_column\u001b[0m\u001b[1;33m.\u001b[0m\u001b[0mcrossed_column\u001b[0m\u001b[1;33m(\u001b[0m\u001b[1;33m[\u001b[0m\u001b[0mage_bucketized\u001b[0m\u001b[1;33m,\u001b[0m\u001b[0manimal_type\u001b[0m\u001b[1;33m]\u001b[0m\u001b[1;33m,\u001b[0m \u001b[0mhash_bucket_size\u001b[0m \u001b[1;33m=\u001b[0m \u001b[1;36m100\u001b[0m\u001b[1;33m)\u001b[0m\u001b[1;33m\u001b[0m\u001b[1;33m\u001b[0m\u001b[0m\n\u001b[1;32m----> 2\u001b[1;33m \u001b[0mdemo\u001b[0m\u001b[1;33m(\u001b[0m\u001b[0mtf\u001b[0m\u001b[1;33m.\u001b[0m\u001b[0mfeature_column\u001b[0m\u001b[1;33m.\u001b[0m\u001b[0mindicator_column\u001b[0m\u001b[1;33m(\u001b[0m\u001b[0mcrossed_feature\u001b[0m\u001b[1;33m)\u001b[0m\u001b[1;33m)\u001b[0m\u001b[1;33m\u001b[0m\u001b[1;33m\u001b[0m\u001b[0m\n\u001b[0m",
      "\u001b[1;32m<ipython-input-74-c1c854ffe856>\u001b[0m in \u001b[0;36mdemo\u001b[1;34m(feature_column)\u001b[0m\n\u001b[0;32m      1\u001b[0m \u001b[1;32mdef\u001b[0m \u001b[0mdemo\u001b[0m\u001b[1;33m(\u001b[0m\u001b[0mfeature_column\u001b[0m\u001b[1;33m)\u001b[0m\u001b[1;33m:\u001b[0m\u001b[1;33m\u001b[0m\u001b[1;33m\u001b[0m\u001b[0m\n\u001b[0;32m      2\u001b[0m     \u001b[0mfeature_layer\u001b[0m \u001b[1;33m=\u001b[0m \u001b[0mtf\u001b[0m\u001b[1;33m.\u001b[0m\u001b[0mkeras\u001b[0m\u001b[1;33m.\u001b[0m\u001b[0mlayers\u001b[0m\u001b[1;33m.\u001b[0m\u001b[0mDenseFeatures\u001b[0m\u001b[1;33m(\u001b[0m\u001b[0mfeature_column\u001b[0m\u001b[1;33m)\u001b[0m\u001b[1;33m\u001b[0m\u001b[1;33m\u001b[0m\u001b[0m\n\u001b[1;32m----> 3\u001b[1;33m     \u001b[0mprint\u001b[0m\u001b[1;33m(\u001b[0m\u001b[0mfeature_layer\u001b[0m\u001b[1;33m(\u001b[0m\u001b[0mexample_batch\u001b[0m\u001b[1;33m)\u001b[0m\u001b[1;33m.\u001b[0m\u001b[0mnumpy\u001b[0m\u001b[1;33m(\u001b[0m\u001b[1;33m)\u001b[0m\u001b[1;33m)\u001b[0m\u001b[1;33m\u001b[0m\u001b[1;33m\u001b[0m\u001b[0m\n\u001b[0m",
      "\u001b[1;32m~\\AppData\\Roaming\\Python\\Python38\\site-packages\\tensorflow\\python\\keras\\engine\\base_layer.py\u001b[0m in \u001b[0;36m__call__\u001b[1;34m(self, *args, **kwargs)\u001b[0m\n\u001b[0;32m   1010\u001b[0m         with autocast_variable.enable_auto_cast_variables(\n\u001b[0;32m   1011\u001b[0m             self._compute_dtype_object):\n\u001b[1;32m-> 1012\u001b[1;33m           \u001b[0moutputs\u001b[0m \u001b[1;33m=\u001b[0m \u001b[0mcall_fn\u001b[0m\u001b[1;33m(\u001b[0m\u001b[0minputs\u001b[0m\u001b[1;33m,\u001b[0m \u001b[1;33m*\u001b[0m\u001b[0margs\u001b[0m\u001b[1;33m,\u001b[0m \u001b[1;33m**\u001b[0m\u001b[0mkwargs\u001b[0m\u001b[1;33m)\u001b[0m\u001b[1;33m\u001b[0m\u001b[1;33m\u001b[0m\u001b[0m\n\u001b[0m\u001b[0;32m   1013\u001b[0m \u001b[1;33m\u001b[0m\u001b[0m\n\u001b[0;32m   1014\u001b[0m         \u001b[1;32mif\u001b[0m \u001b[0mself\u001b[0m\u001b[1;33m.\u001b[0m\u001b[0m_activity_regularizer\u001b[0m\u001b[1;33m:\u001b[0m\u001b[1;33m\u001b[0m\u001b[1;33m\u001b[0m\u001b[0m\n",
      "\u001b[1;32m~\\AppData\\Roaming\\Python\\Python38\\site-packages\\tensorflow\\python\\keras\\feature_column\\dense_features.py\u001b[0m in \u001b[0;36mcall\u001b[1;34m(self, features, cols_to_output_tensors, training)\u001b[0m\n\u001b[0;32m    166\u001b[0m               transformation_cache, self._state_manager, training=training)\n\u001b[0;32m    167\u001b[0m         \u001b[1;32mexcept\u001b[0m \u001b[0mTypeError\u001b[0m\u001b[1;33m:\u001b[0m\u001b[1;33m\u001b[0m\u001b[1;33m\u001b[0m\u001b[0m\n\u001b[1;32m--> 168\u001b[1;33m           tensor = column.get_dense_tensor(transformation_cache,\n\u001b[0m\u001b[0;32m    169\u001b[0m                                            self._state_manager)\n\u001b[0;32m    170\u001b[0m         \u001b[0mprocessed_tensors\u001b[0m \u001b[1;33m=\u001b[0m \u001b[0mself\u001b[0m\u001b[1;33m.\u001b[0m\u001b[0m_process_dense_tensor\u001b[0m\u001b[1;33m(\u001b[0m\u001b[0mcolumn\u001b[0m\u001b[1;33m,\u001b[0m \u001b[0mtensor\u001b[0m\u001b[1;33m)\u001b[0m\u001b[1;33m\u001b[0m\u001b[1;33m\u001b[0m\u001b[0m\n",
      "\u001b[1;32m~\\AppData\\Roaming\\Python\\Python38\\site-packages\\tensorflow\\python\\feature_column\\feature_column_v2.py\u001b[0m in \u001b[0;36mget_dense_tensor\u001b[1;34m(self, transformation_cache, state_manager)\u001b[0m\n\u001b[0;32m   4156\u001b[0m     \u001b[1;31m# Feature has been already transformed. Return the intermediate\u001b[0m\u001b[1;33m\u001b[0m\u001b[1;33m\u001b[0m\u001b[1;33m\u001b[0m\u001b[0m\n\u001b[0;32m   4157\u001b[0m     \u001b[1;31m# representation created by transform_feature.\u001b[0m\u001b[1;33m\u001b[0m\u001b[1;33m\u001b[0m\u001b[1;33m\u001b[0m\u001b[0m\n\u001b[1;32m-> 4158\u001b[1;33m     \u001b[1;32mreturn\u001b[0m \u001b[0mtransformation_cache\u001b[0m\u001b[1;33m.\u001b[0m\u001b[0mget\u001b[0m\u001b[1;33m(\u001b[0m\u001b[0mself\u001b[0m\u001b[1;33m,\u001b[0m \u001b[0mstate_manager\u001b[0m\u001b[1;33m)\u001b[0m\u001b[1;33m\u001b[0m\u001b[1;33m\u001b[0m\u001b[0m\n\u001b[0m\u001b[0;32m   4159\u001b[0m \u001b[1;33m\u001b[0m\u001b[0m\n\u001b[0;32m   4160\u001b[0m   @deprecation.deprecated(_FEATURE_COLUMN_DEPRECATION_DATE,\n",
      "\u001b[1;32m~\\AppData\\Roaming\\Python\\Python38\\site-packages\\tensorflow\\python\\feature_column\\feature_column_v2.py\u001b[0m in \u001b[0;36mget\u001b[1;34m(self, key, state_manager, training)\u001b[0m\n\u001b[0;32m   2353\u001b[0m           self, state_manager, training=training)\n\u001b[0;32m   2354\u001b[0m     \u001b[1;32mexcept\u001b[0m \u001b[0mTypeError\u001b[0m\u001b[1;33m:\u001b[0m\u001b[1;33m\u001b[0m\u001b[1;33m\u001b[0m\u001b[0m\n\u001b[1;32m-> 2355\u001b[1;33m       \u001b[0mtransformed\u001b[0m \u001b[1;33m=\u001b[0m \u001b[0mcolumn\u001b[0m\u001b[1;33m.\u001b[0m\u001b[0mtransform_feature\u001b[0m\u001b[1;33m(\u001b[0m\u001b[0mself\u001b[0m\u001b[1;33m,\u001b[0m \u001b[0mstate_manager\u001b[0m\u001b[1;33m)\u001b[0m\u001b[1;33m\u001b[0m\u001b[1;33m\u001b[0m\u001b[0m\n\u001b[0m\u001b[0;32m   2356\u001b[0m     \u001b[1;32mif\u001b[0m \u001b[0mtransformed\u001b[0m \u001b[1;32mis\u001b[0m \u001b[1;32mNone\u001b[0m\u001b[1;33m:\u001b[0m\u001b[1;33m\u001b[0m\u001b[1;33m\u001b[0m\u001b[0m\n\u001b[0;32m   2357\u001b[0m       \u001b[1;32mraise\u001b[0m \u001b[0mValueError\u001b[0m\u001b[1;33m(\u001b[0m\u001b[1;34m'Column {} is not supported.'\u001b[0m\u001b[1;33m.\u001b[0m\u001b[0mformat\u001b[0m\u001b[1;33m(\u001b[0m\u001b[0mcolumn\u001b[0m\u001b[1;33m.\u001b[0m\u001b[0mname\u001b[0m\u001b[1;33m)\u001b[0m\u001b[1;33m)\u001b[0m\u001b[1;33m\u001b[0m\u001b[1;33m\u001b[0m\u001b[0m\n",
      "\u001b[1;32m~\\AppData\\Roaming\\Python\\Python38\\site-packages\\tensorflow\\python\\feature_column\\feature_column_v2.py\u001b[0m in \u001b[0;36mtransform_feature\u001b[1;34m(self, transformation_cache, state_manager)\u001b[0m\n\u001b[0;32m   4092\u001b[0m       \u001b[0mValueError\u001b[0m\u001b[1;33m:\u001b[0m \u001b[1;32mif\u001b[0m \u001b[0minput\u001b[0m \u001b[0mrank\u001b[0m \u001b[1;32mis\u001b[0m \u001b[1;32mnot\u001b[0m \u001b[0mknown\u001b[0m \u001b[0mat\u001b[0m \u001b[0mgraph\u001b[0m \u001b[0mbuilding\u001b[0m \u001b[0mtime\u001b[0m\u001b[1;33m.\u001b[0m\u001b[1;33m\u001b[0m\u001b[1;33m\u001b[0m\u001b[0m\n\u001b[0;32m   4093\u001b[0m     \"\"\"\n\u001b[1;32m-> 4094\u001b[1;33m     id_weight_pair = self.categorical_column.get_sparse_tensors(\n\u001b[0m\u001b[0;32m   4095\u001b[0m         transformation_cache, state_manager)\n\u001b[0;32m   4096\u001b[0m     return self._transform_id_weight_pair(id_weight_pair,\n",
      "\u001b[1;32m~\\AppData\\Roaming\\Python\\Python38\\site-packages\\tensorflow\\python\\feature_column\\feature_column_v2.py\u001b[0m in \u001b[0;36mget_sparse_tensors\u001b[1;34m(self, transformation_cache, state_manager)\u001b[0m\n\u001b[0;32m   3950\u001b[0m     \u001b[1;34m\"\"\"See `CategoricalColumn` base class.\"\"\"\u001b[0m\u001b[1;33m\u001b[0m\u001b[1;33m\u001b[0m\u001b[0m\n\u001b[0;32m   3951\u001b[0m     return CategoricalColumn.IdWeightPair(\n\u001b[1;32m-> 3952\u001b[1;33m         transformation_cache.get(self, state_manager), None)\n\u001b[0m\u001b[0;32m   3953\u001b[0m \u001b[1;33m\u001b[0m\u001b[0m\n\u001b[0;32m   3954\u001b[0m   @deprecation.deprecated(_FEATURE_COLUMN_DEPRECATION_DATE,\n",
      "\u001b[1;32m~\\AppData\\Roaming\\Python\\Python38\\site-packages\\tensorflow\\python\\feature_column\\feature_column_v2.py\u001b[0m in \u001b[0;36mget\u001b[1;34m(self, key, state_manager, training)\u001b[0m\n\u001b[0;32m   2353\u001b[0m           self, state_manager, training=training)\n\u001b[0;32m   2354\u001b[0m     \u001b[1;32mexcept\u001b[0m \u001b[0mTypeError\u001b[0m\u001b[1;33m:\u001b[0m\u001b[1;33m\u001b[0m\u001b[1;33m\u001b[0m\u001b[0m\n\u001b[1;32m-> 2355\u001b[1;33m       \u001b[0mtransformed\u001b[0m \u001b[1;33m=\u001b[0m \u001b[0mcolumn\u001b[0m\u001b[1;33m.\u001b[0m\u001b[0mtransform_feature\u001b[0m\u001b[1;33m(\u001b[0m\u001b[0mself\u001b[0m\u001b[1;33m,\u001b[0m \u001b[0mstate_manager\u001b[0m\u001b[1;33m)\u001b[0m\u001b[1;33m\u001b[0m\u001b[1;33m\u001b[0m\u001b[0m\n\u001b[0m\u001b[0;32m   2356\u001b[0m     \u001b[1;32mif\u001b[0m \u001b[0mtransformed\u001b[0m \u001b[1;32mis\u001b[0m \u001b[1;32mNone\u001b[0m\u001b[1;33m:\u001b[0m\u001b[1;33m\u001b[0m\u001b[1;33m\u001b[0m\u001b[0m\n\u001b[0;32m   2357\u001b[0m       \u001b[1;32mraise\u001b[0m \u001b[0mValueError\u001b[0m\u001b[1;33m(\u001b[0m\u001b[1;34m'Column {} is not supported.'\u001b[0m\u001b[1;33m.\u001b[0m\u001b[0mformat\u001b[0m\u001b[1;33m(\u001b[0m\u001b[0mcolumn\u001b[0m\u001b[1;33m.\u001b[0m\u001b[0mname\u001b[0m\u001b[1;33m)\u001b[0m\u001b[1;33m)\u001b[0m\u001b[1;33m\u001b[0m\u001b[1;33m\u001b[0m\u001b[0m\n",
      "\u001b[1;32m~\\AppData\\Roaming\\Python\\Python38\\site-packages\\tensorflow\\python\\feature_column\\feature_column_v2.py\u001b[0m in \u001b[0;36mtransform_feature\u001b[1;34m(self, transformation_cache, state_manager)\u001b[0m\n\u001b[0;32m   3908\u001b[0m       \u001b[1;32melse\u001b[0m\u001b[1;33m:\u001b[0m\u001b[1;33m\u001b[0m\u001b[1;33m\u001b[0m\u001b[0m\n\u001b[0;32m   3909\u001b[0m         \u001b[1;32mraise\u001b[0m \u001b[0mValueError\u001b[0m\u001b[1;33m(\u001b[0m\u001b[1;34m'Unsupported column type. Given: {}'\u001b[0m\u001b[1;33m.\u001b[0m\u001b[0mformat\u001b[0m\u001b[1;33m(\u001b[0m\u001b[0mkey\u001b[0m\u001b[1;33m)\u001b[0m\u001b[1;33m)\u001b[0m\u001b[1;33m\u001b[0m\u001b[1;33m\u001b[0m\u001b[0m\n\u001b[1;32m-> 3910\u001b[1;33m     return sparse_ops.sparse_cross_hashed(\n\u001b[0m\u001b[0;32m   3911\u001b[0m         \u001b[0minputs\u001b[0m\u001b[1;33m=\u001b[0m\u001b[0mfeature_tensors\u001b[0m\u001b[1;33m,\u001b[0m\u001b[1;33m\u001b[0m\u001b[1;33m\u001b[0m\u001b[0m\n\u001b[0;32m   3912\u001b[0m         \u001b[0mnum_buckets\u001b[0m\u001b[1;33m=\u001b[0m\u001b[0mself\u001b[0m\u001b[1;33m.\u001b[0m\u001b[0mhash_bucket_size\u001b[0m\u001b[1;33m,\u001b[0m\u001b[1;33m\u001b[0m\u001b[1;33m\u001b[0m\u001b[0m\n",
      "\u001b[1;32m~\\AppData\\Roaming\\Python\\Python38\\site-packages\\tensorflow\\python\\ops\\sparse_ops.py\u001b[0m in \u001b[0;36msparse_cross_hashed\u001b[1;34m(inputs, num_buckets, hash_key, name)\u001b[0m\n\u001b[0;32m    671\u001b[0m     \u001b[0mA\u001b[0m\u001b[0;31m \u001b[0m\u001b[0;31m`\u001b[0m\u001b[0mSparseTensor\u001b[0m\u001b[0;31m`\u001b[0m \u001b[0mof\u001b[0m \u001b[0mtype\u001b[0m\u001b[0;31m \u001b[0m\u001b[0;31m`\u001b[0m\u001b[0mint64\u001b[0m\u001b[0;31m`\u001b[0m\u001b[1;33m.\u001b[0m\u001b[1;33m\u001b[0m\u001b[1;33m\u001b[0m\u001b[0m\n\u001b[0;32m    672\u001b[0m   \"\"\"\n\u001b[1;32m--> 673\u001b[1;33m   return _sparse_cross_internal(\n\u001b[0m\u001b[0;32m    674\u001b[0m       \u001b[0minputs\u001b[0m\u001b[1;33m=\u001b[0m\u001b[0minputs\u001b[0m\u001b[1;33m,\u001b[0m\u001b[1;33m\u001b[0m\u001b[1;33m\u001b[0m\u001b[0m\n\u001b[0;32m    675\u001b[0m       \u001b[0mhashed_output\u001b[0m\u001b[1;33m=\u001b[0m\u001b[1;32mTrue\u001b[0m\u001b[1;33m,\u001b[0m\u001b[1;33m\u001b[0m\u001b[1;33m\u001b[0m\u001b[0m\n",
      "\u001b[1;32m~\\AppData\\Roaming\\Python\\Python38\\site-packages\\tensorflow\\python\\ops\\sparse_ops.py\u001b[0m in \u001b[0;36m_sparse_cross_internal\u001b[1;34m(inputs, hashed_output, num_buckets, hash_key, name)\u001b[0m\n\u001b[0;32m    745\u001b[0m       \u001b[0minternal_type\u001b[0m \u001b[1;33m=\u001b[0m \u001b[0mdtypes\u001b[0m\u001b[1;33m.\u001b[0m\u001b[0mint64\u001b[0m\u001b[1;33m\u001b[0m\u001b[1;33m\u001b[0m\u001b[0m\n\u001b[0;32m    746\u001b[0m \u001b[1;33m\u001b[0m\u001b[0m\n\u001b[1;32m--> 747\u001b[1;33m   indices_out, values_out, shape_out = gen_sparse_ops.sparse_cross(\n\u001b[0m\u001b[0;32m    748\u001b[0m       \u001b[0mindices\u001b[0m\u001b[1;33m=\u001b[0m\u001b[0mindices\u001b[0m\u001b[1;33m,\u001b[0m\u001b[1;33m\u001b[0m\u001b[1;33m\u001b[0m\u001b[0m\n\u001b[0;32m    749\u001b[0m       \u001b[0mvalues\u001b[0m\u001b[1;33m=\u001b[0m\u001b[0mvalues\u001b[0m\u001b[1;33m,\u001b[0m\u001b[1;33m\u001b[0m\u001b[1;33m\u001b[0m\u001b[0m\n",
      "\u001b[1;32m~\\AppData\\Roaming\\Python\\Python38\\site-packages\\tensorflow\\python\\ops\\gen_sparse_ops.py\u001b[0m in \u001b[0;36msparse_cross\u001b[1;34m(indices, values, shapes, dense_inputs, hashed_output, num_buckets, hash_key, out_type, internal_type, name)\u001b[0m\n\u001b[0;32m   1056\u001b[0m       \u001b[1;32mpass\u001b[0m\u001b[1;33m\u001b[0m\u001b[1;33m\u001b[0m\u001b[0m\n\u001b[0;32m   1057\u001b[0m     \u001b[1;32mtry\u001b[0m\u001b[1;33m:\u001b[0m\u001b[1;33m\u001b[0m\u001b[1;33m\u001b[0m\u001b[0m\n\u001b[1;32m-> 1058\u001b[1;33m       return sparse_cross_eager_fallback(\n\u001b[0m\u001b[0;32m   1059\u001b[0m           \u001b[0mindices\u001b[0m\u001b[1;33m,\u001b[0m \u001b[0mvalues\u001b[0m\u001b[1;33m,\u001b[0m \u001b[0mshapes\u001b[0m\u001b[1;33m,\u001b[0m \u001b[0mdense_inputs\u001b[0m\u001b[1;33m,\u001b[0m \u001b[0mhashed_output\u001b[0m\u001b[1;33m=\u001b[0m\u001b[0mhashed_output\u001b[0m\u001b[1;33m,\u001b[0m\u001b[1;33m\u001b[0m\u001b[1;33m\u001b[0m\u001b[0m\n\u001b[0;32m   1060\u001b[0m           \u001b[0mnum_buckets\u001b[0m\u001b[1;33m=\u001b[0m\u001b[0mnum_buckets\u001b[0m\u001b[1;33m,\u001b[0m \u001b[0mhash_key\u001b[0m\u001b[1;33m=\u001b[0m\u001b[0mhash_key\u001b[0m\u001b[1;33m,\u001b[0m \u001b[0mout_type\u001b[0m\u001b[1;33m=\u001b[0m\u001b[0mout_type\u001b[0m\u001b[1;33m,\u001b[0m\u001b[1;33m\u001b[0m\u001b[1;33m\u001b[0m\u001b[0m\n",
      "\u001b[1;32m~\\AppData\\Roaming\\Python\\Python38\\site-packages\\tensorflow\\python\\ops\\gen_sparse_ops.py\u001b[0m in \u001b[0;36msparse_cross_eager_fallback\u001b[1;34m(indices, values, shapes, dense_inputs, hashed_output, num_buckets, hash_key, out_type, internal_type, name, ctx)\u001b[0m\n\u001b[0;32m   1136\u001b[0m   \u001b[1;34m\"dense_types\"\u001b[0m\u001b[1;33m,\u001b[0m \u001b[0m_attr_dense_types\u001b[0m\u001b[1;33m,\u001b[0m \u001b[1;34m\"out_type\"\u001b[0m\u001b[1;33m,\u001b[0m \u001b[0mout_type\u001b[0m\u001b[1;33m,\u001b[0m \u001b[1;34m\"internal_type\"\u001b[0m\u001b[1;33m,\u001b[0m\u001b[1;33m\u001b[0m\u001b[1;33m\u001b[0m\u001b[0m\n\u001b[0;32m   1137\u001b[0m   internal_type)\n\u001b[1;32m-> 1138\u001b[1;33m   _result = _execute.execute(b\"SparseCross\", 3, inputs=_inputs_flat,\n\u001b[0m\u001b[0;32m   1139\u001b[0m                              attrs=_attrs, ctx=ctx, name=name)\n\u001b[0;32m   1140\u001b[0m   \u001b[1;32mif\u001b[0m \u001b[0m_execute\u001b[0m\u001b[1;33m.\u001b[0m\u001b[0mmust_record_gradient\u001b[0m\u001b[1;33m(\u001b[0m\u001b[1;33m)\u001b[0m\u001b[1;33m:\u001b[0m\u001b[1;33m\u001b[0m\u001b[1;33m\u001b[0m\u001b[0m\n",
      "\u001b[1;32m~\\AppData\\Roaming\\Python\\Python38\\site-packages\\tensorflow\\python\\eager\\execute.py\u001b[0m in \u001b[0;36mquick_execute\u001b[1;34m(op_name, num_outputs, inputs, attrs, ctx, name)\u001b[0m\n\u001b[0;32m     57\u001b[0m   \u001b[1;32mtry\u001b[0m\u001b[1;33m:\u001b[0m\u001b[1;33m\u001b[0m\u001b[1;33m\u001b[0m\u001b[0m\n\u001b[0;32m     58\u001b[0m     \u001b[0mctx\u001b[0m\u001b[1;33m.\u001b[0m\u001b[0mensure_initialized\u001b[0m\u001b[1;33m(\u001b[0m\u001b[1;33m)\u001b[0m\u001b[1;33m\u001b[0m\u001b[1;33m\u001b[0m\u001b[0m\n\u001b[1;32m---> 59\u001b[1;33m     tensors = pywrap_tfe.TFE_Py_Execute(ctx._handle, device_name, op_name,\n\u001b[0m\u001b[0;32m     60\u001b[0m                                         inputs, attrs, num_outputs)\n\u001b[0;32m     61\u001b[0m   \u001b[1;32mexcept\u001b[0m \u001b[0mcore\u001b[0m\u001b[1;33m.\u001b[0m\u001b[0m_NotOkStatusException\u001b[0m \u001b[1;32mas\u001b[0m \u001b[0me\u001b[0m\u001b[1;33m:\u001b[0m\u001b[1;33m\u001b[0m\u001b[1;33m\u001b[0m\u001b[0m\n",
      "\u001b[1;31mOverflowError\u001b[0m: Python int too large to convert to C long"
     ]
    }
   ],
   "source": [
    "crossed_feature = tf.feature_column.crossed_column([age_bucketized,animal_type], hash_bucket_size = 100)\n",
    "demo(tf.feature_column.indicator_column(crossed_feature))"
   ]
  },
  {
   "source": [
    "How to implement feature columns"
   ],
   "cell_type": "markdown",
   "metadata": {}
  },
  {
   "cell_type": "code",
   "execution_count": 108,
   "metadata": {},
   "outputs": [],
   "source": [
    "feature_columns = []\n",
    "#remove target from features\n",
    "attributes = train.columns.tolist()[:-1]\n",
    "\n",
    "numeric_columns = [value for value in attributes if re.match(r'int[0-9]*',str(train.dtypes.to_dict()[value])) != None]\n",
    "\n",
    "#numeric columns\n",
    "for header in numeric_columns:\n",
    "    feature_columns.append(tf.feature_column.numeric_column(header))"
   ]
  },
  {
   "cell_type": "code",
   "execution_count": 109,
   "metadata": {},
   "outputs": [],
   "source": [
    "#bucketized_cols\n",
    "age = tf.feature_column.numeric_column('Age')\n",
    "age_buckets = tf.feature_column.bucketized_column(age, boundaries = [1,2,3,4,5])\n",
    "feature_columns.append(age_buckets)"
   ]
  },
  {
   "cell_type": "code",
   "execution_count": 110,
   "metadata": {},
   "outputs": [],
   "source": [
    "indicator_columns = ['Type', 'Color1', 'Color2', 'Gender', 'MaturitySize','FurLength', 'Vaccinated', 'Sterilized', 'Health']\n",
    "\n",
    "for header in indicator_columns:\n",
    "    categorical_column = tf.feature_column.categorical_column_with_vocabulary_list(header, petsdf[header].unique().tolist())\n",
    "    feature_columns.append(tf.feature_column.indicator_column(categorical_column))"
   ]
  },
  {
   "cell_type": "code",
   "execution_count": 111,
   "metadata": {},
   "outputs": [],
   "source": [
    "#embedding columns\n",
    "breed1 = tf.feature_column.categorical_column_with_vocabulary_list('Breed1',petsdf[\"Breed1\"].unique().tolist())\n",
    "breed1_embedding = tf.feature_column.embedding_column(breed1, dimension = 8)\n",
    "feature_columns.append(breed1_embedding)"
   ]
  },
  {
   "cell_type": "code",
   "execution_count": 112,
   "metadata": {},
   "outputs": [],
   "source": [
    "age_type_feature = tf.feature_column.crossed_column([age_buckets,animal_type], hash_bucket_size = 100)\n",
    "feature_columns.append(tf.feature_column.indicator_column(age_type_feature))"
   ]
  },
  {
   "source": [
    "Now that we have defined all out column transformations using the Feature API, we can create a DenseFeatures layer to input to Keras model"
   ],
   "cell_type": "markdown",
   "metadata": {}
  },
  {
   "cell_type": "code",
   "execution_count": 113,
   "metadata": {},
   "outputs": [],
   "source": [
    "feature_layer = tf.keras.layers.DenseFeatures(feature_columns)"
   ]
  },
  {
   "cell_type": "code",
   "execution_count": 114,
   "metadata": {},
   "outputs": [],
   "source": [
    "#earlier we only used 5 instances per batch. Now we use 32\n",
    "train_ds = df_to_dataset(train,batch_size=32)\n",
    "val_ds = df_to_dataset(val,shuffle = False, batch_size=32)\n",
    "test_ds = df_to_dataset(test,shuffle = False, batch_size=32)"
   ]
  },
  {
   "cell_type": "code",
   "execution_count": 116,
   "metadata": {},
   "outputs": [],
   "source": [
    "model = tf.keras.models.Sequential()\n",
    "model.add(feature_layer)\n",
    "model.add(tf.keras.layers.Dense(128,activation = 'relu'))\n",
    "model.add(tf.keras.layers.Dense(128,activation = 'relu'))\n",
    "model.add(tf.keras.layers.Dropout(0.1))\n",
    "model.add(tf.keras.layers.Dense(1))"
   ]
  },
  {
   "source": [
    "<h3> More on encoding categorical features using one hot vectors </h3> \n",
    "\n",
    "No matter which option you choose to build a categorical feature (categorical, bucketized or crossed columns), it must be encoded before feeding into the neural network. \n",
    "\n",
    "A one-hot vector encoding has the size of the vocabulary length, which is fine if there are only few categories. \n",
    "\n",
    "But if the vocabulary is large, it ends up with too many inputs resulting in too many weights to learn. \n",
    "\n",
    "As a rule of thumb, if the number of categories is lower than 10, then one-hot encoding is generally the way to go. If the number of categories is greater than 50, we use embedding. "
   ],
   "cell_type": "markdown",
   "metadata": {}
  },
  {
   "source": [
    "<h3> Encoding using embeddings </h3> \n",
    "\n",
    "Embedding is a trainable dense vector that represents a category. "
   ],
   "cell_type": "markdown",
   "metadata": {}
  },
  {
   "cell_type": "code",
   "execution_count": 122,
   "metadata": {},
   "outputs": [
    {
     "output_type": "execute_result",
     "data": {
      "text/plain": [
       "{('Cat', 'Abyssinian'),\n",
       " ('Cat', 'American Curl'),\n",
       " ('Cat', 'American Shorthair'),\n",
       " ('Cat', 'American Wirehair'),\n",
       " ('Cat', 'Applehead Siamese'),\n",
       " ('Cat', 'Australian Kelpie'),\n",
       " ('Cat', 'Balinese'),\n",
       " ('Cat', 'Belgian Shepherd Laekenois'),\n",
       " ('Cat', 'Bengal'),\n",
       " ('Cat', 'Birman'),\n",
       " ('Cat', 'Bobtail'),\n",
       " ('Cat', 'Bombay'),\n",
       " ('Cat', 'British Shorthair'),\n",
       " ('Cat', 'Burmese'),\n",
       " ('Cat', 'Burmilla'),\n",
       " ('Cat', 'Calico'),\n",
       " ('Cat', 'Chartreux'),\n",
       " ('Cat', 'Chausie'),\n",
       " ('Cat', 'Collie'),\n",
       " ('Cat', 'Cymric'),\n",
       " ('Cat', 'Dilute Calico'),\n",
       " ('Cat', 'Dilute Tortoiseshell'),\n",
       " ('Cat', 'Domestic Long Hair'),\n",
       " ('Cat', 'Domestic Medium Hair'),\n",
       " ('Cat', 'Domestic Short Hair'),\n",
       " ('Cat', 'Egyptian Mau'),\n",
       " ('Cat', 'Exotic Shorthair'),\n",
       " ('Cat', 'Extra-Toes Cat (Hemingway Polydactyl)'),\n",
       " ('Cat', 'Havana'),\n",
       " ('Cat', 'Himalayan'),\n",
       " ('Cat', 'Japanese Bobtail'),\n",
       " ('Cat', 'Javanese'),\n",
       " ('Cat', 'Korat'),\n",
       " ('Cat', 'Maine Coon'),\n",
       " ('Cat', 'Manx'),\n",
       " ('Cat', 'Mixed Breed'),\n",
       " ('Cat', 'Nebelung'),\n",
       " ('Cat', 'Norwegian Forest Cat'),\n",
       " ('Cat', 'Ocicat'),\n",
       " ('Cat', 'Oriental Long Hair'),\n",
       " ('Cat', 'Oriental Short Hair'),\n",
       " ('Cat', 'Oriental Tabby'),\n",
       " ('Cat', 'Persian'),\n",
       " ('Cat', 'Ragamuffin'),\n",
       " ('Cat', 'Ragdoll'),\n",
       " ('Cat', 'Russian Blue'),\n",
       " ('Cat', 'Shih Tzu'),\n",
       " ('Cat', 'Siamese'),\n",
       " ('Cat', 'Siberian'),\n",
       " ('Cat', 'Silver'),\n",
       " ('Cat', 'Singapura'),\n",
       " ('Cat', 'Snowshoe'),\n",
       " ('Cat', 'Somali'),\n",
       " ('Cat', 'Sphynx (hairless cat)'),\n",
       " ('Cat', 'Tabby'),\n",
       " ('Cat', 'Terrier'),\n",
       " ('Cat', 'Tiger'),\n",
       " ('Cat', 'Tonkinese'),\n",
       " ('Cat', 'Torbie'),\n",
       " ('Cat', 'Tortoiseshell'),\n",
       " ('Cat', 'Turkish Angora'),\n",
       " ('Cat', 'Turkish Van'),\n",
       " ('Cat', 'Tuxedo')}"
      ]
     },
     "metadata": {},
     "execution_count": 122
    }
   ],
   "source": [
    "df_cat = petsdf.loc[petsdf[\"Type\"] == \"Cat\"]\n",
    "unique_cat_breed_pairs = set(tuple(zip(df_cat[\"Type\"],df_cat[\"Breed1\"])))\n",
    "unique_cat_breed_pairs"
   ]
  },
  {
   "cell_type": "code",
   "execution_count": 123,
   "metadata": {},
   "outputs": [
    {
     "output_type": "execute_result",
     "data": {
      "text/plain": [
       "{('Dog', '0'),\n",
       " ('Dog', 'Akita'),\n",
       " ('Dog', 'American Bulldog'),\n",
       " ('Dog', 'American Staffordshire Terrier'),\n",
       " ('Dog', 'American Water Spaniel'),\n",
       " ('Dog', 'Australian Kelpie'),\n",
       " ('Dog', 'Australian Shepherd'),\n",
       " ('Dog', 'Australian Terrier'),\n",
       " ('Dog', 'Basenji'),\n",
       " ('Dog', 'Basset Hound'),\n",
       " ('Dog', 'Beagle'),\n",
       " ('Dog', 'Bedlington Terrier'),\n",
       " ('Dog', 'Belgian Shepherd Dog Sheepdog'),\n",
       " ('Dog', 'Belgian Shepherd Laekenois'),\n",
       " ('Dog', 'Belgian Shepherd Malinois'),\n",
       " ('Dog', 'Black Labrador Retriever'),\n",
       " ('Dog', 'Black Mouth Cur'),\n",
       " ('Dog', 'Border Collie'),\n",
       " ('Dog', 'Boston Terrier'),\n",
       " ('Dog', 'Boxer'),\n",
       " ('Dog', 'Bull Terrier'),\n",
       " ('Dog', 'Bullmastiff'),\n",
       " ('Dog', 'Cattle Dog'),\n",
       " ('Dog', 'Cavalier King Charles Spaniel'),\n",
       " ('Dog', 'Chihuahua'),\n",
       " ('Dog', 'Chinese Crested Dog'),\n",
       " ('Dog', 'Chow Chow'),\n",
       " ('Dog', 'Cocker Spaniel'),\n",
       " ('Dog', 'Collie'),\n",
       " ('Dog', 'Coonhound'),\n",
       " ('Dog', 'Corgi'),\n",
       " ('Dog', 'Dachshund'),\n",
       " ('Dog', 'Dalmatian'),\n",
       " ('Dog', 'Doberman Pinscher'),\n",
       " ('Dog', 'Dutch Shepherd'),\n",
       " ('Dog', 'English Bulldog'),\n",
       " ('Dog', 'English Cocker Spaniel'),\n",
       " ('Dog', 'English Pointer'),\n",
       " ('Dog', 'English Springer Spaniel'),\n",
       " ('Dog', 'Field Spaniel'),\n",
       " ('Dog', 'Flat-coated Retriever'),\n",
       " ('Dog', 'Fox Terrier'),\n",
       " ('Dog', 'Foxhound'),\n",
       " ('Dog', 'French Bulldog'),\n",
       " ('Dog', 'German Pinscher'),\n",
       " ('Dog', 'German Shepherd Dog'),\n",
       " ('Dog', 'German Spitz'),\n",
       " ('Dog', 'Glen of Imaal Terrier'),\n",
       " ('Dog', 'Golden Retriever'),\n",
       " ('Dog', 'Great Dane'),\n",
       " ('Dog', 'Greyhound'),\n",
       " ('Dog', 'Hound'),\n",
       " ('Dog', 'Husky'),\n",
       " ('Dog', 'Irish Setter'),\n",
       " ('Dog', 'Irish Terrier'),\n",
       " ('Dog', 'Irish Wolfhound'),\n",
       " ('Dog', 'Jack Russell Terrier'),\n",
       " ('Dog', 'Jack Russell Terrier (Parson Russell Terrier)'),\n",
       " ('Dog', 'Kai Dog'),\n",
       " ('Dog', 'Labrador Retriever'),\n",
       " ('Dog', 'Lancashire Heeler'),\n",
       " ('Dog', 'Lhasa Apso'),\n",
       " ('Dog', 'Lowchen'),\n",
       " ('Dog', 'Maltese'),\n",
       " ('Dog', 'Manchester Terrier'),\n",
       " ('Dog', 'Mastiff'),\n",
       " ('Dog', 'Miniature Pinscher'),\n",
       " ('Dog', 'Mixed Breed'),\n",
       " ('Dog', 'Mountain Dog'),\n",
       " ('Dog', 'Munsterlander'),\n",
       " ('Dog', 'Old English Sheepdog'),\n",
       " ('Dog', 'Papillon'),\n",
       " ('Dog', 'Pekingese'),\n",
       " ('Dog', 'Pit Bull Terrier'),\n",
       " ('Dog', 'Pointer'),\n",
       " ('Dog', 'Pomeranian'),\n",
       " ('Dog', 'Poodle'),\n",
       " ('Dog', 'Pug'),\n",
       " ('Dog', 'Rat Terrier'),\n",
       " ('Dog', 'Retriever'),\n",
       " ('Dog', 'Rhodesian Ridgeback'),\n",
       " ('Dog', 'Rottweiler'),\n",
       " ('Dog', 'Saint Bernard'),\n",
       " ('Dog', 'Samoyed'),\n",
       " ('Dog', 'Schnauzer'),\n",
       " ('Dog', 'Setter'),\n",
       " ('Dog', 'Shar Pei'),\n",
       " ('Dog', 'Shepherd'),\n",
       " ('Dog', 'Shetland Sheepdog Sheltie'),\n",
       " ('Dog', 'Shiba Inu'),\n",
       " ('Dog', 'Shih Tzu'),\n",
       " ('Dog', 'Siberian Husky'),\n",
       " ('Dog', 'Silky Terrier'),\n",
       " ('Dog', 'Spaniel'),\n",
       " ('Dog', 'Spitz'),\n",
       " ('Dog', 'Staffordshire Bull Terrier'),\n",
       " ('Dog', 'Standard Poodle'),\n",
       " ('Dog', 'Swedish Vallhund'),\n",
       " ('Dog', 'Terrier'),\n",
       " ('Dog', 'Toy Fox Terrier'),\n",
       " ('Dog', 'Weimaraner'),\n",
       " ('Dog', 'Welsh Corgi'),\n",
       " ('Dog', 'West Highland White Terrier Westie'),\n",
       " ('Dog', 'Wheaten Terrier'),\n",
       " ('Dog', 'Whippet'),\n",
       " ('Dog', 'White German Shepherd'),\n",
       " ('Dog', 'Wirehaired Terrier'),\n",
       " ('Dog', 'Yellow Labrador Retriever'),\n",
       " ('Dog', 'Yorkshire Terrier Yorkie')}"
      ]
     },
     "metadata": {},
     "execution_count": 123
    }
   ],
   "source": [
    "df_dog = petsdf.loc[petsdf[\"Type\"] == \"Dog\"]\n",
    "unique_dog_breed_pairs = set(tuple(zip(df_dog[\"Type\"],df_dog[\"Breed1\"])))\n",
    "unique_dog_breed_pairs"
   ]
  },
  {
   "cell_type": "code",
   "execution_count": 132,
   "metadata": {},
   "outputs": [],
   "source": [
    "combined_type_category = [\"{}_{}\".format(val[0],val[1]) for typelist in [unique_cat_breed_pairs,unique_dog_breed_pairs] for val in typelist]\n",
    "\n"
   ]
  },
  {
   "cell_type": "code",
   "execution_count": 133,
   "metadata": {},
   "outputs": [
    {
     "output_type": "execute_result",
     "data": {
      "text/plain": [
       "['Cat_Somali',\n",
       " 'Cat_Oriental Long Hair',\n",
       " 'Cat_Egyptian Mau',\n",
       " 'Cat_Domestic Long Hair',\n",
       " 'Cat_Manx',\n",
       " 'Cat_Balinese',\n",
       " 'Cat_Tuxedo',\n",
       " 'Cat_Dilute Tortoiseshell',\n",
       " 'Cat_American Curl',\n",
       " 'Cat_Nebelung',\n",
       " 'Cat_Maine Coon',\n",
       " 'Cat_Ocicat',\n",
       " 'Cat_Japanese Bobtail',\n",
       " 'Cat_Chausie',\n",
       " 'Cat_Bengal',\n",
       " 'Cat_Shih Tzu',\n",
       " 'Cat_Siamese',\n",
       " 'Cat_Ragamuffin',\n",
       " 'Cat_Applehead Siamese',\n",
       " 'Cat_Turkish Van',\n",
       " 'Cat_Javanese',\n",
       " 'Cat_Domestic Short Hair',\n",
       " 'Cat_Birman',\n",
       " 'Cat_Collie',\n",
       " 'Cat_Calico',\n",
       " 'Cat_Snowshoe',\n",
       " 'Cat_Burmilla',\n",
       " 'Cat_Korat',\n",
       " 'Cat_Australian Kelpie',\n",
       " 'Cat_Bobtail',\n",
       " 'Cat_Tonkinese',\n",
       " 'Cat_Domestic Medium Hair',\n",
       " 'Cat_Bombay',\n",
       " 'Cat_Norwegian Forest Cat',\n",
       " 'Cat_Singapura',\n",
       " 'Cat_Oriental Tabby',\n",
       " 'Cat_Belgian Shepherd Laekenois',\n",
       " 'Cat_Abyssinian',\n",
       " 'Cat_Havana',\n",
       " 'Cat_Tiger',\n",
       " 'Cat_Mixed Breed',\n",
       " 'Cat_Persian',\n",
       " 'Cat_Terrier',\n",
       " 'Cat_Siberian',\n",
       " 'Cat_Tortoiseshell',\n",
       " 'Cat_Extra-Toes Cat (Hemingway Polydactyl)',\n",
       " 'Cat_Tabby',\n",
       " 'Cat_Ragdoll',\n",
       " 'Cat_American Shorthair',\n",
       " 'Cat_Russian Blue',\n",
       " 'Cat_British Shorthair',\n",
       " 'Cat_Burmese',\n",
       " 'Cat_American Wirehair',\n",
       " 'Cat_Chartreux',\n",
       " 'Cat_Dilute Calico',\n",
       " 'Cat_Cymric',\n",
       " 'Cat_Sphynx (hairless cat)',\n",
       " 'Cat_Exotic Shorthair',\n",
       " 'Cat_Torbie',\n",
       " 'Cat_Silver',\n",
       " 'Cat_Himalayan',\n",
       " 'Cat_Oriental Short Hair',\n",
       " 'Cat_Turkish Angora',\n",
       " 'Dog_Australian Shepherd',\n",
       " 'Dog_English Pointer',\n",
       " 'Dog_Australian Kelpie',\n",
       " 'Dog_Dutch Shepherd',\n",
       " 'Dog_Fox Terrier',\n",
       " 'Dog_German Shepherd Dog',\n",
       " 'Dog_Swedish Vallhund',\n",
       " 'Dog_Silky Terrier',\n",
       " 'Dog_Irish Setter',\n",
       " 'Dog_Kai Dog',\n",
       " 'Dog_Akita',\n",
       " 'Dog_German Pinscher',\n",
       " 'Dog_Chow Chow',\n",
       " 'Dog_Cavalier King Charles Spaniel',\n",
       " 'Dog_Standard Poodle',\n",
       " 'Dog_Black Mouth Cur',\n",
       " 'Dog_White German Shepherd',\n",
       " 'Dog_Hound',\n",
       " 'Dog_Bedlington Terrier',\n",
       " 'Dog_Dalmatian',\n",
       " 'Dog_English Springer Spaniel',\n",
       " 'Dog_Border Collie',\n",
       " 'Dog_Pug',\n",
       " 'Dog_Foxhound',\n",
       " 'Dog_Papillon',\n",
       " 'Dog_Cattle Dog',\n",
       " 'Dog_Setter',\n",
       " 'Dog_Weimaraner',\n",
       " 'Dog_Terrier',\n",
       " 'Dog_Boston Terrier',\n",
       " 'Dog_West Highland White Terrier Westie',\n",
       " 'Dog_Saint Bernard',\n",
       " 'Dog_Field Spaniel',\n",
       " 'Dog_Rottweiler',\n",
       " 'Dog_English Cocker Spaniel',\n",
       " 'Dog_Black Labrador Retriever',\n",
       " 'Dog_Cocker Spaniel',\n",
       " 'Dog_Maltese',\n",
       " 'Dog_Irish Terrier',\n",
       " 'Dog_Rhodesian Ridgeback',\n",
       " 'Dog_Lowchen',\n",
       " 'Dog_Chihuahua',\n",
       " 'Dog_Jack Russell Terrier (Parson Russell Terrier)',\n",
       " 'Dog_Golden Retriever',\n",
       " 'Dog_Bull Terrier',\n",
       " 'Dog_Old English Sheepdog',\n",
       " 'Dog_Collie',\n",
       " 'Dog_Lancashire Heeler',\n",
       " 'Dog_Belgian Shepherd Malinois',\n",
       " 'Dog_Belgian Shepherd Laekenois',\n",
       " 'Dog_Staffordshire Bull Terrier',\n",
       " 'Dog_Shetland Sheepdog Sheltie',\n",
       " 'Dog_Spaniel',\n",
       " 'Dog_American Water Spaniel',\n",
       " 'Dog_Toy Fox Terrier',\n",
       " 'Dog_American Bulldog',\n",
       " 'Dog_Pointer',\n",
       " 'Dog_Schnauzer',\n",
       " 'Dog_Basset Hound',\n",
       " 'Dog_Chinese Crested Dog',\n",
       " 'Dog_Miniature Pinscher',\n",
       " 'Dog_Whippet',\n",
       " 'Dog_Jack Russell Terrier',\n",
       " 'Dog_Pit Bull Terrier',\n",
       " 'Dog_Coonhound',\n",
       " 'Dog_Dachshund',\n",
       " 'Dog_Flat-coated Retriever',\n",
       " 'Dog_Manchester Terrier',\n",
       " 'Dog_Samoyed',\n",
       " 'Dog_Pomeranian',\n",
       " 'Dog_German Spitz',\n",
       " 'Dog_Shepherd',\n",
       " 'Dog_Great Dane',\n",
       " 'Dog_Greyhound',\n",
       " 'Dog_Mastiff',\n",
       " 'Dog_Australian Terrier',\n",
       " 'Dog_Yorkshire Terrier Yorkie',\n",
       " 'Dog_Pekingese',\n",
       " 'Dog_Glen of Imaal Terrier',\n",
       " 'Dog_Shih Tzu',\n",
       " 'Dog_French Bulldog',\n",
       " 'Dog_Mountain Dog',\n",
       " 'Dog_Bullmastiff',\n",
       " 'Dog_Poodle',\n",
       " 'Dog_Lhasa Apso',\n",
       " 'Dog_Retriever',\n",
       " 'Dog_Belgian Shepherd Dog Sheepdog',\n",
       " 'Dog_Siberian Husky',\n",
       " 'Dog_English Bulldog',\n",
       " 'Dog_Corgi',\n",
       " 'Dog_Mixed Breed',\n",
       " 'Dog_Labrador Retriever',\n",
       " 'Dog_Yellow Labrador Retriever',\n",
       " 'Dog_Welsh Corgi',\n",
       " 'Dog_Basenji',\n",
       " 'Dog_Wirehaired Terrier',\n",
       " 'Dog_American Staffordshire Terrier',\n",
       " 'Dog_Doberman Pinscher',\n",
       " 'Dog_Beagle',\n",
       " 'Dog_Spitz',\n",
       " 'Dog_0',\n",
       " 'Dog_Wheaten Terrier',\n",
       " 'Dog_Shiba Inu',\n",
       " 'Dog_Munsterlander',\n",
       " 'Dog_Rat Terrier',\n",
       " 'Dog_Irish Wolfhound',\n",
       " 'Dog_Boxer',\n",
       " 'Dog_Shar Pei',\n",
       " 'Dog_Husky']"
      ]
     },
     "metadata": {},
     "execution_count": 133
    }
   ],
   "source": [
    "combined_type_category"
   ]
  },
  {
   "cell_type": "code",
   "execution_count": 134,
   "metadata": {},
   "outputs": [],
   "source": [
    "type_breed_combo = tf.feature_column.categorical_column_with_vocabulary_list(\"type_breed_combo\",combined_type_category)\n",
    "embedded_type_breed = tf.feature_column.embedding_column(type_breed_combo,dimension = 2)"
   ]
  },
  {
   "cell_type": "code",
   "execution_count": 135,
   "metadata": {},
   "outputs": [
    {
     "output_type": "execute_result",
     "data": {
      "text/plain": [
       "EmbeddingColumn(categorical_column=VocabularyListCategoricalColumn(key='type_breed_combo', vocabulary_list=('Cat_Somali', 'Cat_Oriental Long Hair', 'Cat_Egyptian Mau', 'Cat_Domestic Long Hair', 'Cat_Manx', 'Cat_Balinese', 'Cat_Tuxedo', 'Cat_Dilute Tortoiseshell', 'Cat_American Curl', 'Cat_Nebelung', 'Cat_Maine Coon', 'Cat_Ocicat', 'Cat_Japanese Bobtail', 'Cat_Chausie', 'Cat_Bengal', 'Cat_Shih Tzu', 'Cat_Siamese', 'Cat_Ragamuffin', 'Cat_Applehead Siamese', 'Cat_Turkish Van', 'Cat_Javanese', 'Cat_Domestic Short Hair', 'Cat_Birman', 'Cat_Collie', 'Cat_Calico', 'Cat_Snowshoe', 'Cat_Burmilla', 'Cat_Korat', 'Cat_Australian Kelpie', 'Cat_Bobtail', 'Cat_Tonkinese', 'Cat_Domestic Medium Hair', 'Cat_Bombay', 'Cat_Norwegian Forest Cat', 'Cat_Singapura', 'Cat_Oriental Tabby', 'Cat_Belgian Shepherd Laekenois', 'Cat_Abyssinian', 'Cat_Havana', 'Cat_Tiger', 'Cat_Mixed Breed', 'Cat_Persian', 'Cat_Terrier', 'Cat_Siberian', 'Cat_Tortoiseshell', 'Cat_Extra-Toes Cat (Hemingway Polydactyl)', 'Cat_Tabby', 'Cat_Ragdoll', 'Cat_American Shorthair', 'Cat_Russian Blue', 'Cat_British Shorthair', 'Cat_Burmese', 'Cat_American Wirehair', 'Cat_Chartreux', 'Cat_Dilute Calico', 'Cat_Cymric', 'Cat_Sphynx (hairless cat)', 'Cat_Exotic Shorthair', 'Cat_Torbie', 'Cat_Silver', 'Cat_Himalayan', 'Cat_Oriental Short Hair', 'Cat_Turkish Angora', 'Dog_Australian Shepherd', 'Dog_English Pointer', 'Dog_Australian Kelpie', 'Dog_Dutch Shepherd', 'Dog_Fox Terrier', 'Dog_German Shepherd Dog', 'Dog_Swedish Vallhund', 'Dog_Silky Terrier', 'Dog_Irish Setter', 'Dog_Kai Dog', 'Dog_Akita', 'Dog_German Pinscher', 'Dog_Chow Chow', 'Dog_Cavalier King Charles Spaniel', 'Dog_Standard Poodle', 'Dog_Black Mouth Cur', 'Dog_White German Shepherd', 'Dog_Hound', 'Dog_Bedlington Terrier', 'Dog_Dalmatian', 'Dog_English Springer Spaniel', 'Dog_Border Collie', 'Dog_Pug', 'Dog_Foxhound', 'Dog_Papillon', 'Dog_Cattle Dog', 'Dog_Setter', 'Dog_Weimaraner', 'Dog_Terrier', 'Dog_Boston Terrier', 'Dog_West Highland White Terrier Westie', 'Dog_Saint Bernard', 'Dog_Field Spaniel', 'Dog_Rottweiler', 'Dog_English Cocker Spaniel', 'Dog_Black Labrador Retriever', 'Dog_Cocker Spaniel', 'Dog_Maltese', 'Dog_Irish Terrier', 'Dog_Rhodesian Ridgeback', 'Dog_Lowchen', 'Dog_Chihuahua', 'Dog_Jack Russell Terrier (Parson Russell Terrier)', 'Dog_Golden Retriever', 'Dog_Bull Terrier', 'Dog_Old English Sheepdog', 'Dog_Collie', 'Dog_Lancashire Heeler', 'Dog_Belgian Shepherd Malinois', 'Dog_Belgian Shepherd Laekenois', 'Dog_Staffordshire Bull Terrier', 'Dog_Shetland Sheepdog Sheltie', 'Dog_Spaniel', 'Dog_American Water Spaniel', 'Dog_Toy Fox Terrier', 'Dog_American Bulldog', 'Dog_Pointer', 'Dog_Schnauzer', 'Dog_Basset Hound', 'Dog_Chinese Crested Dog', 'Dog_Miniature Pinscher', 'Dog_Whippet', 'Dog_Jack Russell Terrier', 'Dog_Pit Bull Terrier', 'Dog_Coonhound', 'Dog_Dachshund', 'Dog_Flat-coated Retriever', 'Dog_Manchester Terrier', 'Dog_Samoyed', 'Dog_Pomeranian', 'Dog_German Spitz', 'Dog_Shepherd', 'Dog_Great Dane', 'Dog_Greyhound', 'Dog_Mastiff', 'Dog_Australian Terrier', 'Dog_Yorkshire Terrier Yorkie', 'Dog_Pekingese', 'Dog_Glen of Imaal Terrier', 'Dog_Shih Tzu', 'Dog_French Bulldog', 'Dog_Mountain Dog', 'Dog_Bullmastiff', 'Dog_Poodle', 'Dog_Lhasa Apso', 'Dog_Retriever', 'Dog_Belgian Shepherd Dog Sheepdog', 'Dog_Siberian Husky', 'Dog_English Bulldog', 'Dog_Corgi', 'Dog_Mixed Breed', 'Dog_Labrador Retriever', 'Dog_Yellow Labrador Retriever', 'Dog_Welsh Corgi', 'Dog_Basenji', 'Dog_Wirehaired Terrier', 'Dog_American Staffordshire Terrier', 'Dog_Doberman Pinscher', 'Dog_Beagle', 'Dog_Spitz', 'Dog_0', 'Dog_Wheaten Terrier', 'Dog_Shiba Inu', 'Dog_Munsterlander', 'Dog_Rat Terrier', 'Dog_Irish Wolfhound', 'Dog_Boxer', 'Dog_Shar Pei', 'Dog_Husky'), dtype=tf.string, default_value=-1, num_oov_buckets=0), dimension=2, combiner='mean', initializer=<tensorflow.python.ops.init_ops.TruncatedNormal object at 0x000001EB06290130>, ckpt_to_load_from=None, tensor_name_in_ckpt=None, max_norm=None, trainable=True, use_safe_embedding_lookup=True)"
      ]
     },
     "metadata": {},
     "execution_count": 135
    }
   ],
   "source": [
    "embedded_type_breed"
   ]
  },
  {
   "cell_type": "code",
   "execution_count": 136,
   "metadata": {},
   "outputs": [],
   "source": [
    "dense_layer_test = tf.keras.layers.DenseFeatures([embedded_type_breed])"
   ]
  },
  {
   "cell_type": "code",
   "execution_count": 139,
   "metadata": {},
   "outputs": [],
   "source": [
    "result = dense_layer_test({\n",
    "    \"type_breed_combo\":combined_type_category\n",
    "    }).numpy()"
   ]
  },
  {
   "cell_type": "code",
   "execution_count": 141,
   "metadata": {},
   "outputs": [
    {
     "output_type": "execute_result",
     "data": {
      "text/plain": [
       "(('Cat_Somali', array([-0.28279847, -0.62760735], dtype=float32)),\n",
       " ('Cat_Oriental Long Hair', array([-0.44812426,  0.4293369 ], dtype=float32)),\n",
       " ('Cat_Egyptian Mau', array([-0.22764172,  0.58228886], dtype=float32)),\n",
       " ('Cat_Domestic Long Hair', array([0.5853107 , 0.11657868], dtype=float32)),\n",
       " ('Cat_Manx', array([ 0.5508041 , -0.00959629], dtype=float32)),\n",
       " ('Cat_Balinese', array([-0.54463774,  0.34937105], dtype=float32)),\n",
       " ('Cat_Tuxedo', array([1.0173725 , 0.12619889], dtype=float32)),\n",
       " ('Cat_Dilute Tortoiseshell',\n",
       "  array([ 0.81569225, -0.64556915], dtype=float32)),\n",
       " ('Cat_American Curl', array([ 0.68246037, -0.9930635 ], dtype=float32)),\n",
       " ('Cat_Nebelung', array([ 0.5696282, -1.1070813], dtype=float32)),\n",
       " ('Cat_Maine Coon', array([-0.638247  , -0.65753746], dtype=float32)),\n",
       " ('Cat_Ocicat', array([ 0.70496714, -0.17667317], dtype=float32)),\n",
       " ('Cat_Japanese Bobtail', array([0.44020894, 0.65745175], dtype=float32)),\n",
       " ('Cat_Chausie', array([-1.220639  ,  0.53191215], dtype=float32)),\n",
       " ('Cat_Bengal', array([ 1.3082296 , -0.79093355], dtype=float32)),\n",
       " ('Cat_Shih Tzu', array([-0.21136987,  0.19073668], dtype=float32)),\n",
       " ('Cat_Siamese', array([0.36243805, 0.10813025], dtype=float32)),\n",
       " ('Cat_Ragamuffin', array([-1.1962141 , -0.59844106], dtype=float32)),\n",
       " ('Cat_Applehead Siamese', array([ 0.04846027, -0.31847852], dtype=float32)),\n",
       " ('Cat_Turkish Van', array([-0.13769788, -0.3617665 ], dtype=float32)),\n",
       " ('Cat_Javanese', array([-0.7281561 ,  0.87332165], dtype=float32)),\n",
       " ('Cat_Domestic Short Hair', array([0.46104893, 0.29495916], dtype=float32)),\n",
       " ('Cat_Birman', array([0.40865824, 0.04034111], dtype=float32)),\n",
       " ('Cat_Collie', array([ 0.45139623, -0.07398225], dtype=float32)),\n",
       " ('Cat_Calico', array([1.1427547, 0.3683462], dtype=float32)),\n",
       " ('Cat_Snowshoe', array([ 0.47336116, -0.08699361], dtype=float32)),\n",
       " ('Cat_Burmilla', array([-0.12839554,  0.61937714], dtype=float32)),\n",
       " ('Cat_Korat', array([0.7389413, 0.0395865], dtype=float32)),\n",
       " ('Cat_Australian Kelpie', array([-0.04765387,  0.01633873], dtype=float32)),\n",
       " ('Cat_Bobtail', array([-0.74851024, -0.26545584], dtype=float32)),\n",
       " ('Cat_Tonkinese', array([0.1012144, 0.4870898], dtype=float32)),\n",
       " ('Cat_Domestic Medium Hair',\n",
       "  array([ 0.1855648 , -0.54610056], dtype=float32)),\n",
       " ('Cat_Bombay', array([0.29586563, 0.02825128], dtype=float32)),\n",
       " ('Cat_Norwegian Forest Cat',\n",
       "  array([-0.35263383,  0.26927802], dtype=float32)),\n",
       " ('Cat_Singapura', array([ 0.41927287, -0.15229358], dtype=float32)),\n",
       " ('Cat_Oriental Tabby', array([ 0.19504657, -0.08254973], dtype=float32)),\n",
       " ('Cat_Belgian Shepherd Laekenois',\n",
       "  array([-0.5488025 ,  0.24957708], dtype=float32)),\n",
       " ('Cat_Abyssinian', array([-0.07842255,  0.41095233], dtype=float32)),\n",
       " ('Cat_Havana', array([-0.31929758, -0.5404457 ], dtype=float32)),\n",
       " ('Cat_Tiger', array([ 0.5845721 , -0.20664378], dtype=float32)),\n",
       " ('Cat_Mixed Breed', array([-1.1063864 , -0.45655674], dtype=float32)),\n",
       " ('Cat_Persian', array([0.5041582 , 0.01850189], dtype=float32)),\n",
       " ('Cat_Terrier', array([-0.63230383, -0.2264552 ], dtype=float32)),\n",
       " ('Cat_Siberian', array([0.7727236 , 0.15606247], dtype=float32)),\n",
       " ('Cat_Tortoiseshell', array([0.24689268, 0.19147705], dtype=float32)),\n",
       " ('Cat_Extra-Toes Cat (Hemingway Polydactyl)',\n",
       "  array([-0.62451154,  0.37219602], dtype=float32)),\n",
       " ('Cat_Tabby', array([ 0.54315203, -0.19345081], dtype=float32)),\n",
       " ('Cat_Ragdoll', array([-0.88829917,  0.29836723], dtype=float32)),\n",
       " ('Cat_American Shorthair', array([0.36795732, 0.3378834 ], dtype=float32)),\n",
       " ('Cat_Russian Blue', array([0.72762173, 0.06382871], dtype=float32)),\n",
       " ('Cat_British Shorthair', array([ 0.3445227 , -0.77263355], dtype=float32)),\n",
       " ('Cat_Burmese', array([-0.36944565,  0.39563477], dtype=float32)),\n",
       " ('Cat_American Wirehair', array([ 1.2593281, -1.2969544], dtype=float32)),\n",
       " ('Cat_Chartreux', array([-0.27393022, -0.38703758], dtype=float32)),\n",
       " ('Cat_Dilute Calico', array([ 0.98041946, -0.1084165 ], dtype=float32)),\n",
       " ('Cat_Cymric', array([ 0.3342306, -0.8371045], dtype=float32)),\n",
       " ('Cat_Sphynx (hairless cat)', array([-0.3731305,  0.9867295], dtype=float32)),\n",
       " ('Cat_Exotic Shorthair', array([0.35502127, 1.2207156 ], dtype=float32)),\n",
       " ('Cat_Torbie', array([-0.5461848,  0.8101049], dtype=float32)),\n",
       " ('Cat_Silver', array([-0.30361181,  0.15007718], dtype=float32)),\n",
       " ('Cat_Himalayan', array([ 1.2544036 , -0.38203105], dtype=float32)),\n",
       " ('Cat_Oriental Short Hair', array([0.01607911, 0.46887708], dtype=float32)),\n",
       " ('Cat_Turkish Angora', array([0.2860328, 0.2877831], dtype=float32)),\n",
       " ('Dog_Australian Shepherd', array([-1.1985908, -0.6376369], dtype=float32)),\n",
       " ('Dog_English Pointer', array([ 0.12006682, -0.31334066], dtype=float32)),\n",
       " ('Dog_Australian Kelpie', array([ 0.5694917 , -0.73301697], dtype=float32)),\n",
       " ('Dog_Dutch Shepherd', array([ 1.1492186, -1.2024693], dtype=float32)),\n",
       " ('Dog_Fox Terrier', array([-0.70529085,  0.23174767], dtype=float32)),\n",
       " ('Dog_German Shepherd Dog', array([ 0.01102209, -0.5205088 ], dtype=float32)),\n",
       " ('Dog_Swedish Vallhund', array([-0.36668605, -0.23612243], dtype=float32)),\n",
       " ('Dog_Silky Terrier', array([ 0.07391455, -0.7852055 ], dtype=float32)),\n",
       " ('Dog_Irish Setter', array([-0.27413535, -0.04010025], dtype=float32)),\n",
       " ('Dog_Kai Dog', array([ 0.65854776, -0.19927496], dtype=float32)),\n",
       " ('Dog_Akita', array([-0.07182204,  0.06310412], dtype=float32)),\n",
       " ('Dog_German Pinscher', array([ 0.52797097, -0.02640372], dtype=float32)),\n",
       " ('Dog_Chow Chow', array([-0.46981496,  0.37926602], dtype=float32)),\n",
       " ('Dog_Cavalier King Charles Spaniel',\n",
       "  array([-0.02980494, -0.10150586], dtype=float32)),\n",
       " ('Dog_Standard Poodle', array([-0.8721676 ,  0.01294944], dtype=float32)),\n",
       " ('Dog_Black Mouth Cur', array([0.6593178 , 0.55571413], dtype=float32)),\n",
       " ('Dog_White German Shepherd', array([-0.8601382,  0.0633315], dtype=float32)),\n",
       " ('Dog_Hound', array([-0.6914846 ,  0.38374457], dtype=float32)),\n",
       " ('Dog_Bedlington Terrier', array([-0.03202795, -0.70465076], dtype=float32)),\n",
       " ('Dog_Dalmatian', array([-0.7019675 , -0.34005448], dtype=float32)),\n",
       " ('Dog_English Springer Spaniel',\n",
       "  array([ 0.42978796, -0.349105  ], dtype=float32)),\n",
       " ('Dog_Border Collie', array([0.03909741, 0.6353003 ], dtype=float32)),\n",
       " ('Dog_Pug', array([-0.5029231 ,  0.16317083], dtype=float32)),\n",
       " ('Dog_Foxhound', array([0.98047554, 0.8858542 ], dtype=float32)),\n",
       " ('Dog_Papillon', array([-0.62369853, -0.32681492], dtype=float32)),\n",
       " ('Dog_Cattle Dog', array([1.1385775 , 0.20561069], dtype=float32)),\n",
       " ('Dog_Setter', array([0.434334  , 0.48850545], dtype=float32)),\n",
       " ('Dog_Weimaraner', array([0.38619265, 0.1656867 ], dtype=float32)),\n",
       " ('Dog_Terrier', array([ 0.04739874, -0.955507  ], dtype=float32)),\n",
       " ('Dog_Boston Terrier', array([-6.405946e-04, -8.964028e-01], dtype=float32)),\n",
       " ('Dog_West Highland White Terrier Westie',\n",
       "  array([-0.6646313 ,  0.61758184], dtype=float32)),\n",
       " ('Dog_Saint Bernard', array([0.21184203, 0.5075544 ], dtype=float32)),\n",
       " ('Dog_Field Spaniel', array([ 0.18552986, -0.08393411], dtype=float32)),\n",
       " ('Dog_Rottweiler', array([ 0.32609382, -0.21914186], dtype=float32)),\n",
       " ('Dog_English Cocker Spaniel',\n",
       "  array([-0.94361025, -0.9674315 ], dtype=float32)),\n",
       " ('Dog_Black Labrador Retriever',\n",
       "  array([-0.9803993 , -0.22495057], dtype=float32)),\n",
       " ('Dog_Cocker Spaniel', array([ 0.20196328, -0.52128136], dtype=float32)),\n",
       " ('Dog_Maltese', array([-0.41498965, -0.681999  ], dtype=float32)),\n",
       " ('Dog_Irish Terrier', array([ 0.18625759, -0.29364604], dtype=float32)),\n",
       " ('Dog_Rhodesian Ridgeback', array([-0.4585648,  0.0195231], dtype=float32)),\n",
       " ('Dog_Lowchen', array([ 0.53943825, -0.1879336 ], dtype=float32)),\n",
       " ('Dog_Chihuahua', array([-0.12977146,  0.04007939], dtype=float32)),\n",
       " ('Dog_Jack Russell Terrier (Parson Russell Terrier)',\n",
       "  array([-0.05880122, -0.01977609], dtype=float32)),\n",
       " ('Dog_Golden Retriever', array([ 0.64951617, -0.38253814], dtype=float32)),\n",
       " ('Dog_Bull Terrier', array([ 0.25334513, -1.0357265 ], dtype=float32)),\n",
       " ('Dog_Old English Sheepdog',\n",
       "  array([ 0.8132751 , -0.19820018], dtype=float32)),\n",
       " ('Dog_Collie', array([0.87011087, 0.6517222 ], dtype=float32)),\n",
       " ('Dog_Lancashire Heeler', array([-0.6910878, -0.7011784], dtype=float32)),\n",
       " ('Dog_Belgian Shepherd Malinois',\n",
       "  array([-0.4740927 , -0.48089316], dtype=float32)),\n",
       " ('Dog_Belgian Shepherd Laekenois',\n",
       "  array([-0.9966877 , -0.37970677], dtype=float32)),\n",
       " ('Dog_Staffordshire Bull Terrier',\n",
       "  array([ 0.847858 , -1.1234944], dtype=float32)),\n",
       " ('Dog_Shetland Sheepdog Sheltie',\n",
       "  array([ 0.03185511, -1.0700341 ], dtype=float32)),\n",
       " ('Dog_Spaniel', array([-0.7718321 ,  0.38975984], dtype=float32)),\n",
       " ('Dog_American Water Spaniel',\n",
       "  array([ 0.36180717, -0.10129938], dtype=float32)),\n",
       " ('Dog_Toy Fox Terrier', array([0.10467767, 0.7400436 ], dtype=float32)),\n",
       " ('Dog_American Bulldog', array([ 0.6444874 , -0.24751101], dtype=float32)),\n",
       " ('Dog_Pointer', array([0.69647837, 0.12480832], dtype=float32)),\n",
       " ('Dog_Schnauzer', array([0.7340471, 0.2638426], dtype=float32)),\n",
       " ('Dog_Basset Hound', array([-0.14045915, -1.06088   ], dtype=float32)),\n",
       " ('Dog_Chinese Crested Dog', array([-0.20545012, -0.25216475], dtype=float32)),\n",
       " ('Dog_Miniature Pinscher', array([0.64963806, 0.16263793], dtype=float32)),\n",
       " ('Dog_Whippet', array([ 0.05063379, -0.20415404], dtype=float32)),\n",
       " ('Dog_Jack Russell Terrier', array([0.09103452, 0.6727175 ], dtype=float32)),\n",
       " ('Dog_Pit Bull Terrier', array([-0.56636983,  0.4292085 ], dtype=float32)),\n",
       " ('Dog_Coonhound', array([0.21286806, 0.59122396], dtype=float32)),\n",
       " ('Dog_Dachshund', array([-0.96866995, -0.2559234 ], dtype=float32)),\n",
       " ('Dog_Flat-coated Retriever',\n",
       "  array([ 0.57894653, -0.9909191 ], dtype=float32)),\n",
       " ('Dog_Manchester Terrier', array([-0.19529526,  0.05627048], dtype=float32)),\n",
       " ('Dog_Samoyed', array([-1.1010314 , -0.16297308], dtype=float32)),\n",
       " ('Dog_Pomeranian', array([0.14987478, 0.6868163 ], dtype=float32)),\n",
       " ('Dog_German Spitz', array([-0.74209976, -0.5659762 ], dtype=float32)),\n",
       " ('Dog_Shepherd', array([-0.39038345, -0.42153984], dtype=float32)),\n",
       " ('Dog_Great Dane', array([-1.0282581 , -0.10355217], dtype=float32)),\n",
       " ('Dog_Greyhound', array([-0.26621115,  0.43468454], dtype=float32)),\n",
       " ('Dog_Mastiff', array([-0.14929311,  0.8404959 ], dtype=float32)),\n",
       " ('Dog_Australian Terrier', array([1.3075678, 0.2696999], dtype=float32)),\n",
       " ('Dog_Yorkshire Terrier Yorkie',\n",
       "  array([-0.07232763,  0.22635272], dtype=float32)),\n",
       " ('Dog_Pekingese', array([ 0.0591131 , -0.02718692], dtype=float32)),\n",
       " ('Dog_Glen of Imaal Terrier', array([0.27424937, 0.67977566], dtype=float32)),\n",
       " ('Dog_Shih Tzu', array([-0.01338537,  0.07021864], dtype=float32)),\n",
       " ('Dog_French Bulldog', array([ 0.43267477, -1.1599634 ], dtype=float32)),\n",
       " ('Dog_Mountain Dog', array([-0.7579044,  0.7036301], dtype=float32)),\n",
       " ('Dog_Bullmastiff', array([-1.1152166,  1.0126526], dtype=float32)),\n",
       " ('Dog_Poodle', array([-0.0214217 ,  0.11640666], dtype=float32)),\n",
       " ('Dog_Lhasa Apso', array([0.45937294, 0.08588101], dtype=float32)),\n",
       " ('Dog_Retriever', array([-0.5353963, -1.1660811], dtype=float32)),\n",
       " ('Dog_Belgian Shepherd Dog Sheepdog',\n",
       "  array([-1.412804 , -1.3387626], dtype=float32)),\n",
       " ('Dog_Siberian Husky', array([ 0.81465816, -0.67254215], dtype=float32)),\n",
       " ('Dog_English Bulldog', array([0.15475388, 0.4116677 ], dtype=float32)),\n",
       " ('Dog_Corgi', array([-0.49771574,  0.48710367], dtype=float32)),\n",
       " ('Dog_Mixed Breed', array([-0.8942555 , -0.23017913], dtype=float32)),\n",
       " ('Dog_Labrador Retriever', array([ 0.17194445, -0.8479048 ], dtype=float32)),\n",
       " ('Dog_Yellow Labrador Retriever',\n",
       "  array([ 1.0715322 , -0.05347608], dtype=float32)),\n",
       " ('Dog_Welsh Corgi', array([-9.3122706e-04, -1.2189143e+00], dtype=float32)),\n",
       " ('Dog_Basenji', array([0.15733446, 0.4670856 ], dtype=float32)),\n",
       " ('Dog_Wirehaired Terrier', array([0.9619654, 0.3459427], dtype=float32)),\n",
       " ('Dog_American Staffordshire Terrier',\n",
       "  array([-0.28909594,  0.9767202 ], dtype=float32)),\n",
       " ('Dog_Doberman Pinscher', array([ 0.49784476, -0.8564582 ], dtype=float32)),\n",
       " ('Dog_Beagle', array([-0.6123694 ,  0.36635995], dtype=float32)),\n",
       " ('Dog_Spitz', array([-0.17796405, -0.7392284 ], dtype=float32)),\n",
       " ('Dog_0', array([ 0.7844279 , -0.00436733], dtype=float32)),\n",
       " ('Dog_Wheaten Terrier', array([0.8773344 , 0.21981324], dtype=float32)),\n",
       " ('Dog_Shiba Inu', array([-0.2745039 , -0.56968164], dtype=float32)),\n",
       " ('Dog_Munsterlander', array([-0.24739498, -0.3896983 ], dtype=float32)),\n",
       " ('Dog_Rat Terrier', array([-0.15218765,  0.84128344], dtype=float32)),\n",
       " ('Dog_Irish Wolfhound', array([0.43474832, 0.9226985 ], dtype=float32)),\n",
       " ('Dog_Boxer', array([-0.83970666,  0.6396374 ], dtype=float32)),\n",
       " ('Dog_Shar Pei', array([-0.44711155,  0.20784609], dtype=float32)),\n",
       " ('Dog_Husky', array([-0.2573446 , -0.05127758], dtype=float32)))"
      ]
     },
     "metadata": {},
     "execution_count": 141
    }
   ],
   "source": [
    "vector_label_combined_type_breed = tuple(zip(combined_type_category,result))\n",
    "vector_label_combined_type_breed"
   ]
  },
  {
   "cell_type": "code",
   "execution_count": 146,
   "metadata": {},
   "outputs": [],
   "source": [
    "dog_label_vector = vector_label_combined_type_breed[-10:]\n",
    "cat_label_vector = vector_label_combined_type_breed[:10]"
   ]
  },
  {
   "cell_type": "code",
   "execution_count": 156,
   "metadata": {},
   "outputs": [],
   "source": [
    "cat_label_vector[0][1][0]\n",
    "cat_label = [x[0] for x in cat_label_vector]\n",
    "cat_x = [x[1][0] for x in cat_label_vector]\n",
    "cat_y = [x[1][1] for x in cat_label_vector]"
   ]
  },
  {
   "cell_type": "code",
   "execution_count": 157,
   "metadata": {},
   "outputs": [],
   "source": [
    "dog_label_vector[0][1][0]\n",
    "dog_label = [x[0] for x in dog_label_vector]\n",
    "dog_x = [x[1][0] for x in dog_label_vector]\n",
    "dog_y = [x[1][1] for x in dog_label_vector]"
   ]
  },
  {
   "cell_type": "code",
   "execution_count": 158,
   "metadata": {},
   "outputs": [],
   "source": [
    "import matplotlib.pyplot as plt\n",
    "import seaborn as sns"
   ]
  },
  {
   "cell_type": "code",
   "execution_count": 162,
   "metadata": {},
   "outputs": [
    {
     "output_type": "display_data",
     "data": {
      "text/plain": "<Figure size 576x576 with 1 Axes>",
      "image/svg+xml": "<?xml version=\"1.0\" encoding=\"utf-8\" standalone=\"no\"?>\r\n<!DOCTYPE svg PUBLIC \"-//W3C//DTD SVG 1.1//EN\"\r\n  \"http://www.w3.org/Graphics/SVG/1.1/DTD/svg11.dtd\">\r\n<!-- Created with matplotlib (https://matplotlib.org/) -->\r\n<svg height=\"465.958125pt\" version=\"1.1\" viewBox=\"0 0 556.835586 465.958125\" width=\"556.835586pt\" xmlns=\"http://www.w3.org/2000/svg\" xmlns:xlink=\"http://www.w3.org/1999/xlink\">\r\n <metadata>\r\n  <rdf:RDF xmlns:cc=\"http://creativecommons.org/ns#\" xmlns:dc=\"http://purl.org/dc/elements/1.1/\" xmlns:rdf=\"http://www.w3.org/1999/02/22-rdf-syntax-ns#\">\r\n   <cc:Work>\r\n    <dc:type rdf:resource=\"http://purl.org/dc/dcmitype/StillImage\"/>\r\n    <dc:date>2021-06-26T17:26:46.160172</dc:date>\r\n    <dc:format>image/svg+xml</dc:format>\r\n    <dc:creator>\r\n     <cc:Agent>\r\n      <dc:title>Matplotlib v3.3.4, https://matplotlib.org/</dc:title>\r\n     </cc:Agent>\r\n    </dc:creator>\r\n   </cc:Work>\r\n  </rdf:RDF>\r\n </metadata>\r\n <defs>\r\n  <style type=\"text/css\">*{stroke-linecap:butt;stroke-linejoin:round;}</style>\r\n </defs>\r\n <g id=\"figure_1\">\r\n  <g id=\"patch_1\">\r\n   <path d=\"M 0 465.958125 \r\nL 556.835586 465.958125 \r\nL 556.835586 0 \r\nL 0 0 \r\nz\r\n\" style=\"fill:none;\"/>\r\n  </g>\r\n  <g id=\"axes_1\">\r\n   <g id=\"patch_2\">\r\n    <path d=\"M 44.845313 442.08 \r\nL 491.245312 442.08 \r\nL 491.245312 7.2 \r\nL 44.845313 7.2 \r\nz\r\n\" style=\"fill:#ffffff;\"/>\r\n   </g>\r\n   <g id=\"PathCollection_1\">\r\n    <defs>\r\n     <path d=\"M 0 3 \r\nC 0.795609 3 1.55874 2.683901 2.12132 2.12132 \r\nC 2.683901 1.55874 3 0.795609 3 0 \r\nC 3 -0.795609 2.683901 -1.55874 2.12132 -2.12132 \r\nC 1.55874 -2.683901 0.795609 -3 0 -3 \r\nC -0.795609 -3 -1.55874 -2.683901 -2.12132 -2.12132 \r\nC -2.683901 -1.55874 -3 -0.795609 -3 0 \r\nC -3 0.795609 -2.683901 1.55874 -2.12132 2.12132 \r\nC -1.55874 2.683901 -0.795609 3 0 3 \r\nz\r\n\" id=\"m1c7279e060\" style=\"stroke:#ffffff;stroke-width:0.48;\"/>\r\n    </defs>\r\n    <g clip-path=\"url(#pac441d3022)\">\r\n     <use style=\"fill:#ff0000;stroke:#ffffff;stroke-width:0.48;\" x=\"186.834572\" xlink:href=\"#m1c7279e060\" y=\"328.924347\"/>\r\n     <use style=\"fill:#ff0000;stroke:#ffffff;stroke-width:0.48;\" x=\"150.706757\" xlink:href=\"#m1c7279e060\" y=\"123.060585\"/>\r\n     <use style=\"fill:#ff0000;stroke:#ffffff;stroke-width:0.48;\" x=\"198.8877\" xlink:href=\"#m1c7279e060\" y=\"93.269737\"/>\r\n     <use style=\"fill:#ff0000;stroke:#ffffff;stroke-width:0.48;\" x=\"376.53811\" xlink:href=\"#m1c7279e060\" y=\"183.977312\"/>\r\n     <use style=\"fill:#ff0000;stroke:#ffffff;stroke-width:0.48;\" x=\"368.997551\" xlink:href=\"#m1c7279e060\" y=\"208.552738\"/>\r\n     <use style=\"fill:#ff0000;stroke:#ffffff;stroke-width:0.48;\" x=\"129.616151\" xlink:href=\"#m1c7279e060\" y=\"138.635742\"/>\r\n     <use style=\"fill:#ff0000;stroke:#ffffff;stroke-width:0.48;\" x=\"470.954403\" xlink:href=\"#m1c7279e060\" y=\"182.10356\"/>\r\n     <use style=\"fill:#ff0000;stroke:#ffffff;stroke-width:0.48;\" x=\"426.882233\" xlink:href=\"#m1c7279e060\" y=\"332.422814\"/>\r\n     <use style=\"fill:#ff0000;stroke:#ffffff;stroke-width:0.48;\" x=\"397.767739\" xlink:href=\"#m1c7279e060\" y=\"400.105189\"/>\r\n     <use style=\"fill:#ff0000;stroke:#ffffff;stroke-width:0.48;\" x=\"373.111088\" xlink:href=\"#m1c7279e060\" y=\"422.312727\"/>\r\n    </g>\r\n   </g>\r\n   <g id=\"PathCollection_2\">\r\n    <defs>\r\n     <path d=\"M 0 3 \r\nC 0.795609 3 1.55874 2.683901 2.12132 2.12132 \r\nC 2.683901 1.55874 3 0.795609 3 0 \r\nC 3 -0.795609 2.683901 -1.55874 2.12132 -2.12132 \r\nC 1.55874 -2.683901 0.795609 -3 0 -3 \r\nC -0.795609 -3 -1.55874 -2.683901 -2.12132 -2.12132 \r\nC -2.683901 -1.55874 -3 -0.795609 -3 0 \r\nC -3 0.795609 -2.683901 1.55874 -2.12132 2.12132 \r\nC -1.55874 2.683901 -0.795609 3 0 3 \r\nz\r\n\" id=\"m7debef9034\" style=\"stroke:#ffffff;stroke-width:0.48;\"/>\r\n    </defs>\r\n    <g clip-path=\"url(#pac441d3022)\">\r\n     <use style=\"fill:#0000ff;stroke:#ffffff;stroke-width:0.48;\" x=\"209.743512\" xlink:href=\"#m7debef9034\" y=\"350.665074\"/>\r\n     <use style=\"fill:#0000ff;stroke:#ffffff;stroke-width:0.48;\" x=\"420.050188\" xlink:href=\"#m7debef9034\" y=\"207.534279\"/>\r\n     <use style=\"fill:#0000ff;stroke:#ffffff;stroke-width:0.48;\" x=\"440.352586\" xlink:href=\"#m7debef9034\" y=\"163.87005\"/>\r\n     <use style=\"fill:#0000ff;stroke:#ffffff;stroke-width:0.48;\" x=\"188.647146\" xlink:href=\"#m7debef9034\" y=\"317.642009\"/>\r\n     <use style=\"fill:#0000ff;stroke:#ffffff;stroke-width:0.48;\" x=\"194.571119\" xlink:href=\"#m7debef9034\" y=\"282.586187\"/>\r\n     <use style=\"fill:#0000ff;stroke:#ffffff;stroke-width:0.48;\" x=\"215.3763\" xlink:href=\"#m7debef9034\" y=\"42.824694\"/>\r\n     <use style=\"fill:#0000ff;stroke:#ffffff;stroke-width:0.48;\" x=\"343.63647\" xlink:href=\"#m7debef9034\" y=\"26.967273\"/>\r\n     <use style=\"fill:#0000ff;stroke:#ffffff;stroke-width:0.48;\" x=\"65.136222\" xlink:href=\"#m7debef9034\" y=\"82.099812\"/>\r\n     <use style=\"fill:#0000ff;stroke:#ffffff;stroke-width:0.48;\" x=\"150.92806\" xlink:href=\"#m7debef9034\" y=\"166.200923\"/>\r\n     <use style=\"fill:#0000ff;stroke:#ffffff;stroke-width:0.48;\" x=\"192.396878\" xlink:href=\"#m7debef9034\" y=\"216.67111\"/>\r\n    </g>\r\n   </g>\r\n   <g id=\"matplotlib.axis_1\">\r\n    <g id=\"xtick_1\">\r\n     <g id=\"line2d_1\">\r\n      <defs>\r\n       <path d=\"M 0 0 \r\nL 0 3.5 \r\n\" id=\"m75f62e77b6\" style=\"stroke:#000000;stroke-width:0.8;\"/>\r\n      </defs>\r\n      <g>\r\n       <use style=\"stroke:#000000;stroke-width:0.8;\" x=\"84.739367\" xlink:href=\"#m75f62e77b6\" y=\"442.08\"/>\r\n      </g>\r\n     </g>\r\n     <g id=\"text_1\">\r\n      <!-- −0.75 -->\r\n      <g transform=\"translate(69.416711 456.678437)scale(0.1 -0.1)\">\r\n       <defs>\r\n        <path d=\"M 10.59375 35.5 \r\nL 73.1875 35.5 \r\nL 73.1875 27.203125 \r\nL 10.59375 27.203125 \r\nz\r\n\" id=\"DejaVuSans-8722\"/>\r\n        <path d=\"M 31.78125 66.40625 \r\nQ 24.171875 66.40625 20.328125 58.90625 \r\nQ 16.5 51.421875 16.5 36.375 \r\nQ 16.5 21.390625 20.328125 13.890625 \r\nQ 24.171875 6.390625 31.78125 6.390625 \r\nQ 39.453125 6.390625 43.28125 13.890625 \r\nQ 47.125 21.390625 47.125 36.375 \r\nQ 47.125 51.421875 43.28125 58.90625 \r\nQ 39.453125 66.40625 31.78125 66.40625 \r\nz\r\nM 31.78125 74.21875 \r\nQ 44.046875 74.21875 50.515625 64.515625 \r\nQ 56.984375 54.828125 56.984375 36.375 \r\nQ 56.984375 17.96875 50.515625 8.265625 \r\nQ 44.046875 -1.421875 31.78125 -1.421875 \r\nQ 19.53125 -1.421875 13.0625 8.265625 \r\nQ 6.59375 17.96875 6.59375 36.375 \r\nQ 6.59375 54.828125 13.0625 64.515625 \r\nQ 19.53125 74.21875 31.78125 74.21875 \r\nz\r\n\" id=\"DejaVuSans-48\"/>\r\n        <path d=\"M 10.6875 12.40625 \r\nL 21 12.40625 \r\nL 21 0 \r\nL 10.6875 0 \r\nz\r\n\" id=\"DejaVuSans-46\"/>\r\n        <path d=\"M 8.203125 72.90625 \r\nL 55.078125 72.90625 \r\nL 55.078125 68.703125 \r\nL 28.609375 0 \r\nL 18.3125 0 \r\nL 43.21875 64.59375 \r\nL 8.203125 64.59375 \r\nz\r\n\" id=\"DejaVuSans-55\"/>\r\n        <path d=\"M 10.796875 72.90625 \r\nL 49.515625 72.90625 \r\nL 49.515625 64.59375 \r\nL 19.828125 64.59375 \r\nL 19.828125 46.734375 \r\nQ 21.96875 47.46875 24.109375 47.828125 \r\nQ 26.265625 48.1875 28.421875 48.1875 \r\nQ 40.625 48.1875 47.75 41.5 \r\nQ 54.890625 34.8125 54.890625 23.390625 \r\nQ 54.890625 11.625 47.5625 5.09375 \r\nQ 40.234375 -1.421875 26.90625 -1.421875 \r\nQ 22.3125 -1.421875 17.546875 -0.640625 \r\nQ 12.796875 0.140625 7.71875 1.703125 \r\nL 7.71875 11.625 \r\nQ 12.109375 9.234375 16.796875 8.0625 \r\nQ 21.484375 6.890625 26.703125 6.890625 \r\nQ 35.15625 6.890625 40.078125 11.328125 \r\nQ 45.015625 15.765625 45.015625 23.390625 \r\nQ 45.015625 31 40.078125 35.4375 \r\nQ 35.15625 39.890625 26.703125 39.890625 \r\nQ 22.75 39.890625 18.8125 39.015625 \r\nQ 14.890625 38.140625 10.796875 36.28125 \r\nz\r\n\" id=\"DejaVuSans-53\"/>\r\n       </defs>\r\n       <use xlink:href=\"#DejaVuSans-8722\"/>\r\n       <use x=\"83.789062\" xlink:href=\"#DejaVuSans-48\"/>\r\n       <use x=\"147.412109\" xlink:href=\"#DejaVuSans-46\"/>\r\n       <use x=\"179.199219\" xlink:href=\"#DejaVuSans-55\"/>\r\n       <use x=\"242.822266\" xlink:href=\"#DejaVuSans-53\"/>\r\n      </g>\r\n     </g>\r\n    </g>\r\n    <g id=\"xtick_2\">\r\n     <g id=\"line2d_2\">\r\n      <g>\r\n       <use style=\"stroke:#000000;stroke-width:0.8;\" x=\"139.370612\" xlink:href=\"#m75f62e77b6\" y=\"442.08\"/>\r\n      </g>\r\n     </g>\r\n     <g id=\"text_2\">\r\n      <!-- −0.50 -->\r\n      <g transform=\"translate(124.047956 456.678437)scale(0.1 -0.1)\">\r\n       <use xlink:href=\"#DejaVuSans-8722\"/>\r\n       <use x=\"83.789062\" xlink:href=\"#DejaVuSans-48\"/>\r\n       <use x=\"147.412109\" xlink:href=\"#DejaVuSans-46\"/>\r\n       <use x=\"179.199219\" xlink:href=\"#DejaVuSans-53\"/>\r\n       <use x=\"242.822266\" xlink:href=\"#DejaVuSans-48\"/>\r\n      </g>\r\n     </g>\r\n    </g>\r\n    <g id=\"xtick_3\">\r\n     <g id=\"line2d_3\">\r\n      <g>\r\n       <use style=\"stroke:#000000;stroke-width:0.8;\" x=\"194.001857\" xlink:href=\"#m75f62e77b6\" y=\"442.08\"/>\r\n      </g>\r\n     </g>\r\n     <g id=\"text_3\">\r\n      <!-- −0.25 -->\r\n      <g transform=\"translate(178.679201 456.678437)scale(0.1 -0.1)\">\r\n       <defs>\r\n        <path d=\"M 19.1875 8.296875 \r\nL 53.609375 8.296875 \r\nL 53.609375 0 \r\nL 7.328125 0 \r\nL 7.328125 8.296875 \r\nQ 12.9375 14.109375 22.625 23.890625 \r\nQ 32.328125 33.6875 34.8125 36.53125 \r\nQ 39.546875 41.84375 41.421875 45.53125 \r\nQ 43.3125 49.21875 43.3125 52.78125 \r\nQ 43.3125 58.59375 39.234375 62.25 \r\nQ 35.15625 65.921875 28.609375 65.921875 \r\nQ 23.96875 65.921875 18.8125 64.3125 \r\nQ 13.671875 62.703125 7.8125 59.421875 \r\nL 7.8125 69.390625 \r\nQ 13.765625 71.78125 18.9375 73 \r\nQ 24.125 74.21875 28.421875 74.21875 \r\nQ 39.75 74.21875 46.484375 68.546875 \r\nQ 53.21875 62.890625 53.21875 53.421875 \r\nQ 53.21875 48.921875 51.53125 44.890625 \r\nQ 49.859375 40.875 45.40625 35.40625 \r\nQ 44.1875 33.984375 37.640625 27.21875 \r\nQ 31.109375 20.453125 19.1875 8.296875 \r\nz\r\n\" id=\"DejaVuSans-50\"/>\r\n       </defs>\r\n       <use xlink:href=\"#DejaVuSans-8722\"/>\r\n       <use x=\"83.789062\" xlink:href=\"#DejaVuSans-48\"/>\r\n       <use x=\"147.412109\" xlink:href=\"#DejaVuSans-46\"/>\r\n       <use x=\"179.199219\" xlink:href=\"#DejaVuSans-50\"/>\r\n       <use x=\"242.822266\" xlink:href=\"#DejaVuSans-53\"/>\r\n      </g>\r\n     </g>\r\n    </g>\r\n    <g id=\"xtick_4\">\r\n     <g id=\"line2d_4\">\r\n      <g>\r\n       <use style=\"stroke:#000000;stroke-width:0.8;\" x=\"248.633102\" xlink:href=\"#m75f62e77b6\" y=\"442.08\"/>\r\n      </g>\r\n     </g>\r\n     <g id=\"text_4\">\r\n      <!-- 0.00 -->\r\n      <g transform=\"translate(237.500289 456.678437)scale(0.1 -0.1)\">\r\n       <use xlink:href=\"#DejaVuSans-48\"/>\r\n       <use x=\"63.623047\" xlink:href=\"#DejaVuSans-46\"/>\r\n       <use x=\"95.410156\" xlink:href=\"#DejaVuSans-48\"/>\r\n       <use x=\"159.033203\" xlink:href=\"#DejaVuSans-48\"/>\r\n      </g>\r\n     </g>\r\n    </g>\r\n    <g id=\"xtick_5\">\r\n     <g id=\"line2d_5\">\r\n      <g>\r\n       <use style=\"stroke:#000000;stroke-width:0.8;\" x=\"303.264346\" xlink:href=\"#m75f62e77b6\" y=\"442.08\"/>\r\n      </g>\r\n     </g>\r\n     <g id=\"text_5\">\r\n      <!-- 0.25 -->\r\n      <g transform=\"translate(292.131534 456.678437)scale(0.1 -0.1)\">\r\n       <use xlink:href=\"#DejaVuSans-48\"/>\r\n       <use x=\"63.623047\" xlink:href=\"#DejaVuSans-46\"/>\r\n       <use x=\"95.410156\" xlink:href=\"#DejaVuSans-50\"/>\r\n       <use x=\"159.033203\" xlink:href=\"#DejaVuSans-53\"/>\r\n      </g>\r\n     </g>\r\n    </g>\r\n    <g id=\"xtick_6\">\r\n     <g id=\"line2d_6\">\r\n      <g>\r\n       <use style=\"stroke:#000000;stroke-width:0.8;\" x=\"357.895591\" xlink:href=\"#m75f62e77b6\" y=\"442.08\"/>\r\n      </g>\r\n     </g>\r\n     <g id=\"text_6\">\r\n      <!-- 0.50 -->\r\n      <g transform=\"translate(346.762779 456.678437)scale(0.1 -0.1)\">\r\n       <use xlink:href=\"#DejaVuSans-48\"/>\r\n       <use x=\"63.623047\" xlink:href=\"#DejaVuSans-46\"/>\r\n       <use x=\"95.410156\" xlink:href=\"#DejaVuSans-53\"/>\r\n       <use x=\"159.033203\" xlink:href=\"#DejaVuSans-48\"/>\r\n      </g>\r\n     </g>\r\n    </g>\r\n    <g id=\"xtick_7\">\r\n     <g id=\"line2d_7\">\r\n      <g>\r\n       <use style=\"stroke:#000000;stroke-width:0.8;\" x=\"412.526836\" xlink:href=\"#m75f62e77b6\" y=\"442.08\"/>\r\n      </g>\r\n     </g>\r\n     <g id=\"text_7\">\r\n      <!-- 0.75 -->\r\n      <g transform=\"translate(401.394023 456.678437)scale(0.1 -0.1)\">\r\n       <use xlink:href=\"#DejaVuSans-48\"/>\r\n       <use x=\"63.623047\" xlink:href=\"#DejaVuSans-46\"/>\r\n       <use x=\"95.410156\" xlink:href=\"#DejaVuSans-55\"/>\r\n       <use x=\"159.033203\" xlink:href=\"#DejaVuSans-53\"/>\r\n      </g>\r\n     </g>\r\n    </g>\r\n    <g id=\"xtick_8\">\r\n     <g id=\"line2d_8\">\r\n      <g>\r\n       <use style=\"stroke:#000000;stroke-width:0.8;\" x=\"467.158081\" xlink:href=\"#m75f62e77b6\" y=\"442.08\"/>\r\n      </g>\r\n     </g>\r\n     <g id=\"text_8\">\r\n      <!-- 1.00 -->\r\n      <g transform=\"translate(456.025268 456.678437)scale(0.1 -0.1)\">\r\n       <defs>\r\n        <path d=\"M 12.40625 8.296875 \r\nL 28.515625 8.296875 \r\nL 28.515625 63.921875 \r\nL 10.984375 60.40625 \r\nL 10.984375 69.390625 \r\nL 28.421875 72.90625 \r\nL 38.28125 72.90625 \r\nL 38.28125 8.296875 \r\nL 54.390625 8.296875 \r\nL 54.390625 0 \r\nL 12.40625 0 \r\nz\r\n\" id=\"DejaVuSans-49\"/>\r\n       </defs>\r\n       <use xlink:href=\"#DejaVuSans-49\"/>\r\n       <use x=\"63.623047\" xlink:href=\"#DejaVuSans-46\"/>\r\n       <use x=\"95.410156\" xlink:href=\"#DejaVuSans-48\"/>\r\n       <use x=\"159.033203\" xlink:href=\"#DejaVuSans-48\"/>\r\n      </g>\r\n     </g>\r\n    </g>\r\n   </g>\r\n   <g id=\"matplotlib.axis_2\">\r\n    <g id=\"ytick_1\">\r\n     <g id=\"line2d_9\">\r\n      <defs>\r\n       <path d=\"M 0 0 \r\nL -3.5 0 \r\n\" id=\"m58cde4bdc2\" style=\"stroke:#000000;stroke-width:0.8;\"/>\r\n      </defs>\r\n      <g>\r\n       <use style=\"stroke:#000000;stroke-width:0.8;\" x=\"44.845313\" xlink:href=\"#m58cde4bdc2\" y=\"401.456227\"/>\r\n      </g>\r\n     </g>\r\n     <g id=\"text_9\">\r\n      <!-- −1.00 -->\r\n      <g transform=\"translate(7.2 405.255446)scale(0.1 -0.1)\">\r\n       <use xlink:href=\"#DejaVuSans-8722\"/>\r\n       <use x=\"83.789062\" xlink:href=\"#DejaVuSans-49\"/>\r\n       <use x=\"147.412109\" xlink:href=\"#DejaVuSans-46\"/>\r\n       <use x=\"179.199219\" xlink:href=\"#DejaVuSans-48\"/>\r\n       <use x=\"242.822266\" xlink:href=\"#DejaVuSans-48\"/>\r\n      </g>\r\n     </g>\r\n    </g>\r\n    <g id=\"ytick_2\">\r\n     <g id=\"line2d_10\">\r\n      <g>\r\n       <use style=\"stroke:#000000;stroke-width:0.8;\" x=\"44.845313\" xlink:href=\"#m58cde4bdc2\" y=\"352.763081\"/>\r\n      </g>\r\n     </g>\r\n     <g id=\"text_10\">\r\n      <!-- −0.75 -->\r\n      <g transform=\"translate(7.2 356.5623)scale(0.1 -0.1)\">\r\n       <use xlink:href=\"#DejaVuSans-8722\"/>\r\n       <use x=\"83.789062\" xlink:href=\"#DejaVuSans-48\"/>\r\n       <use x=\"147.412109\" xlink:href=\"#DejaVuSans-46\"/>\r\n       <use x=\"179.199219\" xlink:href=\"#DejaVuSans-55\"/>\r\n       <use x=\"242.822266\" xlink:href=\"#DejaVuSans-53\"/>\r\n      </g>\r\n     </g>\r\n    </g>\r\n    <g id=\"ytick_3\">\r\n     <g id=\"line2d_11\">\r\n      <g>\r\n       <use style=\"stroke:#000000;stroke-width:0.8;\" x=\"44.845313\" xlink:href=\"#m58cde4bdc2\" y=\"304.069935\"/>\r\n      </g>\r\n     </g>\r\n     <g id=\"text_11\">\r\n      <!-- −0.50 -->\r\n      <g transform=\"translate(7.2 307.869154)scale(0.1 -0.1)\">\r\n       <use xlink:href=\"#DejaVuSans-8722\"/>\r\n       <use x=\"83.789062\" xlink:href=\"#DejaVuSans-48\"/>\r\n       <use x=\"147.412109\" xlink:href=\"#DejaVuSans-46\"/>\r\n       <use x=\"179.199219\" xlink:href=\"#DejaVuSans-53\"/>\r\n       <use x=\"242.822266\" xlink:href=\"#DejaVuSans-48\"/>\r\n      </g>\r\n     </g>\r\n    </g>\r\n    <g id=\"ytick_4\">\r\n     <g id=\"line2d_12\">\r\n      <g>\r\n       <use style=\"stroke:#000000;stroke-width:0.8;\" x=\"44.845313\" xlink:href=\"#m58cde4bdc2\" y=\"255.376789\"/>\r\n      </g>\r\n     </g>\r\n     <g id=\"text_12\">\r\n      <!-- −0.25 -->\r\n      <g transform=\"translate(7.2 259.176008)scale(0.1 -0.1)\">\r\n       <use xlink:href=\"#DejaVuSans-8722\"/>\r\n       <use x=\"83.789062\" xlink:href=\"#DejaVuSans-48\"/>\r\n       <use x=\"147.412109\" xlink:href=\"#DejaVuSans-46\"/>\r\n       <use x=\"179.199219\" xlink:href=\"#DejaVuSans-50\"/>\r\n       <use x=\"242.822266\" xlink:href=\"#DejaVuSans-53\"/>\r\n      </g>\r\n     </g>\r\n    </g>\r\n    <g id=\"ytick_5\">\r\n     <g id=\"line2d_13\">\r\n      <g>\r\n       <use style=\"stroke:#000000;stroke-width:0.8;\" x=\"44.845313\" xlink:href=\"#m58cde4bdc2\" y=\"206.683643\"/>\r\n      </g>\r\n     </g>\r\n     <g id=\"text_13\">\r\n      <!-- 0.00 -->\r\n      <g transform=\"translate(15.579688 210.482862)scale(0.1 -0.1)\">\r\n       <use xlink:href=\"#DejaVuSans-48\"/>\r\n       <use x=\"63.623047\" xlink:href=\"#DejaVuSans-46\"/>\r\n       <use x=\"95.410156\" xlink:href=\"#DejaVuSans-48\"/>\r\n       <use x=\"159.033203\" xlink:href=\"#DejaVuSans-48\"/>\r\n      </g>\r\n     </g>\r\n    </g>\r\n    <g id=\"ytick_6\">\r\n     <g id=\"line2d_14\">\r\n      <g>\r\n       <use style=\"stroke:#000000;stroke-width:0.8;\" x=\"44.845313\" xlink:href=\"#m58cde4bdc2\" y=\"157.990497\"/>\r\n      </g>\r\n     </g>\r\n     <g id=\"text_14\">\r\n      <!-- 0.25 -->\r\n      <g transform=\"translate(15.579688 161.789716)scale(0.1 -0.1)\">\r\n       <use xlink:href=\"#DejaVuSans-48\"/>\r\n       <use x=\"63.623047\" xlink:href=\"#DejaVuSans-46\"/>\r\n       <use x=\"95.410156\" xlink:href=\"#DejaVuSans-50\"/>\r\n       <use x=\"159.033203\" xlink:href=\"#DejaVuSans-53\"/>\r\n      </g>\r\n     </g>\r\n    </g>\r\n    <g id=\"ytick_7\">\r\n     <g id=\"line2d_15\">\r\n      <g>\r\n       <use style=\"stroke:#000000;stroke-width:0.8;\" x=\"44.845313\" xlink:href=\"#m58cde4bdc2\" y=\"109.297351\"/>\r\n      </g>\r\n     </g>\r\n     <g id=\"text_15\">\r\n      <!-- 0.50 -->\r\n      <g transform=\"translate(15.579688 113.09657)scale(0.1 -0.1)\">\r\n       <use xlink:href=\"#DejaVuSans-48\"/>\r\n       <use x=\"63.623047\" xlink:href=\"#DejaVuSans-46\"/>\r\n       <use x=\"95.410156\" xlink:href=\"#DejaVuSans-53\"/>\r\n       <use x=\"159.033203\" xlink:href=\"#DejaVuSans-48\"/>\r\n      </g>\r\n     </g>\r\n    </g>\r\n    <g id=\"ytick_8\">\r\n     <g id=\"line2d_16\">\r\n      <g>\r\n       <use style=\"stroke:#000000;stroke-width:0.8;\" x=\"44.845313\" xlink:href=\"#m58cde4bdc2\" y=\"60.604205\"/>\r\n      </g>\r\n     </g>\r\n     <g id=\"text_16\">\r\n      <!-- 0.75 -->\r\n      <g transform=\"translate(15.579688 64.403424)scale(0.1 -0.1)\">\r\n       <use xlink:href=\"#DejaVuSans-48\"/>\r\n       <use x=\"63.623047\" xlink:href=\"#DejaVuSans-46\"/>\r\n       <use x=\"95.410156\" xlink:href=\"#DejaVuSans-55\"/>\r\n       <use x=\"159.033203\" xlink:href=\"#DejaVuSans-53\"/>\r\n      </g>\r\n     </g>\r\n    </g>\r\n    <g id=\"ytick_9\">\r\n     <g id=\"line2d_17\">\r\n      <g>\r\n       <use style=\"stroke:#000000;stroke-width:0.8;\" x=\"44.845313\" xlink:href=\"#m58cde4bdc2\" y=\"11.911059\"/>\r\n      </g>\r\n     </g>\r\n     <g id=\"text_17\">\r\n      <!-- 1.00 -->\r\n      <g transform=\"translate(15.579688 15.710278)scale(0.1 -0.1)\">\r\n       <use xlink:href=\"#DejaVuSans-49\"/>\r\n       <use x=\"63.623047\" xlink:href=\"#DejaVuSans-46\"/>\r\n       <use x=\"95.410156\" xlink:href=\"#DejaVuSans-48\"/>\r\n       <use x=\"159.033203\" xlink:href=\"#DejaVuSans-48\"/>\r\n      </g>\r\n     </g>\r\n    </g>\r\n   </g>\r\n   <g id=\"patch_3\">\r\n    <path d=\"M 44.845313 442.08 \r\nL 44.845313 7.2 \r\n\" style=\"fill:none;stroke:#000000;stroke-linecap:square;stroke-linejoin:miter;stroke-width:0.8;\"/>\r\n   </g>\r\n   <g id=\"patch_4\">\r\n    <path d=\"M 491.245312 442.08 \r\nL 491.245312 7.2 \r\n\" style=\"fill:none;stroke:#000000;stroke-linecap:square;stroke-linejoin:miter;stroke-width:0.8;\"/>\r\n   </g>\r\n   <g id=\"patch_5\">\r\n    <path d=\"M 44.845313 442.08 \r\nL 491.245313 442.08 \r\n\" style=\"fill:none;stroke:#000000;stroke-linecap:square;stroke-linejoin:miter;stroke-width:0.8;\"/>\r\n   </g>\r\n   <g id=\"patch_6\">\r\n    <path d=\"M 44.845313 7.2 \r\nL 491.245313 7.2 \r\n\" style=\"fill:none;stroke:#000000;stroke-linecap:square;stroke-linejoin:miter;stroke-width:0.8;\"/>\r\n   </g>\r\n   <g id=\"text_18\">\r\n    <!-- Cat_Somali -->\r\n    <g transform=\"translate(191.205072 325.028896)scale(0.1 -0.1)\">\r\n     <defs>\r\n      <path d=\"M 64.40625 67.28125 \r\nL 64.40625 56.890625 \r\nQ 59.421875 61.53125 53.78125 63.8125 \r\nQ 48.140625 66.109375 41.796875 66.109375 \r\nQ 29.296875 66.109375 22.65625 58.46875 \r\nQ 16.015625 50.828125 16.015625 36.375 \r\nQ 16.015625 21.96875 22.65625 14.328125 \r\nQ 29.296875 6.6875 41.796875 6.6875 \r\nQ 48.140625 6.6875 53.78125 8.984375 \r\nQ 59.421875 11.28125 64.40625 15.921875 \r\nL 64.40625 5.609375 \r\nQ 59.234375 2.09375 53.4375 0.328125 \r\nQ 47.65625 -1.421875 41.21875 -1.421875 \r\nQ 24.65625 -1.421875 15.125 8.703125 \r\nQ 5.609375 18.84375 5.609375 36.375 \r\nQ 5.609375 53.953125 15.125 64.078125 \r\nQ 24.65625 74.21875 41.21875 74.21875 \r\nQ 47.75 74.21875 53.53125 72.484375 \r\nQ 59.328125 70.75 64.40625 67.28125 \r\nz\r\n\" id=\"DejaVuSans-67\"/>\r\n      <path d=\"M 34.28125 27.484375 \r\nQ 23.390625 27.484375 19.1875 25 \r\nQ 14.984375 22.515625 14.984375 16.5 \r\nQ 14.984375 11.71875 18.140625 8.90625 \r\nQ 21.296875 6.109375 26.703125 6.109375 \r\nQ 34.1875 6.109375 38.703125 11.40625 \r\nQ 43.21875 16.703125 43.21875 25.484375 \r\nL 43.21875 27.484375 \r\nz\r\nM 52.203125 31.203125 \r\nL 52.203125 0 \r\nL 43.21875 0 \r\nL 43.21875 8.296875 \r\nQ 40.140625 3.328125 35.546875 0.953125 \r\nQ 30.953125 -1.421875 24.3125 -1.421875 \r\nQ 15.921875 -1.421875 10.953125 3.296875 \r\nQ 6 8.015625 6 15.921875 \r\nQ 6 25.140625 12.171875 29.828125 \r\nQ 18.359375 34.515625 30.609375 34.515625 \r\nL 43.21875 34.515625 \r\nL 43.21875 35.40625 \r\nQ 43.21875 41.609375 39.140625 45 \r\nQ 35.0625 48.390625 27.6875 48.390625 \r\nQ 23 48.390625 18.546875 47.265625 \r\nQ 14.109375 46.140625 10.015625 43.890625 \r\nL 10.015625 52.203125 \r\nQ 14.9375 54.109375 19.578125 55.046875 \r\nQ 24.21875 56 28.609375 56 \r\nQ 40.484375 56 46.34375 49.84375 \r\nQ 52.203125 43.703125 52.203125 31.203125 \r\nz\r\n\" id=\"DejaVuSans-97\"/>\r\n      <path d=\"M 18.3125 70.21875 \r\nL 18.3125 54.6875 \r\nL 36.8125 54.6875 \r\nL 36.8125 47.703125 \r\nL 18.3125 47.703125 \r\nL 18.3125 18.015625 \r\nQ 18.3125 11.328125 20.140625 9.421875 \r\nQ 21.96875 7.515625 27.59375 7.515625 \r\nL 36.8125 7.515625 \r\nL 36.8125 0 \r\nL 27.59375 0 \r\nQ 17.1875 0 13.234375 3.875 \r\nQ 9.28125 7.765625 9.28125 18.015625 \r\nL 9.28125 47.703125 \r\nL 2.6875 47.703125 \r\nL 2.6875 54.6875 \r\nL 9.28125 54.6875 \r\nL 9.28125 70.21875 \r\nz\r\n\" id=\"DejaVuSans-116\"/>\r\n      <path d=\"M 50.984375 -16.609375 \r\nL 50.984375 -23.578125 \r\nL -0.984375 -23.578125 \r\nL -0.984375 -16.609375 \r\nz\r\n\" id=\"DejaVuSans-95\"/>\r\n      <path d=\"M 53.515625 70.515625 \r\nL 53.515625 60.890625 \r\nQ 47.90625 63.578125 42.921875 64.890625 \r\nQ 37.9375 66.21875 33.296875 66.21875 \r\nQ 25.25 66.21875 20.875 63.09375 \r\nQ 16.5 59.96875 16.5 54.203125 \r\nQ 16.5 49.359375 19.40625 46.890625 \r\nQ 22.3125 44.4375 30.421875 42.921875 \r\nL 36.375 41.703125 \r\nQ 47.40625 39.59375 52.65625 34.296875 \r\nQ 57.90625 29 57.90625 20.125 \r\nQ 57.90625 9.515625 50.796875 4.046875 \r\nQ 43.703125 -1.421875 29.984375 -1.421875 \r\nQ 24.8125 -1.421875 18.96875 -0.25 \r\nQ 13.140625 0.921875 6.890625 3.21875 \r\nL 6.890625 13.375 \r\nQ 12.890625 10.015625 18.65625 8.296875 \r\nQ 24.421875 6.59375 29.984375 6.59375 \r\nQ 38.421875 6.59375 43.015625 9.90625 \r\nQ 47.609375 13.234375 47.609375 19.390625 \r\nQ 47.609375 24.75 44.3125 27.78125 \r\nQ 41.015625 30.8125 33.5 32.328125 \r\nL 27.484375 33.5 \r\nQ 16.453125 35.6875 11.515625 40.375 \r\nQ 6.59375 45.0625 6.59375 53.421875 \r\nQ 6.59375 63.09375 13.40625 68.65625 \r\nQ 20.21875 74.21875 32.171875 74.21875 \r\nQ 37.3125 74.21875 42.625 73.28125 \r\nQ 47.953125 72.359375 53.515625 70.515625 \r\nz\r\n\" id=\"DejaVuSans-83\"/>\r\n      <path d=\"M 30.609375 48.390625 \r\nQ 23.390625 48.390625 19.1875 42.75 \r\nQ 14.984375 37.109375 14.984375 27.296875 \r\nQ 14.984375 17.484375 19.15625 11.84375 \r\nQ 23.34375 6.203125 30.609375 6.203125 \r\nQ 37.796875 6.203125 41.984375 11.859375 \r\nQ 46.1875 17.53125 46.1875 27.296875 \r\nQ 46.1875 37.015625 41.984375 42.703125 \r\nQ 37.796875 48.390625 30.609375 48.390625 \r\nz\r\nM 30.609375 56 \r\nQ 42.328125 56 49.015625 48.375 \r\nQ 55.71875 40.765625 55.71875 27.296875 \r\nQ 55.71875 13.875 49.015625 6.21875 \r\nQ 42.328125 -1.421875 30.609375 -1.421875 \r\nQ 18.84375 -1.421875 12.171875 6.21875 \r\nQ 5.515625 13.875 5.515625 27.296875 \r\nQ 5.515625 40.765625 12.171875 48.375 \r\nQ 18.84375 56 30.609375 56 \r\nz\r\n\" id=\"DejaVuSans-111\"/>\r\n      <path d=\"M 52 44.1875 \r\nQ 55.375 50.25 60.0625 53.125 \r\nQ 64.75 56 71.09375 56 \r\nQ 79.640625 56 84.28125 50.015625 \r\nQ 88.921875 44.046875 88.921875 33.015625 \r\nL 88.921875 0 \r\nL 79.890625 0 \r\nL 79.890625 32.71875 \r\nQ 79.890625 40.578125 77.09375 44.375 \r\nQ 74.3125 48.1875 68.609375 48.1875 \r\nQ 61.625 48.1875 57.5625 43.546875 \r\nQ 53.515625 38.921875 53.515625 30.90625 \r\nL 53.515625 0 \r\nL 44.484375 0 \r\nL 44.484375 32.71875 \r\nQ 44.484375 40.625 41.703125 44.40625 \r\nQ 38.921875 48.1875 33.109375 48.1875 \r\nQ 26.21875 48.1875 22.15625 43.53125 \r\nQ 18.109375 38.875 18.109375 30.90625 \r\nL 18.109375 0 \r\nL 9.078125 0 \r\nL 9.078125 54.6875 \r\nL 18.109375 54.6875 \r\nL 18.109375 46.1875 \r\nQ 21.1875 51.21875 25.484375 53.609375 \r\nQ 29.78125 56 35.6875 56 \r\nQ 41.65625 56 45.828125 52.96875 \r\nQ 50 49.953125 52 44.1875 \r\nz\r\n\" id=\"DejaVuSans-109\"/>\r\n      <path d=\"M 9.421875 75.984375 \r\nL 18.40625 75.984375 \r\nL 18.40625 0 \r\nL 9.421875 0 \r\nz\r\n\" id=\"DejaVuSans-108\"/>\r\n      <path d=\"M 9.421875 54.6875 \r\nL 18.40625 54.6875 \r\nL 18.40625 0 \r\nL 9.421875 0 \r\nz\r\nM 9.421875 75.984375 \r\nL 18.40625 75.984375 \r\nL 18.40625 64.59375 \r\nL 9.421875 64.59375 \r\nz\r\n\" id=\"DejaVuSans-105\"/>\r\n     </defs>\r\n     <use xlink:href=\"#DejaVuSans-67\"/>\r\n     <use x=\"69.824219\" xlink:href=\"#DejaVuSans-97\"/>\r\n     <use x=\"131.103516\" xlink:href=\"#DejaVuSans-116\"/>\r\n     <use x=\"170.3125\" xlink:href=\"#DejaVuSans-95\"/>\r\n     <use x=\"220.3125\" xlink:href=\"#DejaVuSans-83\"/>\r\n     <use x=\"283.789062\" xlink:href=\"#DejaVuSans-111\"/>\r\n     <use x=\"344.970703\" xlink:href=\"#DejaVuSans-109\"/>\r\n     <use x=\"442.382812\" xlink:href=\"#DejaVuSans-97\"/>\r\n     <use x=\"503.662109\" xlink:href=\"#DejaVuSans-108\"/>\r\n     <use x=\"531.445312\" xlink:href=\"#DejaVuSans-105\"/>\r\n    </g>\r\n   </g>\r\n   <g id=\"text_19\">\r\n    <!-- Cat_Oriental Long Hair -->\r\n    <g transform=\"translate(155.077257 119.165133)scale(0.1 -0.1)\">\r\n     <defs>\r\n      <path d=\"M 39.40625 66.21875 \r\nQ 28.65625 66.21875 22.328125 58.203125 \r\nQ 16.015625 50.203125 16.015625 36.375 \r\nQ 16.015625 22.609375 22.328125 14.59375 \r\nQ 28.65625 6.59375 39.40625 6.59375 \r\nQ 50.140625 6.59375 56.421875 14.59375 \r\nQ 62.703125 22.609375 62.703125 36.375 \r\nQ 62.703125 50.203125 56.421875 58.203125 \r\nQ 50.140625 66.21875 39.40625 66.21875 \r\nz\r\nM 39.40625 74.21875 \r\nQ 54.734375 74.21875 63.90625 63.9375 \r\nQ 73.09375 53.65625 73.09375 36.375 \r\nQ 73.09375 19.140625 63.90625 8.859375 \r\nQ 54.734375 -1.421875 39.40625 -1.421875 \r\nQ 24.03125 -1.421875 14.8125 8.828125 \r\nQ 5.609375 19.09375 5.609375 36.375 \r\nQ 5.609375 53.65625 14.8125 63.9375 \r\nQ 24.03125 74.21875 39.40625 74.21875 \r\nz\r\n\" id=\"DejaVuSans-79\"/>\r\n      <path d=\"M 41.109375 46.296875 \r\nQ 39.59375 47.171875 37.8125 47.578125 \r\nQ 36.03125 48 33.890625 48 \r\nQ 26.265625 48 22.1875 43.046875 \r\nQ 18.109375 38.09375 18.109375 28.8125 \r\nL 18.109375 0 \r\nL 9.078125 0 \r\nL 9.078125 54.6875 \r\nL 18.109375 54.6875 \r\nL 18.109375 46.1875 \r\nQ 20.953125 51.171875 25.484375 53.578125 \r\nQ 30.03125 56 36.53125 56 \r\nQ 37.453125 56 38.578125 55.875 \r\nQ 39.703125 55.765625 41.0625 55.515625 \r\nz\r\n\" id=\"DejaVuSans-114\"/>\r\n      <path d=\"M 56.203125 29.59375 \r\nL 56.203125 25.203125 \r\nL 14.890625 25.203125 \r\nQ 15.484375 15.921875 20.484375 11.0625 \r\nQ 25.484375 6.203125 34.421875 6.203125 \r\nQ 39.59375 6.203125 44.453125 7.46875 \r\nQ 49.3125 8.734375 54.109375 11.28125 \r\nL 54.109375 2.78125 \r\nQ 49.265625 0.734375 44.1875 -0.34375 \r\nQ 39.109375 -1.421875 33.890625 -1.421875 \r\nQ 20.796875 -1.421875 13.15625 6.1875 \r\nQ 5.515625 13.8125 5.515625 26.8125 \r\nQ 5.515625 40.234375 12.765625 48.109375 \r\nQ 20.015625 56 32.328125 56 \r\nQ 43.359375 56 49.78125 48.890625 \r\nQ 56.203125 41.796875 56.203125 29.59375 \r\nz\r\nM 47.21875 32.234375 \r\nQ 47.125 39.59375 43.09375 43.984375 \r\nQ 39.0625 48.390625 32.421875 48.390625 \r\nQ 24.90625 48.390625 20.390625 44.140625 \r\nQ 15.875 39.890625 15.1875 32.171875 \r\nz\r\n\" id=\"DejaVuSans-101\"/>\r\n      <path d=\"M 54.890625 33.015625 \r\nL 54.890625 0 \r\nL 45.90625 0 \r\nL 45.90625 32.71875 \r\nQ 45.90625 40.484375 42.875 44.328125 \r\nQ 39.84375 48.1875 33.796875 48.1875 \r\nQ 26.515625 48.1875 22.3125 43.546875 \r\nQ 18.109375 38.921875 18.109375 30.90625 \r\nL 18.109375 0 \r\nL 9.078125 0 \r\nL 9.078125 54.6875 \r\nL 18.109375 54.6875 \r\nL 18.109375 46.1875 \r\nQ 21.34375 51.125 25.703125 53.5625 \r\nQ 30.078125 56 35.796875 56 \r\nQ 45.21875 56 50.046875 50.171875 \r\nQ 54.890625 44.34375 54.890625 33.015625 \r\nz\r\n\" id=\"DejaVuSans-110\"/>\r\n      <path id=\"DejaVuSans-32\"/>\r\n      <path d=\"M 9.8125 72.90625 \r\nL 19.671875 72.90625 \r\nL 19.671875 8.296875 \r\nL 55.171875 8.296875 \r\nL 55.171875 0 \r\nL 9.8125 0 \r\nz\r\n\" id=\"DejaVuSans-76\"/>\r\n      <path d=\"M 45.40625 27.984375 \r\nQ 45.40625 37.75 41.375 43.109375 \r\nQ 37.359375 48.484375 30.078125 48.484375 \r\nQ 22.859375 48.484375 18.828125 43.109375 \r\nQ 14.796875 37.75 14.796875 27.984375 \r\nQ 14.796875 18.265625 18.828125 12.890625 \r\nQ 22.859375 7.515625 30.078125 7.515625 \r\nQ 37.359375 7.515625 41.375 12.890625 \r\nQ 45.40625 18.265625 45.40625 27.984375 \r\nz\r\nM 54.390625 6.78125 \r\nQ 54.390625 -7.171875 48.1875 -13.984375 \r\nQ 42 -20.796875 29.203125 -20.796875 \r\nQ 24.46875 -20.796875 20.265625 -20.09375 \r\nQ 16.0625 -19.390625 12.109375 -17.921875 \r\nL 12.109375 -9.1875 \r\nQ 16.0625 -11.328125 19.921875 -12.34375 \r\nQ 23.78125 -13.375 27.78125 -13.375 \r\nQ 36.625 -13.375 41.015625 -8.765625 \r\nQ 45.40625 -4.15625 45.40625 5.171875 \r\nL 45.40625 9.625 \r\nQ 42.625 4.78125 38.28125 2.390625 \r\nQ 33.9375 0 27.875 0 \r\nQ 17.828125 0 11.671875 7.65625 \r\nQ 5.515625 15.328125 5.515625 27.984375 \r\nQ 5.515625 40.671875 11.671875 48.328125 \r\nQ 17.828125 56 27.875 56 \r\nQ 33.9375 56 38.28125 53.609375 \r\nQ 42.625 51.21875 45.40625 46.390625 \r\nL 45.40625 54.6875 \r\nL 54.390625 54.6875 \r\nz\r\n\" id=\"DejaVuSans-103\"/>\r\n      <path d=\"M 9.8125 72.90625 \r\nL 19.671875 72.90625 \r\nL 19.671875 43.015625 \r\nL 55.515625 43.015625 \r\nL 55.515625 72.90625 \r\nL 65.375 72.90625 \r\nL 65.375 0 \r\nL 55.515625 0 \r\nL 55.515625 34.71875 \r\nL 19.671875 34.71875 \r\nL 19.671875 0 \r\nL 9.8125 0 \r\nz\r\n\" id=\"DejaVuSans-72\"/>\r\n     </defs>\r\n     <use xlink:href=\"#DejaVuSans-67\"/>\r\n     <use x=\"69.824219\" xlink:href=\"#DejaVuSans-97\"/>\r\n     <use x=\"131.103516\" xlink:href=\"#DejaVuSans-116\"/>\r\n     <use x=\"170.3125\" xlink:href=\"#DejaVuSans-95\"/>\r\n     <use x=\"220.3125\" xlink:href=\"#DejaVuSans-79\"/>\r\n     <use x=\"299.023438\" xlink:href=\"#DejaVuSans-114\"/>\r\n     <use x=\"340.136719\" xlink:href=\"#DejaVuSans-105\"/>\r\n     <use x=\"367.919922\" xlink:href=\"#DejaVuSans-101\"/>\r\n     <use x=\"429.443359\" xlink:href=\"#DejaVuSans-110\"/>\r\n     <use x=\"492.822266\" xlink:href=\"#DejaVuSans-116\"/>\r\n     <use x=\"532.03125\" xlink:href=\"#DejaVuSans-97\"/>\r\n     <use x=\"593.310547\" xlink:href=\"#DejaVuSans-108\"/>\r\n     <use x=\"621.09375\" xlink:href=\"#DejaVuSans-32\"/>\r\n     <use x=\"652.880859\" xlink:href=\"#DejaVuSans-76\"/>\r\n     <use x=\"706.84375\" xlink:href=\"#DejaVuSans-111\"/>\r\n     <use x=\"768.025391\" xlink:href=\"#DejaVuSans-110\"/>\r\n     <use x=\"831.404297\" xlink:href=\"#DejaVuSans-103\"/>\r\n     <use x=\"894.880859\" xlink:href=\"#DejaVuSans-32\"/>\r\n     <use x=\"926.667969\" xlink:href=\"#DejaVuSans-72\"/>\r\n     <use x=\"1001.863281\" xlink:href=\"#DejaVuSans-97\"/>\r\n     <use x=\"1063.142578\" xlink:href=\"#DejaVuSans-105\"/>\r\n     <use x=\"1090.925781\" xlink:href=\"#DejaVuSans-114\"/>\r\n    </g>\r\n   </g>\r\n   <g id=\"text_20\">\r\n    <!-- Cat_Egyptian Mau -->\r\n    <g transform=\"translate(203.2582 89.374285)scale(0.1 -0.1)\">\r\n     <defs>\r\n      <path d=\"M 9.8125 72.90625 \r\nL 55.90625 72.90625 \r\nL 55.90625 64.59375 \r\nL 19.671875 64.59375 \r\nL 19.671875 43.015625 \r\nL 54.390625 43.015625 \r\nL 54.390625 34.71875 \r\nL 19.671875 34.71875 \r\nL 19.671875 8.296875 \r\nL 56.78125 8.296875 \r\nL 56.78125 0 \r\nL 9.8125 0 \r\nz\r\n\" id=\"DejaVuSans-69\"/>\r\n      <path d=\"M 32.171875 -5.078125 \r\nQ 28.375 -14.84375 24.75 -17.8125 \r\nQ 21.140625 -20.796875 15.09375 -20.796875 \r\nL 7.90625 -20.796875 \r\nL 7.90625 -13.28125 \r\nL 13.1875 -13.28125 \r\nQ 16.890625 -13.28125 18.9375 -11.515625 \r\nQ 21 -9.765625 23.484375 -3.21875 \r\nL 25.09375 0.875 \r\nL 2.984375 54.6875 \r\nL 12.5 54.6875 \r\nL 29.59375 11.921875 \r\nL 46.6875 54.6875 \r\nL 56.203125 54.6875 \r\nz\r\n\" id=\"DejaVuSans-121\"/>\r\n      <path d=\"M 18.109375 8.203125 \r\nL 18.109375 -20.796875 \r\nL 9.078125 -20.796875 \r\nL 9.078125 54.6875 \r\nL 18.109375 54.6875 \r\nL 18.109375 46.390625 \r\nQ 20.953125 51.265625 25.265625 53.625 \r\nQ 29.59375 56 35.59375 56 \r\nQ 45.5625 56 51.78125 48.09375 \r\nQ 58.015625 40.1875 58.015625 27.296875 \r\nQ 58.015625 14.40625 51.78125 6.484375 \r\nQ 45.5625 -1.421875 35.59375 -1.421875 \r\nQ 29.59375 -1.421875 25.265625 0.953125 \r\nQ 20.953125 3.328125 18.109375 8.203125 \r\nz\r\nM 48.6875 27.296875 \r\nQ 48.6875 37.203125 44.609375 42.84375 \r\nQ 40.53125 48.484375 33.40625 48.484375 \r\nQ 26.265625 48.484375 22.1875 42.84375 \r\nQ 18.109375 37.203125 18.109375 27.296875 \r\nQ 18.109375 17.390625 22.1875 11.75 \r\nQ 26.265625 6.109375 33.40625 6.109375 \r\nQ 40.53125 6.109375 44.609375 11.75 \r\nQ 48.6875 17.390625 48.6875 27.296875 \r\nz\r\n\" id=\"DejaVuSans-112\"/>\r\n      <path d=\"M 9.8125 72.90625 \r\nL 24.515625 72.90625 \r\nL 43.109375 23.296875 \r\nL 61.8125 72.90625 \r\nL 76.515625 72.90625 \r\nL 76.515625 0 \r\nL 66.890625 0 \r\nL 66.890625 64.015625 \r\nL 48.09375 14.015625 \r\nL 38.1875 14.015625 \r\nL 19.390625 64.015625 \r\nL 19.390625 0 \r\nL 9.8125 0 \r\nz\r\n\" id=\"DejaVuSans-77\"/>\r\n      <path d=\"M 8.5 21.578125 \r\nL 8.5 54.6875 \r\nL 17.484375 54.6875 \r\nL 17.484375 21.921875 \r\nQ 17.484375 14.15625 20.5 10.265625 \r\nQ 23.53125 6.390625 29.59375 6.390625 \r\nQ 36.859375 6.390625 41.078125 11.03125 \r\nQ 45.3125 15.671875 45.3125 23.6875 \r\nL 45.3125 54.6875 \r\nL 54.296875 54.6875 \r\nL 54.296875 0 \r\nL 45.3125 0 \r\nL 45.3125 8.40625 \r\nQ 42.046875 3.421875 37.71875 1 \r\nQ 33.40625 -1.421875 27.6875 -1.421875 \r\nQ 18.265625 -1.421875 13.375 4.4375 \r\nQ 8.5 10.296875 8.5 21.578125 \r\nz\r\nM 31.109375 56 \r\nz\r\n\" id=\"DejaVuSans-117\"/>\r\n     </defs>\r\n     <use xlink:href=\"#DejaVuSans-67\"/>\r\n     <use x=\"69.824219\" xlink:href=\"#DejaVuSans-97\"/>\r\n     <use x=\"131.103516\" xlink:href=\"#DejaVuSans-116\"/>\r\n     <use x=\"170.3125\" xlink:href=\"#DejaVuSans-95\"/>\r\n     <use x=\"220.3125\" xlink:href=\"#DejaVuSans-69\"/>\r\n     <use x=\"283.496094\" xlink:href=\"#DejaVuSans-103\"/>\r\n     <use x=\"346.972656\" xlink:href=\"#DejaVuSans-121\"/>\r\n     <use x=\"406.152344\" xlink:href=\"#DejaVuSans-112\"/>\r\n     <use x=\"469.628906\" xlink:href=\"#DejaVuSans-116\"/>\r\n     <use x=\"508.837891\" xlink:href=\"#DejaVuSans-105\"/>\r\n     <use x=\"536.621094\" xlink:href=\"#DejaVuSans-97\"/>\r\n     <use x=\"597.900391\" xlink:href=\"#DejaVuSans-110\"/>\r\n     <use x=\"661.279297\" xlink:href=\"#DejaVuSans-32\"/>\r\n     <use x=\"693.066406\" xlink:href=\"#DejaVuSans-77\"/>\r\n     <use x=\"779.345703\" xlink:href=\"#DejaVuSans-97\"/>\r\n     <use x=\"840.625\" xlink:href=\"#DejaVuSans-117\"/>\r\n    </g>\r\n   </g>\r\n   <g id=\"text_21\">\r\n    <!-- Cat_Domestic Long Hair -->\r\n    <g transform=\"translate(380.908609 180.08186)scale(0.1 -0.1)\">\r\n     <defs>\r\n      <path d=\"M 19.671875 64.796875 \r\nL 19.671875 8.109375 \r\nL 31.59375 8.109375 \r\nQ 46.6875 8.109375 53.6875 14.9375 \r\nQ 60.6875 21.78125 60.6875 36.53125 \r\nQ 60.6875 51.171875 53.6875 57.984375 \r\nQ 46.6875 64.796875 31.59375 64.796875 \r\nz\r\nM 9.8125 72.90625 \r\nL 30.078125 72.90625 \r\nQ 51.265625 72.90625 61.171875 64.09375 \r\nQ 71.09375 55.28125 71.09375 36.53125 \r\nQ 71.09375 17.671875 61.125 8.828125 \r\nQ 51.171875 0 30.078125 0 \r\nL 9.8125 0 \r\nz\r\n\" id=\"DejaVuSans-68\"/>\r\n      <path d=\"M 44.28125 53.078125 \r\nL 44.28125 44.578125 \r\nQ 40.484375 46.53125 36.375 47.5 \r\nQ 32.28125 48.484375 27.875 48.484375 \r\nQ 21.1875 48.484375 17.84375 46.4375 \r\nQ 14.5 44.390625 14.5 40.28125 \r\nQ 14.5 37.15625 16.890625 35.375 \r\nQ 19.28125 33.59375 26.515625 31.984375 \r\nL 29.59375 31.296875 \r\nQ 39.15625 29.25 43.1875 25.515625 \r\nQ 47.21875 21.78125 47.21875 15.09375 \r\nQ 47.21875 7.46875 41.1875 3.015625 \r\nQ 35.15625 -1.421875 24.609375 -1.421875 \r\nQ 20.21875 -1.421875 15.453125 -0.5625 \r\nQ 10.6875 0.296875 5.421875 2 \r\nL 5.421875 11.28125 \r\nQ 10.40625 8.6875 15.234375 7.390625 \r\nQ 20.0625 6.109375 24.8125 6.109375 \r\nQ 31.15625 6.109375 34.5625 8.28125 \r\nQ 37.984375 10.453125 37.984375 14.40625 \r\nQ 37.984375 18.0625 35.515625 20.015625 \r\nQ 33.0625 21.96875 24.703125 23.78125 \r\nL 21.578125 24.515625 \r\nQ 13.234375 26.265625 9.515625 29.90625 \r\nQ 5.8125 33.546875 5.8125 39.890625 \r\nQ 5.8125 47.609375 11.28125 51.796875 \r\nQ 16.75 56 26.8125 56 \r\nQ 31.78125 56 36.171875 55.265625 \r\nQ 40.578125 54.546875 44.28125 53.078125 \r\nz\r\n\" id=\"DejaVuSans-115\"/>\r\n      <path d=\"M 48.78125 52.59375 \r\nL 48.78125 44.1875 \r\nQ 44.96875 46.296875 41.140625 47.34375 \r\nQ 37.3125 48.390625 33.40625 48.390625 \r\nQ 24.65625 48.390625 19.8125 42.84375 \r\nQ 14.984375 37.3125 14.984375 27.296875 \r\nQ 14.984375 17.28125 19.8125 11.734375 \r\nQ 24.65625 6.203125 33.40625 6.203125 \r\nQ 37.3125 6.203125 41.140625 7.25 \r\nQ 44.96875 8.296875 48.78125 10.40625 \r\nL 48.78125 2.09375 \r\nQ 45.015625 0.34375 40.984375 -0.53125 \r\nQ 36.96875 -1.421875 32.421875 -1.421875 \r\nQ 20.0625 -1.421875 12.78125 6.34375 \r\nQ 5.515625 14.109375 5.515625 27.296875 \r\nQ 5.515625 40.671875 12.859375 48.328125 \r\nQ 20.21875 56 33.015625 56 \r\nQ 37.15625 56 41.109375 55.140625 \r\nQ 45.0625 54.296875 48.78125 52.59375 \r\nz\r\n\" id=\"DejaVuSans-99\"/>\r\n     </defs>\r\n     <use xlink:href=\"#DejaVuSans-67\"/>\r\n     <use x=\"69.824219\" xlink:href=\"#DejaVuSans-97\"/>\r\n     <use x=\"131.103516\" xlink:href=\"#DejaVuSans-116\"/>\r\n     <use x=\"170.3125\" xlink:href=\"#DejaVuSans-95\"/>\r\n     <use x=\"220.3125\" xlink:href=\"#DejaVuSans-68\"/>\r\n     <use x=\"297.314453\" xlink:href=\"#DejaVuSans-111\"/>\r\n     <use x=\"358.496094\" xlink:href=\"#DejaVuSans-109\"/>\r\n     <use x=\"455.908203\" xlink:href=\"#DejaVuSans-101\"/>\r\n     <use x=\"517.431641\" xlink:href=\"#DejaVuSans-115\"/>\r\n     <use x=\"569.53125\" xlink:href=\"#DejaVuSans-116\"/>\r\n     <use x=\"608.740234\" xlink:href=\"#DejaVuSans-105\"/>\r\n     <use x=\"636.523438\" xlink:href=\"#DejaVuSans-99\"/>\r\n     <use x=\"691.503906\" xlink:href=\"#DejaVuSans-32\"/>\r\n     <use x=\"723.291016\" xlink:href=\"#DejaVuSans-76\"/>\r\n     <use x=\"777.253906\" xlink:href=\"#DejaVuSans-111\"/>\r\n     <use x=\"838.435547\" xlink:href=\"#DejaVuSans-110\"/>\r\n     <use x=\"901.814453\" xlink:href=\"#DejaVuSans-103\"/>\r\n     <use x=\"965.291016\" xlink:href=\"#DejaVuSans-32\"/>\r\n     <use x=\"997.078125\" xlink:href=\"#DejaVuSans-72\"/>\r\n     <use x=\"1072.273438\" xlink:href=\"#DejaVuSans-97\"/>\r\n     <use x=\"1133.552734\" xlink:href=\"#DejaVuSans-105\"/>\r\n     <use x=\"1161.335938\" xlink:href=\"#DejaVuSans-114\"/>\r\n    </g>\r\n   </g>\r\n   <g id=\"text_22\">\r\n    <!-- Cat_Manx -->\r\n    <g transform=\"translate(373.368051 204.657286)scale(0.1 -0.1)\">\r\n     <defs>\r\n      <path d=\"M 54.890625 54.6875 \r\nL 35.109375 28.078125 \r\nL 55.90625 0 \r\nL 45.3125 0 \r\nL 29.390625 21.484375 \r\nL 13.484375 0 \r\nL 2.875 0 \r\nL 24.125 28.609375 \r\nL 4.6875 54.6875 \r\nL 15.28125 54.6875 \r\nL 29.78125 35.203125 \r\nL 44.28125 54.6875 \r\nz\r\n\" id=\"DejaVuSans-120\"/>\r\n     </defs>\r\n     <use xlink:href=\"#DejaVuSans-67\"/>\r\n     <use x=\"69.824219\" xlink:href=\"#DejaVuSans-97\"/>\r\n     <use x=\"131.103516\" xlink:href=\"#DejaVuSans-116\"/>\r\n     <use x=\"170.3125\" xlink:href=\"#DejaVuSans-95\"/>\r\n     <use x=\"220.3125\" xlink:href=\"#DejaVuSans-77\"/>\r\n     <use x=\"306.591797\" xlink:href=\"#DejaVuSans-97\"/>\r\n     <use x=\"367.871094\" xlink:href=\"#DejaVuSans-110\"/>\r\n     <use x=\"431.25\" xlink:href=\"#DejaVuSans-120\"/>\r\n    </g>\r\n   </g>\r\n   <g id=\"text_23\">\r\n    <!-- Cat_Balinese -->\r\n    <g transform=\"translate(133.986651 134.74029)scale(0.1 -0.1)\">\r\n     <defs>\r\n      <path d=\"M 19.671875 34.8125 \r\nL 19.671875 8.109375 \r\nL 35.5 8.109375 \r\nQ 43.453125 8.109375 47.28125 11.40625 \r\nQ 51.125 14.703125 51.125 21.484375 \r\nQ 51.125 28.328125 47.28125 31.5625 \r\nQ 43.453125 34.8125 35.5 34.8125 \r\nz\r\nM 19.671875 64.796875 \r\nL 19.671875 42.828125 \r\nL 34.28125 42.828125 \r\nQ 41.5 42.828125 45.03125 45.53125 \r\nQ 48.578125 48.25 48.578125 53.8125 \r\nQ 48.578125 59.328125 45.03125 62.0625 \r\nQ 41.5 64.796875 34.28125 64.796875 \r\nz\r\nM 9.8125 72.90625 \r\nL 35.015625 72.90625 \r\nQ 46.296875 72.90625 52.390625 68.21875 \r\nQ 58.5 63.53125 58.5 54.890625 \r\nQ 58.5 48.1875 55.375 44.234375 \r\nQ 52.25 40.28125 46.1875 39.3125 \r\nQ 53.46875 37.75 57.5 32.78125 \r\nQ 61.53125 27.828125 61.53125 20.40625 \r\nQ 61.53125 10.640625 54.890625 5.3125 \r\nQ 48.25 0 35.984375 0 \r\nL 9.8125 0 \r\nz\r\n\" id=\"DejaVuSans-66\"/>\r\n     </defs>\r\n     <use xlink:href=\"#DejaVuSans-67\"/>\r\n     <use x=\"69.824219\" xlink:href=\"#DejaVuSans-97\"/>\r\n     <use x=\"131.103516\" xlink:href=\"#DejaVuSans-116\"/>\r\n     <use x=\"170.3125\" xlink:href=\"#DejaVuSans-95\"/>\r\n     <use x=\"220.3125\" xlink:href=\"#DejaVuSans-66\"/>\r\n     <use x=\"288.916016\" xlink:href=\"#DejaVuSans-97\"/>\r\n     <use x=\"350.195312\" xlink:href=\"#DejaVuSans-108\"/>\r\n     <use x=\"377.978516\" xlink:href=\"#DejaVuSans-105\"/>\r\n     <use x=\"405.761719\" xlink:href=\"#DejaVuSans-110\"/>\r\n     <use x=\"469.140625\" xlink:href=\"#DejaVuSans-101\"/>\r\n     <use x=\"530.664062\" xlink:href=\"#DejaVuSans-115\"/>\r\n     <use x=\"582.763672\" xlink:href=\"#DejaVuSans-101\"/>\r\n    </g>\r\n   </g>\r\n   <g id=\"text_24\">\r\n    <!-- Cat_Tuxedo -->\r\n    <g transform=\"translate(475.324903 178.208108)scale(0.1 -0.1)\">\r\n     <defs>\r\n      <path d=\"M -0.296875 72.90625 \r\nL 61.375 72.90625 \r\nL 61.375 64.59375 \r\nL 35.5 64.59375 \r\nL 35.5 0 \r\nL 25.59375 0 \r\nL 25.59375 64.59375 \r\nL -0.296875 64.59375 \r\nz\r\n\" id=\"DejaVuSans-84\"/>\r\n      <path d=\"M 45.40625 46.390625 \r\nL 45.40625 75.984375 \r\nL 54.390625 75.984375 \r\nL 54.390625 0 \r\nL 45.40625 0 \r\nL 45.40625 8.203125 \r\nQ 42.578125 3.328125 38.25 0.953125 \r\nQ 33.9375 -1.421875 27.875 -1.421875 \r\nQ 17.96875 -1.421875 11.734375 6.484375 \r\nQ 5.515625 14.40625 5.515625 27.296875 \r\nQ 5.515625 40.1875 11.734375 48.09375 \r\nQ 17.96875 56 27.875 56 \r\nQ 33.9375 56 38.25 53.625 \r\nQ 42.578125 51.265625 45.40625 46.390625 \r\nz\r\nM 14.796875 27.296875 \r\nQ 14.796875 17.390625 18.875 11.75 \r\nQ 22.953125 6.109375 30.078125 6.109375 \r\nQ 37.203125 6.109375 41.296875 11.75 \r\nQ 45.40625 17.390625 45.40625 27.296875 \r\nQ 45.40625 37.203125 41.296875 42.84375 \r\nQ 37.203125 48.484375 30.078125 48.484375 \r\nQ 22.953125 48.484375 18.875 42.84375 \r\nQ 14.796875 37.203125 14.796875 27.296875 \r\nz\r\n\" id=\"DejaVuSans-100\"/>\r\n     </defs>\r\n     <use xlink:href=\"#DejaVuSans-67\"/>\r\n     <use x=\"69.824219\" xlink:href=\"#DejaVuSans-97\"/>\r\n     <use x=\"131.103516\" xlink:href=\"#DejaVuSans-116\"/>\r\n     <use x=\"170.3125\" xlink:href=\"#DejaVuSans-95\"/>\r\n     <use x=\"220.3125\" xlink:href=\"#DejaVuSans-84\"/>\r\n     <use x=\"266.271484\" xlink:href=\"#DejaVuSans-117\"/>\r\n     <use x=\"329.650391\" xlink:href=\"#DejaVuSans-120\"/>\r\n     <use x=\"385.705078\" xlink:href=\"#DejaVuSans-101\"/>\r\n     <use x=\"447.228516\" xlink:href=\"#DejaVuSans-100\"/>\r\n     <use x=\"510.705078\" xlink:href=\"#DejaVuSans-111\"/>\r\n    </g>\r\n   </g>\r\n   <g id=\"text_25\">\r\n    <!-- Cat_Dilute Tortoiseshell -->\r\n    <g transform=\"translate(431.252732 328.527362)scale(0.1 -0.1)\">\r\n     <defs>\r\n      <path d=\"M 54.890625 33.015625 \r\nL 54.890625 0 \r\nL 45.90625 0 \r\nL 45.90625 32.71875 \r\nQ 45.90625 40.484375 42.875 44.328125 \r\nQ 39.84375 48.1875 33.796875 48.1875 \r\nQ 26.515625 48.1875 22.3125 43.546875 \r\nQ 18.109375 38.921875 18.109375 30.90625 \r\nL 18.109375 0 \r\nL 9.078125 0 \r\nL 9.078125 75.984375 \r\nL 18.109375 75.984375 \r\nL 18.109375 46.1875 \r\nQ 21.34375 51.125 25.703125 53.5625 \r\nQ 30.078125 56 35.796875 56 \r\nQ 45.21875 56 50.046875 50.171875 \r\nQ 54.890625 44.34375 54.890625 33.015625 \r\nz\r\n\" id=\"DejaVuSans-104\"/>\r\n     </defs>\r\n     <use xlink:href=\"#DejaVuSans-67\"/>\r\n     <use x=\"69.824219\" xlink:href=\"#DejaVuSans-97\"/>\r\n     <use x=\"131.103516\" xlink:href=\"#DejaVuSans-116\"/>\r\n     <use x=\"170.3125\" xlink:href=\"#DejaVuSans-95\"/>\r\n     <use x=\"220.3125\" xlink:href=\"#DejaVuSans-68\"/>\r\n     <use x=\"297.314453\" xlink:href=\"#DejaVuSans-105\"/>\r\n     <use x=\"325.097656\" xlink:href=\"#DejaVuSans-108\"/>\r\n     <use x=\"352.880859\" xlink:href=\"#DejaVuSans-117\"/>\r\n     <use x=\"416.259766\" xlink:href=\"#DejaVuSans-116\"/>\r\n     <use x=\"455.46875\" xlink:href=\"#DejaVuSans-101\"/>\r\n     <use x=\"516.992188\" xlink:href=\"#DejaVuSans-32\"/>\r\n     <use x=\"548.779297\" xlink:href=\"#DejaVuSans-84\"/>\r\n     <use x=\"592.863281\" xlink:href=\"#DejaVuSans-111\"/>\r\n     <use x=\"654.044922\" xlink:href=\"#DejaVuSans-114\"/>\r\n     <use x=\"695.158203\" xlink:href=\"#DejaVuSans-116\"/>\r\n     <use x=\"734.367188\" xlink:href=\"#DejaVuSans-111\"/>\r\n     <use x=\"795.548828\" xlink:href=\"#DejaVuSans-105\"/>\r\n     <use x=\"823.332031\" xlink:href=\"#DejaVuSans-115\"/>\r\n     <use x=\"875.431641\" xlink:href=\"#DejaVuSans-101\"/>\r\n     <use x=\"936.955078\" xlink:href=\"#DejaVuSans-115\"/>\r\n     <use x=\"989.054688\" xlink:href=\"#DejaVuSans-104\"/>\r\n     <use x=\"1052.433594\" xlink:href=\"#DejaVuSans-101\"/>\r\n     <use x=\"1113.957031\" xlink:href=\"#DejaVuSans-108\"/>\r\n     <use x=\"1141.740234\" xlink:href=\"#DejaVuSans-108\"/>\r\n    </g>\r\n   </g>\r\n   <g id=\"text_26\">\r\n    <!-- Cat_American Curl -->\r\n    <g transform=\"translate(402.138239 396.209737)scale(0.1 -0.1)\">\r\n     <defs>\r\n      <path d=\"M 34.1875 63.1875 \r\nL 20.796875 26.90625 \r\nL 47.609375 26.90625 \r\nz\r\nM 28.609375 72.90625 \r\nL 39.796875 72.90625 \r\nL 67.578125 0 \r\nL 57.328125 0 \r\nL 50.6875 18.703125 \r\nL 17.828125 18.703125 \r\nL 11.1875 0 \r\nL 0.78125 0 \r\nz\r\n\" id=\"DejaVuSans-65\"/>\r\n     </defs>\r\n     <use xlink:href=\"#DejaVuSans-67\"/>\r\n     <use x=\"69.824219\" xlink:href=\"#DejaVuSans-97\"/>\r\n     <use x=\"131.103516\" xlink:href=\"#DejaVuSans-116\"/>\r\n     <use x=\"170.3125\" xlink:href=\"#DejaVuSans-95\"/>\r\n     <use x=\"220.3125\" xlink:href=\"#DejaVuSans-65\"/>\r\n     <use x=\"288.720703\" xlink:href=\"#DejaVuSans-109\"/>\r\n     <use x=\"386.132812\" xlink:href=\"#DejaVuSans-101\"/>\r\n     <use x=\"447.65625\" xlink:href=\"#DejaVuSans-114\"/>\r\n     <use x=\"488.769531\" xlink:href=\"#DejaVuSans-105\"/>\r\n     <use x=\"516.552734\" xlink:href=\"#DejaVuSans-99\"/>\r\n     <use x=\"571.533203\" xlink:href=\"#DejaVuSans-97\"/>\r\n     <use x=\"632.8125\" xlink:href=\"#DejaVuSans-110\"/>\r\n     <use x=\"696.191406\" xlink:href=\"#DejaVuSans-32\"/>\r\n     <use x=\"727.978516\" xlink:href=\"#DejaVuSans-67\"/>\r\n     <use x=\"797.802734\" xlink:href=\"#DejaVuSans-117\"/>\r\n     <use x=\"861.181641\" xlink:href=\"#DejaVuSans-114\"/>\r\n     <use x=\"902.294922\" xlink:href=\"#DejaVuSans-108\"/>\r\n    </g>\r\n   </g>\r\n   <g id=\"text_27\">\r\n    <!-- Cat_Nebelung -->\r\n    <g transform=\"translate(377.481587 418.417276)scale(0.1 -0.1)\">\r\n     <defs>\r\n      <path d=\"M 9.8125 72.90625 \r\nL 23.09375 72.90625 \r\nL 55.421875 11.921875 \r\nL 55.421875 72.90625 \r\nL 64.984375 72.90625 \r\nL 64.984375 0 \r\nL 51.703125 0 \r\nL 19.390625 60.984375 \r\nL 19.390625 0 \r\nL 9.8125 0 \r\nz\r\n\" id=\"DejaVuSans-78\"/>\r\n      <path d=\"M 48.6875 27.296875 \r\nQ 48.6875 37.203125 44.609375 42.84375 \r\nQ 40.53125 48.484375 33.40625 48.484375 \r\nQ 26.265625 48.484375 22.1875 42.84375 \r\nQ 18.109375 37.203125 18.109375 27.296875 \r\nQ 18.109375 17.390625 22.1875 11.75 \r\nQ 26.265625 6.109375 33.40625 6.109375 \r\nQ 40.53125 6.109375 44.609375 11.75 \r\nQ 48.6875 17.390625 48.6875 27.296875 \r\nz\r\nM 18.109375 46.390625 \r\nQ 20.953125 51.265625 25.265625 53.625 \r\nQ 29.59375 56 35.59375 56 \r\nQ 45.5625 56 51.78125 48.09375 \r\nQ 58.015625 40.1875 58.015625 27.296875 \r\nQ 58.015625 14.40625 51.78125 6.484375 \r\nQ 45.5625 -1.421875 35.59375 -1.421875 \r\nQ 29.59375 -1.421875 25.265625 0.953125 \r\nQ 20.953125 3.328125 18.109375 8.203125 \r\nL 18.109375 0 \r\nL 9.078125 0 \r\nL 9.078125 75.984375 \r\nL 18.109375 75.984375 \r\nz\r\n\" id=\"DejaVuSans-98\"/>\r\n     </defs>\r\n     <use xlink:href=\"#DejaVuSans-67\"/>\r\n     <use x=\"69.824219\" xlink:href=\"#DejaVuSans-97\"/>\r\n     <use x=\"131.103516\" xlink:href=\"#DejaVuSans-116\"/>\r\n     <use x=\"170.3125\" xlink:href=\"#DejaVuSans-95\"/>\r\n     <use x=\"220.3125\" xlink:href=\"#DejaVuSans-78\"/>\r\n     <use x=\"295.117188\" xlink:href=\"#DejaVuSans-101\"/>\r\n     <use x=\"356.640625\" xlink:href=\"#DejaVuSans-98\"/>\r\n     <use x=\"420.117188\" xlink:href=\"#DejaVuSans-101\"/>\r\n     <use x=\"481.640625\" xlink:href=\"#DejaVuSans-108\"/>\r\n     <use x=\"509.423828\" xlink:href=\"#DejaVuSans-117\"/>\r\n     <use x=\"572.802734\" xlink:href=\"#DejaVuSans-110\"/>\r\n     <use x=\"636.181641\" xlink:href=\"#DejaVuSans-103\"/>\r\n    </g>\r\n   </g>\r\n   <g id=\"text_28\">\r\n    <!-- Dog_Spitz -->\r\n    <g transform=\"translate(214.114012 346.769622)scale(0.1 -0.1)\">\r\n     <defs>\r\n      <path d=\"M 5.515625 54.6875 \r\nL 48.1875 54.6875 \r\nL 48.1875 46.484375 \r\nL 14.40625 7.171875 \r\nL 48.1875 7.171875 \r\nL 48.1875 0 \r\nL 4.296875 0 \r\nL 4.296875 8.203125 \r\nL 38.09375 47.515625 \r\nL 5.515625 47.515625 \r\nz\r\n\" id=\"DejaVuSans-122\"/>\r\n     </defs>\r\n     <use xlink:href=\"#DejaVuSans-68\"/>\r\n     <use x=\"77.001953\" xlink:href=\"#DejaVuSans-111\"/>\r\n     <use x=\"138.183594\" xlink:href=\"#DejaVuSans-103\"/>\r\n     <use x=\"201.660156\" xlink:href=\"#DejaVuSans-95\"/>\r\n     <use x=\"251.660156\" xlink:href=\"#DejaVuSans-83\"/>\r\n     <use x=\"315.136719\" xlink:href=\"#DejaVuSans-112\"/>\r\n     <use x=\"378.613281\" xlink:href=\"#DejaVuSans-105\"/>\r\n     <use x=\"406.396484\" xlink:href=\"#DejaVuSans-116\"/>\r\n     <use x=\"445.605469\" xlink:href=\"#DejaVuSans-122\"/>\r\n    </g>\r\n   </g>\r\n   <g id=\"text_29\">\r\n    <!-- Dog_0 -->\r\n    <g transform=\"translate(424.420687 203.638827)scale(0.1 -0.1)\">\r\n     <use xlink:href=\"#DejaVuSans-68\"/>\r\n     <use x=\"77.001953\" xlink:href=\"#DejaVuSans-111\"/>\r\n     <use x=\"138.183594\" xlink:href=\"#DejaVuSans-103\"/>\r\n     <use x=\"201.660156\" xlink:href=\"#DejaVuSans-95\"/>\r\n     <use x=\"251.660156\" xlink:href=\"#DejaVuSans-48\"/>\r\n    </g>\r\n   </g>\r\n   <g id=\"text_30\">\r\n    <!-- Dog_Wheaten Terrier -->\r\n    <g transform=\"translate(444.723086 159.974598)scale(0.1 -0.1)\">\r\n     <defs>\r\n      <path d=\"M 3.328125 72.90625 \r\nL 13.28125 72.90625 \r\nL 28.609375 11.28125 \r\nL 43.890625 72.90625 \r\nL 54.984375 72.90625 \r\nL 70.3125 11.28125 \r\nL 85.59375 72.90625 \r\nL 95.609375 72.90625 \r\nL 77.296875 0 \r\nL 64.890625 0 \r\nL 49.515625 63.28125 \r\nL 33.984375 0 \r\nL 21.578125 0 \r\nz\r\n\" id=\"DejaVuSans-87\"/>\r\n     </defs>\r\n     <use xlink:href=\"#DejaVuSans-68\"/>\r\n     <use x=\"77.001953\" xlink:href=\"#DejaVuSans-111\"/>\r\n     <use x=\"138.183594\" xlink:href=\"#DejaVuSans-103\"/>\r\n     <use x=\"201.660156\" xlink:href=\"#DejaVuSans-95\"/>\r\n     <use x=\"251.660156\" xlink:href=\"#DejaVuSans-87\"/>\r\n     <use x=\"350.537109\" xlink:href=\"#DejaVuSans-104\"/>\r\n     <use x=\"413.916016\" xlink:href=\"#DejaVuSans-101\"/>\r\n     <use x=\"475.439453\" xlink:href=\"#DejaVuSans-97\"/>\r\n     <use x=\"536.71875\" xlink:href=\"#DejaVuSans-116\"/>\r\n     <use x=\"575.927734\" xlink:href=\"#DejaVuSans-101\"/>\r\n     <use x=\"637.451172\" xlink:href=\"#DejaVuSans-110\"/>\r\n     <use x=\"700.830078\" xlink:href=\"#DejaVuSans-32\"/>\r\n     <use x=\"732.617188\" xlink:href=\"#DejaVuSans-84\"/>\r\n     <use x=\"776.701172\" xlink:href=\"#DejaVuSans-101\"/>\r\n     <use x=\"838.224609\" xlink:href=\"#DejaVuSans-114\"/>\r\n     <use x=\"877.587891\" xlink:href=\"#DejaVuSans-114\"/>\r\n     <use x=\"918.701172\" xlink:href=\"#DejaVuSans-105\"/>\r\n     <use x=\"946.484375\" xlink:href=\"#DejaVuSans-101\"/>\r\n     <use x=\"1008.007812\" xlink:href=\"#DejaVuSans-114\"/>\r\n    </g>\r\n   </g>\r\n   <g id=\"text_31\">\r\n    <!-- Dog_Shiba Inu -->\r\n    <g transform=\"translate(193.017645 313.746557)scale(0.1 -0.1)\">\r\n     <defs>\r\n      <path d=\"M 9.8125 72.90625 \r\nL 19.671875 72.90625 \r\nL 19.671875 0 \r\nL 9.8125 0 \r\nz\r\n\" id=\"DejaVuSans-73\"/>\r\n     </defs>\r\n     <use xlink:href=\"#DejaVuSans-68\"/>\r\n     <use x=\"77.001953\" xlink:href=\"#DejaVuSans-111\"/>\r\n     <use x=\"138.183594\" xlink:href=\"#DejaVuSans-103\"/>\r\n     <use x=\"201.660156\" xlink:href=\"#DejaVuSans-95\"/>\r\n     <use x=\"251.660156\" xlink:href=\"#DejaVuSans-83\"/>\r\n     <use x=\"315.136719\" xlink:href=\"#DejaVuSans-104\"/>\r\n     <use x=\"378.515625\" xlink:href=\"#DejaVuSans-105\"/>\r\n     <use x=\"406.298828\" xlink:href=\"#DejaVuSans-98\"/>\r\n     <use x=\"469.775391\" xlink:href=\"#DejaVuSans-97\"/>\r\n     <use x=\"531.054688\" xlink:href=\"#DejaVuSans-32\"/>\r\n     <use x=\"562.841797\" xlink:href=\"#DejaVuSans-73\"/>\r\n     <use x=\"592.333984\" xlink:href=\"#DejaVuSans-110\"/>\r\n     <use x=\"655.712891\" xlink:href=\"#DejaVuSans-117\"/>\r\n    </g>\r\n   </g>\r\n   <g id=\"text_32\">\r\n    <!-- Dog_Munsterlander -->\r\n    <g transform=\"translate(198.941619 278.690736)scale(0.1 -0.1)\">\r\n     <use xlink:href=\"#DejaVuSans-68\"/>\r\n     <use x=\"77.001953\" xlink:href=\"#DejaVuSans-111\"/>\r\n     <use x=\"138.183594\" xlink:href=\"#DejaVuSans-103\"/>\r\n     <use x=\"201.660156\" xlink:href=\"#DejaVuSans-95\"/>\r\n     <use x=\"251.660156\" xlink:href=\"#DejaVuSans-77\"/>\r\n     <use x=\"337.939453\" xlink:href=\"#DejaVuSans-117\"/>\r\n     <use x=\"401.318359\" xlink:href=\"#DejaVuSans-110\"/>\r\n     <use x=\"464.697266\" xlink:href=\"#DejaVuSans-115\"/>\r\n     <use x=\"516.796875\" xlink:href=\"#DejaVuSans-116\"/>\r\n     <use x=\"556.005859\" xlink:href=\"#DejaVuSans-101\"/>\r\n     <use x=\"617.529297\" xlink:href=\"#DejaVuSans-114\"/>\r\n     <use x=\"658.642578\" xlink:href=\"#DejaVuSans-108\"/>\r\n     <use x=\"686.425781\" xlink:href=\"#DejaVuSans-97\"/>\r\n     <use x=\"747.705078\" xlink:href=\"#DejaVuSans-110\"/>\r\n     <use x=\"811.083984\" xlink:href=\"#DejaVuSans-100\"/>\r\n     <use x=\"874.560547\" xlink:href=\"#DejaVuSans-101\"/>\r\n     <use x=\"936.083984\" xlink:href=\"#DejaVuSans-114\"/>\r\n    </g>\r\n   </g>\r\n   <g id=\"text_33\">\r\n    <!-- Dog_Rat Terrier -->\r\n    <g transform=\"translate(219.746799 38.929242)scale(0.1 -0.1)\">\r\n     <defs>\r\n      <path d=\"M 44.390625 34.1875 \r\nQ 47.5625 33.109375 50.5625 29.59375 \r\nQ 53.5625 26.078125 56.59375 19.921875 \r\nL 66.609375 0 \r\nL 56 0 \r\nL 46.6875 18.703125 \r\nQ 43.0625 26.03125 39.671875 28.421875 \r\nQ 36.28125 30.8125 30.421875 30.8125 \r\nL 19.671875 30.8125 \r\nL 19.671875 0 \r\nL 9.8125 0 \r\nL 9.8125 72.90625 \r\nL 32.078125 72.90625 \r\nQ 44.578125 72.90625 50.734375 67.671875 \r\nQ 56.890625 62.453125 56.890625 51.90625 \r\nQ 56.890625 45.015625 53.6875 40.46875 \r\nQ 50.484375 35.9375 44.390625 34.1875 \r\nz\r\nM 19.671875 64.796875 \r\nL 19.671875 38.921875 \r\nL 32.078125 38.921875 \r\nQ 39.203125 38.921875 42.84375 42.21875 \r\nQ 46.484375 45.515625 46.484375 51.90625 \r\nQ 46.484375 58.296875 42.84375 61.546875 \r\nQ 39.203125 64.796875 32.078125 64.796875 \r\nz\r\n\" id=\"DejaVuSans-82\"/>\r\n     </defs>\r\n     <use xlink:href=\"#DejaVuSans-68\"/>\r\n     <use x=\"77.001953\" xlink:href=\"#DejaVuSans-111\"/>\r\n     <use x=\"138.183594\" xlink:href=\"#DejaVuSans-103\"/>\r\n     <use x=\"201.660156\" xlink:href=\"#DejaVuSans-95\"/>\r\n     <use x=\"251.660156\" xlink:href=\"#DejaVuSans-82\"/>\r\n     <use x=\"318.892578\" xlink:href=\"#DejaVuSans-97\"/>\r\n     <use x=\"380.171875\" xlink:href=\"#DejaVuSans-116\"/>\r\n     <use x=\"419.380859\" xlink:href=\"#DejaVuSans-32\"/>\r\n     <use x=\"451.167969\" xlink:href=\"#DejaVuSans-84\"/>\r\n     <use x=\"495.251953\" xlink:href=\"#DejaVuSans-101\"/>\r\n     <use x=\"556.775391\" xlink:href=\"#DejaVuSans-114\"/>\r\n     <use x=\"596.138672\" xlink:href=\"#DejaVuSans-114\"/>\r\n     <use x=\"637.251953\" xlink:href=\"#DejaVuSans-105\"/>\r\n     <use x=\"665.035156\" xlink:href=\"#DejaVuSans-101\"/>\r\n     <use x=\"726.558594\" xlink:href=\"#DejaVuSans-114\"/>\r\n    </g>\r\n   </g>\r\n   <g id=\"text_34\">\r\n    <!-- Dog_Irish Wolfhound -->\r\n    <g transform=\"translate(348.006969 23.071821)scale(0.1 -0.1)\">\r\n     <defs>\r\n      <path d=\"M 37.109375 75.984375 \r\nL 37.109375 68.5 \r\nL 28.515625 68.5 \r\nQ 23.6875 68.5 21.796875 66.546875 \r\nQ 19.921875 64.59375 19.921875 59.515625 \r\nL 19.921875 54.6875 \r\nL 34.71875 54.6875 \r\nL 34.71875 47.703125 \r\nL 19.921875 47.703125 \r\nL 19.921875 0 \r\nL 10.890625 0 \r\nL 10.890625 47.703125 \r\nL 2.296875 47.703125 \r\nL 2.296875 54.6875 \r\nL 10.890625 54.6875 \r\nL 10.890625 58.5 \r\nQ 10.890625 67.625 15.140625 71.796875 \r\nQ 19.390625 75.984375 28.609375 75.984375 \r\nz\r\n\" id=\"DejaVuSans-102\"/>\r\n     </defs>\r\n     <use xlink:href=\"#DejaVuSans-68\"/>\r\n     <use x=\"77.001953\" xlink:href=\"#DejaVuSans-111\"/>\r\n     <use x=\"138.183594\" xlink:href=\"#DejaVuSans-103\"/>\r\n     <use x=\"201.660156\" xlink:href=\"#DejaVuSans-95\"/>\r\n     <use x=\"251.660156\" xlink:href=\"#DejaVuSans-73\"/>\r\n     <use x=\"281.152344\" xlink:href=\"#DejaVuSans-114\"/>\r\n     <use x=\"322.265625\" xlink:href=\"#DejaVuSans-105\"/>\r\n     <use x=\"350.048828\" xlink:href=\"#DejaVuSans-115\"/>\r\n     <use x=\"402.148438\" xlink:href=\"#DejaVuSans-104\"/>\r\n     <use x=\"465.527344\" xlink:href=\"#DejaVuSans-32\"/>\r\n     <use x=\"497.314453\" xlink:href=\"#DejaVuSans-87\"/>\r\n     <use x=\"590.316406\" xlink:href=\"#DejaVuSans-111\"/>\r\n     <use x=\"651.498047\" xlink:href=\"#DejaVuSans-108\"/>\r\n     <use x=\"679.28125\" xlink:href=\"#DejaVuSans-102\"/>\r\n     <use x=\"714.486328\" xlink:href=\"#DejaVuSans-104\"/>\r\n     <use x=\"777.865234\" xlink:href=\"#DejaVuSans-111\"/>\r\n     <use x=\"839.046875\" xlink:href=\"#DejaVuSans-117\"/>\r\n     <use x=\"902.425781\" xlink:href=\"#DejaVuSans-110\"/>\r\n     <use x=\"965.804688\" xlink:href=\"#DejaVuSans-100\"/>\r\n    </g>\r\n   </g>\r\n   <g id=\"text_35\">\r\n    <!-- Dog_Boxer -->\r\n    <g transform=\"translate(69.506721 78.20436)scale(0.1 -0.1)\">\r\n     <use xlink:href=\"#DejaVuSans-68\"/>\r\n     <use x=\"77.001953\" xlink:href=\"#DejaVuSans-111\"/>\r\n     <use x=\"138.183594\" xlink:href=\"#DejaVuSans-103\"/>\r\n     <use x=\"201.660156\" xlink:href=\"#DejaVuSans-95\"/>\r\n     <use x=\"251.660156\" xlink:href=\"#DejaVuSans-66\"/>\r\n     <use x=\"320.263672\" xlink:href=\"#DejaVuSans-111\"/>\r\n     <use x=\"378.320312\" xlink:href=\"#DejaVuSans-120\"/>\r\n     <use x=\"434.375\" xlink:href=\"#DejaVuSans-101\"/>\r\n     <use x=\"495.898438\" xlink:href=\"#DejaVuSans-114\"/>\r\n    </g>\r\n   </g>\r\n   <g id=\"text_36\">\r\n    <!-- Dog_Shar Pei -->\r\n    <g transform=\"translate(155.29856 162.305471)scale(0.1 -0.1)\">\r\n     <defs>\r\n      <path d=\"M 19.671875 64.796875 \r\nL 19.671875 37.40625 \r\nL 32.078125 37.40625 \r\nQ 38.96875 37.40625 42.71875 40.96875 \r\nQ 46.484375 44.53125 46.484375 51.125 \r\nQ 46.484375 57.671875 42.71875 61.234375 \r\nQ 38.96875 64.796875 32.078125 64.796875 \r\nz\r\nM 9.8125 72.90625 \r\nL 32.078125 72.90625 \r\nQ 44.34375 72.90625 50.609375 67.359375 \r\nQ 56.890625 61.8125 56.890625 51.125 \r\nQ 56.890625 40.328125 50.609375 34.8125 \r\nQ 44.34375 29.296875 32.078125 29.296875 \r\nL 19.671875 29.296875 \r\nL 19.671875 0 \r\nL 9.8125 0 \r\nz\r\n\" id=\"DejaVuSans-80\"/>\r\n     </defs>\r\n     <use xlink:href=\"#DejaVuSans-68\"/>\r\n     <use x=\"77.001953\" xlink:href=\"#DejaVuSans-111\"/>\r\n     <use x=\"138.183594\" xlink:href=\"#DejaVuSans-103\"/>\r\n     <use x=\"201.660156\" xlink:href=\"#DejaVuSans-95\"/>\r\n     <use x=\"251.660156\" xlink:href=\"#DejaVuSans-83\"/>\r\n     <use x=\"315.136719\" xlink:href=\"#DejaVuSans-104\"/>\r\n     <use x=\"378.515625\" xlink:href=\"#DejaVuSans-97\"/>\r\n     <use x=\"439.794922\" xlink:href=\"#DejaVuSans-114\"/>\r\n     <use x=\"480.908203\" xlink:href=\"#DejaVuSans-32\"/>\r\n     <use x=\"512.695312\" xlink:href=\"#DejaVuSans-80\"/>\r\n     <use x=\"569.373047\" xlink:href=\"#DejaVuSans-101\"/>\r\n     <use x=\"630.896484\" xlink:href=\"#DejaVuSans-105\"/>\r\n    </g>\r\n   </g>\r\n   <g id=\"text_37\">\r\n    <!-- Dog_Husky -->\r\n    <g transform=\"translate(196.767377 212.775659)scale(0.1 -0.1)\">\r\n     <defs>\r\n      <path d=\"M 9.078125 75.984375 \r\nL 18.109375 75.984375 \r\nL 18.109375 31.109375 \r\nL 44.921875 54.6875 \r\nL 56.390625 54.6875 \r\nL 27.390625 29.109375 \r\nL 57.625 0 \r\nL 45.90625 0 \r\nL 18.109375 26.703125 \r\nL 18.109375 0 \r\nL 9.078125 0 \r\nz\r\n\" id=\"DejaVuSans-107\"/>\r\n     </defs>\r\n     <use xlink:href=\"#DejaVuSans-68\"/>\r\n     <use x=\"77.001953\" xlink:href=\"#DejaVuSans-111\"/>\r\n     <use x=\"138.183594\" xlink:href=\"#DejaVuSans-103\"/>\r\n     <use x=\"201.660156\" xlink:href=\"#DejaVuSans-95\"/>\r\n     <use x=\"251.660156\" xlink:href=\"#DejaVuSans-72\"/>\r\n     <use x=\"326.855469\" xlink:href=\"#DejaVuSans-117\"/>\r\n     <use x=\"390.234375\" xlink:href=\"#DejaVuSans-115\"/>\r\n     <use x=\"442.333984\" xlink:href=\"#DejaVuSans-107\"/>\r\n     <use x=\"496.619141\" xlink:href=\"#DejaVuSans-121\"/>\r\n    </g>\r\n   </g>\r\n  </g>\r\n </g>\r\n <defs>\r\n  <clipPath id=\"pac441d3022\">\r\n   <rect height=\"434.88\" width=\"446.4\" x=\"44.845313\" y=\"7.2\"/>\r\n  </clipPath>\r\n </defs>\r\n</svg>\r\n",
      "image/png": "[encoded data removed]"
     },
     "metadata": {
      "needs_background": "light"
     }
    }
   ],
   "source": [
    "fig,ax = plt.subplots(1,1,figsize = (8,8))\n",
    "sns.scatterplot(x = cat_x, y = cat_y, color = 'red', ax = ax)\n",
    "for x,y,label in zip(cat_x,cat_y,cat_label):\n",
    "    ax.text(x + 0.02, y + 0.02, label)\n",
    "\n",
    "sns.scatterplot(x = dog_x, y = dog_y, color = 'blue', ax = ax)\n",
    "for x,y,label in zip(dog_x,dog_y,dog_label):\n",
    "    ax.text(x + 0.02, y + 0.02, label)"
   ]
  },
  {
   "cell_type": "code",
   "execution_count": null,
   "metadata": {},
   "outputs": [],
   "source": []
  }
 ]
}