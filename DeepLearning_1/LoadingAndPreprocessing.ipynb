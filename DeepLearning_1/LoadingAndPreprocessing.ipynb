{
 "metadata": {
  "language_info": {
   "codemirror_mode": {
    "name": "ipython",
    "version": 3
   },
   "file_extension": ".py",
   "mimetype": "text/x-python",
   "name": "python",
   "nbconvert_exporter": "python",
   "pygments_lexer": "ipython3",
   "version": "3.8.8"
  },
  "orig_nbformat": 2,
  "kernelspec": {
   "name": "python3",
   "display_name": "Python 3.8.8 64-bit"
  },
  "interpreter": {
   "hash": "965ba1120b0c101b3f715b6e258a73742ec1cf86f2c8b04492724c87d9f112c3"
  }
 },
 "nbformat": 4,
 "nbformat_minor": 2,
 "cells": [
  {
   "source": [
    "<h3> Loading and Preprocessing Data with TensorFlow </h3> \n",
    "\n",
    "- Data API\n",
    "- Features API\n",
    "- tf.Transform\n",
    "- TF Datasets"
   ],
   "cell_type": "markdown",
   "metadata": {}
  },
  {
   "source": [
    "<h3> Data API </h3> "
   ],
   "cell_type": "markdown",
   "metadata": {}
  },
  {
   "cell_type": "code",
   "execution_count": 1,
   "metadata": {},
   "outputs": [],
   "source": [
    "import tensorflow as tf"
   ]
  },
  {
   "cell_type": "code",
   "execution_count": 2,
   "metadata": {},
   "outputs": [
    {
     "output_type": "execute_result",
     "data": {
      "text/plain": [
       "<TensorSliceDataset shapes: (), types: tf.int32>"
      ]
     },
     "metadata": {},
     "execution_count": 2
    }
   ],
   "source": [
    "X = tf.range(10)\n",
    "dataset = tf.data.Dataset.from_tensor_slices(X)\n",
    "dataset"
   ]
  },
  {
   "source": [
    "The from_tensor_slices() function takes a tensor and creates a tf.data.Dataset whose elements are all the slices of X. So this dataset contains 10 items. "
   ],
   "cell_type": "markdown",
   "metadata": {}
  },
  {
   "cell_type": "code",
   "execution_count": 3,
   "metadata": {},
   "outputs": [
    {
     "output_type": "stream",
     "name": "stdout",
     "text": [
      "tf.Tensor([0 1 2 3 4 5 6], shape=(7,), dtype=int32)\ntf.Tensor([7 8 9 0 1 2 3], shape=(7,), dtype=int32)\ntf.Tensor([4 5 6 7 8 9 0], shape=(7,), dtype=int32)\ntf.Tensor([1 2 3 4 5 6 7], shape=(7,), dtype=int32)\ntf.Tensor([8 9], shape=(2,), dtype=int32)\n"
     ]
    }
   ],
   "source": [
    "#repeat the dataset instance 3 times and get 7 items out of it \n",
    "dataset1 = dataset.repeat(3).batch(7)\n",
    "for item in dataset1:\n",
    "    print(item)"
   ]
  },
  {
   "cell_type": "code",
   "execution_count": 4,
   "metadata": {},
   "outputs": [
    {
     "output_type": "stream",
     "name": "stdout",
     "text": [
      "tf.Tensor([0 1 2 3 4 5 6], shape=(7,), dtype=int32)\ntf.Tensor([7 8 9 0 1 2 3], shape=(7,), dtype=int32)\ntf.Tensor([4 5 6 7 8 9 0], shape=(7,), dtype=int32)\ntf.Tensor([1 2 3 4 5 6 7], shape=(7,), dtype=int32)\n"
     ]
    }
   ],
   "source": [
    "dataset2 = dataset.repeat(3).batch(7, drop_remainder=True)\n",
    "for item in dataset2:\n",
    "    print(item)"
   ]
  },
  {
   "source": [
    "dataset methods do not modify datasets. They only create new ones. Hence reference to the dataset is required"
   ],
   "cell_type": "markdown",
   "metadata": {}
  },
  {
   "source": [
    "#applying transformations or functions to the data\n",
    "dataset3 = dataset.map(lambda x: x*2)\n",
    "for item in dataset3:\n",
    "    print(item)"
   ],
   "cell_type": "code",
   "metadata": {},
   "execution_count": 5,
   "outputs": [
    {
     "output_type": "stream",
     "name": "stdout",
     "text": [
      "tf.Tensor(0, shape=(), dtype=int32)\ntf.Tensor(2, shape=(), dtype=int32)\ntf.Tensor(4, shape=(), dtype=int32)\ntf.Tensor(6, shape=(), dtype=int32)\ntf.Tensor(8, shape=(), dtype=int32)\ntf.Tensor(10, shape=(), dtype=int32)\ntf.Tensor(12, shape=(), dtype=int32)\ntf.Tensor(14, shape=(), dtype=int32)\ntf.Tensor(16, shape=(), dtype=int32)\ntf.Tensor(18, shape=(), dtype=int32)\n"
     ]
    }
   ]
  },
  {
   "cell_type": "code",
   "execution_count": 6,
   "metadata": {},
   "outputs": [
    {
     "output_type": "stream",
     "name": "stdout",
     "text": [
      "tf.Tensor(0, shape=(), dtype=int32)\ntf.Tensor(2, shape=(), dtype=int32)\ntf.Tensor(4, shape=(), dtype=int32)\ntf.Tensor(6, shape=(), dtype=int32)\ntf.Tensor(8, shape=(), dtype=int32)\n"
     ]
    }
   ],
   "source": [
    "dataset4 = dataset.filter(lambda x: x%2 == 0)\n",
    "for item in dataset4:\n",
    "    print(item)"
   ]
  },
  {
   "source": [
    "<h3> Shuffling the Data </h3> "
   ],
   "cell_type": "markdown",
   "metadata": {}
  },
  {
   "source": [
    "For effective shuffing, we can split a data source to multiple files, and then pick files randomly and simultaneously read them, interleaving their lines. "
   ],
   "cell_type": "markdown",
   "metadata": {}
  },
  {
   "cell_type": "code",
   "execution_count": 7,
   "metadata": {},
   "outputs": [],
   "source": [
    "from sklearn.datasets import fetch_california_housing\n",
    "from sklearn.model_selection import train_test_split\n",
    "from sklearn.preprocessing import StandardScaler"
   ]
  },
  {
   "cell_type": "code",
   "execution_count": 8,
   "metadata": {},
   "outputs": [],
   "source": [
    "housing = fetch_california_housing()\n",
    "X_train_full,X_test,y_train_full,y_test = train_test_split(housing.data,housing.target.reshape(-1,1), random_state = 42)\n",
    "X_train,X_valid,y_train,y_valid = train_test_split(X_train_full,y_train_full,random_state=42)\n",
    "\n",
    "scaler = StandardScaler()\n",
    "scaler.fit(X_train)\n",
    "X_mean = scaler.mean_\n",
    "X_std = scaler.scale_"
   ]
  },
  {
   "source": [
    "<h4> Splitting the data into many csv files </h4> "
   ],
   "cell_type": "markdown",
   "metadata": {}
  },
  {
   "cell_type": "code",
   "execution_count": 9,
   "metadata": {},
   "outputs": [],
   "source": [
    "#create dataframe of train,valid,test data\n",
    "import pandas as pd\n",
    "column_names = housing.feature_names + housing.target_names\n",
    "\n",
    "housing_train_df = pd.DataFrame(data = X_train)\n",
    "housing_train_df[\"Price\"] = y_train\n",
    "housing_train_df.columns = column_names\n",
    "\n",
    "housing_valid_df = pd.DataFrame(data = X_valid)\n",
    "housing_valid_df[\"Price\"] = y_valid\n",
    "housing_valid_df.columns = column_names\n",
    "\n",
    "housing_test_df = pd.DataFrame(data = X_test)\n",
    "housing_test_df[\"Price\"] = y_test\n",
    "housing_test_df.columns = column_names"
   ]
  },
  {
   "cell_type": "code",
   "execution_count": 10,
   "metadata": {},
   "outputs": [],
   "source": [
    "dataframe_dict = {'train':housing_train_df, 'valid':housing_valid_df, 'test':housing_test_df}\n",
    "n_parts = {'train':20, 'valid':10,'test':10}"
   ]
  },
  {
   "cell_type": "code",
   "execution_count": 11,
   "metadata": {},
   "outputs": [],
   "source": [
    "import os\n",
    "import numpy as np\n",
    "file_path_dict = dict()\n",
    "for key in dataframe_dict.keys():\n",
    "    file_path_dict[key] = list()\n",
    "    df = dataframe_dict[key]\n",
    "    no_files = n_parts[key]\n",
    "    dir_path = os.path.join(os.getcwd(),\"housing\",key)\n",
    "    if not os.path.exists(dir_path):\n",
    "        os.makedirs(dir_path)\n",
    "    for file_idx,idx_array in enumerate(np.array_split(np.arange(df.shape[0]),no_files)):\n",
    "        temp_df = df.iloc[idx_array,:]\n",
    "        saving_path = os.path.join(dir_path,\"{}_{}.csv\".format(key,file_idx))\n",
    "        file_path_dict[key].append(saving_path)\n",
    "        temp_df.to_csv(saving_path, index = False)"
   ]
  },
  {
   "cell_type": "code",
   "execution_count": 12,
   "metadata": {},
   "outputs": [],
   "source": [
    "#create list of filepaths for train, validate, test\n",
    "train_filepaths = file_path_dict[\"train\"]\n",
    "valid_filepaths = file_path_dict[\"valid\"]\n",
    "test_filepaths = file_path_dict[\"test\"]"
   ]
  },
  {
   "source": [
    "By default the tf.data.Dataset.list_files() returns a dataset that shuffles the file paths"
   ],
   "cell_type": "markdown",
   "metadata": {}
  },
  {
   "cell_type": "code",
   "execution_count": 13,
   "metadata": {},
   "outputs": [],
   "source": [
    "#create a dataset containing only the train filepaths\n",
    "train_filepath_dataset = tf.data.Dataset.list_files(train_filepaths,seed = 42)\n",
    "#next we can use the interleave() methods, with a number of files to read specified\n",
    "n_readers = 5\n",
    "dataset = train_filepath_dataset.interleave(lambda filepath: tf.data.TextLineDataset(filepath).skip(1), cycle_length = n_readers)\n",
    "#the interleave method will create a dataset that will pull 5 file paths from the filepath_dataset and for each one, it calls the function we gave to create a new dataset. \n",
    "#After it runs through the first 5 filepaths, it will continue to run on the other filepaths"
   ]
  },
  {
   "source": [
    "By default interleave() does not use parallelism. It reads one line at a time from each file, sequentially. "
   ],
   "cell_type": "markdown",
   "metadata": {}
  },
  {
   "cell_type": "code",
   "execution_count": 14,
   "metadata": {},
   "outputs": [
    {
     "output_type": "stream",
     "name": "stdout",
     "text": [
      "b'4.6477,38.0,5.03728813559322,0.911864406779661,745.0,2.5254237288135593,32.64,-117.07,1.504'\nb'3.9688,41.0,5.259786476868327,0.9715302491103203,916.0,3.2597864768683276,33.98,-118.07,1.698'\nb'3.6875,44.0,4.524475524475524,0.993006993006993,457.0,3.195804195804196,34.04,-118.15,1.625'\nb'3.0217,22.0,4.983870967741935,1.1008064516129032,615.0,2.4798387096774195,38.76,-120.6,1.069'\nb'3.5214,15.0,3.0499445061043287,1.106548279689234,1447.0,1.6059933407325193,37.63,-122.43,1.442'\n"
     ]
    }
   ],
   "source": [
    "for line in dataset.take(5):\n",
    "    print(line.numpy())"
   ]
  },
  {
   "source": [
    "<h3> Preprocessing the data </h3> "
   ],
   "cell_type": "markdown",
   "metadata": {}
  },
  {
   "cell_type": "code",
   "execution_count": 15,
   "metadata": {},
   "outputs": [
    {
     "output_type": "execute_result",
     "data": {
      "text/plain": [
       "array([ 3.89175860e+00,  2.86245478e+01,  5.45593655e+00,  1.09963474e+00,\n",
       "        1.42428122e+03,  2.95886657e+00,  3.56464315e+01, -1.19584363e+02])"
      ]
     },
     "metadata": {},
     "execution_count": 15
    }
   ],
   "source": [
    "X_mean"
   ]
  },
  {
   "cell_type": "code",
   "execution_count": 16,
   "metadata": {},
   "outputs": [
    {
     "output_type": "execute_result",
     "data": {
      "text/plain": [
       "array([1.90927329e+00, 1.26409177e+01, 2.55038070e+00, 4.65460128e-01,\n",
       "       1.09576000e+03, 2.36138048e+00, 2.13456672e+00, 2.00093304e+00])"
      ]
     },
     "metadata": {},
     "execution_count": 16
    }
   ],
   "source": [
    "X_std"
   ]
  },
  {
   "cell_type": "code",
   "execution_count": 17,
   "metadata": {},
   "outputs": [],
   "source": [
    "n_inputs = 8"
   ]
  },
  {
   "cell_type": "code",
   "execution_count": 18,
   "metadata": {},
   "outputs": [],
   "source": [
    "def preprocess(line):\n",
    "    defs = [0.]*n_inputs + [tf.constant([],dtype = tf.float32)]\n",
    "    #first argument is the line to pass\n",
    "    #second is the default value in the column\n",
    "    #by passing an empty array in tf.constant([]), we can accept any value into this, however it will raise exception if no value is available\n",
    "    fields = tf.io.decode_csv(line,record_defaults=defs)\n",
    "    #decode_csv returns a list of scalar tensors, which needs to be stacked to give a single 1D tensor\n",
    "    x = tf.stack(fields[:-1])\n",
    "    #stack allows us to stack the list of scalar tensors into one single 1D tensor\n",
    "    y = tf.stack(fields[-1:])\n",
    "    return (x - X_mean)/X_std, y"
   ]
  },
  {
   "cell_type": "code",
   "execution_count": 19,
   "metadata": {},
   "outputs": [],
   "source": [
    "def csv_reader_dataset(filepaths,n_readers = 5, n_read_threads = None, shuffle_buffer_size = 10000, n_parse_threads = 5, batch_size = 32):\n",
    "    dataset = tf.data.Dataset.list_files(filepaths)\n",
    "    dataset = dataset.interleave(lambda filepath:tf.data.TextLineDataset(filepath), cycle_length = n_readers, num_parallel_calls = n_read_threads)\n",
    "    dataset = dataset.shuffle(shuffle_buffer_size)\n",
    "    dataset = dataset.map(preprocess, num_parallel_calls = n_parse_threads)\n",
    "    dataset = dataset.batch(batch_size)\n",
    "    return dataset.prefetch(1)"
   ]
  },
  {
   "cell_type": "code",
   "execution_count": 20,
   "metadata": {},
   "outputs": [],
   "source": [
    "Train_processed = csv_reader_dataset(train_filepaths, batch_size = 3)"
   ]
  },
  {
   "cell_type": "code",
   "execution_count": 21,
   "metadata": {},
   "outputs": [
    {
     "output_type": "stream",
     "name": "stdout",
     "text": [
      "X = tf.Tensor(\n[[ 0.29893124  0.26702586 -0.03199343 -0.24048686  0.04628637 -0.15524797\n  -0.9259175   0.83679074]\n [-0.71915257 -0.8404887   0.00444065  0.11843581 -0.63634485 -0.336742\n  -0.752579    1.1266564 ]\n [ 0.09890732 -1.7897868   0.10207634 -0.15437837  0.0070442  -0.04980005\n   0.3155529   0.15711132]], shape=(3, 8), dtype=float32)\ny = tf.Tensor(\n[[2.535]\n [1.167]\n [1.102]], shape=(3, 1), dtype=float32)\nX = tf.Tensor(\n[[ 0.2858372  -1.4733541   0.22956713 -0.25643155 -0.23388447 -0.27743056\n   1.63198    -0.73247695]\n [ 0.41976255 -1.9480032  -0.07677241  0.00292145  1.3367149  -0.31695908\n   0.9901622  -1.1772691 ]\n [-1.1545014  -0.52405596 -0.45036566  0.17473558  1.0839224   0.4726118\n   1.2150338  -1.2272451 ]], shape=(3, 8), dtype=float32)\ny = tf.Tensor(\n[[1.851]\n [3.561]\n [0.875]], shape=(3, 1), dtype=float32)\nX = tf.Tensor(\n[[ 0.11901978  0.26702586 -0.31552222 -0.40635258 -0.08969231  0.48011157\n  -0.752579    0.80680597]\n [ 5.818099    1.8491895   1.4826618  -0.0788055  -0.14444883  0.04510443\n  -0.7338394   0.5919061 ]\n [ 1.0119774  -0.91959685  0.5612446  -0.16026226  0.49802762  0.05254359\n   1.2946744  -0.8674123 ]], shape=(3, 8), dtype=float32)\ny = tf.Tensor(\n[[1.633  ]\n [5.00001]\n [2.475  ]], shape=(3, 1), dtype=float32)\nX = tf.Tensor(\n[[ 0.27494293  0.9789995  -0.12975962 -0.37660083 -0.41458097  0.09821495\n   0.8074556  -1.1172957 ]\n [ 1.7238714  -0.8404887   0.04567063 -0.34740615 -0.9165157  -0.02638922\n   0.7231292  -1.2572298 ]\n [-0.6853176   0.5043504  -0.38544434  0.0293595  -0.6911014   0.13841386\n  -0.72447133  1.0616882 ]], shape=(3, 8), dtype=float32)\ny = tf.Tensor(\n[[2.152]\n [2.733]\n [0.935]], shape=(3, 1), dtype=float32)\nX = tf.Tensor(\n[[ 0.47648558  0.10880951  0.03660609 -0.22918612 -0.38355228  0.2440711\n  -0.644829    0.56192124]\n [-1.0054919  -1.2360295  -0.24219956 -0.11927354 -0.13532275  0.07139228\n  -0.9071779   1.2466033 ]\n [-0.65085423 -1.868895   -0.38173455 -0.01112084  1.4060732   0.32836315\n  -0.84627515  0.6368871 ]], shape=(3, 8), dtype=float32)\ny = tf.Tensor(\n[[1.797]\n [0.905]\n [2.167]], shape=(3, 1), dtype=float32)\n"
     ]
    }
   ],
   "source": [
    "#this takes 5 batches, with each batch having 3 training examples in it\n",
    "for X_batch,y_batch in Train_processed.take(5):\n",
    "    print(\"X =\", X_batch)\n",
    "    print(\"y =\", y_batch)"
   ]
  },
  {
   "cell_type": "code",
   "execution_count": 22,
   "metadata": {},
   "outputs": [],
   "source": [
    "Valid_processed = csv_reader_dataset(valid_filepaths)\n",
    "Test_processed = csv_reader_dataset(test_filepaths)"
   ]
  },
  {
   "source": [
    "Look into \n",
    "- concatenate()\n",
    "- zip()\n",
    "- window()\n",
    "- reduce()\n",
    "- cache()\n",
    "- shard()\n",
    "- flat_map()\n",
    "- padded_batch()"
   ],
   "cell_type": "markdown",
   "metadata": {}
  },
  {
   "source": [
    "<h3> TFRecord Format </h3> "
   ],
   "cell_type": "markdown",
   "metadata": {}
  },
  {
   "source": [
    "- TensorFlow's preferred format for storing large amounts of data\n",
    "- Contains a sequence of binary records of varying sizes\n",
    "- Each record has a length, a Cycle Redundancy Check checksum to check that the length was not corrupted. "
   ],
   "cell_type": "markdown",
   "metadata": {}
  },
  {
   "source": [
    "<h3> Protocol buffers </h3>\n",
    "\n",
    "A portable, extensible and efficient binary format. "
   ],
   "cell_type": "markdown",
   "metadata": {}
  },
  {
   "cell_type": "code",
   "execution_count": 23,
   "metadata": {},
   "outputs": [],
   "source": [
    "a = b'\\n\\x05Alice\\x10{\\x1a\\x07a@b.com\\x1a\\x07c@d.com'"
   ]
  },
  {
   "cell_type": "code",
   "execution_count": 24,
   "metadata": {},
   "outputs": [
    {
     "output_type": "execute_result",
     "data": {
      "text/plain": [
       "b'\\n\\x05Alice\\x10{\\x1a\\x07a@b.com\\x1a\\x07c@d.com'"
      ]
     },
     "metadata": {},
     "execution_count": 24
    }
   ],
   "source": [
    "a"
   ]
  },
  {
   "cell_type": "code",
   "execution_count": 25,
   "metadata": {},
   "outputs": [
    {
     "output_type": "execute_result",
     "data": {
      "text/plain": [
       "bytes"
      ]
     },
     "metadata": {},
     "execution_count": 25
    }
   ],
   "source": [
    "type(a)"
   ]
  },
  {
   "cell_type": "code",
   "execution_count": 26,
   "metadata": {},
   "outputs": [
    {
     "output_type": "execute_result",
     "data": {
      "text/plain": [
       "'\\n\\x05Alice\\x10{\\x1a\\x07a@b.com\\x1a\\x07c@d.com'"
      ]
     },
     "metadata": {},
     "execution_count": 26
    }
   ],
   "source": [
    "a.decode('utf-8')"
   ]
  },
  {
   "cell_type": "code",
   "execution_count": 27,
   "metadata": {},
   "outputs": [],
   "source": [
    "import json \n",
    "\n",
    "\n",
    "test_json = {'one':{'a':'A','b':[1,2,3]},'two':{'c':'C','d':[1,2,3]}}"
   ]
  },
  {
   "cell_type": "code",
   "execution_count": 28,
   "metadata": {},
   "outputs": [
    {
     "output_type": "execute_result",
     "data": {
      "text/plain": [
       "str"
      ]
     },
     "metadata": {},
     "execution_count": 28
    }
   ],
   "source": [
    "json_string = json.dumps(test_json)\n",
    "type(json_string)"
   ]
  },
  {
   "cell_type": "code",
   "execution_count": 29,
   "metadata": {},
   "outputs": [
    {
     "output_type": "execute_result",
     "data": {
      "text/plain": [
       "{'one': {'a': 'A', 'b': [1, 2, 3]}, 'two': {'c': 'C', 'd': [1, 2, 3]}}"
      ]
     },
     "metadata": {},
     "execution_count": 29
    }
   ],
   "source": [
    "json.loads(json_string)"
   ]
  },
  {
   "source": [
    "<h3> The Features API </h3> \n",
    "\n",
    "It lets you define how each feature or group of features should be preprocessed. \n",
    "\n",
    "tf.feature_column\n",
    "\n",
    "- Using bucketized_column to bin data\n",
    "\n",
    "Sometimes you have multimodal data where there are separate peaks in it's distribution. In these cases, you define a bucket for each mode, where the boundaries are between the peaks."
   ],
   "cell_type": "markdown",
   "metadata": {}
  },
  {
   "source": [
    "https://www.tensorflow.org/tutorials/structured_data/feature_columns"
   ],
   "cell_type": "markdown",
   "metadata": {}
  },
  {
   "cell_type": "code",
   "execution_count": 30,
   "metadata": {},
   "outputs": [
    {
     "output_type": "execute_result",
     "data": {
      "text/plain": [
       "  Type  Age                Breed1  Gender Color1    Color2 MaturitySize  \\\n",
       "0  Cat    3                 Tabby    Male  Black     White        Small   \n",
       "1  Cat    1  Domestic Medium Hair    Male  Black     Brown       Medium   \n",
       "2  Dog    1           Mixed Breed    Male  Brown     White       Medium   \n",
       "3  Dog    4           Mixed Breed  Female  Black     Brown       Medium   \n",
       "4  Dog    1           Mixed Breed    Male  Black  No Color       Medium   \n",
       "\n",
       "  FurLength Vaccinated Sterilized   Health  Fee  \\\n",
       "0     Short         No         No  Healthy  100   \n",
       "1    Medium   Not Sure   Not Sure  Healthy    0   \n",
       "2    Medium        Yes         No  Healthy    0   \n",
       "3     Short        Yes         No  Healthy  150   \n",
       "4     Short         No         No  Healthy    0   \n",
       "\n",
       "                                         Description  PhotoAmt  AdoptionSpeed  \n",
       "0  Nibble is a 3+ month old ball of cuteness. He ...         1              2  \n",
       "1  I just found it alone yesterday near my apartm...         2              0  \n",
       "2  Their pregnant mother was dumped by her irresp...         7              3  \n",
       "3  Good guard dog, very alert, active, obedience ...         8              2  \n",
       "4  This handsome yet cute boy is up for adoption....         3              2  "
      ],
      "text/html": "<div>\n<style scoped>\n    .dataframe tbody tr th:only-of-type {\n        vertical-align: middle;\n    }\n\n    .dataframe tbody tr th {\n        vertical-align: top;\n    }\n\n    .dataframe thead th {\n        text-align: right;\n    }\n</style>\n<table border=\"1\" class=\"dataframe\">\n  <thead>\n    <tr style=\"text-align: right;\">\n      <th></th>\n      <th>Type</th>\n      <th>Age</th>\n      <th>Breed1</th>\n      <th>Gender</th>\n      <th>Color1</th>\n      <th>Color2</th>\n      <th>MaturitySize</th>\n      <th>FurLength</th>\n      <th>Vaccinated</th>\n      <th>Sterilized</th>\n      <th>Health</th>\n      <th>Fee</th>\n      <th>Description</th>\n      <th>PhotoAmt</th>\n      <th>AdoptionSpeed</th>\n    </tr>\n  </thead>\n  <tbody>\n    <tr>\n      <th>0</th>\n      <td>Cat</td>\n      <td>3</td>\n      <td>Tabby</td>\n      <td>Male</td>\n      <td>Black</td>\n      <td>White</td>\n      <td>Small</td>\n      <td>Short</td>\n      <td>No</td>\n      <td>No</td>\n      <td>Healthy</td>\n      <td>100</td>\n      <td>Nibble is a 3+ month old ball of cuteness. He ...</td>\n      <td>1</td>\n      <td>2</td>\n    </tr>\n    <tr>\n      <th>1</th>\n      <td>Cat</td>\n      <td>1</td>\n      <td>Domestic Medium Hair</td>\n      <td>Male</td>\n      <td>Black</td>\n      <td>Brown</td>\n      <td>Medium</td>\n      <td>Medium</td>\n      <td>Not Sure</td>\n      <td>Not Sure</td>\n      <td>Healthy</td>\n      <td>0</td>\n      <td>I just found it alone yesterday near my apartm...</td>\n      <td>2</td>\n      <td>0</td>\n    </tr>\n    <tr>\n      <th>2</th>\n      <td>Dog</td>\n      <td>1</td>\n      <td>Mixed Breed</td>\n      <td>Male</td>\n      <td>Brown</td>\n      <td>White</td>\n      <td>Medium</td>\n      <td>Medium</td>\n      <td>Yes</td>\n      <td>No</td>\n      <td>Healthy</td>\n      <td>0</td>\n      <td>Their pregnant mother was dumped by her irresp...</td>\n      <td>7</td>\n      <td>3</td>\n    </tr>\n    <tr>\n      <th>3</th>\n      <td>Dog</td>\n      <td>4</td>\n      <td>Mixed Breed</td>\n      <td>Female</td>\n      <td>Black</td>\n      <td>Brown</td>\n      <td>Medium</td>\n      <td>Short</td>\n      <td>Yes</td>\n      <td>No</td>\n      <td>Healthy</td>\n      <td>150</td>\n      <td>Good guard dog, very alert, active, obedience ...</td>\n      <td>8</td>\n      <td>2</td>\n    </tr>\n    <tr>\n      <th>4</th>\n      <td>Dog</td>\n      <td>1</td>\n      <td>Mixed Breed</td>\n      <td>Male</td>\n      <td>Black</td>\n      <td>No Color</td>\n      <td>Medium</td>\n      <td>Short</td>\n      <td>No</td>\n      <td>No</td>\n      <td>Healthy</td>\n      <td>0</td>\n      <td>This handsome yet cute boy is up for adoption....</td>\n      <td>3</td>\n      <td>2</td>\n    </tr>\n  </tbody>\n</table>\n</div>"
     },
     "metadata": {},
     "execution_count": 30
    }
   ],
   "source": [
    "petsdf = pd.read_csv(r'C:\\Users\\ASUS\\Desktop\\Hands on ML\\Hands-on-Machine-Learning-Textbook-Exercises\\DeepLearning_1\\petfinder-mini\\petfinder-mini.csv')\n",
    "petsdf.head()"
   ]
  },
  {
   "cell_type": "code",
   "execution_count": 31,
   "metadata": {},
   "outputs": [
    {
     "output_type": "execute_result",
     "data": {
      "text/plain": [
       "  Type  Age                Breed1  Gender Color1    Color2 MaturitySize  \\\n",
       "0  Cat    3                 Tabby    Male  Black     White        Small   \n",
       "1  Cat    1  Domestic Medium Hair    Male  Black     Brown       Medium   \n",
       "2  Dog    1           Mixed Breed    Male  Brown     White       Medium   \n",
       "3  Dog    4           Mixed Breed  Female  Black     Brown       Medium   \n",
       "4  Dog    1           Mixed Breed    Male  Black  No Color       Medium   \n",
       "\n",
       "  FurLength Vaccinated Sterilized   Health  Fee  PhotoAmt  target  \n",
       "0     Short         No         No  Healthy  100         1       1  \n",
       "1    Medium   Not Sure   Not Sure  Healthy    0         2       1  \n",
       "2    Medium        Yes         No  Healthy    0         7       1  \n",
       "3     Short        Yes         No  Healthy  150         8       1  \n",
       "4     Short         No         No  Healthy    0         3       1  "
      ],
      "text/html": "<div>\n<style scoped>\n    .dataframe tbody tr th:only-of-type {\n        vertical-align: middle;\n    }\n\n    .dataframe tbody tr th {\n        vertical-align: top;\n    }\n\n    .dataframe thead th {\n        text-align: right;\n    }\n</style>\n<table border=\"1\" class=\"dataframe\">\n  <thead>\n    <tr style=\"text-align: right;\">\n      <th></th>\n      <th>Type</th>\n      <th>Age</th>\n      <th>Breed1</th>\n      <th>Gender</th>\n      <th>Color1</th>\n      <th>Color2</th>\n      <th>MaturitySize</th>\n      <th>FurLength</th>\n      <th>Vaccinated</th>\n      <th>Sterilized</th>\n      <th>Health</th>\n      <th>Fee</th>\n      <th>PhotoAmt</th>\n      <th>target</th>\n    </tr>\n  </thead>\n  <tbody>\n    <tr>\n      <th>0</th>\n      <td>Cat</td>\n      <td>3</td>\n      <td>Tabby</td>\n      <td>Male</td>\n      <td>Black</td>\n      <td>White</td>\n      <td>Small</td>\n      <td>Short</td>\n      <td>No</td>\n      <td>No</td>\n      <td>Healthy</td>\n      <td>100</td>\n      <td>1</td>\n      <td>1</td>\n    </tr>\n    <tr>\n      <th>1</th>\n      <td>Cat</td>\n      <td>1</td>\n      <td>Domestic Medium Hair</td>\n      <td>Male</td>\n      <td>Black</td>\n      <td>Brown</td>\n      <td>Medium</td>\n      <td>Medium</td>\n      <td>Not Sure</td>\n      <td>Not Sure</td>\n      <td>Healthy</td>\n      <td>0</td>\n      <td>2</td>\n      <td>1</td>\n    </tr>\n    <tr>\n      <th>2</th>\n      <td>Dog</td>\n      <td>1</td>\n      <td>Mixed Breed</td>\n      <td>Male</td>\n      <td>Brown</td>\n      <td>White</td>\n      <td>Medium</td>\n      <td>Medium</td>\n      <td>Yes</td>\n      <td>No</td>\n      <td>Healthy</td>\n      <td>0</td>\n      <td>7</td>\n      <td>1</td>\n    </tr>\n    <tr>\n      <th>3</th>\n      <td>Dog</td>\n      <td>4</td>\n      <td>Mixed Breed</td>\n      <td>Female</td>\n      <td>Black</td>\n      <td>Brown</td>\n      <td>Medium</td>\n      <td>Short</td>\n      <td>Yes</td>\n      <td>No</td>\n      <td>Healthy</td>\n      <td>150</td>\n      <td>8</td>\n      <td>1</td>\n    </tr>\n    <tr>\n      <th>4</th>\n      <td>Dog</td>\n      <td>1</td>\n      <td>Mixed Breed</td>\n      <td>Male</td>\n      <td>Black</td>\n      <td>No Color</td>\n      <td>Medium</td>\n      <td>Short</td>\n      <td>No</td>\n      <td>No</td>\n      <td>Healthy</td>\n      <td>0</td>\n      <td>3</td>\n      <td>1</td>\n    </tr>\n  </tbody>\n</table>\n</div>"
     },
     "metadata": {},
     "execution_count": 31
    }
   ],
   "source": [
    "petsdf['target'] = np.where(petsdf[\"AdoptionSpeed\"] == 4,0,1)\n",
    "petsdf.drop(columns=['AdoptionSpeed', 'Description'], inplace = True)\n",
    "petsdf.head()"
   ]
  },
  {
   "cell_type": "code",
   "execution_count": 32,
   "metadata": {},
   "outputs": [],
   "source": [
    "train, test = train_test_split(petsdf, test_size=0.2, random_state=42)\n",
    "train, val = train_test_split(train, test_size=0.2, random_state=42)"
   ]
  },
  {
   "source": [
    "Wrap the dataset under tf.data as it allows us to use feature columns"
   ],
   "cell_type": "markdown",
   "metadata": {}
  },
  {
   "cell_type": "code",
   "execution_count": 33,
   "metadata": {},
   "outputs": [],
   "source": [
    "def df_to_dataset(df,shuffle = True, batch_size = 32):\n",
    "    df = df.copy()\n",
    "    #obtain the targets\n",
    "    labels = df.pop('target')\n",
    "    ds = tf.data.Dataset.from_tensor_slices((dict(df),labels))\n",
    "    if shuffle:\n",
    "        ds = ds.shuffle(buffer_size=len(df))\n",
    "    ds = ds.batch(batch_size)\n",
    "    return ds"
   ]
  },
  {
   "cell_type": "code",
   "execution_count": 34,
   "metadata": {},
   "outputs": [],
   "source": [
    "#getting the item thats required from a tensorflow dataset\n",
    "#labels = train.pop('target')\n",
    "#list(tf.data.Dataset.from_tensor_slices((dict(train),labels)).take(1).as_numpy_iterator())"
   ]
  },
  {
   "cell_type": "code",
   "execution_count": 35,
   "metadata": {},
   "outputs": [],
   "source": [
    "train_ds = df_to_dataset(train,batch_size=5)\n",
    "val_ds = df_to_dataset(val,shuffle = False, batch_size=5)\n",
    "test_ds = df_to_dataset(test,shuffle = False, batch_size=5)"
   ]
  },
  {
   "cell_type": "code",
   "execution_count": 36,
   "metadata": {},
   "outputs": [
    {
     "output_type": "stream",
     "name": "stdout",
     "text": [
      "['Type', 'Age', 'Breed1', 'Gender', 'Color1', 'Color2', 'MaturitySize', 'FurLength', 'Vaccinated', 'Sterilized', 'Health', 'Fee', 'PhotoAmt']\ntf.Tensor([ 3  6  3  4 30], shape=(5,), dtype=int64)\ntf.Tensor([1 1 1 1 1], shape=(5,), dtype=int32)\n"
     ]
    }
   ],
   "source": [
    "for feature_batch, label_batch in train_ds.take(1):\n",
    "    print(list(feature_batch.keys()))\n",
    "    print(feature_batch[\"Age\"])\n",
    "    print(label_batch)"
   ]
  },
  {
   "source": [
    "Using feature columns \n",
    "\n",
    "Now we create several types of feature columns and demonstrate how they transform a column from a dataframe"
   ],
   "cell_type": "markdown",
   "metadata": {}
  },
  {
   "cell_type": "code",
   "execution_count": 37,
   "metadata": {},
   "outputs": [],
   "source": [
    "#iter creates a iterable of the input object\n",
    "#then we can use next(iter(obj)) to obtain the element starting with the first one\n",
    "example_batch = next(iter(train_ds))[0]"
   ]
  },
  {
   "cell_type": "code",
   "execution_count": 38,
   "metadata": {},
   "outputs": [
    {
     "output_type": "execute_result",
     "data": {
      "text/plain": [
       "{'Type': <tf.Tensor: shape=(5,), dtype=string, numpy=array([b'Cat', b'Dog', b'Cat', b'Cat', b'Dog'], dtype=object)>,\n",
       " 'Age': <tf.Tensor: shape=(5,), dtype=int64, numpy=array([ 7,  2, 12,  2, 36], dtype=int64)>,\n",
       " 'Breed1': <tf.Tensor: shape=(5,), dtype=string, numpy=\n",
       " array([b'Persian', b'Mixed Breed', b'Domestic Medium Hair',\n",
       "        b'Domestic Short Hair', b'Rottweiler'], dtype=object)>,\n",
       " 'Gender': <tf.Tensor: shape=(5,), dtype=string, numpy=\n",
       " array([b'Female', b'Female', b'Female', b'Female', b'Female'],\n",
       "       dtype=object)>,\n",
       " 'Color1': <tf.Tensor: shape=(5,), dtype=string, numpy=array([b'Golden', b'Brown', b'Black', b'Gray', b'Black'], dtype=object)>,\n",
       " 'Color2': <tf.Tensor: shape=(5,), dtype=string, numpy=array([b'Yellow', b'Cream', b'Brown', b'White', b'No Color'], dtype=object)>,\n",
       " 'MaturitySize': <tf.Tensor: shape=(5,), dtype=string, numpy=array([b'Small', b'Medium', b'Medium', b'Medium', b'Large'], dtype=object)>,\n",
       " 'FurLength': <tf.Tensor: shape=(5,), dtype=string, numpy=array([b'Long', b'Long', b'Medium', b'Short', b'Short'], dtype=object)>,\n",
       " 'Vaccinated': <tf.Tensor: shape=(5,), dtype=string, numpy=array([b'Yes', b'Yes', b'Not Sure', b'No', b'Not Sure'], dtype=object)>,\n",
       " 'Sterilized': <tf.Tensor: shape=(5,), dtype=string, numpy=array([b'No', b'No', b'Not Sure', b'No', b'Not Sure'], dtype=object)>,\n",
       " 'Health': <tf.Tensor: shape=(5,), dtype=string, numpy=\n",
       " array([b'Minor Injury', b'Healthy', b'Healthy', b'Minor Injury',\n",
       "        b'Healthy'], dtype=object)>,\n",
       " 'Fee': <tf.Tensor: shape=(5,), dtype=int64, numpy=array([  0,   0,   0,   0, 350], dtype=int64)>,\n",
       " 'PhotoAmt': <tf.Tensor: shape=(5,), dtype=int64, numpy=array([5, 5, 1, 6, 1], dtype=int64)>}"
      ]
     },
     "metadata": {},
     "execution_count": 38
    }
   ],
   "source": [
    "example_batch"
   ]
  },
  {
   "source": [
    "Understanding of tf.keras.layers.DenseFeatures\n",
    "\n",
    "By creating tf.feature_columns.xxx_column that does specific transformations, then adding these columns to a list, we create a list of transformations to be done on the data\n",
    "\n",
    "feature_columns.append(transformation_name)\n",
    "feature_layer = tf.keras.layers.DenseFeatures(feature_columns)\n",
    "\n",
    "\n",
    "Then we create a dictionary to associate column names with column values\n",
    "\n",
    "inputs = {}\n",
    "\n",
    "inputs(\"temp_num\") = tf.keras.Input(shape = (1,), name = \"feature_name\")\n",
    "\n",
    "#apply the transformation\n",
    "\n",
    "x = feature_layer(inputs)\n",
    "\n",
    "Continue normally \n",
    "\n",
    "x = tf.keras.layers.Dense(128, activation='relu')(x)\n",
    "\n",
    "x = tf.keras.layers.Dense(128, activation='relu')(x)\n",
    "\n",
    "https://stackoverflow.com/questions/54375298/how-to-use-tensorflow-feature-columns-as-input-to-a-keras-model"
   ],
   "cell_type": "markdown",
   "metadata": {}
  },
  {
   "cell_type": "code",
   "execution_count": 39,
   "metadata": {},
   "outputs": [],
   "source": [
    "def demo(feature_column):\n",
    "    feature_layer = tf.keras.layers.DenseFeatures(feature_column)\n",
    "    print(feature_layer(example_batch).numpy())"
   ]
  },
  {
   "cell_type": "code",
   "execution_count": 40,
   "metadata": {},
   "outputs": [],
   "source": [
    "photo_count= tf.feature_column.numeric_column('PhotoAmt')"
   ]
  },
  {
   "source": [
    "<h3> Bucketized columns </h3> "
   ],
   "cell_type": "markdown",
   "metadata": {}
  },
  {
   "cell_type": "code",
   "execution_count": 41,
   "metadata": {},
   "outputs": [],
   "source": [
    "age = tf.feature_column.numeric_column('Age')\n",
    "age_bucketized = tf.feature_column.bucketized_column(age,boundaries = [1,3,5])"
   ]
  },
  {
   "cell_type": "code",
   "execution_count": 42,
   "metadata": {},
   "outputs": [
    {
     "output_type": "stream",
     "name": "stdout",
     "text": [
      "[[0. 0. 0. 1.]\n [0. 1. 0. 0.]\n [0. 0. 0. 1.]\n [0. 1. 0. 0.]\n [0. 0. 0. 1.]]\n"
     ]
    }
   ],
   "source": [
    "demo(age_bucketized)"
   ]
  },
  {
   "cell_type": "code",
   "execution_count": 43,
   "metadata": {},
   "outputs": [
    {
     "output_type": "stream",
     "name": "stdout",
     "text": [
      "[[ 7.]\n [ 2.]\n [12.]\n [ 2.]\n [36.]]\n"
     ]
    }
   ],
   "source": [
    "demo(age)"
   ]
  },
  {
   "source": [
    "<h3> Categorical columns </h3> \n",
    "\n",
    "We cannot feed strings directly into a model, hence we must first map them to numeric values. \n",
    "\n",
    "To pass in strings we can use:\n",
    "\n",
    "- categorical_column_with_vocabulary_list\n",
    "- categorical_column_with_vocabulary_file (if loading the categories from a list)"
   ],
   "cell_type": "markdown",
   "metadata": {}
  },
  {
   "cell_type": "code",
   "execution_count": 44,
   "metadata": {},
   "outputs": [
    {
     "output_type": "stream",
     "name": "stdout",
     "text": [
      "[[1. 0.]\n [0. 1.]\n [1. 0.]\n [1. 0.]\n [0. 1.]]\n"
     ]
    }
   ],
   "source": [
    "#converts into numerical values\n",
    "animal_type = tf.feature_column.categorical_column_with_vocabulary_list('Type', ['Cat','Dog'])\n",
    "#converts into one-hot vector\n",
    "animal_type_one_hot = tf.feature_column.indicator_column(animal_type)\n",
    "demo(animal_type_one_hot)"
   ]
  },
  {
   "source": [
    "<h3> Embedding Columns </h3> \n",
    "\n",
    "If we have thousands or more values per category, as the number of categories grows large, it becomes infeasible to train a neural network using one-hot encodings. Embedding represents the data as a lower dimensional dense vector. "
   ],
   "cell_type": "markdown",
   "metadata": {}
  },
  {
   "cell_type": "code",
   "execution_count": 45,
   "metadata": {},
   "outputs": [
    {
     "output_type": "stream",
     "name": "stdout",
     "text": [
      "[[ 0.16019161  0.10407098 -0.17027213  0.12835957  0.71184766]\n [-0.32192352  0.28400755  0.03525333  0.6665355   0.30398765]\n [ 0.82431895 -0.3919796   0.19419418 -0.20051827 -0.16428047]\n [-0.27481022  0.36550444 -0.44418058  0.77817744 -0.7480454 ]\n [ 0.47958288 -0.0577272   0.32181862  0.50819725  0.25299302]]\n"
     ]
    }
   ],
   "source": [
    "breed1 = tf.feature_column.categorical_column_with_vocabulary_list('Breed1', train[\"Breed1\"].unique().tolist())\n",
    "breed1_embedding = tf.feature_column.embedding_column(breed1, dimension=5)\n",
    "demo(breed1_embedding)"
   ]
  },
  {
   "source": [
    "<h3> Hashed Feature Columns </h3>\n",
    "\n",
    "Calculates the hash value of a input, then selects the one of hash_bucket_size to encode the string. We can make the hash_bucket_size much smaller than the actual number of categories.\n",
    "\n",
    "Key Point: An important downside of this technique is that there may be collisions in which different strings are mapped to the same bucket. In practice, this can work well for some datasets regardless."
   ],
   "cell_type": "markdown",
   "metadata": {}
  },
  {
   "cell_type": "code",
   "execution_count": 46,
   "metadata": {},
   "outputs": [
    {
     "output_type": "stream",
     "name": "stdout",
     "text": [
      "[[0. 0. 0. 1. 0. 0. 0. 0. 0. 0.]\n [0. 0. 0. 0. 0. 0. 0. 1. 0. 0.]\n [0. 0. 0. 0. 1. 0. 0. 0. 0. 0.]\n [0. 0. 0. 0. 0. 0. 0. 0. 0. 1.]\n [0. 0. 0. 0. 0. 0. 0. 0. 1. 0.]]\n"
     ]
    }
   ],
   "source": [
    "breed1_hashed = tf.feature_column.categorical_column_with_hash_bucket(\"Breed1\", hash_bucket_size = 10)\n",
    "demo(tf.feature_column.indicator_column(breed1_hashed))"
   ]
  },
  {
   "source": [
    "<h3> Crossed feature columns </h3> \n",
    "\n",
    "Some features are better when combined, hence we may use this feature. \n",
    "\n",
    "It first creates the combinations for the 2 categories. Then makes hashes of the combinations. Then bucketize the hashes. "
   ],
   "cell_type": "markdown",
   "metadata": {}
  },
  {
   "source": [
    "How to implement feature columns"
   ],
   "cell_type": "markdown",
   "metadata": {}
  },
  {
   "cell_type": "code",
   "execution_count": 50,
   "metadata": {},
   "outputs": [],
   "source": [
    "feature_columns = []\n",
    "#remove target from features\n",
    "attributes = train.columns.tolist()[:-1]\n",
    "import re\n",
    "numeric_columns = [value for value in attributes if re.match(r'int[0-9]*',str(train.dtypes.to_dict()[value])) != None]\n",
    "\n",
    "#numeric columns\n",
    "for header in numeric_columns:\n",
    "    feature_columns.append(tf.feature_column.numeric_column(header))"
   ]
  },
  {
   "cell_type": "code",
   "execution_count": 51,
   "metadata": {},
   "outputs": [],
   "source": [
    "#bucketized_cols\n",
    "age = tf.feature_column.numeric_column('Age')\n",
    "age_buckets = tf.feature_column.bucketized_column(age, boundaries = [1,2,3,4,5])\n",
    "feature_columns.append(age_buckets)"
   ]
  },
  {
   "cell_type": "code",
   "execution_count": 52,
   "metadata": {},
   "outputs": [],
   "source": [
    "indicator_columns = ['Type', 'Color1', 'Color2', 'Gender', 'MaturitySize','FurLength', 'Vaccinated', 'Sterilized', 'Health']\n",
    "\n",
    "for header in indicator_columns:\n",
    "    categorical_column = tf.feature_column.categorical_column_with_vocabulary_list(header, petsdf[header].unique().tolist())\n",
    "    feature_columns.append(tf.feature_column.indicator_column(categorical_column))"
   ]
  },
  {
   "cell_type": "code",
   "execution_count": 53,
   "metadata": {},
   "outputs": [],
   "source": [
    "#embedding columns\n",
    "breed1 = tf.feature_column.categorical_column_with_vocabulary_list('Breed1',petsdf[\"Breed1\"].unique().tolist())\n",
    "breed1_embedding = tf.feature_column.embedding_column(breed1, dimension = 8)\n",
    "feature_columns.append(breed1_embedding)"
   ]
  },
  {
   "cell_type": "code",
   "execution_count": 54,
   "metadata": {},
   "outputs": [],
   "source": [
    "age_type_feature = tf.feature_column.crossed_column([age_buckets,animal_type], hash_bucket_size = 100)\n",
    "feature_columns.append(tf.feature_column.indicator_column(age_type_feature))"
   ]
  },
  {
   "source": [
    "Now that we have defined all out column transformations using the Feature API, we can create a DenseFeatures layer to input to Keras model"
   ],
   "cell_type": "markdown",
   "metadata": {}
  },
  {
   "cell_type": "code",
   "execution_count": 55,
   "metadata": {},
   "outputs": [],
   "source": [
    "feature_layer = tf.keras.layers.DenseFeatures(feature_columns)"
   ]
  },
  {
   "cell_type": "code",
   "execution_count": 56,
   "metadata": {},
   "outputs": [],
   "source": [
    "#earlier we only used 5 instances per batch. Now we use 32\n",
    "train_ds = df_to_dataset(train,batch_size=32)\n",
    "val_ds = df_to_dataset(val,shuffle = False, batch_size=32)\n",
    "test_ds = df_to_dataset(test,shuffle = False, batch_size=32)"
   ]
  },
  {
   "cell_type": "code",
   "execution_count": 57,
   "metadata": {},
   "outputs": [
    {
     "output_type": "stream",
     "name": "stdout",
     "text": [
      "Epoch 1/20\n",
      "WARNING:tensorflow:Layers in a Sequential model should only have a single input tensor, but we receive a <class 'dict'> input: {'Type': <tf.Tensor 'ExpandDims_11:0' shape=(None, 1) dtype=string>, 'Age': <tf.Tensor 'ExpandDims:0' shape=(None, 1) dtype=int64>, 'Breed1': <tf.Tensor 'ExpandDims_1:0' shape=(None, 1) dtype=string>, 'Gender': <tf.Tensor 'ExpandDims_6:0' shape=(None, 1) dtype=string>, 'Color1': <tf.Tensor 'ExpandDims_2:0' shape=(None, 1) dtype=string>, 'Color2': <tf.Tensor 'ExpandDims_3:0' shape=(None, 1) dtype=string>, 'MaturitySize': <tf.Tensor 'ExpandDims_8:0' shape=(None, 1) dtype=string>, 'FurLength': <tf.Tensor 'ExpandDims_5:0' shape=(None, 1) dtype=string>, 'Vaccinated': <tf.Tensor 'ExpandDims_12:0' shape=(None, 1) dtype=string>, 'Sterilized': <tf.Tensor 'ExpandDims_10:0' shape=(None, 1) dtype=string>, 'Health': <tf.Tensor 'ExpandDims_7:0' shape=(None, 1) dtype=string>, 'Fee': <tf.Tensor 'ExpandDims_4:0' shape=(None, 1) dtype=int64>, 'PhotoAmt': <tf.Tensor 'ExpandDims_9:0' shape=(None, 1) dtype=int64>}\n",
      "Consider rewriting this model with the Functional API.\n",
      "WARNING:tensorflow:Layers in a Sequential model should only have a single input tensor, but we receive a <class 'dict'> input: {'Type': <tf.Tensor 'ExpandDims_11:0' shape=(None, 1) dtype=string>, 'Age': <tf.Tensor 'ExpandDims:0' shape=(None, 1) dtype=int64>, 'Breed1': <tf.Tensor 'ExpandDims_1:0' shape=(None, 1) dtype=string>, 'Gender': <tf.Tensor 'ExpandDims_6:0' shape=(None, 1) dtype=string>, 'Color1': <tf.Tensor 'ExpandDims_2:0' shape=(None, 1) dtype=string>, 'Color2': <tf.Tensor 'ExpandDims_3:0' shape=(None, 1) dtype=string>, 'MaturitySize': <tf.Tensor 'ExpandDims_8:0' shape=(None, 1) dtype=string>, 'FurLength': <tf.Tensor 'ExpandDims_5:0' shape=(None, 1) dtype=string>, 'Vaccinated': <tf.Tensor 'ExpandDims_12:0' shape=(None, 1) dtype=string>, 'Sterilized': <tf.Tensor 'ExpandDims_10:0' shape=(None, 1) dtype=string>, 'Health': <tf.Tensor 'ExpandDims_7:0' shape=(None, 1) dtype=string>, 'Fee': <tf.Tensor 'ExpandDims_4:0' shape=(None, 1) dtype=int64>, 'PhotoAmt': <tf.Tensor 'ExpandDims_9:0' shape=(None, 1) dtype=int64>}\n",
      "Consider rewriting this model with the Functional API.\n",
      "WARNING:tensorflow:Layers in a Sequential model should only have a single input tensor, but we receive a <class 'dict'> input: {'Type': <tf.Tensor 'ExpandDims_11:0' shape=(None, 1) dtype=string>, 'Age': <tf.Tensor 'ExpandDims:0' shape=(None, 1) dtype=int64>, 'Breed1': <tf.Tensor 'ExpandDims_1:0' shape=(None, 1) dtype=string>, 'Gender': <tf.Tensor 'ExpandDims_6:0' shape=(None, 1) dtype=string>, 'Color1': <tf.Tensor 'ExpandDims_2:0' shape=(None, 1) dtype=string>, 'Color2': <tf.Tensor 'ExpandDims_3:0' shape=(None, 1) dtype=string>, 'MaturitySize': <tf.Tensor 'ExpandDims_8:0' shape=(None, 1) dtype=string>, 'FurLength': <tf.Tensor 'ExpandDims_5:0' shape=(None, 1) dtype=string>, 'Vaccinated': <tf.Tensor 'ExpandDims_12:0' shape=(None, 1) dtype=string>, 'Sterilized': <tf.Tensor 'ExpandDims_10:0' shape=(None, 1) dtype=string>, 'Health': <tf.Tensor 'ExpandDims_7:0' shape=(None, 1) dtype=string>, 'Fee': <tf.Tensor 'ExpandDims_4:0' shape=(None, 1) dtype=int64>, 'PhotoAmt': <tf.Tensor 'ExpandDims_9:0' shape=(None, 1) dtype=int64>}\n",
      "Consider rewriting this model with the Functional API.\n",
      "231/231 - 9s - loss: 3.8861 - accuracy: 0.6572 - val_loss: 0.2016 - val_accuracy: 0.7384\n",
      "Epoch 2/20\n",
      "231/231 - 1s - loss: 1.1677 - accuracy: 0.6840 - val_loss: 0.2449 - val_accuracy: 0.7134\n",
      "Epoch 3/20\n",
      "231/231 - 1s - loss: 0.4553 - accuracy: 0.7106 - val_loss: 0.1686 - val_accuracy: 0.7638\n",
      "Epoch 4/20\n",
      "231/231 - 2s - loss: 0.2232 - accuracy: 0.7376 - val_loss: 0.1728 - val_accuracy: 0.7470\n",
      "Epoch 5/20\n",
      "231/231 - 2s - loss: 0.1950 - accuracy: 0.7374 - val_loss: 0.1670 - val_accuracy: 0.7703\n",
      "Epoch 6/20\n",
      "231/231 - 2s - loss: 0.1777 - accuracy: 0.7437 - val_loss: 0.1619 - val_accuracy: 0.7687\n",
      "Epoch 7/20\n",
      "231/231 - 2s - loss: 0.1760 - accuracy: 0.7471 - val_loss: 0.1606 - val_accuracy: 0.7725\n",
      "Epoch 8/20\n",
      "231/231 - 2s - loss: 0.1681 - accuracy: 0.7535 - val_loss: 0.1620 - val_accuracy: 0.7709\n",
      "Epoch 9/20\n",
      "231/231 - 2s - loss: 0.1657 - accuracy: 0.7597 - val_loss: 0.1659 - val_accuracy: 0.7638\n",
      "Epoch 10/20\n",
      "231/231 - 2s - loss: 0.1651 - accuracy: 0.7632 - val_loss: 0.1997 - val_accuracy: 0.7172\n",
      "Epoch 11/20\n",
      "231/231 - 2s - loss: 0.1664 - accuracy: 0.7581 - val_loss: 0.1582 - val_accuracy: 0.7811\n",
      "Epoch 12/20\n",
      "231/231 - 2s - loss: 0.1604 - accuracy: 0.7630 - val_loss: 0.1573 - val_accuracy: 0.7817\n",
      "Epoch 13/20\n",
      "231/231 - 2s - loss: 0.1571 - accuracy: 0.7704 - val_loss: 0.1600 - val_accuracy: 0.7790\n",
      "Epoch 14/20\n",
      "231/231 - 2s - loss: 0.1569 - accuracy: 0.7701 - val_loss: 0.1697 - val_accuracy: 0.7584\n",
      "Epoch 15/20\n",
      "231/231 - 2s - loss: 0.1553 - accuracy: 0.7700 - val_loss: 0.1614 - val_accuracy: 0.7714\n",
      "Epoch 16/20\n",
      "231/231 - 3s - loss: 0.1519 - accuracy: 0.7762 - val_loss: 0.1621 - val_accuracy: 0.7795\n",
      "Epoch 17/20\n",
      "231/231 - 2s - loss: 0.1525 - accuracy: 0.7826 - val_loss: 0.1634 - val_accuracy: 0.7595\n",
      "Epoch 18/20\n",
      "231/231 - 2s - loss: 0.1514 - accuracy: 0.7796 - val_loss: 0.1653 - val_accuracy: 0.7757\n",
      "Epoch 19/20\n",
      "231/231 - 3s - loss: 0.1509 - accuracy: 0.7803 - val_loss: 0.1641 - val_accuracy: 0.7709\n",
      "Epoch 20/20\n",
      "231/231 - 2s - loss: 0.1448 - accuracy: 0.7890 - val_loss: 0.1678 - val_accuracy: 0.7606\n"
     ]
    },
    {
     "output_type": "execute_result",
     "data": {
      "text/plain": [
       "<tensorflow.python.keras.callbacks.History at 0x1675da103d0>"
      ]
     },
     "metadata": {},
     "execution_count": 57
    }
   ],
   "source": [
    "model = tf.keras.models.Sequential()\n",
    "model.add(feature_layer)\n",
    "model.add(tf.keras.layers.Dense(128,activation = 'relu'))\n",
    "model.add(tf.keras.layers.Dense(128,activation = 'relu'))\n",
    "model.add(tf.keras.layers.Dropout(0.1))\n",
    "model.add(tf.keras.layers.Dense(1))\n",
    "model.compile(loss='mse', optimizer='adam', metrics=['accuracy'])\n",
    "model.fit(train_ds, validation_data=val_ds, epochs=20, verbose=2)"
   ]
  },
  {
   "cell_type": "code",
   "execution_count": 58,
   "metadata": {},
   "outputs": [
    {
     "output_type": "execute_result",
     "data": {
      "text/plain": [
       "[array([[ 0.6905893 ,  0.23404378, -0.5467346 , ...,  0.0378064 ,\n",
       "          0.28499797,  0.16461433],\n",
       "        [ 0.02444424,  0.4081142 , -0.16803841, ..., -0.17349735,\n",
       "          0.05701346,  0.2367723 ],\n",
       "        [ 0.28152987, -0.21735023, -0.4710192 , ..., -0.16805528,\n",
       "          0.76712924, -0.03458797],\n",
       "        ...,\n",
       "        [-0.19362989, -0.30251452, -0.12716497, ...,  0.4502629 ,\n",
       "          0.5728758 , -0.23505493],\n",
       "        [-0.06567337,  0.14846231,  0.37099352, ...,  0.150354  ,\n",
       "         -0.42210668,  0.1090459 ],\n",
       "        [ 0.5860604 ,  0.1521738 ,  0.27636138, ...,  0.16178508,\n",
       "         -0.50957954, -0.16023323]], dtype=float32),\n",
       " array([[-0.18134637,  0.08602463,  0.09490586, ...,  0.00997966,\n",
       "          0.04246956, -0.12157874],\n",
       "        [ 0.17611948,  0.09984765,  0.21516244, ...,  0.10849623,\n",
       "         -0.07664641, -0.0863409 ],\n",
       "        [-0.00813522, -0.03928092, -0.0810244 , ..., -0.20598674,\n",
       "          0.17744046, -0.13046768],\n",
       "        ...,\n",
       "        [-0.27452695, -0.11763006,  0.05777524, ..., -0.0777588 ,\n",
       "         -0.19006999,  0.02924468],\n",
       "        [ 0.28199074,  0.02863578, -0.06946141, ...,  0.15763876,\n",
       "          0.02038739, -0.11102272],\n",
       "        [-0.14564162, -0.06193376,  0.09257913, ..., -0.14976382,\n",
       "          0.2304972 , -0.21965972]], dtype=float32),\n",
       " array([-0.0374691 , -0.03475353, -0.02851388,  0.01262197,  0.03081342,\n",
       "         0.0005614 ,  0.0059739 , -0.10109281, -0.05546057, -0.03449167,\n",
       "         0.01214394,  0.01734104, -0.01368289, -0.03251182, -0.02493901,\n",
       "        -0.01027012, -0.00668487,  0.01552585, -0.00128813, -0.04103064,\n",
       "         0.01134973, -0.01736491, -0.00074035,  0.01625786, -0.00579709,\n",
       "        -0.00786025,  0.02512478,  0.01061387,  0.01629181, -0.0072786 ,\n",
       "        -0.0223939 ,  0.06823558, -0.03444074,  0.00713804, -0.04731102,\n",
       "         0.02832911, -0.07985434, -0.06577233, -0.01011101, -0.00385888,\n",
       "         0.02768399, -0.0402578 , -0.03750448, -0.03860473,  0.05325128,\n",
       "         0.01640629, -0.00252177, -0.04386066,  0.03750913,  0.02506453,\n",
       "        -0.06379266,  0.01697137, -0.00809184,  0.10544476, -0.03511619,\n",
       "         0.01766043, -0.03642781, -0.06982558, -0.02020834, -0.0162142 ,\n",
       "         0.01515927, -0.00363795,  0.03381493,  0.02387107,  0.00087596,\n",
       "        -0.02159771, -0.04512826,  0.037471  , -0.05916695, -0.11676501,\n",
       "         0.01513412, -0.03883434,  0.01171513, -0.04524367,  0.07197358,\n",
       "         0.09399403, -0.10800723,  0.05759334, -0.08516558,  0.04421977,\n",
       "        -0.11551046, -0.05408223, -0.041752  , -0.06278985, -0.04718453,\n",
       "        -0.02247698,  0.00877772,  0.03600127, -0.00704919, -0.00534288,\n",
       "         0.04319927, -0.17228398,  0.01924153, -0.07803643, -0.01310646,\n",
       "        -0.03522696, -0.0261973 , -0.03651247,  0.0109601 ,  0.00462179,\n",
       "         0.01120933, -0.01298337,  0.01936131, -0.15531796, -0.02287451,\n",
       "         0.02298682, -0.01075047,  0.0357275 ,  0.01355943, -0.06801737,\n",
       "        -0.20316242,  0.00395069, -0.02308773, -0.03204164, -0.01781799,\n",
       "         0.01195833,  0.00773845, -0.06073192, -0.06244907, -0.03624794,\n",
       "        -0.01051003,  0.02327901, -0.01235474, -0.01246041, -0.04550016,\n",
       "        -0.03397344, -0.02069193, -0.03700523], dtype=float32),\n",
       " array([[ 0.04579804,  0.02046372,  0.12918419, ..., -0.06488293,\n",
       "         -0.07030869, -0.06857127],\n",
       "        [ 0.01907915, -0.0678727 , -0.03743445, ..., -0.00825917,\n",
       "         -0.1497561 , -0.1222536 ],\n",
       "        [ 0.02722398, -0.0239917 , -0.13055478, ..., -0.09665997,\n",
       "          0.05724254,  0.02572962],\n",
       "        ...,\n",
       "        [ 0.1449285 , -0.00804634,  0.04347496, ...,  0.0969094 ,\n",
       "          0.07454159,  0.09689686],\n",
       "        [ 0.12699917, -0.11227664,  0.07111221, ..., -0.09797838,\n",
       "         -0.02702385, -0.24538814],\n",
       "        [-0.04226952,  0.02020513,  0.02860143, ..., -0.07710526,\n",
       "          0.12449702,  0.13152142]], dtype=float32),\n",
       " array([-0.05230634,  0.05405134, -0.00617198, -0.00520745,  0.00667386,\n",
       "        -0.02153998, -0.0189505 ,  0.00540238,  0.05927118, -0.01703576,\n",
       "        -0.02988026,  0.01224819,  0.06269234,  0.00020694, -0.0346765 ,\n",
       "        -0.10336444,  0.03369076, -0.02275477, -0.01042233, -0.03119864,\n",
       "        -0.0076848 , -0.01394194,  0.00239193,  0.04566332,  0.0442327 ,\n",
       "        -0.00744812, -0.02355363,  0.0058777 ,  0.00619092,  0.06319109,\n",
       "        -0.0186797 , -0.07877842, -0.00648493, -0.00151518, -0.00515763,\n",
       "        -0.03695203,  0.00841972,  0.0763575 , -0.01684555, -0.01107578,\n",
       "        -0.02771023, -0.06994711, -0.00275629,  0.08090141,  0.00876861,\n",
       "        -0.08228035, -0.03714303,  0.05060717, -0.00620123, -0.00514509,\n",
       "         0.01792447, -0.06736724,  0.00117542, -0.01525087, -0.01705513,\n",
       "         0.02389435, -0.03534736, -0.00606324,  0.03267686, -0.01794445,\n",
       "         0.03062681, -0.0382662 , -0.0374914 ,  0.0227075 , -0.00890574,\n",
       "         0.00714496,  0.00580253,  0.05892776, -0.02085111,  0.03194134,\n",
       "        -0.05201389, -0.02177636,  0.00367174, -0.01884733, -0.01272322,\n",
       "        -0.0301053 , -0.02923339,  0.00044881, -0.1036562 , -0.00499545,\n",
       "        -0.05505123, -0.09870037, -0.04161281,  0.02575175,  0.0483932 ,\n",
       "         0.04520265, -0.02426275, -0.03768449,  0.00377894,  0.01211181,\n",
       "        -0.04279105, -0.01731822,  0.0612773 , -0.04284463, -0.00193086,\n",
       "        -0.01485091, -0.02018463,  0.04062742, -0.0273182 ,  0.02507678,\n",
       "        -0.03202639, -0.0410079 , -0.00634956,  0.05256663,  0.10657675,\n",
       "         0.09154304, -0.06185385, -0.04781488,  0.04344513, -0.01635467,\n",
       "         0.07712843, -0.00770993, -0.01231623,  0.01219178, -0.05336655,\n",
       "         0.07202541, -0.03753395, -0.01839877,  0.02710819, -0.05321184,\n",
       "        -0.00589017, -0.00978102,  0.0410177 , -0.03979228, -0.00361995,\n",
       "        -0.03272397,  0.0127262 , -0.0049497 ], dtype=float32),\n",
       " array([[-0.06035461],\n",
       "        [ 0.0371867 ],\n",
       "        [ 0.12479201],\n",
       "        [-0.4771013 ],\n",
       "        [ 0.15879408],\n",
       "        [ 0.20127408],\n",
       "        [-0.05910421],\n",
       "        [-0.15668246],\n",
       "        [ 0.05385236],\n",
       "        [-0.2110341 ],\n",
       "        [-0.10908762],\n",
       "        [ 0.17286715],\n",
       "        [ 0.09407941],\n",
       "        [ 0.03969157],\n",
       "        [-0.00702096],\n",
       "        [-0.06016736],\n",
       "        [ 0.02402267],\n",
       "        [-0.15829815],\n",
       "        [-0.11457238],\n",
       "        [-0.1684672 ],\n",
       "        [ 0.10322027],\n",
       "        [-0.13307822],\n",
       "        [ 0.11543325],\n",
       "        [ 0.17328282],\n",
       "        [ 0.15635863],\n",
       "        [ 0.11306494],\n",
       "        [-0.2007801 ],\n",
       "        [ 0.15058501],\n",
       "        [ 0.20565416],\n",
       "        [ 0.07995632],\n",
       "        [-0.18741715],\n",
       "        [-0.17555115],\n",
       "        [-0.1736042 ],\n",
       "        [ 0.05768106],\n",
       "        [-0.03509877],\n",
       "        [-0.17588733],\n",
       "        [ 0.17755002],\n",
       "        [ 0.01526437],\n",
       "        [-0.17651223],\n",
       "        [ 0.19550104],\n",
       "        [-0.15074901],\n",
       "        [-0.02684642],\n",
       "        [-0.1972591 ],\n",
       "        [ 0.01022138],\n",
       "        [ 0.13723914],\n",
       "        [-0.06054255],\n",
       "        [-0.07174394],\n",
       "        [ 0.09170651],\n",
       "        [-0.31687638],\n",
       "        [-0.18400064],\n",
       "        [ 0.13782081],\n",
       "        [-0.05030527],\n",
       "        [ 0.02166539],\n",
       "        [-0.00509503],\n",
       "        [-0.19262919],\n",
       "        [ 0.20487767],\n",
       "        [-0.04839954],\n",
       "        [ 0.19188826],\n",
       "        [ 0.0537335 ],\n",
       "        [-0.07206917],\n",
       "        [ 0.16337992],\n",
       "        [ 0.0633832 ],\n",
       "        [-0.08537991],\n",
       "        [ 0.16755325],\n",
       "        [ 0.15626192],\n",
       "        [ 0.10674372],\n",
       "        [ 0.01013861],\n",
       "        [ 0.05273391],\n",
       "        [-0.08020021],\n",
       "        [ 0.08201254],\n",
       "        [-0.13987759],\n",
       "        [-0.01879245],\n",
       "        [ 0.08332442],\n",
       "        [ 0.15349425],\n",
       "        [ 0.20326981],\n",
       "        [-0.11999381],\n",
       "        [-0.52097696],\n",
       "        [ 0.13625307],\n",
       "        [-0.11837029],\n",
       "        [-0.17844453],\n",
       "        [-0.07232781],\n",
       "        [-0.00585693],\n",
       "        [-0.13265483],\n",
       "        [ 0.05790031],\n",
       "        [ 0.05994227],\n",
       "        [ 0.2726784 ],\n",
       "        [-0.01285486],\n",
       "        [-0.07530293],\n",
       "        [ 0.18830131],\n",
       "        [ 0.10877774],\n",
       "        [-0.14034197],\n",
       "        [ 0.07669287],\n",
       "        [ 0.0520973 ],\n",
       "        [ 0.03779744],\n",
       "        [ 0.19066375],\n",
       "        [ 0.18242672],\n",
       "        [-0.09687927],\n",
       "        [ 0.03835792],\n",
       "        [-0.19858658],\n",
       "        [-0.10412733],\n",
       "        [-0.27384993],\n",
       "        [-0.17531525],\n",
       "        [ 0.20377678],\n",
       "        [ 0.16332054],\n",
       "        [ 0.00970765],\n",
       "        [ 0.02698987],\n",
       "        [-0.18255822],\n",
       "        [-0.15698698],\n",
       "        [ 0.04520263],\n",
       "        [-0.05956334],\n",
       "        [ 0.03988552],\n",
       "        [-0.17223348],\n",
       "        [-0.10507718],\n",
       "        [ 0.1907122 ],\n",
       "        [-0.03241636],\n",
       "        [-0.2301216 ],\n",
       "        [-0.10524946],\n",
       "        [-0.12054438],\n",
       "        [ 0.05858868],\n",
       "        [-0.13787197],\n",
       "        [ 0.03817216],\n",
       "        [ 0.06609709],\n",
       "        [ 0.05979074],\n",
       "        [-0.06765342],\n",
       "        [ 0.08247298],\n",
       "        [-0.02371274],\n",
       "        [ 0.2009543 ],\n",
       "        [ 0.18210815]], dtype=float32),\n",
       " array([0.27261165], dtype=float32)]"
      ]
     },
     "metadata": {},
     "execution_count": 58
    }
   ],
   "source": [
    "model.get_weights()"
   ]
  },
  {
   "source": [
    "<h3> More on encoding categorical features using one hot vectors </h3> \n",
    "\n",
    "No matter which option you choose to build a categorical feature (categorical, bucketized or crossed columns), it must be encoded before feeding into the neural network. \n",
    "\n",
    "A one-hot vector encoding has the size of the vocabulary length, which is fine if there are only few categories. \n",
    "\n",
    "But if the vocabulary is large, it ends up with too many inputs resulting in too many weights to learn. \n",
    "\n",
    "As a rule of thumb, if the number of categories is lower than 10, then one-hot encoding is generally the way to go. If the number of categories is greater than 50, we use embedding. "
   ],
   "cell_type": "markdown",
   "metadata": {}
  },
  {
   "source": [
    "<h3> Encoding using embeddings </h3> \n",
    "\n",
    "Embedding is a trainable dense vector that represents a category.\n",
    "\n",
    "An embedding will group words with similar meanings based on the training text and return their location.\n",
    "\n",
    "With embedding we can convert seemingly \"senseless\" data such as ID to useful features. \n",
    "\n",
    "The rule of thumb is to typicakky reduce the features y the 4th root of the total number of categories. "
   ],
   "cell_type": "markdown",
   "metadata": {}
  },
  {
   "cell_type": "code",
   "execution_count": 59,
   "metadata": {},
   "outputs": [
    {
     "output_type": "execute_result",
     "data": {
      "text/plain": [
       "{('Cat', 'Abyssinian'),\n",
       " ('Cat', 'American Curl'),\n",
       " ('Cat', 'American Shorthair'),\n",
       " ('Cat', 'American Wirehair'),\n",
       " ('Cat', 'Applehead Siamese'),\n",
       " ('Cat', 'Australian Kelpie'),\n",
       " ('Cat', 'Balinese'),\n",
       " ('Cat', 'Belgian Shepherd Laekenois'),\n",
       " ('Cat', 'Bengal'),\n",
       " ('Cat', 'Birman'),\n",
       " ('Cat', 'Bobtail'),\n",
       " ('Cat', 'Bombay'),\n",
       " ('Cat', 'British Shorthair'),\n",
       " ('Cat', 'Burmese'),\n",
       " ('Cat', 'Burmilla'),\n",
       " ('Cat', 'Calico'),\n",
       " ('Cat', 'Chartreux'),\n",
       " ('Cat', 'Chausie'),\n",
       " ('Cat', 'Collie'),\n",
       " ('Cat', 'Cymric'),\n",
       " ('Cat', 'Dilute Calico'),\n",
       " ('Cat', 'Dilute Tortoiseshell'),\n",
       " ('Cat', 'Domestic Long Hair'),\n",
       " ('Cat', 'Domestic Medium Hair'),\n",
       " ('Cat', 'Domestic Short Hair'),\n",
       " ('Cat', 'Egyptian Mau'),\n",
       " ('Cat', 'Exotic Shorthair'),\n",
       " ('Cat', 'Extra-Toes Cat (Hemingway Polydactyl)'),\n",
       " ('Cat', 'Havana'),\n",
       " ('Cat', 'Himalayan'),\n",
       " ('Cat', 'Japanese Bobtail'),\n",
       " ('Cat', 'Javanese'),\n",
       " ('Cat', 'Korat'),\n",
       " ('Cat', 'Maine Coon'),\n",
       " ('Cat', 'Manx'),\n",
       " ('Cat', 'Mixed Breed'),\n",
       " ('Cat', 'Nebelung'),\n",
       " ('Cat', 'Norwegian Forest Cat'),\n",
       " ('Cat', 'Ocicat'),\n",
       " ('Cat', 'Oriental Long Hair'),\n",
       " ('Cat', 'Oriental Short Hair'),\n",
       " ('Cat', 'Oriental Tabby'),\n",
       " ('Cat', 'Persian'),\n",
       " ('Cat', 'Ragamuffin'),\n",
       " ('Cat', 'Ragdoll'),\n",
       " ('Cat', 'Russian Blue'),\n",
       " ('Cat', 'Shih Tzu'),\n",
       " ('Cat', 'Siamese'),\n",
       " ('Cat', 'Siberian'),\n",
       " ('Cat', 'Silver'),\n",
       " ('Cat', 'Singapura'),\n",
       " ('Cat', 'Snowshoe'),\n",
       " ('Cat', 'Somali'),\n",
       " ('Cat', 'Sphynx (hairless cat)'),\n",
       " ('Cat', 'Tabby'),\n",
       " ('Cat', 'Terrier'),\n",
       " ('Cat', 'Tiger'),\n",
       " ('Cat', 'Tonkinese'),\n",
       " ('Cat', 'Torbie'),\n",
       " ('Cat', 'Tortoiseshell'),\n",
       " ('Cat', 'Turkish Angora'),\n",
       " ('Cat', 'Turkish Van'),\n",
       " ('Cat', 'Tuxedo')}"
      ]
     },
     "metadata": {},
     "execution_count": 59
    }
   ],
   "source": [
    "df_cat = petsdf.loc[petsdf[\"Type\"] == \"Cat\"]\n",
    "unique_cat_breed_pairs = set(tuple(zip(df_cat[\"Type\"],df_cat[\"Breed1\"])))\n",
    "unique_cat_breed_pairs"
   ]
  },
  {
   "cell_type": "code",
   "execution_count": 60,
   "metadata": {},
   "outputs": [
    {
     "output_type": "execute_result",
     "data": {
      "text/plain": [
       "{('Dog', '0'),\n",
       " ('Dog', 'Akita'),\n",
       " ('Dog', 'American Bulldog'),\n",
       " ('Dog', 'American Staffordshire Terrier'),\n",
       " ('Dog', 'American Water Spaniel'),\n",
       " ('Dog', 'Australian Kelpie'),\n",
       " ('Dog', 'Australian Shepherd'),\n",
       " ('Dog', 'Australian Terrier'),\n",
       " ('Dog', 'Basenji'),\n",
       " ('Dog', 'Basset Hound'),\n",
       " ('Dog', 'Beagle'),\n",
       " ('Dog', 'Bedlington Terrier'),\n",
       " ('Dog', 'Belgian Shepherd Dog Sheepdog'),\n",
       " ('Dog', 'Belgian Shepherd Laekenois'),\n",
       " ('Dog', 'Belgian Shepherd Malinois'),\n",
       " ('Dog', 'Black Labrador Retriever'),\n",
       " ('Dog', 'Black Mouth Cur'),\n",
       " ('Dog', 'Border Collie'),\n",
       " ('Dog', 'Boston Terrier'),\n",
       " ('Dog', 'Boxer'),\n",
       " ('Dog', 'Bull Terrier'),\n",
       " ('Dog', 'Bullmastiff'),\n",
       " ('Dog', 'Cattle Dog'),\n",
       " ('Dog', 'Cavalier King Charles Spaniel'),\n",
       " ('Dog', 'Chihuahua'),\n",
       " ('Dog', 'Chinese Crested Dog'),\n",
       " ('Dog', 'Chow Chow'),\n",
       " ('Dog', 'Cocker Spaniel'),\n",
       " ('Dog', 'Collie'),\n",
       " ('Dog', 'Coonhound'),\n",
       " ('Dog', 'Corgi'),\n",
       " ('Dog', 'Dachshund'),\n",
       " ('Dog', 'Dalmatian'),\n",
       " ('Dog', 'Doberman Pinscher'),\n",
       " ('Dog', 'Dutch Shepherd'),\n",
       " ('Dog', 'English Bulldog'),\n",
       " ('Dog', 'English Cocker Spaniel'),\n",
       " ('Dog', 'English Pointer'),\n",
       " ('Dog', 'English Springer Spaniel'),\n",
       " ('Dog', 'Field Spaniel'),\n",
       " ('Dog', 'Flat-coated Retriever'),\n",
       " ('Dog', 'Fox Terrier'),\n",
       " ('Dog', 'Foxhound'),\n",
       " ('Dog', 'French Bulldog'),\n",
       " ('Dog', 'German Pinscher'),\n",
       " ('Dog', 'German Shepherd Dog'),\n",
       " ('Dog', 'German Spitz'),\n",
       " ('Dog', 'Glen of Imaal Terrier'),\n",
       " ('Dog', 'Golden Retriever'),\n",
       " ('Dog', 'Great Dane'),\n",
       " ('Dog', 'Greyhound'),\n",
       " ('Dog', 'Hound'),\n",
       " ('Dog', 'Husky'),\n",
       " ('Dog', 'Irish Setter'),\n",
       " ('Dog', 'Irish Terrier'),\n",
       " ('Dog', 'Irish Wolfhound'),\n",
       " ('Dog', 'Jack Russell Terrier'),\n",
       " ('Dog', 'Jack Russell Terrier (Parson Russell Terrier)'),\n",
       " ('Dog', 'Kai Dog'),\n",
       " ('Dog', 'Labrador Retriever'),\n",
       " ('Dog', 'Lancashire Heeler'),\n",
       " ('Dog', 'Lhasa Apso'),\n",
       " ('Dog', 'Lowchen'),\n",
       " ('Dog', 'Maltese'),\n",
       " ('Dog', 'Manchester Terrier'),\n",
       " ('Dog', 'Mastiff'),\n",
       " ('Dog', 'Miniature Pinscher'),\n",
       " ('Dog', 'Mixed Breed'),\n",
       " ('Dog', 'Mountain Dog'),\n",
       " ('Dog', 'Munsterlander'),\n",
       " ('Dog', 'Old English Sheepdog'),\n",
       " ('Dog', 'Papillon'),\n",
       " ('Dog', 'Pekingese'),\n",
       " ('Dog', 'Pit Bull Terrier'),\n",
       " ('Dog', 'Pointer'),\n",
       " ('Dog', 'Pomeranian'),\n",
       " ('Dog', 'Poodle'),\n",
       " ('Dog', 'Pug'),\n",
       " ('Dog', 'Rat Terrier'),\n",
       " ('Dog', 'Retriever'),\n",
       " ('Dog', 'Rhodesian Ridgeback'),\n",
       " ('Dog', 'Rottweiler'),\n",
       " ('Dog', 'Saint Bernard'),\n",
       " ('Dog', 'Samoyed'),\n",
       " ('Dog', 'Schnauzer'),\n",
       " ('Dog', 'Setter'),\n",
       " ('Dog', 'Shar Pei'),\n",
       " ('Dog', 'Shepherd'),\n",
       " ('Dog', 'Shetland Sheepdog Sheltie'),\n",
       " ('Dog', 'Shiba Inu'),\n",
       " ('Dog', 'Shih Tzu'),\n",
       " ('Dog', 'Siberian Husky'),\n",
       " ('Dog', 'Silky Terrier'),\n",
       " ('Dog', 'Spaniel'),\n",
       " ('Dog', 'Spitz'),\n",
       " ('Dog', 'Staffordshire Bull Terrier'),\n",
       " ('Dog', 'Standard Poodle'),\n",
       " ('Dog', 'Swedish Vallhund'),\n",
       " ('Dog', 'Terrier'),\n",
       " ('Dog', 'Toy Fox Terrier'),\n",
       " ('Dog', 'Weimaraner'),\n",
       " ('Dog', 'Welsh Corgi'),\n",
       " ('Dog', 'West Highland White Terrier Westie'),\n",
       " ('Dog', 'Wheaten Terrier'),\n",
       " ('Dog', 'Whippet'),\n",
       " ('Dog', 'White German Shepherd'),\n",
       " ('Dog', 'Wirehaired Terrier'),\n",
       " ('Dog', 'Yellow Labrador Retriever'),\n",
       " ('Dog', 'Yorkshire Terrier Yorkie')}"
      ]
     },
     "metadata": {},
     "execution_count": 60
    }
   ],
   "source": [
    "df_dog = petsdf.loc[petsdf[\"Type\"] == \"Dog\"]\n",
    "unique_dog_breed_pairs = set(tuple(zip(df_dog[\"Type\"],df_dog[\"Breed1\"])))\n",
    "unique_dog_breed_pairs"
   ]
  },
  {
   "cell_type": "code",
   "execution_count": 61,
   "metadata": {},
   "outputs": [],
   "source": [
    "combined_type_category = [\"{}_{}\".format(val[0],val[1]) for typelist in [unique_cat_breed_pairs,unique_dog_breed_pairs] for val in typelist]\n",
    "\n"
   ]
  },
  {
   "cell_type": "code",
   "execution_count": 62,
   "metadata": {},
   "outputs": [
    {
     "output_type": "execute_result",
     "data": {
      "text/plain": [
       "['Cat_Siberian',\n",
       " 'Cat_Cymric',\n",
       " 'Cat_Terrier',\n",
       " 'Cat_Collie',\n",
       " 'Cat_Australian Kelpie',\n",
       " 'Cat_Abyssinian',\n",
       " 'Cat_Birman',\n",
       " 'Cat_Snowshoe',\n",
       " 'Cat_Torbie',\n",
       " 'Cat_American Curl',\n",
       " 'Cat_Tuxedo',\n",
       " 'Cat_Bengal',\n",
       " 'Cat_Maine Coon',\n",
       " 'Cat_Norwegian Forest Cat',\n",
       " 'Cat_Silver',\n",
       " 'Cat_Chausie',\n",
       " 'Cat_Nebelung',\n",
       " 'Cat_Javanese',\n",
       " 'Cat_Dilute Tortoiseshell',\n",
       " 'Cat_Siamese',\n",
       " 'Cat_Burmese',\n",
       " 'Cat_Oriental Long Hair',\n",
       " 'Cat_Ragdoll',\n",
       " 'Cat_Domestic Medium Hair',\n",
       " 'Cat_Tortoiseshell',\n",
       " 'Cat_Manx',\n",
       " 'Cat_Turkish Angora',\n",
       " 'Cat_Belgian Shepherd Laekenois',\n",
       " 'Cat_Himalayan',\n",
       " 'Cat_Oriental Tabby',\n",
       " 'Cat_Domestic Short Hair',\n",
       " 'Cat_Singapura',\n",
       " 'Cat_Mixed Breed',\n",
       " 'Cat_Korat',\n",
       " 'Cat_Havana',\n",
       " 'Cat_Burmilla',\n",
       " 'Cat_Ocicat',\n",
       " 'Cat_Japanese Bobtail',\n",
       " 'Cat_Extra-Toes Cat (Hemingway Polydactyl)',\n",
       " 'Cat_Calico',\n",
       " 'Cat_Ragamuffin',\n",
       " 'Cat_American Shorthair',\n",
       " 'Cat_Turkish Van',\n",
       " 'Cat_British Shorthair',\n",
       " 'Cat_Chartreux',\n",
       " 'Cat_Egyptian Mau',\n",
       " 'Cat_Russian Blue',\n",
       " 'Cat_Shih Tzu',\n",
       " 'Cat_Oriental Short Hair',\n",
       " 'Cat_Applehead Siamese',\n",
       " 'Cat_American Wirehair',\n",
       " 'Cat_Persian',\n",
       " 'Cat_Tiger',\n",
       " 'Cat_Sphynx (hairless cat)',\n",
       " 'Cat_Balinese',\n",
       " 'Cat_Bombay',\n",
       " 'Cat_Domestic Long Hair',\n",
       " 'Cat_Exotic Shorthair',\n",
       " 'Cat_Tonkinese',\n",
       " 'Cat_Dilute Calico',\n",
       " 'Cat_Somali',\n",
       " 'Cat_Bobtail',\n",
       " 'Cat_Tabby',\n",
       " 'Dog_Australian Shepherd',\n",
       " 'Dog_Cavalier King Charles Spaniel',\n",
       " 'Dog_Basset Hound',\n",
       " 'Dog_Whippet',\n",
       " 'Dog_Jack Russell Terrier',\n",
       " 'Dog_Irish Wolfhound',\n",
       " 'Dog_Spitz',\n",
       " 'Dog_English Cocker Spaniel',\n",
       " 'Dog_Shiba Inu',\n",
       " 'Dog_Pomeranian',\n",
       " 'Dog_Cocker Spaniel',\n",
       " 'Dog_Shepherd',\n",
       " 'Dog_Swedish Vallhund',\n",
       " 'Dog_Foxhound',\n",
       " 'Dog_Dutch Shepherd',\n",
       " 'Dog_Wheaten Terrier',\n",
       " 'Dog_Rat Terrier',\n",
       " 'Dog_Yorkshire Terrier Yorkie',\n",
       " 'Dog_Boxer',\n",
       " 'Dog_English Springer Spaniel',\n",
       " 'Dog_Saint Bernard',\n",
       " 'Dog_Lancashire Heeler',\n",
       " 'Dog_Labrador Retriever',\n",
       " 'Dog_Toy Fox Terrier',\n",
       " 'Dog_Standard Poodle',\n",
       " 'Dog_Rottweiler',\n",
       " 'Dog_Field Spaniel',\n",
       " 'Dog_Beagle',\n",
       " 'Dog_Cattle Dog',\n",
       " 'Dog_Hound',\n",
       " 'Dog_Shetland Sheepdog Sheltie',\n",
       " 'Dog_Flat-coated Retriever',\n",
       " 'Dog_Retriever',\n",
       " 'Dog_Setter',\n",
       " 'Dog_Golden Retriever',\n",
       " 'Dog_Wirehaired Terrier',\n",
       " 'Dog_Weimaraner',\n",
       " 'Dog_Corgi',\n",
       " 'Dog_Chihuahua',\n",
       " 'Dog_Pekingese',\n",
       " 'Dog_Glen of Imaal Terrier',\n",
       " 'Dog_Bull Terrier',\n",
       " 'Dog_Irish Setter',\n",
       " 'Dog_White German Shepherd',\n",
       " 'Dog_Belgian Shepherd Laekenois',\n",
       " 'Dog_West Highland White Terrier Westie',\n",
       " 'Dog_0',\n",
       " 'Dog_Pointer',\n",
       " 'Dog_Dalmatian',\n",
       " 'Dog_Poodle',\n",
       " 'Dog_Akita',\n",
       " 'Dog_Papillon',\n",
       " 'Dog_Dachshund',\n",
       " 'Dog_Shih Tzu',\n",
       " 'Dog_Mastiff',\n",
       " 'Dog_Pit Bull Terrier',\n",
       " 'Dog_Australian Kelpie',\n",
       " 'Dog_Shar Pei',\n",
       " 'Dog_Black Labrador Retriever',\n",
       " 'Dog_Chinese Crested Dog',\n",
       " 'Dog_French Bulldog',\n",
       " 'Dog_American Bulldog',\n",
       " 'Dog_Australian Terrier',\n",
       " 'Dog_Basenji',\n",
       " 'Dog_Irish Terrier',\n",
       " 'Dog_Great Dane',\n",
       " 'Dog_Mixed Breed',\n",
       " 'Dog_Welsh Corgi',\n",
       " 'Dog_Black Mouth Cur',\n",
       " 'Dog_Belgian Shepherd Dog Sheepdog',\n",
       " 'Dog_Husky',\n",
       " 'Dog_Lhasa Apso',\n",
       " 'Dog_American Staffordshire Terrier',\n",
       " 'Dog_English Pointer',\n",
       " 'Dog_Yellow Labrador Retriever',\n",
       " 'Dog_Samoyed',\n",
       " 'Dog_Maltese',\n",
       " 'Dog_Manchester Terrier',\n",
       " 'Dog_Doberman Pinscher',\n",
       " 'Dog_English Bulldog',\n",
       " 'Dog_Schnauzer',\n",
       " 'Dog_Greyhound',\n",
       " 'Dog_German Pinscher',\n",
       " 'Dog_Belgian Shepherd Malinois',\n",
       " 'Dog_German Shepherd Dog',\n",
       " 'Dog_Bullmastiff',\n",
       " 'Dog_Terrier',\n",
       " 'Dog_Jack Russell Terrier (Parson Russell Terrier)',\n",
       " 'Dog_Old English Sheepdog',\n",
       " 'Dog_Staffordshire Bull Terrier',\n",
       " 'Dog_Lowchen',\n",
       " 'Dog_Collie',\n",
       " 'Dog_Silky Terrier',\n",
       " 'Dog_Siberian Husky',\n",
       " 'Dog_Kai Dog',\n",
       " 'Dog_Fox Terrier',\n",
       " 'Dog_Mountain Dog',\n",
       " 'Dog_Boston Terrier',\n",
       " 'Dog_American Water Spaniel',\n",
       " 'Dog_Munsterlander',\n",
       " 'Dog_Rhodesian Ridgeback',\n",
       " 'Dog_Bedlington Terrier',\n",
       " 'Dog_Border Collie',\n",
       " 'Dog_Pug',\n",
       " 'Dog_Spaniel',\n",
       " 'Dog_German Spitz',\n",
       " 'Dog_Chow Chow',\n",
       " 'Dog_Miniature Pinscher',\n",
       " 'Dog_Coonhound']"
      ]
     },
     "metadata": {},
     "execution_count": 62
    }
   ],
   "source": [
    "combined_type_category"
   ]
  },
  {
   "cell_type": "code",
   "execution_count": 63,
   "metadata": {},
   "outputs": [],
   "source": [
    "type_breed_combo = tf.feature_column.categorical_column_with_vocabulary_list(\"type_breed_combo\",combined_type_category)\n",
    "embedded_type_breed = tf.feature_column.embedding_column(type_breed_combo,dimension = 2)"
   ]
  },
  {
   "cell_type": "code",
   "execution_count": 64,
   "metadata": {},
   "outputs": [
    {
     "output_type": "execute_result",
     "data": {
      "text/plain": [
       "EmbeddingColumn(categorical_column=VocabularyListCategoricalColumn(key='type_breed_combo', vocabulary_list=('Cat_Siberian', 'Cat_Cymric', 'Cat_Terrier', 'Cat_Collie', 'Cat_Australian Kelpie', 'Cat_Abyssinian', 'Cat_Birman', 'Cat_Snowshoe', 'Cat_Torbie', 'Cat_American Curl', 'Cat_Tuxedo', 'Cat_Bengal', 'Cat_Maine Coon', 'Cat_Norwegian Forest Cat', 'Cat_Silver', 'Cat_Chausie', 'Cat_Nebelung', 'Cat_Javanese', 'Cat_Dilute Tortoiseshell', 'Cat_Siamese', 'Cat_Burmese', 'Cat_Oriental Long Hair', 'Cat_Ragdoll', 'Cat_Domestic Medium Hair', 'Cat_Tortoiseshell', 'Cat_Manx', 'Cat_Turkish Angora', 'Cat_Belgian Shepherd Laekenois', 'Cat_Himalayan', 'Cat_Oriental Tabby', 'Cat_Domestic Short Hair', 'Cat_Singapura', 'Cat_Mixed Breed', 'Cat_Korat', 'Cat_Havana', 'Cat_Burmilla', 'Cat_Ocicat', 'Cat_Japanese Bobtail', 'Cat_Extra-Toes Cat (Hemingway Polydactyl)', 'Cat_Calico', 'Cat_Ragamuffin', 'Cat_American Shorthair', 'Cat_Turkish Van', 'Cat_British Shorthair', 'Cat_Chartreux', 'Cat_Egyptian Mau', 'Cat_Russian Blue', 'Cat_Shih Tzu', 'Cat_Oriental Short Hair', 'Cat_Applehead Siamese', 'Cat_American Wirehair', 'Cat_Persian', 'Cat_Tiger', 'Cat_Sphynx (hairless cat)', 'Cat_Balinese', 'Cat_Bombay', 'Cat_Domestic Long Hair', 'Cat_Exotic Shorthair', 'Cat_Tonkinese', 'Cat_Dilute Calico', 'Cat_Somali', 'Cat_Bobtail', 'Cat_Tabby', 'Dog_Australian Shepherd', 'Dog_Cavalier King Charles Spaniel', 'Dog_Basset Hound', 'Dog_Whippet', 'Dog_Jack Russell Terrier', 'Dog_Irish Wolfhound', 'Dog_Spitz', 'Dog_English Cocker Spaniel', 'Dog_Shiba Inu', 'Dog_Pomeranian', 'Dog_Cocker Spaniel', 'Dog_Shepherd', 'Dog_Swedish Vallhund', 'Dog_Foxhound', 'Dog_Dutch Shepherd', 'Dog_Wheaten Terrier', 'Dog_Rat Terrier', 'Dog_Yorkshire Terrier Yorkie', 'Dog_Boxer', 'Dog_English Springer Spaniel', 'Dog_Saint Bernard', 'Dog_Lancashire Heeler', 'Dog_Labrador Retriever', 'Dog_Toy Fox Terrier', 'Dog_Standard Poodle', 'Dog_Rottweiler', 'Dog_Field Spaniel', 'Dog_Beagle', 'Dog_Cattle Dog', 'Dog_Hound', 'Dog_Shetland Sheepdog Sheltie', 'Dog_Flat-coated Retriever', 'Dog_Retriever', 'Dog_Setter', 'Dog_Golden Retriever', 'Dog_Wirehaired Terrier', 'Dog_Weimaraner', 'Dog_Corgi', 'Dog_Chihuahua', 'Dog_Pekingese', 'Dog_Glen of Imaal Terrier', 'Dog_Bull Terrier', 'Dog_Irish Setter', 'Dog_White German Shepherd', 'Dog_Belgian Shepherd Laekenois', 'Dog_West Highland White Terrier Westie', 'Dog_0', 'Dog_Pointer', 'Dog_Dalmatian', 'Dog_Poodle', 'Dog_Akita', 'Dog_Papillon', 'Dog_Dachshund', 'Dog_Shih Tzu', 'Dog_Mastiff', 'Dog_Pit Bull Terrier', 'Dog_Australian Kelpie', 'Dog_Shar Pei', 'Dog_Black Labrador Retriever', 'Dog_Chinese Crested Dog', 'Dog_French Bulldog', 'Dog_American Bulldog', 'Dog_Australian Terrier', 'Dog_Basenji', 'Dog_Irish Terrier', 'Dog_Great Dane', 'Dog_Mixed Breed', 'Dog_Welsh Corgi', 'Dog_Black Mouth Cur', 'Dog_Belgian Shepherd Dog Sheepdog', 'Dog_Husky', 'Dog_Lhasa Apso', 'Dog_American Staffordshire Terrier', 'Dog_English Pointer', 'Dog_Yellow Labrador Retriever', 'Dog_Samoyed', 'Dog_Maltese', 'Dog_Manchester Terrier', 'Dog_Doberman Pinscher', 'Dog_English Bulldog', 'Dog_Schnauzer', 'Dog_Greyhound', 'Dog_German Pinscher', 'Dog_Belgian Shepherd Malinois', 'Dog_German Shepherd Dog', 'Dog_Bullmastiff', 'Dog_Terrier', 'Dog_Jack Russell Terrier (Parson Russell Terrier)', 'Dog_Old English Sheepdog', 'Dog_Staffordshire Bull Terrier', 'Dog_Lowchen', 'Dog_Collie', 'Dog_Silky Terrier', 'Dog_Siberian Husky', 'Dog_Kai Dog', 'Dog_Fox Terrier', 'Dog_Mountain Dog', 'Dog_Boston Terrier', 'Dog_American Water Spaniel', 'Dog_Munsterlander', 'Dog_Rhodesian Ridgeback', 'Dog_Bedlington Terrier', 'Dog_Border Collie', 'Dog_Pug', 'Dog_Spaniel', 'Dog_German Spitz', 'Dog_Chow Chow', 'Dog_Miniature Pinscher', 'Dog_Coonhound'), dtype=tf.string, default_value=-1, num_oov_buckets=0), dimension=2, combiner='mean', initializer=<tensorflow.python.ops.init_ops.TruncatedNormal object at 0x000001675D9E3970>, ckpt_to_load_from=None, tensor_name_in_ckpt=None, max_norm=None, trainable=True, use_safe_embedding_lookup=True)"
      ]
     },
     "metadata": {},
     "execution_count": 64
    }
   ],
   "source": [
    "embedded_type_breed"
   ]
  },
  {
   "cell_type": "code",
   "execution_count": 65,
   "metadata": {},
   "outputs": [],
   "source": [
    "dense_layer_test = tf.keras.layers.DenseFeatures([embedded_type_breed])"
   ]
  },
  {
   "cell_type": "code",
   "execution_count": 66,
   "metadata": {},
   "outputs": [],
   "source": [
    "result = dense_layer_test({\n",
    "    \"type_breed_combo\":combined_type_category\n",
    "    }).numpy()"
   ]
  },
  {
   "cell_type": "code",
   "execution_count": 67,
   "metadata": {},
   "outputs": [
    {
     "output_type": "execute_result",
     "data": {
      "text/plain": [
       "(('Cat_Siberian', array([ 0.4174289, -0.0595459], dtype=float32)),\n",
       " ('Cat_Cymric', array([-0.09757801, -0.6830158 ], dtype=float32)),\n",
       " ('Cat_Terrier', array([0.43987358, 0.76479065], dtype=float32)),\n",
       " ('Cat_Collie', array([0.5995611 , 0.13188113], dtype=float32)),\n",
       " ('Cat_Australian Kelpie', array([-0.3047965 ,  0.34143513], dtype=float32)),\n",
       " ('Cat_Abyssinian', array([-0.6000862 , -0.41544506], dtype=float32)),\n",
       " ('Cat_Birman', array([ 1.0018126 , -0.37282228], dtype=float32)),\n",
       " ('Cat_Snowshoe', array([-0.98878485, -0.60708994], dtype=float32)),\n",
       " ('Cat_Torbie', array([0.5137909, 0.9470142], dtype=float32)),\n",
       " ('Cat_American Curl', array([-0.73888886,  1.0841365 ], dtype=float32)),\n",
       " ('Cat_Tuxedo', array([-0.480495  ,  0.02985689], dtype=float32)),\n",
       " ('Cat_Bengal', array([ 0.38475174, -1.1092777 ], dtype=float32)),\n",
       " ('Cat_Maine Coon', array([-0.7450547 ,  0.77990896], dtype=float32)),\n",
       " ('Cat_Norwegian Forest Cat', array([-1.2197012, -0.5436412], dtype=float32)),\n",
       " ('Cat_Silver', array([ 0.8768708, -0.5731292], dtype=float32)),\n",
       " ('Cat_Chausie', array([0.5458749, 0.7969025], dtype=float32)),\n",
       " ('Cat_Nebelung', array([-0.6212431, -0.7485726], dtype=float32)),\n",
       " ('Cat_Javanese', array([-1.3016101,  0.7520398], dtype=float32)),\n",
       " ('Cat_Dilute Tortoiseshell', array([ 0.7049304, -0.272628 ], dtype=float32)),\n",
       " ('Cat_Siamese', array([-0.40784764, -1.078573  ], dtype=float32)),\n",
       " ('Cat_Burmese', array([0.06767246, 0.21652968], dtype=float32)),\n",
       " ('Cat_Oriental Long Hair', array([ 0.3757212 , -0.57274926], dtype=float32)),\n",
       " ('Cat_Ragdoll', array([0.1128428 , 0.65311676], dtype=float32)),\n",
       " ('Cat_Domestic Medium Hair', array([0.95389223, 0.06953291], dtype=float32)),\n",
       " ('Cat_Tortoiseshell', array([-1.368974  ,  0.11577997], dtype=float32)),\n",
       " ('Cat_Manx', array([ 0.5362973 , -0.28124025], dtype=float32)),\n",
       " ('Cat_Turkish Angora', array([-0.04640764, -0.06435651], dtype=float32)),\n",
       " ('Cat_Belgian Shepherd Laekenois',\n",
       "  array([-0.26206258,  0.694861  ], dtype=float32)),\n",
       " ('Cat_Himalayan', array([ 0.4996709, -1.307255 ], dtype=float32)),\n",
       " ('Cat_Oriental Tabby', array([ 0.00974003, -0.5832828 ], dtype=float32)),\n",
       " ('Cat_Domestic Short Hair', array([0.41604793, 0.23386808], dtype=float32)),\n",
       " ('Cat_Singapura', array([0.766063  , 0.48787948], dtype=float32)),\n",
       " ('Cat_Mixed Breed', array([-0.9382304, -0.2255242], dtype=float32)),\n",
       " ('Cat_Korat', array([-0.7294327 , -0.38989076], dtype=float32)),\n",
       " ('Cat_Havana', array([-1.0293764,  0.5955384], dtype=float32)),\n",
       " ('Cat_Burmilla', array([0.2889527 , 0.89243454], dtype=float32)),\n",
       " ('Cat_Ocicat', array([0.7427883 , 0.29437813], dtype=float32)),\n",
       " ('Cat_Japanese Bobtail', array([-0.66230476,  0.60059875], dtype=float32)),\n",
       " ('Cat_Extra-Toes Cat (Hemingway Polydactyl)',\n",
       "  array([-1.1163888 ,  0.35416704], dtype=float32)),\n",
       " ('Cat_Calico', array([-0.50925714,  0.7154064 ], dtype=float32)),\n",
       " ('Cat_Ragamuffin', array([-0.96722  , -1.1475283], dtype=float32)),\n",
       " ('Cat_American Shorthair', array([0.9017829 , 0.53704965], dtype=float32)),\n",
       " ('Cat_Turkish Van', array([-0.85713077,  0.4399036 ], dtype=float32)),\n",
       " ('Cat_British Shorthair', array([0.6522566 , 0.30328405], dtype=float32)),\n",
       " ('Cat_Chartreux', array([ 0.43693557, -0.60351   ], dtype=float32)),\n",
       " ('Cat_Egyptian Mau', array([-1.213074  ,  0.13236281], dtype=float32)),\n",
       " ('Cat_Russian Blue', array([0.4748434, 0.3255078], dtype=float32)),\n",
       " ('Cat_Shih Tzu', array([0.36821783, 1.2609088 ], dtype=float32)),\n",
       " ('Cat_Oriental Short Hair', array([-0.5947256, -1.013797 ], dtype=float32)),\n",
       " ('Cat_Applehead Siamese', array([0.56042475, 1.0414342 ], dtype=float32)),\n",
       " ('Cat_American Wirehair', array([ 0.03043167, -0.5978078 ], dtype=float32)),\n",
       " ('Cat_Persian', array([ 0.40121022, -0.01733009], dtype=float32)),\n",
       " ('Cat_Tiger', array([0.29744464, 1.0795249 ], dtype=float32)),\n",
       " ('Cat_Sphynx (hairless cat)',\n",
       "  array([-0.7264493 ,  0.15878272], dtype=float32)),\n",
       " ('Cat_Balinese', array([0.12390544, 0.7925213 ], dtype=float32)),\n",
       " ('Cat_Bombay', array([-1.0597647 ,  0.12427307], dtype=float32)),\n",
       " ('Cat_Domestic Long Hair', array([ 0.6122911, -0.6809045], dtype=float32)),\n",
       " ('Cat_Exotic Shorthair', array([-0.29904544, -0.09336287], dtype=float32)),\n",
       " ('Cat_Tonkinese', array([-0.6100887, -1.2241995], dtype=float32)),\n",
       " ('Cat_Dilute Calico', array([-0.82658446, -0.34815013], dtype=float32)),\n",
       " ('Cat_Somali', array([0.84101397, 0.05171312], dtype=float32)),\n",
       " ('Cat_Bobtail', array([ 0.36131752, -0.03011272], dtype=float32)),\n",
       " ('Cat_Tabby', array([ 1.0797603, -1.1498104], dtype=float32)),\n",
       " ('Dog_Australian Shepherd', array([-1.1134802 ,  0.97422236], dtype=float32)),\n",
       " ('Dog_Cavalier King Charles Spaniel',\n",
       "  array([0.82741773, 0.12517792], dtype=float32)),\n",
       " ('Dog_Basset Hound', array([-1.3017764, -0.3337519], dtype=float32)),\n",
       " ('Dog_Whippet', array([0.60968345, 0.11955238], dtype=float32)),\n",
       " ('Dog_Jack Russell Terrier', array([0.46337628, 0.21819535], dtype=float32)),\n",
       " ('Dog_Irish Wolfhound', array([-0.05947826, -1.0665127 ], dtype=float32)),\n",
       " ('Dog_Spitz', array([-0.51540303,  0.41336295], dtype=float32)),\n",
       " ('Dog_English Cocker Spaniel',\n",
       "  array([ 0.6210727 , -0.01645259], dtype=float32)),\n",
       " ('Dog_Shiba Inu', array([0.23882465, 0.6778598 ], dtype=float32)),\n",
       " ('Dog_Pomeranian', array([1.1736702 , 0.02606599], dtype=float32)),\n",
       " ('Dog_Cocker Spaniel', array([-0.98163676,  0.2582224 ], dtype=float32)),\n",
       " ('Dog_Shepherd', array([-0.5391739,  0.3455813], dtype=float32)),\n",
       " ('Dog_Swedish Vallhund', array([ 1.1294243 , -0.41468957], dtype=float32)),\n",
       " ('Dog_Foxhound', array([-0.35442203, -0.03391203], dtype=float32)),\n",
       " ('Dog_Dutch Shepherd', array([-0.6870277,  1.4115496], dtype=float32)),\n",
       " ('Dog_Wheaten Terrier', array([-0.0564202 ,  0.53785235], dtype=float32)),\n",
       " ('Dog_Rat Terrier', array([0.5119515, 0.3079246], dtype=float32)),\n",
       " ('Dog_Yorkshire Terrier Yorkie',\n",
       "  array([-0.12002905,  0.5765562 ], dtype=float32)),\n",
       " ('Dog_Boxer', array([0.08850346, 0.7796245 ], dtype=float32)),\n",
       " ('Dog_English Springer Spaniel',\n",
       "  array([ 0.02525237, -0.29179376], dtype=float32)),\n",
       " ('Dog_Saint Bernard', array([ 0.1404727 , -0.09786379], dtype=float32)),\n",
       " ('Dog_Lancashire Heeler', array([0.04200799, 0.5491388 ], dtype=float32)),\n",
       " ('Dog_Labrador Retriever', array([0.36823264, 0.08867566], dtype=float32)),\n",
       " ('Dog_Toy Fox Terrier', array([0.07978  , 0.9316042], dtype=float32)),\n",
       " ('Dog_Standard Poodle', array([0.20649625, 1.2980592 ], dtype=float32)),\n",
       " ('Dog_Rottweiler', array([0.6029686 , 0.17114949], dtype=float32)),\n",
       " ('Dog_Field Spaniel', array([-0.34378186,  0.07791919], dtype=float32)),\n",
       " ('Dog_Beagle', array([ 0.5410691 , -0.02013287], dtype=float32)),\n",
       " ('Dog_Cattle Dog', array([ 0.09029818, -0.200945  ], dtype=float32)),\n",
       " ('Dog_Hound', array([ 0.54969245, -1.0516137 ], dtype=float32)),\n",
       " ('Dog_Shetland Sheepdog Sheltie',\n",
       "  array([-0.56238276, -0.54611874], dtype=float32)),\n",
       " ('Dog_Flat-coated Retriever',\n",
       "  array([-0.25759   ,  0.79792494], dtype=float32)),\n",
       " ('Dog_Retriever', array([0.00874977, 0.59369123], dtype=float32)),\n",
       " ('Dog_Setter', array([-0.4927408, -0.5968335], dtype=float32)),\n",
       " ('Dog_Golden Retriever', array([0.00811087, 0.3371209 ], dtype=float32)),\n",
       " ('Dog_Wirehaired Terrier', array([-0.47080582, -0.16954498], dtype=float32)),\n",
       " ('Dog_Weimaraner', array([-0.6351918 ,  0.23467992], dtype=float32)),\n",
       " ('Dog_Corgi', array([-0.23376831, -0.8632043 ], dtype=float32)),\n",
       " ('Dog_Chihuahua', array([0.443212  , 0.41539243], dtype=float32)),\n",
       " ('Dog_Pekingese', array([0.8635359, 1.1016368], dtype=float32)),\n",
       " ('Dog_Glen of Imaal Terrier',\n",
       "  array([-1.3315036 ,  0.73179066], dtype=float32)),\n",
       " ('Dog_Bull Terrier', array([0.3116724 , 0.18138613], dtype=float32)),\n",
       " ('Dog_Irish Setter', array([-0.03557993, -0.42796183], dtype=float32)),\n",
       " ('Dog_White German Shepherd',\n",
       "  array([-0.34346062,  0.5569951 ], dtype=float32)),\n",
       " ('Dog_Belgian Shepherd Laekenois',\n",
       "  array([-1.0803821 ,  0.56884265], dtype=float32)),\n",
       " ('Dog_West Highland White Terrier Westie',\n",
       "  array([ 0.19387618, -0.03013388], dtype=float32)),\n",
       " ('Dog_0', array([-0.2699889, -1.34892  ], dtype=float32)),\n",
       " ('Dog_Pointer', array([-1.1313518, -0.1579837], dtype=float32)),\n",
       " ('Dog_Dalmatian', array([-6.5588807e-05, -1.3461069e+00], dtype=float32)),\n",
       " ('Dog_Poodle', array([-0.646907 , -0.2479222], dtype=float32)),\n",
       " ('Dog_Akita', array([-0.17112873, -0.35041103], dtype=float32)),\n",
       " ('Dog_Papillon', array([0.6154528, 1.086933 ], dtype=float32)),\n",
       " ('Dog_Dachshund', array([0.7438654 , 0.03574289], dtype=float32)),\n",
       " ('Dog_Shih Tzu', array([ 1.0887203 , -0.02547732], dtype=float32)),\n",
       " ('Dog_Mastiff', array([-0.2778931, -0.6820635], dtype=float32)),\n",
       " ('Dog_Pit Bull Terrier', array([ 0.6679337 , -0.06593018], dtype=float32)),\n",
       " ('Dog_Australian Kelpie', array([-0.23294954, -0.01743799], dtype=float32)),\n",
       " ('Dog_Shar Pei', array([ 0.50445884, -0.27453262], dtype=float32)),\n",
       " ('Dog_Black Labrador Retriever',\n",
       "  array([-0.39504367, -0.03864853], dtype=float32)),\n",
       " ('Dog_Chinese Crested Dog', array([-1.2563767, -0.5685568], dtype=float32)),\n",
       " ('Dog_French Bulldog', array([-0.3255691, -0.5828102], dtype=float32)),\n",
       " ('Dog_American Bulldog', array([0.9900452 , 0.18558368], dtype=float32)),\n",
       " ('Dog_Australian Terrier', array([-1.3858026,  0.1131771], dtype=float32)),\n",
       " ('Dog_Basenji', array([ 0.01211623, -1.0541189 ], dtype=float32)),\n",
       " ('Dog_Irish Terrier', array([ 0.16093807, -0.2671349 ], dtype=float32)),\n",
       " ('Dog_Great Dane', array([ 0.8566629 , -0.38638484], dtype=float32)),\n",
       " ('Dog_Mixed Breed', array([ 0.4067845 , -0.14897814], dtype=float32)),\n",
       " ('Dog_Welsh Corgi', array([-0.41682544, -0.38127998], dtype=float32)),\n",
       " ('Dog_Black Mouth Cur', array([-0.3957305,  0.8605407], dtype=float32)),\n",
       " ('Dog_Belgian Shepherd Dog Sheepdog',\n",
       "  array([-0.55582017,  0.4303843 ], dtype=float32)),\n",
       " ('Dog_Husky', array([-1.0206149 , -0.63913995], dtype=float32)),\n",
       " ('Dog_Lhasa Apso', array([-0.76340014,  0.10169825], dtype=float32)),\n",
       " ('Dog_American Staffordshire Terrier',\n",
       "  array([-0.7884133 , -0.00514712], dtype=float32)),\n",
       " ('Dog_English Pointer', array([-0.7226165, -0.7321608], dtype=float32)),\n",
       " ('Dog_Yellow Labrador Retriever',\n",
       "  array([ 0.7667432 , -0.07273465], dtype=float32)),\n",
       " ('Dog_Samoyed', array([ 0.63674945, -0.2338396 ], dtype=float32)),\n",
       " ('Dog_Maltese', array([-0.56860095, -0.03674114], dtype=float32)),\n",
       " ('Dog_Manchester Terrier', array([ 0.1195559 , -0.51309425], dtype=float32)),\n",
       " ('Dog_Doberman Pinscher', array([1.008337  , 0.24676874], dtype=float32)),\n",
       " ('Dog_English Bulldog', array([-1.3393615, -0.3919701], dtype=float32)),\n",
       " ('Dog_Schnauzer', array([-0.16483572,  0.0111027 ], dtype=float32)),\n",
       " ('Dog_Greyhound', array([-0.30808172, -0.2591088 ], dtype=float32)),\n",
       " ('Dog_German Pinscher', array([-1.3572983,  0.8804299], dtype=float32)),\n",
       " ('Dog_Belgian Shepherd Malinois',\n",
       "  array([-0.45240864, -0.00715534], dtype=float32)),\n",
       " ('Dog_German Shepherd Dog', array([-0.9678759 , -0.03507556], dtype=float32)),\n",
       " ('Dog_Bullmastiff', array([-0.39834127,  1.1663228 ], dtype=float32)),\n",
       " ('Dog_Terrier', array([ 1.2158772, -1.0028521], dtype=float32)),\n",
       " ('Dog_Jack Russell Terrier (Parson Russell Terrier)',\n",
       "  array([-0.26035827, -0.77146363], dtype=float32)),\n",
       " ('Dog_Old English Sheepdog',\n",
       "  array([-0.27990517,  0.92308915], dtype=float32)),\n",
       " ('Dog_Staffordshire Bull Terrier',\n",
       "  array([-0.45113054,  1.3906075 ], dtype=float32)),\n",
       " ('Dog_Lowchen', array([-1.1169118, -1.3953867], dtype=float32)),\n",
       " ('Dog_Collie', array([-0.03550272,  0.00497428], dtype=float32)),\n",
       " ('Dog_Silky Terrier', array([ 0.8401346 , -0.12378882], dtype=float32)),\n",
       " ('Dog_Siberian Husky', array([-0.00705476,  0.13821524], dtype=float32)),\n",
       " ('Dog_Kai Dog', array([ 0.18969811, -0.18436266], dtype=float32)),\n",
       " ('Dog_Fox Terrier', array([0.38404688, 0.54065835], dtype=float32)),\n",
       " ('Dog_Mountain Dog', array([0.47502974, 0.16480416], dtype=float32)),\n",
       " ('Dog_Boston Terrier', array([-0.41655904,  1.1626947 ], dtype=float32)),\n",
       " ('Dog_American Water Spaniel',\n",
       "  array([-1.3700686, -0.5812845], dtype=float32)),\n",
       " ('Dog_Munsterlander', array([ 1.1261897, -0.8469711], dtype=float32)),\n",
       " ('Dog_Rhodesian Ridgeback', array([ 0.40937433, -0.10567331], dtype=float32)),\n",
       " ('Dog_Bedlington Terrier', array([ 0.05114049, -0.33901188], dtype=float32)),\n",
       " ('Dog_Border Collie', array([ 0.01221533, -0.08345041], dtype=float32)),\n",
       " ('Dog_Pug', array([-0.12437548,  0.72711664], dtype=float32)),\n",
       " ('Dog_Spaniel', array([-0.33815417,  0.17974253], dtype=float32)),\n",
       " ('Dog_German Spitz', array([ 0.348063 , -0.3250004], dtype=float32)),\n",
       " ('Dog_Chow Chow', array([0.8274745 , 0.06405638], dtype=float32)),\n",
       " ('Dog_Miniature Pinscher', array([-0.7251029,  1.3425059], dtype=float32)),\n",
       " ('Dog_Coonhound', array([-0.26801875,  0.738167  ], dtype=float32)))"
      ]
     },
     "metadata": {},
     "execution_count": 67
    }
   ],
   "source": [
    "vector_label_combined_type_breed = tuple(zip(combined_type_category,result))\n",
    "vector_label_combined_type_breed"
   ]
  },
  {
   "cell_type": "code",
   "execution_count": 68,
   "metadata": {},
   "outputs": [],
   "source": [
    "dog_label_vector = vector_label_combined_type_breed[-10:]\n",
    "cat_label_vector = vector_label_combined_type_breed[:10]"
   ]
  },
  {
   "cell_type": "code",
   "execution_count": 69,
   "metadata": {},
   "outputs": [],
   "source": [
    "cat_label_vector[0][1][0]\n",
    "cat_label = [x[0] for x in cat_label_vector]\n",
    "cat_x = [x[1][0] for x in cat_label_vector]\n",
    "cat_y = [x[1][1] for x in cat_label_vector]"
   ]
  },
  {
   "cell_type": "code",
   "execution_count": 70,
   "metadata": {},
   "outputs": [],
   "source": [
    "dog_label_vector[0][1][0]\n",
    "dog_label = [x[0] for x in dog_label_vector]\n",
    "dog_x = [x[1][0] for x in dog_label_vector]\n",
    "dog_y = [x[1][1] for x in dog_label_vector]"
   ]
  },
  {
   "cell_type": "code",
   "execution_count": 71,
   "metadata": {},
   "outputs": [],
   "source": [
    "import matplotlib.pyplot as plt\n",
    "import seaborn as sns"
   ]
  },
  {
   "cell_type": "code",
   "execution_count": 72,
   "metadata": {},
   "outputs": [
    {
     "output_type": "display_data",
     "data": {
      "text/plain": "<Figure size 576x576 with 1 Axes>",
      "image/svg+xml": "<?xml version=\"1.0\" encoding=\"utf-8\" standalone=\"no\"?>\r\n<!DOCTYPE svg PUBLIC \"-//W3C//DTD SVG 1.1//EN\"\r\n  \"http://www.w3.org/Graphics/SVG/1.1/DTD/svg11.dtd\">\r\n<!-- Created with matplotlib (https://matplotlib.org/) -->\r\n<svg height=\"465.958125pt\" version=\"1.1\" viewBox=\"0 0 573.349786 465.958125\" width=\"573.349786pt\" xmlns=\"http://www.w3.org/2000/svg\" xmlns:xlink=\"http://www.w3.org/1999/xlink\">\r\n <metadata>\r\n  <rdf:RDF xmlns:cc=\"http://creativecommons.org/ns#\" xmlns:dc=\"http://purl.org/dc/elements/1.1/\" xmlns:rdf=\"http://www.w3.org/1999/02/22-rdf-syntax-ns#\">\r\n   <cc:Work>\r\n    <dc:type rdf:resource=\"http://purl.org/dc/dcmitype/StillImage\"/>\r\n    <dc:date>2021-06-27T11:19:26.112303</dc:date>\r\n    <dc:format>image/svg+xml</dc:format>\r\n    <dc:creator>\r\n     <cc:Agent>\r\n      <dc:title>Matplotlib v3.3.4, https://matplotlib.org/</dc:title>\r\n     </cc:Agent>\r\n    </dc:creator>\r\n   </cc:Work>\r\n  </rdf:RDF>\r\n </metadata>\r\n <defs>\r\n  <style type=\"text/css\">*{stroke-linecap:butt;stroke-linejoin:round;}</style>\r\n </defs>\r\n <g id=\"figure_1\">\r\n  <g id=\"patch_1\">\r\n   <path d=\"M 0 465.958125 \r\nL 573.349786 465.958125 \r\nL 573.349786 0 \r\nL 0 0 \r\nz\r\n\" style=\"fill:none;\"/>\r\n  </g>\r\n  <g id=\"axes_1\">\r\n   <g id=\"patch_2\">\r\n    <path d=\"M 38.482813 442.08 \r\nL 484.882812 442.08 \r\nL 484.882812 7.2 \r\nL 38.482813 7.2 \r\nz\r\n\" style=\"fill:#ffffff;\"/>\r\n   </g>\r\n   <g id=\"PathCollection_1\">\r\n    <defs>\r\n     <path d=\"M 0 3 \r\nC 0.795609 3 1.55874 2.683901 2.12132 2.12132 \r\nC 2.683901 1.55874 3 0.795609 3 0 \r\nC 3 -0.795609 2.683901 -1.55874 2.12132 -2.12132 \r\nC 1.55874 -2.683901 0.795609 -3 0 -3 \r\nC -0.795609 -3 -1.55874 -2.683901 -2.12132 -2.12132 \r\nC -2.683901 -1.55874 -3 -0.795609 -3 0 \r\nC -3 0.795609 -2.683901 1.55874 -2.12132 2.12132 \r\nC -1.55874 2.683901 -0.795609 3 0 3 \r\nz\r\n\" id=\"maa5dfec3ff\" style=\"stroke:#ffffff;stroke-width:0.48;\"/>\r\n    </defs>\r\n    <g clip-path=\"url(#pf53e1c7964)\">\r\n     <use style=\"fill:#ff0000;stroke:#ffffff;stroke-width:0.48;\" x=\"328.595933\" xlink:href=\"#maa5dfec3ff\" y=\"280.130386\"/>\r\n     <use style=\"fill:#ff0000;stroke:#ffffff;stroke-width:0.48;\" x=\"229.777168\" xlink:href=\"#maa5dfec3ff\" y=\"392.707954\"/>\r\n     <use style=\"fill:#ff0000;stroke:#ffffff;stroke-width:0.48;\" x=\"332.902582\" xlink:href=\"#maa5dfec3ff\" y=\"131.283101\"/>\r\n     <use style=\"fill:#ff0000;stroke:#ffffff;stroke-width:0.48;\" x=\"363.543186\" xlink:href=\"#maa5dfec3ff\" y=\"245.565141\"/>\r\n     <use style=\"fill:#ff0000;stroke:#ffffff;stroke-width:0.48;\" x=\"190.016394\" xlink:href=\"#maa5dfec3ff\" y=\"207.72678\"/>\r\n     <use style=\"fill:#ff0000;stroke:#ffffff;stroke-width:0.48;\" x=\"133.35664\" xlink:href=\"#maa5dfec3ff\" y=\"344.393729\"/>\r\n     <use style=\"fill:#ff0000;stroke:#ffffff;stroke-width:0.48;\" x=\"440.726604\" xlink:href=\"#maa5dfec3ff\" y=\"336.697498\"/>\r\n     <use style=\"fill:#ff0000;stroke:#ffffff;stroke-width:0.48;\" x=\"58.773722\" xlink:href=\"#maa5dfec3ff\" y=\"378.998308\"/>\r\n     <use style=\"fill:#ff0000;stroke:#ffffff;stroke-width:0.48;\" x=\"347.085729\" xlink:href=\"#maa5dfec3ff\" y=\"98.379693\"/>\r\n     <use style=\"fill:#ff0000;stroke:#ffffff;stroke-width:0.48;\" x=\"106.723394\" xlink:href=\"#maa5dfec3ff\" y=\"73.620051\"/>\r\n    </g>\r\n   </g>\r\n   <g id=\"PathCollection_2\">\r\n    <defs>\r\n     <path d=\"M 0 3 \r\nC 0.795609 3 1.55874 2.683901 2.12132 2.12132 \r\nC 2.683901 1.55874 3 0.795609 3 0 \r\nC 3 -0.795609 2.683901 -1.55874 2.12132 -2.12132 \r\nC 1.55874 -2.683901 0.795609 -3 0 -3 \r\nC -0.795609 -3 -1.55874 -2.683901 -2.12132 -2.12132 \r\nC -2.683901 -1.55874 -3 -0.795609 -3 0 \r\nC -3 0.795609 -2.683901 1.55874 -2.12132 2.12132 \r\nC -1.55874 2.683901 -0.795609 3 0 3 \r\nz\r\n\" id=\"m65e25a1d48\" style=\"stroke:#ffffff;stroke-width:0.48;\"/>\r\n    </defs>\r\n    <g clip-path=\"url(#pf53e1c7964)\">\r\n     <use style=\"fill:#0000ff;stroke:#ffffff;stroke-width:0.48;\" x=\"464.591903\" xlink:href=\"#m65e25a1d48\" y=\"422.312727\"/>\r\n     <use style=\"fill:#0000ff;stroke:#ffffff;stroke-width:0.48;\" x=\"327.050431\" xlink:href=\"#m65e25a1d48\" y=\"288.459435\"/>\r\n     <use style=\"fill:#0000ff;stroke:#ffffff;stroke-width:0.48;\" x=\"258.313054\" xlink:href=\"#m65e25a1d48\" y=\"330.592483\"/>\r\n     <use style=\"fill:#0000ff;stroke:#ffffff;stroke-width:0.48;\" x=\"250.844151\" xlink:href=\"#m65e25a1d48\" y=\"284.44673\"/>\r\n     <use style=\"fill:#0000ff;stroke:#ffffff;stroke-width:0.48;\" x=\"224.635309\" xlink:href=\"#m65e25a1d48\" y=\"138.085752\"/>\r\n     <use style=\"fill:#0000ff;stroke:#ffffff;stroke-width:0.48;\" x=\"183.615772\" xlink:href=\"#m65e25a1d48\" y=\"236.922993\"/>\r\n     <use style=\"fill:#0000ff;stroke:#ffffff;stroke-width:0.48;\" x=\"315.286103\" xlink:href=\"#m65e25a1d48\" y=\"328.062485\"/>\r\n     <use style=\"fill:#0000ff;stroke:#ffffff;stroke-width:0.48;\" x=\"407.274867\" xlink:href=\"#m65e25a1d48\" y=\"257.811996\"/>\r\n     <use style=\"fill:#0000ff;stroke:#ffffff;stroke-width:0.48;\" x=\"109.368623\" xlink:href=\"#m65e25a1d48\" y=\"26.967273\"/>\r\n     <use style=\"fill:#0000ff;stroke:#ffffff;stroke-width:0.48;\" x=\"197.073251\" xlink:href=\"#m65e25a1d48\" y=\"136.090434\"/>\r\n    </g>\r\n   </g>\r\n   <g id=\"matplotlib.axis_1\">\r\n    <g id=\"xtick_1\">\r\n     <g id=\"line2d_1\">\r\n      <defs>\r\n       <path d=\"M 0 0 \r\nL 0 3.5 \r\n\" id=\"mc1d34cc4ab\" style=\"stroke:#000000;stroke-width:0.8;\"/>\r\n      </defs>\r\n      <g>\r\n       <use style=\"stroke:#000000;stroke-width:0.8;\" x=\"56.621775\" xlink:href=\"#mc1d34cc4ab\" y=\"442.08\"/>\r\n      </g>\r\n     </g>\r\n     <g id=\"text_1\">\r\n      <!-- −1.0 -->\r\n      <g transform=\"translate(44.480369 456.678437)scale(0.1 -0.1)\">\r\n       <defs>\r\n        <path d=\"M 10.59375 35.5 \r\nL 73.1875 35.5 \r\nL 73.1875 27.203125 \r\nL 10.59375 27.203125 \r\nz\r\n\" id=\"DejaVuSans-8722\"/>\r\n        <path d=\"M 12.40625 8.296875 \r\nL 28.515625 8.296875 \r\nL 28.515625 63.921875 \r\nL 10.984375 60.40625 \r\nL 10.984375 69.390625 \r\nL 28.421875 72.90625 \r\nL 38.28125 72.90625 \r\nL 38.28125 8.296875 \r\nL 54.390625 8.296875 \r\nL 54.390625 0 \r\nL 12.40625 0 \r\nz\r\n\" id=\"DejaVuSans-49\"/>\r\n        <path d=\"M 10.6875 12.40625 \r\nL 21 12.40625 \r\nL 21 0 \r\nL 10.6875 0 \r\nz\r\n\" id=\"DejaVuSans-46\"/>\r\n        <path d=\"M 31.78125 66.40625 \r\nQ 24.171875 66.40625 20.328125 58.90625 \r\nQ 16.5 51.421875 16.5 36.375 \r\nQ 16.5 21.390625 20.328125 13.890625 \r\nQ 24.171875 6.390625 31.78125 6.390625 \r\nQ 39.453125 6.390625 43.28125 13.890625 \r\nQ 47.125 21.390625 47.125 36.375 \r\nQ 47.125 51.421875 43.28125 58.90625 \r\nQ 39.453125 66.40625 31.78125 66.40625 \r\nz\r\nM 31.78125 74.21875 \r\nQ 44.046875 74.21875 50.515625 64.515625 \r\nQ 56.984375 54.828125 56.984375 36.375 \r\nQ 56.984375 17.96875 50.515625 8.265625 \r\nQ 44.046875 -1.421875 31.78125 -1.421875 \r\nQ 19.53125 -1.421875 13.0625 8.265625 \r\nQ 6.59375 17.96875 6.59375 36.375 \r\nQ 6.59375 54.828125 13.0625 64.515625 \r\nQ 19.53125 74.21875 31.78125 74.21875 \r\nz\r\n\" id=\"DejaVuSans-48\"/>\r\n       </defs>\r\n       <use xlink:href=\"#DejaVuSans-8722\"/>\r\n       <use x=\"83.789062\" xlink:href=\"#DejaVuSans-49\"/>\r\n       <use x=\"147.412109\" xlink:href=\"#DejaVuSans-46\"/>\r\n       <use x=\"179.199219\" xlink:href=\"#DejaVuSans-48\"/>\r\n      </g>\r\n     </g>\r\n    </g>\r\n    <g id=\"xtick_2\">\r\n     <g id=\"line2d_2\">\r\n      <g>\r\n       <use style=\"stroke:#000000;stroke-width:0.8;\" x=\"152.561034\" xlink:href=\"#mc1d34cc4ab\" y=\"442.08\"/>\r\n      </g>\r\n     </g>\r\n     <g id=\"text_2\">\r\n      <!-- −0.5 -->\r\n      <g transform=\"translate(140.419627 456.678437)scale(0.1 -0.1)\">\r\n       <defs>\r\n        <path d=\"M 10.796875 72.90625 \r\nL 49.515625 72.90625 \r\nL 49.515625 64.59375 \r\nL 19.828125 64.59375 \r\nL 19.828125 46.734375 \r\nQ 21.96875 47.46875 24.109375 47.828125 \r\nQ 26.265625 48.1875 28.421875 48.1875 \r\nQ 40.625 48.1875 47.75 41.5 \r\nQ 54.890625 34.8125 54.890625 23.390625 \r\nQ 54.890625 11.625 47.5625 5.09375 \r\nQ 40.234375 -1.421875 26.90625 -1.421875 \r\nQ 22.3125 -1.421875 17.546875 -0.640625 \r\nQ 12.796875 0.140625 7.71875 1.703125 \r\nL 7.71875 11.625 \r\nQ 12.109375 9.234375 16.796875 8.0625 \r\nQ 21.484375 6.890625 26.703125 6.890625 \r\nQ 35.15625 6.890625 40.078125 11.328125 \r\nQ 45.015625 15.765625 45.015625 23.390625 \r\nQ 45.015625 31 40.078125 35.4375 \r\nQ 35.15625 39.890625 26.703125 39.890625 \r\nQ 22.75 39.890625 18.8125 39.015625 \r\nQ 14.890625 38.140625 10.796875 36.28125 \r\nz\r\n\" id=\"DejaVuSans-53\"/>\r\n       </defs>\r\n       <use xlink:href=\"#DejaVuSans-8722\"/>\r\n       <use x=\"83.789062\" xlink:href=\"#DejaVuSans-48\"/>\r\n       <use x=\"147.412109\" xlink:href=\"#DejaVuSans-46\"/>\r\n       <use x=\"179.199219\" xlink:href=\"#DejaVuSans-53\"/>\r\n      </g>\r\n     </g>\r\n    </g>\r\n    <g id=\"xtick_3\">\r\n     <g id=\"line2d_3\">\r\n      <g>\r\n       <use style=\"stroke:#000000;stroke-width:0.8;\" x=\"248.500292\" xlink:href=\"#mc1d34cc4ab\" y=\"442.08\"/>\r\n      </g>\r\n     </g>\r\n     <g id=\"text_3\">\r\n      <!-- 0.0 -->\r\n      <g transform=\"translate(240.54873 456.678437)scale(0.1 -0.1)\">\r\n       <use xlink:href=\"#DejaVuSans-48\"/>\r\n       <use x=\"63.623047\" xlink:href=\"#DejaVuSans-46\"/>\r\n       <use x=\"95.410156\" xlink:href=\"#DejaVuSans-48\"/>\r\n      </g>\r\n     </g>\r\n    </g>\r\n    <g id=\"xtick_4\">\r\n     <g id=\"line2d_4\">\r\n      <g>\r\n       <use style=\"stroke:#000000;stroke-width:0.8;\" x=\"344.439551\" xlink:href=\"#mc1d34cc4ab\" y=\"442.08\"/>\r\n      </g>\r\n     </g>\r\n     <g id=\"text_4\">\r\n      <!-- 0.5 -->\r\n      <g transform=\"translate(336.487988 456.678437)scale(0.1 -0.1)\">\r\n       <use xlink:href=\"#DejaVuSans-48\"/>\r\n       <use x=\"63.623047\" xlink:href=\"#DejaVuSans-46\"/>\r\n       <use x=\"95.410156\" xlink:href=\"#DejaVuSans-53\"/>\r\n      </g>\r\n     </g>\r\n    </g>\r\n    <g id=\"xtick_5\">\r\n     <g id=\"line2d_5\">\r\n      <g>\r\n       <use style=\"stroke:#000000;stroke-width:0.8;\" x=\"440.378809\" xlink:href=\"#mc1d34cc4ab\" y=\"442.08\"/>\r\n      </g>\r\n     </g>\r\n     <g id=\"text_5\">\r\n      <!-- 1.0 -->\r\n      <g transform=\"translate(432.427247 456.678437)scale(0.1 -0.1)\">\r\n       <use xlink:href=\"#DejaVuSans-49\"/>\r\n       <use x=\"63.623047\" xlink:href=\"#DejaVuSans-46\"/>\r\n       <use x=\"95.410156\" xlink:href=\"#DejaVuSans-48\"/>\r\n      </g>\r\n     </g>\r\n    </g>\r\n   </g>\r\n   <g id=\"matplotlib.axis_2\">\r\n    <g id=\"ytick_1\">\r\n     <g id=\"line2d_6\">\r\n      <defs>\r\n       <path d=\"M 0 0 \r\nL -3.5 0 \r\n\" id=\"m1c8a2d833b\" style=\"stroke:#000000;stroke-width:0.8;\"/>\r\n      </defs>\r\n      <g>\r\n       <use style=\"stroke:#000000;stroke-width:0.8;\" x=\"38.482813\" xlink:href=\"#m1c8a2d833b\" y=\"359.66149\"/>\r\n      </g>\r\n     </g>\r\n     <g id=\"text_6\">\r\n      <!-- −0.5 -->\r\n      <g transform=\"translate(7.2 363.460709)scale(0.1 -0.1)\">\r\n       <use xlink:href=\"#DejaVuSans-8722\"/>\r\n       <use x=\"83.789062\" xlink:href=\"#DejaVuSans-48\"/>\r\n       <use x=\"147.412109\" xlink:href=\"#DejaVuSans-46\"/>\r\n       <use x=\"179.199219\" xlink:href=\"#DejaVuSans-53\"/>\r\n      </g>\r\n     </g>\r\n    </g>\r\n    <g id=\"ytick_2\">\r\n     <g id=\"line2d_7\">\r\n      <g>\r\n       <use style=\"stroke:#000000;stroke-width:0.8;\" x=\"38.482813\" xlink:href=\"#m1c8a2d833b\" y=\"269.378411\"/>\r\n      </g>\r\n     </g>\r\n     <g id=\"text_7\">\r\n      <!-- 0.0 -->\r\n      <g transform=\"translate(15.579688 273.17763)scale(0.1 -0.1)\">\r\n       <use xlink:href=\"#DejaVuSans-48\"/>\r\n       <use x=\"63.623047\" xlink:href=\"#DejaVuSans-46\"/>\r\n       <use x=\"95.410156\" xlink:href=\"#DejaVuSans-48\"/>\r\n      </g>\r\n     </g>\r\n    </g>\r\n    <g id=\"ytick_3\">\r\n     <g id=\"line2d_8\">\r\n      <g>\r\n       <use style=\"stroke:#000000;stroke-width:0.8;\" x=\"38.482813\" xlink:href=\"#m1c8a2d833b\" y=\"179.095332\"/>\r\n      </g>\r\n     </g>\r\n     <g id=\"text_8\">\r\n      <!-- 0.5 -->\r\n      <g transform=\"translate(15.579688 182.894551)scale(0.1 -0.1)\">\r\n       <use xlink:href=\"#DejaVuSans-48\"/>\r\n       <use x=\"63.623047\" xlink:href=\"#DejaVuSans-46\"/>\r\n       <use x=\"95.410156\" xlink:href=\"#DejaVuSans-53\"/>\r\n      </g>\r\n     </g>\r\n    </g>\r\n    <g id=\"ytick_4\">\r\n     <g id=\"line2d_9\">\r\n      <g>\r\n       <use style=\"stroke:#000000;stroke-width:0.8;\" x=\"38.482813\" xlink:href=\"#m1c8a2d833b\" y=\"88.812253\"/>\r\n      </g>\r\n     </g>\r\n     <g id=\"text_9\">\r\n      <!-- 1.0 -->\r\n      <g transform=\"translate(15.579688 92.611472)scale(0.1 -0.1)\">\r\n       <use xlink:href=\"#DejaVuSans-49\"/>\r\n       <use x=\"63.623047\" xlink:href=\"#DejaVuSans-46\"/>\r\n       <use x=\"95.410156\" xlink:href=\"#DejaVuSans-48\"/>\r\n      </g>\r\n     </g>\r\n    </g>\r\n   </g>\r\n   <g id=\"patch_3\">\r\n    <path d=\"M 38.482813 442.08 \r\nL 38.482813 7.2 \r\n\" style=\"fill:none;stroke:#000000;stroke-linecap:square;stroke-linejoin:miter;stroke-width:0.8;\"/>\r\n   </g>\r\n   <g id=\"patch_4\">\r\n    <path d=\"M 484.882812 442.08 \r\nL 484.882812 7.2 \r\n\" style=\"fill:none;stroke:#000000;stroke-linecap:square;stroke-linejoin:miter;stroke-width:0.8;\"/>\r\n   </g>\r\n   <g id=\"patch_5\">\r\n    <path d=\"M 38.482812 442.08 \r\nL 484.882812 442.08 \r\n\" style=\"fill:none;stroke:#000000;stroke-linecap:square;stroke-linejoin:miter;stroke-width:0.8;\"/>\r\n   </g>\r\n   <g id=\"patch_6\">\r\n    <path d=\"M 38.482812 7.2 \r\nL 484.882812 7.2 \r\n\" style=\"fill:none;stroke:#000000;stroke-linecap:square;stroke-linejoin:miter;stroke-width:0.8;\"/>\r\n   </g>\r\n   <g id=\"text_10\">\r\n    <!-- Cat_Siberian -->\r\n    <g transform=\"translate(332.433503 276.519063)scale(0.1 -0.1)\">\r\n     <defs>\r\n      <path d=\"M 64.40625 67.28125 \r\nL 64.40625 56.890625 \r\nQ 59.421875 61.53125 53.78125 63.8125 \r\nQ 48.140625 66.109375 41.796875 66.109375 \r\nQ 29.296875 66.109375 22.65625 58.46875 \r\nQ 16.015625 50.828125 16.015625 36.375 \r\nQ 16.015625 21.96875 22.65625 14.328125 \r\nQ 29.296875 6.6875 41.796875 6.6875 \r\nQ 48.140625 6.6875 53.78125 8.984375 \r\nQ 59.421875 11.28125 64.40625 15.921875 \r\nL 64.40625 5.609375 \r\nQ 59.234375 2.09375 53.4375 0.328125 \r\nQ 47.65625 -1.421875 41.21875 -1.421875 \r\nQ 24.65625 -1.421875 15.125 8.703125 \r\nQ 5.609375 18.84375 5.609375 36.375 \r\nQ 5.609375 53.953125 15.125 64.078125 \r\nQ 24.65625 74.21875 41.21875 74.21875 \r\nQ 47.75 74.21875 53.53125 72.484375 \r\nQ 59.328125 70.75 64.40625 67.28125 \r\nz\r\n\" id=\"DejaVuSans-67\"/>\r\n      <path d=\"M 34.28125 27.484375 \r\nQ 23.390625 27.484375 19.1875 25 \r\nQ 14.984375 22.515625 14.984375 16.5 \r\nQ 14.984375 11.71875 18.140625 8.90625 \r\nQ 21.296875 6.109375 26.703125 6.109375 \r\nQ 34.1875 6.109375 38.703125 11.40625 \r\nQ 43.21875 16.703125 43.21875 25.484375 \r\nL 43.21875 27.484375 \r\nz\r\nM 52.203125 31.203125 \r\nL 52.203125 0 \r\nL 43.21875 0 \r\nL 43.21875 8.296875 \r\nQ 40.140625 3.328125 35.546875 0.953125 \r\nQ 30.953125 -1.421875 24.3125 -1.421875 \r\nQ 15.921875 -1.421875 10.953125 3.296875 \r\nQ 6 8.015625 6 15.921875 \r\nQ 6 25.140625 12.171875 29.828125 \r\nQ 18.359375 34.515625 30.609375 34.515625 \r\nL 43.21875 34.515625 \r\nL 43.21875 35.40625 \r\nQ 43.21875 41.609375 39.140625 45 \r\nQ 35.0625 48.390625 27.6875 48.390625 \r\nQ 23 48.390625 18.546875 47.265625 \r\nQ 14.109375 46.140625 10.015625 43.890625 \r\nL 10.015625 52.203125 \r\nQ 14.9375 54.109375 19.578125 55.046875 \r\nQ 24.21875 56 28.609375 56 \r\nQ 40.484375 56 46.34375 49.84375 \r\nQ 52.203125 43.703125 52.203125 31.203125 \r\nz\r\n\" id=\"DejaVuSans-97\"/>\r\n      <path d=\"M 18.3125 70.21875 \r\nL 18.3125 54.6875 \r\nL 36.8125 54.6875 \r\nL 36.8125 47.703125 \r\nL 18.3125 47.703125 \r\nL 18.3125 18.015625 \r\nQ 18.3125 11.328125 20.140625 9.421875 \r\nQ 21.96875 7.515625 27.59375 7.515625 \r\nL 36.8125 7.515625 \r\nL 36.8125 0 \r\nL 27.59375 0 \r\nQ 17.1875 0 13.234375 3.875 \r\nQ 9.28125 7.765625 9.28125 18.015625 \r\nL 9.28125 47.703125 \r\nL 2.6875 47.703125 \r\nL 2.6875 54.6875 \r\nL 9.28125 54.6875 \r\nL 9.28125 70.21875 \r\nz\r\n\" id=\"DejaVuSans-116\"/>\r\n      <path d=\"M 50.984375 -16.609375 \r\nL 50.984375 -23.578125 \r\nL -0.984375 -23.578125 \r\nL -0.984375 -16.609375 \r\nz\r\n\" id=\"DejaVuSans-95\"/>\r\n      <path d=\"M 53.515625 70.515625 \r\nL 53.515625 60.890625 \r\nQ 47.90625 63.578125 42.921875 64.890625 \r\nQ 37.9375 66.21875 33.296875 66.21875 \r\nQ 25.25 66.21875 20.875 63.09375 \r\nQ 16.5 59.96875 16.5 54.203125 \r\nQ 16.5 49.359375 19.40625 46.890625 \r\nQ 22.3125 44.4375 30.421875 42.921875 \r\nL 36.375 41.703125 \r\nQ 47.40625 39.59375 52.65625 34.296875 \r\nQ 57.90625 29 57.90625 20.125 \r\nQ 57.90625 9.515625 50.796875 4.046875 \r\nQ 43.703125 -1.421875 29.984375 -1.421875 \r\nQ 24.8125 -1.421875 18.96875 -0.25 \r\nQ 13.140625 0.921875 6.890625 3.21875 \r\nL 6.890625 13.375 \r\nQ 12.890625 10.015625 18.65625 8.296875 \r\nQ 24.421875 6.59375 29.984375 6.59375 \r\nQ 38.421875 6.59375 43.015625 9.90625 \r\nQ 47.609375 13.234375 47.609375 19.390625 \r\nQ 47.609375 24.75 44.3125 27.78125 \r\nQ 41.015625 30.8125 33.5 32.328125 \r\nL 27.484375 33.5 \r\nQ 16.453125 35.6875 11.515625 40.375 \r\nQ 6.59375 45.0625 6.59375 53.421875 \r\nQ 6.59375 63.09375 13.40625 68.65625 \r\nQ 20.21875 74.21875 32.171875 74.21875 \r\nQ 37.3125 74.21875 42.625 73.28125 \r\nQ 47.953125 72.359375 53.515625 70.515625 \r\nz\r\n\" id=\"DejaVuSans-83\"/>\r\n      <path d=\"M 9.421875 54.6875 \r\nL 18.40625 54.6875 \r\nL 18.40625 0 \r\nL 9.421875 0 \r\nz\r\nM 9.421875 75.984375 \r\nL 18.40625 75.984375 \r\nL 18.40625 64.59375 \r\nL 9.421875 64.59375 \r\nz\r\n\" id=\"DejaVuSans-105\"/>\r\n      <path d=\"M 48.6875 27.296875 \r\nQ 48.6875 37.203125 44.609375 42.84375 \r\nQ 40.53125 48.484375 33.40625 48.484375 \r\nQ 26.265625 48.484375 22.1875 42.84375 \r\nQ 18.109375 37.203125 18.109375 27.296875 \r\nQ 18.109375 17.390625 22.1875 11.75 \r\nQ 26.265625 6.109375 33.40625 6.109375 \r\nQ 40.53125 6.109375 44.609375 11.75 \r\nQ 48.6875 17.390625 48.6875 27.296875 \r\nz\r\nM 18.109375 46.390625 \r\nQ 20.953125 51.265625 25.265625 53.625 \r\nQ 29.59375 56 35.59375 56 \r\nQ 45.5625 56 51.78125 48.09375 \r\nQ 58.015625 40.1875 58.015625 27.296875 \r\nQ 58.015625 14.40625 51.78125 6.484375 \r\nQ 45.5625 -1.421875 35.59375 -1.421875 \r\nQ 29.59375 -1.421875 25.265625 0.953125 \r\nQ 20.953125 3.328125 18.109375 8.203125 \r\nL 18.109375 0 \r\nL 9.078125 0 \r\nL 9.078125 75.984375 \r\nL 18.109375 75.984375 \r\nz\r\n\" id=\"DejaVuSans-98\"/>\r\n      <path d=\"M 56.203125 29.59375 \r\nL 56.203125 25.203125 \r\nL 14.890625 25.203125 \r\nQ 15.484375 15.921875 20.484375 11.0625 \r\nQ 25.484375 6.203125 34.421875 6.203125 \r\nQ 39.59375 6.203125 44.453125 7.46875 \r\nQ 49.3125 8.734375 54.109375 11.28125 \r\nL 54.109375 2.78125 \r\nQ 49.265625 0.734375 44.1875 -0.34375 \r\nQ 39.109375 -1.421875 33.890625 -1.421875 \r\nQ 20.796875 -1.421875 13.15625 6.1875 \r\nQ 5.515625 13.8125 5.515625 26.8125 \r\nQ 5.515625 40.234375 12.765625 48.109375 \r\nQ 20.015625 56 32.328125 56 \r\nQ 43.359375 56 49.78125 48.890625 \r\nQ 56.203125 41.796875 56.203125 29.59375 \r\nz\r\nM 47.21875 32.234375 \r\nQ 47.125 39.59375 43.09375 43.984375 \r\nQ 39.0625 48.390625 32.421875 48.390625 \r\nQ 24.90625 48.390625 20.390625 44.140625 \r\nQ 15.875 39.890625 15.1875 32.171875 \r\nz\r\n\" id=\"DejaVuSans-101\"/>\r\n      <path d=\"M 41.109375 46.296875 \r\nQ 39.59375 47.171875 37.8125 47.578125 \r\nQ 36.03125 48 33.890625 48 \r\nQ 26.265625 48 22.1875 43.046875 \r\nQ 18.109375 38.09375 18.109375 28.8125 \r\nL 18.109375 0 \r\nL 9.078125 0 \r\nL 9.078125 54.6875 \r\nL 18.109375 54.6875 \r\nL 18.109375 46.1875 \r\nQ 20.953125 51.171875 25.484375 53.578125 \r\nQ 30.03125 56 36.53125 56 \r\nQ 37.453125 56 38.578125 55.875 \r\nQ 39.703125 55.765625 41.0625 55.515625 \r\nz\r\n\" id=\"DejaVuSans-114\"/>\r\n      <path d=\"M 54.890625 33.015625 \r\nL 54.890625 0 \r\nL 45.90625 0 \r\nL 45.90625 32.71875 \r\nQ 45.90625 40.484375 42.875 44.328125 \r\nQ 39.84375 48.1875 33.796875 48.1875 \r\nQ 26.515625 48.1875 22.3125 43.546875 \r\nQ 18.109375 38.921875 18.109375 30.90625 \r\nL 18.109375 0 \r\nL 9.078125 0 \r\nL 9.078125 54.6875 \r\nL 18.109375 54.6875 \r\nL 18.109375 46.1875 \r\nQ 21.34375 51.125 25.703125 53.5625 \r\nQ 30.078125 56 35.796875 56 \r\nQ 45.21875 56 50.046875 50.171875 \r\nQ 54.890625 44.34375 54.890625 33.015625 \r\nz\r\n\" id=\"DejaVuSans-110\"/>\r\n     </defs>\r\n     <use xlink:href=\"#DejaVuSans-67\"/>\r\n     <use x=\"69.824219\" xlink:href=\"#DejaVuSans-97\"/>\r\n     <use x=\"131.103516\" xlink:href=\"#DejaVuSans-116\"/>\r\n     <use x=\"170.3125\" xlink:href=\"#DejaVuSans-95\"/>\r\n     <use x=\"220.3125\" xlink:href=\"#DejaVuSans-83\"/>\r\n     <use x=\"283.789062\" xlink:href=\"#DejaVuSans-105\"/>\r\n     <use x=\"311.572266\" xlink:href=\"#DejaVuSans-98\"/>\r\n     <use x=\"375.048828\" xlink:href=\"#DejaVuSans-101\"/>\r\n     <use x=\"436.572266\" xlink:href=\"#DejaVuSans-114\"/>\r\n     <use x=\"477.685547\" xlink:href=\"#DejaVuSans-105\"/>\r\n     <use x=\"505.46875\" xlink:href=\"#DejaVuSans-97\"/>\r\n     <use x=\"566.748047\" xlink:href=\"#DejaVuSans-110\"/>\r\n    </g>\r\n   </g>\r\n   <g id=\"text_11\">\r\n    <!-- Cat_Cymric -->\r\n    <g transform=\"translate(233.614738 389.096631)scale(0.1 -0.1)\">\r\n     <defs>\r\n      <path d=\"M 32.171875 -5.078125 \r\nQ 28.375 -14.84375 24.75 -17.8125 \r\nQ 21.140625 -20.796875 15.09375 -20.796875 \r\nL 7.90625 -20.796875 \r\nL 7.90625 -13.28125 \r\nL 13.1875 -13.28125 \r\nQ 16.890625 -13.28125 18.9375 -11.515625 \r\nQ 21 -9.765625 23.484375 -3.21875 \r\nL 25.09375 0.875 \r\nL 2.984375 54.6875 \r\nL 12.5 54.6875 \r\nL 29.59375 11.921875 \r\nL 46.6875 54.6875 \r\nL 56.203125 54.6875 \r\nz\r\n\" id=\"DejaVuSans-121\"/>\r\n      <path d=\"M 52 44.1875 \r\nQ 55.375 50.25 60.0625 53.125 \r\nQ 64.75 56 71.09375 56 \r\nQ 79.640625 56 84.28125 50.015625 \r\nQ 88.921875 44.046875 88.921875 33.015625 \r\nL 88.921875 0 \r\nL 79.890625 0 \r\nL 79.890625 32.71875 \r\nQ 79.890625 40.578125 77.09375 44.375 \r\nQ 74.3125 48.1875 68.609375 48.1875 \r\nQ 61.625 48.1875 57.5625 43.546875 \r\nQ 53.515625 38.921875 53.515625 30.90625 \r\nL 53.515625 0 \r\nL 44.484375 0 \r\nL 44.484375 32.71875 \r\nQ 44.484375 40.625 41.703125 44.40625 \r\nQ 38.921875 48.1875 33.109375 48.1875 \r\nQ 26.21875 48.1875 22.15625 43.53125 \r\nQ 18.109375 38.875 18.109375 30.90625 \r\nL 18.109375 0 \r\nL 9.078125 0 \r\nL 9.078125 54.6875 \r\nL 18.109375 54.6875 \r\nL 18.109375 46.1875 \r\nQ 21.1875 51.21875 25.484375 53.609375 \r\nQ 29.78125 56 35.6875 56 \r\nQ 41.65625 56 45.828125 52.96875 \r\nQ 50 49.953125 52 44.1875 \r\nz\r\n\" id=\"DejaVuSans-109\"/>\r\n      <path d=\"M 48.78125 52.59375 \r\nL 48.78125 44.1875 \r\nQ 44.96875 46.296875 41.140625 47.34375 \r\nQ 37.3125 48.390625 33.40625 48.390625 \r\nQ 24.65625 48.390625 19.8125 42.84375 \r\nQ 14.984375 37.3125 14.984375 27.296875 \r\nQ 14.984375 17.28125 19.8125 11.734375 \r\nQ 24.65625 6.203125 33.40625 6.203125 \r\nQ 37.3125 6.203125 41.140625 7.25 \r\nQ 44.96875 8.296875 48.78125 10.40625 \r\nL 48.78125 2.09375 \r\nQ 45.015625 0.34375 40.984375 -0.53125 \r\nQ 36.96875 -1.421875 32.421875 -1.421875 \r\nQ 20.0625 -1.421875 12.78125 6.34375 \r\nQ 5.515625 14.109375 5.515625 27.296875 \r\nQ 5.515625 40.671875 12.859375 48.328125 \r\nQ 20.21875 56 33.015625 56 \r\nQ 37.15625 56 41.109375 55.140625 \r\nQ 45.0625 54.296875 48.78125 52.59375 \r\nz\r\n\" id=\"DejaVuSans-99\"/>\r\n     </defs>\r\n     <use xlink:href=\"#DejaVuSans-67\"/>\r\n     <use x=\"69.824219\" xlink:href=\"#DejaVuSans-97\"/>\r\n     <use x=\"131.103516\" xlink:href=\"#DejaVuSans-116\"/>\r\n     <use x=\"170.3125\" xlink:href=\"#DejaVuSans-95\"/>\r\n     <use x=\"220.3125\" xlink:href=\"#DejaVuSans-67\"/>\r\n     <use x=\"290.136719\" xlink:href=\"#DejaVuSans-121\"/>\r\n     <use x=\"349.316406\" xlink:href=\"#DejaVuSans-109\"/>\r\n     <use x=\"446.728516\" xlink:href=\"#DejaVuSans-114\"/>\r\n     <use x=\"487.841797\" xlink:href=\"#DejaVuSans-105\"/>\r\n     <use x=\"515.625\" xlink:href=\"#DejaVuSans-99\"/>\r\n    </g>\r\n   </g>\r\n   <g id=\"text_12\">\r\n    <!-- Cat_Terrier -->\r\n    <g transform=\"translate(336.740152 127.671778)scale(0.1 -0.1)\">\r\n     <defs>\r\n      <path d=\"M -0.296875 72.90625 \r\nL 61.375 72.90625 \r\nL 61.375 64.59375 \r\nL 35.5 64.59375 \r\nL 35.5 0 \r\nL 25.59375 0 \r\nL 25.59375 64.59375 \r\nL -0.296875 64.59375 \r\nz\r\n\" id=\"DejaVuSans-84\"/>\r\n     </defs>\r\n     <use xlink:href=\"#DejaVuSans-67\"/>\r\n     <use x=\"69.824219\" xlink:href=\"#DejaVuSans-97\"/>\r\n     <use x=\"131.103516\" xlink:href=\"#DejaVuSans-116\"/>\r\n     <use x=\"170.3125\" xlink:href=\"#DejaVuSans-95\"/>\r\n     <use x=\"220.3125\" xlink:href=\"#DejaVuSans-84\"/>\r\n     <use x=\"264.396484\" xlink:href=\"#DejaVuSans-101\"/>\r\n     <use x=\"325.919922\" xlink:href=\"#DejaVuSans-114\"/>\r\n     <use x=\"365.283203\" xlink:href=\"#DejaVuSans-114\"/>\r\n     <use x=\"406.396484\" xlink:href=\"#DejaVuSans-105\"/>\r\n     <use x=\"434.179688\" xlink:href=\"#DejaVuSans-101\"/>\r\n     <use x=\"495.703125\" xlink:href=\"#DejaVuSans-114\"/>\r\n    </g>\r\n   </g>\r\n   <g id=\"text_13\">\r\n    <!-- Cat_Collie -->\r\n    <g transform=\"translate(367.380756 241.953818)scale(0.1 -0.1)\">\r\n     <defs>\r\n      <path d=\"M 30.609375 48.390625 \r\nQ 23.390625 48.390625 19.1875 42.75 \r\nQ 14.984375 37.109375 14.984375 27.296875 \r\nQ 14.984375 17.484375 19.15625 11.84375 \r\nQ 23.34375 6.203125 30.609375 6.203125 \r\nQ 37.796875 6.203125 41.984375 11.859375 \r\nQ 46.1875 17.53125 46.1875 27.296875 \r\nQ 46.1875 37.015625 41.984375 42.703125 \r\nQ 37.796875 48.390625 30.609375 48.390625 \r\nz\r\nM 30.609375 56 \r\nQ 42.328125 56 49.015625 48.375 \r\nQ 55.71875 40.765625 55.71875 27.296875 \r\nQ 55.71875 13.875 49.015625 6.21875 \r\nQ 42.328125 -1.421875 30.609375 -1.421875 \r\nQ 18.84375 -1.421875 12.171875 6.21875 \r\nQ 5.515625 13.875 5.515625 27.296875 \r\nQ 5.515625 40.765625 12.171875 48.375 \r\nQ 18.84375 56 30.609375 56 \r\nz\r\n\" id=\"DejaVuSans-111\"/>\r\n      <path d=\"M 9.421875 75.984375 \r\nL 18.40625 75.984375 \r\nL 18.40625 0 \r\nL 9.421875 0 \r\nz\r\n\" id=\"DejaVuSans-108\"/>\r\n     </defs>\r\n     <use xlink:href=\"#DejaVuSans-67\"/>\r\n     <use x=\"69.824219\" xlink:href=\"#DejaVuSans-97\"/>\r\n     <use x=\"131.103516\" xlink:href=\"#DejaVuSans-116\"/>\r\n     <use x=\"170.3125\" xlink:href=\"#DejaVuSans-95\"/>\r\n     <use x=\"220.3125\" xlink:href=\"#DejaVuSans-67\"/>\r\n     <use x=\"290.136719\" xlink:href=\"#DejaVuSans-111\"/>\r\n     <use x=\"351.318359\" xlink:href=\"#DejaVuSans-108\"/>\r\n     <use x=\"379.101562\" xlink:href=\"#DejaVuSans-108\"/>\r\n     <use x=\"406.884766\" xlink:href=\"#DejaVuSans-105\"/>\r\n     <use x=\"434.667969\" xlink:href=\"#DejaVuSans-101\"/>\r\n    </g>\r\n   </g>\r\n   <g id=\"text_14\">\r\n    <!-- Cat_Australian Kelpie -->\r\n    <g transform=\"translate(193.853965 204.115457)scale(0.1 -0.1)\">\r\n     <defs>\r\n      <path d=\"M 34.1875 63.1875 \r\nL 20.796875 26.90625 \r\nL 47.609375 26.90625 \r\nz\r\nM 28.609375 72.90625 \r\nL 39.796875 72.90625 \r\nL 67.578125 0 \r\nL 57.328125 0 \r\nL 50.6875 18.703125 \r\nL 17.828125 18.703125 \r\nL 11.1875 0 \r\nL 0.78125 0 \r\nz\r\n\" id=\"DejaVuSans-65\"/>\r\n      <path d=\"M 8.5 21.578125 \r\nL 8.5 54.6875 \r\nL 17.484375 54.6875 \r\nL 17.484375 21.921875 \r\nQ 17.484375 14.15625 20.5 10.265625 \r\nQ 23.53125 6.390625 29.59375 6.390625 \r\nQ 36.859375 6.390625 41.078125 11.03125 \r\nQ 45.3125 15.671875 45.3125 23.6875 \r\nL 45.3125 54.6875 \r\nL 54.296875 54.6875 \r\nL 54.296875 0 \r\nL 45.3125 0 \r\nL 45.3125 8.40625 \r\nQ 42.046875 3.421875 37.71875 1 \r\nQ 33.40625 -1.421875 27.6875 -1.421875 \r\nQ 18.265625 -1.421875 13.375 4.4375 \r\nQ 8.5 10.296875 8.5 21.578125 \r\nz\r\nM 31.109375 56 \r\nz\r\n\" id=\"DejaVuSans-117\"/>\r\n      <path d=\"M 44.28125 53.078125 \r\nL 44.28125 44.578125 \r\nQ 40.484375 46.53125 36.375 47.5 \r\nQ 32.28125 48.484375 27.875 48.484375 \r\nQ 21.1875 48.484375 17.84375 46.4375 \r\nQ 14.5 44.390625 14.5 40.28125 \r\nQ 14.5 37.15625 16.890625 35.375 \r\nQ 19.28125 33.59375 26.515625 31.984375 \r\nL 29.59375 31.296875 \r\nQ 39.15625 29.25 43.1875 25.515625 \r\nQ 47.21875 21.78125 47.21875 15.09375 \r\nQ 47.21875 7.46875 41.1875 3.015625 \r\nQ 35.15625 -1.421875 24.609375 -1.421875 \r\nQ 20.21875 -1.421875 15.453125 -0.5625 \r\nQ 10.6875 0.296875 5.421875 2 \r\nL 5.421875 11.28125 \r\nQ 10.40625 8.6875 15.234375 7.390625 \r\nQ 20.0625 6.109375 24.8125 6.109375 \r\nQ 31.15625 6.109375 34.5625 8.28125 \r\nQ 37.984375 10.453125 37.984375 14.40625 \r\nQ 37.984375 18.0625 35.515625 20.015625 \r\nQ 33.0625 21.96875 24.703125 23.78125 \r\nL 21.578125 24.515625 \r\nQ 13.234375 26.265625 9.515625 29.90625 \r\nQ 5.8125 33.546875 5.8125 39.890625 \r\nQ 5.8125 47.609375 11.28125 51.796875 \r\nQ 16.75 56 26.8125 56 \r\nQ 31.78125 56 36.171875 55.265625 \r\nQ 40.578125 54.546875 44.28125 53.078125 \r\nz\r\n\" id=\"DejaVuSans-115\"/>\r\n      <path id=\"DejaVuSans-32\"/>\r\n      <path d=\"M 9.8125 72.90625 \r\nL 19.671875 72.90625 \r\nL 19.671875 42.09375 \r\nL 52.390625 72.90625 \r\nL 65.09375 72.90625 \r\nL 28.90625 38.921875 \r\nL 67.671875 0 \r\nL 54.6875 0 \r\nL 19.671875 35.109375 \r\nL 19.671875 0 \r\nL 9.8125 0 \r\nz\r\n\" id=\"DejaVuSans-75\"/>\r\n      <path d=\"M 18.109375 8.203125 \r\nL 18.109375 -20.796875 \r\nL 9.078125 -20.796875 \r\nL 9.078125 54.6875 \r\nL 18.109375 54.6875 \r\nL 18.109375 46.390625 \r\nQ 20.953125 51.265625 25.265625 53.625 \r\nQ 29.59375 56 35.59375 56 \r\nQ 45.5625 56 51.78125 48.09375 \r\nQ 58.015625 40.1875 58.015625 27.296875 \r\nQ 58.015625 14.40625 51.78125 6.484375 \r\nQ 45.5625 -1.421875 35.59375 -1.421875 \r\nQ 29.59375 -1.421875 25.265625 0.953125 \r\nQ 20.953125 3.328125 18.109375 8.203125 \r\nz\r\nM 48.6875 27.296875 \r\nQ 48.6875 37.203125 44.609375 42.84375 \r\nQ 40.53125 48.484375 33.40625 48.484375 \r\nQ 26.265625 48.484375 22.1875 42.84375 \r\nQ 18.109375 37.203125 18.109375 27.296875 \r\nQ 18.109375 17.390625 22.1875 11.75 \r\nQ 26.265625 6.109375 33.40625 6.109375 \r\nQ 40.53125 6.109375 44.609375 11.75 \r\nQ 48.6875 17.390625 48.6875 27.296875 \r\nz\r\n\" id=\"DejaVuSans-112\"/>\r\n     </defs>\r\n     <use xlink:href=\"#DejaVuSans-67\"/>\r\n     <use x=\"69.824219\" xlink:href=\"#DejaVuSans-97\"/>\r\n     <use x=\"131.103516\" xlink:href=\"#DejaVuSans-116\"/>\r\n     <use x=\"170.3125\" xlink:href=\"#DejaVuSans-95\"/>\r\n     <use x=\"220.3125\" xlink:href=\"#DejaVuSans-65\"/>\r\n     <use x=\"288.720703\" xlink:href=\"#DejaVuSans-117\"/>\r\n     <use x=\"352.099609\" xlink:href=\"#DejaVuSans-115\"/>\r\n     <use x=\"404.199219\" xlink:href=\"#DejaVuSans-116\"/>\r\n     <use x=\"443.408203\" xlink:href=\"#DejaVuSans-114\"/>\r\n     <use x=\"484.521484\" xlink:href=\"#DejaVuSans-97\"/>\r\n     <use x=\"545.800781\" xlink:href=\"#DejaVuSans-108\"/>\r\n     <use x=\"573.583984\" xlink:href=\"#DejaVuSans-105\"/>\r\n     <use x=\"601.367188\" xlink:href=\"#DejaVuSans-97\"/>\r\n     <use x=\"662.646484\" xlink:href=\"#DejaVuSans-110\"/>\r\n     <use x=\"726.025391\" xlink:href=\"#DejaVuSans-32\"/>\r\n     <use x=\"757.8125\" xlink:href=\"#DejaVuSans-75\"/>\r\n     <use x=\"818.388672\" xlink:href=\"#DejaVuSans-101\"/>\r\n     <use x=\"879.912109\" xlink:href=\"#DejaVuSans-108\"/>\r\n     <use x=\"907.695312\" xlink:href=\"#DejaVuSans-112\"/>\r\n     <use x=\"971.171875\" xlink:href=\"#DejaVuSans-105\"/>\r\n     <use x=\"998.955078\" xlink:href=\"#DejaVuSans-101\"/>\r\n    </g>\r\n   </g>\r\n   <g id=\"text_15\">\r\n    <!-- Cat_Abyssinian -->\r\n    <g transform=\"translate(137.19421 340.782406)scale(0.1 -0.1)\">\r\n     <use xlink:href=\"#DejaVuSans-67\"/>\r\n     <use x=\"69.824219\" xlink:href=\"#DejaVuSans-97\"/>\r\n     <use x=\"131.103516\" xlink:href=\"#DejaVuSans-116\"/>\r\n     <use x=\"170.3125\" xlink:href=\"#DejaVuSans-95\"/>\r\n     <use x=\"220.3125\" xlink:href=\"#DejaVuSans-65\"/>\r\n     <use x=\"288.720703\" xlink:href=\"#DejaVuSans-98\"/>\r\n     <use x=\"352.197266\" xlink:href=\"#DejaVuSans-121\"/>\r\n     <use x=\"411.376953\" xlink:href=\"#DejaVuSans-115\"/>\r\n     <use x=\"463.476562\" xlink:href=\"#DejaVuSans-115\"/>\r\n     <use x=\"515.576172\" xlink:href=\"#DejaVuSans-105\"/>\r\n     <use x=\"543.359375\" xlink:href=\"#DejaVuSans-110\"/>\r\n     <use x=\"606.738281\" xlink:href=\"#DejaVuSans-105\"/>\r\n     <use x=\"634.521484\" xlink:href=\"#DejaVuSans-97\"/>\r\n     <use x=\"695.800781\" xlink:href=\"#DejaVuSans-110\"/>\r\n    </g>\r\n   </g>\r\n   <g id=\"text_16\">\r\n    <!-- Cat_Birman -->\r\n    <g transform=\"translate(444.564174 333.086175)scale(0.1 -0.1)\">\r\n     <defs>\r\n      <path d=\"M 19.671875 34.8125 \r\nL 19.671875 8.109375 \r\nL 35.5 8.109375 \r\nQ 43.453125 8.109375 47.28125 11.40625 \r\nQ 51.125 14.703125 51.125 21.484375 \r\nQ 51.125 28.328125 47.28125 31.5625 \r\nQ 43.453125 34.8125 35.5 34.8125 \r\nz\r\nM 19.671875 64.796875 \r\nL 19.671875 42.828125 \r\nL 34.28125 42.828125 \r\nQ 41.5 42.828125 45.03125 45.53125 \r\nQ 48.578125 48.25 48.578125 53.8125 \r\nQ 48.578125 59.328125 45.03125 62.0625 \r\nQ 41.5 64.796875 34.28125 64.796875 \r\nz\r\nM 9.8125 72.90625 \r\nL 35.015625 72.90625 \r\nQ 46.296875 72.90625 52.390625 68.21875 \r\nQ 58.5 63.53125 58.5 54.890625 \r\nQ 58.5 48.1875 55.375 44.234375 \r\nQ 52.25 40.28125 46.1875 39.3125 \r\nQ 53.46875 37.75 57.5 32.78125 \r\nQ 61.53125 27.828125 61.53125 20.40625 \r\nQ 61.53125 10.640625 54.890625 5.3125 \r\nQ 48.25 0 35.984375 0 \r\nL 9.8125 0 \r\nz\r\n\" id=\"DejaVuSans-66\"/>\r\n     </defs>\r\n     <use xlink:href=\"#DejaVuSans-67\"/>\r\n     <use x=\"69.824219\" xlink:href=\"#DejaVuSans-97\"/>\r\n     <use x=\"131.103516\" xlink:href=\"#DejaVuSans-116\"/>\r\n     <use x=\"170.3125\" xlink:href=\"#DejaVuSans-95\"/>\r\n     <use x=\"220.3125\" xlink:href=\"#DejaVuSans-66\"/>\r\n     <use x=\"288.916016\" xlink:href=\"#DejaVuSans-105\"/>\r\n     <use x=\"316.699219\" xlink:href=\"#DejaVuSans-114\"/>\r\n     <use x=\"356.0625\" xlink:href=\"#DejaVuSans-109\"/>\r\n     <use x=\"453.474609\" xlink:href=\"#DejaVuSans-97\"/>\r\n     <use x=\"514.753906\" xlink:href=\"#DejaVuSans-110\"/>\r\n    </g>\r\n   </g>\r\n   <g id=\"text_17\">\r\n    <!-- Cat_Snowshoe -->\r\n    <g transform=\"translate(62.611292 375.386985)scale(0.1 -0.1)\">\r\n     <defs>\r\n      <path d=\"M 4.203125 54.6875 \r\nL 13.1875 54.6875 \r\nL 24.421875 12.015625 \r\nL 35.59375 54.6875 \r\nL 46.1875 54.6875 \r\nL 57.421875 12.015625 \r\nL 68.609375 54.6875 \r\nL 77.59375 54.6875 \r\nL 63.28125 0 \r\nL 52.6875 0 \r\nL 40.921875 44.828125 \r\nL 29.109375 0 \r\nL 18.5 0 \r\nz\r\n\" id=\"DejaVuSans-119\"/>\r\n      <path d=\"M 54.890625 33.015625 \r\nL 54.890625 0 \r\nL 45.90625 0 \r\nL 45.90625 32.71875 \r\nQ 45.90625 40.484375 42.875 44.328125 \r\nQ 39.84375 48.1875 33.796875 48.1875 \r\nQ 26.515625 48.1875 22.3125 43.546875 \r\nQ 18.109375 38.921875 18.109375 30.90625 \r\nL 18.109375 0 \r\nL 9.078125 0 \r\nL 9.078125 75.984375 \r\nL 18.109375 75.984375 \r\nL 18.109375 46.1875 \r\nQ 21.34375 51.125 25.703125 53.5625 \r\nQ 30.078125 56 35.796875 56 \r\nQ 45.21875 56 50.046875 50.171875 \r\nQ 54.890625 44.34375 54.890625 33.015625 \r\nz\r\n\" id=\"DejaVuSans-104\"/>\r\n     </defs>\r\n     <use xlink:href=\"#DejaVuSans-67\"/>\r\n     <use x=\"69.824219\" xlink:href=\"#DejaVuSans-97\"/>\r\n     <use x=\"131.103516\" xlink:href=\"#DejaVuSans-116\"/>\r\n     <use x=\"170.3125\" xlink:href=\"#DejaVuSans-95\"/>\r\n     <use x=\"220.3125\" xlink:href=\"#DejaVuSans-83\"/>\r\n     <use x=\"283.789062\" xlink:href=\"#DejaVuSans-110\"/>\r\n     <use x=\"347.167969\" xlink:href=\"#DejaVuSans-111\"/>\r\n     <use x=\"408.349609\" xlink:href=\"#DejaVuSans-119\"/>\r\n     <use x=\"490.136719\" xlink:href=\"#DejaVuSans-115\"/>\r\n     <use x=\"542.236328\" xlink:href=\"#DejaVuSans-104\"/>\r\n     <use x=\"605.615234\" xlink:href=\"#DejaVuSans-111\"/>\r\n     <use x=\"666.796875\" xlink:href=\"#DejaVuSans-101\"/>\r\n    </g>\r\n   </g>\r\n   <g id=\"text_18\">\r\n    <!-- Cat_Torbie -->\r\n    <g transform=\"translate(350.9233 94.76837)scale(0.1 -0.1)\">\r\n     <use xlink:href=\"#DejaVuSans-67\"/>\r\n     <use x=\"69.824219\" xlink:href=\"#DejaVuSans-97\"/>\r\n     <use x=\"131.103516\" xlink:href=\"#DejaVuSans-116\"/>\r\n     <use x=\"170.3125\" xlink:href=\"#DejaVuSans-95\"/>\r\n     <use x=\"220.3125\" xlink:href=\"#DejaVuSans-84\"/>\r\n     <use x=\"264.396484\" xlink:href=\"#DejaVuSans-111\"/>\r\n     <use x=\"325.578125\" xlink:href=\"#DejaVuSans-114\"/>\r\n     <use x=\"366.691406\" xlink:href=\"#DejaVuSans-98\"/>\r\n     <use x=\"430.167969\" xlink:href=\"#DejaVuSans-105\"/>\r\n     <use x=\"457.951172\" xlink:href=\"#DejaVuSans-101\"/>\r\n    </g>\r\n   </g>\r\n   <g id=\"text_19\">\r\n    <!-- Cat_American Curl -->\r\n    <g transform=\"translate(110.560964 70.008728)scale(0.1 -0.1)\">\r\n     <use xlink:href=\"#DejaVuSans-67\"/>\r\n     <use x=\"69.824219\" xlink:href=\"#DejaVuSans-97\"/>\r\n     <use x=\"131.103516\" xlink:href=\"#DejaVuSans-116\"/>\r\n     <use x=\"170.3125\" xlink:href=\"#DejaVuSans-95\"/>\r\n     <use x=\"220.3125\" xlink:href=\"#DejaVuSans-65\"/>\r\n     <use x=\"288.720703\" xlink:href=\"#DejaVuSans-109\"/>\r\n     <use x=\"386.132812\" xlink:href=\"#DejaVuSans-101\"/>\r\n     <use x=\"447.65625\" xlink:href=\"#DejaVuSans-114\"/>\r\n     <use x=\"488.769531\" xlink:href=\"#DejaVuSans-105\"/>\r\n     <use x=\"516.552734\" xlink:href=\"#DejaVuSans-99\"/>\r\n     <use x=\"571.533203\" xlink:href=\"#DejaVuSans-97\"/>\r\n     <use x=\"632.8125\" xlink:href=\"#DejaVuSans-110\"/>\r\n     <use x=\"696.191406\" xlink:href=\"#DejaVuSans-32\"/>\r\n     <use x=\"727.978516\" xlink:href=\"#DejaVuSans-67\"/>\r\n     <use x=\"797.802734\" xlink:href=\"#DejaVuSans-117\"/>\r\n     <use x=\"861.181641\" xlink:href=\"#DejaVuSans-114\"/>\r\n     <use x=\"902.294922\" xlink:href=\"#DejaVuSans-108\"/>\r\n    </g>\r\n   </g>\r\n   <g id=\"text_20\">\r\n    <!-- Dog_Munsterlander -->\r\n    <g transform=\"translate(468.429474 418.701404)scale(0.1 -0.1)\">\r\n     <defs>\r\n      <path d=\"M 19.671875 64.796875 \r\nL 19.671875 8.109375 \r\nL 31.59375 8.109375 \r\nQ 46.6875 8.109375 53.6875 14.9375 \r\nQ 60.6875 21.78125 60.6875 36.53125 \r\nQ 60.6875 51.171875 53.6875 57.984375 \r\nQ 46.6875 64.796875 31.59375 64.796875 \r\nz\r\nM 9.8125 72.90625 \r\nL 30.078125 72.90625 \r\nQ 51.265625 72.90625 61.171875 64.09375 \r\nQ 71.09375 55.28125 71.09375 36.53125 \r\nQ 71.09375 17.671875 61.125 8.828125 \r\nQ 51.171875 0 30.078125 0 \r\nL 9.8125 0 \r\nz\r\n\" id=\"DejaVuSans-68\"/>\r\n      <path d=\"M 45.40625 27.984375 \r\nQ 45.40625 37.75 41.375 43.109375 \r\nQ 37.359375 48.484375 30.078125 48.484375 \r\nQ 22.859375 48.484375 18.828125 43.109375 \r\nQ 14.796875 37.75 14.796875 27.984375 \r\nQ 14.796875 18.265625 18.828125 12.890625 \r\nQ 22.859375 7.515625 30.078125 7.515625 \r\nQ 37.359375 7.515625 41.375 12.890625 \r\nQ 45.40625 18.265625 45.40625 27.984375 \r\nz\r\nM 54.390625 6.78125 \r\nQ 54.390625 -7.171875 48.1875 -13.984375 \r\nQ 42 -20.796875 29.203125 -20.796875 \r\nQ 24.46875 -20.796875 20.265625 -20.09375 \r\nQ 16.0625 -19.390625 12.109375 -17.921875 \r\nL 12.109375 -9.1875 \r\nQ 16.0625 -11.328125 19.921875 -12.34375 \r\nQ 23.78125 -13.375 27.78125 -13.375 \r\nQ 36.625 -13.375 41.015625 -8.765625 \r\nQ 45.40625 -4.15625 45.40625 5.171875 \r\nL 45.40625 9.625 \r\nQ 42.625 4.78125 38.28125 2.390625 \r\nQ 33.9375 0 27.875 0 \r\nQ 17.828125 0 11.671875 7.65625 \r\nQ 5.515625 15.328125 5.515625 27.984375 \r\nQ 5.515625 40.671875 11.671875 48.328125 \r\nQ 17.828125 56 27.875 56 \r\nQ 33.9375 56 38.28125 53.609375 \r\nQ 42.625 51.21875 45.40625 46.390625 \r\nL 45.40625 54.6875 \r\nL 54.390625 54.6875 \r\nz\r\n\" id=\"DejaVuSans-103\"/>\r\n      <path d=\"M 9.8125 72.90625 \r\nL 24.515625 72.90625 \r\nL 43.109375 23.296875 \r\nL 61.8125 72.90625 \r\nL 76.515625 72.90625 \r\nL 76.515625 0 \r\nL 66.890625 0 \r\nL 66.890625 64.015625 \r\nL 48.09375 14.015625 \r\nL 38.1875 14.015625 \r\nL 19.390625 64.015625 \r\nL 19.390625 0 \r\nL 9.8125 0 \r\nz\r\n\" id=\"DejaVuSans-77\"/>\r\n      <path d=\"M 45.40625 46.390625 \r\nL 45.40625 75.984375 \r\nL 54.390625 75.984375 \r\nL 54.390625 0 \r\nL 45.40625 0 \r\nL 45.40625 8.203125 \r\nQ 42.578125 3.328125 38.25 0.953125 \r\nQ 33.9375 -1.421875 27.875 -1.421875 \r\nQ 17.96875 -1.421875 11.734375 6.484375 \r\nQ 5.515625 14.40625 5.515625 27.296875 \r\nQ 5.515625 40.1875 11.734375 48.09375 \r\nQ 17.96875 56 27.875 56 \r\nQ 33.9375 56 38.25 53.625 \r\nQ 42.578125 51.265625 45.40625 46.390625 \r\nz\r\nM 14.796875 27.296875 \r\nQ 14.796875 17.390625 18.875 11.75 \r\nQ 22.953125 6.109375 30.078125 6.109375 \r\nQ 37.203125 6.109375 41.296875 11.75 \r\nQ 45.40625 17.390625 45.40625 27.296875 \r\nQ 45.40625 37.203125 41.296875 42.84375 \r\nQ 37.203125 48.484375 30.078125 48.484375 \r\nQ 22.953125 48.484375 18.875 42.84375 \r\nQ 14.796875 37.203125 14.796875 27.296875 \r\nz\r\n\" id=\"DejaVuSans-100\"/>\r\n     </defs>\r\n     <use xlink:href=\"#DejaVuSans-68\"/>\r\n     <use x=\"77.001953\" xlink:href=\"#DejaVuSans-111\"/>\r\n     <use x=\"138.183594\" xlink:href=\"#DejaVuSans-103\"/>\r\n     <use x=\"201.660156\" xlink:href=\"#DejaVuSans-95\"/>\r\n     <use x=\"251.660156\" xlink:href=\"#DejaVuSans-77\"/>\r\n     <use x=\"337.939453\" xlink:href=\"#DejaVuSans-117\"/>\r\n     <use x=\"401.318359\" xlink:href=\"#DejaVuSans-110\"/>\r\n     <use x=\"464.697266\" xlink:href=\"#DejaVuSans-115\"/>\r\n     <use x=\"516.796875\" xlink:href=\"#DejaVuSans-116\"/>\r\n     <use x=\"556.005859\" xlink:href=\"#DejaVuSans-101\"/>\r\n     <use x=\"617.529297\" xlink:href=\"#DejaVuSans-114\"/>\r\n     <use x=\"658.642578\" xlink:href=\"#DejaVuSans-108\"/>\r\n     <use x=\"686.425781\" xlink:href=\"#DejaVuSans-97\"/>\r\n     <use x=\"747.705078\" xlink:href=\"#DejaVuSans-110\"/>\r\n     <use x=\"811.083984\" xlink:href=\"#DejaVuSans-100\"/>\r\n     <use x=\"874.560547\" xlink:href=\"#DejaVuSans-101\"/>\r\n     <use x=\"936.083984\" xlink:href=\"#DejaVuSans-114\"/>\r\n    </g>\r\n   </g>\r\n   <g id=\"text_21\">\r\n    <!-- Dog_Rhodesian Ridgeback -->\r\n    <g transform=\"translate(330.888001 284.848112)scale(0.1 -0.1)\">\r\n     <defs>\r\n      <path d=\"M 44.390625 34.1875 \r\nQ 47.5625 33.109375 50.5625 29.59375 \r\nQ 53.5625 26.078125 56.59375 19.921875 \r\nL 66.609375 0 \r\nL 56 0 \r\nL 46.6875 18.703125 \r\nQ 43.0625 26.03125 39.671875 28.421875 \r\nQ 36.28125 30.8125 30.421875 30.8125 \r\nL 19.671875 30.8125 \r\nL 19.671875 0 \r\nL 9.8125 0 \r\nL 9.8125 72.90625 \r\nL 32.078125 72.90625 \r\nQ 44.578125 72.90625 50.734375 67.671875 \r\nQ 56.890625 62.453125 56.890625 51.90625 \r\nQ 56.890625 45.015625 53.6875 40.46875 \r\nQ 50.484375 35.9375 44.390625 34.1875 \r\nz\r\nM 19.671875 64.796875 \r\nL 19.671875 38.921875 \r\nL 32.078125 38.921875 \r\nQ 39.203125 38.921875 42.84375 42.21875 \r\nQ 46.484375 45.515625 46.484375 51.90625 \r\nQ 46.484375 58.296875 42.84375 61.546875 \r\nQ 39.203125 64.796875 32.078125 64.796875 \r\nz\r\n\" id=\"DejaVuSans-82\"/>\r\n      <path d=\"M 9.078125 75.984375 \r\nL 18.109375 75.984375 \r\nL 18.109375 31.109375 \r\nL 44.921875 54.6875 \r\nL 56.390625 54.6875 \r\nL 27.390625 29.109375 \r\nL 57.625 0 \r\nL 45.90625 0 \r\nL 18.109375 26.703125 \r\nL 18.109375 0 \r\nL 9.078125 0 \r\nz\r\n\" id=\"DejaVuSans-107\"/>\r\n     </defs>\r\n     <use xlink:href=\"#DejaVuSans-68\"/>\r\n     <use x=\"77.001953\" xlink:href=\"#DejaVuSans-111\"/>\r\n     <use x=\"138.183594\" xlink:href=\"#DejaVuSans-103\"/>\r\n     <use x=\"201.660156\" xlink:href=\"#DejaVuSans-95\"/>\r\n     <use x=\"251.660156\" xlink:href=\"#DejaVuSans-82\"/>\r\n     <use x=\"321.142578\" xlink:href=\"#DejaVuSans-104\"/>\r\n     <use x=\"384.521484\" xlink:href=\"#DejaVuSans-111\"/>\r\n     <use x=\"445.703125\" xlink:href=\"#DejaVuSans-100\"/>\r\n     <use x=\"509.179688\" xlink:href=\"#DejaVuSans-101\"/>\r\n     <use x=\"570.703125\" xlink:href=\"#DejaVuSans-115\"/>\r\n     <use x=\"622.802734\" xlink:href=\"#DejaVuSans-105\"/>\r\n     <use x=\"650.585938\" xlink:href=\"#DejaVuSans-97\"/>\r\n     <use x=\"711.865234\" xlink:href=\"#DejaVuSans-110\"/>\r\n     <use x=\"775.244141\" xlink:href=\"#DejaVuSans-32\"/>\r\n     <use x=\"807.03125\" xlink:href=\"#DejaVuSans-82\"/>\r\n     <use x=\"876.513672\" xlink:href=\"#DejaVuSans-105\"/>\r\n     <use x=\"904.296875\" xlink:href=\"#DejaVuSans-100\"/>\r\n     <use x=\"967.773438\" xlink:href=\"#DejaVuSans-103\"/>\r\n     <use x=\"1031.25\" xlink:href=\"#DejaVuSans-101\"/>\r\n     <use x=\"1092.773438\" xlink:href=\"#DejaVuSans-98\"/>\r\n     <use x=\"1156.25\" xlink:href=\"#DejaVuSans-97\"/>\r\n     <use x=\"1217.529297\" xlink:href=\"#DejaVuSans-99\"/>\r\n     <use x=\"1272.509766\" xlink:href=\"#DejaVuSans-107\"/>\r\n    </g>\r\n   </g>\r\n   <g id=\"text_22\">\r\n    <!-- Dog_Bedlington Terrier -->\r\n    <g transform=\"translate(262.150624 326.98116)scale(0.1 -0.1)\">\r\n     <use xlink:href=\"#DejaVuSans-68\"/>\r\n     <use x=\"77.001953\" xlink:href=\"#DejaVuSans-111\"/>\r\n     <use x=\"138.183594\" xlink:href=\"#DejaVuSans-103\"/>\r\n     <use x=\"201.660156\" xlink:href=\"#DejaVuSans-95\"/>\r\n     <use x=\"251.660156\" xlink:href=\"#DejaVuSans-66\"/>\r\n     <use x=\"320.263672\" xlink:href=\"#DejaVuSans-101\"/>\r\n     <use x=\"381.787109\" xlink:href=\"#DejaVuSans-100\"/>\r\n     <use x=\"445.263672\" xlink:href=\"#DejaVuSans-108\"/>\r\n     <use x=\"473.046875\" xlink:href=\"#DejaVuSans-105\"/>\r\n     <use x=\"500.830078\" xlink:href=\"#DejaVuSans-110\"/>\r\n     <use x=\"564.208984\" xlink:href=\"#DejaVuSans-103\"/>\r\n     <use x=\"627.685547\" xlink:href=\"#DejaVuSans-116\"/>\r\n     <use x=\"666.894531\" xlink:href=\"#DejaVuSans-111\"/>\r\n     <use x=\"728.076172\" xlink:href=\"#DejaVuSans-110\"/>\r\n     <use x=\"791.455078\" xlink:href=\"#DejaVuSans-32\"/>\r\n     <use x=\"823.242188\" xlink:href=\"#DejaVuSans-84\"/>\r\n     <use x=\"867.326172\" xlink:href=\"#DejaVuSans-101\"/>\r\n     <use x=\"928.849609\" xlink:href=\"#DejaVuSans-114\"/>\r\n     <use x=\"968.212891\" xlink:href=\"#DejaVuSans-114\"/>\r\n     <use x=\"1009.326172\" xlink:href=\"#DejaVuSans-105\"/>\r\n     <use x=\"1037.109375\" xlink:href=\"#DejaVuSans-101\"/>\r\n     <use x=\"1098.632812\" xlink:href=\"#DejaVuSans-114\"/>\r\n    </g>\r\n   </g>\r\n   <g id=\"text_23\">\r\n    <!-- Dog_Border Collie -->\r\n    <g transform=\"translate(254.681722 280.835407)scale(0.1 -0.1)\">\r\n     <use xlink:href=\"#DejaVuSans-68\"/>\r\n     <use x=\"77.001953\" xlink:href=\"#DejaVuSans-111\"/>\r\n     <use x=\"138.183594\" xlink:href=\"#DejaVuSans-103\"/>\r\n     <use x=\"201.660156\" xlink:href=\"#DejaVuSans-95\"/>\r\n     <use x=\"251.660156\" xlink:href=\"#DejaVuSans-66\"/>\r\n     <use x=\"320.263672\" xlink:href=\"#DejaVuSans-111\"/>\r\n     <use x=\"381.445312\" xlink:href=\"#DejaVuSans-114\"/>\r\n     <use x=\"420.808594\" xlink:href=\"#DejaVuSans-100\"/>\r\n     <use x=\"484.285156\" xlink:href=\"#DejaVuSans-101\"/>\r\n     <use x=\"545.808594\" xlink:href=\"#DejaVuSans-114\"/>\r\n     <use x=\"586.921875\" xlink:href=\"#DejaVuSans-32\"/>\r\n     <use x=\"618.708984\" xlink:href=\"#DejaVuSans-67\"/>\r\n     <use x=\"688.533203\" xlink:href=\"#DejaVuSans-111\"/>\r\n     <use x=\"749.714844\" xlink:href=\"#DejaVuSans-108\"/>\r\n     <use x=\"777.498047\" xlink:href=\"#DejaVuSans-108\"/>\r\n     <use x=\"805.28125\" xlink:href=\"#DejaVuSans-105\"/>\r\n     <use x=\"833.064453\" xlink:href=\"#DejaVuSans-101\"/>\r\n    </g>\r\n   </g>\r\n   <g id=\"text_24\">\r\n    <!-- Dog_Pug -->\r\n    <g transform=\"translate(228.472879 134.474429)scale(0.1 -0.1)\">\r\n     <defs>\r\n      <path d=\"M 19.671875 64.796875 \r\nL 19.671875 37.40625 \r\nL 32.078125 37.40625 \r\nQ 38.96875 37.40625 42.71875 40.96875 \r\nQ 46.484375 44.53125 46.484375 51.125 \r\nQ 46.484375 57.671875 42.71875 61.234375 \r\nQ 38.96875 64.796875 32.078125 64.796875 \r\nz\r\nM 9.8125 72.90625 \r\nL 32.078125 72.90625 \r\nQ 44.34375 72.90625 50.609375 67.359375 \r\nQ 56.890625 61.8125 56.890625 51.125 \r\nQ 56.890625 40.328125 50.609375 34.8125 \r\nQ 44.34375 29.296875 32.078125 29.296875 \r\nL 19.671875 29.296875 \r\nL 19.671875 0 \r\nL 9.8125 0 \r\nz\r\n\" id=\"DejaVuSans-80\"/>\r\n     </defs>\r\n     <use xlink:href=\"#DejaVuSans-68\"/>\r\n     <use x=\"77.001953\" xlink:href=\"#DejaVuSans-111\"/>\r\n     <use x=\"138.183594\" xlink:href=\"#DejaVuSans-103\"/>\r\n     <use x=\"201.660156\" xlink:href=\"#DejaVuSans-95\"/>\r\n     <use x=\"251.660156\" xlink:href=\"#DejaVuSans-80\"/>\r\n     <use x=\"310.212891\" xlink:href=\"#DejaVuSans-117\"/>\r\n     <use x=\"373.591797\" xlink:href=\"#DejaVuSans-103\"/>\r\n    </g>\r\n   </g>\r\n   <g id=\"text_25\">\r\n    <!-- Dog_Spaniel -->\r\n    <g transform=\"translate(187.453342 233.31167)scale(0.1 -0.1)\">\r\n     <use xlink:href=\"#DejaVuSans-68\"/>\r\n     <use x=\"77.001953\" xlink:href=\"#DejaVuSans-111\"/>\r\n     <use x=\"138.183594\" xlink:href=\"#DejaVuSans-103\"/>\r\n     <use x=\"201.660156\" xlink:href=\"#DejaVuSans-95\"/>\r\n     <use x=\"251.660156\" xlink:href=\"#DejaVuSans-83\"/>\r\n     <use x=\"315.136719\" xlink:href=\"#DejaVuSans-112\"/>\r\n     <use x=\"378.613281\" xlink:href=\"#DejaVuSans-97\"/>\r\n     <use x=\"439.892578\" xlink:href=\"#DejaVuSans-110\"/>\r\n     <use x=\"503.271484\" xlink:href=\"#DejaVuSans-105\"/>\r\n     <use x=\"531.054688\" xlink:href=\"#DejaVuSans-101\"/>\r\n     <use x=\"592.578125\" xlink:href=\"#DejaVuSans-108\"/>\r\n    </g>\r\n   </g>\r\n   <g id=\"text_26\">\r\n    <!-- Dog_German Spitz -->\r\n    <g transform=\"translate(319.123673 324.451162)scale(0.1 -0.1)\">\r\n     <defs>\r\n      <path d=\"M 59.515625 10.40625 \r\nL 59.515625 29.984375 \r\nL 43.40625 29.984375 \r\nL 43.40625 38.09375 \r\nL 69.28125 38.09375 \r\nL 69.28125 6.78125 \r\nQ 63.578125 2.734375 56.6875 0.65625 \r\nQ 49.8125 -1.421875 42 -1.421875 \r\nQ 24.90625 -1.421875 15.25 8.5625 \r\nQ 5.609375 18.5625 5.609375 36.375 \r\nQ 5.609375 54.25 15.25 64.234375 \r\nQ 24.90625 74.21875 42 74.21875 \r\nQ 49.125 74.21875 55.546875 72.453125 \r\nQ 61.96875 70.703125 67.390625 67.28125 \r\nL 67.390625 56.78125 \r\nQ 61.921875 61.421875 55.765625 63.765625 \r\nQ 49.609375 66.109375 42.828125 66.109375 \r\nQ 29.4375 66.109375 22.71875 58.640625 \r\nQ 16.015625 51.171875 16.015625 36.375 \r\nQ 16.015625 21.625 22.71875 14.15625 \r\nQ 29.4375 6.6875 42.828125 6.6875 \r\nQ 48.046875 6.6875 52.140625 7.59375 \r\nQ 56.25 8.5 59.515625 10.40625 \r\nz\r\n\" id=\"DejaVuSans-71\"/>\r\n      <path d=\"M 5.515625 54.6875 \r\nL 48.1875 54.6875 \r\nL 48.1875 46.484375 \r\nL 14.40625 7.171875 \r\nL 48.1875 7.171875 \r\nL 48.1875 0 \r\nL 4.296875 0 \r\nL 4.296875 8.203125 \r\nL 38.09375 47.515625 \r\nL 5.515625 47.515625 \r\nz\r\n\" id=\"DejaVuSans-122\"/>\r\n     </defs>\r\n     <use xlink:href=\"#DejaVuSans-68\"/>\r\n     <use x=\"77.001953\" xlink:href=\"#DejaVuSans-111\"/>\r\n     <use x=\"138.183594\" xlink:href=\"#DejaVuSans-103\"/>\r\n     <use x=\"201.660156\" xlink:href=\"#DejaVuSans-95\"/>\r\n     <use x=\"251.660156\" xlink:href=\"#DejaVuSans-71\"/>\r\n     <use x=\"329.150391\" xlink:href=\"#DejaVuSans-101\"/>\r\n     <use x=\"390.673828\" xlink:href=\"#DejaVuSans-114\"/>\r\n     <use x=\"430.037109\" xlink:href=\"#DejaVuSans-109\"/>\r\n     <use x=\"527.449219\" xlink:href=\"#DejaVuSans-97\"/>\r\n     <use x=\"588.728516\" xlink:href=\"#DejaVuSans-110\"/>\r\n     <use x=\"652.107422\" xlink:href=\"#DejaVuSans-32\"/>\r\n     <use x=\"683.894531\" xlink:href=\"#DejaVuSans-83\"/>\r\n     <use x=\"747.371094\" xlink:href=\"#DejaVuSans-112\"/>\r\n     <use x=\"810.847656\" xlink:href=\"#DejaVuSans-105\"/>\r\n     <use x=\"838.630859\" xlink:href=\"#DejaVuSans-116\"/>\r\n     <use x=\"877.839844\" xlink:href=\"#DejaVuSans-122\"/>\r\n    </g>\r\n   </g>\r\n   <g id=\"text_27\">\r\n    <!-- Dog_Chow Chow -->\r\n    <g transform=\"translate(411.112438 254.200673)scale(0.1 -0.1)\">\r\n     <use xlink:href=\"#DejaVuSans-68\"/>\r\n     <use x=\"77.001953\" xlink:href=\"#DejaVuSans-111\"/>\r\n     <use x=\"138.183594\" xlink:href=\"#DejaVuSans-103\"/>\r\n     <use x=\"201.660156\" xlink:href=\"#DejaVuSans-95\"/>\r\n     <use x=\"251.660156\" xlink:href=\"#DejaVuSans-67\"/>\r\n     <use x=\"321.484375\" xlink:href=\"#DejaVuSans-104\"/>\r\n     <use x=\"384.863281\" xlink:href=\"#DejaVuSans-111\"/>\r\n     <use x=\"446.044922\" xlink:href=\"#DejaVuSans-119\"/>\r\n     <use x=\"527.832031\" xlink:href=\"#DejaVuSans-32\"/>\r\n     <use x=\"559.619141\" xlink:href=\"#DejaVuSans-67\"/>\r\n     <use x=\"629.443359\" xlink:href=\"#DejaVuSans-104\"/>\r\n     <use x=\"692.822266\" xlink:href=\"#DejaVuSans-111\"/>\r\n     <use x=\"754.003906\" xlink:href=\"#DejaVuSans-119\"/>\r\n    </g>\r\n   </g>\r\n   <g id=\"text_28\">\r\n    <!-- Dog_Miniature Pinscher -->\r\n    <g transform=\"translate(113.206193 23.35595)scale(0.1 -0.1)\">\r\n     <use xlink:href=\"#DejaVuSans-68\"/>\r\n     <use x=\"77.001953\" xlink:href=\"#DejaVuSans-111\"/>\r\n     <use x=\"138.183594\" xlink:href=\"#DejaVuSans-103\"/>\r\n     <use x=\"201.660156\" xlink:href=\"#DejaVuSans-95\"/>\r\n     <use x=\"251.660156\" xlink:href=\"#DejaVuSans-77\"/>\r\n     <use x=\"337.939453\" xlink:href=\"#DejaVuSans-105\"/>\r\n     <use x=\"365.722656\" xlink:href=\"#DejaVuSans-110\"/>\r\n     <use x=\"429.101562\" xlink:href=\"#DejaVuSans-105\"/>\r\n     <use x=\"456.884766\" xlink:href=\"#DejaVuSans-97\"/>\r\n     <use x=\"518.164062\" xlink:href=\"#DejaVuSans-116\"/>\r\n     <use x=\"557.373047\" xlink:href=\"#DejaVuSans-117\"/>\r\n     <use x=\"620.751953\" xlink:href=\"#DejaVuSans-114\"/>\r\n     <use x=\"659.615234\" xlink:href=\"#DejaVuSans-101\"/>\r\n     <use x=\"721.138672\" xlink:href=\"#DejaVuSans-32\"/>\r\n     <use x=\"752.925781\" xlink:href=\"#DejaVuSans-80\"/>\r\n     <use x=\"810.978516\" xlink:href=\"#DejaVuSans-105\"/>\r\n     <use x=\"838.761719\" xlink:href=\"#DejaVuSans-110\"/>\r\n     <use x=\"902.140625\" xlink:href=\"#DejaVuSans-115\"/>\r\n     <use x=\"954.240234\" xlink:href=\"#DejaVuSans-99\"/>\r\n     <use x=\"1009.220703\" xlink:href=\"#DejaVuSans-104\"/>\r\n     <use x=\"1072.599609\" xlink:href=\"#DejaVuSans-101\"/>\r\n     <use x=\"1134.123047\" xlink:href=\"#DejaVuSans-114\"/>\r\n    </g>\r\n   </g>\r\n   <g id=\"text_29\">\r\n    <!-- Dog_Coonhound -->\r\n    <g transform=\"translate(200.910822 132.479111)scale(0.1 -0.1)\">\r\n     <use xlink:href=\"#DejaVuSans-68\"/>\r\n     <use x=\"77.001953\" xlink:href=\"#DejaVuSans-111\"/>\r\n     <use x=\"138.183594\" xlink:href=\"#DejaVuSans-103\"/>\r\n     <use x=\"201.660156\" xlink:href=\"#DejaVuSans-95\"/>\r\n     <use x=\"251.660156\" xlink:href=\"#DejaVuSans-67\"/>\r\n     <use x=\"321.484375\" xlink:href=\"#DejaVuSans-111\"/>\r\n     <use x=\"382.666016\" xlink:href=\"#DejaVuSans-111\"/>\r\n     <use x=\"443.847656\" xlink:href=\"#DejaVuSans-110\"/>\r\n     <use x=\"507.226562\" xlink:href=\"#DejaVuSans-104\"/>\r\n     <use x=\"570.605469\" xlink:href=\"#DejaVuSans-111\"/>\r\n     <use x=\"631.787109\" xlink:href=\"#DejaVuSans-117\"/>\r\n     <use x=\"695.166016\" xlink:href=\"#DejaVuSans-110\"/>\r\n     <use x=\"758.544922\" xlink:href=\"#DejaVuSans-100\"/>\r\n    </g>\r\n   </g>\r\n  </g>\r\n </g>\r\n <defs>\r\n  <clipPath id=\"pf53e1c7964\">\r\n   <rect height=\"434.88\" width=\"446.4\" x=\"38.482813\" y=\"7.2\"/>\r\n  </clipPath>\r\n </defs>\r\n</svg>\r\n",
      "image/png": "[encoded data removed]"
     },
     "metadata": {
      "needs_background": "light"
     }
    }
   ],
   "source": [
    "fig,ax = plt.subplots(1,1,figsize = (8,8))\n",
    "sns.scatterplot(x = cat_x, y = cat_y, color = 'red', ax = ax)\n",
    "for x,y,label in zip(cat_x,cat_y,cat_label):\n",
    "    ax.text(x + 0.02, y + 0.02, label)\n",
    "\n",
    "sns.scatterplot(x = dog_x, y = dog_y, color = 'blue', ax = ax)\n",
    "for x,y,label in zip(dog_x,dog_y,dog_label):\n",
    "    ax.text(x + 0.02, y + 0.02, label)"
   ]
  },
  {
   "source": [
    "<h3>TensorFlow Datasets</h3> "
   ],
   "cell_type": "markdown",
   "metadata": {}
  },
  {
   "cell_type": "code",
   "execution_count": 73,
   "metadata": {},
   "outputs": [],
   "source": [
    "import tensorflow_datasets as tfds"
   ]
  },
  {
   "cell_type": "code",
   "execution_count": 74,
   "metadata": {
    "tags": []
   },
   "outputs": [],
   "source": [
    "dataset = tfds.load(name = \"mnist\")\n",
    "mnist_train,mnist_test = dataset[\"train\"],dataset[\"test\"]\n",
    "\n",
    "mnist_train = mnist_train.repeat(5).batch(32)"
   ]
  },
  {
   "cell_type": "code",
   "execution_count": 75,
   "metadata": {},
   "outputs": [
    {
     "output_type": "stream",
     "name": "stdout",
     "text": [
      "tf.Tensor(\n[[[[0]\n   [0]\n   [0]\n   ...\n   [0]\n   [0]\n   [0]]\n\n  [[0]\n   [0]\n   [0]\n   ...\n   [0]\n   [0]\n   [0]]\n\n  [[0]\n   [0]\n   [0]\n   ...\n   [0]\n   [0]\n   [0]]\n\n  ...\n\n  [[0]\n   [0]\n   [0]\n   ...\n   [0]\n   [0]\n   [0]]\n\n  [[0]\n   [0]\n   [0]\n   ...\n   [0]\n   [0]\n   [0]]\n\n  [[0]\n   [0]\n   [0]\n   ...\n   [0]\n   [0]\n   [0]]]\n\n\n [[[0]\n   [0]\n   [0]\n   ...\n   [0]\n   [0]\n   [0]]\n\n  [[0]\n   [0]\n   [0]\n   ...\n   [0]\n   [0]\n   [0]]\n\n  [[0]\n   [0]\n   [0]\n   ...\n   [0]\n   [0]\n   [0]]\n\n  ...\n\n  [[0]\n   [0]\n   [0]\n   ...\n   [0]\n   [0]\n   [0]]\n\n  [[0]\n   [0]\n   [0]\n   ...\n   [0]\n   [0]\n   [0]]\n\n  [[0]\n   [0]\n   [0]\n   ...\n   [0]\n   [0]\n   [0]]]\n\n\n [[[0]\n   [0]\n   [0]\n   ...\n   [0]\n   [0]\n   [0]]\n\n  [[0]\n   [0]\n   [0]\n   ...\n   [0]\n   [0]\n   [0]]\n\n  [[0]\n   [0]\n   [0]\n   ...\n   [0]\n   [0]\n   [0]]\n\n  ...\n\n  [[0]\n   [0]\n   [0]\n   ...\n   [0]\n   [0]\n   [0]]\n\n  [[0]\n   [0]\n   [0]\n   ...\n   [0]\n   [0]\n   [0]]\n\n  [[0]\n   [0]\n   [0]\n   ...\n   [0]\n   [0]\n   [0]]]\n\n\n ...\n\n\n [[[0]\n   [0]\n   [0]\n   ...\n   [0]\n   [0]\n   [0]]\n\n  [[0]\n   [0]\n   [0]\n   ...\n   [0]\n   [0]\n   [0]]\n\n  [[0]\n   [0]\n   [0]\n   ...\n   [0]\n   [0]\n   [0]]\n\n  ...\n\n  [[0]\n   [0]\n   [0]\n   ...\n   [0]\n   [0]\n   [0]]\n\n  [[0]\n   [0]\n   [0]\n   ...\n   [0]\n   [0]\n   [0]]\n\n  [[0]\n   [0]\n   [0]\n   ...\n   [0]\n   [0]\n   [0]]]\n\n\n [[[0]\n   [0]\n   [0]\n   ...\n   [0]\n   [0]\n   [0]]\n\n  [[0]\n   [0]\n   [0]\n   ...\n   [0]\n   [0]\n   [0]]\n\n  [[0]\n   [0]\n   [0]\n   ...\n   [0]\n   [0]\n   [0]]\n\n  ...\n\n  [[0]\n   [0]\n   [0]\n   ...\n   [0]\n   [0]\n   [0]]\n\n  [[0]\n   [0]\n   [0]\n   ...\n   [0]\n   [0]\n   [0]]\n\n  [[0]\n   [0]\n   [0]\n   ...\n   [0]\n   [0]\n   [0]]]\n\n\n [[[0]\n   [0]\n   [0]\n   ...\n   [0]\n   [0]\n   [0]]\n\n  [[0]\n   [0]\n   [0]\n   ...\n   [0]\n   [0]\n   [0]]\n\n  [[0]\n   [0]\n   [0]\n   ...\n   [0]\n   [0]\n   [0]]\n\n  ...\n\n  [[0]\n   [0]\n   [0]\n   ...\n   [0]\n   [0]\n   [0]]\n\n  [[0]\n   [0]\n   [0]\n   ...\n   [0]\n   [0]\n   [0]]\n\n  [[0]\n   [0]\n   [0]\n   ...\n   [0]\n   [0]\n   [0]]]], shape=(32, 28, 28, 1), dtype=uint8)\ntf.Tensor([4 1 0 7 8 1 2 7 1 6 6 4 7 7 3 3 7 9 9 1 0 6 6 9 9 4 8 9 4 7 3 3], shape=(32,), dtype=int64)\n"
     ]
    }
   ],
   "source": [
    "for item in mnist_train:\n",
    "    print(item['image'])\n",
    "    print(item['label'])\n",
    "    break"
   ]
  },
  {
   "cell_type": "code",
   "execution_count": 76,
   "metadata": {},
   "outputs": [
    {
     "output_type": "execute_result",
     "data": {
      "text/plain": [
       "<BatchDataset shapes: {image: (None, 28, 28, 1), label: (None,)}, types: {image: tf.uint8, label: tf.int64}>"
      ]
     },
     "metadata": {},
     "execution_count": 76
    }
   ],
   "source": [
    "mnist_train"
   ]
  },
  {
   "cell_type": "code",
   "execution_count": null,
   "metadata": {},
   "outputs": [],
   "source": []
  }
 ]
}