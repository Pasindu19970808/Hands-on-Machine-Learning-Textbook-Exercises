{
 "metadata": {
  "language_info": {
   "codemirror_mode": {
    "name": "ipython",
    "version": 3
   },
   "file_extension": ".py",
   "mimetype": "text/x-python",
   "name": "python",
   "nbconvert_exporter": "python",
   "pygments_lexer": "ipython3",
   "version": 3
  },
  "orig_nbformat": 2
 },
 "nbformat": 4,
 "nbformat_minor": 2,
 "cells": [
  {
   "source": [
    "<h2> Training Deep Neural Networks </h2> \n",
    "\n",
    "To tackle complex problems, we need to train much deeper DNN with 10 layers or much more, each containing hundreds of neurons. \n",
    "\n",
    "<h3> Issues faced when training DNN </h3> \n",
    "\n",
    "- Vanishing gradient/ exploding gradients\n",
    "- Not enough training data for a large network\n",
    "- Training will be extemely slow\n",
    "- A model with millions of parameters would risk overfitting the training set if there is not enough instances. "
   ],
   "cell_type": "markdown",
   "metadata": {}
  },
  {
   "source": [
    "<h3> Vanishing/Exploding Gradients Problems </h3> \n",
    "\n",
    "- The backpropagation algorithm works by going from the output layer to the input layer, propagating the error gradient on the way. \n",
    "- Once the gradient for each parameter is calculated, the gradients are used to update each parameter. \n",
    "- **However** gradients get smaller and smaller as the algorithm progresses to the lower layers. \n",
    "\n",
    "- Due to this vanishing gradient, the weights and biases of the lower layers stay unchanged. \n",
    "\n",
    "\n",
    "**The opposite can happen too**\n",
    "\n",
    "- In some cases, the gradient gets bigger when moving to lower layers, hence the lower layers end up getting large weight updates and the algorithm diverges. \n",
    "\n",
    "\n",
    "In a general sense, deep neural networks suffer from unstable gradients throughout the network resulting in different layers learning at different speeds. \n",
    "\n",
    "Issues which contribute to this:\n",
    "\n",
    "- Combination of logistic sigmoid activation function and the weight initialization technique (Random initialization using a normal distribution with a mean of 0 and a standard dev. of 1)\n",
    "\n",
    "- Looking at the sigmoid activation function, it saturates at large positive and negative inputs and the function saturates at 0 and 1. At these saturated positions, the gradient is close to zero and hence cannot back propagate through a network. Hence there is not enough to be backpropagated to lower layers.\n"
   ],
   "cell_type": "markdown",
   "metadata": {}
  },
  {
   "cell_type": "code",
   "execution_count": null,
   "metadata": {},
   "outputs": [],
   "source": []
  }
 ]
}