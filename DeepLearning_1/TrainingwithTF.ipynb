{
 "metadata": {
  "language_info": {
   "codemirror_mode": {
    "name": "ipython",
    "version": 3
   },
   "file_extension": ".py",
   "mimetype": "text/x-python",
   "name": "python",
   "nbconvert_exporter": "python",
   "pygments_lexer": "ipython3",
   "version": "3.8.8"
  },
  "orig_nbformat": 2,
  "kernelspec": {
   "name": "python388jvsc74a57bd0965ba1120b0c101b3f715b6e258a73742ec1cf86f2c8b04492724c87d9f112c3",
   "display_name": "Python 3.8.8 64-bit"
  }
 },
 "nbformat": 4,
 "nbformat_minor": 2,
 "cells": [
  {
   "source": [
    "<h2> More on Tensorflow </h2> "
   ],
   "cell_type": "markdown",
   "metadata": {}
  },
  {
   "source": [
    "GPUS dramatically speed up computations by splitting computations into many smaller chunks and running them in parallel across many GPU threads. "
   ],
   "cell_type": "markdown",
   "metadata": {}
  },
  {
   "cell_type": "code",
   "execution_count": 63,
   "metadata": {},
   "outputs": [],
   "source": [
    "import tensorflow as tf\n",
    "import numpy as np"
   ]
  },
  {
   "cell_type": "code",
   "execution_count": 64,
   "metadata": {},
   "outputs": [
    {
     "output_type": "execute_result",
     "data": {
      "text/plain": [
       "array([[1, 2, 3],\n",
       "       [4, 5, 6]])"
      ]
     },
     "metadata": {},
     "execution_count": 64
    }
   ],
   "source": [
    "a = np.array([[1,2,3],[4,5,6]])\n",
    "a"
   ]
  },
  {
   "cell_type": "code",
   "execution_count": 65,
   "metadata": {},
   "outputs": [
    {
     "output_type": "execute_result",
     "data": {
      "text/plain": [
       "dtype('int32')"
      ]
     },
     "metadata": {},
     "execution_count": 65
    }
   ],
   "source": [
    "a.dtype"
   ]
  },
  {
   "cell_type": "code",
   "execution_count": 66,
   "metadata": {},
   "outputs": [
    {
     "output_type": "execute_result",
     "data": {
      "text/plain": [
       "<tf.Variable 'Variable:0' shape=(2, 3) dtype=int32, numpy=\n",
       "array([[1, 2, 3],\n",
       "       [4, 5, 6]])>"
      ]
     },
     "metadata": {},
     "execution_count": 66
    }
   ],
   "source": [
    "b = tf.Variable(a)\n",
    "b"
   ]
  },
  {
   "cell_type": "code",
   "execution_count": 67,
   "metadata": {},
   "outputs": [
    {
     "output_type": "execute_result",
     "data": {
      "text/plain": [
       "<tf.Variable 'Variable:0' shape=(2, 3) dtype=int32, numpy=\n",
       "array([[  1,   2,   3],\n",
       "       [  4, 100,   6]])>"
      ]
     },
     "metadata": {},
     "execution_count": 67
    }
   ],
   "source": [
    "b.scatter_nd_update(indices = [[1,1]],updates = [100])\n",
    "b"
   ]
  },
  {
   "cell_type": "code",
   "execution_count": 68,
   "metadata": {},
   "outputs": [
    {
     "output_type": "execute_result",
     "data": {
      "text/plain": [
       "TensorShape([2, 3])"
      ]
     },
     "metadata": {},
     "execution_count": 68
    }
   ],
   "source": [
    "#creating a simple tensor\n",
    "t = tf.constant([[1,2,3],[4,5,6]])\n",
    "t.shape"
   ]
  },
  {
   "cell_type": "code",
   "execution_count": 69,
   "metadata": {},
   "outputs": [
    {
     "output_type": "execute_result",
     "data": {
      "text/plain": [
       "<tf.Tensor: shape=(2, 2), dtype=int32, numpy=\n",
       "array([[2, 3],\n",
       "       [5, 6]])>"
      ]
     },
     "metadata": {},
     "execution_count": 69
    }
   ],
   "source": [
    "#indexing\n",
    "t[:,1:]"
   ]
  },
  {
   "cell_type": "code",
   "execution_count": 70,
   "metadata": {},
   "outputs": [
    {
     "output_type": "execute_result",
     "data": {
      "text/plain": [
       "<tf.Tensor: shape=(3, 2), dtype=int32, numpy=\n",
       "array([[1, 4],\n",
       "       [2, 5],\n",
       "       [3, 6]])>"
      ]
     },
     "metadata": {},
     "execution_count": 70
    }
   ],
   "source": [
    "tf.transpose(t)"
   ]
  },
  {
   "cell_type": "code",
   "execution_count": 71,
   "metadata": {},
   "outputs": [
    {
     "output_type": "execute_result",
     "data": {
      "text/plain": [
       "<tf.Tensor: shape=(2, 2), dtype=int32, numpy=\n",
       "array([[14, 32],\n",
       "       [32, 77]])>"
      ]
     },
     "metadata": {},
     "execution_count": 71
    }
   ],
   "source": [
    "tf.matmul(t,tf.transpose(t))"
   ]
  },
  {
   "source": [
    "<h3> Tensors and Numpy </h3> "
   ],
   "cell_type": "markdown",
   "metadata": {}
  },
  {
   "cell_type": "code",
   "execution_count": 72,
   "metadata": {},
   "outputs": [],
   "source": [
    "import numpy as np\n",
    "a = np.array([2,4,5])"
   ]
  },
  {
   "cell_type": "code",
   "execution_count": 73,
   "metadata": {},
   "outputs": [
    {
     "output_type": "execute_result",
     "data": {
      "text/plain": [
       "<tf.Tensor: shape=(3,), dtype=int32, numpy=array([2, 4, 5])>"
      ]
     },
     "metadata": {},
     "execution_count": 73
    }
   ],
   "source": [
    "tf.constant(a)"
   ]
  },
  {
   "cell_type": "code",
   "execution_count": 74,
   "metadata": {},
   "outputs": [
    {
     "output_type": "execute_result",
     "data": {
      "text/plain": [
       "<tf.Tensor: shape=(), dtype=float64, numpy=40.0>"
      ]
     },
     "metadata": {},
     "execution_count": 74
    }
   ],
   "source": [
    "#casting from 32bit float to a 64 bit float to sum in TF\n",
    "t2 = tf.constant(40.,dtype = tf.float64)\n",
    "t2"
   ]
  },
  {
   "cell_type": "code",
   "execution_count": 75,
   "metadata": {},
   "outputs": [
    {
     "output_type": "execute_result",
     "data": {
      "text/plain": [
       "<tf.Tensor: shape=(), dtype=float32, numpy=42.0>"
      ]
     },
     "metadata": {},
     "execution_count": 75
    }
   ],
   "source": [
    "tf.constant(2.0) + tf.cast(t2,tf.float32)"
   ]
  },
  {
   "source": [
    "<h3> Variables in Tensorflow </h3> \n",
    "\n",
    "We cannot modify constant tensors, however we can modify tf.Variable. These are required as we need to tweak weights in a neural network. "
   ],
   "cell_type": "markdown",
   "metadata": {}
  },
  {
   "cell_type": "code",
   "execution_count": 76,
   "metadata": {},
   "outputs": [
    {
     "output_type": "execute_result",
     "data": {
      "text/plain": [
       "<tf.Variable 'Variable:0' shape=(2, 3) dtype=float32, numpy=\n",
       "array([[1., 2., 3.],\n",
       "       [4., 5., 6.]], dtype=float32)>"
      ]
     },
     "metadata": {},
     "execution_count": 76
    }
   ],
   "source": [
    "v = tf.Variable([[1.,2.,3.],[4.,5.,6.]])\n",
    "v"
   ]
  },
  {
   "source": [
    "A tf.Variable acts like a constant tensor and allows to perform the same operations. But it also allows you to modify th variable using the assign() method."
   ],
   "cell_type": "markdown",
   "metadata": {}
  },
  {
   "cell_type": "code",
   "execution_count": 77,
   "metadata": {},
   "outputs": [
    {
     "output_type": "execute_result",
     "data": {
      "text/plain": [
       "<tf.Tensor: shape=(2, 3), dtype=int32, numpy=\n",
       "array([[1, 2, 3],\n",
       "       [4, 5, 6]])>"
      ]
     },
     "metadata": {},
     "execution_count": 77
    }
   ],
   "source": [
    "a = tf.constant([[1,2,3],[4,5,6]])\n",
    "a"
   ]
  },
  {
   "cell_type": "code",
   "execution_count": 78,
   "metadata": {},
   "outputs": [
    {
     "output_type": "execute_result",
     "data": {
      "text/plain": [
       "<tf.Variable 'UnreadVariable' shape=(2, 3) dtype=float32, numpy=\n",
       "array([[ 2.,  4.,  6.],\n",
       "       [ 8., 10., 12.]], dtype=float32)>"
      ]
     },
     "metadata": {},
     "execution_count": 78
    }
   ],
   "source": [
    "v.assign(2*v)"
   ]
  },
  {
   "cell_type": "code",
   "execution_count": 79,
   "metadata": {},
   "outputs": [
    {
     "output_type": "execute_result",
     "data": {
      "text/plain": [
       "<tf.Variable 'UnreadVariable' shape=(2, 3) dtype=float32, numpy=\n",
       "array([[ 2., 42.,  6.],\n",
       "       [ 8., 10., 12.]], dtype=float32)>"
      ]
     },
     "metadata": {},
     "execution_count": 79
    }
   ],
   "source": [
    "v[0,1].assign(42)"
   ]
  },
  {
   "cell_type": "code",
   "execution_count": 80,
   "metadata": {},
   "outputs": [
    {
     "output_type": "execute_result",
     "data": {
      "text/plain": [
       "<tf.Variable 'UnreadVariable' shape=(2, 3) dtype=float32, numpy=\n",
       "array([[100.,  42.,   6.],\n",
       "       [  8.,  10., 200.]], dtype=float32)>"
      ]
     },
     "metadata": {},
     "execution_count": 80
    }
   ],
   "source": [
    "v.scatter_nd_update(indices=[[0,0],[1,2]],updates = [100.,200.])"
   ]
  },
  {
   "source": [
    "v.scatter_nd_add(indices=[[0,0],[1,2]],updates = [100.,200.])"
   ],
   "cell_type": "code",
   "metadata": {},
   "execution_count": 81,
   "outputs": [
    {
     "output_type": "execute_result",
     "data": {
      "text/plain": [
       "<tf.Variable 'UnreadVariable' shape=(2, 3) dtype=float32, numpy=\n",
       "array([[200.,  42.,   6.],\n",
       "       [  8.,  10., 400.]], dtype=float32)>"
      ]
     },
     "metadata": {},
     "execution_count": 81
    }
   ]
  },
  {
   "source": [
    "scatter methods allows you to specify the index position and add to it"
   ],
   "cell_type": "markdown",
   "metadata": {}
  },
  {
   "source": [
    "<h3> Sparse Tensors </h3> \n",
    "\n",
    "In a Sparse Tensor, you always need to give the positions first, then the values, then the dense shape"
   ],
   "cell_type": "markdown",
   "metadata": {}
  },
  {
   "cell_type": "code",
   "execution_count": 82,
   "metadata": {},
   "outputs": [],
   "source": [
    "s = tf.SparseTensor(indices = [[0,1],[1,0],[2,3]],\n",
    "                    values = [1.,2.,3.], \n",
    "                    dense_shape=[3,4])"
   ]
  },
  {
   "cell_type": "code",
   "execution_count": 83,
   "metadata": {},
   "outputs": [
    {
     "output_type": "execute_result",
     "data": {
      "text/plain": [
       "<tf.Tensor: shape=(3, 4), dtype=float32, numpy=\n",
       "array([[0., 1., 0., 0.],\n",
       "       [2., 0., 0., 0.],\n",
       "       [0., 0., 0., 3.]], dtype=float32)>"
      ]
     },
     "metadata": {},
     "execution_count": 83
    }
   ],
   "source": [
    "tf.sparse.to_dense(s)"
   ]
  },
  {
   "source": [
    "Sparse tensors need to always be given in order of indices"
   ],
   "cell_type": "markdown",
   "metadata": {}
  },
  {
   "cell_type": "code",
   "execution_count": 84,
   "metadata": {},
   "outputs": [],
   "source": [
    "s5 = tf.SparseTensor(indices=[[0, 1], [0, 2]],\n",
    "                     values=[1., 2.],\n",
    "                     dense_shape=[3, 4])"
   ]
  },
  {
   "cell_type": "code",
   "execution_count": 85,
   "metadata": {},
   "outputs": [
    {
     "output_type": "execute_result",
     "data": {
      "text/plain": [
       "<tf.Tensor: shape=(3, 4), dtype=float32, numpy=\n",
       "array([[0., 1., 2., 0.],\n",
       "       [0., 0., 0., 0.],\n",
       "       [0., 0., 0., 0.]], dtype=float32)>"
      ]
     },
     "metadata": {},
     "execution_count": 85
    }
   ],
   "source": [
    "tf.sparse.to_dense(s5)"
   ]
  },
  {
   "source": [
    "<h3> Tensor Arrays </h3>\n",
    "\n",
    "We first crrate the tensor with a fixed size. we cannot add past this"
   ],
   "cell_type": "markdown",
   "metadata": {}
  },
  {
   "cell_type": "code",
   "execution_count": 86,
   "metadata": {},
   "outputs": [],
   "source": [
    "array = tf.TensorArray(dtype = tf.float32,size = 3)\n",
    "array = array.write(0,tf.constant([1.,2.]))\n",
    "array = array.write(1,tf.constant([3.,10.]))\n",
    "array = array.write(2,tf.constant([5.,7.]))"
   ]
  },
  {
   "source": [
    "<h3> Customizing models and training algorithms </h3> "
   ],
   "cell_type": "markdown",
   "metadata": {}
  },
  {
   "source": [
    "<h3> Custom Loss Functions </h3> "
   ],
   "cell_type": "markdown",
   "metadata": {}
  },
  {
   "cell_type": "code",
   "execution_count": 87,
   "metadata": {},
   "outputs": [],
   "source": [
    "#where y_true - y_pred absolute is less than 1, we want the squared loss and linear loss\n",
    "def huber_fn(y_true,y_pred):\n",
    "    error = y_true - y_pred\n",
    "    is_small_error = tf.abs(error) < 1\n",
    "    squared_loss = tf.square(error)/2\n",
    "    linear_loss = tf.abs(error) - 0.5\n",
    "    return tf.where(is_small_error,squared_loss,linear_loss)\n",
    "\n",
    "#we need to always use tensorflow functions to be used as custom loss functions. "
   ]
  },
  {
   "source": [
    "For the next step, we just apply this to our keras model\n",
    "\n",
    "model.compile(loss = huber_fn, optimizer = \"adam\")\n",
    "\n",
    "model.fit(.....)"
   ],
   "cell_type": "markdown",
   "metadata": {}
  },
  {
   "cell_type": "code",
   "execution_count": 88,
   "metadata": {},
   "outputs": [],
   "source": [
    "#current implementation allows us to have one threshold of 1 in the Huber Function\n",
    "#How to change the threshold?\n",
    "def create_huber(threshold = 1.0):\n",
    "    def huber_fn(y_true,y_pred):\n",
    "        error = y_true - y_pred\n",
    "        is_small_errors = tf.abs(error) <  threshold\n",
    "        #mae loss\n",
    "        squared_loss = tf.square(error)/2\n",
    "        #mse loss\n",
    "        linear_loss = threshold*tf.abs(error) - threshold**2/2\n",
    "        #if your error is less than threshold, return squared loss, \n",
    "        #else return linear_loss\n",
    "        return tf.where(is_small_errors, squared_loss,linear_loss)\n",
    "    return huber_fn"
   ]
  },
  {
   "source": [
    "model.compile(loss = create_huber(2.0), optimizer = \"adam\")"
   ],
   "cell_type": "markdown",
   "metadata": {}
  },
  {
   "source": [
    "The above causes an issue when saving the model using \n",
    "keras.callbacks.ModelCheckpoint(\"modelname.h5\", save_best_only = True)\n",
    "\n",
    "When we load the model again we will have to specify which function is being called for the loss function as the loss function is a custom one here\n",
    "\n",
    "model = keras.models.load_model(\"modelname.h5\", custom_objects = {\"huber_fn\":create_huber(2.0)})"
   ],
   "cell_type": "markdown",
   "metadata": {}
  },
  {
   "cell_type": "code",
   "execution_count": 89,
   "metadata": {},
   "outputs": [],
   "source": [
    "from tensorflow import keras"
   ]
  },
  {
   "cell_type": "code",
   "execution_count": 90,
   "metadata": {},
   "outputs": [],
   "source": [
    "#to avoid the above we can inherit the Keras.losses.loss method\n",
    "\n",
    "class HuberLoss(keras.losses.Loss):\n",
    "    def __init__(self, threshold = 1.0, **kwargs):\n",
    "        self.threshold = threshold\n",
    "        #instantiate the superclass\n",
    "        super().__init__(**kwargs)\n",
    "    def call(self, y_true, y_pred):\n",
    "        error = y_true - y_pred\n",
    "        is_small_error = tf.abs(error) < self.threshold\n",
    "        squared_loss = tf.square(error)/2\n",
    "        linear_loss = self.threshold*tf.abs(error) - self.threshold**2/2\n",
    "        return tf.where(is_small_error,squared_loss,linear_loss)\n",
    "    def get_config(self):\n",
    "        #you get the base configuration of superclass\n",
    "        base_config = super().get_config()\n",
    "        #add in the threshold and creates a new dictionary to be returned\n",
    "        return {**base_config, \"threshold\":self.threshold}"
   ]
  },
  {
   "source": [
    "get_config method returns a dictionary mapping each hyperparameter name to its value. It first calls the parent class's get_config() method, then adds the new hyperparameters to this dictionary.\n",
    "\n",
    "from the above, when loading a model, we do this:\n",
    "\n",
    "**model = keras.models.load_model(\"my_model_with_a_custom_loss_class.h5\",\n",
    "custom_objects={\"HuberLoss\": HuberLoss})**\n",
    "\n",
    "Now we dont have to provide the threshold value too.\n",
    "\n",
    "When we save the mode, Keras calls the loss instance (HuberLoss) get_config() method and the returned dictionary is stored as a JSON in the h5 file. \n",
    "\n",
    "When loaded, it calls **from_config()** and creates the instance of the class, passing the return from **from_config()** to **kwargs."
   ],
   "cell_type": "markdown",
   "metadata": {}
  },
  {
   "source": [
    "<h3>Custom Activation Functions, Initializers, Regularizers, and Constraints</h3>"
   ],
   "cell_type": "markdown",
   "metadata": {}
  },
  {
   "cell_type": "code",
   "execution_count": 91,
   "metadata": {},
   "outputs": [],
   "source": [
    "#defining custom activation functions \n",
    "def my_softplus(z):\n",
    "    return tf.math.log(tf.exp(z) + 1.0)"
   ]
  },
  {
   "cell_type": "code",
   "execution_count": 92,
   "metadata": {},
   "outputs": [],
   "source": [
    "def my_glorot_initializer(shape,dtype = tf.float32):\n",
    "    stddev = tf.sqrt(2/(shape[0] + shape[1]))\n",
    "    return tf.random.normal(shape, stddev = stddev, dtype = dtype)"
   ]
  },
  {
   "cell_type": "code",
   "execution_count": 93,
   "metadata": {},
   "outputs": [],
   "source": [
    "def my_li_regularizer(weights):\n",
    "    return tf.reduce_sum(tf.abs(0.01 * weights))"
   ]
  },
  {
   "cell_type": "code",
   "execution_count": 94,
   "metadata": {},
   "outputs": [],
   "source": [
    "#function to return only positive weights\n",
    "def my_positive_weights(weights):\n",
    "    return tf.where(weights<0, tf.zeros_like(weights),weights)"
   ]
  },
  {
   "cell_type": "code",
   "execution_count": 95,
   "metadata": {},
   "outputs": [],
   "source": [
    "#custom regularizer using subclassing\n",
    "\n",
    "class MyL1Regularizer(keras.regularizers.Regularizer):\n",
    "    def __init__(self,regfactor):\n",
    "        self.factor = regfactor\n",
    "    def __call__(self,weights):\n",
    "        return tf.reduce_sum(tf.abs(self.factor * weights))\n",
    "    def get_config(self):\n",
    "        return {\"regfactor\":self.factor}"
   ]
  },
  {
   "source": [
    "For losses, layers and models we implement the call() method, and for regularizers, initializers and constraints we use the _____call_____() method. "
   ],
   "cell_type": "markdown",
   "metadata": {}
  },
  {
   "source": [
    "<h3>Custom Metrics </h3> \n",
    "\n"
   ],
   "cell_type": "markdown",
   "metadata": {}
  },
  {
   "cell_type": "code",
   "execution_count": 96,
   "metadata": {},
   "outputs": [
    {
     "output_type": "execute_result",
     "data": {
      "text/plain": [
       "<tf.Tensor: shape=(2, 3), dtype=float32, numpy=\n",
       "array([[2., 2., 2.],\n",
       "       [2., 2., 2.]], dtype=float32)>"
      ]
     },
     "metadata": {},
     "execution_count": 96
    }
   ],
   "source": [
    "a = tf.Variable([[2,2,2],[2,2,2]])\n",
    "a = tf.cast(a,tf.float32)\n",
    "a"
   ]
  },
  {
   "cell_type": "code",
   "execution_count": 97,
   "metadata": {},
   "outputs": [
    {
     "output_type": "execute_result",
     "data": {
      "text/plain": [
       "<tf.Tensor: shape=(), dtype=float32, numpy=0.11999999>"
      ]
     },
     "metadata": {},
     "execution_count": 97
    }
   ],
   "source": [
    "tf.reduce_sum(tf.abs(0.01*a))"
   ]
  },
  {
   "source": [
    "At each training step the weights will be passed to the regularization function to compute the regularization loss. The return is then added to the main loss to get the final loss used for training. "
   ],
   "cell_type": "markdown",
   "metadata": {}
  },
  {
   "source": [
    "<h3> Custom Metrics </h3> \n",
    "\n",
    "Usually metrics keep track of the mean of a metric from each epoch. \n",
    "\n",
    "Suppose we have 5 true predictions, but 4 true positives. Thats 0.8 precision. Next epoch, we have 3 true predictions with 0 true positives. Thats 0 precision, but if we use mean, it becomes 0.4 precision overall\n",
    "\n",
    "But the actual one is 8 true predictions with 4 true positives in total. Thats 0.5 precision. Hence we need an object to track the true positives and an object to track the predictions. \n"
   ],
   "cell_type": "markdown",
   "metadata": {}
  },
  {
   "cell_type": "code",
   "execution_count": 98,
   "metadata": {},
   "outputs": [
    {
     "output_type": "execute_result",
     "data": {
      "text/plain": [
       "<tf.Tensor: shape=(), dtype=float32, numpy=0.8>"
      ]
     },
     "metadata": {},
     "execution_count": 98
    }
   ],
   "source": [
    "from tensorflow import keras\n",
    "precision = keras.metrics.Precision()\n",
    "precision([0, 1, 1, 1, 0, 1, 0, 1], [1, 1, 0, 1, 0, 1, 0, 1])"
   ]
  },
  {
   "cell_type": "code",
   "execution_count": 99,
   "metadata": {},
   "outputs": [
    {
     "output_type": "execute_result",
     "data": {
      "text/plain": [
       "<tf.Tensor: shape=(), dtype=float32, numpy=0.5>"
      ]
     },
     "metadata": {},
     "execution_count": 99
    }
   ],
   "source": [
    "precision([0, 1, 0, 0, 1, 0, 1, 1], [1, 0, 1, 1, 0, 0, 0, 0])"
   ]
  },
  {
   "source": [
    "Note above that the same precision object, under 2 runs prduces the overal precision of the data fed into it. Not a mean, or not a new precision for the the new run.\n",
    "\n",
    "This is called a streaming metric. "
   ],
   "cell_type": "markdown",
   "metadata": {}
  },
  {
   "cell_type": "code",
   "execution_count": 100,
   "metadata": {},
   "outputs": [
    {
     "output_type": "execute_result",
     "data": {
      "text/plain": [
       "[<tf.Variable 'true_positives:0' shape=(1,) dtype=float32, numpy=array([4.], dtype=float32)>,\n",
       " <tf.Variable 'false_positives:0' shape=(1,) dtype=float32, numpy=array([4.], dtype=float32)>]"
      ]
     },
     "metadata": {},
     "execution_count": 100
    }
   ],
   "source": [
    "precision.variables"
   ]
  },
  {
   "cell_type": "code",
   "execution_count": 101,
   "metadata": {},
   "outputs": [],
   "source": [
    "def create_huber(threshold = 1.0):\n",
    "    def huber_fn(y_true,y_pred):\n",
    "        error = y_true - y_pred\n",
    "        is_small_errors = tf.abs(error) <  threshold\n",
    "        #mae loss\n",
    "        squared_loss = tf.square(error)/2\n",
    "        #mse loss\n",
    "        linear_loss = threshold*tf.abs(error) - threshold**2/2\n",
    "        #if your error is less than threshold, return squared loss, \n",
    "        #else return linear_loss\n",
    "        return tf.where(is_small_errors, squared_loss,linear_loss)\n",
    "    return huber_fn"
   ]
  },
  {
   "cell_type": "code",
   "execution_count": 102,
   "metadata": {},
   "outputs": [],
   "source": [
    "#creating streaming metrics\n",
    "class HuberMetric(keras.metrics.Metric):\n",
    "    def __init__(self,threshold = 1.0, **kwargs):\n",
    "        super().__init__(**kwargs)\n",
    "        self.threshold = threshold\n",
    "        #returns a huber function to be used in this class\n",
    "        self.huber_fn = create_huber(threshold)\n",
    "        #add weight creates variables to keep track of attributes\n",
    "        self.total = self.add_weight(\"total\",initializer= \"zeros\")\n",
    "        self.count = self.add_weight(\"count\",initializer= \"zeros\")\n",
    "    def update_state(self,y_true,y_pred,sample_weight = None):\n",
    "        result = self.huber_fn(y_true, y_pred)\n",
    "        self.total.assign_add(tf.reduce_sum(result))\n",
    "        self.count.assign_add(tf.cast(tf.size(y_pred), tf.float32))\n",
    "    def result(self):\n",
    "        return self.total/self.count\n",
    "    def get_config(self):\n",
    "        base_config = self.get_config()\n",
    "        return {**base_config, \"threshold\":self.threshold}"
   ]
  },
  {
   "source": [
    "Both customPrecision and HuberMetric are inherriting from keras.metrics.Metric which is an abstract class. Abstract classes contain methods which need to be surely built in the child class."
   ],
   "cell_type": "markdown",
   "metadata": {}
  },
  {
   "cell_type": "code",
   "execution_count": 103,
   "metadata": {},
   "outputs": [],
   "source": [
    "class customPrecision(keras.metrics.Metric):\n",
    "    def __init__(self, **kwargs):\n",
    "        super().__init__(**kwargs)\n",
    "    def update_state(self,ytrue, ypred,sample_weight = None):\n",
    "        try: \n",
    "            for _class in self.unique_classes:\n",
    "                self.total_true[_class] = self.total_true[_class] + tf.where(ytrue == _class).shape[0]\n",
    "                self.total_prediction[_class] = self.total_prediction[_class] + tf.where(ypred == _class).shape[0]\n",
    "                self.total_truepositives[_class] = self.total_truepositives[_class] + len([i for i in tf.where(ypred == _class) if i in tf.where(ytrue == _class)])\n",
    "            #return [self.total_prediction,self.total_truepositives]\n",
    "        except:\n",
    "            self.unique,_,_ = tf.unique_with_counts(ytrue)\n",
    "            #obtains the unique classes to a list that we can loop through\n",
    "            self.unique_classes = self.unique.numpy()\n",
    "            self.total_truepositives = {_class:0 for _class in self.unique_classes}\n",
    "            self.total_prediction = {_class:0 for _class in self.unique_classes}\n",
    "            self.precision_classbase = {_class:0 for _class in self.unique_classes}\n",
    "            self.total_true = {_class:0 for _class in self.unique_classes}\n",
    "            for _class in self.unique_classes:\n",
    "                self.total_true[_class] = self.total_true[_class] + tf.where(ytrue == _class).shape[0]\n",
    "                self.total_prediction[_class] = self.total_prediction[_class] + tf.where(ypred == _class).shape[0]\n",
    "                self.total_truepositives[_class] = self.total_truepositives[_class] + len([i for i in tf.where(ypred == _class) if i in tf.where(ytrue == _class)])\n",
    "            #return [self.total_prediction,self.total_truepositives]\n",
    "    def result(self):\n",
    "        for _class in self.unique_classes:\n",
    "            self.precision_classbase[_class] = self.total_truepositives[_class]/self.total_prediction[_class]\n",
    "            self.precision_classbase[_class] = self.precision_classbase[_class] * (self.total_true[_class]/sum(self.total_true.values()))\n",
    "        return sum(self.precision_classbase.values())\n",
    "    def get_config(self):\n",
    "        base_config = self.get_config()\n",
    "        return {**base_config}       "
   ]
  },
  {
   "cell_type": "code",
   "execution_count": 104,
   "metadata": {},
   "outputs": [],
   "source": [
    "ytrue1 = tf.Variable([0, 1, 1, 1, 0, 1, 0, 1])\n",
    "ypred1 = tf.Variable([1, 1, 0, 1, 0, 1, 0, 1])"
   ]
  },
  {
   "cell_type": "code",
   "execution_count": 105,
   "metadata": {},
   "outputs": [],
   "source": [
    "prec_test1 = customPrecision()"
   ]
  },
  {
   "cell_type": "code",
   "execution_count": 106,
   "metadata": {},
   "outputs": [
    {
     "output_type": "execute_result",
     "data": {
      "text/plain": [
       "<tf.Tensor: shape=(), dtype=float32, numpy=0.75>"
      ]
     },
     "metadata": {},
     "execution_count": 106
    }
   ],
   "source": [
    "prec_test1(ytrue1,ypred1)"
   ]
  },
  {
   "cell_type": "code",
   "execution_count": 107,
   "metadata": {},
   "outputs": [
    {
     "output_type": "execute_result",
     "data": {
      "text/plain": [
       "{0: 0.25, 1: 0.5}"
      ]
     },
     "metadata": {},
     "execution_count": 107
    }
   ],
   "source": [
    "prec_test1.precision_classbase"
   ]
  },
  {
   "cell_type": "code",
   "execution_count": 108,
   "metadata": {},
   "outputs": [],
   "source": [
    "ytrue2 = tf.Variable([0, 1, 0, 0, 1, 0, 1, 1])\n",
    "ypred2 = tf.Variable([1, 0, 1, 1, 0, 0, 0, 0])"
   ]
  },
  {
   "cell_type": "code",
   "execution_count": 109,
   "metadata": {},
   "outputs": [
    {
     "output_type": "execute_result",
     "data": {
      "text/plain": [
       "<tf.Tensor: shape=(), dtype=float32, numpy=0.4453125>"
      ]
     },
     "metadata": {},
     "execution_count": 109
    }
   ],
   "source": [
    "prec_test1(ytrue2,ypred2)"
   ]
  },
  {
   "cell_type": "code",
   "execution_count": 110,
   "metadata": {},
   "outputs": [],
   "source": [
    "a = {0:4,1:3}"
   ]
  },
  {
   "cell_type": "code",
   "execution_count": 111,
   "metadata": {},
   "outputs": [
    {
     "output_type": "execute_result",
     "data": {
      "text/plain": [
       "{0: 7, 1: 9}"
      ]
     },
     "metadata": {},
     "execution_count": 111
    }
   ],
   "source": [
    "prec_test1.total_true"
   ]
  },
  {
   "source": [
    "<h3> Custom Layers </h3>\n",
    "\n",
    "Sometimes we need to make layers which Tensorflow does not provide  default implementation for. In this case we need to create a custom layer.\n",
    "\n",
    "Also we might want to club repeating layer patterns into one. \n",
    "E.g.: If you have layer pattern A,B,C,A,B,C,A,B,C we can make one layer D containing A,B,C and make D,D,D."
   ],
   "cell_type": "markdown",
   "metadata": {}
  },
  {
   "cell_type": "code",
   "execution_count": 112,
   "metadata": {},
   "outputs": [],
   "source": [
    "#to build custom layers with weights in them, we need to subclass of the keras.layers.Layer class\n",
    "class MyDense(keras.layers.Layer):\n",
    "    def __init__(self,units,activation = None, **kwargs):\n",
    "        super().__init__(**kwargs)\n",
    "        self.units = units\n",
    "        self.activation = keras.activations.get(activation)\n",
    "        #in build you build your kernel (weight matrix) and bias\n",
    "    def build(self,batch_input_shape):\n",
    "        #batch input shape is the number of features in the input to this layer\n",
    "        #batch_input_shape = [batch_size, no.of features in each batch instance]\n",
    "        self.kernel = self.add_weight(name = \"kernel\",\n",
    "        shape = [batch_input_shape[-1],self.units],\n",
    "        initializer=\"glorot_normal\")\n",
    "        self.bias = self.add_weight(name = \"bias\",\n",
    "        shape = [self.units], initializer = \"zeros\")\n",
    "        #sets self.built = True in parent class\n",
    "        super().build(batch_input_shape)\n",
    "    #call returns the output of the matrix multiplication or any result\n",
    "    def call(self,X):\n",
    "        return self.activation(tf.matmul(X,self.kernel) + self.bias)\n",
    "    def compute_output_shape(self,batch_input_shape):\n",
    "        #output shape will be [batch_size, no. of units]\n",
    "        return tf.TensorShape(batch_input_shape.as_list()[:-1] + [self.units])\n",
    "    def get_config(self):\n",
    "        base_config = super().get_config()\n",
    "        return {**base_config,\"units\":self.units,\n",
    "        \"activation\":keras.activations.serialize(self.activation)}"
   ]
  },
  {
   "cell_type": "code",
   "execution_count": 113,
   "metadata": {},
   "outputs": [],
   "source": [
    "#using the above custom layer\n",
    "model = keras.models.Sequential()\n",
    "#notice that input_shape is part of the **kwargs argument\n",
    "model.add(MyDense(30, activation = \"relu\", input_shape = (8,)))\n",
    "model.add(MyDense(1))"
   ]
  },
  {
   "cell_type": "code",
   "execution_count": 114,
   "metadata": {},
   "outputs": [
    {
     "output_type": "stream",
     "name": "stdout",
     "text": [
      "Model: \"sequential_2\"\n_________________________________________________________________\nLayer (type)                 Output Shape              Param #   \n=================================================================\nmy_dense_2 (MyDense)         (None, 30)                270       \n_________________________________________________________________\nmy_dense_3 (MyDense)         (None, 1)                 31        \n=================================================================\nTotal params: 301\nTrainable params: 301\nNon-trainable params: 0\n_________________________________________________________________\n"
     ]
    }
   ],
   "source": [
    "model.summary()"
   ]
  },
  {
   "cell_type": "code",
   "execution_count": 115,
   "metadata": {},
   "outputs": [
    {
     "output_type": "execute_result",
     "data": {
      "text/plain": [
       "<tf.Variable 'my_dense_2/bias:0' shape=(30,) dtype=float32, numpy=\n",
       "array([0., 0., 0., 0., 0., 0., 0., 0., 0., 0., 0., 0., 0., 0., 0., 0., 0.,\n",
       "       0., 0., 0., 0., 0., 0., 0., 0., 0., 0., 0., 0., 0.], dtype=float32)>"
      ]
     },
     "metadata": {},
     "execution_count": 115
    }
   ],
   "source": [
    "model.layers[0].bias"
   ]
  },
  {
   "source": [
    "<h3> Custom Models </h3> \n",
    "\n",
    "Lets say we are building a model with one dense input, which passes through an identical block(Residual Block), containing 2 dense layers and an addition of the input layer to the result of the 2 dense layers. The identical block is used 3 times."
   ],
   "cell_type": "markdown",
   "metadata": {}
  },
  {
   "cell_type": "code",
   "execution_count": 116,
   "metadata": {},
   "outputs": [],
   "source": [
    "#first we build this Residual Block\n",
    "class ResidualBlock(keras.layers.Layer):\n",
    "    def __init__(self,n_neurons,n_layers,**kwargs):\n",
    "        super().__init__(**kwargs)\n",
    "        self.hidden = [keras.layers.Dense(n_neurons,activation = \"elu\",kernel_initializer=\"he_normal\") for _ in range(n_layers)]\n",
    "    #call returns the output of the matrix multiplication or any result\n",
    "    def call(self,inputs):\n",
    "        Z = inputs\n",
    "        for layer in self.hidden:\n",
    "            Z = layer(Z)\n",
    "        #as the Residual block adds the output of the layers into\n",
    "        return inputs + Z"
   ]
  },
  {
   "cell_type": "code",
   "execution_count": 117,
   "metadata": {},
   "outputs": [],
   "source": [
    "#notice that although we inherit from keras.layers.Layer, we can still use normal keras.layers.Dense in it, and implement calculations using these Dense layers from call()\n",
    "class ResidualRegressor(keras.models.Model):\n",
    "    def __init__(self,output_dim,**kwargs):\n",
    "        super().__init__(**kwargs)\n",
    "        self.hidden1 = keras.layers.Dense(30,activation = \"elu\",kernel_initializer=\"he_normal\")\n",
    "        self.block1 = ResidualBlock(2,30)\n",
    "        self.block2 = ResidualBlock(2,30)\n",
    "        self.out = keras.layers.Dense(output_dim)\n",
    "    def call(self, inputs):\n",
    "        Z = self.hidden1(inputs)\n",
    "        for _ in range(1 + 3):\n",
    "            Z = self.block1(Z)\n",
    "        Z = self.block2(Z)\n",
    "        return self.out(Z)\n",
    "#we can use keras.layers.Layer to create custom Layers. we can use keras.models.Model to create custom models with custom layers in it. \n",
    "\n",
    "#then we can create instance of the keras.models.Model class and compile, fit as required\n",
    "\n",
    "#Remember than keras.models.Model is a subclass of keras.layers.Layer with more functionality"
   ]
  },
  {
   "cell_type": "code",
   "execution_count": 118,
   "metadata": {},
   "outputs": [],
   "source": [
    "model2 = ResidualRegressor(1)"
   ]
  },
  {
   "cell_type": "code",
   "execution_count": 119,
   "metadata": {},
   "outputs": [],
   "source": [
    "\n",
    "block1 = ResidualBlock(2, 30)\n",
    "model3 = keras.models.Sequential([\n",
    "    keras.layers.Dense(30, activation=\"elu\", kernel_initializer=\"he_normal\"),\n",
    "    block1, block1, block1, block1,\n",
    "    ResidualBlock(2, 30),\n",
    "    keras.layers.Dense(1)\n",
    "])"
   ]
  },
  {
   "source": [
    "<h3> Losses and Metrics Based on Model Internals </h3> \n",
    "\n",
    "Usually losses and metrics are based on predictions and ocassionaly sample weights. However we sometimes want it to be based on other parts of the model. "
   ],
   "cell_type": "markdown",
   "metadata": {}
  },
  {
   "cell_type": "code",
   "execution_count": 120,
   "metadata": {},
   "outputs": [],
   "source": [
    "class ReconstructingInputRegressor(keras.models.Model):\n",
    "    def __init__(self,output_dim,**kwargs):\n",
    "        super().__init__(**kwargs)\n",
    "        self.hidden = [keras.layers.Dense(30, activation = \"selu\", kernel_initializer = \"lecun_normal\") for _ in range(5)]\n",
    "        self.out = keras.layers.Dense(output_dim)\n",
    "    def build(self,batch_input_shape):\n",
    "        self.reconstructlayer = keras.layers.Dense(batch_input_shape[-1])\n",
    "        self.build(batch_input_shape)\n",
    "    def call(self,inputs):\n",
    "        Z = inputs\n",
    "        for layer in self.hidden:\n",
    "            Z = layer(Z)\n",
    "        reconstruct = self.reconstructlayer(Z)\n",
    "        recon_loss = tf.reduce_mean(tf.square(reconstruct - inputs))\n",
    "        self.add_loss(0.05*recon_loss)\n",
    "        return self.out(Z)"
   ]
  },
  {
   "cell_type": "code",
   "execution_count": 153,
   "metadata": {},
   "outputs": [],
   "source": [
    "class ReconstructingInputRegressor2(keras.models.Model):\n",
    "    def __init__(self,output_dim,input_dim,**kwargs):\n",
    "        super().__init__(**kwargs)\n",
    "        self.hidden = [keras.layers.Dense(30, activation = \"selu\", kernel_initializer = \"lecun_normal\") for _ in range(5)]\n",
    "        self.out = keras.layers.Dense(output_dim)\n",
    "        self.reconstructlayer = keras.layers.Dense(input_dim)\n",
    "        #adding a loss as a metric\n",
    "        #self.reconmetric = keras.metrics.Mean(name = \"recon_error\")\n",
    "    \"\"\" def build(self,batch_input_shape):\n",
    "        self.reconstructlayer = keras.layers.Dense(batch_input_shape[-1])\n",
    "        self.build(batch_input_shape) \"\"\"\n",
    "    def call(self,inputs):\n",
    "        Z = inputs\n",
    "        for layer in self.hidden:\n",
    "            Z = layer(Z)\n",
    "        reconstruct = self.reconstructlayer(Z)\n",
    "        recon_loss = tf.reduce_mean(tf.square(reconstruct - inputs))\n",
    "        #self.add_loss(0.05*recon_loss)\n",
    "        self.add_metric(0.05*recon_loss, name = \"recon_error\")\n",
    "        return self.out(Z)"
   ]
  },
  {
   "cell_type": "code",
   "execution_count": 154,
   "metadata": {},
   "outputs": [],
   "source": [
    "import numpy as np\n",
    "X_dummy = np.random.randn(10,8)\n",
    "y_dummy = np.random.randn(10,1)"
   ]
  },
  {
   "cell_type": "code",
   "execution_count": 155,
   "metadata": {},
   "outputs": [],
   "source": [
    "model = ReconstructingInputRegressor2(1,8)\n",
    "model.compile(loss = \"mse\",optimizer = \"adam\")"
   ]
  },
  {
   "cell_type": "code",
   "execution_count": 156,
   "metadata": {},
   "outputs": [
    {
     "output_type": "stream",
     "name": "stdout",
     "text": [
      "Epoch 1/3\n",
      "WARNING:tensorflow:Gradients do not exist for variables ['reconstructing_input_regressor2_9/dense_317/kernel:0', 'reconstructing_input_regressor2_9/dense_317/bias:0'] when minimizing the loss.\n",
      "WARNING:tensorflow:Gradients do not exist for variables ['reconstructing_input_regressor2_9/dense_317/kernel:0', 'reconstructing_input_regressor2_9/dense_317/bias:0'] when minimizing the loss.\n",
      "WARNING:tensorflow:5 out of the last 13 calls to <function Model.make_train_function.<locals>.train_function at 0x000001828DA06310> triggered tf.function retracing. Tracing is expensive and the excessive number of tracings could be due to (1) creating @tf.function repeatedly in a loop, (2) passing tensors with different shapes, (3) passing Python objects instead of tensors. For (1), please define your @tf.function outside of the loop. For (2), @tf.function has experimental_relax_shapes=True option that relaxes argument shapes that can avoid unnecessary retracing. For (3), please refer to https://www.tensorflow.org/guide/function#controlling_retracing and https://www.tensorflow.org/api_docs/python/tf/function for  more details.\n",
      "1/1 [==============================] - 1s 710ms/step - loss: 2.8586 - recon_error: 0.0774\n",
      "Epoch 2/3\n",
      "1/1 [==============================] - 0s 4ms/step - loss: 2.0684 - recon_error: 0.0777\n",
      "Epoch 3/3\n",
      "1/1 [==============================] - 0s 6ms/step - loss: 1.4857 - recon_error: 0.0780\n"
     ]
    },
    {
     "output_type": "execute_result",
     "data": {
      "text/plain": [
       "<tensorflow.python.keras.callbacks.History at 0x1828da35520>"
      ]
     },
     "metadata": {},
     "execution_count": 156
    }
   ],
   "source": [
    "model.fit(X_dummy,y_dummy, epochs = 3)"
   ]
  },
  {
   "cell_type": "code",
   "execution_count": null,
   "metadata": {},
   "outputs": [],
   "source": []
  }
 ]
}