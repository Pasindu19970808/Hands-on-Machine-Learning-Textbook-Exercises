{
 "metadata": {
  "language_info": {
   "codemirror_mode": {
    "name": "ipython",
    "version": 3
   },
   "file_extension": ".py",
   "mimetype": "text/x-python",
   "name": "python",
   "nbconvert_exporter": "python",
   "pygments_lexer": "ipython3",
   "version": "3.8.8"
  },
  "orig_nbformat": 2,
  "kernelspec": {
   "name": "python388jvsc74a57bd0965ba1120b0c101b3f715b6e258a73742ec1cf86f2c8b04492724c87d9f112c3",
   "display_name": "Python 3.8.8 64-bit"
  }
 },
 "nbformat": 4,
 "nbformat_minor": 2,
 "cells": [
  {
   "source": [
    "<h2> More on Tensorflow </h2> "
   ],
   "cell_type": "markdown",
   "metadata": {}
  },
  {
   "source": [
    "GPUS dramatically speed up computations by splitting computations into many smaller chunks and running them in parallel across many GPU threads. "
   ],
   "cell_type": "markdown",
   "metadata": {}
  },
  {
   "cell_type": "code",
   "execution_count": 1,
   "metadata": {},
   "outputs": [],
   "source": [
    "import tensorflow as tf\n",
    "import numpy as np"
   ]
  },
  {
   "cell_type": "code",
   "execution_count": 2,
   "metadata": {},
   "outputs": [
    {
     "output_type": "execute_result",
     "data": {
      "text/plain": [
       "array([[1, 2, 3],\n",
       "       [4, 5, 6]])"
      ]
     },
     "metadata": {},
     "execution_count": 2
    }
   ],
   "source": [
    "a = np.array([[1,2,3],[4,5,6]])\n",
    "a"
   ]
  },
  {
   "cell_type": "code",
   "execution_count": 3,
   "metadata": {},
   "outputs": [
    {
     "output_type": "execute_result",
     "data": {
      "text/plain": [
       "dtype('int32')"
      ]
     },
     "metadata": {},
     "execution_count": 3
    }
   ],
   "source": [
    "a.dtype"
   ]
  },
  {
   "cell_type": "code",
   "execution_count": 4,
   "metadata": {},
   "outputs": [
    {
     "output_type": "execute_result",
     "data": {
      "text/plain": [
       "<tf.Variable 'Variable:0' shape=(2, 3) dtype=int32, numpy=\n",
       "array([[1, 2, 3],\n",
       "       [4, 5, 6]])>"
      ]
     },
     "metadata": {},
     "execution_count": 4
    }
   ],
   "source": [
    "b = tf.Variable(a)\n",
    "b"
   ]
  },
  {
   "cell_type": "code",
   "execution_count": 5,
   "metadata": {},
   "outputs": [
    {
     "output_type": "execute_result",
     "data": {
      "text/plain": [
       "<tf.Variable 'Variable:0' shape=(2, 3) dtype=int32, numpy=\n",
       "array([[  1,   2,   3],\n",
       "       [  4, 100,   6]])>"
      ]
     },
     "metadata": {},
     "execution_count": 5
    }
   ],
   "source": [
    "b.scatter_nd_update(indices = [[1,1]],updates = [100])\n",
    "b"
   ]
  },
  {
   "cell_type": "code",
   "execution_count": 6,
   "metadata": {},
   "outputs": [
    {
     "output_type": "execute_result",
     "data": {
      "text/plain": [
       "TensorShape([2, 3])"
      ]
     },
     "metadata": {},
     "execution_count": 6
    }
   ],
   "source": [
    "#creating a simple tensor\n",
    "t = tf.constant([[1,2,3],[4,5,6]])\n",
    "t.shape"
   ]
  },
  {
   "cell_type": "code",
   "execution_count": 7,
   "metadata": {},
   "outputs": [
    {
     "output_type": "execute_result",
     "data": {
      "text/plain": [
       "<tf.Tensor: shape=(2, 2), dtype=int32, numpy=\n",
       "array([[2, 3],\n",
       "       [5, 6]])>"
      ]
     },
     "metadata": {},
     "execution_count": 7
    }
   ],
   "source": [
    "#indexing\n",
    "t[:,1:]"
   ]
  },
  {
   "cell_type": "code",
   "execution_count": 8,
   "metadata": {},
   "outputs": [
    {
     "output_type": "execute_result",
     "data": {
      "text/plain": [
       "<tf.Tensor: shape=(3, 2), dtype=int32, numpy=\n",
       "array([[1, 4],\n",
       "       [2, 5],\n",
       "       [3, 6]])>"
      ]
     },
     "metadata": {},
     "execution_count": 8
    }
   ],
   "source": [
    "tf.transpose(t)"
   ]
  },
  {
   "cell_type": "code",
   "execution_count": 9,
   "metadata": {},
   "outputs": [
    {
     "output_type": "execute_result",
     "data": {
      "text/plain": [
       "<tf.Tensor: shape=(2, 2), dtype=int32, numpy=\n",
       "array([[14, 32],\n",
       "       [32, 77]])>"
      ]
     },
     "metadata": {},
     "execution_count": 9
    }
   ],
   "source": [
    "tf.matmul(t,tf.transpose(t))"
   ]
  },
  {
   "source": [
    "<h3> Tensors and Numpy </h3> "
   ],
   "cell_type": "markdown",
   "metadata": {}
  },
  {
   "cell_type": "code",
   "execution_count": 10,
   "metadata": {},
   "outputs": [],
   "source": [
    "import numpy as np\n",
    "a = np.array([2,4,5])"
   ]
  },
  {
   "cell_type": "code",
   "execution_count": 11,
   "metadata": {},
   "outputs": [
    {
     "output_type": "execute_result",
     "data": {
      "text/plain": [
       "<tf.Tensor: shape=(3,), dtype=int32, numpy=array([2, 4, 5])>"
      ]
     },
     "metadata": {},
     "execution_count": 11
    }
   ],
   "source": [
    "tf.constant(a)"
   ]
  },
  {
   "cell_type": "code",
   "execution_count": 12,
   "metadata": {},
   "outputs": [
    {
     "output_type": "execute_result",
     "data": {
      "text/plain": [
       "<tf.Tensor: shape=(), dtype=float64, numpy=40.0>"
      ]
     },
     "metadata": {},
     "execution_count": 12
    }
   ],
   "source": [
    "#casting from 32bit float to a 64 bit float to sum in TF\n",
    "t2 = tf.constant(40.,dtype = tf.float64)\n",
    "t2"
   ]
  },
  {
   "cell_type": "code",
   "execution_count": 13,
   "metadata": {},
   "outputs": [
    {
     "output_type": "execute_result",
     "data": {
      "text/plain": [
       "<tf.Tensor: shape=(), dtype=float32, numpy=42.0>"
      ]
     },
     "metadata": {},
     "execution_count": 13
    }
   ],
   "source": [
    "tf.constant(2.0) + tf.cast(t2,tf.float32)"
   ]
  },
  {
   "source": [
    "<h3> Variables in Tensorflow </h3> \n",
    "\n",
    "We cannot modify constant tensors, however we can modify tf.Variable. These are required as we need to tweak weights in a neural network. "
   ],
   "cell_type": "markdown",
   "metadata": {}
  },
  {
   "cell_type": "code",
   "execution_count": 14,
   "metadata": {},
   "outputs": [
    {
     "output_type": "execute_result",
     "data": {
      "text/plain": [
       "<tf.Variable 'Variable:0' shape=(2, 3) dtype=float32, numpy=\n",
       "array([[1., 2., 3.],\n",
       "       [4., 5., 6.]], dtype=float32)>"
      ]
     },
     "metadata": {},
     "execution_count": 14
    }
   ],
   "source": [
    "v = tf.Variable([[1.,2.,3.],[4.,5.,6.]])\n",
    "v"
   ]
  },
  {
   "source": [
    "A tf.Variable acts like a constant tensor and allows to perform the same operations. But it also allows you to modify th variable using the assign() method."
   ],
   "cell_type": "markdown",
   "metadata": {}
  },
  {
   "cell_type": "code",
   "execution_count": 15,
   "metadata": {},
   "outputs": [
    {
     "output_type": "execute_result",
     "data": {
      "text/plain": [
       "<tf.Tensor: shape=(2, 3), dtype=int32, numpy=\n",
       "array([[1, 2, 3],\n",
       "       [4, 5, 6]])>"
      ]
     },
     "metadata": {},
     "execution_count": 15
    }
   ],
   "source": [
    "a = tf.constant([[1,2,3],[4,5,6]])\n",
    "a"
   ]
  },
  {
   "cell_type": "code",
   "execution_count": 16,
   "metadata": {},
   "outputs": [
    {
     "output_type": "execute_result",
     "data": {
      "text/plain": [
       "<tf.Variable 'UnreadVariable' shape=(2, 3) dtype=float32, numpy=\n",
       "array([[ 2.,  4.,  6.],\n",
       "       [ 8., 10., 12.]], dtype=float32)>"
      ]
     },
     "metadata": {},
     "execution_count": 16
    }
   ],
   "source": [
    "v.assign(2*v)"
   ]
  },
  {
   "cell_type": "code",
   "execution_count": 17,
   "metadata": {},
   "outputs": [
    {
     "output_type": "execute_result",
     "data": {
      "text/plain": [
       "<tf.Variable 'UnreadVariable' shape=(2, 3) dtype=float32, numpy=\n",
       "array([[ 2., 42.,  6.],\n",
       "       [ 8., 10., 12.]], dtype=float32)>"
      ]
     },
     "metadata": {},
     "execution_count": 17
    }
   ],
   "source": [
    "v[0,1].assign(42)"
   ]
  },
  {
   "cell_type": "code",
   "execution_count": 18,
   "metadata": {},
   "outputs": [
    {
     "output_type": "execute_result",
     "data": {
      "text/plain": [
       "<tf.Variable 'UnreadVariable' shape=(2, 3) dtype=float32, numpy=\n",
       "array([[100.,  42.,   6.],\n",
       "       [  8.,  10., 200.]], dtype=float32)>"
      ]
     },
     "metadata": {},
     "execution_count": 18
    }
   ],
   "source": [
    "v.scatter_nd_update(indices=[[0,0],[1,2]],updates = [100.,200.])"
   ]
  },
  {
   "source": [
    "v.scatter_nd_add(indices=[[0,0],[1,2]],updates = [100.,200.])"
   ],
   "cell_type": "code",
   "metadata": {},
   "execution_count": 19,
   "outputs": [
    {
     "output_type": "execute_result",
     "data": {
      "text/plain": [
       "<tf.Variable 'UnreadVariable' shape=(2, 3) dtype=float32, numpy=\n",
       "array([[200.,  42.,   6.],\n",
       "       [  8.,  10., 400.]], dtype=float32)>"
      ]
     },
     "metadata": {},
     "execution_count": 19
    }
   ]
  },
  {
   "source": [
    "scatter methods allows you to specify the index position and add to it"
   ],
   "cell_type": "markdown",
   "metadata": {}
  },
  {
   "source": [
    "<h3> Sparse Tensors </h3> \n",
    "\n",
    "In a Sparse Tensor, you always need to give the positions first, then the values, then the dense shape"
   ],
   "cell_type": "markdown",
   "metadata": {}
  },
  {
   "cell_type": "code",
   "execution_count": 20,
   "metadata": {},
   "outputs": [],
   "source": [
    "s = tf.SparseTensor(indices = [[0,1],[1,0],[2,3]],\n",
    "                    values = [1.,2.,3.], \n",
    "                    dense_shape=[3,4])"
   ]
  },
  {
   "cell_type": "code",
   "execution_count": 21,
   "metadata": {},
   "outputs": [
    {
     "output_type": "execute_result",
     "data": {
      "text/plain": [
       "<tf.Tensor: shape=(3, 4), dtype=float32, numpy=\n",
       "array([[0., 1., 0., 0.],\n",
       "       [2., 0., 0., 0.],\n",
       "       [0., 0., 0., 3.]], dtype=float32)>"
      ]
     },
     "metadata": {},
     "execution_count": 21
    }
   ],
   "source": [
    "tf.sparse.to_dense(s)"
   ]
  },
  {
   "source": [
    "Sparse tensors need to always be given in order of indices"
   ],
   "cell_type": "markdown",
   "metadata": {}
  },
  {
   "cell_type": "code",
   "execution_count": 22,
   "metadata": {},
   "outputs": [],
   "source": [
    "s5 = tf.SparseTensor(indices=[[0, 1], [0, 2]],\n",
    "                     values=[1., 2.],\n",
    "                     dense_shape=[3, 4])"
   ]
  },
  {
   "cell_type": "code",
   "execution_count": 23,
   "metadata": {},
   "outputs": [
    {
     "output_type": "execute_result",
     "data": {
      "text/plain": [
       "<tf.Tensor: shape=(3, 4), dtype=float32, numpy=\n",
       "array([[0., 1., 2., 0.],\n",
       "       [0., 0., 0., 0.],\n",
       "       [0., 0., 0., 0.]], dtype=float32)>"
      ]
     },
     "metadata": {},
     "execution_count": 23
    }
   ],
   "source": [
    "tf.sparse.to_dense(s5)"
   ]
  },
  {
   "source": [
    "<h3> Tensor Arrays </h3>\n",
    "\n",
    "We first crrate the tensor with a fixed size. we cannot add past this"
   ],
   "cell_type": "markdown",
   "metadata": {}
  },
  {
   "cell_type": "code",
   "execution_count": 24,
   "metadata": {},
   "outputs": [],
   "source": [
    "array = tf.TensorArray(dtype = tf.float32,size = 3)\n",
    "array = array.write(0,tf.constant([1.,2.]))\n",
    "array = array.write(1,tf.constant([3.,10.]))\n",
    "array = array.write(2,tf.constant([5.,7.]))"
   ]
  },
  {
   "source": [
    "<h3> Customizing models and training algorithms </h3> "
   ],
   "cell_type": "markdown",
   "metadata": {}
  },
  {
   "source": [
    "<h3> Custom Loss Functions </h3> "
   ],
   "cell_type": "markdown",
   "metadata": {}
  },
  {
   "cell_type": "code",
   "execution_count": 25,
   "metadata": {},
   "outputs": [],
   "source": [
    "#where y_true - y_pred absolute is less than 1, we want the squared loss and linear loss\n",
    "def huber_fn(y_true,y_pred):\n",
    "    error = y_true - y_pred\n",
    "    is_small_error = tf.abs(error) < 1\n",
    "    squared_loss = tf.square(error)/2\n",
    "    linear_loss = tf.abs(error) - 0.5\n",
    "    return tf.where(is_small_error,squared_loss,linear_loss)\n",
    "\n",
    "#we need to always use tensorflow functions to be used as custom loss functions. "
   ]
  },
  {
   "source": [
    "For the next step, we just apply this to our keras model\n",
    "\n",
    "model.compile(loss = huber_fn, optimizer = \"adam\")\n",
    "\n",
    "model.fit(.....)"
   ],
   "cell_type": "markdown",
   "metadata": {}
  },
  {
   "cell_type": "code",
   "execution_count": 26,
   "metadata": {},
   "outputs": [],
   "source": [
    "#current implementation allows us to have one threshold of 1 in the Huber Function\n",
    "#How to change the threshold?\n",
    "def create_huber(threshold = 1.0):\n",
    "    def huber_fn(y_true,y_pred):\n",
    "        error = y_true - y_pred\n",
    "        is_small_errors = tf.abs(error) <  threshold\n",
    "        #mae loss\n",
    "        squared_loss = tf.square(error)/2\n",
    "        #mse loss\n",
    "        linear_loss = threshold*tf.abs(error) - threshold**2/2\n",
    "        #if your error is less than threshold, return squared loss, \n",
    "        #else return linear_loss\n",
    "        return tf.where(is_small_errors, squared_loss,linear_loss)\n",
    "    return huber_fn"
   ]
  },
  {
   "source": [
    "model.compile(loss = create_huber(2.0), optimizer = \"adam\")"
   ],
   "cell_type": "markdown",
   "metadata": {}
  },
  {
   "source": [
    "The above causes an issue when saving the model using \n",
    "keras.callbacks.ModelCheckpoint(\"modelname.h5\", save_best_only = True)\n",
    "\n",
    "When we load the model again we will have to specify which function is being called for the loss function as the loss function is a custom one here\n",
    "\n",
    "model = keras.models.load_model(\"modelname.h5\", custom_objects = {\"huber_fn\":create_huber(2.0)})"
   ],
   "cell_type": "markdown",
   "metadata": {}
  },
  {
   "cell_type": "code",
   "execution_count": 27,
   "metadata": {},
   "outputs": [],
   "source": [
    "from tensorflow import keras"
   ]
  },
  {
   "cell_type": "code",
   "execution_count": 28,
   "metadata": {},
   "outputs": [],
   "source": [
    "#to avoid the above we can inherit the Keras.losses.loss method\n",
    "\n",
    "class HuberLoss(keras.losses.Loss):\n",
    "    def __init__(self, threshold = 1.0, **kwargs):\n",
    "        self.threshold = threshold\n",
    "        #instantiate the superclass\n",
    "        super().__init__(**kwargs)\n",
    "    def call(self, y_true, y_pred):\n",
    "        error = y_true - y_pred\n",
    "        is_small_error = tf.abs(error) < self.threshold\n",
    "        squared_loss = tf.square(error)/2\n",
    "        linear_loss = self.threshold*tf.abs(error) - self.threshold**2/2\n",
    "        return tf.where(is_small_error,squared_loss,linear_loss)\n",
    "    def get_config(self):\n",
    "        #you get the base configuration of superclass\n",
    "        base_config = super().get_config()\n",
    "        #add in the threshold and creates a new dictionary to be returned\n",
    "        return {**base_config, \"threshold\":self.threshold}"
   ]
  },
  {
   "source": [
    "get_config method returns a dictionary mapping each hyperparameter name to its value. It first calls the parent class's get_config() method, then adds the new hyperparameters to this dictionary.\n",
    "\n",
    "from the above, when loading a model, we do this:\n",
    "\n",
    "**model = keras.models.load_model(\"my_model_with_a_custom_loss_class.h5\",\n",
    "custom_objects={\"HuberLoss\": HuberLoss})**\n",
    "\n",
    "Now we dont have to provide the threshold value too.\n",
    "\n",
    "When we save the mode, Keras calls the loss instance (HuberLoss) get_config() method and the returned dictionary is stored as a JSON in the h5 file. \n",
    "\n",
    "When loaded, it calls **from_config()** and creates the instance of the class, passing the return from **from_config()** to **kwargs."
   ],
   "cell_type": "markdown",
   "metadata": {}
  },
  {
   "source": [
    "<h3>Custom Activation Functions, Initializers, Regularizers, and Constraints</h3>"
   ],
   "cell_type": "markdown",
   "metadata": {}
  },
  {
   "cell_type": "code",
   "execution_count": 29,
   "metadata": {},
   "outputs": [],
   "source": [
    "#defining custom activation functions \n",
    "def my_softplus(z):\n",
    "    return tf.math.log(tf.exp(z) + 1.0)"
   ]
  },
  {
   "cell_type": "code",
   "execution_count": 30,
   "metadata": {},
   "outputs": [],
   "source": [
    "def my_glorot_initializer(shape,dtype = tf.float32):\n",
    "    stddev = tf.sqrt(2/(shape[0] + shape[1]))\n",
    "    return tf.random.normal(shape, stddev = stddev, dtype = dtype)"
   ]
  },
  {
   "cell_type": "code",
   "execution_count": 31,
   "metadata": {},
   "outputs": [],
   "source": [
    "def my_li_regularizer(weights):\n",
    "    return tf.reduce_sum(tf.abs(0.01 * weights))"
   ]
  },
  {
   "cell_type": "code",
   "execution_count": 32,
   "metadata": {},
   "outputs": [],
   "source": [
    "#function to return only positive weights\n",
    "def my_positive_weights(weights):\n",
    "    return tf.where(weights<0, tf.zeros_like(weights),weights)"
   ]
  },
  {
   "cell_type": "code",
   "execution_count": 33,
   "metadata": {},
   "outputs": [],
   "source": [
    "#custom regularizer using subclassing\n",
    "\n",
    "class MyL1Regularizer(keras.regularizers.Regularizer):\n",
    "    def __init__(self,regfactor):\n",
    "        self.factor = regfactor\n",
    "    def __call__(self,weights):\n",
    "        return tf.reduce_sum(tf.abs(self.factor * weights))\n",
    "    def get_config(self):\n",
    "        return {\"regfactor\":self.factor}"
   ]
  },
  {
   "source": [
    "For losses, layers and models we implement the call() method, and for regularizers, initializers and constraints we use the _____call_____() method. "
   ],
   "cell_type": "markdown",
   "metadata": {}
  },
  {
   "source": [
    "<h3>Custom Metrics </h3> \n",
    "\n"
   ],
   "cell_type": "markdown",
   "metadata": {}
  },
  {
   "cell_type": "code",
   "execution_count": 34,
   "metadata": {},
   "outputs": [
    {
     "output_type": "execute_result",
     "data": {
      "text/plain": [
       "<tf.Tensor: shape=(2, 3), dtype=float32, numpy=\n",
       "array([[2., 2., 2.],\n",
       "       [2., 2., 2.]], dtype=float32)>"
      ]
     },
     "metadata": {},
     "execution_count": 34
    }
   ],
   "source": [
    "a = tf.Variable([[2,2,2],[2,2,2]])\n",
    "a = tf.cast(a,tf.float32)\n",
    "a"
   ]
  },
  {
   "cell_type": "code",
   "execution_count": 35,
   "metadata": {},
   "outputs": [
    {
     "output_type": "execute_result",
     "data": {
      "text/plain": [
       "<tf.Tensor: shape=(), dtype=float32, numpy=0.11999999>"
      ]
     },
     "metadata": {},
     "execution_count": 35
    }
   ],
   "source": [
    "tf.reduce_sum(tf.abs(0.01*a))"
   ]
  },
  {
   "source": [
    "At each training step the weights will be passed to the regularization function to compute the regularization loss. The return is then added to the main loss to get the final loss used for training. "
   ],
   "cell_type": "markdown",
   "metadata": {}
  },
  {
   "source": [
    "<h3> Custom Metrics </h3> \n",
    "\n",
    "Usually metrics keep track of the mean of a metric from each epoch. \n",
    "\n",
    "Suppose we have 5 true predictions, but 4 true positives. Thats 0.8 precision. Next epoch, we have 3 true predictions with 0 true positives. Thats 0 precision, but if we use mean, it becomes 0.4 precision overall\n",
    "\n",
    "But the actual one is 8 true predictions with 4 true positives in total. Thats 0.5 precision. Hence we need an object to track the true positives and an object to track the predictions. \n"
   ],
   "cell_type": "markdown",
   "metadata": {}
  },
  {
   "cell_type": "code",
   "execution_count": 36,
   "metadata": {},
   "outputs": [
    {
     "output_type": "execute_result",
     "data": {
      "text/plain": [
       "<tf.Tensor: shape=(), dtype=float32, numpy=0.8>"
      ]
     },
     "metadata": {},
     "execution_count": 36
    }
   ],
   "source": [
    "from tensorflow import keras\n",
    "precision = keras.metrics.Precision()\n",
    "precision([0, 1, 1, 1, 0, 1, 0, 1], [1, 1, 0, 1, 0, 1, 0, 1])"
   ]
  },
  {
   "cell_type": "code",
   "execution_count": 37,
   "metadata": {},
   "outputs": [
    {
     "output_type": "execute_result",
     "data": {
      "text/plain": [
       "<tf.Tensor: shape=(), dtype=float32, numpy=0.5>"
      ]
     },
     "metadata": {},
     "execution_count": 37
    }
   ],
   "source": [
    "precision([0, 1, 0, 0, 1, 0, 1, 1], [1, 0, 1, 1, 0, 0, 0, 0])"
   ]
  },
  {
   "source": [
    "Note above that the same precision object, under 2 runs prduces the overal precision of the data fed into it. Not a mean, or not a new precision for the the new run.\n",
    "\n",
    "This is called a streaming metric. "
   ],
   "cell_type": "markdown",
   "metadata": {}
  },
  {
   "cell_type": "code",
   "execution_count": 38,
   "metadata": {},
   "outputs": [
    {
     "output_type": "execute_result",
     "data": {
      "text/plain": [
       "[<tf.Variable 'true_positives:0' shape=(1,) dtype=float32, numpy=array([4.], dtype=float32)>,\n",
       " <tf.Variable 'false_positives:0' shape=(1,) dtype=float32, numpy=array([4.], dtype=float32)>]"
      ]
     },
     "metadata": {},
     "execution_count": 38
    }
   ],
   "source": [
    "precision.variables"
   ]
  },
  {
   "cell_type": "code",
   "execution_count": 39,
   "metadata": {},
   "outputs": [],
   "source": [
    "def create_huber(threshold = 1.0):\n",
    "    def huber_fn(y_true,y_pred):\n",
    "        error = y_true - y_pred\n",
    "        is_small_errors = tf.abs(error) <  threshold\n",
    "        #mae loss\n",
    "        squared_loss = tf.square(error)/2\n",
    "        #mse loss\n",
    "        linear_loss = threshold*tf.abs(error) - threshold**2/2\n",
    "        #if your error is less than threshold, return squared loss, \n",
    "        #else return linear_loss\n",
    "        return tf.where(is_small_errors, squared_loss,linear_loss)\n",
    "    return huber_fn"
   ]
  },
  {
   "cell_type": "code",
   "execution_count": 40,
   "metadata": {},
   "outputs": [],
   "source": [
    "#creating streaming metrics\n",
    "class HuberMetric(keras.metrics.Metric):\n",
    "    def __init__(self,threshold = 1.0, **kwargs):\n",
    "        super().__init__(**kwargs)\n",
    "        self.threshold = threshold\n",
    "        #returns a huber function to be used in this class\n",
    "        self.huber_fn = create_huber(threshold)\n",
    "        #add weight creates variables to keep track of attributes\n",
    "        self.total = self.add_weight(\"total\",initializer= \"zeros\")\n",
    "        self.count = self.add_weight(\"count\",initializer= \"zeros\")\n",
    "    def update_state(self,y_true,y_pred,sample_weight = None):\n",
    "        result = self.huber_fn(y_true, y_pred)\n",
    "        self.total.assign_add(tf.reduce_sum(result))\n",
    "        self.count.assign_add(tf.cast(tf.size(y_pred), tf.float32))\n",
    "    def result(self):\n",
    "        return self.total/self.count\n",
    "    def get_config(self):\n",
    "        base_config = self.get_config()\n",
    "        return {**base_config, \"threshold\":self.threshold}"
   ]
  },
  {
   "source": [
    "Both customPrecision and HuberMetric are inherriting from keras.metrics.Metric which is an abstract class. Abstract classes contain methods which need to be surely built in the child class."
   ],
   "cell_type": "markdown",
   "metadata": {}
  },
  {
   "cell_type": "code",
   "execution_count": 41,
   "metadata": {},
   "outputs": [],
   "source": [
    "class customPrecision(keras.metrics.Metric):\n",
    "    def __init__(self, **kwargs):\n",
    "        super().__init__(**kwargs)\n",
    "    def update_state(self,ytrue, ypred,sample_weight = None):\n",
    "        try: \n",
    "            for _class in self.unique_classes:\n",
    "                self.total_true[_class] = self.total_true[_class] + tf.where(ytrue == _class).shape[0]\n",
    "                self.total_prediction[_class] = self.total_prediction[_class] + tf.where(ypred == _class).shape[0]\n",
    "                self.total_truepositives[_class] = self.total_truepositives[_class] + len([i for i in tf.where(ypred == _class) if i in tf.where(ytrue == _class)])\n",
    "            #return [self.total_prediction,self.total_truepositives]\n",
    "        except:\n",
    "            self.unique,_,_ = tf.unique_with_counts(ytrue)\n",
    "            #obtains the unique classes to a list that we can loop through\n",
    "            self.unique_classes = self.unique.numpy()\n",
    "            self.total_truepositives = {_class:0 for _class in self.unique_classes}\n",
    "            self.total_prediction = {_class:0 for _class in self.unique_classes}\n",
    "            self.precision_classbase = {_class:0 for _class in self.unique_classes}\n",
    "            self.total_true = {_class:0 for _class in self.unique_classes}\n",
    "            for _class in self.unique_classes:\n",
    "                self.total_true[_class] = self.total_true[_class] + tf.where(ytrue == _class).shape[0]\n",
    "                self.total_prediction[_class] = self.total_prediction[_class] + tf.where(ypred == _class).shape[0]\n",
    "                self.total_truepositives[_class] = self.total_truepositives[_class] + len([i for i in tf.where(ypred == _class) if i in tf.where(ytrue == _class)])\n",
    "            #return [self.total_prediction,self.total_truepositives]\n",
    "    def result(self):\n",
    "        for _class in self.unique_classes:\n",
    "            self.precision_classbase[_class] = self.total_truepositives[_class]/self.total_prediction[_class]\n",
    "            self.precision_classbase[_class] = self.precision_classbase[_class] * (self.total_true[_class]/sum(self.total_true.values()))\n",
    "        return sum(self.precision_classbase.values())\n",
    "    def get_config(self):\n",
    "        base_config = self.get_config()\n",
    "        return {**base_config}       "
   ]
  },
  {
   "cell_type": "code",
   "execution_count": 42,
   "metadata": {},
   "outputs": [],
   "source": [
    "ytrue1 = tf.Variable([0, 1, 1, 1, 0, 1, 0, 1])\n",
    "ypred1 = tf.Variable([1, 1, 0, 1, 0, 1, 0, 1])"
   ]
  },
  {
   "cell_type": "code",
   "execution_count": 43,
   "metadata": {},
   "outputs": [],
   "source": [
    "prec_test1 = customPrecision()"
   ]
  },
  {
   "cell_type": "code",
   "execution_count": 44,
   "metadata": {},
   "outputs": [
    {
     "output_type": "execute_result",
     "data": {
      "text/plain": [
       "<tf.Tensor: shape=(), dtype=float32, numpy=0.75>"
      ]
     },
     "metadata": {},
     "execution_count": 44
    }
   ],
   "source": [
    "prec_test1(ytrue1,ypred1)"
   ]
  },
  {
   "cell_type": "code",
   "execution_count": 45,
   "metadata": {},
   "outputs": [
    {
     "output_type": "execute_result",
     "data": {
      "text/plain": [
       "{0: 0.25, 1: 0.5}"
      ]
     },
     "metadata": {},
     "execution_count": 45
    }
   ],
   "source": [
    "prec_test1.precision_classbase"
   ]
  },
  {
   "cell_type": "code",
   "execution_count": 46,
   "metadata": {},
   "outputs": [],
   "source": [
    "ytrue2 = tf.Variable([0, 1, 0, 0, 1, 0, 1, 1])\n",
    "ypred2 = tf.Variable([1, 0, 1, 1, 0, 0, 0, 0])"
   ]
  },
  {
   "cell_type": "code",
   "execution_count": 47,
   "metadata": {},
   "outputs": [
    {
     "output_type": "execute_result",
     "data": {
      "text/plain": [
       "<tf.Tensor: shape=(), dtype=float32, numpy=0.4453125>"
      ]
     },
     "metadata": {},
     "execution_count": 47
    }
   ],
   "source": [
    "prec_test1(ytrue2,ypred2)"
   ]
  },
  {
   "cell_type": "code",
   "execution_count": 48,
   "metadata": {},
   "outputs": [],
   "source": [
    "a = {0:4,1:3}"
   ]
  },
  {
   "cell_type": "code",
   "execution_count": 49,
   "metadata": {},
   "outputs": [
    {
     "output_type": "execute_result",
     "data": {
      "text/plain": [
       "{0: 7, 1: 9}"
      ]
     },
     "metadata": {},
     "execution_count": 49
    }
   ],
   "source": [
    "prec_test1.total_true"
   ]
  },
  {
   "source": [
    "<h3> Custom Layers </h3>\n",
    "\n",
    "Sometimes we need to make layers which Tensorflow does not provide  default implementation for. In this case we need to create a custom layer.\n",
    "\n",
    "Also we might want to club repeating layer patterns into one. \n",
    "E.g.: If you have layer pattern A,B,C,A,B,C,A,B,C we can make one layer D containing A,B,C and make D,D,D."
   ],
   "cell_type": "markdown",
   "metadata": {}
  },
  {
   "cell_type": "code",
   "execution_count": 50,
   "metadata": {},
   "outputs": [],
   "source": [
    "#to build custom layers with weights in them, we need to subclass of the keras.layers.Layer class\n",
    "class MyDense(keras.layers.Layer):\n",
    "    def __init__(self,units,activation = None, **kwargs):\n",
    "        super().__init__(**kwargs)\n",
    "        self.units = units\n",
    "        self.activation = keras.activations.get(activation)\n",
    "        #in build you build your kernel (weight matrix) and bias\n",
    "    def build(self,batch_input_shape):\n",
    "        #batch input shape is the number of features in the input to this layer\n",
    "        #batch_input_shape = [batch_size, no.of features in each batch instance]\n",
    "        self.kernel = self.add_weight(name = \"kernel\",\n",
    "        shape = [batch_input_shape[-1],self.units],\n",
    "        initializer=\"glorot_normal\")\n",
    "        self.bias = self.add_weight(name = \"bias\",\n",
    "        shape = [self.units], initializer = \"zeros\")\n",
    "        #sets self.built = True in parent class\n",
    "        super().build(batch_input_shape)\n",
    "    #call returns the output of the matrix multiplication or any result\n",
    "    def call(self,X):\n",
    "        return self.activation(tf.matmul(X,self.kernel) + self.bias)\n",
    "    def compute_output_shape(self,batch_input_shape):\n",
    "        #output shape will be [batch_size, no. of units]\n",
    "        return tf.TensorShape(batch_input_shape.as_list()[:-1] + [self.units])\n",
    "    def get_config(self):\n",
    "        base_config = super().get_config()\n",
    "        return {**base_config,\"units\":self.units,\n",
    "        \"activation\":keras.activations.serialize(self.activation)}"
   ]
  },
  {
   "cell_type": "code",
   "execution_count": 51,
   "metadata": {},
   "outputs": [],
   "source": [
    "#using the above custom layer\n",
    "model = keras.models.Sequential()\n",
    "#notice that input_shape is part of the **kwargs argument\n",
    "model.add(MyDense(30, activation = \"relu\", input_shape = (8,)))\n",
    "model.add(MyDense(1))"
   ]
  },
  {
   "cell_type": "code",
   "execution_count": 52,
   "metadata": {},
   "outputs": [
    {
     "output_type": "stream",
     "name": "stdout",
     "text": [
      "Model: \"sequential\"\n_________________________________________________________________\nLayer (type)                 Output Shape              Param #   \n=================================================================\nmy_dense (MyDense)           (None, 30)                270       \n_________________________________________________________________\nmy_dense_1 (MyDense)         (None, 1)                 31        \n=================================================================\nTotal params: 301\nTrainable params: 301\nNon-trainable params: 0\n_________________________________________________________________\n"
     ]
    }
   ],
   "source": [
    "model.summary()"
   ]
  },
  {
   "cell_type": "code",
   "execution_count": 53,
   "metadata": {},
   "outputs": [
    {
     "output_type": "execute_result",
     "data": {
      "text/plain": [
       "<tf.Variable 'my_dense/bias:0' shape=(30,) dtype=float32, numpy=\n",
       "array([0., 0., 0., 0., 0., 0., 0., 0., 0., 0., 0., 0., 0., 0., 0., 0., 0.,\n",
       "       0., 0., 0., 0., 0., 0., 0., 0., 0., 0., 0., 0., 0.], dtype=float32)>"
      ]
     },
     "metadata": {},
     "execution_count": 53
    }
   ],
   "source": [
    "model.layers[0].bias"
   ]
  },
  {
   "source": [
    "<h3> Custom Models </h3> \n",
    "\n",
    "Lets say we are building a model with one dense input, which passes through an identical block(Residual Block), containing 2 dense layers and an addition of the input layer to the result of the 2 dense layers. The identical block is used 3 times."
   ],
   "cell_type": "markdown",
   "metadata": {}
  },
  {
   "cell_type": "code",
   "execution_count": 54,
   "metadata": {},
   "outputs": [],
   "source": [
    "#first we build this Residual Block\n",
    "class ResidualBlock(keras.layers.Layer):\n",
    "    def __init__(self,n_neurons,n_layers,**kwargs):\n",
    "        super().__init__(**kwargs)\n",
    "        self.hidden = [keras.layers.Dense(n_neurons,activation = \"elu\",kernel_initializer=\"he_normal\") for _ in range(n_layers)]\n",
    "    #call returns the output of the matrix multiplication or any result\n",
    "    def call(self,inputs):\n",
    "        Z = inputs\n",
    "        for layer in self.hidden:\n",
    "            Z = layer(Z)\n",
    "        #as the Residual block adds the output of the layers into\n",
    "        return inputs + Z"
   ]
  },
  {
   "cell_type": "code",
   "execution_count": 55,
   "metadata": {},
   "outputs": [],
   "source": [
    "#notice that although we inherit from keras.layers.Layer, we can still use normal keras.layers.Dense in it, and implement calculations using these Dense layers from call()\n",
    "class ResidualRegressor(keras.models.Model):\n",
    "    def __init__(self,output_dim,**kwargs):\n",
    "        super().__init__(**kwargs)\n",
    "        self.hidden1 = keras.layers.Dense(30,activation = \"elu\",kernel_initializer=\"he_normal\")\n",
    "        self.block1 = ResidualBlock(2,30)\n",
    "        self.block2 = ResidualBlock(2,30)\n",
    "        self.out = keras.layers.Dense(output_dim)\n",
    "    def call(self, inputs):\n",
    "        Z = self.hidden1(inputs)\n",
    "        for _ in range(1 + 3):\n",
    "            Z = self.block1(Z)\n",
    "        Z = self.block2(Z)\n",
    "        return self.out(Z)\n",
    "#we can use keras.layers.Layer to create custom Layers. we can use keras.models.Model to create custom models with custom layers in it. \n",
    "\n",
    "#then we can create instance of the keras.models.Model class and compile, fit as required\n",
    "\n",
    "#Remember than keras.models.Model is a subclass of keras.layers.Layer with more functionality"
   ]
  },
  {
   "cell_type": "code",
   "execution_count": 56,
   "metadata": {},
   "outputs": [],
   "source": [
    "model2 = ResidualRegressor(1)"
   ]
  },
  {
   "cell_type": "code",
   "execution_count": 57,
   "metadata": {},
   "outputs": [],
   "source": [
    "\n",
    "block1 = ResidualBlock(2, 30)\n",
    "model3 = keras.models.Sequential([\n",
    "    keras.layers.Dense(30, activation=\"elu\", kernel_initializer=\"he_normal\"),\n",
    "    block1, block1, block1, block1,\n",
    "    ResidualBlock(2, 30),\n",
    "    keras.layers.Dense(1)\n",
    "])"
   ]
  },
  {
   "source": [
    "<h3> Losses and Metrics Based on Model Internals </h3> \n",
    "\n",
    "Usually losses and metrics are based on predictions and ocassionaly sample weights. However we sometimes want it to be based on other parts of the model. "
   ],
   "cell_type": "markdown",
   "metadata": {}
  },
  {
   "cell_type": "code",
   "execution_count": 58,
   "metadata": {},
   "outputs": [],
   "source": [
    "class ReconstructingInputRegressor(keras.models.Model):\n",
    "    def __init__(self,output_dim,**kwargs):\n",
    "        super().__init__(**kwargs)\n",
    "        self.hidden = [keras.layers.Dense(30, activation = \"selu\", kernel_initializer = \"lecun_normal\") for _ in range(5)]\n",
    "        self.out = keras.layers.Dense(output_dim)\n",
    "    def build(self,batch_input_shape):\n",
    "        self.reconstructlayer = keras.layers.Dense(batch_input_shape[-1])\n",
    "        self.build(batch_input_shape)\n",
    "    def call(self,inputs):\n",
    "        Z = inputs\n",
    "        for layer in self.hidden:\n",
    "            Z = layer(Z)\n",
    "        reconstruct = self.reconstructlayer(Z)\n",
    "        recon_loss = tf.reduce_mean(tf.square(reconstruct - inputs))\n",
    "        self.add_loss(0.05*recon_loss)\n",
    "        return self.out(Z)"
   ]
  },
  {
   "cell_type": "code",
   "execution_count": 59,
   "metadata": {},
   "outputs": [],
   "source": [
    "class ReconstructingInputRegressor2(keras.models.Model):\n",
    "    def __init__(self,output_dim,input_dim,**kwargs):\n",
    "        super().__init__(**kwargs)\n",
    "        self.hidden = [keras.layers.Dense(30, activation = \"selu\", kernel_initializer = \"lecun_normal\") for _ in range(5)]\n",
    "        self.out = keras.layers.Dense(output_dim)\n",
    "        self.reconstructlayer = keras.layers.Dense(input_dim)\n",
    "        #adding a loss as a metric\n",
    "        #self.reconmetric = keras.metrics.Mean(name = \"recon_error\")\n",
    "    \"\"\" def build(self,batch_input_shape):\n",
    "        self.reconstructlayer = keras.layers.Dense(batch_input_shape[-1])\n",
    "        self.build(batch_input_shape) \"\"\"\n",
    "    def call(self,inputs):\n",
    "        Z = inputs\n",
    "        for layer in self.hidden:\n",
    "            Z = layer(Z)\n",
    "        reconstruct = self.reconstructlayer(Z)\n",
    "        recon_loss = tf.reduce_mean(tf.square(reconstruct - inputs))\n",
    "        #self.add_loss(0.05*recon_loss)\n",
    "        self.add_metric(0.05*recon_loss, name = \"recon_error\")\n",
    "        return self.out(Z)"
   ]
  },
  {
   "cell_type": "code",
   "execution_count": 123,
   "metadata": {},
   "outputs": [],
   "source": [
    "class ReconstructingInputRegressor3(keras.layers.Layer):\n",
    "    def __init__(self,input_dims,no_units,no_hidden_layers,**kwargs):\n",
    "        super().__init__(**kwargs)\n",
    "        self.layer_list = list()\n",
    "        for _ in range(1,no_hidden_layers+1):\n",
    "            if _ == 1:\n",
    "                self.layer_list.append(self.add_weight(name = \"kernel{}\".format(_), shape = [input_dims, no_units], initializer=\"he_normal\"))\n",
    "            else:\n",
    "                self.layer_list.append(self.add_weight(name = \"kernel{}\".format(_), shape = [no_units, no_units], initializer=\"he_normal\"))\n",
    "\n",
    "        self.reconstructlayer = self.add_weight(name = \"reconstruct\", \n",
    "        shape = [no_units, input_dims], initializer=\"he_normal\")\n",
    "\n",
    "        self.outputlayer = self.add_weight(name = \"output\", \n",
    "        shape = [no_units, 1], initializer=\"he_normal\")\n",
    "    def call(self,inputs):\n",
    "        Z = inputs\n",
    "        for layer in self.layer_list:\n",
    "            Z = tf.matmul(Z,layer)\n",
    "        reconstruct = tf.matmul(Z,self.reconstructlayer)\n",
    "        recon_loss = tf.reduce_mean(tf.square(reconstruct - inputs))\n",
    "        self.add_loss(0.05*recon_loss)\n",
    "        self.add_metric(0.05*recon_loss,name = \"recon_error\")\n",
    "        return tf.matmul(reconstruct,self.outputlayer)"
   ]
  },
  {
   "source": [
    "<h3> add_loss </h3> \n",
    "\n",
    "A typical loss function takes ypred and ytrue and calculates the loss and tries to minimize it. But some loss functions require more than just that and will require you to do calculations in the call method of your model and use it to calculate a different loss which can be minimized. \n",
    "\n",
    "https://stackoverflow.com/questions/50063613/what-is-the-purpose-of-the-add-loss-function-in-keras"
   ],
   "cell_type": "markdown",
   "metadata": {}
  },
  {
   "cell_type": "code",
   "execution_count": 124,
   "metadata": {},
   "outputs": [],
   "source": [
    "import numpy as np\n",
    "X_dummy = np.random.randn(10,8)\n",
    "y_dummy = np.random.randn(10,1)"
   ]
  },
  {
   "cell_type": "code",
   "execution_count": 125,
   "metadata": {},
   "outputs": [],
   "source": [
    "layer1 = ReconstructingInputRegressor3(8,8,5)\n",
    "model_recon = keras.models.Sequential()\n",
    "model_recon.add(layer1)\n",
    "model_recon.compile(loss = \"mse\",optimizer = \"adam\")"
   ]
  },
  {
   "cell_type": "code",
   "execution_count": 126,
   "metadata": {},
   "outputs": [
    {
     "output_type": "stream",
     "name": "stdout",
     "text": [
      "Epoch 1/3\n",
      "1/1 [==============================] - 1s 568ms/step - loss: 747.8154 - recon_error: 11.4509\n",
      "Epoch 2/3\n",
      "1/1 [==============================] - 0s 3ms/step - loss: 694.5016 - recon_error: 10.9079\n",
      "Epoch 3/3\n",
      "1/1 [==============================] - 0s 3ms/step - loss: 644.5593 - recon_error: 10.3935\n"
     ]
    },
    {
     "output_type": "execute_result",
     "data": {
      "text/plain": [
       "<tensorflow.python.keras.callbacks.History at 0x1f9ea0b44c0>"
      ]
     },
     "metadata": {},
     "execution_count": 126
    }
   ],
   "source": [
    "model_recon.fit(X_dummy,y_dummy, epochs = 3)"
   ]
  },
  {
   "source": [
    "<h3> Custom layer to simulate a forward pass only </h3> "
   ],
   "cell_type": "markdown",
   "metadata": {}
  },
  {
   "cell_type": "code",
   "execution_count": 107,
   "metadata": {},
   "outputs": [],
   "source": [
    "#custom layer\n",
    "class forwardPasslayer(keras.layers.Layer):\n",
    "    def __init__(self,units, **kwargs):\n",
    "        super().__init__(**kwargs)\n",
    "        self.units = units\n",
    "        #self.output_dim = output_dim\n",
    "    def build(self,batch_input_shape):\n",
    "        self.kernel1 = self.add_weight(name = \"kernel\",\n",
    "        shape = [batch_input_shape[-1],self.units],\n",
    "        initializer=\"zeros\")\n",
    "        self.kernel2= self.add_weight(name = \"kernel1\",\n",
    "        shape = [self.units,self.units], initializer = \"he_normal\")\n",
    "    def call(self,X):\n",
    "        intermediate = tf.math.add(tf.matmul(X,self.kernel1),1)\n",
    "        return tf.matmul(intermediate,self.kernel2)\n",
    "    def compute_output_shape(self,batch_input_shape):\n",
    "        return tf.TensorShape([self.units] + [self.units])"
   ]
  },
  {
   "cell_type": "code",
   "execution_count": 108,
   "metadata": {},
   "outputs": [],
   "source": [
    "X_test1 = np.random.randn(10,6)"
   ]
  },
  {
   "cell_type": "code",
   "execution_count": 109,
   "metadata": {},
   "outputs": [],
   "source": [
    "model_zeros = keras.models.Sequential()\n",
    "model_zeros.add(forwardPasslayer(8, input_shape = (6,)))"
   ]
  },
  {
   "cell_type": "code",
   "execution_count": 110,
   "metadata": {},
   "outputs": [
    {
     "output_type": "stream",
     "name": "stdout",
     "text": [
      "Model: \"sequential_5\"\n_________________________________________________________________\nLayer (type)                 Output Shape              Param #   \n=================================================================\nforward_passlayer_2 (forward (None, 8)                 112       \n=================================================================\nTotal params: 112\nTrainable params: 112\nNon-trainable params: 0\n_________________________________________________________________\n"
     ]
    }
   ],
   "source": [
    "model_zeros.summary()"
   ]
  },
  {
   "cell_type": "code",
   "execution_count": 111,
   "metadata": {},
   "outputs": [
    {
     "output_type": "execute_result",
     "data": {
      "text/plain": [
       "<tf.Tensor: shape=(10, 8), dtype=float32, numpy=\n",
       "array([[-0.12541538,  1.0706236 , -0.569745  ,  0.26126125,  0.21524581,\n",
       "        -1.100515  , -2.4108896 ,  1.0251961 ],\n",
       "       [-0.12541538,  1.0706236 , -0.569745  ,  0.26126125,  0.21524581,\n",
       "        -1.100515  , -2.4108896 ,  1.0251961 ],\n",
       "       [-0.12541538,  1.0706236 , -0.569745  ,  0.26126125,  0.21524581,\n",
       "        -1.100515  , -2.4108896 ,  1.0251961 ],\n",
       "       [-0.12541538,  1.0706236 , -0.569745  ,  0.26126125,  0.21524581,\n",
       "        -1.100515  , -2.4108896 ,  1.0251961 ],\n",
       "       [-0.12541538,  1.0706236 , -0.569745  ,  0.26126125,  0.21524581,\n",
       "        -1.100515  , -2.4108896 ,  1.0251961 ],\n",
       "       [-0.12541538,  1.0706236 , -0.569745  ,  0.26126125,  0.21524581,\n",
       "        -1.100515  , -2.4108896 ,  1.0251961 ],\n",
       "       [-0.12541538,  1.0706236 , -0.569745  ,  0.26126125,  0.21524581,\n",
       "        -1.100515  , -2.4108896 ,  1.0251961 ],\n",
       "       [-0.12541538,  1.0706236 , -0.569745  ,  0.26126125,  0.21524581,\n",
       "        -1.100515  , -2.4108896 ,  1.0251961 ],\n",
       "       [-0.12541538,  1.0706236 , -0.569745  ,  0.26126125,  0.21524581,\n",
       "        -1.100515  , -2.4108896 ,  1.0251961 ],\n",
       "       [-0.12541538,  1.0706236 , -0.569745  ,  0.26126125,  0.21524581,\n",
       "        -1.100515  , -2.4108896 ,  1.0251961 ]], dtype=float32)>"
      ]
     },
     "metadata": {},
     "execution_count": 111
    }
   ],
   "source": [
    "model_zeros(X_test1)"
   ]
  },
  {
   "source": [
    "<h3> Computing Gradient using Autodiff </h3> \n",
    "\n",
    " "
   ],
   "cell_type": "markdown",
   "metadata": {}
  },
  {
   "cell_type": "code",
   "execution_count": 68,
   "metadata": {},
   "outputs": [],
   "source": [
    "#toy function\n",
    "def f(w1,w2):\n",
    "    return 3*w1 ** 2 + 2*w1*w2"
   ]
  },
  {
   "cell_type": "code",
   "execution_count": 69,
   "metadata": {},
   "outputs": [
    {
     "output_type": "execute_result",
     "data": {
      "text/plain": [
       "36.000003007075065"
      ]
     },
     "metadata": {},
     "execution_count": 69
    }
   ],
   "source": [
    "w1 = 5\n",
    "w2 = 3\n",
    "eps = 1e-6\n",
    "(f(w1 + eps,w2) - f(w1,w2))/eps"
   ]
  },
  {
   "cell_type": "code",
   "execution_count": 70,
   "metadata": {},
   "outputs": [
    {
     "output_type": "execute_result",
     "data": {
      "text/plain": [
       "10.000000003174137"
      ]
     },
     "metadata": {},
     "execution_count": 70
    }
   ],
   "source": [
    "(f(w1,w2 + eps) - f(w1,w2))/eps"
   ]
  },
  {
   "source": [
    "<h3> Using Autodiff with Tensorflow </h3> "
   ],
   "cell_type": "markdown",
   "metadata": {}
  },
  {
   "cell_type": "code",
   "execution_count": 71,
   "metadata": {},
   "outputs": [],
   "source": [
    "w1 = tf.Variable(5.)\n",
    "w2 = tf.Variable(3.)\n",
    "\n",
    "with tf.GradientTape() as tape:\n",
    "    z = f(w1,w2)"
   ]
  },
  {
   "cell_type": "code",
   "execution_count": 72,
   "metadata": {},
   "outputs": [],
   "source": [
    "gradients = tape.gradient(z,[w1,w2])"
   ]
  },
  {
   "cell_type": "code",
   "execution_count": 73,
   "metadata": {},
   "outputs": [
    {
     "output_type": "execute_result",
     "data": {
      "text/plain": [
       "[<tf.Tensor: shape=(), dtype=float32, numpy=36.0>,\n",
       " <tf.Tensor: shape=(), dtype=float32, numpy=10.0>]"
      ]
     },
     "metadata": {},
     "execution_count": 73
    }
   ],
   "source": [
    "gradients"
   ]
  },
  {
   "source": [
    "<h3> Gradient Tapes </h3> \n",
    "\n",
    "Tensorflow records relevant operations executed inside the context of a tf.GradientTape onto a \"tape\". This tape is used to compute the gradients of a recorded computation."
   ],
   "cell_type": "markdown",
   "metadata": {}
  },
  {
   "cell_type": "code",
   "execution_count": 74,
   "metadata": {},
   "outputs": [
    {
     "output_type": "execute_result",
     "data": {
      "text/plain": [
       "<tf.Variable 'w:0' shape=(3, 2) dtype=float32, numpy=\n",
       "array([[-1.3198097 ,  0.05966563],\n",
       "       [ 1.5557507 ,  0.678337  ],\n",
       "       [ 0.53418165,  0.07422443]], dtype=float32)>"
      ]
     },
     "metadata": {},
     "execution_count": 74
    }
   ],
   "source": [
    "w = tf.Variable(tf.random.normal((3,2)),name = \"w\")\n",
    "w"
   ]
  },
  {
   "cell_type": "code",
   "execution_count": 75,
   "metadata": {},
   "outputs": [
    {
     "output_type": "execute_result",
     "data": {
      "text/plain": [
       "<tf.Variable 'b:0' shape=(2,) dtype=float32, numpy=array([0., 0.], dtype=float32)>"
      ]
     },
     "metadata": {},
     "execution_count": 75
    }
   ],
   "source": [
    "b = tf.Variable(tf.zeros(2,dtype = tf.float32),name = 'b')\n",
    "b"
   ]
  },
  {
   "cell_type": "code",
   "execution_count": 76,
   "metadata": {},
   "outputs": [
    {
     "output_type": "execute_result",
     "data": {
      "text/plain": [
       "[[1.0, 2.0, 3.0]]"
      ]
     },
     "metadata": {},
     "execution_count": 76
    }
   ],
   "source": [
    "x = [[1.,2.,3.]]\n",
    "x"
   ]
  },
  {
   "cell_type": "code",
   "execution_count": 77,
   "metadata": {},
   "outputs": [],
   "source": [
    "#derivatives of tensors\n",
    "w = tf.Variable(tf.random.normal((3, 2)), name='w')\n",
    "b = tf.Variable(tf.zeros(2, dtype=tf.float32), name='b')\n",
    "x = [[1., 2., 3.]]\n",
    "\n",
    "with tf.GradientTape(persistent=True) as tape:\n",
    "  y = x @ w + b\n",
    "  loss = tf.reduce_mean(y**2)"
   ]
  },
  {
   "cell_type": "code",
   "execution_count": 78,
   "metadata": {},
   "outputs": [],
   "source": [
    "[dl_dw, dl_db] = tape.gradient(loss, [w, b])"
   ]
  },
  {
   "cell_type": "code",
   "execution_count": 79,
   "metadata": {},
   "outputs": [
    {
     "output_type": "stream",
     "name": "stdout",
     "text": [
      "(3, 2)\n(2,)\n"
     ]
    }
   ],
   "source": [
    "print(dl_dw.shape)\n",
    "print(dl_db.shape)"
   ]
  },
  {
   "source": [
    "<h3> Gradients with respect to a model </h3> "
   ],
   "cell_type": "markdown",
   "metadata": {}
  },
  {
   "cell_type": "code",
   "execution_count": 80,
   "metadata": {},
   "outputs": [],
   "source": [
    "layer = keras.layers.Dense(2,activation = \"relu\")\n",
    "x = tf.constant([[1.,2.,3.]])"
   ]
  },
  {
   "cell_type": "code",
   "execution_count": 81,
   "metadata": {},
   "outputs": [],
   "source": [
    "with tf.GradientTape() as tape:\n",
    "    y = layer(x)\n",
    "    loss = tf.reduce_mean(y**2)"
   ]
  },
  {
   "cell_type": "code",
   "execution_count": 82,
   "metadata": {},
   "outputs": [],
   "source": [
    "grad = tape.gradient(loss,layer.trainable_variables)"
   ]
  },
  {
   "source": [
    "By default, the tape will only track operations involving variables, so if you try to compute the gradient of z with regards to anything else than a variable, the result will\n",
    "be None\n",
    "\n",
    "Sometimes you will have to track how the gradient changes with respect to constants too to penalize functions that vary a lot when the inputs vary a little."
   ],
   "cell_type": "markdown",
   "metadata": {}
  },
  {
   "cell_type": "code",
   "execution_count": 83,
   "metadata": {},
   "outputs": [],
   "source": [
    "#specifying which gradients to watch\n",
    "w = tf.Variable(tf.random.normal((3, 2)), name='w')\n",
    "b = tf.Variable(tf.zeros(2, dtype=tf.float32), name='b')\n",
    "x = [[1., 2., 3.]]\n",
    "\n",
    "with tf.GradientTape(watch_accessed_variables=False) as tape:\n",
    "  tape.watch(w)\n",
    "  y = x @ w + b\n",
    "  loss = tf.reduce_mean(y**2)"
   ]
  },
  {
   "cell_type": "code",
   "execution_count": 84,
   "metadata": {},
   "outputs": [],
   "source": [
    "dy_dw,dy_db = tape.gradient(y,[w,b])"
   ]
  },
  {
   "cell_type": "code",
   "execution_count": 85,
   "metadata": {},
   "outputs": [
    {
     "output_type": "execute_result",
     "data": {
      "text/plain": [
       "array([[1., 1.],\n",
       "       [2., 2.],\n",
       "       [3., 3.]], dtype=float32)"
      ]
     },
     "metadata": {},
     "execution_count": 85
    }
   ],
   "source": [
    "dy_dw.numpy()"
   ]
  },
  {
   "cell_type": "code",
   "execution_count": 86,
   "metadata": {},
   "outputs": [],
   "source": [
    "#this is None as it wasnt being watched\n",
    "dy_db"
   ]
  },
  {
   "cell_type": "code",
   "execution_count": 87,
   "metadata": {},
   "outputs": [],
   "source": [
    "x1 = tf.Variable(20.0)\n",
    "x2 = tf.Variable(30.0)"
   ]
  },
  {
   "cell_type": "code",
   "execution_count": 88,
   "metadata": {},
   "outputs": [],
   "source": [
    "def f1(w1,w2):\n",
    "    return w1**3 + w2**2 + w1*w2"
   ]
  },
  {
   "cell_type": "code",
   "execution_count": 89,
   "metadata": {},
   "outputs": [],
   "source": [
    "with tf.GradientTape(persistent=True) as hessian_tape:\n",
    "    with tf.GradientTape() as jacobian_tape:\n",
    "        z = f1(x1,x2)\n",
    "    jacobians = jacobian_tape.gradient(z,[x1,x2])\n"
   ]
  },
  {
   "cell_type": "code",
   "execution_count": 90,
   "metadata": {},
   "outputs": [
    {
     "output_type": "execute_result",
     "data": {
      "text/plain": [
       "[<tf.Tensor: shape=(), dtype=float32, numpy=1230.0>,\n",
       " <tf.Tensor: shape=(), dtype=float32, numpy=80.0>]"
      ]
     },
     "metadata": {},
     "execution_count": 90
    }
   ],
   "source": [
    "jacobians"
   ]
  },
  {
   "source": [
    "hessians = [hessian_tape.gradient(jacobian,[x1,x2]) for jacobian in jacobians]"
   ],
   "cell_type": "code",
   "metadata": {},
   "execution_count": 91,
   "outputs": []
  },
  {
   "source": [
    "hessians"
   ],
   "cell_type": "code",
   "metadata": {},
   "execution_count": 92,
   "outputs": [
    {
     "output_type": "execute_result",
     "data": {
      "text/plain": [
       "[[<tf.Tensor: shape=(), dtype=float32, numpy=120.0>,\n",
       "  <tf.Tensor: shape=(), dtype=float32, numpy=1.0>],\n",
       " [<tf.Tensor: shape=(), dtype=float32, numpy=1.0>,\n",
       "  <tf.Tensor: shape=(), dtype=float32, numpy=2.0>]]"
      ]
     },
     "metadata": {},
     "execution_count": 92
    }
   ]
  },
  {
   "source": [
    "hessian_2 = hessian_tape.gradient(jacobians,[x1,x2])"
   ],
   "cell_type": "code",
   "metadata": {},
   "execution_count": 93,
   "outputs": []
  },
  {
   "cell_type": "code",
   "execution_count": 94,
   "metadata": {},
   "outputs": [
    {
     "output_type": "execute_result",
     "data": {
      "text/plain": [
       "[<tf.Tensor: shape=(), dtype=float32, numpy=121.0>,\n",
       " <tf.Tensor: shape=(), dtype=float32, numpy=3.0>]"
      ]
     },
     "metadata": {},
     "execution_count": 94
    }
   ],
   "source": [
    "hessian_2"
   ]
  },
  {
   "source": [
    "If we do not call the jacobian for each partial derivative in the list jacobians, the hessians become the some of each first partial derivative"
   ],
   "cell_type": "markdown",
   "metadata": {}
  },
  {
   "source": [
    "<h3> Writing Custom Training Loops </h3> "
   ],
   "cell_type": "markdown",
   "metadata": {}
  },
  {
   "cell_type": "code",
   "execution_count": 95,
   "metadata": {},
   "outputs": [],
   "source": [
    "#building a model\n",
    "l2_reg = keras.regularizers.l2(0.05)\n",
    "model_custom = keras.models.Sequential()\n",
    "model_custom.add(keras.layers.Dense(30,activation = 'elu',kernel_initializer = \"he_normal\", kernel_regularizer = l2_reg))\n",
    "model_custom.add(keras.layers.Dense(1, kernel_regularizer = l2_reg))"
   ]
  },
  {
   "cell_type": "code",
   "execution_count": 96,
   "metadata": {},
   "outputs": [],
   "source": [
    "def random_batch(X,y, batch_size = 32):\n",
    "    idx = np.random.randint(len(X), size = batch_size)\n",
    "    return X[idx],y[idx]"
   ]
  },
  {
   "cell_type": "code",
   "execution_count": 97,
   "metadata": {},
   "outputs": [],
   "source": [
    "def print_status_bar(iteration, total, loss, metrics = None):\n",
    "    metrics_or_loss = '-'.join(['{}:{:.4f}'.format(m.name,m.result()) for m in [loss] + (metrics or [])])\n",
    "    end = \"\" if iteration < loss else \"\\n\"\n",
    "    print(\"\\r{}/{} - \".format(iteration,total) + metrics_or_loss, end = end)"
   ]
  },
  {
   "cell_type": "code",
   "execution_count": 98,
   "metadata": {},
   "outputs": [],
   "source": [
    "from sklearn.datasets import fetch_california_housing\n",
    "from sklearn.preprocessing import StandardScaler\n",
    "from sklearn.model_selection import train_test_split"
   ]
  },
  {
   "cell_type": "code",
   "execution_count": 99,
   "metadata": {},
   "outputs": [],
   "source": [
    "housing = fetch_california_housing()\n",
    "X_train_full, X_test, y_train_full, y_test = train_test_split(\n",
    "    housing.data, housing.target.reshape(-1, 1), random_state=42)\n",
    "X_train, X_valid, y_train, y_valid = train_test_split(\n",
    "    X_train_full, y_train_full, random_state=42)\n",
    "\n",
    "scaler = StandardScaler()\n",
    "X_train_scaled = scaler.fit_transform(X_train)\n",
    "X_valid_scaled = scaler.transform(X_valid)\n",
    "X_test_scaled = scaler.transform(X_test)"
   ]
  },
  {
   "cell_type": "code",
   "execution_count": 100,
   "metadata": {},
   "outputs": [],
   "source": [
    "n_epochs = 5\n",
    "batch_size = 32\n",
    "n_steps_per_epoch = X_train_scaled.shape[0]/batch_size\n",
    "optimizer = keras.optimizers.Nadam(lr = 0.01)\n",
    "loss_fn = keras.losses.mean_squared_error\n",
    "mean_loss = keras.metrics.Mean()\n",
    "metrics = [keras.metrics.MeanAbsoluteError()]"
   ]
  },
  {
   "cell_type": "code",
   "execution_count": 101,
   "metadata": {},
   "outputs": [
    {
     "output_type": "stream",
     "name": "stdout",
     "text": [
      "Epoch 1/5\n"
     ]
    },
    {
     "output_type": "error",
     "ename": "TypeError",
     "evalue": "'float' object cannot be interpreted as an integer",
     "traceback": [
      "\u001b[1;31m---------------------------------------------------------------------------\u001b[0m",
      "\u001b[1;31mTypeError\u001b[0m                                 Traceback (most recent call last)",
      "\u001b[1;32m<ipython-input-101-bbcaa7aa9bf6>\u001b[0m in \u001b[0;36m<module>\u001b[1;34m\u001b[0m\n\u001b[0;32m      1\u001b[0m \u001b[1;32mfor\u001b[0m \u001b[0mepoch\u001b[0m \u001b[1;32min\u001b[0m \u001b[0mrange\u001b[0m\u001b[1;33m(\u001b[0m\u001b[1;36m1\u001b[0m\u001b[1;33m,\u001b[0m\u001b[0mn_epochs\u001b[0m \u001b[1;33m+\u001b[0m \u001b[1;36m1\u001b[0m\u001b[1;33m)\u001b[0m\u001b[1;33m:\u001b[0m\u001b[1;33m\u001b[0m\u001b[1;33m\u001b[0m\u001b[0m\n\u001b[0;32m      2\u001b[0m     \u001b[0mprint\u001b[0m\u001b[1;33m(\u001b[0m\u001b[1;34m\"Epoch {}/{}\"\u001b[0m\u001b[1;33m.\u001b[0m\u001b[0mformat\u001b[0m\u001b[1;33m(\u001b[0m\u001b[0mepoch\u001b[0m\u001b[1;33m,\u001b[0m \u001b[0mn_epochs\u001b[0m\u001b[1;33m)\u001b[0m\u001b[1;33m)\u001b[0m\u001b[1;33m\u001b[0m\u001b[1;33m\u001b[0m\u001b[0m\n\u001b[1;32m----> 3\u001b[1;33m     \u001b[1;32mfor\u001b[0m \u001b[0mstep\u001b[0m \u001b[1;32min\u001b[0m \u001b[0mrange\u001b[0m\u001b[1;33m(\u001b[0m\u001b[1;36m1\u001b[0m\u001b[1;33m,\u001b[0m\u001b[0mn_steps_per_epoch\u001b[0m \u001b[1;33m+\u001b[0m \u001b[1;36m1\u001b[0m\u001b[1;33m)\u001b[0m\u001b[1;33m:\u001b[0m\u001b[1;33m\u001b[0m\u001b[1;33m\u001b[0m\u001b[0m\n\u001b[0m\u001b[0;32m      4\u001b[0m         \u001b[0mX_batch\u001b[0m\u001b[1;33m,\u001b[0m\u001b[0my_batch\u001b[0m \u001b[1;33m=\u001b[0m \u001b[0mrandom_batch\u001b[0m\u001b[1;33m(\u001b[0m\u001b[0mX_train_scaled\u001b[0m\u001b[1;33m,\u001b[0m\u001b[0my_train\u001b[0m\u001b[1;33m)\u001b[0m\u001b[1;33m\u001b[0m\u001b[1;33m\u001b[0m\u001b[0m\n\u001b[0;32m      5\u001b[0m         \u001b[1;32mwith\u001b[0m \u001b[0mtf\u001b[0m\u001b[1;33m.\u001b[0m\u001b[0mGradientTape\u001b[0m\u001b[1;33m(\u001b[0m\u001b[1;33m)\u001b[0m \u001b[1;32mas\u001b[0m \u001b[0mtape\u001b[0m\u001b[1;33m:\u001b[0m\u001b[1;33m\u001b[0m\u001b[1;33m\u001b[0m\u001b[0m\n",
      "\u001b[1;31mTypeError\u001b[0m: 'float' object cannot be interpreted as an integer"
     ]
    }
   ],
   "source": [
    "for epoch in range(1,n_epochs + 1):\n",
    "    print(\"Epoch {}/{}\".format(epoch, n_epochs))\n",
    "    for step in range(1,n_steps_per_epoch + 1):\n",
    "        X_batch,y_batch = random_batch(X_train_scaled,y_train)\n",
    "        with tf.GradientTape() as tape:\n",
    "            y_pred = model_custom(X_batch)\n",
    "            loss = tf.add_n(model_custom.losses, mean_loss(loss_fn(y_batch,y_pred)))\n",
    "        grad = tape.gradient(loss, model.trainable_variables)\n",
    "        "
   ]
  },
  {
   "cell_type": "code",
   "execution_count": 124,
   "metadata": {},
   "outputs": [],
   "source": [
    "X_batch,y_batch = random_batch(X_train_scaled,y_train)"
   ]
  },
  {
   "cell_type": "code",
   "execution_count": 125,
   "metadata": {},
   "outputs": [],
   "source": [
    "y_pred = model_custom(X_batch)"
   ]
  },
  {
   "cell_type": "code",
   "execution_count": 126,
   "metadata": {},
   "outputs": [
    {
     "output_type": "execute_result",
     "data": {
      "text/plain": [
       "<tf.Tensor: shape=(32,), dtype=float32, numpy=\n",
       "array([3.7750752e+00, 8.7664551e-01, 1.6342984e-01, 2.0231834e+01,\n",
       "       4.0239644e+00, 1.2731744e+01, 4.5532937e+00, 1.0202341e+01,\n",
       "       4.3532410e+00, 1.1956502e+01, 4.5054402e+00, 4.6176765e-02,\n",
       "       6.3036221e-01, 7.8236265e-03, 3.6088729e+00, 2.8521307e+00,\n",
       "       1.8072631e+00, 5.1269202e+00, 2.0749578e+00, 5.1104884e+00,\n",
       "       2.2987299e+00, 1.4141642e+00, 3.3975153e+00, 5.1092470e-01,\n",
       "       1.1012134e+01, 5.9215255e+00, 2.9401927e+00, 8.0327368e+00,\n",
       "       1.8712255e+01, 5.4398708e+00, 2.9818167e+01, 3.1169047e+00],\n",
       "      dtype=float32)>"
      ]
     },
     "metadata": {},
     "execution_count": 126
    }
   ],
   "source": [
    "loss_fn(y_batch,y_pred)"
   ]
  },
  {
   "cell_type": "code",
   "execution_count": 122,
   "metadata": {},
   "outputs": [
    {
     "output_type": "execute_result",
     "data": {
      "text/plain": [
       "<tf.Tensor: shape=(), dtype=float32, numpy=5.5209675>"
      ]
     },
     "metadata": {},
     "execution_count": 122
    }
   ],
   "source": [
    "tf.reduce_mean(loss_fn(y_batch,y_pred))"
   ]
  },
  {
   "cell_type": "code",
   "execution_count": 117,
   "metadata": {},
   "outputs": [
    {
     "output_type": "execute_result",
     "data": {
      "text/plain": [
       "<tf.Tensor: shape=(), dtype=float32, numpy=6.099476>"
      ]
     },
     "metadata": {},
     "execution_count": 117
    }
   ],
   "source": [
    "mean_loss(loss_fn(y_batch,y_pred))"
   ]
  },
  {
   "cell_type": "code",
   "execution_count": 127,
   "metadata": {},
   "outputs": [
    {
     "output_type": "execute_result",
     "data": {
      "text/plain": [
       "[<tf.Tensor: shape=(), dtype=float32, numpy=5.976676>,\n",
       " <tf.Tensor: shape=(), dtype=float32, numpy=2.7362802>,\n",
       " <tf.Tensor: shape=(), dtype=float32, numpy=0.1013649>]"
      ]
     },
     "metadata": {},
     "execution_count": 127
    }
   ],
   "source": [
    "[tf.reduce_mean(loss_fn(y_batch,y_pred))] + model_custom.losses"
   ]
  },
  {
   "source": [
    "model_custom.losses"
   ],
   "cell_type": "code",
   "metadata": {},
   "execution_count": 129,
   "outputs": [
    {
     "output_type": "execute_result",
     "data": {
      "text/plain": [
       "False"
      ]
     },
     "metadata": {},
     "execution_count": 129
    }
   ]
  },
  {
   "cell_type": "code",
   "execution_count": null,
   "metadata": {},
   "outputs": [],
   "source": []
  }
 ]
}