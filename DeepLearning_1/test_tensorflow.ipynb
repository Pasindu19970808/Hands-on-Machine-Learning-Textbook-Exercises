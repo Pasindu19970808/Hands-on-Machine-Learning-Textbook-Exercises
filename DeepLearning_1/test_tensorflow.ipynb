{
 "metadata": {
  "language_info": {
   "codemirror_mode": {
    "name": "ipython",
    "version": 3
   },
   "file_extension": ".py",
   "mimetype": "text/x-python",
   "name": "python",
   "nbconvert_exporter": "python",
   "pygments_lexer": "ipython3",
   "version": "3.8.8-final"
  },
  "orig_nbformat": 2,
  "kernelspec": {
   "name": "python388jvsc74a57bd0965ba1120b0c101b3f715b6e258a73742ec1cf86f2c8b04492724c87d9f112c3",
   "display_name": "Python 3.8.8 64-bit"
  },
  "metadata": {
   "interpreter": {
    "hash": "965ba1120b0c101b3f715b6e258a73742ec1cf86f2c8b04492724c87d9f112c3"
   }
  }
 },
 "nbformat": 4,
 "nbformat_minor": 2,
 "cells": [
  {
   "cell_type": "code",
   "execution_count": 2,
   "metadata": {},
   "outputs": [],
   "source": [
    "import tensorflow as tf\n",
    "from tensorflow import keras"
   ]
  },
  {
   "cell_type": "code",
   "execution_count": 3,
   "metadata": {},
   "outputs": [],
   "source": [
    "fashion_mnist = keras.datasets.fashion_mnist\n",
    "(X_train_full, y_train_full),(X_test, y_test) = fashion_mnist.load_data()"
   ]
  },
  {
   "cell_type": "code",
   "execution_count": 4,
   "metadata": {},
   "outputs": [],
   "source": [
    "import matplotlib as mpl\n",
    "import matplotlib.pyplot as plt"
   ]
  },
  {
   "cell_type": "code",
   "execution_count": 5,
   "metadata": {},
   "outputs": [
    {
     "output_type": "execute_result",
     "data": {
      "text/plain": [
       "<matplotlib.image.AxesImage at 0x2440843c850>"
      ]
     },
     "metadata": {},
     "execution_count": 5
    },
    {
     "output_type": "display_data",
     "data": {
      "text/plain": "<Figure size 432x288 with 1 Axes>",
      "image/svg+xml": "<?xml version=\"1.0\" encoding=\"utf-8\" standalone=\"no\"?>\r\n<!DOCTYPE svg PUBLIC \"-//W3C//DTD SVG 1.1//EN\"\r\n  \"http://www.w3.org/Graphics/SVG/1.1/DTD/svg11.dtd\">\r\n<!-- Created with matplotlib (https://matplotlib.org/) -->\r\n<svg height=\"248.518125pt\" version=\"1.1\" viewBox=\"0 0 251.565 248.518125\" width=\"251.565pt\" xmlns=\"http://www.w3.org/2000/svg\" xmlns:xlink=\"http://www.w3.org/1999/xlink\">\r\n <metadata>\r\n  <rdf:RDF xmlns:cc=\"http://creativecommons.org/ns#\" xmlns:dc=\"http://purl.org/dc/elements/1.1/\" xmlns:rdf=\"http://www.w3.org/1999/02/22-rdf-syntax-ns#\">\r\n   <cc:Work>\r\n    <dc:type rdf:resource=\"http://purl.org/dc/dcmitype/StillImage\"/>\r\n    <dc:date>2021-04-10T11:31:08.083528</dc:date>\r\n    <dc:format>image/svg+xml</dc:format>\r\n    <dc:creator>\r\n     <cc:Agent>\r\n      <dc:title>Matplotlib v3.3.4, https://matplotlib.org/</dc:title>\r\n     </cc:Agent>\r\n    </dc:creator>\r\n   </cc:Work>\r\n  </rdf:RDF>\r\n </metadata>\r\n <defs>\r\n  <style type=\"text/css\">*{stroke-linecap:butt;stroke-linejoin:round;}</style>\r\n </defs>\r\n <g id=\"figure_1\">\r\n  <g id=\"patch_1\">\r\n   <path d=\"M 0 248.518125 \r\nL 251.565 248.518125 \r\nL 251.565 0 \r\nL 0 0 \r\nz\r\n\" style=\"fill:none;\"/>\r\n  </g>\r\n  <g id=\"axes_1\">\r\n   <g id=\"patch_2\">\r\n    <path d=\"M 26.925 224.64 \r\nL 244.365 224.64 \r\nL 244.365 7.2 \r\nL 26.925 7.2 \r\nz\r\n\" style=\"fill:#ffffff;\"/>\r\n   </g>\r\n   <g clip-path=\"url(#p02d52d2e3f)\">\r\n    <image height=\"218\" id=\"imagefe298cffb7\" transform=\"scale(1 -1)translate(0 -218)\" width=\"218\" x=\"26.925\" xlink:href=\"data:image/png;base64,\r\niVBORw0KGgoAAAANSUhEUgAAANoAAADaCAYAAADAHVzbAAAMRUlEQVR4nO3dW4xdZRnG8W/tvfZhTrsz05Z2YNpiKQVjohxE0ggeSKPGC+GiiV5woyZGryQxIRpNvDNGo4mJFyYmJkoELzRCDEQIF4gVCMpBDi10gGKlR6Z0ZvZh9mHttb3Su+95ocv9bsT/7/bpWvswffZK1pvvW8nB5NAoTMixn98g8/J0JvOtf6xHs/m7HtcvniQ6t4wm9rX931r56Y0yX9hzQebVexZl3rj7iXf8nt6u0tjODOA/KBrggKIBDiga4ICiAQ4oGuCAogEO0rGefGmnzK+64pTMD2w9LvNfnr85ms3fJQ9lDvY/6Mef/rXMH177gMwfvGarzBt3v+O39LZxRQMcUDTAAUUDHFA0wAFFAxxQNMABRQMcjHWOlrfaMh+O5mU+GJVlXlm/+N+J175/QOZZYyjz2qp+b+qtJ/rUJuNrCSNrqZ3Ik9w4NNMn71/elfny7+P/5abufVIeWwr6zeXqg4UQKusF1yAWwBUNcEDRAAcUDXBA0QAHFA1wQNEAB2O9vR8GAxnPpH2ZT5d0nhRY6fL5zxyW+SNnrpT52s4pmS/Pr0Wz3lB/7f2hvn9f9CZ1SXxx5ZK+hb7ampH5rZcfkfm9J+JjlcvvlYeGmVJP5tWS3p7QGl2ME1c0wAFFAxxQNMABRQMcUDTAAUUDHFA0wMFY52gjY0s3a1mDZTB78YO0tcG0zDv9isx7XZ2vnLzkHb+nfxsNjd+/kv7ciTVgVMtkjD9JpapnVae7DZlPn4m/QGlGz+jWhjrfHOq/SUmPdceKKxrggKIBDiga4ICiAQ4oGuCAogEOKBrgYLzr0QyloOc95nZzy3o7O2W+0pH5vsVVfYJFHadi8VOtrGdRg9zYT85QMhZe5aP472vfeO2uMataqm/I/KWW+Jvv2y2PHYYXZF4xPrexXG2suKIBDiga4ICiAQ4oGuCAogEOKBrggKIBDiY7RzPmHtYc7eod56LZpvHa1rnV3ochhNAa1IxXEOfOCmxIGez5YybmZCGEkOXxPDX2ddzo1WUe9HK0UF+PP7Nqc3lWHjsY6f+u5vrGYl97IVzRAAcUDXBA0QAHFA1wQNEABxQNcEDRAAdjnaMlxiaB1qzK2qfvY1tXotmDxkCnl+uPbs2q1HozizU/7BvvzRoXWe+tmsYXZlmvbf3N6sbmidX1+Gufu1bP6Nq5nl1af7Miz9Mriisa4ICiAQ4oGuCAogEOKBrggKIBDsZ6ez/vdmVeSvRjeKylLPtqZ6KZdXu/nelbxUUfKaVu4Xeyqjy2Wo4vJflvsLaMU8rGMhrzFvsgfnx7tz53a6hv/9eM0UJpMLn7+1zRAAcUDXBA0QAHFA1wQNEABxQNcEDRAAcT3W5u19QFmfdyPe+xth9TzvemZW5tu2YtdbGOl+cuuJ2cNQJUj4WyHik1U+nL3Jo/Jnn8s9WWW/LYTq7nj9YSnmS840mJKxrggKIBDiga4ICiAQ4oGuCAogEOKBrgYKJztEla70/JfMdUU+Z9Y4aXiTHa0JqDGax5kTWHK4sZoHXu2bQnczWjCyGEcjs+h/vEnuPy2M5Qz9EqxqCM7eaA9ziKBjigaIADigY4oGiAA4oGOKBogIOJztGsmY1lKNY+pTt3yGNbWbHHE6UlPbNRx1trvqxz5yO95staC9cdxj97vaz3Rpwy8qHx252043t97p+O79MZQgin+/MyLwf9uct6m9Gx4ooGOKBogAOKBjigaIADigY4oGiAg3f1Mplert9eVSyLyHZfIo9tdvUtduOpTyZ1Cz41tqqzbt9nxuOsjLvccplOtcDY4u0Y1eOPy8qN5UNZrvPpVG+FVxry2CbgPY2iAQ4oGuCAogEOKBrggKIBDiga4GCic7SBMQ+y5kmVJD4L622ry2O7m3rmUjHmSa1BfB4UQghVYymMYm4nNyo2D5pK40tdrM/dM7aTs2Zd3eW5aLYt3ZDHrg5mZa620QshhOrGxT9KqyiuaIADigY4oGiAA4oGOKBogAOKBjigaICDic7RMmMms1hty7yexOdB/YY+92CzInNrzVjfeO+52AqvZ2x1VykXW5c1MuaPiZjTWY9d6mT6e2sYj3XqbL/4/3IvNfUWglfMrsp8+oSe041zysYVDXBA0QAHFA1wQNEABxQNcEDRAAcUDXAw0Tnaoyf3ynxprilztV6tvVP/hlSmrMcT6fVqe2fPy7xW0udX7HV6+rOVjBmgfKRUSa+js2Z4T7+1Sx8/Hc+O9/RenEfO7JT5SmW7zHe9/obMx4krGuCAogEOKBrggKIBDiga4ICiAQ4oGuBgonO0zZfnZb5w01mZ39w4Fs3uu+FD8tjaczMyv//09TKfecNYEyZGYcZj38JwSu/baD0ezZJk4tltm/pYazxobL0YujfE55Pf2faCPPbVzjaZ/2rPozI/eN2XZF5+5GmZF8EVDXBA0QAHFA1wQNEABxQNcEDRAAfJweRQsWcAFXD9M3o5R2uoH4301Gp8ScbWqY5+7fkTMv/u9iMyt7TybjR7K9dLUbrGdnFDI++M9PygnsQfzbTFeGzTcqrv37/Y1/OBb//jtmi2sqpv39cfash8MKu/l6UfPSbzceKKBjigaIADigY4oGiAA4oGOKBogAOKBjiY6BytfehGmZ/6pD4+XYzPqn7w4d/JY79x/+0yX/qz/lp6W/Rv1MYV8SybMb5yK06NZTQVnSf9+LwpyfUsav6ozqtN/doXbos/iisb6PlfvlaV+Tdv+YPM77vlgzLPTp+ReRFc0QAHFA1wQNEABxQNcEDRAAcUDXBA0QAHE52jHfvZR/Q/MN7Z0p/ivxPGk4tCbU2vCfvCTx6QeTnoF3i1G38E0ZGNJXnsyeYWmfcyvd/cyFivlojHNu2Ya8ljv7x8WOa/Pae36WvdsSOaldb1GsLRKb39YN7Rx08SVzTAAUUDHFA0wAFFAxxQNMABRQMcUDTAwUTnaJbylXtl/soX4zOZ2vvX5bGXfc+YRf31eZkXUW7o/QmTOb134mhmSuZ5Q+fDqUo0S5s9fe5ni+13qfby/FRDP7bpZLYg8xc7l8n8qWsnd13higY4oGiAA4oGOKBogAOKBjigaIADigY40BvpjdmbXzsg8zvv+I3M14bT0awingEWQgiVu/R6tNVMz7oOvyU2bgwh/P3EcjQrn6jLY9O2Xk9W1qOuUGnr0WhpEM+GNT2DW/uKXkP49Y8/JPNz/fj3eri9Xx67u7oq84dPXSXzhbAi83HiigY4oGiAA4oGOKBogAOKBjigaICDid7e3/5M/BE+IYTQHcWXc4QQwmPr8VvsjVTfA7+0tibzTq4fEXTT4qsyv3Hh9WhWukZvVWeNJvKR/n2sqfv3QW+VNxjp/xIlYx+/Xq7/Ztsq8e3snm3GRyIhhHBhEB/nhBBCs6PHJnqRzXhxRQMcUDTAAUUDHFA0wAFFAxxQNMABRQMcTHSOlp7bkPlf1q+U+bnNuWh2eqQfffRcdqnMF+v6EUDVsl5mk4p5U2bMwfpD/Wfp53qrvPnqpsyX6vGt+Kw52OZQ571cv/ez4m82GOrPVdui54v1R+LnnjSuaIADigY4oGiAA4oGOKBogAOKBjigaICDic7Rstdel/nz5/fJfN98fPux4xuL8th6qudg6329tqmb6a9umMd/wzb7xiyqp8+d9XWeVvS8ab4RnxFa30spKfaUr3IpPl9s1Lry2GZWk/nS3Udlrr+V8eKKBjigaIADigY4oGiAA4oGOKBogAOKBjgY7xwt0Y8fCiM9k1n4lp43Hbgnvreitf/gWl/vEbiZ6deulfVUpi3WVnXaeh40PaP3pExT/dn6xpxN7X+4sHhBHlsz5myzxn6ac5X4rOzN7qw89pVf6Mcybb3wuMwniSsa4ICiAQ4oGuCAogEOKBrggKIBDpKDyaFi6x7k2Yvd3reky5dFs6N36kcAfe6jT8l8IdXbzZ3tN2Q+l8ZvY3918bA89n0VfZvb0sr1cpMHOjui2aPrV8tjt1ebMj/a2inzvz2xP5pd9cPj8tjszFmZv5txRQMcUDTAAUUDHFA0wAFFAxxQNMABRQMcjHeOZr76eOdsRaR7dsn89Gf1nG7/7S9Hs3825/W5V7bLvNTT39vQeLzRrdc9E83ue/YaeezVd8Q/Vwgh5E09ZyvkXfz/xcIVDXBA0QAHFA1wQNEABxQNcEDRAAcUDXDwLycx9QL/kyOkAAAAAElFTkSuQmCC\" y=\"-6.64\"/>\r\n   </g>\r\n   <g id=\"matplotlib.axis_1\">\r\n    <g id=\"xtick_1\">\r\n     <g id=\"line2d_1\">\r\n      <defs>\r\n       <path d=\"M 0 0 \r\nL 0 3.5 \r\n\" id=\"m6f968079ed\" style=\"stroke:#000000;stroke-width:0.8;\"/>\r\n      </defs>\r\n      <g>\r\n       <use style=\"stroke:#000000;stroke-width:0.8;\" x=\"30.807857\" xlink:href=\"#m6f968079ed\" y=\"224.64\"/>\r\n      </g>\r\n     </g>\r\n     <g id=\"text_1\">\r\n      <!-- 0 -->\r\n      <g transform=\"translate(27.626607 239.238437)scale(0.1 -0.1)\">\r\n       <defs>\r\n        <path d=\"M 31.78125 66.40625 \r\nQ 24.171875 66.40625 20.328125 58.90625 \r\nQ 16.5 51.421875 16.5 36.375 \r\nQ 16.5 21.390625 20.328125 13.890625 \r\nQ 24.171875 6.390625 31.78125 6.390625 \r\nQ 39.453125 6.390625 43.28125 13.890625 \r\nQ 47.125 21.390625 47.125 36.375 \r\nQ 47.125 51.421875 43.28125 58.90625 \r\nQ 39.453125 66.40625 31.78125 66.40625 \r\nz\r\nM 31.78125 74.21875 \r\nQ 44.046875 74.21875 50.515625 64.515625 \r\nQ 56.984375 54.828125 56.984375 36.375 \r\nQ 56.984375 17.96875 50.515625 8.265625 \r\nQ 44.046875 -1.421875 31.78125 -1.421875 \r\nQ 19.53125 -1.421875 13.0625 8.265625 \r\nQ 6.59375 17.96875 6.59375 36.375 \r\nQ 6.59375 54.828125 13.0625 64.515625 \r\nQ 19.53125 74.21875 31.78125 74.21875 \r\nz\r\n\" id=\"DejaVuSans-48\"/>\r\n       </defs>\r\n       <use xlink:href=\"#DejaVuSans-48\"/>\r\n      </g>\r\n     </g>\r\n    </g>\r\n    <g id=\"xtick_2\">\r\n     <g id=\"line2d_2\">\r\n      <g>\r\n       <use style=\"stroke:#000000;stroke-width:0.8;\" x=\"69.636429\" xlink:href=\"#m6f968079ed\" y=\"224.64\"/>\r\n      </g>\r\n     </g>\r\n     <g id=\"text_2\">\r\n      <!-- 5 -->\r\n      <g transform=\"translate(66.455179 239.238437)scale(0.1 -0.1)\">\r\n       <defs>\r\n        <path d=\"M 10.796875 72.90625 \r\nL 49.515625 72.90625 \r\nL 49.515625 64.59375 \r\nL 19.828125 64.59375 \r\nL 19.828125 46.734375 \r\nQ 21.96875 47.46875 24.109375 47.828125 \r\nQ 26.265625 48.1875 28.421875 48.1875 \r\nQ 40.625 48.1875 47.75 41.5 \r\nQ 54.890625 34.8125 54.890625 23.390625 \r\nQ 54.890625 11.625 47.5625 5.09375 \r\nQ 40.234375 -1.421875 26.90625 -1.421875 \r\nQ 22.3125 -1.421875 17.546875 -0.640625 \r\nQ 12.796875 0.140625 7.71875 1.703125 \r\nL 7.71875 11.625 \r\nQ 12.109375 9.234375 16.796875 8.0625 \r\nQ 21.484375 6.890625 26.703125 6.890625 \r\nQ 35.15625 6.890625 40.078125 11.328125 \r\nQ 45.015625 15.765625 45.015625 23.390625 \r\nQ 45.015625 31 40.078125 35.4375 \r\nQ 35.15625 39.890625 26.703125 39.890625 \r\nQ 22.75 39.890625 18.8125 39.015625 \r\nQ 14.890625 38.140625 10.796875 36.28125 \r\nz\r\n\" id=\"DejaVuSans-53\"/>\r\n       </defs>\r\n       <use xlink:href=\"#DejaVuSans-53\"/>\r\n      </g>\r\n     </g>\r\n    </g>\r\n    <g id=\"xtick_3\">\r\n     <g id=\"line2d_3\">\r\n      <g>\r\n       <use style=\"stroke:#000000;stroke-width:0.8;\" x=\"108.465\" xlink:href=\"#m6f968079ed\" y=\"224.64\"/>\r\n      </g>\r\n     </g>\r\n     <g id=\"text_3\">\r\n      <!-- 10 -->\r\n      <g transform=\"translate(102.1025 239.238437)scale(0.1 -0.1)\">\r\n       <defs>\r\n        <path d=\"M 12.40625 8.296875 \r\nL 28.515625 8.296875 \r\nL 28.515625 63.921875 \r\nL 10.984375 60.40625 \r\nL 10.984375 69.390625 \r\nL 28.421875 72.90625 \r\nL 38.28125 72.90625 \r\nL 38.28125 8.296875 \r\nL 54.390625 8.296875 \r\nL 54.390625 0 \r\nL 12.40625 0 \r\nz\r\n\" id=\"DejaVuSans-49\"/>\r\n       </defs>\r\n       <use xlink:href=\"#DejaVuSans-49\"/>\r\n       <use x=\"63.623047\" xlink:href=\"#DejaVuSans-48\"/>\r\n      </g>\r\n     </g>\r\n    </g>\r\n    <g id=\"xtick_4\">\r\n     <g id=\"line2d_4\">\r\n      <g>\r\n       <use style=\"stroke:#000000;stroke-width:0.8;\" x=\"147.293571\" xlink:href=\"#m6f968079ed\" y=\"224.64\"/>\r\n      </g>\r\n     </g>\r\n     <g id=\"text_4\">\r\n      <!-- 15 -->\r\n      <g transform=\"translate(140.931071 239.238437)scale(0.1 -0.1)\">\r\n       <use xlink:href=\"#DejaVuSans-49\"/>\r\n       <use x=\"63.623047\" xlink:href=\"#DejaVuSans-53\"/>\r\n      </g>\r\n     </g>\r\n    </g>\r\n    <g id=\"xtick_5\">\r\n     <g id=\"line2d_5\">\r\n      <g>\r\n       <use style=\"stroke:#000000;stroke-width:0.8;\" x=\"186.122143\" xlink:href=\"#m6f968079ed\" y=\"224.64\"/>\r\n      </g>\r\n     </g>\r\n     <g id=\"text_5\">\r\n      <!-- 20 -->\r\n      <g transform=\"translate(179.759643 239.238437)scale(0.1 -0.1)\">\r\n       <defs>\r\n        <path d=\"M 19.1875 8.296875 \r\nL 53.609375 8.296875 \r\nL 53.609375 0 \r\nL 7.328125 0 \r\nL 7.328125 8.296875 \r\nQ 12.9375 14.109375 22.625 23.890625 \r\nQ 32.328125 33.6875 34.8125 36.53125 \r\nQ 39.546875 41.84375 41.421875 45.53125 \r\nQ 43.3125 49.21875 43.3125 52.78125 \r\nQ 43.3125 58.59375 39.234375 62.25 \r\nQ 35.15625 65.921875 28.609375 65.921875 \r\nQ 23.96875 65.921875 18.8125 64.3125 \r\nQ 13.671875 62.703125 7.8125 59.421875 \r\nL 7.8125 69.390625 \r\nQ 13.765625 71.78125 18.9375 73 \r\nQ 24.125 74.21875 28.421875 74.21875 \r\nQ 39.75 74.21875 46.484375 68.546875 \r\nQ 53.21875 62.890625 53.21875 53.421875 \r\nQ 53.21875 48.921875 51.53125 44.890625 \r\nQ 49.859375 40.875 45.40625 35.40625 \r\nQ 44.1875 33.984375 37.640625 27.21875 \r\nQ 31.109375 20.453125 19.1875 8.296875 \r\nz\r\n\" id=\"DejaVuSans-50\"/>\r\n       </defs>\r\n       <use xlink:href=\"#DejaVuSans-50\"/>\r\n       <use x=\"63.623047\" xlink:href=\"#DejaVuSans-48\"/>\r\n      </g>\r\n     </g>\r\n    </g>\r\n    <g id=\"xtick_6\">\r\n     <g id=\"line2d_6\">\r\n      <g>\r\n       <use style=\"stroke:#000000;stroke-width:0.8;\" x=\"224.950714\" xlink:href=\"#m6f968079ed\" y=\"224.64\"/>\r\n      </g>\r\n     </g>\r\n     <g id=\"text_6\">\r\n      <!-- 25 -->\r\n      <g transform=\"translate(218.588214 239.238437)scale(0.1 -0.1)\">\r\n       <use xlink:href=\"#DejaVuSans-50\"/>\r\n       <use x=\"63.623047\" xlink:href=\"#DejaVuSans-53\"/>\r\n      </g>\r\n     </g>\r\n    </g>\r\n   </g>\r\n   <g id=\"matplotlib.axis_2\">\r\n    <g id=\"ytick_1\">\r\n     <g id=\"line2d_7\">\r\n      <defs>\r\n       <path d=\"M 0 0 \r\nL -3.5 0 \r\n\" id=\"m5046c8c913\" style=\"stroke:#000000;stroke-width:0.8;\"/>\r\n      </defs>\r\n      <g>\r\n       <use style=\"stroke:#000000;stroke-width:0.8;\" x=\"26.925\" xlink:href=\"#m5046c8c913\" y=\"11.082857\"/>\r\n      </g>\r\n     </g>\r\n     <g id=\"text_7\">\r\n      <!-- 0 -->\r\n      <g transform=\"translate(13.5625 14.882076)scale(0.1 -0.1)\">\r\n       <use xlink:href=\"#DejaVuSans-48\"/>\r\n      </g>\r\n     </g>\r\n    </g>\r\n    <g id=\"ytick_2\">\r\n     <g id=\"line2d_8\">\r\n      <g>\r\n       <use style=\"stroke:#000000;stroke-width:0.8;\" x=\"26.925\" xlink:href=\"#m5046c8c913\" y=\"49.911429\"/>\r\n      </g>\r\n     </g>\r\n     <g id=\"text_8\">\r\n      <!-- 5 -->\r\n      <g transform=\"translate(13.5625 53.710647)scale(0.1 -0.1)\">\r\n       <use xlink:href=\"#DejaVuSans-53\"/>\r\n      </g>\r\n     </g>\r\n    </g>\r\n    <g id=\"ytick_3\">\r\n     <g id=\"line2d_9\">\r\n      <g>\r\n       <use style=\"stroke:#000000;stroke-width:0.8;\" x=\"26.925\" xlink:href=\"#m5046c8c913\" y=\"88.74\"/>\r\n      </g>\r\n     </g>\r\n     <g id=\"text_9\">\r\n      <!-- 10 -->\r\n      <g transform=\"translate(7.2 92.539219)scale(0.1 -0.1)\">\r\n       <use xlink:href=\"#DejaVuSans-49\"/>\r\n       <use x=\"63.623047\" xlink:href=\"#DejaVuSans-48\"/>\r\n      </g>\r\n     </g>\r\n    </g>\r\n    <g id=\"ytick_4\">\r\n     <g id=\"line2d_10\">\r\n      <g>\r\n       <use style=\"stroke:#000000;stroke-width:0.8;\" x=\"26.925\" xlink:href=\"#m5046c8c913\" y=\"127.568571\"/>\r\n      </g>\r\n     </g>\r\n     <g id=\"text_10\">\r\n      <!-- 15 -->\r\n      <g transform=\"translate(7.2 131.36779)scale(0.1 -0.1)\">\r\n       <use xlink:href=\"#DejaVuSans-49\"/>\r\n       <use x=\"63.623047\" xlink:href=\"#DejaVuSans-53\"/>\r\n      </g>\r\n     </g>\r\n    </g>\r\n    <g id=\"ytick_5\">\r\n     <g id=\"line2d_11\">\r\n      <g>\r\n       <use style=\"stroke:#000000;stroke-width:0.8;\" x=\"26.925\" xlink:href=\"#m5046c8c913\" y=\"166.397143\"/>\r\n      </g>\r\n     </g>\r\n     <g id=\"text_11\">\r\n      <!-- 20 -->\r\n      <g transform=\"translate(7.2 170.196362)scale(0.1 -0.1)\">\r\n       <use xlink:href=\"#DejaVuSans-50\"/>\r\n       <use x=\"63.623047\" xlink:href=\"#DejaVuSans-48\"/>\r\n      </g>\r\n     </g>\r\n    </g>\r\n    <g id=\"ytick_6\">\r\n     <g id=\"line2d_12\">\r\n      <g>\r\n       <use style=\"stroke:#000000;stroke-width:0.8;\" x=\"26.925\" xlink:href=\"#m5046c8c913\" y=\"205.225714\"/>\r\n      </g>\r\n     </g>\r\n     <g id=\"text_12\">\r\n      <!-- 25 -->\r\n      <g transform=\"translate(7.2 209.024933)scale(0.1 -0.1)\">\r\n       <use xlink:href=\"#DejaVuSans-50\"/>\r\n       <use x=\"63.623047\" xlink:href=\"#DejaVuSans-53\"/>\r\n      </g>\r\n     </g>\r\n    </g>\r\n   </g>\r\n   <g id=\"patch_3\">\r\n    <path d=\"M 26.925 224.64 \r\nL 26.925 7.2 \r\n\" style=\"fill:none;stroke:#000000;stroke-linecap:square;stroke-linejoin:miter;stroke-width:0.8;\"/>\r\n   </g>\r\n   <g id=\"patch_4\">\r\n    <path d=\"M 244.365 224.64 \r\nL 244.365 7.2 \r\n\" style=\"fill:none;stroke:#000000;stroke-linecap:square;stroke-linejoin:miter;stroke-width:0.8;\"/>\r\n   </g>\r\n   <g id=\"patch_5\">\r\n    <path d=\"M 26.925 224.64 \r\nL 244.365 224.64 \r\n\" style=\"fill:none;stroke:#000000;stroke-linecap:square;stroke-linejoin:miter;stroke-width:0.8;\"/>\r\n   </g>\r\n   <g id=\"patch_6\">\r\n    <path d=\"M 26.925 7.2 \r\nL 244.365 7.2 \r\n\" style=\"fill:none;stroke:#000000;stroke-linecap:square;stroke-linejoin:miter;stroke-width:0.8;\"/>\r\n   </g>\r\n  </g>\r\n </g>\r\n <defs>\r\n  <clipPath id=\"p02d52d2e3f\">\r\n   <rect height=\"217.44\" width=\"217.44\" x=\"26.925\" y=\"7.2\"/>\r\n  </clipPath>\r\n </defs>\r\n</svg>\r\n",
      "image/png": "[encoded data removed]"
     },
     "metadata": {
      "needs_background": "light"
     }
    }
   ],
   "source": [
    "plt.imshow(X_train_full[5,:].reshape(28,28))"
   ]
  },
  {
   "cell_type": "code",
   "execution_count": 6,
   "metadata": {},
   "outputs": [],
   "source": [
    "#creating a validation set \n",
    "X_valid,X_train = X_train_full[:5000]/255.0,X_train_full[5000:]/255.0\n",
    "y_valid,y_train = y_train_full[:5000], y_train_full[5000:]"
   ]
  },
  {
   "cell_type": "code",
   "execution_count": 7,
   "metadata": {},
   "outputs": [],
   "source": [
    "class_names = [\"T-shirt/top\", \"Trouser\", \"Pullover\", \"Dress\", \"Coat\",\n",
    "\"Sandal\", \"Shirt\", \"Sneaker\", \"Bag\", \"Ankle boot\"]"
   ]
  },
  {
   "source": [
    "Building a neural network"
   ],
   "cell_type": "markdown",
   "metadata": {}
  },
  {
   "cell_type": "code",
   "execution_count": 8,
   "metadata": {},
   "outputs": [],
   "source": [
    "#creates a single stack of layers connected sequentially\n",
    "model = keras.models.Sequential()"
   ]
  },
  {
   "cell_type": "code",
   "execution_count": 9,
   "metadata": {},
   "outputs": [],
   "source": [
    "#this is a Flatten layer. It converts the specified input shape into a (-1,1) instance. \n",
    "model.add(keras.layers.Flatten(input_shape = [28,28]))"
   ]
  },
  {
   "cell_type": "code",
   "execution_count": 10,
   "metadata": {},
   "outputs": [],
   "source": [
    "#next we add the first hidden layer containing 300 neurons. It will use the Rectified Linear Unit Activation Function(ReLU). \n",
    "#This does not include bias terms \n",
    "model.add(keras.layers.Dense(300, activation = \"relu\"))"
   ]
  },
  {
   "cell_type": "code",
   "execution_count": 11,
   "metadata": {},
   "outputs": [],
   "source": [
    "#next we add another hidden layer with 100 neurons in it\n",
    "model.add(keras.layers.Dense(100, activation = \"relu\"))"
   ]
  },
  {
   "cell_type": "code",
   "execution_count": 12,
   "metadata": {},
   "outputs": [],
   "source": [
    "#last we add in the output layer which has 10 neurons for the 10 different classes\n",
    "model.add(keras.layers.Dense(10, activation = \"softmax\"))"
   ]
  },
  {
   "cell_type": "code",
   "execution_count": 13,
   "metadata": {},
   "outputs": [
    {
     "output_type": "stream",
     "name": "stdout",
     "text": [
      "Model: \"sequential\"\n_________________________________________________________________\nLayer (type)                 Output Shape              Param #   \n=================================================================\nflatten (Flatten)            (None, 784)               0         \n_________________________________________________________________\ndense (Dense)                (None, 300)               235500    \n_________________________________________________________________\ndense_1 (Dense)              (None, 100)               30100     \n_________________________________________________________________\ndense_2 (Dense)              (None, 10)                1010      \n=================================================================\nTotal params: 266,610\nTrainable params: 266,610\nNon-trainable params: 0\n_________________________________________________________________\n"
     ]
    }
   ],
   "source": [
    "model.summary()"
   ]
  },
  {
   "cell_type": "code",
   "execution_count": 14,
   "metadata": {},
   "outputs": [
    {
     "output_type": "execute_result",
     "data": {
      "text/plain": [
       "[<tensorflow.python.keras.layers.core.Flatten at 0x244085527c0>,\n",
       " <tensorflow.python.keras.layers.core.Dense at 0x2441ecde160>,\n",
       " <tensorflow.python.keras.layers.core.Dense at 0x2441ed67c70>,\n",
       " <tensorflow.python.keras.layers.core.Dense at 0x2441ed72f70>]"
      ]
     },
     "metadata": {},
     "execution_count": 14
    }
   ],
   "source": [
    "model.layers"
   ]
  },
  {
   "cell_type": "code",
   "execution_count": 15,
   "metadata": {},
   "outputs": [],
   "source": [
    "weights, biases = model.layers[1].get_weights()"
   ]
  },
  {
   "cell_type": "code",
   "execution_count": 16,
   "metadata": {},
   "outputs": [
    {
     "output_type": "execute_result",
     "data": {
      "text/plain": [
       "(784, 300)"
      ]
     },
     "metadata": {},
     "execution_count": 16
    }
   ],
   "source": [
    "weights.shape"
   ]
  },
  {
   "cell_type": "code",
   "execution_count": 17,
   "metadata": {},
   "outputs": [
    {
     "output_type": "execute_result",
     "data": {
      "text/plain": [
       "(300,)"
      ]
     },
     "metadata": {},
     "execution_count": 17
    }
   ],
   "source": [
    "biases.shape"
   ]
  },
  {
   "source": [
    "The shape of the weight matrix is dependant on the number of inputs. This is why input_shape should be specified in keras.layers.Flatten. "
   ],
   "cell_type": "markdown",
   "metadata": {}
  },
  {
   "cell_type": "code",
   "execution_count": 18,
   "metadata": {},
   "outputs": [],
   "source": [
    "#using compile method to specify the loss function, optimizer to use and extra metrics to compute during training \n",
    "model.compile(loss = \"sparse_categorical_crossentropy\",\n",
    "                optimizer = \"sgd\",\n",
    "                metrics = [\"accuracy\"])"
   ]
  },
  {
   "cell_type": "code",
   "execution_count": 19,
   "metadata": {},
   "outputs": [
    {
     "output_type": "execute_result",
     "data": {
      "text/plain": [
       "array([9, 0, 0, ..., 3, 0, 5], dtype=uint8)"
      ]
     },
     "metadata": {},
     "execution_count": 19
    }
   ],
   "source": [
    "y_train_full"
   ]
  },
  {
   "cell_type": "code",
   "execution_count": 20,
   "metadata": {},
   "outputs": [
    {
     "output_type": "execute_result",
     "data": {
      "text/plain": [
       "array([[0., 0., 0., ..., 0., 0., 1.],\n",
       "       [1., 0., 0., ..., 0., 0., 0.],\n",
       "       [1., 0., 0., ..., 0., 0., 0.],\n",
       "       ...,\n",
       "       [0., 0., 0., ..., 0., 0., 0.],\n",
       "       [1., 0., 0., ..., 0., 0., 0.],\n",
       "       [0., 0., 0., ..., 0., 0., 0.]], dtype=float32)"
      ]
     },
     "metadata": {},
     "execution_count": 20
    }
   ],
   "source": [
    "keras.utils.to_categorical(y_train_full)"
   ]
  },
  {
   "cell_type": "code",
   "execution_count": 21,
   "metadata": {},
   "outputs": [
    {
     "output_type": "stream",
     "name": "stdout",
     "text": [
      "Epoch 1/30\n",
      "1719/1719 [==============================] - 4s 2ms/step - loss: 0.9907 - accuracy: 0.6912 - val_loss: 0.4945 - val_accuracy: 0.8332\n",
      "Epoch 2/30\n",
      "1719/1719 [==============================] - 3s 2ms/step - loss: 0.4975 - accuracy: 0.8282 - val_loss: 0.4383 - val_accuracy: 0.8534\n",
      "Epoch 3/30\n",
      "1719/1719 [==============================] - 3s 2ms/step - loss: 0.4456 - accuracy: 0.8439 - val_loss: 0.4139 - val_accuracy: 0.8546\n",
      "Epoch 4/30\n",
      "1719/1719 [==============================] - 3s 2ms/step - loss: 0.4199 - accuracy: 0.8533 - val_loss: 0.3955 - val_accuracy: 0.8660\n",
      "Epoch 5/30\n",
      "1719/1719 [==============================] - 3s 2ms/step - loss: 0.3985 - accuracy: 0.8597 - val_loss: 0.4259 - val_accuracy: 0.8562\n",
      "Epoch 6/30\n",
      "1719/1719 [==============================] - 3s 2ms/step - loss: 0.3771 - accuracy: 0.8674 - val_loss: 0.3787 - val_accuracy: 0.8676\n",
      "Epoch 7/30\n",
      "1719/1719 [==============================] - 3s 2ms/step - loss: 0.3670 - accuracy: 0.8698 - val_loss: 0.4147 - val_accuracy: 0.8532\n",
      "Epoch 8/30\n",
      "1719/1719 [==============================] - 3s 2ms/step - loss: 0.3490 - accuracy: 0.8765 - val_loss: 0.3759 - val_accuracy: 0.8648\n",
      "Epoch 9/30\n",
      "1719/1719 [==============================] - 3s 2ms/step - loss: 0.3502 - accuracy: 0.8744 - val_loss: 0.3449 - val_accuracy: 0.8800\n",
      "Epoch 10/30\n",
      "1719/1719 [==============================] - 4s 2ms/step - loss: 0.3366 - accuracy: 0.8818 - val_loss: 0.3446 - val_accuracy: 0.8776\n",
      "Epoch 11/30\n",
      "1719/1719 [==============================] - 3s 2ms/step - loss: 0.3287 - accuracy: 0.8835 - val_loss: 0.3545 - val_accuracy: 0.8766\n",
      "Epoch 12/30\n",
      "1719/1719 [==============================] - 3s 2ms/step - loss: 0.3178 - accuracy: 0.8864 - val_loss: 0.3264 - val_accuracy: 0.8850\n",
      "Epoch 13/30\n",
      "1719/1719 [==============================] - 3s 2ms/step - loss: 0.3099 - accuracy: 0.8895 - val_loss: 0.3407 - val_accuracy: 0.8768\n",
      "Epoch 14/30\n",
      "1719/1719 [==============================] - 3s 2ms/step - loss: 0.2998 - accuracy: 0.8918 - val_loss: 0.3320 - val_accuracy: 0.8834\n",
      "Epoch 15/30\n",
      "1719/1719 [==============================] - 4s 2ms/step - loss: 0.2937 - accuracy: 0.8941 - val_loss: 0.3197 - val_accuracy: 0.8888\n",
      "Epoch 16/30\n",
      "1719/1719 [==============================] - 3s 2ms/step - loss: 0.2889 - accuracy: 0.8975 - val_loss: 0.3276 - val_accuracy: 0.8850\n",
      "Epoch 17/30\n",
      "1719/1719 [==============================] - 3s 2ms/step - loss: 0.2825 - accuracy: 0.8979 - val_loss: 0.3205 - val_accuracy: 0.8868\n",
      "Epoch 18/30\n",
      "1719/1719 [==============================] - 3s 2ms/step - loss: 0.2766 - accuracy: 0.9007 - val_loss: 0.3082 - val_accuracy: 0.8894\n",
      "Epoch 19/30\n",
      "1719/1719 [==============================] - 4s 2ms/step - loss: 0.2724 - accuracy: 0.9014 - val_loss: 0.3102 - val_accuracy: 0.8860\n",
      "Epoch 20/30\n",
      "1719/1719 [==============================] - 4s 2ms/step - loss: 0.2653 - accuracy: 0.9034 - val_loss: 0.3025 - val_accuracy: 0.8922\n",
      "Epoch 21/30\n",
      "1719/1719 [==============================] - 4s 2ms/step - loss: 0.2585 - accuracy: 0.9062 - val_loss: 0.3053 - val_accuracy: 0.8878\n",
      "Epoch 22/30\n",
      "1719/1719 [==============================] - 4s 2ms/step - loss: 0.2563 - accuracy: 0.9074 - val_loss: 0.3219 - val_accuracy: 0.8838\n",
      "Epoch 23/30\n",
      "1719/1719 [==============================] - 3s 2ms/step - loss: 0.2525 - accuracy: 0.9087 - val_loss: 0.3067 - val_accuracy: 0.8882\n",
      "Epoch 24/30\n",
      "1719/1719 [==============================] - 4s 2ms/step - loss: 0.2516 - accuracy: 0.9105 - val_loss: 0.3165 - val_accuracy: 0.8852\n",
      "Epoch 25/30\n",
      "1719/1719 [==============================] - 4s 2ms/step - loss: 0.2376 - accuracy: 0.9136 - val_loss: 0.2999 - val_accuracy: 0.8936\n",
      "Epoch 26/30\n",
      "1719/1719 [==============================] - 4s 2ms/step - loss: 0.2400 - accuracy: 0.9137 - val_loss: 0.3158 - val_accuracy: 0.8814\n",
      "Epoch 27/30\n",
      "1719/1719 [==============================] - 4s 2ms/step - loss: 0.2354 - accuracy: 0.9159 - val_loss: 0.3403 - val_accuracy: 0.8758\n",
      "Epoch 28/30\n",
      "1719/1719 [==============================] - 4s 2ms/step - loss: 0.2289 - accuracy: 0.9173 - val_loss: 0.2952 - val_accuracy: 0.8944\n",
      "Epoch 29/30\n",
      "1719/1719 [==============================] - 5s 3ms/step - loss: 0.2302 - accuracy: 0.9174 - val_loss: 0.3122 - val_accuracy: 0.8902\n",
      "Epoch 30/30\n",
      "1719/1719 [==============================] - 4s 3ms/step - loss: 0.2232 - accuracy: 0.9196 - val_loss: 0.3010 - val_accuracy: 0.8894\n"
     ]
    }
   ],
   "source": [
    "history = model.fit(X_train,y_train,epochs = 30, \n",
    "                    validation_data = (X_valid,y_valid))"
   ]
  },
  {
   "source": [
    "For skewed datasets with some classes being overrepresented while others are underrepresented, it would be useful to set the class_weight argument in the fit method. \n",
    "\n",
    "For cases where we want instances to be given different weights, like in the case of outliers (NBA dataset), we need to use sample_weight. For sample_weight we can either pass a flat Numpy array with the same length as the input samples. "
   ],
   "cell_type": "markdown",
   "metadata": {}
  },
  {
   "cell_type": "code",
   "execution_count": 22,
   "metadata": {},
   "outputs": [
    {
     "output_type": "execute_result",
     "data": {
      "text/plain": [
       "        loss  accuracy  val_loss  val_accuracy\n",
       "0   0.709397  0.768127  0.494491        0.8332\n",
       "1   0.486282  0.831073  0.438256        0.8534\n",
       "2   0.441617  0.846345  0.413920        0.8546\n",
       "3   0.415819  0.854527  0.395465        0.8660\n",
       "4   0.394034  0.861764  0.425879        0.8562\n",
       "5   0.378878  0.866709  0.378669        0.8676\n",
       "6   0.364719  0.870909  0.414707        0.8532\n",
       "7   0.353002  0.874909  0.375915        0.8648\n",
       "8   0.341537  0.878000  0.344890        0.8800\n",
       "9   0.333680  0.880564  0.344613        0.8776\n",
       "10  0.324251  0.884273  0.354516        0.8766\n",
       "11  0.316188  0.886491  0.326407        0.8850\n",
       "12  0.308687  0.889473  0.340679        0.8768\n",
       "13  0.301175  0.891073  0.331979        0.8834\n",
       "14  0.295456  0.893927  0.319652        0.8888\n",
       "15  0.289264  0.896727  0.327562        0.8850\n",
       "16  0.282639  0.897709  0.320450        0.8868\n",
       "17  0.278138  0.899655  0.308238        0.8894\n",
       "18  0.272548  0.900818  0.310224        0.8860\n",
       "19  0.266725  0.904527  0.302545        0.8922\n",
       "20  0.262571  0.904927  0.305269        0.8878\n",
       "21  0.257687  0.907509  0.321868        0.8838\n",
       "22  0.252687  0.909364  0.306685        0.8882\n",
       "23  0.248384  0.911218  0.316546        0.8852\n",
       "24  0.244049  0.912127  0.299868        0.8936\n",
       "25  0.239956  0.913709  0.315789        0.8814\n",
       "26  0.236823  0.915418  0.340254        0.8758\n",
       "27  0.232677  0.916455  0.295213        0.8944\n",
       "28  0.228823  0.917855  0.312209        0.8902\n",
       "29  0.226044  0.919018  0.300963        0.8894"
      ],
      "text/html": "<div>\n<style scoped>\n    .dataframe tbody tr th:only-of-type {\n        vertical-align: middle;\n    }\n\n    .dataframe tbody tr th {\n        vertical-align: top;\n    }\n\n    .dataframe thead th {\n        text-align: right;\n    }\n</style>\n<table border=\"1\" class=\"dataframe\">\n  <thead>\n    <tr style=\"text-align: right;\">\n      <th></th>\n      <th>loss</th>\n      <th>accuracy</th>\n      <th>val_loss</th>\n      <th>val_accuracy</th>\n    </tr>\n  </thead>\n  <tbody>\n    <tr>\n      <th>0</th>\n      <td>0.709397</td>\n      <td>0.768127</td>\n      <td>0.494491</td>\n      <td>0.8332</td>\n    </tr>\n    <tr>\n      <th>1</th>\n      <td>0.486282</td>\n      <td>0.831073</td>\n      <td>0.438256</td>\n      <td>0.8534</td>\n    </tr>\n    <tr>\n      <th>2</th>\n      <td>0.441617</td>\n      <td>0.846345</td>\n      <td>0.413920</td>\n      <td>0.8546</td>\n    </tr>\n    <tr>\n      <th>3</th>\n      <td>0.415819</td>\n      <td>0.854527</td>\n      <td>0.395465</td>\n      <td>0.8660</td>\n    </tr>\n    <tr>\n      <th>4</th>\n      <td>0.394034</td>\n      <td>0.861764</td>\n      <td>0.425879</td>\n      <td>0.8562</td>\n    </tr>\n    <tr>\n      <th>5</th>\n      <td>0.378878</td>\n      <td>0.866709</td>\n      <td>0.378669</td>\n      <td>0.8676</td>\n    </tr>\n    <tr>\n      <th>6</th>\n      <td>0.364719</td>\n      <td>0.870909</td>\n      <td>0.414707</td>\n      <td>0.8532</td>\n    </tr>\n    <tr>\n      <th>7</th>\n      <td>0.353002</td>\n      <td>0.874909</td>\n      <td>0.375915</td>\n      <td>0.8648</td>\n    </tr>\n    <tr>\n      <th>8</th>\n      <td>0.341537</td>\n      <td>0.878000</td>\n      <td>0.344890</td>\n      <td>0.8800</td>\n    </tr>\n    <tr>\n      <th>9</th>\n      <td>0.333680</td>\n      <td>0.880564</td>\n      <td>0.344613</td>\n      <td>0.8776</td>\n    </tr>\n    <tr>\n      <th>10</th>\n      <td>0.324251</td>\n      <td>0.884273</td>\n      <td>0.354516</td>\n      <td>0.8766</td>\n    </tr>\n    <tr>\n      <th>11</th>\n      <td>0.316188</td>\n      <td>0.886491</td>\n      <td>0.326407</td>\n      <td>0.8850</td>\n    </tr>\n    <tr>\n      <th>12</th>\n      <td>0.308687</td>\n      <td>0.889473</td>\n      <td>0.340679</td>\n      <td>0.8768</td>\n    </tr>\n    <tr>\n      <th>13</th>\n      <td>0.301175</td>\n      <td>0.891073</td>\n      <td>0.331979</td>\n      <td>0.8834</td>\n    </tr>\n    <tr>\n      <th>14</th>\n      <td>0.295456</td>\n      <td>0.893927</td>\n      <td>0.319652</td>\n      <td>0.8888</td>\n    </tr>\n    <tr>\n      <th>15</th>\n      <td>0.289264</td>\n      <td>0.896727</td>\n      <td>0.327562</td>\n      <td>0.8850</td>\n    </tr>\n    <tr>\n      <th>16</th>\n      <td>0.282639</td>\n      <td>0.897709</td>\n      <td>0.320450</td>\n      <td>0.8868</td>\n    </tr>\n    <tr>\n      <th>17</th>\n      <td>0.278138</td>\n      <td>0.899655</td>\n      <td>0.308238</td>\n      <td>0.8894</td>\n    </tr>\n    <tr>\n      <th>18</th>\n      <td>0.272548</td>\n      <td>0.900818</td>\n      <td>0.310224</td>\n      <td>0.8860</td>\n    </tr>\n    <tr>\n      <th>19</th>\n      <td>0.266725</td>\n      <td>0.904527</td>\n      <td>0.302545</td>\n      <td>0.8922</td>\n    </tr>\n    <tr>\n      <th>20</th>\n      <td>0.262571</td>\n      <td>0.904927</td>\n      <td>0.305269</td>\n      <td>0.8878</td>\n    </tr>\n    <tr>\n      <th>21</th>\n      <td>0.257687</td>\n      <td>0.907509</td>\n      <td>0.321868</td>\n      <td>0.8838</td>\n    </tr>\n    <tr>\n      <th>22</th>\n      <td>0.252687</td>\n      <td>0.909364</td>\n      <td>0.306685</td>\n      <td>0.8882</td>\n    </tr>\n    <tr>\n      <th>23</th>\n      <td>0.248384</td>\n      <td>0.911218</td>\n      <td>0.316546</td>\n      <td>0.8852</td>\n    </tr>\n    <tr>\n      <th>24</th>\n      <td>0.244049</td>\n      <td>0.912127</td>\n      <td>0.299868</td>\n      <td>0.8936</td>\n    </tr>\n    <tr>\n      <th>25</th>\n      <td>0.239956</td>\n      <td>0.913709</td>\n      <td>0.315789</td>\n      <td>0.8814</td>\n    </tr>\n    <tr>\n      <th>26</th>\n      <td>0.236823</td>\n      <td>0.915418</td>\n      <td>0.340254</td>\n      <td>0.8758</td>\n    </tr>\n    <tr>\n      <th>27</th>\n      <td>0.232677</td>\n      <td>0.916455</td>\n      <td>0.295213</td>\n      <td>0.8944</td>\n    </tr>\n    <tr>\n      <th>28</th>\n      <td>0.228823</td>\n      <td>0.917855</td>\n      <td>0.312209</td>\n      <td>0.8902</td>\n    </tr>\n    <tr>\n      <th>29</th>\n      <td>0.226044</td>\n      <td>0.919018</td>\n      <td>0.300963</td>\n      <td>0.8894</td>\n    </tr>\n  </tbody>\n</table>\n</div>"
     },
     "metadata": {},
     "execution_count": 22
    }
   ],
   "source": [
    "import pandas as pd\n",
    "df = pd.DataFrame(data = history.history)\n",
    "df"
   ]
  },
  {
   "cell_type": "code",
   "execution_count": 23,
   "metadata": {},
   "outputs": [
    {
     "output_type": "execute_result",
     "data": {
      "text/plain": [
       "<matplotlib.legend.Legend at 0x2442583e2e0>"
      ]
     },
     "metadata": {},
     "execution_count": 23
    },
    {
     "output_type": "display_data",
     "data": {
      "text/plain": "<Figure size 864x720 with 1 Axes>",
      "image/svg+xml": "<?xml version=\"1.0\" encoding=\"utf-8\" standalone=\"no\"?>\r\n<!DOCTYPE svg PUBLIC \"-//W3C//DTD SVG 1.1//EN\"\r\n  \"http://www.w3.org/Graphics/SVG/1.1/DTD/svg11.dtd\">\r\n<!-- Created with matplotlib (https://matplotlib.org/) -->\r\n<svg height=\"574.678125pt\" version=\"1.1\" viewBox=\"0 0 706.903125 574.678125\" width=\"706.903125pt\" xmlns=\"http://www.w3.org/2000/svg\" xmlns:xlink=\"http://www.w3.org/1999/xlink\">\r\n <metadata>\r\n  <rdf:RDF xmlns:cc=\"http://creativecommons.org/ns#\" xmlns:dc=\"http://purl.org/dc/elements/1.1/\" xmlns:rdf=\"http://www.w3.org/1999/02/22-rdf-syntax-ns#\">\r\n   <cc:Work>\r\n    <dc:type rdf:resource=\"http://purl.org/dc/dcmitype/StillImage\"/>\r\n    <dc:date>2021-04-10T11:32:54.753876</dc:date>\r\n    <dc:format>image/svg+xml</dc:format>\r\n    <dc:creator>\r\n     <cc:Agent>\r\n      <dc:title>Matplotlib v3.3.4, https://matplotlib.org/</dc:title>\r\n     </cc:Agent>\r\n    </dc:creator>\r\n   </cc:Work>\r\n  </rdf:RDF>\r\n </metadata>\r\n <defs>\r\n  <style type=\"text/css\">*{stroke-linecap:butt;stroke-linejoin:round;}</style>\r\n </defs>\r\n <g id=\"figure_1\">\r\n  <g id=\"patch_1\">\r\n   <path d=\"M 0 574.678125 \r\nL 706.903125 574.678125 \r\nL 706.903125 0 \r\nL 0 0 \r\nz\r\n\" style=\"fill:none;\"/>\r\n  </g>\r\n  <g id=\"axes_1\">\r\n   <g id=\"patch_2\">\r\n    <path d=\"M 30.103125 550.8 \r\nL 699.703125 550.8 \r\nL 699.703125 7.2 \r\nL 30.103125 7.2 \r\nz\r\n\" style=\"fill:#ffffff;\"/>\r\n   </g>\r\n   <g id=\"matplotlib.axis_1\">\r\n    <g id=\"xtick_1\">\r\n     <g id=\"line2d_1\">\r\n      <defs>\r\n       <path d=\"M 0 0 \r\nL 0 3.5 \r\n\" id=\"m7df1281c5a\" style=\"stroke:#000000;stroke-width:0.8;\"/>\r\n      </defs>\r\n      <g>\r\n       <use style=\"stroke:#000000;stroke-width:0.8;\" x=\"60.539489\" xlink:href=\"#m7df1281c5a\" y=\"550.8\"/>\r\n      </g>\r\n     </g>\r\n     <g id=\"text_1\">\r\n      <!-- 0 -->\r\n      <g transform=\"translate(57.358239 565.398438)scale(0.1 -0.1)\">\r\n       <defs>\r\n        <path d=\"M 31.78125 66.40625 \r\nQ 24.171875 66.40625 20.328125 58.90625 \r\nQ 16.5 51.421875 16.5 36.375 \r\nQ 16.5 21.390625 20.328125 13.890625 \r\nQ 24.171875 6.390625 31.78125 6.390625 \r\nQ 39.453125 6.390625 43.28125 13.890625 \r\nQ 47.125 21.390625 47.125 36.375 \r\nQ 47.125 51.421875 43.28125 58.90625 \r\nQ 39.453125 66.40625 31.78125 66.40625 \r\nz\r\nM 31.78125 74.21875 \r\nQ 44.046875 74.21875 50.515625 64.515625 \r\nQ 56.984375 54.828125 56.984375 36.375 \r\nQ 56.984375 17.96875 50.515625 8.265625 \r\nQ 44.046875 -1.421875 31.78125 -1.421875 \r\nQ 19.53125 -1.421875 13.0625 8.265625 \r\nQ 6.59375 17.96875 6.59375 36.375 \r\nQ 6.59375 54.828125 13.0625 64.515625 \r\nQ 19.53125 74.21875 31.78125 74.21875 \r\nz\r\n\" id=\"DejaVuSans-48\"/>\r\n       </defs>\r\n       <use xlink:href=\"#DejaVuSans-48\"/>\r\n      </g>\r\n     </g>\r\n    </g>\r\n    <g id=\"xtick_2\">\r\n     <g id=\"line2d_2\">\r\n      <g>\r\n       <use style=\"stroke:#000000;stroke-width:0.8;\" x=\"165.492467\" xlink:href=\"#m7df1281c5a\" y=\"550.8\"/>\r\n      </g>\r\n     </g>\r\n     <g id=\"text_2\">\r\n      <!-- 5 -->\r\n      <g transform=\"translate(162.311217 565.398438)scale(0.1 -0.1)\">\r\n       <defs>\r\n        <path d=\"M 10.796875 72.90625 \r\nL 49.515625 72.90625 \r\nL 49.515625 64.59375 \r\nL 19.828125 64.59375 \r\nL 19.828125 46.734375 \r\nQ 21.96875 47.46875 24.109375 47.828125 \r\nQ 26.265625 48.1875 28.421875 48.1875 \r\nQ 40.625 48.1875 47.75 41.5 \r\nQ 54.890625 34.8125 54.890625 23.390625 \r\nQ 54.890625 11.625 47.5625 5.09375 \r\nQ 40.234375 -1.421875 26.90625 -1.421875 \r\nQ 22.3125 -1.421875 17.546875 -0.640625 \r\nQ 12.796875 0.140625 7.71875 1.703125 \r\nL 7.71875 11.625 \r\nQ 12.109375 9.234375 16.796875 8.0625 \r\nQ 21.484375 6.890625 26.703125 6.890625 \r\nQ 35.15625 6.890625 40.078125 11.328125 \r\nQ 45.015625 15.765625 45.015625 23.390625 \r\nQ 45.015625 31 40.078125 35.4375 \r\nQ 35.15625 39.890625 26.703125 39.890625 \r\nQ 22.75 39.890625 18.8125 39.015625 \r\nQ 14.890625 38.140625 10.796875 36.28125 \r\nz\r\n\" id=\"DejaVuSans-53\"/>\r\n       </defs>\r\n       <use xlink:href=\"#DejaVuSans-53\"/>\r\n      </g>\r\n     </g>\r\n    </g>\r\n    <g id=\"xtick_3\">\r\n     <g id=\"line2d_3\">\r\n      <g>\r\n       <use style=\"stroke:#000000;stroke-width:0.8;\" x=\"270.445445\" xlink:href=\"#m7df1281c5a\" y=\"550.8\"/>\r\n      </g>\r\n     </g>\r\n     <g id=\"text_3\">\r\n      <!-- 10 -->\r\n      <g transform=\"translate(264.082945 565.398438)scale(0.1 -0.1)\">\r\n       <defs>\r\n        <path d=\"M 12.40625 8.296875 \r\nL 28.515625 8.296875 \r\nL 28.515625 63.921875 \r\nL 10.984375 60.40625 \r\nL 10.984375 69.390625 \r\nL 28.421875 72.90625 \r\nL 38.28125 72.90625 \r\nL 38.28125 8.296875 \r\nL 54.390625 8.296875 \r\nL 54.390625 0 \r\nL 12.40625 0 \r\nz\r\n\" id=\"DejaVuSans-49\"/>\r\n       </defs>\r\n       <use xlink:href=\"#DejaVuSans-49\"/>\r\n       <use x=\"63.623047\" xlink:href=\"#DejaVuSans-48\"/>\r\n      </g>\r\n     </g>\r\n    </g>\r\n    <g id=\"xtick_4\">\r\n     <g id=\"line2d_4\">\r\n      <g>\r\n       <use style=\"stroke:#000000;stroke-width:0.8;\" x=\"375.398423\" xlink:href=\"#m7df1281c5a\" y=\"550.8\"/>\r\n      </g>\r\n     </g>\r\n     <g id=\"text_4\">\r\n      <!-- 15 -->\r\n      <g transform=\"translate(369.035923 565.398438)scale(0.1 -0.1)\">\r\n       <use xlink:href=\"#DejaVuSans-49\"/>\r\n       <use x=\"63.623047\" xlink:href=\"#DejaVuSans-53\"/>\r\n      </g>\r\n     </g>\r\n    </g>\r\n    <g id=\"xtick_5\">\r\n     <g id=\"line2d_5\">\r\n      <g>\r\n       <use style=\"stroke:#000000;stroke-width:0.8;\" x=\"480.351401\" xlink:href=\"#m7df1281c5a\" y=\"550.8\"/>\r\n      </g>\r\n     </g>\r\n     <g id=\"text_5\">\r\n      <!-- 20 -->\r\n      <g transform=\"translate(473.988901 565.398438)scale(0.1 -0.1)\">\r\n       <defs>\r\n        <path d=\"M 19.1875 8.296875 \r\nL 53.609375 8.296875 \r\nL 53.609375 0 \r\nL 7.328125 0 \r\nL 7.328125 8.296875 \r\nQ 12.9375 14.109375 22.625 23.890625 \r\nQ 32.328125 33.6875 34.8125 36.53125 \r\nQ 39.546875 41.84375 41.421875 45.53125 \r\nQ 43.3125 49.21875 43.3125 52.78125 \r\nQ 43.3125 58.59375 39.234375 62.25 \r\nQ 35.15625 65.921875 28.609375 65.921875 \r\nQ 23.96875 65.921875 18.8125 64.3125 \r\nQ 13.671875 62.703125 7.8125 59.421875 \r\nL 7.8125 69.390625 \r\nQ 13.765625 71.78125 18.9375 73 \r\nQ 24.125 74.21875 28.421875 74.21875 \r\nQ 39.75 74.21875 46.484375 68.546875 \r\nQ 53.21875 62.890625 53.21875 53.421875 \r\nQ 53.21875 48.921875 51.53125 44.890625 \r\nQ 49.859375 40.875 45.40625 35.40625 \r\nQ 44.1875 33.984375 37.640625 27.21875 \r\nQ 31.109375 20.453125 19.1875 8.296875 \r\nz\r\n\" id=\"DejaVuSans-50\"/>\r\n       </defs>\r\n       <use xlink:href=\"#DejaVuSans-50\"/>\r\n       <use x=\"63.623047\" xlink:href=\"#DejaVuSans-48\"/>\r\n      </g>\r\n     </g>\r\n    </g>\r\n    <g id=\"xtick_6\">\r\n     <g id=\"line2d_6\">\r\n      <g>\r\n       <use style=\"stroke:#000000;stroke-width:0.8;\" x=\"585.304379\" xlink:href=\"#m7df1281c5a\" y=\"550.8\"/>\r\n      </g>\r\n     </g>\r\n     <g id=\"text_6\">\r\n      <!-- 25 -->\r\n      <g transform=\"translate(578.941879 565.398438)scale(0.1 -0.1)\">\r\n       <use xlink:href=\"#DejaVuSans-50\"/>\r\n       <use x=\"63.623047\" xlink:href=\"#DejaVuSans-53\"/>\r\n      </g>\r\n     </g>\r\n    </g>\r\n    <g id=\"xtick_7\">\r\n     <g id=\"line2d_7\">\r\n      <g>\r\n       <use style=\"stroke:#000000;stroke-width:0.8;\" x=\"690.257357\" xlink:href=\"#m7df1281c5a\" y=\"550.8\"/>\r\n      </g>\r\n     </g>\r\n     <g id=\"text_7\">\r\n      <!-- 30 -->\r\n      <g transform=\"translate(683.894857 565.398438)scale(0.1 -0.1)\">\r\n       <defs>\r\n        <path d=\"M 40.578125 39.3125 \r\nQ 47.65625 37.796875 51.625 33 \r\nQ 55.609375 28.21875 55.609375 21.1875 \r\nQ 55.609375 10.40625 48.1875 4.484375 \r\nQ 40.765625 -1.421875 27.09375 -1.421875 \r\nQ 22.515625 -1.421875 17.65625 -0.515625 \r\nQ 12.796875 0.390625 7.625 2.203125 \r\nL 7.625 11.71875 \r\nQ 11.71875 9.328125 16.59375 8.109375 \r\nQ 21.484375 6.890625 26.8125 6.890625 \r\nQ 36.078125 6.890625 40.9375 10.546875 \r\nQ 45.796875 14.203125 45.796875 21.1875 \r\nQ 45.796875 27.640625 41.28125 31.265625 \r\nQ 36.765625 34.90625 28.71875 34.90625 \r\nL 20.21875 34.90625 \r\nL 20.21875 43.015625 \r\nL 29.109375 43.015625 \r\nQ 36.375 43.015625 40.234375 45.921875 \r\nQ 44.09375 48.828125 44.09375 54.296875 \r\nQ 44.09375 59.90625 40.109375 62.90625 \r\nQ 36.140625 65.921875 28.71875 65.921875 \r\nQ 24.65625 65.921875 20.015625 65.03125 \r\nQ 15.375 64.15625 9.8125 62.3125 \r\nL 9.8125 71.09375 \r\nQ 15.4375 72.65625 20.34375 73.4375 \r\nQ 25.25 74.21875 29.59375 74.21875 \r\nQ 40.828125 74.21875 47.359375 69.109375 \r\nQ 53.90625 64.015625 53.90625 55.328125 \r\nQ 53.90625 49.265625 50.4375 45.09375 \r\nQ 46.96875 40.921875 40.578125 39.3125 \r\nz\r\n\" id=\"DejaVuSans-51\"/>\r\n       </defs>\r\n       <use xlink:href=\"#DejaVuSans-51\"/>\r\n       <use x=\"63.623047\" xlink:href=\"#DejaVuSans-48\"/>\r\n      </g>\r\n     </g>\r\n    </g>\r\n   </g>\r\n   <g id=\"matplotlib.axis_2\">\r\n    <g id=\"ytick_1\">\r\n     <g id=\"line2d_8\">\r\n      <defs>\r\n       <path d=\"M 0 0 \r\nL -3.5 0 \r\n\" id=\"md318bda79f\" style=\"stroke:#000000;stroke-width:0.8;\"/>\r\n      </defs>\r\n      <g>\r\n       <use style=\"stroke:#000000;stroke-width:0.8;\" x=\"30.103125\" xlink:href=\"#md318bda79f\" y=\"544.663808\"/>\r\n      </g>\r\n     </g>\r\n     <g id=\"text_8\">\r\n      <!-- 0.2 -->\r\n      <g transform=\"translate(7.2 548.463026)scale(0.1 -0.1)\">\r\n       <defs>\r\n        <path d=\"M 10.6875 12.40625 \r\nL 21 12.40625 \r\nL 21 0 \r\nL 10.6875 0 \r\nz\r\n\" id=\"DejaVuSans-46\"/>\r\n       </defs>\r\n       <use xlink:href=\"#DejaVuSans-48\"/>\r\n       <use x=\"63.623047\" xlink:href=\"#DejaVuSans-46\"/>\r\n       <use x=\"95.410156\" xlink:href=\"#DejaVuSans-50\"/>\r\n      </g>\r\n     </g>\r\n    </g>\r\n    <g id=\"ytick_2\">\r\n     <g id=\"line2d_9\">\r\n      <g>\r\n       <use style=\"stroke:#000000;stroke-width:0.8;\" x=\"30.103125\" xlink:href=\"#md318bda79f\" y=\"473.350632\"/>\r\n      </g>\r\n     </g>\r\n     <g id=\"text_9\">\r\n      <!-- 0.3 -->\r\n      <g transform=\"translate(7.2 477.149851)scale(0.1 -0.1)\">\r\n       <use xlink:href=\"#DejaVuSans-48\"/>\r\n       <use x=\"63.623047\" xlink:href=\"#DejaVuSans-46\"/>\r\n       <use x=\"95.410156\" xlink:href=\"#DejaVuSans-51\"/>\r\n      </g>\r\n     </g>\r\n    </g>\r\n    <g id=\"ytick_3\">\r\n     <g id=\"line2d_10\">\r\n      <g>\r\n       <use style=\"stroke:#000000;stroke-width:0.8;\" x=\"30.103125\" xlink:href=\"#md318bda79f\" y=\"402.037457\"/>\r\n      </g>\r\n     </g>\r\n     <g id=\"text_10\">\r\n      <!-- 0.4 -->\r\n      <g transform=\"translate(7.2 405.836675)scale(0.1 -0.1)\">\r\n       <defs>\r\n        <path d=\"M 37.796875 64.3125 \r\nL 12.890625 25.390625 \r\nL 37.796875 25.390625 \r\nz\r\nM 35.203125 72.90625 \r\nL 47.609375 72.90625 \r\nL 47.609375 25.390625 \r\nL 58.015625 25.390625 \r\nL 58.015625 17.1875 \r\nL 47.609375 17.1875 \r\nL 47.609375 0 \r\nL 37.796875 0 \r\nL 37.796875 17.1875 \r\nL 4.890625 17.1875 \r\nL 4.890625 26.703125 \r\nz\r\n\" id=\"DejaVuSans-52\"/>\r\n       </defs>\r\n       <use xlink:href=\"#DejaVuSans-48\"/>\r\n       <use x=\"63.623047\" xlink:href=\"#DejaVuSans-46\"/>\r\n       <use x=\"95.410156\" xlink:href=\"#DejaVuSans-52\"/>\r\n      </g>\r\n     </g>\r\n    </g>\r\n    <g id=\"ytick_4\">\r\n     <g id=\"line2d_11\">\r\n      <g>\r\n       <use style=\"stroke:#000000;stroke-width:0.8;\" x=\"30.103125\" xlink:href=\"#md318bda79f\" y=\"330.724281\"/>\r\n      </g>\r\n     </g>\r\n     <g id=\"text_11\">\r\n      <!-- 0.5 -->\r\n      <g transform=\"translate(7.2 334.5235)scale(0.1 -0.1)\">\r\n       <use xlink:href=\"#DejaVuSans-48\"/>\r\n       <use x=\"63.623047\" xlink:href=\"#DejaVuSans-46\"/>\r\n       <use x=\"95.410156\" xlink:href=\"#DejaVuSans-53\"/>\r\n      </g>\r\n     </g>\r\n    </g>\r\n    <g id=\"ytick_5\">\r\n     <g id=\"line2d_12\">\r\n      <g>\r\n       <use style=\"stroke:#000000;stroke-width:0.8;\" x=\"30.103125\" xlink:href=\"#md318bda79f\" y=\"259.411106\"/>\r\n      </g>\r\n     </g>\r\n     <g id=\"text_12\">\r\n      <!-- 0.6 -->\r\n      <g transform=\"translate(7.2 263.210325)scale(0.1 -0.1)\">\r\n       <defs>\r\n        <path d=\"M 33.015625 40.375 \r\nQ 26.375 40.375 22.484375 35.828125 \r\nQ 18.609375 31.296875 18.609375 23.390625 \r\nQ 18.609375 15.53125 22.484375 10.953125 \r\nQ 26.375 6.390625 33.015625 6.390625 \r\nQ 39.65625 6.390625 43.53125 10.953125 \r\nQ 47.40625 15.53125 47.40625 23.390625 \r\nQ 47.40625 31.296875 43.53125 35.828125 \r\nQ 39.65625 40.375 33.015625 40.375 \r\nz\r\nM 52.59375 71.296875 \r\nL 52.59375 62.3125 \r\nQ 48.875 64.0625 45.09375 64.984375 \r\nQ 41.3125 65.921875 37.59375 65.921875 \r\nQ 27.828125 65.921875 22.671875 59.328125 \r\nQ 17.53125 52.734375 16.796875 39.40625 \r\nQ 19.671875 43.65625 24.015625 45.921875 \r\nQ 28.375 48.1875 33.59375 48.1875 \r\nQ 44.578125 48.1875 50.953125 41.515625 \r\nQ 57.328125 34.859375 57.328125 23.390625 \r\nQ 57.328125 12.15625 50.6875 5.359375 \r\nQ 44.046875 -1.421875 33.015625 -1.421875 \r\nQ 20.359375 -1.421875 13.671875 8.265625 \r\nQ 6.984375 17.96875 6.984375 36.375 \r\nQ 6.984375 53.65625 15.1875 63.9375 \r\nQ 23.390625 74.21875 37.203125 74.21875 \r\nQ 40.921875 74.21875 44.703125 73.484375 \r\nQ 48.484375 72.75 52.59375 71.296875 \r\nz\r\n\" id=\"DejaVuSans-54\"/>\r\n       </defs>\r\n       <use xlink:href=\"#DejaVuSans-48\"/>\r\n       <use x=\"63.623047\" xlink:href=\"#DejaVuSans-46\"/>\r\n       <use x=\"95.410156\" xlink:href=\"#DejaVuSans-54\"/>\r\n      </g>\r\n     </g>\r\n    </g>\r\n    <g id=\"ytick_6\">\r\n     <g id=\"line2d_13\">\r\n      <g>\r\n       <use style=\"stroke:#000000;stroke-width:0.8;\" x=\"30.103125\" xlink:href=\"#md318bda79f\" y=\"188.09793\"/>\r\n      </g>\r\n     </g>\r\n     <g id=\"text_13\">\r\n      <!-- 0.7 -->\r\n      <g transform=\"translate(7.2 191.897149)scale(0.1 -0.1)\">\r\n       <defs>\r\n        <path d=\"M 8.203125 72.90625 \r\nL 55.078125 72.90625 \r\nL 55.078125 68.703125 \r\nL 28.609375 0 \r\nL 18.3125 0 \r\nL 43.21875 64.59375 \r\nL 8.203125 64.59375 \r\nz\r\n\" id=\"DejaVuSans-55\"/>\r\n       </defs>\r\n       <use xlink:href=\"#DejaVuSans-48\"/>\r\n       <use x=\"63.623047\" xlink:href=\"#DejaVuSans-46\"/>\r\n       <use x=\"95.410156\" xlink:href=\"#DejaVuSans-55\"/>\r\n      </g>\r\n     </g>\r\n    </g>\r\n    <g id=\"ytick_7\">\r\n     <g id=\"line2d_14\">\r\n      <g>\r\n       <use style=\"stroke:#000000;stroke-width:0.8;\" x=\"30.103125\" xlink:href=\"#md318bda79f\" y=\"116.784755\"/>\r\n      </g>\r\n     </g>\r\n     <g id=\"text_14\">\r\n      <!-- 0.8 -->\r\n      <g transform=\"translate(7.2 120.583974)scale(0.1 -0.1)\">\r\n       <defs>\r\n        <path d=\"M 31.78125 34.625 \r\nQ 24.75 34.625 20.71875 30.859375 \r\nQ 16.703125 27.09375 16.703125 20.515625 \r\nQ 16.703125 13.921875 20.71875 10.15625 \r\nQ 24.75 6.390625 31.78125 6.390625 \r\nQ 38.8125 6.390625 42.859375 10.171875 \r\nQ 46.921875 13.96875 46.921875 20.515625 \r\nQ 46.921875 27.09375 42.890625 30.859375 \r\nQ 38.875 34.625 31.78125 34.625 \r\nz\r\nM 21.921875 38.8125 \r\nQ 15.578125 40.375 12.03125 44.71875 \r\nQ 8.5 49.078125 8.5 55.328125 \r\nQ 8.5 64.0625 14.71875 69.140625 \r\nQ 20.953125 74.21875 31.78125 74.21875 \r\nQ 42.671875 74.21875 48.875 69.140625 \r\nQ 55.078125 64.0625 55.078125 55.328125 \r\nQ 55.078125 49.078125 51.53125 44.71875 \r\nQ 48 40.375 41.703125 38.8125 \r\nQ 48.828125 37.15625 52.796875 32.3125 \r\nQ 56.78125 27.484375 56.78125 20.515625 \r\nQ 56.78125 9.90625 50.3125 4.234375 \r\nQ 43.84375 -1.421875 31.78125 -1.421875 \r\nQ 19.734375 -1.421875 13.25 4.234375 \r\nQ 6.78125 9.90625 6.78125 20.515625 \r\nQ 6.78125 27.484375 10.78125 32.3125 \r\nQ 14.796875 37.15625 21.921875 38.8125 \r\nz\r\nM 18.3125 54.390625 \r\nQ 18.3125 48.734375 21.84375 45.5625 \r\nQ 25.390625 42.390625 31.78125 42.390625 \r\nQ 38.140625 42.390625 41.71875 45.5625 \r\nQ 45.3125 48.734375 45.3125 54.390625 \r\nQ 45.3125 60.0625 41.71875 63.234375 \r\nQ 38.140625 66.40625 31.78125 66.40625 \r\nQ 25.390625 66.40625 21.84375 63.234375 \r\nQ 18.3125 60.0625 18.3125 54.390625 \r\nz\r\n\" id=\"DejaVuSans-56\"/>\r\n       </defs>\r\n       <use xlink:href=\"#DejaVuSans-48\"/>\r\n       <use x=\"63.623047\" xlink:href=\"#DejaVuSans-46\"/>\r\n       <use x=\"95.410156\" xlink:href=\"#DejaVuSans-56\"/>\r\n      </g>\r\n     </g>\r\n    </g>\r\n    <g id=\"ytick_8\">\r\n     <g id=\"line2d_15\">\r\n      <g>\r\n       <use style=\"stroke:#000000;stroke-width:0.8;\" x=\"30.103125\" xlink:href=\"#md318bda79f\" y=\"45.47158\"/>\r\n      </g>\r\n     </g>\r\n     <g id=\"text_15\">\r\n      <!-- 0.9 -->\r\n      <g transform=\"translate(7.2 49.270798)scale(0.1 -0.1)\">\r\n       <defs>\r\n        <path d=\"M 10.984375 1.515625 \r\nL 10.984375 10.5 \r\nQ 14.703125 8.734375 18.5 7.8125 \r\nQ 22.3125 6.890625 25.984375 6.890625 \r\nQ 35.75 6.890625 40.890625 13.453125 \r\nQ 46.046875 20.015625 46.78125 33.40625 \r\nQ 43.953125 29.203125 39.59375 26.953125 \r\nQ 35.25 24.703125 29.984375 24.703125 \r\nQ 19.046875 24.703125 12.671875 31.3125 \r\nQ 6.296875 37.9375 6.296875 49.421875 \r\nQ 6.296875 60.640625 12.9375 67.421875 \r\nQ 19.578125 74.21875 30.609375 74.21875 \r\nQ 43.265625 74.21875 49.921875 64.515625 \r\nQ 56.59375 54.828125 56.59375 36.375 \r\nQ 56.59375 19.140625 48.40625 8.859375 \r\nQ 40.234375 -1.421875 26.421875 -1.421875 \r\nQ 22.703125 -1.421875 18.890625 -0.6875 \r\nQ 15.09375 0.046875 10.984375 1.515625 \r\nz\r\nM 30.609375 32.421875 \r\nQ 37.25 32.421875 41.125 36.953125 \r\nQ 45.015625 41.5 45.015625 49.421875 \r\nQ 45.015625 57.28125 41.125 61.84375 \r\nQ 37.25 66.40625 30.609375 66.40625 \r\nQ 23.96875 66.40625 20.09375 61.84375 \r\nQ 16.21875 57.28125 16.21875 49.421875 \r\nQ 16.21875 41.5 20.09375 36.953125 \r\nQ 23.96875 32.421875 30.609375 32.421875 \r\nz\r\n\" id=\"DejaVuSans-57\"/>\r\n       </defs>\r\n       <use xlink:href=\"#DejaVuSans-48\"/>\r\n       <use x=\"63.623047\" xlink:href=\"#DejaVuSans-46\"/>\r\n       <use x=\"95.410156\" xlink:href=\"#DejaVuSans-57\"/>\r\n      </g>\r\n     </g>\r\n    </g>\r\n   </g>\r\n   <g id=\"line2d_16\">\r\n    <path clip-path=\"url(#pa4e062bd32)\" d=\"M 60.539489 181.396916 \r\nL 81.530084 340.506795 \r\nL 102.52068 372.359001 \r\nL 123.511275 390.756688 \r\nL 144.501871 406.29213 \r\nL 165.492467 417.100057 \r\nL 186.483062 427.197307 \r\nL 207.473658 435.553257 \r\nL 228.464254 443.729173 \r\nL 249.454849 449.332416 \r\nL 270.445445 456.056455 \r\nL 291.43604 461.806492 \r\nL 312.426636 467.155358 \r\nL 333.417232 472.512661 \r\nL 354.407827 476.590832 \r\nL 375.398423 481.006522 \r\nL 396.389018 485.731655 \r\nL 417.379614 488.94128 \r\nL 438.37021 492.927468 \r\nL 459.360805 497.079791 \r\nL 480.351401 500.042393 \r\nL 501.341996 503.525714 \r\nL 522.332592 507.09086 \r\nL 543.323188 510.159546 \r\nL 564.313783 513.251377 \r\nL 585.304379 516.170113 \r\nL 606.294975 518.404077 \r\nL 627.28557 521.360909 \r\nL 648.276166 524.109249 \r\nL 669.266761 526.090909 \r\n\" style=\"fill:none;stroke:#1f77b4;stroke-linecap:square;stroke-width:1.5;\"/>\r\n   </g>\r\n   <g id=\"line2d_17\">\r\n    <path clip-path=\"url(#pa4e062bd32)\" d=\"M 60.539489 139.514216 \r\nL 81.530084 94.625792 \r\nL 102.52068 83.734319 \r\nL 123.511275 77.89961 \r\nL 144.501871 72.739131 \r\nL 165.492467 69.212368 \r\nL 186.483062 66.217228 \r\nL 207.473658 63.364695 \r\nL 228.464254 61.160463 \r\nL 249.454849 59.332282 \r\nL 270.445445 56.687178 \r\nL 291.43604 55.105361 \r\nL 312.426636 52.978915 \r\nL 333.417232 51.837885 \r\nL 354.407827 49.802232 \r\nL 375.398423 47.805472 \r\nL 396.389018 47.105313 \r\nL 417.379614 45.717919 \r\nL 438.37021 44.888117 \r\nL 459.360805 42.243056 \r\nL 480.351401 41.957799 \r\nL 501.341996 40.11661 \r\nL 522.332592 38.79408 \r\nL 543.323188 37.471549 \r\nL 564.313783 36.823248 \r\nL 585.304379 35.695182 \r\nL 606.294975 34.476366 \r\nL 627.28557 33.737315 \r\nL 648.276166 32.738935 \r\nL 669.266761 31.909091 \r\n\" style=\"fill:none;stroke:#ff7f0e;stroke-linecap:square;stroke-width:1.5;\"/>\r\n   </g>\r\n   <g id=\"line2d_18\">\r\n    <path clip-path=\"url(#pa4e062bd32)\" d=\"M 60.539489 334.652661 \r\nL 81.530084 374.7557 \r\nL 102.52068 392.110609 \r\nL 123.511275 405.271646 \r\nL 144.501871 383.582064 \r\nL 165.492467 417.24953 \r\nL 186.483062 391.549679 \r\nL 207.473658 419.212901 \r\nL 228.464254 441.338361 \r\nL 249.454849 441.535929 \r\nL 270.445445 434.473244 \r\nL 291.43604 454.519057 \r\nL 312.426636 444.341153 \r\nL 333.417232 450.545387 \r\nL 354.407827 459.336173 \r\nL 375.398423 453.695164 \r\nL 396.389018 458.76687 \r\nL 417.379614 467.476087 \r\nL 438.37021 466.059703 \r\nL 459.360805 471.535768 \r\nL 480.351401 469.593245 \r\nL 501.341996 457.75595 \r\nL 522.332592 468.583346 \r\nL 543.323188 461.551372 \r\nL 564.313783 473.445093 \r\nL 585.304379 462.090985 \r\nL 606.294975 444.644433 \r\nL 627.28557 476.76466 \r\nL 648.276166 464.643766 \r\nL 669.266761 472.66394 \r\n\" style=\"fill:none;stroke:#2ca02c;stroke-linecap:square;stroke-width:1.5;\"/>\r\n   </g>\r\n   <g id=\"line2d_19\">\r\n    <path clip-path=\"url(#pa4e062bd32)\" d=\"M 60.539489 93.108797 \r\nL 81.530084 78.703525 \r\nL 102.52068 77.847753 \r\nL 123.511275 69.718062 \r\nL 144.501871 76.706765 \r\nL 165.492467 68.577032 \r\nL 186.483062 78.846133 \r\nL 207.473658 70.573834 \r\nL 228.464254 59.734218 \r\nL 249.454849 61.445721 \r\nL 270.445445 62.158843 \r\nL 291.43604 56.168563 \r\nL 312.426636 62.016236 \r\nL 333.417232 57.30955 \r\nL 354.407827 53.458637 \r\nL 375.398423 56.168563 \r\nL 396.389018 54.884925 \r\nL 417.379614 53.030772 \r\nL 438.37021 55.45544 \r\nL 459.360805 51.034012 \r\nL 480.351401 54.171803 \r\nL 501.341996 57.024293 \r\nL 522.332592 53.886545 \r\nL 543.323188 56.025913 \r\nL 564.313783 50.035632 \r\nL 585.304379 58.735838 \r\nL 606.294975 62.729358 \r\nL 627.28557 49.465117 \r\nL 648.276166 52.460257 \r\nL 669.266761 53.030772 \r\n\" style=\"fill:none;stroke:#d62728;stroke-linecap:square;stroke-width:1.5;\"/>\r\n   </g>\r\n   <g id=\"patch_3\">\r\n    <path d=\"M 30.103125 550.8 \r\nL 30.103125 7.2 \r\n\" style=\"fill:none;stroke:#000000;stroke-linecap:square;stroke-linejoin:miter;stroke-width:0.8;\"/>\r\n   </g>\r\n   <g id=\"patch_4\">\r\n    <path d=\"M 699.703125 550.8 \r\nL 699.703125 7.2 \r\n\" style=\"fill:none;stroke:#000000;stroke-linecap:square;stroke-linejoin:miter;stroke-width:0.8;\"/>\r\n   </g>\r\n   <g id=\"patch_5\">\r\n    <path d=\"M 30.103125 550.8 \r\nL 699.703125 550.8 \r\n\" style=\"fill:none;stroke:#000000;stroke-linecap:square;stroke-linejoin:miter;stroke-width:0.8;\"/>\r\n   </g>\r\n   <g id=\"patch_6\">\r\n    <path d=\"M 30.103125 7.2 \r\nL 699.703125 7.2 \r\n\" style=\"fill:none;stroke:#000000;stroke-linecap:square;stroke-linejoin:miter;stroke-width:0.8;\"/>\r\n   </g>\r\n   <g id=\"legend_1\">\r\n    <g id=\"patch_7\">\r\n     <path d=\"M 37.103125 545.8 \r\nL 134.046875 545.8 \r\nQ 136.046875 545.8 136.046875 543.8 \r\nL 136.046875 485.53125 \r\nQ 136.046875 483.53125 134.046875 483.53125 \r\nL 37.103125 483.53125 \r\nQ 35.103125 483.53125 35.103125 485.53125 \r\nL 35.103125 543.8 \r\nQ 35.103125 545.8 37.103125 545.8 \r\nz\r\n\" style=\"fill:#ffffff;opacity:0.8;stroke:#cccccc;stroke-linejoin:miter;\"/>\r\n    </g>\r\n    <g id=\"line2d_20\">\r\n     <path d=\"M 39.103125 491.629688 \r\nL 59.103125 491.629688 \r\n\" style=\"fill:none;stroke:#1f77b4;stroke-linecap:square;stroke-width:1.5;\"/>\r\n    </g>\r\n    <g id=\"line2d_21\"/>\r\n    <g id=\"text_16\">\r\n     <!-- loss -->\r\n     <g transform=\"translate(67.103125 495.129688)scale(0.1 -0.1)\">\r\n      <defs>\r\n       <path d=\"M 9.421875 75.984375 \r\nL 18.40625 75.984375 \r\nL 18.40625 0 \r\nL 9.421875 0 \r\nz\r\n\" id=\"DejaVuSans-108\"/>\r\n       <path d=\"M 30.609375 48.390625 \r\nQ 23.390625 48.390625 19.1875 42.75 \r\nQ 14.984375 37.109375 14.984375 27.296875 \r\nQ 14.984375 17.484375 19.15625 11.84375 \r\nQ 23.34375 6.203125 30.609375 6.203125 \r\nQ 37.796875 6.203125 41.984375 11.859375 \r\nQ 46.1875 17.53125 46.1875 27.296875 \r\nQ 46.1875 37.015625 41.984375 42.703125 \r\nQ 37.796875 48.390625 30.609375 48.390625 \r\nz\r\nM 30.609375 56 \r\nQ 42.328125 56 49.015625 48.375 \r\nQ 55.71875 40.765625 55.71875 27.296875 \r\nQ 55.71875 13.875 49.015625 6.21875 \r\nQ 42.328125 -1.421875 30.609375 -1.421875 \r\nQ 18.84375 -1.421875 12.171875 6.21875 \r\nQ 5.515625 13.875 5.515625 27.296875 \r\nQ 5.515625 40.765625 12.171875 48.375 \r\nQ 18.84375 56 30.609375 56 \r\nz\r\n\" id=\"DejaVuSans-111\"/>\r\n       <path d=\"M 44.28125 53.078125 \r\nL 44.28125 44.578125 \r\nQ 40.484375 46.53125 36.375 47.5 \r\nQ 32.28125 48.484375 27.875 48.484375 \r\nQ 21.1875 48.484375 17.84375 46.4375 \r\nQ 14.5 44.390625 14.5 40.28125 \r\nQ 14.5 37.15625 16.890625 35.375 \r\nQ 19.28125 33.59375 26.515625 31.984375 \r\nL 29.59375 31.296875 \r\nQ 39.15625 29.25 43.1875 25.515625 \r\nQ 47.21875 21.78125 47.21875 15.09375 \r\nQ 47.21875 7.46875 41.1875 3.015625 \r\nQ 35.15625 -1.421875 24.609375 -1.421875 \r\nQ 20.21875 -1.421875 15.453125 -0.5625 \r\nQ 10.6875 0.296875 5.421875 2 \r\nL 5.421875 11.28125 \r\nQ 10.40625 8.6875 15.234375 7.390625 \r\nQ 20.0625 6.109375 24.8125 6.109375 \r\nQ 31.15625 6.109375 34.5625 8.28125 \r\nQ 37.984375 10.453125 37.984375 14.40625 \r\nQ 37.984375 18.0625 35.515625 20.015625 \r\nQ 33.0625 21.96875 24.703125 23.78125 \r\nL 21.578125 24.515625 \r\nQ 13.234375 26.265625 9.515625 29.90625 \r\nQ 5.8125 33.546875 5.8125 39.890625 \r\nQ 5.8125 47.609375 11.28125 51.796875 \r\nQ 16.75 56 26.8125 56 \r\nQ 31.78125 56 36.171875 55.265625 \r\nQ 40.578125 54.546875 44.28125 53.078125 \r\nz\r\n\" id=\"DejaVuSans-115\"/>\r\n      </defs>\r\n      <use xlink:href=\"#DejaVuSans-108\"/>\r\n      <use x=\"27.783203\" xlink:href=\"#DejaVuSans-111\"/>\r\n      <use x=\"88.964844\" xlink:href=\"#DejaVuSans-115\"/>\r\n      <use x=\"141.064453\" xlink:href=\"#DejaVuSans-115\"/>\r\n     </g>\r\n    </g>\r\n    <g id=\"line2d_22\">\r\n     <path d=\"M 39.103125 506.307813 \r\nL 59.103125 506.307813 \r\n\" style=\"fill:none;stroke:#ff7f0e;stroke-linecap:square;stroke-width:1.5;\"/>\r\n    </g>\r\n    <g id=\"line2d_23\"/>\r\n    <g id=\"text_17\">\r\n     <!-- accuracy -->\r\n     <g transform=\"translate(67.103125 509.807813)scale(0.1 -0.1)\">\r\n      <defs>\r\n       <path d=\"M 34.28125 27.484375 \r\nQ 23.390625 27.484375 19.1875 25 \r\nQ 14.984375 22.515625 14.984375 16.5 \r\nQ 14.984375 11.71875 18.140625 8.90625 \r\nQ 21.296875 6.109375 26.703125 6.109375 \r\nQ 34.1875 6.109375 38.703125 11.40625 \r\nQ 43.21875 16.703125 43.21875 25.484375 \r\nL 43.21875 27.484375 \r\nz\r\nM 52.203125 31.203125 \r\nL 52.203125 0 \r\nL 43.21875 0 \r\nL 43.21875 8.296875 \r\nQ 40.140625 3.328125 35.546875 0.953125 \r\nQ 30.953125 -1.421875 24.3125 -1.421875 \r\nQ 15.921875 -1.421875 10.953125 3.296875 \r\nQ 6 8.015625 6 15.921875 \r\nQ 6 25.140625 12.171875 29.828125 \r\nQ 18.359375 34.515625 30.609375 34.515625 \r\nL 43.21875 34.515625 \r\nL 43.21875 35.40625 \r\nQ 43.21875 41.609375 39.140625 45 \r\nQ 35.0625 48.390625 27.6875 48.390625 \r\nQ 23 48.390625 18.546875 47.265625 \r\nQ 14.109375 46.140625 10.015625 43.890625 \r\nL 10.015625 52.203125 \r\nQ 14.9375 54.109375 19.578125 55.046875 \r\nQ 24.21875 56 28.609375 56 \r\nQ 40.484375 56 46.34375 49.84375 \r\nQ 52.203125 43.703125 52.203125 31.203125 \r\nz\r\n\" id=\"DejaVuSans-97\"/>\r\n       <path d=\"M 48.78125 52.59375 \r\nL 48.78125 44.1875 \r\nQ 44.96875 46.296875 41.140625 47.34375 \r\nQ 37.3125 48.390625 33.40625 48.390625 \r\nQ 24.65625 48.390625 19.8125 42.84375 \r\nQ 14.984375 37.3125 14.984375 27.296875 \r\nQ 14.984375 17.28125 19.8125 11.734375 \r\nQ 24.65625 6.203125 33.40625 6.203125 \r\nQ 37.3125 6.203125 41.140625 7.25 \r\nQ 44.96875 8.296875 48.78125 10.40625 \r\nL 48.78125 2.09375 \r\nQ 45.015625 0.34375 40.984375 -0.53125 \r\nQ 36.96875 -1.421875 32.421875 -1.421875 \r\nQ 20.0625 -1.421875 12.78125 6.34375 \r\nQ 5.515625 14.109375 5.515625 27.296875 \r\nQ 5.515625 40.671875 12.859375 48.328125 \r\nQ 20.21875 56 33.015625 56 \r\nQ 37.15625 56 41.109375 55.140625 \r\nQ 45.0625 54.296875 48.78125 52.59375 \r\nz\r\n\" id=\"DejaVuSans-99\"/>\r\n       <path d=\"M 8.5 21.578125 \r\nL 8.5 54.6875 \r\nL 17.484375 54.6875 \r\nL 17.484375 21.921875 \r\nQ 17.484375 14.15625 20.5 10.265625 \r\nQ 23.53125 6.390625 29.59375 6.390625 \r\nQ 36.859375 6.390625 41.078125 11.03125 \r\nQ 45.3125 15.671875 45.3125 23.6875 \r\nL 45.3125 54.6875 \r\nL 54.296875 54.6875 \r\nL 54.296875 0 \r\nL 45.3125 0 \r\nL 45.3125 8.40625 \r\nQ 42.046875 3.421875 37.71875 1 \r\nQ 33.40625 -1.421875 27.6875 -1.421875 \r\nQ 18.265625 -1.421875 13.375 4.4375 \r\nQ 8.5 10.296875 8.5 21.578125 \r\nz\r\nM 31.109375 56 \r\nz\r\n\" id=\"DejaVuSans-117\"/>\r\n       <path d=\"M 41.109375 46.296875 \r\nQ 39.59375 47.171875 37.8125 47.578125 \r\nQ 36.03125 48 33.890625 48 \r\nQ 26.265625 48 22.1875 43.046875 \r\nQ 18.109375 38.09375 18.109375 28.8125 \r\nL 18.109375 0 \r\nL 9.078125 0 \r\nL 9.078125 54.6875 \r\nL 18.109375 54.6875 \r\nL 18.109375 46.1875 \r\nQ 20.953125 51.171875 25.484375 53.578125 \r\nQ 30.03125 56 36.53125 56 \r\nQ 37.453125 56 38.578125 55.875 \r\nQ 39.703125 55.765625 41.0625 55.515625 \r\nz\r\n\" id=\"DejaVuSans-114\"/>\r\n       <path d=\"M 32.171875 -5.078125 \r\nQ 28.375 -14.84375 24.75 -17.8125 \r\nQ 21.140625 -20.796875 15.09375 -20.796875 \r\nL 7.90625 -20.796875 \r\nL 7.90625 -13.28125 \r\nL 13.1875 -13.28125 \r\nQ 16.890625 -13.28125 18.9375 -11.515625 \r\nQ 21 -9.765625 23.484375 -3.21875 \r\nL 25.09375 0.875 \r\nL 2.984375 54.6875 \r\nL 12.5 54.6875 \r\nL 29.59375 11.921875 \r\nL 46.6875 54.6875 \r\nL 56.203125 54.6875 \r\nz\r\n\" id=\"DejaVuSans-121\"/>\r\n      </defs>\r\n      <use xlink:href=\"#DejaVuSans-97\"/>\r\n      <use x=\"61.279297\" xlink:href=\"#DejaVuSans-99\"/>\r\n      <use x=\"116.259766\" xlink:href=\"#DejaVuSans-99\"/>\r\n      <use x=\"171.240234\" xlink:href=\"#DejaVuSans-117\"/>\r\n      <use x=\"234.619141\" xlink:href=\"#DejaVuSans-114\"/>\r\n      <use x=\"275.732422\" xlink:href=\"#DejaVuSans-97\"/>\r\n      <use x=\"337.011719\" xlink:href=\"#DejaVuSans-99\"/>\r\n      <use x=\"391.992188\" xlink:href=\"#DejaVuSans-121\"/>\r\n     </g>\r\n    </g>\r\n    <g id=\"line2d_24\">\r\n     <path d=\"M 39.103125 520.985938 \r\nL 59.103125 520.985938 \r\n\" style=\"fill:none;stroke:#2ca02c;stroke-linecap:square;stroke-width:1.5;\"/>\r\n    </g>\r\n    <g id=\"line2d_25\"/>\r\n    <g id=\"text_18\">\r\n     <!-- val_loss -->\r\n     <g transform=\"translate(67.103125 524.485938)scale(0.1 -0.1)\">\r\n      <defs>\r\n       <path d=\"M 2.984375 54.6875 \r\nL 12.5 54.6875 \r\nL 29.59375 8.796875 \r\nL 46.6875 54.6875 \r\nL 56.203125 54.6875 \r\nL 35.6875 0 \r\nL 23.484375 0 \r\nz\r\n\" id=\"DejaVuSans-118\"/>\r\n       <path d=\"M 50.984375 -16.609375 \r\nL 50.984375 -23.578125 \r\nL -0.984375 -23.578125 \r\nL -0.984375 -16.609375 \r\nz\r\n\" id=\"DejaVuSans-95\"/>\r\n      </defs>\r\n      <use xlink:href=\"#DejaVuSans-118\"/>\r\n      <use x=\"59.179688\" xlink:href=\"#DejaVuSans-97\"/>\r\n      <use x=\"120.458984\" xlink:href=\"#DejaVuSans-108\"/>\r\n      <use x=\"148.242188\" xlink:href=\"#DejaVuSans-95\"/>\r\n      <use x=\"198.242188\" xlink:href=\"#DejaVuSans-108\"/>\r\n      <use x=\"226.025391\" xlink:href=\"#DejaVuSans-111\"/>\r\n      <use x=\"287.207031\" xlink:href=\"#DejaVuSans-115\"/>\r\n      <use x=\"339.306641\" xlink:href=\"#DejaVuSans-115\"/>\r\n     </g>\r\n    </g>\r\n    <g id=\"line2d_26\">\r\n     <path d=\"M 39.103125 535.942188 \r\nL 59.103125 535.942188 \r\n\" style=\"fill:none;stroke:#d62728;stroke-linecap:square;stroke-width:1.5;\"/>\r\n    </g>\r\n    <g id=\"line2d_27\"/>\r\n    <g id=\"text_19\">\r\n     <!-- val_accuracy -->\r\n     <g transform=\"translate(67.103125 539.442188)scale(0.1 -0.1)\">\r\n      <use xlink:href=\"#DejaVuSans-118\"/>\r\n      <use x=\"59.179688\" xlink:href=\"#DejaVuSans-97\"/>\r\n      <use x=\"120.458984\" xlink:href=\"#DejaVuSans-108\"/>\r\n      <use x=\"148.242188\" xlink:href=\"#DejaVuSans-95\"/>\r\n      <use x=\"198.242188\" xlink:href=\"#DejaVuSans-97\"/>\r\n      <use x=\"259.521484\" xlink:href=\"#DejaVuSans-99\"/>\r\n      <use x=\"314.501953\" xlink:href=\"#DejaVuSans-99\"/>\r\n      <use x=\"369.482422\" xlink:href=\"#DejaVuSans-117\"/>\r\n      <use x=\"432.861328\" xlink:href=\"#DejaVuSans-114\"/>\r\n      <use x=\"473.974609\" xlink:href=\"#DejaVuSans-97\"/>\r\n      <use x=\"535.253906\" xlink:href=\"#DejaVuSans-99\"/>\r\n      <use x=\"590.234375\" xlink:href=\"#DejaVuSans-121\"/>\r\n     </g>\r\n    </g>\r\n   </g>\r\n  </g>\r\n </g>\r\n <defs>\r\n  <clipPath id=\"pa4e062bd32\">\r\n   <rect height=\"543.6\" width=\"669.6\" x=\"30.103125\" y=\"7.2\"/>\r\n  </clipPath>\r\n </defs>\r\n</svg>\r\n",
      "image/png": "[encoded data removed]"
     },
     "metadata": {
      "needs_background": "light"
     }
    }
   ],
   "source": [
    "import matplotlib.pyplot as plt\n",
    "fig,ax = plt.subplots(1,1,figsize = (12,10))\n",
    "ax.plot(df.index.values.tolist(),df[\"loss\"], label = \"loss\")\n",
    "ax.plot(df.index.values.tolist(),df[\"accuracy\"], label = \"accuracy\")\n",
    "ax.plot(df.index.values.tolist(),df[\"val_loss\"], label = \"val_loss\")\n",
    "ax.plot(df.index.values.tolist(),df[\"val_accuracy\"], label = \"val_accuracy\")\n",
    "ax.legend()"
   ]
  },
  {
   "cell_type": "code",
   "execution_count": 24,
   "metadata": {},
   "outputs": [
    {
     "output_type": "stream",
     "name": "stdout",
     "text": [
      "313/313 [==============================] - 1s 3ms/step - loss: 72.5884 - accuracy: 0.8308\n"
     ]
    },
    {
     "output_type": "execute_result",
     "data": {
      "text/plain": [
       "{'loss': 72.58840942382812, 'accuracy': 0.8307999968528748}"
      ]
     },
     "metadata": {},
     "execution_count": 24
    }
   ],
   "source": [
    "model.evaluate(X_test, y_test, return_dict=True)"
   ]
  },
  {
   "source": [
    "Making predictions using a model"
   ],
   "cell_type": "markdown",
   "metadata": {}
  },
  {
   "cell_type": "code",
   "execution_count": 25,
   "metadata": {},
   "outputs": [],
   "source": [
    "X_new = X_test[:3]\n",
    "y_proba = model.predict(X_new)\n",
    "#y_proba.round(2)"
   ]
  },
  {
   "cell_type": "code",
   "execution_count": 26,
   "metadata": {},
   "outputs": [
    {
     "output_type": "execute_result",
     "data": {
      "text/plain": [
       "array([[0., 0., 0., 0., 0., 0., 0., 0., 0., 1.],\n",
       "       [0., 0., 1., 0., 0., 0., 0., 0., 0., 0.],\n",
       "       [0., 1., 0., 0., 0., 0., 0., 0., 0., 0.]], dtype=float32)"
      ]
     },
     "metadata": {},
     "execution_count": 26
    }
   ],
   "source": [
    "y_proba"
   ]
  },
  {
   "cell_type": "code",
   "execution_count": 27,
   "metadata": {},
   "outputs": [
    {
     "output_type": "stream",
     "name": "stderr",
     "text": [
      "C:\\Users\\ASUS\\AppData\\Roaming\\Python\\Python38\\site-packages\\tensorflow\\python\\keras\\engine\\sequential.py:450: UserWarning: `model.predict_classes()` is deprecated and will be removed after 2021-01-01. Please use instead:* `np.argmax(model.predict(x), axis=-1)`,   if your model does multi-class classification   (e.g. if it uses a `softmax` last-layer activation).* `(model.predict(x) > 0.5).astype(\"int32\")`,   if your model does binary classification   (e.g. if it uses a `sigmoid` last-layer activation).\n  warnings.warn('`model.predict_classes()` is deprecated and '\n"
     ]
    },
    {
     "output_type": "execute_result",
     "data": {
      "text/plain": [
       "array([9, 2, 1], dtype=int64)"
      ]
     },
     "metadata": {},
     "execution_count": 27
    }
   ],
   "source": [
    "model.predict_classes(X_new)"
   ]
  },
  {
   "source": [
    "<h2> Building a Regression MLP using the Sequential API </h2> "
   ],
   "cell_type": "markdown",
   "metadata": {}
  },
  {
   "cell_type": "code",
   "execution_count": 28,
   "metadata": {},
   "outputs": [],
   "source": [
    "#using a regression neural network\n",
    "from sklearn.datasets import fetch_california_housing\n",
    "from sklearn.model_selection import train_test_split\n",
    "from sklearn.preprocessing import StandardScaler\n",
    "\n",
    "housing = fetch_california_housing()\n",
    "x_train_full_reg,x_test_reg,y_train_full_reg,y_test_reg = train_test_split(housing.data, housing.target)\n",
    "\n",
    "\n",
    "x_train_reg, x_valid_reg, y_train_reg, y_valid_reg = train_test_split(x_train_full_reg, y_train_full_reg)"
   ]
  },
  {
   "cell_type": "code",
   "execution_count": 29,
   "metadata": {},
   "outputs": [],
   "source": [
    "scaler = StandardScaler()\n",
    "#notice that we fit_transform on the train set and transform on the validation and test sets\n",
    "x_train_reg_scaled = scaler.fit_transform(x_train_reg)\n",
    "x_valid_reg_scaled = scaler.transform(x_valid_reg)\n",
    "x_test_reg_scaled = scaler.transform(x_test_reg)"
   ]
  },
  {
   "cell_type": "code",
   "execution_count": 30,
   "metadata": {},
   "outputs": [],
   "source": [
    "model_reg = keras.models.Sequential()"
   ]
  },
  {
   "cell_type": "code",
   "execution_count": 31,
   "metadata": {},
   "outputs": [],
   "source": [
    "#adding input layer\n",
    "model_reg.add(keras.layers.InputLayer(input_shape = x_train_reg_scaled.shape[1:]))\n",
    "model_reg.add(keras.layers.Dense(30, activation = \"relu\"))\n",
    "#the output neuron has no activation function to it\n",
    "model_reg.add(keras.layers.Dense(1))"
   ]
  },
  {
   "cell_type": "code",
   "execution_count": 32,
   "metadata": {},
   "outputs": [
    {
     "output_type": "stream",
     "name": "stdout",
     "text": [
      "Model: \"sequential_1\"\n_________________________________________________________________\nLayer (type)                 Output Shape              Param #   \n=================================================================\ndense_3 (Dense)              (None, 30)                270       \n_________________________________________________________________\ndense_4 (Dense)              (None, 1)                 31        \n=================================================================\nTotal params: 301\nTrainable params: 301\nNon-trainable params: 0\n_________________________________________________________________\n"
     ]
    }
   ],
   "source": [
    "model_reg.summary()"
   ]
  },
  {
   "cell_type": "code",
   "execution_count": 33,
   "metadata": {},
   "outputs": [],
   "source": [
    "#no need to always add the input_layer. We can always user keras.layers.Dense\n",
    "model_test = keras.models.Sequential([\n",
    "keras.layers.Dense(30, activation=\"relu\", input_shape=x_train_reg_scaled.shape[1:]),\n",
    "keras.layers.Dense(1)\n",
    "])"
   ]
  },
  {
   "cell_type": "code",
   "execution_count": 34,
   "metadata": {},
   "outputs": [
    {
     "output_type": "execute_result",
     "data": {
      "text/plain": [
       "(8,)"
      ]
     },
     "metadata": {},
     "execution_count": 34
    }
   ],
   "source": [
    "x_train_reg_scaled.shape[1:]"
   ]
  },
  {
   "cell_type": "code",
   "execution_count": 35,
   "metadata": {},
   "outputs": [
    {
     "output_type": "stream",
     "name": "stdout",
     "text": [
      "Model: \"sequential_2\"\n_________________________________________________________________\nLayer (type)                 Output Shape              Param #   \n=================================================================\ndense_5 (Dense)              (None, 30)                270       \n_________________________________________________________________\ndense_6 (Dense)              (None, 1)                 31        \n=================================================================\nTotal params: 301\nTrainable params: 301\nNon-trainable params: 0\n_________________________________________________________________\n"
     ]
    }
   ],
   "source": [
    "model_test.summary()"
   ]
  },
  {
   "cell_type": "code",
   "execution_count": 36,
   "metadata": {},
   "outputs": [],
   "source": [
    "model_reg.compile(loss = \"mean_squared_error\", optimizer = \"sgd\", metrics=tf.keras.metrics.MeanSquaredError())"
   ]
  },
  {
   "cell_type": "code",
   "execution_count": 37,
   "metadata": {},
   "outputs": [
    {
     "output_type": "stream",
     "name": "stdout",
     "text": [
      "Epoch 1/20\n",
      "363/363 [==============================] - 3s 4ms/step - loss: 2.2604 - mean_squared_error: 2.2604 - val_loss: 4.3936 - val_mean_squared_error: 4.3936\n",
      "Epoch 2/20\n",
      "363/363 [==============================] - 1s 3ms/step - loss: 160.7994 - mean_squared_error: 160.7994 - val_loss: 1.2169 - val_mean_squared_error: 1.2169\n",
      "Epoch 3/20\n",
      "363/363 [==============================] - 1s 2ms/step - loss: 0.9052 - mean_squared_error: 0.9052 - val_loss: 9901.3223 - val_mean_squared_error: 9901.3223\n",
      "Epoch 4/20\n",
      "363/363 [==============================] - 1s 1ms/step - loss: nan - mean_squared_error: nan - val_loss: nan - val_mean_squared_error: nan\n",
      "Epoch 5/20\n",
      "363/363 [==============================] - 1s 1ms/step - loss: nan - mean_squared_error: nan - val_loss: nan - val_mean_squared_error: nan\n",
      "Epoch 6/20\n",
      "363/363 [==============================] - 1s 2ms/step - loss: nan - mean_squared_error: nan - val_loss: nan - val_mean_squared_error: nan\n",
      "Epoch 7/20\n",
      "363/363 [==============================] - 0s 1ms/step - loss: nan - mean_squared_error: nan - val_loss: nan - val_mean_squared_error: nan\n",
      "Epoch 8/20\n",
      "363/363 [==============================] - 1s 2ms/step - loss: nan - mean_squared_error: nan - val_loss: nan - val_mean_squared_error: nan\n",
      "Epoch 9/20\n",
      "363/363 [==============================] - 1s 3ms/step - loss: nan - mean_squared_error: nan - val_loss: nan - val_mean_squared_error: nan\n",
      "Epoch 10/20\n",
      "363/363 [==============================] - 2s 5ms/step - loss: nan - mean_squared_error: nan - val_loss: nan - val_mean_squared_error: nan\n",
      "Epoch 11/20\n",
      "363/363 [==============================] - 1s 2ms/step - loss: nan - mean_squared_error: nan - val_loss: nan - val_mean_squared_error: nan\n",
      "Epoch 12/20\n",
      "363/363 [==============================] - 1s 2ms/step - loss: nan - mean_squared_error: nan - val_loss: nan - val_mean_squared_error: nan\n",
      "Epoch 13/20\n",
      "363/363 [==============================] - 1s 2ms/step - loss: nan - mean_squared_error: nan - val_loss: nan - val_mean_squared_error: nan\n",
      "Epoch 14/20\n",
      "363/363 [==============================] - 1s 2ms/step - loss: nan - mean_squared_error: nan - val_loss: nan - val_mean_squared_error: nan\n",
      "Epoch 15/20\n",
      "363/363 [==============================] - 1s 2ms/step - loss: nan - mean_squared_error: nan - val_loss: nan - val_mean_squared_error: nan\n",
      "Epoch 16/20\n",
      "363/363 [==============================] - 1s 2ms/step - loss: nan - mean_squared_error: nan - val_loss: nan - val_mean_squared_error: nan\n",
      "Epoch 17/20\n",
      "363/363 [==============================] - 1s 2ms/step - loss: nan - mean_squared_error: nan - val_loss: nan - val_mean_squared_error: nan\n",
      "Epoch 18/20\n",
      "363/363 [==============================] - 1s 1ms/step - loss: nan - mean_squared_error: nan - val_loss: nan - val_mean_squared_error: nan\n",
      "Epoch 19/20\n",
      "363/363 [==============================] - 0s 1ms/step - loss: nan - mean_squared_error: nan - val_loss: nan - val_mean_squared_error: nan\n",
      "Epoch 20/20\n",
      "363/363 [==============================] - 0s 1ms/step - loss: nan - mean_squared_error: nan - val_loss: nan - val_mean_squared_error: nan\n"
     ]
    }
   ],
   "source": [
    "\"\"\" for epoch in range(n_epochs):\n",
    "for i in range(m):\n",
    "random_index = np.random.randint(m)\n",
    "xi = X_b[random_index:random_index+1]\n",
    "yi = y[random_index:random_index+1]\n",
    "gradients = 2 * xi.T.dot(xi.dot(theta) - yi)\n",
    "eta = learning_schedule(epoch * m + i)\n",
    "theta = theta - eta * gradients \"\"\"\n",
    "\n",
    "#The above code shows how epochs work. For each epoch, It selects batches of instances and then applies the training for a stochastic instance in each batch.\n",
    "\n",
    "history = model_reg.fit(x_train_reg_scaled, y_train_reg, epochs = 20, validation_data = (x_valid_reg_scaled, y_valid_reg))\n"
   ]
  },
  {
   "cell_type": "code",
   "execution_count": 38,
   "metadata": {},
   "outputs": [
    {
     "output_type": "execute_result",
     "data": {
      "text/plain": [
       "{'loss': [1.2538857460021973,\n",
       "  82.60726165771484,\n",
       "  3.6981916427612305,\n",
       "  nan,\n",
       "  nan,\n",
       "  nan,\n",
       "  nan,\n",
       "  nan,\n",
       "  nan,\n",
       "  nan,\n",
       "  nan,\n",
       "  nan,\n",
       "  nan,\n",
       "  nan,\n",
       "  nan,\n",
       "  nan,\n",
       "  nan,\n",
       "  nan,\n",
       "  nan,\n",
       "  nan],\n",
       " 'mean_squared_error': [1.2538857460021973,\n",
       "  82.60726165771484,\n",
       "  3.6981916427612305,\n",
       "  nan,\n",
       "  nan,\n",
       "  nan,\n",
       "  nan,\n",
       "  nan,\n",
       "  nan,\n",
       "  nan,\n",
       "  nan,\n",
       "  nan,\n",
       "  nan,\n",
       "  nan,\n",
       "  nan,\n",
       "  nan,\n",
       "  nan,\n",
       "  nan,\n",
       "  nan,\n",
       "  nan],\n",
       " 'val_loss': [4.393558025360107,\n",
       "  1.216890573501587,\n",
       "  9901.322265625,\n",
       "  nan,\n",
       "  nan,\n",
       "  nan,\n",
       "  nan,\n",
       "  nan,\n",
       "  nan,\n",
       "  nan,\n",
       "  nan,\n",
       "  nan,\n",
       "  nan,\n",
       "  nan,\n",
       "  nan,\n",
       "  nan,\n",
       "  nan,\n",
       "  nan,\n",
       "  nan,\n",
       "  nan],\n",
       " 'val_mean_squared_error': [4.393558025360107,\n",
       "  1.216890573501587,\n",
       "  9901.322265625,\n",
       "  nan,\n",
       "  nan,\n",
       "  nan,\n",
       "  nan,\n",
       "  nan,\n",
       "  nan,\n",
       "  nan,\n",
       "  nan,\n",
       "  nan,\n",
       "  nan,\n",
       "  nan,\n",
       "  nan,\n",
       "  nan,\n",
       "  nan,\n",
       "  nan,\n",
       "  nan,\n",
       "  nan]}"
      ]
     },
     "metadata": {},
     "execution_count": 38
    }
   ],
   "source": [
    "history.history"
   ]
  },
  {
   "cell_type": "code",
   "execution_count": 39,
   "metadata": {},
   "outputs": [],
   "source": [
    "model_test.compile(loss = \"mean_squared_error\", optimizer = \"sgd\")"
   ]
  },
  {
   "cell_type": "code",
   "execution_count": 40,
   "metadata": {},
   "outputs": [
    {
     "output_type": "stream",
     "name": "stdout",
     "text": [
      "Epoch 1/20\n",
      "363/363 [==============================] - 1s 1ms/step - loss: 1.4031 - val_loss: 0.9046\n",
      "Epoch 2/20\n",
      "363/363 [==============================] - 0s 1ms/step - loss: 1.2462 - val_loss: 0.5674\n",
      "Epoch 3/20\n",
      "363/363 [==============================] - 0s 1ms/step - loss: 0.4577 - val_loss: 0.4518\n",
      "Epoch 4/20\n",
      "363/363 [==============================] - 0s 1ms/step - loss: 0.4180 - val_loss: 0.4144\n",
      "Epoch 5/20\n",
      "363/363 [==============================] - 0s 1ms/step - loss: 0.4072 - val_loss: 0.4435\n",
      "Epoch 6/20\n",
      "363/363 [==============================] - 1s 1ms/step - loss: 0.4108 - val_loss: 0.5782\n",
      "Epoch 7/20\n",
      "363/363 [==============================] - 0s 1ms/step - loss: 0.4390 - val_loss: 0.3956\n",
      "Epoch 8/20\n",
      "363/363 [==============================] - 0s 1ms/step - loss: 0.4118 - val_loss: 0.3782\n",
      "Epoch 9/20\n",
      "363/363 [==============================] - 0s 1ms/step - loss: 0.3956 - val_loss: 0.3762\n",
      "Epoch 10/20\n",
      "363/363 [==============================] - 0s 1ms/step - loss: 0.4012 - val_loss: 0.3725\n",
      "Epoch 11/20\n",
      "363/363 [==============================] - 0s 1ms/step - loss: 0.3646 - val_loss: 0.3712\n",
      "Epoch 12/20\n",
      "363/363 [==============================] - 0s 1ms/step - loss: 0.3769 - val_loss: 0.3714\n",
      "Epoch 13/20\n",
      "363/363 [==============================] - 0s 983us/step - loss: 0.3734 - val_loss: 0.3650\n",
      "Epoch 14/20\n",
      "363/363 [==============================] - 0s 1ms/step - loss: 0.3494 - val_loss: 0.3611\n",
      "Epoch 15/20\n",
      "363/363 [==============================] - 0s 1ms/step - loss: 0.3457 - val_loss: 0.3573\n",
      "Epoch 16/20\n",
      "363/363 [==============================] - 0s 1ms/step - loss: 0.3462 - val_loss: 0.3838\n",
      "Epoch 17/20\n",
      "363/363 [==============================] - 0s 1ms/step - loss: 0.3685 - val_loss: 0.3750\n",
      "Epoch 18/20\n",
      "363/363 [==============================] - 0s 1ms/step - loss: 0.3602 - val_loss: 0.3569\n",
      "Epoch 19/20\n",
      "363/363 [==============================] - 0s 1ms/step - loss: 0.3595 - val_loss: 0.3542\n",
      "Epoch 20/20\n",
      "363/363 [==============================] - 0s 1ms/step - loss: 0.3793 - val_loss: 0.3501\n"
     ]
    }
   ],
   "source": [
    "\n",
    "history = model_test.fit(x_train_reg_scaled, y_train_reg, epochs = 20, validation_data = (x_valid_reg_scaled, y_valid_reg))"
   ]
  },
  {
   "source": [
    "<h3> Building complex models using the Functional API </h3> \n",
    "\n",
    "These are non sequential neural networks. This architecture allows a neural network to learn both deep patterns (using the deep path) and simple rules (through the short path)"
   ],
   "cell_type": "markdown",
   "metadata": {}
  },
  {
   "cell_type": "code",
   "execution_count": 41,
   "metadata": {},
   "outputs": [],
   "source": [
    "#for functional APIS\n",
    "#new layer = newlayerconfig(previous_layer)\n",
    "#create an Input opbject\n",
    "inputlayer = keras.layers.Input(shape = x_train_full_reg.shape[1:])\n",
    "#30 neuron dense layer using ReLU activation. Once created we call it like a function and pass in the input layer as a parameter\n",
    "hidden1 = keras.layers.Dense(30, activation = \"relu\")(inputlayer)\n",
    "#second hidden layer\n",
    "hidden2 = keras.layers.Dense(30, activation = \"relu\")(hidden1)\n",
    "#this concatenates the input and the output of the second layer\n",
    "concat = keras.layers.concatenate([inputlayer,hidden2])\n",
    "output = keras.layers.Dense(1)(concat)\n",
    "model = keras.models.Model(inputs = [inputlayer], outputs = [output])"
   ]
  },
  {
   "cell_type": "code",
   "execution_count": 42,
   "metadata": {},
   "outputs": [
    {
     "output_type": "stream",
     "name": "stdout",
     "text": [
      "Model: \"model\"\n__________________________________________________________________________________________________\nLayer (type)                    Output Shape         Param #     Connected to                     \n==================================================================================================\ninput_2 (InputLayer)            [(None, 8)]          0                                            \n__________________________________________________________________________________________________\ndense_7 (Dense)                 (None, 30)           270         input_2[0][0]                    \n__________________________________________________________________________________________________\ndense_8 (Dense)                 (None, 30)           930         dense_7[0][0]                    \n__________________________________________________________________________________________________\nconcatenate (Concatenate)       (None, 38)           0           input_2[0][0]                    \n                                                                 dense_8[0][0]                    \n__________________________________________________________________________________________________\ndense_9 (Dense)                 (None, 1)            39          concatenate[0][0]                \n==================================================================================================\nTotal params: 1,239\nTrainable params: 1,239\nNon-trainable params: 0\n__________________________________________________________________________________________________\n"
     ]
    }
   ],
   "source": [
    "model.summary()"
   ]
  },
  {
   "cell_type": "code",
   "execution_count": 43,
   "metadata": {},
   "outputs": [],
   "source": [
    "#sending a subset of features through the wide path and a different subset through the deep path\n",
    "input_A = keras.layers.Input(shape = [5])\n",
    "input_B = keras.layers.Input(shape = [6])\n",
    "hidden1 = keras.layers.Dense(30, activation = 'relu')(input_B)\n",
    "hidden2 = keras.layers.Dense(30, activation = \"relu\")(hidden1)\n",
    "concat_2 = keras.layers.concatenate([input_A, hidden2])\n",
    "output = keras.layers.Dense(1)(concat_2)\n",
    "model = keras.models.Model(inputs = [input_A,input_B], outputs = [output])"
   ]
  },
  {
   "cell_type": "code",
   "execution_count": 44,
   "metadata": {},
   "outputs": [
    {
     "output_type": "stream",
     "name": "stdout",
     "text": [
      "Epoch 1/20\n",
      "363/363 [==============================] - 1s 2ms/step - loss: 2.0716 - mean_squared_error: 2.0716 - val_loss: 0.5896 - val_mean_squared_error: 0.5896\n",
      "Epoch 2/20\n",
      "363/363 [==============================] - 0s 1ms/step - loss: 0.7421 - mean_squared_error: 0.7421 - val_loss: 5.2934 - val_mean_squared_error: 5.2934\n",
      "Epoch 3/20\n",
      "363/363 [==============================] - 0s 1ms/step - loss: 2.8195 - mean_squared_error: 2.8195 - val_loss: 0.5234 - val_mean_squared_error: 0.5234\n",
      "Epoch 4/20\n",
      "363/363 [==============================] - 0s 1ms/step - loss: 0.4834 - mean_squared_error: 0.4834 - val_loss: 0.4880 - val_mean_squared_error: 0.4880\n",
      "Epoch 5/20\n",
      "363/363 [==============================] - 1s 2ms/step - loss: 0.4201 - mean_squared_error: 0.4201 - val_loss: 0.4314 - val_mean_squared_error: 0.4314\n",
      "Epoch 6/20\n",
      "363/363 [==============================] - 1s 1ms/step - loss: 0.4021 - mean_squared_error: 0.4021 - val_loss: 0.4183 - val_mean_squared_error: 0.4183\n",
      "Epoch 7/20\n",
      "363/363 [==============================] - 1s 2ms/step - loss: 0.4152 - mean_squared_error: 0.4152 - val_loss: 0.4005 - val_mean_squared_error: 0.4005\n",
      "Epoch 8/20\n",
      "363/363 [==============================] - 0s 1ms/step - loss: 0.3897 - mean_squared_error: 0.3897 - val_loss: 0.4079 - val_mean_squared_error: 0.4079\n",
      "Epoch 9/20\n",
      "363/363 [==============================] - 0s 1ms/step - loss: 0.3958 - mean_squared_error: 0.3958 - val_loss: 0.3943 - val_mean_squared_error: 0.3943\n",
      "Epoch 10/20\n",
      "363/363 [==============================] - 1s 2ms/step - loss: 0.3754 - mean_squared_error: 0.3754 - val_loss: 0.3858 - val_mean_squared_error: 0.3858\n",
      "Epoch 11/20\n",
      "363/363 [==============================] - 0s 1ms/step - loss: 0.3740 - mean_squared_error: 0.3740 - val_loss: 0.3864 - val_mean_squared_error: 0.3864\n",
      "Epoch 12/20\n",
      "363/363 [==============================] - 0s 1ms/step - loss: 0.3506 - mean_squared_error: 0.3506 - val_loss: 0.3811 - val_mean_squared_error: 0.3811\n",
      "Epoch 13/20\n",
      "363/363 [==============================] - 0s 1ms/step - loss: 0.3537 - mean_squared_error: 0.3537 - val_loss: 0.3840 - val_mean_squared_error: 0.3840\n",
      "Epoch 14/20\n",
      "363/363 [==============================] - 0s 1ms/step - loss: 0.3474 - mean_squared_error: 0.3474 - val_loss: 0.3730 - val_mean_squared_error: 0.3730\n",
      "Epoch 15/20\n",
      "363/363 [==============================] - 0s 1ms/step - loss: 0.3444 - mean_squared_error: 0.3444 - val_loss: 0.3705 - val_mean_squared_error: 0.3705\n",
      "Epoch 16/20\n",
      "363/363 [==============================] - 0s 1ms/step - loss: 0.3374 - mean_squared_error: 0.3374 - val_loss: 0.3836 - val_mean_squared_error: 0.3836\n",
      "Epoch 17/20\n",
      "363/363 [==============================] - 0s 1ms/step - loss: 0.3547 - mean_squared_error: 0.3547 - val_loss: 0.3675 - val_mean_squared_error: 0.3675\n",
      "Epoch 18/20\n",
      "363/363 [==============================] - 0s 1ms/step - loss: 0.3395 - mean_squared_error: 0.3395 - val_loss: 0.3579 - val_mean_squared_error: 0.3579\n",
      "Epoch 19/20\n",
      "363/363 [==============================] - 0s 1ms/step - loss: 0.3370 - mean_squared_error: 0.3370 - val_loss: 0.3618 - val_mean_squared_error: 0.3618\n",
      "Epoch 20/20\n",
      "363/363 [==============================] - 0s 1ms/step - loss: 0.3475 - mean_squared_error: 0.3475 - val_loss: 0.3674 - val_mean_squared_error: 0.3674\n",
      "162/162 [==============================] - 0s 657us/step - loss: 0.3641 - mean_squared_error: 0.3641\n"
     ]
    }
   ],
   "source": [
    "#instead of passing a single input matrix, we need to input 2 different matrices. \n",
    "#using a regression neural network\n",
    "from sklearn.datasets import fetch_california_housing\n",
    "from sklearn.model_selection import train_test_split\n",
    "from sklearn.preprocessing import StandardScaler\n",
    "\n",
    "housing = fetch_california_housing()\n",
    "x_train_full_reg,x_test_reg,y_train_full_reg,y_test_reg = train_test_split(housing.data, housing.target)\n",
    "\n",
    "\n",
    "x_train_reg, x_valid_reg, y_train_reg, y_valid_reg = train_test_split(x_train_full_reg, y_train_full_reg)\n",
    "scaler = StandardScaler()\n",
    "#notice that we fit_transform on the train set and transform on the validation and test sets\n",
    "x_train_reg = scaler.fit_transform(x_train_reg)\n",
    "x_valid_reg = scaler.transform(x_valid_reg)\n",
    "x_test_reg= scaler.transform(x_test_reg)\n",
    "\n",
    "model.compile(loss = \"mse\", optimizer = \"sgd\", metrics= tf.keras.metrics.MeanSquaredError())\n",
    "\n",
    "X_train_A, X_train_B = x_train_reg[:,:5],x_train_reg[:,2:]\n",
    "X_valid_A, X_valid_B = x_valid_reg[:,:5],x_valid_reg[:,2:]\n",
    "X_test_A,X_test_B = x_test_reg[:,:5],x_test_reg[:,2:]\n",
    "X_new_A,X_new_B = X_test_A[:3], X_test_B[:3]\n",
    "\n",
    "model.fit((X_train_A,X_train_B),y_train_reg, epochs = 20, validation_data = ((X_valid_A, X_valid_B),y_valid_reg))\n",
    "\n",
    "mse_test = model.evaluate((X_test_A,X_test_B),y_test_reg)\n",
    "\n",
    "y_pred_test = model.predict((X_test_A, X_test_B))"
   ]
  },
  {
   "cell_type": "code",
   "execution_count": null,
   "metadata": {},
   "outputs": [],
   "source": []
  },
  {
   "cell_type": "code",
   "execution_count": 45,
   "metadata": {},
   "outputs": [
    {
     "output_type": "execute_result",
     "data": {
      "text/plain": [
       "array([[1.5185499],\n",
       "       [2.981575 ],\n",
       "       [2.023159 ],\n",
       "       ...,\n",
       "       [1.2162044],\n",
       "       [1.361015 ],\n",
       "       [1.8748822]], dtype=float32)"
      ]
     },
     "metadata": {},
     "execution_count": 45
    }
   ],
   "source": [
    "y_pred_test"
   ]
  },
  {
   "source": [
    "<h3> There can be situations in which you want multiple outputs </h3> \n",
    "\n",
    "- Locating an object in a picture (regression to find coordinates and classification to classify image)\n",
    "\n",
    "- Multiple independent tasks to perform based on the same data. Train one neural network per task is possible, but this is inefficient. Also training one neural network with mutltiple outputs for the entire set of tasks allows higher accuracy too. This is because the neural network can learn data useful across the tasks. \n"
   ],
   "cell_type": "markdown",
   "metadata": {}
  },
  {
   "cell_type": "code",
   "execution_count": 46,
   "metadata": {},
   "outputs": [],
   "source": [
    "#multioutput\n",
    "input_A_multi = keras.layers.Input(shape = [5])\n",
    "input_B_mutli = keras.layers.Input(shape = [6])\n",
    "hidden1_multi = keras.layers.Dense(30, activation = 'relu')(input_B_mutli)\n",
    "hidden2_multi = keras.layers.Dense(30, activation = 'relu')(hidden1_multi)\n",
    "concat_multi = keras.layers.concatenate([input_A_multi, hidden2_multi])\n",
    "output1 = keras.layers.Dense(1)(concat_multi)\n",
    "output_aux = keras.layers.Dense(1)(hidden1_multi)\n",
    "model_multi = keras.models.Model(inputs = [input_A_multi,input_B_mutli], outputs = [output1,output_aux])"
   ]
  },
  {
   "source": [
    "For multi output neural networks, each output requires its own loss function. If one is passed, keras assumes its the same for all."
   ],
   "cell_type": "markdown",
   "metadata": {}
  },
  {
   "cell_type": "code",
   "execution_count": 47,
   "metadata": {},
   "outputs": [],
   "source": [
    "#usually different outputs will be given different weights\n",
    "model_multi.compile(loss = ['mse','mse'],loss_weights = [0.9,0.1],optimizer = \"sgd\")\n"
   ]
  },
  {
   "cell_type": "code",
   "execution_count": 48,
   "metadata": {},
   "outputs": [
    {
     "output_type": "stream",
     "name": "stdout",
     "text": [
      "Epoch 1/20\n",
      "363/363 [==============================] - 1s 2ms/step - loss: 1.7281 - dense_15_loss: 1.5138 - dense_16_loss: 3.6569 - val_loss: 1.3791 - val_dense_15_loss: 1.3791 - val_dense_16_loss: 1.3787\n",
      "Epoch 2/20\n",
      "363/363 [==============================] - 0s 1ms/step - loss: 2.8989 - dense_15_loss: 3.0781 - dense_16_loss: 1.2863 - val_loss: 1.1918 - val_dense_15_loss: 1.1918 - val_dense_16_loss: 1.1919\n",
      "Epoch 3/20\n",
      "363/363 [==============================] - 0s 1ms/step - loss: 0.7037 - dense_15_loss: 0.6530 - dense_16_loss: 1.1602 - val_loss: 0.5870 - val_dense_15_loss: 0.5360 - val_dense_16_loss: 1.0459\n",
      "Epoch 4/20\n",
      "363/363 [==============================] - 0s 1ms/step - loss: 0.5608 - dense_15_loss: 0.5104 - dense_16_loss: 1.0143 - val_loss: 0.5135 - val_dense_15_loss: 0.4647 - val_dense_16_loss: 0.9534\n",
      "Epoch 5/20\n",
      "363/363 [==============================] - 0s 1ms/step - loss: 0.5013 - dense_15_loss: 0.4535 - dense_16_loss: 0.9321 - val_loss: 0.4857 - val_dense_15_loss: 0.4419 - val_dense_16_loss: 0.8805\n",
      "Epoch 6/20\n",
      "363/363 [==============================] - 0s 1ms/step - loss: 0.4802 - dense_15_loss: 0.4379 - dense_16_loss: 0.8612 - val_loss: 0.4582 - val_dense_15_loss: 0.4165 - val_dense_16_loss: 0.8334\n",
      "Epoch 7/20\n",
      "363/363 [==============================] - 0s 1ms/step - loss: 0.4668 - dense_15_loss: 0.4284 - dense_16_loss: 0.8131 - val_loss: 0.4482 - val_dense_15_loss: 0.4098 - val_dense_16_loss: 0.7946\n",
      "Epoch 8/20\n",
      "363/363 [==============================] - 0s 1ms/step - loss: 0.4544 - dense_15_loss: 0.4199 - dense_16_loss: 0.7652 - val_loss: 0.4449 - val_dense_15_loss: 0.4088 - val_dense_16_loss: 0.7699\n",
      "Epoch 9/20\n",
      "363/363 [==============================] - 0s 1ms/step - loss: 0.4409 - dense_15_loss: 0.4061 - dense_16_loss: 0.7546 - val_loss: 0.4461 - val_dense_15_loss: 0.4090 - val_dense_16_loss: 0.7798\n",
      "Epoch 10/20\n",
      "363/363 [==============================] - 0s 1ms/step - loss: 0.4183 - dense_15_loss: 0.3845 - dense_16_loss: 0.7220 - val_loss: 0.4319 - val_dense_15_loss: 0.3970 - val_dense_16_loss: 0.7457\n",
      "Epoch 11/20\n",
      "363/363 [==============================] - 0s 1ms/step - loss: 0.4174 - dense_15_loss: 0.3845 - dense_16_loss: 0.7141 - val_loss: 0.4228 - val_dense_15_loss: 0.3877 - val_dense_16_loss: 0.7390\n",
      "Epoch 12/20\n",
      "363/363 [==============================] - 0s 1ms/step - loss: 0.3862 - dense_15_loss: 0.3552 - dense_16_loss: 0.6652 - val_loss: 0.4892 - val_dense_15_loss: 0.4566 - val_dense_16_loss: 0.7831\n",
      "Epoch 13/20\n",
      "363/363 [==============================] - 0s 1ms/step - loss: 0.3931 - dense_15_loss: 0.3602 - dense_16_loss: 0.6897 - val_loss: 0.4174 - val_dense_15_loss: 0.3814 - val_dense_16_loss: 0.7412\n",
      "Epoch 14/20\n",
      "363/363 [==============================] - 0s 1ms/step - loss: 0.3921 - dense_15_loss: 0.3602 - dense_16_loss: 0.6790 - val_loss: 0.4796 - val_dense_15_loss: 0.4555 - val_dense_16_loss: 0.6962\n",
      "Epoch 15/20\n",
      "363/363 [==============================] - 0s 1ms/step - loss: 0.3925 - dense_15_loss: 0.3630 - dense_16_loss: 0.6580 - val_loss: 0.4065 - val_dense_15_loss: 0.3737 - val_dense_16_loss: 0.7018\n",
      "Epoch 16/20\n",
      "363/363 [==============================] - 0s 1ms/step - loss: 0.3981 - dense_15_loss: 0.3674 - dense_16_loss: 0.6748 - val_loss: 0.4044 - val_dense_15_loss: 0.3678 - val_dense_16_loss: 0.7336\n",
      "Epoch 17/20\n",
      "363/363 [==============================] - 0s 1ms/step - loss: 0.3817 - dense_15_loss: 0.3514 - dense_16_loss: 0.6543 - val_loss: 0.4016 - val_dense_15_loss: 0.3678 - val_dense_16_loss: 0.7053\n",
      "Epoch 18/20\n",
      "363/363 [==============================] - 0s 1ms/step - loss: 0.3873 - dense_15_loss: 0.3572 - dense_16_loss: 0.6583 - val_loss: 0.4094 - val_dense_15_loss: 0.3773 - val_dense_16_loss: 0.6978\n",
      "Epoch 19/20\n",
      "363/363 [==============================] - 0s 1ms/step - loss: 0.3764 - dense_15_loss: 0.3476 - dense_16_loss: 0.6359 - val_loss: 0.3949 - val_dense_15_loss: 0.3602 - val_dense_16_loss: 0.7071\n",
      "Epoch 20/20\n",
      "363/363 [==============================] - 0s 1ms/step - loss: 0.3657 - dense_15_loss: 0.3359 - dense_16_loss: 0.6341 - val_loss: 0.4290 - val_dense_15_loss: 0.3990 - val_dense_16_loss: 0.6996\n"
     ]
    }
   ],
   "source": [
    "#as we are using auxillary outputs, we will need to pass in auxillary output labels too\n",
    "history = model_multi.fit([X_train_A,X_train_B],[y_train_reg,y_train_reg], epochs = 20, validation_data= ([X_valid_A, X_valid_B],[y_valid_reg, y_valid_reg]))"
   ]
  },
  {
   "cell_type": "code",
   "execution_count": 49,
   "metadata": {},
   "outputs": [
    {
     "output_type": "stream",
     "name": "stdout",
     "text": [
      "162/162 [==============================] - 0s 855us/step - loss: 0.4091 - dense_15_loss: 0.3823 - dense_16_loss: 0.6503\n"
     ]
    }
   ],
   "source": [
    "#if you have more than one output, you will have more than one loss\n",
    "total_loss, main_loss, aux_loss = model_multi.evaluate([X_test_A,X_test_B],[y_test_reg,y_test_reg])"
   ]
  },
  {
   "cell_type": "code",
   "execution_count": 50,
   "metadata": {},
   "outputs": [
    {
     "output_type": "execute_result",
     "data": {
      "text/plain": [
       "0.38230040669441223"
      ]
     },
     "metadata": {},
     "execution_count": 50
    }
   ],
   "source": [
    "main_loss"
   ]
  },
  {
   "cell_type": "code",
   "execution_count": 51,
   "metadata": {},
   "outputs": [],
   "source": [
    "y_pred_main, y_pred_aux = model_multi.predict([X_test_A,X_test_B])"
   ]
  },
  {
   "cell_type": "code",
   "execution_count": 52,
   "metadata": {},
   "outputs": [],
   "source": [
    "import seaborn as sns"
   ]
  },
  {
   "cell_type": "code",
   "execution_count": 53,
   "metadata": {},
   "outputs": [
    {
     "output_type": "execute_result",
     "data": {
      "text/plain": [
       "<matplotlib.legend.Legend at 0x24481e37910>"
      ]
     },
     "metadata": {},
     "execution_count": 53
    },
    {
     "output_type": "display_data",
     "data": {
      "text/plain": "<Figure size 576x720 with 1 Axes>",
      "image/svg+xml": "<?xml version=\"1.0\" encoding=\"utf-8\" standalone=\"no\"?>\r\n<!DOCTYPE svg PUBLIC \"-//W3C//DTD SVG 1.1//EN\"\r\n  \"http://www.w3.org/Graphics/SVG/1.1/DTD/svg11.dtd\">\r\n<!-- Created with matplotlib (https://matplotlib.org/) -->\r\n<svg height=\"574.678125pt\" version=\"1.1\" viewBox=\"0 0 500.565625 574.678125\" width=\"500.565625pt\" xmlns=\"http://www.w3.org/2000/svg\" xmlns:xlink=\"http://www.w3.org/1999/xlink\">\r\n <metadata>\r\n  <rdf:RDF xmlns:cc=\"http://creativecommons.org/ns#\" xmlns:dc=\"http://purl.org/dc/elements/1.1/\" xmlns:rdf=\"http://www.w3.org/1999/02/22-rdf-syntax-ns#\">\r\n   <cc:Work>\r\n    <dc:type rdf:resource=\"http://purl.org/dc/dcmitype/StillImage\"/>\r\n    <dc:date>2021-04-10T11:33:44.751907</dc:date>\r\n    <dc:format>image/svg+xml</dc:format>\r\n    <dc:creator>\r\n     <cc:Agent>\r\n      <dc:title>Matplotlib v3.3.4, https://matplotlib.org/</dc:title>\r\n     </cc:Agent>\r\n    </dc:creator>\r\n   </cc:Work>\r\n  </rdf:RDF>\r\n </metadata>\r\n <defs>\r\n  <style type=\"text/css\">*{stroke-linecap:butt;stroke-linejoin:round;}</style>\r\n </defs>\r\n <g id=\"figure_1\">\r\n  <g id=\"patch_1\">\r\n   <path d=\"M 0 574.678125 \r\nL 500.565625 574.678125 \r\nL 500.565625 0 \r\nL 0 0 \r\nz\r\n\" style=\"fill:none;\"/>\r\n  </g>\r\n  <g id=\"axes_1\">\r\n   <g id=\"patch_2\">\r\n    <path d=\"M 46.965625 550.8 \r\nL 493.365625 550.8 \r\nL 493.365625 7.2 \r\nL 46.965625 7.2 \r\nz\r\n\" style=\"fill:#ffffff;\"/>\r\n   </g>\r\n   <g id=\"patch_3\">\r\n    <path clip-path=\"url(#p53c580de68)\" d=\"M 67.256534 550.8 \r\nL 73.40529 550.8 \r\nL 73.40529 549.433999 \r\nL 67.256534 549.433999 \r\nz\r\n\" style=\"fill:#1f77b4;fill-opacity:0.75;stroke:#000000;stroke-linejoin:miter;stroke-width:0.614875;\"/>\r\n   </g>\r\n   <g id=\"patch_4\">\r\n    <path clip-path=\"url(#p53c580de68)\" d=\"M 73.40529 550.8 \r\nL 79.554055 550.8 \r\nL 79.554055 550.8 \r\nL 73.40529 550.8 \r\nz\r\n\" style=\"fill:#1f77b4;fill-opacity:0.75;stroke:#000000;stroke-linejoin:miter;stroke-width:0.614875;\"/>\r\n   </g>\r\n   <g id=\"patch_5\">\r\n    <path clip-path=\"url(#p53c580de68)\" d=\"M 79.554055 550.8 \r\nL 85.702811 550.8 \r\nL 85.702811 550.8 \r\nL 79.554055 550.8 \r\nz\r\n\" style=\"fill:#1f77b4;fill-opacity:0.75;stroke:#000000;stroke-linejoin:miter;stroke-width:0.614875;\"/>\r\n   </g>\r\n   <g id=\"patch_6\">\r\n    <path clip-path=\"url(#p53c580de68)\" d=\"M 85.702811 550.8 \r\nL 91.851577 550.8 \r\nL 91.851577 550.8 \r\nL 85.702811 550.8 \r\nz\r\n\" style=\"fill:#1f77b4;fill-opacity:0.75;stroke:#000000;stroke-linejoin:miter;stroke-width:0.614875;\"/>\r\n   </g>\r\n   <g id=\"patch_7\">\r\n    <path clip-path=\"url(#p53c580de68)\" d=\"M 91.851577 550.8 \r\nL 98.000332 550.8 \r\nL 98.000332 550.8 \r\nL 91.851577 550.8 \r\nz\r\n\" style=\"fill:#1f77b4;fill-opacity:0.75;stroke:#000000;stroke-linejoin:miter;stroke-width:0.614875;\"/>\r\n   </g>\r\n   <g id=\"patch_8\">\r\n    <path clip-path=\"url(#p53c580de68)\" d=\"M 98.000332 550.8 \r\nL 104.149098 550.8 \r\nL 104.149098 550.8 \r\nL 98.000332 550.8 \r\nz\r\n\" style=\"fill:#1f77b4;fill-opacity:0.75;stroke:#000000;stroke-linejoin:miter;stroke-width:0.614875;\"/>\r\n   </g>\r\n   <g id=\"patch_9\">\r\n    <path clip-path=\"url(#p53c580de68)\" d=\"M 104.149098 550.8 \r\nL 110.297854 550.8 \r\nL 110.297854 550.8 \r\nL 104.149098 550.8 \r\nz\r\n\" style=\"fill:#1f77b4;fill-opacity:0.75;stroke:#000000;stroke-linejoin:miter;stroke-width:0.614875;\"/>\r\n   </g>\r\n   <g id=\"patch_10\">\r\n    <path clip-path=\"url(#p53c580de68)\" d=\"M 110.297854 550.8 \r\nL 116.446619 550.8 \r\nL 116.446619 550.8 \r\nL 110.297854 550.8 \r\nz\r\n\" style=\"fill:#1f77b4;fill-opacity:0.75;stroke:#000000;stroke-linejoin:miter;stroke-width:0.614875;\"/>\r\n   </g>\r\n   <g id=\"patch_11\">\r\n    <path clip-path=\"url(#p53c580de68)\" d=\"M 116.446619 550.8 \r\nL 122.595375 550.8 \r\nL 122.595375 549.433999 \r\nL 116.446619 549.433999 \r\nz\r\n\" style=\"fill:#1f77b4;fill-opacity:0.75;stroke:#000000;stroke-linejoin:miter;stroke-width:0.614875;\"/>\r\n   </g>\r\n   <g id=\"patch_12\">\r\n    <path clip-path=\"url(#p53c580de68)\" d=\"M 122.595375 550.8 \r\nL 128.744136 550.8 \r\nL 128.744136 549.433999 \r\nL 122.595375 549.433999 \r\nz\r\n\" style=\"fill:#1f77b4;fill-opacity:0.75;stroke:#000000;stroke-linejoin:miter;stroke-width:0.614875;\"/>\r\n   </g>\r\n   <g id=\"patch_13\">\r\n    <path clip-path=\"url(#p53c580de68)\" d=\"M 128.744136 550.8 \r\nL 134.892896 550.8 \r\nL 134.892896 550.8 \r\nL 128.744136 550.8 \r\nz\r\n\" style=\"fill:#1f77b4;fill-opacity:0.75;stroke:#000000;stroke-linejoin:miter;stroke-width:0.614875;\"/>\r\n   </g>\r\n   <g id=\"patch_14\">\r\n    <path clip-path=\"url(#p53c580de68)\" d=\"M 134.892896 550.8 \r\nL 141.041657 550.8 \r\nL 141.041657 548.067998 \r\nL 134.892896 548.067998 \r\nz\r\n\" style=\"fill:#1f77b4;fill-opacity:0.75;stroke:#000000;stroke-linejoin:miter;stroke-width:0.614875;\"/>\r\n   </g>\r\n   <g id=\"patch_15\">\r\n    <path clip-path=\"url(#p53c580de68)\" d=\"M 141.041657 550.8 \r\nL 147.190417 550.8 \r\nL 147.190417 550.8 \r\nL 141.041657 550.8 \r\nz\r\n\" style=\"fill:#1f77b4;fill-opacity:0.75;stroke:#000000;stroke-linejoin:miter;stroke-width:0.614875;\"/>\r\n   </g>\r\n   <g id=\"patch_16\">\r\n    <path clip-path=\"url(#p53c580de68)\" d=\"M 147.190417 550.8 \r\nL 153.339178 550.8 \r\nL 153.339178 550.8 \r\nL 147.190417 550.8 \r\nz\r\n\" style=\"fill:#1f77b4;fill-opacity:0.75;stroke:#000000;stroke-linejoin:miter;stroke-width:0.614875;\"/>\r\n   </g>\r\n   <g id=\"patch_17\">\r\n    <path clip-path=\"url(#p53c580de68)\" d=\"M 153.339178 550.8 \r\nL 159.487939 550.8 \r\nL 159.487939 550.8 \r\nL 153.339178 550.8 \r\nz\r\n\" style=\"fill:#1f77b4;fill-opacity:0.75;stroke:#000000;stroke-linejoin:miter;stroke-width:0.614875;\"/>\r\n   </g>\r\n   <g id=\"patch_18\">\r\n    <path clip-path=\"url(#p53c580de68)\" d=\"M 159.487939 550.8 \r\nL 165.636699 550.8 \r\nL 165.636699 550.8 \r\nL 159.487939 550.8 \r\nz\r\n\" style=\"fill:#1f77b4;fill-opacity:0.75;stroke:#000000;stroke-linejoin:miter;stroke-width:0.614875;\"/>\r\n   </g>\r\n   <g id=\"patch_19\">\r\n    <path clip-path=\"url(#p53c580de68)\" d=\"M 165.636699 550.8 \r\nL 171.78546 550.8 \r\nL 171.78546 548.067998 \r\nL 165.636699 548.067998 \r\nz\r\n\" style=\"fill:#1f77b4;fill-opacity:0.75;stroke:#000000;stroke-linejoin:miter;stroke-width:0.614875;\"/>\r\n   </g>\r\n   <g id=\"patch_20\">\r\n    <path clip-path=\"url(#p53c580de68)\" d=\"M 171.78546 550.8 \r\nL 177.93422 550.8 \r\nL 177.93422 550.8 \r\nL 171.78546 550.8 \r\nz\r\n\" style=\"fill:#1f77b4;fill-opacity:0.75;stroke:#000000;stroke-linejoin:miter;stroke-width:0.614875;\"/>\r\n   </g>\r\n   <g id=\"patch_21\">\r\n    <path clip-path=\"url(#p53c580de68)\" d=\"M 177.93422 550.8 \r\nL 184.08298 550.8 \r\nL 184.08298 549.433999 \r\nL 177.93422 549.433999 \r\nz\r\n\" style=\"fill:#1f77b4;fill-opacity:0.75;stroke:#000000;stroke-linejoin:miter;stroke-width:0.614875;\"/>\r\n   </g>\r\n   <g id=\"patch_22\">\r\n    <path clip-path=\"url(#p53c580de68)\" d=\"M 184.08298 550.8 \r\nL 190.231741 550.8 \r\nL 190.231741 549.433999 \r\nL 184.08298 549.433999 \r\nz\r\n\" style=\"fill:#1f77b4;fill-opacity:0.75;stroke:#000000;stroke-linejoin:miter;stroke-width:0.614875;\"/>\r\n   </g>\r\n   <g id=\"patch_23\">\r\n    <path clip-path=\"url(#p53c580de68)\" d=\"M 190.231741 550.8 \r\nL 196.380501 550.8 \r\nL 196.380501 546.701998 \r\nL 190.231741 546.701998 \r\nz\r\n\" style=\"fill:#1f77b4;fill-opacity:0.75;stroke:#000000;stroke-linejoin:miter;stroke-width:0.614875;\"/>\r\n   </g>\r\n   <g id=\"patch_24\">\r\n    <path clip-path=\"url(#p53c580de68)\" d=\"M 196.380501 550.8 \r\nL 202.529261 550.8 \r\nL 202.529261 538.505993 \r\nL 196.380501 538.505993 \r\nz\r\n\" style=\"fill:#1f77b4;fill-opacity:0.75;stroke:#000000;stroke-linejoin:miter;stroke-width:0.614875;\"/>\r\n   </g>\r\n   <g id=\"patch_25\">\r\n    <path clip-path=\"url(#p53c580de68)\" d=\"M 202.529261 550.8 \r\nL 208.678022 550.8 \r\nL 208.678022 524.845986 \r\nL 202.529261 524.845986 \r\nz\r\n\" style=\"fill:#1f77b4;fill-opacity:0.75;stroke:#000000;stroke-linejoin:miter;stroke-width:0.614875;\"/>\r\n   </g>\r\n   <g id=\"patch_26\">\r\n    <path clip-path=\"url(#p53c580de68)\" d=\"M 208.678022 550.8 \r\nL 214.826782 550.8 \r\nL 214.826782 509.819977 \r\nL 208.678022 509.819977 \r\nz\r\n\" style=\"fill:#1f77b4;fill-opacity:0.75;stroke:#000000;stroke-linejoin:miter;stroke-width:0.614875;\"/>\r\n   </g>\r\n   <g id=\"patch_27\">\r\n    <path clip-path=\"url(#p53c580de68)\" d=\"M 214.826782 550.8 \r\nL 220.975542 550.8 \r\nL 220.975542 468.839955 \r\nL 214.826782 468.839955 \r\nz\r\n\" style=\"fill:#1f77b4;fill-opacity:0.75;stroke:#000000;stroke-linejoin:miter;stroke-width:0.614875;\"/>\r\n   </g>\r\n   <g id=\"patch_28\">\r\n    <path clip-path=\"url(#p53c580de68)\" d=\"M 220.975542 550.8 \r\nL 227.124303 550.8 \r\nL 227.124303 422.395929 \r\nL 220.975542 422.395929 \r\nz\r\n\" style=\"fill:#1f77b4;fill-opacity:0.75;stroke:#000000;stroke-linejoin:miter;stroke-width:0.614875;\"/>\r\n   </g>\r\n   <g id=\"patch_29\">\r\n    <path clip-path=\"url(#p53c580de68)\" d=\"M 227.124303 550.8 \r\nL 233.273064 550.8 \r\nL 233.273064 325.409876 \r\nL 227.124303 325.409876 \r\nz\r\n\" style=\"fill:#1f77b4;fill-opacity:0.75;stroke:#000000;stroke-linejoin:miter;stroke-width:0.614875;\"/>\r\n   </g>\r\n   <g id=\"patch_30\">\r\n    <path clip-path=\"url(#p53c580de68)\" d=\"M 233.273064 550.8 \r\nL 239.421824 550.8 \r\nL 239.421824 199.737806 \r\nL 233.273064 199.737806 \r\nz\r\n\" style=\"fill:#1f77b4;fill-opacity:0.75;stroke:#000000;stroke-linejoin:miter;stroke-width:0.614875;\"/>\r\n   </g>\r\n   <g id=\"patch_31\">\r\n    <path clip-path=\"url(#p53c580de68)\" d=\"M 239.421824 550.8 \r\nL 245.570583 550.8 \r\nL 245.570583 150.561779 \r\nL 239.421824 150.561779 \r\nz\r\n\" style=\"fill:#1f77b4;fill-opacity:0.75;stroke:#000000;stroke-linejoin:miter;stroke-width:0.614875;\"/>\r\n   </g>\r\n   <g id=\"patch_32\">\r\n    <path clip-path=\"url(#p53c580de68)\" d=\"M 245.570583 550.8 \r\nL 251.719343 550.8 \r\nL 251.719343 158.757784 \r\nL 245.570583 158.757784 \r\nz\r\n\" style=\"fill:#1f77b4;fill-opacity:0.75;stroke:#000000;stroke-linejoin:miter;stroke-width:0.614875;\"/>\r\n   </g>\r\n   <g id=\"patch_33\">\r\n    <path clip-path=\"url(#p53c580de68)\" d=\"M 251.719343 550.8 \r\nL 257.868104 550.8 \r\nL 257.868104 91.823747 \r\nL 251.719343 91.823747 \r\nz\r\n\" style=\"fill:#1f77b4;fill-opacity:0.75;stroke:#000000;stroke-linejoin:miter;stroke-width:0.614875;\"/>\r\n   </g>\r\n   <g id=\"patch_34\">\r\n    <path clip-path=\"url(#p53c580de68)\" d=\"M 257.868104 550.8 \r\nL 264.016864 550.8 \r\nL 264.016864 91.823747 \r\nL 257.868104 91.823747 \r\nz\r\n\" style=\"fill:#1f77b4;fill-opacity:0.75;stroke:#000000;stroke-linejoin:miter;stroke-width:0.614875;\"/>\r\n   </g>\r\n   <g id=\"patch_35\">\r\n    <path clip-path=\"url(#p53c580de68)\" d=\"M 264.016864 550.8 \r\nL 270.165625 550.8 \r\nL 270.165625 61.77173 \r\nL 264.016864 61.77173 \r\nz\r\n\" style=\"fill:#1f77b4;fill-opacity:0.75;stroke:#000000;stroke-linejoin:miter;stroke-width:0.614875;\"/>\r\n   </g>\r\n   <g id=\"patch_36\">\r\n    <path clip-path=\"url(#p53c580de68)\" d=\"M 270.165625 550.8 \r\nL 276.314386 550.8 \r\nL 276.314386 48.111723 \r\nL 270.165625 48.111723 \r\nz\r\n\" style=\"fill:#1f77b4;fill-opacity:0.75;stroke:#000000;stroke-linejoin:miter;stroke-width:0.614875;\"/>\r\n   </g>\r\n   <g id=\"patch_37\">\r\n    <path clip-path=\"url(#p53c580de68)\" d=\"M 276.314386 550.8 \r\nL 282.463142 550.8 \r\nL 282.463142 183.345797 \r\nL 276.314386 183.345797 \r\nz\r\n\" style=\"fill:#1f77b4;fill-opacity:0.75;stroke:#000000;stroke-linejoin:miter;stroke-width:0.614875;\"/>\r\n   </g>\r\n   <g id=\"patch_38\">\r\n    <path clip-path=\"url(#p53c580de68)\" d=\"M 282.463142 550.8 \r\nL 288.611907 550.8 \r\nL 288.611907 181.979796 \r\nL 282.463142 181.979796 \r\nz\r\n\" style=\"fill:#1f77b4;fill-opacity:0.75;stroke:#000000;stroke-linejoin:miter;stroke-width:0.614875;\"/>\r\n   </g>\r\n   <g id=\"patch_39\">\r\n    <path clip-path=\"url(#p53c580de68)\" d=\"M 288.611907 550.8 \r\nL 294.760663 550.8 \r\nL 294.760663 209.299812 \r\nL 288.611907 209.299812 \r\nz\r\n\" style=\"fill:#1f77b4;fill-opacity:0.75;stroke:#000000;stroke-linejoin:miter;stroke-width:0.614875;\"/>\r\n   </g>\r\n   <g id=\"patch_40\">\r\n    <path clip-path=\"url(#p53c580de68)\" d=\"M 294.760663 550.8 \r\nL 300.909428 550.8 \r\nL 300.909428 206.56781 \r\nL 294.760663 206.56781 \r\nz\r\n\" style=\"fill:#1f77b4;fill-opacity:0.75;stroke:#000000;stroke-linejoin:miter;stroke-width:0.614875;\"/>\r\n   </g>\r\n   <g id=\"patch_41\">\r\n    <path clip-path=\"url(#p53c580de68)\" d=\"M 300.909428 550.8 \r\nL 307.058184 550.8 \r\nL 307.058184 239.351828 \r\nL 300.909428 239.351828 \r\nz\r\n\" style=\"fill:#1f77b4;fill-opacity:0.75;stroke:#000000;stroke-linejoin:miter;stroke-width:0.614875;\"/>\r\n   </g>\r\n   <g id=\"patch_42\">\r\n    <path clip-path=\"url(#p53c580de68)\" d=\"M 307.058184 550.8 \r\nL 313.206949 550.8 \r\nL 313.206949 259.841839 \r\nL 307.058184 259.841839 \r\nz\r\n\" style=\"fill:#1f77b4;fill-opacity:0.75;stroke:#000000;stroke-linejoin:miter;stroke-width:0.614875;\"/>\r\n   </g>\r\n   <g id=\"patch_43\">\r\n    <path clip-path=\"url(#p53c580de68)\" d=\"M 313.206949 550.8 \r\nL 319.355705 550.8 \r\nL 319.355705 284.429853 \r\nL 313.206949 284.429853 \r\nz\r\n\" style=\"fill:#1f77b4;fill-opacity:0.75;stroke:#000000;stroke-linejoin:miter;stroke-width:0.614875;\"/>\r\n   </g>\r\n   <g id=\"patch_44\">\r\n    <path clip-path=\"url(#p53c580de68)\" d=\"M 319.355705 550.8 \r\nL 325.504471 550.8 \r\nL 325.504471 332.239879 \r\nL 319.355705 332.239879 \r\nz\r\n\" style=\"fill:#1f77b4;fill-opacity:0.75;stroke:#000000;stroke-linejoin:miter;stroke-width:0.614875;\"/>\r\n   </g>\r\n   <g id=\"patch_45\">\r\n    <path clip-path=\"url(#p53c580de68)\" d=\"M 325.504471 550.8 \r\nL 331.653226 550.8 \r\nL 331.653226 325.409876 \r\nL 325.504471 325.409876 \r\nz\r\n\" style=\"fill:#1f77b4;fill-opacity:0.75;stroke:#000000;stroke-linejoin:miter;stroke-width:0.614875;\"/>\r\n   </g>\r\n   <g id=\"patch_46\">\r\n    <path clip-path=\"url(#p53c580de68)\" d=\"M 331.653226 550.8 \r\nL 337.801992 550.8 \r\nL 337.801992 399.173916 \r\nL 331.653226 399.173916 \r\nz\r\n\" style=\"fill:#1f77b4;fill-opacity:0.75;stroke:#000000;stroke-linejoin:miter;stroke-width:0.614875;\"/>\r\n   </g>\r\n   <g id=\"patch_47\">\r\n    <path clip-path=\"url(#p53c580de68)\" d=\"M 337.801992 550.8 \r\nL 343.950748 550.8 \r\nL 343.950748 442.88594 \r\nL 337.801992 442.88594 \r\nz\r\n\" style=\"fill:#1f77b4;fill-opacity:0.75;stroke:#000000;stroke-linejoin:miter;stroke-width:0.614875;\"/>\r\n   </g>\r\n   <g id=\"patch_48\">\r\n    <path clip-path=\"url(#p53c580de68)\" d=\"M 343.950748 550.8 \r\nL 350.099513 550.8 \r\nL 350.099513 459.277949 \r\nL 343.950748 459.277949 \r\nz\r\n\" style=\"fill:#1f77b4;fill-opacity:0.75;stroke:#000000;stroke-linejoin:miter;stroke-width:0.614875;\"/>\r\n   </g>\r\n   <g id=\"patch_49\">\r\n    <path clip-path=\"url(#p53c580de68)\" d=\"M 350.099513 550.8 \r\nL 356.248269 550.8 \r\nL 356.248269 489.329966 \r\nL 350.099513 489.329966 \r\nz\r\n\" style=\"fill:#1f77b4;fill-opacity:0.75;stroke:#000000;stroke-linejoin:miter;stroke-width:0.614875;\"/>\r\n   </g>\r\n   <g id=\"patch_50\">\r\n    <path clip-path=\"url(#p53c580de68)\" d=\"M 356.248269 550.8 \r\nL 362.397034 550.8 \r\nL 362.397034 482.499962 \r\nL 356.248269 482.499962 \r\nz\r\n\" style=\"fill:#1f77b4;fill-opacity:0.75;stroke:#000000;stroke-linejoin:miter;stroke-width:0.614875;\"/>\r\n   </g>\r\n   <g id=\"patch_51\">\r\n    <path clip-path=\"url(#p53c580de68)\" d=\"M 362.397034 550.8 \r\nL 368.5458 550.8 \r\nL 368.5458 497.525971 \r\nL 362.397034 497.525971 \r\nz\r\n\" style=\"fill:#1f77b4;fill-opacity:0.75;stroke:#000000;stroke-linejoin:miter;stroke-width:0.614875;\"/>\r\n   </g>\r\n   <g id=\"patch_52\">\r\n    <path clip-path=\"url(#p53c580de68)\" d=\"M 368.5458 550.8 \r\nL 374.694546 550.8 \r\nL 374.694546 520.747983 \r\nL 368.5458 520.747983 \r\nz\r\n\" style=\"fill:#1f77b4;fill-opacity:0.75;stroke:#000000;stroke-linejoin:miter;stroke-width:0.614875;\"/>\r\n   </g>\r\n   <g id=\"patch_53\">\r\n    <path clip-path=\"url(#p53c580de68)\" d=\"M 374.694546 550.8 \r\nL 380.843311 550.8 \r\nL 380.843311 518.015982 \r\nL 374.694546 518.015982 \r\nz\r\n\" style=\"fill:#1f77b4;fill-opacity:0.75;stroke:#000000;stroke-linejoin:miter;stroke-width:0.614875;\"/>\r\n   </g>\r\n   <g id=\"patch_54\">\r\n    <path clip-path=\"url(#p53c580de68)\" d=\"M 380.843311 550.8 \r\nL 386.992077 550.8 \r\nL 386.992077 515.28398 \r\nL 380.843311 515.28398 \r\nz\r\n\" style=\"fill:#1f77b4;fill-opacity:0.75;stroke:#000000;stroke-linejoin:miter;stroke-width:0.614875;\"/>\r\n   </g>\r\n   <g id=\"patch_55\">\r\n    <path clip-path=\"url(#p53c580de68)\" d=\"M 386.992077 550.8 \r\nL 393.140823 550.8 \r\nL 393.140823 541.237995 \r\nL 386.992077 541.237995 \r\nz\r\n\" style=\"fill:#1f77b4;fill-opacity:0.75;stroke:#000000;stroke-linejoin:miter;stroke-width:0.614875;\"/>\r\n   </g>\r\n   <g id=\"patch_56\">\r\n    <path clip-path=\"url(#p53c580de68)\" d=\"M 393.140823 550.8 \r\nL 399.289589 550.8 \r\nL 399.289589 537.139992 \r\nL 393.140823 537.139992 \r\nz\r\n\" style=\"fill:#1f77b4;fill-opacity:0.75;stroke:#000000;stroke-linejoin:miter;stroke-width:0.614875;\"/>\r\n   </g>\r\n   <g id=\"patch_57\">\r\n    <path clip-path=\"url(#p53c580de68)\" d=\"M 399.289589 550.8 \r\nL 405.438354 550.8 \r\nL 405.438354 539.871994 \r\nL 399.289589 539.871994 \r\nz\r\n\" style=\"fill:#1f77b4;fill-opacity:0.75;stroke:#000000;stroke-linejoin:miter;stroke-width:0.614875;\"/>\r\n   </g>\r\n   <g id=\"patch_58\">\r\n    <path clip-path=\"url(#p53c580de68)\" d=\"M 405.438354 550.8 \r\nL 411.587119 550.8 \r\nL 411.587119 537.139992 \r\nL 405.438354 537.139992 \r\nz\r\n\" style=\"fill:#1f77b4;fill-opacity:0.75;stroke:#000000;stroke-linejoin:miter;stroke-width:0.614875;\"/>\r\n   </g>\r\n   <g id=\"patch_59\">\r\n    <path clip-path=\"url(#p53c580de68)\" d=\"M 411.587119 550.8 \r\nL 417.735866 550.8 \r\nL 417.735866 534.407991 \r\nL 411.587119 534.407991 \r\nz\r\n\" style=\"fill:#1f77b4;fill-opacity:0.75;stroke:#000000;stroke-linejoin:miter;stroke-width:0.614875;\"/>\r\n   </g>\r\n   <g id=\"patch_60\">\r\n    <path clip-path=\"url(#p53c580de68)\" d=\"M 417.735866 550.8 \r\nL 423.884631 550.8 \r\nL 423.884631 548.067998 \r\nL 417.735866 548.067998 \r\nz\r\n\" style=\"fill:#1f77b4;fill-opacity:0.75;stroke:#000000;stroke-linejoin:miter;stroke-width:0.614875;\"/>\r\n   </g>\r\n   <g id=\"patch_61\">\r\n    <path clip-path=\"url(#p53c580de68)\" d=\"M 423.884631 550.8 \r\nL 430.033396 550.8 \r\nL 430.033396 546.701998 \r\nL 423.884631 546.701998 \r\nz\r\n\" style=\"fill:#1f77b4;fill-opacity:0.75;stroke:#000000;stroke-linejoin:miter;stroke-width:0.614875;\"/>\r\n   </g>\r\n   <g id=\"patch_62\">\r\n    <path clip-path=\"url(#p53c580de68)\" d=\"M 430.033396 550.8 \r\nL 436.182162 550.8 \r\nL 436.182162 545.335997 \r\nL 430.033396 545.335997 \r\nz\r\n\" style=\"fill:#1f77b4;fill-opacity:0.75;stroke:#000000;stroke-linejoin:miter;stroke-width:0.614875;\"/>\r\n   </g>\r\n   <g id=\"patch_63\">\r\n    <path clip-path=\"url(#p53c580de68)\" d=\"M 436.182162 550.8 \r\nL 442.330908 550.8 \r\nL 442.330908 548.067998 \r\nL 436.182162 548.067998 \r\nz\r\n\" style=\"fill:#1f77b4;fill-opacity:0.75;stroke:#000000;stroke-linejoin:miter;stroke-width:0.614875;\"/>\r\n   </g>\r\n   <g id=\"patch_64\">\r\n    <path clip-path=\"url(#p53c580de68)\" d=\"M 442.330908 550.8 \r\nL 448.479673 550.8 \r\nL 448.479673 543.969996 \r\nL 442.330908 543.969996 \r\nz\r\n\" style=\"fill:#1f77b4;fill-opacity:0.75;stroke:#000000;stroke-linejoin:miter;stroke-width:0.614875;\"/>\r\n   </g>\r\n   <g id=\"patch_65\">\r\n    <path clip-path=\"url(#p53c580de68)\" d=\"M 448.479673 550.8 \r\nL 454.628439 550.8 \r\nL 454.628439 543.969996 \r\nL 448.479673 543.969996 \r\nz\r\n\" style=\"fill:#1f77b4;fill-opacity:0.75;stroke:#000000;stroke-linejoin:miter;stroke-width:0.614875;\"/>\r\n   </g>\r\n   <g id=\"patch_66\">\r\n    <path clip-path=\"url(#p53c580de68)\" d=\"M 454.628439 550.8 \r\nL 460.777204 550.8 \r\nL 460.777204 550.8 \r\nL 454.628439 550.8 \r\nz\r\n\" style=\"fill:#1f77b4;fill-opacity:0.75;stroke:#000000;stroke-linejoin:miter;stroke-width:0.614875;\"/>\r\n   </g>\r\n   <g id=\"patch_67\">\r\n    <path clip-path=\"url(#p53c580de68)\" d=\"M 460.777204 550.8 \r\nL 466.925951 550.8 \r\nL 466.925951 548.067998 \r\nL 460.777204 548.067998 \r\nz\r\n\" style=\"fill:#1f77b4;fill-opacity:0.75;stroke:#000000;stroke-linejoin:miter;stroke-width:0.614875;\"/>\r\n   </g>\r\n   <g id=\"patch_68\">\r\n    <path clip-path=\"url(#p53c580de68)\" d=\"M 466.925951 550.8 \r\nL 473.074716 550.8 \r\nL 473.074716 549.433999 \r\nL 466.925951 549.433999 \r\nz\r\n\" style=\"fill:#1f77b4;fill-opacity:0.75;stroke:#000000;stroke-linejoin:miter;stroke-width:0.614875;\"/>\r\n   </g>\r\n   <g id=\"patch_69\">\r\n    <path clip-path=\"url(#p53c580de68)\" d=\"M 208.596453 550.8 \r\nL 214.973602 550.8 \r\nL 214.973602 543.969996 \r\nL 208.596453 543.969996 \r\nz\r\n\" style=\"fill:#0000ff;fill-opacity:0.75;stroke:#000000;stroke-linejoin:miter;stroke-width:0.637715;\"/>\r\n   </g>\r\n   <g id=\"patch_70\">\r\n    <path clip-path=\"url(#p53c580de68)\" d=\"M 214.973602 550.8 \r\nL 221.35075 550.8 \r\nL 221.35075 501.623973 \r\nL 214.973602 501.623973 \r\nz\r\n\" style=\"fill:#0000ff;fill-opacity:0.75;stroke:#000000;stroke-linejoin:miter;stroke-width:0.637715;\"/>\r\n   </g>\r\n   <g id=\"patch_71\">\r\n    <path clip-path=\"url(#p53c580de68)\" d=\"M 221.35075 550.8 \r\nL 227.727898 550.8 \r\nL 227.727898 283.063852 \r\nL 221.35075 283.063852 \r\nz\r\n\" style=\"fill:#0000ff;fill-opacity:0.75;stroke:#000000;stroke-linejoin:miter;stroke-width:0.637715;\"/>\r\n   </g>\r\n   <g id=\"patch_72\">\r\n    <path clip-path=\"url(#p53c580de68)\" d=\"M 227.727898 550.8 \r\nL 234.105046 550.8 \r\nL 234.105046 183.345797 \r\nL 227.727898 183.345797 \r\nz\r\n\" style=\"fill:#0000ff;fill-opacity:0.75;stroke:#000000;stroke-linejoin:miter;stroke-width:0.637715;\"/>\r\n   </g>\r\n   <g id=\"patch_73\">\r\n    <path clip-path=\"url(#p53c580de68)\" d=\"M 234.105046 550.8 \r\nL 240.482194 550.8 \r\nL 240.482194 79.52974 \r\nL 234.105046 79.52974 \r\nz\r\n\" style=\"fill:#0000ff;fill-opacity:0.75;stroke:#000000;stroke-linejoin:miter;stroke-width:0.637715;\"/>\r\n   </g>\r\n   <g id=\"patch_74\">\r\n    <path clip-path=\"url(#p53c580de68)\" d=\"M 240.482194 550.8 \r\nL 246.859343 550.8 \r\nL 246.859343 145.097776 \r\nL 240.482194 145.097776 \r\nz\r\n\" style=\"fill:#0000ff;fill-opacity:0.75;stroke:#000000;stroke-linejoin:miter;stroke-width:0.637715;\"/>\r\n   </g>\r\n   <g id=\"patch_75\">\r\n    <path clip-path=\"url(#p53c580de68)\" d=\"M 246.859343 550.8 \r\nL 253.236491 550.8 \r\nL 253.236491 110.947757 \r\nL 246.859343 110.947757 \r\nz\r\n\" style=\"fill:#0000ff;fill-opacity:0.75;stroke:#000000;stroke-linejoin:miter;stroke-width:0.637715;\"/>\r\n   </g>\r\n   <g id=\"patch_76\">\r\n    <path clip-path=\"url(#p53c580de68)\" d=\"M 253.236491 550.8 \r\nL 259.613639 550.8 \r\nL 259.613639 67.235733 \r\nL 253.236491 67.235733 \r\nz\r\n\" style=\"fill:#0000ff;fill-opacity:0.75;stroke:#000000;stroke-linejoin:miter;stroke-width:0.637715;\"/>\r\n   </g>\r\n   <g id=\"patch_77\">\r\n    <path clip-path=\"url(#p53c580de68)\" d=\"M 259.613639 550.8 \r\nL 265.990787 550.8 \r\nL 265.990787 48.111723 \r\nL 259.613639 48.111723 \r\nz\r\n\" style=\"fill:#0000ff;fill-opacity:0.75;stroke:#000000;stroke-linejoin:miter;stroke-width:0.637715;\"/>\r\n   </g>\r\n   <g id=\"patch_78\">\r\n    <path clip-path=\"url(#p53c580de68)\" d=\"M 265.990787 550.8 \r\nL 272.367935 550.8 \r\nL 272.367935 33.085714 \r\nL 265.990787 33.085714 \r\nz\r\n\" style=\"fill:#0000ff;fill-opacity:0.75;stroke:#000000;stroke-linejoin:miter;stroke-width:0.637715;\"/>\r\n   </g>\r\n   <g id=\"patch_79\">\r\n    <path clip-path=\"url(#p53c580de68)\" d=\"M 272.367935 550.8 \r\nL 278.745084 550.8 \r\nL 278.745084 110.947757 \r\nL 272.367935 110.947757 \r\nz\r\n\" style=\"fill:#0000ff;fill-opacity:0.75;stroke:#000000;stroke-linejoin:miter;stroke-width:0.637715;\"/>\r\n   </g>\r\n   <g id=\"patch_80\">\r\n    <path clip-path=\"url(#p53c580de68)\" d=\"M 278.745084 550.8 \r\nL 285.122232 550.8 \r\nL 285.122232 227.057821 \r\nL 278.745084 227.057821 \r\nz\r\n\" style=\"fill:#0000ff;fill-opacity:0.75;stroke:#000000;stroke-linejoin:miter;stroke-width:0.637715;\"/>\r\n   </g>\r\n   <g id=\"patch_81\">\r\n    <path clip-path=\"url(#p53c580de68)\" d=\"M 285.122232 550.8 \r\nL 291.49938 550.8 \r\nL 291.49938 183.345797 \r\nL 285.122232 183.345797 \r\nz\r\n\" style=\"fill:#0000ff;fill-opacity:0.75;stroke:#000000;stroke-linejoin:miter;stroke-width:0.637715;\"/>\r\n   </g>\r\n   <g id=\"patch_82\">\r\n    <path clip-path=\"url(#p53c580de68)\" d=\"M 291.49938 550.8 \r\nL 297.876528 550.8 \r\nL 297.876528 246.181832 \r\nL 291.49938 246.181832 \r\nz\r\n\" style=\"fill:#0000ff;fill-opacity:0.75;stroke:#000000;stroke-linejoin:miter;stroke-width:0.637715;\"/>\r\n   </g>\r\n   <g id=\"patch_83\">\r\n    <path clip-path=\"url(#p53c580de68)\" d=\"M 297.876528 550.8 \r\nL 304.253676 550.8 \r\nL 304.253676 304.919864 \r\nL 297.876528 304.919864 \r\nz\r\n\" style=\"fill:#0000ff;fill-opacity:0.75;stroke:#000000;stroke-linejoin:miter;stroke-width:0.637715;\"/>\r\n   </g>\r\n   <g id=\"patch_84\">\r\n    <path clip-path=\"url(#p53c580de68)\" d=\"M 304.253676 550.8 \r\nL 310.630825 550.8 \r\nL 310.630825 315.84787 \r\nL 304.253676 315.84787 \r\nz\r\n\" style=\"fill:#0000ff;fill-opacity:0.75;stroke:#000000;stroke-linejoin:miter;stroke-width:0.637715;\"/>\r\n   </g>\r\n   <g id=\"patch_85\">\r\n    <path clip-path=\"url(#p53c580de68)\" d=\"M 310.630825 550.8 \r\nL 317.007973 550.8 \r\nL 317.007973 345.899887 \r\nL 310.630825 345.899887 \r\nz\r\n\" style=\"fill:#0000ff;fill-opacity:0.75;stroke:#000000;stroke-linejoin:miter;stroke-width:0.637715;\"/>\r\n   </g>\r\n   <g id=\"patch_86\">\r\n    <path clip-path=\"url(#p53c580de68)\" d=\"M 317.007973 550.8 \r\nL 323.385121 550.8 \r\nL 323.385121 416.931926 \r\nL 317.007973 416.931926 \r\nz\r\n\" style=\"fill:#0000ff;fill-opacity:0.75;stroke:#000000;stroke-linejoin:miter;stroke-width:0.637715;\"/>\r\n   </g>\r\n   <g id=\"patch_87\">\r\n    <path clip-path=\"url(#p53c580de68)\" d=\"M 323.385121 550.8 \r\nL 329.762269 550.8 \r\nL 329.762269 427.859932 \r\nL 323.385121 427.859932 \r\nz\r\n\" style=\"fill:#0000ff;fill-opacity:0.75;stroke:#000000;stroke-linejoin:miter;stroke-width:0.637715;\"/>\r\n   </g>\r\n   <g id=\"patch_88\">\r\n    <path clip-path=\"url(#p53c580de68)\" d=\"M 329.762269 550.8 \r\nL 336.139417 550.8 \r\nL 336.139417 400.539917 \r\nL 329.762269 400.539917 \r\nz\r\n\" style=\"fill:#0000ff;fill-opacity:0.75;stroke:#000000;stroke-linejoin:miter;stroke-width:0.637715;\"/>\r\n   </g>\r\n   <g id=\"patch_89\">\r\n    <path clip-path=\"url(#p53c580de68)\" d=\"M 336.139417 550.8 \r\nL 342.516565 550.8 \r\nL 342.516565 392.343913 \r\nL 336.139417 392.343913 \r\nz\r\n\" style=\"fill:#0000ff;fill-opacity:0.75;stroke:#000000;stroke-linejoin:miter;stroke-width:0.637715;\"/>\r\n   </g>\r\n   <g id=\"patch_90\">\r\n    <path clip-path=\"url(#p53c580de68)\" d=\"M 342.516565 550.8 \r\nL 348.893714 550.8 \r\nL 348.893714 434.689936 \r\nL 342.516565 434.689936 \r\nz\r\n\" style=\"fill:#0000ff;fill-opacity:0.75;stroke:#000000;stroke-linejoin:miter;stroke-width:0.637715;\"/>\r\n   </g>\r\n   <g id=\"patch_91\">\r\n    <path clip-path=\"url(#p53c580de68)\" d=\"M 348.893714 550.8 \r\nL 355.270862 550.8 \r\nL 355.270862 482.499962 \r\nL 348.893714 482.499962 \r\nz\r\n\" style=\"fill:#0000ff;fill-opacity:0.75;stroke:#000000;stroke-linejoin:miter;stroke-width:0.637715;\"/>\r\n   </g>\r\n   <g id=\"patch_92\">\r\n    <path clip-path=\"url(#p53c580de68)\" d=\"M 355.270862 550.8 \r\nL 361.64801 550.8 \r\nL 361.64801 471.571956 \r\nL 355.270862 471.571956 \r\nz\r\n\" style=\"fill:#0000ff;fill-opacity:0.75;stroke:#000000;stroke-linejoin:miter;stroke-width:0.637715;\"/>\r\n   </g>\r\n   <g id=\"patch_93\">\r\n    <path clip-path=\"url(#p53c580de68)\" d=\"M 361.64801 550.8 \r\nL 368.025158 550.8 \r\nL 368.025158 492.061968 \r\nL 361.64801 492.061968 \r\nz\r\n\" style=\"fill:#0000ff;fill-opacity:0.75;stroke:#000000;stroke-linejoin:miter;stroke-width:0.637715;\"/>\r\n   </g>\r\n   <g id=\"patch_94\">\r\n    <path clip-path=\"url(#p53c580de68)\" d=\"M 368.025158 550.8 \r\nL 374.402306 550.8 \r\nL 374.402306 502.989974 \r\nL 368.025158 502.989974 \r\nz\r\n\" style=\"fill:#0000ff;fill-opacity:0.75;stroke:#000000;stroke-linejoin:miter;stroke-width:0.637715;\"/>\r\n   </g>\r\n   <g id=\"patch_95\">\r\n    <path clip-path=\"url(#p53c580de68)\" d=\"M 374.402306 550.8 \r\nL 380.779455 550.8 \r\nL 380.779455 500.257972 \r\nL 374.402306 500.257972 \r\nz\r\n\" style=\"fill:#0000ff;fill-opacity:0.75;stroke:#000000;stroke-linejoin:miter;stroke-width:0.637715;\"/>\r\n   </g>\r\n   <g id=\"patch_96\">\r\n    <path clip-path=\"url(#p53c580de68)\" d=\"M 380.779455 550.8 \r\nL 387.156603 550.8 \r\nL 387.156603 516.649981 \r\nL 380.779455 516.649981 \r\nz\r\n\" style=\"fill:#0000ff;fill-opacity:0.75;stroke:#000000;stroke-linejoin:miter;stroke-width:0.637715;\"/>\r\n   </g>\r\n   <g id=\"patch_97\">\r\n    <path clip-path=\"url(#p53c580de68)\" d=\"M 387.156603 550.8 \r\nL 393.533751 550.8 \r\nL 393.533751 519.381983 \r\nL 387.156603 519.381983 \r\nz\r\n\" style=\"fill:#0000ff;fill-opacity:0.75;stroke:#000000;stroke-linejoin:miter;stroke-width:0.637715;\"/>\r\n   </g>\r\n   <g id=\"patch_98\">\r\n    <path clip-path=\"url(#p53c580de68)\" d=\"M 393.533751 550.8 \r\nL 399.910899 550.8 \r\nL 399.910899 187.443799 \r\nL 393.533751 187.443799 \r\nz\r\n\" style=\"fill:#0000ff;fill-opacity:0.75;stroke:#000000;stroke-linejoin:miter;stroke-width:0.637715;\"/>\r\n   </g>\r\n   <g id=\"matplotlib.axis_1\">\r\n    <g id=\"xtick_1\">\r\n     <g id=\"line2d_1\">\r\n      <defs>\r\n       <path d=\"M 0 0 \r\nL 0 3.5 \r\n\" id=\"m9a7334dea6\" style=\"stroke:#000000;stroke-width:0.8;\"/>\r\n      </defs>\r\n      <g>\r\n       <use style=\"stroke:#000000;stroke-width:0.8;\" x=\"123.787701\" xlink:href=\"#m9a7334dea6\" y=\"550.8\"/>\r\n      </g>\r\n     </g>\r\n     <g id=\"text_1\">\r\n      <!-- −2 -->\r\n      <g transform=\"translate(116.416607 565.398438)scale(0.1 -0.1)\">\r\n       <defs>\r\n        <path d=\"M 10.59375 35.5 \r\nL 73.1875 35.5 \r\nL 73.1875 27.203125 \r\nL 10.59375 27.203125 \r\nz\r\n\" id=\"DejaVuSans-8722\"/>\r\n        <path d=\"M 19.1875 8.296875 \r\nL 53.609375 8.296875 \r\nL 53.609375 0 \r\nL 7.328125 0 \r\nL 7.328125 8.296875 \r\nQ 12.9375 14.109375 22.625 23.890625 \r\nQ 32.328125 33.6875 34.8125 36.53125 \r\nQ 39.546875 41.84375 41.421875 45.53125 \r\nQ 43.3125 49.21875 43.3125 52.78125 \r\nQ 43.3125 58.59375 39.234375 62.25 \r\nQ 35.15625 65.921875 28.609375 65.921875 \r\nQ 23.96875 65.921875 18.8125 64.3125 \r\nQ 13.671875 62.703125 7.8125 59.421875 \r\nL 7.8125 69.390625 \r\nQ 13.765625 71.78125 18.9375 73 \r\nQ 24.125 74.21875 28.421875 74.21875 \r\nQ 39.75 74.21875 46.484375 68.546875 \r\nQ 53.21875 62.890625 53.21875 53.421875 \r\nQ 53.21875 48.921875 51.53125 44.890625 \r\nQ 49.859375 40.875 45.40625 35.40625 \r\nQ 44.1875 33.984375 37.640625 27.21875 \r\nQ 31.109375 20.453125 19.1875 8.296875 \r\nz\r\n\" id=\"DejaVuSans-50\"/>\r\n       </defs>\r\n       <use xlink:href=\"#DejaVuSans-8722\"/>\r\n       <use x=\"83.789062\" xlink:href=\"#DejaVuSans-50\"/>\r\n      </g>\r\n     </g>\r\n    </g>\r\n    <g id=\"xtick_2\">\r\n     <g id=\"line2d_2\">\r\n      <g>\r\n       <use style=\"stroke:#000000;stroke-width:0.8;\" x=\"202.679931\" xlink:href=\"#m9a7334dea6\" y=\"550.8\"/>\r\n      </g>\r\n     </g>\r\n     <g id=\"text_2\">\r\n      <!-- 0 -->\r\n      <g transform=\"translate(199.498681 565.398438)scale(0.1 -0.1)\">\r\n       <defs>\r\n        <path d=\"M 31.78125 66.40625 \r\nQ 24.171875 66.40625 20.328125 58.90625 \r\nQ 16.5 51.421875 16.5 36.375 \r\nQ 16.5 21.390625 20.328125 13.890625 \r\nQ 24.171875 6.390625 31.78125 6.390625 \r\nQ 39.453125 6.390625 43.28125 13.890625 \r\nQ 47.125 21.390625 47.125 36.375 \r\nQ 47.125 51.421875 43.28125 58.90625 \r\nQ 39.453125 66.40625 31.78125 66.40625 \r\nz\r\nM 31.78125 74.21875 \r\nQ 44.046875 74.21875 50.515625 64.515625 \r\nQ 56.984375 54.828125 56.984375 36.375 \r\nQ 56.984375 17.96875 50.515625 8.265625 \r\nQ 44.046875 -1.421875 31.78125 -1.421875 \r\nQ 19.53125 -1.421875 13.0625 8.265625 \r\nQ 6.59375 17.96875 6.59375 36.375 \r\nQ 6.59375 54.828125 13.0625 64.515625 \r\nQ 19.53125 74.21875 31.78125 74.21875 \r\nz\r\n\" id=\"DejaVuSans-48\"/>\r\n       </defs>\r\n       <use xlink:href=\"#DejaVuSans-48\"/>\r\n      </g>\r\n     </g>\r\n    </g>\r\n    <g id=\"xtick_3\">\r\n     <g id=\"line2d_3\">\r\n      <g>\r\n       <use style=\"stroke:#000000;stroke-width:0.8;\" x=\"281.57216\" xlink:href=\"#m9a7334dea6\" y=\"550.8\"/>\r\n      </g>\r\n     </g>\r\n     <g id=\"text_3\">\r\n      <!-- 2 -->\r\n      <g transform=\"translate(278.39091 565.398438)scale(0.1 -0.1)\">\r\n       <use xlink:href=\"#DejaVuSans-50\"/>\r\n      </g>\r\n     </g>\r\n    </g>\r\n    <g id=\"xtick_4\">\r\n     <g id=\"line2d_4\">\r\n      <g>\r\n       <use style=\"stroke:#000000;stroke-width:0.8;\" x=\"360.46439\" xlink:href=\"#m9a7334dea6\" y=\"550.8\"/>\r\n      </g>\r\n     </g>\r\n     <g id=\"text_4\">\r\n      <!-- 4 -->\r\n      <g transform=\"translate(357.28314 565.398438)scale(0.1 -0.1)\">\r\n       <defs>\r\n        <path d=\"M 37.796875 64.3125 \r\nL 12.890625 25.390625 \r\nL 37.796875 25.390625 \r\nz\r\nM 35.203125 72.90625 \r\nL 47.609375 72.90625 \r\nL 47.609375 25.390625 \r\nL 58.015625 25.390625 \r\nL 58.015625 17.1875 \r\nL 47.609375 17.1875 \r\nL 47.609375 0 \r\nL 37.796875 0 \r\nL 37.796875 17.1875 \r\nL 4.890625 17.1875 \r\nL 4.890625 26.703125 \r\nz\r\n\" id=\"DejaVuSans-52\"/>\r\n       </defs>\r\n       <use xlink:href=\"#DejaVuSans-52\"/>\r\n      </g>\r\n     </g>\r\n    </g>\r\n    <g id=\"xtick_5\">\r\n     <g id=\"line2d_5\">\r\n      <g>\r\n       <use style=\"stroke:#000000;stroke-width:0.8;\" x=\"439.35662\" xlink:href=\"#m9a7334dea6\" y=\"550.8\"/>\r\n      </g>\r\n     </g>\r\n     <g id=\"text_5\">\r\n      <!-- 6 -->\r\n      <g transform=\"translate(436.17537 565.398438)scale(0.1 -0.1)\">\r\n       <defs>\r\n        <path d=\"M 33.015625 40.375 \r\nQ 26.375 40.375 22.484375 35.828125 \r\nQ 18.609375 31.296875 18.609375 23.390625 \r\nQ 18.609375 15.53125 22.484375 10.953125 \r\nQ 26.375 6.390625 33.015625 6.390625 \r\nQ 39.65625 6.390625 43.53125 10.953125 \r\nQ 47.40625 15.53125 47.40625 23.390625 \r\nQ 47.40625 31.296875 43.53125 35.828125 \r\nQ 39.65625 40.375 33.015625 40.375 \r\nz\r\nM 52.59375 71.296875 \r\nL 52.59375 62.3125 \r\nQ 48.875 64.0625 45.09375 64.984375 \r\nQ 41.3125 65.921875 37.59375 65.921875 \r\nQ 27.828125 65.921875 22.671875 59.328125 \r\nQ 17.53125 52.734375 16.796875 39.40625 \r\nQ 19.671875 43.65625 24.015625 45.921875 \r\nQ 28.375 48.1875 33.59375 48.1875 \r\nQ 44.578125 48.1875 50.953125 41.515625 \r\nQ 57.328125 34.859375 57.328125 23.390625 \r\nQ 57.328125 12.15625 50.6875 5.359375 \r\nQ 44.046875 -1.421875 33.015625 -1.421875 \r\nQ 20.359375 -1.421875 13.671875 8.265625 \r\nQ 6.984375 17.96875 6.984375 36.375 \r\nQ 6.984375 53.65625 15.1875 63.9375 \r\nQ 23.390625 74.21875 37.203125 74.21875 \r\nQ 40.921875 74.21875 44.703125 73.484375 \r\nQ 48.484375 72.75 52.59375 71.296875 \r\nz\r\n\" id=\"DejaVuSans-54\"/>\r\n       </defs>\r\n       <use xlink:href=\"#DejaVuSans-54\"/>\r\n      </g>\r\n     </g>\r\n    </g>\r\n   </g>\r\n   <g id=\"matplotlib.axis_2\">\r\n    <g id=\"ytick_1\">\r\n     <g id=\"line2d_6\">\r\n      <defs>\r\n       <path d=\"M 0 0 \r\nL -3.5 0 \r\n\" id=\"m5795a44734\" style=\"stroke:#000000;stroke-width:0.8;\"/>\r\n      </defs>\r\n      <g>\r\n       <use style=\"stroke:#000000;stroke-width:0.8;\" x=\"46.965625\" xlink:href=\"#m5795a44734\" y=\"550.8\"/>\r\n      </g>\r\n     </g>\r\n     <g id=\"text_6\">\r\n      <!-- 0 -->\r\n      <g transform=\"translate(33.603125 554.599219)scale(0.1 -0.1)\">\r\n       <use xlink:href=\"#DejaVuSans-48\"/>\r\n      </g>\r\n     </g>\r\n    </g>\r\n    <g id=\"ytick_2\">\r\n     <g id=\"line2d_7\">\r\n      <g>\r\n       <use style=\"stroke:#000000;stroke-width:0.8;\" x=\"46.965625\" xlink:href=\"#m5795a44734\" y=\"482.499962\"/>\r\n      </g>\r\n     </g>\r\n     <g id=\"text_7\">\r\n      <!-- 50 -->\r\n      <g transform=\"translate(27.240625 486.299181)scale(0.1 -0.1)\">\r\n       <defs>\r\n        <path d=\"M 10.796875 72.90625 \r\nL 49.515625 72.90625 \r\nL 49.515625 64.59375 \r\nL 19.828125 64.59375 \r\nL 19.828125 46.734375 \r\nQ 21.96875 47.46875 24.109375 47.828125 \r\nQ 26.265625 48.1875 28.421875 48.1875 \r\nQ 40.625 48.1875 47.75 41.5 \r\nQ 54.890625 34.8125 54.890625 23.390625 \r\nQ 54.890625 11.625 47.5625 5.09375 \r\nQ 40.234375 -1.421875 26.90625 -1.421875 \r\nQ 22.3125 -1.421875 17.546875 -0.640625 \r\nQ 12.796875 0.140625 7.71875 1.703125 \r\nL 7.71875 11.625 \r\nQ 12.109375 9.234375 16.796875 8.0625 \r\nQ 21.484375 6.890625 26.703125 6.890625 \r\nQ 35.15625 6.890625 40.078125 11.328125 \r\nQ 45.015625 15.765625 45.015625 23.390625 \r\nQ 45.015625 31 40.078125 35.4375 \r\nQ 35.15625 39.890625 26.703125 39.890625 \r\nQ 22.75 39.890625 18.8125 39.015625 \r\nQ 14.890625 38.140625 10.796875 36.28125 \r\nz\r\n\" id=\"DejaVuSans-53\"/>\r\n       </defs>\r\n       <use xlink:href=\"#DejaVuSans-53\"/>\r\n       <use x=\"63.623047\" xlink:href=\"#DejaVuSans-48\"/>\r\n      </g>\r\n     </g>\r\n    </g>\r\n    <g id=\"ytick_3\">\r\n     <g id=\"line2d_8\">\r\n      <g>\r\n       <use style=\"stroke:#000000;stroke-width:0.8;\" x=\"46.965625\" xlink:href=\"#m5795a44734\" y=\"414.199925\"/>\r\n      </g>\r\n     </g>\r\n     <g id=\"text_8\">\r\n      <!-- 100 -->\r\n      <g transform=\"translate(20.878125 417.999143)scale(0.1 -0.1)\">\r\n       <defs>\r\n        <path d=\"M 12.40625 8.296875 \r\nL 28.515625 8.296875 \r\nL 28.515625 63.921875 \r\nL 10.984375 60.40625 \r\nL 10.984375 69.390625 \r\nL 28.421875 72.90625 \r\nL 38.28125 72.90625 \r\nL 38.28125 8.296875 \r\nL 54.390625 8.296875 \r\nL 54.390625 0 \r\nL 12.40625 0 \r\nz\r\n\" id=\"DejaVuSans-49\"/>\r\n       </defs>\r\n       <use xlink:href=\"#DejaVuSans-49\"/>\r\n       <use x=\"63.623047\" xlink:href=\"#DejaVuSans-48\"/>\r\n       <use x=\"127.246094\" xlink:href=\"#DejaVuSans-48\"/>\r\n      </g>\r\n     </g>\r\n    </g>\r\n    <g id=\"ytick_4\">\r\n     <g id=\"line2d_9\">\r\n      <g>\r\n       <use style=\"stroke:#000000;stroke-width:0.8;\" x=\"46.965625\" xlink:href=\"#m5795a44734\" y=\"345.899887\"/>\r\n      </g>\r\n     </g>\r\n     <g id=\"text_9\">\r\n      <!-- 150 -->\r\n      <g transform=\"translate(20.878125 349.699106)scale(0.1 -0.1)\">\r\n       <use xlink:href=\"#DejaVuSans-49\"/>\r\n       <use x=\"63.623047\" xlink:href=\"#DejaVuSans-53\"/>\r\n       <use x=\"127.246094\" xlink:href=\"#DejaVuSans-48\"/>\r\n      </g>\r\n     </g>\r\n    </g>\r\n    <g id=\"ytick_5\">\r\n     <g id=\"line2d_10\">\r\n      <g>\r\n       <use style=\"stroke:#000000;stroke-width:0.8;\" x=\"46.965625\" xlink:href=\"#m5795a44734\" y=\"277.599849\"/>\r\n      </g>\r\n     </g>\r\n     <g id=\"text_10\">\r\n      <!-- 200 -->\r\n      <g transform=\"translate(20.878125 281.399068)scale(0.1 -0.1)\">\r\n       <use xlink:href=\"#DejaVuSans-50\"/>\r\n       <use x=\"63.623047\" xlink:href=\"#DejaVuSans-48\"/>\r\n       <use x=\"127.246094\" xlink:href=\"#DejaVuSans-48\"/>\r\n      </g>\r\n     </g>\r\n    </g>\r\n    <g id=\"ytick_6\">\r\n     <g id=\"line2d_11\">\r\n      <g>\r\n       <use style=\"stroke:#000000;stroke-width:0.8;\" x=\"46.965625\" xlink:href=\"#m5795a44734\" y=\"209.299812\"/>\r\n      </g>\r\n     </g>\r\n     <g id=\"text_11\">\r\n      <!-- 250 -->\r\n      <g transform=\"translate(20.878125 213.09903)scale(0.1 -0.1)\">\r\n       <use xlink:href=\"#DejaVuSans-50\"/>\r\n       <use x=\"63.623047\" xlink:href=\"#DejaVuSans-53\"/>\r\n       <use x=\"127.246094\" xlink:href=\"#DejaVuSans-48\"/>\r\n      </g>\r\n     </g>\r\n    </g>\r\n    <g id=\"ytick_7\">\r\n     <g id=\"line2d_12\">\r\n      <g>\r\n       <use style=\"stroke:#000000;stroke-width:0.8;\" x=\"46.965625\" xlink:href=\"#m5795a44734\" y=\"140.999774\"/>\r\n      </g>\r\n     </g>\r\n     <g id=\"text_12\">\r\n      <!-- 300 -->\r\n      <g transform=\"translate(20.878125 144.798993)scale(0.1 -0.1)\">\r\n       <defs>\r\n        <path d=\"M 40.578125 39.3125 \r\nQ 47.65625 37.796875 51.625 33 \r\nQ 55.609375 28.21875 55.609375 21.1875 \r\nQ 55.609375 10.40625 48.1875 4.484375 \r\nQ 40.765625 -1.421875 27.09375 -1.421875 \r\nQ 22.515625 -1.421875 17.65625 -0.515625 \r\nQ 12.796875 0.390625 7.625 2.203125 \r\nL 7.625 11.71875 \r\nQ 11.71875 9.328125 16.59375 8.109375 \r\nQ 21.484375 6.890625 26.8125 6.890625 \r\nQ 36.078125 6.890625 40.9375 10.546875 \r\nQ 45.796875 14.203125 45.796875 21.1875 \r\nQ 45.796875 27.640625 41.28125 31.265625 \r\nQ 36.765625 34.90625 28.71875 34.90625 \r\nL 20.21875 34.90625 \r\nL 20.21875 43.015625 \r\nL 29.109375 43.015625 \r\nQ 36.375 43.015625 40.234375 45.921875 \r\nQ 44.09375 48.828125 44.09375 54.296875 \r\nQ 44.09375 59.90625 40.109375 62.90625 \r\nQ 36.140625 65.921875 28.71875 65.921875 \r\nQ 24.65625 65.921875 20.015625 65.03125 \r\nQ 15.375 64.15625 9.8125 62.3125 \r\nL 9.8125 71.09375 \r\nQ 15.4375 72.65625 20.34375 73.4375 \r\nQ 25.25 74.21875 29.59375 74.21875 \r\nQ 40.828125 74.21875 47.359375 69.109375 \r\nQ 53.90625 64.015625 53.90625 55.328125 \r\nQ 53.90625 49.265625 50.4375 45.09375 \r\nQ 46.96875 40.921875 40.578125 39.3125 \r\nz\r\n\" id=\"DejaVuSans-51\"/>\r\n       </defs>\r\n       <use xlink:href=\"#DejaVuSans-51\"/>\r\n       <use x=\"63.623047\" xlink:href=\"#DejaVuSans-48\"/>\r\n       <use x=\"127.246094\" xlink:href=\"#DejaVuSans-48\"/>\r\n      </g>\r\n     </g>\r\n    </g>\r\n    <g id=\"ytick_8\">\r\n     <g id=\"line2d_13\">\r\n      <g>\r\n       <use style=\"stroke:#000000;stroke-width:0.8;\" x=\"46.965625\" xlink:href=\"#m5795a44734\" y=\"72.699736\"/>\r\n      </g>\r\n     </g>\r\n     <g id=\"text_13\">\r\n      <!-- 350 -->\r\n      <g transform=\"translate(20.878125 76.498955)scale(0.1 -0.1)\">\r\n       <use xlink:href=\"#DejaVuSans-51\"/>\r\n       <use x=\"63.623047\" xlink:href=\"#DejaVuSans-53\"/>\r\n       <use x=\"127.246094\" xlink:href=\"#DejaVuSans-48\"/>\r\n      </g>\r\n     </g>\r\n    </g>\r\n    <g id=\"text_14\">\r\n     <!-- Count -->\r\n     <g transform=\"translate(14.798437 293.848437)rotate(-90)scale(0.1 -0.1)\">\r\n      <defs>\r\n       <path d=\"M 64.40625 67.28125 \r\nL 64.40625 56.890625 \r\nQ 59.421875 61.53125 53.78125 63.8125 \r\nQ 48.140625 66.109375 41.796875 66.109375 \r\nQ 29.296875 66.109375 22.65625 58.46875 \r\nQ 16.015625 50.828125 16.015625 36.375 \r\nQ 16.015625 21.96875 22.65625 14.328125 \r\nQ 29.296875 6.6875 41.796875 6.6875 \r\nQ 48.140625 6.6875 53.78125 8.984375 \r\nQ 59.421875 11.28125 64.40625 15.921875 \r\nL 64.40625 5.609375 \r\nQ 59.234375 2.09375 53.4375 0.328125 \r\nQ 47.65625 -1.421875 41.21875 -1.421875 \r\nQ 24.65625 -1.421875 15.125 8.703125 \r\nQ 5.609375 18.84375 5.609375 36.375 \r\nQ 5.609375 53.953125 15.125 64.078125 \r\nQ 24.65625 74.21875 41.21875 74.21875 \r\nQ 47.75 74.21875 53.53125 72.484375 \r\nQ 59.328125 70.75 64.40625 67.28125 \r\nz\r\n\" id=\"DejaVuSans-67\"/>\r\n       <path d=\"M 30.609375 48.390625 \r\nQ 23.390625 48.390625 19.1875 42.75 \r\nQ 14.984375 37.109375 14.984375 27.296875 \r\nQ 14.984375 17.484375 19.15625 11.84375 \r\nQ 23.34375 6.203125 30.609375 6.203125 \r\nQ 37.796875 6.203125 41.984375 11.859375 \r\nQ 46.1875 17.53125 46.1875 27.296875 \r\nQ 46.1875 37.015625 41.984375 42.703125 \r\nQ 37.796875 48.390625 30.609375 48.390625 \r\nz\r\nM 30.609375 56 \r\nQ 42.328125 56 49.015625 48.375 \r\nQ 55.71875 40.765625 55.71875 27.296875 \r\nQ 55.71875 13.875 49.015625 6.21875 \r\nQ 42.328125 -1.421875 30.609375 -1.421875 \r\nQ 18.84375 -1.421875 12.171875 6.21875 \r\nQ 5.515625 13.875 5.515625 27.296875 \r\nQ 5.515625 40.765625 12.171875 48.375 \r\nQ 18.84375 56 30.609375 56 \r\nz\r\n\" id=\"DejaVuSans-111\"/>\r\n       <path d=\"M 8.5 21.578125 \r\nL 8.5 54.6875 \r\nL 17.484375 54.6875 \r\nL 17.484375 21.921875 \r\nQ 17.484375 14.15625 20.5 10.265625 \r\nQ 23.53125 6.390625 29.59375 6.390625 \r\nQ 36.859375 6.390625 41.078125 11.03125 \r\nQ 45.3125 15.671875 45.3125 23.6875 \r\nL 45.3125 54.6875 \r\nL 54.296875 54.6875 \r\nL 54.296875 0 \r\nL 45.3125 0 \r\nL 45.3125 8.40625 \r\nQ 42.046875 3.421875 37.71875 1 \r\nQ 33.40625 -1.421875 27.6875 -1.421875 \r\nQ 18.265625 -1.421875 13.375 4.4375 \r\nQ 8.5 10.296875 8.5 21.578125 \r\nz\r\nM 31.109375 56 \r\nz\r\n\" id=\"DejaVuSans-117\"/>\r\n       <path d=\"M 54.890625 33.015625 \r\nL 54.890625 0 \r\nL 45.90625 0 \r\nL 45.90625 32.71875 \r\nQ 45.90625 40.484375 42.875 44.328125 \r\nQ 39.84375 48.1875 33.796875 48.1875 \r\nQ 26.515625 48.1875 22.3125 43.546875 \r\nQ 18.109375 38.921875 18.109375 30.90625 \r\nL 18.109375 0 \r\nL 9.078125 0 \r\nL 9.078125 54.6875 \r\nL 18.109375 54.6875 \r\nL 18.109375 46.1875 \r\nQ 21.34375 51.125 25.703125 53.5625 \r\nQ 30.078125 56 35.796875 56 \r\nQ 45.21875 56 50.046875 50.171875 \r\nQ 54.890625 44.34375 54.890625 33.015625 \r\nz\r\n\" id=\"DejaVuSans-110\"/>\r\n       <path d=\"M 18.3125 70.21875 \r\nL 18.3125 54.6875 \r\nL 36.8125 54.6875 \r\nL 36.8125 47.703125 \r\nL 18.3125 47.703125 \r\nL 18.3125 18.015625 \r\nQ 18.3125 11.328125 20.140625 9.421875 \r\nQ 21.96875 7.515625 27.59375 7.515625 \r\nL 36.8125 7.515625 \r\nL 36.8125 0 \r\nL 27.59375 0 \r\nQ 17.1875 0 13.234375 3.875 \r\nQ 9.28125 7.765625 9.28125 18.015625 \r\nL 9.28125 47.703125 \r\nL 2.6875 47.703125 \r\nL 2.6875 54.6875 \r\nL 9.28125 54.6875 \r\nL 9.28125 70.21875 \r\nz\r\n\" id=\"DejaVuSans-116\"/>\r\n      </defs>\r\n      <use xlink:href=\"#DejaVuSans-67\"/>\r\n      <use x=\"69.824219\" xlink:href=\"#DejaVuSans-111\"/>\r\n      <use x=\"131.005859\" xlink:href=\"#DejaVuSans-117\"/>\r\n      <use x=\"194.384766\" xlink:href=\"#DejaVuSans-110\"/>\r\n      <use x=\"257.763672\" xlink:href=\"#DejaVuSans-116\"/>\r\n     </g>\r\n    </g>\r\n   </g>\r\n   <g id=\"patch_99\">\r\n    <path d=\"M 46.965625 550.8 \r\nL 46.965625 7.2 \r\n\" style=\"fill:none;stroke:#000000;stroke-linecap:square;stroke-linejoin:miter;stroke-width:0.8;\"/>\r\n   </g>\r\n   <g id=\"patch_100\">\r\n    <path d=\"M 493.365625 550.8 \r\nL 493.365625 7.2 \r\n\" style=\"fill:none;stroke:#000000;stroke-linecap:square;stroke-linejoin:miter;stroke-width:0.8;\"/>\r\n   </g>\r\n   <g id=\"patch_101\">\r\n    <path d=\"M 46.965625 550.8 \r\nL 493.365625 550.8 \r\n\" style=\"fill:none;stroke:#000000;stroke-linecap:square;stroke-linejoin:miter;stroke-width:0.8;\"/>\r\n   </g>\r\n   <g id=\"patch_102\">\r\n    <path d=\"M 46.965625 7.2 \r\nL 493.365625 7.2 \r\n\" style=\"fill:none;stroke:#000000;stroke-linecap:square;stroke-linejoin:miter;stroke-width:0.8;\"/>\r\n   </g>\r\n   <g id=\"legend_1\">\r\n    <g id=\"patch_103\">\r\n     <path d=\"M 419.926562 44.55625 \r\nL 486.365625 44.55625 \r\nQ 488.365625 44.55625 488.365625 42.55625 \r\nL 488.365625 14.2 \r\nQ 488.365625 12.2 486.365625 12.2 \r\nL 419.926562 12.2 \r\nQ 417.926562 12.2 417.926562 14.2 \r\nL 417.926562 42.55625 \r\nQ 417.926562 44.55625 419.926562 44.55625 \r\nz\r\n\" style=\"fill:#ffffff;opacity:0.8;stroke:#cccccc;stroke-linejoin:miter;\"/>\r\n    </g>\r\n    <g id=\"patch_104\">\r\n     <path d=\"M 421.926562 23.798437 \r\nL 441.926562 23.798437 \r\nL 441.926562 16.798437 \r\nL 421.926562 16.798437 \r\nz\r\n\" style=\"fill:#1f77b4;fill-opacity:0.75;stroke:#000000;stroke-linejoin:miter;stroke-width:0.614875;\"/>\r\n    </g>\r\n    <g id=\"text_15\">\r\n     <!-- Predict -->\r\n     <g transform=\"translate(449.926562 23.798437)scale(0.1 -0.1)\">\r\n      <defs>\r\n       <path d=\"M 19.671875 64.796875 \r\nL 19.671875 37.40625 \r\nL 32.078125 37.40625 \r\nQ 38.96875 37.40625 42.71875 40.96875 \r\nQ 46.484375 44.53125 46.484375 51.125 \r\nQ 46.484375 57.671875 42.71875 61.234375 \r\nQ 38.96875 64.796875 32.078125 64.796875 \r\nz\r\nM 9.8125 72.90625 \r\nL 32.078125 72.90625 \r\nQ 44.34375 72.90625 50.609375 67.359375 \r\nQ 56.890625 61.8125 56.890625 51.125 \r\nQ 56.890625 40.328125 50.609375 34.8125 \r\nQ 44.34375 29.296875 32.078125 29.296875 \r\nL 19.671875 29.296875 \r\nL 19.671875 0 \r\nL 9.8125 0 \r\nz\r\n\" id=\"DejaVuSans-80\"/>\r\n       <path d=\"M 41.109375 46.296875 \r\nQ 39.59375 47.171875 37.8125 47.578125 \r\nQ 36.03125 48 33.890625 48 \r\nQ 26.265625 48 22.1875 43.046875 \r\nQ 18.109375 38.09375 18.109375 28.8125 \r\nL 18.109375 0 \r\nL 9.078125 0 \r\nL 9.078125 54.6875 \r\nL 18.109375 54.6875 \r\nL 18.109375 46.1875 \r\nQ 20.953125 51.171875 25.484375 53.578125 \r\nQ 30.03125 56 36.53125 56 \r\nQ 37.453125 56 38.578125 55.875 \r\nQ 39.703125 55.765625 41.0625 55.515625 \r\nz\r\n\" id=\"DejaVuSans-114\"/>\r\n       <path d=\"M 56.203125 29.59375 \r\nL 56.203125 25.203125 \r\nL 14.890625 25.203125 \r\nQ 15.484375 15.921875 20.484375 11.0625 \r\nQ 25.484375 6.203125 34.421875 6.203125 \r\nQ 39.59375 6.203125 44.453125 7.46875 \r\nQ 49.3125 8.734375 54.109375 11.28125 \r\nL 54.109375 2.78125 \r\nQ 49.265625 0.734375 44.1875 -0.34375 \r\nQ 39.109375 -1.421875 33.890625 -1.421875 \r\nQ 20.796875 -1.421875 13.15625 6.1875 \r\nQ 5.515625 13.8125 5.515625 26.8125 \r\nQ 5.515625 40.234375 12.765625 48.109375 \r\nQ 20.015625 56 32.328125 56 \r\nQ 43.359375 56 49.78125 48.890625 \r\nQ 56.203125 41.796875 56.203125 29.59375 \r\nz\r\nM 47.21875 32.234375 \r\nQ 47.125 39.59375 43.09375 43.984375 \r\nQ 39.0625 48.390625 32.421875 48.390625 \r\nQ 24.90625 48.390625 20.390625 44.140625 \r\nQ 15.875 39.890625 15.1875 32.171875 \r\nz\r\n\" id=\"DejaVuSans-101\"/>\r\n       <path d=\"M 45.40625 46.390625 \r\nL 45.40625 75.984375 \r\nL 54.390625 75.984375 \r\nL 54.390625 0 \r\nL 45.40625 0 \r\nL 45.40625 8.203125 \r\nQ 42.578125 3.328125 38.25 0.953125 \r\nQ 33.9375 -1.421875 27.875 -1.421875 \r\nQ 17.96875 -1.421875 11.734375 6.484375 \r\nQ 5.515625 14.40625 5.515625 27.296875 \r\nQ 5.515625 40.1875 11.734375 48.09375 \r\nQ 17.96875 56 27.875 56 \r\nQ 33.9375 56 38.25 53.625 \r\nQ 42.578125 51.265625 45.40625 46.390625 \r\nz\r\nM 14.796875 27.296875 \r\nQ 14.796875 17.390625 18.875 11.75 \r\nQ 22.953125 6.109375 30.078125 6.109375 \r\nQ 37.203125 6.109375 41.296875 11.75 \r\nQ 45.40625 17.390625 45.40625 27.296875 \r\nQ 45.40625 37.203125 41.296875 42.84375 \r\nQ 37.203125 48.484375 30.078125 48.484375 \r\nQ 22.953125 48.484375 18.875 42.84375 \r\nQ 14.796875 37.203125 14.796875 27.296875 \r\nz\r\n\" id=\"DejaVuSans-100\"/>\r\n       <path d=\"M 9.421875 54.6875 \r\nL 18.40625 54.6875 \r\nL 18.40625 0 \r\nL 9.421875 0 \r\nz\r\nM 9.421875 75.984375 \r\nL 18.40625 75.984375 \r\nL 18.40625 64.59375 \r\nL 9.421875 64.59375 \r\nz\r\n\" id=\"DejaVuSans-105\"/>\r\n       <path d=\"M 48.78125 52.59375 \r\nL 48.78125 44.1875 \r\nQ 44.96875 46.296875 41.140625 47.34375 \r\nQ 37.3125 48.390625 33.40625 48.390625 \r\nQ 24.65625 48.390625 19.8125 42.84375 \r\nQ 14.984375 37.3125 14.984375 27.296875 \r\nQ 14.984375 17.28125 19.8125 11.734375 \r\nQ 24.65625 6.203125 33.40625 6.203125 \r\nQ 37.3125 6.203125 41.140625 7.25 \r\nQ 44.96875 8.296875 48.78125 10.40625 \r\nL 48.78125 2.09375 \r\nQ 45.015625 0.34375 40.984375 -0.53125 \r\nQ 36.96875 -1.421875 32.421875 -1.421875 \r\nQ 20.0625 -1.421875 12.78125 6.34375 \r\nQ 5.515625 14.109375 5.515625 27.296875 \r\nQ 5.515625 40.671875 12.859375 48.328125 \r\nQ 20.21875 56 33.015625 56 \r\nQ 37.15625 56 41.109375 55.140625 \r\nQ 45.0625 54.296875 48.78125 52.59375 \r\nz\r\n\" id=\"DejaVuSans-99\"/>\r\n      </defs>\r\n      <use xlink:href=\"#DejaVuSans-80\"/>\r\n      <use x=\"58.552734\" xlink:href=\"#DejaVuSans-114\"/>\r\n      <use x=\"97.416016\" xlink:href=\"#DejaVuSans-101\"/>\r\n      <use x=\"158.939453\" xlink:href=\"#DejaVuSans-100\"/>\r\n      <use x=\"222.416016\" xlink:href=\"#DejaVuSans-105\"/>\r\n      <use x=\"250.199219\" xlink:href=\"#DejaVuSans-99\"/>\r\n      <use x=\"305.179688\" xlink:href=\"#DejaVuSans-116\"/>\r\n     </g>\r\n    </g>\r\n    <g id=\"patch_105\">\r\n     <path d=\"M 421.926562 38.476562 \r\nL 441.926562 38.476562 \r\nL 441.926562 31.476562 \r\nL 421.926562 31.476562 \r\nz\r\n\" style=\"fill:#0000ff;fill-opacity:0.75;stroke:#000000;stroke-linejoin:miter;stroke-width:0.637715;\"/>\r\n    </g>\r\n    <g id=\"text_16\">\r\n     <!-- Actual -->\r\n     <g transform=\"translate(449.926562 38.476562)scale(0.1 -0.1)\">\r\n      <defs>\r\n       <path d=\"M 34.1875 63.1875 \r\nL 20.796875 26.90625 \r\nL 47.609375 26.90625 \r\nz\r\nM 28.609375 72.90625 \r\nL 39.796875 72.90625 \r\nL 67.578125 0 \r\nL 57.328125 0 \r\nL 50.6875 18.703125 \r\nL 17.828125 18.703125 \r\nL 11.1875 0 \r\nL 0.78125 0 \r\nz\r\n\" id=\"DejaVuSans-65\"/>\r\n       <path d=\"M 34.28125 27.484375 \r\nQ 23.390625 27.484375 19.1875 25 \r\nQ 14.984375 22.515625 14.984375 16.5 \r\nQ 14.984375 11.71875 18.140625 8.90625 \r\nQ 21.296875 6.109375 26.703125 6.109375 \r\nQ 34.1875 6.109375 38.703125 11.40625 \r\nQ 43.21875 16.703125 43.21875 25.484375 \r\nL 43.21875 27.484375 \r\nz\r\nM 52.203125 31.203125 \r\nL 52.203125 0 \r\nL 43.21875 0 \r\nL 43.21875 8.296875 \r\nQ 40.140625 3.328125 35.546875 0.953125 \r\nQ 30.953125 -1.421875 24.3125 -1.421875 \r\nQ 15.921875 -1.421875 10.953125 3.296875 \r\nQ 6 8.015625 6 15.921875 \r\nQ 6 25.140625 12.171875 29.828125 \r\nQ 18.359375 34.515625 30.609375 34.515625 \r\nL 43.21875 34.515625 \r\nL 43.21875 35.40625 \r\nQ 43.21875 41.609375 39.140625 45 \r\nQ 35.0625 48.390625 27.6875 48.390625 \r\nQ 23 48.390625 18.546875 47.265625 \r\nQ 14.109375 46.140625 10.015625 43.890625 \r\nL 10.015625 52.203125 \r\nQ 14.9375 54.109375 19.578125 55.046875 \r\nQ 24.21875 56 28.609375 56 \r\nQ 40.484375 56 46.34375 49.84375 \r\nQ 52.203125 43.703125 52.203125 31.203125 \r\nz\r\n\" id=\"DejaVuSans-97\"/>\r\n       <path d=\"M 9.421875 75.984375 \r\nL 18.40625 75.984375 \r\nL 18.40625 0 \r\nL 9.421875 0 \r\nz\r\n\" id=\"DejaVuSans-108\"/>\r\n      </defs>\r\n      <use xlink:href=\"#DejaVuSans-65\"/>\r\n      <use x=\"66.658203\" xlink:href=\"#DejaVuSans-99\"/>\r\n      <use x=\"121.638672\" xlink:href=\"#DejaVuSans-116\"/>\r\n      <use x=\"160.847656\" xlink:href=\"#DejaVuSans-117\"/>\r\n      <use x=\"224.226562\" xlink:href=\"#DejaVuSans-97\"/>\r\n      <use x=\"285.505859\" xlink:href=\"#DejaVuSans-108\"/>\r\n     </g>\r\n    </g>\r\n   </g>\r\n  </g>\r\n </g>\r\n <defs>\r\n  <clipPath id=\"p53c580de68\">\r\n   <rect height=\"543.6\" width=\"446.4\" x=\"46.965625\" y=\"7.2\"/>\r\n  </clipPath>\r\n </defs>\r\n</svg>\r\n",
      "image/png": "[encoded data removed]"
     },
     "metadata": {
      "needs_background": "light"
     }
    }
   ],
   "source": [
    "fig,ax_multi = plt.subplots(1,1,figsize = (8,10))\n",
    "sns.histplot(y_pred_main, ax = ax_multi, color = 'red', label = 'Predict')\n",
    "sns.histplot(y_test_reg, ax = ax_multi, color = 'blue', label = 'Actual')\n",
    "ax_multi.legend()"
   ]
  },
  {
   "source": [
    "<h2> Subclassing API </h2> "
   ],
   "cell_type": "markdown",
   "metadata": {}
  },
  {
   "source": [
    "The sequential and functional APIs are easy to save, clone, its structure can be displayed and analyszed, its framework can infer shapes and check types, errors can be caught early. This is because the model is a static graph of layers. \n",
    "\n",
    "However as it is a static graph of layers, it cannot train models involving loops, varying shapes, conditional branching and other dynamic behaviors. \n",
    "\n",
    "Instead we use the Subclass API"
   ],
   "cell_type": "markdown",
   "metadata": {}
  },
  {
   "cell_type": "code",
   "execution_count": 54,
   "metadata": {},
   "outputs": [],
   "source": [
    "class WideAndDeepModel(keras.models.Model):\n",
    "    def __init__(self, units = 30, activation = \"relu\", **kwargs):\n",
    "        super().__init__(**kwargs)\n",
    "        #only instantiates the layers\n",
    "        self.hidden1 = keras.layers.Dense(units, activation = activation)\n",
    "        self.hidden2 = keras.layers.Dense(units, activation = activation)\n",
    "        self.main_output = keras.layers.Dense(1)\n",
    "        self.aux_output = keras.layers.Dense(1)\n",
    "    def call(self, inputs):\n",
    "        input_A, input_B = inputs\n",
    "        hidden1 = self.hidden1(input_B)\n",
    "        hidden2 = self.hidden2(hidden1)\n",
    "        concat = keras.layers.concatenate([input_A, hidden2])\n",
    "        main_output = self.main_output(concat)\n",
    "        aux_output = self.aux_output(hidden2)\n",
    "        return main_output,aux_output"
   ]
  },
  {
   "source": [
    "Notice that now we have separated layer initialization from layer architecture. Hence we can call this function with the respective inputs whenever required during normal programming operations.\n",
    "\n",
    "However now your model's architecture is hidden within the call() method. Hence we cannot clone or save the model. And we cannot inspect the summary of the model. Hence Sequential API and Functional API are safer options"
   ],
   "cell_type": "markdown",
   "metadata": {}
  },
  {
   "cell_type": "code",
   "execution_count": 55,
   "metadata": {},
   "outputs": [],
   "source": [
    "#saving a Keras model\n",
    "model_multi.save(\"multi_output_model.h5\")"
   ]
  },
  {
   "cell_type": "code",
   "execution_count": 56,
   "metadata": {},
   "outputs": [
    {
     "output_type": "execute_result",
     "data": {
      "text/plain": [
       "<KeysViewHDF5 ['model_weights', 'optimizer_weights']>"
      ]
     },
     "metadata": {},
     "execution_count": 56
    }
   ],
   "source": [
    "import h5py\n",
    "model_h5 = h5py.File('multi_output_model.h5','r')\n",
    "model_h5.keys()"
   ]
  },
  {
   "cell_type": "code",
   "execution_count": 57,
   "metadata": {},
   "outputs": [
    {
     "output_type": "execute_result",
     "data": {
      "text/plain": [
       "<HDF5 group \"/model_weights\" (7 members)>"
      ]
     },
     "metadata": {},
     "execution_count": 57
    }
   ],
   "source": [
    "model_h5['model_weights']"
   ]
  },
  {
   "source": [
    "There are 2 ways in which you can load a model. Either by loading the entire model or just the weights. Use load_weights to load only the weights. However here we have to create a model architecture which matches that of the weights."
   ],
   "cell_type": "markdown",
   "metadata": {}
  },
  {
   "cell_type": "code",
   "execution_count": 58,
   "metadata": {},
   "outputs": [
    {
     "output_type": "execute_result",
     "data": {
      "text/plain": [
       "'\\ndef create_model():\\n    .....model architecture...\\n\\nmodel = create_model()\\nmodel.load_weights(weights_path/h5 file name)\\n'"
      ]
     },
     "metadata": {},
     "execution_count": 58
    }
   ],
   "source": [
    "\"\"\"\n",
    "def create_model():\n",
    "    .....model architecture...\n",
    "\n",
    "model = create_model()\n",
    "model.load_weights(weights_path/h5 file name)\n",
    "\"\"\""
   ]
  },
  {
   "source": [
    "Training a model can take several hours sometimes. It is important to ensure that you do not loose progress by not saving. Hence we have to save at checkpoints at regular intervals during training. For this we use callbacks"
   ],
   "cell_type": "markdown",
   "metadata": {}
  },
  {
   "source": [
    "<h3> Using Callbacks </h3> \n",
    "\n",
    "The fit() method has a callback argument which accepts a keras.callbacks object which specifies when the model should save. We can specify whether to save after each epoch, each batch or end of training. \n"
   ],
   "cell_type": "markdown",
   "metadata": {}
  },
  {
   "cell_type": "code",
   "execution_count": 59,
   "metadata": {},
   "outputs": [
    {
     "output_type": "stream",
     "name": "stdout",
     "text": [
      "Epoch 1/20\n",
      "363/363 [==============================] - 1s 1ms/step - loss: 0.3767 - dense_15_loss: 0.3479 - dense_16_loss: 0.6362 - val_loss: 0.3929 - val_dense_15_loss: 0.3597 - val_dense_16_loss: 0.6917\n",
      "Epoch 2/20\n",
      "363/363 [==============================] - 0s 1ms/step - loss: 0.3898 - dense_15_loss: 0.3627 - dense_16_loss: 0.6335 - val_loss: 0.3883 - val_dense_15_loss: 0.3568 - val_dense_16_loss: 0.6725\n",
      "Epoch 3/20\n",
      "363/363 [==============================] - 0s 1ms/step - loss: 0.3690 - dense_15_loss: 0.3404 - dense_16_loss: 0.6267 - val_loss: 0.3923 - val_dense_15_loss: 0.3571 - val_dense_16_loss: 0.7096\n",
      "Epoch 4/20\n",
      "363/363 [==============================] - 0s 1ms/step - loss: 0.3655 - dense_15_loss: 0.3367 - dense_16_loss: 0.6246 - val_loss: 0.3889 - val_dense_15_loss: 0.3541 - val_dense_16_loss: 0.7021\n",
      "Epoch 5/20\n",
      "363/363 [==============================] - 0s 1ms/step - loss: 0.3672 - dense_15_loss: 0.3390 - dense_16_loss: 0.6215 - val_loss: 0.3860 - val_dense_15_loss: 0.3525 - val_dense_16_loss: 0.6867\n",
      "Epoch 6/20\n",
      "363/363 [==============================] - 0s 1ms/step - loss: 0.3616 - dense_15_loss: 0.3330 - dense_16_loss: 0.6196 - val_loss: 0.3858 - val_dense_15_loss: 0.3514 - val_dense_16_loss: 0.6959\n",
      "Epoch 7/20\n",
      "363/363 [==============================] - 0s 1ms/step - loss: 0.3597 - dense_15_loss: 0.3309 - dense_16_loss: 0.6185 - val_loss: 0.3856 - val_dense_15_loss: 0.3520 - val_dense_16_loss: 0.6878\n",
      "Epoch 8/20\n",
      "363/363 [==============================] - 0s 1ms/step - loss: 0.3582 - dense_15_loss: 0.3293 - dense_16_loss: 0.6179 - val_loss: 0.3847 - val_dense_15_loss: 0.3503 - val_dense_16_loss: 0.6945\n",
      "Epoch 9/20\n",
      "363/363 [==============================] - 0s 1ms/step - loss: 0.3575 - dense_15_loss: 0.3289 - dense_16_loss: 0.6148 - val_loss: 0.3827 - val_dense_15_loss: 0.3480 - val_dense_16_loss: 0.6946\n",
      "Epoch 10/20\n",
      "363/363 [==============================] - 0s 1ms/step - loss: 0.3575 - dense_15_loss: 0.3291 - dense_16_loss: 0.6130 - val_loss: 0.3807 - val_dense_15_loss: 0.3485 - val_dense_16_loss: 0.6699\n",
      "Epoch 11/20\n",
      "363/363 [==============================] - 0s 1ms/step - loss: 0.3549 - dense_15_loss: 0.3265 - dense_16_loss: 0.6102 - val_loss: 0.3841 - val_dense_15_loss: 0.3466 - val_dense_16_loss: 0.7215\n",
      "Epoch 12/20\n",
      "363/363 [==============================] - 0s 1ms/step - loss: 0.3553 - dense_15_loss: 0.3267 - dense_16_loss: 0.6128 - val_loss: 0.3808 - val_dense_15_loss: 0.3456 - val_dense_16_loss: 0.6977\n",
      "Epoch 13/20\n",
      "363/363 [==============================] - 0s 1ms/step - loss: 0.3551 - dense_15_loss: 0.3269 - dense_16_loss: 0.6093 - val_loss: 0.3955 - val_dense_15_loss: 0.3616 - val_dense_16_loss: 0.7002\n",
      "Epoch 14/20\n",
      "363/363 [==============================] - 0s 1ms/step - loss: 0.3527 - dense_15_loss: 0.3245 - dense_16_loss: 0.6066 - val_loss: 0.3796 - val_dense_15_loss: 0.3440 - val_dense_16_loss: 0.7003\n",
      "Epoch 15/20\n",
      "363/363 [==============================] - 0s 1ms/step - loss: 0.3503 - dense_15_loss: 0.3219 - dense_16_loss: 0.6060 - val_loss: 0.3889 - val_dense_15_loss: 0.3558 - val_dense_16_loss: 0.6867\n",
      "Epoch 16/20\n",
      "363/363 [==============================] - 0s 1ms/step - loss: 0.3496 - dense_15_loss: 0.3214 - dense_16_loss: 0.6038 - val_loss: 0.4070 - val_dense_15_loss: 0.3782 - val_dense_16_loss: 0.6661\n",
      "Epoch 17/20\n",
      "363/363 [==============================] - 0s 1ms/step - loss: 0.3499 - dense_15_loss: 0.3213 - dense_16_loss: 0.6069 - val_loss: 0.3765 - val_dense_15_loss: 0.3435 - val_dense_16_loss: 0.6741\n",
      "Epoch 18/20\n",
      "363/363 [==============================] - 0s 1ms/step - loss: 0.3481 - dense_15_loss: 0.3199 - dense_16_loss: 0.6021 - val_loss: 0.3929 - val_dense_15_loss: 0.3633 - val_dense_16_loss: 0.6593\n",
      "Epoch 19/20\n",
      "363/363 [==============================] - 0s 1ms/step - loss: 0.3476 - dense_15_loss: 0.3192 - dense_16_loss: 0.6032 - val_loss: 0.3713 - val_dense_15_loss: 0.3372 - val_dense_16_loss: 0.6782\n",
      "Epoch 20/20\n",
      "363/363 [==============================] - 0s 1ms/step - loss: 0.3464 - dense_15_loss: 0.3181 - dense_16_loss: 0.6013 - val_loss: 0.3730 - val_dense_15_loss: 0.3404 - val_dense_16_loss: 0.6658\n"
     ]
    }
   ],
   "source": [
    "#saves at end of each epoch. \n",
    "checkpoint_cb = keras.callbacks.ModelCheckpoint('multi_output_model_cb.h5')\n",
    "history = model_multi.fit([X_train_A,X_train_B],[y_train_reg,y_train_reg], epochs = 20, validation_data= ([X_valid_A, X_valid_B],[y_valid_reg, y_valid_reg]), callbacks=checkpoint_cb)"
   ]
  },
  {
   "source": [
    "Saving at checkpoints allows us to only save a model with the best score on the validation set. "
   ],
   "cell_type": "markdown",
   "metadata": {}
  },
  {
   "cell_type": "code",
   "execution_count": 60,
   "metadata": {},
   "outputs": [
    {
     "output_type": "execute_result",
     "data": {
      "text/plain": [
       "        loss  dense_15_loss  dense_16_loss  val_loss  val_dense_15_loss  \\\n",
       "0   0.376727       0.347896       0.636205  0.392882           0.359682   \n",
       "1   0.389769       0.362689       0.633492  0.388331           0.356761   \n",
       "2   0.368995       0.340363       0.626683  0.392331           0.357077   \n",
       "3   0.365452       0.336652       0.624650  0.388931           0.354135   \n",
       "4   0.367221       0.338966       0.621518  0.385963           0.352543   \n",
       "5   0.361638       0.332971       0.619635  0.385837           0.351380   \n",
       "6   0.359667       0.330906       0.618520  0.385583           0.352002   \n",
       "7   0.358198       0.329343       0.617889  0.384700           0.350277   \n",
       "8   0.357464       0.328868       0.614825  0.382680           0.348019   \n",
       "9   0.357469       0.329076       0.613003  0.380656           0.348522   \n",
       "10  0.354868       0.326497       0.610215  0.384097           0.346608   \n",
       "11  0.355336       0.326733       0.612760  0.380827           0.345623   \n",
       "12  0.355147       0.326910       0.609284  0.395499           0.361643   \n",
       "13  0.352671       0.324452       0.606644  0.379649           0.344019   \n",
       "14  0.350287       0.321875       0.605996  0.388930           0.355846   \n",
       "15  0.349623       0.321386       0.603758  0.406964           0.378173   \n",
       "16  0.349883       0.321326       0.606895  0.376527           0.343468   \n",
       "17  0.348124       0.319908       0.602072  0.392873           0.363273   \n",
       "18  0.347574       0.319171       0.603202  0.371339           0.337248   \n",
       "19  0.346417       0.318092       0.601339  0.372967           0.340432   \n",
       "\n",
       "    val_dense_16_loss  \n",
       "0            0.691682  \n",
       "1            0.672460  \n",
       "2            0.709615  \n",
       "3            0.702091  \n",
       "4            0.686740  \n",
       "5            0.695948  \n",
       "6            0.687807  \n",
       "7            0.694508  \n",
       "8            0.694636  \n",
       "9            0.669862  \n",
       "10           0.721503  \n",
       "11           0.697661  \n",
       "12           0.700198  \n",
       "13           0.700322  \n",
       "14           0.686678  \n",
       "15           0.666089  \n",
       "16           0.674054  \n",
       "17           0.659273  \n",
       "18           0.678156  \n",
       "19           0.665777  "
      ],
      "text/html": "<div>\n<style scoped>\n    .dataframe tbody tr th:only-of-type {\n        vertical-align: middle;\n    }\n\n    .dataframe tbody tr th {\n        vertical-align: top;\n    }\n\n    .dataframe thead th {\n        text-align: right;\n    }\n</style>\n<table border=\"1\" class=\"dataframe\">\n  <thead>\n    <tr style=\"text-align: right;\">\n      <th></th>\n      <th>loss</th>\n      <th>dense_15_loss</th>\n      <th>dense_16_loss</th>\n      <th>val_loss</th>\n      <th>val_dense_15_loss</th>\n      <th>val_dense_16_loss</th>\n    </tr>\n  </thead>\n  <tbody>\n    <tr>\n      <th>0</th>\n      <td>0.376727</td>\n      <td>0.347896</td>\n      <td>0.636205</td>\n      <td>0.392882</td>\n      <td>0.359682</td>\n      <td>0.691682</td>\n    </tr>\n    <tr>\n      <th>1</th>\n      <td>0.389769</td>\n      <td>0.362689</td>\n      <td>0.633492</td>\n      <td>0.388331</td>\n      <td>0.356761</td>\n      <td>0.672460</td>\n    </tr>\n    <tr>\n      <th>2</th>\n      <td>0.368995</td>\n      <td>0.340363</td>\n      <td>0.626683</td>\n      <td>0.392331</td>\n      <td>0.357077</td>\n      <td>0.709615</td>\n    </tr>\n    <tr>\n      <th>3</th>\n      <td>0.365452</td>\n      <td>0.336652</td>\n      <td>0.624650</td>\n      <td>0.388931</td>\n      <td>0.354135</td>\n      <td>0.702091</td>\n    </tr>\n    <tr>\n      <th>4</th>\n      <td>0.367221</td>\n      <td>0.338966</td>\n      <td>0.621518</td>\n      <td>0.385963</td>\n      <td>0.352543</td>\n      <td>0.686740</td>\n    </tr>\n    <tr>\n      <th>5</th>\n      <td>0.361638</td>\n      <td>0.332971</td>\n      <td>0.619635</td>\n      <td>0.385837</td>\n      <td>0.351380</td>\n      <td>0.695948</td>\n    </tr>\n    <tr>\n      <th>6</th>\n      <td>0.359667</td>\n      <td>0.330906</td>\n      <td>0.618520</td>\n      <td>0.385583</td>\n      <td>0.352002</td>\n      <td>0.687807</td>\n    </tr>\n    <tr>\n      <th>7</th>\n      <td>0.358198</td>\n      <td>0.329343</td>\n      <td>0.617889</td>\n      <td>0.384700</td>\n      <td>0.350277</td>\n      <td>0.694508</td>\n    </tr>\n    <tr>\n      <th>8</th>\n      <td>0.357464</td>\n      <td>0.328868</td>\n      <td>0.614825</td>\n      <td>0.382680</td>\n      <td>0.348019</td>\n      <td>0.694636</td>\n    </tr>\n    <tr>\n      <th>9</th>\n      <td>0.357469</td>\n      <td>0.329076</td>\n      <td>0.613003</td>\n      <td>0.380656</td>\n      <td>0.348522</td>\n      <td>0.669862</td>\n    </tr>\n    <tr>\n      <th>10</th>\n      <td>0.354868</td>\n      <td>0.326497</td>\n      <td>0.610215</td>\n      <td>0.384097</td>\n      <td>0.346608</td>\n      <td>0.721503</td>\n    </tr>\n    <tr>\n      <th>11</th>\n      <td>0.355336</td>\n      <td>0.326733</td>\n      <td>0.612760</td>\n      <td>0.380827</td>\n      <td>0.345623</td>\n      <td>0.697661</td>\n    </tr>\n    <tr>\n      <th>12</th>\n      <td>0.355147</td>\n      <td>0.326910</td>\n      <td>0.609284</td>\n      <td>0.395499</td>\n      <td>0.361643</td>\n      <td>0.700198</td>\n    </tr>\n    <tr>\n      <th>13</th>\n      <td>0.352671</td>\n      <td>0.324452</td>\n      <td>0.606644</td>\n      <td>0.379649</td>\n      <td>0.344019</td>\n      <td>0.700322</td>\n    </tr>\n    <tr>\n      <th>14</th>\n      <td>0.350287</td>\n      <td>0.321875</td>\n      <td>0.605996</td>\n      <td>0.388930</td>\n      <td>0.355846</td>\n      <td>0.686678</td>\n    </tr>\n    <tr>\n      <th>15</th>\n      <td>0.349623</td>\n      <td>0.321386</td>\n      <td>0.603758</td>\n      <td>0.406964</td>\n      <td>0.378173</td>\n      <td>0.666089</td>\n    </tr>\n    <tr>\n      <th>16</th>\n      <td>0.349883</td>\n      <td>0.321326</td>\n      <td>0.606895</td>\n      <td>0.376527</td>\n      <td>0.343468</td>\n      <td>0.674054</td>\n    </tr>\n    <tr>\n      <th>17</th>\n      <td>0.348124</td>\n      <td>0.319908</td>\n      <td>0.602072</td>\n      <td>0.392873</td>\n      <td>0.363273</td>\n      <td>0.659273</td>\n    </tr>\n    <tr>\n      <th>18</th>\n      <td>0.347574</td>\n      <td>0.319171</td>\n      <td>0.603202</td>\n      <td>0.371339</td>\n      <td>0.337248</td>\n      <td>0.678156</td>\n    </tr>\n    <tr>\n      <th>19</th>\n      <td>0.346417</td>\n      <td>0.318092</td>\n      <td>0.601339</td>\n      <td>0.372967</td>\n      <td>0.340432</td>\n      <td>0.665777</td>\n    </tr>\n  </tbody>\n</table>\n</div>"
     },
     "metadata": {},
     "execution_count": 60
    }
   ],
   "source": [
    "#the two outputs have different weights for their losses. \n",
    "trainingdf = pd.DataFrame(data = history.history)\n",
    "trainingdf"
   ]
  },
  {
   "cell_type": "code",
   "execution_count": 61,
   "metadata": {},
   "outputs": [
    {
     "output_type": "stream",
     "name": "stdout",
     "text": [
      "Model: \"model_2\"\n",
      "__________________________________________________________________________________________________\n",
      "Layer (type)                    Output Shape         Param #     Connected to                     \n",
      "==================================================================================================\n",
      "input_6 (InputLayer)            [(None, 6)]          0                                            \n",
      "__________________________________________________________________________________________________\n",
      "dense_13 (Dense)                (None, 30)           210         input_6[0][0]                    \n",
      "__________________________________________________________________________________________________\n",
      "input_5 (InputLayer)            [(None, 5)]          0                                            \n",
      "__________________________________________________________________________________________________\n",
      "dense_14 (Dense)                (None, 30)           930         dense_13[0][0]                   \n",
      "__________________________________________________________________________________________________\n",
      "concatenate_2 (Concatenate)     (None, 35)           0           input_5[0][0]                    \n",
      "                                                                 dense_14[0][0]                   \n",
      "__________________________________________________________________________________________________\n",
      "dense_15 (Dense)                (None, 1)            36          concatenate_2[0][0]              \n",
      "__________________________________________________________________________________________________\n",
      "dense_16 (Dense)                (None, 1)            31          dense_13[0][0]                   \n",
      "==================================================================================================\n",
      "Total params: 1,207\n",
      "Trainable params: 1,207\n",
      "Non-trainable params: 0\n",
      "__________________________________________________________________________________________________\n"
     ]
    }
   ],
   "source": [
    "model_multi.summary()"
   ]
  },
  {
   "cell_type": "code",
   "execution_count": 62,
   "metadata": {},
   "outputs": [
    {
     "output_type": "execute_result",
     "data": {
      "text/plain": [
       "        loss  dense_15_loss  dense_16_loss  val_loss  val_dense_15_loss  \\\n",
       "18  0.347574       0.319171       0.603202  0.371339           0.337248   \n",
       "\n",
       "    val_dense_16_loss  \n",
       "18           0.678156  "
      ],
      "text/html": "<div>\n<style scoped>\n    .dataframe tbody tr th:only-of-type {\n        vertical-align: middle;\n    }\n\n    .dataframe tbody tr th {\n        vertical-align: top;\n    }\n\n    .dataframe thead th {\n        text-align: right;\n    }\n</style>\n<table border=\"1\" class=\"dataframe\">\n  <thead>\n    <tr style=\"text-align: right;\">\n      <th></th>\n      <th>loss</th>\n      <th>dense_15_loss</th>\n      <th>dense_16_loss</th>\n      <th>val_loss</th>\n      <th>val_dense_15_loss</th>\n      <th>val_dense_16_loss</th>\n    </tr>\n  </thead>\n  <tbody>\n    <tr>\n      <th>18</th>\n      <td>0.347574</td>\n      <td>0.319171</td>\n      <td>0.603202</td>\n      <td>0.371339</td>\n      <td>0.337248</td>\n      <td>0.678156</td>\n    </tr>\n  </tbody>\n</table>\n</div>"
     },
     "metadata": {},
     "execution_count": 62
    }
   ],
   "source": [
    "trainingdf.loc[trainingdf[\"val_loss\"] == trainingdf[\"val_loss\"].min()]"
   ]
  },
  {
   "cell_type": "code",
   "execution_count": 63,
   "metadata": {},
   "outputs": [
    {
     "output_type": "stream",
     "name": "stdout",
     "text": [
      "Epoch 1/20\n",
      "363/363 [==============================] - 1s 1ms/step - loss: 0.3449 - dense_15_loss: 0.3168 - dense_16_loss: 0.5976 - val_loss: 0.3968 - val_dense_15_loss: 0.3668 - val_dense_16_loss: 0.6665\n",
      "Epoch 2/20\n",
      "363/363 [==============================] - 0s 1ms/step - loss: 0.3448 - dense_15_loss: 0.3168 - dense_16_loss: 0.5963 - val_loss: 0.3695 - val_dense_15_loss: 0.3378 - val_dense_16_loss: 0.6542\n",
      "Epoch 3/20\n",
      "363/363 [==============================] - 0s 1ms/step - loss: 0.3443 - dense_15_loss: 0.3164 - dense_16_loss: 0.5958 - val_loss: 0.3768 - val_dense_15_loss: 0.3438 - val_dense_16_loss: 0.6738\n",
      "Epoch 4/20\n",
      "363/363 [==============================] - 0s 1ms/step - loss: 0.3437 - dense_15_loss: 0.3160 - dense_16_loss: 0.5934 - val_loss: 0.3674 - val_dense_15_loss: 0.3350 - val_dense_16_loss: 0.6591\n",
      "Epoch 5/20\n",
      "363/363 [==============================] - 1s 1ms/step - loss: 0.3413 - dense_15_loss: 0.3136 - dense_16_loss: 0.5910 - val_loss: 0.3780 - val_dense_15_loss: 0.3481 - val_dense_16_loss: 0.6467\n",
      "Epoch 6/20\n",
      "363/363 [==============================] - 0s 1ms/step - loss: 0.3419 - dense_15_loss: 0.3142 - dense_16_loss: 0.5913 - val_loss: 0.3645 - val_dense_15_loss: 0.3322 - val_dense_16_loss: 0.6552\n",
      "Epoch 7/20\n",
      "363/363 [==============================] - 1s 1ms/step - loss: 0.3408 - dense_15_loss: 0.3132 - dense_16_loss: 0.5893 - val_loss: 0.3708 - val_dense_15_loss: 0.3401 - val_dense_16_loss: 0.6472\n",
      "Epoch 8/20\n",
      "363/363 [==============================] - 0s 1ms/step - loss: 0.3403 - dense_15_loss: 0.3126 - dense_16_loss: 0.5897 - val_loss: 0.3817 - val_dense_15_loss: 0.3509 - val_dense_16_loss: 0.6589\n",
      "Epoch 9/20\n",
      "363/363 [==============================] - 0s 1ms/step - loss: 0.3395 - dense_15_loss: 0.3120 - dense_16_loss: 0.5870 - val_loss: 0.3629 - val_dense_15_loss: 0.3314 - val_dense_16_loss: 0.6468\n",
      "Epoch 10/20\n",
      "363/363 [==============================] - 1s 1ms/step - loss: 0.3390 - dense_15_loss: 0.3116 - dense_16_loss: 0.5854 - val_loss: 0.3648 - val_dense_15_loss: 0.3336 - val_dense_16_loss: 0.6453\n",
      "Epoch 11/20\n",
      "363/363 [==============================] - 0s 1ms/step - loss: 0.3385 - dense_15_loss: 0.3112 - dense_16_loss: 0.5846 - val_loss: 0.3637 - val_dense_15_loss: 0.3315 - val_dense_16_loss: 0.6532\n",
      "Epoch 12/20\n",
      "363/363 [==============================] - 0s 1ms/step - loss: 0.3380 - dense_15_loss: 0.3108 - dense_16_loss: 0.5833 - val_loss: 0.3590 - val_dense_15_loss: 0.3283 - val_dense_16_loss: 0.6348\n",
      "Epoch 13/20\n",
      "363/363 [==============================] - 0s 1ms/step - loss: 0.3357 - dense_15_loss: 0.3083 - dense_16_loss: 0.5820 - val_loss: 0.3612 - val_dense_15_loss: 0.3300 - val_dense_16_loss: 0.6417\n",
      "Epoch 14/20\n",
      "363/363 [==============================] - 0s 1ms/step - loss: 0.3355 - dense_15_loss: 0.3083 - dense_16_loss: 0.5805 - val_loss: 0.3682 - val_dense_15_loss: 0.3353 - val_dense_16_loss: 0.6637\n",
      "Epoch 15/20\n",
      "363/363 [==============================] - 0s 1ms/step - loss: 0.3359 - dense_15_loss: 0.3089 - dense_16_loss: 0.5797 - val_loss: 0.3602 - val_dense_15_loss: 0.3282 - val_dense_16_loss: 0.6488\n",
      "Epoch 16/20\n",
      "363/363 [==============================] - 0s 1ms/step - loss: 0.3348 - dense_15_loss: 0.3078 - dense_16_loss: 0.5783 - val_loss: 0.3606 - val_dense_15_loss: 0.3289 - val_dense_16_loss: 0.6456\n",
      "Epoch 17/20\n",
      "363/363 [==============================] - 1s 2ms/step - loss: 0.3363 - dense_15_loss: 0.3096 - dense_16_loss: 0.5768 - val_loss: 0.3790 - val_dense_15_loss: 0.3509 - val_dense_16_loss: 0.6317\n",
      "Epoch 18/20\n",
      "363/363 [==============================] - 1s 2ms/step - loss: 0.3331 - dense_15_loss: 0.3059 - dense_16_loss: 0.5784 - val_loss: 0.3624 - val_dense_15_loss: 0.3282 - val_dense_16_loss: 0.6701\n",
      "Epoch 19/20\n",
      "363/363 [==============================] - 1s 1ms/step - loss: 0.3328 - dense_15_loss: 0.3058 - dense_16_loss: 0.5758 - val_loss: 0.3694 - val_dense_15_loss: 0.3392 - val_dense_16_loss: 0.6405\n",
      "Epoch 20/20\n",
      "363/363 [==============================] - 0s 1ms/step - loss: 0.3319 - dense_15_loss: 0.3049 - dense_16_loss: 0.5744 - val_loss: 0.3644 - val_dense_15_loss: 0.3336 - val_dense_16_loss: 0.6420\n"
     ]
    }
   ],
   "source": [
    "#saving the one with best score on the validation set\n",
    "\n",
    "checkpoint_cb = keras.callbacks.ModelCheckpoint('multi_output_model_cb.h5', save_best_only=True)\n",
    "history = model_multi.fit([X_train_A,X_train_B],[y_train_reg,y_train_reg], epochs = 20, validation_data= ([X_valid_A, X_valid_B],[y_valid_reg, y_valid_reg]), callbacks=checkpoint_cb)"
   ]
  },
  {
   "source": [
    "Another way to implement saving the iteration with the best score on the validation score is to use early stopping\n",
    "\n",
    "Using the EarlyStopping callback\n",
    "It will interrupt training when it measures no progress on the validation set for a number of epochs and also roll back to the best model.\n"
   ],
   "cell_type": "markdown",
   "metadata": {}
  },
  {
   "cell_type": "code",
   "execution_count": 64,
   "metadata": {},
   "outputs": [
    {
     "output_type": "stream",
     "name": "stdout",
     "text": [
      "Epoch 1/20\n",
      "363/363 [==============================] - 1s 2ms/step - loss: 0.3332 - dense_15_loss: 0.3065 - dense_16_loss: 0.5741 - val_loss: 0.3868 - val_dense_15_loss: 0.3601 - val_dense_16_loss: 0.6272\n",
      "Epoch 2/20\n",
      "363/363 [==============================] - 1s 2ms/step - loss: 0.3333 - dense_15_loss: 0.3067 - dense_16_loss: 0.5728 - val_loss: 0.3546 - val_dense_15_loss: 0.3234 - val_dense_16_loss: 0.6354\n",
      "Epoch 3/20\n",
      "363/363 [==============================] - 1s 1ms/step - loss: 0.3332 - dense_15_loss: 0.3064 - dense_16_loss: 0.5747 - val_loss: 0.3732 - val_dense_15_loss: 0.3428 - val_dense_16_loss: 0.6473\n",
      "Epoch 4/20\n",
      "363/363 [==============================] - 1s 1ms/step - loss: 0.3338 - dense_15_loss: 0.3074 - dense_16_loss: 0.5719 - val_loss: 0.3673 - val_dense_15_loss: 0.3360 - val_dense_16_loss: 0.6490\n",
      "Epoch 5/20\n",
      "363/363 [==============================] - 1s 1ms/step - loss: 0.3304 - dense_15_loss: 0.3037 - dense_16_loss: 0.5707 - val_loss: 0.3534 - val_dense_15_loss: 0.3224 - val_dense_16_loss: 0.6330\n",
      "Epoch 6/20\n",
      "363/363 [==============================] - 0s 1ms/step - loss: 0.3304 - dense_15_loss: 0.3039 - dense_16_loss: 0.5694 - val_loss: 0.3582 - val_dense_15_loss: 0.3278 - val_dense_16_loss: 0.6320\n",
      "Epoch 7/20\n",
      "363/363 [==============================] - 0s 1ms/step - loss: 0.3292 - dense_15_loss: 0.3026 - dense_16_loss: 0.5687 - val_loss: 0.3728 - val_dense_15_loss: 0.3443 - val_dense_16_loss: 0.6300\n",
      "Epoch 8/20\n",
      "363/363 [==============================] - 0s 1ms/step - loss: 0.3320 - dense_15_loss: 0.3058 - dense_16_loss: 0.5681 - val_loss: 0.3564 - val_dense_15_loss: 0.3249 - val_dense_16_loss: 0.6398\n",
      "Epoch 9/20\n",
      "363/363 [==============================] - 1s 1ms/step - loss: 0.3283 - dense_15_loss: 0.3018 - dense_16_loss: 0.5672 - val_loss: 0.3608 - val_dense_15_loss: 0.3263 - val_dense_16_loss: 0.6715\n",
      "Epoch 10/20\n",
      "363/363 [==============================] - 1s 1ms/step - loss: 0.3283 - dense_15_loss: 0.3019 - dense_16_loss: 0.5658 - val_loss: 0.3542 - val_dense_15_loss: 0.3248 - val_dense_16_loss: 0.6189\n",
      "Epoch 11/20\n",
      "363/363 [==============================] - 1s 1ms/step - loss: 0.3282 - dense_15_loss: 0.3019 - dense_16_loss: 0.5648 - val_loss: 0.3721 - val_dense_15_loss: 0.3436 - val_dense_16_loss: 0.6285\n",
      "Epoch 12/20\n",
      "363/363 [==============================] - 0s 1ms/step - loss: 0.3274 - dense_15_loss: 0.3012 - dense_16_loss: 0.5634 - val_loss: 0.3558 - val_dense_15_loss: 0.3272 - val_dense_16_loss: 0.6130\n",
      "Epoch 13/20\n",
      "363/363 [==============================] - 1s 1ms/step - loss: 0.3294 - dense_15_loss: 0.3034 - dense_16_loss: 0.5634 - val_loss: 0.3525 - val_dense_15_loss: 0.3232 - val_dense_16_loss: 0.6165\n",
      "Epoch 14/20\n",
      "363/363 [==============================] - 1s 1ms/step - loss: 0.3264 - dense_15_loss: 0.3003 - dense_16_loss: 0.5616 - val_loss: 0.3554 - val_dense_15_loss: 0.3240 - val_dense_16_loss: 0.6380\n",
      "Epoch 15/20\n",
      "363/363 [==============================] - 1s 1ms/step - loss: 0.3270 - dense_15_loss: 0.3009 - dense_16_loss: 0.5615 - val_loss: 0.3498 - val_dense_15_loss: 0.3193 - val_dense_16_loss: 0.6244\n",
      "Epoch 16/20\n",
      "363/363 [==============================] - 1s 1ms/step - loss: 0.3258 - dense_15_loss: 0.2998 - dense_16_loss: 0.5597 - val_loss: 0.3507 - val_dense_15_loss: 0.3199 - val_dense_16_loss: 0.6278\n",
      "Epoch 17/20\n",
      "363/363 [==============================] - 1s 2ms/step - loss: 0.3268 - dense_15_loss: 0.3009 - dense_16_loss: 0.5599 - val_loss: 0.3503 - val_dense_15_loss: 0.3207 - val_dense_16_loss: 0.6166\n",
      "Epoch 18/20\n",
      "363/363 [==============================] - 1s 2ms/step - loss: 0.3253 - dense_15_loss: 0.2993 - dense_16_loss: 0.5593 - val_loss: 0.3512 - val_dense_15_loss: 0.3219 - val_dense_16_loss: 0.6148\n",
      "Epoch 19/20\n",
      "363/363 [==============================] - 1s 1ms/step - loss: 0.3253 - dense_15_loss: 0.2993 - dense_16_loss: 0.5589 - val_loss: 0.3583 - val_dense_15_loss: 0.3304 - val_dense_16_loss: 0.6092\n",
      "Epoch 20/20\n",
      "363/363 [==============================] - 0s 1ms/step - loss: 0.3239 - dense_15_loss: 0.2982 - dense_16_loss: 0.5553 - val_loss: 0.3540 - val_dense_15_loss: 0.3238 - val_dense_16_loss: 0.6263\n"
     ]
    }
   ],
   "source": [
    "early_stopping_cb = keras.callbacks.EarlyStopping(patience = 10, restore_best_weights=True)\n",
    "\n",
    "#while checkpoint_cb saves the model(at end of each epoch by default) and saves only the best validation score if save_best_only = True\n",
    "#early_stoppin checks if the validation score improves over 10 iterations after each previous \n",
    "history = model_multi.fit([X_train_A,X_train_B],[y_train_reg,y_train_reg], epochs = 20, validation_data= ([X_valid_A, X_valid_B],[y_valid_reg, y_valid_reg]), callbacks=[checkpoint_cb,early_stopping_cb])"
   ]
  },
  {
   "cell_type": "code",
   "execution_count": 65,
   "metadata": {},
   "outputs": [],
   "source": [
    "#we can also write our own call backs\n",
    "class PrintValTrainRatio(keras.callbacks.Callback):\n",
    "    #on_epoch_end is a function belonging to Callback which has been inherited\n",
    "    def on_epoch_end(self,epoch,logs):\n",
    "        print(\"\\n Val/Train : {}\".format(logs[\"val_loss\"]/logs[\"loss\"]))"
   ]
  },
  {
   "cell_type": "code",
   "execution_count": 66,
   "metadata": {},
   "outputs": [
    {
     "output_type": "stream",
     "name": "stdout",
     "text": [
      "Epoch 1/20\n",
      "363/363 [==============================] - 1s 1ms/step - loss: 0.3264 - dense_15_loss: 0.3008 - dense_16_loss: 0.5572 - val_loss: 0.3468 - val_dense_15_loss: 0.3173 - val_dense_16_loss: 0.6117\n",
      "\n",
      " Val/Train : 1.062324600243543\n",
      "Epoch 2/20\n",
      "363/363 [==============================] - 0s 1ms/step - loss: 0.3242 - dense_15_loss: 0.2983 - dense_16_loss: 0.5565 - val_loss: 0.3517 - val_dense_15_loss: 0.3227 - val_dense_16_loss: 0.6125\n",
      "\n",
      " Val/Train : 1.0848875896415826\n",
      "Epoch 3/20\n",
      "363/363 [==============================] - 0s 1ms/step - loss: 0.3258 - dense_15_loss: 0.3004 - dense_16_loss: 0.5544 - val_loss: 0.3500 - val_dense_15_loss: 0.3220 - val_dense_16_loss: 0.6022\n",
      "\n",
      " Val/Train : 1.0742648595030677\n",
      "Epoch 4/20\n",
      "363/363 [==============================] - 0s 1ms/step - loss: 0.3251 - dense_15_loss: 0.2995 - dense_16_loss: 0.5554 - val_loss: 0.3474 - val_dense_15_loss: 0.3180 - val_dense_16_loss: 0.6121\n",
      "\n",
      " Val/Train : 1.0686655022815708\n",
      "Epoch 5/20\n",
      "363/363 [==============================] - 0s 1ms/step - loss: 0.3240 - dense_15_loss: 0.2986 - dense_16_loss: 0.5526 - val_loss: 0.3450 - val_dense_15_loss: 0.3158 - val_dense_16_loss: 0.6078\n",
      "\n",
      " Val/Train : 1.0649030386627514\n",
      "Epoch 6/20\n",
      "363/363 [==============================] - 0s 1ms/step - loss: 0.3226 - dense_15_loss: 0.2971 - dense_16_loss: 0.5520 - val_loss: 0.3461 - val_dense_15_loss: 0.3171 - val_dense_16_loss: 0.6074\n",
      "\n",
      " Val/Train : 1.0729693584204174\n",
      "Epoch 7/20\n",
      "363/363 [==============================] - 0s 1ms/step - loss: 0.3223 - dense_15_loss: 0.2968 - dense_16_loss: 0.5518 - val_loss: 0.3486 - val_dense_15_loss: 0.3201 - val_dense_16_loss: 0.6052\n",
      "\n",
      " Val/Train : 1.0816627612571041\n",
      "Epoch 8/20\n",
      "363/363 [==============================] - 0s 1ms/step - loss: 0.3212 - dense_15_loss: 0.2958 - dense_16_loss: 0.5500 - val_loss: 0.3447 - val_dense_15_loss: 0.3151 - val_dense_16_loss: 0.6103\n",
      "\n",
      " Val/Train : 1.073083524253061\n",
      "Epoch 9/20\n",
      "363/363 [==============================] - 0s 1ms/step - loss: 0.3231 - dense_15_loss: 0.2979 - dense_16_loss: 0.5499 - val_loss: 0.3490 - val_dense_15_loss: 0.3198 - val_dense_16_loss: 0.6115\n",
      "\n",
      " Val/Train : 1.080146666306295\n",
      "Epoch 10/20\n",
      "363/363 [==============================] - 0s 1ms/step - loss: 0.3203 - dense_15_loss: 0.2949 - dense_16_loss: 0.5488 - val_loss: 0.3667 - val_dense_15_loss: 0.3403 - val_dense_16_loss: 0.6045\n",
      "\n",
      " Val/Train : 1.144907496795595\n",
      "Epoch 11/20\n",
      "363/363 [==============================] - 0s 1ms/step - loss: 0.3214 - dense_15_loss: 0.2963 - dense_16_loss: 0.5478 - val_loss: 0.3468 - val_dense_15_loss: 0.3165 - val_dense_16_loss: 0.6189\n",
      "\n",
      " Val/Train : 1.0788459901578464\n",
      "Epoch 12/20\n",
      "363/363 [==============================] - 0s 1ms/step - loss: 0.3210 - dense_15_loss: 0.2958 - dense_16_loss: 0.5473 - val_loss: 0.3465 - val_dense_15_loss: 0.3166 - val_dense_16_loss: 0.6159\n",
      "\n",
      " Val/Train : 1.079606856885645\n",
      "Epoch 13/20\n",
      "363/363 [==============================] - 0s 1ms/step - loss: 0.3220 - dense_15_loss: 0.2972 - dense_16_loss: 0.5453 - val_loss: 0.3407 - val_dense_15_loss: 0.3127 - val_dense_16_loss: 0.5927\n",
      "\n",
      " Val/Train : 1.0580470434009377\n",
      "Epoch 14/20\n",
      "363/363 [==============================] - 0s 1ms/step - loss: 0.3201 - dense_15_loss: 0.2949 - dense_16_loss: 0.5472 - val_loss: 0.3558 - val_dense_15_loss: 0.3289 - val_dense_16_loss: 0.5979\n",
      "\n",
      " Val/Train : 1.1113914510519667\n",
      "Epoch 15/20\n",
      "363/363 [==============================] - 0s 1ms/step - loss: 0.3219 - dense_15_loss: 0.2971 - dense_16_loss: 0.5452 - val_loss: 0.3427 - val_dense_15_loss: 0.3141 - val_dense_16_loss: 0.6004\n",
      "\n",
      " Val/Train : 1.064701809298342\n",
      "Epoch 16/20\n",
      "363/363 [==============================] - 0s 1ms/step - loss: 0.3193 - dense_15_loss: 0.2944 - dense_16_loss: 0.5438 - val_loss: 0.3475 - val_dense_15_loss: 0.3191 - val_dense_16_loss: 0.6027\n",
      "\n",
      " Val/Train : 1.0881601259910365\n",
      "Epoch 17/20\n",
      "363/363 [==============================] - 0s 1ms/step - loss: 0.3185 - dense_15_loss: 0.2936 - dense_16_loss: 0.5425 - val_loss: 0.3412 - val_dense_15_loss: 0.3132 - val_dense_16_loss: 0.5940\n",
      "\n",
      " Val/Train : 1.0714206244382718\n",
      "Epoch 18/20\n",
      "363/363 [==============================] - 0s 1ms/step - loss: 0.3182 - dense_15_loss: 0.2934 - dense_16_loss: 0.5410 - val_loss: 0.3575 - val_dense_15_loss: 0.3306 - val_dense_16_loss: 0.5997\n",
      "\n",
      " Val/Train : 1.1236132935006973\n",
      "Epoch 19/20\n",
      "363/363 [==============================] - 0s 1ms/step - loss: 0.3196 - dense_15_loss: 0.2948 - dense_16_loss: 0.5419 - val_loss: 0.3445 - val_dense_15_loss: 0.3156 - val_dense_16_loss: 0.6045\n",
      "\n",
      " Val/Train : 1.0779513405898509\n",
      "Epoch 20/20\n",
      "363/363 [==============================] - 0s 1ms/step - loss: 0.3185 - dense_15_loss: 0.2939 - dense_16_loss: 0.5403 - val_loss: 0.3449 - val_dense_15_loss: 0.3181 - val_dense_16_loss: 0.5866\n",
      "\n",
      " Val/Train : 1.0828396808463459\n"
     ]
    }
   ],
   "source": [
    "printvaltrain = PrintValTrainRatio()\n",
    "history = model_multi.fit([X_train_A,X_train_B],[y_train_reg,y_train_reg], epochs = 20, validation_data= ([X_valid_A, X_valid_B],[y_valid_reg, y_valid_reg]), callbacks=[checkpoint_cb,early_stopping_cb,printvaltrain])"
   ]
  },
  {
   "source": [
    "<h3> Tensorboard </h3> \n",
    "\n",
    "To use Tensorboard, we must modify the program such that it outputs the data we want to visualize to special binary log files called **event files**. Each binary record is called a summary. \n",
    "\n",
    "The Tensorboard server will monitor the log directory, and it will automatically pick up the changes and update the visualizations. \n",
    "\n",
    "Usually we want the TensorBoard server to point to a root log directory and configure the program to write to a different sub directory everytime it runs. "
   ],
   "cell_type": "markdown",
   "metadata": {}
  },
  {
   "cell_type": "code",
   "execution_count": 67,
   "metadata": {},
   "outputs": [],
   "source": [
    "root_logdir = os.path.join(os.curdir,\"my_logs\")\n",
    "\n",
    "def get_run_logdir():\n",
    "    import time\n",
    "    #time.strftime is used when we are getting the data from a function like time.localtime()\n",
    "    #time.strptime is used to convert an existing string of time to a format we want\n",
    "    run_id = time.strftime(\"run_%Y_%m_%d-%H_%M_%S\", time.localtime())\n",
    "    return os.path.join(root_logdir,run_id)"
   ]
  },
  {
   "cell_type": "code",
   "execution_count": 68,
   "metadata": {},
   "outputs": [],
   "source": [
    "import time"
   ]
  },
  {
   "cell_type": "code",
   "execution_count": 69,
   "metadata": {},
   "outputs": [
    {
     "output_type": "execute_result",
     "data": {
      "text/plain": [
       "time.struct_time(tm_year=2021, tm_mon=4, tm_mday=10, tm_hour=11, tm_min=34, tm_sec=24, tm_wday=5, tm_yday=100, tm_isdst=0)"
      ]
     },
     "metadata": {},
     "execution_count": 69
    }
   ],
   "source": [
    "time.localtime()"
   ]
  },
  {
   "cell_type": "code",
   "execution_count": 70,
   "metadata": {},
   "outputs": [],
   "source": [
    " run_id = time.strftime(\"run_%Y_%m_%d-%H_%M_%S\", time.localtime())"
   ]
  },
  {
   "cell_type": "code",
   "execution_count": 71,
   "metadata": {},
   "outputs": [
    {
     "output_type": "execute_result",
     "data": {
      "text/plain": [
       "'run_2021_04_10-11_34_24'"
      ]
     },
     "metadata": {},
     "execution_count": 71
    }
   ],
   "source": [
    "run_id"
   ]
  },
  {
   "cell_type": "code",
   "execution_count": 72,
   "metadata": {},
   "outputs": [
    {
     "output_type": "stream",
     "name": "stdout",
     "text": [
      "Epoch 1/20\n",
      "363/363 [==============================] - 1s 3ms/step - loss: 0.3171 - dense_15_loss: 0.2925 - dense_16_loss: 0.5387 - val_loss: 0.3513 - val_dense_15_loss: 0.3244 - val_dense_16_loss: 0.5935\n",
      "Epoch 2/20\n",
      "363/363 [==============================] - 0s 1ms/step - loss: 0.3172 - dense_15_loss: 0.2926 - dense_16_loss: 0.5382 - val_loss: 0.3435 - val_dense_15_loss: 0.3155 - val_dense_16_loss: 0.5962\n",
      "Epoch 3/20\n",
      "363/363 [==============================] - 1s 2ms/step - loss: 0.3161 - dense_15_loss: 0.2917 - dense_16_loss: 0.5361 - val_loss: 0.3510 - val_dense_15_loss: 0.3246 - val_dense_16_loss: 0.5888\n",
      "Epoch 4/20\n",
      "363/363 [==============================] - 0s 1ms/step - loss: 0.3167 - dense_15_loss: 0.2923 - dense_16_loss: 0.5355 - val_loss: 0.3483 - val_dense_15_loss: 0.3199 - val_dense_16_loss: 0.6038\n",
      "Epoch 5/20\n",
      "363/363 [==============================] - 0s 1ms/step - loss: 0.3160 - dense_15_loss: 0.2917 - dense_16_loss: 0.5355 - val_loss: 0.3458 - val_dense_15_loss: 0.3183 - val_dense_16_loss: 0.5930\n",
      "Epoch 6/20\n",
      "363/363 [==============================] - 0s 1ms/step - loss: 0.3154 - dense_15_loss: 0.2912 - dense_16_loss: 0.5332 - val_loss: 0.3398 - val_dense_15_loss: 0.3125 - val_dense_16_loss: 0.5847\n",
      "Epoch 7/20\n",
      "363/363 [==============================] - 0s 1ms/step - loss: 0.3143 - dense_15_loss: 0.2900 - dense_16_loss: 0.5337 - val_loss: 0.3525 - val_dense_15_loss: 0.3270 - val_dense_16_loss: 0.5825\n",
      "Epoch 8/20\n",
      "363/363 [==============================] - 1s 2ms/step - loss: 0.3155 - dense_15_loss: 0.2915 - dense_16_loss: 0.5319 - val_loss: 0.3380 - val_dense_15_loss: 0.3106 - val_dense_16_loss: 0.5847\n",
      "Epoch 9/20\n",
      "363/363 [==============================] - 0s 1ms/step - loss: 0.3140 - dense_15_loss: 0.2899 - dense_16_loss: 0.5310 - val_loss: 0.3457 - val_dense_15_loss: 0.3197 - val_dense_16_loss: 0.5794\n",
      "Epoch 10/20\n",
      "363/363 [==============================] - 0s 1ms/step - loss: 0.3132 - dense_15_loss: 0.2891 - dense_16_loss: 0.5301 - val_loss: 0.3474 - val_dense_15_loss: 0.3200 - val_dense_16_loss: 0.5941\n",
      "Epoch 11/20\n",
      "363/363 [==============================] - 1s 2ms/step - loss: 0.3129 - dense_15_loss: 0.2888 - dense_16_loss: 0.5293 - val_loss: 0.3519 - val_dense_15_loss: 0.3266 - val_dense_16_loss: 0.5801\n",
      "Epoch 12/20\n",
      "363/363 [==============================] - 1s 2ms/step - loss: 0.3151 - dense_15_loss: 0.2915 - dense_16_loss: 0.5278 - val_loss: 0.3389 - val_dense_15_loss: 0.3124 - val_dense_16_loss: 0.5771\n",
      "Epoch 13/20\n",
      "363/363 [==============================] - 1s 1ms/step - loss: 0.3142 - dense_15_loss: 0.2905 - dense_16_loss: 0.5276 - val_loss: 0.3463 - val_dense_15_loss: 0.3194 - val_dense_16_loss: 0.5881\n",
      "Epoch 14/20\n",
      "363/363 [==============================] - 1s 1ms/step - loss: 0.3202 - dense_15_loss: 0.2971 - dense_16_loss: 0.5284 - val_loss: 0.3336 - val_dense_15_loss: 0.3070 - val_dense_16_loss: 0.5733\n",
      "Epoch 15/20\n",
      "363/363 [==============================] - 1s 1ms/step - loss: 0.3126 - dense_15_loss: 0.2890 - dense_16_loss: 0.5258 - val_loss: 0.3396 - val_dense_15_loss: 0.3133 - val_dense_16_loss: 0.5761\n",
      "Epoch 16/20\n",
      "363/363 [==============================] - 1s 1ms/step - loss: 0.3126 - dense_15_loss: 0.2891 - dense_16_loss: 0.5248 - val_loss: 0.3406 - val_dense_15_loss: 0.3141 - val_dense_16_loss: 0.5785\n",
      "Epoch 17/20\n",
      "363/363 [==============================] - 1s 2ms/step - loss: 0.3117 - dense_15_loss: 0.2880 - dense_16_loss: 0.5251 - val_loss: 0.3425 - val_dense_15_loss: 0.3171 - val_dense_16_loss: 0.5709\n",
      "Epoch 18/20\n",
      "363/363 [==============================] - 1s 1ms/step - loss: 0.3130 - dense_15_loss: 0.2897 - dense_16_loss: 0.5230 - val_loss: 0.3492 - val_dense_15_loss: 0.3246 - val_dense_16_loss: 0.5712\n",
      "Epoch 19/20\n",
      "363/363 [==============================] - 0s 1ms/step - loss: 0.3120 - dense_15_loss: 0.2887 - dense_16_loss: 0.5215 - val_loss: 0.3392 - val_dense_15_loss: 0.3132 - val_dense_16_loss: 0.5723\n",
      "Epoch 20/20\n",
      "363/363 [==============================] - 0s 1ms/step - loss: 0.3109 - dense_15_loss: 0.2876 - dense_16_loss: 0.5210 - val_loss: 0.3382 - val_dense_15_loss: 0.3125 - val_dense_16_loss: 0.5692\n"
     ]
    }
   ],
   "source": [
    "run_logdir = get_run_logdir()\n",
    "#this allows to create many subdirectories at the end of each epoch under the main directory \"my_logs\"\n",
    "tensorboard_cb = keras.callbacks.TensorBoard(run_logdir)\n",
    "history = model_multi.fit([X_train_A,X_train_B],[y_train_reg,y_train_reg], epochs = 20, validation_data= ([X_valid_A, X_valid_B],[y_valid_reg, y_valid_reg]), callbacks=[tensorboard_cb])"
   ]
  },
  {
   "source": [
    "<h2> Hyperparameter Tuning of Neural Networks</h2> "
   ],
   "cell_type": "markdown",
   "metadata": {}
  },
  {
   "source": [
    "One option is to use GridSearchCV or RandomizedSearchCV"
   ],
   "cell_type": "markdown",
   "metadata": {}
  },
  {
   "cell_type": "code",
   "execution_count": 73,
   "metadata": {},
   "outputs": [],
   "source": [
    "#wrap our Keras models in objects that mimic regular Scikit-Learn regressors. Create a function that will build and compile a Keras model, given a set of hyperparameters\n",
    "def build_model(n_hidden = 1, n_neurons = 30, learning_rate = 3e-3, input_shape = [8]):\n",
    "    model = keras.models.Sequential()\n",
    "    options = {\"input_shape\":input_shape}\n",
    "    for layer in range(n_hidden):\n",
    "        model.add(keras.layers.Dense(n_neurons, activation = \"relu\",**options))\n",
    "        options = {}\n",
    "    model.add(keras.layers.Dense(1 , **options))\n",
    "    #we add the optimizer like this so that we can specify the learning rate\n",
    "    optimizer = keras.optimizers.SGD(learning_rate)\n",
    "    model.compile(loss=\"mse\",optimizer = optimizer)\n",
    "    return model"
   ]
  },
  {
   "cell_type": "code",
   "execution_count": 74,
   "metadata": {},
   "outputs": [],
   "source": [
    "#using Functional API method with ability to specify varying neuron numbers\n",
    "def build_model_2(n_hidden = 1, n_neurons = 30, learning_rate = 3e-3, input_shape = [8]):\n",
    "    input_layer = keras.layers.Input(shape = input_shape)\n",
    "    hidden_layers = list()\n",
    "    type_of_n_neuron_entry = type(n_neurons)\n",
    "    prev_layer = input_layer\n",
    "    if type_of_n_neuron_entry == int:\n",
    "        for layer in range(n_hidden):\n",
    "            hidden_layers.append(keras.layers.Dense(n_neurons, activation = \"relu\")(prev_layer))\n",
    "            prev_layer = hidden_layers[-1]\n",
    "    elif type_of_n_neuron_entry == list:\n",
    "        for i in range(n_hidden):\n",
    "            hidden_layers.append(keras.layers.Dense(n_neurons[i],activation = \"relu\")(prev_layer))\n",
    "            prev_layer = hidden_layers[-1]\n",
    "    else:\n",
    "        raise TypeError('n_neuron should be int or list type')\n",
    "    output = keras.layers.Dense(1)(hidden_layers[-1])\n",
    "    model = keras.models.Model(inputs = input_layer, outputs = [output])\n",
    "    #we add the optimizer like this so that we can specify the learning rate\n",
    "    optimizer = keras.optimizers.SGD(learning_rate)\n",
    "    model.compile(loss=\"mse\",optimizer = optimizer)\n",
    "    return model"
   ]
  },
  {
   "cell_type": "code",
   "execution_count": 75,
   "metadata": {},
   "outputs": [],
   "source": [
    "#create a KerasRegressor based on the build_model function\n",
    "\n",
    "keras_reg = keras.wrappers.scikit_learn.KerasRegressor(build_model)"
   ]
  },
  {
   "source": [
    "KerasRegressor object is a thin wrapper around the Keras model built using build_model(). Since we did not specify any hyperparameter when creating it, it will just use the default hyperparameters we defined in build_model(). \n",
    "\n",
    "As we have specified build_model with certain parameters, now we can use **keras_reg** like a regular sklearn regressor.\n",
    "\n",
    "Any parameter we pass to the fit() method of keras_reg, will be passed to the underlying Keras model. "
   ],
   "cell_type": "markdown",
   "metadata": {}
  },
  {
   "cell_type": "code",
   "execution_count": 76,
   "metadata": {},
   "outputs": [],
   "source": [
    "from scipy.stats import reciprocal\n",
    "from sklearn.model_selection import RandomizedSearchCV\n",
    "import numpy as np\n",
    "param_distribs = {\n",
    "    \"n_hidden\":[0,1,2,3],\n",
    "    \"n_neurons\":np.arange(1,100),\n",
    "    \"learning_rate\":reciprocal(3e-4,3e-2)\n",
    "}"
   ]
  },
  {
   "cell_type": "code",
   "execution_count": 77,
   "metadata": {
    "tags": [
     "outputPrepend"
    ]
   },
   "outputs": [
    {
     "output_type": "stream",
     "name": "stdout",
     "text": [
      "========================] - 0s 1ms/step - loss: 0.3431 - val_loss: 0.3894\n",
      "Epoch 10/10\n",
      "242/242 [==============================] - 0s 1ms/step - loss: 0.3490 - val_loss: 0.3813\n",
      "121/121 [==============================] - 0s 576us/step - loss: 0.3868\n",
      "Epoch 1/10\n",
      "242/242 [==============================] - 1s 1ms/step - loss: 3.4492 - val_loss: 1.3279\n",
      "Epoch 2/10\n",
      "242/242 [==============================] - 0s 997us/step - loss: 1.1171 - val_loss: 2.8102\n",
      "Epoch 3/10\n",
      "242/242 [==============================] - 0s 983us/step - loss: 1.1355 - val_loss: 8.1979\n",
      "Epoch 4/10\n",
      "242/242 [==============================] - 0s 1ms/step - loss: 10.9039 - val_loss: 26.7846\n",
      "Epoch 5/10\n",
      "242/242 [==============================] - 0s 1ms/step - loss: 12.5224 - val_loss: 89.8200\n",
      "Epoch 6/10\n",
      "242/242 [==============================] - 0s 999us/step - loss: 25.8562 - val_loss: 304.0906\n",
      "Epoch 7/10\n",
      "242/242 [==============================] - 0s 1ms/step - loss: 124.2003 - val_loss: 1021.7225\n",
      "Epoch 8/10\n",
      "242/242 [==============================] - 0s 2ms/step - loss: 1452.3542 - val_loss: 3455.5234\n",
      "Epoch 9/10\n",
      "242/242 [==============================] - 0s 2ms/step - loss: 9615.4518 - val_loss: 11674.8750\n",
      "Epoch 10/10\n",
      "242/242 [==============================] - 0s 2ms/step - loss: 2161.4202 - val_loss: 40045.8867\n",
      "121/121 [==============================] - 0s 664us/step - loss: 375.8216\n",
      "Epoch 1/10\n",
      "242/242 [==============================] - 1s 2ms/step - loss: 4.2421 - val_loss: 0.7749\n",
      "Epoch 2/10\n",
      "242/242 [==============================] - 0s 1ms/step - loss: 0.6974 - val_loss: 0.7015\n",
      "Epoch 3/10\n",
      "242/242 [==============================] - 0s 1ms/step - loss: 0.6604 - val_loss: 1.0469\n",
      "Epoch 4/10\n",
      "242/242 [==============================] - 0s 1ms/step - loss: 0.8530 - val_loss: 2.2520\n",
      "Epoch 5/10\n",
      "242/242 [==============================] - 0s 1ms/step - loss: 9.7299 - val_loss: 6.8250\n",
      "Epoch 6/10\n",
      "242/242 [==============================] - 0s 2ms/step - loss: 12.3804 - val_loss: 21.7468\n",
      "Epoch 7/10\n",
      "242/242 [==============================] - 0s 2ms/step - loss: 25.5140 - val_loss: 74.8309\n",
      "Epoch 8/10\n",
      "242/242 [==============================] - 0s 2ms/step - loss: 4.3885 - val_loss: 262.3543\n",
      "Epoch 9/10\n",
      "242/242 [==============================] - 0s 1ms/step - loss: 354.0389 - val_loss: 898.5156\n",
      "Epoch 10/10\n",
      "242/242 [==============================] - 0s 1ms/step - loss: 2880.4385 - val_loss: 3098.0610\n",
      "121/121 [==============================] - 0s 577us/step - loss: 46.9909\n",
      "Epoch 1/10\n",
      "242/242 [==============================] - 1s 2ms/step - loss: 3.8798 - val_loss: 0.8509\n",
      "Epoch 2/10\n",
      "242/242 [==============================] - 0s 1ms/step - loss: 0.7813 - val_loss: 0.6786\n",
      "Epoch 3/10\n",
      "242/242 [==============================] - 0s 2ms/step - loss: 0.6673 - val_loss: 0.6418\n",
      "Epoch 4/10\n",
      "242/242 [==============================] - 0s 1ms/step - loss: 0.6096 - val_loss: 0.6212\n",
      "Epoch 5/10\n",
      "242/242 [==============================] - 0s 1ms/step - loss: 0.5755 - val_loss: 0.6161\n",
      "Epoch 6/10\n",
      "242/242 [==============================] - 0s 2ms/step - loss: 0.5755 - val_loss: 0.6201\n",
      "Epoch 7/10\n",
      "242/242 [==============================] - 0s 1ms/step - loss: 0.5479 - val_loss: 0.6319\n",
      "Epoch 8/10\n",
      "242/242 [==============================] - 0s 1ms/step - loss: 0.5377 - val_loss: 0.6422\n",
      "Epoch 9/10\n",
      "242/242 [==============================] - 0s 2ms/step - loss: 0.5454 - val_loss: 0.6835\n",
      "Epoch 10/10\n",
      "242/242 [==============================] - 0s 1ms/step - loss: 0.5213 - val_loss: 0.6832\n",
      "121/121 [==============================] - 0s 777us/step - loss: 0.8347\n",
      "Epoch 1/10\n",
      "242/242 [==============================] - 1s 2ms/step - loss: 2.7924 - val_loss: 0.9642\n",
      "Epoch 2/10\n",
      "242/242 [==============================] - 0s 2ms/step - loss: 0.9079 - val_loss: 0.9173\n",
      "Epoch 3/10\n",
      "242/242 [==============================] - 0s 2ms/step - loss: 0.8637 - val_loss: 0.9660\n",
      "Epoch 4/10\n",
      "242/242 [==============================] - 0s 2ms/step - loss: 1.0240 - val_loss: 0.7752\n",
      "Epoch 5/10\n",
      "242/242 [==============================] - 0s 1ms/step - loss: 0.7772 - val_loss: 0.7306\n",
      "Epoch 6/10\n",
      "242/242 [==============================] - 0s 1ms/step - loss: 0.7402 - val_loss: 0.7016\n",
      "Epoch 7/10\n",
      "242/242 [==============================] - 0s 1ms/step - loss: 0.6734 - val_loss: 0.6791\n",
      "Epoch 8/10\n",
      "242/242 [==============================] - 0s 2ms/step - loss: 0.6873 - val_loss: 0.6580\n",
      "Epoch 9/10\n",
      "242/242 [==============================] - 0s 1ms/step - loss: 0.6354 - val_loss: 0.6396\n",
      "Epoch 10/10\n",
      "242/242 [==============================] - 0s 2ms/step - loss: 0.6220 - val_loss: 0.6256\n",
      "121/121 [==============================] - 0s 667us/step - loss: 0.6109\n",
      "Epoch 1/10\n",
      "242/242 [==============================] - 1s 2ms/step - loss: 2.5978 - val_loss: 0.8077\n",
      "Epoch 2/10\n",
      "242/242 [==============================] - 0s 1ms/step - loss: 0.7255 - val_loss: 0.6460\n",
      "Epoch 3/10\n",
      "242/242 [==============================] - 0s 1ms/step - loss: 0.6265 - val_loss: 0.5988\n",
      "Epoch 4/10\n",
      "242/242 [==============================] - 0s 1ms/step - loss: 0.5777 - val_loss: 0.5706\n",
      "Epoch 5/10\n",
      "242/242 [==============================] - 0s 1ms/step - loss: 0.5797 - val_loss: 0.5569\n",
      "Epoch 6/10\n",
      "242/242 [==============================] - 0s 1ms/step - loss: 0.5564 - val_loss: 0.5362\n",
      "Epoch 7/10\n",
      "242/242 [==============================] - 0s 1ms/step - loss: 0.5537 - val_loss: 0.5218\n",
      "Epoch 8/10\n",
      "242/242 [==============================] - 0s 1ms/step - loss: 0.5136 - val_loss: 0.5097\n",
      "Epoch 9/10\n",
      "242/242 [==============================] - 0s 1ms/step - loss: 0.5143 - val_loss: 0.4977\n",
      "Epoch 10/10\n",
      "242/242 [==============================] - 0s 1ms/step - loss: 0.4869 - val_loss: 0.4874\n",
      "121/121 [==============================] - 0s 599us/step - loss: 0.4808\n",
      "Epoch 1/10\n",
      "242/242 [==============================] - 1s 2ms/step - loss: 3.0189 - val_loss: 1.3857\n",
      "Epoch 2/10\n",
      "242/242 [==============================] - 0s 1ms/step - loss: 1.0921 - val_loss: 1.1281\n",
      "Epoch 3/10\n",
      "242/242 [==============================] - 0s 1ms/step - loss: 0.8640 - val_loss: 0.9935\n",
      "Epoch 4/10\n",
      "242/242 [==============================] - 0s 1ms/step - loss: 0.7719 - val_loss: 0.8665\n",
      "Epoch 5/10\n",
      "242/242 [==============================] - 0s 1ms/step - loss: 0.7007 - val_loss: 0.8144\n",
      "Epoch 6/10\n",
      "242/242 [==============================] - 0s 1ms/step - loss: 0.6683 - val_loss: 0.7651\n",
      "Epoch 7/10\n",
      "242/242 [==============================] - 0s 1ms/step - loss: 0.6108 - val_loss: 0.7287\n",
      "Epoch 8/10\n",
      "242/242 [==============================] - 0s 1ms/step - loss: 0.5738 - val_loss: 0.7102\n",
      "Epoch 9/10\n",
      "242/242 [==============================] - 0s 1ms/step - loss: 0.5813 - val_loss: 0.6758\n",
      "Epoch 10/10\n",
      "242/242 [==============================] - 0s 1ms/step - loss: 0.5686 - val_loss: 0.6581\n",
      "121/121 [==============================] - 0s 582us/step - loss: 0.8639\n",
      "Epoch 1/10\n",
      "242/242 [==============================] - 1s 2ms/step - loss: 2.8428 - val_loss: 0.8465\n",
      "Epoch 2/10\n",
      "242/242 [==============================] - 0s 1ms/step - loss: 0.7116 - val_loss: 0.6557\n",
      "Epoch 3/10\n",
      "242/242 [==============================] - 0s 1ms/step - loss: 0.6249 - val_loss: 0.5735\n",
      "Epoch 4/10\n",
      "242/242 [==============================] - 0s 1ms/step - loss: 0.5517 - val_loss: 0.5201\n",
      "Epoch 5/10\n",
      "242/242 [==============================] - 0s 1ms/step - loss: 0.5145 - val_loss: 0.4894\n",
      "Epoch 6/10\n",
      "242/242 [==============================] - 0s 1ms/step - loss: 0.4638 - val_loss: 0.4629\n",
      "Epoch 7/10\n",
      "242/242 [==============================] - 0s 1ms/step - loss: 0.4403 - val_loss: 0.4439\n",
      "Epoch 8/10\n",
      "242/242 [==============================] - 0s 1ms/step - loss: 0.4288 - val_loss: 0.4304\n",
      "Epoch 9/10\n",
      "242/242 [==============================] - 0s 1ms/step - loss: 0.4225 - val_loss: 0.4193\n",
      "Epoch 10/10\n",
      "242/242 [==============================] - 0s 1ms/step - loss: 0.4036 - val_loss: 0.4108\n",
      "121/121 [==============================] - 0s 632us/step - loss: 0.4103\n",
      "Epoch 1/10\n",
      "242/242 [==============================] - 1s 2ms/step - loss: 2.4004 - val_loss: 1.3332\n",
      "Epoch 2/10\n",
      "242/242 [==============================] - 0s 1ms/step - loss: 0.9900 - val_loss: 0.6546\n",
      "Epoch 3/10\n",
      "242/242 [==============================] - 0s 1ms/step - loss: 0.6322 - val_loss: 0.5954\n",
      "Epoch 4/10\n",
      "242/242 [==============================] - 0s 1ms/step - loss: 0.5473 - val_loss: 0.5587\n",
      "Epoch 5/10\n",
      "242/242 [==============================] - 0s 1ms/step - loss: 0.5256 - val_loss: 0.5278\n",
      "Epoch 6/10\n",
      "242/242 [==============================] - 0s 1ms/step - loss: 0.4986 - val_loss: 0.5052\n",
      "Epoch 7/10\n",
      "242/242 [==============================] - 0s 1ms/step - loss: 0.4939 - val_loss: 0.4873\n",
      "Epoch 8/10\n",
      "242/242 [==============================] - 0s 1ms/step - loss: 0.4823 - val_loss: 0.4758\n",
      "Epoch 9/10\n",
      "242/242 [==============================] - 0s 1ms/step - loss: 0.4659 - val_loss: 0.4634\n",
      "Epoch 10/10\n",
      "242/242 [==============================] - 0s 1ms/step - loss: 0.4477 - val_loss: 0.4580\n",
      "121/121 [==============================] - 0s 589us/step - loss: 0.4475\n",
      "Epoch 1/10\n",
      "242/242 [==============================] - 1s 2ms/step - loss: 2.3687 - val_loss: 0.7797\n",
      "Epoch 2/10\n",
      "242/242 [==============================] - 0s 1ms/step - loss: 0.6851 - val_loss: 0.6616\n",
      "Epoch 3/10\n",
      "242/242 [==============================] - 0s 1ms/step - loss: 0.6246 - val_loss: 0.5936\n",
      "Epoch 4/10\n",
      "242/242 [==============================] - 0s 1ms/step - loss: 0.5529 - val_loss: 0.5491\n",
      "Epoch 5/10\n",
      "242/242 [==============================] - 0s 1ms/step - loss: 0.5378 - val_loss: 0.5159\n",
      "Epoch 6/10\n",
      "242/242 [==============================] - 0s 1ms/step - loss: 0.5008 - val_loss: 0.4965\n",
      "Epoch 7/10\n",
      "242/242 [==============================] - 0s 1ms/step - loss: 0.4503 - val_loss: 0.4917\n",
      "Epoch 8/10\n",
      "242/242 [==============================] - 0s 1ms/step - loss: 0.4617 - val_loss: 0.4751\n",
      "Epoch 9/10\n",
      "242/242 [==============================] - 0s 1ms/step - loss: 0.4302 - val_loss: 0.5162\n",
      "Epoch 10/10\n",
      "242/242 [==============================] - 0s 1ms/step - loss: 0.4185 - val_loss: 0.4630\n",
      "121/121 [==============================] - 0s 611us/step - loss: 0.4844\n",
      "Epoch 1/10\n",
      "242/242 [==============================] - 1s 2ms/step - loss: 2.9681 - val_loss: 0.9076\n",
      "Epoch 2/10\n",
      "242/242 [==============================] - 0s 1ms/step - loss: 0.8571 - val_loss: 1.0588\n",
      "Epoch 3/10\n",
      "242/242 [==============================] - 0s 1ms/step - loss: 0.8773 - val_loss: 1.6452\n",
      "Epoch 4/10\n",
      "242/242 [==============================] - 0s 1ms/step - loss: 1.6186 - val_loss: 0.8120\n",
      "Epoch 5/10\n",
      "242/242 [==============================] - 0s 1ms/step - loss: 0.8249 - val_loss: 0.6043\n",
      "Epoch 6/10\n",
      "242/242 [==============================] - 0s 1ms/step - loss: 0.5930 - val_loss: 0.5774\n",
      "Epoch 7/10\n",
      "242/242 [==============================] - 0s 1ms/step - loss: 0.5402 - val_loss: 0.5439\n",
      "Epoch 8/10\n",
      "242/242 [==============================] - 0s 1ms/step - loss: 0.5338 - val_loss: 0.5287\n",
      "Epoch 9/10\n",
      "242/242 [==============================] - 0s 1ms/step - loss: 0.5066 - val_loss: 0.5194\n",
      "Epoch 10/10\n",
      "242/242 [==============================] - 0s 1ms/step - loss: 0.5003 - val_loss: 0.5049\n",
      "121/121 [==============================] - 0s 578us/step - loss: 0.4918\n",
      "Epoch 1/10\n",
      "242/242 [==============================] - 1s 2ms/step - loss: 2.3908 - val_loss: 1.5333\n",
      "Epoch 2/10\n",
      "242/242 [==============================] - 0s 1ms/step - loss: 0.9269 - val_loss: 3.6683\n",
      "Epoch 3/10\n",
      "242/242 [==============================] - 0s 1ms/step - loss: 0.7245 - val_loss: 4.7033\n",
      "Epoch 4/10\n",
      "242/242 [==============================] - 0s 1ms/step - loss: 1.3804 - val_loss: 0.6316\n",
      "Epoch 5/10\n",
      "242/242 [==============================] - 0s 1ms/step - loss: 0.5956 - val_loss: 0.5702\n",
      "Epoch 6/10\n",
      "242/242 [==============================] - 0s 1ms/step - loss: 0.5209 - val_loss: 0.5260\n",
      "Epoch 7/10\n",
      "242/242 [==============================] - 0s 1ms/step - loss: 0.4992 - val_loss: 0.4944\n",
      "Epoch 8/10\n",
      "242/242 [==============================] - 0s 1ms/step - loss: 0.4802 - val_loss: 0.4718\n",
      "Epoch 9/10\n",
      "242/242 [==============================] - 0s 1ms/step - loss: 0.4163 - val_loss: 0.4565\n",
      "Epoch 10/10\n",
      "242/242 [==============================] - 0s 1ms/step - loss: 0.4246 - val_loss: 0.4425\n",
      "121/121 [==============================] - 0s 583us/step - loss: 0.4040\n",
      "Epoch 1/10\n",
      "242/242 [==============================] - 1s 2ms/step - loss: 2.6520 - val_loss: 0.6429\n",
      "Epoch 2/10\n",
      "242/242 [==============================] - 0s 1ms/step - loss: 0.5898 - val_loss: 0.5894\n",
      "Epoch 3/10\n",
      "242/242 [==============================] - 0s 1ms/step - loss: 0.5443 - val_loss: 0.5635\n",
      "Epoch 4/10\n",
      "242/242 [==============================] - 0s 1ms/step - loss: 0.5105 - val_loss: 0.5498\n",
      "Epoch 5/10\n",
      "242/242 [==============================] - 0s 1ms/step - loss: 0.5082 - val_loss: 0.5443\n",
      "Epoch 6/10\n",
      "242/242 [==============================] - 0s 1ms/step - loss: 0.5066 - val_loss: 0.5479\n",
      "Epoch 7/10\n",
      "242/242 [==============================] - 0s 1ms/step - loss: 0.4808 - val_loss: 0.5473\n",
      "Epoch 8/10\n",
      "242/242 [==============================] - 0s 1ms/step - loss: 0.4537 - val_loss: 0.5499\n",
      "Epoch 9/10\n",
      "242/242 [==============================] - 0s 1ms/step - loss: 0.4508 - val_loss: 0.5543\n",
      "Epoch 10/10\n",
      "242/242 [==============================] - 0s 1ms/step - loss: 0.4511 - val_loss: 0.5600\n",
      "121/121 [==============================] - 0s 576us/step - loss: 0.6300\n",
      "Epoch 1/10\n",
      "242/242 [==============================] - 1s 2ms/step - loss: 2.2707 - val_loss: 1.7895\n",
      "Epoch 2/10\n",
      "242/242 [==============================] - 0s 1ms/step - loss: nan - val_loss: nan\n",
      "Epoch 3/10\n",
      "242/242 [==============================] - 0s 1ms/step - loss: nan - val_loss: nan\n",
      "Epoch 4/10\n",
      "242/242 [==============================] - 0s 1ms/step - loss: nan - val_loss: nan\n",
      "Epoch 5/10\n",
      "242/242 [==============================] - 0s 1ms/step - loss: nan - val_loss: nan\n",
      "Epoch 6/10\n",
      "242/242 [==============================] - 0s 1ms/step - loss: nan - val_loss: nan\n",
      "Epoch 7/10\n",
      "242/242 [==============================] - 0s 1ms/step - loss: nan - val_loss: nan\n",
      "Epoch 8/10\n",
      "242/242 [==============================] - 0s 1ms/step - loss: nan - val_loss: nan\n",
      "Epoch 9/10\n",
      "242/242 [==============================] - 0s 1ms/step - loss: nan - val_loss: nan\n",
      "Epoch 10/10\n",
      "242/242 [==============================] - 0s 1ms/step - loss: nan - val_loss: nan\n",
      "121/121 [==============================] - 0s 619us/step - loss: nan\n",
      "Epoch 1/10\n",
      "242/242 [==============================] - 1s 2ms/step - loss: 1.0718 - val_loss: 0.5884\n",
      "Epoch 2/10\n",
      "242/242 [==============================] - 0s 1ms/step - loss: nan - val_loss: nan\n",
      "Epoch 3/10\n",
      "242/242 [==============================] - 0s 1ms/step - loss: nan - val_loss: nan\n",
      "Epoch 4/10\n",
      "242/242 [==============================] - 0s 1ms/step - loss: nan - val_loss: nan\n",
      "Epoch 5/10\n",
      "242/242 [==============================] - 0s 1ms/step - loss: nan - val_loss: nan\n",
      "Epoch 6/10\n",
      "242/242 [==============================] - 0s 1ms/step - loss: nan - val_loss: nan\n",
      "Epoch 7/10\n",
      "242/242 [==============================] - 0s 1ms/step - loss: nan - val_loss: nan\n",
      "Epoch 8/10\n",
      "242/242 [==============================] - 0s 1ms/step - loss: nan - val_loss: nan\n",
      "Epoch 9/10\n",
      "242/242 [==============================] - 0s 1ms/step - loss: nan - val_loss: nan\n",
      "Epoch 10/10\n",
      "242/242 [==============================] - 0s 1ms/step - loss: nan - val_loss: nan\n",
      "121/121 [==============================] - 0s 582us/step - loss: nan\n",
      "Epoch 1/10\n",
      "242/242 [==============================] - 1s 2ms/step - loss: 1.0225 - val_loss: 0.5177\n",
      "Epoch 2/10\n",
      "242/242 [==============================] - 0s 1ms/step - loss: 0.4691 - val_loss: 0.4604\n",
      "Epoch 3/10\n",
      "242/242 [==============================] - 0s 1ms/step - loss: 0.4203 - val_loss: 0.4307\n",
      "Epoch 4/10\n",
      "242/242 [==============================] - 0s 1ms/step - loss: 0.4215 - val_loss: 0.4559\n",
      "Epoch 5/10\n",
      "242/242 [==============================] - 0s 1ms/step - loss: 0.4041 - val_loss: 0.4032\n",
      "Epoch 6/10\n",
      "242/242 [==============================] - 0s 1ms/step - loss: 0.3633 - val_loss: 0.3826\n",
      "Epoch 7/10\n",
      "242/242 [==============================] - 0s 1ms/step - loss: 0.3558 - val_loss: 0.3923\n",
      "Epoch 8/10\n",
      "242/242 [==============================] - 0s 1ms/step - loss: 0.3671 - val_loss: 0.4234\n",
      "Epoch 9/10\n",
      "242/242 [==============================] - 0s 1ms/step - loss: 0.3335 - val_loss: 0.3922\n",
      "Epoch 10/10\n",
      "242/242 [==============================] - 0s 1ms/step - loss: 0.3476 - val_loss: 0.3566\n",
      "121/121 [==============================] - 0s 582us/step - loss: 0.3563\n",
      "Epoch 1/10\n",
      "242/242 [==============================] - 1s 1ms/step - loss: 3.5593 - val_loss: 1.1223\n",
      "Epoch 2/10\n",
      "242/242 [==============================] - 0s 1ms/step - loss: 0.8891 - val_loss: 2.8797\n",
      "Epoch 3/10\n",
      "242/242 [==============================] - 0s 939us/step - loss: 1.3438 - val_loss: 13.9779\n",
      "Epoch 4/10\n",
      "242/242 [==============================] - 0s 978us/step - loss: 3.5794 - val_loss: 86.7346\n",
      "Epoch 5/10\n",
      "242/242 [==============================] - 0s 987us/step - loss: 73.0192 - val_loss: 540.9372\n",
      "Epoch 6/10\n",
      "242/242 [==============================] - 0s 972us/step - loss: 62.2099 - val_loss: 3465.7139\n",
      "Epoch 7/10\n",
      "242/242 [==============================] - 0s 979us/step - loss: 548.1820 - val_loss: 21808.1914\n",
      "Epoch 8/10\n",
      "242/242 [==============================] - 0s 970us/step - loss: 4963.8983 - val_loss: 137786.3438\n",
      "Epoch 9/10\n",
      "242/242 [==============================] - 0s 977us/step - loss: 51951.1503 - val_loss: 865371.0000\n",
      "Epoch 10/10\n",
      "242/242 [==============================] - 0s 1ms/step - loss: 954315.1169 - val_loss: 5434105.5000\n",
      "121/121 [==============================] - 0s 529us/step - loss: 33441.0547\n",
      "Epoch 1/10\n",
      "242/242 [==============================] - 1s 1ms/step - loss: 3.6649 - val_loss: 2.6747\n",
      "Epoch 2/10\n",
      "242/242 [==============================] - 0s 973us/step - loss: 5.2824 - val_loss: 14.2835\n",
      "Epoch 3/10\n",
      "242/242 [==============================] - 0s 1ms/step - loss: 8.9241 - val_loss: 90.1587\n",
      "Epoch 4/10\n",
      "242/242 [==============================] - 0s 993us/step - loss: 15.6319 - val_loss: 584.9991\n",
      "Epoch 5/10\n",
      "242/242 [==============================] - 0s 1ms/step - loss: 98.4809 - val_loss: 3777.8682\n",
      "Epoch 6/10\n",
      "242/242 [==============================] - 0s 971us/step - loss: 10699.3597 - val_loss: 24457.0762\n",
      "Epoch 7/10\n",
      "242/242 [==============================] - 0s 940us/step - loss: 14135.1312 - val_loss: 159509.7812\n",
      "Epoch 8/10\n",
      "242/242 [==============================] - 0s 1ms/step - loss: 35386.1421 - val_loss: 1041143.9375\n",
      "Epoch 9/10\n",
      "242/242 [==============================] - 0s 1ms/step - loss: 677644.5533 - val_loss: 6714706.5000\n",
      "Epoch 10/10\n",
      "242/242 [==============================] - 0s 990us/step - loss: 3699252.2689 - val_loss: 43573348.0000\n",
      "121/121 [==============================] - 0s 582us/step - loss: 673222.6250\n",
      "Epoch 1/10\n",
      "242/242 [==============================] - 1s 1ms/step - loss: 3.8049 - val_loss: 1.5464\n",
      "Epoch 2/10\n",
      "242/242 [==============================] - 0s 980us/step - loss: 0.6041 - val_loss: 1.4918\n",
      "Epoch 3/10\n",
      "242/242 [==============================] - 0s 958us/step - loss: 0.5704 - val_loss: 1.5125\n",
      "Epoch 4/10\n",
      "242/242 [==============================] - 0s 997us/step - loss: 0.5355 - val_loss: 1.5417\n",
      "Epoch 5/10\n",
      "242/242 [==============================] - 0s 1ms/step - loss: 0.5130 - val_loss: 1.6023\n",
      "Epoch 6/10\n",
      "242/242 [==============================] - 0s 1ms/step - loss: 0.5306 - val_loss: 1.6011\n",
      "Epoch 7/10\n",
      "242/242 [==============================] - 0s 1ms/step - loss: 0.5219 - val_loss: 1.6423\n",
      "Epoch 8/10\n",
      "242/242 [==============================] - 0s 1ms/step - loss: 0.4959 - val_loss: 1.6843\n",
      "Epoch 9/10\n",
      "242/242 [==============================] - 0s 981us/step - loss: 0.5090 - val_loss: 1.7059\n",
      "Epoch 10/10\n",
      "242/242 [==============================] - 0s 1ms/step - loss: 0.4961 - val_loss: 1.8738\n",
      "121/121 [==============================] - 0s 549us/step - loss: 3.2537\n",
      "C:\\Users\\ASUS\\AppData\\Local\\Programs\\Python\\Python38\\lib\\site-packages\\sklearn\\model_selection\\_search.py:918: UserWarning: One or more of the test scores are non-finite: [            nan -4.41996664e-01 -7.31956283e-01             nan\n",
      " -1.41215732e+02 -6.51857217e-01 -4.47373897e-01 -5.08588264e-01\n",
      "             nan -2.35555644e+05]\n",
      "  warnings.warn(\n"
     ]
    },
    {
     "output_type": "error",
     "ename": "RuntimeError",
     "evalue": "Cannot clone object <tensorflow.python.keras.wrappers.scikit_learn.KerasRegressor object at 0x00000244820A4A00>, as the constructor either does not set or modifies parameter learning_rate",
     "traceback": [
      "\u001b[1;31m---------------------------------------------------------------------------\u001b[0m",
      "\u001b[1;31mRuntimeError\u001b[0m                              Traceback (most recent call last)",
      "\u001b[1;32m<ipython-input-77-a67985e9e532>\u001b[0m in \u001b[0;36m<module>\u001b[1;34m\u001b[0m\n\u001b[0;32m      1\u001b[0m \u001b[0mrnd_search_cv\u001b[0m \u001b[1;33m=\u001b[0m \u001b[0mRandomizedSearchCV\u001b[0m\u001b[1;33m(\u001b[0m\u001b[0mkeras_reg\u001b[0m\u001b[1;33m,\u001b[0m \u001b[0mparam_distribs\u001b[0m\u001b[1;33m,\u001b[0m \u001b[0mn_iter\u001b[0m \u001b[1;33m=\u001b[0m \u001b[1;36m10\u001b[0m\u001b[1;33m,\u001b[0m \u001b[0mcv\u001b[0m \u001b[1;33m=\u001b[0m \u001b[1;36m3\u001b[0m\u001b[1;33m)\u001b[0m\u001b[1;33m\u001b[0m\u001b[1;33m\u001b[0m\u001b[0m\n\u001b[0;32m      2\u001b[0m \u001b[1;31m#All the parameters in the fit method get relayed to the underlying Keras Mode\u001b[0m\u001b[1;33m\u001b[0m\u001b[1;33m\u001b[0m\u001b[1;33m\u001b[0m\u001b[0m\n\u001b[1;32m----> 3\u001b[1;33m rnd_search_cv.fit(x_train_reg,y_train_reg, epochs = 10, validation_data = (x_valid_reg,y_valid_reg),\n\u001b[0m\u001b[0;32m      4\u001b[0m callbacks = [keras.callbacks.EarlyStopping(patience = 10)])\n",
      "\u001b[1;32m~\\AppData\\Local\\Programs\\Python\\Python38\\lib\\site-packages\\sklearn\\utils\\validation.py\u001b[0m in \u001b[0;36minner_f\u001b[1;34m(*args, **kwargs)\u001b[0m\n\u001b[0;32m     61\u001b[0m             \u001b[0mextra_args\u001b[0m \u001b[1;33m=\u001b[0m \u001b[0mlen\u001b[0m\u001b[1;33m(\u001b[0m\u001b[0margs\u001b[0m\u001b[1;33m)\u001b[0m \u001b[1;33m-\u001b[0m \u001b[0mlen\u001b[0m\u001b[1;33m(\u001b[0m\u001b[0mall_args\u001b[0m\u001b[1;33m)\u001b[0m\u001b[1;33m\u001b[0m\u001b[1;33m\u001b[0m\u001b[0m\n\u001b[0;32m     62\u001b[0m             \u001b[1;32mif\u001b[0m \u001b[0mextra_args\u001b[0m \u001b[1;33m<=\u001b[0m \u001b[1;36m0\u001b[0m\u001b[1;33m:\u001b[0m\u001b[1;33m\u001b[0m\u001b[1;33m\u001b[0m\u001b[0m\n\u001b[1;32m---> 63\u001b[1;33m                 \u001b[1;32mreturn\u001b[0m \u001b[0mf\u001b[0m\u001b[1;33m(\u001b[0m\u001b[1;33m*\u001b[0m\u001b[0margs\u001b[0m\u001b[1;33m,\u001b[0m \u001b[1;33m**\u001b[0m\u001b[0mkwargs\u001b[0m\u001b[1;33m)\u001b[0m\u001b[1;33m\u001b[0m\u001b[1;33m\u001b[0m\u001b[0m\n\u001b[0m\u001b[0;32m     64\u001b[0m \u001b[1;33m\u001b[0m\u001b[0m\n\u001b[0;32m     65\u001b[0m             \u001b[1;31m# extra_args > 0\u001b[0m\u001b[1;33m\u001b[0m\u001b[1;33m\u001b[0m\u001b[1;33m\u001b[0m\u001b[0m\n",
      "\u001b[1;32m~\\AppData\\Local\\Programs\\Python\\Python38\\lib\\site-packages\\sklearn\\model_selection\\_search.py\u001b[0m in \u001b[0;36mfit\u001b[1;34m(self, X, y, groups, **fit_params)\u001b[0m\n\u001b[0;32m    874\u001b[0m             \u001b[1;31m# we clone again after setting params in case some\u001b[0m\u001b[1;33m\u001b[0m\u001b[1;33m\u001b[0m\u001b[1;33m\u001b[0m\u001b[0m\n\u001b[0;32m    875\u001b[0m             \u001b[1;31m# of the params are estimators as well.\u001b[0m\u001b[1;33m\u001b[0m\u001b[1;33m\u001b[0m\u001b[1;33m\u001b[0m\u001b[0m\n\u001b[1;32m--> 876\u001b[1;33m             self.best_estimator_ = clone(clone(base_estimator).set_params(\n\u001b[0m\u001b[0;32m    877\u001b[0m                 **self.best_params_))\n\u001b[0;32m    878\u001b[0m             \u001b[0mrefit_start_time\u001b[0m \u001b[1;33m=\u001b[0m \u001b[0mtime\u001b[0m\u001b[1;33m.\u001b[0m\u001b[0mtime\u001b[0m\u001b[1;33m(\u001b[0m\u001b[1;33m)\u001b[0m\u001b[1;33m\u001b[0m\u001b[1;33m\u001b[0m\u001b[0m\n",
      "\u001b[1;32m~\\AppData\\Local\\Programs\\Python\\Python38\\lib\\site-packages\\sklearn\\utils\\validation.py\u001b[0m in \u001b[0;36minner_f\u001b[1;34m(*args, **kwargs)\u001b[0m\n\u001b[0;32m     61\u001b[0m             \u001b[0mextra_args\u001b[0m \u001b[1;33m=\u001b[0m \u001b[0mlen\u001b[0m\u001b[1;33m(\u001b[0m\u001b[0margs\u001b[0m\u001b[1;33m)\u001b[0m \u001b[1;33m-\u001b[0m \u001b[0mlen\u001b[0m\u001b[1;33m(\u001b[0m\u001b[0mall_args\u001b[0m\u001b[1;33m)\u001b[0m\u001b[1;33m\u001b[0m\u001b[1;33m\u001b[0m\u001b[0m\n\u001b[0;32m     62\u001b[0m             \u001b[1;32mif\u001b[0m \u001b[0mextra_args\u001b[0m \u001b[1;33m<=\u001b[0m \u001b[1;36m0\u001b[0m\u001b[1;33m:\u001b[0m\u001b[1;33m\u001b[0m\u001b[1;33m\u001b[0m\u001b[0m\n\u001b[1;32m---> 63\u001b[1;33m                 \u001b[1;32mreturn\u001b[0m \u001b[0mf\u001b[0m\u001b[1;33m(\u001b[0m\u001b[1;33m*\u001b[0m\u001b[0margs\u001b[0m\u001b[1;33m,\u001b[0m \u001b[1;33m**\u001b[0m\u001b[0mkwargs\u001b[0m\u001b[1;33m)\u001b[0m\u001b[1;33m\u001b[0m\u001b[1;33m\u001b[0m\u001b[0m\n\u001b[0m\u001b[0;32m     64\u001b[0m \u001b[1;33m\u001b[0m\u001b[0m\n\u001b[0;32m     65\u001b[0m             \u001b[1;31m# extra_args > 0\u001b[0m\u001b[1;33m\u001b[0m\u001b[1;33m\u001b[0m\u001b[1;33m\u001b[0m\u001b[0m\n",
      "\u001b[1;32m~\\AppData\\Local\\Programs\\Python\\Python38\\lib\\site-packages\\sklearn\\base.py\u001b[0m in \u001b[0;36mclone\u001b[1;34m(estimator, safe)\u001b[0m\n\u001b[0;32m     83\u001b[0m         \u001b[0mparam2\u001b[0m \u001b[1;33m=\u001b[0m \u001b[0mparams_set\u001b[0m\u001b[1;33m[\u001b[0m\u001b[0mname\u001b[0m\u001b[1;33m]\u001b[0m\u001b[1;33m\u001b[0m\u001b[1;33m\u001b[0m\u001b[0m\n\u001b[0;32m     84\u001b[0m         \u001b[1;32mif\u001b[0m \u001b[0mparam1\u001b[0m \u001b[1;32mis\u001b[0m \u001b[1;32mnot\u001b[0m \u001b[0mparam2\u001b[0m\u001b[1;33m:\u001b[0m\u001b[1;33m\u001b[0m\u001b[1;33m\u001b[0m\u001b[0m\n\u001b[1;32m---> 85\u001b[1;33m             raise RuntimeError('Cannot clone object %s, as the constructor '\n\u001b[0m\u001b[0;32m     86\u001b[0m                                \u001b[1;34m'either does not set or modifies parameter %s'\u001b[0m \u001b[1;33m%\u001b[0m\u001b[1;33m\u001b[0m\u001b[1;33m\u001b[0m\u001b[0m\n\u001b[0;32m     87\u001b[0m                                (estimator, name))\n",
      "\u001b[1;31mRuntimeError\u001b[0m: Cannot clone object <tensorflow.python.keras.wrappers.scikit_learn.KerasRegressor object at 0x00000244820A4A00>, as the constructor either does not set or modifies parameter learning_rate"
     ]
    }
   ],
   "source": [
    "rnd_search_cv = RandomizedSearchCV(keras_reg, param_distribs, n_iter = 10, cv = 3)\n",
    "#All the parameters in the fit method get relayed to the underlying Keras Mode\n",
    "rnd_search_cv.fit(x_train_reg,y_train_reg, epochs = 10, validation_data = (x_valid_reg,y_valid_reg),\n",
    "callbacks = [keras.callbacks.EarlyStopping(patience = 10)])"
   ]
  },
  {
   "cell_type": "code",
   "execution_count": 113,
   "metadata": {},
   "outputs": [
    {
     "output_type": "execute_result",
     "data": {
      "text/plain": [
       "{'learning_rate': 0.011133075366404921, 'n_hidden': 3, 'n_neurons': 33}"
      ]
     },
     "metadata": {},
     "execution_count": 113
    }
   ],
   "source": [
    "rnd_search_cv.best_params_"
   ]
  },
  {
   "cell_type": "code",
   "execution_count": 114,
   "metadata": {},
   "outputs": [
    {
     "output_type": "execute_result",
     "data": {
      "text/plain": [
       "-0.37642330924669903"
      ]
     },
     "metadata": {},
     "execution_count": 114
    }
   ],
   "source": [
    "rnd_search_cv.best_score_"
   ]
  },
  {
   "source": [
    "The unified scoring API always maximizes the score, so scores which need to be minimized are negated in order for the unified scoring API to work correctly. While scores which need to be maximised are kept positive. "
   ],
   "cell_type": "markdown",
   "metadata": {}
  },
  {
   "cell_type": "code",
   "execution_count": 78,
   "metadata": {},
   "outputs": [],
   "source": [
    "best_model = build_model(n_hidden = 3, n_neurons = 33, learning_rate = 0.011133075366404921, input_shape = [8])"
   ]
  },
  {
   "cell_type": "code",
   "execution_count": 79,
   "metadata": {},
   "outputs": [
    {
     "output_type": "stream",
     "name": "stdout",
     "text": [
      "Epoch 1/10\n",
      "363/363 [==============================] - 1s 2ms/step - loss: 1.2311 - val_loss: 0.5658\n",
      "Epoch 2/10\n",
      "363/363 [==============================] - 0s 1ms/step - loss: 0.5200 - val_loss: 0.4642\n",
      "Epoch 3/10\n",
      "363/363 [==============================] - 0s 1ms/step - loss: 0.4517 - val_loss: 0.4235\n",
      "Epoch 4/10\n",
      "363/363 [==============================] - 0s 1ms/step - loss: 0.4341 - val_loss: 0.4215\n",
      "Epoch 5/10\n",
      "363/363 [==============================] - 0s 1ms/step - loss: 0.4030 - val_loss: 0.4156\n",
      "Epoch 6/10\n",
      "363/363 [==============================] - 0s 1ms/step - loss: 0.3981 - val_loss: 0.3989\n",
      "Epoch 7/10\n",
      "363/363 [==============================] - 0s 1ms/step - loss: 0.3873 - val_loss: 0.4101\n",
      "Epoch 8/10\n",
      "363/363 [==============================] - 0s 1ms/step - loss: 0.3669 - val_loss: 0.3809\n",
      "Epoch 9/10\n",
      "363/363 [==============================] - 0s 1ms/step - loss: 0.3520 - val_loss: 0.3772\n",
      "Epoch 10/10\n",
      "363/363 [==============================] - 0s 1ms/step - loss: 0.3541 - val_loss: 0.3623\n"
     ]
    }
   ],
   "source": [
    "history_best_model = best_model.fit(x_train_reg,y_train_reg, epochs = 10, validation_data = (x_valid_reg,y_valid_reg),\n",
    "callbacks = [keras.callbacks.EarlyStopping(patience = 10)])"
   ]
  },
  {
   "cell_type": "code",
   "execution_count": 80,
   "metadata": {},
   "outputs": [
    {
     "output_type": "execute_result",
     "data": {
      "text/plain": [
       "<matplotlib.legend.Legend at 0x24484c3e2b0>"
      ]
     },
     "metadata": {},
     "execution_count": 80
    },
    {
     "output_type": "display_data",
     "data": {
      "text/plain": "<Figure size 576x720 with 1 Axes>",
      "image/svg+xml": "<?xml version=\"1.0\" encoding=\"utf-8\" standalone=\"no\"?>\r\n<!DOCTYPE svg PUBLIC \"-//W3C//DTD SVG 1.1//EN\"\r\n  \"http://www.w3.org/Graphics/SVG/1.1/DTD/svg11.dtd\">\r\n<!-- Created with matplotlib (https://matplotlib.org/) -->\r\n<svg height=\"574.678125pt\" version=\"1.1\" viewBox=\"0 0 500.565625 574.678125\" width=\"500.565625pt\" xmlns=\"http://www.w3.org/2000/svg\" xmlns:xlink=\"http://www.w3.org/1999/xlink\">\r\n <metadata>\r\n  <rdf:RDF xmlns:cc=\"http://creativecommons.org/ns#\" xmlns:dc=\"http://purl.org/dc/elements/1.1/\" xmlns:rdf=\"http://www.w3.org/1999/02/22-rdf-syntax-ns#\">\r\n   <cc:Work>\r\n    <dc:type rdf:resource=\"http://purl.org/dc/dcmitype/StillImage\"/>\r\n    <dc:date>2021-04-10T11:37:19.046739</dc:date>\r\n    <dc:format>image/svg+xml</dc:format>\r\n    <dc:creator>\r\n     <cc:Agent>\r\n      <dc:title>Matplotlib v3.3.4, https://matplotlib.org/</dc:title>\r\n     </cc:Agent>\r\n    </dc:creator>\r\n   </cc:Work>\r\n  </rdf:RDF>\r\n </metadata>\r\n <defs>\r\n  <style type=\"text/css\">*{stroke-linecap:butt;stroke-linejoin:round;}</style>\r\n </defs>\r\n <g id=\"figure_1\">\r\n  <g id=\"patch_1\">\r\n   <path d=\"M 0 574.678125 \r\nL 500.565625 574.678125 \r\nL 500.565625 0 \r\nL 0 0 \r\nz\r\n\" style=\"fill:none;\"/>\r\n  </g>\r\n  <g id=\"axes_1\">\r\n   <g id=\"patch_2\">\r\n    <path d=\"M 46.965625 550.8 \r\nL 493.365625 550.8 \r\nL 493.365625 7.2 \r\nL 46.965625 7.2 \r\nz\r\n\" style=\"fill:#ffffff;\"/>\r\n   </g>\r\n   <g id=\"patch_3\">\r\n    <path clip-path=\"url(#p23249bce59)\" d=\"M 67.256534 550.8 \r\nL 77.580894 550.8 \r\nL 77.580894 543.965488 \r\nL 67.256534 543.965488 \r\nz\r\n\" style=\"fill:#1f77b4;fill-opacity:0.75;stroke:#000000;stroke-linejoin:miter;\"/>\r\n   </g>\r\n   <g id=\"patch_4\">\r\n    <path clip-path=\"url(#p23249bce59)\" d=\"M 77.580894 550.8 \r\nL 87.905253 550.8 \r\nL 87.905253 391.897595 \r\nL 77.580894 391.897595 \r\nz\r\n\" style=\"fill:#1f77b4;fill-opacity:0.75;stroke:#000000;stroke-linejoin:miter;\"/>\r\n   </g>\r\n   <g id=\"patch_5\">\r\n    <path clip-path=\"url(#p23249bce59)\" d=\"M 87.905253 550.8 \r\nL 98.229613 550.8 \r\nL 98.229613 232.995191 \r\nL 87.905253 232.995191 \r\nz\r\n\" style=\"fill:#1f77b4;fill-opacity:0.75;stroke:#000000;stroke-linejoin:miter;\"/>\r\n   </g>\r\n   <g id=\"patch_6\">\r\n    <path clip-path=\"url(#p23249bce59)\" d=\"M 98.229613 550.8 \r\nL 108.553972 550.8 \r\nL 108.553972 181.736351 \r\nL 98.229613 181.736351 \r\nz\r\n\" style=\"fill:#1f77b4;fill-opacity:0.75;stroke:#000000;stroke-linejoin:miter;\"/>\r\n   </g>\r\n   <g id=\"patch_7\">\r\n    <path clip-path=\"url(#p23249bce59)\" d=\"M 108.553972 550.8 \r\nL 118.878331 550.8 \r\nL 118.878331 103.139463 \r\nL 108.553972 103.139463 \r\nz\r\n\" style=\"fill:#1f77b4;fill-opacity:0.75;stroke:#000000;stroke-linejoin:miter;\"/>\r\n   </g>\r\n   <g id=\"patch_8\">\r\n    <path clip-path=\"url(#p23249bce59)\" d=\"M 118.878331 550.8 \r\nL 129.202691 550.8 \r\nL 129.202691 116.808487 \r\nL 118.878331 116.808487 \r\nz\r\n\" style=\"fill:#1f77b4;fill-opacity:0.75;stroke:#000000;stroke-linejoin:miter;\"/>\r\n   </g>\r\n   <g id=\"patch_9\">\r\n    <path clip-path=\"url(#p23249bce59)\" d=\"M 129.202691 550.8 \r\nL 139.52705 550.8 \r\nL 139.52705 41.628854 \r\nL 129.202691 41.628854 \r\nz\r\n\" style=\"fill:#1f77b4;fill-opacity:0.75;stroke:#000000;stroke-linejoin:miter;\"/>\r\n   </g>\r\n   <g id=\"patch_10\">\r\n    <path clip-path=\"url(#p23249bce59)\" d=\"M 139.52705 550.8 \r\nL 149.85141 550.8 \r\nL 149.85141 33.085714 \r\nL 139.52705 33.085714 \r\nz\r\n\" style=\"fill:#1f77b4;fill-opacity:0.75;stroke:#000000;stroke-linejoin:miter;\"/>\r\n   </g>\r\n   <g id=\"patch_11\">\r\n    <path clip-path=\"url(#p23249bce59)\" d=\"M 149.85141 550.8 \r\nL 160.175769 550.8 \r\nL 160.175769 86.053182 \r\nL 149.85141 86.053182 \r\nz\r\n\" style=\"fill:#1f77b4;fill-opacity:0.75;stroke:#000000;stroke-linejoin:miter;\"/>\r\n   </g>\r\n   <g id=\"patch_12\">\r\n    <path clip-path=\"url(#p23249bce59)\" d=\"M 160.175769 550.8 \r\nL 170.500129 550.8 \r\nL 170.500129 99.722207 \r\nL 160.175769 99.722207 \r\nz\r\n\" style=\"fill:#1f77b4;fill-opacity:0.75;stroke:#000000;stroke-linejoin:miter;\"/>\r\n   </g>\r\n   <g id=\"patch_13\">\r\n    <path clip-path=\"url(#p23249bce59)\" d=\"M 170.500129 550.8 \r\nL 180.824488 550.8 \r\nL 180.824488 215.908911 \r\nL 170.500129 215.908911 \r\nz\r\n\" style=\"fill:#1f77b4;fill-opacity:0.75;stroke:#000000;stroke-linejoin:miter;\"/>\r\n   </g>\r\n   <g id=\"patch_14\">\r\n    <path clip-path=\"url(#p23249bce59)\" d=\"M 180.824488 550.8 \r\nL 191.148848 550.8 \r\nL 191.148848 127.060255 \r\nL 180.824488 127.060255 \r\nz\r\n\" style=\"fill:#1f77b4;fill-opacity:0.75;stroke:#000000;stroke-linejoin:miter;\"/>\r\n   </g>\r\n   <g id=\"patch_15\">\r\n    <path clip-path=\"url(#p23249bce59)\" d=\"M 191.148848 550.8 \r\nL 201.473207 550.8 \r\nL 201.473207 234.703819 \r\nL 191.148848 234.703819 \r\nz\r\n\" style=\"fill:#1f77b4;fill-opacity:0.75;stroke:#000000;stroke-linejoin:miter;\"/>\r\n   </g>\r\n   <g id=\"patch_16\">\r\n    <path clip-path=\"url(#p23249bce59)\" d=\"M 201.473207 550.8 \r\nL 211.797567 550.8 \r\nL 211.797567 306.466195 \r\nL 201.473207 306.466195 \r\nz\r\n\" style=\"fill:#1f77b4;fill-opacity:0.75;stroke:#000000;stroke-linejoin:miter;\"/>\r\n   </g>\r\n   <g id=\"patch_17\">\r\n    <path clip-path=\"url(#p23249bce59)\" d=\"M 211.797567 550.8 \r\nL 222.121926 550.8 \r\nL 222.121926 308.174823 \r\nL 211.797567 308.174823 \r\nz\r\n\" style=\"fill:#1f77b4;fill-opacity:0.75;stroke:#000000;stroke-linejoin:miter;\"/>\r\n   </g>\r\n   <g id=\"patch_18\">\r\n    <path clip-path=\"url(#p23249bce59)\" d=\"M 222.121926 550.8 \r\nL 232.446286 550.8 \r\nL 232.446286 378.228571 \r\nL 222.121926 378.228571 \r\nz\r\n\" style=\"fill:#1f77b4;fill-opacity:0.75;stroke:#000000;stroke-linejoin:miter;\"/>\r\n   </g>\r\n   <g id=\"patch_19\">\r\n    <path clip-path=\"url(#p23249bce59)\" d=\"M 232.446286 550.8 \r\nL 242.770645 550.8 \r\nL 242.770645 410.692504 \r\nL 232.446286 410.692504 \r\nz\r\n\" style=\"fill:#1f77b4;fill-opacity:0.75;stroke:#000000;stroke-linejoin:miter;\"/>\r\n   </g>\r\n   <g id=\"patch_20\">\r\n    <path clip-path=\"url(#p23249bce59)\" d=\"M 242.770645 550.8 \r\nL 253.095005 550.8 \r\nL 253.095005 402.149364 \r\nL 242.770645 402.149364 \r\nz\r\n\" style=\"fill:#1f77b4;fill-opacity:0.75;stroke:#000000;stroke-linejoin:miter;\"/>\r\n   </g>\r\n   <g id=\"patch_21\">\r\n    <path clip-path=\"url(#p23249bce59)\" d=\"M 253.095005 550.8 \r\nL 263.419364 550.8 \r\nL 263.419364 415.818388 \r\nL 253.095005 415.818388 \r\nz\r\n\" style=\"fill:#1f77b4;fill-opacity:0.75;stroke:#000000;stroke-linejoin:miter;\"/>\r\n   </g>\r\n   <g id=\"patch_22\">\r\n    <path clip-path=\"url(#p23249bce59)\" d=\"M 263.419364 550.8 \r\nL 273.743724 550.8 \r\nL 273.743724 443.156436 \r\nL 263.419364 443.156436 \r\nz\r\n\" style=\"fill:#1f77b4;fill-opacity:0.75;stroke:#000000;stroke-linejoin:miter;\"/>\r\n   </g>\r\n   <g id=\"patch_23\">\r\n    <path clip-path=\"url(#p23249bce59)\" d=\"M 273.743724 550.8 \r\nL 284.068083 550.8 \r\nL 284.068083 487.580764 \r\nL 273.743724 487.580764 \r\nz\r\n\" style=\"fill:#1f77b4;fill-opacity:0.75;stroke:#000000;stroke-linejoin:miter;\"/>\r\n   </g>\r\n   <g id=\"patch_24\">\r\n    <path clip-path=\"url(#p23249bce59)\" d=\"M 284.068083 550.8 \r\nL 294.392443 550.8 \r\nL 294.392443 468.785856 \r\nL 284.068083 468.785856 \r\nz\r\n\" style=\"fill:#1f77b4;fill-opacity:0.75;stroke:#000000;stroke-linejoin:miter;\"/>\r\n   </g>\r\n   <g id=\"patch_25\">\r\n    <path clip-path=\"url(#p23249bce59)\" d=\"M 294.392443 550.8 \r\nL 304.716802 550.8 \r\nL 304.716802 485.872136 \r\nL 294.392443 485.872136 \r\nz\r\n\" style=\"fill:#1f77b4;fill-opacity:0.75;stroke:#000000;stroke-linejoin:miter;\"/>\r\n   </g>\r\n   <g id=\"patch_26\">\r\n    <path clip-path=\"url(#p23249bce59)\" d=\"M 304.716802 550.8 \r\nL 315.041161 550.8 \r\nL 315.041161 496.123904 \r\nL 304.716802 496.123904 \r\nz\r\n\" style=\"fill:#1f77b4;fill-opacity:0.75;stroke:#000000;stroke-linejoin:miter;\"/>\r\n   </g>\r\n   <g id=\"patch_27\">\r\n    <path clip-path=\"url(#p23249bce59)\" d=\"M 315.041161 550.8 \r\nL 325.365521 550.8 \r\nL 325.365521 502.958416 \r\nL 315.041161 502.958416 \r\nz\r\n\" style=\"fill:#1f77b4;fill-opacity:0.75;stroke:#000000;stroke-linejoin:miter;\"/>\r\n   </g>\r\n   <g id=\"patch_28\">\r\n    <path clip-path=\"url(#p23249bce59)\" d=\"M 325.365521 550.8 \r\nL 335.68988 550.8 \r\nL 335.68988 520.044696 \r\nL 325.365521 520.044696 \r\nz\r\n\" style=\"fill:#1f77b4;fill-opacity:0.75;stroke:#000000;stroke-linejoin:miter;\"/>\r\n   </g>\r\n   <g id=\"patch_29\">\r\n    <path clip-path=\"url(#p23249bce59)\" d=\"M 335.68988 550.8 \r\nL 346.01424 550.8 \r\nL 346.01424 224.452051 \r\nL 335.68988 224.452051 \r\nz\r\n\" style=\"fill:#1f77b4;fill-opacity:0.75;stroke:#000000;stroke-linejoin:miter;\"/>\r\n   </g>\r\n   <g id=\"patch_30\">\r\n    <path clip-path=\"url(#p23249bce59)\" d=\"M 88.933941 550.8 \r\nL 98.537461 550.8 \r\nL 98.537461 484.163508 \r\nL 88.933941 484.163508 \r\nz\r\n\" style=\"fill:#1f77b4;fill-opacity:0.75;stroke:#000000;stroke-linejoin:miter;stroke-width:0.960349;\"/>\r\n   </g>\r\n   <g id=\"patch_31\">\r\n    <path clip-path=\"url(#p23249bce59)\" d=\"M 98.537461 550.8 \r\nL 108.140981 550.8 \r\nL 108.140981 238.121075 \r\nL 98.537461 238.121075 \r\nz\r\n\" style=\"fill:#1f77b4;fill-opacity:0.75;stroke:#000000;stroke-linejoin:miter;stroke-width:0.960349;\"/>\r\n   </g>\r\n   <g id=\"patch_32\">\r\n    <path clip-path=\"url(#p23249bce59)\" d=\"M 108.140981 550.8 \r\nL 117.744498 550.8 \r\nL 117.744498 98.013579 \r\nL 108.140981 98.013579 \r\nz\r\n\" style=\"fill:#1f77b4;fill-opacity:0.75;stroke:#000000;stroke-linejoin:miter;stroke-width:0.960349;\"/>\r\n   </g>\r\n   <g id=\"patch_33\">\r\n    <path clip-path=\"url(#p23249bce59)\" d=\"M 117.744498 550.8 \r\nL 127.348018 550.8 \r\nL 127.348018 41.628854 \r\nL 117.744498 41.628854 \r\nz\r\n\" style=\"fill:#1f77b4;fill-opacity:0.75;stroke:#000000;stroke-linejoin:miter;stroke-width:0.960349;\"/>\r\n   </g>\r\n   <g id=\"patch_34\">\r\n    <path clip-path=\"url(#p23249bce59)\" d=\"M 127.348018 550.8 \r\nL 136.951538 550.8 \r\nL 136.951538 92.887694 \r\nL 127.348018 92.887694 \r\nz\r\n\" style=\"fill:#1f77b4;fill-opacity:0.75;stroke:#000000;stroke-linejoin:miter;stroke-width:0.960349;\"/>\r\n   </g>\r\n   <g id=\"patch_35\">\r\n    <path clip-path=\"url(#p23249bce59)\" d=\"M 136.951538 550.8 \r\nL 146.555058 550.8 \r\nL 146.555058 103.139463 \r\nL 136.951538 103.139463 \r\nz\r\n\" style=\"fill:#1f77b4;fill-opacity:0.75;stroke:#000000;stroke-linejoin:miter;stroke-width:0.960349;\"/>\r\n   </g>\r\n   <g id=\"patch_36\">\r\n    <path clip-path=\"url(#p23249bce59)\" d=\"M 146.555058 550.8 \r\nL 156.158578 550.8 \r\nL 156.158578 150.981047 \r\nL 146.555058 150.981047 \r\nz\r\n\" style=\"fill:#1f77b4;fill-opacity:0.75;stroke:#000000;stroke-linejoin:miter;stroke-width:0.960349;\"/>\r\n   </g>\r\n   <g id=\"patch_37\">\r\n    <path clip-path=\"url(#p23249bce59)\" d=\"M 156.158578 550.8 \r\nL 165.762098 550.8 \r\nL 165.762098 111.682603 \r\nL 156.158578 111.682603 \r\nz\r\n\" style=\"fill:#1f77b4;fill-opacity:0.75;stroke:#000000;stroke-linejoin:miter;stroke-width:0.960349;\"/>\r\n   </g>\r\n   <g id=\"patch_38\">\r\n    <path clip-path=\"url(#p23249bce59)\" d=\"M 165.762098 550.8 \r\nL 175.365619 550.8 \r\nL 175.365619 115.099859 \r\nL 165.762098 115.099859 \r\nz\r\n\" style=\"fill:#1f77b4;fill-opacity:0.75;stroke:#000000;stroke-linejoin:miter;stroke-width:0.960349;\"/>\r\n   </g>\r\n   <g id=\"patch_39\">\r\n    <path clip-path=\"url(#p23249bce59)\" d=\"M 175.365619 550.8 \r\nL 184.969139 550.8 \r\nL 184.969139 137.312023 \r\nL 175.365619 137.312023 \r\nz\r\n\" style=\"fill:#1f77b4;fill-opacity:0.75;stroke:#000000;stroke-linejoin:miter;stroke-width:0.960349;\"/>\r\n   </g>\r\n   <g id=\"patch_40\">\r\n    <path clip-path=\"url(#p23249bce59)\" d=\"M 184.969139 550.8 \r\nL 194.572659 550.8 \r\nL 194.572659 176.610467 \r\nL 184.969139 176.610467 \r\nz\r\n\" style=\"fill:#1f77b4;fill-opacity:0.75;stroke:#000000;stroke-linejoin:miter;stroke-width:0.960349;\"/>\r\n   </g>\r\n   <g id=\"patch_41\">\r\n    <path clip-path=\"url(#p23249bce59)\" d=\"M 194.572659 550.8 \r\nL 204.176179 550.8 \r\nL 204.176179 190.279491 \r\nL 194.572659 190.279491 \r\nz\r\n\" style=\"fill:#1f77b4;fill-opacity:0.75;stroke:#000000;stroke-linejoin:miter;stroke-width:0.960349;\"/>\r\n   </g>\r\n   <g id=\"patch_42\">\r\n    <path clip-path=\"url(#p23249bce59)\" d=\"M 204.176179 550.8 \r\nL 213.779699 550.8 \r\nL 213.779699 162.941443 \r\nL 204.176179 162.941443 \r\nz\r\n\" style=\"fill:#1f77b4;fill-opacity:0.75;stroke:#000000;stroke-linejoin:miter;stroke-width:0.960349;\"/>\r\n   </g>\r\n   <g id=\"patch_43\">\r\n    <path clip-path=\"url(#p23249bce59)\" d=\"M 213.779699 550.8 \r\nL 223.383205 550.8 \r\nL 223.383205 262.041867 \r\nL 213.779699 262.041867 \r\nz\r\n\" style=\"fill:#1f77b4;fill-opacity:0.75;stroke:#000000;stroke-linejoin:miter;stroke-width:0.960349;\"/>\r\n   </g>\r\n   <g id=\"patch_44\">\r\n    <path clip-path=\"url(#p23249bce59)\" d=\"M 223.383205 550.8 \r\nL 232.986726 550.8 \r\nL 232.986726 284.254031 \r\nL 223.383205 284.254031 \r\nz\r\n\" style=\"fill:#1f77b4;fill-opacity:0.75;stroke:#000000;stroke-linejoin:miter;stroke-width:0.960349;\"/>\r\n   </g>\r\n   <g id=\"patch_45\">\r\n    <path clip-path=\"url(#p23249bce59)\" d=\"M 232.986726 550.8 \r\nL 242.590246 550.8 \r\nL 242.590246 350.890523 \r\nL 232.986726 350.890523 \r\nz\r\n\" style=\"fill:#1f77b4;fill-opacity:0.75;stroke:#000000;stroke-linejoin:miter;stroke-width:0.960349;\"/>\r\n   </g>\r\n   <g id=\"patch_46\">\r\n    <path clip-path=\"url(#p23249bce59)\" d=\"M 242.590246 550.8 \r\nL 252.193766 550.8 \r\nL 252.193766 407.275248 \r\nL 242.590246 407.275248 \r\nz\r\n\" style=\"fill:#1f77b4;fill-opacity:0.75;stroke:#000000;stroke-linejoin:miter;stroke-width:0.960349;\"/>\r\n   </g>\r\n   <g id=\"patch_47\">\r\n    <path clip-path=\"url(#p23249bce59)\" d=\"M 252.193766 550.8 \r\nL 261.797286 550.8 \r\nL 261.797286 405.56662 \r\nL 252.193766 405.56662 \r\nz\r\n\" style=\"fill:#1f77b4;fill-opacity:0.75;stroke:#000000;stroke-linejoin:miter;stroke-width:0.960349;\"/>\r\n   </g>\r\n   <g id=\"patch_48\">\r\n    <path clip-path=\"url(#p23249bce59)\" d=\"M 261.797286 550.8 \r\nL 271.400806 550.8 \r\nL 271.400806 456.82546 \r\nL 261.797286 456.82546 \r\nz\r\n\" style=\"fill:#1f77b4;fill-opacity:0.75;stroke:#000000;stroke-linejoin:miter;stroke-width:0.960349;\"/>\r\n   </g>\r\n   <g id=\"patch_49\">\r\n    <path clip-path=\"url(#p23249bce59)\" d=\"M 271.400806 550.8 \r\nL 281.004326 550.8 \r\nL 281.004326 456.82546 \r\nL 271.400806 456.82546 \r\nz\r\n\" style=\"fill:#1f77b4;fill-opacity:0.75;stroke:#000000;stroke-linejoin:miter;stroke-width:0.960349;\"/>\r\n   </g>\r\n   <g id=\"patch_50\">\r\n    <path clip-path=\"url(#p23249bce59)\" d=\"M 281.004326 550.8 \r\nL 290.607861 550.8 \r\nL 290.607861 467.077228 \r\nL 281.004326 467.077228 \r\nz\r\n\" style=\"fill:#1f77b4;fill-opacity:0.75;stroke:#000000;stroke-linejoin:miter;stroke-width:0.960349;\"/>\r\n   </g>\r\n   <g id=\"patch_51\">\r\n    <path clip-path=\"url(#p23249bce59)\" d=\"M 290.607861 550.8 \r\nL 300.211381 550.8 \r\nL 300.211381 502.958416 \r\nL 290.607861 502.958416 \r\nz\r\n\" style=\"fill:#1f77b4;fill-opacity:0.75;stroke:#000000;stroke-linejoin:miter;stroke-width:0.960349;\"/>\r\n   </g>\r\n   <g id=\"patch_52\">\r\n    <path clip-path=\"url(#p23249bce59)\" d=\"M 300.211381 550.8 \r\nL 309.814873 550.8 \r\nL 309.814873 501.249788 \r\nL 300.211381 501.249788 \r\nz\r\n\" style=\"fill:#1f77b4;fill-opacity:0.75;stroke:#000000;stroke-linejoin:miter;stroke-width:0.960349;\"/>\r\n   </g>\r\n   <g id=\"patch_53\">\r\n    <path clip-path=\"url(#p23249bce59)\" d=\"M 309.814873 550.8 \r\nL 319.418393 550.8 \r\nL 319.418393 509.792928 \r\nL 309.814873 509.792928 \r\nz\r\n\" style=\"fill:#1f77b4;fill-opacity:0.75;stroke:#000000;stroke-linejoin:miter;stroke-width:0.960349;\"/>\r\n   </g>\r\n   <g id=\"patch_54\">\r\n    <path clip-path=\"url(#p23249bce59)\" d=\"M 319.418393 550.8 \r\nL 329.021913 550.8 \r\nL 329.021913 508.0843 \r\nL 319.418393 508.0843 \r\nz\r\n\" style=\"fill:#1f77b4;fill-opacity:0.75;stroke:#000000;stroke-linejoin:miter;stroke-width:0.960349;\"/>\r\n   </g>\r\n   <g id=\"patch_55\">\r\n    <path clip-path=\"url(#p23249bce59)\" d=\"M 329.021913 550.8 \r\nL 338.625434 550.8 \r\nL 338.625434 523.461952 \r\nL 329.021913 523.461952 \r\nz\r\n\" style=\"fill:#1f77b4;fill-opacity:0.75;stroke:#000000;stroke-linejoin:miter;stroke-width:0.960349;\"/>\r\n   </g>\r\n   <g id=\"patch_56\">\r\n    <path clip-path=\"url(#p23249bce59)\" d=\"M 338.625434 550.8 \r\nL 348.228954 550.8 \r\nL 348.228954 535.422348 \r\nL 338.625434 535.422348 \r\nz\r\n\" style=\"fill:#1f77b4;fill-opacity:0.75;stroke:#000000;stroke-linejoin:miter;stroke-width:0.960349;\"/>\r\n   </g>\r\n   <g id=\"patch_57\">\r\n    <path clip-path=\"url(#p23249bce59)\" d=\"M 348.228954 550.8 \r\nL 357.832474 550.8 \r\nL 357.832474 540.548232 \r\nL 348.228954 540.548232 \r\nz\r\n\" style=\"fill:#1f77b4;fill-opacity:0.75;stroke:#000000;stroke-linejoin:miter;stroke-width:0.960349;\"/>\r\n   </g>\r\n   <g id=\"patch_58\">\r\n    <path clip-path=\"url(#p23249bce59)\" d=\"M 357.832474 550.8 \r\nL 367.435994 550.8 \r\nL 367.435994 550.8 \r\nL 357.832474 550.8 \r\nz\r\n\" style=\"fill:#1f77b4;fill-opacity:0.75;stroke:#000000;stroke-linejoin:miter;stroke-width:0.960349;\"/>\r\n   </g>\r\n   <g id=\"patch_59\">\r\n    <path clip-path=\"url(#p23249bce59)\" d=\"M 367.435994 550.8 \r\nL 377.039514 550.8 \r\nL 377.039514 549.091372 \r\nL 367.435994 549.091372 \r\nz\r\n\" style=\"fill:#1f77b4;fill-opacity:0.75;stroke:#000000;stroke-linejoin:miter;stroke-width:0.960349;\"/>\r\n   </g>\r\n   <g id=\"patch_60\">\r\n    <path clip-path=\"url(#p23249bce59)\" d=\"M 377.039514 550.8 \r\nL 386.643034 550.8 \r\nL 386.643034 550.8 \r\nL 377.039514 550.8 \r\nz\r\n\" style=\"fill:#1f77b4;fill-opacity:0.75;stroke:#000000;stroke-linejoin:miter;stroke-width:0.960349;\"/>\r\n   </g>\r\n   <g id=\"patch_61\">\r\n    <path clip-path=\"url(#p23249bce59)\" d=\"M 386.643034 550.8 \r\nL 396.246555 550.8 \r\nL 396.246555 550.8 \r\nL 386.643034 550.8 \r\nz\r\n\" style=\"fill:#1f77b4;fill-opacity:0.75;stroke:#000000;stroke-linejoin:miter;stroke-width:0.960349;\"/>\r\n   </g>\r\n   <g id=\"patch_62\">\r\n    <path clip-path=\"url(#p23249bce59)\" d=\"M 396.246555 550.8 \r\nL 405.850075 550.8 \r\nL 405.850075 550.8 \r\nL 396.246555 550.8 \r\nz\r\n\" style=\"fill:#1f77b4;fill-opacity:0.75;stroke:#000000;stroke-linejoin:miter;stroke-width:0.960349;\"/>\r\n   </g>\r\n   <g id=\"patch_63\">\r\n    <path clip-path=\"url(#p23249bce59)\" d=\"M 405.850075 550.8 \r\nL 415.453595 550.8 \r\nL 415.453595 550.8 \r\nL 405.850075 550.8 \r\nz\r\n\" style=\"fill:#1f77b4;fill-opacity:0.75;stroke:#000000;stroke-linejoin:miter;stroke-width:0.960349;\"/>\r\n   </g>\r\n   <g id=\"patch_64\">\r\n    <path clip-path=\"url(#p23249bce59)\" d=\"M 415.453595 550.8 \r\nL 425.057115 550.8 \r\nL 425.057115 550.8 \r\nL 415.453595 550.8 \r\nz\r\n\" style=\"fill:#1f77b4;fill-opacity:0.75;stroke:#000000;stroke-linejoin:miter;stroke-width:0.960349;\"/>\r\n   </g>\r\n   <g id=\"patch_65\">\r\n    <path clip-path=\"url(#p23249bce59)\" d=\"M 425.057115 550.8 \r\nL 434.660635 550.8 \r\nL 434.660635 549.091372 \r\nL 425.057115 549.091372 \r\nz\r\n\" style=\"fill:#1f77b4;fill-opacity:0.75;stroke:#000000;stroke-linejoin:miter;stroke-width:0.960349;\"/>\r\n   </g>\r\n   <g id=\"patch_66\">\r\n    <path clip-path=\"url(#p23249bce59)\" d=\"M 434.660635 550.8 \r\nL 444.264155 550.8 \r\nL 444.264155 550.8 \r\nL 434.660635 550.8 \r\nz\r\n\" style=\"fill:#1f77b4;fill-opacity:0.75;stroke:#000000;stroke-linejoin:miter;stroke-width:0.960349;\"/>\r\n   </g>\r\n   <g id=\"patch_67\">\r\n    <path clip-path=\"url(#p23249bce59)\" d=\"M 444.264155 550.8 \r\nL 453.867676 550.8 \r\nL 453.867676 550.8 \r\nL 444.264155 550.8 \r\nz\r\n\" style=\"fill:#1f77b4;fill-opacity:0.75;stroke:#000000;stroke-linejoin:miter;stroke-width:0.960349;\"/>\r\n   </g>\r\n   <g id=\"patch_68\">\r\n    <path clip-path=\"url(#p23249bce59)\" d=\"M 453.867676 550.8 \r\nL 463.471196 550.8 \r\nL 463.471196 550.8 \r\nL 453.867676 550.8 \r\nz\r\n\" style=\"fill:#1f77b4;fill-opacity:0.75;stroke:#000000;stroke-linejoin:miter;stroke-width:0.960349;\"/>\r\n   </g>\r\n   <g id=\"patch_69\">\r\n    <path clip-path=\"url(#p23249bce59)\" d=\"M 463.471196 550.8 \r\nL 473.074716 550.8 \r\nL 473.074716 549.091372 \r\nL 463.471196 549.091372 \r\nz\r\n\" style=\"fill:#1f77b4;fill-opacity:0.75;stroke:#000000;stroke-linejoin:miter;stroke-width:0.960349;\"/>\r\n   </g>\r\n   <g id=\"matplotlib.axis_1\">\r\n    <g id=\"xtick_1\">\r\n     <g id=\"line2d_1\">\r\n      <defs>\r\n       <path d=\"M 0 0 \r\nL 0 3.5 \r\n\" id=\"m7692ef5a3c\" style=\"stroke:#000000;stroke-width:0.8;\"/>\r\n      </defs>\r\n      <g>\r\n       <use style=\"stroke:#000000;stroke-width:0.8;\" x=\"54.121382\" xlink:href=\"#m7692ef5a3c\" y=\"550.8\"/>\r\n      </g>\r\n     </g>\r\n     <g id=\"text_1\">\r\n      <!-- 0 -->\r\n      <g transform=\"translate(50.940132 565.398438)scale(0.1 -0.1)\">\r\n       <defs>\r\n        <path d=\"M 31.78125 66.40625 \r\nQ 24.171875 66.40625 20.328125 58.90625 \r\nQ 16.5 51.421875 16.5 36.375 \r\nQ 16.5 21.390625 20.328125 13.890625 \r\nQ 24.171875 6.390625 31.78125 6.390625 \r\nQ 39.453125 6.390625 43.28125 13.890625 \r\nQ 47.125 21.390625 47.125 36.375 \r\nQ 47.125 51.421875 43.28125 58.90625 \r\nQ 39.453125 66.40625 31.78125 66.40625 \r\nz\r\nM 31.78125 74.21875 \r\nQ 44.046875 74.21875 50.515625 64.515625 \r\nQ 56.984375 54.828125 56.984375 36.375 \r\nQ 56.984375 17.96875 50.515625 8.265625 \r\nQ 44.046875 -1.421875 31.78125 -1.421875 \r\nQ 19.53125 -1.421875 13.0625 8.265625 \r\nQ 6.59375 17.96875 6.59375 36.375 \r\nQ 6.59375 54.828125 13.0625 64.515625 \r\nQ 19.53125 74.21875 31.78125 74.21875 \r\nz\r\n\" id=\"DejaVuSans-48\"/>\r\n       </defs>\r\n       <use xlink:href=\"#DejaVuSans-48\"/>\r\n      </g>\r\n     </g>\r\n    </g>\r\n    <g id=\"xtick_2\">\r\n     <g id=\"line2d_2\">\r\n      <g>\r\n       <use style=\"stroke:#000000;stroke-width:0.8;\" x=\"112.499837\" xlink:href=\"#m7692ef5a3c\" y=\"550.8\"/>\r\n      </g>\r\n     </g>\r\n     <g id=\"text_2\">\r\n      <!-- 1 -->\r\n      <g transform=\"translate(109.318587 565.398438)scale(0.1 -0.1)\">\r\n       <defs>\r\n        <path d=\"M 12.40625 8.296875 \r\nL 28.515625 8.296875 \r\nL 28.515625 63.921875 \r\nL 10.984375 60.40625 \r\nL 10.984375 69.390625 \r\nL 28.421875 72.90625 \r\nL 38.28125 72.90625 \r\nL 38.28125 8.296875 \r\nL 54.390625 8.296875 \r\nL 54.390625 0 \r\nL 12.40625 0 \r\nz\r\n\" id=\"DejaVuSans-49\"/>\r\n       </defs>\r\n       <use xlink:href=\"#DejaVuSans-49\"/>\r\n      </g>\r\n     </g>\r\n    </g>\r\n    <g id=\"xtick_3\">\r\n     <g id=\"line2d_3\">\r\n      <g>\r\n       <use style=\"stroke:#000000;stroke-width:0.8;\" x=\"170.878291\" xlink:href=\"#m7692ef5a3c\" y=\"550.8\"/>\r\n      </g>\r\n     </g>\r\n     <g id=\"text_3\">\r\n      <!-- 2 -->\r\n      <g transform=\"translate(167.697041 565.398438)scale(0.1 -0.1)\">\r\n       <defs>\r\n        <path d=\"M 19.1875 8.296875 \r\nL 53.609375 8.296875 \r\nL 53.609375 0 \r\nL 7.328125 0 \r\nL 7.328125 8.296875 \r\nQ 12.9375 14.109375 22.625 23.890625 \r\nQ 32.328125 33.6875 34.8125 36.53125 \r\nQ 39.546875 41.84375 41.421875 45.53125 \r\nQ 43.3125 49.21875 43.3125 52.78125 \r\nQ 43.3125 58.59375 39.234375 62.25 \r\nQ 35.15625 65.921875 28.609375 65.921875 \r\nQ 23.96875 65.921875 18.8125 64.3125 \r\nQ 13.671875 62.703125 7.8125 59.421875 \r\nL 7.8125 69.390625 \r\nQ 13.765625 71.78125 18.9375 73 \r\nQ 24.125 74.21875 28.421875 74.21875 \r\nQ 39.75 74.21875 46.484375 68.546875 \r\nQ 53.21875 62.890625 53.21875 53.421875 \r\nQ 53.21875 48.921875 51.53125 44.890625 \r\nQ 49.859375 40.875 45.40625 35.40625 \r\nQ 44.1875 33.984375 37.640625 27.21875 \r\nQ 31.109375 20.453125 19.1875 8.296875 \r\nz\r\n\" id=\"DejaVuSans-50\"/>\r\n       </defs>\r\n       <use xlink:href=\"#DejaVuSans-50\"/>\r\n      </g>\r\n     </g>\r\n    </g>\r\n    <g id=\"xtick_4\">\r\n     <g id=\"line2d_4\">\r\n      <g>\r\n       <use style=\"stroke:#000000;stroke-width:0.8;\" x=\"229.256746\" xlink:href=\"#m7692ef5a3c\" y=\"550.8\"/>\r\n      </g>\r\n     </g>\r\n     <g id=\"text_4\">\r\n      <!-- 3 -->\r\n      <g transform=\"translate(226.075496 565.398438)scale(0.1 -0.1)\">\r\n       <defs>\r\n        <path d=\"M 40.578125 39.3125 \r\nQ 47.65625 37.796875 51.625 33 \r\nQ 55.609375 28.21875 55.609375 21.1875 \r\nQ 55.609375 10.40625 48.1875 4.484375 \r\nQ 40.765625 -1.421875 27.09375 -1.421875 \r\nQ 22.515625 -1.421875 17.65625 -0.515625 \r\nQ 12.796875 0.390625 7.625 2.203125 \r\nL 7.625 11.71875 \r\nQ 11.71875 9.328125 16.59375 8.109375 \r\nQ 21.484375 6.890625 26.8125 6.890625 \r\nQ 36.078125 6.890625 40.9375 10.546875 \r\nQ 45.796875 14.203125 45.796875 21.1875 \r\nQ 45.796875 27.640625 41.28125 31.265625 \r\nQ 36.765625 34.90625 28.71875 34.90625 \r\nL 20.21875 34.90625 \r\nL 20.21875 43.015625 \r\nL 29.109375 43.015625 \r\nQ 36.375 43.015625 40.234375 45.921875 \r\nQ 44.09375 48.828125 44.09375 54.296875 \r\nQ 44.09375 59.90625 40.109375 62.90625 \r\nQ 36.140625 65.921875 28.71875 65.921875 \r\nQ 24.65625 65.921875 20.015625 65.03125 \r\nQ 15.375 64.15625 9.8125 62.3125 \r\nL 9.8125 71.09375 \r\nQ 15.4375 72.65625 20.34375 73.4375 \r\nQ 25.25 74.21875 29.59375 74.21875 \r\nQ 40.828125 74.21875 47.359375 69.109375 \r\nQ 53.90625 64.015625 53.90625 55.328125 \r\nQ 53.90625 49.265625 50.4375 45.09375 \r\nQ 46.96875 40.921875 40.578125 39.3125 \r\nz\r\n\" id=\"DejaVuSans-51\"/>\r\n       </defs>\r\n       <use xlink:href=\"#DejaVuSans-51\"/>\r\n      </g>\r\n     </g>\r\n    </g>\r\n    <g id=\"xtick_5\">\r\n     <g id=\"line2d_5\">\r\n      <g>\r\n       <use style=\"stroke:#000000;stroke-width:0.8;\" x=\"287.635201\" xlink:href=\"#m7692ef5a3c\" y=\"550.8\"/>\r\n      </g>\r\n     </g>\r\n     <g id=\"text_5\">\r\n      <!-- 4 -->\r\n      <g transform=\"translate(284.453951 565.398438)scale(0.1 -0.1)\">\r\n       <defs>\r\n        <path d=\"M 37.796875 64.3125 \r\nL 12.890625 25.390625 \r\nL 37.796875 25.390625 \r\nz\r\nM 35.203125 72.90625 \r\nL 47.609375 72.90625 \r\nL 47.609375 25.390625 \r\nL 58.015625 25.390625 \r\nL 58.015625 17.1875 \r\nL 47.609375 17.1875 \r\nL 47.609375 0 \r\nL 37.796875 0 \r\nL 37.796875 17.1875 \r\nL 4.890625 17.1875 \r\nL 4.890625 26.703125 \r\nz\r\n\" id=\"DejaVuSans-52\"/>\r\n       </defs>\r\n       <use xlink:href=\"#DejaVuSans-52\"/>\r\n      </g>\r\n     </g>\r\n    </g>\r\n    <g id=\"xtick_6\">\r\n     <g id=\"line2d_6\">\r\n      <g>\r\n       <use style=\"stroke:#000000;stroke-width:0.8;\" x=\"346.013656\" xlink:href=\"#m7692ef5a3c\" y=\"550.8\"/>\r\n      </g>\r\n     </g>\r\n     <g id=\"text_6\">\r\n      <!-- 5 -->\r\n      <g transform=\"translate(342.832406 565.398438)scale(0.1 -0.1)\">\r\n       <defs>\r\n        <path d=\"M 10.796875 72.90625 \r\nL 49.515625 72.90625 \r\nL 49.515625 64.59375 \r\nL 19.828125 64.59375 \r\nL 19.828125 46.734375 \r\nQ 21.96875 47.46875 24.109375 47.828125 \r\nQ 26.265625 48.1875 28.421875 48.1875 \r\nQ 40.625 48.1875 47.75 41.5 \r\nQ 54.890625 34.8125 54.890625 23.390625 \r\nQ 54.890625 11.625 47.5625 5.09375 \r\nQ 40.234375 -1.421875 26.90625 -1.421875 \r\nQ 22.3125 -1.421875 17.546875 -0.640625 \r\nQ 12.796875 0.140625 7.71875 1.703125 \r\nL 7.71875 11.625 \r\nQ 12.109375 9.234375 16.796875 8.0625 \r\nQ 21.484375 6.890625 26.703125 6.890625 \r\nQ 35.15625 6.890625 40.078125 11.328125 \r\nQ 45.015625 15.765625 45.015625 23.390625 \r\nQ 45.015625 31 40.078125 35.4375 \r\nQ 35.15625 39.890625 26.703125 39.890625 \r\nQ 22.75 39.890625 18.8125 39.015625 \r\nQ 14.890625 38.140625 10.796875 36.28125 \r\nz\r\n\" id=\"DejaVuSans-53\"/>\r\n       </defs>\r\n       <use xlink:href=\"#DejaVuSans-53\"/>\r\n      </g>\r\n     </g>\r\n    </g>\r\n    <g id=\"xtick_7\">\r\n     <g id=\"line2d_7\">\r\n      <g>\r\n       <use style=\"stroke:#000000;stroke-width:0.8;\" x=\"404.392111\" xlink:href=\"#m7692ef5a3c\" y=\"550.8\"/>\r\n      </g>\r\n     </g>\r\n     <g id=\"text_7\">\r\n      <!-- 6 -->\r\n      <g transform=\"translate(401.210861 565.398438)scale(0.1 -0.1)\">\r\n       <defs>\r\n        <path d=\"M 33.015625 40.375 \r\nQ 26.375 40.375 22.484375 35.828125 \r\nQ 18.609375 31.296875 18.609375 23.390625 \r\nQ 18.609375 15.53125 22.484375 10.953125 \r\nQ 26.375 6.390625 33.015625 6.390625 \r\nQ 39.65625 6.390625 43.53125 10.953125 \r\nQ 47.40625 15.53125 47.40625 23.390625 \r\nQ 47.40625 31.296875 43.53125 35.828125 \r\nQ 39.65625 40.375 33.015625 40.375 \r\nz\r\nM 52.59375 71.296875 \r\nL 52.59375 62.3125 \r\nQ 48.875 64.0625 45.09375 64.984375 \r\nQ 41.3125 65.921875 37.59375 65.921875 \r\nQ 27.828125 65.921875 22.671875 59.328125 \r\nQ 17.53125 52.734375 16.796875 39.40625 \r\nQ 19.671875 43.65625 24.015625 45.921875 \r\nQ 28.375 48.1875 33.59375 48.1875 \r\nQ 44.578125 48.1875 50.953125 41.515625 \r\nQ 57.328125 34.859375 57.328125 23.390625 \r\nQ 57.328125 12.15625 50.6875 5.359375 \r\nQ 44.046875 -1.421875 33.015625 -1.421875 \r\nQ 20.359375 -1.421875 13.671875 8.265625 \r\nQ 6.984375 17.96875 6.984375 36.375 \r\nQ 6.984375 53.65625 15.1875 63.9375 \r\nQ 23.390625 74.21875 37.203125 74.21875 \r\nQ 40.921875 74.21875 44.703125 73.484375 \r\nQ 48.484375 72.75 52.59375 71.296875 \r\nz\r\n\" id=\"DejaVuSans-54\"/>\r\n       </defs>\r\n       <use xlink:href=\"#DejaVuSans-54\"/>\r\n      </g>\r\n     </g>\r\n    </g>\r\n    <g id=\"xtick_8\">\r\n     <g id=\"line2d_8\">\r\n      <g>\r\n       <use style=\"stroke:#000000;stroke-width:0.8;\" x=\"462.770566\" xlink:href=\"#m7692ef5a3c\" y=\"550.8\"/>\r\n      </g>\r\n     </g>\r\n     <g id=\"text_8\">\r\n      <!-- 7 -->\r\n      <g transform=\"translate(459.589316 565.398438)scale(0.1 -0.1)\">\r\n       <defs>\r\n        <path d=\"M 8.203125 72.90625 \r\nL 55.078125 72.90625 \r\nL 55.078125 68.703125 \r\nL 28.609375 0 \r\nL 18.3125 0 \r\nL 43.21875 64.59375 \r\nL 8.203125 64.59375 \r\nz\r\n\" id=\"DejaVuSans-55\"/>\r\n       </defs>\r\n       <use xlink:href=\"#DejaVuSans-55\"/>\r\n      </g>\r\n     </g>\r\n    </g>\r\n   </g>\r\n   <g id=\"matplotlib.axis_2\">\r\n    <g id=\"ytick_1\">\r\n     <g id=\"line2d_9\">\r\n      <defs>\r\n       <path d=\"M 0 0 \r\nL -3.5 0 \r\n\" id=\"m3cb55764e8\" style=\"stroke:#000000;stroke-width:0.8;\"/>\r\n      </defs>\r\n      <g>\r\n       <use style=\"stroke:#000000;stroke-width:0.8;\" x=\"46.965625\" xlink:href=\"#m3cb55764e8\" y=\"550.8\"/>\r\n      </g>\r\n     </g>\r\n     <g id=\"text_9\">\r\n      <!-- 0 -->\r\n      <g transform=\"translate(33.603125 554.599219)scale(0.1 -0.1)\">\r\n       <use xlink:href=\"#DejaVuSans-48\"/>\r\n      </g>\r\n     </g>\r\n    </g>\r\n    <g id=\"ytick_2\">\r\n     <g id=\"line2d_10\">\r\n      <g>\r\n       <use style=\"stroke:#000000;stroke-width:0.8;\" x=\"46.965625\" xlink:href=\"#m3cb55764e8\" y=\"465.3686\"/>\r\n      </g>\r\n     </g>\r\n     <g id=\"text_10\">\r\n      <!-- 50 -->\r\n      <g transform=\"translate(27.240625 469.167818)scale(0.1 -0.1)\">\r\n       <use xlink:href=\"#DejaVuSans-53\"/>\r\n       <use x=\"63.623047\" xlink:href=\"#DejaVuSans-48\"/>\r\n      </g>\r\n     </g>\r\n    </g>\r\n    <g id=\"ytick_3\">\r\n     <g id=\"line2d_11\">\r\n      <g>\r\n       <use style=\"stroke:#000000;stroke-width:0.8;\" x=\"46.965625\" xlink:href=\"#m3cb55764e8\" y=\"379.937199\"/>\r\n      </g>\r\n     </g>\r\n     <g id=\"text_11\">\r\n      <!-- 100 -->\r\n      <g transform=\"translate(20.878125 383.736418)scale(0.1 -0.1)\">\r\n       <use xlink:href=\"#DejaVuSans-49\"/>\r\n       <use x=\"63.623047\" xlink:href=\"#DejaVuSans-48\"/>\r\n       <use x=\"127.246094\" xlink:href=\"#DejaVuSans-48\"/>\r\n      </g>\r\n     </g>\r\n    </g>\r\n    <g id=\"ytick_4\">\r\n     <g id=\"line2d_12\">\r\n      <g>\r\n       <use style=\"stroke:#000000;stroke-width:0.8;\" x=\"46.965625\" xlink:href=\"#m3cb55764e8\" y=\"294.505799\"/>\r\n      </g>\r\n     </g>\r\n     <g id=\"text_12\">\r\n      <!-- 150 -->\r\n      <g transform=\"translate(20.878125 298.305018)scale(0.1 -0.1)\">\r\n       <use xlink:href=\"#DejaVuSans-49\"/>\r\n       <use x=\"63.623047\" xlink:href=\"#DejaVuSans-53\"/>\r\n       <use x=\"127.246094\" xlink:href=\"#DejaVuSans-48\"/>\r\n      </g>\r\n     </g>\r\n    </g>\r\n    <g id=\"ytick_5\">\r\n     <g id=\"line2d_13\">\r\n      <g>\r\n       <use style=\"stroke:#000000;stroke-width:0.8;\" x=\"46.965625\" xlink:href=\"#m3cb55764e8\" y=\"209.074399\"/>\r\n      </g>\r\n     </g>\r\n     <g id=\"text_13\">\r\n      <!-- 200 -->\r\n      <g transform=\"translate(20.878125 212.873618)scale(0.1 -0.1)\">\r\n       <use xlink:href=\"#DejaVuSans-50\"/>\r\n       <use x=\"63.623047\" xlink:href=\"#DejaVuSans-48\"/>\r\n       <use x=\"127.246094\" xlink:href=\"#DejaVuSans-48\"/>\r\n      </g>\r\n     </g>\r\n    </g>\r\n    <g id=\"ytick_6\">\r\n     <g id=\"line2d_14\">\r\n      <g>\r\n       <use style=\"stroke:#000000;stroke-width:0.8;\" x=\"46.965625\" xlink:href=\"#m3cb55764e8\" y=\"123.642999\"/>\r\n      </g>\r\n     </g>\r\n     <g id=\"text_14\">\r\n      <!-- 250 -->\r\n      <g transform=\"translate(20.878125 127.442217)scale(0.1 -0.1)\">\r\n       <use xlink:href=\"#DejaVuSans-50\"/>\r\n       <use x=\"63.623047\" xlink:href=\"#DejaVuSans-53\"/>\r\n       <use x=\"127.246094\" xlink:href=\"#DejaVuSans-48\"/>\r\n      </g>\r\n     </g>\r\n    </g>\r\n    <g id=\"ytick_7\">\r\n     <g id=\"line2d_15\">\r\n      <g>\r\n       <use style=\"stroke:#000000;stroke-width:0.8;\" x=\"46.965625\" xlink:href=\"#m3cb55764e8\" y=\"38.211598\"/>\r\n      </g>\r\n     </g>\r\n     <g id=\"text_15\">\r\n      <!-- 300 -->\r\n      <g transform=\"translate(20.878125 42.010817)scale(0.1 -0.1)\">\r\n       <use xlink:href=\"#DejaVuSans-51\"/>\r\n       <use x=\"63.623047\" xlink:href=\"#DejaVuSans-48\"/>\r\n       <use x=\"127.246094\" xlink:href=\"#DejaVuSans-48\"/>\r\n      </g>\r\n     </g>\r\n    </g>\r\n    <g id=\"text_16\">\r\n     <!-- Count -->\r\n     <g transform=\"translate(14.798437 293.848437)rotate(-90)scale(0.1 -0.1)\">\r\n      <defs>\r\n       <path d=\"M 64.40625 67.28125 \r\nL 64.40625 56.890625 \r\nQ 59.421875 61.53125 53.78125 63.8125 \r\nQ 48.140625 66.109375 41.796875 66.109375 \r\nQ 29.296875 66.109375 22.65625 58.46875 \r\nQ 16.015625 50.828125 16.015625 36.375 \r\nQ 16.015625 21.96875 22.65625 14.328125 \r\nQ 29.296875 6.6875 41.796875 6.6875 \r\nQ 48.140625 6.6875 53.78125 8.984375 \r\nQ 59.421875 11.28125 64.40625 15.921875 \r\nL 64.40625 5.609375 \r\nQ 59.234375 2.09375 53.4375 0.328125 \r\nQ 47.65625 -1.421875 41.21875 -1.421875 \r\nQ 24.65625 -1.421875 15.125 8.703125 \r\nQ 5.609375 18.84375 5.609375 36.375 \r\nQ 5.609375 53.953125 15.125 64.078125 \r\nQ 24.65625 74.21875 41.21875 74.21875 \r\nQ 47.75 74.21875 53.53125 72.484375 \r\nQ 59.328125 70.75 64.40625 67.28125 \r\nz\r\n\" id=\"DejaVuSans-67\"/>\r\n       <path d=\"M 30.609375 48.390625 \r\nQ 23.390625 48.390625 19.1875 42.75 \r\nQ 14.984375 37.109375 14.984375 27.296875 \r\nQ 14.984375 17.484375 19.15625 11.84375 \r\nQ 23.34375 6.203125 30.609375 6.203125 \r\nQ 37.796875 6.203125 41.984375 11.859375 \r\nQ 46.1875 17.53125 46.1875 27.296875 \r\nQ 46.1875 37.015625 41.984375 42.703125 \r\nQ 37.796875 48.390625 30.609375 48.390625 \r\nz\r\nM 30.609375 56 \r\nQ 42.328125 56 49.015625 48.375 \r\nQ 55.71875 40.765625 55.71875 27.296875 \r\nQ 55.71875 13.875 49.015625 6.21875 \r\nQ 42.328125 -1.421875 30.609375 -1.421875 \r\nQ 18.84375 -1.421875 12.171875 6.21875 \r\nQ 5.515625 13.875 5.515625 27.296875 \r\nQ 5.515625 40.765625 12.171875 48.375 \r\nQ 18.84375 56 30.609375 56 \r\nz\r\n\" id=\"DejaVuSans-111\"/>\r\n       <path d=\"M 8.5 21.578125 \r\nL 8.5 54.6875 \r\nL 17.484375 54.6875 \r\nL 17.484375 21.921875 \r\nQ 17.484375 14.15625 20.5 10.265625 \r\nQ 23.53125 6.390625 29.59375 6.390625 \r\nQ 36.859375 6.390625 41.078125 11.03125 \r\nQ 45.3125 15.671875 45.3125 23.6875 \r\nL 45.3125 54.6875 \r\nL 54.296875 54.6875 \r\nL 54.296875 0 \r\nL 45.3125 0 \r\nL 45.3125 8.40625 \r\nQ 42.046875 3.421875 37.71875 1 \r\nQ 33.40625 -1.421875 27.6875 -1.421875 \r\nQ 18.265625 -1.421875 13.375 4.4375 \r\nQ 8.5 10.296875 8.5 21.578125 \r\nz\r\nM 31.109375 56 \r\nz\r\n\" id=\"DejaVuSans-117\"/>\r\n       <path d=\"M 54.890625 33.015625 \r\nL 54.890625 0 \r\nL 45.90625 0 \r\nL 45.90625 32.71875 \r\nQ 45.90625 40.484375 42.875 44.328125 \r\nQ 39.84375 48.1875 33.796875 48.1875 \r\nQ 26.515625 48.1875 22.3125 43.546875 \r\nQ 18.109375 38.921875 18.109375 30.90625 \r\nL 18.109375 0 \r\nL 9.078125 0 \r\nL 9.078125 54.6875 \r\nL 18.109375 54.6875 \r\nL 18.109375 46.1875 \r\nQ 21.34375 51.125 25.703125 53.5625 \r\nQ 30.078125 56 35.796875 56 \r\nQ 45.21875 56 50.046875 50.171875 \r\nQ 54.890625 44.34375 54.890625 33.015625 \r\nz\r\n\" id=\"DejaVuSans-110\"/>\r\n       <path d=\"M 18.3125 70.21875 \r\nL 18.3125 54.6875 \r\nL 36.8125 54.6875 \r\nL 36.8125 47.703125 \r\nL 18.3125 47.703125 \r\nL 18.3125 18.015625 \r\nQ 18.3125 11.328125 20.140625 9.421875 \r\nQ 21.96875 7.515625 27.59375 7.515625 \r\nL 36.8125 7.515625 \r\nL 36.8125 0 \r\nL 27.59375 0 \r\nQ 17.1875 0 13.234375 3.875 \r\nQ 9.28125 7.765625 9.28125 18.015625 \r\nL 9.28125 47.703125 \r\nL 2.6875 47.703125 \r\nL 2.6875 54.6875 \r\nL 9.28125 54.6875 \r\nL 9.28125 70.21875 \r\nz\r\n\" id=\"DejaVuSans-116\"/>\r\n      </defs>\r\n      <use xlink:href=\"#DejaVuSans-67\"/>\r\n      <use x=\"69.824219\" xlink:href=\"#DejaVuSans-111\"/>\r\n      <use x=\"131.005859\" xlink:href=\"#DejaVuSans-117\"/>\r\n      <use x=\"194.384766\" xlink:href=\"#DejaVuSans-110\"/>\r\n      <use x=\"257.763672\" xlink:href=\"#DejaVuSans-116\"/>\r\n     </g>\r\n    </g>\r\n   </g>\r\n   <g id=\"patch_70\">\r\n    <path d=\"M 46.965625 550.8 \r\nL 46.965625 7.2 \r\n\" style=\"fill:none;stroke:#000000;stroke-linecap:square;stroke-linejoin:miter;stroke-width:0.8;\"/>\r\n   </g>\r\n   <g id=\"patch_71\">\r\n    <path d=\"M 493.365625 550.8 \r\nL 493.365625 7.2 \r\n\" style=\"fill:none;stroke:#000000;stroke-linecap:square;stroke-linejoin:miter;stroke-width:0.8;\"/>\r\n   </g>\r\n   <g id=\"patch_72\">\r\n    <path d=\"M 46.965625 550.8 \r\nL 493.365625 550.8 \r\n\" style=\"fill:none;stroke:#000000;stroke-linecap:square;stroke-linejoin:miter;stroke-width:0.8;\"/>\r\n   </g>\r\n   <g id=\"patch_73\">\r\n    <path d=\"M 46.965625 7.2 \r\nL 493.365625 7.2 \r\n\" style=\"fill:none;stroke:#000000;stroke-linecap:square;stroke-linejoin:miter;stroke-width:0.8;\"/>\r\n   </g>\r\n   <g id=\"legend_1\">\r\n    <g id=\"patch_74\">\r\n     <path d=\"M 407.425 44.55625 \r\nL 486.365625 44.55625 \r\nQ 488.365625 44.55625 488.365625 42.55625 \r\nL 488.365625 14.2 \r\nQ 488.365625 12.2 486.365625 12.2 \r\nL 407.425 12.2 \r\nQ 405.425 12.2 405.425 14.2 \r\nL 405.425 42.55625 \r\nQ 405.425 44.55625 407.425 44.55625 \r\nz\r\n\" style=\"fill:#ffffff;opacity:0.8;stroke:#cccccc;stroke-linejoin:miter;\"/>\r\n    </g>\r\n    <g id=\"patch_75\">\r\n     <path d=\"M 409.425 23.798437 \r\nL 429.425 23.798437 \r\nL 429.425 16.798437 \r\nL 409.425 16.798437 \r\nz\r\n\" style=\"fill:#1f77b4;fill-opacity:0.75;stroke:#000000;stroke-linejoin:miter;\"/>\r\n    </g>\r\n    <g id=\"text_17\">\r\n     <!-- Actual -->\r\n     <g transform=\"translate(437.425 23.798437)scale(0.1 -0.1)\">\r\n      <defs>\r\n       <path d=\"M 34.1875 63.1875 \r\nL 20.796875 26.90625 \r\nL 47.609375 26.90625 \r\nz\r\nM 28.609375 72.90625 \r\nL 39.796875 72.90625 \r\nL 67.578125 0 \r\nL 57.328125 0 \r\nL 50.6875 18.703125 \r\nL 17.828125 18.703125 \r\nL 11.1875 0 \r\nL 0.78125 0 \r\nz\r\n\" id=\"DejaVuSans-65\"/>\r\n       <path d=\"M 48.78125 52.59375 \r\nL 48.78125 44.1875 \r\nQ 44.96875 46.296875 41.140625 47.34375 \r\nQ 37.3125 48.390625 33.40625 48.390625 \r\nQ 24.65625 48.390625 19.8125 42.84375 \r\nQ 14.984375 37.3125 14.984375 27.296875 \r\nQ 14.984375 17.28125 19.8125 11.734375 \r\nQ 24.65625 6.203125 33.40625 6.203125 \r\nQ 37.3125 6.203125 41.140625 7.25 \r\nQ 44.96875 8.296875 48.78125 10.40625 \r\nL 48.78125 2.09375 \r\nQ 45.015625 0.34375 40.984375 -0.53125 \r\nQ 36.96875 -1.421875 32.421875 -1.421875 \r\nQ 20.0625 -1.421875 12.78125 6.34375 \r\nQ 5.515625 14.109375 5.515625 27.296875 \r\nQ 5.515625 40.671875 12.859375 48.328125 \r\nQ 20.21875 56 33.015625 56 \r\nQ 37.15625 56 41.109375 55.140625 \r\nQ 45.0625 54.296875 48.78125 52.59375 \r\nz\r\n\" id=\"DejaVuSans-99\"/>\r\n       <path d=\"M 34.28125 27.484375 \r\nQ 23.390625 27.484375 19.1875 25 \r\nQ 14.984375 22.515625 14.984375 16.5 \r\nQ 14.984375 11.71875 18.140625 8.90625 \r\nQ 21.296875 6.109375 26.703125 6.109375 \r\nQ 34.1875 6.109375 38.703125 11.40625 \r\nQ 43.21875 16.703125 43.21875 25.484375 \r\nL 43.21875 27.484375 \r\nz\r\nM 52.203125 31.203125 \r\nL 52.203125 0 \r\nL 43.21875 0 \r\nL 43.21875 8.296875 \r\nQ 40.140625 3.328125 35.546875 0.953125 \r\nQ 30.953125 -1.421875 24.3125 -1.421875 \r\nQ 15.921875 -1.421875 10.953125 3.296875 \r\nQ 6 8.015625 6 15.921875 \r\nQ 6 25.140625 12.171875 29.828125 \r\nQ 18.359375 34.515625 30.609375 34.515625 \r\nL 43.21875 34.515625 \r\nL 43.21875 35.40625 \r\nQ 43.21875 41.609375 39.140625 45 \r\nQ 35.0625 48.390625 27.6875 48.390625 \r\nQ 23 48.390625 18.546875 47.265625 \r\nQ 14.109375 46.140625 10.015625 43.890625 \r\nL 10.015625 52.203125 \r\nQ 14.9375 54.109375 19.578125 55.046875 \r\nQ 24.21875 56 28.609375 56 \r\nQ 40.484375 56 46.34375 49.84375 \r\nQ 52.203125 43.703125 52.203125 31.203125 \r\nz\r\n\" id=\"DejaVuSans-97\"/>\r\n       <path d=\"M 9.421875 75.984375 \r\nL 18.40625 75.984375 \r\nL 18.40625 0 \r\nL 9.421875 0 \r\nz\r\n\" id=\"DejaVuSans-108\"/>\r\n      </defs>\r\n      <use xlink:href=\"#DejaVuSans-65\"/>\r\n      <use x=\"66.658203\" xlink:href=\"#DejaVuSans-99\"/>\r\n      <use x=\"121.638672\" xlink:href=\"#DejaVuSans-116\"/>\r\n      <use x=\"160.847656\" xlink:href=\"#DejaVuSans-117\"/>\r\n      <use x=\"224.226562\" xlink:href=\"#DejaVuSans-97\"/>\r\n      <use x=\"285.505859\" xlink:href=\"#DejaVuSans-108\"/>\r\n     </g>\r\n    </g>\r\n    <g id=\"patch_76\">\r\n     <path d=\"M 409.425 38.476562 \r\nL 429.425 38.476562 \r\nL 429.425 31.476562 \r\nL 409.425 31.476562 \r\nz\r\n\" style=\"fill:#1f77b4;fill-opacity:0.75;stroke:#000000;stroke-linejoin:miter;stroke-width:0.960349;\"/>\r\n    </g>\r\n    <g id=\"text_18\">\r\n     <!-- Predicted -->\r\n     <g transform=\"translate(437.425 38.476562)scale(0.1 -0.1)\">\r\n      <defs>\r\n       <path d=\"M 19.671875 64.796875 \r\nL 19.671875 37.40625 \r\nL 32.078125 37.40625 \r\nQ 38.96875 37.40625 42.71875 40.96875 \r\nQ 46.484375 44.53125 46.484375 51.125 \r\nQ 46.484375 57.671875 42.71875 61.234375 \r\nQ 38.96875 64.796875 32.078125 64.796875 \r\nz\r\nM 9.8125 72.90625 \r\nL 32.078125 72.90625 \r\nQ 44.34375 72.90625 50.609375 67.359375 \r\nQ 56.890625 61.8125 56.890625 51.125 \r\nQ 56.890625 40.328125 50.609375 34.8125 \r\nQ 44.34375 29.296875 32.078125 29.296875 \r\nL 19.671875 29.296875 \r\nL 19.671875 0 \r\nL 9.8125 0 \r\nz\r\n\" id=\"DejaVuSans-80\"/>\r\n       <path d=\"M 41.109375 46.296875 \r\nQ 39.59375 47.171875 37.8125 47.578125 \r\nQ 36.03125 48 33.890625 48 \r\nQ 26.265625 48 22.1875 43.046875 \r\nQ 18.109375 38.09375 18.109375 28.8125 \r\nL 18.109375 0 \r\nL 9.078125 0 \r\nL 9.078125 54.6875 \r\nL 18.109375 54.6875 \r\nL 18.109375 46.1875 \r\nQ 20.953125 51.171875 25.484375 53.578125 \r\nQ 30.03125 56 36.53125 56 \r\nQ 37.453125 56 38.578125 55.875 \r\nQ 39.703125 55.765625 41.0625 55.515625 \r\nz\r\n\" id=\"DejaVuSans-114\"/>\r\n       <path d=\"M 56.203125 29.59375 \r\nL 56.203125 25.203125 \r\nL 14.890625 25.203125 \r\nQ 15.484375 15.921875 20.484375 11.0625 \r\nQ 25.484375 6.203125 34.421875 6.203125 \r\nQ 39.59375 6.203125 44.453125 7.46875 \r\nQ 49.3125 8.734375 54.109375 11.28125 \r\nL 54.109375 2.78125 \r\nQ 49.265625 0.734375 44.1875 -0.34375 \r\nQ 39.109375 -1.421875 33.890625 -1.421875 \r\nQ 20.796875 -1.421875 13.15625 6.1875 \r\nQ 5.515625 13.8125 5.515625 26.8125 \r\nQ 5.515625 40.234375 12.765625 48.109375 \r\nQ 20.015625 56 32.328125 56 \r\nQ 43.359375 56 49.78125 48.890625 \r\nQ 56.203125 41.796875 56.203125 29.59375 \r\nz\r\nM 47.21875 32.234375 \r\nQ 47.125 39.59375 43.09375 43.984375 \r\nQ 39.0625 48.390625 32.421875 48.390625 \r\nQ 24.90625 48.390625 20.390625 44.140625 \r\nQ 15.875 39.890625 15.1875 32.171875 \r\nz\r\n\" id=\"DejaVuSans-101\"/>\r\n       <path d=\"M 45.40625 46.390625 \r\nL 45.40625 75.984375 \r\nL 54.390625 75.984375 \r\nL 54.390625 0 \r\nL 45.40625 0 \r\nL 45.40625 8.203125 \r\nQ 42.578125 3.328125 38.25 0.953125 \r\nQ 33.9375 -1.421875 27.875 -1.421875 \r\nQ 17.96875 -1.421875 11.734375 6.484375 \r\nQ 5.515625 14.40625 5.515625 27.296875 \r\nQ 5.515625 40.1875 11.734375 48.09375 \r\nQ 17.96875 56 27.875 56 \r\nQ 33.9375 56 38.25 53.625 \r\nQ 42.578125 51.265625 45.40625 46.390625 \r\nz\r\nM 14.796875 27.296875 \r\nQ 14.796875 17.390625 18.875 11.75 \r\nQ 22.953125 6.109375 30.078125 6.109375 \r\nQ 37.203125 6.109375 41.296875 11.75 \r\nQ 45.40625 17.390625 45.40625 27.296875 \r\nQ 45.40625 37.203125 41.296875 42.84375 \r\nQ 37.203125 48.484375 30.078125 48.484375 \r\nQ 22.953125 48.484375 18.875 42.84375 \r\nQ 14.796875 37.203125 14.796875 27.296875 \r\nz\r\n\" id=\"DejaVuSans-100\"/>\r\n       <path d=\"M 9.421875 54.6875 \r\nL 18.40625 54.6875 \r\nL 18.40625 0 \r\nL 9.421875 0 \r\nz\r\nM 9.421875 75.984375 \r\nL 18.40625 75.984375 \r\nL 18.40625 64.59375 \r\nL 9.421875 64.59375 \r\nz\r\n\" id=\"DejaVuSans-105\"/>\r\n      </defs>\r\n      <use xlink:href=\"#DejaVuSans-80\"/>\r\n      <use x=\"58.552734\" xlink:href=\"#DejaVuSans-114\"/>\r\n      <use x=\"97.416016\" xlink:href=\"#DejaVuSans-101\"/>\r\n      <use x=\"158.939453\" xlink:href=\"#DejaVuSans-100\"/>\r\n      <use x=\"222.416016\" xlink:href=\"#DejaVuSans-105\"/>\r\n      <use x=\"250.199219\" xlink:href=\"#DejaVuSans-99\"/>\r\n      <use x=\"305.179688\" xlink:href=\"#DejaVuSans-116\"/>\r\n      <use x=\"344.388672\" xlink:href=\"#DejaVuSans-101\"/>\r\n      <use x=\"405.912109\" xlink:href=\"#DejaVuSans-100\"/>\r\n     </g>\r\n    </g>\r\n   </g>\r\n  </g>\r\n </g>\r\n <defs>\r\n  <clipPath id=\"p23249bce59\">\r\n   <rect height=\"543.6\" width=\"446.4\" x=\"46.965625\" y=\"7.2\"/>\r\n  </clipPath>\r\n </defs>\r\n</svg>\r\n",
      "image/png": "[encoded data removed]"
     },
     "metadata": {
      "needs_background": "light"
     }
    }
   ],
   "source": [
    "y_pred = best_model.predict(x_valid_reg)\n",
    "fig,ax_best = plt.subplots(1,1,figsize = (8,10))\n",
    "sns.histplot(y_valid_reg, ax = ax_best, label = 'Actual')\n",
    "sns.histplot(y_pred, ax = ax_best, label = \"Predicted\")\n",
    "ax_best.legend()"
   ]
  },
  {
   "cell_type": "code",
   "execution_count": 81,
   "metadata": {},
   "outputs": [
    {
     "output_type": "execute_result",
     "data": {
      "text/plain": [
       "       loss  val_loss\n",
       "0  0.749101  0.565843\n",
       "1  0.516577  0.464196\n",
       "2  0.439561  0.423527\n",
       "3  0.416545  0.421457\n",
       "4  0.405481  0.415570\n",
       "5  0.398528  0.398936\n",
       "6  0.384862  0.410111\n",
       "7  0.367804  0.380877\n",
       "8  0.360016  0.377216\n",
       "9  0.350841  0.362288"
      ],
      "text/html": "<div>\n<style scoped>\n    .dataframe tbody tr th:only-of-type {\n        vertical-align: middle;\n    }\n\n    .dataframe tbody tr th {\n        vertical-align: top;\n    }\n\n    .dataframe thead th {\n        text-align: right;\n    }\n</style>\n<table border=\"1\" class=\"dataframe\">\n  <thead>\n    <tr style=\"text-align: right;\">\n      <th></th>\n      <th>loss</th>\n      <th>val_loss</th>\n    </tr>\n  </thead>\n  <tbody>\n    <tr>\n      <th>0</th>\n      <td>0.749101</td>\n      <td>0.565843</td>\n    </tr>\n    <tr>\n      <th>1</th>\n      <td>0.516577</td>\n      <td>0.464196</td>\n    </tr>\n    <tr>\n      <th>2</th>\n      <td>0.439561</td>\n      <td>0.423527</td>\n    </tr>\n    <tr>\n      <th>3</th>\n      <td>0.416545</td>\n      <td>0.421457</td>\n    </tr>\n    <tr>\n      <th>4</th>\n      <td>0.405481</td>\n      <td>0.415570</td>\n    </tr>\n    <tr>\n      <th>5</th>\n      <td>0.398528</td>\n      <td>0.398936</td>\n    </tr>\n    <tr>\n      <th>6</th>\n      <td>0.384862</td>\n      <td>0.410111</td>\n    </tr>\n    <tr>\n      <th>7</th>\n      <td>0.367804</td>\n      <td>0.380877</td>\n    </tr>\n    <tr>\n      <th>8</th>\n      <td>0.360016</td>\n      <td>0.377216</td>\n    </tr>\n    <tr>\n      <th>9</th>\n      <td>0.350841</td>\n      <td>0.362288</td>\n    </tr>\n  </tbody>\n</table>\n</div>"
     },
     "metadata": {},
     "execution_count": 81
    }
   ],
   "source": [
    "df_best_model = pd.DataFrame(data = history_best_model.history)\n",
    "df_best_model"
   ]
  },
  {
   "source": [
    "With Randomized Search CV, when there is a very large parameter space, this approach will only explore a tiny portion of the hyperparameter space.      \n",
    "\n",
    "To overcome this, first run a quick random search using wide ranges of hyperparameter values, then run another search using smaller range of values centered on the best ones found during the first run. "
   ],
   "cell_type": "markdown",
   "metadata": {}
  },
  {
   "source": [
    "<h2>General Guidelines When Hyperparameter Tuning</h2>\n",
    "\n",
    "\n",
    "- Number of Hidden Layers\n",
    "\n",
    "Deep neural networks have a much higher parameter efficiency than shallow nets, allowing them to model complex functions using exponentially fewer neurons than shallow nets. \n",
    "\n",
    "Lower hidden layers tend to model low-level structures, intermediate hidden layers combine these low level strutures to model intermediate level structures and the higher hidden layers and the output layer combine these intermediate structures to model high level structures. \n",
    "\n",
    "For example, if you have already trained a model to recognize faces in pictures, and you now want to train a new neural network to recognize hairstyles, then you can kickstart training by reusing the lower layers of the first network.\n",
    "\n",
    "Using the lower layers of a previously built neural network, and attaching new layers to it, so that we can make the network to learn higher level structures using the deeper newer layers. This is called transfer learning. \n",
    "\n",
    "\n",
    "<h2> Learning Rate </h2> \n",
    "\n",
    "- The most important hyperparameter. The optimal learning rate is about half the maximum learning rate(rate at which the algorithm diverges). A simple approach is to start with a large value which makes the algorithm diverge. Divide this by 3 and try again. Repeat until algorithm stops diverging. \n",
    "\n",
    "- Choose a better optimizer.\n",
    "\n",
    "\n",
    "\n",
    "\n",
    "\n",
    "\n"
   ],
   "cell_type": "markdown",
   "metadata": {}
  }
 ]
}