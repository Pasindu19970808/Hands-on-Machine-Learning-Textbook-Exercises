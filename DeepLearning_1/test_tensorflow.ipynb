{
 "metadata": {
  "language_info": {
   "codemirror_mode": {
    "name": "ipython",
    "version": 3
   },
   "file_extension": ".py",
   "mimetype": "text/x-python",
   "name": "python",
   "nbconvert_exporter": "python",
   "pygments_lexer": "ipython3",
   "version": "3.8.8-final"
  },
  "orig_nbformat": 2,
  "kernelspec": {
   "name": "python3",
   "display_name": "Python 3.8.8 64-bit",
   "metadata": {
    "interpreter": {
     "hash": "965ba1120b0c101b3f715b6e258a73742ec1cf86f2c8b04492724c87d9f112c3"
    }
   }
  }
 },
 "nbformat": 4,
 "nbformat_minor": 2,
 "cells": [
  {
   "cell_type": "code",
   "execution_count": 1,
   "metadata": {},
   "outputs": [],
   "source": [
    "import tensorflow as tf\n",
    "from tensorflow import keras"
   ]
  },
  {
   "cell_type": "code",
   "execution_count": 2,
   "metadata": {},
   "outputs": [],
   "source": [
    "fashion_mnist = keras.datasets.fashion_mnist\n",
    "(X_train_full, y_train_full),(X_test, y_test) = fashion_mnist.load_data()"
   ]
  },
  {
   "cell_type": "code",
   "execution_count": 3,
   "metadata": {},
   "outputs": [],
   "source": [
    "import matplotlib as mpl\n",
    "import matplotlib.pyplot as plt"
   ]
  },
  {
   "cell_type": "code",
   "execution_count": 4,
   "metadata": {},
   "outputs": [
    {
     "output_type": "execute_result",
     "data": {
      "text/plain": [
       "<matplotlib.image.AxesImage at 0x23dda19d820>"
      ]
     },
     "metadata": {},
     "execution_count": 4
    },
    {
     "output_type": "display_data",
     "data": {
      "text/plain": "<Figure size 432x288 with 1 Axes>",
      "image/svg+xml": "<?xml version=\"1.0\" encoding=\"utf-8\" standalone=\"no\"?>\r\n<!DOCTYPE svg PUBLIC \"-//W3C//DTD SVG 1.1//EN\"\r\n  \"http://www.w3.org/Graphics/SVG/1.1/DTD/svg11.dtd\">\r\n<!-- Created with matplotlib (https://matplotlib.org/) -->\r\n<svg height=\"248.518125pt\" version=\"1.1\" viewBox=\"0 0 251.565 248.518125\" width=\"251.565pt\" xmlns=\"http://www.w3.org/2000/svg\" xmlns:xlink=\"http://www.w3.org/1999/xlink\">\r\n <metadata>\r\n  <rdf:RDF xmlns:cc=\"http://creativecommons.org/ns#\" xmlns:dc=\"http://purl.org/dc/elements/1.1/\" xmlns:rdf=\"http://www.w3.org/1999/02/22-rdf-syntax-ns#\">\r\n   <cc:Work>\r\n    <dc:type rdf:resource=\"http://purl.org/dc/dcmitype/StillImage\"/>\r\n    <dc:date>2021-04-01T07:26:50.299326</dc:date>\r\n    <dc:format>image/svg+xml</dc:format>\r\n    <dc:creator>\r\n     <cc:Agent>\r\n      <dc:title>Matplotlib v3.3.4, https://matplotlib.org/</dc:title>\r\n     </cc:Agent>\r\n    </dc:creator>\r\n   </cc:Work>\r\n  </rdf:RDF>\r\n </metadata>\r\n <defs>\r\n  <style type=\"text/css\">*{stroke-linecap:butt;stroke-linejoin:round;}</style>\r\n </defs>\r\n <g id=\"figure_1\">\r\n  <g id=\"patch_1\">\r\n   <path d=\"M 0 248.518125 \r\nL 251.565 248.518125 \r\nL 251.565 0 \r\nL 0 0 \r\nz\r\n\" style=\"fill:none;\"/>\r\n  </g>\r\n  <g id=\"axes_1\">\r\n   <g id=\"patch_2\">\r\n    <path d=\"M 26.925 224.64 \r\nL 244.365 224.64 \r\nL 244.365 7.2 \r\nL 26.925 7.2 \r\nz\r\n\" style=\"fill:#ffffff;\"/>\r\n   </g>\r\n   <g clip-path=\"url(#p75ebc70953)\">\r\n    <image height=\"218\" id=\"imagef1fc1a524f\" transform=\"scale(1 -1)translate(0 -218)\" width=\"218\" x=\"26.925\" xlink:href=\"data:image/png;base64,\r\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\" y=\"-6.64\"/>\r\n   </g>\r\n   <g id=\"matplotlib.axis_1\">\r\n    <g id=\"xtick_1\">\r\n     <g id=\"line2d_1\">\r\n      <defs>\r\n       <path d=\"M 0 0 \r\nL 0 3.5 \r\n\" id=\"m2f2786088d\" style=\"stroke:#000000;stroke-width:0.8;\"/>\r\n      </defs>\r\n      <g>\r\n       <use style=\"stroke:#000000;stroke-width:0.8;\" x=\"30.807857\" xlink:href=\"#m2f2786088d\" y=\"224.64\"/>\r\n      </g>\r\n     </g>\r\n     <g id=\"text_1\">\r\n      <!-- 0 -->\r\n      <g transform=\"translate(27.626607 239.238437)scale(0.1 -0.1)\">\r\n       <defs>\r\n        <path d=\"M 31.78125 66.40625 \r\nQ 24.171875 66.40625 20.328125 58.90625 \r\nQ 16.5 51.421875 16.5 36.375 \r\nQ 16.5 21.390625 20.328125 13.890625 \r\nQ 24.171875 6.390625 31.78125 6.390625 \r\nQ 39.453125 6.390625 43.28125 13.890625 \r\nQ 47.125 21.390625 47.125 36.375 \r\nQ 47.125 51.421875 43.28125 58.90625 \r\nQ 39.453125 66.40625 31.78125 66.40625 \r\nz\r\nM 31.78125 74.21875 \r\nQ 44.046875 74.21875 50.515625 64.515625 \r\nQ 56.984375 54.828125 56.984375 36.375 \r\nQ 56.984375 17.96875 50.515625 8.265625 \r\nQ 44.046875 -1.421875 31.78125 -1.421875 \r\nQ 19.53125 -1.421875 13.0625 8.265625 \r\nQ 6.59375 17.96875 6.59375 36.375 \r\nQ 6.59375 54.828125 13.0625 64.515625 \r\nQ 19.53125 74.21875 31.78125 74.21875 \r\nz\r\n\" id=\"DejaVuSans-48\"/>\r\n       </defs>\r\n       <use xlink:href=\"#DejaVuSans-48\"/>\r\n      </g>\r\n     </g>\r\n    </g>\r\n    <g id=\"xtick_2\">\r\n     <g id=\"line2d_2\">\r\n      <g>\r\n       <use style=\"stroke:#000000;stroke-width:0.8;\" x=\"69.636429\" xlink:href=\"#m2f2786088d\" y=\"224.64\"/>\r\n      </g>\r\n     </g>\r\n     <g id=\"text_2\">\r\n      <!-- 5 -->\r\n      <g transform=\"translate(66.455179 239.238437)scale(0.1 -0.1)\">\r\n       <defs>\r\n        <path d=\"M 10.796875 72.90625 \r\nL 49.515625 72.90625 \r\nL 49.515625 64.59375 \r\nL 19.828125 64.59375 \r\nL 19.828125 46.734375 \r\nQ 21.96875 47.46875 24.109375 47.828125 \r\nQ 26.265625 48.1875 28.421875 48.1875 \r\nQ 40.625 48.1875 47.75 41.5 \r\nQ 54.890625 34.8125 54.890625 23.390625 \r\nQ 54.890625 11.625 47.5625 5.09375 \r\nQ 40.234375 -1.421875 26.90625 -1.421875 \r\nQ 22.3125 -1.421875 17.546875 -0.640625 \r\nQ 12.796875 0.140625 7.71875 1.703125 \r\nL 7.71875 11.625 \r\nQ 12.109375 9.234375 16.796875 8.0625 \r\nQ 21.484375 6.890625 26.703125 6.890625 \r\nQ 35.15625 6.890625 40.078125 11.328125 \r\nQ 45.015625 15.765625 45.015625 23.390625 \r\nQ 45.015625 31 40.078125 35.4375 \r\nQ 35.15625 39.890625 26.703125 39.890625 \r\nQ 22.75 39.890625 18.8125 39.015625 \r\nQ 14.890625 38.140625 10.796875 36.28125 \r\nz\r\n\" id=\"DejaVuSans-53\"/>\r\n       </defs>\r\n       <use xlink:href=\"#DejaVuSans-53\"/>\r\n      </g>\r\n     </g>\r\n    </g>\r\n    <g id=\"xtick_3\">\r\n     <g id=\"line2d_3\">\r\n      <g>\r\n       <use style=\"stroke:#000000;stroke-width:0.8;\" x=\"108.465\" xlink:href=\"#m2f2786088d\" y=\"224.64\"/>\r\n      </g>\r\n     </g>\r\n     <g id=\"text_3\">\r\n      <!-- 10 -->\r\n      <g transform=\"translate(102.1025 239.238437)scale(0.1 -0.1)\">\r\n       <defs>\r\n        <path d=\"M 12.40625 8.296875 \r\nL 28.515625 8.296875 \r\nL 28.515625 63.921875 \r\nL 10.984375 60.40625 \r\nL 10.984375 69.390625 \r\nL 28.421875 72.90625 \r\nL 38.28125 72.90625 \r\nL 38.28125 8.296875 \r\nL 54.390625 8.296875 \r\nL 54.390625 0 \r\nL 12.40625 0 \r\nz\r\n\" id=\"DejaVuSans-49\"/>\r\n       </defs>\r\n       <use xlink:href=\"#DejaVuSans-49\"/>\r\n       <use x=\"63.623047\" xlink:href=\"#DejaVuSans-48\"/>\r\n      </g>\r\n     </g>\r\n    </g>\r\n    <g id=\"xtick_4\">\r\n     <g id=\"line2d_4\">\r\n      <g>\r\n       <use style=\"stroke:#000000;stroke-width:0.8;\" x=\"147.293571\" xlink:href=\"#m2f2786088d\" y=\"224.64\"/>\r\n      </g>\r\n     </g>\r\n     <g id=\"text_4\">\r\n      <!-- 15 -->\r\n      <g transform=\"translate(140.931071 239.238437)scale(0.1 -0.1)\">\r\n       <use xlink:href=\"#DejaVuSans-49\"/>\r\n       <use x=\"63.623047\" xlink:href=\"#DejaVuSans-53\"/>\r\n      </g>\r\n     </g>\r\n    </g>\r\n    <g id=\"xtick_5\">\r\n     <g id=\"line2d_5\">\r\n      <g>\r\n       <use style=\"stroke:#000000;stroke-width:0.8;\" x=\"186.122143\" xlink:href=\"#m2f2786088d\" y=\"224.64\"/>\r\n      </g>\r\n     </g>\r\n     <g id=\"text_5\">\r\n      <!-- 20 -->\r\n      <g transform=\"translate(179.759643 239.238437)scale(0.1 -0.1)\">\r\n       <defs>\r\n        <path d=\"M 19.1875 8.296875 \r\nL 53.609375 8.296875 \r\nL 53.609375 0 \r\nL 7.328125 0 \r\nL 7.328125 8.296875 \r\nQ 12.9375 14.109375 22.625 23.890625 \r\nQ 32.328125 33.6875 34.8125 36.53125 \r\nQ 39.546875 41.84375 41.421875 45.53125 \r\nQ 43.3125 49.21875 43.3125 52.78125 \r\nQ 43.3125 58.59375 39.234375 62.25 \r\nQ 35.15625 65.921875 28.609375 65.921875 \r\nQ 23.96875 65.921875 18.8125 64.3125 \r\nQ 13.671875 62.703125 7.8125 59.421875 \r\nL 7.8125 69.390625 \r\nQ 13.765625 71.78125 18.9375 73 \r\nQ 24.125 74.21875 28.421875 74.21875 \r\nQ 39.75 74.21875 46.484375 68.546875 \r\nQ 53.21875 62.890625 53.21875 53.421875 \r\nQ 53.21875 48.921875 51.53125 44.890625 \r\nQ 49.859375 40.875 45.40625 35.40625 \r\nQ 44.1875 33.984375 37.640625 27.21875 \r\nQ 31.109375 20.453125 19.1875 8.296875 \r\nz\r\n\" id=\"DejaVuSans-50\"/>\r\n       </defs>\r\n       <use xlink:href=\"#DejaVuSans-50\"/>\r\n       <use x=\"63.623047\" xlink:href=\"#DejaVuSans-48\"/>\r\n      </g>\r\n     </g>\r\n    </g>\r\n    <g id=\"xtick_6\">\r\n     <g id=\"line2d_6\">\r\n      <g>\r\n       <use style=\"stroke:#000000;stroke-width:0.8;\" x=\"224.950714\" xlink:href=\"#m2f2786088d\" y=\"224.64\"/>\r\n      </g>\r\n     </g>\r\n     <g id=\"text_6\">\r\n      <!-- 25 -->\r\n      <g transform=\"translate(218.588214 239.238437)scale(0.1 -0.1)\">\r\n       <use xlink:href=\"#DejaVuSans-50\"/>\r\n       <use x=\"63.623047\" xlink:href=\"#DejaVuSans-53\"/>\r\n      </g>\r\n     </g>\r\n    </g>\r\n   </g>\r\n   <g id=\"matplotlib.axis_2\">\r\n    <g id=\"ytick_1\">\r\n     <g id=\"line2d_7\">\r\n      <defs>\r\n       <path d=\"M 0 0 \r\nL -3.5 0 \r\n\" id=\"me7880faef3\" style=\"stroke:#000000;stroke-width:0.8;\"/>\r\n      </defs>\r\n      <g>\r\n       <use style=\"stroke:#000000;stroke-width:0.8;\" x=\"26.925\" xlink:href=\"#me7880faef3\" y=\"11.082857\"/>\r\n      </g>\r\n     </g>\r\n     <g id=\"text_7\">\r\n      <!-- 0 -->\r\n      <g transform=\"translate(13.5625 14.882076)scale(0.1 -0.1)\">\r\n       <use xlink:href=\"#DejaVuSans-48\"/>\r\n      </g>\r\n     </g>\r\n    </g>\r\n    <g id=\"ytick_2\">\r\n     <g id=\"line2d_8\">\r\n      <g>\r\n       <use style=\"stroke:#000000;stroke-width:0.8;\" x=\"26.925\" xlink:href=\"#me7880faef3\" y=\"49.911429\"/>\r\n      </g>\r\n     </g>\r\n     <g id=\"text_8\">\r\n      <!-- 5 -->\r\n      <g transform=\"translate(13.5625 53.710647)scale(0.1 -0.1)\">\r\n       <use xlink:href=\"#DejaVuSans-53\"/>\r\n      </g>\r\n     </g>\r\n    </g>\r\n    <g id=\"ytick_3\">\r\n     <g id=\"line2d_9\">\r\n      <g>\r\n       <use style=\"stroke:#000000;stroke-width:0.8;\" x=\"26.925\" xlink:href=\"#me7880faef3\" y=\"88.74\"/>\r\n      </g>\r\n     </g>\r\n     <g id=\"text_9\">\r\n      <!-- 10 -->\r\n      <g transform=\"translate(7.2 92.539219)scale(0.1 -0.1)\">\r\n       <use xlink:href=\"#DejaVuSans-49\"/>\r\n       <use x=\"63.623047\" xlink:href=\"#DejaVuSans-48\"/>\r\n      </g>\r\n     </g>\r\n    </g>\r\n    <g id=\"ytick_4\">\r\n     <g id=\"line2d_10\">\r\n      <g>\r\n       <use style=\"stroke:#000000;stroke-width:0.8;\" x=\"26.925\" xlink:href=\"#me7880faef3\" y=\"127.568571\"/>\r\n      </g>\r\n     </g>\r\n     <g id=\"text_10\">\r\n      <!-- 15 -->\r\n      <g transform=\"translate(7.2 131.36779)scale(0.1 -0.1)\">\r\n       <use xlink:href=\"#DejaVuSans-49\"/>\r\n       <use x=\"63.623047\" xlink:href=\"#DejaVuSans-53\"/>\r\n      </g>\r\n     </g>\r\n    </g>\r\n    <g id=\"ytick_5\">\r\n     <g id=\"line2d_11\">\r\n      <g>\r\n       <use style=\"stroke:#000000;stroke-width:0.8;\" x=\"26.925\" xlink:href=\"#me7880faef3\" y=\"166.397143\"/>\r\n      </g>\r\n     </g>\r\n     <g id=\"text_11\">\r\n      <!-- 20 -->\r\n      <g transform=\"translate(7.2 170.196362)scale(0.1 -0.1)\">\r\n       <use xlink:href=\"#DejaVuSans-50\"/>\r\n       <use x=\"63.623047\" xlink:href=\"#DejaVuSans-48\"/>\r\n      </g>\r\n     </g>\r\n    </g>\r\n    <g id=\"ytick_6\">\r\n     <g id=\"line2d_12\">\r\n      <g>\r\n       <use style=\"stroke:#000000;stroke-width:0.8;\" x=\"26.925\" xlink:href=\"#me7880faef3\" y=\"205.225714\"/>\r\n      </g>\r\n     </g>\r\n     <g id=\"text_12\">\r\n      <!-- 25 -->\r\n      <g transform=\"translate(7.2 209.024933)scale(0.1 -0.1)\">\r\n       <use xlink:href=\"#DejaVuSans-50\"/>\r\n       <use x=\"63.623047\" xlink:href=\"#DejaVuSans-53\"/>\r\n      </g>\r\n     </g>\r\n    </g>\r\n   </g>\r\n   <g id=\"patch_3\">\r\n    <path d=\"M 26.925 224.64 \r\nL 26.925 7.2 \r\n\" style=\"fill:none;stroke:#000000;stroke-linecap:square;stroke-linejoin:miter;stroke-width:0.8;\"/>\r\n   </g>\r\n   <g id=\"patch_4\">\r\n    <path d=\"M 244.365 224.64 \r\nL 244.365 7.2 \r\n\" style=\"fill:none;stroke:#000000;stroke-linecap:square;stroke-linejoin:miter;stroke-width:0.8;\"/>\r\n   </g>\r\n   <g id=\"patch_5\">\r\n    <path d=\"M 26.925 224.64 \r\nL 244.365 224.64 \r\n\" style=\"fill:none;stroke:#000000;stroke-linecap:square;stroke-linejoin:miter;stroke-width:0.8;\"/>\r\n   </g>\r\n   <g id=\"patch_6\">\r\n    <path d=\"M 26.925 7.2 \r\nL 244.365 7.2 \r\n\" style=\"fill:none;stroke:#000000;stroke-linecap:square;stroke-linejoin:miter;stroke-width:0.8;\"/>\r\n   </g>\r\n  </g>\r\n </g>\r\n <defs>\r\n  <clipPath id=\"p75ebc70953\">\r\n   <rect height=\"217.44\" width=\"217.44\" x=\"26.925\" y=\"7.2\"/>\r\n  </clipPath>\r\n </defs>\r\n</svg>\r\n",
      "image/png": "[encoded data removed]"
     },
     "metadata": {
      "needs_background": "light"
     }
    }
   ],
   "source": [
    "plt.imshow(X_train_full[5,:].reshape(28,28))"
   ]
  },
  {
   "cell_type": "code",
   "execution_count": 5,
   "metadata": {},
   "outputs": [],
   "source": [
    "#creating a validation set \n",
    "X_valid,X_train = X_train_full[:5000]/255.0,X_train_full[5000:]/255.0\n",
    "y_valid,y_train = y_train_full[:5000], y_train_full[5000:]"
   ]
  },
  {
   "cell_type": "code",
   "execution_count": 6,
   "metadata": {},
   "outputs": [],
   "source": [
    "class_names = [\"T-shirt/top\", \"Trouser\", \"Pullover\", \"Dress\", \"Coat\",\n",
    "\"Sandal\", \"Shirt\", \"Sneaker\", \"Bag\", \"Ankle boot\"]"
   ]
  },
  {
   "source": [
    "Building a neural network"
   ],
   "cell_type": "markdown",
   "metadata": {}
  },
  {
   "cell_type": "code",
   "execution_count": 7,
   "metadata": {},
   "outputs": [],
   "source": [
    "#creates a single stack of layers connected sequentially\n",
    "model = keras.models.Sequential()"
   ]
  },
  {
   "cell_type": "code",
   "execution_count": 8,
   "metadata": {},
   "outputs": [],
   "source": [
    "#this is a Flatten layer. It converts the specified input shape into a (-1,1) instance. \n",
    "model.add(keras.layers.Flatten(input_shape = [28,28]))"
   ]
  },
  {
   "cell_type": "code",
   "execution_count": 9,
   "metadata": {},
   "outputs": [],
   "source": [
    "#next we add the first hidden layer containing 300 neurons. It will use the Rectified Linear Unit Activation Function(ReLU). \n",
    "#This does not include bias terms \n",
    "model.add(keras.layers.Dense(300, activation = \"relu\"))"
   ]
  },
  {
   "cell_type": "code",
   "execution_count": 10,
   "metadata": {},
   "outputs": [],
   "source": [
    "#next we add another hidden layer with 100 neurons in it\n",
    "model.add(keras.layers.Dense(100, activation = \"relu\"))"
   ]
  },
  {
   "cell_type": "code",
   "execution_count": 11,
   "metadata": {},
   "outputs": [],
   "source": [
    "#last we add in the output layer which has 10 neurons for the 10 different classes\n",
    "model.add(keras.layers.Dense(10, activation = \"softmax\"))"
   ]
  },
  {
   "cell_type": "code",
   "execution_count": 12,
   "metadata": {},
   "outputs": [
    {
     "output_type": "stream",
     "name": "stdout",
     "text": [
      "Model: \"sequential\"\n_________________________________________________________________\nLayer (type)                 Output Shape              Param #   \n=================================================================\nflatten (Flatten)            (None, 784)               0         \n_________________________________________________________________\ndense (Dense)                (None, 300)               235500    \n_________________________________________________________________\ndense_1 (Dense)              (None, 100)               30100     \n_________________________________________________________________\ndense_2 (Dense)              (None, 10)                1010      \n=================================================================\nTotal params: 266,610\nTrainable params: 266,610\nNon-trainable params: 0\n_________________________________________________________________\n"
     ]
    }
   ],
   "source": [
    "model.summary()"
   ]
  },
  {
   "cell_type": "code",
   "execution_count": 13,
   "metadata": {},
   "outputs": [
    {
     "output_type": "execute_result",
     "data": {
      "text/plain": [
       "[<tensorflow.python.keras.layers.core.Flatten at 0x23dda2a3ee0>,\n",
       " <tensorflow.python.keras.layers.core.Dense at 0x23dda1cec10>,\n",
       " <tensorflow.python.keras.layers.core.Dense at 0x23df0ad8a30>,\n",
       " <tensorflow.python.keras.layers.core.Dense at 0x23df0ae4c10>]"
      ]
     },
     "metadata": {},
     "execution_count": 13
    }
   ],
   "source": [
    "model.layers"
   ]
  },
  {
   "cell_type": "code",
   "execution_count": 14,
   "metadata": {},
   "outputs": [],
   "source": [
    "weights, biases = model.layers[1].get_weights()"
   ]
  },
  {
   "cell_type": "code",
   "execution_count": 15,
   "metadata": {},
   "outputs": [
    {
     "output_type": "execute_result",
     "data": {
      "text/plain": [
       "(784, 300)"
      ]
     },
     "metadata": {},
     "execution_count": 15
    }
   ],
   "source": [
    "weights.shape"
   ]
  },
  {
   "cell_type": "code",
   "execution_count": 16,
   "metadata": {},
   "outputs": [
    {
     "output_type": "execute_result",
     "data": {
      "text/plain": [
       "(300,)"
      ]
     },
     "metadata": {},
     "execution_count": 16
    }
   ],
   "source": [
    "biases.shape"
   ]
  },
  {
   "source": [
    "The shape of the weight matrix is dependant on the number of inputs. This is why input_shape should be specified in keras.layers.Flatten. "
   ],
   "cell_type": "markdown",
   "metadata": {}
  },
  {
   "cell_type": "code",
   "execution_count": 17,
   "metadata": {},
   "outputs": [],
   "source": [
    "#using compile method to specify the loss function, optimizer to use and extra metrics to compute during training \n",
    "model.compile(loss = \"sparse_categorical_crossentropy\",\n",
    "                optimizer = \"sgd\",\n",
    "                metrics = [\"accuracy\"])"
   ]
  },
  {
   "cell_type": "code",
   "execution_count": 18,
   "metadata": {},
   "outputs": [
    {
     "output_type": "execute_result",
     "data": {
      "text/plain": [
       "array([9, 0, 0, ..., 3, 0, 5], dtype=uint8)"
      ]
     },
     "metadata": {},
     "execution_count": 18
    }
   ],
   "source": [
    "y_train_full"
   ]
  },
  {
   "cell_type": "code",
   "execution_count": 19,
   "metadata": {},
   "outputs": [
    {
     "output_type": "execute_result",
     "data": {
      "text/plain": [
       "array([[0., 0., 0., ..., 0., 0., 1.],\n",
       "       [1., 0., 0., ..., 0., 0., 0.],\n",
       "       [1., 0., 0., ..., 0., 0., 0.],\n",
       "       ...,\n",
       "       [0., 0., 0., ..., 0., 0., 0.],\n",
       "       [1., 0., 0., ..., 0., 0., 0.],\n",
       "       [0., 0., 0., ..., 0., 0., 0.]], dtype=float32)"
      ]
     },
     "metadata": {},
     "execution_count": 19
    }
   ],
   "source": [
    "keras.utils.to_categorical(y_train_full)"
   ]
  },
  {
   "cell_type": "code",
   "execution_count": 20,
   "metadata": {},
   "outputs": [
    {
     "output_type": "stream",
     "name": "stdout",
     "text": [
      "Epoch 1/30\n",
      "1719/1719 [==============================] - 10s 5ms/step - loss: 0.9616 - accuracy: 0.6921 - val_loss: 0.5252 - val_accuracy: 0.8160\n",
      "Epoch 2/30\n",
      "1719/1719 [==============================] - 6s 4ms/step - loss: 0.4985 - accuracy: 0.8296 - val_loss: 0.4900 - val_accuracy: 0.8310\n",
      "Epoch 3/30\n",
      "1719/1719 [==============================] - 7s 4ms/step - loss: 0.4514 - accuracy: 0.8441 - val_loss: 0.4408 - val_accuracy: 0.8490\n",
      "Epoch 4/30\n",
      "1719/1719 [==============================] - 8s 4ms/step - loss: 0.4185 - accuracy: 0.8521 - val_loss: 0.4436 - val_accuracy: 0.8422\n",
      "Epoch 5/30\n",
      "1719/1719 [==============================] - 7s 4ms/step - loss: 0.4050 - accuracy: 0.8572 - val_loss: 0.3768 - val_accuracy: 0.8736\n",
      "Epoch 6/30\n",
      "1719/1719 [==============================] - 7s 4ms/step - loss: 0.3796 - accuracy: 0.8656 - val_loss: 0.3696 - val_accuracy: 0.8738\n",
      "Epoch 7/30\n",
      "1719/1719 [==============================] - 6s 4ms/step - loss: 0.3700 - accuracy: 0.8712 - val_loss: 0.3941 - val_accuracy: 0.8592\n",
      "Epoch 8/30\n",
      "1719/1719 [==============================] - 7s 4ms/step - loss: 0.3587 - accuracy: 0.8730 - val_loss: 0.3500 - val_accuracy: 0.8780\n",
      "Epoch 9/30\n",
      "1719/1719 [==============================] - 7s 4ms/step - loss: 0.3422 - accuracy: 0.8782 - val_loss: 0.3531 - val_accuracy: 0.8782\n",
      "Epoch 10/30\n",
      "1719/1719 [==============================] - 7s 4ms/step - loss: 0.3315 - accuracy: 0.8828 - val_loss: 0.3421 - val_accuracy: 0.8798\n",
      "Epoch 11/30\n",
      "1719/1719 [==============================] - 8s 4ms/step - loss: 0.3212 - accuracy: 0.8851 - val_loss: 0.3395 - val_accuracy: 0.8784\n",
      "Epoch 12/30\n",
      "1719/1719 [==============================] - 6s 4ms/step - loss: 0.3188 - accuracy: 0.8862 - val_loss: 0.3394 - val_accuracy: 0.8822\n",
      "Epoch 13/30\n",
      "1719/1719 [==============================] - 7s 4ms/step - loss: 0.3030 - accuracy: 0.8897 - val_loss: 0.3367 - val_accuracy: 0.8818\n",
      "Epoch 14/30\n",
      "1719/1719 [==============================] - 7s 4ms/step - loss: 0.2999 - accuracy: 0.8920 - val_loss: 0.3235 - val_accuracy: 0.8848\n",
      "Epoch 15/30\n",
      "1719/1719 [==============================] - 7s 4ms/step - loss: 0.2970 - accuracy: 0.8943 - val_loss: 0.3235 - val_accuracy: 0.8850\n",
      "Epoch 16/30\n",
      "1719/1719 [==============================] - 11s 6ms/step - loss: 0.2937 - accuracy: 0.8957 - val_loss: 0.3157 - val_accuracy: 0.8882\n",
      "Epoch 17/30\n",
      "1719/1719 [==============================] - 7s 4ms/step - loss: 0.2827 - accuracy: 0.8977 - val_loss: 0.3265 - val_accuracy: 0.8800\n",
      "Epoch 18/30\n",
      "1719/1719 [==============================] - 8s 4ms/step - loss: 0.2758 - accuracy: 0.9001 - val_loss: 0.3068 - val_accuracy: 0.8898\n",
      "Epoch 19/30\n",
      "1719/1719 [==============================] - 8s 4ms/step - loss: 0.2746 - accuracy: 0.9009 - val_loss: 0.3126 - val_accuracy: 0.8870\n",
      "Epoch 20/30\n",
      "1719/1719 [==============================] - 8s 5ms/step - loss: 0.2680 - accuracy: 0.9017 - val_loss: 0.3015 - val_accuracy: 0.8902\n",
      "Epoch 21/30\n",
      "1719/1719 [==============================] - 10s 6ms/step - loss: 0.2620 - accuracy: 0.9071 - val_loss: 0.3084 - val_accuracy: 0.8882\n",
      "Epoch 22/30\n",
      "1719/1719 [==============================] - 7s 4ms/step - loss: 0.2543 - accuracy: 0.9090 - val_loss: 0.3179 - val_accuracy: 0.8844\n",
      "Epoch 23/30\n",
      "1719/1719 [==============================] - 7s 4ms/step - loss: 0.2564 - accuracy: 0.9074 - val_loss: 0.3092 - val_accuracy: 0.8872\n",
      "Epoch 24/30\n",
      "1719/1719 [==============================] - 7s 4ms/step - loss: 0.2437 - accuracy: 0.9125 - val_loss: 0.3034 - val_accuracy: 0.8884\n",
      "Epoch 25/30\n",
      "1719/1719 [==============================] - 8s 5ms/step - loss: 0.2422 - accuracy: 0.9125 - val_loss: 0.3010 - val_accuracy: 0.8886\n",
      "Epoch 26/30\n",
      "1719/1719 [==============================] - 8s 5ms/step - loss: 0.2417 - accuracy: 0.9138 - val_loss: 0.3109 - val_accuracy: 0.8886\n",
      "Epoch 27/30\n",
      "1719/1719 [==============================] - 7s 4ms/step - loss: 0.2362 - accuracy: 0.9166 - val_loss: 0.2922 - val_accuracy: 0.8934\n",
      "Epoch 28/30\n",
      "1719/1719 [==============================] - 9s 5ms/step - loss: 0.2320 - accuracy: 0.9180 - val_loss: 0.2934 - val_accuracy: 0.8974\n",
      "Epoch 29/30\n",
      "1719/1719 [==============================] - 7s 4ms/step - loss: 0.2291 - accuracy: 0.9184 - val_loss: 0.2971 - val_accuracy: 0.8890\n",
      "Epoch 30/30\n",
      "1719/1719 [==============================] - 7s 4ms/step - loss: 0.2301 - accuracy: 0.9169 - val_loss: 0.2931 - val_accuracy: 0.8928\n"
     ]
    }
   ],
   "source": [
    "history = model.fit(X_train,y_train,epochs = 30, \n",
    "                    validation_data = (X_valid,y_valid))"
   ]
  },
  {
   "source": [
    "For skewed datasets with some classes being overrepresented while others are underrepresented, it would be useful to set the class_weight argument in the fit method. \n",
    "\n",
    "For cases where we want instances to be given different weights, like in the case of outliers (NBA dataset), we need to use sample_weight. For sample_weight we can either pass a flat Numpy array with the same length as the input samples. "
   ],
   "cell_type": "markdown",
   "metadata": {}
  },
  {
   "cell_type": "code",
   "execution_count": 21,
   "metadata": {},
   "outputs": [
    {
     "output_type": "execute_result",
     "data": {
      "text/plain": [
       "        loss  accuracy  val_loss  val_accuracy\n",
       "0   0.709187  0.765364  0.525223        0.8160\n",
       "1   0.487777  0.829818  0.489953        0.8310\n",
       "2   0.440157  0.845800  0.440810        0.8490\n",
       "3   0.413194  0.854418  0.443561        0.8422\n",
       "4   0.393108  0.861945  0.376787        0.8736\n",
       "5   0.377807  0.866982  0.369634        0.8738\n",
       "6   0.363643  0.872164  0.394074        0.8592\n",
       "7   0.352827  0.874709  0.350002        0.8780\n",
       "8   0.341609  0.878636  0.353143        0.8782\n",
       "9   0.332009  0.881345  0.342113        0.8798\n",
       "10  0.324174  0.884891  0.339487        0.8784\n",
       "11  0.316094  0.887545  0.339420        0.8822\n",
       "12  0.310411  0.888236  0.336663        0.8818\n",
       "13  0.301498  0.891727  0.323548        0.8848\n",
       "14  0.295012  0.893727  0.323529        0.8850\n",
       "15  0.290169  0.895345  0.315729        0.8882\n",
       "16  0.283815  0.897655  0.326510        0.8800\n",
       "17  0.278674  0.900036  0.306813        0.8898\n",
       "18  0.273530  0.901818  0.312584        0.8870\n",
       "19  0.268815  0.902764  0.301460        0.8902\n",
       "20  0.263335  0.905582  0.308375        0.8882\n",
       "21  0.258598  0.907273  0.317852        0.8844\n",
       "22  0.254940  0.907182  0.309201        0.8872\n",
       "23  0.249440  0.910073  0.303423        0.8884\n",
       "24  0.245750  0.911364  0.300999        0.8886\n",
       "25  0.241287  0.913455  0.310908        0.8886\n",
       "26  0.237315  0.914709  0.292211        0.8934\n",
       "27  0.233471  0.915636  0.293380        0.8974\n",
       "28  0.230426  0.916764  0.297144        0.8890\n",
       "29  0.226143  0.918291  0.293142        0.8928"
      ],
      "text/html": "<div>\n<style scoped>\n    .dataframe tbody tr th:only-of-type {\n        vertical-align: middle;\n    }\n\n    .dataframe tbody tr th {\n        vertical-align: top;\n    }\n\n    .dataframe thead th {\n        text-align: right;\n    }\n</style>\n<table border=\"1\" class=\"dataframe\">\n  <thead>\n    <tr style=\"text-align: right;\">\n      <th></th>\n      <th>loss</th>\n      <th>accuracy</th>\n      <th>val_loss</th>\n      <th>val_accuracy</th>\n    </tr>\n  </thead>\n  <tbody>\n    <tr>\n      <th>0</th>\n      <td>0.709187</td>\n      <td>0.765364</td>\n      <td>0.525223</td>\n      <td>0.8160</td>\n    </tr>\n    <tr>\n      <th>1</th>\n      <td>0.487777</td>\n      <td>0.829818</td>\n      <td>0.489953</td>\n      <td>0.8310</td>\n    </tr>\n    <tr>\n      <th>2</th>\n      <td>0.440157</td>\n      <td>0.845800</td>\n      <td>0.440810</td>\n      <td>0.8490</td>\n    </tr>\n    <tr>\n      <th>3</th>\n      <td>0.413194</td>\n      <td>0.854418</td>\n      <td>0.443561</td>\n      <td>0.8422</td>\n    </tr>\n    <tr>\n      <th>4</th>\n      <td>0.393108</td>\n      <td>0.861945</td>\n      <td>0.376787</td>\n      <td>0.8736</td>\n    </tr>\n    <tr>\n      <th>5</th>\n      <td>0.377807</td>\n      <td>0.866982</td>\n      <td>0.369634</td>\n      <td>0.8738</td>\n    </tr>\n    <tr>\n      <th>6</th>\n      <td>0.363643</td>\n      <td>0.872164</td>\n      <td>0.394074</td>\n      <td>0.8592</td>\n    </tr>\n    <tr>\n      <th>7</th>\n      <td>0.352827</td>\n      <td>0.874709</td>\n      <td>0.350002</td>\n      <td>0.8780</td>\n    </tr>\n    <tr>\n      <th>8</th>\n      <td>0.341609</td>\n      <td>0.878636</td>\n      <td>0.353143</td>\n      <td>0.8782</td>\n    </tr>\n    <tr>\n      <th>9</th>\n      <td>0.332009</td>\n      <td>0.881345</td>\n      <td>0.342113</td>\n      <td>0.8798</td>\n    </tr>\n    <tr>\n      <th>10</th>\n      <td>0.324174</td>\n      <td>0.884891</td>\n      <td>0.339487</td>\n      <td>0.8784</td>\n    </tr>\n    <tr>\n      <th>11</th>\n      <td>0.316094</td>\n      <td>0.887545</td>\n      <td>0.339420</td>\n      <td>0.8822</td>\n    </tr>\n    <tr>\n      <th>12</th>\n      <td>0.310411</td>\n      <td>0.888236</td>\n      <td>0.336663</td>\n      <td>0.8818</td>\n    </tr>\n    <tr>\n      <th>13</th>\n      <td>0.301498</td>\n      <td>0.891727</td>\n      <td>0.323548</td>\n      <td>0.8848</td>\n    </tr>\n    <tr>\n      <th>14</th>\n      <td>0.295012</td>\n      <td>0.893727</td>\n      <td>0.323529</td>\n      <td>0.8850</td>\n    </tr>\n    <tr>\n      <th>15</th>\n      <td>0.290169</td>\n      <td>0.895345</td>\n      <td>0.315729</td>\n      <td>0.8882</td>\n    </tr>\n    <tr>\n      <th>16</th>\n      <td>0.283815</td>\n      <td>0.897655</td>\n      <td>0.326510</td>\n      <td>0.8800</td>\n    </tr>\n    <tr>\n      <th>17</th>\n      <td>0.278674</td>\n      <td>0.900036</td>\n      <td>0.306813</td>\n      <td>0.8898</td>\n    </tr>\n    <tr>\n      <th>18</th>\n      <td>0.273530</td>\n      <td>0.901818</td>\n      <td>0.312584</td>\n      <td>0.8870</td>\n    </tr>\n    <tr>\n      <th>19</th>\n      <td>0.268815</td>\n      <td>0.902764</td>\n      <td>0.301460</td>\n      <td>0.8902</td>\n    </tr>\n    <tr>\n      <th>20</th>\n      <td>0.263335</td>\n      <td>0.905582</td>\n      <td>0.308375</td>\n      <td>0.8882</td>\n    </tr>\n    <tr>\n      <th>21</th>\n      <td>0.258598</td>\n      <td>0.907273</td>\n      <td>0.317852</td>\n      <td>0.8844</td>\n    </tr>\n    <tr>\n      <th>22</th>\n      <td>0.254940</td>\n      <td>0.907182</td>\n      <td>0.309201</td>\n      <td>0.8872</td>\n    </tr>\n    <tr>\n      <th>23</th>\n      <td>0.249440</td>\n      <td>0.910073</td>\n      <td>0.303423</td>\n      <td>0.8884</td>\n    </tr>\n    <tr>\n      <th>24</th>\n      <td>0.245750</td>\n      <td>0.911364</td>\n      <td>0.300999</td>\n      <td>0.8886</td>\n    </tr>\n    <tr>\n      <th>25</th>\n      <td>0.241287</td>\n      <td>0.913455</td>\n      <td>0.310908</td>\n      <td>0.8886</td>\n    </tr>\n    <tr>\n      <th>26</th>\n      <td>0.237315</td>\n      <td>0.914709</td>\n      <td>0.292211</td>\n      <td>0.8934</td>\n    </tr>\n    <tr>\n      <th>27</th>\n      <td>0.233471</td>\n      <td>0.915636</td>\n      <td>0.293380</td>\n      <td>0.8974</td>\n    </tr>\n    <tr>\n      <th>28</th>\n      <td>0.230426</td>\n      <td>0.916764</td>\n      <td>0.297144</td>\n      <td>0.8890</td>\n    </tr>\n    <tr>\n      <th>29</th>\n      <td>0.226143</td>\n      <td>0.918291</td>\n      <td>0.293142</td>\n      <td>0.8928</td>\n    </tr>\n  </tbody>\n</table>\n</div>"
     },
     "metadata": {},
     "execution_count": 21
    }
   ],
   "source": [
    "import pandas as pd\n",
    "df = pd.DataFrame(data = history.history)\n",
    "df"
   ]
  },
  {
   "cell_type": "code",
   "execution_count": 22,
   "metadata": {},
   "outputs": [
    {
     "output_type": "execute_result",
     "data": {
      "text/plain": [
       "<matplotlib.legend.Legend at 0x23dfefeee50>"
      ]
     },
     "metadata": {},
     "execution_count": 22
    },
    {
     "output_type": "display_data",
     "data": {
      "text/plain": "<Figure size 864x720 with 1 Axes>",
      "image/svg+xml": "<?xml version=\"1.0\" encoding=\"utf-8\" standalone=\"no\"?>\r\n<!DOCTYPE svg PUBLIC \"-//W3C//DTD SVG 1.1//EN\"\r\n  \"http://www.w3.org/Graphics/SVG/1.1/DTD/svg11.dtd\">\r\n<!-- Created with matplotlib (https://matplotlib.org/) -->\r\n<svg height=\"574.678125pt\" version=\"1.1\" viewBox=\"0 0 706.903125 574.678125\" width=\"706.903125pt\" xmlns=\"http://www.w3.org/2000/svg\" xmlns:xlink=\"http://www.w3.org/1999/xlink\">\r\n <metadata>\r\n  <rdf:RDF xmlns:cc=\"http://creativecommons.org/ns#\" xmlns:dc=\"http://purl.org/dc/elements/1.1/\" xmlns:rdf=\"http://www.w3.org/1999/02/22-rdf-syntax-ns#\">\r\n   <cc:Work>\r\n    <dc:type rdf:resource=\"http://purl.org/dc/dcmitype/StillImage\"/>\r\n    <dc:date>2021-04-01T07:30:40.049948</dc:date>\r\n    <dc:format>image/svg+xml</dc:format>\r\n    <dc:creator>\r\n     <cc:Agent>\r\n      <dc:title>Matplotlib v3.3.4, https://matplotlib.org/</dc:title>\r\n     </cc:Agent>\r\n    </dc:creator>\r\n   </cc:Work>\r\n  </rdf:RDF>\r\n </metadata>\r\n <defs>\r\n  <style type=\"text/css\">*{stroke-linecap:butt;stroke-linejoin:round;}</style>\r\n </defs>\r\n <g id=\"figure_1\">\r\n  <g id=\"patch_1\">\r\n   <path d=\"M 0 574.678125 \r\nL 706.903125 574.678125 \r\nL 706.903125 0 \r\nL 0 0 \r\nz\r\n\" style=\"fill:none;\"/>\r\n  </g>\r\n  <g id=\"axes_1\">\r\n   <g id=\"patch_2\">\r\n    <path d=\"M 30.103125 550.8 \r\nL 699.703125 550.8 \r\nL 699.703125 7.2 \r\nL 30.103125 7.2 \r\nz\r\n\" style=\"fill:#ffffff;\"/>\r\n   </g>\r\n   <g id=\"matplotlib.axis_1\">\r\n    <g id=\"xtick_1\">\r\n     <g id=\"line2d_1\">\r\n      <defs>\r\n       <path d=\"M 0 0 \r\nL 0 3.5 \r\n\" id=\"med2e15f1c9\" style=\"stroke:#000000;stroke-width:0.8;\"/>\r\n      </defs>\r\n      <g>\r\n       <use style=\"stroke:#000000;stroke-width:0.8;\" x=\"60.539489\" xlink:href=\"#med2e15f1c9\" y=\"550.8\"/>\r\n      </g>\r\n     </g>\r\n     <g id=\"text_1\">\r\n      <!-- 0 -->\r\n      <g transform=\"translate(57.358239 565.398438)scale(0.1 -0.1)\">\r\n       <defs>\r\n        <path d=\"M 31.78125 66.40625 \r\nQ 24.171875 66.40625 20.328125 58.90625 \r\nQ 16.5 51.421875 16.5 36.375 \r\nQ 16.5 21.390625 20.328125 13.890625 \r\nQ 24.171875 6.390625 31.78125 6.390625 \r\nQ 39.453125 6.390625 43.28125 13.890625 \r\nQ 47.125 21.390625 47.125 36.375 \r\nQ 47.125 51.421875 43.28125 58.90625 \r\nQ 39.453125 66.40625 31.78125 66.40625 \r\nz\r\nM 31.78125 74.21875 \r\nQ 44.046875 74.21875 50.515625 64.515625 \r\nQ 56.984375 54.828125 56.984375 36.375 \r\nQ 56.984375 17.96875 50.515625 8.265625 \r\nQ 44.046875 -1.421875 31.78125 -1.421875 \r\nQ 19.53125 -1.421875 13.0625 8.265625 \r\nQ 6.59375 17.96875 6.59375 36.375 \r\nQ 6.59375 54.828125 13.0625 64.515625 \r\nQ 19.53125 74.21875 31.78125 74.21875 \r\nz\r\n\" id=\"DejaVuSans-48\"/>\r\n       </defs>\r\n       <use xlink:href=\"#DejaVuSans-48\"/>\r\n      </g>\r\n     </g>\r\n    </g>\r\n    <g id=\"xtick_2\">\r\n     <g id=\"line2d_2\">\r\n      <g>\r\n       <use style=\"stroke:#000000;stroke-width:0.8;\" x=\"165.492467\" xlink:href=\"#med2e15f1c9\" y=\"550.8\"/>\r\n      </g>\r\n     </g>\r\n     <g id=\"text_2\">\r\n      <!-- 5 -->\r\n      <g transform=\"translate(162.311217 565.398438)scale(0.1 -0.1)\">\r\n       <defs>\r\n        <path d=\"M 10.796875 72.90625 \r\nL 49.515625 72.90625 \r\nL 49.515625 64.59375 \r\nL 19.828125 64.59375 \r\nL 19.828125 46.734375 \r\nQ 21.96875 47.46875 24.109375 47.828125 \r\nQ 26.265625 48.1875 28.421875 48.1875 \r\nQ 40.625 48.1875 47.75 41.5 \r\nQ 54.890625 34.8125 54.890625 23.390625 \r\nQ 54.890625 11.625 47.5625 5.09375 \r\nQ 40.234375 -1.421875 26.90625 -1.421875 \r\nQ 22.3125 -1.421875 17.546875 -0.640625 \r\nQ 12.796875 0.140625 7.71875 1.703125 \r\nL 7.71875 11.625 \r\nQ 12.109375 9.234375 16.796875 8.0625 \r\nQ 21.484375 6.890625 26.703125 6.890625 \r\nQ 35.15625 6.890625 40.078125 11.328125 \r\nQ 45.015625 15.765625 45.015625 23.390625 \r\nQ 45.015625 31 40.078125 35.4375 \r\nQ 35.15625 39.890625 26.703125 39.890625 \r\nQ 22.75 39.890625 18.8125 39.015625 \r\nQ 14.890625 38.140625 10.796875 36.28125 \r\nz\r\n\" id=\"DejaVuSans-53\"/>\r\n       </defs>\r\n       <use xlink:href=\"#DejaVuSans-53\"/>\r\n      </g>\r\n     </g>\r\n    </g>\r\n    <g id=\"xtick_3\">\r\n     <g id=\"line2d_3\">\r\n      <g>\r\n       <use style=\"stroke:#000000;stroke-width:0.8;\" x=\"270.445445\" xlink:href=\"#med2e15f1c9\" y=\"550.8\"/>\r\n      </g>\r\n     </g>\r\n     <g id=\"text_3\">\r\n      <!-- 10 -->\r\n      <g transform=\"translate(264.082945 565.398438)scale(0.1 -0.1)\">\r\n       <defs>\r\n        <path d=\"M 12.40625 8.296875 \r\nL 28.515625 8.296875 \r\nL 28.515625 63.921875 \r\nL 10.984375 60.40625 \r\nL 10.984375 69.390625 \r\nL 28.421875 72.90625 \r\nL 38.28125 72.90625 \r\nL 38.28125 8.296875 \r\nL 54.390625 8.296875 \r\nL 54.390625 0 \r\nL 12.40625 0 \r\nz\r\n\" id=\"DejaVuSans-49\"/>\r\n       </defs>\r\n       <use xlink:href=\"#DejaVuSans-49\"/>\r\n       <use x=\"63.623047\" xlink:href=\"#DejaVuSans-48\"/>\r\n      </g>\r\n     </g>\r\n    </g>\r\n    <g id=\"xtick_4\">\r\n     <g id=\"line2d_4\">\r\n      <g>\r\n       <use style=\"stroke:#000000;stroke-width:0.8;\" x=\"375.398423\" xlink:href=\"#med2e15f1c9\" y=\"550.8\"/>\r\n      </g>\r\n     </g>\r\n     <g id=\"text_4\">\r\n      <!-- 15 -->\r\n      <g transform=\"translate(369.035923 565.398438)scale(0.1 -0.1)\">\r\n       <use xlink:href=\"#DejaVuSans-49\"/>\r\n       <use x=\"63.623047\" xlink:href=\"#DejaVuSans-53\"/>\r\n      </g>\r\n     </g>\r\n    </g>\r\n    <g id=\"xtick_5\">\r\n     <g id=\"line2d_5\">\r\n      <g>\r\n       <use style=\"stroke:#000000;stroke-width:0.8;\" x=\"480.351401\" xlink:href=\"#med2e15f1c9\" y=\"550.8\"/>\r\n      </g>\r\n     </g>\r\n     <g id=\"text_5\">\r\n      <!-- 20 -->\r\n      <g transform=\"translate(473.988901 565.398438)scale(0.1 -0.1)\">\r\n       <defs>\r\n        <path d=\"M 19.1875 8.296875 \r\nL 53.609375 8.296875 \r\nL 53.609375 0 \r\nL 7.328125 0 \r\nL 7.328125 8.296875 \r\nQ 12.9375 14.109375 22.625 23.890625 \r\nQ 32.328125 33.6875 34.8125 36.53125 \r\nQ 39.546875 41.84375 41.421875 45.53125 \r\nQ 43.3125 49.21875 43.3125 52.78125 \r\nQ 43.3125 58.59375 39.234375 62.25 \r\nQ 35.15625 65.921875 28.609375 65.921875 \r\nQ 23.96875 65.921875 18.8125 64.3125 \r\nQ 13.671875 62.703125 7.8125 59.421875 \r\nL 7.8125 69.390625 \r\nQ 13.765625 71.78125 18.9375 73 \r\nQ 24.125 74.21875 28.421875 74.21875 \r\nQ 39.75 74.21875 46.484375 68.546875 \r\nQ 53.21875 62.890625 53.21875 53.421875 \r\nQ 53.21875 48.921875 51.53125 44.890625 \r\nQ 49.859375 40.875 45.40625 35.40625 \r\nQ 44.1875 33.984375 37.640625 27.21875 \r\nQ 31.109375 20.453125 19.1875 8.296875 \r\nz\r\n\" id=\"DejaVuSans-50\"/>\r\n       </defs>\r\n       <use xlink:href=\"#DejaVuSans-50\"/>\r\n       <use x=\"63.623047\" xlink:href=\"#DejaVuSans-48\"/>\r\n      </g>\r\n     </g>\r\n    </g>\r\n    <g id=\"xtick_6\">\r\n     <g id=\"line2d_6\">\r\n      <g>\r\n       <use style=\"stroke:#000000;stroke-width:0.8;\" x=\"585.304379\" xlink:href=\"#med2e15f1c9\" y=\"550.8\"/>\r\n      </g>\r\n     </g>\r\n     <g id=\"text_6\">\r\n      <!-- 25 -->\r\n      <g transform=\"translate(578.941879 565.398438)scale(0.1 -0.1)\">\r\n       <use xlink:href=\"#DejaVuSans-50\"/>\r\n       <use x=\"63.623047\" xlink:href=\"#DejaVuSans-53\"/>\r\n      </g>\r\n     </g>\r\n    </g>\r\n    <g id=\"xtick_7\">\r\n     <g id=\"line2d_7\">\r\n      <g>\r\n       <use style=\"stroke:#000000;stroke-width:0.8;\" x=\"690.257357\" xlink:href=\"#med2e15f1c9\" y=\"550.8\"/>\r\n      </g>\r\n     </g>\r\n     <g id=\"text_7\">\r\n      <!-- 30 -->\r\n      <g transform=\"translate(683.894857 565.398438)scale(0.1 -0.1)\">\r\n       <defs>\r\n        <path d=\"M 40.578125 39.3125 \r\nQ 47.65625 37.796875 51.625 33 \r\nQ 55.609375 28.21875 55.609375 21.1875 \r\nQ 55.609375 10.40625 48.1875 4.484375 \r\nQ 40.765625 -1.421875 27.09375 -1.421875 \r\nQ 22.515625 -1.421875 17.65625 -0.515625 \r\nQ 12.796875 0.390625 7.625 2.203125 \r\nL 7.625 11.71875 \r\nQ 11.71875 9.328125 16.59375 8.109375 \r\nQ 21.484375 6.890625 26.8125 6.890625 \r\nQ 36.078125 6.890625 40.9375 10.546875 \r\nQ 45.796875 14.203125 45.796875 21.1875 \r\nQ 45.796875 27.640625 41.28125 31.265625 \r\nQ 36.765625 34.90625 28.71875 34.90625 \r\nL 20.21875 34.90625 \r\nL 20.21875 43.015625 \r\nL 29.109375 43.015625 \r\nQ 36.375 43.015625 40.234375 45.921875 \r\nQ 44.09375 48.828125 44.09375 54.296875 \r\nQ 44.09375 59.90625 40.109375 62.90625 \r\nQ 36.140625 65.921875 28.71875 65.921875 \r\nQ 24.65625 65.921875 20.015625 65.03125 \r\nQ 15.375 64.15625 9.8125 62.3125 \r\nL 9.8125 71.09375 \r\nQ 15.4375 72.65625 20.34375 73.4375 \r\nQ 25.25 74.21875 29.59375 74.21875 \r\nQ 40.828125 74.21875 47.359375 69.109375 \r\nQ 53.90625 64.015625 53.90625 55.328125 \r\nQ 53.90625 49.265625 50.4375 45.09375 \r\nQ 46.96875 40.921875 40.578125 39.3125 \r\nz\r\n\" id=\"DejaVuSans-51\"/>\r\n       </defs>\r\n       <use xlink:href=\"#DejaVuSans-51\"/>\r\n       <use x=\"63.623047\" xlink:href=\"#DejaVuSans-48\"/>\r\n      </g>\r\n     </g>\r\n    </g>\r\n   </g>\r\n   <g id=\"matplotlib.axis_2\">\r\n    <g id=\"ytick_1\">\r\n     <g id=\"line2d_8\">\r\n      <defs>\r\n       <path d=\"M 0 0 \r\nL -3.5 0 \r\n\" id=\"m529f8bc9b7\" style=\"stroke:#000000;stroke-width:0.8;\"/>\r\n      </defs>\r\n      <g>\r\n       <use style=\"stroke:#000000;stroke-width:0.8;\" x=\"30.103125\" xlink:href=\"#m529f8bc9b7\" y=\"544.756534\"/>\r\n      </g>\r\n     </g>\r\n     <g id=\"text_8\">\r\n      <!-- 0.2 -->\r\n      <g transform=\"translate(7.2 548.555753)scale(0.1 -0.1)\">\r\n       <defs>\r\n        <path d=\"M 10.6875 12.40625 \r\nL 21 12.40625 \r\nL 21 0 \r\nL 10.6875 0 \r\nz\r\n\" id=\"DejaVuSans-46\"/>\r\n       </defs>\r\n       <use xlink:href=\"#DejaVuSans-48\"/>\r\n       <use x=\"63.623047\" xlink:href=\"#DejaVuSans-46\"/>\r\n       <use x=\"95.410156\" xlink:href=\"#DejaVuSans-50\"/>\r\n      </g>\r\n     </g>\r\n    </g>\r\n    <g id=\"ytick_2\">\r\n     <g id=\"line2d_9\">\r\n      <g>\r\n       <use style=\"stroke:#000000;stroke-width:0.8;\" x=\"30.103125\" xlink:href=\"#m529f8bc9b7\" y=\"473.358242\"/>\r\n      </g>\r\n     </g>\r\n     <g id=\"text_9\">\r\n      <!-- 0.3 -->\r\n      <g transform=\"translate(7.2 477.157461)scale(0.1 -0.1)\">\r\n       <use xlink:href=\"#DejaVuSans-48\"/>\r\n       <use x=\"63.623047\" xlink:href=\"#DejaVuSans-46\"/>\r\n       <use x=\"95.410156\" xlink:href=\"#DejaVuSans-51\"/>\r\n      </g>\r\n     </g>\r\n    </g>\r\n    <g id=\"ytick_3\">\r\n     <g id=\"line2d_10\">\r\n      <g>\r\n       <use style=\"stroke:#000000;stroke-width:0.8;\" x=\"30.103125\" xlink:href=\"#m529f8bc9b7\" y=\"401.95995\"/>\r\n      </g>\r\n     </g>\r\n     <g id=\"text_10\">\r\n      <!-- 0.4 -->\r\n      <g transform=\"translate(7.2 405.759169)scale(0.1 -0.1)\">\r\n       <defs>\r\n        <path d=\"M 37.796875 64.3125 \r\nL 12.890625 25.390625 \r\nL 37.796875 25.390625 \r\nz\r\nM 35.203125 72.90625 \r\nL 47.609375 72.90625 \r\nL 47.609375 25.390625 \r\nL 58.015625 25.390625 \r\nL 58.015625 17.1875 \r\nL 47.609375 17.1875 \r\nL 47.609375 0 \r\nL 37.796875 0 \r\nL 37.796875 17.1875 \r\nL 4.890625 17.1875 \r\nL 4.890625 26.703125 \r\nz\r\n\" id=\"DejaVuSans-52\"/>\r\n       </defs>\r\n       <use xlink:href=\"#DejaVuSans-48\"/>\r\n       <use x=\"63.623047\" xlink:href=\"#DejaVuSans-46\"/>\r\n       <use x=\"95.410156\" xlink:href=\"#DejaVuSans-52\"/>\r\n      </g>\r\n     </g>\r\n    </g>\r\n    <g id=\"ytick_4\">\r\n     <g id=\"line2d_11\">\r\n      <g>\r\n       <use style=\"stroke:#000000;stroke-width:0.8;\" x=\"30.103125\" xlink:href=\"#m529f8bc9b7\" y=\"330.561658\"/>\r\n      </g>\r\n     </g>\r\n     <g id=\"text_11\">\r\n      <!-- 0.5 -->\r\n      <g transform=\"translate(7.2 334.360877)scale(0.1 -0.1)\">\r\n       <use xlink:href=\"#DejaVuSans-48\"/>\r\n       <use x=\"63.623047\" xlink:href=\"#DejaVuSans-46\"/>\r\n       <use x=\"95.410156\" xlink:href=\"#DejaVuSans-53\"/>\r\n      </g>\r\n     </g>\r\n    </g>\r\n    <g id=\"ytick_5\">\r\n     <g id=\"line2d_12\">\r\n      <g>\r\n       <use style=\"stroke:#000000;stroke-width:0.8;\" x=\"30.103125\" xlink:href=\"#m529f8bc9b7\" y=\"259.163366\"/>\r\n      </g>\r\n     </g>\r\n     <g id=\"text_12\">\r\n      <!-- 0.6 -->\r\n      <g transform=\"translate(7.2 262.962585)scale(0.1 -0.1)\">\r\n       <defs>\r\n        <path d=\"M 33.015625 40.375 \r\nQ 26.375 40.375 22.484375 35.828125 \r\nQ 18.609375 31.296875 18.609375 23.390625 \r\nQ 18.609375 15.53125 22.484375 10.953125 \r\nQ 26.375 6.390625 33.015625 6.390625 \r\nQ 39.65625 6.390625 43.53125 10.953125 \r\nQ 47.40625 15.53125 47.40625 23.390625 \r\nQ 47.40625 31.296875 43.53125 35.828125 \r\nQ 39.65625 40.375 33.015625 40.375 \r\nz\r\nM 52.59375 71.296875 \r\nL 52.59375 62.3125 \r\nQ 48.875 64.0625 45.09375 64.984375 \r\nQ 41.3125 65.921875 37.59375 65.921875 \r\nQ 27.828125 65.921875 22.671875 59.328125 \r\nQ 17.53125 52.734375 16.796875 39.40625 \r\nQ 19.671875 43.65625 24.015625 45.921875 \r\nQ 28.375 48.1875 33.59375 48.1875 \r\nQ 44.578125 48.1875 50.953125 41.515625 \r\nQ 57.328125 34.859375 57.328125 23.390625 \r\nQ 57.328125 12.15625 50.6875 5.359375 \r\nQ 44.046875 -1.421875 33.015625 -1.421875 \r\nQ 20.359375 -1.421875 13.671875 8.265625 \r\nQ 6.984375 17.96875 6.984375 36.375 \r\nQ 6.984375 53.65625 15.1875 63.9375 \r\nQ 23.390625 74.21875 37.203125 74.21875 \r\nQ 40.921875 74.21875 44.703125 73.484375 \r\nQ 48.484375 72.75 52.59375 71.296875 \r\nz\r\n\" id=\"DejaVuSans-54\"/>\r\n       </defs>\r\n       <use xlink:href=\"#DejaVuSans-48\"/>\r\n       <use x=\"63.623047\" xlink:href=\"#DejaVuSans-46\"/>\r\n       <use x=\"95.410156\" xlink:href=\"#DejaVuSans-54\"/>\r\n      </g>\r\n     </g>\r\n    </g>\r\n    <g id=\"ytick_6\">\r\n     <g id=\"line2d_13\">\r\n      <g>\r\n       <use style=\"stroke:#000000;stroke-width:0.8;\" x=\"30.103125\" xlink:href=\"#m529f8bc9b7\" y=\"187.765074\"/>\r\n      </g>\r\n     </g>\r\n     <g id=\"text_13\">\r\n      <!-- 0.7 -->\r\n      <g transform=\"translate(7.2 191.564293)scale(0.1 -0.1)\">\r\n       <defs>\r\n        <path d=\"M 8.203125 72.90625 \r\nL 55.078125 72.90625 \r\nL 55.078125 68.703125 \r\nL 28.609375 0 \r\nL 18.3125 0 \r\nL 43.21875 64.59375 \r\nL 8.203125 64.59375 \r\nz\r\n\" id=\"DejaVuSans-55\"/>\r\n       </defs>\r\n       <use xlink:href=\"#DejaVuSans-48\"/>\r\n       <use x=\"63.623047\" xlink:href=\"#DejaVuSans-46\"/>\r\n       <use x=\"95.410156\" xlink:href=\"#DejaVuSans-55\"/>\r\n      </g>\r\n     </g>\r\n    </g>\r\n    <g id=\"ytick_7\">\r\n     <g id=\"line2d_14\">\r\n      <g>\r\n       <use style=\"stroke:#000000;stroke-width:0.8;\" x=\"30.103125\" xlink:href=\"#m529f8bc9b7\" y=\"116.366782\"/>\r\n      </g>\r\n     </g>\r\n     <g id=\"text_14\">\r\n      <!-- 0.8 -->\r\n      <g transform=\"translate(7.2 120.166001)scale(0.1 -0.1)\">\r\n       <defs>\r\n        <path d=\"M 31.78125 34.625 \r\nQ 24.75 34.625 20.71875 30.859375 \r\nQ 16.703125 27.09375 16.703125 20.515625 \r\nQ 16.703125 13.921875 20.71875 10.15625 \r\nQ 24.75 6.390625 31.78125 6.390625 \r\nQ 38.8125 6.390625 42.859375 10.171875 \r\nQ 46.921875 13.96875 46.921875 20.515625 \r\nQ 46.921875 27.09375 42.890625 30.859375 \r\nQ 38.875 34.625 31.78125 34.625 \r\nz\r\nM 21.921875 38.8125 \r\nQ 15.578125 40.375 12.03125 44.71875 \r\nQ 8.5 49.078125 8.5 55.328125 \r\nQ 8.5 64.0625 14.71875 69.140625 \r\nQ 20.953125 74.21875 31.78125 74.21875 \r\nQ 42.671875 74.21875 48.875 69.140625 \r\nQ 55.078125 64.0625 55.078125 55.328125 \r\nQ 55.078125 49.078125 51.53125 44.71875 \r\nQ 48 40.375 41.703125 38.8125 \r\nQ 48.828125 37.15625 52.796875 32.3125 \r\nQ 56.78125 27.484375 56.78125 20.515625 \r\nQ 56.78125 9.90625 50.3125 4.234375 \r\nQ 43.84375 -1.421875 31.78125 -1.421875 \r\nQ 19.734375 -1.421875 13.25 4.234375 \r\nQ 6.78125 9.90625 6.78125 20.515625 \r\nQ 6.78125 27.484375 10.78125 32.3125 \r\nQ 14.796875 37.15625 21.921875 38.8125 \r\nz\r\nM 18.3125 54.390625 \r\nQ 18.3125 48.734375 21.84375 45.5625 \r\nQ 25.390625 42.390625 31.78125 42.390625 \r\nQ 38.140625 42.390625 41.71875 45.5625 \r\nQ 45.3125 48.734375 45.3125 54.390625 \r\nQ 45.3125 60.0625 41.71875 63.234375 \r\nQ 38.140625 66.40625 31.78125 66.40625 \r\nQ 25.390625 66.40625 21.84375 63.234375 \r\nQ 18.3125 60.0625 18.3125 54.390625 \r\nz\r\n\" id=\"DejaVuSans-56\"/>\r\n       </defs>\r\n       <use xlink:href=\"#DejaVuSans-48\"/>\r\n       <use x=\"63.623047\" xlink:href=\"#DejaVuSans-46\"/>\r\n       <use x=\"95.410156\" xlink:href=\"#DejaVuSans-56\"/>\r\n      </g>\r\n     </g>\r\n    </g>\r\n    <g id=\"ytick_8\">\r\n     <g id=\"line2d_15\">\r\n      <g>\r\n       <use style=\"stroke:#000000;stroke-width:0.8;\" x=\"30.103125\" xlink:href=\"#m529f8bc9b7\" y=\"44.96849\"/>\r\n      </g>\r\n     </g>\r\n     <g id=\"text_15\">\r\n      <!-- 0.9 -->\r\n      <g transform=\"translate(7.2 48.767709)scale(0.1 -0.1)\">\r\n       <defs>\r\n        <path d=\"M 10.984375 1.515625 \r\nL 10.984375 10.5 \r\nQ 14.703125 8.734375 18.5 7.8125 \r\nQ 22.3125 6.890625 25.984375 6.890625 \r\nQ 35.75 6.890625 40.890625 13.453125 \r\nQ 46.046875 20.015625 46.78125 33.40625 \r\nQ 43.953125 29.203125 39.59375 26.953125 \r\nQ 35.25 24.703125 29.984375 24.703125 \r\nQ 19.046875 24.703125 12.671875 31.3125 \r\nQ 6.296875 37.9375 6.296875 49.421875 \r\nQ 6.296875 60.640625 12.9375 67.421875 \r\nQ 19.578125 74.21875 30.609375 74.21875 \r\nQ 43.265625 74.21875 49.921875 64.515625 \r\nQ 56.59375 54.828125 56.59375 36.375 \r\nQ 56.59375 19.140625 48.40625 8.859375 \r\nQ 40.234375 -1.421875 26.421875 -1.421875 \r\nQ 22.703125 -1.421875 18.890625 -0.6875 \r\nQ 15.09375 0.046875 10.984375 1.515625 \r\nz\r\nM 30.609375 32.421875 \r\nQ 37.25 32.421875 41.125 36.953125 \r\nQ 45.015625 41.5 45.015625 49.421875 \r\nQ 45.015625 57.28125 41.125 61.84375 \r\nQ 37.25 66.40625 30.609375 66.40625 \r\nQ 23.96875 66.40625 20.09375 61.84375 \r\nQ 16.21875 57.28125 16.21875 49.421875 \r\nQ 16.21875 41.5 20.09375 36.953125 \r\nQ 23.96875 32.421875 30.609375 32.421875 \r\nz\r\n\" id=\"DejaVuSans-57\"/>\r\n       </defs>\r\n       <use xlink:href=\"#DejaVuSans-48\"/>\r\n       <use x=\"63.623047\" xlink:href=\"#DejaVuSans-46\"/>\r\n       <use x=\"95.410156\" xlink:href=\"#DejaVuSans-57\"/>\r\n      </g>\r\n     </g>\r\n    </g>\r\n   </g>\r\n   <g id=\"line2d_16\">\r\n    <path clip-path=\"url(#pbf7ccf4b14)\" d=\"M 60.539489 181.205776 \r\nL 81.530084 339.288569 \r\nL 102.52068 373.288328 \r\nL 123.511275 392.539638 \r\nL 144.501871 406.881075 \r\nL 165.492467 417.805252 \r\nL 186.483062 427.917979 \r\nL 207.473658 435.640573 \r\nL 228.464254 443.65002 \r\nL 249.454849 450.504542 \r\nL 270.445445 456.098727 \r\nL 291.43604 461.867096 \r\nL 312.426636 465.925238 \r\nL 333.417232 472.288593 \r\nL 354.407827 476.919527 \r\nL 375.398423 480.377131 \r\nL 396.389018 484.914229 \r\nL 417.379614 488.584318 \r\nL 438.37021 492.257132 \r\nL 459.360805 495.623877 \r\nL 480.351401 499.536625 \r\nL 501.341996 502.918861 \r\nL 522.332592 505.530481 \r\nL 543.323188 509.456879 \r\nL 564.313783 512.091553 \r\nL 585.304379 515.278039 \r\nL 606.294975 518.114124 \r\nL 627.28557 520.858659 \r\nL 648.276166 523.033083 \r\nL 669.266761 526.090909 \r\n\" style=\"fill:none;stroke:#1f77b4;stroke-linecap:square;stroke-width:1.5;\"/>\r\n   </g>\r\n   <g id=\"line2d_17\">\r\n    <path clip-path=\"url(#pbf7ccf4b14)\" d=\"M 60.539489 141.096556 \r\nL 81.530084 95.077105 \r\nL 102.52068 83.666377 \r\nL 123.511275 77.513147 \r\nL 144.501871 72.138789 \r\nL 165.492467 68.542918 \r\nL 186.483062 64.843167 \r\nL 207.473658 63.025783 \r\nL 228.464254 60.221764 \r\nL 249.454849 58.28752 \r\nL 270.445445 55.75612 \r\nL 291.43604 53.860815 \r\nL 312.426636 53.36754 \r\nL 333.417232 50.875079 \r\nL 354.407827 49.447132 \r\nL 375.398423 48.29176 \r\nL 396.389018 46.643114 \r\nL 417.379614 44.942548 \r\nL 438.37021 43.670358 \r\nL 459.360805 42.995281 \r\nL 480.351401 40.983158 \r\nL 501.341996 39.775867 \r\nL 522.332592 39.840808 \r\nL 543.323188 37.776723 \r\nL 564.313783 36.85503 \r\nL 585.304379 35.362184 \r\nL 606.294975 34.466451 \r\nL 627.28557 33.804396 \r\nL 648.276166 32.999521 \r\nL 669.266761 31.909091 \r\n\" style=\"fill:none;stroke:#ff7f0e;stroke-linecap:square;stroke-width:1.5;\"/>\r\n   </g>\r\n   <g id=\"line2d_18\">\r\n    <path clip-path=\"url(#pbf7ccf4b14)\" d=\"M 60.539489 312.552643 \r\nL 81.530084 337.735335 \r\nL 102.52068 372.822652 \r\nL 123.511275 370.85783 \r\nL 144.501871 418.533546 \r\nL 165.492467 423.640946 \r\nL 186.483062 406.191018 \r\nL 207.473658 437.657696 \r\nL 228.464254 435.415214 \r\nL 249.454849 443.290054 \r\nL 270.445445 445.165336 \r\nL 291.43604 445.21317 \r\nL 312.426636 447.181396 \r\nL 333.417232 456.545083 \r\nL 354.407827 456.558977 \r\nL 375.398423 462.127947 \r\nL 396.389018 454.430866 \r\nL 417.379614 468.494067 \r\nL 438.37021 464.373174 \r\nL 459.360805 472.315659 \r\nL 480.351401 467.378422 \r\nL 501.341996 460.612503 \r\nL 522.332592 466.788544 \r\nL 543.323188 470.914288 \r\nL 564.313783 472.644728 \r\nL 585.304379 465.57023 \r\nL 606.294975 478.91933 \r\nL 627.28557 478.084453 \r\nL 648.276166 475.39721 \r\nL 669.266761 478.254467 \r\n\" style=\"fill:none;stroke:#2ca02c;stroke-linecap:square;stroke-width:1.5;\"/>\r\n   </g>\r\n   <g id=\"line2d_19\">\r\n    <path clip-path=\"url(#pbf7ccf4b14)\" d=\"M 60.539489 104.943067 \r\nL 81.530084 94.233333 \r\nL 102.52068 81.381636 \r\nL 123.511275 86.236717 \r\nL 144.501871 63.817635 \r\nL 165.492467 63.674857 \r\nL 186.483062 74.098993 \r\nL 207.473658 60.6761 \r\nL 228.464254 60.533322 \r\nL 249.454849 59.39093 \r\nL 270.445445 60.390502 \r\nL 291.43604 57.677385 \r\nL 312.426636 57.962983 \r\nL 333.417232 55.821019 \r\nL 354.407827 55.678241 \r\nL 375.398423 53.3935 \r\nL 396.389018 59.248152 \r\nL 417.379614 52.251108 \r\nL 438.37021 54.250251 \r\nL 459.360805 51.96551 \r\nL 480.351401 53.3935 \r\nL 501.341996 56.106617 \r\nL 522.332592 54.107473 \r\nL 543.323188 53.250679 \r\nL 564.313783 53.107902 \r\nL 585.304379 53.107902 \r\nL 606.294975 49.680768 \r\nL 627.28557 46.824831 \r\nL 648.276166 52.822304 \r\nL 669.266761 50.109186 \r\n\" style=\"fill:none;stroke:#d62728;stroke-linecap:square;stroke-width:1.5;\"/>\r\n   </g>\r\n   <g id=\"patch_3\">\r\n    <path d=\"M 30.103125 550.8 \r\nL 30.103125 7.2 \r\n\" style=\"fill:none;stroke:#000000;stroke-linecap:square;stroke-linejoin:miter;stroke-width:0.8;\"/>\r\n   </g>\r\n   <g id=\"patch_4\">\r\n    <path d=\"M 699.703125 550.8 \r\nL 699.703125 7.2 \r\n\" style=\"fill:none;stroke:#000000;stroke-linecap:square;stroke-linejoin:miter;stroke-width:0.8;\"/>\r\n   </g>\r\n   <g id=\"patch_5\">\r\n    <path d=\"M 30.103125 550.8 \r\nL 699.703125 550.8 \r\n\" style=\"fill:none;stroke:#000000;stroke-linecap:square;stroke-linejoin:miter;stroke-width:0.8;\"/>\r\n   </g>\r\n   <g id=\"patch_6\">\r\n    <path d=\"M 30.103125 7.2 \r\nL 699.703125 7.2 \r\n\" style=\"fill:none;stroke:#000000;stroke-linecap:square;stroke-linejoin:miter;stroke-width:0.8;\"/>\r\n   </g>\r\n   <g id=\"legend_1\">\r\n    <g id=\"patch_7\">\r\n     <path d=\"M 37.103125 545.8 \r\nL 134.046875 545.8 \r\nQ 136.046875 545.8 136.046875 543.8 \r\nL 136.046875 485.53125 \r\nQ 136.046875 483.53125 134.046875 483.53125 \r\nL 37.103125 483.53125 \r\nQ 35.103125 483.53125 35.103125 485.53125 \r\nL 35.103125 543.8 \r\nQ 35.103125 545.8 37.103125 545.8 \r\nz\r\n\" style=\"fill:#ffffff;opacity:0.8;stroke:#cccccc;stroke-linejoin:miter;\"/>\r\n    </g>\r\n    <g id=\"line2d_20\">\r\n     <path d=\"M 39.103125 491.629688 \r\nL 59.103125 491.629688 \r\n\" style=\"fill:none;stroke:#1f77b4;stroke-linecap:square;stroke-width:1.5;\"/>\r\n    </g>\r\n    <g id=\"line2d_21\"/>\r\n    <g id=\"text_16\">\r\n     <!-- loss -->\r\n     <g transform=\"translate(67.103125 495.129688)scale(0.1 -0.1)\">\r\n      <defs>\r\n       <path d=\"M 9.421875 75.984375 \r\nL 18.40625 75.984375 \r\nL 18.40625 0 \r\nL 9.421875 0 \r\nz\r\n\" id=\"DejaVuSans-108\"/>\r\n       <path d=\"M 30.609375 48.390625 \r\nQ 23.390625 48.390625 19.1875 42.75 \r\nQ 14.984375 37.109375 14.984375 27.296875 \r\nQ 14.984375 17.484375 19.15625 11.84375 \r\nQ 23.34375 6.203125 30.609375 6.203125 \r\nQ 37.796875 6.203125 41.984375 11.859375 \r\nQ 46.1875 17.53125 46.1875 27.296875 \r\nQ 46.1875 37.015625 41.984375 42.703125 \r\nQ 37.796875 48.390625 30.609375 48.390625 \r\nz\r\nM 30.609375 56 \r\nQ 42.328125 56 49.015625 48.375 \r\nQ 55.71875 40.765625 55.71875 27.296875 \r\nQ 55.71875 13.875 49.015625 6.21875 \r\nQ 42.328125 -1.421875 30.609375 -1.421875 \r\nQ 18.84375 -1.421875 12.171875 6.21875 \r\nQ 5.515625 13.875 5.515625 27.296875 \r\nQ 5.515625 40.765625 12.171875 48.375 \r\nQ 18.84375 56 30.609375 56 \r\nz\r\n\" id=\"DejaVuSans-111\"/>\r\n       <path d=\"M 44.28125 53.078125 \r\nL 44.28125 44.578125 \r\nQ 40.484375 46.53125 36.375 47.5 \r\nQ 32.28125 48.484375 27.875 48.484375 \r\nQ 21.1875 48.484375 17.84375 46.4375 \r\nQ 14.5 44.390625 14.5 40.28125 \r\nQ 14.5 37.15625 16.890625 35.375 \r\nQ 19.28125 33.59375 26.515625 31.984375 \r\nL 29.59375 31.296875 \r\nQ 39.15625 29.25 43.1875 25.515625 \r\nQ 47.21875 21.78125 47.21875 15.09375 \r\nQ 47.21875 7.46875 41.1875 3.015625 \r\nQ 35.15625 -1.421875 24.609375 -1.421875 \r\nQ 20.21875 -1.421875 15.453125 -0.5625 \r\nQ 10.6875 0.296875 5.421875 2 \r\nL 5.421875 11.28125 \r\nQ 10.40625 8.6875 15.234375 7.390625 \r\nQ 20.0625 6.109375 24.8125 6.109375 \r\nQ 31.15625 6.109375 34.5625 8.28125 \r\nQ 37.984375 10.453125 37.984375 14.40625 \r\nQ 37.984375 18.0625 35.515625 20.015625 \r\nQ 33.0625 21.96875 24.703125 23.78125 \r\nL 21.578125 24.515625 \r\nQ 13.234375 26.265625 9.515625 29.90625 \r\nQ 5.8125 33.546875 5.8125 39.890625 \r\nQ 5.8125 47.609375 11.28125 51.796875 \r\nQ 16.75 56 26.8125 56 \r\nQ 31.78125 56 36.171875 55.265625 \r\nQ 40.578125 54.546875 44.28125 53.078125 \r\nz\r\n\" id=\"DejaVuSans-115\"/>\r\n      </defs>\r\n      <use xlink:href=\"#DejaVuSans-108\"/>\r\n      <use x=\"27.783203\" xlink:href=\"#DejaVuSans-111\"/>\r\n      <use x=\"88.964844\" xlink:href=\"#DejaVuSans-115\"/>\r\n      <use x=\"141.064453\" xlink:href=\"#DejaVuSans-115\"/>\r\n     </g>\r\n    </g>\r\n    <g id=\"line2d_22\">\r\n     <path d=\"M 39.103125 506.307813 \r\nL 59.103125 506.307813 \r\n\" style=\"fill:none;stroke:#ff7f0e;stroke-linecap:square;stroke-width:1.5;\"/>\r\n    </g>\r\n    <g id=\"line2d_23\"/>\r\n    <g id=\"text_17\">\r\n     <!-- accuracy -->\r\n     <g transform=\"translate(67.103125 509.807813)scale(0.1 -0.1)\">\r\n      <defs>\r\n       <path d=\"M 34.28125 27.484375 \r\nQ 23.390625 27.484375 19.1875 25 \r\nQ 14.984375 22.515625 14.984375 16.5 \r\nQ 14.984375 11.71875 18.140625 8.90625 \r\nQ 21.296875 6.109375 26.703125 6.109375 \r\nQ 34.1875 6.109375 38.703125 11.40625 \r\nQ 43.21875 16.703125 43.21875 25.484375 \r\nL 43.21875 27.484375 \r\nz\r\nM 52.203125 31.203125 \r\nL 52.203125 0 \r\nL 43.21875 0 \r\nL 43.21875 8.296875 \r\nQ 40.140625 3.328125 35.546875 0.953125 \r\nQ 30.953125 -1.421875 24.3125 -1.421875 \r\nQ 15.921875 -1.421875 10.953125 3.296875 \r\nQ 6 8.015625 6 15.921875 \r\nQ 6 25.140625 12.171875 29.828125 \r\nQ 18.359375 34.515625 30.609375 34.515625 \r\nL 43.21875 34.515625 \r\nL 43.21875 35.40625 \r\nQ 43.21875 41.609375 39.140625 45 \r\nQ 35.0625 48.390625 27.6875 48.390625 \r\nQ 23 48.390625 18.546875 47.265625 \r\nQ 14.109375 46.140625 10.015625 43.890625 \r\nL 10.015625 52.203125 \r\nQ 14.9375 54.109375 19.578125 55.046875 \r\nQ 24.21875 56 28.609375 56 \r\nQ 40.484375 56 46.34375 49.84375 \r\nQ 52.203125 43.703125 52.203125 31.203125 \r\nz\r\n\" id=\"DejaVuSans-97\"/>\r\n       <path d=\"M 48.78125 52.59375 \r\nL 48.78125 44.1875 \r\nQ 44.96875 46.296875 41.140625 47.34375 \r\nQ 37.3125 48.390625 33.40625 48.390625 \r\nQ 24.65625 48.390625 19.8125 42.84375 \r\nQ 14.984375 37.3125 14.984375 27.296875 \r\nQ 14.984375 17.28125 19.8125 11.734375 \r\nQ 24.65625 6.203125 33.40625 6.203125 \r\nQ 37.3125 6.203125 41.140625 7.25 \r\nQ 44.96875 8.296875 48.78125 10.40625 \r\nL 48.78125 2.09375 \r\nQ 45.015625 0.34375 40.984375 -0.53125 \r\nQ 36.96875 -1.421875 32.421875 -1.421875 \r\nQ 20.0625 -1.421875 12.78125 6.34375 \r\nQ 5.515625 14.109375 5.515625 27.296875 \r\nQ 5.515625 40.671875 12.859375 48.328125 \r\nQ 20.21875 56 33.015625 56 \r\nQ 37.15625 56 41.109375 55.140625 \r\nQ 45.0625 54.296875 48.78125 52.59375 \r\nz\r\n\" id=\"DejaVuSans-99\"/>\r\n       <path d=\"M 8.5 21.578125 \r\nL 8.5 54.6875 \r\nL 17.484375 54.6875 \r\nL 17.484375 21.921875 \r\nQ 17.484375 14.15625 20.5 10.265625 \r\nQ 23.53125 6.390625 29.59375 6.390625 \r\nQ 36.859375 6.390625 41.078125 11.03125 \r\nQ 45.3125 15.671875 45.3125 23.6875 \r\nL 45.3125 54.6875 \r\nL 54.296875 54.6875 \r\nL 54.296875 0 \r\nL 45.3125 0 \r\nL 45.3125 8.40625 \r\nQ 42.046875 3.421875 37.71875 1 \r\nQ 33.40625 -1.421875 27.6875 -1.421875 \r\nQ 18.265625 -1.421875 13.375 4.4375 \r\nQ 8.5 10.296875 8.5 21.578125 \r\nz\r\nM 31.109375 56 \r\nz\r\n\" id=\"DejaVuSans-117\"/>\r\n       <path d=\"M 41.109375 46.296875 \r\nQ 39.59375 47.171875 37.8125 47.578125 \r\nQ 36.03125 48 33.890625 48 \r\nQ 26.265625 48 22.1875 43.046875 \r\nQ 18.109375 38.09375 18.109375 28.8125 \r\nL 18.109375 0 \r\nL 9.078125 0 \r\nL 9.078125 54.6875 \r\nL 18.109375 54.6875 \r\nL 18.109375 46.1875 \r\nQ 20.953125 51.171875 25.484375 53.578125 \r\nQ 30.03125 56 36.53125 56 \r\nQ 37.453125 56 38.578125 55.875 \r\nQ 39.703125 55.765625 41.0625 55.515625 \r\nz\r\n\" id=\"DejaVuSans-114\"/>\r\n       <path d=\"M 32.171875 -5.078125 \r\nQ 28.375 -14.84375 24.75 -17.8125 \r\nQ 21.140625 -20.796875 15.09375 -20.796875 \r\nL 7.90625 -20.796875 \r\nL 7.90625 -13.28125 \r\nL 13.1875 -13.28125 \r\nQ 16.890625 -13.28125 18.9375 -11.515625 \r\nQ 21 -9.765625 23.484375 -3.21875 \r\nL 25.09375 0.875 \r\nL 2.984375 54.6875 \r\nL 12.5 54.6875 \r\nL 29.59375 11.921875 \r\nL 46.6875 54.6875 \r\nL 56.203125 54.6875 \r\nz\r\n\" id=\"DejaVuSans-121\"/>\r\n      </defs>\r\n      <use xlink:href=\"#DejaVuSans-97\"/>\r\n      <use x=\"61.279297\" xlink:href=\"#DejaVuSans-99\"/>\r\n      <use x=\"116.259766\" xlink:href=\"#DejaVuSans-99\"/>\r\n      <use x=\"171.240234\" xlink:href=\"#DejaVuSans-117\"/>\r\n      <use x=\"234.619141\" xlink:href=\"#DejaVuSans-114\"/>\r\n      <use x=\"275.732422\" xlink:href=\"#DejaVuSans-97\"/>\r\n      <use x=\"337.011719\" xlink:href=\"#DejaVuSans-99\"/>\r\n      <use x=\"391.992188\" xlink:href=\"#DejaVuSans-121\"/>\r\n     </g>\r\n    </g>\r\n    <g id=\"line2d_24\">\r\n     <path d=\"M 39.103125 520.985938 \r\nL 59.103125 520.985938 \r\n\" style=\"fill:none;stroke:#2ca02c;stroke-linecap:square;stroke-width:1.5;\"/>\r\n    </g>\r\n    <g id=\"line2d_25\"/>\r\n    <g id=\"text_18\">\r\n     <!-- val_loss -->\r\n     <g transform=\"translate(67.103125 524.485938)scale(0.1 -0.1)\">\r\n      <defs>\r\n       <path d=\"M 2.984375 54.6875 \r\nL 12.5 54.6875 \r\nL 29.59375 8.796875 \r\nL 46.6875 54.6875 \r\nL 56.203125 54.6875 \r\nL 35.6875 0 \r\nL 23.484375 0 \r\nz\r\n\" id=\"DejaVuSans-118\"/>\r\n       <path d=\"M 50.984375 -16.609375 \r\nL 50.984375 -23.578125 \r\nL -0.984375 -23.578125 \r\nL -0.984375 -16.609375 \r\nz\r\n\" id=\"DejaVuSans-95\"/>\r\n      </defs>\r\n      <use xlink:href=\"#DejaVuSans-118\"/>\r\n      <use x=\"59.179688\" xlink:href=\"#DejaVuSans-97\"/>\r\n      <use x=\"120.458984\" xlink:href=\"#DejaVuSans-108\"/>\r\n      <use x=\"148.242188\" xlink:href=\"#DejaVuSans-95\"/>\r\n      <use x=\"198.242188\" xlink:href=\"#DejaVuSans-108\"/>\r\n      <use x=\"226.025391\" xlink:href=\"#DejaVuSans-111\"/>\r\n      <use x=\"287.207031\" xlink:href=\"#DejaVuSans-115\"/>\r\n      <use x=\"339.306641\" xlink:href=\"#DejaVuSans-115\"/>\r\n     </g>\r\n    </g>\r\n    <g id=\"line2d_26\">\r\n     <path d=\"M 39.103125 535.942188 \r\nL 59.103125 535.942188 \r\n\" style=\"fill:none;stroke:#d62728;stroke-linecap:square;stroke-width:1.5;\"/>\r\n    </g>\r\n    <g id=\"line2d_27\"/>\r\n    <g id=\"text_19\">\r\n     <!-- val_accuracy -->\r\n     <g transform=\"translate(67.103125 539.442188)scale(0.1 -0.1)\">\r\n      <use xlink:href=\"#DejaVuSans-118\"/>\r\n      <use x=\"59.179688\" xlink:href=\"#DejaVuSans-97\"/>\r\n      <use x=\"120.458984\" xlink:href=\"#DejaVuSans-108\"/>\r\n      <use x=\"148.242188\" xlink:href=\"#DejaVuSans-95\"/>\r\n      <use x=\"198.242188\" xlink:href=\"#DejaVuSans-97\"/>\r\n      <use x=\"259.521484\" xlink:href=\"#DejaVuSans-99\"/>\r\n      <use x=\"314.501953\" xlink:href=\"#DejaVuSans-99\"/>\r\n      <use x=\"369.482422\" xlink:href=\"#DejaVuSans-117\"/>\r\n      <use x=\"432.861328\" xlink:href=\"#DejaVuSans-114\"/>\r\n      <use x=\"473.974609\" xlink:href=\"#DejaVuSans-97\"/>\r\n      <use x=\"535.253906\" xlink:href=\"#DejaVuSans-99\"/>\r\n      <use x=\"590.234375\" xlink:href=\"#DejaVuSans-121\"/>\r\n     </g>\r\n    </g>\r\n   </g>\r\n  </g>\r\n </g>\r\n <defs>\r\n  <clipPath id=\"pbf7ccf4b14\">\r\n   <rect height=\"543.6\" width=\"669.6\" x=\"30.103125\" y=\"7.2\"/>\r\n  </clipPath>\r\n </defs>\r\n</svg>\r\n",
      "image/png": "[encoded data removed]"
     },
     "metadata": {
      "needs_background": "light"
     }
    }
   ],
   "source": [
    "import matplotlib.pyplot as plt\n",
    "fig,ax = plt.subplots(1,1,figsize = (12,10))\n",
    "ax.plot(df.index.values.tolist(),df[\"loss\"], label = \"loss\")\n",
    "ax.plot(df.index.values.tolist(),df[\"accuracy\"], label = \"accuracy\")\n",
    "ax.plot(df.index.values.tolist(),df[\"val_loss\"], label = \"val_loss\")\n",
    "ax.plot(df.index.values.tolist(),df[\"val_accuracy\"], label = \"val_accuracy\")\n",
    "ax.legend()"
   ]
  },
  {
   "cell_type": "code",
   "execution_count": 23,
   "metadata": {},
   "outputs": [
    {
     "output_type": "stream",
     "name": "stdout",
     "text": [
      "313/313 [==============================] - 2s 5ms/step - loss: 63.5705 - accuracy: 0.8393\n"
     ]
    },
    {
     "output_type": "execute_result",
     "data": {
      "text/plain": [
       "{'loss': 63.57048034667969, 'accuracy': 0.8392999768257141}"
      ]
     },
     "metadata": {},
     "execution_count": 23
    }
   ],
   "source": [
    "model.evaluate(X_test, y_test, return_dict=True)"
   ]
  },
  {
   "source": [
    "Making predictions using a model"
   ],
   "cell_type": "markdown",
   "metadata": {}
  },
  {
   "cell_type": "code",
   "execution_count": 24,
   "metadata": {},
   "outputs": [],
   "source": [
    "X_new = X_test[:3]\n",
    "y_proba = model.predict(X_new)\n",
    "#y_proba.round(2)"
   ]
  },
  {
   "cell_type": "code",
   "execution_count": 25,
   "metadata": {},
   "outputs": [
    {
     "output_type": "execute_result",
     "data": {
      "text/plain": [
       "array([[0., 0., 0., 0., 0., 0., 0., 0., 0., 1.],\n",
       "       [0., 0., 1., 0., 0., 0., 0., 0., 0., 0.],\n",
       "       [0., 1., 0., 0., 0., 0., 0., 0., 0., 0.]], dtype=float32)"
      ]
     },
     "metadata": {},
     "execution_count": 25
    }
   ],
   "source": [
    "y_proba"
   ]
  },
  {
   "cell_type": "code",
   "execution_count": 26,
   "metadata": {},
   "outputs": [
    {
     "output_type": "stream",
     "name": "stderr",
     "text": [
      "C:\\Users\\ASUS\\AppData\\Roaming\\Python\\Python38\\site-packages\\tensorflow\\python\\keras\\engine\\sequential.py:450: UserWarning: `model.predict_classes()` is deprecated and will be removed after 2021-01-01. Please use instead:* `np.argmax(model.predict(x), axis=-1)`,   if your model does multi-class classification   (e.g. if it uses a `softmax` last-layer activation).* `(model.predict(x) > 0.5).astype(\"int32\")`,   if your model does binary classification   (e.g. if it uses a `sigmoid` last-layer activation).\n  warnings.warn('`model.predict_classes()` is deprecated and '\n"
     ]
    },
    {
     "output_type": "execute_result",
     "data": {
      "text/plain": [
       "array([9, 2, 1], dtype=int64)"
      ]
     },
     "metadata": {},
     "execution_count": 26
    }
   ],
   "source": [
    "model.predict_classes(X_new)"
   ]
  },
  {
   "source": [
    "<h2> Building a Regression MLP using the Sequential API </h2> "
   ],
   "cell_type": "markdown",
   "metadata": {}
  },
  {
   "cell_type": "code",
   "execution_count": 27,
   "metadata": {},
   "outputs": [],
   "source": [
    "#using a regression neural network\n",
    "from sklearn.datasets import fetch_california_housing\n",
    "from sklearn.model_selection import train_test_split\n",
    "from sklearn.preprocessing import StandardScaler\n",
    "\n",
    "housing = fetch_california_housing()\n",
    "x_train_full_reg,x_test_reg,y_train_full_reg,y_test_reg = train_test_split(housing.data, housing.target)\n",
    "\n",
    "\n",
    "x_train_reg, x_valid_reg, y_train_reg, y_valid_reg = train_test_split(x_train_full_reg, y_train_full_reg)"
   ]
  },
  {
   "cell_type": "code",
   "execution_count": 28,
   "metadata": {},
   "outputs": [],
   "source": [
    "scaler = StandardScaler()\n",
    "#notice that we fit_transform on the train set and transform on the validation and test sets\n",
    "x_train_reg_scaled = scaler.fit_transform(x_train_reg)\n",
    "x_valid_reg_scaled = scaler.transform(x_valid_reg)\n",
    "x_test_reg_scaled = scaler.transform(x_test_reg)"
   ]
  },
  {
   "cell_type": "code",
   "execution_count": 29,
   "metadata": {},
   "outputs": [],
   "source": [
    "model_reg = keras.models.Sequential()"
   ]
  },
  {
   "cell_type": "code",
   "execution_count": 30,
   "metadata": {},
   "outputs": [],
   "source": [
    "#adding input layer\n",
    "model_reg.add(keras.layers.InputLayer(input_shape = x_train_reg_scaled.shape[1:]))\n",
    "model_reg.add(keras.layers.Dense(30, activation = \"relu\"))\n",
    "#the output neuron has no activation function to it\n",
    "model_reg.add(keras.layers.Dense(1))"
   ]
  },
  {
   "cell_type": "code",
   "execution_count": 31,
   "metadata": {},
   "outputs": [
    {
     "output_type": "stream",
     "name": "stdout",
     "text": [
      "Model: \"sequential_1\"\n_________________________________________________________________\nLayer (type)                 Output Shape              Param #   \n=================================================================\ndense_3 (Dense)              (None, 30)                270       \n_________________________________________________________________\ndense_4 (Dense)              (None, 1)                 31        \n=================================================================\nTotal params: 301\nTrainable params: 301\nNon-trainable params: 0\n_________________________________________________________________\n"
     ]
    }
   ],
   "source": [
    "model_reg.summary()"
   ]
  },
  {
   "cell_type": "code",
   "execution_count": 32,
   "metadata": {},
   "outputs": [],
   "source": [
    "#no need to always add the input_layer. We can always user keras.layers.Dense\n",
    "model_test = keras.models.Sequential([\n",
    "keras.layers.Dense(30, activation=\"relu\", input_shape=x_train_reg_scaled.shape[1:]),\n",
    "keras.layers.Dense(1)\n",
    "])"
   ]
  },
  {
   "cell_type": "code",
   "execution_count": 33,
   "metadata": {},
   "outputs": [
    {
     "output_type": "execute_result",
     "data": {
      "text/plain": [
       "(8,)"
      ]
     },
     "metadata": {},
     "execution_count": 33
    }
   ],
   "source": [
    "x_train_reg_scaled.shape[1:]"
   ]
  },
  {
   "cell_type": "code",
   "execution_count": 34,
   "metadata": {},
   "outputs": [
    {
     "output_type": "stream",
     "name": "stdout",
     "text": [
      "Model: \"sequential_2\"\n_________________________________________________________________\nLayer (type)                 Output Shape              Param #   \n=================================================================\ndense_5 (Dense)              (None, 30)                270       \n_________________________________________________________________\ndense_6 (Dense)              (None, 1)                 31        \n=================================================================\nTotal params: 301\nTrainable params: 301\nNon-trainable params: 0\n_________________________________________________________________\n"
     ]
    }
   ],
   "source": [
    "model_test.summary()"
   ]
  },
  {
   "cell_type": "code",
   "execution_count": 35,
   "metadata": {},
   "outputs": [],
   "source": [
    "model_reg.compile(loss = \"mean_squared_error\", optimizer = \"sgd\", metrics=tf.keras.metrics.MeanSquaredError())"
   ]
  },
  {
   "cell_type": "code",
   "execution_count": 36,
   "metadata": {},
   "outputs": [
    {
     "output_type": "stream",
     "name": "stdout",
     "text": [
      "Epoch 1/20\n",
      "363/363 [==============================] - 2s 4ms/step - loss: 1.2489 - mean_squared_error: 1.2489 - val_loss: 0.5491 - val_mean_squared_error: 0.5491\n",
      "Epoch 2/20\n",
      "363/363 [==============================] - 1s 2ms/step - loss: 0.5476 - mean_squared_error: 0.5476 - val_loss: 0.4789 - val_mean_squared_error: 0.4789\n",
      "Epoch 3/20\n",
      "363/363 [==============================] - 1s 3ms/step - loss: 0.5193 - mean_squared_error: 0.5193 - val_loss: 0.4721 - val_mean_squared_error: 0.4721\n",
      "Epoch 4/20\n",
      "363/363 [==============================] - 2s 5ms/step - loss: 0.4793 - mean_squared_error: 0.4793 - val_loss: 0.4550 - val_mean_squared_error: 0.4550\n",
      "Epoch 5/20\n",
      "363/363 [==============================] - 2s 5ms/step - loss: 0.4658 - mean_squared_error: 0.4658 - val_loss: 0.4349 - val_mean_squared_error: 0.4349\n",
      "Epoch 6/20\n",
      "363/363 [==============================] - 2s 5ms/step - loss: 0.4706 - mean_squared_error: 0.4706 - val_loss: 0.4236 - val_mean_squared_error: 0.4236\n",
      "Epoch 7/20\n",
      "363/363 [==============================] - 2s 5ms/step - loss: 0.4380 - mean_squared_error: 0.4380 - val_loss: 0.4185 - val_mean_squared_error: 0.4185\n",
      "Epoch 8/20\n",
      "363/363 [==============================] - 2s 5ms/step - loss: 0.4374 - mean_squared_error: 0.4374 - val_loss: 0.4096 - val_mean_squared_error: 0.4096\n",
      "Epoch 9/20\n",
      "363/363 [==============================] - 2s 5ms/step - loss: 0.4164 - mean_squared_error: 0.4164 - val_loss: 0.4059 - val_mean_squared_error: 0.4059\n",
      "Epoch 10/20\n",
      "363/363 [==============================] - 2s 5ms/step - loss: 0.4165 - mean_squared_error: 0.4165 - val_loss: 0.4031 - val_mean_squared_error: 0.4031\n",
      "Epoch 11/20\n",
      "363/363 [==============================] - 2s 5ms/step - loss: 0.4305 - mean_squared_error: 0.4305 - val_loss: 0.4024 - val_mean_squared_error: 0.4024\n",
      "Epoch 12/20\n",
      "363/363 [==============================] - 2s 5ms/step - loss: 0.4268 - mean_squared_error: 0.4268 - val_loss: 0.3987 - val_mean_squared_error: 0.3987\n",
      "Epoch 13/20\n",
      "363/363 [==============================] - 1s 3ms/step - loss: 0.4147 - mean_squared_error: 0.4147 - val_loss: 0.3938 - val_mean_squared_error: 0.3938\n",
      "Epoch 14/20\n",
      "363/363 [==============================] - 1s 3ms/step - loss: 0.4040 - mean_squared_error: 0.4040 - val_loss: 0.3910 - val_mean_squared_error: 0.3910\n",
      "Epoch 15/20\n",
      "363/363 [==============================] - 1s 2ms/step - loss: 0.4101 - mean_squared_error: 0.4101 - val_loss: 0.3876 - val_mean_squared_error: 0.3876\n",
      "Epoch 16/20\n",
      "363/363 [==============================] - 1s 2ms/step - loss: 0.4105 - mean_squared_error: 0.4105 - val_loss: 0.3841 - val_mean_squared_error: 0.3841\n",
      "Epoch 17/20\n",
      "363/363 [==============================] - 1s 3ms/step - loss: 0.3819 - mean_squared_error: 0.3819 - val_loss: 0.3859 - val_mean_squared_error: 0.3859\n",
      "Epoch 18/20\n",
      "363/363 [==============================] - 2s 5ms/step - loss: 0.3971 - mean_squared_error: 0.3971 - val_loss: 0.3851 - val_mean_squared_error: 0.3851\n",
      "Epoch 19/20\n",
      "363/363 [==============================] - 2s 5ms/step - loss: 0.3867 - mean_squared_error: 0.3867 - val_loss: 0.3801 - val_mean_squared_error: 0.3801\n",
      "Epoch 20/20\n",
      "363/363 [==============================] - 2s 5ms/step - loss: 0.3972 - mean_squared_error: 0.3972 - val_loss: 0.3751 - val_mean_squared_error: 0.3751\n"
     ]
    }
   ],
   "source": [
    "\"\"\" for epoch in range(n_epochs):\n",
    "for i in range(m):\n",
    "random_index = np.random.randint(m)\n",
    "xi = X_b[random_index:random_index+1]\n",
    "yi = y[random_index:random_index+1]\n",
    "gradients = 2 * xi.T.dot(xi.dot(theta) - yi)\n",
    "eta = learning_schedule(epoch * m + i)\n",
    "theta = theta - eta * gradients \"\"\"\n",
    "\n",
    "#The above code shows how epochs work. For each epoch, It selects batches of instances and then applies the training for a stochastic instance in each batch.\n",
    "\n",
    "history = model_reg.fit(x_train_reg_scaled, y_train_reg, epochs = 20, validation_data = (x_valid_reg_scaled, y_valid_reg))\n"
   ]
  },
  {
   "cell_type": "code",
   "execution_count": 37,
   "metadata": {},
   "outputs": [
    {
     "output_type": "execute_result",
     "data": {
      "text/plain": [
       "{'loss': [0.8256701231002808,\n",
       "  0.5374156832695007,\n",
       "  0.6263853311538696,\n",
       "  0.4809531569480896,\n",
       "  0.46304014325141907,\n",
       "  0.4512423276901245,\n",
       "  0.4423277676105499,\n",
       "  0.43247637152671814,\n",
       "  0.4257669150829315,\n",
       "  0.41985100507736206,\n",
       "  0.4139631986618042,\n",
       "  0.41413140296936035,\n",
       "  0.40843451023101807,\n",
       "  0.4060514569282532,\n",
       "  0.4019498825073242,\n",
       "  0.3968123495578766,\n",
       "  0.3917056918144226,\n",
       "  0.3904537856578827,\n",
       "  0.38608789443969727,\n",
       "  0.3925602436065674],\n",
       " 'mean_squared_error': [0.8256701231002808,\n",
       "  0.5374156832695007,\n",
       "  0.6263853311538696,\n",
       "  0.4809531569480896,\n",
       "  0.46304014325141907,\n",
       "  0.4512423276901245,\n",
       "  0.4423277676105499,\n",
       "  0.43247637152671814,\n",
       "  0.4257669150829315,\n",
       "  0.41985100507736206,\n",
       "  0.4139631986618042,\n",
       "  0.41413140296936035,\n",
       "  0.40843451023101807,\n",
       "  0.4060514569282532,\n",
       "  0.4019498825073242,\n",
       "  0.3968123495578766,\n",
       "  0.3917056918144226,\n",
       "  0.3904537856578827,\n",
       "  0.38608789443969727,\n",
       "  0.3925602436065674],\n",
       " 'val_loss': [0.549138069152832,\n",
       "  0.47892528772354126,\n",
       "  0.4721052944660187,\n",
       "  0.455034464597702,\n",
       "  0.43485966324806213,\n",
       "  0.4236452281475067,\n",
       "  0.4185093641281128,\n",
       "  0.40955647826194763,\n",
       "  0.40594053268432617,\n",
       "  0.40312013030052185,\n",
       "  0.4023797810077667,\n",
       "  0.39872631430625916,\n",
       "  0.393787145614624,\n",
       "  0.3909687399864197,\n",
       "  0.38756224513053894,\n",
       "  0.38405707478523254,\n",
       "  0.3858581781387329,\n",
       "  0.38509756326675415,\n",
       "  0.3801189064979553,\n",
       "  0.37511780858039856],\n",
       " 'val_mean_squared_error': [0.549138069152832,\n",
       "  0.47892528772354126,\n",
       "  0.4721052944660187,\n",
       "  0.455034464597702,\n",
       "  0.43485966324806213,\n",
       "  0.4236452281475067,\n",
       "  0.4185093641281128,\n",
       "  0.40955647826194763,\n",
       "  0.40594053268432617,\n",
       "  0.40312013030052185,\n",
       "  0.4023797810077667,\n",
       "  0.39872631430625916,\n",
       "  0.393787145614624,\n",
       "  0.3909687399864197,\n",
       "  0.38756224513053894,\n",
       "  0.38405707478523254,\n",
       "  0.3858581781387329,\n",
       "  0.38509756326675415,\n",
       "  0.3801189064979553,\n",
       "  0.37511780858039856]}"
      ]
     },
     "metadata": {},
     "execution_count": 37
    }
   ],
   "source": [
    "history.history"
   ]
  },
  {
   "cell_type": "code",
   "execution_count": 38,
   "metadata": {},
   "outputs": [],
   "source": [
    "model_test.compile(loss = \"mean_squared_error\", optimizer = \"sgd\")"
   ]
  },
  {
   "cell_type": "code",
   "execution_count": 39,
   "metadata": {},
   "outputs": [
    {
     "output_type": "stream",
     "name": "stdout",
     "text": [
      "Epoch 1/20\n",
      "363/363 [==============================] - 2s 3ms/step - loss: 1.1715 - val_loss: 0.5089\n",
      "Epoch 2/20\n",
      "363/363 [==============================] - 1s 2ms/step - loss: 0.5202 - val_loss: 0.4597\n",
      "Epoch 3/20\n",
      "363/363 [==============================] - 1s 2ms/step - loss: 0.5242 - val_loss: 0.4456\n",
      "Epoch 4/20\n",
      "363/363 [==============================] - 1s 2ms/step - loss: 0.4916 - val_loss: 0.4345\n",
      "Epoch 5/20\n",
      "363/363 [==============================] - 1s 2ms/step - loss: 0.4477 - val_loss: 0.4313\n",
      "Epoch 6/20\n",
      "363/363 [==============================] - 1s 2ms/step - loss: 0.4526 - val_loss: 0.4218\n",
      "Epoch 7/20\n",
      "363/363 [==============================] - 1s 2ms/step - loss: 0.4346 - val_loss: 0.4239\n",
      "Epoch 8/20\n",
      "363/363 [==============================] - 0s 1ms/step - loss: 0.4542 - val_loss: 0.4085\n",
      "Epoch 9/20\n",
      "363/363 [==============================] - 1s 1ms/step - loss: 0.4113 - val_loss: 0.4136\n",
      "Epoch 10/20\n",
      "363/363 [==============================] - 1s 2ms/step - loss: 0.4295 - val_loss: 0.4061\n",
      "Epoch 11/20\n",
      "363/363 [==============================] - 1s 3ms/step - loss: 0.4298 - val_loss: 0.3978\n",
      "Epoch 12/20\n",
      "363/363 [==============================] - 1s 3ms/step - loss: 0.4183 - val_loss: 0.3917\n",
      "Epoch 13/20\n",
      "363/363 [==============================] - 1s 2ms/step - loss: 0.4210 - val_loss: 0.3907\n",
      "Epoch 14/20\n",
      "363/363 [==============================] - 1s 2ms/step - loss: 0.4001 - val_loss: 0.3898\n",
      "Epoch 15/20\n",
      "363/363 [==============================] - 1s 3ms/step - loss: 0.4046 - val_loss: 0.3893\n",
      "Epoch 16/20\n",
      "363/363 [==============================] - 1s 2ms/step - loss: 0.4045 - val_loss: 0.3852\n",
      "Epoch 17/20\n",
      "363/363 [==============================] - 0s 1ms/step - loss: 0.3969 - val_loss: 0.3799\n",
      "Epoch 18/20\n",
      "363/363 [==============================] - 1s 2ms/step - loss: 0.3837 - val_loss: 0.3786\n",
      "Epoch 19/20\n",
      "363/363 [==============================] - 1s 3ms/step - loss: 0.3756 - val_loss: 0.3752\n",
      "Epoch 20/20\n",
      "363/363 [==============================] - 1s 3ms/step - loss: 0.3979 - val_loss: 0.3779\n"
     ]
    }
   ],
   "source": [
    "\n",
    "history = model_test.fit(x_train_reg_scaled, y_train_reg, epochs = 20, validation_data = (x_valid_reg_scaled, y_valid_reg))"
   ]
  },
  {
   "source": [
    "<h3> Building complex models using the Functional API </h3> \n",
    "\n",
    "These are non sequential neural networks. This architecture allows a neural network to learn both deep patterns (using the deep path) and simple rules (through the short path)"
   ],
   "cell_type": "markdown",
   "metadata": {}
  },
  {
   "cell_type": "code",
   "execution_count": 40,
   "metadata": {},
   "outputs": [],
   "source": [
    "#for functional APIS\n",
    "#new layer = newlayerconfig(previous_layer)\n",
    "#create an Input opbject\n",
    "inputlayer = keras.layers.Input(shape = X_train.shape[1:])\n",
    "#30 neuron dense layer using ReLU activation. Once created we call it like a function and pass in the input layer as a parameter\n",
    "hidden1 = keras.layers.Dense(30, activation = \"relu\")(inputlayer)\n",
    "#second hidden layer\n",
    "hidden2 = keras.layers.Dense(30, activation = \"relu\")(hidden1)\n",
    "#this concatenates the input and the output of the second layer\n",
    "concat = keras.layers.concatenate([inputlayer,hidden2])\n",
    "output = keras.layers.Dense(1)(concat)\n",
    "model = keras.models.Model(inputs = [inputlayer], outputs = [output])"
   ]
  },
  {
   "cell_type": "code",
   "execution_count": 41,
   "metadata": {},
   "outputs": [
    {
     "output_type": "stream",
     "name": "stdout",
     "text": [
      "Model: \"model\"\n__________________________________________________________________________________________________\nLayer (type)                    Output Shape         Param #     Connected to                     \n==================================================================================================\ninput_2 (InputLayer)            [(None, 28, 28)]     0                                            \n__________________________________________________________________________________________________\ndense_7 (Dense)                 (None, 28, 30)       870         input_2[0][0]                    \n__________________________________________________________________________________________________\ndense_8 (Dense)                 (None, 28, 30)       930         dense_7[0][0]                    \n__________________________________________________________________________________________________\nconcatenate (Concatenate)       (None, 28, 58)       0           input_2[0][0]                    \n                                                                 dense_8[0][0]                    \n__________________________________________________________________________________________________\ndense_9 (Dense)                 (None, 28, 1)        59          concatenate[0][0]                \n==================================================================================================\nTotal params: 1,859\nTrainable params: 1,859\nNon-trainable params: 0\n__________________________________________________________________________________________________\n"
     ]
    }
   ],
   "source": [
    "model.summary()"
   ]
  },
  {
   "cell_type": "code",
   "execution_count": 57,
   "metadata": {},
   "outputs": [],
   "source": [
    "#sending a subset of features through the wide path and a different subset through the deep path\n",
    "input_A = keras.layers.Input(shape = [5])\n",
    "input_B = keras.layers.Input(shape = [6])\n",
    "hidden1 = keras.layers.Dense(30, activation = 'relu')(input_B)\n",
    "hidden2 = keras.layers.Dense(30, activation = \"relu\")(hidden1)\n",
    "concat_2 = keras.layers.concatenate([input_A, hidden2])\n",
    "output = keras.layers.Dense(1)(concat_2)\n",
    "model = keras.models.Model(inputs = [input_A,input_B], outputs = [output])"
   ]
  },
  {
   "cell_type": "code",
   "execution_count": 58,
   "metadata": {},
   "outputs": [
    {
     "output_type": "stream",
     "name": "stdout",
     "text": [
      "Epoch 1/20\n",
      "363/363 [==============================] - 1s 3ms/step - loss: 1.3103 - mean_squared_error: 1.3103 - val_loss: 0.5380 - val_mean_squared_error: 0.5380\n",
      "Epoch 2/20\n",
      "363/363 [==============================] - 1s 3ms/step - loss: 0.5206 - mean_squared_error: 0.5206 - val_loss: 0.4965 - val_mean_squared_error: 0.4965\n",
      "Epoch 3/20\n",
      "363/363 [==============================] - 1s 3ms/step - loss: 0.4770 - mean_squared_error: 0.4770 - val_loss: 0.4786 - val_mean_squared_error: 0.4786\n",
      "Epoch 4/20\n",
      "363/363 [==============================] - 1s 3ms/step - loss: 0.4868 - mean_squared_error: 0.4868 - val_loss: 0.4699 - val_mean_squared_error: 0.4699\n",
      "Epoch 5/20\n",
      "363/363 [==============================] - 1s 3ms/step - loss: 0.4416 - mean_squared_error: 0.4416 - val_loss: 0.4571 - val_mean_squared_error: 0.4571\n",
      "Epoch 6/20\n",
      "363/363 [==============================] - 1s 3ms/step - loss: 0.4486 - mean_squared_error: 0.4486 - val_loss: 0.4520 - val_mean_squared_error: 0.4520\n",
      "Epoch 7/20\n",
      "363/363 [==============================] - 1s 4ms/step - loss: 0.4461 - mean_squared_error: 0.4461 - val_loss: 0.4456 - val_mean_squared_error: 0.4456\n",
      "Epoch 8/20\n",
      "363/363 [==============================] - 2s 5ms/step - loss: 0.4256 - mean_squared_error: 0.4256 - val_loss: 0.4352 - val_mean_squared_error: 0.4352\n",
      "Epoch 9/20\n",
      "363/363 [==============================] - 2s 5ms/step - loss: 0.4208 - mean_squared_error: 0.4208 - val_loss: 0.4273 - val_mean_squared_error: 0.4273\n",
      "Epoch 10/20\n",
      "363/363 [==============================] - 2s 4ms/step - loss: 0.4184 - mean_squared_error: 0.4184 - val_loss: 0.4259 - val_mean_squared_error: 0.4259\n",
      "Epoch 11/20\n",
      "363/363 [==============================] - 2s 4ms/step - loss: 0.3948 - mean_squared_error: 0.3948 - val_loss: 0.4387 - val_mean_squared_error: 0.4387\n",
      "Epoch 12/20\n",
      "363/363 [==============================] - 1s 3ms/step - loss: 0.3979 - mean_squared_error: 0.3979 - val_loss: 0.4085 - val_mean_squared_error: 0.4085\n",
      "Epoch 13/20\n",
      "363/363 [==============================] - 2s 5ms/step - loss: 0.4256 - mean_squared_error: 0.4256 - val_loss: 0.3998 - val_mean_squared_error: 0.3998\n",
      "Epoch 14/20\n",
      "363/363 [==============================] - 2s 4ms/step - loss: 0.3861 - mean_squared_error: 0.3861 - val_loss: 0.3969 - val_mean_squared_error: 0.3969\n",
      "Epoch 15/20\n",
      "363/363 [==============================] - 1s 3ms/step - loss: 0.3827 - mean_squared_error: 0.3827 - val_loss: 0.4605 - val_mean_squared_error: 0.4605\n",
      "Epoch 16/20\n",
      "363/363 [==============================] - 1s 3ms/step - loss: 0.3834 - mean_squared_error: 0.3834 - val_loss: 0.3828 - val_mean_squared_error: 0.3828\n",
      "Epoch 17/20\n",
      "363/363 [==============================] - 1s 4ms/step - loss: 0.3665 - mean_squared_error: 0.3665 - val_loss: 0.3831 - val_mean_squared_error: 0.3831\n",
      "Epoch 18/20\n",
      "363/363 [==============================] - 1s 2ms/step - loss: 0.3735 - mean_squared_error: 0.3735 - val_loss: 0.3799 - val_mean_squared_error: 0.3799\n",
      "Epoch 19/20\n",
      "363/363 [==============================] - 1s 3ms/step - loss: 0.3633 - mean_squared_error: 0.3633 - val_loss: 0.3784 - val_mean_squared_error: 0.3784\n",
      "Epoch 20/20\n",
      "363/363 [==============================] - 1s 3ms/step - loss: 0.3510 - mean_squared_error: 0.3510 - val_loss: 0.4063 - val_mean_squared_error: 0.4063\n",
      "162/162 [==============================] - 0s 2ms/step - loss: 0.3631 - mean_squared_error: 0.3631\n"
     ]
    }
   ],
   "source": [
    "#instead of passing a single input matrix, we need to input 2 different matrices. \n",
    "#using a regression neural network\n",
    "from sklearn.datasets import fetch_california_housing\n",
    "from sklearn.model_selection import train_test_split\n",
    "from sklearn.preprocessing import StandardScaler\n",
    "\n",
    "housing = fetch_california_housing()\n",
    "x_train_full_reg,x_test_reg,y_train_full_reg,y_test_reg = train_test_split(housing.data, housing.target)\n",
    "\n",
    "\n",
    "x_train_reg, x_valid_reg, y_train_reg, y_valid_reg = train_test_split(x_train_full_reg, y_train_full_reg)\n",
    "scaler = StandardScaler()\n",
    "#notice that we fit_transform on the train set and transform on the validation and test sets\n",
    "x_train_reg = scaler.fit_transform(x_train_reg)\n",
    "x_valid_reg = scaler.transform(x_valid_reg)\n",
    "x_test_reg= scaler.transform(x_test_reg)\n",
    "\n",
    "model.compile(loss = \"mse\", optimizer = \"sgd\", metrics= tf.keras.metrics.MeanSquaredError())\n",
    "\n",
    "X_train_A, X_train_B = x_train_reg[:,:5],x_train_reg[:,2:]\n",
    "X_valid_A, X_valid_B = x_valid_reg[:,:5],x_valid_reg[:,2:]\n",
    "X_test_A,X_test_B = x_test_reg[:,:5],x_test_reg[:,2:]\n",
    "X_new_A,X_new_B = X_test_A[:3], X_test_B[:3]\n",
    "\n",
    "model.fit((X_train_A,X_train_B),y_train_reg, epochs = 20, validation_data = ((X_valid_A, X_valid_B),y_valid_reg))\n",
    "\n",
    "mse_test = model.evaluate((X_test_A,X_test_B),y_test_reg)\n",
    "\n",
    "y_pred_test = model.predict((X_test_A, X_test_B))"
   ]
  },
  {
   "cell_type": "code",
   "execution_count": 59,
   "metadata": {},
   "outputs": [
    {
     "output_type": "execute_result",
     "data": {
      "text/plain": [
       "array([[1.73982  ],\n",
       "       [1.6637926],\n",
       "       [1.5934716],\n",
       "       ...,\n",
       "       [1.6762779],\n",
       "       [1.1952459],\n",
       "       [3.0343642]], dtype=float32)"
      ]
     },
     "metadata": {},
     "execution_count": 59
    }
   ],
   "source": [
    "y_pred_test"
   ]
  },
  {
   "source": [
    "<h3> There can be situations in which you want multiple outputs </h3> \n",
    "\n",
    "- Locating an object in a picture (regression to find coordinates and classification to classify image)\n",
    "\n",
    "- Multiple independent tasks to perform based on the same data. Train one neural network per task is possible, but this is inefficient. Also training one neural network with mutltiple outputs for the entire set of tasks allows higher accuracy too. This is because the neural network can learn data useful across the tasks. \n"
   ],
   "cell_type": "markdown",
   "metadata": {}
  },
  {
   "cell_type": "code",
   "execution_count": 64,
   "metadata": {},
   "outputs": [],
   "source": [
    "#multioutput\n",
    "input_A_multi = keras.layers.Input(shape = [5])\n",
    "input_B_mutli = keras.layers.Input(shape = [6])\n",
    "hidden1_multi = keras.layers.Dense(30, activation = 'relu')(input_B_mutli)\n",
    "hidden2_multi = keras.layers.Dense(30, activation = 'relu')(hidden1_multi)\n",
    "concat_multi = keras.layers.concatenate([input_A_multi, hidden2_multi])\n",
    "output1 = keras.layers.Dense(1)(concat_multi)\n",
    "output_aux = keras.layers.Dense(1)(hidden1_multi)\n",
    "model_multi = keras.models.Model(inputs = [input_A_multi,input_B_mutli], outputs = [output1,output_aux])"
   ]
  },
  {
   "source": [
    "For multi output neural networks, each output requires its own loss function. If one is passed, keras assumes its the same for all."
   ],
   "cell_type": "markdown",
   "metadata": {}
  },
  {
   "cell_type": "code",
   "execution_count": 67,
   "metadata": {},
   "outputs": [],
   "source": [
    "#usually different outputs will be given different weights\n",
    "model_multi.compile(loss = ['mse','mse'],loss_weights = [0.9,0.1],optimizer = \"sgd\")\n"
   ]
  },
  {
   "cell_type": "code",
   "execution_count": null,
   "metadata": {},
   "outputs": [],
   "source": [
    "#as we are using auxillary outputs, we will need to pass in auxillary output labels too"
   ]
  }
 ]
}