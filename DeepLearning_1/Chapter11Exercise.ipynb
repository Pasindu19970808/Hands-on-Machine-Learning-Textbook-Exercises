{
 "metadata": {
  "language_info": {
   "codemirror_mode": {
    "name": "ipython",
    "version": 3
   },
   "file_extension": ".py",
   "mimetype": "text/x-python",
   "name": "python",
   "nbconvert_exporter": "python",
   "pygments_lexer": "ipython3",
   "version": "3.8.8"
  },
  "orig_nbformat": 2,
  "kernelspec": {
   "name": "python388jvsc74a57bd0965ba1120b0c101b3f715b6e258a73742ec1cf86f2c8b04492724c87d9f112c3",
   "display_name": "Python 3.8.8 64-bit"
  }
 },
 "nbformat": 4,
 "nbformat_minor": 2,
 "cells": [
  {
   "cell_type": "code",
   "execution_count": 1,
   "metadata": {},
   "outputs": [],
   "source": [
    "import tensorflow as tf\n",
    "from tensorflow import keras\n",
    "import matplotlib.pyplot as plt\n",
    "import numpy as np"
   ]
  },
  {
   "cell_type": "code",
   "execution_count": 2,
   "metadata": {},
   "outputs": [],
   "source": [
    "(X_train_full,y_train_full),(X_test,y_test) = keras.datasets.mnist.load_data()"
   ]
  },
  {
   "cell_type": "code",
   "execution_count": 3,
   "metadata": {},
   "outputs": [
    {
     "output_type": "execute_result",
     "data": {
      "text/plain": [
       "<matplotlib.image.AxesImage at 0x1492d7f31f0>"
      ]
     },
     "metadata": {},
     "execution_count": 3
    },
    {
     "output_type": "display_data",
     "data": {
      "text/plain": "<Figure size 432x288 with 1 Axes>",
      "image/svg+xml": "<?xml version=\"1.0\" encoding=\"utf-8\" standalone=\"no\"?>\r\n<!DOCTYPE svg PUBLIC \"-//W3C//DTD SVG 1.1//EN\"\r\n  \"http://www.w3.org/Graphics/SVG/1.1/DTD/svg11.dtd\">\r\n<!-- Created with matplotlib (https://matplotlib.org/) -->\r\n<svg height=\"248.518125pt\" version=\"1.1\" viewBox=\"0 0 251.565 248.518125\" width=\"251.565pt\" xmlns=\"http://www.w3.org/2000/svg\" xmlns:xlink=\"http://www.w3.org/1999/xlink\">\r\n <metadata>\r\n  <rdf:RDF xmlns:cc=\"http://creativecommons.org/ns#\" xmlns:dc=\"http://purl.org/dc/elements/1.1/\" xmlns:rdf=\"http://www.w3.org/1999/02/22-rdf-syntax-ns#\">\r\n   <cc:Work>\r\n    <dc:type rdf:resource=\"http://purl.org/dc/dcmitype/StillImage\"/>\r\n    <dc:date>2021-05-29T14:37:50.132190</dc:date>\r\n    <dc:format>image/svg+xml</dc:format>\r\n    <dc:creator>\r\n     <cc:Agent>\r\n      <dc:title>Matplotlib v3.3.4, https://matplotlib.org/</dc:title>\r\n     </cc:Agent>\r\n    </dc:creator>\r\n   </cc:Work>\r\n  </rdf:RDF>\r\n </metadata>\r\n <defs>\r\n  <style type=\"text/css\">*{stroke-linecap:butt;stroke-linejoin:round;}</style>\r\n </defs>\r\n <g id=\"figure_1\">\r\n  <g id=\"patch_1\">\r\n   <path d=\"M 0 248.518125 \r\nL 251.565 248.518125 \r\nL 251.565 0 \r\nL 0 0 \r\nz\r\n\" style=\"fill:none;\"/>\r\n  </g>\r\n  <g id=\"axes_1\">\r\n   <g id=\"patch_2\">\r\n    <path d=\"M 26.925 224.64 \r\nL 244.365 224.64 \r\nL 244.365 7.2 \r\nL 26.925 7.2 \r\nz\r\n\" style=\"fill:#ffffff;\"/>\r\n   </g>\r\n   <g clip-path=\"url(#p43612d2adb)\">\r\n    <image height=\"218\" id=\"image2966232fef\" transform=\"scale(1 -1)translate(0 -218)\" width=\"218\" x=\"26.925\" xlink:href=\"data:image/png;base64,\r\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\" y=\"-6.64\"/>\r\n   </g>\r\n   <g id=\"matplotlib.axis_1\">\r\n    <g id=\"xtick_1\">\r\n     <g id=\"line2d_1\">\r\n      <defs>\r\n       <path d=\"M 0 0 \r\nL 0 3.5 \r\n\" id=\"md80545a2eb\" style=\"stroke:#000000;stroke-width:0.8;\"/>\r\n      </defs>\r\n      <g>\r\n       <use style=\"stroke:#000000;stroke-width:0.8;\" x=\"30.807857\" xlink:href=\"#md80545a2eb\" y=\"224.64\"/>\r\n      </g>\r\n     </g>\r\n     <g id=\"text_1\">\r\n      <!-- 0 -->\r\n      <g transform=\"translate(27.626607 239.238437)scale(0.1 -0.1)\">\r\n       <defs>\r\n        <path d=\"M 31.78125 66.40625 \r\nQ 24.171875 66.40625 20.328125 58.90625 \r\nQ 16.5 51.421875 16.5 36.375 \r\nQ 16.5 21.390625 20.328125 13.890625 \r\nQ 24.171875 6.390625 31.78125 6.390625 \r\nQ 39.453125 6.390625 43.28125 13.890625 \r\nQ 47.125 21.390625 47.125 36.375 \r\nQ 47.125 51.421875 43.28125 58.90625 \r\nQ 39.453125 66.40625 31.78125 66.40625 \r\nz\r\nM 31.78125 74.21875 \r\nQ 44.046875 74.21875 50.515625 64.515625 \r\nQ 56.984375 54.828125 56.984375 36.375 \r\nQ 56.984375 17.96875 50.515625 8.265625 \r\nQ 44.046875 -1.421875 31.78125 -1.421875 \r\nQ 19.53125 -1.421875 13.0625 8.265625 \r\nQ 6.59375 17.96875 6.59375 36.375 \r\nQ 6.59375 54.828125 13.0625 64.515625 \r\nQ 19.53125 74.21875 31.78125 74.21875 \r\nz\r\n\" id=\"DejaVuSans-48\"/>\r\n       </defs>\r\n       <use xlink:href=\"#DejaVuSans-48\"/>\r\n      </g>\r\n     </g>\r\n    </g>\r\n    <g id=\"xtick_2\">\r\n     <g id=\"line2d_2\">\r\n      <g>\r\n       <use style=\"stroke:#000000;stroke-width:0.8;\" x=\"69.636429\" xlink:href=\"#md80545a2eb\" y=\"224.64\"/>\r\n      </g>\r\n     </g>\r\n     <g id=\"text_2\">\r\n      <!-- 5 -->\r\n      <g transform=\"translate(66.455179 239.238437)scale(0.1 -0.1)\">\r\n       <defs>\r\n        <path d=\"M 10.796875 72.90625 \r\nL 49.515625 72.90625 \r\nL 49.515625 64.59375 \r\nL 19.828125 64.59375 \r\nL 19.828125 46.734375 \r\nQ 21.96875 47.46875 24.109375 47.828125 \r\nQ 26.265625 48.1875 28.421875 48.1875 \r\nQ 40.625 48.1875 47.75 41.5 \r\nQ 54.890625 34.8125 54.890625 23.390625 \r\nQ 54.890625 11.625 47.5625 5.09375 \r\nQ 40.234375 -1.421875 26.90625 -1.421875 \r\nQ 22.3125 -1.421875 17.546875 -0.640625 \r\nQ 12.796875 0.140625 7.71875 1.703125 \r\nL 7.71875 11.625 \r\nQ 12.109375 9.234375 16.796875 8.0625 \r\nQ 21.484375 6.890625 26.703125 6.890625 \r\nQ 35.15625 6.890625 40.078125 11.328125 \r\nQ 45.015625 15.765625 45.015625 23.390625 \r\nQ 45.015625 31 40.078125 35.4375 \r\nQ 35.15625 39.890625 26.703125 39.890625 \r\nQ 22.75 39.890625 18.8125 39.015625 \r\nQ 14.890625 38.140625 10.796875 36.28125 \r\nz\r\n\" id=\"DejaVuSans-53\"/>\r\n       </defs>\r\n       <use xlink:href=\"#DejaVuSans-53\"/>\r\n      </g>\r\n     </g>\r\n    </g>\r\n    <g id=\"xtick_3\">\r\n     <g id=\"line2d_3\">\r\n      <g>\r\n       <use style=\"stroke:#000000;stroke-width:0.8;\" x=\"108.465\" xlink:href=\"#md80545a2eb\" y=\"224.64\"/>\r\n      </g>\r\n     </g>\r\n     <g id=\"text_3\">\r\n      <!-- 10 -->\r\n      <g transform=\"translate(102.1025 239.238437)scale(0.1 -0.1)\">\r\n       <defs>\r\n        <path d=\"M 12.40625 8.296875 \r\nL 28.515625 8.296875 \r\nL 28.515625 63.921875 \r\nL 10.984375 60.40625 \r\nL 10.984375 69.390625 \r\nL 28.421875 72.90625 \r\nL 38.28125 72.90625 \r\nL 38.28125 8.296875 \r\nL 54.390625 8.296875 \r\nL 54.390625 0 \r\nL 12.40625 0 \r\nz\r\n\" id=\"DejaVuSans-49\"/>\r\n       </defs>\r\n       <use xlink:href=\"#DejaVuSans-49\"/>\r\n       <use x=\"63.623047\" xlink:href=\"#DejaVuSans-48\"/>\r\n      </g>\r\n     </g>\r\n    </g>\r\n    <g id=\"xtick_4\">\r\n     <g id=\"line2d_4\">\r\n      <g>\r\n       <use style=\"stroke:#000000;stroke-width:0.8;\" x=\"147.293571\" xlink:href=\"#md80545a2eb\" y=\"224.64\"/>\r\n      </g>\r\n     </g>\r\n     <g id=\"text_4\">\r\n      <!-- 15 -->\r\n      <g transform=\"translate(140.931071 239.238437)scale(0.1 -0.1)\">\r\n       <use xlink:href=\"#DejaVuSans-49\"/>\r\n       <use x=\"63.623047\" xlink:href=\"#DejaVuSans-53\"/>\r\n      </g>\r\n     </g>\r\n    </g>\r\n    <g id=\"xtick_5\">\r\n     <g id=\"line2d_5\">\r\n      <g>\r\n       <use style=\"stroke:#000000;stroke-width:0.8;\" x=\"186.122143\" xlink:href=\"#md80545a2eb\" y=\"224.64\"/>\r\n      </g>\r\n     </g>\r\n     <g id=\"text_5\">\r\n      <!-- 20 -->\r\n      <g transform=\"translate(179.759643 239.238437)scale(0.1 -0.1)\">\r\n       <defs>\r\n        <path d=\"M 19.1875 8.296875 \r\nL 53.609375 8.296875 \r\nL 53.609375 0 \r\nL 7.328125 0 \r\nL 7.328125 8.296875 \r\nQ 12.9375 14.109375 22.625 23.890625 \r\nQ 32.328125 33.6875 34.8125 36.53125 \r\nQ 39.546875 41.84375 41.421875 45.53125 \r\nQ 43.3125 49.21875 43.3125 52.78125 \r\nQ 43.3125 58.59375 39.234375 62.25 \r\nQ 35.15625 65.921875 28.609375 65.921875 \r\nQ 23.96875 65.921875 18.8125 64.3125 \r\nQ 13.671875 62.703125 7.8125 59.421875 \r\nL 7.8125 69.390625 \r\nQ 13.765625 71.78125 18.9375 73 \r\nQ 24.125 74.21875 28.421875 74.21875 \r\nQ 39.75 74.21875 46.484375 68.546875 \r\nQ 53.21875 62.890625 53.21875 53.421875 \r\nQ 53.21875 48.921875 51.53125 44.890625 \r\nQ 49.859375 40.875 45.40625 35.40625 \r\nQ 44.1875 33.984375 37.640625 27.21875 \r\nQ 31.109375 20.453125 19.1875 8.296875 \r\nz\r\n\" id=\"DejaVuSans-50\"/>\r\n       </defs>\r\n       <use xlink:href=\"#DejaVuSans-50\"/>\r\n       <use x=\"63.623047\" xlink:href=\"#DejaVuSans-48\"/>\r\n      </g>\r\n     </g>\r\n    </g>\r\n    <g id=\"xtick_6\">\r\n     <g id=\"line2d_6\">\r\n      <g>\r\n       <use style=\"stroke:#000000;stroke-width:0.8;\" x=\"224.950714\" xlink:href=\"#md80545a2eb\" y=\"224.64\"/>\r\n      </g>\r\n     </g>\r\n     <g id=\"text_6\">\r\n      <!-- 25 -->\r\n      <g transform=\"translate(218.588214 239.238437)scale(0.1 -0.1)\">\r\n       <use xlink:href=\"#DejaVuSans-50\"/>\r\n       <use x=\"63.623047\" xlink:href=\"#DejaVuSans-53\"/>\r\n      </g>\r\n     </g>\r\n    </g>\r\n   </g>\r\n   <g id=\"matplotlib.axis_2\">\r\n    <g id=\"ytick_1\">\r\n     <g id=\"line2d_7\">\r\n      <defs>\r\n       <path d=\"M 0 0 \r\nL -3.5 0 \r\n\" id=\"mc738aaa6d7\" style=\"stroke:#000000;stroke-width:0.8;\"/>\r\n      </defs>\r\n      <g>\r\n       <use style=\"stroke:#000000;stroke-width:0.8;\" x=\"26.925\" xlink:href=\"#mc738aaa6d7\" y=\"11.082857\"/>\r\n      </g>\r\n     </g>\r\n     <g id=\"text_7\">\r\n      <!-- 0 -->\r\n      <g transform=\"translate(13.5625 14.882076)scale(0.1 -0.1)\">\r\n       <use xlink:href=\"#DejaVuSans-48\"/>\r\n      </g>\r\n     </g>\r\n    </g>\r\n    <g id=\"ytick_2\">\r\n     <g id=\"line2d_8\">\r\n      <g>\r\n       <use style=\"stroke:#000000;stroke-width:0.8;\" x=\"26.925\" xlink:href=\"#mc738aaa6d7\" y=\"49.911429\"/>\r\n      </g>\r\n     </g>\r\n     <g id=\"text_8\">\r\n      <!-- 5 -->\r\n      <g transform=\"translate(13.5625 53.710647)scale(0.1 -0.1)\">\r\n       <use xlink:href=\"#DejaVuSans-53\"/>\r\n      </g>\r\n     </g>\r\n    </g>\r\n    <g id=\"ytick_3\">\r\n     <g id=\"line2d_9\">\r\n      <g>\r\n       <use style=\"stroke:#000000;stroke-width:0.8;\" x=\"26.925\" xlink:href=\"#mc738aaa6d7\" y=\"88.74\"/>\r\n      </g>\r\n     </g>\r\n     <g id=\"text_9\">\r\n      <!-- 10 -->\r\n      <g transform=\"translate(7.2 92.539219)scale(0.1 -0.1)\">\r\n       <use xlink:href=\"#DejaVuSans-49\"/>\r\n       <use x=\"63.623047\" xlink:href=\"#DejaVuSans-48\"/>\r\n      </g>\r\n     </g>\r\n    </g>\r\n    <g id=\"ytick_4\">\r\n     <g id=\"line2d_10\">\r\n      <g>\r\n       <use style=\"stroke:#000000;stroke-width:0.8;\" x=\"26.925\" xlink:href=\"#mc738aaa6d7\" y=\"127.568571\"/>\r\n      </g>\r\n     </g>\r\n     <g id=\"text_10\">\r\n      <!-- 15 -->\r\n      <g transform=\"translate(7.2 131.36779)scale(0.1 -0.1)\">\r\n       <use xlink:href=\"#DejaVuSans-49\"/>\r\n       <use x=\"63.623047\" xlink:href=\"#DejaVuSans-53\"/>\r\n      </g>\r\n     </g>\r\n    </g>\r\n    <g id=\"ytick_5\">\r\n     <g id=\"line2d_11\">\r\n      <g>\r\n       <use style=\"stroke:#000000;stroke-width:0.8;\" x=\"26.925\" xlink:href=\"#mc738aaa6d7\" y=\"166.397143\"/>\r\n      </g>\r\n     </g>\r\n     <g id=\"text_11\">\r\n      <!-- 20 -->\r\n      <g transform=\"translate(7.2 170.196362)scale(0.1 -0.1)\">\r\n       <use xlink:href=\"#DejaVuSans-50\"/>\r\n       <use x=\"63.623047\" xlink:href=\"#DejaVuSans-48\"/>\r\n      </g>\r\n     </g>\r\n    </g>\r\n    <g id=\"ytick_6\">\r\n     <g id=\"line2d_12\">\r\n      <g>\r\n       <use style=\"stroke:#000000;stroke-width:0.8;\" x=\"26.925\" xlink:href=\"#mc738aaa6d7\" y=\"205.225714\"/>\r\n      </g>\r\n     </g>\r\n     <g id=\"text_12\">\r\n      <!-- 25 -->\r\n      <g transform=\"translate(7.2 209.024933)scale(0.1 -0.1)\">\r\n       <use xlink:href=\"#DejaVuSans-50\"/>\r\n       <use x=\"63.623047\" xlink:href=\"#DejaVuSans-53\"/>\r\n      </g>\r\n     </g>\r\n    </g>\r\n   </g>\r\n   <g id=\"patch_3\">\r\n    <path d=\"M 26.925 224.64 \r\nL 26.925 7.2 \r\n\" style=\"fill:none;stroke:#000000;stroke-linecap:square;stroke-linejoin:miter;stroke-width:0.8;\"/>\r\n   </g>\r\n   <g id=\"patch_4\">\r\n    <path d=\"M 244.365 224.64 \r\nL 244.365 7.2 \r\n\" style=\"fill:none;stroke:#000000;stroke-linecap:square;stroke-linejoin:miter;stroke-width:0.8;\"/>\r\n   </g>\r\n   <g id=\"patch_5\">\r\n    <path d=\"M 26.925 224.64 \r\nL 244.365 224.64 \r\n\" style=\"fill:none;stroke:#000000;stroke-linecap:square;stroke-linejoin:miter;stroke-width:0.8;\"/>\r\n   </g>\r\n   <g id=\"patch_6\">\r\n    <path d=\"M 26.925 7.2 \r\nL 244.365 7.2 \r\n\" style=\"fill:none;stroke:#000000;stroke-linecap:square;stroke-linejoin:miter;stroke-width:0.8;\"/>\r\n   </g>\r\n  </g>\r\n </g>\r\n <defs>\r\n  <clipPath id=\"p43612d2adb\">\r\n   <rect height=\"217.44\" width=\"217.44\" x=\"26.925\" y=\"7.2\"/>\r\n  </clipPath>\r\n </defs>\r\n</svg>\r\n",
      "image/png": "[encoded data removed]"
     },
     "metadata": {
      "needs_background": "light"
     }
    }
   ],
   "source": [
    "plt.imshow(X_train_full[0])"
   ]
  },
  {
   "cell_type": "code",
   "execution_count": 4,
   "metadata": {},
   "outputs": [
    {
     "output_type": "execute_result",
     "data": {
      "text/plain": [
       "(60000, 28, 28)"
      ]
     },
     "metadata": {},
     "execution_count": 4
    }
   ],
   "source": [
    "X_train_full.shape"
   ]
  },
  {
   "source": [
    "<h3> DNN Summary </h3> \n",
    "\n",
    "A DNN trained with 5 hiddens layers, 1 Flatten input layer"
   ],
   "cell_type": "markdown",
   "metadata": {}
  },
  {
   "cell_type": "code",
   "execution_count": 5,
   "metadata": {},
   "outputs": [],
   "source": [
    "model_dnn = keras.models.Sequential()\n",
    "model_dnn.add(keras.layers.Flatten(input_shape = [28,28]))\n",
    "model_dnn.add(keras.layers.Dense(100,activation = \"elu\",kernel_initializer=\"he_normal\"))\n",
    "model_dnn.add(keras.layers.Dense(100,activation = \"elu\",kernel_initializer=\"he_normal\"))\n",
    "model_dnn.add(keras.layers.Dense(100,activation = \"elu\",kernel_initializer=\"he_normal\"))\n",
    "model_dnn.add(keras.layers.Dense(100,activation = \"elu\",kernel_initializer=\"he_normal\"))\n",
    "model_dnn.add(keras.layers.Dense(100,activation = \"elu\",kernel_initializer=\"he_normal\"))\n",
    "model_dnn.add(keras.layers.Dense(5, activation=\"softmax\"))"
   ]
  },
  {
   "cell_type": "code",
   "execution_count": 6,
   "metadata": {},
   "outputs": [
    {
     "output_type": "stream",
     "name": "stdout",
     "text": [
      "Model: \"sequential\"\n_________________________________________________________________\nLayer (type)                 Output Shape              Param #   \n=================================================================\nflatten (Flatten)            (None, 784)               0         \n_________________________________________________________________\ndense (Dense)                (None, 100)               78500     \n_________________________________________________________________\ndense_1 (Dense)              (None, 100)               10100     \n_________________________________________________________________\ndense_2 (Dense)              (None, 100)               10100     \n_________________________________________________________________\ndense_3 (Dense)              (None, 100)               10100     \n_________________________________________________________________\ndense_4 (Dense)              (None, 100)               10100     \n_________________________________________________________________\ndense_5 (Dense)              (None, 5)                 505       \n=================================================================\nTotal params: 119,405\nTrainable params: 119,405\nNon-trainable params: 0\n_________________________________________________________________\n"
     ]
    }
   ],
   "source": [
    "model_dnn.summary()"
   ]
  },
  {
   "source": [
    "Preparing the MNIST Data. \n",
    "\n",
    "First we shall only train on 0 to 4 digit labels, as we will use the rest for transfer learning."
   ],
   "cell_type": "markdown",
   "metadata": {}
  },
  {
   "cell_type": "code",
   "execution_count": 7,
   "metadata": {},
   "outputs": [],
   "source": [
    "def Prepdata0to4(X,y):\n",
    "        y_data = y[np.where((y == 0) | (y == 1) | (y == 2)|(y == 3)| (y == 4))[0]]\n",
    "        X_data = X[np.where((y == 0) | (y == 1) | (y == 2)|(y == 3)| (y == 4))[0]]\n",
    "        return (X_data,y_data)"
   ]
  },
  {
   "cell_type": "code",
   "execution_count": 8,
   "metadata": {},
   "outputs": [],
   "source": [
    "(X_data_0to4,y_data_0to4_sparse) = Prepdata0to4(X_train_full,y_train_full)"
   ]
  },
  {
   "cell_type": "code",
   "execution_count": 9,
   "metadata": {},
   "outputs": [],
   "source": [
    "y_data_0to4 = keras.utils.to_categorical(y_data_0to4_sparse)\n",
    "X_data_train0to4 = X_data_0to4[:25000]\n",
    "y_data_train0to4 = y_data_0to4[:25000]\n",
    "X_data_valid0to4 = X_data_0to4[25000:]\n",
    "y_data_valid0to4 = y_data_0to4[25000:]"
   ]
  },
  {
   "cell_type": "code",
   "execution_count": 10,
   "metadata": {},
   "outputs": [
    {
     "output_type": "execute_result",
     "data": {
      "text/plain": [
       "array([[1., 0., 0., 0., 0.],\n",
       "       [0., 0., 0., 0., 1.],\n",
       "       [0., 1., 0., 0., 0.],\n",
       "       ...,\n",
       "       [0., 1., 0., 0., 0.],\n",
       "       [0., 0., 0., 0., 1.],\n",
       "       [0., 0., 0., 0., 1.]], dtype=float32)"
      ]
     },
     "metadata": {},
     "execution_count": 10
    }
   ],
   "source": [
    "y_data_train0to4"
   ]
  },
  {
   "cell_type": "code",
   "execution_count": 11,
   "metadata": {},
   "outputs": [
    {
     "output_type": "execute_result",
     "data": {
      "text/plain": [
       "(5596, 28, 28)"
      ]
     },
     "metadata": {},
     "execution_count": 11
    }
   ],
   "source": [
    "X_data_valid0to4.shape"
   ]
  },
  {
   "cell_type": "code",
   "execution_count": 12,
   "metadata": {},
   "outputs": [],
   "source": [
    "\n",
    "(X_data_test0to4,y_data_test0to4_sparse) = Prepdata0to4(X_test,y_test)\n",
    "y_data_test0to4 = keras.utils.to_categorical(y_data_test0to4_sparse)"
   ]
  },
  {
   "cell_type": "code",
   "execution_count": 13,
   "metadata": {},
   "outputs": [
    {
     "output_type": "execute_result",
     "data": {
      "text/plain": [
       "array([2, 1, 0, ..., 2, 3, 4], dtype=uint8)"
      ]
     },
     "metadata": {},
     "execution_count": 13
    }
   ],
   "source": [
    "y_data_test0to4_sparse"
   ]
  },
  {
   "cell_type": "code",
   "execution_count": 14,
   "metadata": {},
   "outputs": [],
   "source": [
    "#beta_1 is the momentum for moving mean of gradient\n",
    "#beta_2 is the momentum for moving mean of squared gradient\n",
    "adamoptim = keras.optimizers.Adam(lr = 0.001,beta_1=0.9,beta_2=0.999)\n",
    "#callbacks to use\n",
    "#checkpoints\n",
    "checkpoint_cb = keras.callbacks.ModelCheckpoint(\"zerotofour.h5\", save_best_only=True)\n",
    "#early stopping callback\n",
    "earlystopping_cb = keras.callbacks.EarlyStopping(patience = 10, restore_best_weights=True)"
   ]
  },
  {
   "cell_type": "code",
   "execution_count": 15,
   "metadata": {},
   "outputs": [],
   "source": [
    "#metrics\n",
    "accuracy = keras.metrics.CategoricalAccuracy(name = \"categorical_accuracy\")\n",
    "precision = keras.metrics.Precision()\n",
    "recall = keras.metrics.Recall()\n",
    "aucscore = keras.metrics.AUC()"
   ]
  },
  {
   "cell_type": "code",
   "execution_count": 16,
   "metadata": {},
   "outputs": [],
   "source": [
    "model_dnn.compile(loss = \"categorical_crossentropy\",\n",
    "                    optimizer = adamoptim, \n",
    "                    metrics = [accuracy,precision,recall,aucscore])"
   ]
  },
  {
   "cell_type": "code",
   "execution_count": 17,
   "metadata": {},
   "outputs": [
    {
     "output_type": "execute_result",
     "data": {
      "text/plain": [
       "(25000, 28, 28)"
      ]
     },
     "metadata": {},
     "execution_count": 17
    }
   ],
   "source": [
    "X_data_train0to4.shape"
   ]
  },
  {
   "cell_type": "code",
   "execution_count": 18,
   "metadata": {},
   "outputs": [
    {
     "output_type": "execute_result",
     "data": {
      "text/plain": [
       "(25000, 5)"
      ]
     },
     "metadata": {},
     "execution_count": 18
    }
   ],
   "source": [
    "y_data_train0to4.shape"
   ]
  },
  {
   "cell_type": "code",
   "execution_count": 19,
   "metadata": {},
   "outputs": [
    {
     "output_type": "stream",
     "name": "stdout",
     "text": [
      "Epoch 1/40\n",
      "782/782 [==============================] - 5s 4ms/step - loss: 5.2510 - categorical_accuracy: 0.8817 - precision: 0.8817 - recall: 0.8816 - auc: 0.9368 - val_loss: 0.3594 - val_categorical_accuracy: 0.9580 - val_precision: 0.9585 - val_recall: 0.9580 - val_auc: 0.9856\n",
      "Epoch 2/40\n",
      "782/782 [==============================] - 2s 2ms/step - loss: 0.2667 - categorical_accuracy: 0.9639 - precision: 0.9643 - recall: 0.9637 - auc: 0.9891 - val_loss: 0.2442 - val_categorical_accuracy: 0.9627 - val_precision: 0.9635 - val_recall: 0.9621 - val_auc: 0.9905\n",
      "Epoch 3/40\n",
      "782/782 [==============================] - 2s 2ms/step - loss: 0.1690 - categorical_accuracy: 0.9724 - precision: 0.9727 - recall: 0.9721 - auc: 0.9928 - val_loss: 0.1865 - val_categorical_accuracy: 0.9664 - val_precision: 0.9671 - val_recall: 0.9652 - val_auc: 0.9920\n",
      "Epoch 4/40\n",
      "782/782 [==============================] - 2s 2ms/step - loss: 0.1328 - categorical_accuracy: 0.9729 - precision: 0.9735 - recall: 0.9724 - auc: 0.9945 - val_loss: 0.1064 - val_categorical_accuracy: 0.9766 - val_precision: 0.9773 - val_recall: 0.9766 - val_auc: 0.9964\n",
      "Epoch 5/40\n",
      "782/782 [==============================] - 2s 2ms/step - loss: 0.0784 - categorical_accuracy: 0.9817 - precision: 0.9820 - recall: 0.9812 - auc: 0.9972 - val_loss: 0.0936 - val_categorical_accuracy: 0.9761 - val_precision: 0.9788 - val_recall: 0.9744 - val_auc: 0.9967\n",
      "Epoch 6/40\n",
      "782/782 [==============================] - 2s 2ms/step - loss: 0.0658 - categorical_accuracy: 0.9843 - precision: 0.9852 - recall: 0.9835 - auc: 0.9978 - val_loss: 0.0806 - val_categorical_accuracy: 0.9807 - val_precision: 0.9814 - val_recall: 0.9800 - val_auc: 0.9970\n",
      "Epoch 7/40\n",
      "782/782 [==============================] - 2s 2ms/step - loss: 0.0650 - categorical_accuracy: 0.9829 - precision: 0.9840 - recall: 0.9822 - auc: 0.9979 - val_loss: 0.0750 - val_categorical_accuracy: 0.9855 - val_precision: 0.9861 - val_recall: 0.9853 - val_auc: 0.9972\n",
      "Epoch 8/40\n",
      "782/782 [==============================] - 2s 2ms/step - loss: 0.0524 - categorical_accuracy: 0.9869 - precision: 0.9877 - recall: 0.9864 - auc: 0.9985 - val_loss: 0.0711 - val_categorical_accuracy: 0.9812 - val_precision: 0.9832 - val_recall: 0.9809 - val_auc: 0.9978\n",
      "Epoch 9/40\n",
      "782/782 [==============================] - 2s 2ms/step - loss: 0.0516 - categorical_accuracy: 0.9858 - precision: 0.9870 - recall: 0.9851 - auc: 0.9985 - val_loss: 0.0894 - val_categorical_accuracy: 0.9771 - val_precision: 0.9799 - val_recall: 0.9752 - val_auc: 0.9968\n",
      "Epoch 10/40\n",
      "782/782 [==============================] - 2s 2ms/step - loss: 0.0478 - categorical_accuracy: 0.9872 - precision: 0.9881 - recall: 0.9868 - auc: 0.9986 - val_loss: 0.0628 - val_categorical_accuracy: 0.9850 - val_precision: 0.9864 - val_recall: 0.9845 - val_auc: 0.9973\n",
      "Epoch 11/40\n",
      "782/782 [==============================] - 2s 2ms/step - loss: 0.0387 - categorical_accuracy: 0.9898 - precision: 0.9910 - recall: 0.9893 - auc: 0.9986 - val_loss: 0.0615 - val_categorical_accuracy: 0.9837 - val_precision: 0.9858 - val_recall: 0.9830 - val_auc: 0.9979\n",
      "Epoch 12/40\n",
      "782/782 [==============================] - 2s 2ms/step - loss: 0.0329 - categorical_accuracy: 0.9900 - precision: 0.9913 - recall: 0.9885 - auc: 0.9993 - val_loss: 0.0585 - val_categorical_accuracy: 0.9873 - val_precision: 0.9882 - val_recall: 0.9861 - val_auc: 0.9979\n",
      "Epoch 13/40\n",
      "782/782 [==============================] - 2s 2ms/step - loss: 0.0266 - categorical_accuracy: 0.9925 - precision: 0.9931 - recall: 0.9914 - auc: 0.9995 - val_loss: 0.0621 - val_categorical_accuracy: 0.9848 - val_precision: 0.9878 - val_recall: 0.9834 - val_auc: 0.9980\n",
      "Epoch 14/40\n",
      "782/782 [==============================] - 2s 2ms/step - loss: 0.0380 - categorical_accuracy: 0.9895 - precision: 0.9906 - recall: 0.9884 - auc: 0.9991 - val_loss: 0.0708 - val_categorical_accuracy: 0.9852 - val_precision: 0.9876 - val_recall: 0.9825 - val_auc: 0.9974\n",
      "Epoch 15/40\n",
      "782/782 [==============================] - 2s 2ms/step - loss: 0.0308 - categorical_accuracy: 0.9919 - precision: 0.9929 - recall: 0.9913 - auc: 0.9992 - val_loss: 0.0668 - val_categorical_accuracy: 0.9868 - val_precision: 0.9875 - val_recall: 0.9864 - val_auc: 0.9974\n",
      "Epoch 16/40\n",
      "782/782 [==============================] - 2s 2ms/step - loss: 0.0239 - categorical_accuracy: 0.9942 - precision: 0.9953 - recall: 0.9934 - auc: 0.9995 - val_loss: 0.0610 - val_categorical_accuracy: 0.9843 - val_precision: 0.9862 - val_recall: 0.9825 - val_auc: 0.9977\n",
      "Epoch 17/40\n",
      "782/782 [==============================] - 2s 2ms/step - loss: 0.0180 - categorical_accuracy: 0.9945 - precision: 0.9953 - recall: 0.9938 - auc: 0.9996 - val_loss: 0.0562 - val_categorical_accuracy: 0.9878 - val_precision: 0.9885 - val_recall: 0.9866 - val_auc: 0.9981\n",
      "Epoch 18/40\n",
      "782/782 [==============================] - 2s 2ms/step - loss: 0.0158 - categorical_accuracy: 0.9958 - precision: 0.9967 - recall: 0.9952 - auc: 0.9996 - val_loss: 0.0767 - val_categorical_accuracy: 0.9832 - val_precision: 0.9856 - val_recall: 0.9818 - val_auc: 0.9971\n",
      "Epoch 19/40\n",
      "782/782 [==============================] - 2s 2ms/step - loss: 0.0167 - categorical_accuracy: 0.9953 - precision: 0.9962 - recall: 0.9948 - auc: 0.9996 - val_loss: 0.0883 - val_categorical_accuracy: 0.9862 - val_precision: 0.9873 - val_recall: 0.9857 - val_auc: 0.9962\n",
      "Epoch 20/40\n",
      "782/782 [==============================] - 2s 2ms/step - loss: 0.0177 - categorical_accuracy: 0.9953 - precision: 0.9959 - recall: 0.9948 - auc: 0.9996 - val_loss: 0.0784 - val_categorical_accuracy: 0.9871 - val_precision: 0.9878 - val_recall: 0.9857 - val_auc: 0.9969\n",
      "Epoch 21/40\n",
      "782/782 [==============================] - 2s 2ms/step - loss: 0.0293 - categorical_accuracy: 0.9942 - precision: 0.9950 - recall: 0.9938 - auc: 0.9997 - val_loss: 0.0794 - val_categorical_accuracy: 0.9882 - val_precision: 0.9893 - val_recall: 0.9870 - val_auc: 0.9969\n",
      "Epoch 22/40\n",
      "782/782 [==============================] - 2s 2ms/step - loss: 0.0247 - categorical_accuracy: 0.9945 - precision: 0.9954 - recall: 0.9938 - auc: 0.9995 - val_loss: 0.0593 - val_categorical_accuracy: 0.9866 - val_precision: 0.9884 - val_recall: 0.9859 - val_auc: 0.9982\n",
      "Epoch 23/40\n",
      "782/782 [==============================] - 2s 2ms/step - loss: 0.0132 - categorical_accuracy: 0.9967 - precision: 0.9974 - recall: 0.9963 - auc: 0.9997 - val_loss: 0.0548 - val_categorical_accuracy: 0.9900 - val_precision: 0.9905 - val_recall: 0.9893 - val_auc: 0.9981\n",
      "Epoch 24/40\n",
      "782/782 [==============================] - 2s 2ms/step - loss: 0.0108 - categorical_accuracy: 0.9974 - precision: 0.9978 - recall: 0.9971 - auc: 0.9997 - val_loss: 0.0640 - val_categorical_accuracy: 0.9905 - val_precision: 0.9914 - val_recall: 0.9902 - val_auc: 0.9974\n",
      "Epoch 25/40\n",
      "782/782 [==============================] - 2s 2ms/step - loss: 0.0187 - categorical_accuracy: 0.9961 - precision: 0.9968 - recall: 0.9954 - auc: 0.9995 - val_loss: 0.0677 - val_categorical_accuracy: 0.9886 - val_precision: 0.9905 - val_recall: 0.9878 - val_auc: 0.9973\n",
      "Epoch 26/40\n",
      "782/782 [==============================] - 2s 2ms/step - loss: 0.0132 - categorical_accuracy: 0.9967 - precision: 0.9970 - recall: 0.9964 - auc: 0.9996 - val_loss: 0.0495 - val_categorical_accuracy: 0.9902 - val_precision: 0.9910 - val_recall: 0.9891 - val_auc: 0.9978\n",
      "Epoch 27/40\n",
      "782/782 [==============================] - 2s 2ms/step - loss: 0.0099 - categorical_accuracy: 0.9977 - precision: 0.9979 - recall: 0.9976 - auc: 0.9998 - val_loss: 0.0537 - val_categorical_accuracy: 0.9896 - val_precision: 0.9900 - val_recall: 0.9886 - val_auc: 0.9976\n",
      "Epoch 28/40\n",
      "782/782 [==============================] - 2s 2ms/step - loss: 0.0091 - categorical_accuracy: 0.9976 - precision: 0.9978 - recall: 0.9974 - auc: 0.9998 - val_loss: 0.0503 - val_categorical_accuracy: 0.9889 - val_precision: 0.9889 - val_recall: 0.9887 - val_auc: 0.9985\n",
      "Epoch 29/40\n",
      "782/782 [==============================] - 2s 2ms/step - loss: 0.0058 - categorical_accuracy: 0.9984 - precision: 0.9984 - recall: 0.9983 - auc: 0.9999 - val_loss: 0.0562 - val_categorical_accuracy: 0.9875 - val_precision: 0.9887 - val_recall: 0.9857 - val_auc: 0.9980\n",
      "Epoch 30/40\n",
      "782/782 [==============================] - 2s 2ms/step - loss: 0.0154 - categorical_accuracy: 0.9968 - precision: 0.9971 - recall: 0.9963 - auc: 0.9996 - val_loss: 0.0598 - val_categorical_accuracy: 0.9880 - val_precision: 0.9896 - val_recall: 0.9871 - val_auc: 0.9976\n",
      "Epoch 31/40\n",
      "782/782 [==============================] - 2s 2ms/step - loss: 0.0079 - categorical_accuracy: 0.9979 - precision: 0.9984 - recall: 0.9978 - auc: 0.9998 - val_loss: 0.0856 - val_categorical_accuracy: 0.9889 - val_precision: 0.9896 - val_recall: 0.9886 - val_auc: 0.9970\n",
      "Epoch 32/40\n",
      "782/782 [==============================] - 2s 2ms/step - loss: 0.0115 - categorical_accuracy: 0.9975 - precision: 0.9980 - recall: 0.9972 - auc: 0.9996 - val_loss: 0.0889 - val_categorical_accuracy: 0.9864 - val_precision: 0.9871 - val_recall: 0.9857 - val_auc: 0.9966\n",
      "Epoch 33/40\n",
      "782/782 [==============================] - 2s 2ms/step - loss: 0.0171 - categorical_accuracy: 0.9966 - precision: 0.9970 - recall: 0.9959 - auc: 0.9995 - val_loss: 0.1184 - val_categorical_accuracy: 0.9880 - val_precision: 0.9882 - val_recall: 0.9875 - val_auc: 0.9960\n",
      "Epoch 34/40\n",
      "782/782 [==============================] - 2s 2ms/step - loss: 0.0110 - categorical_accuracy: 0.9966 - precision: 0.9973 - recall: 0.9961 - auc: 0.9998 - val_loss: 0.1093 - val_categorical_accuracy: 0.9911 - val_precision: 0.9914 - val_recall: 0.9905 - val_auc: 0.9970\n",
      "Epoch 35/40\n",
      "782/782 [==============================] - 2s 2ms/step - loss: 0.0077 - categorical_accuracy: 0.9985 - precision: 0.9987 - recall: 0.9985 - auc: 0.9998 - val_loss: 0.1007 - val_categorical_accuracy: 0.9889 - val_precision: 0.9898 - val_recall: 0.9873 - val_auc: 0.9971\n",
      "Epoch 36/40\n",
      "782/782 [==============================] - 2s 2ms/step - loss: 0.0163 - categorical_accuracy: 0.9966 - precision: 0.9971 - recall: 0.9960 - auc: 0.9995 - val_loss: 0.1011 - val_categorical_accuracy: 0.9900 - val_precision: 0.9907 - val_recall: 0.9895 - val_auc: 0.9971\n"
     ]
    }
   ],
   "source": [
    "model_dnn_history1 = model_dnn.fit(X_data_train0to4,y_data_train0to4, epochs = 40, validation_data=(X_data_valid0to4,y_data_valid0to4), callbacks = [checkpoint_cb,earlystopping_cb])"
   ]
  },
  {
   "cell_type": "code",
   "execution_count": 20,
   "metadata": {},
   "outputs": [],
   "source": [
    "#predicting on validation data, test data and making confusion matrices\n",
    "y_pred_valid = np.argmax(model_dnn.predict(X_data_valid0to4),axis = 1)\n",
    "y_pred_test = np.argmax(model_dnn.predict(X_data_test0to4),axis = 1)"
   ]
  },
  {
   "cell_type": "code",
   "execution_count": 21,
   "metadata": {},
   "outputs": [
    {
     "output_type": "execute_result",
     "data": {
      "text/plain": [
       "array([[1097,    0,    3,    0,    0],\n",
       "       [   0, 1167,    1,    2,    5],\n",
       "       [   4,    3, 1077,    6,    5],\n",
       "       [   2,    0,   15, 1132,    2],\n",
       "       [   1,    3,    2,    1, 1068]], dtype=int64)"
      ]
     },
     "metadata": {},
     "execution_count": 21
    }
   ],
   "source": [
    "from sklearn.metrics import confusion_matrix\n",
    "from sklearn.metrics import precision_score, recall_score,auc\n",
    "confusion_matrix(y_data_0to4_sparse[25000:],y_pred_valid)"
   ]
  },
  {
   "cell_type": "code",
   "execution_count": 22,
   "metadata": {},
   "outputs": [
    {
     "output_type": "execute_result",
     "data": {
      "text/plain": [
       "0.9901803407018425"
      ]
     },
     "metadata": {},
     "execution_count": 22
    }
   ],
   "source": [
    " precision_score(y_data_0to4_sparse[25000:],y_pred_valid, average='weighted')"
   ]
  },
  {
   "cell_type": "code",
   "execution_count": 23,
   "metadata": {},
   "outputs": [
    {
     "output_type": "execute_result",
     "data": {
      "text/plain": [
       "0.9901715511079342"
      ]
     },
     "metadata": {},
     "execution_count": 23
    }
   ],
   "source": [
    "recall_score(y_data_0to4_sparse[25000:],y_pred_valid, average='weighted')"
   ]
  },
  {
   "cell_type": "code",
   "execution_count": 24,
   "metadata": {},
   "outputs": [
    {
     "output_type": "execute_result",
     "data": {
      "text/plain": [
       "array([[ 977,    0,    0,    3,    0],\n",
       "       [   1, 1126,    3,    2,    3],\n",
       "       [   5,    2, 1017,    2,    6],\n",
       "       [   0,    0,    4, 1005,    1],\n",
       "       [   2,    0,    3,    1,  976]], dtype=int64)"
      ]
     },
     "metadata": {},
     "execution_count": 24
    }
   ],
   "source": [
    "#on test data\n",
    "confusion_matrix(y_data_test0to4_sparse,y_pred_test)"
   ]
  },
  {
   "cell_type": "code",
   "execution_count": 25,
   "metadata": {},
   "outputs": [
    {
     "output_type": "execute_result",
     "data": {
      "text/plain": [
       "0.9926140829447524"
      ]
     },
     "metadata": {},
     "execution_count": 25
    }
   ],
   "source": [
    " precision_score(y_data_test0to4_sparse,y_pred_test, average='weighted')"
   ]
  },
  {
   "cell_type": "code",
   "execution_count": 26,
   "metadata": {},
   "outputs": [
    {
     "output_type": "execute_result",
     "data": {
      "text/plain": [
       "0.9926055652850749"
      ]
     },
     "metadata": {},
     "execution_count": 26
    }
   ],
   "source": [
    "recall_score(y_data_test0to4_sparse,y_pred_test, average='weighted')"
   ]
  },
  {
   "cell_type": "code",
   "execution_count": 27,
   "metadata": {},
   "outputs": [
    {
     "output_type": "execute_result",
     "data": {
      "text/plain": [
       "        loss  categorical_accuracy  precision   recall       auc  val_loss  \\\n",
       "0   1.714488               0.92904   0.929172  0.92880  0.966800  0.359379   \n",
       "1   0.245397               0.96488   0.965296  0.96464  0.990201  0.244235   \n",
       "2   0.164445               0.97244   0.972858  0.97208  0.993009  0.186471   \n",
       "3   0.119872               0.97516   0.975969  0.97472  0.995196  0.106354   \n",
       "4   0.080945               0.98212   0.982660  0.98152  0.997088  0.093580   \n",
       "5   0.070238               0.98284   0.983895  0.98236  0.997618  0.080642   \n",
       "6   0.065008               0.98368   0.984811  0.98296  0.998049  0.075044   \n",
       "7   0.061378               0.98516   0.985902  0.98464  0.998044  0.071085   \n",
       "8   0.055906               0.98592   0.987133  0.98508  0.998349  0.089357   \n",
       "9   0.040297               0.98884   0.989903  0.98828  0.998952  0.062814   \n",
       "10  0.045433               0.98824   0.989577  0.98736  0.998640  0.061472   \n",
       "11  0.037133               0.98984   0.991139  0.98880  0.999011  0.058456   \n",
       "12  0.030726               0.99072   0.991705  0.98996  0.999360  0.062088   \n",
       "13  0.032808               0.99116   0.992026  0.99028  0.999236  0.070773   \n",
       "14  0.032001               0.99100   0.992225  0.99032  0.999175  0.066760   \n",
       "15  0.023101               0.99380   0.994871  0.99320  0.999500  0.060971   \n",
       "16  0.023547               0.99356   0.994511  0.99280  0.999451  0.056217   \n",
       "17  0.020578               0.99448   0.995234  0.99388  0.999466  0.076729   \n",
       "18  0.018975               0.99472   0.995394  0.99416  0.999521  0.088349   \n",
       "19  0.016599               0.99572   0.996356  0.99524  0.999628  0.078398   \n",
       "20  0.025348               0.99416   0.995113  0.99368  0.999473  0.079391   \n",
       "21  0.020145               0.99524   0.995834  0.99440  0.999506  0.059317   \n",
       "22  0.013054               0.99656   0.997117  0.99608  0.999720  0.054803   \n",
       "23  0.015067               0.99632   0.996797  0.99576  0.999618  0.063984   \n",
       "24  0.019434               0.99552   0.996354  0.99484  0.999521  0.067679   \n",
       "25  0.015903               0.99636   0.996877  0.99596  0.999552  0.049540   \n",
       "26  0.012721               0.99716   0.997439  0.99692  0.999707  0.053667   \n",
       "27  0.011124               0.99724   0.997638  0.99700  0.999684  0.050312   \n",
       "28  0.011625               0.99748   0.997639  0.99736  0.999711  0.056202   \n",
       "29  0.016975               0.99636   0.996678  0.99604  0.999521  0.059756   \n",
       "30  0.010204               0.99748   0.997839  0.99732  0.999652  0.085624   \n",
       "31  0.015530               0.99688   0.997278  0.99652  0.999587  0.088935   \n",
       "32  0.011116               0.99732   0.997638  0.99688  0.999742  0.118386   \n",
       "33  0.010371               0.99716   0.997678  0.99676  0.999732  0.109305   \n",
       "34  0.010745               0.99804   0.998240  0.99796  0.999664  0.100684   \n",
       "35  0.016762               0.99656   0.996997  0.99604  0.999487  0.101104   \n",
       "\n",
       "    val_categorical_accuracy  val_precision  val_recall   val_auc  \n",
       "0                   0.958006       0.958520    0.958006  0.985630  \n",
       "1                   0.962652       0.963493    0.962116  0.990539  \n",
       "2                   0.966405       0.967055    0.965154  0.991950  \n",
       "3                   0.976590       0.977289    0.976590  0.996429  \n",
       "4                   0.976054       0.978819    0.974446  0.996731  \n",
       "5                   0.980700       0.981389    0.979986  0.996982  \n",
       "6                   0.985525       0.986051    0.985347  0.997186  \n",
       "7                   0.981237       0.983163    0.980879  0.997844  \n",
       "8                   0.977127       0.979889    0.975161  0.996801  \n",
       "9                   0.984989       0.986392    0.984453  0.997251  \n",
       "10                  0.983738       0.985842    0.983024  0.997942  \n",
       "11                  0.987312       0.988181    0.986061  0.997863  \n",
       "12                  0.984811       0.987794    0.983381  0.997977  \n",
       "13                  0.985168       0.987606    0.982487  0.997360  \n",
       "14                  0.986776       0.987478    0.986419  0.997406  \n",
       "15                  0.984275       0.986188    0.982487  0.997682  \n",
       "16                  0.987848       0.988541    0.986598  0.998129  \n",
       "17                  0.983202       0.985648    0.981773  0.997126  \n",
       "18                  0.986240       0.987292    0.985704  0.996209  \n",
       "19                  0.987134       0.987822    0.985704  0.996927  \n",
       "20                  0.988206       0.989253    0.986955  0.996855  \n",
       "21                  0.986598       0.988355    0.985883  0.998225  \n",
       "22                  0.989993       0.990517    0.989278  0.998110  \n",
       "23                  0.990529       0.991412    0.990172  0.997401  \n",
       "24                  0.988563       0.990503    0.987848  0.997306  \n",
       "25                  0.990172       0.991047    0.989099  0.997845  \n",
       "26                  0.989635       0.989979    0.988563  0.997574  \n",
       "27                  0.988921       0.988919    0.988742  0.998500  \n",
       "28                  0.987491       0.988708    0.985704  0.997962  \n",
       "29                  0.988027       0.989609    0.987134  0.997628  \n",
       "30                  0.988921       0.989624    0.988563  0.997004  \n",
       "31                  0.986419       0.987115    0.985704  0.996620  \n",
       "32                  0.988027       0.988197    0.987491  0.996037  \n",
       "33                  0.991065       0.991415    0.990529  0.996963  \n",
       "34                  0.988921       0.989789    0.987312  0.997110  \n",
       "35                  0.989993       0.990696    0.989457  0.997077  "
      ],
      "text/html": "<div>\n<style scoped>\n    .dataframe tbody tr th:only-of-type {\n        vertical-align: middle;\n    }\n\n    .dataframe tbody tr th {\n        vertical-align: top;\n    }\n\n    .dataframe thead th {\n        text-align: right;\n    }\n</style>\n<table border=\"1\" class=\"dataframe\">\n  <thead>\n    <tr style=\"text-align: right;\">\n      <th></th>\n      <th>loss</th>\n      <th>categorical_accuracy</th>\n      <th>precision</th>\n      <th>recall</th>\n      <th>auc</th>\n      <th>val_loss</th>\n      <th>val_categorical_accuracy</th>\n      <th>val_precision</th>\n      <th>val_recall</th>\n      <th>val_auc</th>\n    </tr>\n  </thead>\n  <tbody>\n    <tr>\n      <th>0</th>\n      <td>1.714488</td>\n      <td>0.92904</td>\n      <td>0.929172</td>\n      <td>0.92880</td>\n      <td>0.966800</td>\n      <td>0.359379</td>\n      <td>0.958006</td>\n      <td>0.958520</td>\n      <td>0.958006</td>\n      <td>0.985630</td>\n    </tr>\n    <tr>\n      <th>1</th>\n      <td>0.245397</td>\n      <td>0.96488</td>\n      <td>0.965296</td>\n      <td>0.96464</td>\n      <td>0.990201</td>\n      <td>0.244235</td>\n      <td>0.962652</td>\n      <td>0.963493</td>\n      <td>0.962116</td>\n      <td>0.990539</td>\n    </tr>\n    <tr>\n      <th>2</th>\n      <td>0.164445</td>\n      <td>0.97244</td>\n      <td>0.972858</td>\n      <td>0.97208</td>\n      <td>0.993009</td>\n      <td>0.186471</td>\n      <td>0.966405</td>\n      <td>0.967055</td>\n      <td>0.965154</td>\n      <td>0.991950</td>\n    </tr>\n    <tr>\n      <th>3</th>\n      <td>0.119872</td>\n      <td>0.97516</td>\n      <td>0.975969</td>\n      <td>0.97472</td>\n      <td>0.995196</td>\n      <td>0.106354</td>\n      <td>0.976590</td>\n      <td>0.977289</td>\n      <td>0.976590</td>\n      <td>0.996429</td>\n    </tr>\n    <tr>\n      <th>4</th>\n      <td>0.080945</td>\n      <td>0.98212</td>\n      <td>0.982660</td>\n      <td>0.98152</td>\n      <td>0.997088</td>\n      <td>0.093580</td>\n      <td>0.976054</td>\n      <td>0.978819</td>\n      <td>0.974446</td>\n      <td>0.996731</td>\n    </tr>\n    <tr>\n      <th>5</th>\n      <td>0.070238</td>\n      <td>0.98284</td>\n      <td>0.983895</td>\n      <td>0.98236</td>\n      <td>0.997618</td>\n      <td>0.080642</td>\n      <td>0.980700</td>\n      <td>0.981389</td>\n      <td>0.979986</td>\n      <td>0.996982</td>\n    </tr>\n    <tr>\n      <th>6</th>\n      <td>0.065008</td>\n      <td>0.98368</td>\n      <td>0.984811</td>\n      <td>0.98296</td>\n      <td>0.998049</td>\n      <td>0.075044</td>\n      <td>0.985525</td>\n      <td>0.986051</td>\n      <td>0.985347</td>\n      <td>0.997186</td>\n    </tr>\n    <tr>\n      <th>7</th>\n      <td>0.061378</td>\n      <td>0.98516</td>\n      <td>0.985902</td>\n      <td>0.98464</td>\n      <td>0.998044</td>\n      <td>0.071085</td>\n      <td>0.981237</td>\n      <td>0.983163</td>\n      <td>0.980879</td>\n      <td>0.997844</td>\n    </tr>\n    <tr>\n      <th>8</th>\n      <td>0.055906</td>\n      <td>0.98592</td>\n      <td>0.987133</td>\n      <td>0.98508</td>\n      <td>0.998349</td>\n      <td>0.089357</td>\n      <td>0.977127</td>\n      <td>0.979889</td>\n      <td>0.975161</td>\n      <td>0.996801</td>\n    </tr>\n    <tr>\n      <th>9</th>\n      <td>0.040297</td>\n      <td>0.98884</td>\n      <td>0.989903</td>\n      <td>0.98828</td>\n      <td>0.998952</td>\n      <td>0.062814</td>\n      <td>0.984989</td>\n      <td>0.986392</td>\n      <td>0.984453</td>\n      <td>0.997251</td>\n    </tr>\n    <tr>\n      <th>10</th>\n      <td>0.045433</td>\n      <td>0.98824</td>\n      <td>0.989577</td>\n      <td>0.98736</td>\n      <td>0.998640</td>\n      <td>0.061472</td>\n      <td>0.983738</td>\n      <td>0.985842</td>\n      <td>0.983024</td>\n      <td>0.997942</td>\n    </tr>\n    <tr>\n      <th>11</th>\n      <td>0.037133</td>\n      <td>0.98984</td>\n      <td>0.991139</td>\n      <td>0.98880</td>\n      <td>0.999011</td>\n      <td>0.058456</td>\n      <td>0.987312</td>\n      <td>0.988181</td>\n      <td>0.986061</td>\n      <td>0.997863</td>\n    </tr>\n    <tr>\n      <th>12</th>\n      <td>0.030726</td>\n      <td>0.99072</td>\n      <td>0.991705</td>\n      <td>0.98996</td>\n      <td>0.999360</td>\n      <td>0.062088</td>\n      <td>0.984811</td>\n      <td>0.987794</td>\n      <td>0.983381</td>\n      <td>0.997977</td>\n    </tr>\n    <tr>\n      <th>13</th>\n      <td>0.032808</td>\n      <td>0.99116</td>\n      <td>0.992026</td>\n      <td>0.99028</td>\n      <td>0.999236</td>\n      <td>0.070773</td>\n      <td>0.985168</td>\n      <td>0.987606</td>\n      <td>0.982487</td>\n      <td>0.997360</td>\n    </tr>\n    <tr>\n      <th>14</th>\n      <td>0.032001</td>\n      <td>0.99100</td>\n      <td>0.992225</td>\n      <td>0.99032</td>\n      <td>0.999175</td>\n      <td>0.066760</td>\n      <td>0.986776</td>\n      <td>0.987478</td>\n      <td>0.986419</td>\n      <td>0.997406</td>\n    </tr>\n    <tr>\n      <th>15</th>\n      <td>0.023101</td>\n      <td>0.99380</td>\n      <td>0.994871</td>\n      <td>0.99320</td>\n      <td>0.999500</td>\n      <td>0.060971</td>\n      <td>0.984275</td>\n      <td>0.986188</td>\n      <td>0.982487</td>\n      <td>0.997682</td>\n    </tr>\n    <tr>\n      <th>16</th>\n      <td>0.023547</td>\n      <td>0.99356</td>\n      <td>0.994511</td>\n      <td>0.99280</td>\n      <td>0.999451</td>\n      <td>0.056217</td>\n      <td>0.987848</td>\n      <td>0.988541</td>\n      <td>0.986598</td>\n      <td>0.998129</td>\n    </tr>\n    <tr>\n      <th>17</th>\n      <td>0.020578</td>\n      <td>0.99448</td>\n      <td>0.995234</td>\n      <td>0.99388</td>\n      <td>0.999466</td>\n      <td>0.076729</td>\n      <td>0.983202</td>\n      <td>0.985648</td>\n      <td>0.981773</td>\n      <td>0.997126</td>\n    </tr>\n    <tr>\n      <th>18</th>\n      <td>0.018975</td>\n      <td>0.99472</td>\n      <td>0.995394</td>\n      <td>0.99416</td>\n      <td>0.999521</td>\n      <td>0.088349</td>\n      <td>0.986240</td>\n      <td>0.987292</td>\n      <td>0.985704</td>\n      <td>0.996209</td>\n    </tr>\n    <tr>\n      <th>19</th>\n      <td>0.016599</td>\n      <td>0.99572</td>\n      <td>0.996356</td>\n      <td>0.99524</td>\n      <td>0.999628</td>\n      <td>0.078398</td>\n      <td>0.987134</td>\n      <td>0.987822</td>\n      <td>0.985704</td>\n      <td>0.996927</td>\n    </tr>\n    <tr>\n      <th>20</th>\n      <td>0.025348</td>\n      <td>0.99416</td>\n      <td>0.995113</td>\n      <td>0.99368</td>\n      <td>0.999473</td>\n      <td>0.079391</td>\n      <td>0.988206</td>\n      <td>0.989253</td>\n      <td>0.986955</td>\n      <td>0.996855</td>\n    </tr>\n    <tr>\n      <th>21</th>\n      <td>0.020145</td>\n      <td>0.99524</td>\n      <td>0.995834</td>\n      <td>0.99440</td>\n      <td>0.999506</td>\n      <td>0.059317</td>\n      <td>0.986598</td>\n      <td>0.988355</td>\n      <td>0.985883</td>\n      <td>0.998225</td>\n    </tr>\n    <tr>\n      <th>22</th>\n      <td>0.013054</td>\n      <td>0.99656</td>\n      <td>0.997117</td>\n      <td>0.99608</td>\n      <td>0.999720</td>\n      <td>0.054803</td>\n      <td>0.989993</td>\n      <td>0.990517</td>\n      <td>0.989278</td>\n      <td>0.998110</td>\n    </tr>\n    <tr>\n      <th>23</th>\n      <td>0.015067</td>\n      <td>0.99632</td>\n      <td>0.996797</td>\n      <td>0.99576</td>\n      <td>0.999618</td>\n      <td>0.063984</td>\n      <td>0.990529</td>\n      <td>0.991412</td>\n      <td>0.990172</td>\n      <td>0.997401</td>\n    </tr>\n    <tr>\n      <th>24</th>\n      <td>0.019434</td>\n      <td>0.99552</td>\n      <td>0.996354</td>\n      <td>0.99484</td>\n      <td>0.999521</td>\n      <td>0.067679</td>\n      <td>0.988563</td>\n      <td>0.990503</td>\n      <td>0.987848</td>\n      <td>0.997306</td>\n    </tr>\n    <tr>\n      <th>25</th>\n      <td>0.015903</td>\n      <td>0.99636</td>\n      <td>0.996877</td>\n      <td>0.99596</td>\n      <td>0.999552</td>\n      <td>0.049540</td>\n      <td>0.990172</td>\n      <td>0.991047</td>\n      <td>0.989099</td>\n      <td>0.997845</td>\n    </tr>\n    <tr>\n      <th>26</th>\n      <td>0.012721</td>\n      <td>0.99716</td>\n      <td>0.997439</td>\n      <td>0.99692</td>\n      <td>0.999707</td>\n      <td>0.053667</td>\n      <td>0.989635</td>\n      <td>0.989979</td>\n      <td>0.988563</td>\n      <td>0.997574</td>\n    </tr>\n    <tr>\n      <th>27</th>\n      <td>0.011124</td>\n      <td>0.99724</td>\n      <td>0.997638</td>\n      <td>0.99700</td>\n      <td>0.999684</td>\n      <td>0.050312</td>\n      <td>0.988921</td>\n      <td>0.988919</td>\n      <td>0.988742</td>\n      <td>0.998500</td>\n    </tr>\n    <tr>\n      <th>28</th>\n      <td>0.011625</td>\n      <td>0.99748</td>\n      <td>0.997639</td>\n      <td>0.99736</td>\n      <td>0.999711</td>\n      <td>0.056202</td>\n      <td>0.987491</td>\n      <td>0.988708</td>\n      <td>0.985704</td>\n      <td>0.997962</td>\n    </tr>\n    <tr>\n      <th>29</th>\n      <td>0.016975</td>\n      <td>0.99636</td>\n      <td>0.996678</td>\n      <td>0.99604</td>\n      <td>0.999521</td>\n      <td>0.059756</td>\n      <td>0.988027</td>\n      <td>0.989609</td>\n      <td>0.987134</td>\n      <td>0.997628</td>\n    </tr>\n    <tr>\n      <th>30</th>\n      <td>0.010204</td>\n      <td>0.99748</td>\n      <td>0.997839</td>\n      <td>0.99732</td>\n      <td>0.999652</td>\n      <td>0.085624</td>\n      <td>0.988921</td>\n      <td>0.989624</td>\n      <td>0.988563</td>\n      <td>0.997004</td>\n    </tr>\n    <tr>\n      <th>31</th>\n      <td>0.015530</td>\n      <td>0.99688</td>\n      <td>0.997278</td>\n      <td>0.99652</td>\n      <td>0.999587</td>\n      <td>0.088935</td>\n      <td>0.986419</td>\n      <td>0.987115</td>\n      <td>0.985704</td>\n      <td>0.996620</td>\n    </tr>\n    <tr>\n      <th>32</th>\n      <td>0.011116</td>\n      <td>0.99732</td>\n      <td>0.997638</td>\n      <td>0.99688</td>\n      <td>0.999742</td>\n      <td>0.118386</td>\n      <td>0.988027</td>\n      <td>0.988197</td>\n      <td>0.987491</td>\n      <td>0.996037</td>\n    </tr>\n    <tr>\n      <th>33</th>\n      <td>0.010371</td>\n      <td>0.99716</td>\n      <td>0.997678</td>\n      <td>0.99676</td>\n      <td>0.999732</td>\n      <td>0.109305</td>\n      <td>0.991065</td>\n      <td>0.991415</td>\n      <td>0.990529</td>\n      <td>0.996963</td>\n    </tr>\n    <tr>\n      <th>34</th>\n      <td>0.010745</td>\n      <td>0.99804</td>\n      <td>0.998240</td>\n      <td>0.99796</td>\n      <td>0.999664</td>\n      <td>0.100684</td>\n      <td>0.988921</td>\n      <td>0.989789</td>\n      <td>0.987312</td>\n      <td>0.997110</td>\n    </tr>\n    <tr>\n      <th>35</th>\n      <td>0.016762</td>\n      <td>0.99656</td>\n      <td>0.996997</td>\n      <td>0.99604</td>\n      <td>0.999487</td>\n      <td>0.101104</td>\n      <td>0.989993</td>\n      <td>0.990696</td>\n      <td>0.989457</td>\n      <td>0.997077</td>\n    </tr>\n  </tbody>\n</table>\n</div>"
     },
     "metadata": {},
     "execution_count": 27
    }
   ],
   "source": [
    "#learning curves for lr = 0.01, beta1 = 0.9, beta2 = 0.9994\n",
    "import pandas as pd\n",
    "model_dnn_history1_df = pd.DataFrame(data = model_dnn_history1.history)\n",
    "model_dnn_history1_df"
   ]
  },
  {
   "cell_type": "code",
   "execution_count": 45,
   "metadata": {},
   "outputs": [],
   "source": [
    "#number of layers is fixed, only thing being changed is learning rate, beta1, beta2\n",
    "def validating_dnn_model_0to4(lr = 0.001, beta1 = 0.9, beta2 = 0.999):\n",
    "    #set for only 5 hidden layers\n",
    "    model = keras.models.Sequential()\n",
    "    model.add(keras.layers.Flatten(input_shape = [28,28]))\n",
    "    for i in range(5):\n",
    "        model.add(keras.layers.Dense(100,activation = \"elu\",kernel_initializer=\"he_normal\"))\n",
    "    model.add(keras.layers.Dense(5, activation=\"softmax\"))\n",
    "    optim = keras.optimizers.Adam(lr = lr,beta_1=beta1,beta_2=beta2)\n",
    "    accuracy = keras.metrics.CategoricalAccuracy(name = \"categorical_accuracy\")\n",
    "    precision = keras.metrics.Precision()\n",
    "    recall = keras.metrics.Recall()\n",
    "    aucscore = keras.metrics.AUC()\n",
    "    model.compile(loss = \"categorical_crossentropy\",\n",
    "                    optimizer = optim, metrics = [accuracy,precision,recall,aucscore])\n",
    "    return model"
   ]
  },
  {
   "cell_type": "code",
   "execution_count": 46,
   "metadata": {},
   "outputs": [],
   "source": [
    "keras_dnn_model_0to4 = keras.wrappers.scikit_learn.KerasRegressor(validating_dnn_model_0to4)"
   ]
  },
  {
   "cell_type": "code",
   "execution_count": 47,
   "metadata": {},
   "outputs": [],
   "source": [
    "checkpoint = keras.callbacks.ModelCheckpoint(\"zerotofour.h5\", save_best_only=True)\n",
    "earlystopping = keras.callbacks.EarlyStopping(patience = 10, restore_best_weights=True)"
   ]
  },
  {
   "cell_type": "code",
   "execution_count": 48,
   "metadata": {},
   "outputs": [],
   "source": [
    "from sklearn.model_selection import RandomizedSearchCV\n",
    "from sklearn.metrics import make_scorer"
   ]
  },
  {
   "cell_type": "code",
   "execution_count": 49,
   "metadata": {},
   "outputs": [],
   "source": [
    "\"\"\" scoring_dnn = {\n",
    "    \"Precision\" : make_scorer(precision),\n",
    "    \"Accuracy\" : make_scorer(accuracy), \n",
    "    \"Recall\" : make_scorer(recall), \n",
    "    \"AUC\" : make_scorer(aucscore)\n",
    "} \"\"\"\n",
    "\n",
    "param_grid_dnn_0to4 = {\n",
    "    'lr' : (0.0005,0.001, 0.005, 0.01, 0.05, 0.1),\n",
    "    'beta1' : (0.4,0.5,0.6,0.7,0.8),\n",
    "    'beta2' : (0.6,0.7,0.8,0.9,0.999)\n",
    "}"
   ]
  },
  {
   "cell_type": "code",
   "execution_count": 54,
   "metadata": {},
   "outputs": [],
   "source": [
    "rnd_search_dnn = RandomizedSearchCV(estimator = keras_dnn_model_0to4, param_distributions = param_grid_dnn_0to4, verbose = 2, return_train_score = True, n_iter = 10, random_state = 42)"
   ]
  },
  {
   "cell_type": "code",
   "execution_count": 55,
   "metadata": {
    "tags": [
     "outputPrepend"
    ]
   },
   "outputs": [
    {
     "output_type": "stream",
     "name": "stdout",
     "text": [
      "0.0000e+00 - val_recall_48: 0.0000e+00 - val_auc_48: 0.4961\n",
      "Epoch 2/40\n",
      "625/625 [==============================] - 2s 3ms/step - loss: 2.2740 - categorical_accuracy: 0.2055 - precision_48: 0.2045 - recall_48: 0.1036 - auc_48: 0.5041 - val_loss: 3.8227 - val_categorical_accuracy: 0.2057 - val_precision_48: 0.2057 - val_recall_48: 0.2057 - val_auc_48: 0.5052\n",
      "Epoch 3/40\n",
      "625/625 [==============================] - 3s 4ms/step - loss: 2.3292 - categorical_accuracy: 0.1993 - precision_48: 0.1999 - recall_48: 0.1145 - auc_48: 0.4995 - val_loss: 2.3477 - val_categorical_accuracy: 0.1957 - val_precision_48: 0.0000e+00 - val_recall_48: 0.0000e+00 - val_auc_48: 0.4995\n",
      "Epoch 4/40\n",
      "625/625 [==============================] - 2s 4ms/step - loss: 2.3127 - categorical_accuracy: 0.2024 - precision_48: 0.2005 - recall_48: 0.1134 - auc_48: 0.4971 - val_loss: 2.6131 - val_categorical_accuracy: 0.1957 - val_precision_48: 0.1957 - val_recall_48: 0.1957 - val_auc_48: 0.4939\n",
      "Epoch 5/40\n",
      "625/625 [==============================] - 2s 4ms/step - loss: 2.3449 - categorical_accuracy: 0.2030 - precision_48: 0.2050 - recall_48: 0.1204 - auc_48: 0.5058 - val_loss: 2.7936 - val_categorical_accuracy: 0.2100 - val_precision_48: 0.0000e+00 - val_recall_48: 0.0000e+00 - val_auc_48: 0.5094\n",
      "Epoch 6/40\n",
      "625/625 [==============================] - 2s 3ms/step - loss: 2.3392 - categorical_accuracy: 0.2016 - precision_48: 0.2048 - recall_48: 0.1088 - auc_48: 0.5052 - val_loss: 2.8840 - val_categorical_accuracy: 0.1921 - val_precision_48: 0.1921 - val_recall_48: 0.1921 - val_auc_48: 0.4888\n",
      "Epoch 7/40\n",
      "625/625 [==============================] - 2s 3ms/step - loss: 2.3294 - categorical_accuracy: 0.1962 - precision_48: 0.1956 - recall_48: 0.1102 - auc_48: 0.4998 - val_loss: 3.3962 - val_categorical_accuracy: 0.2100 - val_precision_48: 0.2100 - val_recall_48: 0.2100 - val_auc_48: 0.5101\n",
      "Epoch 8/40\n",
      "625/625 [==============================] - 2s 4ms/step - loss: 2.3634 - categorical_accuracy: 0.1960 - precision_48: 0.2005 - recall_48: 0.1096 - auc_48: 0.4950 - val_loss: 1.9188 - val_categorical_accuracy: 0.1921 - val_precision_48: 0.0000e+00 - val_recall_48: 0.0000e+00 - val_auc_48: 0.5003\n",
      "Epoch 9/40\n",
      "625/625 [==============================] - 2s 3ms/step - loss: 2.3188 - categorical_accuracy: 0.1966 - precision_48: 0.1967 - recall_48: 0.1113 - auc_48: 0.4982 - val_loss: 2.0841 - val_categorical_accuracy: 0.1966 - val_precision_48: 0.0000e+00 - val_recall_48: 0.0000e+00 - val_auc_48: 0.4987\n",
      "Epoch 10/40\n",
      "625/625 [==============================] - 2s 3ms/step - loss: 2.3392 - categorical_accuracy: 0.1962 - precision_48: 0.1930 - recall_48: 0.1094 - auc_48: 0.4957 - val_loss: 1.7002 - val_categorical_accuracy: 0.2057 - val_precision_48: 0.0000e+00 - val_recall_48: 0.0000e+00 - val_auc_48: 0.5039\n",
      "Epoch 11/40\n",
      "625/625 [==============================] - 2s 3ms/step - loss: 2.2779 - categorical_accuracy: 0.1999 - precision_48: 0.1924 - recall_48: 0.0981 - auc_48: 0.4986 - val_loss: 2.4814 - val_categorical_accuracy: 0.2100 - val_precision_48: 0.0000e+00 - val_recall_48: 0.0000e+00 - val_auc_48: 0.5033\n",
      "Epoch 12/40\n",
      "625/625 [==============================] - 2s 3ms/step - loss: 2.3449 - categorical_accuracy: 0.2003 - precision_48: 0.2036 - recall_48: 0.1050 - auc_48: 0.5026 - val_loss: 2.1279 - val_categorical_accuracy: 0.2100 - val_precision_48: 0.2100 - val_recall_48: 0.2100 - val_auc_48: 0.5067\n",
      "Epoch 13/40\n",
      "625/625 [==============================] - 2s 3ms/step - loss: 2.3172 - categorical_accuracy: 0.1969 - precision_48: 0.2014 - recall_48: 0.1064 - auc_48: 0.4946 - val_loss: 1.9360 - val_categorical_accuracy: 0.2100 - val_precision_48: 0.2100 - val_recall_48: 0.2100 - val_auc_48: 0.5033\n",
      "Epoch 14/40\n",
      "625/625 [==============================] - 2s 3ms/step - loss: 2.3844 - categorical_accuracy: 0.2010 - precision_48: 0.2038 - recall_48: 0.1295 - auc_48: 0.5016 - val_loss: 1.9219 - val_categorical_accuracy: 0.1966 - val_precision_48: 0.0000e+00 - val_recall_48: 0.0000e+00 - val_auc_48: 0.4971\n",
      "Epoch 15/40\n",
      "625/625 [==============================] - 2s 3ms/step - loss: 2.2744 - categorical_accuracy: 0.2085 - precision_48: 0.2137 - recall_48: 0.1121 - auc_48: 0.5075 - val_loss: 2.0324 - val_categorical_accuracy: 0.1957 - val_precision_48: 0.0000e+00 - val_recall_48: 0.0000e+00 - val_auc_48: 0.5029\n",
      "Epoch 16/40\n",
      "625/625 [==============================] - 2s 3ms/step - loss: 2.3724 - categorical_accuracy: 0.1990 - precision_48: 0.1921 - recall_48: 0.1076 - auc_48: 0.5005 - val_loss: 2.3582 - val_categorical_accuracy: 0.1921 - val_precision_48: 0.0000e+00 - val_recall_48: 0.0000e+00 - val_auc_48: 0.4913\n",
      "Epoch 17/40\n",
      "625/625 [==============================] - 2s 3ms/step - loss: 2.3297 - categorical_accuracy: 0.1954 - precision_48: 0.1938 - recall_48: 0.1114 - auc_48: 0.4941 - val_loss: 1.7577 - val_categorical_accuracy: 0.2100 - val_precision_48: 0.0000e+00 - val_recall_48: 0.0000e+00 - val_auc_48: 0.5010\n",
      "Epoch 18/40\n",
      "625/625 [==============================] - 2s 3ms/step - loss: 2.3618 - categorical_accuracy: 0.2005 - precision_48: 0.1965 - recall_48: 0.1153 - auc_48: 0.4980 - val_loss: 3.1196 - val_categorical_accuracy: 0.1966 - val_precision_48: 0.1966 - val_recall_48: 0.1966 - val_auc_48: 0.4994\n",
      "Epoch 19/40\n",
      "625/625 [==============================] - 2s 3ms/step - loss: 2.3257 - categorical_accuracy: 0.2069 - precision_48: 0.2115 - recall_48: 0.1188 - auc_48: 0.5042 - val_loss: 1.9288 - val_categorical_accuracy: 0.1921 - val_precision_48: 0.0000e+00 - val_recall_48: 0.0000e+00 - val_auc_48: 0.4890\n",
      "Epoch 20/40\n",
      "625/625 [==============================] - 2s 3ms/step - loss: 2.3126 - categorical_accuracy: 0.2075 - precision_48: 0.2004 - recall_48: 0.1106 - auc_48: 0.5043 - val_loss: 1.9155 - val_categorical_accuracy: 0.2100 - val_precision_48: 0.0000e+00 - val_recall_48: 0.0000e+00 - val_auc_48: 0.5101\n",
      "157/157 [==============================] - 0s 2ms/step - loss: 1.7058 - categorical_accuracy: 0.1962 - precision_48: 0.0000e+00 - recall_48: 0.0000e+00 - auc_48: 0.4978\n",
      "625/625 [==============================] - 2s 2ms/step - loss: 1.6993 - categorical_accuracy: 0.1999 - precision_48: 0.0000e+00 - recall_48: 0.0000e+00 - auc_48: 0.5028\n",
      "[CV] END ......................beta1=0.6, beta2=0.9, lr=0.05; total time=  43.5s\n",
      "Epoch 1/40\n",
      "625/625 [==============================] - 4s 5ms/step - loss: 330.0901 - categorical_accuracy: 0.2778 - precision_49: 0.3070 - recall_49: 0.1964 - auc_49: 0.5807 - val_loss: 2.2977 - val_categorical_accuracy: 0.1919 - val_precision_49: 0.0000e+00 - val_recall_49: 0.0000e+00 - val_auc_49: 0.4933\n",
      "Epoch 2/40\n",
      "625/625 [==============================] - 2s 3ms/step - loss: 2.3563 - categorical_accuracy: 0.1948 - precision_49: 0.1990 - recall_49: 0.1107 - auc_49: 0.4966 - val_loss: 2.3628 - val_categorical_accuracy: 0.2100 - val_precision_49: 0.2100 - val_recall_49: 0.2100 - val_auc_49: 0.5077\n",
      "Epoch 3/40\n",
      "625/625 [==============================] - 2s 3ms/step - loss: 2.3805 - categorical_accuracy: 0.1989 - precision_49: 0.1961 - recall_49: 0.1082 - auc_49: 0.4981 - val_loss: 1.7447 - val_categorical_accuracy: 0.1966 - val_precision_49: 0.0000e+00 - val_recall_49: 0.0000e+00 - val_auc_49: 0.5033\n",
      "Epoch 4/40\n",
      "625/625 [==============================] - 2s 3ms/step - loss: 2.3020 - categorical_accuracy: 0.2050 - precision_49: 0.1989 - recall_49: 0.1074 - auc_49: 0.5021 - val_loss: 2.2160 - val_categorical_accuracy: 0.1966 - val_precision_49: 0.1966 - val_recall_49: 0.1966 - val_auc_49: 0.5033\n",
      "Epoch 5/40\n",
      "625/625 [==============================] - 2s 3ms/step - loss: 2.6180 - categorical_accuracy: 0.1987 - precision_49: 0.1975 - recall_49: 0.1108 - auc_49: 0.5015 - val_loss: 2.7640 - val_categorical_accuracy: 0.1957 - val_precision_49: 0.1957 - val_recall_49: 0.1957 - val_auc_49: 0.4984\n",
      "Epoch 6/40\n",
      "625/625 [==============================] - 2s 3ms/step - loss: 2.3150 - categorical_accuracy: 0.1992 - precision_49: 0.2009 - recall_49: 0.1138 - auc_49: 0.4974 - val_loss: 1.9837 - val_categorical_accuracy: 0.1966 - val_precision_49: 0.0000e+00 - val_recall_49: 0.0000e+00 - val_auc_49: 0.5012\n",
      "Epoch 7/40\n",
      "625/625 [==============================] - 2s 3ms/step - loss: 2.3920 - categorical_accuracy: 0.1995 - precision_49: 0.1972 - recall_49: 0.1214 - auc_49: 0.5037 - val_loss: 2.9857 - val_categorical_accuracy: 0.2057 - val_precision_49: 0.2057 - val_recall_49: 0.2057 - val_auc_49: 0.4970\n",
      "Epoch 8/40\n",
      "625/625 [==============================] - 2s 3ms/step - loss: 2.3287 - categorical_accuracy: 0.2042 - precision_49: 0.2104 - recall_49: 0.1287 - auc_49: 0.5061 - val_loss: 2.7909 - val_categorical_accuracy: 0.2057 - val_precision_49: 0.0000e+00 - val_recall_49: 0.0000e+00 - val_auc_49: 0.4987\n",
      "Epoch 9/40\n",
      "625/625 [==============================] - 2s 3ms/step - loss: 2.3284 - categorical_accuracy: 0.1985 - precision_49: 0.2001 - recall_49: 0.1050 - auc_49: 0.4978 - val_loss: 3.0159 - val_categorical_accuracy: 0.1957 - val_precision_49: 0.1957 - val_recall_49: 0.1957 - val_auc_49: 0.4985\n",
      "Epoch 10/40\n",
      "625/625 [==============================] - 2s 3ms/step - loss: 2.3671 - categorical_accuracy: 0.1939 - precision_49: 0.1935 - recall_49: 0.1166 - auc_49: 0.4925 - val_loss: 2.1664 - val_categorical_accuracy: 0.1966 - val_precision_49: 0.1966 - val_recall_49: 0.1966 - val_auc_49: 0.4942\n",
      "Epoch 11/40\n",
      "625/625 [==============================] - 2s 3ms/step - loss: 2.3848 - categorical_accuracy: 0.2007 - precision_49: 0.1923 - recall_49: 0.1091 - auc_49: 0.5021 - val_loss: 2.8715 - val_categorical_accuracy: 0.1921 - val_precision_49: 0.1921 - val_recall_49: 0.1921 - val_auc_49: 0.4968\n",
      "Epoch 12/40\n",
      "625/625 [==============================] - 2s 3ms/step - loss: 2.3733 - categorical_accuracy: 0.1925 - precision_49: 0.1911 - recall_49: 0.1155 - auc_49: 0.5013 - val_loss: 2.3631 - val_categorical_accuracy: 0.1966 - val_precision_49: 0.1966 - val_recall_49: 0.1966 - val_auc_49: 0.4990\n",
      "Epoch 13/40\n",
      "625/625 [==============================] - 2s 3ms/step - loss: 2.3393 - categorical_accuracy: 0.1932 - precision_49: 0.1917 - recall_49: 0.1134 - auc_49: 0.5006 - val_loss: 1.7799 - val_categorical_accuracy: 0.2100 - val_precision_49: 0.0000e+00 - val_recall_49: 0.0000e+00 - val_auc_49: 0.5083\n",
      "157/157 [==============================] - 0s 2ms/step - loss: 1.7392 - categorical_accuracy: 0.1898 - precision_49: 0.0000e+00 - recall_49: 0.0000e+00 - auc_49: 0.5044\n",
      "625/625 [==============================] - 2s 2ms/step - loss: 1.7353 - categorical_accuracy: 0.1937 - precision_49: 1.0000 - recall_49: 1.0000e-04 - auc_49: 0.5077\n",
      "[CV] END ......................beta1=0.6, beta2=0.9, lr=0.05; total time=  28.5s\n",
      "Epoch 1/40\n",
      "625/625 [==============================] - 4s 5ms/step - loss: 336.0804 - categorical_accuracy: 0.3071 - precision_50: 0.3382 - recall_50: 0.2417 - auc_50: 0.6084 - val_loss: 2.3302 - val_categorical_accuracy: 0.1966 - val_precision_50: 0.1966 - val_recall_50: 0.1966 - val_auc_50: 0.5059\n",
      "Epoch 2/40\n",
      "625/625 [==============================] - 2s 3ms/step - loss: 2.3051 - categorical_accuracy: 0.2052 - precision_50: 0.2009 - recall_50: 0.1100 - auc_50: 0.5019 - val_loss: 2.8908 - val_categorical_accuracy: 0.1957 - val_precision_50: 0.1957 - val_recall_50: 0.1957 - val_auc_50: 0.5008\n",
      "Epoch 3/40\n",
      "625/625 [==============================] - 2s 3ms/step - loss: 2.3380 - categorical_accuracy: 0.2058 - precision_50: 0.2042 - recall_50: 0.1176 - auc_50: 0.5045 - val_loss: 1.7295 - val_categorical_accuracy: 0.1957 - val_precision_50: 0.0000e+00 - val_recall_50: 0.0000e+00 - val_auc_50: 0.5052\n",
      "Epoch 4/40\n",
      "625/625 [==============================] - 2s 3ms/step - loss: 2.3526 - categorical_accuracy: 0.2030 - precision_50: 0.2015 - recall_50: 0.1153 - auc_50: 0.5047 - val_loss: 2.9204 - val_categorical_accuracy: 0.1957 - val_precision_50: 0.1957 - val_recall_50: 0.1957 - val_auc_50: 0.4949\n",
      "Epoch 5/40\n",
      "625/625 [==============================] - 2s 3ms/step - loss: 2.3760 - categorical_accuracy: 0.2013 - precision_50: 0.2059 - recall_50: 0.1236 - auc_50: 0.5047 - val_loss: 2.3760 - val_categorical_accuracy: 0.1957 - val_precision_50: 0.1957 - val_recall_50: 0.1957 - val_auc_50: 0.5052\n",
      "Epoch 6/40\n",
      "625/625 [==============================] - 2s 3ms/step - loss: 2.3970 - categorical_accuracy: 0.1958 - precision_50: 0.1914 - recall_50: 0.1176 - auc_50: 0.4996 - val_loss: 2.0830 - val_categorical_accuracy: 0.1919 - val_precision_50: 0.0000e+00 - val_recall_50: 0.0000e+00 - val_auc_50: 0.4907\n",
      "Epoch 7/40\n",
      "625/625 [==============================] - 2s 3ms/step - loss: 2.3326 - categorical_accuracy: 0.1984 - precision_50: 0.1974 - recall_50: 0.1136 - auc_50: 0.4992 - val_loss: 2.3893 - val_categorical_accuracy: 0.2100 - val_precision_50: 0.2100 - val_recall_50: 0.2100 - val_auc_50: 0.5088\n",
      "Epoch 8/40\n",
      "625/625 [==============================] - 2s 3ms/step - loss: 2.3591 - categorical_accuracy: 0.1945 - precision_50: 0.1906 - recall_50: 0.1078 - auc_50: 0.4929 - val_loss: 2.0378 - val_categorical_accuracy: 0.1919 - val_precision_50: 0.0000e+00 - val_recall_50: 0.0000e+00 - val_auc_50: 0.4964\n",
      "Epoch 9/40\n",
      "625/625 [==============================] - 2s 3ms/step - loss: 2.3345 - categorical_accuracy: 0.1920 - precision_50: 0.1982 - recall_50: 0.1189 - auc_50: 0.4989 - val_loss: 2.3754 - val_categorical_accuracy: 0.1966 - val_precision_50: 0.0000e+00 - val_recall_50: 0.0000e+00 - val_auc_50: 0.4999\n",
      "Epoch 10/40\n",
      "625/625 [==============================] - 2s 3ms/step - loss: 2.3890 - categorical_accuracy: 0.1968 - precision_50: 0.1961 - recall_50: 0.1148 - auc_50: 0.4986 - val_loss: 2.5684 - val_categorical_accuracy: 0.1919 - val_precision_50: 0.1919 - val_recall_50: 0.1919 - val_auc_50: 0.4892\n",
      "Epoch 11/40\n",
      "625/625 [==============================] - 2s 3ms/step - loss: 2.3507 - categorical_accuracy: 0.1953 - precision_50: 0.1987 - recall_50: 0.0972 - auc_50: 0.4950 - val_loss: 1.7919 - val_categorical_accuracy: 0.2057 - val_precision_50: 0.0000e+00 - val_recall_50: 0.0000e+00 - val_auc_50: 0.5104\n",
      "Epoch 12/40\n",
      "625/625 [==============================] - 2s 3ms/step - loss: 2.3079 - categorical_accuracy: 0.2030 - precision_50: 0.1983 - recall_50: 0.1076 - auc_50: 0.5032 - val_loss: 2.0638 - val_categorical_accuracy: 0.1957 - val_precision_50: 0.1957 - val_recall_50: 0.1957 - val_auc_50: 0.5040\n",
      "Epoch 13/40\n",
      "625/625 [==============================] - 2s 3ms/step - loss: 2.3323 - categorical_accuracy: 0.2019 - precision_50: 0.2029 - recall_50: 0.1162 - auc_50: 0.5021 - val_loss: 1.9965 - val_categorical_accuracy: 0.1919 - val_precision_50: 0.0000e+00 - val_recall_50: 0.0000e+00 - val_auc_50: 0.4895\n",
      "157/157 [==============================] - 0s 2ms/step - loss: 2.5635 - categorical_accuracy: 0.1996 - precision_50: 0.0000e+00 - recall_50: 0.0000e+00 - auc_50: 0.5107\n",
      "625/625 [==============================] - 2s 2ms/step - loss: 1.6581 - categorical_accuracy: 0.1933 - precision_50: 1.0000 - recall_50: 5.0000e-05 - auc_50: 0.5091\n",
      "[CV] END ......................beta1=0.6, beta2=0.9, lr=0.05; total time=  26.8s\n",
      "Epoch 1/40\n",
      "782/782 [==============================] - 4s 3ms/step - loss: 4.1064 - categorical_accuracy: 0.8873 - precision_51: 0.8874 - recall_51: 0.8873 - auc_51: 0.9398 - val_loss: 0.3833 - val_categorical_accuracy: 0.9703 - val_precision_51: 0.9709 - val_recall_51: 0.9703 - val_auc_51: 0.9877\n",
      "Epoch 2/40\n",
      "782/782 [==============================] - 2s 3ms/step - loss: 0.3996 - categorical_accuracy: 0.9613 - precision_51: 0.9617 - recall_51: 0.9612 - auc_51: 0.9868 - val_loss: 0.2382 - val_categorical_accuracy: 0.9698 - val_precision_51: 0.9705 - val_recall_51: 0.9693 - val_auc_51: 0.9911\n",
      "Epoch 3/40\n",
      "782/782 [==============================] - 2s 3ms/step - loss: 0.1884 - categorical_accuracy: 0.9727 - precision_51: 0.9735 - recall_51: 0.9719 - auc_51: 0.9928 - val_loss: 0.2799 - val_categorical_accuracy: 0.9702 - val_precision_51: 0.9715 - val_recall_51: 0.9694 - val_auc_51: 0.9912\n",
      "Epoch 4/40\n",
      "782/782 [==============================] - 2s 3ms/step - loss: 0.1618 - categorical_accuracy: 0.9780 - precision_51: 0.9784 - recall_51: 0.9776 - auc_51: 0.9942 - val_loss: 0.1129 - val_categorical_accuracy: 0.9791 - val_precision_51: 0.9805 - val_recall_51: 0.9782 - val_auc_51: 0.9962\n",
      "Epoch 5/40\n",
      "782/782 [==============================] - 2s 3ms/step - loss: 0.1351 - categorical_accuracy: 0.9815 - precision_51: 0.9821 - recall_51: 0.9813 - auc_51: 0.9956 - val_loss: 0.1526 - val_categorical_accuracy: 0.9750 - val_precision_51: 0.9757 - val_recall_51: 0.9748 - val_auc_51: 0.9947\n",
      "Epoch 6/40\n",
      "782/782 [==============================] - 2s 3ms/step - loss: 0.1439 - categorical_accuracy: 0.9828 - precision_51: 0.9834 - recall_51: 0.9822 - auc_51: 0.9957 - val_loss: 0.1450 - val_categorical_accuracy: 0.9807 - val_precision_51: 0.9814 - val_recall_51: 0.9794 - val_auc_51: 0.9944\n",
      "Epoch 7/40\n",
      "782/782 [==============================] - 2s 3ms/step - loss: 0.1023 - categorical_accuracy: 0.9841 - precision_51: 0.9843 - recall_51: 0.9837 - auc_51: 0.9965 - val_loss: 0.0877 - val_categorical_accuracy: 0.9845 - val_precision_51: 0.9858 - val_recall_51: 0.9834 - val_auc_51: 0.9969\n",
      "Epoch 8/40\n",
      "782/782 [==============================] - 2s 3ms/step - loss: 0.1041 - categorical_accuracy: 0.9864 - precision_51: 0.9870 - recall_51: 0.9861 - auc_51: 0.9970 - val_loss: 0.1868 - val_categorical_accuracy: 0.9828 - val_precision_51: 0.9834 - val_recall_51: 0.9825 - val_auc_51: 0.9950\n",
      "Epoch 9/40\n",
      "782/782 [==============================] - 2s 3ms/step - loss: 0.0937 - categorical_accuracy: 0.9866 - precision_51: 0.9869 - recall_51: 0.9863 - auc_51: 0.9967 - val_loss: 0.1478 - val_categorical_accuracy: 0.9777 - val_precision_51: 0.9785 - val_recall_51: 0.9769 - val_auc_51: 0.9956\n",
      "Epoch 10/40\n",
      "782/782 [==============================] - 2s 3ms/step - loss: 0.0980 - categorical_accuracy: 0.9886 - precision_51: 0.9889 - recall_51: 0.9884 - auc_51: 0.9970 - val_loss: 0.1740 - val_categorical_accuracy: 0.9859 - val_precision_51: 0.9859 - val_recall_51: 0.9859 - val_auc_51: 0.9950\n",
      "Epoch 11/40\n",
      "782/782 [==============================] - 2s 3ms/step - loss: 0.0960 - categorical_accuracy: 0.9905 - precision_51: 0.9905 - recall_51: 0.9904 - auc_51: 0.9975 - val_loss: 0.2195 - val_categorical_accuracy: 0.9825 - val_precision_51: 0.9827 - val_recall_51: 0.9823 - val_auc_51: 0.9952\n",
      "Epoch 12/40\n",
      "782/782 [==============================] - 2s 3ms/step - loss: 0.0929 - categorical_accuracy: 0.9899 - precision_51: 0.9899 - recall_51: 0.9898 - auc_51: 0.9969 - val_loss: 0.1541 - val_categorical_accuracy: 0.9866 - val_precision_51: 0.9870 - val_recall_51: 0.9866 - val_auc_51: 0.9966\n",
      "Epoch 13/40\n",
      "782/782 [==============================] - 2s 3ms/step - loss: 0.0740 - categorical_accuracy: 0.9932 - precision_51: 0.9933 - recall_51: 0.9932 - auc_51: 0.9981 - val_loss: 0.1806 - val_categorical_accuracy: 0.9886 - val_precision_51: 0.9887 - val_recall_51: 0.9886 - val_auc_51: 0.9956\n",
      "Epoch 14/40\n",
      "782/782 [==============================] - 2s 3ms/step - loss: 0.0757 - categorical_accuracy: 0.9935 - precision_51: 0.9937 - recall_51: 0.9933 - auc_51: 0.9980 - val_loss: 0.2513 - val_categorical_accuracy: 0.9884 - val_precision_51: 0.9886 - val_recall_51: 0.9882 - val_auc_51: 0.9961\n",
      "Epoch 15/40\n",
      "782/782 [==============================] - 3s 4ms/step - loss: 0.0707 - categorical_accuracy: 0.9932 - precision_51: 0.9932 - recall_51: 0.9932 - auc_51: 0.9981 - val_loss: 0.2434 - val_categorical_accuracy: 0.9884 - val_precision_51: 0.9886 - val_recall_51: 0.9884 - val_auc_51: 0.9951\n",
      "Epoch 16/40\n",
      "782/782 [==============================] - 2s 3ms/step - loss: 0.0729 - categorical_accuracy: 0.9936 - precision_51: 0.9939 - recall_51: 0.9935 - auc_51: 0.9980 - val_loss: 0.2593 - val_categorical_accuracy: 0.9886 - val_precision_51: 0.9886 - val_recall_51: 0.9886 - val_auc_51: 0.9948\n",
      "Epoch 17/40\n",
      "782/782 [==============================] - 3s 3ms/step - loss: 0.0704 - categorical_accuracy: 0.9930 - precision_51: 0.9931 - recall_51: 0.9930 - auc_51: 0.9979 - val_loss: 0.3201 - val_categorical_accuracy: 0.9830 - val_precision_51: 0.9832 - val_recall_51: 0.9830 - val_auc_51: 0.9928\n"
     ]
    },
    {
     "output_type": "execute_result",
     "data": {
      "text/plain": [
       "RandomizedSearchCV(estimator=<tensorflow.python.keras.wrappers.scikit_learn.KerasRegressor object at 0x000001493DB2E6D0>,\n",
       "                   param_distributions={'beta1': (0.4, 0.5, 0.6, 0.7, 0.8),\n",
       "                                        'beta2': (0.6, 0.7, 0.8, 0.9, 0.999),\n",
       "                                        'lr': (0.0005, 0.001, 0.005, 0.01, 0.05,\n",
       "                                               0.1)},\n",
       "                   random_state=42, return_train_score=True, verbose=2)"
      ]
     },
     "metadata": {},
     "execution_count": 55
    }
   ],
   "source": [
    "rnd_search_dnn.fit(X_data_train0to4,y_data_train0to4, epochs = 40, validation_data=(X_data_valid0to4,y_data_valid0to4), callbacks = [earlystopping])"
   ]
  },
  {
   "cell_type": "code",
   "execution_count": 83,
   "metadata": {},
   "outputs": [
    {
     "output_type": "execute_result",
     "data": {
      "text/plain": [
       "{'lr': 0.001, 'beta2': 0.8, 'beta1': 0.6}"
      ]
     },
     "metadata": {},
     "execution_count": 83
    }
   ],
   "source": [
    " rnd_search_dnn.best_params_"
   ]
  },
  {
   "cell_type": "code",
   "execution_count": 57,
   "metadata": {},
   "outputs": [
    {
     "output_type": "execute_result",
     "data": {
      "text/plain": [
       "{'mean_fit_time': array([33.5206068 , 38.82044511, 32.86572871, 39.16927543, 31.75042915,\n",
       "        33.96219087, 34.39076424, 25.77894049, 25.12856379, 42.26812019]),\n",
       " 'std_fit_time': array([ 2.28353864,  5.46877311,  3.03540755,  2.7713266 ,  6.71178717,\n",
       "         4.4722649 ,  9.68454947,  2.63433131,  1.40129335, 14.40459678]),\n",
       " 'mean_score_time': array([0.31130266, 0.37521024, 0.35848684, 0.35290933, 0.36389451,\n",
       "        0.37175903, 0.37860985, 0.43646936, 0.43322048, 0.33649211]),\n",
       " 'std_score_time': array([0.01324068, 0.06313971, 0.01543878, 0.00668909, 0.01490505,\n",
       "        0.01172453, 0.02474184, 0.09959751, 0.07308927, 0.00880491]),\n",
       " 'param_lr': masked_array(data=[0.001, 0.0005, 0.05, 0.0005, 0.05, 0.001, 0.05, 0.01,\n",
       "                    0.005, 0.05],\n",
       "              mask=[False, False, False, False, False, False, False, False,\n",
       "                    False, False],\n",
       "        fill_value='?',\n",
       "             dtype=object),\n",
       " 'param_beta2': masked_array(data=[0.8, 0.9, 0.999, 0.9, 0.8, 0.6, 0.6, 0.9, 0.7, 0.9],\n",
       "              mask=[False, False, False, False, False, False, False, False,\n",
       "                    False, False],\n",
       "        fill_value='?',\n",
       "             dtype=object),\n",
       " 'param_beta1': masked_array(data=[0.6, 0.4, 0.7, 0.6, 0.6, 0.5, 0.6, 0.8, 0.6, 0.6],\n",
       "              mask=[False, False, False, False, False, False, False, False,\n",
       "                    False, False],\n",
       "        fill_value='?',\n",
       "             dtype=object),\n",
       " 'params': [{'lr': 0.001, 'beta2': 0.8, 'beta1': 0.6},\n",
       "  {'lr': 0.0005, 'beta2': 0.9, 'beta1': 0.4},\n",
       "  {'lr': 0.05, 'beta2': 0.999, 'beta1': 0.7},\n",
       "  {'lr': 0.0005, 'beta2': 0.9, 'beta1': 0.6},\n",
       "  {'lr': 0.05, 'beta2': 0.8, 'beta1': 0.6},\n",
       "  {'lr': 0.001, 'beta2': 0.6, 'beta1': 0.5},\n",
       "  {'lr': 0.05, 'beta2': 0.6, 'beta1': 0.6},\n",
       "  {'lr': 0.01, 'beta2': 0.9, 'beta1': 0.8},\n",
       "  {'lr': 0.005, 'beta2': 0.7, 'beta1': 0.6},\n",
       "  {'lr': 0.05, 'beta2': 0.9, 'beta1': 0.6}],\n",
       " 'split0_test_score': array([-0.20239887, -0.32045084, -1.6084913 , -0.25763068, -1.74004889,\n",
       "        -0.22234254, -1.67705584, -0.36858508, -0.25598902, -1.76772439]),\n",
       " 'split1_test_score': array([-0.1725696 , -0.22080867, -1.61204791, -0.30430061, -1.74160445,\n",
       "        -0.23976438, -1.75290394, -0.75749236, -0.23791221, -1.63099897]),\n",
       " 'split2_test_score': array([ -0.19308087,  -0.26068574, -14.92515469,  -0.26318446,\n",
       "         -1.71281111,  -0.31785664,  -1.72223186,  -0.3942726 ,\n",
       "         -0.16963157,  -1.70579886]),\n",
       " 'split3_test_score': array([-0.20071064, -0.31594506, -0.77615827, -0.28129226, -1.87979138,\n",
       "        -0.27934602, -1.72057402, -0.83439541, -0.23805669, -1.73918414]),\n",
       " 'split4_test_score': array([-0.14803194, -0.25757805, -1.61780667, -0.21434331, -1.64779663,\n",
       "        -0.2463631 , -2.30847335, -0.29057378, -0.26386428, -2.56348586]),\n",
       " 'mean_test_score': array([-0.18335838, -0.27509367, -4.10793177, -0.26415026, -1.74441049,\n",
       "        -0.26113454, -1.8362478 , -0.52906384, -0.23309075, -1.88143845]),\n",
       " 'std_test_score': array([0.02060351, 0.037914  , 5.41830948, 0.02976598, 0.07574647,\n",
       "        0.03384894, 0.23734587, 0.22190384, 0.0333056 , 0.34407123]),\n",
       " 'rank_test_score': array([ 1,  5, 10,  4,  7,  3,  8,  6,  2,  9]),\n",
       " 'split0_train_score': array([-0.04478579, -0.10354597, -1.60806584, -0.053624  , -1.74280488,\n",
       "        -0.1489003 , -1.67620587, -0.41493449, -0.23350276, -1.76520216]),\n",
       " 'split1_train_score': array([-0.05000498, -0.03414048, -1.61488736, -0.03314875, -1.74890482,\n",
       "        -0.07241329, -1.75665414, -1.23334789, -0.18734892, -1.62541926]),\n",
       " 'split2_train_score': array([-0.04617473, -0.06086254, -1.61863387, -0.04924085, -1.71449316,\n",
       "        -0.13354202, -1.71466744, -0.43087271, -0.16771498, -1.69926441]),\n",
       " 'split3_train_score': array([-0.04509754, -0.06043756, -0.77869755, -0.07506722, -1.88699615,\n",
       "        -0.1414392 , -1.72121334, -0.61914861, -0.18533984, -1.73530018]),\n",
       " 'split4_train_score': array([-0.07666564, -0.04822831, -1.61693287, -0.05064835, -1.64706194,\n",
       "        -0.09092893, -2.32435966, -0.32343343, -0.23842902, -1.65813422]),\n",
       " 'mean_train_score': array([-0.05254574, -0.06144297, -1.4474435 , -0.05234583, -1.74805219,\n",
       "        -0.11744475, -1.83862009, -0.60434743, -0.2024671 , -1.69666405]),\n",
       " 'std_train_score': array([0.01220252, 0.02321234, 0.33439226, 0.01340855, 0.07830571,\n",
       "        0.03018353, 0.24420824, 0.32885987, 0.02823503, 0.05051209])}"
      ]
     },
     "metadata": {},
     "execution_count": 57
    }
   ],
   "source": [
    "rnd_search_dnn.cv_results_"
   ]
  },
  {
   "cell_type": "code",
   "execution_count": null,
   "metadata": {},
   "outputs": [],
   "source": []
  },
  {
   "cell_type": "code",
   "execution_count": 59,
   "metadata": {},
   "outputs": [
    {
     "output_type": "execute_result",
     "data": {
      "text/plain": [
       "0.9859283525944148"
      ]
     },
     "metadata": {},
     "execution_count": 59
    }
   ],
   "source": [
    "#y_pred_valid = np.argmax(model_dnn.predict(X_data_valid0to4),axis = 1)\n",
    "#y_pred_test = np.argmax(model_dnn.predict(X_data_test0to4),axis = 1)\n",
    "y_pred_tuned = np.argmax(rnd_search_dnn.best_estimator_.predict(X_data_test0to4),axis = 1)\n",
    "\n",
    "precision_score(y_data_test0to4_sparse,y_pred_tuned, average='weighted')"
   ]
  },
  {
   "cell_type": "code",
   "execution_count": 60,
   "metadata": {},
   "outputs": [
    {
     "output_type": "execute_result",
     "data": {
      "text/plain": [
       "0.9857949017318545"
      ]
     },
     "metadata": {},
     "execution_count": 60
    }
   ],
   "source": [
    "recall_score(y_data_test0to4_sparse,y_pred_tuned, average='weighted')"
   ]
  },
  {
   "cell_type": "code",
   "execution_count": 82,
   "metadata": {},
   "outputs": [],
   "source": [
    "model_tuned = keras.models.Sequential()\n",
    "model_tuned.add(keras.layers.Flatten(input_shape = [28,28]))\n",
    "model_tuned.add(keras.layers.Dense(100,activation = \"elu\",kernel_initializer=\"he_normal\"))\n",
    "model_tuned.add(keras.layers.Dense(100,activation = \"elu\",kernel_initializer=\"he_normal\"))\n",
    "model_tuned.add(keras.layers.Dense(100,activation = \"elu\",kernel_initializer=\"he_normal\"))\n",
    "model_tuned.add(keras.layers.Dense(100,activation = \"elu\",kernel_initializer=\"he_normal\"))\n",
    "model_tuned.add(keras.layers.Dense(100,activation = \"elu\",kernel_initializer=\"he_normal\"))\n",
    "model_tuned.add(keras.layers.Dense(5, activation=\"softmax\"))"
   ]
  },
  {
   "cell_type": "code",
   "execution_count": 84,
   "metadata": {},
   "outputs": [],
   "source": [
    "adamoptim_tuned = keras.optimizers.Adam(lr = 0.001,beta_1=0.6,beta_2=0.8)\n",
    "checkpoint_tuned = keras.callbacks.ModelCheckpoint('tuned0to4.h5',save_best_only=True)\n",
    "earlystopping_tuned = keras.callbacks.EarlyStopping(patience = 10, restore_best_weights=True)"
   ]
  },
  {
   "cell_type": "code",
   "execution_count": 85,
   "metadata": {},
   "outputs": [],
   "source": [
    "model_tuned.compile(loss = \"categorical_crossentropy\",\n",
    "                    optimizer = adamoptim_tuned, \n",
    "                    metrics = [accuracy,precision,recall,aucscore])"
   ]
  },
  {
   "cell_type": "code",
   "execution_count": 86,
   "metadata": {},
   "outputs": [
    {
     "output_type": "stream",
     "name": "stdout",
     "text": [
      "Epoch 1/40\n",
      "782/782 [==============================] - 5s 4ms/step - loss: 4.7698 - categorical_accuracy: 0.9309 - precision: 0.9316 - recall: 0.9305 - auc: 0.9651 - val_loss: 0.7091 - val_categorical_accuracy: 0.9476 - val_precision: 0.9478 - val_recall: 0.9476 - val_auc: 0.9771\n",
      "Epoch 2/40\n",
      "782/782 [==============================] - 2s 3ms/step - loss: 0.4955 - categorical_accuracy: 0.9587 - precision: 0.9593 - recall: 0.9587 - auc: 0.9844 - val_loss: 0.2222 - val_categorical_accuracy: 0.9727 - val_precision: 0.9732 - val_recall: 0.9721 - val_auc: 0.9920\n",
      "Epoch 3/40\n",
      "782/782 [==============================] - 2s 3ms/step - loss: 0.2327 - categorical_accuracy: 0.9711 - precision: 0.9716 - recall: 0.9707 - auc: 0.9907 - val_loss: 0.1240 - val_categorical_accuracy: 0.9798 - val_precision: 0.9812 - val_recall: 0.9796 - val_auc: 0.9945\n",
      "Epoch 4/40\n",
      "782/782 [==============================] - 2s 3ms/step - loss: 0.1658 - categorical_accuracy: 0.9756 - precision: 0.9771 - recall: 0.9754 - auc: 0.9940 - val_loss: 0.3411 - val_categorical_accuracy: 0.9635 - val_precision: 0.9642 - val_recall: 0.9632 - val_auc: 0.9876\n",
      "Epoch 5/40\n",
      "782/782 [==============================] - 2s 3ms/step - loss: 0.1547 - categorical_accuracy: 0.9791 - precision: 0.9802 - recall: 0.9785 - auc: 0.9942 - val_loss: 0.2227 - val_categorical_accuracy: 0.9782 - val_precision: 0.9789 - val_recall: 0.9773 - val_auc: 0.9930\n",
      "Epoch 6/40\n",
      "782/782 [==============================] - 2s 3ms/step - loss: 0.1350 - categorical_accuracy: 0.9814 - precision: 0.9824 - recall: 0.9807 - auc: 0.9958 - val_loss: 0.1811 - val_categorical_accuracy: 0.9825 - val_precision: 0.9827 - val_recall: 0.9821 - val_auc: 0.9935\n",
      "Epoch 7/40\n",
      "782/782 [==============================] - 2s 3ms/step - loss: 0.1061 - categorical_accuracy: 0.9856 - precision: 0.9861 - recall: 0.9854 - auc: 0.9965 - val_loss: 0.1873 - val_categorical_accuracy: 0.9812 - val_precision: 0.9823 - val_recall: 0.9811 - val_auc: 0.9943\n",
      "Epoch 8/40\n",
      "782/782 [==============================] - 2s 3ms/step - loss: 0.0938 - categorical_accuracy: 0.9879 - precision: 0.9886 - recall: 0.9876 - auc: 0.9965 - val_loss: 0.1759 - val_categorical_accuracy: 0.9845 - val_precision: 0.9848 - val_recall: 0.9845 - val_auc: 0.9953\n",
      "Epoch 9/40\n",
      "782/782 [==============================] - 2s 3ms/step - loss: 0.1152 - categorical_accuracy: 0.9880 - precision: 0.9887 - recall: 0.9878 - auc: 0.9970 - val_loss: 0.1910 - val_categorical_accuracy: 0.9855 - val_precision: 0.9866 - val_recall: 0.9850 - val_auc: 0.9959\n",
      "Epoch 10/40\n",
      "782/782 [==============================] - 2s 3ms/step - loss: 0.0905 - categorical_accuracy: 0.9890 - precision: 0.9894 - recall: 0.9887 - auc: 0.9973 - val_loss: 0.2229 - val_categorical_accuracy: 0.9823 - val_precision: 0.9832 - val_recall: 0.9818 - val_auc: 0.9944\n",
      "Epoch 11/40\n",
      "782/782 [==============================] - 2s 3ms/step - loss: 0.0905 - categorical_accuracy: 0.9903 - precision: 0.9904 - recall: 0.9902 - auc: 0.9975 - val_loss: 0.1733 - val_categorical_accuracy: 0.9866 - val_precision: 0.9876 - val_recall: 0.9859 - val_auc: 0.9950\n",
      "Epoch 12/40\n",
      "782/782 [==============================] - 2s 3ms/step - loss: 0.0721 - categorical_accuracy: 0.9907 - precision: 0.9908 - recall: 0.9905 - auc: 0.9977 - val_loss: 0.3406 - val_categorical_accuracy: 0.9861 - val_precision: 0.9864 - val_recall: 0.9861 - val_auc: 0.9941\n",
      "Epoch 13/40\n",
      "782/782 [==============================] - 2s 3ms/step - loss: 0.1032 - categorical_accuracy: 0.9927 - precision: 0.9928 - recall: 0.9926 - auc: 0.9978 - val_loss: 0.1630 - val_categorical_accuracy: 0.9839 - val_precision: 0.9846 - val_recall: 0.9834 - val_auc: 0.9946\n"
     ]
    }
   ],
   "source": [
    "model_tuned_history = model_tuned.fit(X_data_train0to4,y_data_train0to4, epochs = 40, validation_data=(X_data_valid0to4,y_data_valid0to4), callbacks = [checkpoint_tuned,earlystopping_tuned])"
   ]
  },
  {
   "cell_type": "code",
   "execution_count": 100,
   "metadata": {},
   "outputs": [
    {
     "output_type": "execute_result",
     "data": {
      "text/plain": [
       "0.9757561301443652"
      ]
     },
     "metadata": {},
     "execution_count": 100
    }
   ],
   "source": [
    "y_pred_tuned_final_test = np.argmax(model_tuned.predict(X_data_test0to4),axis = 1)\n",
    "\n",
    "precision_score(np.argmax(y_data_test0to4,axis = 1),y_pred_tuned_final_test, average='weighted')"
   ]
  },
  {
   "cell_type": "code",
   "execution_count": 99,
   "metadata": {},
   "outputs": [
    {
     "output_type": "execute_result",
     "data": {
      "text/plain": [
       "array([[0., 0., 1., 0., 0.],\n",
       "       [0., 1., 0., 0., 0.],\n",
       "       [1., 0., 0., 0., 0.],\n",
       "       ...,\n",
       "       [0., 0., 1., 0., 0.],\n",
       "       [0., 0., 0., 1., 0.],\n",
       "       [0., 0., 0., 0., 1.]], dtype=float32)"
      ]
     },
     "metadata": {},
     "execution_count": 99
    }
   ],
   "source": [
    "y_data_test0to4"
   ]
  },
  {
   "cell_type": "code",
   "execution_count": 79,
   "metadata": {},
   "outputs": [],
   "source": [
    "final_model = keras.models.load_model('tuned0to4.h5')"
   ]
  },
  {
   "cell_type": "code",
   "execution_count": 92,
   "metadata": {},
   "outputs": [
    {
     "output_type": "execute_result",
     "data": {
      "text/plain": [
       "        loss  categorical_accuracy  precision   recall       auc  val_loss  \\\n",
       "0   1.909131              0.934991   0.935464  0.93473  0.968468  0.709079   \n",
       "1   0.416629              0.960480   0.961130  0.96040  0.986072  0.222192   \n",
       "2   0.218056              0.972280   0.972736  0.97188  0.991377  0.123965   \n",
       "3   0.177277              0.976680   0.977805  0.97628  0.993718  0.341116   \n",
       "4   0.152925              0.980160   0.980742  0.97980  0.994395  0.222671   \n",
       "5   0.126052              0.981360   0.982333  0.98084  0.995578  0.181065   \n",
       "6   0.133875              0.983840   0.984543  0.98344  0.996078  0.187319   \n",
       "7   0.105937              0.987200   0.987827  0.98680  0.996429  0.175938   \n",
       "8   0.109494              0.987600   0.988070  0.98724  0.996640  0.191036   \n",
       "9   0.094083              0.988320   0.988870  0.98796  0.997091  0.222941   \n",
       "10  0.102859              0.989640   0.989955  0.98948  0.997240  0.173338   \n",
       "11  0.083400              0.989840   0.990115  0.98960  0.997285  0.340589   \n",
       "12  0.126556              0.991400   0.991637  0.99128  0.997177  0.162995   \n",
       "\n",
       "    val_categorical_accuracy  val_precision  val_recall   val_auc  \n",
       "0                   0.947641       0.947811    0.947641  0.977135  \n",
       "1                   0.972659       0.973166    0.972123  0.991952  \n",
       "2                   0.979807       0.981206    0.979628  0.994454  \n",
       "3                   0.963545       0.964222    0.963188  0.987608  \n",
       "4                   0.978199       0.978880    0.977305  0.992952  \n",
       "5                   0.982487       0.982657    0.982130  0.993550  \n",
       "6                   0.981237       0.982287    0.981058  0.994316  \n",
       "7                   0.984453       0.984805    0.984453  0.995291  \n",
       "8                   0.985525       0.986576    0.984989  0.995870  \n",
       "9                   0.982309       0.983178    0.981773  0.994376  \n",
       "10                  0.986598       0.987648    0.985883  0.995021  \n",
       "11                  0.986061       0.986414    0.986061  0.994117  \n",
       "12                  0.983917       0.984613    0.983381  0.994579  "
      ],
      "text/html": "<div>\n<style scoped>\n    .dataframe tbody tr th:only-of-type {\n        vertical-align: middle;\n    }\n\n    .dataframe tbody tr th {\n        vertical-align: top;\n    }\n\n    .dataframe thead th {\n        text-align: right;\n    }\n</style>\n<table border=\"1\" class=\"dataframe\">\n  <thead>\n    <tr style=\"text-align: right;\">\n      <th></th>\n      <th>loss</th>\n      <th>categorical_accuracy</th>\n      <th>precision</th>\n      <th>recall</th>\n      <th>auc</th>\n      <th>val_loss</th>\n      <th>val_categorical_accuracy</th>\n      <th>val_precision</th>\n      <th>val_recall</th>\n      <th>val_auc</th>\n    </tr>\n  </thead>\n  <tbody>\n    <tr>\n      <th>0</th>\n      <td>1.909131</td>\n      <td>0.934991</td>\n      <td>0.935464</td>\n      <td>0.93473</td>\n      <td>0.968468</td>\n      <td>0.709079</td>\n      <td>0.947641</td>\n      <td>0.947811</td>\n      <td>0.947641</td>\n      <td>0.977135</td>\n    </tr>\n    <tr>\n      <th>1</th>\n      <td>0.416629</td>\n      <td>0.960480</td>\n      <td>0.961130</td>\n      <td>0.96040</td>\n      <td>0.986072</td>\n      <td>0.222192</td>\n      <td>0.972659</td>\n      <td>0.973166</td>\n      <td>0.972123</td>\n      <td>0.991952</td>\n    </tr>\n    <tr>\n      <th>2</th>\n      <td>0.218056</td>\n      <td>0.972280</td>\n      <td>0.972736</td>\n      <td>0.97188</td>\n      <td>0.991377</td>\n      <td>0.123965</td>\n      <td>0.979807</td>\n      <td>0.981206</td>\n      <td>0.979628</td>\n      <td>0.994454</td>\n    </tr>\n    <tr>\n      <th>3</th>\n      <td>0.177277</td>\n      <td>0.976680</td>\n      <td>0.977805</td>\n      <td>0.97628</td>\n      <td>0.993718</td>\n      <td>0.341116</td>\n      <td>0.963545</td>\n      <td>0.964222</td>\n      <td>0.963188</td>\n      <td>0.987608</td>\n    </tr>\n    <tr>\n      <th>4</th>\n      <td>0.152925</td>\n      <td>0.980160</td>\n      <td>0.980742</td>\n      <td>0.97980</td>\n      <td>0.994395</td>\n      <td>0.222671</td>\n      <td>0.978199</td>\n      <td>0.978880</td>\n      <td>0.977305</td>\n      <td>0.992952</td>\n    </tr>\n    <tr>\n      <th>5</th>\n      <td>0.126052</td>\n      <td>0.981360</td>\n      <td>0.982333</td>\n      <td>0.98084</td>\n      <td>0.995578</td>\n      <td>0.181065</td>\n      <td>0.982487</td>\n      <td>0.982657</td>\n      <td>0.982130</td>\n      <td>0.993550</td>\n    </tr>\n    <tr>\n      <th>6</th>\n      <td>0.133875</td>\n      <td>0.983840</td>\n      <td>0.984543</td>\n      <td>0.98344</td>\n      <td>0.996078</td>\n      <td>0.187319</td>\n      <td>0.981237</td>\n      <td>0.982287</td>\n      <td>0.981058</td>\n      <td>0.994316</td>\n    </tr>\n    <tr>\n      <th>7</th>\n      <td>0.105937</td>\n      <td>0.987200</td>\n      <td>0.987827</td>\n      <td>0.98680</td>\n      <td>0.996429</td>\n      <td>0.175938</td>\n      <td>0.984453</td>\n      <td>0.984805</td>\n      <td>0.984453</td>\n      <td>0.995291</td>\n    </tr>\n    <tr>\n      <th>8</th>\n      <td>0.109494</td>\n      <td>0.987600</td>\n      <td>0.988070</td>\n      <td>0.98724</td>\n      <td>0.996640</td>\n      <td>0.191036</td>\n      <td>0.985525</td>\n      <td>0.986576</td>\n      <td>0.984989</td>\n      <td>0.995870</td>\n    </tr>\n    <tr>\n      <th>9</th>\n      <td>0.094083</td>\n      <td>0.988320</td>\n      <td>0.988870</td>\n      <td>0.98796</td>\n      <td>0.997091</td>\n      <td>0.222941</td>\n      <td>0.982309</td>\n      <td>0.983178</td>\n      <td>0.981773</td>\n      <td>0.994376</td>\n    </tr>\n    <tr>\n      <th>10</th>\n      <td>0.102859</td>\n      <td>0.989640</td>\n      <td>0.989955</td>\n      <td>0.98948</td>\n      <td>0.997240</td>\n      <td>0.173338</td>\n      <td>0.986598</td>\n      <td>0.987648</td>\n      <td>0.985883</td>\n      <td>0.995021</td>\n    </tr>\n    <tr>\n      <th>11</th>\n      <td>0.083400</td>\n      <td>0.989840</td>\n      <td>0.990115</td>\n      <td>0.98960</td>\n      <td>0.997285</td>\n      <td>0.340589</td>\n      <td>0.986061</td>\n      <td>0.986414</td>\n      <td>0.986061</td>\n      <td>0.994117</td>\n    </tr>\n    <tr>\n      <th>12</th>\n      <td>0.126556</td>\n      <td>0.991400</td>\n      <td>0.991637</td>\n      <td>0.99128</td>\n      <td>0.997177</td>\n      <td>0.162995</td>\n      <td>0.983917</td>\n      <td>0.984613</td>\n      <td>0.983381</td>\n      <td>0.994579</td>\n    </tr>\n  </tbody>\n</table>\n</div>"
     },
     "metadata": {},
     "execution_count": 92
    }
   ],
   "source": [
    "#learning curve for the tuned model\n",
    "history_tuned = pd.DataFrame(model_tuned_history.history)\n",
    "history_tuned"
   ]
  },
  {
   "cell_type": "code",
   "execution_count": 93,
   "metadata": {},
   "outputs": [],
   "source": [
    "import seaborn as sns\n",
    "import matplotlib.pyplot as plt"
   ]
  },
  {
   "cell_type": "code",
   "execution_count": 96,
   "metadata": {},
   "outputs": [
    {
     "output_type": "display_data",
     "data": {
      "text/plain": "<Figure size 576x720 with 1 Axes>",
      "image/svg+xml": "<?xml version=\"1.0\" encoding=\"utf-8\" standalone=\"no\"?>\r\n<!DOCTYPE svg PUBLIC \"-//W3C//DTD SVG 1.1//EN\"\r\n  \"http://www.w3.org/Graphics/SVG/1.1/DTD/svg11.dtd\">\r\n<!-- Created with matplotlib (https://matplotlib.org/) -->\r\n<svg height=\"574.678125pt\" version=\"1.1\" viewBox=\"0 0 497.659375 574.678125\" width=\"497.659375pt\" xmlns=\"http://www.w3.org/2000/svg\" xmlns:xlink=\"http://www.w3.org/1999/xlink\">\r\n <metadata>\r\n  <rdf:RDF xmlns:cc=\"http://creativecommons.org/ns#\" xmlns:dc=\"http://purl.org/dc/elements/1.1/\" xmlns:rdf=\"http://www.w3.org/1999/02/22-rdf-syntax-ns#\">\r\n   <cc:Work>\r\n    <dc:type rdf:resource=\"http://purl.org/dc/dcmitype/StillImage\"/>\r\n    <dc:date>2021-05-29T17:29:24.600002</dc:date>\r\n    <dc:format>image/svg+xml</dc:format>\r\n    <dc:creator>\r\n     <cc:Agent>\r\n      <dc:title>Matplotlib v3.3.4, https://matplotlib.org/</dc:title>\r\n     </cc:Agent>\r\n    </dc:creator>\r\n   </cc:Work>\r\n  </rdf:RDF>\r\n </metadata>\r\n <defs>\r\n  <style type=\"text/css\">*{stroke-linecap:butt;stroke-linejoin:round;}</style>\r\n </defs>\r\n <g id=\"figure_1\">\r\n  <g id=\"patch_1\">\r\n   <path d=\"M 0 574.678125 \r\nL 497.659375 574.678125 \r\nL 497.659375 0 \r\nL 0 0 \r\nz\r\n\" style=\"fill:none;\"/>\r\n  </g>\r\n  <g id=\"axes_1\">\r\n   <g id=\"patch_2\">\r\n    <path d=\"M 44.059375 550.8 \r\nL 490.459375 550.8 \r\nL 490.459375 7.2 \r\nL 44.059375 7.2 \r\nz\r\n\" style=\"fill:#ffffff;\"/>\r\n   </g>\r\n   <g id=\"matplotlib.axis_1\">\r\n    <g id=\"xtick_1\">\r\n     <g id=\"line2d_1\">\r\n      <path clip-path=\"url(#pf5f5e23f64)\" d=\"M 64.350284 550.8 \r\nL 64.350284 7.2 \r\n\" style=\"fill:none;stroke:#b0b0b0;stroke-linecap:square;stroke-width:0.8;\"/>\r\n     </g>\r\n     <g id=\"line2d_2\">\r\n      <defs>\r\n       <path d=\"M 0 0 \r\nL 0 3.5 \r\n\" id=\"m2f42449d07\" style=\"stroke:#000000;stroke-width:0.8;\"/>\r\n      </defs>\r\n      <g>\r\n       <use style=\"stroke:#000000;stroke-width:0.8;\" x=\"64.350284\" xlink:href=\"#m2f42449d07\" y=\"550.8\"/>\r\n      </g>\r\n     </g>\r\n     <g id=\"text_1\">\r\n      <!-- 0 -->\r\n      <g transform=\"translate(61.169034 565.398438)scale(0.1 -0.1)\">\r\n       <defs>\r\n        <path d=\"M 31.78125 66.40625 \r\nQ 24.171875 66.40625 20.328125 58.90625 \r\nQ 16.5 51.421875 16.5 36.375 \r\nQ 16.5 21.390625 20.328125 13.890625 \r\nQ 24.171875 6.390625 31.78125 6.390625 \r\nQ 39.453125 6.390625 43.28125 13.890625 \r\nQ 47.125 21.390625 47.125 36.375 \r\nQ 47.125 51.421875 43.28125 58.90625 \r\nQ 39.453125 66.40625 31.78125 66.40625 \r\nz\r\nM 31.78125 74.21875 \r\nQ 44.046875 74.21875 50.515625 64.515625 \r\nQ 56.984375 54.828125 56.984375 36.375 \r\nQ 56.984375 17.96875 50.515625 8.265625 \r\nQ 44.046875 -1.421875 31.78125 -1.421875 \r\nQ 19.53125 -1.421875 13.0625 8.265625 \r\nQ 6.59375 17.96875 6.59375 36.375 \r\nQ 6.59375 54.828125 13.0625 64.515625 \r\nQ 19.53125 74.21875 31.78125 74.21875 \r\nz\r\n\" id=\"DejaVuSans-48\"/>\r\n       </defs>\r\n       <use xlink:href=\"#DejaVuSans-48\"/>\r\n      </g>\r\n     </g>\r\n    </g>\r\n    <g id=\"xtick_2\">\r\n     <g id=\"line2d_3\">\r\n      <path clip-path=\"url(#pf5f5e23f64)\" d=\"M 131.986648 550.8 \r\nL 131.986648 7.2 \r\n\" style=\"fill:none;stroke:#b0b0b0;stroke-linecap:square;stroke-width:0.8;\"/>\r\n     </g>\r\n     <g id=\"line2d_4\">\r\n      <g>\r\n       <use style=\"stroke:#000000;stroke-width:0.8;\" x=\"131.986648\" xlink:href=\"#m2f42449d07\" y=\"550.8\"/>\r\n      </g>\r\n     </g>\r\n     <g id=\"text_2\">\r\n      <!-- 2 -->\r\n      <g transform=\"translate(128.805398 565.398438)scale(0.1 -0.1)\">\r\n       <defs>\r\n        <path d=\"M 19.1875 8.296875 \r\nL 53.609375 8.296875 \r\nL 53.609375 0 \r\nL 7.328125 0 \r\nL 7.328125 8.296875 \r\nQ 12.9375 14.109375 22.625 23.890625 \r\nQ 32.328125 33.6875 34.8125 36.53125 \r\nQ 39.546875 41.84375 41.421875 45.53125 \r\nQ 43.3125 49.21875 43.3125 52.78125 \r\nQ 43.3125 58.59375 39.234375 62.25 \r\nQ 35.15625 65.921875 28.609375 65.921875 \r\nQ 23.96875 65.921875 18.8125 64.3125 \r\nQ 13.671875 62.703125 7.8125 59.421875 \r\nL 7.8125 69.390625 \r\nQ 13.765625 71.78125 18.9375 73 \r\nQ 24.125 74.21875 28.421875 74.21875 \r\nQ 39.75 74.21875 46.484375 68.546875 \r\nQ 53.21875 62.890625 53.21875 53.421875 \r\nQ 53.21875 48.921875 51.53125 44.890625 \r\nQ 49.859375 40.875 45.40625 35.40625 \r\nQ 44.1875 33.984375 37.640625 27.21875 \r\nQ 31.109375 20.453125 19.1875 8.296875 \r\nz\r\n\" id=\"DejaVuSans-50\"/>\r\n       </defs>\r\n       <use xlink:href=\"#DejaVuSans-50\"/>\r\n      </g>\r\n     </g>\r\n    </g>\r\n    <g id=\"xtick_3\">\r\n     <g id=\"line2d_5\">\r\n      <path clip-path=\"url(#pf5f5e23f64)\" d=\"M 199.623011 550.8 \r\nL 199.623011 7.2 \r\n\" style=\"fill:none;stroke:#b0b0b0;stroke-linecap:square;stroke-width:0.8;\"/>\r\n     </g>\r\n     <g id=\"line2d_6\">\r\n      <g>\r\n       <use style=\"stroke:#000000;stroke-width:0.8;\" x=\"199.623011\" xlink:href=\"#m2f42449d07\" y=\"550.8\"/>\r\n      </g>\r\n     </g>\r\n     <g id=\"text_3\">\r\n      <!-- 4 -->\r\n      <g transform=\"translate(196.441761 565.398438)scale(0.1 -0.1)\">\r\n       <defs>\r\n        <path d=\"M 37.796875 64.3125 \r\nL 12.890625 25.390625 \r\nL 37.796875 25.390625 \r\nz\r\nM 35.203125 72.90625 \r\nL 47.609375 72.90625 \r\nL 47.609375 25.390625 \r\nL 58.015625 25.390625 \r\nL 58.015625 17.1875 \r\nL 47.609375 17.1875 \r\nL 47.609375 0 \r\nL 37.796875 0 \r\nL 37.796875 17.1875 \r\nL 4.890625 17.1875 \r\nL 4.890625 26.703125 \r\nz\r\n\" id=\"DejaVuSans-52\"/>\r\n       </defs>\r\n       <use xlink:href=\"#DejaVuSans-52\"/>\r\n      </g>\r\n     </g>\r\n    </g>\r\n    <g id=\"xtick_4\">\r\n     <g id=\"line2d_7\">\r\n      <path clip-path=\"url(#pf5f5e23f64)\" d=\"M 267.259375 550.8 \r\nL 267.259375 7.2 \r\n\" style=\"fill:none;stroke:#b0b0b0;stroke-linecap:square;stroke-width:0.8;\"/>\r\n     </g>\r\n     <g id=\"line2d_8\">\r\n      <g>\r\n       <use style=\"stroke:#000000;stroke-width:0.8;\" x=\"267.259375\" xlink:href=\"#m2f42449d07\" y=\"550.8\"/>\r\n      </g>\r\n     </g>\r\n     <g id=\"text_4\">\r\n      <!-- 6 -->\r\n      <g transform=\"translate(264.078125 565.398438)scale(0.1 -0.1)\">\r\n       <defs>\r\n        <path d=\"M 33.015625 40.375 \r\nQ 26.375 40.375 22.484375 35.828125 \r\nQ 18.609375 31.296875 18.609375 23.390625 \r\nQ 18.609375 15.53125 22.484375 10.953125 \r\nQ 26.375 6.390625 33.015625 6.390625 \r\nQ 39.65625 6.390625 43.53125 10.953125 \r\nQ 47.40625 15.53125 47.40625 23.390625 \r\nQ 47.40625 31.296875 43.53125 35.828125 \r\nQ 39.65625 40.375 33.015625 40.375 \r\nz\r\nM 52.59375 71.296875 \r\nL 52.59375 62.3125 \r\nQ 48.875 64.0625 45.09375 64.984375 \r\nQ 41.3125 65.921875 37.59375 65.921875 \r\nQ 27.828125 65.921875 22.671875 59.328125 \r\nQ 17.53125 52.734375 16.796875 39.40625 \r\nQ 19.671875 43.65625 24.015625 45.921875 \r\nQ 28.375 48.1875 33.59375 48.1875 \r\nQ 44.578125 48.1875 50.953125 41.515625 \r\nQ 57.328125 34.859375 57.328125 23.390625 \r\nQ 57.328125 12.15625 50.6875 5.359375 \r\nQ 44.046875 -1.421875 33.015625 -1.421875 \r\nQ 20.359375 -1.421875 13.671875 8.265625 \r\nQ 6.984375 17.96875 6.984375 36.375 \r\nQ 6.984375 53.65625 15.1875 63.9375 \r\nQ 23.390625 74.21875 37.203125 74.21875 \r\nQ 40.921875 74.21875 44.703125 73.484375 \r\nQ 48.484375 72.75 52.59375 71.296875 \r\nz\r\n\" id=\"DejaVuSans-54\"/>\r\n       </defs>\r\n       <use xlink:href=\"#DejaVuSans-54\"/>\r\n      </g>\r\n     </g>\r\n    </g>\r\n    <g id=\"xtick_5\">\r\n     <g id=\"line2d_9\">\r\n      <path clip-path=\"url(#pf5f5e23f64)\" d=\"M 334.895739 550.8 \r\nL 334.895739 7.2 \r\n\" style=\"fill:none;stroke:#b0b0b0;stroke-linecap:square;stroke-width:0.8;\"/>\r\n     </g>\r\n     <g id=\"line2d_10\">\r\n      <g>\r\n       <use style=\"stroke:#000000;stroke-width:0.8;\" x=\"334.895739\" xlink:href=\"#m2f42449d07\" y=\"550.8\"/>\r\n      </g>\r\n     </g>\r\n     <g id=\"text_5\">\r\n      <!-- 8 -->\r\n      <g transform=\"translate(331.714489 565.398438)scale(0.1 -0.1)\">\r\n       <defs>\r\n        <path d=\"M 31.78125 34.625 \r\nQ 24.75 34.625 20.71875 30.859375 \r\nQ 16.703125 27.09375 16.703125 20.515625 \r\nQ 16.703125 13.921875 20.71875 10.15625 \r\nQ 24.75 6.390625 31.78125 6.390625 \r\nQ 38.8125 6.390625 42.859375 10.171875 \r\nQ 46.921875 13.96875 46.921875 20.515625 \r\nQ 46.921875 27.09375 42.890625 30.859375 \r\nQ 38.875 34.625 31.78125 34.625 \r\nz\r\nM 21.921875 38.8125 \r\nQ 15.578125 40.375 12.03125 44.71875 \r\nQ 8.5 49.078125 8.5 55.328125 \r\nQ 8.5 64.0625 14.71875 69.140625 \r\nQ 20.953125 74.21875 31.78125 74.21875 \r\nQ 42.671875 74.21875 48.875 69.140625 \r\nQ 55.078125 64.0625 55.078125 55.328125 \r\nQ 55.078125 49.078125 51.53125 44.71875 \r\nQ 48 40.375 41.703125 38.8125 \r\nQ 48.828125 37.15625 52.796875 32.3125 \r\nQ 56.78125 27.484375 56.78125 20.515625 \r\nQ 56.78125 9.90625 50.3125 4.234375 \r\nQ 43.84375 -1.421875 31.78125 -1.421875 \r\nQ 19.734375 -1.421875 13.25 4.234375 \r\nQ 6.78125 9.90625 6.78125 20.515625 \r\nQ 6.78125 27.484375 10.78125 32.3125 \r\nQ 14.796875 37.15625 21.921875 38.8125 \r\nz\r\nM 18.3125 54.390625 \r\nQ 18.3125 48.734375 21.84375 45.5625 \r\nQ 25.390625 42.390625 31.78125 42.390625 \r\nQ 38.140625 42.390625 41.71875 45.5625 \r\nQ 45.3125 48.734375 45.3125 54.390625 \r\nQ 45.3125 60.0625 41.71875 63.234375 \r\nQ 38.140625 66.40625 31.78125 66.40625 \r\nQ 25.390625 66.40625 21.84375 63.234375 \r\nQ 18.3125 60.0625 18.3125 54.390625 \r\nz\r\n\" id=\"DejaVuSans-56\"/>\r\n       </defs>\r\n       <use xlink:href=\"#DejaVuSans-56\"/>\r\n      </g>\r\n     </g>\r\n    </g>\r\n    <g id=\"xtick_6\">\r\n     <g id=\"line2d_11\">\r\n      <path clip-path=\"url(#pf5f5e23f64)\" d=\"M 402.532102 550.8 \r\nL 402.532102 7.2 \r\n\" style=\"fill:none;stroke:#b0b0b0;stroke-linecap:square;stroke-width:0.8;\"/>\r\n     </g>\r\n     <g id=\"line2d_12\">\r\n      <g>\r\n       <use style=\"stroke:#000000;stroke-width:0.8;\" x=\"402.532102\" xlink:href=\"#m2f42449d07\" y=\"550.8\"/>\r\n      </g>\r\n     </g>\r\n     <g id=\"text_6\">\r\n      <!-- 10 -->\r\n      <g transform=\"translate(396.169602 565.398438)scale(0.1 -0.1)\">\r\n       <defs>\r\n        <path d=\"M 12.40625 8.296875 \r\nL 28.515625 8.296875 \r\nL 28.515625 63.921875 \r\nL 10.984375 60.40625 \r\nL 10.984375 69.390625 \r\nL 28.421875 72.90625 \r\nL 38.28125 72.90625 \r\nL 38.28125 8.296875 \r\nL 54.390625 8.296875 \r\nL 54.390625 0 \r\nL 12.40625 0 \r\nz\r\n\" id=\"DejaVuSans-49\"/>\r\n       </defs>\r\n       <use xlink:href=\"#DejaVuSans-49\"/>\r\n       <use x=\"63.623047\" xlink:href=\"#DejaVuSans-48\"/>\r\n      </g>\r\n     </g>\r\n    </g>\r\n    <g id=\"xtick_7\">\r\n     <g id=\"line2d_13\">\r\n      <path clip-path=\"url(#pf5f5e23f64)\" d=\"M 470.168466 550.8 \r\nL 470.168466 7.2 \r\n\" style=\"fill:none;stroke:#b0b0b0;stroke-linecap:square;stroke-width:0.8;\"/>\r\n     </g>\r\n     <g id=\"line2d_14\">\r\n      <g>\r\n       <use style=\"stroke:#000000;stroke-width:0.8;\" x=\"470.168466\" xlink:href=\"#m2f42449d07\" y=\"550.8\"/>\r\n      </g>\r\n     </g>\r\n     <g id=\"text_7\">\r\n      <!-- 12 -->\r\n      <g transform=\"translate(463.805966 565.398438)scale(0.1 -0.1)\">\r\n       <use xlink:href=\"#DejaVuSans-49\"/>\r\n       <use x=\"63.623047\" xlink:href=\"#DejaVuSans-50\"/>\r\n      </g>\r\n     </g>\r\n    </g>\r\n   </g>\r\n   <g id=\"matplotlib.axis_2\">\r\n    <g id=\"ytick_1\">\r\n     <g id=\"line2d_15\">\r\n      <path clip-path=\"url(#pf5f5e23f64)\" d=\"M 44.059375 482.532043 \r\nL 490.459375 482.532043 \r\n\" style=\"fill:none;stroke:#b0b0b0;stroke-linecap:square;stroke-width:0.8;\"/>\r\n     </g>\r\n     <g id=\"line2d_16\">\r\n      <defs>\r\n       <path d=\"M 0 0 \r\nL -3.5 0 \r\n\" id=\"mda17cad518\" style=\"stroke:#000000;stroke-width:0.8;\"/>\r\n      </defs>\r\n      <g>\r\n       <use style=\"stroke:#000000;stroke-width:0.8;\" x=\"44.059375\" xlink:href=\"#mda17cad518\" y=\"482.532043\"/>\r\n      </g>\r\n     </g>\r\n     <g id=\"text_8\">\r\n      <!-- 0.2 -->\r\n      <g transform=\"translate(21.15625 486.331261)scale(0.1 -0.1)\">\r\n       <defs>\r\n        <path d=\"M 10.6875 12.40625 \r\nL 21 12.40625 \r\nL 21 0 \r\nL 10.6875 0 \r\nz\r\n\" id=\"DejaVuSans-46\"/>\r\n       </defs>\r\n       <use xlink:href=\"#DejaVuSans-48\"/>\r\n       <use x=\"63.623047\" xlink:href=\"#DejaVuSans-46\"/>\r\n       <use x=\"95.410156\" xlink:href=\"#DejaVuSans-50\"/>\r\n      </g>\r\n     </g>\r\n    </g>\r\n    <g id=\"ytick_2\">\r\n     <g id=\"line2d_17\">\r\n      <path clip-path=\"url(#pf5f5e23f64)\" d=\"M 44.059375 367.956826 \r\nL 490.459375 367.956826 \r\n\" style=\"fill:none;stroke:#b0b0b0;stroke-linecap:square;stroke-width:0.8;\"/>\r\n     </g>\r\n     <g id=\"line2d_18\">\r\n      <g>\r\n       <use style=\"stroke:#000000;stroke-width:0.8;\" x=\"44.059375\" xlink:href=\"#mda17cad518\" y=\"367.956826\"/>\r\n      </g>\r\n     </g>\r\n     <g id=\"text_9\">\r\n      <!-- 0.4 -->\r\n      <g transform=\"translate(21.15625 371.756045)scale(0.1 -0.1)\">\r\n       <use xlink:href=\"#DejaVuSans-48\"/>\r\n       <use x=\"63.623047\" xlink:href=\"#DejaVuSans-46\"/>\r\n       <use x=\"95.410156\" xlink:href=\"#DejaVuSans-52\"/>\r\n      </g>\r\n     </g>\r\n    </g>\r\n    <g id=\"ytick_3\">\r\n     <g id=\"line2d_19\">\r\n      <path clip-path=\"url(#pf5f5e23f64)\" d=\"M 44.059375 253.381609 \r\nL 490.459375 253.381609 \r\n\" style=\"fill:none;stroke:#b0b0b0;stroke-linecap:square;stroke-width:0.8;\"/>\r\n     </g>\r\n     <g id=\"line2d_20\">\r\n      <g>\r\n       <use style=\"stroke:#000000;stroke-width:0.8;\" x=\"44.059375\" xlink:href=\"#mda17cad518\" y=\"253.381609\"/>\r\n      </g>\r\n     </g>\r\n     <g id=\"text_10\">\r\n      <!-- 0.6 -->\r\n      <g transform=\"translate(21.15625 257.180828)scale(0.1 -0.1)\">\r\n       <use xlink:href=\"#DejaVuSans-48\"/>\r\n       <use x=\"63.623047\" xlink:href=\"#DejaVuSans-46\"/>\r\n       <use x=\"95.410156\" xlink:href=\"#DejaVuSans-54\"/>\r\n      </g>\r\n     </g>\r\n    </g>\r\n    <g id=\"ytick_4\">\r\n     <g id=\"line2d_21\">\r\n      <path clip-path=\"url(#pf5f5e23f64)\" d=\"M 44.059375 138.806392 \r\nL 490.459375 138.806392 \r\n\" style=\"fill:none;stroke:#b0b0b0;stroke-linecap:square;stroke-width:0.8;\"/>\r\n     </g>\r\n     <g id=\"line2d_22\">\r\n      <g>\r\n       <use style=\"stroke:#000000;stroke-width:0.8;\" x=\"44.059375\" xlink:href=\"#mda17cad518\" y=\"138.806392\"/>\r\n      </g>\r\n     </g>\r\n     <g id=\"text_11\">\r\n      <!-- 0.8 -->\r\n      <g transform=\"translate(21.15625 142.605611)scale(0.1 -0.1)\">\r\n       <use xlink:href=\"#DejaVuSans-48\"/>\r\n       <use x=\"63.623047\" xlink:href=\"#DejaVuSans-46\"/>\r\n       <use x=\"95.410156\" xlink:href=\"#DejaVuSans-56\"/>\r\n      </g>\r\n     </g>\r\n    </g>\r\n    <g id=\"ytick_5\">\r\n     <g id=\"line2d_23\">\r\n      <path clip-path=\"url(#pf5f5e23f64)\" d=\"M 44.059375 24.231175 \r\nL 490.459375 24.231175 \r\n\" style=\"fill:none;stroke:#b0b0b0;stroke-linecap:square;stroke-width:0.8;\"/>\r\n     </g>\r\n     <g id=\"line2d_24\">\r\n      <g>\r\n       <use style=\"stroke:#000000;stroke-width:0.8;\" x=\"44.059375\" xlink:href=\"#mda17cad518\" y=\"24.231175\"/>\r\n      </g>\r\n     </g>\r\n     <g id=\"text_12\">\r\n      <!-- 1.0 -->\r\n      <g transform=\"translate(21.15625 28.030394)scale(0.1 -0.1)\">\r\n       <use xlink:href=\"#DejaVuSans-49\"/>\r\n       <use x=\"63.623047\" xlink:href=\"#DejaVuSans-46\"/>\r\n       <use x=\"95.410156\" xlink:href=\"#DejaVuSans-48\"/>\r\n      </g>\r\n     </g>\r\n    </g>\r\n    <g id=\"text_13\">\r\n     <!-- val_loss -->\r\n     <g transform=\"translate(14.798438 298.570312)rotate(-90)scale(0.1 -0.1)\">\r\n      <defs>\r\n       <path d=\"M 2.984375 54.6875 \r\nL 12.5 54.6875 \r\nL 29.59375 8.796875 \r\nL 46.6875 54.6875 \r\nL 56.203125 54.6875 \r\nL 35.6875 0 \r\nL 23.484375 0 \r\nz\r\n\" id=\"DejaVuSans-118\"/>\r\n       <path d=\"M 34.28125 27.484375 \r\nQ 23.390625 27.484375 19.1875 25 \r\nQ 14.984375 22.515625 14.984375 16.5 \r\nQ 14.984375 11.71875 18.140625 8.90625 \r\nQ 21.296875 6.109375 26.703125 6.109375 \r\nQ 34.1875 6.109375 38.703125 11.40625 \r\nQ 43.21875 16.703125 43.21875 25.484375 \r\nL 43.21875 27.484375 \r\nz\r\nM 52.203125 31.203125 \r\nL 52.203125 0 \r\nL 43.21875 0 \r\nL 43.21875 8.296875 \r\nQ 40.140625 3.328125 35.546875 0.953125 \r\nQ 30.953125 -1.421875 24.3125 -1.421875 \r\nQ 15.921875 -1.421875 10.953125 3.296875 \r\nQ 6 8.015625 6 15.921875 \r\nQ 6 25.140625 12.171875 29.828125 \r\nQ 18.359375 34.515625 30.609375 34.515625 \r\nL 43.21875 34.515625 \r\nL 43.21875 35.40625 \r\nQ 43.21875 41.609375 39.140625 45 \r\nQ 35.0625 48.390625 27.6875 48.390625 \r\nQ 23 48.390625 18.546875 47.265625 \r\nQ 14.109375 46.140625 10.015625 43.890625 \r\nL 10.015625 52.203125 \r\nQ 14.9375 54.109375 19.578125 55.046875 \r\nQ 24.21875 56 28.609375 56 \r\nQ 40.484375 56 46.34375 49.84375 \r\nQ 52.203125 43.703125 52.203125 31.203125 \r\nz\r\n\" id=\"DejaVuSans-97\"/>\r\n       <path d=\"M 9.421875 75.984375 \r\nL 18.40625 75.984375 \r\nL 18.40625 0 \r\nL 9.421875 0 \r\nz\r\n\" id=\"DejaVuSans-108\"/>\r\n       <path d=\"M 50.984375 -16.609375 \r\nL 50.984375 -23.578125 \r\nL -0.984375 -23.578125 \r\nL -0.984375 -16.609375 \r\nz\r\n\" id=\"DejaVuSans-95\"/>\r\n       <path d=\"M 30.609375 48.390625 \r\nQ 23.390625 48.390625 19.1875 42.75 \r\nQ 14.984375 37.109375 14.984375 27.296875 \r\nQ 14.984375 17.484375 19.15625 11.84375 \r\nQ 23.34375 6.203125 30.609375 6.203125 \r\nQ 37.796875 6.203125 41.984375 11.859375 \r\nQ 46.1875 17.53125 46.1875 27.296875 \r\nQ 46.1875 37.015625 41.984375 42.703125 \r\nQ 37.796875 48.390625 30.609375 48.390625 \r\nz\r\nM 30.609375 56 \r\nQ 42.328125 56 49.015625 48.375 \r\nQ 55.71875 40.765625 55.71875 27.296875 \r\nQ 55.71875 13.875 49.015625 6.21875 \r\nQ 42.328125 -1.421875 30.609375 -1.421875 \r\nQ 18.84375 -1.421875 12.171875 6.21875 \r\nQ 5.515625 13.875 5.515625 27.296875 \r\nQ 5.515625 40.765625 12.171875 48.375 \r\nQ 18.84375 56 30.609375 56 \r\nz\r\n\" id=\"DejaVuSans-111\"/>\r\n       <path d=\"M 44.28125 53.078125 \r\nL 44.28125 44.578125 \r\nQ 40.484375 46.53125 36.375 47.5 \r\nQ 32.28125 48.484375 27.875 48.484375 \r\nQ 21.1875 48.484375 17.84375 46.4375 \r\nQ 14.5 44.390625 14.5 40.28125 \r\nQ 14.5 37.15625 16.890625 35.375 \r\nQ 19.28125 33.59375 26.515625 31.984375 \r\nL 29.59375 31.296875 \r\nQ 39.15625 29.25 43.1875 25.515625 \r\nQ 47.21875 21.78125 47.21875 15.09375 \r\nQ 47.21875 7.46875 41.1875 3.015625 \r\nQ 35.15625 -1.421875 24.609375 -1.421875 \r\nQ 20.21875 -1.421875 15.453125 -0.5625 \r\nQ 10.6875 0.296875 5.421875 2 \r\nL 5.421875 11.28125 \r\nQ 10.40625 8.6875 15.234375 7.390625 \r\nQ 20.0625 6.109375 24.8125 6.109375 \r\nQ 31.15625 6.109375 34.5625 8.28125 \r\nQ 37.984375 10.453125 37.984375 14.40625 \r\nQ 37.984375 18.0625 35.515625 20.015625 \r\nQ 33.0625 21.96875 24.703125 23.78125 \r\nL 21.578125 24.515625 \r\nQ 13.234375 26.265625 9.515625 29.90625 \r\nQ 5.8125 33.546875 5.8125 39.890625 \r\nQ 5.8125 47.609375 11.28125 51.796875 \r\nQ 16.75 56 26.8125 56 \r\nQ 31.78125 56 36.171875 55.265625 \r\nQ 40.578125 54.546875 44.28125 53.078125 \r\nz\r\n\" id=\"DejaVuSans-115\"/>\r\n      </defs>\r\n      <use xlink:href=\"#DejaVuSans-118\"/>\r\n      <use x=\"59.179688\" xlink:href=\"#DejaVuSans-97\"/>\r\n      <use x=\"120.458984\" xlink:href=\"#DejaVuSans-108\"/>\r\n      <use x=\"148.242188\" xlink:href=\"#DejaVuSans-95\"/>\r\n      <use x=\"198.242188\" xlink:href=\"#DejaVuSans-108\"/>\r\n      <use x=\"226.025391\" xlink:href=\"#DejaVuSans-111\"/>\r\n      <use x=\"287.207031\" xlink:href=\"#DejaVuSans-115\"/>\r\n      <use x=\"339.306641\" xlink:href=\"#DejaVuSans-115\"/>\r\n     </g>\r\n    </g>\r\n   </g>\r\n   <g id=\"line2d_25\">\r\n    <path clip-path=\"url(#pf5f5e23f64)\" d=\"M 64.350284 190.893014 \r\nL 98.168466 469.818732 \r\nL 131.986648 526.090909 \r\nL 165.80483 401.690294 \r\nL 199.623011 469.544393 \r\nL 233.441193 493.379259 \r\nL 267.259375 489.796815 \r\nL 301.077557 496.316795 \r\nL 334.895739 487.667192 \r\nL 368.71392 469.389541 \r\nL 402.532102 497.806323 \r\nL 436.350284 401.991855 \r\nL 470.168466 503.731248 \r\n\" style=\"fill:none;stroke:#1f77b4;stroke-linecap:square;stroke-width:1.5;\"/>\r\n   </g>\r\n   <g id=\"line2d_26\">\r\n    <path clip-path=\"url(#pf5f5e23f64)\" d=\"M 64.350284 54.226283 \r\nL 98.168466 39.894151 \r\nL 131.986648 35.799251 \r\nL 165.80483 45.115154 \r\nL 199.623011 36.720614 \r\nL 233.441193 34.263668 \r\nL 267.259375 34.980291 \r\nL 301.077557 33.137564 \r\nL 334.895739 32.523345 \r\nL 368.71392 34.366038 \r\nL 402.532102 31.909091 \r\nL 436.350284 32.216235 \r\nL 470.168466 33.444708 \r\n\" style=\"fill:none;stroke:#ff7f0e;stroke-linecap:square;stroke-width:1.5;\"/>\r\n   </g>\r\n   <g id=\"patch_3\">\r\n    <path d=\"M 44.059375 550.8 \r\nL 44.059375 7.2 \r\n\" style=\"fill:none;stroke:#000000;stroke-linecap:square;stroke-linejoin:miter;stroke-width:0.8;\"/>\r\n   </g>\r\n   <g id=\"patch_4\">\r\n    <path d=\"M 490.459375 550.8 \r\nL 490.459375 7.2 \r\n\" style=\"fill:none;stroke:#000000;stroke-linecap:square;stroke-linejoin:miter;stroke-width:0.8;\"/>\r\n   </g>\r\n   <g id=\"patch_5\">\r\n    <path d=\"M 44.059375 550.8 \r\nL 490.459375 550.8 \r\n\" style=\"fill:none;stroke:#000000;stroke-linecap:square;stroke-linejoin:miter;stroke-width:0.8;\"/>\r\n   </g>\r\n   <g id=\"patch_6\">\r\n    <path d=\"M 44.059375 7.2 \r\nL 490.459375 7.2 \r\n\" style=\"fill:none;stroke:#000000;stroke-linecap:square;stroke-linejoin:miter;stroke-width:0.8;\"/>\r\n   </g>\r\n   <g id=\"legend_1\">\r\n    <g id=\"patch_7\">\r\n     <path d=\"M 376.965625 545.8 \r\nL 483.459375 545.8 \r\nQ 485.459375 545.8 485.459375 543.8 \r\nL 485.459375 515.44375 \r\nQ 485.459375 513.44375 483.459375 513.44375 \r\nL 376.965625 513.44375 \r\nQ 374.965625 513.44375 374.965625 515.44375 \r\nL 374.965625 543.8 \r\nQ 374.965625 545.8 376.965625 545.8 \r\nz\r\n\" style=\"fill:#ffffff;opacity:0.8;stroke:#cccccc;stroke-linejoin:miter;\"/>\r\n    </g>\r\n    <g id=\"line2d_27\">\r\n     <path d=\"M 378.965625 521.542188 \r\nL 398.965625 521.542188 \r\n\" style=\"fill:none;stroke:#1f77b4;stroke-linecap:square;stroke-width:1.5;\"/>\r\n    </g>\r\n    <g id=\"line2d_28\"/>\r\n    <g id=\"text_14\">\r\n     <!-- Validation Loss -->\r\n     <g transform=\"translate(406.965625 525.042188)scale(0.1 -0.1)\">\r\n      <defs>\r\n       <path d=\"M 28.609375 0 \r\nL 0.78125 72.90625 \r\nL 11.078125 72.90625 \r\nL 34.1875 11.53125 \r\nL 57.328125 72.90625 \r\nL 67.578125 72.90625 \r\nL 39.796875 0 \r\nz\r\n\" id=\"DejaVuSans-86\"/>\r\n       <path d=\"M 9.421875 54.6875 \r\nL 18.40625 54.6875 \r\nL 18.40625 0 \r\nL 9.421875 0 \r\nz\r\nM 9.421875 75.984375 \r\nL 18.40625 75.984375 \r\nL 18.40625 64.59375 \r\nL 9.421875 64.59375 \r\nz\r\n\" id=\"DejaVuSans-105\"/>\r\n       <path d=\"M 45.40625 46.390625 \r\nL 45.40625 75.984375 \r\nL 54.390625 75.984375 \r\nL 54.390625 0 \r\nL 45.40625 0 \r\nL 45.40625 8.203125 \r\nQ 42.578125 3.328125 38.25 0.953125 \r\nQ 33.9375 -1.421875 27.875 -1.421875 \r\nQ 17.96875 -1.421875 11.734375 6.484375 \r\nQ 5.515625 14.40625 5.515625 27.296875 \r\nQ 5.515625 40.1875 11.734375 48.09375 \r\nQ 17.96875 56 27.875 56 \r\nQ 33.9375 56 38.25 53.625 \r\nQ 42.578125 51.265625 45.40625 46.390625 \r\nz\r\nM 14.796875 27.296875 \r\nQ 14.796875 17.390625 18.875 11.75 \r\nQ 22.953125 6.109375 30.078125 6.109375 \r\nQ 37.203125 6.109375 41.296875 11.75 \r\nQ 45.40625 17.390625 45.40625 27.296875 \r\nQ 45.40625 37.203125 41.296875 42.84375 \r\nQ 37.203125 48.484375 30.078125 48.484375 \r\nQ 22.953125 48.484375 18.875 42.84375 \r\nQ 14.796875 37.203125 14.796875 27.296875 \r\nz\r\n\" id=\"DejaVuSans-100\"/>\r\n       <path d=\"M 18.3125 70.21875 \r\nL 18.3125 54.6875 \r\nL 36.8125 54.6875 \r\nL 36.8125 47.703125 \r\nL 18.3125 47.703125 \r\nL 18.3125 18.015625 \r\nQ 18.3125 11.328125 20.140625 9.421875 \r\nQ 21.96875 7.515625 27.59375 7.515625 \r\nL 36.8125 7.515625 \r\nL 36.8125 0 \r\nL 27.59375 0 \r\nQ 17.1875 0 13.234375 3.875 \r\nQ 9.28125 7.765625 9.28125 18.015625 \r\nL 9.28125 47.703125 \r\nL 2.6875 47.703125 \r\nL 2.6875 54.6875 \r\nL 9.28125 54.6875 \r\nL 9.28125 70.21875 \r\nz\r\n\" id=\"DejaVuSans-116\"/>\r\n       <path d=\"M 54.890625 33.015625 \r\nL 54.890625 0 \r\nL 45.90625 0 \r\nL 45.90625 32.71875 \r\nQ 45.90625 40.484375 42.875 44.328125 \r\nQ 39.84375 48.1875 33.796875 48.1875 \r\nQ 26.515625 48.1875 22.3125 43.546875 \r\nQ 18.109375 38.921875 18.109375 30.90625 \r\nL 18.109375 0 \r\nL 9.078125 0 \r\nL 9.078125 54.6875 \r\nL 18.109375 54.6875 \r\nL 18.109375 46.1875 \r\nQ 21.34375 51.125 25.703125 53.5625 \r\nQ 30.078125 56 35.796875 56 \r\nQ 45.21875 56 50.046875 50.171875 \r\nQ 54.890625 44.34375 54.890625 33.015625 \r\nz\r\n\" id=\"DejaVuSans-110\"/>\r\n       <path id=\"DejaVuSans-32\"/>\r\n       <path d=\"M 9.8125 72.90625 \r\nL 19.671875 72.90625 \r\nL 19.671875 8.296875 \r\nL 55.171875 8.296875 \r\nL 55.171875 0 \r\nL 9.8125 0 \r\nz\r\n\" id=\"DejaVuSans-76\"/>\r\n      </defs>\r\n      <use xlink:href=\"#DejaVuSans-86\"/>\r\n      <use x=\"60.658203\" xlink:href=\"#DejaVuSans-97\"/>\r\n      <use x=\"121.9375\" xlink:href=\"#DejaVuSans-108\"/>\r\n      <use x=\"149.720703\" xlink:href=\"#DejaVuSans-105\"/>\r\n      <use x=\"177.503906\" xlink:href=\"#DejaVuSans-100\"/>\r\n      <use x=\"240.980469\" xlink:href=\"#DejaVuSans-97\"/>\r\n      <use x=\"302.259766\" xlink:href=\"#DejaVuSans-116\"/>\r\n      <use x=\"341.46875\" xlink:href=\"#DejaVuSans-105\"/>\r\n      <use x=\"369.251953\" xlink:href=\"#DejaVuSans-111\"/>\r\n      <use x=\"430.433594\" xlink:href=\"#DejaVuSans-110\"/>\r\n      <use x=\"493.8125\" xlink:href=\"#DejaVuSans-32\"/>\r\n      <use x=\"525.599609\" xlink:href=\"#DejaVuSans-76\"/>\r\n      <use x=\"579.5625\" xlink:href=\"#DejaVuSans-111\"/>\r\n      <use x=\"640.744141\" xlink:href=\"#DejaVuSans-115\"/>\r\n      <use x=\"692.84375\" xlink:href=\"#DejaVuSans-115\"/>\r\n     </g>\r\n    </g>\r\n    <g id=\"line2d_29\">\r\n     <path d=\"M 378.965625 536.220312 \r\nL 398.965625 536.220312 \r\n\" style=\"fill:none;stroke:#ff7f0e;stroke-linecap:square;stroke-width:1.5;\"/>\r\n    </g>\r\n    <g id=\"line2d_30\"/>\r\n    <g id=\"text_15\">\r\n     <!-- Cat. Accuracy -->\r\n     <g transform=\"translate(406.965625 539.720312)scale(0.1 -0.1)\">\r\n      <defs>\r\n       <path d=\"M 64.40625 67.28125 \r\nL 64.40625 56.890625 \r\nQ 59.421875 61.53125 53.78125 63.8125 \r\nQ 48.140625 66.109375 41.796875 66.109375 \r\nQ 29.296875 66.109375 22.65625 58.46875 \r\nQ 16.015625 50.828125 16.015625 36.375 \r\nQ 16.015625 21.96875 22.65625 14.328125 \r\nQ 29.296875 6.6875 41.796875 6.6875 \r\nQ 48.140625 6.6875 53.78125 8.984375 \r\nQ 59.421875 11.28125 64.40625 15.921875 \r\nL 64.40625 5.609375 \r\nQ 59.234375 2.09375 53.4375 0.328125 \r\nQ 47.65625 -1.421875 41.21875 -1.421875 \r\nQ 24.65625 -1.421875 15.125 8.703125 \r\nQ 5.609375 18.84375 5.609375 36.375 \r\nQ 5.609375 53.953125 15.125 64.078125 \r\nQ 24.65625 74.21875 41.21875 74.21875 \r\nQ 47.75 74.21875 53.53125 72.484375 \r\nQ 59.328125 70.75 64.40625 67.28125 \r\nz\r\n\" id=\"DejaVuSans-67\"/>\r\n       <path d=\"M 34.1875 63.1875 \r\nL 20.796875 26.90625 \r\nL 47.609375 26.90625 \r\nz\r\nM 28.609375 72.90625 \r\nL 39.796875 72.90625 \r\nL 67.578125 0 \r\nL 57.328125 0 \r\nL 50.6875 18.703125 \r\nL 17.828125 18.703125 \r\nL 11.1875 0 \r\nL 0.78125 0 \r\nz\r\n\" id=\"DejaVuSans-65\"/>\r\n       <path d=\"M 48.78125 52.59375 \r\nL 48.78125 44.1875 \r\nQ 44.96875 46.296875 41.140625 47.34375 \r\nQ 37.3125 48.390625 33.40625 48.390625 \r\nQ 24.65625 48.390625 19.8125 42.84375 \r\nQ 14.984375 37.3125 14.984375 27.296875 \r\nQ 14.984375 17.28125 19.8125 11.734375 \r\nQ 24.65625 6.203125 33.40625 6.203125 \r\nQ 37.3125 6.203125 41.140625 7.25 \r\nQ 44.96875 8.296875 48.78125 10.40625 \r\nL 48.78125 2.09375 \r\nQ 45.015625 0.34375 40.984375 -0.53125 \r\nQ 36.96875 -1.421875 32.421875 -1.421875 \r\nQ 20.0625 -1.421875 12.78125 6.34375 \r\nQ 5.515625 14.109375 5.515625 27.296875 \r\nQ 5.515625 40.671875 12.859375 48.328125 \r\nQ 20.21875 56 33.015625 56 \r\nQ 37.15625 56 41.109375 55.140625 \r\nQ 45.0625 54.296875 48.78125 52.59375 \r\nz\r\n\" id=\"DejaVuSans-99\"/>\r\n       <path d=\"M 8.5 21.578125 \r\nL 8.5 54.6875 \r\nL 17.484375 54.6875 \r\nL 17.484375 21.921875 \r\nQ 17.484375 14.15625 20.5 10.265625 \r\nQ 23.53125 6.390625 29.59375 6.390625 \r\nQ 36.859375 6.390625 41.078125 11.03125 \r\nQ 45.3125 15.671875 45.3125 23.6875 \r\nL 45.3125 54.6875 \r\nL 54.296875 54.6875 \r\nL 54.296875 0 \r\nL 45.3125 0 \r\nL 45.3125 8.40625 \r\nQ 42.046875 3.421875 37.71875 1 \r\nQ 33.40625 -1.421875 27.6875 -1.421875 \r\nQ 18.265625 -1.421875 13.375 4.4375 \r\nQ 8.5 10.296875 8.5 21.578125 \r\nz\r\nM 31.109375 56 \r\nz\r\n\" id=\"DejaVuSans-117\"/>\r\n       <path d=\"M 41.109375 46.296875 \r\nQ 39.59375 47.171875 37.8125 47.578125 \r\nQ 36.03125 48 33.890625 48 \r\nQ 26.265625 48 22.1875 43.046875 \r\nQ 18.109375 38.09375 18.109375 28.8125 \r\nL 18.109375 0 \r\nL 9.078125 0 \r\nL 9.078125 54.6875 \r\nL 18.109375 54.6875 \r\nL 18.109375 46.1875 \r\nQ 20.953125 51.171875 25.484375 53.578125 \r\nQ 30.03125 56 36.53125 56 \r\nQ 37.453125 56 38.578125 55.875 \r\nQ 39.703125 55.765625 41.0625 55.515625 \r\nz\r\n\" id=\"DejaVuSans-114\"/>\r\n       <path d=\"M 32.171875 -5.078125 \r\nQ 28.375 -14.84375 24.75 -17.8125 \r\nQ 21.140625 -20.796875 15.09375 -20.796875 \r\nL 7.90625 -20.796875 \r\nL 7.90625 -13.28125 \r\nL 13.1875 -13.28125 \r\nQ 16.890625 -13.28125 18.9375 -11.515625 \r\nQ 21 -9.765625 23.484375 -3.21875 \r\nL 25.09375 0.875 \r\nL 2.984375 54.6875 \r\nL 12.5 54.6875 \r\nL 29.59375 11.921875 \r\nL 46.6875 54.6875 \r\nL 56.203125 54.6875 \r\nz\r\n\" id=\"DejaVuSans-121\"/>\r\n      </defs>\r\n      <use xlink:href=\"#DejaVuSans-67\"/>\r\n      <use x=\"69.824219\" xlink:href=\"#DejaVuSans-97\"/>\r\n      <use x=\"131.103516\" xlink:href=\"#DejaVuSans-116\"/>\r\n      <use x=\"170.3125\" xlink:href=\"#DejaVuSans-46\"/>\r\n      <use x=\"202.099609\" xlink:href=\"#DejaVuSans-32\"/>\r\n      <use x=\"233.886719\" xlink:href=\"#DejaVuSans-65\"/>\r\n      <use x=\"300.544922\" xlink:href=\"#DejaVuSans-99\"/>\r\n      <use x=\"355.525391\" xlink:href=\"#DejaVuSans-99\"/>\r\n      <use x=\"410.505859\" xlink:href=\"#DejaVuSans-117\"/>\r\n      <use x=\"473.884766\" xlink:href=\"#DejaVuSans-114\"/>\r\n      <use x=\"514.998047\" xlink:href=\"#DejaVuSans-97\"/>\r\n      <use x=\"576.277344\" xlink:href=\"#DejaVuSans-99\"/>\r\n      <use x=\"631.257812\" xlink:href=\"#DejaVuSans-121\"/>\r\n     </g>\r\n    </g>\r\n   </g>\r\n  </g>\r\n </g>\r\n <defs>\r\n  <clipPath id=\"pf5f5e23f64\">\r\n   <rect height=\"543.6\" width=\"446.4\" x=\"44.059375\" y=\"7.2\"/>\r\n  </clipPath>\r\n </defs>\r\n</svg>\r\n",
      "image/png": "[encoded data removed]"
     },
     "metadata": {
      "needs_background": "light"
     }
    }
   ],
   "source": [
    "fig,ax_tuned = plt.subplots(1,1,figsize = (8,10))\n",
    "sns.lineplot(x = history_tuned.index.values.tolist(), y = history_tuned[\"val_loss\"], label = \"Validation Loss\", ax = ax_tuned)\n",
    "sns.lineplot(x = history_tuned.index.values.tolist(), y = history_tuned[\"val_categorical_accuracy\"], label = \"Cat. Accuracy\", ax = ax_tuned)\n",
    "ax_tuned.legend()\n",
    "ax_tuned.grid()"
   ]
  },
  {
   "cell_type": "code",
   "execution_count": 105,
   "metadata": {},
   "outputs": [],
   "source": [
    "#adding batch Normalization layer to the above model\n",
    "#Batch Normalization allows us to train with higher learning rates \n",
    "model_tuned_bn = keras.models.Sequential()\n",
    "model_tuned_bn.add(keras.layers.Flatten(input_shape = [28,28]))\n",
    "model_tuned_bn.add(keras.layers.BatchNormalization())\n",
    "model_tuned_bn.add(keras.layers.Dense(100,activation = \"elu\",kernel_initializer=\"he_normal\"))\n",
    "model_tuned_bn.add(keras.layers.BatchNormalization())\n",
    "model_tuned_bn.add(keras.layers.Dense(100,activation = \"elu\",kernel_initializer=\"he_normal\"))\n",
    "model_tuned_bn.add(keras.layers.BatchNormalization())\n",
    "model_tuned_bn.add(keras.layers.Dense(100,activation = \"elu\",kernel_initializer=\"he_normal\"))\n",
    "model_tuned_bn.add(keras.layers.BatchNormalization())\n",
    "model_tuned_bn.add(keras.layers.Dense(100,activation = \"elu\",kernel_initializer=\"he_normal\"))\n",
    "model_tuned_bn.add(keras.layers.BatchNormalization())\n",
    "model_tuned_bn.add(keras.layers.Dense(100,activation = \"elu\",kernel_initializer=\"he_normal\"))\n",
    "model_tuned_bn.add(keras.layers.Dense(5, activation=\"softmax\"))"
   ]
  },
  {
   "cell_type": "code",
   "execution_count": 109,
   "metadata": {},
   "outputs": [],
   "source": [
    "adamoptim_tuned_bn = keras.optimizers.Adam(lr = 0.001,beta_1=0.6,beta_2=0.8)\n",
    "checkpoint_tuned_bn = keras.callbacks.ModelCheckpoint('tuned0to4bn.h5',save_best_only=True)\n",
    "earlystopping_tuned_bn = keras.callbacks.EarlyStopping(patience = 10, restore_best_weights=True)\n",
    "\n",
    "model_tuned_bn.compile(loss = \"categorical_crossentropy\",\n",
    "                    optimizer = adamoptim_tuned_bn, \n",
    "                    metrics = [accuracy,precision,recall,aucscore])"
   ]
  },
  {
   "cell_type": "code",
   "execution_count": 110,
   "metadata": {},
   "outputs": [
    {
     "output_type": "stream",
     "name": "stdout",
     "text": [
      "Model: \"sequential_54\"\n_________________________________________________________________\nLayer (type)                 Output Shape              Param #   \n=================================================================\nflatten_54 (Flatten)         (None, 784)               0         \n_________________________________________________________________\nbatch_normalization_5 (Batch (None, 784)               3136      \n_________________________________________________________________\ndense_324 (Dense)            (None, 100)               78500     \n_________________________________________________________________\nbatch_normalization_6 (Batch (None, 100)               400       \n_________________________________________________________________\ndense_325 (Dense)            (None, 100)               10100     \n_________________________________________________________________\nbatch_normalization_7 (Batch (None, 100)               400       \n_________________________________________________________________\ndense_326 (Dense)            (None, 100)               10100     \n_________________________________________________________________\nbatch_normalization_8 (Batch (None, 100)               400       \n_________________________________________________________________\ndense_327 (Dense)            (None, 100)               10100     \n_________________________________________________________________\nbatch_normalization_9 (Batch (None, 100)               400       \n_________________________________________________________________\ndense_328 (Dense)            (None, 100)               10100     \n_________________________________________________________________\ndense_329 (Dense)            (None, 5)                 505       \n=================================================================\nTotal params: 124,141\nTrainable params: 121,773\nNon-trainable params: 2,368\n_________________________________________________________________\n"
     ]
    }
   ],
   "source": [
    "model_tuned_bn.summary()"
   ]
  },
  {
   "cell_type": "code",
   "execution_count": 111,
   "metadata": {},
   "outputs": [
    {
     "output_type": "stream",
     "name": "stdout",
     "text": [
      "Epoch 1/40\n",
      "782/782 [==============================] - 8s 6ms/step - loss: 0.2457 - categorical_accuracy: 0.9559 - precision: 0.9634 - recall: 0.9505 - auc: 0.9944 - val_loss: 0.0908 - val_categorical_accuracy: 0.9834 - val_precision: 0.9841 - val_recall: 0.9823 - val_auc: 0.9977\n",
      "Epoch 2/40\n",
      "782/782 [==============================] - 3s 4ms/step - loss: 0.0696 - categorical_accuracy: 0.9792 - precision: 0.9808 - recall: 0.9780 - auc: 0.9984 - val_loss: 0.0955 - val_categorical_accuracy: 0.9853 - val_precision: 0.9868 - val_recall: 0.9848 - val_auc: 0.9983\n",
      "Epoch 3/40\n",
      "782/782 [==============================] - 3s 4ms/step - loss: 0.0513 - categorical_accuracy: 0.9850 - precision: 0.9855 - recall: 0.9840 - auc: 0.9985 - val_loss: 0.1126 - val_categorical_accuracy: 0.9855 - val_precision: 0.9868 - val_recall: 0.9852 - val_auc: 0.9979\n",
      "Epoch 4/40\n",
      "782/782 [==============================] - 3s 4ms/step - loss: 0.0447 - categorical_accuracy: 0.9866 - precision: 0.9874 - recall: 0.9859 - auc: 0.9987 - val_loss: 0.1730 - val_categorical_accuracy: 0.9880 - val_precision: 0.9886 - val_recall: 0.9880 - val_auc: 0.9978\n",
      "Epoch 5/40\n",
      "782/782 [==============================] - 3s 4ms/step - loss: 0.0346 - categorical_accuracy: 0.9897 - precision: 0.9902 - recall: 0.9892 - auc: 0.9992 - val_loss: 0.1544 - val_categorical_accuracy: 0.9898 - val_precision: 0.9900 - val_recall: 0.9893 - val_auc: 0.9978\n",
      "Epoch 6/40\n",
      "782/782 [==============================] - 3s 4ms/step - loss: 0.0288 - categorical_accuracy: 0.9912 - precision: 0.9916 - recall: 0.9911 - auc: 0.9994 - val_loss: 0.1852 - val_categorical_accuracy: 0.9882 - val_precision: 0.9889 - val_recall: 0.9877 - val_auc: 0.9975\n",
      "Epoch 7/40\n",
      "782/782 [==============================] - 3s 4ms/step - loss: 0.0221 - categorical_accuracy: 0.9929 - precision: 0.9932 - recall: 0.9926 - auc: 0.9995 - val_loss: 0.2189 - val_categorical_accuracy: 0.9866 - val_precision: 0.9873 - val_recall: 0.9862 - val_auc: 0.9973\n",
      "Epoch 8/40\n",
      "782/782 [==============================] - 3s 4ms/step - loss: 0.0273 - categorical_accuracy: 0.9921 - precision: 0.9922 - recall: 0.9919 - auc: 0.9991 - val_loss: 0.3843 - val_categorical_accuracy: 0.9882 - val_precision: 0.9882 - val_recall: 0.9880 - val_auc: 0.9974\n",
      "Epoch 9/40\n",
      "782/782 [==============================] - 3s 4ms/step - loss: 0.0278 - categorical_accuracy: 0.9920 - precision: 0.9921 - recall: 0.9918 - auc: 0.9991 - val_loss: 0.2440 - val_categorical_accuracy: 0.9887 - val_precision: 0.9889 - val_recall: 0.9886 - val_auc: 0.9976\n",
      "Epoch 10/40\n",
      "782/782 [==============================] - 3s 4ms/step - loss: 0.0191 - categorical_accuracy: 0.9948 - precision: 0.9948 - recall: 0.9946 - auc: 0.9995 - val_loss: 0.2187 - val_categorical_accuracy: 0.9864 - val_precision: 0.9868 - val_recall: 0.9862 - val_auc: 0.9973\n",
      "Epoch 11/40\n",
      "782/782 [==============================] - 3s 4ms/step - loss: 0.0147 - categorical_accuracy: 0.9951 - precision: 0.9951 - recall: 0.9951 - auc: 0.9997 - val_loss: 0.1885 - val_categorical_accuracy: 0.9866 - val_precision: 0.9870 - val_recall: 0.9866 - val_auc: 0.9967\n"
     ]
    }
   ],
   "source": [
    "model_tuned_bn_history = model_tuned_bn.fit(X_data_train0to4,y_data_train0to4, epochs = 40, validation_data=(X_data_valid0to4,y_data_valid0to4), callbacks = [checkpoint_tuned_bn,earlystopping_tuned_bn])"
   ]
  },
  {
   "cell_type": "code",
   "execution_count": 112,
   "metadata": {},
   "outputs": [
    {
     "output_type": "execute_result",
     "data": {
      "text/plain": [
       "        loss  categorical_accuracy  precision    recall       auc  val_loss  \\\n",
       "0   0.142007              0.961139   0.967037  0.956922  0.995719  0.090825   \n",
       "1   0.068778              0.979480   0.980829  0.978200  0.998359  0.095539   \n",
       "2   0.054438              0.983880   0.984534  0.982880  0.998583  0.112594   \n",
       "3   0.042441              0.987080   0.987625  0.986440  0.998951  0.172988   \n",
       "4   0.035750              0.989680   0.990033  0.989320  0.999014  0.154362   \n",
       "5   0.032059              0.990080   0.990394  0.989760  0.999249  0.185213   \n",
       "6   0.025314              0.992360   0.992835  0.992120  0.999273  0.218878   \n",
       "7   0.025843              0.992200   0.992238  0.992040  0.999282  0.384320   \n",
       "8   0.026116              0.992480   0.992717  0.992320  0.999220  0.244035   \n",
       "9   0.023435              0.993600   0.993639  0.993440  0.999289  0.218670   \n",
       "10  0.017669              0.994760   0.994799  0.994640  0.999580  0.188526   \n",
       "\n",
       "    val_categorical_accuracy  val_precision  val_recall   val_auc  \n",
       "0                   0.983381       0.984067    0.982309  0.997690  \n",
       "1                   0.985347       0.986750    0.984811  0.998326  \n",
       "2                   0.985525       0.986755    0.985168  0.997913  \n",
       "3                   0.988027       0.988557    0.988027  0.997807  \n",
       "4                   0.989814       0.989986    0.989278  0.997786  \n",
       "5                   0.988206       0.988907    0.987670  0.997533  \n",
       "6                   0.986598       0.987299    0.986240  0.997257  \n",
       "7                   0.988206       0.988204    0.988027  0.997413  \n",
       "8                   0.988742       0.988917    0.988563  0.997590  \n",
       "9                   0.986419       0.986769    0.986240  0.997324  \n",
       "10                  0.986598       0.986950    0.986598  0.996679  "
      ],
      "text/html": "<div>\n<style scoped>\n    .dataframe tbody tr th:only-of-type {\n        vertical-align: middle;\n    }\n\n    .dataframe tbody tr th {\n        vertical-align: top;\n    }\n\n    .dataframe thead th {\n        text-align: right;\n    }\n</style>\n<table border=\"1\" class=\"dataframe\">\n  <thead>\n    <tr style=\"text-align: right;\">\n      <th></th>\n      <th>loss</th>\n      <th>categorical_accuracy</th>\n      <th>precision</th>\n      <th>recall</th>\n      <th>auc</th>\n      <th>val_loss</th>\n      <th>val_categorical_accuracy</th>\n      <th>val_precision</th>\n      <th>val_recall</th>\n      <th>val_auc</th>\n    </tr>\n  </thead>\n  <tbody>\n    <tr>\n      <th>0</th>\n      <td>0.142007</td>\n      <td>0.961139</td>\n      <td>0.967037</td>\n      <td>0.956922</td>\n      <td>0.995719</td>\n      <td>0.090825</td>\n      <td>0.983381</td>\n      <td>0.984067</td>\n      <td>0.982309</td>\n      <td>0.997690</td>\n    </tr>\n    <tr>\n      <th>1</th>\n      <td>0.068778</td>\n      <td>0.979480</td>\n      <td>0.980829</td>\n      <td>0.978200</td>\n      <td>0.998359</td>\n      <td>0.095539</td>\n      <td>0.985347</td>\n      <td>0.986750</td>\n      <td>0.984811</td>\n      <td>0.998326</td>\n    </tr>\n    <tr>\n      <th>2</th>\n      <td>0.054438</td>\n      <td>0.983880</td>\n      <td>0.984534</td>\n      <td>0.982880</td>\n      <td>0.998583</td>\n      <td>0.112594</td>\n      <td>0.985525</td>\n      <td>0.986755</td>\n      <td>0.985168</td>\n      <td>0.997913</td>\n    </tr>\n    <tr>\n      <th>3</th>\n      <td>0.042441</td>\n      <td>0.987080</td>\n      <td>0.987625</td>\n      <td>0.986440</td>\n      <td>0.998951</td>\n      <td>0.172988</td>\n      <td>0.988027</td>\n      <td>0.988557</td>\n      <td>0.988027</td>\n      <td>0.997807</td>\n    </tr>\n    <tr>\n      <th>4</th>\n      <td>0.035750</td>\n      <td>0.989680</td>\n      <td>0.990033</td>\n      <td>0.989320</td>\n      <td>0.999014</td>\n      <td>0.154362</td>\n      <td>0.989814</td>\n      <td>0.989986</td>\n      <td>0.989278</td>\n      <td>0.997786</td>\n    </tr>\n    <tr>\n      <th>5</th>\n      <td>0.032059</td>\n      <td>0.990080</td>\n      <td>0.990394</td>\n      <td>0.989760</td>\n      <td>0.999249</td>\n      <td>0.185213</td>\n      <td>0.988206</td>\n      <td>0.988907</td>\n      <td>0.987670</td>\n      <td>0.997533</td>\n    </tr>\n    <tr>\n      <th>6</th>\n      <td>0.025314</td>\n      <td>0.992360</td>\n      <td>0.992835</td>\n      <td>0.992120</td>\n      <td>0.999273</td>\n      <td>0.218878</td>\n      <td>0.986598</td>\n      <td>0.987299</td>\n      <td>0.986240</td>\n      <td>0.997257</td>\n    </tr>\n    <tr>\n      <th>7</th>\n      <td>0.025843</td>\n      <td>0.992200</td>\n      <td>0.992238</td>\n      <td>0.992040</td>\n      <td>0.999282</td>\n      <td>0.384320</td>\n      <td>0.988206</td>\n      <td>0.988204</td>\n      <td>0.988027</td>\n      <td>0.997413</td>\n    </tr>\n    <tr>\n      <th>8</th>\n      <td>0.026116</td>\n      <td>0.992480</td>\n      <td>0.992717</td>\n      <td>0.992320</td>\n      <td>0.999220</td>\n      <td>0.244035</td>\n      <td>0.988742</td>\n      <td>0.988917</td>\n      <td>0.988563</td>\n      <td>0.997590</td>\n    </tr>\n    <tr>\n      <th>9</th>\n      <td>0.023435</td>\n      <td>0.993600</td>\n      <td>0.993639</td>\n      <td>0.993440</td>\n      <td>0.999289</td>\n      <td>0.218670</td>\n      <td>0.986419</td>\n      <td>0.986769</td>\n      <td>0.986240</td>\n      <td>0.997324</td>\n    </tr>\n    <tr>\n      <th>10</th>\n      <td>0.017669</td>\n      <td>0.994760</td>\n      <td>0.994799</td>\n      <td>0.994640</td>\n      <td>0.999580</td>\n      <td>0.188526</td>\n      <td>0.986598</td>\n      <td>0.986950</td>\n      <td>0.986598</td>\n      <td>0.996679</td>\n    </tr>\n  </tbody>\n</table>\n</div>"
     },
     "metadata": {},
     "execution_count": 112
    }
   ],
   "source": [
    "history_tuned_bn = pd.DataFrame(model_tuned_bn_history.history)\n",
    "history_tuned_bn"
   ]
  },
  {
   "cell_type": "code",
   "execution_count": 113,
   "metadata": {},
   "outputs": [
    {
     "output_type": "display_data",
     "data": {
      "text/plain": "<Figure size 576x720 with 1 Axes>",
      "image/svg+xml": "<?xml version=\"1.0\" encoding=\"utf-8\" standalone=\"no\"?>\r\n<!DOCTYPE svg PUBLIC \"-//W3C//DTD SVG 1.1//EN\"\r\n  \"http://www.w3.org/Graphics/SVG/1.1/DTD/svg11.dtd\">\r\n<!-- Created with matplotlib (https://matplotlib.org/) -->\r\n<svg height=\"574.678125pt\" version=\"1.1\" viewBox=\"0 0 497.659375 574.678125\" width=\"497.659375pt\" xmlns=\"http://www.w3.org/2000/svg\" xmlns:xlink=\"http://www.w3.org/1999/xlink\">\r\n <metadata>\r\n  <rdf:RDF xmlns:cc=\"http://creativecommons.org/ns#\" xmlns:dc=\"http://purl.org/dc/elements/1.1/\" xmlns:rdf=\"http://www.w3.org/1999/02/22-rdf-syntax-ns#\">\r\n   <cc:Work>\r\n    <dc:type rdf:resource=\"http://purl.org/dc/dcmitype/StillImage\"/>\r\n    <dc:date>2021-05-29T18:14:47.546032</dc:date>\r\n    <dc:format>image/svg+xml</dc:format>\r\n    <dc:creator>\r\n     <cc:Agent>\r\n      <dc:title>Matplotlib v3.3.4, https://matplotlib.org/</dc:title>\r\n     </cc:Agent>\r\n    </dc:creator>\r\n   </cc:Work>\r\n  </rdf:RDF>\r\n </metadata>\r\n <defs>\r\n  <style type=\"text/css\">*{stroke-linecap:butt;stroke-linejoin:round;}</style>\r\n </defs>\r\n <g id=\"figure_1\">\r\n  <g id=\"patch_1\">\r\n   <path d=\"M 0 574.678125 \r\nL 497.659375 574.678125 \r\nL 497.659375 0 \r\nL 0 0 \r\nz\r\n\" style=\"fill:none;\"/>\r\n  </g>\r\n  <g id=\"axes_1\">\r\n   <g id=\"patch_2\">\r\n    <path d=\"M 44.059375 550.8 \r\nL 490.459375 550.8 \r\nL 490.459375 7.2 \r\nL 44.059375 7.2 \r\nz\r\n\" style=\"fill:#ffffff;\"/>\r\n   </g>\r\n   <g id=\"matplotlib.axis_1\">\r\n    <g id=\"xtick_1\">\r\n     <g id=\"line2d_1\">\r\n      <path clip-path=\"url(#p0b367c8974)\" d=\"M 64.350284 550.8 \r\nL 64.350284 7.2 \r\n\" style=\"fill:none;stroke:#b0b0b0;stroke-linecap:square;stroke-width:0.8;\"/>\r\n     </g>\r\n     <g id=\"line2d_2\">\r\n      <defs>\r\n       <path d=\"M 0 0 \r\nL 0 3.5 \r\n\" id=\"m2bfb942bdb\" style=\"stroke:#000000;stroke-width:0.8;\"/>\r\n      </defs>\r\n      <g>\r\n       <use style=\"stroke:#000000;stroke-width:0.8;\" x=\"64.350284\" xlink:href=\"#m2bfb942bdb\" y=\"550.8\"/>\r\n      </g>\r\n     </g>\r\n     <g id=\"text_1\">\r\n      <!-- 0 -->\r\n      <g transform=\"translate(61.169034 565.398438)scale(0.1 -0.1)\">\r\n       <defs>\r\n        <path d=\"M 31.78125 66.40625 \r\nQ 24.171875 66.40625 20.328125 58.90625 \r\nQ 16.5 51.421875 16.5 36.375 \r\nQ 16.5 21.390625 20.328125 13.890625 \r\nQ 24.171875 6.390625 31.78125 6.390625 \r\nQ 39.453125 6.390625 43.28125 13.890625 \r\nQ 47.125 21.390625 47.125 36.375 \r\nQ 47.125 51.421875 43.28125 58.90625 \r\nQ 39.453125 66.40625 31.78125 66.40625 \r\nz\r\nM 31.78125 74.21875 \r\nQ 44.046875 74.21875 50.515625 64.515625 \r\nQ 56.984375 54.828125 56.984375 36.375 \r\nQ 56.984375 17.96875 50.515625 8.265625 \r\nQ 44.046875 -1.421875 31.78125 -1.421875 \r\nQ 19.53125 -1.421875 13.0625 8.265625 \r\nQ 6.59375 17.96875 6.59375 36.375 \r\nQ 6.59375 54.828125 13.0625 64.515625 \r\nQ 19.53125 74.21875 31.78125 74.21875 \r\nz\r\n\" id=\"DejaVuSans-48\"/>\r\n       </defs>\r\n       <use xlink:href=\"#DejaVuSans-48\"/>\r\n      </g>\r\n     </g>\r\n    </g>\r\n    <g id=\"xtick_2\">\r\n     <g id=\"line2d_3\">\r\n      <path clip-path=\"url(#p0b367c8974)\" d=\"M 131.986648 550.8 \r\nL 131.986648 7.2 \r\n\" style=\"fill:none;stroke:#b0b0b0;stroke-linecap:square;stroke-width:0.8;\"/>\r\n     </g>\r\n     <g id=\"line2d_4\">\r\n      <g>\r\n       <use style=\"stroke:#000000;stroke-width:0.8;\" x=\"131.986648\" xlink:href=\"#m2bfb942bdb\" y=\"550.8\"/>\r\n      </g>\r\n     </g>\r\n     <g id=\"text_2\">\r\n      <!-- 2 -->\r\n      <g transform=\"translate(128.805398 565.398438)scale(0.1 -0.1)\">\r\n       <defs>\r\n        <path d=\"M 19.1875 8.296875 \r\nL 53.609375 8.296875 \r\nL 53.609375 0 \r\nL 7.328125 0 \r\nL 7.328125 8.296875 \r\nQ 12.9375 14.109375 22.625 23.890625 \r\nQ 32.328125 33.6875 34.8125 36.53125 \r\nQ 39.546875 41.84375 41.421875 45.53125 \r\nQ 43.3125 49.21875 43.3125 52.78125 \r\nQ 43.3125 58.59375 39.234375 62.25 \r\nQ 35.15625 65.921875 28.609375 65.921875 \r\nQ 23.96875 65.921875 18.8125 64.3125 \r\nQ 13.671875 62.703125 7.8125 59.421875 \r\nL 7.8125 69.390625 \r\nQ 13.765625 71.78125 18.9375 73 \r\nQ 24.125 74.21875 28.421875 74.21875 \r\nQ 39.75 74.21875 46.484375 68.546875 \r\nQ 53.21875 62.890625 53.21875 53.421875 \r\nQ 53.21875 48.921875 51.53125 44.890625 \r\nQ 49.859375 40.875 45.40625 35.40625 \r\nQ 44.1875 33.984375 37.640625 27.21875 \r\nQ 31.109375 20.453125 19.1875 8.296875 \r\nz\r\n\" id=\"DejaVuSans-50\"/>\r\n       </defs>\r\n       <use xlink:href=\"#DejaVuSans-50\"/>\r\n      </g>\r\n     </g>\r\n    </g>\r\n    <g id=\"xtick_3\">\r\n     <g id=\"line2d_5\">\r\n      <path clip-path=\"url(#p0b367c8974)\" d=\"M 199.623011 550.8 \r\nL 199.623011 7.2 \r\n\" style=\"fill:none;stroke:#b0b0b0;stroke-linecap:square;stroke-width:0.8;\"/>\r\n     </g>\r\n     <g id=\"line2d_6\">\r\n      <g>\r\n       <use style=\"stroke:#000000;stroke-width:0.8;\" x=\"199.623011\" xlink:href=\"#m2bfb942bdb\" y=\"550.8\"/>\r\n      </g>\r\n     </g>\r\n     <g id=\"text_3\">\r\n      <!-- 4 -->\r\n      <g transform=\"translate(196.441761 565.398438)scale(0.1 -0.1)\">\r\n       <defs>\r\n        <path d=\"M 37.796875 64.3125 \r\nL 12.890625 25.390625 \r\nL 37.796875 25.390625 \r\nz\r\nM 35.203125 72.90625 \r\nL 47.609375 72.90625 \r\nL 47.609375 25.390625 \r\nL 58.015625 25.390625 \r\nL 58.015625 17.1875 \r\nL 47.609375 17.1875 \r\nL 47.609375 0 \r\nL 37.796875 0 \r\nL 37.796875 17.1875 \r\nL 4.890625 17.1875 \r\nL 4.890625 26.703125 \r\nz\r\n\" id=\"DejaVuSans-52\"/>\r\n       </defs>\r\n       <use xlink:href=\"#DejaVuSans-52\"/>\r\n      </g>\r\n     </g>\r\n    </g>\r\n    <g id=\"xtick_4\">\r\n     <g id=\"line2d_7\">\r\n      <path clip-path=\"url(#p0b367c8974)\" d=\"M 267.259375 550.8 \r\nL 267.259375 7.2 \r\n\" style=\"fill:none;stroke:#b0b0b0;stroke-linecap:square;stroke-width:0.8;\"/>\r\n     </g>\r\n     <g id=\"line2d_8\">\r\n      <g>\r\n       <use style=\"stroke:#000000;stroke-width:0.8;\" x=\"267.259375\" xlink:href=\"#m2bfb942bdb\" y=\"550.8\"/>\r\n      </g>\r\n     </g>\r\n     <g id=\"text_4\">\r\n      <!-- 6 -->\r\n      <g transform=\"translate(264.078125 565.398438)scale(0.1 -0.1)\">\r\n       <defs>\r\n        <path d=\"M 33.015625 40.375 \r\nQ 26.375 40.375 22.484375 35.828125 \r\nQ 18.609375 31.296875 18.609375 23.390625 \r\nQ 18.609375 15.53125 22.484375 10.953125 \r\nQ 26.375 6.390625 33.015625 6.390625 \r\nQ 39.65625 6.390625 43.53125 10.953125 \r\nQ 47.40625 15.53125 47.40625 23.390625 \r\nQ 47.40625 31.296875 43.53125 35.828125 \r\nQ 39.65625 40.375 33.015625 40.375 \r\nz\r\nM 52.59375 71.296875 \r\nL 52.59375 62.3125 \r\nQ 48.875 64.0625 45.09375 64.984375 \r\nQ 41.3125 65.921875 37.59375 65.921875 \r\nQ 27.828125 65.921875 22.671875 59.328125 \r\nQ 17.53125 52.734375 16.796875 39.40625 \r\nQ 19.671875 43.65625 24.015625 45.921875 \r\nQ 28.375 48.1875 33.59375 48.1875 \r\nQ 44.578125 48.1875 50.953125 41.515625 \r\nQ 57.328125 34.859375 57.328125 23.390625 \r\nQ 57.328125 12.15625 50.6875 5.359375 \r\nQ 44.046875 -1.421875 33.015625 -1.421875 \r\nQ 20.359375 -1.421875 13.671875 8.265625 \r\nQ 6.984375 17.96875 6.984375 36.375 \r\nQ 6.984375 53.65625 15.1875 63.9375 \r\nQ 23.390625 74.21875 37.203125 74.21875 \r\nQ 40.921875 74.21875 44.703125 73.484375 \r\nQ 48.484375 72.75 52.59375 71.296875 \r\nz\r\n\" id=\"DejaVuSans-54\"/>\r\n       </defs>\r\n       <use xlink:href=\"#DejaVuSans-54\"/>\r\n      </g>\r\n     </g>\r\n    </g>\r\n    <g id=\"xtick_5\">\r\n     <g id=\"line2d_9\">\r\n      <path clip-path=\"url(#p0b367c8974)\" d=\"M 334.895739 550.8 \r\nL 334.895739 7.2 \r\n\" style=\"fill:none;stroke:#b0b0b0;stroke-linecap:square;stroke-width:0.8;\"/>\r\n     </g>\r\n     <g id=\"line2d_10\">\r\n      <g>\r\n       <use style=\"stroke:#000000;stroke-width:0.8;\" x=\"334.895739\" xlink:href=\"#m2bfb942bdb\" y=\"550.8\"/>\r\n      </g>\r\n     </g>\r\n     <g id=\"text_5\">\r\n      <!-- 8 -->\r\n      <g transform=\"translate(331.714489 565.398438)scale(0.1 -0.1)\">\r\n       <defs>\r\n        <path d=\"M 31.78125 34.625 \r\nQ 24.75 34.625 20.71875 30.859375 \r\nQ 16.703125 27.09375 16.703125 20.515625 \r\nQ 16.703125 13.921875 20.71875 10.15625 \r\nQ 24.75 6.390625 31.78125 6.390625 \r\nQ 38.8125 6.390625 42.859375 10.171875 \r\nQ 46.921875 13.96875 46.921875 20.515625 \r\nQ 46.921875 27.09375 42.890625 30.859375 \r\nQ 38.875 34.625 31.78125 34.625 \r\nz\r\nM 21.921875 38.8125 \r\nQ 15.578125 40.375 12.03125 44.71875 \r\nQ 8.5 49.078125 8.5 55.328125 \r\nQ 8.5 64.0625 14.71875 69.140625 \r\nQ 20.953125 74.21875 31.78125 74.21875 \r\nQ 42.671875 74.21875 48.875 69.140625 \r\nQ 55.078125 64.0625 55.078125 55.328125 \r\nQ 55.078125 49.078125 51.53125 44.71875 \r\nQ 48 40.375 41.703125 38.8125 \r\nQ 48.828125 37.15625 52.796875 32.3125 \r\nQ 56.78125 27.484375 56.78125 20.515625 \r\nQ 56.78125 9.90625 50.3125 4.234375 \r\nQ 43.84375 -1.421875 31.78125 -1.421875 \r\nQ 19.734375 -1.421875 13.25 4.234375 \r\nQ 6.78125 9.90625 6.78125 20.515625 \r\nQ 6.78125 27.484375 10.78125 32.3125 \r\nQ 14.796875 37.15625 21.921875 38.8125 \r\nz\r\nM 18.3125 54.390625 \r\nQ 18.3125 48.734375 21.84375 45.5625 \r\nQ 25.390625 42.390625 31.78125 42.390625 \r\nQ 38.140625 42.390625 41.71875 45.5625 \r\nQ 45.3125 48.734375 45.3125 54.390625 \r\nQ 45.3125 60.0625 41.71875 63.234375 \r\nQ 38.140625 66.40625 31.78125 66.40625 \r\nQ 25.390625 66.40625 21.84375 63.234375 \r\nQ 18.3125 60.0625 18.3125 54.390625 \r\nz\r\n\" id=\"DejaVuSans-56\"/>\r\n       </defs>\r\n       <use xlink:href=\"#DejaVuSans-56\"/>\r\n      </g>\r\n     </g>\r\n    </g>\r\n    <g id=\"xtick_6\">\r\n     <g id=\"line2d_11\">\r\n      <path clip-path=\"url(#p0b367c8974)\" d=\"M 402.532102 550.8 \r\nL 402.532102 7.2 \r\n\" style=\"fill:none;stroke:#b0b0b0;stroke-linecap:square;stroke-width:0.8;\"/>\r\n     </g>\r\n     <g id=\"line2d_12\">\r\n      <g>\r\n       <use style=\"stroke:#000000;stroke-width:0.8;\" x=\"402.532102\" xlink:href=\"#m2bfb942bdb\" y=\"550.8\"/>\r\n      </g>\r\n     </g>\r\n     <g id=\"text_6\">\r\n      <!-- 10 -->\r\n      <g transform=\"translate(396.169602 565.398438)scale(0.1 -0.1)\">\r\n       <defs>\r\n        <path d=\"M 12.40625 8.296875 \r\nL 28.515625 8.296875 \r\nL 28.515625 63.921875 \r\nL 10.984375 60.40625 \r\nL 10.984375 69.390625 \r\nL 28.421875 72.90625 \r\nL 38.28125 72.90625 \r\nL 38.28125 8.296875 \r\nL 54.390625 8.296875 \r\nL 54.390625 0 \r\nL 12.40625 0 \r\nz\r\n\" id=\"DejaVuSans-49\"/>\r\n       </defs>\r\n       <use xlink:href=\"#DejaVuSans-49\"/>\r\n       <use x=\"63.623047\" xlink:href=\"#DejaVuSans-48\"/>\r\n      </g>\r\n     </g>\r\n    </g>\r\n    <g id=\"xtick_7\">\r\n     <g id=\"line2d_13\">\r\n      <path clip-path=\"url(#p0b367c8974)\" d=\"M 470.168466 550.8 \r\nL 470.168466 7.2 \r\n\" style=\"fill:none;stroke:#b0b0b0;stroke-linecap:square;stroke-width:0.8;\"/>\r\n     </g>\r\n     <g id=\"line2d_14\">\r\n      <g>\r\n       <use style=\"stroke:#000000;stroke-width:0.8;\" x=\"470.168466\" xlink:href=\"#m2bfb942bdb\" y=\"550.8\"/>\r\n      </g>\r\n     </g>\r\n     <g id=\"text_7\">\r\n      <!-- 12 -->\r\n      <g transform=\"translate(463.805966 565.398438)scale(0.1 -0.1)\">\r\n       <use xlink:href=\"#DejaVuSans-49\"/>\r\n       <use x=\"63.623047\" xlink:href=\"#DejaVuSans-50\"/>\r\n      </g>\r\n     </g>\r\n    </g>\r\n   </g>\r\n   <g id=\"matplotlib.axis_2\">\r\n    <g id=\"ytick_1\">\r\n     <g id=\"line2d_15\">\r\n      <path clip-path=\"url(#p0b367c8974)\" d=\"M 44.059375 466.076392 \r\nL 490.459375 466.076392 \r\n\" style=\"fill:none;stroke:#b0b0b0;stroke-linecap:square;stroke-width:0.8;\"/>\r\n     </g>\r\n     <g id=\"line2d_16\">\r\n      <defs>\r\n       <path d=\"M 0 0 \r\nL -3.5 0 \r\n\" id=\"mcb437bbd67\" style=\"stroke:#000000;stroke-width:0.8;\"/>\r\n      </defs>\r\n      <g>\r\n       <use style=\"stroke:#000000;stroke-width:0.8;\" x=\"44.059375\" xlink:href=\"#mcb437bbd67\" y=\"466.076392\"/>\r\n      </g>\r\n     </g>\r\n     <g id=\"text_8\">\r\n      <!-- 0.2 -->\r\n      <g transform=\"translate(21.15625 469.87561)scale(0.1 -0.1)\">\r\n       <defs>\r\n        <path d=\"M 10.6875 12.40625 \r\nL 21 12.40625 \r\nL 21 0 \r\nL 10.6875 0 \r\nz\r\n\" id=\"DejaVuSans-46\"/>\r\n       </defs>\r\n       <use xlink:href=\"#DejaVuSans-48\"/>\r\n       <use x=\"63.623047\" xlink:href=\"#DejaVuSans-46\"/>\r\n       <use x=\"95.410156\" xlink:href=\"#DejaVuSans-50\"/>\r\n      </g>\r\n     </g>\r\n    </g>\r\n    <g id=\"ytick_2\">\r\n     <g id=\"line2d_17\">\r\n      <path clip-path=\"url(#p0b367c8974)\" d=\"M 44.059375 356.134757 \r\nL 490.459375 356.134757 \r\n\" style=\"fill:none;stroke:#b0b0b0;stroke-linecap:square;stroke-width:0.8;\"/>\r\n     </g>\r\n     <g id=\"line2d_18\">\r\n      <g>\r\n       <use style=\"stroke:#000000;stroke-width:0.8;\" x=\"44.059375\" xlink:href=\"#mcb437bbd67\" y=\"356.134757\"/>\r\n      </g>\r\n     </g>\r\n     <g id=\"text_9\">\r\n      <!-- 0.4 -->\r\n      <g transform=\"translate(21.15625 359.933976)scale(0.1 -0.1)\">\r\n       <use xlink:href=\"#DejaVuSans-48\"/>\r\n       <use x=\"63.623047\" xlink:href=\"#DejaVuSans-46\"/>\r\n       <use x=\"95.410156\" xlink:href=\"#DejaVuSans-52\"/>\r\n      </g>\r\n     </g>\r\n    </g>\r\n    <g id=\"ytick_3\">\r\n     <g id=\"line2d_19\">\r\n      <path clip-path=\"url(#p0b367c8974)\" d=\"M 44.059375 246.193122 \r\nL 490.459375 246.193122 \r\n\" style=\"fill:none;stroke:#b0b0b0;stroke-linecap:square;stroke-width:0.8;\"/>\r\n     </g>\r\n     <g id=\"line2d_20\">\r\n      <g>\r\n       <use style=\"stroke:#000000;stroke-width:0.8;\" x=\"44.059375\" xlink:href=\"#mcb437bbd67\" y=\"246.193122\"/>\r\n      </g>\r\n     </g>\r\n     <g id=\"text_10\">\r\n      <!-- 0.6 -->\r\n      <g transform=\"translate(21.15625 249.992341)scale(0.1 -0.1)\">\r\n       <use xlink:href=\"#DejaVuSans-48\"/>\r\n       <use x=\"63.623047\" xlink:href=\"#DejaVuSans-46\"/>\r\n       <use x=\"95.410156\" xlink:href=\"#DejaVuSans-54\"/>\r\n      </g>\r\n     </g>\r\n    </g>\r\n    <g id=\"ytick_4\">\r\n     <g id=\"line2d_21\">\r\n      <path clip-path=\"url(#p0b367c8974)\" d=\"M 44.059375 136.251487 \r\nL 490.459375 136.251487 \r\n\" style=\"fill:none;stroke:#b0b0b0;stroke-linecap:square;stroke-width:0.8;\"/>\r\n     </g>\r\n     <g id=\"line2d_22\">\r\n      <g>\r\n       <use style=\"stroke:#000000;stroke-width:0.8;\" x=\"44.059375\" xlink:href=\"#mcb437bbd67\" y=\"136.251487\"/>\r\n      </g>\r\n     </g>\r\n     <g id=\"text_11\">\r\n      <!-- 0.8 -->\r\n      <g transform=\"translate(21.15625 140.050706)scale(0.1 -0.1)\">\r\n       <use xlink:href=\"#DejaVuSans-48\"/>\r\n       <use x=\"63.623047\" xlink:href=\"#DejaVuSans-46\"/>\r\n       <use x=\"95.410156\" xlink:href=\"#DejaVuSans-56\"/>\r\n      </g>\r\n     </g>\r\n    </g>\r\n    <g id=\"ytick_5\">\r\n     <g id=\"line2d_23\">\r\n      <path clip-path=\"url(#p0b367c8974)\" d=\"M 44.059375 26.309853 \r\nL 490.459375 26.309853 \r\n\" style=\"fill:none;stroke:#b0b0b0;stroke-linecap:square;stroke-width:0.8;\"/>\r\n     </g>\r\n     <g id=\"line2d_24\">\r\n      <g>\r\n       <use style=\"stroke:#000000;stroke-width:0.8;\" x=\"44.059375\" xlink:href=\"#mcb437bbd67\" y=\"26.309853\"/>\r\n      </g>\r\n     </g>\r\n     <g id=\"text_12\">\r\n      <!-- 1.0 -->\r\n      <g transform=\"translate(21.15625 30.109071)scale(0.1 -0.1)\">\r\n       <use xlink:href=\"#DejaVuSans-49\"/>\r\n       <use x=\"63.623047\" xlink:href=\"#DejaVuSans-46\"/>\r\n       <use x=\"95.410156\" xlink:href=\"#DejaVuSans-48\"/>\r\n      </g>\r\n     </g>\r\n    </g>\r\n    <g id=\"text_13\">\r\n     <!-- val_loss -->\r\n     <g transform=\"translate(14.798438 298.570312)rotate(-90)scale(0.1 -0.1)\">\r\n      <defs>\r\n       <path d=\"M 2.984375 54.6875 \r\nL 12.5 54.6875 \r\nL 29.59375 8.796875 \r\nL 46.6875 54.6875 \r\nL 56.203125 54.6875 \r\nL 35.6875 0 \r\nL 23.484375 0 \r\nz\r\n\" id=\"DejaVuSans-118\"/>\r\n       <path d=\"M 34.28125 27.484375 \r\nQ 23.390625 27.484375 19.1875 25 \r\nQ 14.984375 22.515625 14.984375 16.5 \r\nQ 14.984375 11.71875 18.140625 8.90625 \r\nQ 21.296875 6.109375 26.703125 6.109375 \r\nQ 34.1875 6.109375 38.703125 11.40625 \r\nQ 43.21875 16.703125 43.21875 25.484375 \r\nL 43.21875 27.484375 \r\nz\r\nM 52.203125 31.203125 \r\nL 52.203125 0 \r\nL 43.21875 0 \r\nL 43.21875 8.296875 \r\nQ 40.140625 3.328125 35.546875 0.953125 \r\nQ 30.953125 -1.421875 24.3125 -1.421875 \r\nQ 15.921875 -1.421875 10.953125 3.296875 \r\nQ 6 8.015625 6 15.921875 \r\nQ 6 25.140625 12.171875 29.828125 \r\nQ 18.359375 34.515625 30.609375 34.515625 \r\nL 43.21875 34.515625 \r\nL 43.21875 35.40625 \r\nQ 43.21875 41.609375 39.140625 45 \r\nQ 35.0625 48.390625 27.6875 48.390625 \r\nQ 23 48.390625 18.546875 47.265625 \r\nQ 14.109375 46.140625 10.015625 43.890625 \r\nL 10.015625 52.203125 \r\nQ 14.9375 54.109375 19.578125 55.046875 \r\nQ 24.21875 56 28.609375 56 \r\nQ 40.484375 56 46.34375 49.84375 \r\nQ 52.203125 43.703125 52.203125 31.203125 \r\nz\r\n\" id=\"DejaVuSans-97\"/>\r\n       <path d=\"M 9.421875 75.984375 \r\nL 18.40625 75.984375 \r\nL 18.40625 0 \r\nL 9.421875 0 \r\nz\r\n\" id=\"DejaVuSans-108\"/>\r\n       <path d=\"M 50.984375 -16.609375 \r\nL 50.984375 -23.578125 \r\nL -0.984375 -23.578125 \r\nL -0.984375 -16.609375 \r\nz\r\n\" id=\"DejaVuSans-95\"/>\r\n       <path d=\"M 30.609375 48.390625 \r\nQ 23.390625 48.390625 19.1875 42.75 \r\nQ 14.984375 37.109375 14.984375 27.296875 \r\nQ 14.984375 17.484375 19.15625 11.84375 \r\nQ 23.34375 6.203125 30.609375 6.203125 \r\nQ 37.796875 6.203125 41.984375 11.859375 \r\nQ 46.1875 17.53125 46.1875 27.296875 \r\nQ 46.1875 37.015625 41.984375 42.703125 \r\nQ 37.796875 48.390625 30.609375 48.390625 \r\nz\r\nM 30.609375 56 \r\nQ 42.328125 56 49.015625 48.375 \r\nQ 55.71875 40.765625 55.71875 27.296875 \r\nQ 55.71875 13.875 49.015625 6.21875 \r\nQ 42.328125 -1.421875 30.609375 -1.421875 \r\nQ 18.84375 -1.421875 12.171875 6.21875 \r\nQ 5.515625 13.875 5.515625 27.296875 \r\nQ 5.515625 40.765625 12.171875 48.375 \r\nQ 18.84375 56 30.609375 56 \r\nz\r\n\" id=\"DejaVuSans-111\"/>\r\n       <path d=\"M 44.28125 53.078125 \r\nL 44.28125 44.578125 \r\nQ 40.484375 46.53125 36.375 47.5 \r\nQ 32.28125 48.484375 27.875 48.484375 \r\nQ 21.1875 48.484375 17.84375 46.4375 \r\nQ 14.5 44.390625 14.5 40.28125 \r\nQ 14.5 37.15625 16.890625 35.375 \r\nQ 19.28125 33.59375 26.515625 31.984375 \r\nL 29.59375 31.296875 \r\nQ 39.15625 29.25 43.1875 25.515625 \r\nQ 47.21875 21.78125 47.21875 15.09375 \r\nQ 47.21875 7.46875 41.1875 3.015625 \r\nQ 35.15625 -1.421875 24.609375 -1.421875 \r\nQ 20.21875 -1.421875 15.453125 -0.5625 \r\nQ 10.6875 0.296875 5.421875 2 \r\nL 5.421875 11.28125 \r\nQ 10.40625 8.6875 15.234375 7.390625 \r\nQ 20.0625 6.109375 24.8125 6.109375 \r\nQ 31.15625 6.109375 34.5625 8.28125 \r\nQ 37.984375 10.453125 37.984375 14.40625 \r\nQ 37.984375 18.0625 35.515625 20.015625 \r\nQ 33.0625 21.96875 24.703125 23.78125 \r\nL 21.578125 24.515625 \r\nQ 13.234375 26.265625 9.515625 29.90625 \r\nQ 5.8125 33.546875 5.8125 39.890625 \r\nQ 5.8125 47.609375 11.28125 51.796875 \r\nQ 16.75 56 26.8125 56 \r\nQ 31.78125 56 36.171875 55.265625 \r\nQ 40.578125 54.546875 44.28125 53.078125 \r\nz\r\n\" id=\"DejaVuSans-115\"/>\r\n      </defs>\r\n      <use xlink:href=\"#DejaVuSans-118\"/>\r\n      <use x=\"59.179688\" xlink:href=\"#DejaVuSans-97\"/>\r\n      <use x=\"120.458984\" xlink:href=\"#DejaVuSans-108\"/>\r\n      <use x=\"148.242188\" xlink:href=\"#DejaVuSans-95\"/>\r\n      <use x=\"198.242188\" xlink:href=\"#DejaVuSans-108\"/>\r\n      <use x=\"226.025391\" xlink:href=\"#DejaVuSans-111\"/>\r\n      <use x=\"287.207031\" xlink:href=\"#DejaVuSans-115\"/>\r\n      <use x=\"339.306641\" xlink:href=\"#DejaVuSans-115\"/>\r\n     </g>\r\n    </g>\r\n   </g>\r\n   <g id=\"line2d_25\">\r\n    <path clip-path=\"url(#p0b367c8974)\" d=\"M 64.350284 186.231653 \r\nL 98.168466 453.877225 \r\nL 131.986648 507.873676 \r\nL 165.80483 388.503996 \r\nL 199.623011 453.613981 \r\nL 233.441193 476.484931 \r\nL 267.259375 473.047366 \r\nL 301.077557 479.303669 \r\nL 334.895739 471.003869 \r\nL 368.71392 453.465391 \r\nL 402.532102 480.732959 \r\nL 436.350284 388.793362 \r\nL 470.168466 486.418271 \r\n\" style=\"fill:none;stroke:#1f77b4;stroke-linecap:square;stroke-width:1.5;\"/>\r\n   </g>\r\n   <g id=\"line2d_26\">\r\n    <path clip-path=\"url(#p0b367c8974)\" d=\"M 64.350284 55.091916 \r\nL 98.168466 41.339396 \r\nL 131.986648 37.410099 \r\nL 165.80483 46.349254 \r\nL 199.623011 38.294202 \r\nL 233.441193 35.936617 \r\nL 267.259375 36.62426 \r\nL 301.077557 34.856055 \r\nL 334.895739 34.266675 \r\nL 368.71392 36.034847 \r\nL 402.532102 33.677263 \r\nL 436.350284 33.971985 \r\nL 470.168466 35.150778 \r\n\" style=\"fill:none;stroke:#ff7f0e;stroke-linecap:square;stroke-width:1.5;\"/>\r\n   </g>\r\n   <g id=\"line2d_27\">\r\n    <path clip-path=\"url(#p0b367c8974)\" d=\"M 64.350284 526.090909 \r\nL 98.168466 523.499357 \r\nL 131.986648 514.124253 \r\nL 165.80483 480.925102 \r\nL 199.623011 491.163756 \r\nL 233.441193 474.205 \r\nL 267.259375 455.69923 \r\nL 301.077557 364.754432 \r\nL 334.895739 441.86976 \r\nL 368.71392 455.81308 \r\nL 402.532102 472.383954 \r\n\" style=\"fill:none;stroke:#2ca02c;stroke-linecap:square;stroke-width:1.5;\"/>\r\n   </g>\r\n   <g id=\"line2d_28\">\r\n    <path clip-path=\"url(#p0b367c8974)\" d=\"M 64.350284 35.445467 \r\nL 98.168466 34.364905 \r\nL 131.986648 34.266675 \r\nL 165.80483 32.891423 \r\nL 199.623011 31.909091 \r\nL 233.441193 32.793193 \r\nL 267.259375 33.677263 \r\nL 301.077557 32.793193 \r\nL 334.895739 32.498503 \r\nL 368.71392 33.775526 \r\nL 402.532102 33.677263 \r\n\" style=\"fill:none;stroke:#d62728;stroke-linecap:square;stroke-width:1.5;\"/>\r\n   </g>\r\n   <g id=\"patch_3\">\r\n    <path d=\"M 44.059375 550.8 \r\nL 44.059375 7.2 \r\n\" style=\"fill:none;stroke:#000000;stroke-linecap:square;stroke-linejoin:miter;stroke-width:0.8;\"/>\r\n   </g>\r\n   <g id=\"patch_4\">\r\n    <path d=\"M 490.459375 550.8 \r\nL 490.459375 7.2 \r\n\" style=\"fill:none;stroke:#000000;stroke-linecap:square;stroke-linejoin:miter;stroke-width:0.8;\"/>\r\n   </g>\r\n   <g id=\"patch_5\">\r\n    <path d=\"M 44.059375 550.8 \r\nL 490.459375 550.8 \r\n\" style=\"fill:none;stroke:#000000;stroke-linecap:square;stroke-linejoin:miter;stroke-width:0.8;\"/>\r\n   </g>\r\n   <g id=\"patch_6\">\r\n    <path d=\"M 44.059375 7.2 \r\nL 490.459375 7.2 \r\n\" style=\"fill:none;stroke:#000000;stroke-linecap:square;stroke-linejoin:miter;stroke-width:0.8;\"/>\r\n   </g>\r\n   <g id=\"legend_1\">\r\n    <g id=\"patch_7\">\r\n     <path d=\"M 359.445312 309.85625 \r\nL 483.459375 309.85625 \r\nQ 485.459375 309.85625 485.459375 307.85625 \r\nL 485.459375 250.14375 \r\nQ 485.459375 248.14375 483.459375 248.14375 \r\nL 359.445312 248.14375 \r\nQ 357.445312 248.14375 357.445312 250.14375 \r\nL 357.445312 307.85625 \r\nQ 357.445312 309.85625 359.445312 309.85625 \r\nz\r\n\" style=\"fill:#ffffff;opacity:0.8;stroke:#cccccc;stroke-linejoin:miter;\"/>\r\n    </g>\r\n    <g id=\"line2d_29\">\r\n     <path d=\"M 361.445312 256.242188 \r\nL 381.445312 256.242188 \r\n\" style=\"fill:none;stroke:#1f77b4;stroke-linecap:square;stroke-width:1.5;\"/>\r\n    </g>\r\n    <g id=\"line2d_30\"/>\r\n    <g id=\"text_14\">\r\n     <!-- Validation Loss -->\r\n     <g transform=\"translate(389.445312 259.742188)scale(0.1 -0.1)\">\r\n      <defs>\r\n       <path d=\"M 28.609375 0 \r\nL 0.78125 72.90625 \r\nL 11.078125 72.90625 \r\nL 34.1875 11.53125 \r\nL 57.328125 72.90625 \r\nL 67.578125 72.90625 \r\nL 39.796875 0 \r\nz\r\n\" id=\"DejaVuSans-86\"/>\r\n       <path d=\"M 9.421875 54.6875 \r\nL 18.40625 54.6875 \r\nL 18.40625 0 \r\nL 9.421875 0 \r\nz\r\nM 9.421875 75.984375 \r\nL 18.40625 75.984375 \r\nL 18.40625 64.59375 \r\nL 9.421875 64.59375 \r\nz\r\n\" id=\"DejaVuSans-105\"/>\r\n       <path d=\"M 45.40625 46.390625 \r\nL 45.40625 75.984375 \r\nL 54.390625 75.984375 \r\nL 54.390625 0 \r\nL 45.40625 0 \r\nL 45.40625 8.203125 \r\nQ 42.578125 3.328125 38.25 0.953125 \r\nQ 33.9375 -1.421875 27.875 -1.421875 \r\nQ 17.96875 -1.421875 11.734375 6.484375 \r\nQ 5.515625 14.40625 5.515625 27.296875 \r\nQ 5.515625 40.1875 11.734375 48.09375 \r\nQ 17.96875 56 27.875 56 \r\nQ 33.9375 56 38.25 53.625 \r\nQ 42.578125 51.265625 45.40625 46.390625 \r\nz\r\nM 14.796875 27.296875 \r\nQ 14.796875 17.390625 18.875 11.75 \r\nQ 22.953125 6.109375 30.078125 6.109375 \r\nQ 37.203125 6.109375 41.296875 11.75 \r\nQ 45.40625 17.390625 45.40625 27.296875 \r\nQ 45.40625 37.203125 41.296875 42.84375 \r\nQ 37.203125 48.484375 30.078125 48.484375 \r\nQ 22.953125 48.484375 18.875 42.84375 \r\nQ 14.796875 37.203125 14.796875 27.296875 \r\nz\r\n\" id=\"DejaVuSans-100\"/>\r\n       <path d=\"M 18.3125 70.21875 \r\nL 18.3125 54.6875 \r\nL 36.8125 54.6875 \r\nL 36.8125 47.703125 \r\nL 18.3125 47.703125 \r\nL 18.3125 18.015625 \r\nQ 18.3125 11.328125 20.140625 9.421875 \r\nQ 21.96875 7.515625 27.59375 7.515625 \r\nL 36.8125 7.515625 \r\nL 36.8125 0 \r\nL 27.59375 0 \r\nQ 17.1875 0 13.234375 3.875 \r\nQ 9.28125 7.765625 9.28125 18.015625 \r\nL 9.28125 47.703125 \r\nL 2.6875 47.703125 \r\nL 2.6875 54.6875 \r\nL 9.28125 54.6875 \r\nL 9.28125 70.21875 \r\nz\r\n\" id=\"DejaVuSans-116\"/>\r\n       <path d=\"M 54.890625 33.015625 \r\nL 54.890625 0 \r\nL 45.90625 0 \r\nL 45.90625 32.71875 \r\nQ 45.90625 40.484375 42.875 44.328125 \r\nQ 39.84375 48.1875 33.796875 48.1875 \r\nQ 26.515625 48.1875 22.3125 43.546875 \r\nQ 18.109375 38.921875 18.109375 30.90625 \r\nL 18.109375 0 \r\nL 9.078125 0 \r\nL 9.078125 54.6875 \r\nL 18.109375 54.6875 \r\nL 18.109375 46.1875 \r\nQ 21.34375 51.125 25.703125 53.5625 \r\nQ 30.078125 56 35.796875 56 \r\nQ 45.21875 56 50.046875 50.171875 \r\nQ 54.890625 44.34375 54.890625 33.015625 \r\nz\r\n\" id=\"DejaVuSans-110\"/>\r\n       <path id=\"DejaVuSans-32\"/>\r\n       <path d=\"M 9.8125 72.90625 \r\nL 19.671875 72.90625 \r\nL 19.671875 8.296875 \r\nL 55.171875 8.296875 \r\nL 55.171875 0 \r\nL 9.8125 0 \r\nz\r\n\" id=\"DejaVuSans-76\"/>\r\n      </defs>\r\n      <use xlink:href=\"#DejaVuSans-86\"/>\r\n      <use x=\"60.658203\" xlink:href=\"#DejaVuSans-97\"/>\r\n      <use x=\"121.9375\" xlink:href=\"#DejaVuSans-108\"/>\r\n      <use x=\"149.720703\" xlink:href=\"#DejaVuSans-105\"/>\r\n      <use x=\"177.503906\" xlink:href=\"#DejaVuSans-100\"/>\r\n      <use x=\"240.980469\" xlink:href=\"#DejaVuSans-97\"/>\r\n      <use x=\"302.259766\" xlink:href=\"#DejaVuSans-116\"/>\r\n      <use x=\"341.46875\" xlink:href=\"#DejaVuSans-105\"/>\r\n      <use x=\"369.251953\" xlink:href=\"#DejaVuSans-111\"/>\r\n      <use x=\"430.433594\" xlink:href=\"#DejaVuSans-110\"/>\r\n      <use x=\"493.8125\" xlink:href=\"#DejaVuSans-32\"/>\r\n      <use x=\"525.599609\" xlink:href=\"#DejaVuSans-76\"/>\r\n      <use x=\"579.5625\" xlink:href=\"#DejaVuSans-111\"/>\r\n      <use x=\"640.744141\" xlink:href=\"#DejaVuSans-115\"/>\r\n      <use x=\"692.84375\" xlink:href=\"#DejaVuSans-115\"/>\r\n     </g>\r\n    </g>\r\n    <g id=\"line2d_31\">\r\n     <path d=\"M 361.445312 270.920313 \r\nL 381.445312 270.920313 \r\n\" style=\"fill:none;stroke:#ff7f0e;stroke-linecap:square;stroke-width:1.5;\"/>\r\n    </g>\r\n    <g id=\"line2d_32\"/>\r\n    <g id=\"text_15\">\r\n     <!-- Cat. Accuracy -->\r\n     <g transform=\"translate(389.445312 274.420313)scale(0.1 -0.1)\">\r\n      <defs>\r\n       <path d=\"M 64.40625 67.28125 \r\nL 64.40625 56.890625 \r\nQ 59.421875 61.53125 53.78125 63.8125 \r\nQ 48.140625 66.109375 41.796875 66.109375 \r\nQ 29.296875 66.109375 22.65625 58.46875 \r\nQ 16.015625 50.828125 16.015625 36.375 \r\nQ 16.015625 21.96875 22.65625 14.328125 \r\nQ 29.296875 6.6875 41.796875 6.6875 \r\nQ 48.140625 6.6875 53.78125 8.984375 \r\nQ 59.421875 11.28125 64.40625 15.921875 \r\nL 64.40625 5.609375 \r\nQ 59.234375 2.09375 53.4375 0.328125 \r\nQ 47.65625 -1.421875 41.21875 -1.421875 \r\nQ 24.65625 -1.421875 15.125 8.703125 \r\nQ 5.609375 18.84375 5.609375 36.375 \r\nQ 5.609375 53.953125 15.125 64.078125 \r\nQ 24.65625 74.21875 41.21875 74.21875 \r\nQ 47.75 74.21875 53.53125 72.484375 \r\nQ 59.328125 70.75 64.40625 67.28125 \r\nz\r\n\" id=\"DejaVuSans-67\"/>\r\n       <path d=\"M 34.1875 63.1875 \r\nL 20.796875 26.90625 \r\nL 47.609375 26.90625 \r\nz\r\nM 28.609375 72.90625 \r\nL 39.796875 72.90625 \r\nL 67.578125 0 \r\nL 57.328125 0 \r\nL 50.6875 18.703125 \r\nL 17.828125 18.703125 \r\nL 11.1875 0 \r\nL 0.78125 0 \r\nz\r\n\" id=\"DejaVuSans-65\"/>\r\n       <path d=\"M 48.78125 52.59375 \r\nL 48.78125 44.1875 \r\nQ 44.96875 46.296875 41.140625 47.34375 \r\nQ 37.3125 48.390625 33.40625 48.390625 \r\nQ 24.65625 48.390625 19.8125 42.84375 \r\nQ 14.984375 37.3125 14.984375 27.296875 \r\nQ 14.984375 17.28125 19.8125 11.734375 \r\nQ 24.65625 6.203125 33.40625 6.203125 \r\nQ 37.3125 6.203125 41.140625 7.25 \r\nQ 44.96875 8.296875 48.78125 10.40625 \r\nL 48.78125 2.09375 \r\nQ 45.015625 0.34375 40.984375 -0.53125 \r\nQ 36.96875 -1.421875 32.421875 -1.421875 \r\nQ 20.0625 -1.421875 12.78125 6.34375 \r\nQ 5.515625 14.109375 5.515625 27.296875 \r\nQ 5.515625 40.671875 12.859375 48.328125 \r\nQ 20.21875 56 33.015625 56 \r\nQ 37.15625 56 41.109375 55.140625 \r\nQ 45.0625 54.296875 48.78125 52.59375 \r\nz\r\n\" id=\"DejaVuSans-99\"/>\r\n       <path d=\"M 8.5 21.578125 \r\nL 8.5 54.6875 \r\nL 17.484375 54.6875 \r\nL 17.484375 21.921875 \r\nQ 17.484375 14.15625 20.5 10.265625 \r\nQ 23.53125 6.390625 29.59375 6.390625 \r\nQ 36.859375 6.390625 41.078125 11.03125 \r\nQ 45.3125 15.671875 45.3125 23.6875 \r\nL 45.3125 54.6875 \r\nL 54.296875 54.6875 \r\nL 54.296875 0 \r\nL 45.3125 0 \r\nL 45.3125 8.40625 \r\nQ 42.046875 3.421875 37.71875 1 \r\nQ 33.40625 -1.421875 27.6875 -1.421875 \r\nQ 18.265625 -1.421875 13.375 4.4375 \r\nQ 8.5 10.296875 8.5 21.578125 \r\nz\r\nM 31.109375 56 \r\nz\r\n\" id=\"DejaVuSans-117\"/>\r\n       <path d=\"M 41.109375 46.296875 \r\nQ 39.59375 47.171875 37.8125 47.578125 \r\nQ 36.03125 48 33.890625 48 \r\nQ 26.265625 48 22.1875 43.046875 \r\nQ 18.109375 38.09375 18.109375 28.8125 \r\nL 18.109375 0 \r\nL 9.078125 0 \r\nL 9.078125 54.6875 \r\nL 18.109375 54.6875 \r\nL 18.109375 46.1875 \r\nQ 20.953125 51.171875 25.484375 53.578125 \r\nQ 30.03125 56 36.53125 56 \r\nQ 37.453125 56 38.578125 55.875 \r\nQ 39.703125 55.765625 41.0625 55.515625 \r\nz\r\n\" id=\"DejaVuSans-114\"/>\r\n       <path d=\"M 32.171875 -5.078125 \r\nQ 28.375 -14.84375 24.75 -17.8125 \r\nQ 21.140625 -20.796875 15.09375 -20.796875 \r\nL 7.90625 -20.796875 \r\nL 7.90625 -13.28125 \r\nL 13.1875 -13.28125 \r\nQ 16.890625 -13.28125 18.9375 -11.515625 \r\nQ 21 -9.765625 23.484375 -3.21875 \r\nL 25.09375 0.875 \r\nL 2.984375 54.6875 \r\nL 12.5 54.6875 \r\nL 29.59375 11.921875 \r\nL 46.6875 54.6875 \r\nL 56.203125 54.6875 \r\nz\r\n\" id=\"DejaVuSans-121\"/>\r\n      </defs>\r\n      <use xlink:href=\"#DejaVuSans-67\"/>\r\n      <use x=\"69.824219\" xlink:href=\"#DejaVuSans-97\"/>\r\n      <use x=\"131.103516\" xlink:href=\"#DejaVuSans-116\"/>\r\n      <use x=\"170.3125\" xlink:href=\"#DejaVuSans-46\"/>\r\n      <use x=\"202.099609\" xlink:href=\"#DejaVuSans-32\"/>\r\n      <use x=\"233.886719\" xlink:href=\"#DejaVuSans-65\"/>\r\n      <use x=\"300.544922\" xlink:href=\"#DejaVuSans-99\"/>\r\n      <use x=\"355.525391\" xlink:href=\"#DejaVuSans-99\"/>\r\n      <use x=\"410.505859\" xlink:href=\"#DejaVuSans-117\"/>\r\n      <use x=\"473.884766\" xlink:href=\"#DejaVuSans-114\"/>\r\n      <use x=\"514.998047\" xlink:href=\"#DejaVuSans-97\"/>\r\n      <use x=\"576.277344\" xlink:href=\"#DejaVuSans-99\"/>\r\n      <use x=\"631.257812\" xlink:href=\"#DejaVuSans-121\"/>\r\n     </g>\r\n    </g>\r\n    <g id=\"line2d_33\">\r\n     <path d=\"M 361.445312 285.598437 \r\nL 381.445312 285.598437 \r\n\" style=\"fill:none;stroke:#2ca02c;stroke-linecap:square;stroke-width:1.5;\"/>\r\n    </g>\r\n    <g id=\"line2d_34\"/>\r\n    <g id=\"text_16\">\r\n     <!-- Validation Loss BN -->\r\n     <g transform=\"translate(389.445312 289.098437)scale(0.1 -0.1)\">\r\n      <defs>\r\n       <path d=\"M 19.671875 34.8125 \r\nL 19.671875 8.109375 \r\nL 35.5 8.109375 \r\nQ 43.453125 8.109375 47.28125 11.40625 \r\nQ 51.125 14.703125 51.125 21.484375 \r\nQ 51.125 28.328125 47.28125 31.5625 \r\nQ 43.453125 34.8125 35.5 34.8125 \r\nz\r\nM 19.671875 64.796875 \r\nL 19.671875 42.828125 \r\nL 34.28125 42.828125 \r\nQ 41.5 42.828125 45.03125 45.53125 \r\nQ 48.578125 48.25 48.578125 53.8125 \r\nQ 48.578125 59.328125 45.03125 62.0625 \r\nQ 41.5 64.796875 34.28125 64.796875 \r\nz\r\nM 9.8125 72.90625 \r\nL 35.015625 72.90625 \r\nQ 46.296875 72.90625 52.390625 68.21875 \r\nQ 58.5 63.53125 58.5 54.890625 \r\nQ 58.5 48.1875 55.375 44.234375 \r\nQ 52.25 40.28125 46.1875 39.3125 \r\nQ 53.46875 37.75 57.5 32.78125 \r\nQ 61.53125 27.828125 61.53125 20.40625 \r\nQ 61.53125 10.640625 54.890625 5.3125 \r\nQ 48.25 0 35.984375 0 \r\nL 9.8125 0 \r\nz\r\n\" id=\"DejaVuSans-66\"/>\r\n       <path d=\"M 9.8125 72.90625 \r\nL 23.09375 72.90625 \r\nL 55.421875 11.921875 \r\nL 55.421875 72.90625 \r\nL 64.984375 72.90625 \r\nL 64.984375 0 \r\nL 51.703125 0 \r\nL 19.390625 60.984375 \r\nL 19.390625 0 \r\nL 9.8125 0 \r\nz\r\n\" id=\"DejaVuSans-78\"/>\r\n      </defs>\r\n      <use xlink:href=\"#DejaVuSans-86\"/>\r\n      <use x=\"60.658203\" xlink:href=\"#DejaVuSans-97\"/>\r\n      <use x=\"121.9375\" xlink:href=\"#DejaVuSans-108\"/>\r\n      <use x=\"149.720703\" xlink:href=\"#DejaVuSans-105\"/>\r\n      <use x=\"177.503906\" xlink:href=\"#DejaVuSans-100\"/>\r\n      <use x=\"240.980469\" xlink:href=\"#DejaVuSans-97\"/>\r\n      <use x=\"302.259766\" xlink:href=\"#DejaVuSans-116\"/>\r\n      <use x=\"341.46875\" xlink:href=\"#DejaVuSans-105\"/>\r\n      <use x=\"369.251953\" xlink:href=\"#DejaVuSans-111\"/>\r\n      <use x=\"430.433594\" xlink:href=\"#DejaVuSans-110\"/>\r\n      <use x=\"493.8125\" xlink:href=\"#DejaVuSans-32\"/>\r\n      <use x=\"525.599609\" xlink:href=\"#DejaVuSans-76\"/>\r\n      <use x=\"579.5625\" xlink:href=\"#DejaVuSans-111\"/>\r\n      <use x=\"640.744141\" xlink:href=\"#DejaVuSans-115\"/>\r\n      <use x=\"692.84375\" xlink:href=\"#DejaVuSans-115\"/>\r\n      <use x=\"744.943359\" xlink:href=\"#DejaVuSans-32\"/>\r\n      <use x=\"776.730469\" xlink:href=\"#DejaVuSans-66\"/>\r\n      <use x=\"845.333984\" xlink:href=\"#DejaVuSans-78\"/>\r\n     </g>\r\n    </g>\r\n    <g id=\"line2d_35\">\r\n     <path d=\"M 361.445312 300.276563 \r\nL 381.445312 300.276563 \r\n\" style=\"fill:none;stroke:#d62728;stroke-linecap:square;stroke-width:1.5;\"/>\r\n    </g>\r\n    <g id=\"line2d_36\"/>\r\n    <g id=\"text_17\">\r\n     <!-- Cat. Accuracy BN -->\r\n     <g transform=\"translate(389.445312 303.776563)scale(0.1 -0.1)\">\r\n      <use xlink:href=\"#DejaVuSans-67\"/>\r\n      <use x=\"69.824219\" xlink:href=\"#DejaVuSans-97\"/>\r\n      <use x=\"131.103516\" xlink:href=\"#DejaVuSans-116\"/>\r\n      <use x=\"170.3125\" xlink:href=\"#DejaVuSans-46\"/>\r\n      <use x=\"202.099609\" xlink:href=\"#DejaVuSans-32\"/>\r\n      <use x=\"233.886719\" xlink:href=\"#DejaVuSans-65\"/>\r\n      <use x=\"300.544922\" xlink:href=\"#DejaVuSans-99\"/>\r\n      <use x=\"355.525391\" xlink:href=\"#DejaVuSans-99\"/>\r\n      <use x=\"410.505859\" xlink:href=\"#DejaVuSans-117\"/>\r\n      <use x=\"473.884766\" xlink:href=\"#DejaVuSans-114\"/>\r\n      <use x=\"514.998047\" xlink:href=\"#DejaVuSans-97\"/>\r\n      <use x=\"576.277344\" xlink:href=\"#DejaVuSans-99\"/>\r\n      <use x=\"631.257812\" xlink:href=\"#DejaVuSans-121\"/>\r\n      <use x=\"690.4375\" xlink:href=\"#DejaVuSans-32\"/>\r\n      <use x=\"722.224609\" xlink:href=\"#DejaVuSans-66\"/>\r\n      <use x=\"790.828125\" xlink:href=\"#DejaVuSans-78\"/>\r\n     </g>\r\n    </g>\r\n   </g>\r\n  </g>\r\n </g>\r\n <defs>\r\n  <clipPath id=\"p0b367c8974\">\r\n   <rect height=\"543.6\" width=\"446.4\" x=\"44.059375\" y=\"7.2\"/>\r\n  </clipPath>\r\n </defs>\r\n</svg>\r\n",
      "image/png": "[encoded data removed]"
     },
     "metadata": {
      "needs_background": "light"
     }
    }
   ],
   "source": [
    "fig,ax_tuned = plt.subplots(1,1,figsize = (8,10))\n",
    "sns.lineplot(x = history_tuned.index.values.tolist(), y = history_tuned[\"val_loss\"], label = \"Validation Loss\", ax = ax_tuned)\n",
    "sns.lineplot(x = history_tuned.index.values.tolist(), y = history_tuned[\"val_categorical_accuracy\"], label = \"Cat. Accuracy\", ax = ax_tuned)\n",
    "\n",
    "sns.lineplot(x = history_tuned_bn.index.values.tolist(), y = history_tuned_bn[\"val_loss\"], label = \"Validation Loss BN\", ax = ax_tuned)\n",
    "sns.lineplot(x = history_tuned_bn.index.values.tolist(), y = history_tuned_bn[\"val_categorical_accuracy\"], label = \"Cat. Accuracy BN\", ax = ax_tuned)\n",
    "\n",
    "ax_tuned.legend()\n",
    "ax_tuned.grid()"
   ]
  },
  {
   "source": [
    "Batch Normalization makes it much faster to train your model. Using just one epoch, we have achieved the a higher accuracy that without BN"
   ],
   "cell_type": "markdown",
   "metadata": {}
  },
  {
   "cell_type": "code",
   "execution_count": 114,
   "metadata": {},
   "outputs": [
    {
     "output_type": "execute_result",
     "data": {
      "text/plain": [
       "0.9838833156508582"
      ]
     },
     "metadata": {},
     "execution_count": 114
    }
   ],
   "source": [
    "y_pred_tuned_bn_final_test = np.argmax(model_tuned_bn.predict(X_data_test0to4),axis = 1)\n",
    "\n",
    "precision_score(np.argmax(y_data_test0to4,axis = 1),y_pred_tuned_bn_final_test, average='weighted')"
   ]
  },
  {
   "source": [
    "BN also gives better Precision "
   ],
   "cell_type": "markdown",
   "metadata": {}
  },
  {
   "cell_type": "code",
   "execution_count": 115,
   "metadata": {},
   "outputs": [
    {
     "output_type": "execute_result",
     "data": {
      "text/plain": [
       "array([[ 969,    2,    2,    2,    5],\n",
       "       [   0, 1130,    2,    3,    0],\n",
       "       [   1,   11, 1007,    8,    5],\n",
       "       [   3,    4,   12,  991,    0],\n",
       "       [   3,    0,   15,    5,  959]], dtype=int64)"
      ]
     },
     "metadata": {},
     "execution_count": 115
    }
   ],
   "source": [
    "confusion_matrix(np.argmax(y_data_test0to4,axis = 1),y_pred_tuned_bn_final_test)"
   ]
  },
  {
   "cell_type": "code",
   "execution_count": null,
   "metadata": {},
   "outputs": [],
   "source": []
  }
 ]
}