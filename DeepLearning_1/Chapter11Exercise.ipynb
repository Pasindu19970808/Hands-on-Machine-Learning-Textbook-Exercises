{
 "metadata": {
  "language_info": {
   "codemirror_mode": {
    "name": "ipython",
    "version": 3
   },
   "file_extension": ".py",
   "mimetype": "text/x-python",
   "name": "python",
   "nbconvert_exporter": "python",
   "pygments_lexer": "ipython3",
   "version": "3.8.8"
  },
  "orig_nbformat": 2,
  "kernelspec": {
   "name": "python388jvsc74a57bd0965ba1120b0c101b3f715b6e258a73742ec1cf86f2c8b04492724c87d9f112c3",
   "display_name": "Python 3.8.8 64-bit"
  }
 },
 "nbformat": 4,
 "nbformat_minor": 2,
 "cells": [
  {
   "cell_type": "code",
   "execution_count": 1,
   "metadata": {},
   "outputs": [],
   "source": [
    "import tensorflow as tf\n",
    "from tensorflow import keras\n",
    "import matplotlib.pyplot as plt\n",
    "import numpy as np"
   ]
  },
  {
   "cell_type": "code",
   "execution_count": 2,
   "metadata": {},
   "outputs": [],
   "source": [
    "(X_train_full,y_train_full),(X_test,y_test) = keras.datasets.mnist.load_data()"
   ]
  },
  {
   "cell_type": "code",
   "execution_count": 3,
   "metadata": {},
   "outputs": [
    {
     "output_type": "execute_result",
     "data": {
      "text/plain": [
       "<matplotlib.image.AxesImage at 0x1c051885250>"
      ]
     },
     "metadata": {},
     "execution_count": 3
    },
    {
     "output_type": "display_data",
     "data": {
      "text/plain": "<Figure size 432x288 with 1 Axes>",
      "image/svg+xml": "<?xml version=\"1.0\" encoding=\"utf-8\" standalone=\"no\"?>\r\n<!DOCTYPE svg PUBLIC \"-//W3C//DTD SVG 1.1//EN\"\r\n  \"http://www.w3.org/Graphics/SVG/1.1/DTD/svg11.dtd\">\r\n<!-- Created with matplotlib (https://matplotlib.org/) -->\r\n<svg height=\"248.518125pt\" version=\"1.1\" viewBox=\"0 0 251.565 248.518125\" width=\"251.565pt\" xmlns=\"http://www.w3.org/2000/svg\" xmlns:xlink=\"http://www.w3.org/1999/xlink\">\r\n <metadata>\r\n  <rdf:RDF xmlns:cc=\"http://creativecommons.org/ns#\" xmlns:dc=\"http://purl.org/dc/elements/1.1/\" xmlns:rdf=\"http://www.w3.org/1999/02/22-rdf-syntax-ns#\">\r\n   <cc:Work>\r\n    <dc:type rdf:resource=\"http://purl.org/dc/dcmitype/StillImage\"/>\r\n    <dc:date>2021-05-30T00:12:31.657007</dc:date>\r\n    <dc:format>image/svg+xml</dc:format>\r\n    <dc:creator>\r\n     <cc:Agent>\r\n      <dc:title>Matplotlib v3.3.4, https://matplotlib.org/</dc:title>\r\n     </cc:Agent>\r\n    </dc:creator>\r\n   </cc:Work>\r\n  </rdf:RDF>\r\n </metadata>\r\n <defs>\r\n  <style type=\"text/css\">*{stroke-linecap:butt;stroke-linejoin:round;}</style>\r\n </defs>\r\n <g id=\"figure_1\">\r\n  <g id=\"patch_1\">\r\n   <path d=\"M 0 248.518125 \r\nL 251.565 248.518125 \r\nL 251.565 0 \r\nL 0 0 \r\nz\r\n\" style=\"fill:none;\"/>\r\n  </g>\r\n  <g id=\"axes_1\">\r\n   <g id=\"patch_2\">\r\n    <path d=\"M 26.925 224.64 \r\nL 244.365 224.64 \r\nL 244.365 7.2 \r\nL 26.925 7.2 \r\nz\r\n\" style=\"fill:#ffffff;\"/>\r\n   </g>\r\n   <g clip-path=\"url(#pebb30444c9)\">\r\n    <image height=\"218\" id=\"imageba2e1e8c86\" transform=\"scale(1 -1)translate(0 -218)\" width=\"218\" x=\"26.925\" xlink:href=\"data:image/png;base64,\r\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\" y=\"-6.64\"/>\r\n   </g>\r\n   <g id=\"matplotlib.axis_1\">\r\n    <g id=\"xtick_1\">\r\n     <g id=\"line2d_1\">\r\n      <defs>\r\n       <path d=\"M 0 0 \r\nL 0 3.5 \r\n\" id=\"m57d93adddb\" style=\"stroke:#000000;stroke-width:0.8;\"/>\r\n      </defs>\r\n      <g>\r\n       <use style=\"stroke:#000000;stroke-width:0.8;\" x=\"30.807857\" xlink:href=\"#m57d93adddb\" y=\"224.64\"/>\r\n      </g>\r\n     </g>\r\n     <g id=\"text_1\">\r\n      <!-- 0 -->\r\n      <g transform=\"translate(27.626607 239.238437)scale(0.1 -0.1)\">\r\n       <defs>\r\n        <path d=\"M 31.78125 66.40625 \r\nQ 24.171875 66.40625 20.328125 58.90625 \r\nQ 16.5 51.421875 16.5 36.375 \r\nQ 16.5 21.390625 20.328125 13.890625 \r\nQ 24.171875 6.390625 31.78125 6.390625 \r\nQ 39.453125 6.390625 43.28125 13.890625 \r\nQ 47.125 21.390625 47.125 36.375 \r\nQ 47.125 51.421875 43.28125 58.90625 \r\nQ 39.453125 66.40625 31.78125 66.40625 \r\nz\r\nM 31.78125 74.21875 \r\nQ 44.046875 74.21875 50.515625 64.515625 \r\nQ 56.984375 54.828125 56.984375 36.375 \r\nQ 56.984375 17.96875 50.515625 8.265625 \r\nQ 44.046875 -1.421875 31.78125 -1.421875 \r\nQ 19.53125 -1.421875 13.0625 8.265625 \r\nQ 6.59375 17.96875 6.59375 36.375 \r\nQ 6.59375 54.828125 13.0625 64.515625 \r\nQ 19.53125 74.21875 31.78125 74.21875 \r\nz\r\n\" id=\"DejaVuSans-48\"/>\r\n       </defs>\r\n       <use xlink:href=\"#DejaVuSans-48\"/>\r\n      </g>\r\n     </g>\r\n    </g>\r\n    <g id=\"xtick_2\">\r\n     <g id=\"line2d_2\">\r\n      <g>\r\n       <use style=\"stroke:#000000;stroke-width:0.8;\" x=\"69.636429\" xlink:href=\"#m57d93adddb\" y=\"224.64\"/>\r\n      </g>\r\n     </g>\r\n     <g id=\"text_2\">\r\n      <!-- 5 -->\r\n      <g transform=\"translate(66.455179 239.238437)scale(0.1 -0.1)\">\r\n       <defs>\r\n        <path d=\"M 10.796875 72.90625 \r\nL 49.515625 72.90625 \r\nL 49.515625 64.59375 \r\nL 19.828125 64.59375 \r\nL 19.828125 46.734375 \r\nQ 21.96875 47.46875 24.109375 47.828125 \r\nQ 26.265625 48.1875 28.421875 48.1875 \r\nQ 40.625 48.1875 47.75 41.5 \r\nQ 54.890625 34.8125 54.890625 23.390625 \r\nQ 54.890625 11.625 47.5625 5.09375 \r\nQ 40.234375 -1.421875 26.90625 -1.421875 \r\nQ 22.3125 -1.421875 17.546875 -0.640625 \r\nQ 12.796875 0.140625 7.71875 1.703125 \r\nL 7.71875 11.625 \r\nQ 12.109375 9.234375 16.796875 8.0625 \r\nQ 21.484375 6.890625 26.703125 6.890625 \r\nQ 35.15625 6.890625 40.078125 11.328125 \r\nQ 45.015625 15.765625 45.015625 23.390625 \r\nQ 45.015625 31 40.078125 35.4375 \r\nQ 35.15625 39.890625 26.703125 39.890625 \r\nQ 22.75 39.890625 18.8125 39.015625 \r\nQ 14.890625 38.140625 10.796875 36.28125 \r\nz\r\n\" id=\"DejaVuSans-53\"/>\r\n       </defs>\r\n       <use xlink:href=\"#DejaVuSans-53\"/>\r\n      </g>\r\n     </g>\r\n    </g>\r\n    <g id=\"xtick_3\">\r\n     <g id=\"line2d_3\">\r\n      <g>\r\n       <use style=\"stroke:#000000;stroke-width:0.8;\" x=\"108.465\" xlink:href=\"#m57d93adddb\" y=\"224.64\"/>\r\n      </g>\r\n     </g>\r\n     <g id=\"text_3\">\r\n      <!-- 10 -->\r\n      <g transform=\"translate(102.1025 239.238437)scale(0.1 -0.1)\">\r\n       <defs>\r\n        <path d=\"M 12.40625 8.296875 \r\nL 28.515625 8.296875 \r\nL 28.515625 63.921875 \r\nL 10.984375 60.40625 \r\nL 10.984375 69.390625 \r\nL 28.421875 72.90625 \r\nL 38.28125 72.90625 \r\nL 38.28125 8.296875 \r\nL 54.390625 8.296875 \r\nL 54.390625 0 \r\nL 12.40625 0 \r\nz\r\n\" id=\"DejaVuSans-49\"/>\r\n       </defs>\r\n       <use xlink:href=\"#DejaVuSans-49\"/>\r\n       <use x=\"63.623047\" xlink:href=\"#DejaVuSans-48\"/>\r\n      </g>\r\n     </g>\r\n    </g>\r\n    <g id=\"xtick_4\">\r\n     <g id=\"line2d_4\">\r\n      <g>\r\n       <use style=\"stroke:#000000;stroke-width:0.8;\" x=\"147.293571\" xlink:href=\"#m57d93adddb\" y=\"224.64\"/>\r\n      </g>\r\n     </g>\r\n     <g id=\"text_4\">\r\n      <!-- 15 -->\r\n      <g transform=\"translate(140.931071 239.238437)scale(0.1 -0.1)\">\r\n       <use xlink:href=\"#DejaVuSans-49\"/>\r\n       <use x=\"63.623047\" xlink:href=\"#DejaVuSans-53\"/>\r\n      </g>\r\n     </g>\r\n    </g>\r\n    <g id=\"xtick_5\">\r\n     <g id=\"line2d_5\">\r\n      <g>\r\n       <use style=\"stroke:#000000;stroke-width:0.8;\" x=\"186.122143\" xlink:href=\"#m57d93adddb\" y=\"224.64\"/>\r\n      </g>\r\n     </g>\r\n     <g id=\"text_5\">\r\n      <!-- 20 -->\r\n      <g transform=\"translate(179.759643 239.238437)scale(0.1 -0.1)\">\r\n       <defs>\r\n        <path d=\"M 19.1875 8.296875 \r\nL 53.609375 8.296875 \r\nL 53.609375 0 \r\nL 7.328125 0 \r\nL 7.328125 8.296875 \r\nQ 12.9375 14.109375 22.625 23.890625 \r\nQ 32.328125 33.6875 34.8125 36.53125 \r\nQ 39.546875 41.84375 41.421875 45.53125 \r\nQ 43.3125 49.21875 43.3125 52.78125 \r\nQ 43.3125 58.59375 39.234375 62.25 \r\nQ 35.15625 65.921875 28.609375 65.921875 \r\nQ 23.96875 65.921875 18.8125 64.3125 \r\nQ 13.671875 62.703125 7.8125 59.421875 \r\nL 7.8125 69.390625 \r\nQ 13.765625 71.78125 18.9375 73 \r\nQ 24.125 74.21875 28.421875 74.21875 \r\nQ 39.75 74.21875 46.484375 68.546875 \r\nQ 53.21875 62.890625 53.21875 53.421875 \r\nQ 53.21875 48.921875 51.53125 44.890625 \r\nQ 49.859375 40.875 45.40625 35.40625 \r\nQ 44.1875 33.984375 37.640625 27.21875 \r\nQ 31.109375 20.453125 19.1875 8.296875 \r\nz\r\n\" id=\"DejaVuSans-50\"/>\r\n       </defs>\r\n       <use xlink:href=\"#DejaVuSans-50\"/>\r\n       <use x=\"63.623047\" xlink:href=\"#DejaVuSans-48\"/>\r\n      </g>\r\n     </g>\r\n    </g>\r\n    <g id=\"xtick_6\">\r\n     <g id=\"line2d_6\">\r\n      <g>\r\n       <use style=\"stroke:#000000;stroke-width:0.8;\" x=\"224.950714\" xlink:href=\"#m57d93adddb\" y=\"224.64\"/>\r\n      </g>\r\n     </g>\r\n     <g id=\"text_6\">\r\n      <!-- 25 -->\r\n      <g transform=\"translate(218.588214 239.238437)scale(0.1 -0.1)\">\r\n       <use xlink:href=\"#DejaVuSans-50\"/>\r\n       <use x=\"63.623047\" xlink:href=\"#DejaVuSans-53\"/>\r\n      </g>\r\n     </g>\r\n    </g>\r\n   </g>\r\n   <g id=\"matplotlib.axis_2\">\r\n    <g id=\"ytick_1\">\r\n     <g id=\"line2d_7\">\r\n      <defs>\r\n       <path d=\"M 0 0 \r\nL -3.5 0 \r\n\" id=\"m5d8c0cb831\" style=\"stroke:#000000;stroke-width:0.8;\"/>\r\n      </defs>\r\n      <g>\r\n       <use style=\"stroke:#000000;stroke-width:0.8;\" x=\"26.925\" xlink:href=\"#m5d8c0cb831\" y=\"11.082857\"/>\r\n      </g>\r\n     </g>\r\n     <g id=\"text_7\">\r\n      <!-- 0 -->\r\n      <g transform=\"translate(13.5625 14.882076)scale(0.1 -0.1)\">\r\n       <use xlink:href=\"#DejaVuSans-48\"/>\r\n      </g>\r\n     </g>\r\n    </g>\r\n    <g id=\"ytick_2\">\r\n     <g id=\"line2d_8\">\r\n      <g>\r\n       <use style=\"stroke:#000000;stroke-width:0.8;\" x=\"26.925\" xlink:href=\"#m5d8c0cb831\" y=\"49.911429\"/>\r\n      </g>\r\n     </g>\r\n     <g id=\"text_8\">\r\n      <!-- 5 -->\r\n      <g transform=\"translate(13.5625 53.710647)scale(0.1 -0.1)\">\r\n       <use xlink:href=\"#DejaVuSans-53\"/>\r\n      </g>\r\n     </g>\r\n    </g>\r\n    <g id=\"ytick_3\">\r\n     <g id=\"line2d_9\">\r\n      <g>\r\n       <use style=\"stroke:#000000;stroke-width:0.8;\" x=\"26.925\" xlink:href=\"#m5d8c0cb831\" y=\"88.74\"/>\r\n      </g>\r\n     </g>\r\n     <g id=\"text_9\">\r\n      <!-- 10 -->\r\n      <g transform=\"translate(7.2 92.539219)scale(0.1 -0.1)\">\r\n       <use xlink:href=\"#DejaVuSans-49\"/>\r\n       <use x=\"63.623047\" xlink:href=\"#DejaVuSans-48\"/>\r\n      </g>\r\n     </g>\r\n    </g>\r\n    <g id=\"ytick_4\">\r\n     <g id=\"line2d_10\">\r\n      <g>\r\n       <use style=\"stroke:#000000;stroke-width:0.8;\" x=\"26.925\" xlink:href=\"#m5d8c0cb831\" y=\"127.568571\"/>\r\n      </g>\r\n     </g>\r\n     <g id=\"text_10\">\r\n      <!-- 15 -->\r\n      <g transform=\"translate(7.2 131.36779)scale(0.1 -0.1)\">\r\n       <use xlink:href=\"#DejaVuSans-49\"/>\r\n       <use x=\"63.623047\" xlink:href=\"#DejaVuSans-53\"/>\r\n      </g>\r\n     </g>\r\n    </g>\r\n    <g id=\"ytick_5\">\r\n     <g id=\"line2d_11\">\r\n      <g>\r\n       <use style=\"stroke:#000000;stroke-width:0.8;\" x=\"26.925\" xlink:href=\"#m5d8c0cb831\" y=\"166.397143\"/>\r\n      </g>\r\n     </g>\r\n     <g id=\"text_11\">\r\n      <!-- 20 -->\r\n      <g transform=\"translate(7.2 170.196362)scale(0.1 -0.1)\">\r\n       <use xlink:href=\"#DejaVuSans-50\"/>\r\n       <use x=\"63.623047\" xlink:href=\"#DejaVuSans-48\"/>\r\n      </g>\r\n     </g>\r\n    </g>\r\n    <g id=\"ytick_6\">\r\n     <g id=\"line2d_12\">\r\n      <g>\r\n       <use style=\"stroke:#000000;stroke-width:0.8;\" x=\"26.925\" xlink:href=\"#m5d8c0cb831\" y=\"205.225714\"/>\r\n      </g>\r\n     </g>\r\n     <g id=\"text_12\">\r\n      <!-- 25 -->\r\n      <g transform=\"translate(7.2 209.024933)scale(0.1 -0.1)\">\r\n       <use xlink:href=\"#DejaVuSans-50\"/>\r\n       <use x=\"63.623047\" xlink:href=\"#DejaVuSans-53\"/>\r\n      </g>\r\n     </g>\r\n    </g>\r\n   </g>\r\n   <g id=\"patch_3\">\r\n    <path d=\"M 26.925 224.64 \r\nL 26.925 7.2 \r\n\" style=\"fill:none;stroke:#000000;stroke-linecap:square;stroke-linejoin:miter;stroke-width:0.8;\"/>\r\n   </g>\r\n   <g id=\"patch_4\">\r\n    <path d=\"M 244.365 224.64 \r\nL 244.365 7.2 \r\n\" style=\"fill:none;stroke:#000000;stroke-linecap:square;stroke-linejoin:miter;stroke-width:0.8;\"/>\r\n   </g>\r\n   <g id=\"patch_5\">\r\n    <path d=\"M 26.925 224.64 \r\nL 244.365 224.64 \r\n\" style=\"fill:none;stroke:#000000;stroke-linecap:square;stroke-linejoin:miter;stroke-width:0.8;\"/>\r\n   </g>\r\n   <g id=\"patch_6\">\r\n    <path d=\"M 26.925 7.2 \r\nL 244.365 7.2 \r\n\" style=\"fill:none;stroke:#000000;stroke-linecap:square;stroke-linejoin:miter;stroke-width:0.8;\"/>\r\n   </g>\r\n  </g>\r\n </g>\r\n <defs>\r\n  <clipPath id=\"pebb30444c9\">\r\n   <rect height=\"217.44\" width=\"217.44\" x=\"26.925\" y=\"7.2\"/>\r\n  </clipPath>\r\n </defs>\r\n</svg>\r\n",
      "image/png": "[encoded data removed]"
     },
     "metadata": {
      "needs_background": "light"
     }
    }
   ],
   "source": [
    "plt.imshow(X_train_full[0])"
   ]
  },
  {
   "cell_type": "code",
   "execution_count": 4,
   "metadata": {},
   "outputs": [
    {
     "output_type": "execute_result",
     "data": {
      "text/plain": [
       "(60000, 28, 28)"
      ]
     },
     "metadata": {},
     "execution_count": 4
    }
   ],
   "source": [
    "X_train_full.shape"
   ]
  },
  {
   "source": [
    "<h3> DNN Summary </h3> \n",
    "\n",
    "A DNN trained with 5 hiddens layers, 1 Flatten input layer"
   ],
   "cell_type": "markdown",
   "metadata": {}
  },
  {
   "cell_type": "code",
   "execution_count": 5,
   "metadata": {},
   "outputs": [],
   "source": [
    "model_dnn = keras.models.Sequential()\n",
    "model_dnn.add(keras.layers.Flatten(input_shape = [28,28]))\n",
    "model_dnn.add(keras.layers.Dense(100,activation = \"elu\",kernel_initializer=\"he_normal\"))\n",
    "model_dnn.add(keras.layers.Dense(100,activation = \"elu\",kernel_initializer=\"he_normal\"))\n",
    "model_dnn.add(keras.layers.Dense(100,activation = \"elu\",kernel_initializer=\"he_normal\"))\n",
    "model_dnn.add(keras.layers.Dense(100,activation = \"elu\",kernel_initializer=\"he_normal\"))\n",
    "model_dnn.add(keras.layers.Dense(100,activation = \"elu\",kernel_initializer=\"he_normal\"))\n",
    "model_dnn.add(keras.layers.Dense(5, activation=\"softmax\"))"
   ]
  },
  {
   "cell_type": "code",
   "execution_count": 6,
   "metadata": {},
   "outputs": [
    {
     "output_type": "stream",
     "name": "stdout",
     "text": [
      "Model: \"sequential\"\n_________________________________________________________________\nLayer (type)                 Output Shape              Param #   \n=================================================================\nflatten (Flatten)            (None, 784)               0         \n_________________________________________________________________\ndense (Dense)                (None, 100)               78500     \n_________________________________________________________________\ndense_1 (Dense)              (None, 100)               10100     \n_________________________________________________________________\ndense_2 (Dense)              (None, 100)               10100     \n_________________________________________________________________\ndense_3 (Dense)              (None, 100)               10100     \n_________________________________________________________________\ndense_4 (Dense)              (None, 100)               10100     \n_________________________________________________________________\ndense_5 (Dense)              (None, 5)                 505       \n=================================================================\nTotal params: 119,405\nTrainable params: 119,405\nNon-trainable params: 0\n_________________________________________________________________\n"
     ]
    }
   ],
   "source": [
    "model_dnn.summary()"
   ]
  },
  {
   "source": [
    "Preparing the MNIST Data. \n",
    "\n",
    "First we shall only train on 0 to 4 digit labels, as we will use the rest for transfer learning."
   ],
   "cell_type": "markdown",
   "metadata": {}
  },
  {
   "cell_type": "code",
   "execution_count": 7,
   "metadata": {},
   "outputs": [],
   "source": [
    "def Prepdata0to4(X,y):\n",
    "        y_data = y[np.where((y == 0) | (y == 1) | (y == 2)|(y == 3)| (y == 4))[0]]\n",
    "        X_data = X[np.where((y == 0) | (y == 1) | (y == 2)|(y == 3)| (y == 4))[0]]\n",
    "        return (X_data,y_data)"
   ]
  },
  {
   "cell_type": "code",
   "execution_count": 8,
   "metadata": {},
   "outputs": [],
   "source": [
    "(X_data_0to4,y_data_0to4_sparse) = Prepdata0to4(X_train_full,y_train_full)"
   ]
  },
  {
   "cell_type": "code",
   "execution_count": 9,
   "metadata": {},
   "outputs": [],
   "source": [
    "y_data_0to4 = keras.utils.to_categorical(y_data_0to4_sparse)\n",
    "X_data_train0to4 = X_data_0to4[:25000]\n",
    "y_data_train0to4 = y_data_0to4[:25000]\n",
    "X_data_valid0to4 = X_data_0to4[25000:]\n",
    "y_data_valid0to4 = y_data_0to4[25000:]"
   ]
  },
  {
   "cell_type": "code",
   "execution_count": 10,
   "metadata": {},
   "outputs": [
    {
     "output_type": "execute_result",
     "data": {
      "text/plain": [
       "array([[1., 0., 0., 0., 0.],\n",
       "       [0., 0., 0., 0., 1.],\n",
       "       [0., 1., 0., 0., 0.],\n",
       "       ...,\n",
       "       [0., 1., 0., 0., 0.],\n",
       "       [0., 0., 0., 0., 1.],\n",
       "       [0., 0., 0., 0., 1.]], dtype=float32)"
      ]
     },
     "metadata": {},
     "execution_count": 10
    }
   ],
   "source": [
    "y_data_train0to4"
   ]
  },
  {
   "cell_type": "code",
   "execution_count": 11,
   "metadata": {},
   "outputs": [
    {
     "output_type": "execute_result",
     "data": {
      "text/plain": [
       "(5596, 28, 28)"
      ]
     },
     "metadata": {},
     "execution_count": 11
    }
   ],
   "source": [
    "X_data_valid0to4.shape"
   ]
  },
  {
   "cell_type": "code",
   "execution_count": 12,
   "metadata": {},
   "outputs": [],
   "source": [
    "\n",
    "(X_data_test0to4,y_data_test0to4_sparse) = Prepdata0to4(X_test,y_test)\n",
    "y_data_test0to4 = keras.utils.to_categorical(y_data_test0to4_sparse)"
   ]
  },
  {
   "cell_type": "code",
   "execution_count": 13,
   "metadata": {},
   "outputs": [
    {
     "output_type": "execute_result",
     "data": {
      "text/plain": [
       "array([2, 1, 0, ..., 2, 3, 4], dtype=uint8)"
      ]
     },
     "metadata": {},
     "execution_count": 13
    }
   ],
   "source": [
    "y_data_test0to4_sparse"
   ]
  },
  {
   "cell_type": "code",
   "execution_count": 14,
   "metadata": {},
   "outputs": [],
   "source": [
    "#beta_1 is the momentum for moving mean of gradient\n",
    "#beta_2 is the momentum for moving mean of squared gradient\n",
    "adamoptim = keras.optimizers.Adam(lr = 0.001,beta_1=0.9,beta_2=0.999)\n",
    "#callbacks to use\n",
    "#checkpoints\n",
    "checkpoint_cb = keras.callbacks.ModelCheckpoint(\"zerotofour.h5\", save_best_only=True)\n",
    "#early stopping callback\n",
    "earlystopping_cb = keras.callbacks.EarlyStopping(patience = 10, restore_best_weights=True)"
   ]
  },
  {
   "cell_type": "code",
   "execution_count": 15,
   "metadata": {},
   "outputs": [],
   "source": [
    "#metrics\n",
    "accuracy = keras.metrics.CategoricalAccuracy(name = \"categorical_accuracy\")\n",
    "precision = keras.metrics.Precision()\n",
    "recall = keras.metrics.Recall()\n",
    "aucscore = keras.metrics.AUC()"
   ]
  },
  {
   "cell_type": "code",
   "execution_count": 16,
   "metadata": {},
   "outputs": [],
   "source": [
    "model_dnn.compile(loss = \"categorical_crossentropy\",\n",
    "                    optimizer = adamoptim, \n",
    "                    metrics = [accuracy,precision,recall,aucscore])"
   ]
  },
  {
   "cell_type": "code",
   "execution_count": 17,
   "metadata": {},
   "outputs": [
    {
     "output_type": "execute_result",
     "data": {
      "text/plain": [
       "(25000, 28, 28)"
      ]
     },
     "metadata": {},
     "execution_count": 17
    }
   ],
   "source": [
    "X_data_train0to4.shape"
   ]
  },
  {
   "cell_type": "code",
   "execution_count": 18,
   "metadata": {},
   "outputs": [
    {
     "output_type": "execute_result",
     "data": {
      "text/plain": [
       "(25000, 5)"
      ]
     },
     "metadata": {},
     "execution_count": 18
    }
   ],
   "source": [
    "y_data_train0to4.shape"
   ]
  },
  {
   "cell_type": "code",
   "execution_count": 19,
   "metadata": {},
   "outputs": [
    {
     "output_type": "stream",
     "name": "stdout",
     "text": [
      "Epoch 1/40\n",
      "782/782 [==============================] - 5s 4ms/step - loss: 4.9762 - categorical_accuracy: 0.8728 - precision: 0.8728 - recall: 0.8728 - auc: 0.9330 - val_loss: 0.3821 - val_categorical_accuracy: 0.9600 - val_precision: 0.9607 - val_recall: 0.9600 - val_auc: 0.9855\n",
      "Epoch 2/40\n",
      "782/782 [==============================] - 2s 3ms/step - loss: 0.2982 - categorical_accuracy: 0.9628 - precision: 0.9634 - recall: 0.9624 - auc: 0.9879 - val_loss: 0.2213 - val_categorical_accuracy: 0.9610 - val_precision: 0.9622 - val_recall: 0.9598 - val_auc: 0.9916\n",
      "Epoch 3/40\n",
      "782/782 [==============================] - 2s 3ms/step - loss: 0.1322 - categorical_accuracy: 0.9752 - precision: 0.9758 - recall: 0.9745 - auc: 0.9945 - val_loss: 0.1215 - val_categorical_accuracy: 0.9764 - val_precision: 0.9771 - val_recall: 0.9755 - val_auc: 0.9952\n",
      "Epoch 4/40\n",
      "782/782 [==============================] - 3s 3ms/step - loss: 0.0947 - categorical_accuracy: 0.9793 - precision: 0.9801 - recall: 0.9786 - auc: 0.9962 - val_loss: 0.2521 - val_categorical_accuracy: 0.9612 - val_precision: 0.9619 - val_recall: 0.9609 - val_auc: 0.9897\n",
      "Epoch 5/40\n",
      "782/782 [==============================] - 2s 3ms/step - loss: 0.1032 - categorical_accuracy: 0.9780 - precision: 0.9789 - recall: 0.9772 - auc: 0.9959 - val_loss: 0.1690 - val_categorical_accuracy: 0.9612 - val_precision: 0.9628 - val_recall: 0.9607 - val_auc: 0.9930\n",
      "Epoch 6/40\n",
      "782/782 [==============================] - 2s 3ms/step - loss: 0.0731 - categorical_accuracy: 0.9804 - precision: 0.9817 - recall: 0.9796 - auc: 0.9977 - val_loss: 0.0928 - val_categorical_accuracy: 0.9794 - val_precision: 0.9807 - val_recall: 0.9787 - val_auc: 0.9969\n",
      "Epoch 7/40\n",
      "782/782 [==============================] - 2s 2ms/step - loss: 0.0826 - categorical_accuracy: 0.9813 - precision: 0.9828 - recall: 0.9808 - auc: 0.9970 - val_loss: 0.1026 - val_categorical_accuracy: 0.9809 - val_precision: 0.9824 - val_recall: 0.9802 - val_auc: 0.9965\n",
      "Epoch 8/40\n",
      "782/782 [==============================] - 2s 2ms/step - loss: 0.0625 - categorical_accuracy: 0.9852 - precision: 0.9863 - recall: 0.9838 - auc: 0.9980 - val_loss: 0.0973 - val_categorical_accuracy: 0.9782 - val_precision: 0.9813 - val_recall: 0.9752 - val_auc: 0.9972\n",
      "Epoch 9/40\n",
      "782/782 [==============================] - 2s 2ms/step - loss: 0.0468 - categorical_accuracy: 0.9876 - precision: 0.9899 - recall: 0.9861 - auc: 0.9988 - val_loss: 0.1433 - val_categorical_accuracy: 0.9739 - val_precision: 0.9767 - val_recall: 0.9728 - val_auc: 0.9957\n",
      "Epoch 10/40\n",
      "782/782 [==============================] - 2s 2ms/step - loss: 0.0461 - categorical_accuracy: 0.9878 - precision: 0.9894 - recall: 0.9870 - auc: 0.9988 - val_loss: 0.0848 - val_categorical_accuracy: 0.9809 - val_precision: 0.9823 - val_recall: 0.9796 - val_auc: 0.9970\n",
      "Epoch 11/40\n",
      "782/782 [==============================] - 2s 2ms/step - loss: 0.0429 - categorical_accuracy: 0.9890 - precision: 0.9900 - recall: 0.9880 - auc: 0.9988 - val_loss: 0.0946 - val_categorical_accuracy: 0.9839 - val_precision: 0.9855 - val_recall: 0.9832 - val_auc: 0.9965\n",
      "Epoch 12/40\n",
      "782/782 [==============================] - 2s 2ms/step - loss: 0.0413 - categorical_accuracy: 0.9903 - precision: 0.9915 - recall: 0.9891 - auc: 0.9989 - val_loss: 0.0816 - val_categorical_accuracy: 0.9850 - val_precision: 0.9857 - val_recall: 0.9841 - val_auc: 0.9969\n",
      "Epoch 13/40\n",
      "782/782 [==============================] - 2s 2ms/step - loss: 0.0259 - categorical_accuracy: 0.9937 - precision: 0.9946 - recall: 0.9928 - auc: 0.9993 - val_loss: 0.0681 - val_categorical_accuracy: 0.9825 - val_precision: 0.9844 - val_recall: 0.9816 - val_auc: 0.9979\n",
      "Epoch 14/40\n",
      "782/782 [==============================] - 2s 2ms/step - loss: 0.0263 - categorical_accuracy: 0.9928 - precision: 0.9932 - recall: 0.9921 - auc: 0.9994 - val_loss: 0.0765 - val_categorical_accuracy: 0.9870 - val_precision: 0.9873 - val_recall: 0.9868 - val_auc: 0.9966\n",
      "Epoch 15/40\n",
      "782/782 [==============================] - 2s 2ms/step - loss: 0.0409 - categorical_accuracy: 0.9895 - precision: 0.9909 - recall: 0.9888 - auc: 0.9987 - val_loss: 0.0729 - val_categorical_accuracy: 0.9868 - val_precision: 0.9883 - val_recall: 0.9850 - val_auc: 0.9972\n",
      "Epoch 16/40\n",
      "782/782 [==============================] - 2s 2ms/step - loss: 0.0283 - categorical_accuracy: 0.9921 - precision: 0.9931 - recall: 0.9910 - auc: 0.9992 - val_loss: 0.0556 - val_categorical_accuracy: 0.9886 - val_precision: 0.9891 - val_recall: 0.9884 - val_auc: 0.9982\n",
      "Epoch 17/40\n",
      "782/782 [==============================] - 2s 2ms/step - loss: 0.0140 - categorical_accuracy: 0.9960 - precision: 0.9964 - recall: 0.9957 - auc: 0.9997 - val_loss: 0.0523 - val_categorical_accuracy: 0.9889 - val_precision: 0.9912 - val_recall: 0.9868 - val_auc: 0.9983\n",
      "Epoch 18/40\n",
      "782/782 [==============================] - 2s 2ms/step - loss: 0.0146 - categorical_accuracy: 0.9956 - precision: 0.9967 - recall: 0.9952 - auc: 0.9997 - val_loss: 0.1050 - val_categorical_accuracy: 0.9862 - val_precision: 0.9878 - val_recall: 0.9848 - val_auc: 0.9962\n",
      "Epoch 19/40\n",
      "782/782 [==============================] - 2s 2ms/step - loss: 0.0300 - categorical_accuracy: 0.9930 - precision: 0.9941 - recall: 0.9923 - auc: 0.9994 - val_loss: 0.0676 - val_categorical_accuracy: 0.9877 - val_precision: 0.9893 - val_recall: 0.9871 - val_auc: 0.9975\n",
      "Epoch 20/40\n",
      "782/782 [==============================] - 2s 2ms/step - loss: 0.0143 - categorical_accuracy: 0.9962 - precision: 0.9966 - recall: 0.9958 - auc: 0.9996 - val_loss: 0.0612 - val_categorical_accuracy: 0.9893 - val_precision: 0.9900 - val_recall: 0.9889 - val_auc: 0.9977\n",
      "Epoch 21/40\n",
      "782/782 [==============================] - 2s 2ms/step - loss: 0.0180 - categorical_accuracy: 0.9955 - precision: 0.9959 - recall: 0.9951 - auc: 0.9996 - val_loss: 0.0997 - val_categorical_accuracy: 0.9862 - val_precision: 0.9873 - val_recall: 0.9853 - val_auc: 0.9973\n",
      "Epoch 22/40\n",
      "782/782 [==============================] - 2s 2ms/step - loss: 0.0189 - categorical_accuracy: 0.9950 - precision: 0.9956 - recall: 0.9945 - auc: 0.9996 - val_loss: 0.0780 - val_categorical_accuracy: 0.9877 - val_precision: 0.9887 - val_recall: 0.9875 - val_auc: 0.9977\n",
      "Epoch 23/40\n",
      "782/782 [==============================] - 2s 2ms/step - loss: 0.0148 - categorical_accuracy: 0.9960 - precision: 0.9966 - recall: 0.9958 - auc: 0.9996 - val_loss: 0.0644 - val_categorical_accuracy: 0.9886 - val_precision: 0.9894 - val_recall: 0.9878 - val_auc: 0.9976\n",
      "Epoch 24/40\n",
      "782/782 [==============================] - 2s 2ms/step - loss: 0.0112 - categorical_accuracy: 0.9971 - precision: 0.9973 - recall: 0.9965 - auc: 0.9998 - val_loss: 0.0613 - val_categorical_accuracy: 0.9893 - val_precision: 0.9898 - val_recall: 0.9875 - val_auc: 0.9978\n",
      "Epoch 25/40\n",
      "782/782 [==============================] - 2s 2ms/step - loss: 0.0063 - categorical_accuracy: 0.9981 - precision: 0.9986 - recall: 0.9979 - auc: 0.9999 - val_loss: 0.0811 - val_categorical_accuracy: 0.9873 - val_precision: 0.9880 - val_recall: 0.9866 - val_auc: 0.9966\n",
      "Epoch 26/40\n",
      "782/782 [==============================] - 2s 2ms/step - loss: 0.0094 - categorical_accuracy: 0.9975 - precision: 0.9978 - recall: 0.9974 - auc: 0.9997 - val_loss: 0.0603 - val_categorical_accuracy: 0.9887 - val_precision: 0.9889 - val_recall: 0.9884 - val_auc: 0.9980\n",
      "Epoch 27/40\n",
      "782/782 [==============================] - 2s 2ms/step - loss: 0.0105 - categorical_accuracy: 0.9974 - precision: 0.9977 - recall: 0.9973 - auc: 0.9998 - val_loss: 0.0763 - val_categorical_accuracy: 0.9902 - val_precision: 0.9911 - val_recall: 0.9896 - val_auc: 0.9971\n"
     ]
    }
   ],
   "source": [
    "model_dnn_history1 = model_dnn.fit(X_data_train0to4,y_data_train0to4, epochs = 40, validation_data=(X_data_valid0to4,y_data_valid0to4), callbacks = [checkpoint_cb,earlystopping_cb])"
   ]
  },
  {
   "cell_type": "code",
   "execution_count": 20,
   "metadata": {},
   "outputs": [],
   "source": [
    "#predicting on validation data, test data and making confusion matrices\n",
    "y_pred_valid = np.argmax(model_dnn.predict(X_data_valid0to4),axis = 1)\n",
    "y_pred_test = np.argmax(model_dnn.predict(X_data_test0to4),axis = 1)"
   ]
  },
  {
   "cell_type": "code",
   "execution_count": 21,
   "metadata": {},
   "outputs": [
    {
     "output_type": "execute_result",
     "data": {
      "text/plain": [
       "array([[1091,    0,    5,    3,    1],\n",
       "       [   1, 1165,    3,    3,    3],\n",
       "       [   4,    2, 1076,    6,    7],\n",
       "       [   2,    0,   10, 1139,    0],\n",
       "       [   1,    6,    3,    2, 1063]], dtype=int64)"
      ]
     },
     "metadata": {},
     "execution_count": 21
    }
   ],
   "source": [
    "from sklearn.metrics import confusion_matrix\n",
    "from sklearn.metrics import precision_score, recall_score,auc\n",
    "confusion_matrix(y_data_0to4_sparse[25000:],y_pred_valid)"
   ]
  },
  {
   "cell_type": "code",
   "execution_count": 22,
   "metadata": {},
   "outputs": [
    {
     "output_type": "execute_result",
     "data": {
      "text/plain": [
       "0.9889262703790644"
      ]
     },
     "metadata": {},
     "execution_count": 22
    }
   ],
   "source": [
    " precision_score(y_data_0to4_sparse[25000:],y_pred_valid, average='weighted')"
   ]
  },
  {
   "cell_type": "code",
   "execution_count": 23,
   "metadata": {},
   "outputs": [
    {
     "output_type": "execute_result",
     "data": {
      "text/plain": [
       "0.9889206576125804"
      ]
     },
     "metadata": {},
     "execution_count": 23
    }
   ],
   "source": [
    "recall_score(y_data_0to4_sparse[25000:],y_pred_valid, average='weighted')"
   ]
  },
  {
   "cell_type": "code",
   "execution_count": 24,
   "metadata": {},
   "outputs": [
    {
     "output_type": "execute_result",
     "data": {
      "text/plain": [
       "array([[ 976,    1,    1,    2,    0],\n",
       "       [   1, 1126,    3,    2,    3],\n",
       "       [   4,    2, 1017,    7,    2],\n",
       "       [   0,    0,    6, 1003,    1],\n",
       "       [   2,    1,    2,    1,  976]], dtype=int64)"
      ]
     },
     "metadata": {},
     "execution_count": 24
    }
   ],
   "source": [
    "#on test data\n",
    "confusion_matrix(y_data_test0to4_sparse,y_pred_test)"
   ]
  },
  {
   "cell_type": "code",
   "execution_count": 25,
   "metadata": {},
   "outputs": [
    {
     "output_type": "execute_result",
     "data": {
      "text/plain": [
       "0.9920272021670881"
      ]
     },
     "metadata": {},
     "execution_count": 25
    }
   ],
   "source": [
    " precision_score(y_data_test0to4_sparse,y_pred_test, average='weighted')"
   ]
  },
  {
   "cell_type": "code",
   "execution_count": 26,
   "metadata": {},
   "outputs": [
    {
     "output_type": "execute_result",
     "data": {
      "text/plain": [
       "0.9920217941233703"
      ]
     },
     "metadata": {},
     "execution_count": 26
    }
   ],
   "source": [
    "recall_score(y_data_test0to4_sparse,y_pred_test, average='weighted')"
   ]
  },
  {
   "cell_type": "code",
   "execution_count": 27,
   "metadata": {},
   "outputs": [
    {
     "output_type": "execute_result",
     "data": {
      "text/plain": [
       "        loss  categorical_accuracy  precision   recall       auc  val_loss  \\\n",
       "0   1.656940               0.92460   0.924668  0.92452  0.964845  0.382113   \n",
       "1   0.267266               0.96424   0.965077  0.96388  0.989245  0.221287   \n",
       "2   0.133944               0.97440   0.975126  0.97380  0.994646  0.121527   \n",
       "3   0.107750               0.97784   0.978806  0.97724  0.995881  0.252099   \n",
       "4   0.102506               0.97816   0.979124  0.97744  0.995959  0.169039   \n",
       "5   0.074220               0.98116   0.982558  0.98020  0.997650  0.092808   \n",
       "6   0.088305               0.98060   0.981998  0.97972  0.996873  0.102595   \n",
       "7   0.067376               0.98376   0.985158  0.98236  0.997805  0.097329   \n",
       "8   0.052944               0.98700   0.988762  0.98540  0.998451  0.143325   \n",
       "9   0.045897               0.98828   0.989539  0.98756  0.998595  0.084839   \n",
       "10  0.050714               0.98724   0.988810  0.98620  0.998468  0.094641   \n",
       "11  0.041716               0.98956   0.991095  0.98828  0.998935  0.081574   \n",
       "12  0.032588               0.99172   0.992664  0.99048  0.999216  0.068148   \n",
       "13  0.029717               0.99212   0.992909  0.99140  0.999268  0.076472   \n",
       "14  0.044802               0.98896   0.990851  0.98776  0.998738  0.072923   \n",
       "15  0.023797               0.99324   0.994190  0.99252  0.999440  0.055590   \n",
       "16  0.019974               0.99484   0.995356  0.99440  0.999492  0.052281   \n",
       "17  0.022495               0.99404   0.994993  0.99360  0.999296  0.104999   \n",
       "18  0.026504               0.99356   0.994431  0.99276  0.999422  0.067643   \n",
       "19  0.013110               0.99660   0.997037  0.99616  0.999664  0.061156   \n",
       "20  0.024811               0.99432   0.995034  0.99380  0.999381  0.099710   \n",
       "21  0.018929               0.99480   0.995554  0.99428  0.999576  0.078000   \n",
       "22  0.016198               0.99572   0.996316  0.99528  0.999640  0.064386   \n",
       "23  0.014263               0.99652   0.996877  0.99608  0.999589  0.061296   \n",
       "24  0.009034               0.99732   0.997758  0.99700  0.999772  0.081073   \n",
       "25  0.011506               0.99700   0.997398  0.99668  0.999690  0.060271   \n",
       "26  0.009175               0.99768   0.997959  0.99756  0.999783  0.076257   \n",
       "\n",
       "    val_categorical_accuracy  val_precision  val_recall   val_auc  \n",
       "0                   0.959971       0.960658    0.959971  0.985462  \n",
       "1                   0.961044       0.962200    0.959793  0.991602  \n",
       "2                   0.976412       0.977090    0.975518  0.995198  \n",
       "3                   0.961222       0.961896    0.960865  0.989667  \n",
       "4                   0.961222       0.962751    0.960686  0.993016  \n",
       "5                   0.979450       0.980662    0.978735  0.996896  \n",
       "6                   0.980879       0.982447    0.980164  0.996546  \n",
       "7                   0.978199       0.981298    0.975161  0.997247  \n",
       "8                   0.973910       0.976677    0.972838  0.995698  \n",
       "9                   0.980879       0.982261    0.979628  0.997001  \n",
       "10                  0.983917       0.985492    0.983202  0.996461  \n",
       "11                  0.984989       0.985681    0.984096  0.996913  \n",
       "12                  0.982487       0.984409    0.981594  0.997850  \n",
       "13                  0.986955       0.987306    0.986776  0.996571  \n",
       "14                  0.986776       0.988345    0.984989  0.997169  \n",
       "15                  0.988563       0.989092    0.988385  0.998215  \n",
       "16                  0.988921       0.991204    0.986776  0.998345  \n",
       "17                  0.986240       0.987811    0.984811  0.996184  \n",
       "18                  0.987670       0.989255    0.987134  0.997535  \n",
       "19                  0.989278       0.989982    0.988921  0.997731  \n",
       "20                  0.986240       0.987287    0.985347  0.997283  \n",
       "21                  0.987670       0.988728    0.987491  0.997726  \n",
       "22                  0.988563       0.989440    0.987848  0.997595  \n",
       "23                  0.989278       0.989790    0.987491  0.997840  \n",
       "24                  0.987312       0.988010    0.986598  0.996573  \n",
       "25                  0.988742       0.988915    0.988385  0.997986  \n",
       "26                  0.990172       0.991052    0.989635  0.997108  "
      ],
      "text/html": "<div>\n<style scoped>\n    .dataframe tbody tr th:only-of-type {\n        vertical-align: middle;\n    }\n\n    .dataframe tbody tr th {\n        vertical-align: top;\n    }\n\n    .dataframe thead th {\n        text-align: right;\n    }\n</style>\n<table border=\"1\" class=\"dataframe\">\n  <thead>\n    <tr style=\"text-align: right;\">\n      <th></th>\n      <th>loss</th>\n      <th>categorical_accuracy</th>\n      <th>precision</th>\n      <th>recall</th>\n      <th>auc</th>\n      <th>val_loss</th>\n      <th>val_categorical_accuracy</th>\n      <th>val_precision</th>\n      <th>val_recall</th>\n      <th>val_auc</th>\n    </tr>\n  </thead>\n  <tbody>\n    <tr>\n      <th>0</th>\n      <td>1.656940</td>\n      <td>0.92460</td>\n      <td>0.924668</td>\n      <td>0.92452</td>\n      <td>0.964845</td>\n      <td>0.382113</td>\n      <td>0.959971</td>\n      <td>0.960658</td>\n      <td>0.959971</td>\n      <td>0.985462</td>\n    </tr>\n    <tr>\n      <th>1</th>\n      <td>0.267266</td>\n      <td>0.96424</td>\n      <td>0.965077</td>\n      <td>0.96388</td>\n      <td>0.989245</td>\n      <td>0.221287</td>\n      <td>0.961044</td>\n      <td>0.962200</td>\n      <td>0.959793</td>\n      <td>0.991602</td>\n    </tr>\n    <tr>\n      <th>2</th>\n      <td>0.133944</td>\n      <td>0.97440</td>\n      <td>0.975126</td>\n      <td>0.97380</td>\n      <td>0.994646</td>\n      <td>0.121527</td>\n      <td>0.976412</td>\n      <td>0.977090</td>\n      <td>0.975518</td>\n      <td>0.995198</td>\n    </tr>\n    <tr>\n      <th>3</th>\n      <td>0.107750</td>\n      <td>0.97784</td>\n      <td>0.978806</td>\n      <td>0.97724</td>\n      <td>0.995881</td>\n      <td>0.252099</td>\n      <td>0.961222</td>\n      <td>0.961896</td>\n      <td>0.960865</td>\n      <td>0.989667</td>\n    </tr>\n    <tr>\n      <th>4</th>\n      <td>0.102506</td>\n      <td>0.97816</td>\n      <td>0.979124</td>\n      <td>0.97744</td>\n      <td>0.995959</td>\n      <td>0.169039</td>\n      <td>0.961222</td>\n      <td>0.962751</td>\n      <td>0.960686</td>\n      <td>0.993016</td>\n    </tr>\n    <tr>\n      <th>5</th>\n      <td>0.074220</td>\n      <td>0.98116</td>\n      <td>0.982558</td>\n      <td>0.98020</td>\n      <td>0.997650</td>\n      <td>0.092808</td>\n      <td>0.979450</td>\n      <td>0.980662</td>\n      <td>0.978735</td>\n      <td>0.996896</td>\n    </tr>\n    <tr>\n      <th>6</th>\n      <td>0.088305</td>\n      <td>0.98060</td>\n      <td>0.981998</td>\n      <td>0.97972</td>\n      <td>0.996873</td>\n      <td>0.102595</td>\n      <td>0.980879</td>\n      <td>0.982447</td>\n      <td>0.980164</td>\n      <td>0.996546</td>\n    </tr>\n    <tr>\n      <th>7</th>\n      <td>0.067376</td>\n      <td>0.98376</td>\n      <td>0.985158</td>\n      <td>0.98236</td>\n      <td>0.997805</td>\n      <td>0.097329</td>\n      <td>0.978199</td>\n      <td>0.981298</td>\n      <td>0.975161</td>\n      <td>0.997247</td>\n    </tr>\n    <tr>\n      <th>8</th>\n      <td>0.052944</td>\n      <td>0.98700</td>\n      <td>0.988762</td>\n      <td>0.98540</td>\n      <td>0.998451</td>\n      <td>0.143325</td>\n      <td>0.973910</td>\n      <td>0.976677</td>\n      <td>0.972838</td>\n      <td>0.995698</td>\n    </tr>\n    <tr>\n      <th>9</th>\n      <td>0.045897</td>\n      <td>0.98828</td>\n      <td>0.989539</td>\n      <td>0.98756</td>\n      <td>0.998595</td>\n      <td>0.084839</td>\n      <td>0.980879</td>\n      <td>0.982261</td>\n      <td>0.979628</td>\n      <td>0.997001</td>\n    </tr>\n    <tr>\n      <th>10</th>\n      <td>0.050714</td>\n      <td>0.98724</td>\n      <td>0.988810</td>\n      <td>0.98620</td>\n      <td>0.998468</td>\n      <td>0.094641</td>\n      <td>0.983917</td>\n      <td>0.985492</td>\n      <td>0.983202</td>\n      <td>0.996461</td>\n    </tr>\n    <tr>\n      <th>11</th>\n      <td>0.041716</td>\n      <td>0.98956</td>\n      <td>0.991095</td>\n      <td>0.98828</td>\n      <td>0.998935</td>\n      <td>0.081574</td>\n      <td>0.984989</td>\n      <td>0.985681</td>\n      <td>0.984096</td>\n      <td>0.996913</td>\n    </tr>\n    <tr>\n      <th>12</th>\n      <td>0.032588</td>\n      <td>0.99172</td>\n      <td>0.992664</td>\n      <td>0.99048</td>\n      <td>0.999216</td>\n      <td>0.068148</td>\n      <td>0.982487</td>\n      <td>0.984409</td>\n      <td>0.981594</td>\n      <td>0.997850</td>\n    </tr>\n    <tr>\n      <th>13</th>\n      <td>0.029717</td>\n      <td>0.99212</td>\n      <td>0.992909</td>\n      <td>0.99140</td>\n      <td>0.999268</td>\n      <td>0.076472</td>\n      <td>0.986955</td>\n      <td>0.987306</td>\n      <td>0.986776</td>\n      <td>0.996571</td>\n    </tr>\n    <tr>\n      <th>14</th>\n      <td>0.044802</td>\n      <td>0.98896</td>\n      <td>0.990851</td>\n      <td>0.98776</td>\n      <td>0.998738</td>\n      <td>0.072923</td>\n      <td>0.986776</td>\n      <td>0.988345</td>\n      <td>0.984989</td>\n      <td>0.997169</td>\n    </tr>\n    <tr>\n      <th>15</th>\n      <td>0.023797</td>\n      <td>0.99324</td>\n      <td>0.994190</td>\n      <td>0.99252</td>\n      <td>0.999440</td>\n      <td>0.055590</td>\n      <td>0.988563</td>\n      <td>0.989092</td>\n      <td>0.988385</td>\n      <td>0.998215</td>\n    </tr>\n    <tr>\n      <th>16</th>\n      <td>0.019974</td>\n      <td>0.99484</td>\n      <td>0.995356</td>\n      <td>0.99440</td>\n      <td>0.999492</td>\n      <td>0.052281</td>\n      <td>0.988921</td>\n      <td>0.991204</td>\n      <td>0.986776</td>\n      <td>0.998345</td>\n    </tr>\n    <tr>\n      <th>17</th>\n      <td>0.022495</td>\n      <td>0.99404</td>\n      <td>0.994993</td>\n      <td>0.99360</td>\n      <td>0.999296</td>\n      <td>0.104999</td>\n      <td>0.986240</td>\n      <td>0.987811</td>\n      <td>0.984811</td>\n      <td>0.996184</td>\n    </tr>\n    <tr>\n      <th>18</th>\n      <td>0.026504</td>\n      <td>0.99356</td>\n      <td>0.994431</td>\n      <td>0.99276</td>\n      <td>0.999422</td>\n      <td>0.067643</td>\n      <td>0.987670</td>\n      <td>0.989255</td>\n      <td>0.987134</td>\n      <td>0.997535</td>\n    </tr>\n    <tr>\n      <th>19</th>\n      <td>0.013110</td>\n      <td>0.99660</td>\n      <td>0.997037</td>\n      <td>0.99616</td>\n      <td>0.999664</td>\n      <td>0.061156</td>\n      <td>0.989278</td>\n      <td>0.989982</td>\n      <td>0.988921</td>\n      <td>0.997731</td>\n    </tr>\n    <tr>\n      <th>20</th>\n      <td>0.024811</td>\n      <td>0.99432</td>\n      <td>0.995034</td>\n      <td>0.99380</td>\n      <td>0.999381</td>\n      <td>0.099710</td>\n      <td>0.986240</td>\n      <td>0.987287</td>\n      <td>0.985347</td>\n      <td>0.997283</td>\n    </tr>\n    <tr>\n      <th>21</th>\n      <td>0.018929</td>\n      <td>0.99480</td>\n      <td>0.995554</td>\n      <td>0.99428</td>\n      <td>0.999576</td>\n      <td>0.078000</td>\n      <td>0.987670</td>\n      <td>0.988728</td>\n      <td>0.987491</td>\n      <td>0.997726</td>\n    </tr>\n    <tr>\n      <th>22</th>\n      <td>0.016198</td>\n      <td>0.99572</td>\n      <td>0.996316</td>\n      <td>0.99528</td>\n      <td>0.999640</td>\n      <td>0.064386</td>\n      <td>0.988563</td>\n      <td>0.989440</td>\n      <td>0.987848</td>\n      <td>0.997595</td>\n    </tr>\n    <tr>\n      <th>23</th>\n      <td>0.014263</td>\n      <td>0.99652</td>\n      <td>0.996877</td>\n      <td>0.99608</td>\n      <td>0.999589</td>\n      <td>0.061296</td>\n      <td>0.989278</td>\n      <td>0.989790</td>\n      <td>0.987491</td>\n      <td>0.997840</td>\n    </tr>\n    <tr>\n      <th>24</th>\n      <td>0.009034</td>\n      <td>0.99732</td>\n      <td>0.997758</td>\n      <td>0.99700</td>\n      <td>0.999772</td>\n      <td>0.081073</td>\n      <td>0.987312</td>\n      <td>0.988010</td>\n      <td>0.986598</td>\n      <td>0.996573</td>\n    </tr>\n    <tr>\n      <th>25</th>\n      <td>0.011506</td>\n      <td>0.99700</td>\n      <td>0.997398</td>\n      <td>0.99668</td>\n      <td>0.999690</td>\n      <td>0.060271</td>\n      <td>0.988742</td>\n      <td>0.988915</td>\n      <td>0.988385</td>\n      <td>0.997986</td>\n    </tr>\n    <tr>\n      <th>26</th>\n      <td>0.009175</td>\n      <td>0.99768</td>\n      <td>0.997959</td>\n      <td>0.99756</td>\n      <td>0.999783</td>\n      <td>0.076257</td>\n      <td>0.990172</td>\n      <td>0.991052</td>\n      <td>0.989635</td>\n      <td>0.997108</td>\n    </tr>\n  </tbody>\n</table>\n</div>"
     },
     "metadata": {},
     "execution_count": 27
    }
   ],
   "source": [
    "#learning curves for lr = 0.01, beta1 = 0.9, beta2 = 0.9994\n",
    "import pandas as pd\n",
    "model_dnn_history1_df = pd.DataFrame(data = model_dnn_history1.history)\n",
    "model_dnn_history1_df"
   ]
  },
  {
   "cell_type": "code",
   "execution_count": 28,
   "metadata": {},
   "outputs": [],
   "source": [
    "#number of layers is fixed, only thing being changed is learning rate, beta1, beta2\n",
    "def validating_dnn_model_0to4(lr = 0.001, beta1 = 0.9, beta2 = 0.999):\n",
    "    #set for only 5 hidden layers\n",
    "    model = keras.models.Sequential()\n",
    "    model.add(keras.layers.Flatten(input_shape = [28,28]))\n",
    "    for i in range(5):\n",
    "        model.add(keras.layers.Dense(100,activation = \"elu\",kernel_initializer=\"he_normal\"))\n",
    "    model.add(keras.layers.Dense(5, activation=\"softmax\"))\n",
    "    optim = keras.optimizers.Adam(lr = lr,beta_1=beta1,beta_2=beta2)\n",
    "    accuracy = keras.metrics.CategoricalAccuracy(name = \"categorical_accuracy\")\n",
    "    precision = keras.metrics.Precision()\n",
    "    recall = keras.metrics.Recall()\n",
    "    aucscore = keras.metrics.AUC()\n",
    "    model.compile(loss = \"categorical_crossentropy\",\n",
    "                    optimizer = optim, metrics = [accuracy,precision,recall,aucscore])\n",
    "    return model"
   ]
  },
  {
   "cell_type": "code",
   "execution_count": 29,
   "metadata": {},
   "outputs": [],
   "source": [
    "keras_dnn_model_0to4 = keras.wrappers.scikit_learn.KerasRegressor(validating_dnn_model_0to4)"
   ]
  },
  {
   "cell_type": "code",
   "execution_count": 30,
   "metadata": {},
   "outputs": [],
   "source": [
    "checkpoint = keras.callbacks.ModelCheckpoint(\"zerotofour.h5\", save_best_only=True)\n",
    "earlystopping = keras.callbacks.EarlyStopping(patience = 10, restore_best_weights=True)"
   ]
  },
  {
   "cell_type": "code",
   "execution_count": 31,
   "metadata": {},
   "outputs": [],
   "source": [
    "from sklearn.model_selection import RandomizedSearchCV\n",
    "from sklearn.metrics import make_scorer"
   ]
  },
  {
   "cell_type": "code",
   "execution_count": 32,
   "metadata": {},
   "outputs": [],
   "source": [
    "\"\"\" scoring_dnn = {\n",
    "    \"Precision\" : make_scorer(precision),\n",
    "    \"Accuracy\" : make_scorer(accuracy), \n",
    "    \"Recall\" : make_scorer(recall), \n",
    "    \"AUC\" : make_scorer(aucscore)\n",
    "} \"\"\"\n",
    "\n",
    "param_grid_dnn_0to4 = {\n",
    "    'lr' : (0.0005,0.001, 0.005, 0.01, 0.05, 0.1),\n",
    "    'beta1' : (0.4,0.5,0.6,0.7,0.8),\n",
    "    'beta2' : (0.6,0.7,0.8,0.9,0.999)\n",
    "}"
   ]
  },
  {
   "cell_type": "code",
   "execution_count": 33,
   "metadata": {},
   "outputs": [],
   "source": [
    "rnd_search_dnn = RandomizedSearchCV(estimator = keras_dnn_model_0to4, param_distributions = param_grid_dnn_0to4, verbose = 2, return_train_score = True, n_iter = 10, random_state = 42)"
   ]
  },
  {
   "cell_type": "code",
   "execution_count": 34,
   "metadata": {
    "tags": [
     "outputPrepend"
    ]
   },
   "outputs": [
    {
     "output_type": "stream",
     "name": "stdout",
     "text": [
      "cy: 0.1966 - val_precision_48: 0.1966 - val_recall_48: 0.1966 - val_auc_48: 0.4919\n",
      "Epoch 28/40\n",
      "625/625 [==============================] - 2s 3ms/step - loss: 2.3257 - categorical_accuracy: 0.1988 - precision_48: 0.2047 - recall_48: 0.1216 - auc_48: 0.5008 - val_loss: 1.8577 - val_categorical_accuracy: 0.2057 - val_precision_48: 0.0000e+00 - val_recall_48: 0.0000e+00 - val_auc_48: 0.4981\n",
      "Epoch 29/40\n",
      "625/625 [==============================] - 2s 3ms/step - loss: 2.3190 - categorical_accuracy: 0.2051 - precision_48: 0.2038 - recall_48: 0.1093 - auc_48: 0.4975 - val_loss: 2.5136 - val_categorical_accuracy: 0.2100 - val_precision_48: 0.2100 - val_recall_48: 0.2100 - val_auc_48: 0.5087\n",
      "Epoch 30/40\n",
      "625/625 [==============================] - 2s 3ms/step - loss: 2.3190 - categorical_accuracy: 0.2017 - precision_48: 0.1991 - recall_48: 0.1224 - auc_48: 0.5018 - val_loss: 2.7721 - val_categorical_accuracy: 0.2100 - val_precision_48: 0.2100 - val_recall_48: 0.2100 - val_auc_48: 0.5013\n",
      "Epoch 31/40\n",
      "625/625 [==============================] - 2s 3ms/step - loss: 2.3225 - categorical_accuracy: 0.2100 - precision_48: 0.2134 - recall_48: 0.1237 - auc_48: 0.5080 - val_loss: 2.7405 - val_categorical_accuracy: 0.1921 - val_precision_48: 0.1921 - val_recall_48: 0.1921 - val_auc_48: 0.4934\n",
      "Epoch 32/40\n",
      "625/625 [==============================] - 2s 3ms/step - loss: 2.3327 - categorical_accuracy: 0.2006 - precision_48: 0.2005 - recall_48: 0.1121 - auc_48: 0.5018 - val_loss: 1.9614 - val_categorical_accuracy: 0.2100 - val_precision_48: 0.0000e+00 - val_recall_48: 0.0000e+00 - val_auc_48: 0.5024\n",
      "157/157 [==============================] - 0s 2ms/step - loss: 1.7079 - categorical_accuracy: 0.1962 - precision_48: 0.0000e+00 - recall_48: 0.0000e+00 - auc_48: 0.5092\n",
      "625/625 [==============================] - 2s 2ms/step - loss: 1.7063 - categorical_accuracy: 0.1999 - precision_48: 0.0000e+00 - recall_48: 0.0000e+00 - auc_48: 0.5104\n",
      "[CV] END ......................beta1=0.6, beta2=0.9, lr=0.05; total time= 1.1min\n",
      "Epoch 1/40\n",
      "625/625 [==============================] - 4s 4ms/step - loss: 421.0270 - categorical_accuracy: 0.3123 - precision_49: 0.3493 - recall_49: 0.2439 - auc_49: 0.6125 - val_loss: 2.6615 - val_categorical_accuracy: 0.1957 - val_precision_49: 0.1957 - val_recall_49: 0.1957 - val_auc_49: 0.4962\n",
      "Epoch 2/40\n",
      "625/625 [==============================] - 2s 3ms/step - loss: 31.9735 - categorical_accuracy: 0.2044 - precision_49: 0.2020 - recall_49: 0.1103 - auc_49: 0.5020 - val_loss: 1.9917 - val_categorical_accuracy: 0.1957 - val_precision_49: 0.1957 - val_recall_49: 0.1957 - val_auc_49: 0.4962\n",
      "Epoch 3/40\n",
      "625/625 [==============================] - 2s 3ms/step - loss: 2.3350 - categorical_accuracy: 0.1981 - precision_49: 0.1999 - recall_49: 0.1124 - auc_49: 0.4986 - val_loss: 2.4555 - val_categorical_accuracy: 0.1964 - val_precision_49: 0.1964 - val_recall_49: 0.1964 - val_auc_49: 0.4996\n",
      "Epoch 4/40\n",
      "625/625 [==============================] - 2s 3ms/step - loss: 2.3814 - categorical_accuracy: 0.2002 - precision_49: 0.1992 - recall_49: 0.1280 - auc_49: 0.5043 - val_loss: 1.8965 - val_categorical_accuracy: 0.2057 - val_precision_49: 0.0000e+00 - val_recall_49: 0.0000e+00 - val_auc_49: 0.5039\n",
      "Epoch 5/40\n",
      "625/625 [==============================] - 2s 3ms/step - loss: 2.3381 - categorical_accuracy: 0.1984 - precision_49: 0.1892 - recall_49: 0.1010 - auc_49: 0.4976 - val_loss: 2.7626 - val_categorical_accuracy: 0.2100 - val_precision_49: 0.2100 - val_recall_49: 0.2100 - val_auc_49: 0.5059\n",
      "Epoch 6/40\n",
      "625/625 [==============================] - 2s 3ms/step - loss: 2.3170 - categorical_accuracy: 0.2045 - precision_49: 0.2089 - recall_49: 0.1223 - auc_49: 0.5026 - val_loss: 1.8552 - val_categorical_accuracy: 0.1957 - val_precision_49: 0.0000e+00 - val_recall_49: 0.0000e+00 - val_auc_49: 0.5041\n",
      "Epoch 7/40\n",
      "625/625 [==============================] - 2s 3ms/step - loss: 2.3497 - categorical_accuracy: 0.2003 - precision_49: 0.2041 - recall_49: 0.1220 - auc_49: 0.5033 - val_loss: 2.5509 - val_categorical_accuracy: 0.2100 - val_precision_49: 0.2100 - val_recall_49: 0.2100 - val_auc_49: 0.5060\n",
      "Epoch 8/40\n",
      "625/625 [==============================] - 2s 3ms/step - loss: 2.3053 - categorical_accuracy: 0.2054 - precision_49: 0.2094 - recall_49: 0.1212 - auc_49: 0.5038 - val_loss: 2.6271 - val_categorical_accuracy: 0.2100 - val_precision_49: 0.2100 - val_recall_49: 0.2100 - val_auc_49: 0.5091\n",
      "Epoch 9/40\n",
      "625/625 [==============================] - 2s 3ms/step - loss: 2.3917 - categorical_accuracy: 0.2062 - precision_49: 0.2079 - recall_49: 0.1120 - auc_49: 0.5085 - val_loss: 2.3711 - val_categorical_accuracy: 0.1921 - val_precision_49: 0.1921 - val_recall_49: 0.1921 - val_auc_49: 0.4892\n",
      "Epoch 10/40\n",
      "625/625 [==============================] - 2s 3ms/step - loss: 2.3371 - categorical_accuracy: 0.2026 - precision_49: 0.2014 - recall_49: 0.1128 - auc_49: 0.5059 - val_loss: 1.8488 - val_categorical_accuracy: 0.2100 - val_precision_49: 0.0000e+00 - val_recall_49: 0.0000e+00 - val_auc_49: 0.5094\n",
      "Epoch 11/40\n",
      "625/625 [==============================] - 2s 3ms/step - loss: 2.2865 - categorical_accuracy: 0.2007 - precision_49: 0.2007 - recall_49: 0.0957 - auc_49: 0.4979 - val_loss: 1.8731 - val_categorical_accuracy: 0.1921 - val_precision_49: 0.0000e+00 - val_recall_49: 0.0000e+00 - val_auc_49: 0.4898\n",
      "Epoch 12/40\n",
      "625/625 [==============================] - 2s 3ms/step - loss: 2.3572 - categorical_accuracy: 0.2013 - precision_49: 0.2013 - recall_49: 0.1206 - auc_49: 0.5045 - val_loss: 2.7625 - val_categorical_accuracy: 0.1921 - val_precision_49: 0.1921 - val_recall_49: 0.1921 - val_auc_49: 0.4941\n",
      "Epoch 13/40\n",
      "625/625 [==============================] - 2s 3ms/step - loss: 2.3713 - categorical_accuracy: 0.2056 - precision_49: 0.2107 - recall_49: 0.1273 - auc_49: 0.5075 - val_loss: 2.2956 - val_categorical_accuracy: 0.1921 - val_precision_49: 0.1921 - val_recall_49: 0.1921 - val_auc_49: 0.5005\n",
      "Epoch 14/40\n",
      "625/625 [==============================] - 2s 3ms/step - loss: 2.3817 - categorical_accuracy: 0.2009 - precision_49: 0.2016 - recall_49: 0.1176 - auc_49: 0.5056 - val_loss: 1.9779 - val_categorical_accuracy: 0.1921 - val_precision_49: 0.0000e+00 - val_recall_49: 0.0000e+00 - val_auc_49: 0.4912\n",
      "Epoch 15/40\n",
      "625/625 [==============================] - 2s 3ms/step - loss: 2.3321 - categorical_accuracy: 0.1955 - precision_49: 0.2046 - recall_49: 0.1155 - auc_49: 0.5007 - val_loss: 2.9485 - val_categorical_accuracy: 0.2100 - val_precision_49: 0.2100 - val_recall_49: 0.2100 - val_auc_49: 0.5066\n",
      "Epoch 16/40\n",
      "625/625 [==============================] - 2s 3ms/step - loss: 2.3478 - categorical_accuracy: 0.2024 - precision_49: 0.2059 - recall_49: 0.1198 - auc_49: 0.4979 - val_loss: 2.3928 - val_categorical_accuracy: 0.2100 - val_precision_49: 0.2100 - val_recall_49: 0.2100 - val_auc_49: 0.5033\n",
      "Epoch 17/40\n",
      "625/625 [==============================] - 2s 3ms/step - loss: 2.3075 - categorical_accuracy: 0.2077 - precision_49: 0.2095 - recall_49: 0.1276 - auc_49: 0.5060 - val_loss: 2.0128 - val_categorical_accuracy: 0.2057 - val_precision_49: 0.0000e+00 - val_recall_49: 0.0000e+00 - val_auc_49: 0.5010\n",
      "Epoch 18/40\n",
      "625/625 [==============================] - 2s 3ms/step - loss: 2.2968 - categorical_accuracy: 0.2057 - precision_49: 0.2013 - recall_49: 0.1113 - auc_49: 0.5047 - val_loss: 1.9451 - val_categorical_accuracy: 0.1921 - val_precision_49: 0.1921 - val_recall_49: 0.1921 - val_auc_49: 0.4992\n",
      "Epoch 19/40\n",
      "625/625 [==============================] - 2s 3ms/step - loss: 2.3196 - categorical_accuracy: 0.2020 - precision_49: 0.1996 - recall_49: 0.1158 - auc_49: 0.5012 - val_loss: 1.9808 - val_categorical_accuracy: 0.2057 - val_precision_49: 0.2057 - val_recall_49: 0.2057 - val_auc_49: 0.5094\n",
      "Epoch 20/40\n",
      "625/625 [==============================] - 2s 3ms/step - loss: 2.3317 - categorical_accuracy: 0.1974 - precision_49: 0.1981 - recall_49: 0.1129 - auc_49: 0.4994 - val_loss: 2.0191 - val_categorical_accuracy: 0.1921 - val_precision_49: 0.1921 - val_recall_49: 0.1921 - val_auc_49: 0.4933\n",
      "157/157 [==============================] - 0s 2ms/step - loss: 1.8379 - categorical_accuracy: 0.2236 - precision_49: 0.0000e+00 - recall_49: 0.0000e+00 - auc_49: 0.5163\n",
      "625/625 [==============================] - 2s 2ms/step - loss: 1.8396 - categorical_accuracy: 0.2225 - precision_49: 0.0000e+00 - recall_49: 0.0000e+00 - auc_49: 0.5155\n",
      "[CV] END ......................beta1=0.6, beta2=0.9, lr=0.05; total time=  42.6s\n",
      "Epoch 1/40\n",
      "625/625 [==============================] - 4s 5ms/step - loss: 296.9023 - categorical_accuracy: 0.2903 - precision_50: 0.3274 - recall_50: 0.2139 - auc_50: 0.5917 - val_loss: 2.4486 - val_categorical_accuracy: 0.2057 - val_precision_50: 0.2057 - val_recall_50: 0.2057 - val_auc_50: 0.5084\n",
      "Epoch 2/40\n",
      "625/625 [==============================] - 2s 3ms/step - loss: 2.3281 - categorical_accuracy: 0.1972 - precision_50: 0.1917 - recall_50: 0.1102 - auc_50: 0.4999 - val_loss: 2.1652 - val_categorical_accuracy: 0.2057 - val_precision_50: 0.0000e+00 - val_recall_50: 0.0000e+00 - val_auc_50: 0.5034\n",
      "Epoch 3/40\n",
      "625/625 [==============================] - 2s 3ms/step - loss: 2.3961 - categorical_accuracy: 0.2010 - precision_50: 0.1982 - recall_50: 0.1208 - auc_50: 0.5017 - val_loss: 2.4120 - val_categorical_accuracy: 0.2057 - val_precision_50: 0.2057 - val_recall_50: 0.2057 - val_auc_50: 0.5039\n",
      "Epoch 4/40\n",
      "625/625 [==============================] - 2s 3ms/step - loss: 2.3515 - categorical_accuracy: 0.2014 - precision_50: 0.2038 - recall_50: 0.1166 - auc_50: 0.5016 - val_loss: 1.9596 - val_categorical_accuracy: 0.2100 - val_precision_50: 0.0000e+00 - val_recall_50: 0.0000e+00 - val_auc_50: 0.5087\n",
      "Epoch 5/40\n",
      "625/625 [==============================] - 2s 3ms/step - loss: 2.2899 - categorical_accuracy: 0.2037 - precision_50: 0.2072 - recall_50: 0.1155 - auc_50: 0.5041 - val_loss: 2.2827 - val_categorical_accuracy: 0.1966 - val_precision_50: 0.0000e+00 - val_recall_50: 0.0000e+00 - val_auc_50: 0.4967\n",
      "Epoch 6/40\n",
      "625/625 [==============================] - 2s 4ms/step - loss: 2.4014 - categorical_accuracy: 0.1901 - precision_50: 0.1840 - recall_50: 0.1075 - auc_50: 0.4898 - val_loss: 1.9770 - val_categorical_accuracy: 0.1957 - val_precision_50: 0.1957 - val_recall_50: 0.1957 - val_auc_50: 0.4939\n",
      "Epoch 7/40\n",
      "625/625 [==============================] - 2s 3ms/step - loss: 2.3160 - categorical_accuracy: 0.1938 - precision_50: 0.1939 - recall_50: 0.1077 - auc_50: 0.4953 - val_loss: 1.9074 - val_categorical_accuracy: 0.1966 - val_precision_50: 0.0000e+00 - val_recall_50: 0.0000e+00 - val_auc_50: 0.5059\n",
      "Epoch 8/40\n",
      "625/625 [==============================] - 2s 3ms/step - loss: 2.3226 - categorical_accuracy: 0.2027 - precision_50: 0.1997 - recall_50: 0.1158 - auc_50: 0.5026 - val_loss: 2.4158 - val_categorical_accuracy: 0.2100 - val_precision_50: 0.2100 - val_recall_50: 0.2100 - val_auc_50: 0.5036\n",
      "Epoch 9/40\n",
      "625/625 [==============================] - 2s 3ms/step - loss: 2.3346 - categorical_accuracy: 0.2028 - precision_50: 0.2024 - recall_50: 0.1259 - auc_50: 0.5039 - val_loss: 2.1003 - val_categorical_accuracy: 0.2100 - val_precision_50: 0.2100 - val_recall_50: 0.2100 - val_auc_50: 0.5105\n",
      "Epoch 10/40\n",
      "625/625 [==============================] - 2s 3ms/step - loss: 2.3718 - categorical_accuracy: 0.1994 - precision_50: 0.2015 - recall_50: 0.1133 - auc_50: 0.5031 - val_loss: 2.4247 - val_categorical_accuracy: 0.1957 - val_precision_50: 0.1957 - val_recall_50: 0.1957 - val_auc_50: 0.4995\n",
      "Epoch 11/40\n",
      "625/625 [==============================] - 2s 3ms/step - loss: 2.3451 - categorical_accuracy: 0.2060 - precision_50: 0.2091 - recall_50: 0.1237 - auc_50: 0.5084 - val_loss: 1.7851 - val_categorical_accuracy: 0.1921 - val_precision_50: 0.0000e+00 - val_recall_50: 0.0000e+00 - val_auc_50: 0.5013\n",
      "Epoch 12/40\n",
      "625/625 [==============================] - 2s 3ms/step - loss: 2.2813 - categorical_accuracy: 0.1987 - precision_50: 0.2071 - recall_50: 0.1050 - auc_50: 0.4968 - val_loss: 2.5609 - val_categorical_accuracy: 0.1966 - val_precision_50: 0.1966 - val_recall_50: 0.1966 - val_auc_50: 0.4945\n",
      "Epoch 13/40\n",
      "625/625 [==============================] - 2s 3ms/step - loss: 2.3111 - categorical_accuracy: 0.2038 - precision_50: 0.2012 - recall_50: 0.1154 - auc_50: 0.5055 - val_loss: 1.8538 - val_categorical_accuracy: 0.2057 - val_precision_50: 0.0000e+00 - val_recall_50: 0.0000e+00 - val_auc_50: 0.5032\n",
      "Epoch 14/40\n",
      "625/625 [==============================] - 2s 3ms/step - loss: 2.3509 - categorical_accuracy: 0.1982 - precision_50: 0.1997 - recall_50: 0.1125 - auc_50: 0.5030 - val_loss: 2.1276 - val_categorical_accuracy: 0.2100 - val_precision_50: 0.2100 - val_recall_50: 0.2100 - val_auc_50: 0.5019\n",
      "Epoch 15/40\n",
      "625/625 [==============================] - 2s 3ms/step - loss: 2.3154 - categorical_accuracy: 0.2015 - precision_50: 0.2018 - recall_50: 0.1232 - auc_50: 0.5061 - val_loss: 2.0492 - val_categorical_accuracy: 0.2100 - val_precision_50: 0.0000e+00 - val_recall_50: 0.0000e+00 - val_auc_50: 0.5049\n",
      "Epoch 16/40\n",
      "625/625 [==============================] - 2s 3ms/step - loss: 2.2875 - categorical_accuracy: 0.2059 - precision_50: 0.2019 - recall_50: 0.1041 - auc_50: 0.5091 - val_loss: 3.0326 - val_categorical_accuracy: 0.1957 - val_precision_50: 0.1957 - val_recall_50: 0.1957 - val_auc_50: 0.4951\n",
      "Epoch 17/40\n",
      "625/625 [==============================] - 2s 3ms/step - loss: 2.3259 - categorical_accuracy: 0.1992 - precision_50: 0.1961 - recall_50: 0.1123 - auc_50: 0.4948 - val_loss: 1.9480 - val_categorical_accuracy: 0.2100 - val_precision_50: 0.0000e+00 - val_recall_50: 0.0000e+00 - val_auc_50: 0.5105\n",
      "Epoch 18/40\n",
      "625/625 [==============================] - 2s 3ms/step - loss: 2.3593 - categorical_accuracy: 0.1957 - precision_50: 0.1941 - recall_50: 0.1040 - auc_50: 0.4959 - val_loss: 1.7876 - val_categorical_accuracy: 0.2100 - val_precision_50: 0.0000e+00 - val_recall_50: 0.0000e+00 - val_auc_50: 0.5092\n",
      "Epoch 19/40\n",
      "625/625 [==============================] - 2s 3ms/step - loss: 2.3114 - categorical_accuracy: 0.1998 - precision_50: 0.1995 - recall_50: 0.1119 - auc_50: 0.5029 - val_loss: 1.9041 - val_categorical_accuracy: 0.2057 - val_precision_50: 0.0000e+00 - val_recall_50: 0.0000e+00 - val_auc_50: 0.5055\n",
      "Epoch 20/40\n",
      "625/625 [==============================] - 2s 3ms/step - loss: 2.3262 - categorical_accuracy: 0.2030 - precision_50: 0.1997 - recall_50: 0.1063 - auc_50: 0.4965 - val_loss: 1.9732 - val_categorical_accuracy: 0.2100 - val_precision_50: 0.2100 - val_recall_50: 0.2100 - val_auc_50: 0.5076\n",
      "Epoch 21/40\n",
      "625/625 [==============================] - 2s 3ms/step - loss: 2.3037 - categorical_accuracy: 0.1982 - precision_50: 0.1978 - recall_50: 0.1100 - auc_50: 0.5013 - val_loss: 3.5142 - val_categorical_accuracy: 0.1966 - val_precision_50: 0.1966 - val_recall_50: 0.1966 - val_auc_50: 0.4965\n",
      "157/157 [==============================] - 0s 2ms/step - loss: 1.7873 - categorical_accuracy: 0.1888 - precision_50: 0.0000e+00 - recall_50: 0.0000e+00 - auc_50: 0.5005\n",
      "625/625 [==============================] - 2s 2ms/step - loss: 1.7738 - categorical_accuracy: 0.1911 - precision_50: 0.0000e+00 - recall_50: 0.0000e+00 - auc_50: 0.5073\n",
      "[CV] END ......................beta1=0.6, beta2=0.9, lr=0.05; total time=  43.9s\n",
      "Epoch 1/40\n",
      "782/782 [==============================] - 5s 4ms/step - loss: 4.9042 - categorical_accuracy: 0.8788 - precision_51: 0.8790 - recall_51: 0.8787 - auc_51: 0.9337 - val_loss: 0.3327 - val_categorical_accuracy: 0.9648 - val_precision_51: 0.9655 - val_recall_51: 0.9648 - val_auc_51: 0.9880\n",
      "Epoch 2/40\n",
      "782/782 [==============================] - 2s 3ms/step - loss: 0.3625 - categorical_accuracy: 0.9622 - precision_51: 0.9625 - recall_51: 0.9621 - auc_51: 0.9869 - val_loss: 0.2301 - val_categorical_accuracy: 0.9652 - val_precision_51: 0.9663 - val_recall_51: 0.9646 - val_auc_51: 0.9910\n",
      "Epoch 3/40\n",
      "782/782 [==============================] - 2s 3ms/step - loss: 0.2200 - categorical_accuracy: 0.9716 - precision_51: 0.9720 - recall_51: 0.9715 - auc_51: 0.9917 - val_loss: 0.1867 - val_categorical_accuracy: 0.9700 - val_precision_51: 0.9707 - val_recall_51: 0.9693 - val_auc_51: 0.9929\n",
      "Epoch 4/40\n",
      "782/782 [==============================] - 2s 3ms/step - loss: 0.1892 - categorical_accuracy: 0.9767 - precision_51: 0.9775 - recall_51: 0.9765 - auc_51: 0.9934 - val_loss: 0.1657 - val_categorical_accuracy: 0.9789 - val_precision_51: 0.9807 - val_recall_51: 0.9784 - val_auc_51: 0.9948\n",
      "Epoch 5/40\n",
      "782/782 [==============================] - 2s 3ms/step - loss: 0.1486 - categorical_accuracy: 0.9766 - precision_51: 0.9780 - recall_51: 0.9757 - auc_51: 0.9948 - val_loss: 0.1644 - val_categorical_accuracy: 0.9796 - val_precision_51: 0.9817 - val_recall_51: 0.9793 - val_auc_51: 0.9951\n",
      "Epoch 6/40\n",
      "782/782 [==============================] - 2s 3ms/step - loss: 0.1273 - categorical_accuracy: 0.9804 - precision_51: 0.9813 - recall_51: 0.9801 - auc_51: 0.9954 - val_loss: 0.1334 - val_categorical_accuracy: 0.9836 - val_precision_51: 0.9842 - val_recall_51: 0.9823 - val_auc_51: 0.9957\n",
      "Epoch 7/40\n",
      "782/782 [==============================] - 2s 3ms/step - loss: 0.1196 - categorical_accuracy: 0.9837 - precision_51: 0.9845 - recall_51: 0.9833 - auc_51: 0.9961 - val_loss: 0.1564 - val_categorical_accuracy: 0.9805 - val_precision_51: 0.9810 - val_recall_51: 0.9803 - val_auc_51: 0.9951\n",
      "Epoch 8/40\n",
      "782/782 [==============================] - 2s 3ms/step - loss: 0.1301 - categorical_accuracy: 0.9852 - precision_51: 0.9859 - recall_51: 0.9848 - auc_51: 0.9960 - val_loss: 0.2141 - val_categorical_accuracy: 0.9857 - val_precision_51: 0.9859 - val_recall_51: 0.9855 - val_auc_51: 0.9950\n",
      "Epoch 9/40\n",
      "782/782 [==============================] - 2s 3ms/step - loss: 0.0987 - categorical_accuracy: 0.9879 - precision_51: 0.9887 - recall_51: 0.9877 - auc_51: 0.9965 - val_loss: 0.1434 - val_categorical_accuracy: 0.9827 - val_precision_51: 0.9835 - val_recall_51: 0.9823 - val_auc_51: 0.9961\n",
      "Epoch 10/40\n",
      "782/782 [==============================] - 2s 3ms/step - loss: 0.1048 - categorical_accuracy: 0.9889 - precision_51: 0.9893 - recall_51: 0.9887 - auc_51: 0.9972 - val_loss: 0.2191 - val_categorical_accuracy: 0.9848 - val_precision_51: 0.9850 - val_recall_51: 0.9846 - val_auc_51: 0.9937\n",
      "Epoch 11/40\n",
      "782/782 [==============================] - 2s 3ms/step - loss: 0.0984 - categorical_accuracy: 0.9897 - precision_51: 0.9901 - recall_51: 0.9895 - auc_51: 0.9973 - val_loss: 0.1863 - val_categorical_accuracy: 0.9853 - val_precision_51: 0.9857 - val_recall_51: 0.9850 - val_auc_51: 0.9953\n",
      "Epoch 12/40\n",
      "782/782 [==============================] - 2s 3ms/step - loss: 0.1037 - categorical_accuracy: 0.9880 - precision_51: 0.9883 - recall_51: 0.9877 - auc_51: 0.9965 - val_loss: 0.2577 - val_categorical_accuracy: 0.9823 - val_precision_51: 0.9832 - val_recall_51: 0.9818 - val_auc_51: 0.9937\n",
      "Epoch 13/40\n",
      "782/782 [==============================] - 2s 3ms/step - loss: 0.0983 - categorical_accuracy: 0.9884 - precision_51: 0.9887 - recall_51: 0.9880 - auc_51: 0.9970 - val_loss: 0.2872 - val_categorical_accuracy: 0.9834 - val_precision_51: 0.9844 - val_recall_51: 0.9828 - val_auc_51: 0.9944\n",
      "Epoch 14/40\n",
      "782/782 [==============================] - 2s 3ms/step - loss: 0.1139 - categorical_accuracy: 0.9900 - precision_51: 0.9903 - recall_51: 0.9897 - auc_51: 0.9976 - val_loss: 0.1519 - val_categorical_accuracy: 0.9893 - val_precision_51: 0.9898 - val_recall_51: 0.9891 - val_auc_51: 0.9966\n",
      "Epoch 15/40\n",
      "782/782 [==============================] - 2s 3ms/step - loss: 0.0980 - categorical_accuracy: 0.9906 - precision_51: 0.9910 - recall_51: 0.9904 - auc_51: 0.9976 - val_loss: 0.1350 - val_categorical_accuracy: 0.9873 - val_precision_51: 0.9880 - val_recall_51: 0.9871 - val_auc_51: 0.9974\n",
      "Epoch 16/40\n",
      "782/782 [==============================] - 2s 3ms/step - loss: 0.0947 - categorical_accuracy: 0.9905 - precision_51: 0.9908 - recall_51: 0.9903 - auc_51: 0.9976 - val_loss: 0.1458 - val_categorical_accuracy: 0.9882 - val_precision_51: 0.9887 - val_recall_51: 0.9882 - val_auc_51: 0.9962\n"
     ]
    },
    {
     "output_type": "execute_result",
     "data": {
      "text/plain": [
       "RandomizedSearchCV(estimator=<tensorflow.python.keras.wrappers.scikit_learn.KerasRegressor object at 0x000001C05A83A700>,\n",
       "                   param_distributions={'beta1': (0.4, 0.5, 0.6, 0.7, 0.8),\n",
       "                                        'beta2': (0.6, 0.7, 0.8, 0.9, 0.999),\n",
       "                                        'lr': (0.0005, 0.001, 0.005, 0.01, 0.05,\n",
       "                                               0.1)},\n",
       "                   random_state=42, return_train_score=True, verbose=2)"
      ]
     },
     "metadata": {},
     "execution_count": 34
    }
   ],
   "source": [
    "rnd_search_dnn.fit(X_data_train0to4,y_data_train0to4, epochs = 40, validation_data=(X_data_valid0to4,y_data_valid0to4), callbacks = [earlystopping])"
   ]
  },
  {
   "cell_type": "code",
   "execution_count": 35,
   "metadata": {},
   "outputs": [
    {
     "output_type": "execute_result",
     "data": {
      "text/plain": [
       "{'lr': 0.001, 'beta2': 0.8, 'beta1': 0.6}"
      ]
     },
     "metadata": {},
     "execution_count": 35
    }
   ],
   "source": [
    " rnd_search_dnn.best_params_"
   ]
  },
  {
   "cell_type": "code",
   "execution_count": 36,
   "metadata": {},
   "outputs": [
    {
     "output_type": "execute_result",
     "data": {
      "text/plain": [
       "{'mean_fit_time': array([32.75271773, 32.43710179, 25.65372987, 37.42000856, 33.21796966,\n",
       "        28.3749166 , 27.71122794, 22.19677591, 27.11777844, 43.42659822]),\n",
       " 'std_fit_time': array([ 5.33491148,  3.26283983,  4.74198269,  6.26001514, 13.52386555,\n",
       "         2.19602071,  4.48157224,  1.26385179,  2.61978978, 11.30985642]),\n",
       " 'mean_score_time': array([0.30502491, 0.30645685, 0.3563509 , 0.31166754, 0.32600675,\n",
       "        0.31496406, 0.31831031, 0.31927018, 0.38856263, 0.36161308]),\n",
       " 'std_score_time': array([0.01811554, 0.01206157, 0.08285917, 0.01716342, 0.0247986 ,\n",
       "        0.02203001, 0.03059319, 0.01544814, 0.04124285, 0.00553426]),\n",
       " 'param_lr': masked_array(data=[0.001, 0.0005, 0.05, 0.0005, 0.05, 0.001, 0.05, 0.01,\n",
       "                    0.005, 0.05],\n",
       "              mask=[False, False, False, False, False, False, False, False,\n",
       "                    False, False],\n",
       "        fill_value='?',\n",
       "             dtype=object),\n",
       " 'param_beta2': masked_array(data=[0.8, 0.9, 0.999, 0.9, 0.8, 0.6, 0.6, 0.9, 0.7, 0.9],\n",
       "              mask=[False, False, False, False, False, False, False, False,\n",
       "                    False, False],\n",
       "        fill_value='?',\n",
       "             dtype=object),\n",
       " 'param_beta1': masked_array(data=[0.6, 0.4, 0.7, 0.6, 0.6, 0.5, 0.6, 0.8, 0.6, 0.6],\n",
       "              mask=[False, False, False, False, False, False, False, False,\n",
       "                    False, False],\n",
       "        fill_value='?',\n",
       "             dtype=object),\n",
       " 'params': [{'lr': 0.001, 'beta2': 0.8, 'beta1': 0.6},\n",
       "  {'lr': 0.0005, 'beta2': 0.9, 'beta1': 0.4},\n",
       "  {'lr': 0.05, 'beta2': 0.999, 'beta1': 0.7},\n",
       "  {'lr': 0.0005, 'beta2': 0.9, 'beta1': 0.6},\n",
       "  {'lr': 0.05, 'beta2': 0.8, 'beta1': 0.6},\n",
       "  {'lr': 0.001, 'beta2': 0.6, 'beta1': 0.5},\n",
       "  {'lr': 0.05, 'beta2': 0.6, 'beta1': 0.6},\n",
       "  {'lr': 0.01, 'beta2': 0.9, 'beta1': 0.8},\n",
       "  {'lr': 0.005, 'beta2': 0.7, 'beta1': 0.6},\n",
       "  {'lr': 0.05, 'beta2': 0.9, 'beta1': 0.6}],\n",
       " 'split0_test_score': array([-0.1902514 , -0.26085383, -0.19240734, -0.25511423, -2.03016782,\n",
       "        -0.24136524, -2.00876403, -0.4134526 , -0.48609823, -3.56688356]),\n",
       " 'split1_test_score': array([-0.14718145, -0.24374087, -1.6142453 , -0.18491425, -1.82438326,\n",
       "        -0.17698002, -1.71093965, -1.1055522 , -0.51086652, -2.08455849]),\n",
       " 'split2_test_score': array([-0.25302622, -0.30357638, -1.63680744, -0.2179251 , -1.85759318,\n",
       "        -0.39693162, -1.75740278, -1.67475784, -0.40335861, -1.70791602]),\n",
       " 'split3_test_score': array([-0.29206839, -0.3389883 , -1.63612843, -0.43841264, -1.66153228,\n",
       "        -0.26920035, -1.74960375, -0.28037679, -0.5152269 , -1.83788168]),\n",
       " 'split4_test_score': array([-0.24152212, -0.22918774, -0.34135142, -0.2116926 , -1.70383632,\n",
       "        -0.22297983, -1.7686547 , -0.24860209, -0.2617749 , -1.7872771 ]),\n",
       " 'mean_test_score': array([-0.22480991, -0.27526942, -1.08418798, -0.26161176, -1.81550257,\n",
       "        -0.26149141, -1.79907298, -0.7445483 , -0.43546503, -2.19690337]),\n",
       " 'std_test_score': array([0.05063522, 0.04046421, 0.66903903, 0.09119619, 0.129698  ,\n",
       "        0.07407275, 0.10662711, 0.55975991, 0.09571849, 0.69645761]),\n",
       " 'rank_test_score': array([ 1,  4,  7,  3,  9,  2,  8,  6,  5, 10]),\n",
       " 'split0_train_score': array([-0.04763885, -0.08183149, -0.18211395, -0.03519138, -2.02471447,\n",
       "        -0.1252192 , -1.88044333, -0.39992797, -0.41527396, -1.82566559]),\n",
       " 'split1_train_score': array([-0.04316863, -0.05537887, -1.61629593, -0.0390499 , -1.83494473,\n",
       "        -0.09351927, -1.68952465, -0.94044298, -0.37792882, -1.69405079]),\n",
       " 'split2_train_score': array([-0.10430899, -0.03895408, -1.63881195, -0.03646198, -1.84996307,\n",
       "        -0.19827992, -1.76736546, -1.33908868, -0.38299364, -1.70626771]),\n",
       " 'split3_train_score': array([-0.06664949, -0.04168271, -1.63785577, -0.01580783, -1.65736878,\n",
       "        -0.11194032, -1.74787557, -0.24430254, -0.51997596, -1.83961213]),\n",
       " 'split4_train_score': array([-0.0414395 , -0.06646749, -0.40068656, -0.04568884, -1.69840157,\n",
       "        -0.13772163, -1.76311386, -0.24256223, -0.22420518, -1.77383125]),\n",
       " 'mean_train_score': array([-0.06064109, -0.05686293, -1.09515283, -0.03443999, -1.81307852,\n",
       "        -0.13333607, -1.76966457, -0.63326488, -0.38407551, -1.76788549]),\n",
       " 'std_train_score': array([0.02360522, 0.01593138, 0.65994019, 0.00999598, 0.12963387,\n",
       "        0.03562577, 0.06199564, 0.43610365, 0.09491022, 0.05961026])}"
      ]
     },
     "metadata": {},
     "execution_count": 36
    }
   ],
   "source": [
    "rnd_search_dnn.cv_results_"
   ]
  },
  {
   "cell_type": "code",
   "execution_count": null,
   "metadata": {},
   "outputs": [],
   "source": []
  },
  {
   "cell_type": "code",
   "execution_count": 37,
   "metadata": {},
   "outputs": [
    {
     "output_type": "execute_result",
     "data": {
      "text/plain": [
       "0.9842988024153301"
      ]
     },
     "metadata": {},
     "execution_count": 37
    }
   ],
   "source": [
    "#y_pred_valid = np.argmax(model_dnn.predict(X_data_valid0to4),axis = 1)\n",
    "#y_pred_test = np.argmax(model_dnn.predict(X_data_test0to4),axis = 1)\n",
    "y_pred_tuned = np.argmax(rnd_search_dnn.best_estimator_.predict(X_data_test0to4),axis = 1)\n",
    "\n",
    "precision_score(y_data_test0to4_sparse,y_pred_tuned, average='weighted')"
   ]
  },
  {
   "cell_type": "code",
   "execution_count": 38,
   "metadata": {},
   "outputs": [
    {
     "output_type": "execute_result",
     "data": {
      "text/plain": [
       "0.9842381786339754"
      ]
     },
     "metadata": {},
     "execution_count": 38
    }
   ],
   "source": [
    "recall_score(y_data_test0to4_sparse,y_pred_tuned, average='weighted')"
   ]
  },
  {
   "cell_type": "code",
   "execution_count": 39,
   "metadata": {},
   "outputs": [],
   "source": [
    "model_tuned = keras.models.Sequential()\n",
    "model_tuned.add(keras.layers.Flatten(input_shape = [28,28]))\n",
    "model_tuned.add(keras.layers.Dense(100,activation = \"elu\",kernel_initializer=\"he_normal\"))\n",
    "model_tuned.add(keras.layers.Dense(100,activation = \"elu\",kernel_initializer=\"he_normal\"))\n",
    "model_tuned.add(keras.layers.Dense(100,activation = \"elu\",kernel_initializer=\"he_normal\"))\n",
    "model_tuned.add(keras.layers.Dense(100,activation = \"elu\",kernel_initializer=\"he_normal\"))\n",
    "model_tuned.add(keras.layers.Dense(100,activation = \"elu\",kernel_initializer=\"he_normal\"))\n",
    "model_tuned.add(keras.layers.Dense(5, activation=\"softmax\"))"
   ]
  },
  {
   "cell_type": "code",
   "execution_count": 40,
   "metadata": {},
   "outputs": [],
   "source": [
    "adamoptim_tuned = keras.optimizers.Adam(lr = 0.001,beta_1=0.6,beta_2=0.8)\n",
    "checkpoint_tuned = keras.callbacks.ModelCheckpoint('tuned0to4.h5',save_best_only=True)\n",
    "earlystopping_tuned = keras.callbacks.EarlyStopping(patience = 10, restore_best_weights=True)"
   ]
  },
  {
   "cell_type": "code",
   "execution_count": 41,
   "metadata": {},
   "outputs": [],
   "source": [
    "model_tuned.compile(loss = \"categorical_crossentropy\",\n",
    "                    optimizer = adamoptim_tuned, \n",
    "                    metrics = [accuracy,precision,recall,aucscore])"
   ]
  },
  {
   "cell_type": "code",
   "execution_count": 42,
   "metadata": {},
   "outputs": [
    {
     "output_type": "stream",
     "name": "stdout",
     "text": [
      "Epoch 1/40\n",
      "782/782 [==============================] - 4s 3ms/step - loss: 5.1798 - categorical_accuracy: 0.9330 - precision: 0.9333 - recall: 0.9328 - auc: 0.9655 - val_loss: 0.5134 - val_categorical_accuracy: 0.9382 - val_precision: 0.9390 - val_recall: 0.9376 - val_auc: 0.9785\n",
      "Epoch 2/40\n",
      "782/782 [==============================] - 2s 3ms/step - loss: 0.3660 - categorical_accuracy: 0.9592 - precision: 0.9596 - recall: 0.9590 - auc: 0.9866 - val_loss: 0.2537 - val_categorical_accuracy: 0.9650 - val_precision: 0.9665 - val_recall: 0.9650 - val_auc: 0.9903\n",
      "Epoch 3/40\n",
      "782/782 [==============================] - 2s 3ms/step - loss: 0.1941 - categorical_accuracy: 0.9703 - precision: 0.9709 - recall: 0.9698 - auc: 0.9928 - val_loss: 0.1347 - val_categorical_accuracy: 0.9800 - val_precision: 0.9803 - val_recall: 0.9796 - val_auc: 0.9956\n",
      "Epoch 4/40\n",
      "782/782 [==============================] - 2s 3ms/step - loss: 0.1592 - categorical_accuracy: 0.9775 - precision: 0.9782 - recall: 0.9769 - auc: 0.9943 - val_loss: 0.1175 - val_categorical_accuracy: 0.9820 - val_precision: 0.9825 - val_recall: 0.9812 - val_auc: 0.9962\n",
      "Epoch 5/40\n",
      "782/782 [==============================] - 2s 3ms/step - loss: 0.1244 - categorical_accuracy: 0.9802 - precision: 0.9814 - recall: 0.9797 - auc: 0.9954 - val_loss: 0.1526 - val_categorical_accuracy: 0.9820 - val_precision: 0.9825 - val_recall: 0.9812 - val_auc: 0.9950\n",
      "Epoch 6/40\n",
      "782/782 [==============================] - 2s 3ms/step - loss: 0.1286 - categorical_accuracy: 0.9822 - precision: 0.9834 - recall: 0.9817 - auc: 0.9958 - val_loss: 0.1465 - val_categorical_accuracy: 0.9845 - val_precision: 0.9857 - val_recall: 0.9843 - val_auc: 0.9963\n",
      "Epoch 7/40\n",
      "782/782 [==============================] - 2s 3ms/step - loss: 0.0979 - categorical_accuracy: 0.9862 - precision: 0.9868 - recall: 0.9859 - auc: 0.9967 - val_loss: 0.2211 - val_categorical_accuracy: 0.9811 - val_precision: 0.9830 - val_recall: 0.9809 - val_auc: 0.9960\n",
      "Epoch 8/40\n",
      "782/782 [==============================] - 2s 3ms/step - loss: 0.1052 - categorical_accuracy: 0.9864 - precision: 0.9870 - recall: 0.9852 - auc: 0.9966 - val_loss: 0.1646 - val_categorical_accuracy: 0.9820 - val_precision: 0.9835 - val_recall: 0.9816 - val_auc: 0.9944\n",
      "Epoch 9/40\n",
      "782/782 [==============================] - 2s 3ms/step - loss: 0.0976 - categorical_accuracy: 0.9879 - precision: 0.9887 - recall: 0.9873 - auc: 0.9977 - val_loss: 0.0986 - val_categorical_accuracy: 0.9850 - val_precision: 0.9866 - val_recall: 0.9843 - val_auc: 0.9972\n",
      "Epoch 10/40\n",
      "782/782 [==============================] - 2s 3ms/step - loss: 0.0837 - categorical_accuracy: 0.9905 - precision: 0.9910 - recall: 0.9902 - auc: 0.9980 - val_loss: 0.0858 - val_categorical_accuracy: 0.9864 - val_precision: 0.9887 - val_recall: 0.9855 - val_auc: 0.9970\n",
      "Epoch 11/40\n",
      "782/782 [==============================] - 2s 3ms/step - loss: 0.0832 - categorical_accuracy: 0.9895 - precision: 0.9900 - recall: 0.9891 - auc: 0.9973 - val_loss: 0.2594 - val_categorical_accuracy: 0.9811 - val_precision: 0.9816 - val_recall: 0.9807 - val_auc: 0.9935\n",
      "Epoch 12/40\n",
      "782/782 [==============================] - 2s 3ms/step - loss: 0.0740 - categorical_accuracy: 0.9907 - precision: 0.9912 - recall: 0.9903 - auc: 0.9972 - val_loss: 0.1092 - val_categorical_accuracy: 0.9864 - val_precision: 0.9880 - val_recall: 0.9859 - val_auc: 0.9969\n",
      "Epoch 13/40\n",
      "782/782 [==============================] - 2s 3ms/step - loss: 0.0914 - categorical_accuracy: 0.9906 - precision: 0.9911 - recall: 0.9901 - auc: 0.9976 - val_loss: 0.1887 - val_categorical_accuracy: 0.9886 - val_precision: 0.9887 - val_recall: 0.9884 - val_auc: 0.9960\n",
      "Epoch 14/40\n",
      "782/782 [==============================] - 2s 3ms/step - loss: 0.0839 - categorical_accuracy: 0.9922 - precision: 0.9925 - recall: 0.9921 - auc: 0.9978 - val_loss: 0.3006 - val_categorical_accuracy: 0.9811 - val_precision: 0.9818 - val_recall: 0.9811 - val_auc: 0.9944\n",
      "Epoch 15/40\n",
      "782/782 [==============================] - 2s 3ms/step - loss: 0.1150 - categorical_accuracy: 0.9914 - precision: 0.9918 - recall: 0.9914 - auc: 0.9977 - val_loss: 0.1737 - val_categorical_accuracy: 0.9868 - val_precision: 0.9871 - val_recall: 0.9868 - val_auc: 0.9954\n",
      "Epoch 16/40\n",
      "782/782 [==============================] - 2s 3ms/step - loss: 0.0652 - categorical_accuracy: 0.9938 - precision: 0.9939 - recall: 0.9937 - auc: 0.9980 - val_loss: 0.4946 - val_categorical_accuracy: 0.9868 - val_precision: 0.9868 - val_recall: 0.9866 - val_auc: 0.9947\n",
      "Epoch 17/40\n",
      "782/782 [==============================] - 2s 3ms/step - loss: 0.0891 - categorical_accuracy: 0.9931 - precision: 0.9932 - recall: 0.9930 - auc: 0.9977 - val_loss: 0.2441 - val_categorical_accuracy: 0.9805 - val_precision: 0.9856 - val_recall: 0.9802 - val_auc: 0.9951\n",
      "Epoch 18/40\n",
      "782/782 [==============================] - 2s 3ms/step - loss: 0.0853 - categorical_accuracy: 0.9940 - precision: 0.9942 - recall: 0.9939 - auc: 0.9983 - val_loss: 0.3780 - val_categorical_accuracy: 0.9875 - val_precision: 0.9875 - val_recall: 0.9873 - val_auc: 0.9945\n",
      "Epoch 19/40\n",
      "782/782 [==============================] - 2s 3ms/step - loss: 0.0790 - categorical_accuracy: 0.9942 - precision: 0.9942 - recall: 0.9942 - auc: 0.9980 - val_loss: 0.2063 - val_categorical_accuracy: 0.9862 - val_precision: 0.9875 - val_recall: 0.9859 - val_auc: 0.9957\n",
      "Epoch 20/40\n",
      "782/782 [==============================] - 2s 3ms/step - loss: 0.0832 - categorical_accuracy: 0.9942 - precision: 0.9945 - recall: 0.9942 - auc: 0.9983 - val_loss: 0.1969 - val_categorical_accuracy: 0.9882 - val_precision: 0.9886 - val_recall: 0.9882 - val_auc: 0.9953\n"
     ]
    }
   ],
   "source": [
    "model_tuned_history = model_tuned.fit(X_data_train0to4,y_data_train0to4, epochs = 40, validation_data=(X_data_valid0to4,y_data_valid0to4), callbacks = [checkpoint_tuned,earlystopping_tuned])"
   ]
  },
  {
   "cell_type": "code",
   "execution_count": 43,
   "metadata": {},
   "outputs": [
    {
     "output_type": "execute_result",
     "data": {
      "text/plain": [
       "0.9868344594361041"
      ]
     },
     "metadata": {},
     "execution_count": 43
    }
   ],
   "source": [
    "y_pred_tuned_final_test = np.argmax(model_tuned.predict(X_data_test0to4),axis = 1)\n",
    "\n",
    "precision_score(np.argmax(y_data_test0to4,axis = 1),y_pred_tuned_final_test, average='weighted')"
   ]
  },
  {
   "cell_type": "code",
   "execution_count": 44,
   "metadata": {},
   "outputs": [
    {
     "output_type": "execute_result",
     "data": {
      "text/plain": [
       "array([[0., 0., 1., 0., 0.],\n",
       "       [0., 1., 0., 0., 0.],\n",
       "       [1., 0., 0., 0., 0.],\n",
       "       ...,\n",
       "       [0., 0., 1., 0., 0.],\n",
       "       [0., 0., 0., 1., 0.],\n",
       "       [0., 0., 0., 0., 1.]], dtype=float32)"
      ]
     },
     "metadata": {},
     "execution_count": 44
    }
   ],
   "source": [
    "y_data_test0to4"
   ]
  },
  {
   "cell_type": "code",
   "execution_count": 45,
   "metadata": {},
   "outputs": [],
   "source": [
    "final_model = keras.models.load_model('tuned0to4.h5')"
   ]
  },
  {
   "cell_type": "code",
   "execution_count": 46,
   "metadata": {},
   "outputs": [
    {
     "output_type": "execute_result",
     "data": {
      "text/plain": [
       "        loss  categorical_accuracy  precision    recall       auc  val_loss  \\\n",
       "0   1.887910              0.937083   0.937443  0.936953  0.969833  0.513395   \n",
       "1   0.321786              0.961920   0.962414  0.961760  0.987931  0.253745   \n",
       "2   0.181615              0.972200   0.973318  0.971800  0.993205  0.134718   \n",
       "3   0.151655              0.977480   0.978290  0.976960  0.994495  0.117492   \n",
       "4   0.125347              0.981000   0.981779  0.980640  0.995320  0.152566   \n",
       "5   0.128497              0.981680   0.982852  0.981240  0.996115  0.146506   \n",
       "6   0.117904              0.985320   0.986222  0.984920  0.996531  0.221072   \n",
       "7   0.100642              0.986680   0.987617  0.985800  0.996506  0.164553   \n",
       "8   0.108197              0.987000   0.987704  0.986400  0.997050  0.098602   \n",
       "9   0.118245              0.989240   0.989829  0.988800  0.997342  0.085806   \n",
       "10  0.069647              0.990200   0.990673  0.989920  0.997717  0.259371   \n",
       "11  0.075879              0.989520   0.990308  0.989080  0.997194  0.109199   \n",
       "12  0.089314              0.990720   0.991153  0.990400  0.997508  0.188685   \n",
       "13  0.090303              0.991760   0.991917  0.991600  0.997721  0.300552   \n",
       "14  0.107349              0.991200   0.991516  0.991080  0.997484  0.173696   \n",
       "15  0.078771              0.992920   0.993198  0.992840  0.997562  0.494636   \n",
       "16  0.092266              0.992480   0.992638  0.992400  0.997686  0.244145   \n",
       "17  0.083764              0.993200   0.993358  0.993080  0.997938  0.378033   \n",
       "18  0.080919              0.994120   0.994160  0.994120  0.997973  0.206266   \n",
       "19  0.080365              0.994280   0.994359  0.994200  0.998018  0.196936   \n",
       "\n",
       "    val_categorical_accuracy  val_precision  val_recall   val_auc  \n",
       "0                   0.938170       0.938976    0.937634  0.978536  \n",
       "1                   0.964975       0.966529    0.964975  0.990284  \n",
       "2                   0.979986       0.980329    0.979628  0.995648  \n",
       "3                   0.981951       0.982466    0.981237  0.996170  \n",
       "4                   0.981951       0.982466    0.981237  0.995003  \n",
       "5                   0.984453       0.985684    0.984275  0.996316  \n",
       "6                   0.981058       0.982987    0.980879  0.995971  \n",
       "7                   0.981951       0.983527    0.981594  0.994407  \n",
       "8                   0.984989       0.986566    0.984275  0.997216  \n",
       "9                   0.986419       0.988706    0.985525  0.997046  \n",
       "10                  0.981058       0.981578    0.980700  0.993535  \n",
       "11                  0.986419       0.988001    0.985883  0.996864  \n",
       "12                  0.988563       0.988738    0.988385  0.996015  \n",
       "13                  0.981058       0.981760    0.981058  0.994432  \n",
       "14                  0.986776       0.987129    0.986776  0.995397  \n",
       "15                  0.986776       0.986774    0.986598  0.994708  \n",
       "16                  0.980522       0.985624    0.980164  0.995075  \n",
       "17                  0.987491       0.987489    0.987312  0.994463  \n",
       "18                  0.986240       0.987471    0.985883  0.995683  \n",
       "19                  0.988206       0.988559    0.988206  0.995332  "
      ],
      "text/html": "<div>\n<style scoped>\n    .dataframe tbody tr th:only-of-type {\n        vertical-align: middle;\n    }\n\n    .dataframe tbody tr th {\n        vertical-align: top;\n    }\n\n    .dataframe thead th {\n        text-align: right;\n    }\n</style>\n<table border=\"1\" class=\"dataframe\">\n  <thead>\n    <tr style=\"text-align: right;\">\n      <th></th>\n      <th>loss</th>\n      <th>categorical_accuracy</th>\n      <th>precision</th>\n      <th>recall</th>\n      <th>auc</th>\n      <th>val_loss</th>\n      <th>val_categorical_accuracy</th>\n      <th>val_precision</th>\n      <th>val_recall</th>\n      <th>val_auc</th>\n    </tr>\n  </thead>\n  <tbody>\n    <tr>\n      <th>0</th>\n      <td>1.887910</td>\n      <td>0.937083</td>\n      <td>0.937443</td>\n      <td>0.936953</td>\n      <td>0.969833</td>\n      <td>0.513395</td>\n      <td>0.938170</td>\n      <td>0.938976</td>\n      <td>0.937634</td>\n      <td>0.978536</td>\n    </tr>\n    <tr>\n      <th>1</th>\n      <td>0.321786</td>\n      <td>0.961920</td>\n      <td>0.962414</td>\n      <td>0.961760</td>\n      <td>0.987931</td>\n      <td>0.253745</td>\n      <td>0.964975</td>\n      <td>0.966529</td>\n      <td>0.964975</td>\n      <td>0.990284</td>\n    </tr>\n    <tr>\n      <th>2</th>\n      <td>0.181615</td>\n      <td>0.972200</td>\n      <td>0.973318</td>\n      <td>0.971800</td>\n      <td>0.993205</td>\n      <td>0.134718</td>\n      <td>0.979986</td>\n      <td>0.980329</td>\n      <td>0.979628</td>\n      <td>0.995648</td>\n    </tr>\n    <tr>\n      <th>3</th>\n      <td>0.151655</td>\n      <td>0.977480</td>\n      <td>0.978290</td>\n      <td>0.976960</td>\n      <td>0.994495</td>\n      <td>0.117492</td>\n      <td>0.981951</td>\n      <td>0.982466</td>\n      <td>0.981237</td>\n      <td>0.996170</td>\n    </tr>\n    <tr>\n      <th>4</th>\n      <td>0.125347</td>\n      <td>0.981000</td>\n      <td>0.981779</td>\n      <td>0.980640</td>\n      <td>0.995320</td>\n      <td>0.152566</td>\n      <td>0.981951</td>\n      <td>0.982466</td>\n      <td>0.981237</td>\n      <td>0.995003</td>\n    </tr>\n    <tr>\n      <th>5</th>\n      <td>0.128497</td>\n      <td>0.981680</td>\n      <td>0.982852</td>\n      <td>0.981240</td>\n      <td>0.996115</td>\n      <td>0.146506</td>\n      <td>0.984453</td>\n      <td>0.985684</td>\n      <td>0.984275</td>\n      <td>0.996316</td>\n    </tr>\n    <tr>\n      <th>6</th>\n      <td>0.117904</td>\n      <td>0.985320</td>\n      <td>0.986222</td>\n      <td>0.984920</td>\n      <td>0.996531</td>\n      <td>0.221072</td>\n      <td>0.981058</td>\n      <td>0.982987</td>\n      <td>0.980879</td>\n      <td>0.995971</td>\n    </tr>\n    <tr>\n      <th>7</th>\n      <td>0.100642</td>\n      <td>0.986680</td>\n      <td>0.987617</td>\n      <td>0.985800</td>\n      <td>0.996506</td>\n      <td>0.164553</td>\n      <td>0.981951</td>\n      <td>0.983527</td>\n      <td>0.981594</td>\n      <td>0.994407</td>\n    </tr>\n    <tr>\n      <th>8</th>\n      <td>0.108197</td>\n      <td>0.987000</td>\n      <td>0.987704</td>\n      <td>0.986400</td>\n      <td>0.997050</td>\n      <td>0.098602</td>\n      <td>0.984989</td>\n      <td>0.986566</td>\n      <td>0.984275</td>\n      <td>0.997216</td>\n    </tr>\n    <tr>\n      <th>9</th>\n      <td>0.118245</td>\n      <td>0.989240</td>\n      <td>0.989829</td>\n      <td>0.988800</td>\n      <td>0.997342</td>\n      <td>0.085806</td>\n      <td>0.986419</td>\n      <td>0.988706</td>\n      <td>0.985525</td>\n      <td>0.997046</td>\n    </tr>\n    <tr>\n      <th>10</th>\n      <td>0.069647</td>\n      <td>0.990200</td>\n      <td>0.990673</td>\n      <td>0.989920</td>\n      <td>0.997717</td>\n      <td>0.259371</td>\n      <td>0.981058</td>\n      <td>0.981578</td>\n      <td>0.980700</td>\n      <td>0.993535</td>\n    </tr>\n    <tr>\n      <th>11</th>\n      <td>0.075879</td>\n      <td>0.989520</td>\n      <td>0.990308</td>\n      <td>0.989080</td>\n      <td>0.997194</td>\n      <td>0.109199</td>\n      <td>0.986419</td>\n      <td>0.988001</td>\n      <td>0.985883</td>\n      <td>0.996864</td>\n    </tr>\n    <tr>\n      <th>12</th>\n      <td>0.089314</td>\n      <td>0.990720</td>\n      <td>0.991153</td>\n      <td>0.990400</td>\n      <td>0.997508</td>\n      <td>0.188685</td>\n      <td>0.988563</td>\n      <td>0.988738</td>\n      <td>0.988385</td>\n      <td>0.996015</td>\n    </tr>\n    <tr>\n      <th>13</th>\n      <td>0.090303</td>\n      <td>0.991760</td>\n      <td>0.991917</td>\n      <td>0.991600</td>\n      <td>0.997721</td>\n      <td>0.300552</td>\n      <td>0.981058</td>\n      <td>0.981760</td>\n      <td>0.981058</td>\n      <td>0.994432</td>\n    </tr>\n    <tr>\n      <th>14</th>\n      <td>0.107349</td>\n      <td>0.991200</td>\n      <td>0.991516</td>\n      <td>0.991080</td>\n      <td>0.997484</td>\n      <td>0.173696</td>\n      <td>0.986776</td>\n      <td>0.987129</td>\n      <td>0.986776</td>\n      <td>0.995397</td>\n    </tr>\n    <tr>\n      <th>15</th>\n      <td>0.078771</td>\n      <td>0.992920</td>\n      <td>0.993198</td>\n      <td>0.992840</td>\n      <td>0.997562</td>\n      <td>0.494636</td>\n      <td>0.986776</td>\n      <td>0.986774</td>\n      <td>0.986598</td>\n      <td>0.994708</td>\n    </tr>\n    <tr>\n      <th>16</th>\n      <td>0.092266</td>\n      <td>0.992480</td>\n      <td>0.992638</td>\n      <td>0.992400</td>\n      <td>0.997686</td>\n      <td>0.244145</td>\n      <td>0.980522</td>\n      <td>0.985624</td>\n      <td>0.980164</td>\n      <td>0.995075</td>\n    </tr>\n    <tr>\n      <th>17</th>\n      <td>0.083764</td>\n      <td>0.993200</td>\n      <td>0.993358</td>\n      <td>0.993080</td>\n      <td>0.997938</td>\n      <td>0.378033</td>\n      <td>0.987491</td>\n      <td>0.987489</td>\n      <td>0.987312</td>\n      <td>0.994463</td>\n    </tr>\n    <tr>\n      <th>18</th>\n      <td>0.080919</td>\n      <td>0.994120</td>\n      <td>0.994160</td>\n      <td>0.994120</td>\n      <td>0.997973</td>\n      <td>0.206266</td>\n      <td>0.986240</td>\n      <td>0.987471</td>\n      <td>0.985883</td>\n      <td>0.995683</td>\n    </tr>\n    <tr>\n      <th>19</th>\n      <td>0.080365</td>\n      <td>0.994280</td>\n      <td>0.994359</td>\n      <td>0.994200</td>\n      <td>0.998018</td>\n      <td>0.196936</td>\n      <td>0.988206</td>\n      <td>0.988559</td>\n      <td>0.988206</td>\n      <td>0.995332</td>\n    </tr>\n  </tbody>\n</table>\n</div>"
     },
     "metadata": {},
     "execution_count": 46
    }
   ],
   "source": [
    "#learning curve for the tuned model\n",
    "history_tuned = pd.DataFrame(model_tuned_history.history)\n",
    "history_tuned"
   ]
  },
  {
   "cell_type": "code",
   "execution_count": 47,
   "metadata": {},
   "outputs": [],
   "source": [
    "import seaborn as sns\n",
    "import matplotlib.pyplot as plt"
   ]
  },
  {
   "cell_type": "code",
   "execution_count": 48,
   "metadata": {},
   "outputs": [
    {
     "output_type": "display_data",
     "data": {
      "text/plain": "<Figure size 576x720 with 1 Axes>",
      "image/svg+xml": "<?xml version=\"1.0\" encoding=\"utf-8\" standalone=\"no\"?>\r\n<!DOCTYPE svg PUBLIC \"-//W3C//DTD SVG 1.1//EN\"\r\n  \"http://www.w3.org/Graphics/SVG/1.1/DTD/svg11.dtd\">\r\n<!-- Created with matplotlib (https://matplotlib.org/) -->\r\n<svg height=\"574.678125pt\" version=\"1.1\" viewBox=\"0 0 497.659375 574.678125\" width=\"497.659375pt\" xmlns=\"http://www.w3.org/2000/svg\" xmlns:xlink=\"http://www.w3.org/1999/xlink\">\r\n <metadata>\r\n  <rdf:RDF xmlns:cc=\"http://creativecommons.org/ns#\" xmlns:dc=\"http://purl.org/dc/elements/1.1/\" xmlns:rdf=\"http://www.w3.org/1999/02/22-rdf-syntax-ns#\">\r\n   <cc:Work>\r\n    <dc:type rdf:resource=\"http://purl.org/dc/dcmitype/StillImage\"/>\r\n    <dc:date>2021-05-30T00:42:39.754193</dc:date>\r\n    <dc:format>image/svg+xml</dc:format>\r\n    <dc:creator>\r\n     <cc:Agent>\r\n      <dc:title>Matplotlib v3.3.4, https://matplotlib.org/</dc:title>\r\n     </cc:Agent>\r\n    </dc:creator>\r\n   </cc:Work>\r\n  </rdf:RDF>\r\n </metadata>\r\n <defs>\r\n  <style type=\"text/css\">*{stroke-linecap:butt;stroke-linejoin:round;}</style>\r\n </defs>\r\n <g id=\"figure_1\">\r\n  <g id=\"patch_1\">\r\n   <path d=\"M 0 574.678125 \r\nL 497.659375 574.678125 \r\nL 497.659375 0 \r\nL 0 0 \r\nz\r\n\" style=\"fill:none;\"/>\r\n  </g>\r\n  <g id=\"axes_1\">\r\n   <g id=\"patch_2\">\r\n    <path d=\"M 44.059375 550.8 \r\nL 490.459375 550.8 \r\nL 490.459375 7.2 \r\nL 44.059375 7.2 \r\nz\r\n\" style=\"fill:#ffffff;\"/>\r\n   </g>\r\n   <g id=\"matplotlib.axis_1\">\r\n    <g id=\"xtick_1\">\r\n     <g id=\"line2d_1\">\r\n      <path clip-path=\"url(#pdf60d3ee2f)\" d=\"M 64.350284 550.8 \r\nL 64.350284 7.2 \r\n\" style=\"fill:none;stroke:#b0b0b0;stroke-linecap:square;stroke-width:0.8;\"/>\r\n     </g>\r\n     <g id=\"line2d_2\">\r\n      <defs>\r\n       <path d=\"M 0 0 \r\nL 0 3.5 \r\n\" id=\"m06727d5336\" style=\"stroke:#000000;stroke-width:0.8;\"/>\r\n      </defs>\r\n      <g>\r\n       <use style=\"stroke:#000000;stroke-width:0.8;\" x=\"64.350284\" xlink:href=\"#m06727d5336\" y=\"550.8\"/>\r\n      </g>\r\n     </g>\r\n     <g id=\"text_1\">\r\n      <!-- 0.0 -->\r\n      <g transform=\"translate(56.398722 565.398438)scale(0.1 -0.1)\">\r\n       <defs>\r\n        <path d=\"M 31.78125 66.40625 \r\nQ 24.171875 66.40625 20.328125 58.90625 \r\nQ 16.5 51.421875 16.5 36.375 \r\nQ 16.5 21.390625 20.328125 13.890625 \r\nQ 24.171875 6.390625 31.78125 6.390625 \r\nQ 39.453125 6.390625 43.28125 13.890625 \r\nQ 47.125 21.390625 47.125 36.375 \r\nQ 47.125 51.421875 43.28125 58.90625 \r\nQ 39.453125 66.40625 31.78125 66.40625 \r\nz\r\nM 31.78125 74.21875 \r\nQ 44.046875 74.21875 50.515625 64.515625 \r\nQ 56.984375 54.828125 56.984375 36.375 \r\nQ 56.984375 17.96875 50.515625 8.265625 \r\nQ 44.046875 -1.421875 31.78125 -1.421875 \r\nQ 19.53125 -1.421875 13.0625 8.265625 \r\nQ 6.59375 17.96875 6.59375 36.375 \r\nQ 6.59375 54.828125 13.0625 64.515625 \r\nQ 19.53125 74.21875 31.78125 74.21875 \r\nz\r\n\" id=\"DejaVuSans-48\"/>\r\n        <path d=\"M 10.6875 12.40625 \r\nL 21 12.40625 \r\nL 21 0 \r\nL 10.6875 0 \r\nz\r\n\" id=\"DejaVuSans-46\"/>\r\n       </defs>\r\n       <use xlink:href=\"#DejaVuSans-48\"/>\r\n       <use x=\"63.623047\" xlink:href=\"#DejaVuSans-46\"/>\r\n       <use x=\"95.410156\" xlink:href=\"#DejaVuSans-48\"/>\r\n      </g>\r\n     </g>\r\n    </g>\r\n    <g id=\"xtick_2\">\r\n     <g id=\"line2d_3\">\r\n      <path clip-path=\"url(#pdf60d3ee2f)\" d=\"M 117.747413 550.8 \r\nL 117.747413 7.2 \r\n\" style=\"fill:none;stroke:#b0b0b0;stroke-linecap:square;stroke-width:0.8;\"/>\r\n     </g>\r\n     <g id=\"line2d_4\">\r\n      <g>\r\n       <use style=\"stroke:#000000;stroke-width:0.8;\" x=\"117.747413\" xlink:href=\"#m06727d5336\" y=\"550.8\"/>\r\n      </g>\r\n     </g>\r\n     <g id=\"text_2\">\r\n      <!-- 2.5 -->\r\n      <g transform=\"translate(109.795851 565.398438)scale(0.1 -0.1)\">\r\n       <defs>\r\n        <path d=\"M 19.1875 8.296875 \r\nL 53.609375 8.296875 \r\nL 53.609375 0 \r\nL 7.328125 0 \r\nL 7.328125 8.296875 \r\nQ 12.9375 14.109375 22.625 23.890625 \r\nQ 32.328125 33.6875 34.8125 36.53125 \r\nQ 39.546875 41.84375 41.421875 45.53125 \r\nQ 43.3125 49.21875 43.3125 52.78125 \r\nQ 43.3125 58.59375 39.234375 62.25 \r\nQ 35.15625 65.921875 28.609375 65.921875 \r\nQ 23.96875 65.921875 18.8125 64.3125 \r\nQ 13.671875 62.703125 7.8125 59.421875 \r\nL 7.8125 69.390625 \r\nQ 13.765625 71.78125 18.9375 73 \r\nQ 24.125 74.21875 28.421875 74.21875 \r\nQ 39.75 74.21875 46.484375 68.546875 \r\nQ 53.21875 62.890625 53.21875 53.421875 \r\nQ 53.21875 48.921875 51.53125 44.890625 \r\nQ 49.859375 40.875 45.40625 35.40625 \r\nQ 44.1875 33.984375 37.640625 27.21875 \r\nQ 31.109375 20.453125 19.1875 8.296875 \r\nz\r\n\" id=\"DejaVuSans-50\"/>\r\n        <path d=\"M 10.796875 72.90625 \r\nL 49.515625 72.90625 \r\nL 49.515625 64.59375 \r\nL 19.828125 64.59375 \r\nL 19.828125 46.734375 \r\nQ 21.96875 47.46875 24.109375 47.828125 \r\nQ 26.265625 48.1875 28.421875 48.1875 \r\nQ 40.625 48.1875 47.75 41.5 \r\nQ 54.890625 34.8125 54.890625 23.390625 \r\nQ 54.890625 11.625 47.5625 5.09375 \r\nQ 40.234375 -1.421875 26.90625 -1.421875 \r\nQ 22.3125 -1.421875 17.546875 -0.640625 \r\nQ 12.796875 0.140625 7.71875 1.703125 \r\nL 7.71875 11.625 \r\nQ 12.109375 9.234375 16.796875 8.0625 \r\nQ 21.484375 6.890625 26.703125 6.890625 \r\nQ 35.15625 6.890625 40.078125 11.328125 \r\nQ 45.015625 15.765625 45.015625 23.390625 \r\nQ 45.015625 31 40.078125 35.4375 \r\nQ 35.15625 39.890625 26.703125 39.890625 \r\nQ 22.75 39.890625 18.8125 39.015625 \r\nQ 14.890625 38.140625 10.796875 36.28125 \r\nz\r\n\" id=\"DejaVuSans-53\"/>\r\n       </defs>\r\n       <use xlink:href=\"#DejaVuSans-50\"/>\r\n       <use x=\"63.623047\" xlink:href=\"#DejaVuSans-46\"/>\r\n       <use x=\"95.410156\" xlink:href=\"#DejaVuSans-53\"/>\r\n      </g>\r\n     </g>\r\n    </g>\r\n    <g id=\"xtick_3\">\r\n     <g id=\"line2d_5\">\r\n      <path clip-path=\"url(#pdf60d3ee2f)\" d=\"M 171.144542 550.8 \r\nL 171.144542 7.2 \r\n\" style=\"fill:none;stroke:#b0b0b0;stroke-linecap:square;stroke-width:0.8;\"/>\r\n     </g>\r\n     <g id=\"line2d_6\">\r\n      <g>\r\n       <use style=\"stroke:#000000;stroke-width:0.8;\" x=\"171.144542\" xlink:href=\"#m06727d5336\" y=\"550.8\"/>\r\n      </g>\r\n     </g>\r\n     <g id=\"text_3\">\r\n      <!-- 5.0 -->\r\n      <g transform=\"translate(163.19298 565.398438)scale(0.1 -0.1)\">\r\n       <use xlink:href=\"#DejaVuSans-53\"/>\r\n       <use x=\"63.623047\" xlink:href=\"#DejaVuSans-46\"/>\r\n       <use x=\"95.410156\" xlink:href=\"#DejaVuSans-48\"/>\r\n      </g>\r\n     </g>\r\n    </g>\r\n    <g id=\"xtick_4\">\r\n     <g id=\"line2d_7\">\r\n      <path clip-path=\"url(#pdf60d3ee2f)\" d=\"M 224.541672 550.8 \r\nL 224.541672 7.2 \r\n\" style=\"fill:none;stroke:#b0b0b0;stroke-linecap:square;stroke-width:0.8;\"/>\r\n     </g>\r\n     <g id=\"line2d_8\">\r\n      <g>\r\n       <use style=\"stroke:#000000;stroke-width:0.8;\" x=\"224.541672\" xlink:href=\"#m06727d5336\" y=\"550.8\"/>\r\n      </g>\r\n     </g>\r\n     <g id=\"text_4\">\r\n      <!-- 7.5 -->\r\n      <g transform=\"translate(216.590109 565.398438)scale(0.1 -0.1)\">\r\n       <defs>\r\n        <path d=\"M 8.203125 72.90625 \r\nL 55.078125 72.90625 \r\nL 55.078125 68.703125 \r\nL 28.609375 0 \r\nL 18.3125 0 \r\nL 43.21875 64.59375 \r\nL 8.203125 64.59375 \r\nz\r\n\" id=\"DejaVuSans-55\"/>\r\n       </defs>\r\n       <use xlink:href=\"#DejaVuSans-55\"/>\r\n       <use x=\"63.623047\" xlink:href=\"#DejaVuSans-46\"/>\r\n       <use x=\"95.410156\" xlink:href=\"#DejaVuSans-53\"/>\r\n      </g>\r\n     </g>\r\n    </g>\r\n    <g id=\"xtick_5\">\r\n     <g id=\"line2d_9\">\r\n      <path clip-path=\"url(#pdf60d3ee2f)\" d=\"M 277.938801 550.8 \r\nL 277.938801 7.2 \r\n\" style=\"fill:none;stroke:#b0b0b0;stroke-linecap:square;stroke-width:0.8;\"/>\r\n     </g>\r\n     <g id=\"line2d_10\">\r\n      <g>\r\n       <use style=\"stroke:#000000;stroke-width:0.8;\" x=\"277.938801\" xlink:href=\"#m06727d5336\" y=\"550.8\"/>\r\n      </g>\r\n     </g>\r\n     <g id=\"text_5\">\r\n      <!-- 10.0 -->\r\n      <g transform=\"translate(266.805988 565.398438)scale(0.1 -0.1)\">\r\n       <defs>\r\n        <path d=\"M 12.40625 8.296875 \r\nL 28.515625 8.296875 \r\nL 28.515625 63.921875 \r\nL 10.984375 60.40625 \r\nL 10.984375 69.390625 \r\nL 28.421875 72.90625 \r\nL 38.28125 72.90625 \r\nL 38.28125 8.296875 \r\nL 54.390625 8.296875 \r\nL 54.390625 0 \r\nL 12.40625 0 \r\nz\r\n\" id=\"DejaVuSans-49\"/>\r\n       </defs>\r\n       <use xlink:href=\"#DejaVuSans-49\"/>\r\n       <use x=\"63.623047\" xlink:href=\"#DejaVuSans-48\"/>\r\n       <use x=\"127.246094\" xlink:href=\"#DejaVuSans-46\"/>\r\n       <use x=\"159.033203\" xlink:href=\"#DejaVuSans-48\"/>\r\n      </g>\r\n     </g>\r\n    </g>\r\n    <g id=\"xtick_6\">\r\n     <g id=\"line2d_11\">\r\n      <path clip-path=\"url(#pdf60d3ee2f)\" d=\"M 331.33593 550.8 \r\nL 331.33593 7.2 \r\n\" style=\"fill:none;stroke:#b0b0b0;stroke-linecap:square;stroke-width:0.8;\"/>\r\n     </g>\r\n     <g id=\"line2d_12\">\r\n      <g>\r\n       <use style=\"stroke:#000000;stroke-width:0.8;\" x=\"331.33593\" xlink:href=\"#m06727d5336\" y=\"550.8\"/>\r\n      </g>\r\n     </g>\r\n     <g id=\"text_6\">\r\n      <!-- 12.5 -->\r\n      <g transform=\"translate(320.203118 565.398438)scale(0.1 -0.1)\">\r\n       <use xlink:href=\"#DejaVuSans-49\"/>\r\n       <use x=\"63.623047\" xlink:href=\"#DejaVuSans-50\"/>\r\n       <use x=\"127.246094\" xlink:href=\"#DejaVuSans-46\"/>\r\n       <use x=\"159.033203\" xlink:href=\"#DejaVuSans-53\"/>\r\n      </g>\r\n     </g>\r\n    </g>\r\n    <g id=\"xtick_7\">\r\n     <g id=\"line2d_13\">\r\n      <path clip-path=\"url(#pdf60d3ee2f)\" d=\"M 384.733059 550.8 \r\nL 384.733059 7.2 \r\n\" style=\"fill:none;stroke:#b0b0b0;stroke-linecap:square;stroke-width:0.8;\"/>\r\n     </g>\r\n     <g id=\"line2d_14\">\r\n      <g>\r\n       <use style=\"stroke:#000000;stroke-width:0.8;\" x=\"384.733059\" xlink:href=\"#m06727d5336\" y=\"550.8\"/>\r\n      </g>\r\n     </g>\r\n     <g id=\"text_7\">\r\n      <!-- 15.0 -->\r\n      <g transform=\"translate(373.600247 565.398438)scale(0.1 -0.1)\">\r\n       <use xlink:href=\"#DejaVuSans-49\"/>\r\n       <use x=\"63.623047\" xlink:href=\"#DejaVuSans-53\"/>\r\n       <use x=\"127.246094\" xlink:href=\"#DejaVuSans-46\"/>\r\n       <use x=\"159.033203\" xlink:href=\"#DejaVuSans-48\"/>\r\n      </g>\r\n     </g>\r\n    </g>\r\n    <g id=\"xtick_8\">\r\n     <g id=\"line2d_15\">\r\n      <path clip-path=\"url(#pdf60d3ee2f)\" d=\"M 438.130188 550.8 \r\nL 438.130188 7.2 \r\n\" style=\"fill:none;stroke:#b0b0b0;stroke-linecap:square;stroke-width:0.8;\"/>\r\n     </g>\r\n     <g id=\"line2d_16\">\r\n      <g>\r\n       <use style=\"stroke:#000000;stroke-width:0.8;\" x=\"438.130188\" xlink:href=\"#m06727d5336\" y=\"550.8\"/>\r\n      </g>\r\n     </g>\r\n     <g id=\"text_8\">\r\n      <!-- 17.5 -->\r\n      <g transform=\"translate(426.997376 565.398438)scale(0.1 -0.1)\">\r\n       <use xlink:href=\"#DejaVuSans-49\"/>\r\n       <use x=\"63.623047\" xlink:href=\"#DejaVuSans-55\"/>\r\n       <use x=\"127.246094\" xlink:href=\"#DejaVuSans-46\"/>\r\n       <use x=\"159.033203\" xlink:href=\"#DejaVuSans-53\"/>\r\n      </g>\r\n     </g>\r\n    </g>\r\n   </g>\r\n   <g id=\"matplotlib.axis_2\">\r\n    <g id=\"ytick_1\">\r\n     <g id=\"line2d_17\">\r\n      <path clip-path=\"url(#pdf60d3ee2f)\" d=\"M 44.059375 463.579541 \r\nL 490.459375 463.579541 \r\n\" style=\"fill:none;stroke:#b0b0b0;stroke-linecap:square;stroke-width:0.8;\"/>\r\n     </g>\r\n     <g id=\"line2d_18\">\r\n      <defs>\r\n       <path d=\"M 0 0 \r\nL -3.5 0 \r\n\" id=\"m9895ec53b7\" style=\"stroke:#000000;stroke-width:0.8;\"/>\r\n      </defs>\r\n      <g>\r\n       <use style=\"stroke:#000000;stroke-width:0.8;\" x=\"44.059375\" xlink:href=\"#m9895ec53b7\" y=\"463.579541\"/>\r\n      </g>\r\n     </g>\r\n     <g id=\"text_9\">\r\n      <!-- 0.2 -->\r\n      <g transform=\"translate(21.15625 467.37876)scale(0.1 -0.1)\">\r\n       <use xlink:href=\"#DejaVuSans-48\"/>\r\n       <use x=\"63.623047\" xlink:href=\"#DejaVuSans-46\"/>\r\n       <use x=\"95.410156\" xlink:href=\"#DejaVuSans-50\"/>\r\n      </g>\r\n     </g>\r\n    </g>\r\n    <g id=\"ytick_2\">\r\n     <g id=\"line2d_19\">\r\n      <path clip-path=\"url(#pdf60d3ee2f)\" d=\"M 44.059375 354.096768 \r\nL 490.459375 354.096768 \r\n\" style=\"fill:none;stroke:#b0b0b0;stroke-linecap:square;stroke-width:0.8;\"/>\r\n     </g>\r\n     <g id=\"line2d_20\">\r\n      <g>\r\n       <use style=\"stroke:#000000;stroke-width:0.8;\" x=\"44.059375\" xlink:href=\"#m9895ec53b7\" y=\"354.096768\"/>\r\n      </g>\r\n     </g>\r\n     <g id=\"text_10\">\r\n      <!-- 0.4 -->\r\n      <g transform=\"translate(21.15625 357.895987)scale(0.1 -0.1)\">\r\n       <defs>\r\n        <path d=\"M 37.796875 64.3125 \r\nL 12.890625 25.390625 \r\nL 37.796875 25.390625 \r\nz\r\nM 35.203125 72.90625 \r\nL 47.609375 72.90625 \r\nL 47.609375 25.390625 \r\nL 58.015625 25.390625 \r\nL 58.015625 17.1875 \r\nL 47.609375 17.1875 \r\nL 47.609375 0 \r\nL 37.796875 0 \r\nL 37.796875 17.1875 \r\nL 4.890625 17.1875 \r\nL 4.890625 26.703125 \r\nz\r\n\" id=\"DejaVuSans-52\"/>\r\n       </defs>\r\n       <use xlink:href=\"#DejaVuSans-48\"/>\r\n       <use x=\"63.623047\" xlink:href=\"#DejaVuSans-46\"/>\r\n       <use x=\"95.410156\" xlink:href=\"#DejaVuSans-52\"/>\r\n      </g>\r\n     </g>\r\n    </g>\r\n    <g id=\"ytick_3\">\r\n     <g id=\"line2d_21\">\r\n      <path clip-path=\"url(#pdf60d3ee2f)\" d=\"M 44.059375 244.613995 \r\nL 490.459375 244.613995 \r\n\" style=\"fill:none;stroke:#b0b0b0;stroke-linecap:square;stroke-width:0.8;\"/>\r\n     </g>\r\n     <g id=\"line2d_22\">\r\n      <g>\r\n       <use style=\"stroke:#000000;stroke-width:0.8;\" x=\"44.059375\" xlink:href=\"#m9895ec53b7\" y=\"244.613995\"/>\r\n      </g>\r\n     </g>\r\n     <g id=\"text_11\">\r\n      <!-- 0.6 -->\r\n      <g transform=\"translate(21.15625 248.413214)scale(0.1 -0.1)\">\r\n       <defs>\r\n        <path d=\"M 33.015625 40.375 \r\nQ 26.375 40.375 22.484375 35.828125 \r\nQ 18.609375 31.296875 18.609375 23.390625 \r\nQ 18.609375 15.53125 22.484375 10.953125 \r\nQ 26.375 6.390625 33.015625 6.390625 \r\nQ 39.65625 6.390625 43.53125 10.953125 \r\nQ 47.40625 15.53125 47.40625 23.390625 \r\nQ 47.40625 31.296875 43.53125 35.828125 \r\nQ 39.65625 40.375 33.015625 40.375 \r\nz\r\nM 52.59375 71.296875 \r\nL 52.59375 62.3125 \r\nQ 48.875 64.0625 45.09375 64.984375 \r\nQ 41.3125 65.921875 37.59375 65.921875 \r\nQ 27.828125 65.921875 22.671875 59.328125 \r\nQ 17.53125 52.734375 16.796875 39.40625 \r\nQ 19.671875 43.65625 24.015625 45.921875 \r\nQ 28.375 48.1875 33.59375 48.1875 \r\nQ 44.578125 48.1875 50.953125 41.515625 \r\nQ 57.328125 34.859375 57.328125 23.390625 \r\nQ 57.328125 12.15625 50.6875 5.359375 \r\nQ 44.046875 -1.421875 33.015625 -1.421875 \r\nQ 20.359375 -1.421875 13.671875 8.265625 \r\nQ 6.984375 17.96875 6.984375 36.375 \r\nQ 6.984375 53.65625 15.1875 63.9375 \r\nQ 23.390625 74.21875 37.203125 74.21875 \r\nQ 40.921875 74.21875 44.703125 73.484375 \r\nQ 48.484375 72.75 52.59375 71.296875 \r\nz\r\n\" id=\"DejaVuSans-54\"/>\r\n       </defs>\r\n       <use xlink:href=\"#DejaVuSans-48\"/>\r\n       <use x=\"63.623047\" xlink:href=\"#DejaVuSans-46\"/>\r\n       <use x=\"95.410156\" xlink:href=\"#DejaVuSans-54\"/>\r\n      </g>\r\n     </g>\r\n    </g>\r\n    <g id=\"ytick_4\">\r\n     <g id=\"line2d_23\">\r\n      <path clip-path=\"url(#pdf60d3ee2f)\" d=\"M 44.059375 135.131223 \r\nL 490.459375 135.131223 \r\n\" style=\"fill:none;stroke:#b0b0b0;stroke-linecap:square;stroke-width:0.8;\"/>\r\n     </g>\r\n     <g id=\"line2d_24\">\r\n      <g>\r\n       <use style=\"stroke:#000000;stroke-width:0.8;\" x=\"44.059375\" xlink:href=\"#m9895ec53b7\" y=\"135.131223\"/>\r\n      </g>\r\n     </g>\r\n     <g id=\"text_12\">\r\n      <!-- 0.8 -->\r\n      <g transform=\"translate(21.15625 138.930441)scale(0.1 -0.1)\">\r\n       <defs>\r\n        <path d=\"M 31.78125 34.625 \r\nQ 24.75 34.625 20.71875 30.859375 \r\nQ 16.703125 27.09375 16.703125 20.515625 \r\nQ 16.703125 13.921875 20.71875 10.15625 \r\nQ 24.75 6.390625 31.78125 6.390625 \r\nQ 38.8125 6.390625 42.859375 10.171875 \r\nQ 46.921875 13.96875 46.921875 20.515625 \r\nQ 46.921875 27.09375 42.890625 30.859375 \r\nQ 38.875 34.625 31.78125 34.625 \r\nz\r\nM 21.921875 38.8125 \r\nQ 15.578125 40.375 12.03125 44.71875 \r\nQ 8.5 49.078125 8.5 55.328125 \r\nQ 8.5 64.0625 14.71875 69.140625 \r\nQ 20.953125 74.21875 31.78125 74.21875 \r\nQ 42.671875 74.21875 48.875 69.140625 \r\nQ 55.078125 64.0625 55.078125 55.328125 \r\nQ 55.078125 49.078125 51.53125 44.71875 \r\nQ 48 40.375 41.703125 38.8125 \r\nQ 48.828125 37.15625 52.796875 32.3125 \r\nQ 56.78125 27.484375 56.78125 20.515625 \r\nQ 56.78125 9.90625 50.3125 4.234375 \r\nQ 43.84375 -1.421875 31.78125 -1.421875 \r\nQ 19.734375 -1.421875 13.25 4.234375 \r\nQ 6.78125 9.90625 6.78125 20.515625 \r\nQ 6.78125 27.484375 10.78125 32.3125 \r\nQ 14.796875 37.15625 21.921875 38.8125 \r\nz\r\nM 18.3125 54.390625 \r\nQ 18.3125 48.734375 21.84375 45.5625 \r\nQ 25.390625 42.390625 31.78125 42.390625 \r\nQ 38.140625 42.390625 41.71875 45.5625 \r\nQ 45.3125 48.734375 45.3125 54.390625 \r\nQ 45.3125 60.0625 41.71875 63.234375 \r\nQ 38.140625 66.40625 31.78125 66.40625 \r\nQ 25.390625 66.40625 21.84375 63.234375 \r\nQ 18.3125 60.0625 18.3125 54.390625 \r\nz\r\n\" id=\"DejaVuSans-56\"/>\r\n       </defs>\r\n       <use xlink:href=\"#DejaVuSans-48\"/>\r\n       <use x=\"63.623047\" xlink:href=\"#DejaVuSans-46\"/>\r\n       <use x=\"95.410156\" xlink:href=\"#DejaVuSans-56\"/>\r\n      </g>\r\n     </g>\r\n    </g>\r\n    <g id=\"ytick_5\">\r\n     <g id=\"line2d_25\">\r\n      <path clip-path=\"url(#pdf60d3ee2f)\" d=\"M 44.059375 25.64845 \r\nL 490.459375 25.64845 \r\n\" style=\"fill:none;stroke:#b0b0b0;stroke-linecap:square;stroke-width:0.8;\"/>\r\n     </g>\r\n     <g id=\"line2d_26\">\r\n      <g>\r\n       <use style=\"stroke:#000000;stroke-width:0.8;\" x=\"44.059375\" xlink:href=\"#m9895ec53b7\" y=\"25.64845\"/>\r\n      </g>\r\n     </g>\r\n     <g id=\"text_13\">\r\n      <!-- 1.0 -->\r\n      <g transform=\"translate(21.15625 29.447668)scale(0.1 -0.1)\">\r\n       <use xlink:href=\"#DejaVuSans-49\"/>\r\n       <use x=\"63.623047\" xlink:href=\"#DejaVuSans-46\"/>\r\n       <use x=\"95.410156\" xlink:href=\"#DejaVuSans-48\"/>\r\n      </g>\r\n     </g>\r\n    </g>\r\n    <g id=\"text_14\">\r\n     <!-- val_loss -->\r\n     <g transform=\"translate(14.798438 298.570312)rotate(-90)scale(0.1 -0.1)\">\r\n      <defs>\r\n       <path d=\"M 2.984375 54.6875 \r\nL 12.5 54.6875 \r\nL 29.59375 8.796875 \r\nL 46.6875 54.6875 \r\nL 56.203125 54.6875 \r\nL 35.6875 0 \r\nL 23.484375 0 \r\nz\r\n\" id=\"DejaVuSans-118\"/>\r\n       <path d=\"M 34.28125 27.484375 \r\nQ 23.390625 27.484375 19.1875 25 \r\nQ 14.984375 22.515625 14.984375 16.5 \r\nQ 14.984375 11.71875 18.140625 8.90625 \r\nQ 21.296875 6.109375 26.703125 6.109375 \r\nQ 34.1875 6.109375 38.703125 11.40625 \r\nQ 43.21875 16.703125 43.21875 25.484375 \r\nL 43.21875 27.484375 \r\nz\r\nM 52.203125 31.203125 \r\nL 52.203125 0 \r\nL 43.21875 0 \r\nL 43.21875 8.296875 \r\nQ 40.140625 3.328125 35.546875 0.953125 \r\nQ 30.953125 -1.421875 24.3125 -1.421875 \r\nQ 15.921875 -1.421875 10.953125 3.296875 \r\nQ 6 8.015625 6 15.921875 \r\nQ 6 25.140625 12.171875 29.828125 \r\nQ 18.359375 34.515625 30.609375 34.515625 \r\nL 43.21875 34.515625 \r\nL 43.21875 35.40625 \r\nQ 43.21875 41.609375 39.140625 45 \r\nQ 35.0625 48.390625 27.6875 48.390625 \r\nQ 23 48.390625 18.546875 47.265625 \r\nQ 14.109375 46.140625 10.015625 43.890625 \r\nL 10.015625 52.203125 \r\nQ 14.9375 54.109375 19.578125 55.046875 \r\nQ 24.21875 56 28.609375 56 \r\nQ 40.484375 56 46.34375 49.84375 \r\nQ 52.203125 43.703125 52.203125 31.203125 \r\nz\r\n\" id=\"DejaVuSans-97\"/>\r\n       <path d=\"M 9.421875 75.984375 \r\nL 18.40625 75.984375 \r\nL 18.40625 0 \r\nL 9.421875 0 \r\nz\r\n\" id=\"DejaVuSans-108\"/>\r\n       <path d=\"M 50.984375 -16.609375 \r\nL 50.984375 -23.578125 \r\nL -0.984375 -23.578125 \r\nL -0.984375 -16.609375 \r\nz\r\n\" id=\"DejaVuSans-95\"/>\r\n       <path d=\"M 30.609375 48.390625 \r\nQ 23.390625 48.390625 19.1875 42.75 \r\nQ 14.984375 37.109375 14.984375 27.296875 \r\nQ 14.984375 17.484375 19.15625 11.84375 \r\nQ 23.34375 6.203125 30.609375 6.203125 \r\nQ 37.796875 6.203125 41.984375 11.859375 \r\nQ 46.1875 17.53125 46.1875 27.296875 \r\nQ 46.1875 37.015625 41.984375 42.703125 \r\nQ 37.796875 48.390625 30.609375 48.390625 \r\nz\r\nM 30.609375 56 \r\nQ 42.328125 56 49.015625 48.375 \r\nQ 55.71875 40.765625 55.71875 27.296875 \r\nQ 55.71875 13.875 49.015625 6.21875 \r\nQ 42.328125 -1.421875 30.609375 -1.421875 \r\nQ 18.84375 -1.421875 12.171875 6.21875 \r\nQ 5.515625 13.875 5.515625 27.296875 \r\nQ 5.515625 40.765625 12.171875 48.375 \r\nQ 18.84375 56 30.609375 56 \r\nz\r\n\" id=\"DejaVuSans-111\"/>\r\n       <path d=\"M 44.28125 53.078125 \r\nL 44.28125 44.578125 \r\nQ 40.484375 46.53125 36.375 47.5 \r\nQ 32.28125 48.484375 27.875 48.484375 \r\nQ 21.1875 48.484375 17.84375 46.4375 \r\nQ 14.5 44.390625 14.5 40.28125 \r\nQ 14.5 37.15625 16.890625 35.375 \r\nQ 19.28125 33.59375 26.515625 31.984375 \r\nL 29.59375 31.296875 \r\nQ 39.15625 29.25 43.1875 25.515625 \r\nQ 47.21875 21.78125 47.21875 15.09375 \r\nQ 47.21875 7.46875 41.1875 3.015625 \r\nQ 35.15625 -1.421875 24.609375 -1.421875 \r\nQ 20.21875 -1.421875 15.453125 -0.5625 \r\nQ 10.6875 0.296875 5.421875 2 \r\nL 5.421875 11.28125 \r\nQ 10.40625 8.6875 15.234375 7.390625 \r\nQ 20.0625 6.109375 24.8125 6.109375 \r\nQ 31.15625 6.109375 34.5625 8.28125 \r\nQ 37.984375 10.453125 37.984375 14.40625 \r\nQ 37.984375 18.0625 35.515625 20.015625 \r\nQ 33.0625 21.96875 24.703125 23.78125 \r\nL 21.578125 24.515625 \r\nQ 13.234375 26.265625 9.515625 29.90625 \r\nQ 5.8125 33.546875 5.8125 39.890625 \r\nQ 5.8125 47.609375 11.28125 51.796875 \r\nQ 16.75 56 26.8125 56 \r\nQ 31.78125 56 36.171875 55.265625 \r\nQ 40.578125 54.546875 44.28125 53.078125 \r\nz\r\n\" id=\"DejaVuSans-115\"/>\r\n      </defs>\r\n      <use xlink:href=\"#DejaVuSans-118\"/>\r\n      <use x=\"59.179688\" xlink:href=\"#DejaVuSans-97\"/>\r\n      <use x=\"120.458984\" xlink:href=\"#DejaVuSans-108\"/>\r\n      <use x=\"148.242188\" xlink:href=\"#DejaVuSans-95\"/>\r\n      <use x=\"198.242188\" xlink:href=\"#DejaVuSans-108\"/>\r\n      <use x=\"226.025391\" xlink:href=\"#DejaVuSans-111\"/>\r\n      <use x=\"287.207031\" xlink:href=\"#DejaVuSans-115\"/>\r\n      <use x=\"339.306641\" xlink:href=\"#DejaVuSans-115\"/>\r\n     </g>\r\n    </g>\r\n   </g>\r\n   <g id=\"line2d_27\">\r\n    <path clip-path=\"url(#pdf60d3ee2f)\" d=\"M 64.350284 292.022995 \r\nL 85.709136 434.158625 \r\nL 107.067987 499.315755 \r\nL 128.426839 508.745516 \r\nL 149.785691 489.545831 \r\nL 171.144542 492.863071 \r\nL 192.503394 452.044475 \r\nL 213.862246 482.983728 \r\nL 235.221097 519.086463 \r\nL 256.579949 526.090909 \r\nL 277.938801 431.079221 \r\nL 299.297653 513.285539 \r\nL 320.656504 469.773415 \r\nL 342.015356 408.536042 \r\nL 363.374208 477.978636 \r\nL 384.733059 302.291482 \r\nL 406.091911 439.413822 \r\nL 427.450763 366.121835 \r\nL 448.809614 460.149543 \r\nL 470.168466 465.256795 \r\n\" style=\"fill:none;stroke:#1f77b4;stroke-linecap:square;stroke-width:1.5;\"/>\r\n   </g>\r\n   <g id=\"line2d_28\">\r\n    <path clip-path=\"url(#pdf60d3ee2f)\" d=\"M 64.350284 59.494975 \r\nL 85.709136 44.821621 \r\nL 107.067987 36.604547 \r\nL 128.426839 35.528495 \r\nL 149.785691 35.528495 \r\nL 171.144542 34.158983 \r\nL 192.503394 36.017628 \r\nL 213.862246 35.528495 \r\nL 235.221097 33.865523 \r\nL 256.579949 33.082963 \r\nL 277.938801 36.017628 \r\nL 299.297653 33.082963 \r\nL 320.656504 31.909091 \r\nL 342.015356 36.017628 \r\nL 363.374208 32.887291 \r\nL 384.733059 32.887291 \r\nL 406.091911 36.311087 \r\nL 427.450763 32.496011 \r\nL 448.809614 33.180783 \r\nL 470.168466 32.104731 \r\n\" style=\"fill:none;stroke:#ff7f0e;stroke-linecap:square;stroke-width:1.5;\"/>\r\n   </g>\r\n   <g id=\"patch_3\">\r\n    <path d=\"M 44.059375 550.8 \r\nL 44.059375 7.2 \r\n\" style=\"fill:none;stroke:#000000;stroke-linecap:square;stroke-linejoin:miter;stroke-width:0.8;\"/>\r\n   </g>\r\n   <g id=\"patch_4\">\r\n    <path d=\"M 490.459375 550.8 \r\nL 490.459375 7.2 \r\n\" style=\"fill:none;stroke:#000000;stroke-linecap:square;stroke-linejoin:miter;stroke-width:0.8;\"/>\r\n   </g>\r\n   <g id=\"patch_5\">\r\n    <path d=\"M 44.059375 550.8 \r\nL 490.459375 550.8 \r\n\" style=\"fill:none;stroke:#000000;stroke-linecap:square;stroke-linejoin:miter;stroke-width:0.8;\"/>\r\n   </g>\r\n   <g id=\"patch_6\">\r\n    <path d=\"M 44.059375 7.2 \r\nL 490.459375 7.2 \r\n\" style=\"fill:none;stroke:#000000;stroke-linecap:square;stroke-linejoin:miter;stroke-width:0.8;\"/>\r\n   </g>\r\n   <g id=\"legend_1\">\r\n    <g id=\"patch_7\">\r\n     <path d=\"M 51.059375 545.8 \r\nL 157.553125 545.8 \r\nQ 159.553125 545.8 159.553125 543.8 \r\nL 159.553125 515.44375 \r\nQ 159.553125 513.44375 157.553125 513.44375 \r\nL 51.059375 513.44375 \r\nQ 49.059375 513.44375 49.059375 515.44375 \r\nL 49.059375 543.8 \r\nQ 49.059375 545.8 51.059375 545.8 \r\nz\r\n\" style=\"fill:#ffffff;opacity:0.8;stroke:#cccccc;stroke-linejoin:miter;\"/>\r\n    </g>\r\n    <g id=\"line2d_29\">\r\n     <path d=\"M 53.059375 521.542188 \r\nL 73.059375 521.542188 \r\n\" style=\"fill:none;stroke:#1f77b4;stroke-linecap:square;stroke-width:1.5;\"/>\r\n    </g>\r\n    <g id=\"line2d_30\"/>\r\n    <g id=\"text_15\">\r\n     <!-- Validation Loss -->\r\n     <g transform=\"translate(81.059375 525.042188)scale(0.1 -0.1)\">\r\n      <defs>\r\n       <path d=\"M 28.609375 0 \r\nL 0.78125 72.90625 \r\nL 11.078125 72.90625 \r\nL 34.1875 11.53125 \r\nL 57.328125 72.90625 \r\nL 67.578125 72.90625 \r\nL 39.796875 0 \r\nz\r\n\" id=\"DejaVuSans-86\"/>\r\n       <path d=\"M 9.421875 54.6875 \r\nL 18.40625 54.6875 \r\nL 18.40625 0 \r\nL 9.421875 0 \r\nz\r\nM 9.421875 75.984375 \r\nL 18.40625 75.984375 \r\nL 18.40625 64.59375 \r\nL 9.421875 64.59375 \r\nz\r\n\" id=\"DejaVuSans-105\"/>\r\n       <path d=\"M 45.40625 46.390625 \r\nL 45.40625 75.984375 \r\nL 54.390625 75.984375 \r\nL 54.390625 0 \r\nL 45.40625 0 \r\nL 45.40625 8.203125 \r\nQ 42.578125 3.328125 38.25 0.953125 \r\nQ 33.9375 -1.421875 27.875 -1.421875 \r\nQ 17.96875 -1.421875 11.734375 6.484375 \r\nQ 5.515625 14.40625 5.515625 27.296875 \r\nQ 5.515625 40.1875 11.734375 48.09375 \r\nQ 17.96875 56 27.875 56 \r\nQ 33.9375 56 38.25 53.625 \r\nQ 42.578125 51.265625 45.40625 46.390625 \r\nz\r\nM 14.796875 27.296875 \r\nQ 14.796875 17.390625 18.875 11.75 \r\nQ 22.953125 6.109375 30.078125 6.109375 \r\nQ 37.203125 6.109375 41.296875 11.75 \r\nQ 45.40625 17.390625 45.40625 27.296875 \r\nQ 45.40625 37.203125 41.296875 42.84375 \r\nQ 37.203125 48.484375 30.078125 48.484375 \r\nQ 22.953125 48.484375 18.875 42.84375 \r\nQ 14.796875 37.203125 14.796875 27.296875 \r\nz\r\n\" id=\"DejaVuSans-100\"/>\r\n       <path d=\"M 18.3125 70.21875 \r\nL 18.3125 54.6875 \r\nL 36.8125 54.6875 \r\nL 36.8125 47.703125 \r\nL 18.3125 47.703125 \r\nL 18.3125 18.015625 \r\nQ 18.3125 11.328125 20.140625 9.421875 \r\nQ 21.96875 7.515625 27.59375 7.515625 \r\nL 36.8125 7.515625 \r\nL 36.8125 0 \r\nL 27.59375 0 \r\nQ 17.1875 0 13.234375 3.875 \r\nQ 9.28125 7.765625 9.28125 18.015625 \r\nL 9.28125 47.703125 \r\nL 2.6875 47.703125 \r\nL 2.6875 54.6875 \r\nL 9.28125 54.6875 \r\nL 9.28125 70.21875 \r\nz\r\n\" id=\"DejaVuSans-116\"/>\r\n       <path d=\"M 54.890625 33.015625 \r\nL 54.890625 0 \r\nL 45.90625 0 \r\nL 45.90625 32.71875 \r\nQ 45.90625 40.484375 42.875 44.328125 \r\nQ 39.84375 48.1875 33.796875 48.1875 \r\nQ 26.515625 48.1875 22.3125 43.546875 \r\nQ 18.109375 38.921875 18.109375 30.90625 \r\nL 18.109375 0 \r\nL 9.078125 0 \r\nL 9.078125 54.6875 \r\nL 18.109375 54.6875 \r\nL 18.109375 46.1875 \r\nQ 21.34375 51.125 25.703125 53.5625 \r\nQ 30.078125 56 35.796875 56 \r\nQ 45.21875 56 50.046875 50.171875 \r\nQ 54.890625 44.34375 54.890625 33.015625 \r\nz\r\n\" id=\"DejaVuSans-110\"/>\r\n       <path id=\"DejaVuSans-32\"/>\r\n       <path d=\"M 9.8125 72.90625 \r\nL 19.671875 72.90625 \r\nL 19.671875 8.296875 \r\nL 55.171875 8.296875 \r\nL 55.171875 0 \r\nL 9.8125 0 \r\nz\r\n\" id=\"DejaVuSans-76\"/>\r\n      </defs>\r\n      <use xlink:href=\"#DejaVuSans-86\"/>\r\n      <use x=\"60.658203\" xlink:href=\"#DejaVuSans-97\"/>\r\n      <use x=\"121.9375\" xlink:href=\"#DejaVuSans-108\"/>\r\n      <use x=\"149.720703\" xlink:href=\"#DejaVuSans-105\"/>\r\n      <use x=\"177.503906\" xlink:href=\"#DejaVuSans-100\"/>\r\n      <use x=\"240.980469\" xlink:href=\"#DejaVuSans-97\"/>\r\n      <use x=\"302.259766\" xlink:href=\"#DejaVuSans-116\"/>\r\n      <use x=\"341.46875\" xlink:href=\"#DejaVuSans-105\"/>\r\n      <use x=\"369.251953\" xlink:href=\"#DejaVuSans-111\"/>\r\n      <use x=\"430.433594\" xlink:href=\"#DejaVuSans-110\"/>\r\n      <use x=\"493.8125\" xlink:href=\"#DejaVuSans-32\"/>\r\n      <use x=\"525.599609\" xlink:href=\"#DejaVuSans-76\"/>\r\n      <use x=\"579.5625\" xlink:href=\"#DejaVuSans-111\"/>\r\n      <use x=\"640.744141\" xlink:href=\"#DejaVuSans-115\"/>\r\n      <use x=\"692.84375\" xlink:href=\"#DejaVuSans-115\"/>\r\n     </g>\r\n    </g>\r\n    <g id=\"line2d_31\">\r\n     <path d=\"M 53.059375 536.220312 \r\nL 73.059375 536.220312 \r\n\" style=\"fill:none;stroke:#ff7f0e;stroke-linecap:square;stroke-width:1.5;\"/>\r\n    </g>\r\n    <g id=\"line2d_32\"/>\r\n    <g id=\"text_16\">\r\n     <!-- Cat. Accuracy -->\r\n     <g transform=\"translate(81.059375 539.720312)scale(0.1 -0.1)\">\r\n      <defs>\r\n       <path d=\"M 64.40625 67.28125 \r\nL 64.40625 56.890625 \r\nQ 59.421875 61.53125 53.78125 63.8125 \r\nQ 48.140625 66.109375 41.796875 66.109375 \r\nQ 29.296875 66.109375 22.65625 58.46875 \r\nQ 16.015625 50.828125 16.015625 36.375 \r\nQ 16.015625 21.96875 22.65625 14.328125 \r\nQ 29.296875 6.6875 41.796875 6.6875 \r\nQ 48.140625 6.6875 53.78125 8.984375 \r\nQ 59.421875 11.28125 64.40625 15.921875 \r\nL 64.40625 5.609375 \r\nQ 59.234375 2.09375 53.4375 0.328125 \r\nQ 47.65625 -1.421875 41.21875 -1.421875 \r\nQ 24.65625 -1.421875 15.125 8.703125 \r\nQ 5.609375 18.84375 5.609375 36.375 \r\nQ 5.609375 53.953125 15.125 64.078125 \r\nQ 24.65625 74.21875 41.21875 74.21875 \r\nQ 47.75 74.21875 53.53125 72.484375 \r\nQ 59.328125 70.75 64.40625 67.28125 \r\nz\r\n\" id=\"DejaVuSans-67\"/>\r\n       <path d=\"M 34.1875 63.1875 \r\nL 20.796875 26.90625 \r\nL 47.609375 26.90625 \r\nz\r\nM 28.609375 72.90625 \r\nL 39.796875 72.90625 \r\nL 67.578125 0 \r\nL 57.328125 0 \r\nL 50.6875 18.703125 \r\nL 17.828125 18.703125 \r\nL 11.1875 0 \r\nL 0.78125 0 \r\nz\r\n\" id=\"DejaVuSans-65\"/>\r\n       <path d=\"M 48.78125 52.59375 \r\nL 48.78125 44.1875 \r\nQ 44.96875 46.296875 41.140625 47.34375 \r\nQ 37.3125 48.390625 33.40625 48.390625 \r\nQ 24.65625 48.390625 19.8125 42.84375 \r\nQ 14.984375 37.3125 14.984375 27.296875 \r\nQ 14.984375 17.28125 19.8125 11.734375 \r\nQ 24.65625 6.203125 33.40625 6.203125 \r\nQ 37.3125 6.203125 41.140625 7.25 \r\nQ 44.96875 8.296875 48.78125 10.40625 \r\nL 48.78125 2.09375 \r\nQ 45.015625 0.34375 40.984375 -0.53125 \r\nQ 36.96875 -1.421875 32.421875 -1.421875 \r\nQ 20.0625 -1.421875 12.78125 6.34375 \r\nQ 5.515625 14.109375 5.515625 27.296875 \r\nQ 5.515625 40.671875 12.859375 48.328125 \r\nQ 20.21875 56 33.015625 56 \r\nQ 37.15625 56 41.109375 55.140625 \r\nQ 45.0625 54.296875 48.78125 52.59375 \r\nz\r\n\" id=\"DejaVuSans-99\"/>\r\n       <path d=\"M 8.5 21.578125 \r\nL 8.5 54.6875 \r\nL 17.484375 54.6875 \r\nL 17.484375 21.921875 \r\nQ 17.484375 14.15625 20.5 10.265625 \r\nQ 23.53125 6.390625 29.59375 6.390625 \r\nQ 36.859375 6.390625 41.078125 11.03125 \r\nQ 45.3125 15.671875 45.3125 23.6875 \r\nL 45.3125 54.6875 \r\nL 54.296875 54.6875 \r\nL 54.296875 0 \r\nL 45.3125 0 \r\nL 45.3125 8.40625 \r\nQ 42.046875 3.421875 37.71875 1 \r\nQ 33.40625 -1.421875 27.6875 -1.421875 \r\nQ 18.265625 -1.421875 13.375 4.4375 \r\nQ 8.5 10.296875 8.5 21.578125 \r\nz\r\nM 31.109375 56 \r\nz\r\n\" id=\"DejaVuSans-117\"/>\r\n       <path d=\"M 41.109375 46.296875 \r\nQ 39.59375 47.171875 37.8125 47.578125 \r\nQ 36.03125 48 33.890625 48 \r\nQ 26.265625 48 22.1875 43.046875 \r\nQ 18.109375 38.09375 18.109375 28.8125 \r\nL 18.109375 0 \r\nL 9.078125 0 \r\nL 9.078125 54.6875 \r\nL 18.109375 54.6875 \r\nL 18.109375 46.1875 \r\nQ 20.953125 51.171875 25.484375 53.578125 \r\nQ 30.03125 56 36.53125 56 \r\nQ 37.453125 56 38.578125 55.875 \r\nQ 39.703125 55.765625 41.0625 55.515625 \r\nz\r\n\" id=\"DejaVuSans-114\"/>\r\n       <path d=\"M 32.171875 -5.078125 \r\nQ 28.375 -14.84375 24.75 -17.8125 \r\nQ 21.140625 -20.796875 15.09375 -20.796875 \r\nL 7.90625 -20.796875 \r\nL 7.90625 -13.28125 \r\nL 13.1875 -13.28125 \r\nQ 16.890625 -13.28125 18.9375 -11.515625 \r\nQ 21 -9.765625 23.484375 -3.21875 \r\nL 25.09375 0.875 \r\nL 2.984375 54.6875 \r\nL 12.5 54.6875 \r\nL 29.59375 11.921875 \r\nL 46.6875 54.6875 \r\nL 56.203125 54.6875 \r\nz\r\n\" id=\"DejaVuSans-121\"/>\r\n      </defs>\r\n      <use xlink:href=\"#DejaVuSans-67\"/>\r\n      <use x=\"69.824219\" xlink:href=\"#DejaVuSans-97\"/>\r\n      <use x=\"131.103516\" xlink:href=\"#DejaVuSans-116\"/>\r\n      <use x=\"170.3125\" xlink:href=\"#DejaVuSans-46\"/>\r\n      <use x=\"202.099609\" xlink:href=\"#DejaVuSans-32\"/>\r\n      <use x=\"233.886719\" xlink:href=\"#DejaVuSans-65\"/>\r\n      <use x=\"300.544922\" xlink:href=\"#DejaVuSans-99\"/>\r\n      <use x=\"355.525391\" xlink:href=\"#DejaVuSans-99\"/>\r\n      <use x=\"410.505859\" xlink:href=\"#DejaVuSans-117\"/>\r\n      <use x=\"473.884766\" xlink:href=\"#DejaVuSans-114\"/>\r\n      <use x=\"514.998047\" xlink:href=\"#DejaVuSans-97\"/>\r\n      <use x=\"576.277344\" xlink:href=\"#DejaVuSans-99\"/>\r\n      <use x=\"631.257812\" xlink:href=\"#DejaVuSans-121\"/>\r\n     </g>\r\n    </g>\r\n   </g>\r\n  </g>\r\n </g>\r\n <defs>\r\n  <clipPath id=\"pdf60d3ee2f\">\r\n   <rect height=\"543.6\" width=\"446.4\" x=\"44.059375\" y=\"7.2\"/>\r\n  </clipPath>\r\n </defs>\r\n</svg>\r\n",
      "image/png": "[encoded data removed]"
     },
     "metadata": {
      "needs_background": "light"
     }
    }
   ],
   "source": [
    "fig,ax_tuned = plt.subplots(1,1,figsize = (8,10))\n",
    "sns.lineplot(x = history_tuned.index.values.tolist(), y = history_tuned[\"val_loss\"], label = \"Validation Loss\", ax = ax_tuned)\n",
    "sns.lineplot(x = history_tuned.index.values.tolist(), y = history_tuned[\"val_categorical_accuracy\"], label = \"Cat. Accuracy\", ax = ax_tuned)\n",
    "ax_tuned.legend()\n",
    "ax_tuned.grid()"
   ]
  },
  {
   "cell_type": "code",
   "execution_count": 49,
   "metadata": {},
   "outputs": [],
   "source": [
    "#adding batch Normalization layer to the above model\n",
    "#Batch Normalization allows us to train with higher learning rates \n",
    "model_tuned_bn = keras.models.Sequential()\n",
    "model_tuned_bn.add(keras.layers.Flatten(input_shape = [28,28]))\n",
    "model_tuned_bn.add(keras.layers.BatchNormalization())\n",
    "model_tuned_bn.add(keras.layers.Dense(100,activation = \"elu\",kernel_initializer=\"he_normal\"))\n",
    "model_tuned_bn.add(keras.layers.BatchNormalization())\n",
    "model_tuned_bn.add(keras.layers.Dense(100,activation = \"elu\",kernel_initializer=\"he_normal\"))\n",
    "model_tuned_bn.add(keras.layers.BatchNormalization())\n",
    "model_tuned_bn.add(keras.layers.Dense(100,activation = \"elu\",kernel_initializer=\"he_normal\"))\n",
    "model_tuned_bn.add(keras.layers.BatchNormalization())\n",
    "model_tuned_bn.add(keras.layers.Dense(100,activation = \"elu\",kernel_initializer=\"he_normal\"))\n",
    "model_tuned_bn.add(keras.layers.BatchNormalization())\n",
    "model_tuned_bn.add(keras.layers.Dense(100,activation = \"elu\",kernel_initializer=\"he_normal\"))\n",
    "model_tuned_bn.add(keras.layers.Dense(5, activation=\"softmax\"))"
   ]
  },
  {
   "cell_type": "code",
   "execution_count": 50,
   "metadata": {},
   "outputs": [],
   "source": [
    "adamoptim_tuned_bn = keras.optimizers.Adam(lr = 0.001,beta_1=0.6,beta_2=0.8)\n",
    "checkpoint_tuned_bn = keras.callbacks.ModelCheckpoint('tuned0to4bn.h5',save_best_only=True)\n",
    "earlystopping_tuned_bn = keras.callbacks.EarlyStopping(patience = 10, restore_best_weights=True)\n",
    "\n",
    "model_tuned_bn.compile(loss = \"categorical_crossentropy\",\n",
    "                    optimizer = adamoptim_tuned_bn, \n",
    "                    metrics = [accuracy,precision,recall,aucscore])"
   ]
  },
  {
   "cell_type": "code",
   "execution_count": 51,
   "metadata": {},
   "outputs": [
    {
     "output_type": "stream",
     "name": "stdout",
     "text": [
      "Model: \"sequential_53\"\n_________________________________________________________________\nLayer (type)                 Output Shape              Param #   \n=================================================================\nflatten_53 (Flatten)         (None, 784)               0         \n_________________________________________________________________\nbatch_normalization (BatchNo (None, 784)               3136      \n_________________________________________________________________\ndense_318 (Dense)            (None, 100)               78500     \n_________________________________________________________________\nbatch_normalization_1 (Batch (None, 100)               400       \n_________________________________________________________________\ndense_319 (Dense)            (None, 100)               10100     \n_________________________________________________________________\nbatch_normalization_2 (Batch (None, 100)               400       \n_________________________________________________________________\ndense_320 (Dense)            (None, 100)               10100     \n_________________________________________________________________\nbatch_normalization_3 (Batch (None, 100)               400       \n_________________________________________________________________\ndense_321 (Dense)            (None, 100)               10100     \n_________________________________________________________________\nbatch_normalization_4 (Batch (None, 100)               400       \n_________________________________________________________________\ndense_322 (Dense)            (None, 100)               10100     \n_________________________________________________________________\ndense_323 (Dense)            (None, 5)                 505       \n=================================================================\nTotal params: 124,141\nTrainable params: 121,773\nNon-trainable params: 2,368\n_________________________________________________________________\n"
     ]
    }
   ],
   "source": [
    "model_tuned_bn.summary()"
   ]
  },
  {
   "cell_type": "code",
   "execution_count": 52,
   "metadata": {},
   "outputs": [
    {
     "output_type": "stream",
     "name": "stdout",
     "text": [
      "Epoch 1/40\n",
      "782/782 [==============================] - 6s 5ms/step - loss: 0.2213 - categorical_accuracy: 0.9600 - precision: 0.9662 - recall: 0.9549 - auc: 0.9952 - val_loss: 0.0901 - val_categorical_accuracy: 0.9811 - val_precision: 0.9828 - val_recall: 0.9796 - val_auc: 0.9974\n",
      "Epoch 2/40\n",
      "782/782 [==============================] - 3s 4ms/step - loss: 0.0667 - categorical_accuracy: 0.9795 - precision: 0.9810 - recall: 0.9781 - auc: 0.9983 - val_loss: 0.0650 - val_categorical_accuracy: 0.9878 - val_precision: 0.9887 - val_recall: 0.9868 - val_auc: 0.9983\n",
      "Epoch 3/40\n",
      "782/782 [==============================] - 3s 4ms/step - loss: 0.0470 - categorical_accuracy: 0.9859 - precision: 0.9871 - recall: 0.9855 - auc: 0.9989 - val_loss: 0.0969 - val_categorical_accuracy: 0.9850 - val_precision: 0.9857 - val_recall: 0.9845 - val_auc: 0.9972\n",
      "Epoch 4/40\n",
      "782/782 [==============================] - 3s 4ms/step - loss: 0.0422 - categorical_accuracy: 0.9869 - precision: 0.9875 - recall: 0.9863 - auc: 0.9991 - val_loss: 0.1067 - val_categorical_accuracy: 0.9868 - val_precision: 0.9878 - val_recall: 0.9868 - val_auc: 0.9978\n",
      "Epoch 5/40\n",
      "782/782 [==============================] - 3s 4ms/step - loss: 0.0356 - categorical_accuracy: 0.9899 - precision: 0.9901 - recall: 0.9894 - auc: 0.9990 - val_loss: 0.0712 - val_categorical_accuracy: 0.9887 - val_precision: 0.9891 - val_recall: 0.9884 - val_auc: 0.9978\n",
      "Epoch 6/40\n",
      "782/782 [==============================] - 3s 4ms/step - loss: 0.0263 - categorical_accuracy: 0.9925 - precision: 0.9929 - recall: 0.9925 - auc: 0.9992 - val_loss: 0.1202 - val_categorical_accuracy: 0.9880 - val_precision: 0.9884 - val_recall: 0.9873 - val_auc: 0.9977\n",
      "Epoch 7/40\n",
      "782/782 [==============================] - 3s 4ms/step - loss: 0.0247 - categorical_accuracy: 0.9917 - precision: 0.9919 - recall: 0.9914 - auc: 0.9994 - val_loss: 0.1712 - val_categorical_accuracy: 0.9882 - val_precision: 0.9887 - val_recall: 0.9878 - val_auc: 0.9974\n",
      "Epoch 8/40\n",
      "782/782 [==============================] - 3s 4ms/step - loss: 0.0221 - categorical_accuracy: 0.9937 - precision: 0.9939 - recall: 0.9935 - auc: 0.9994 - val_loss: 0.1625 - val_categorical_accuracy: 0.9853 - val_precision: 0.9855 - val_recall: 0.9852 - val_auc: 0.9967\n",
      "Epoch 9/40\n",
      "782/782 [==============================] - 3s 4ms/step - loss: 0.0268 - categorical_accuracy: 0.9924 - precision: 0.9925 - recall: 0.9924 - auc: 0.9993 - val_loss: 0.1938 - val_categorical_accuracy: 0.9880 - val_precision: 0.9880 - val_recall: 0.9877 - val_auc: 0.9971\n",
      "Epoch 10/40\n",
      "782/782 [==============================] - 3s 4ms/step - loss: 0.0167 - categorical_accuracy: 0.9948 - precision: 0.9948 - recall: 0.9947 - auc: 0.9996 - val_loss: 0.1214 - val_categorical_accuracy: 0.9850 - val_precision: 0.9857 - val_recall: 0.9850 - val_auc: 0.9966\n",
      "Epoch 11/40\n",
      "782/782 [==============================] - 3s 4ms/step - loss: 0.0213 - categorical_accuracy: 0.9936 - precision: 0.9939 - recall: 0.9936 - auc: 0.9993 - val_loss: 0.1620 - val_categorical_accuracy: 0.9895 - val_precision: 0.9895 - val_recall: 0.9893 - val_auc: 0.9968\n",
      "Epoch 12/40\n",
      "782/782 [==============================] - 3s 4ms/step - loss: 0.0163 - categorical_accuracy: 0.9959 - precision: 0.9960 - recall: 0.9958 - auc: 0.9995 - val_loss: 0.1637 - val_categorical_accuracy: 0.9887 - val_precision: 0.9887 - val_recall: 0.9887 - val_auc: 0.9968\n"
     ]
    }
   ],
   "source": [
    "model_tuned_bn_history = model_tuned_bn.fit(X_data_train0to4,y_data_train0to4, epochs = 40, validation_data=(X_data_valid0to4,y_data_valid0to4), callbacks = [checkpoint_tuned_bn,earlystopping_tuned_bn])"
   ]
  },
  {
   "cell_type": "code",
   "execution_count": 53,
   "metadata": {},
   "outputs": [
    {
     "output_type": "execute_result",
     "data": {
      "text/plain": [
       "        loss  categorical_accuracy  precision    recall       auc  val_loss  \\\n",
       "0   0.133981               0.96323   0.967827  0.959603  0.996179  0.090141   \n",
       "1   0.066142               0.97956   0.980831  0.978320  0.998322  0.065010   \n",
       "2   0.047314               0.98580   0.986663  0.985440  0.998824  0.096938   \n",
       "3   0.042085               0.98728   0.987590  0.986760  0.998978  0.106703   \n",
       "4   0.035435               0.99020   0.990553  0.989840  0.998957  0.071202   \n",
       "5   0.030832               0.99084   0.991195  0.990680  0.999136  0.120154   \n",
       "6   0.027134               0.99124   0.991634  0.990960  0.999371  0.171206   \n",
       "7   0.023417               0.99320   0.993517  0.993040  0.999389  0.162539   \n",
       "8   0.023892               0.99300   0.993079  0.992880  0.999365  0.193776   \n",
       "9   0.018556               0.99424   0.994359  0.994200  0.999497  0.121376   \n",
       "10  0.020123               0.99372   0.993958  0.993640  0.999522  0.161986   \n",
       "11  0.019394               0.99468   0.994839  0.994640  0.999428  0.163724   \n",
       "\n",
       "    val_categorical_accuracy  val_precision  val_recall   val_auc  \n",
       "0                   0.981058       0.982790    0.979628  0.997384  \n",
       "1                   0.987848       0.988720    0.986776  0.998261  \n",
       "2                   0.984989       0.985686    0.984453  0.997204  \n",
       "3                   0.986776       0.987835    0.986776  0.997823  \n",
       "4                   0.988742       0.989092    0.988385  0.997831  \n",
       "5                   0.988027       0.988372    0.987312  0.997741  \n",
       "6                   0.988206       0.988732    0.987848  0.997399  \n",
       "7                   0.985347       0.985520    0.985168  0.996742  \n",
       "8                   0.988027       0.988023    0.987670  0.997110  \n",
       "9                   0.984989       0.985694    0.984989  0.996563  \n",
       "10                  0.989457       0.989455    0.989278  0.996808  \n",
       "11                  0.988742       0.988742    0.988742  0.996829  "
      ],
      "text/html": "<div>\n<style scoped>\n    .dataframe tbody tr th:only-of-type {\n        vertical-align: middle;\n    }\n\n    .dataframe tbody tr th {\n        vertical-align: top;\n    }\n\n    .dataframe thead th {\n        text-align: right;\n    }\n</style>\n<table border=\"1\" class=\"dataframe\">\n  <thead>\n    <tr style=\"text-align: right;\">\n      <th></th>\n      <th>loss</th>\n      <th>categorical_accuracy</th>\n      <th>precision</th>\n      <th>recall</th>\n      <th>auc</th>\n      <th>val_loss</th>\n      <th>val_categorical_accuracy</th>\n      <th>val_precision</th>\n      <th>val_recall</th>\n      <th>val_auc</th>\n    </tr>\n  </thead>\n  <tbody>\n    <tr>\n      <th>0</th>\n      <td>0.133981</td>\n      <td>0.96323</td>\n      <td>0.967827</td>\n      <td>0.959603</td>\n      <td>0.996179</td>\n      <td>0.090141</td>\n      <td>0.981058</td>\n      <td>0.982790</td>\n      <td>0.979628</td>\n      <td>0.997384</td>\n    </tr>\n    <tr>\n      <th>1</th>\n      <td>0.066142</td>\n      <td>0.97956</td>\n      <td>0.980831</td>\n      <td>0.978320</td>\n      <td>0.998322</td>\n      <td>0.065010</td>\n      <td>0.987848</td>\n      <td>0.988720</td>\n      <td>0.986776</td>\n      <td>0.998261</td>\n    </tr>\n    <tr>\n      <th>2</th>\n      <td>0.047314</td>\n      <td>0.98580</td>\n      <td>0.986663</td>\n      <td>0.985440</td>\n      <td>0.998824</td>\n      <td>0.096938</td>\n      <td>0.984989</td>\n      <td>0.985686</td>\n      <td>0.984453</td>\n      <td>0.997204</td>\n    </tr>\n    <tr>\n      <th>3</th>\n      <td>0.042085</td>\n      <td>0.98728</td>\n      <td>0.987590</td>\n      <td>0.986760</td>\n      <td>0.998978</td>\n      <td>0.106703</td>\n      <td>0.986776</td>\n      <td>0.987835</td>\n      <td>0.986776</td>\n      <td>0.997823</td>\n    </tr>\n    <tr>\n      <th>4</th>\n      <td>0.035435</td>\n      <td>0.99020</td>\n      <td>0.990553</td>\n      <td>0.989840</td>\n      <td>0.998957</td>\n      <td>0.071202</td>\n      <td>0.988742</td>\n      <td>0.989092</td>\n      <td>0.988385</td>\n      <td>0.997831</td>\n    </tr>\n    <tr>\n      <th>5</th>\n      <td>0.030832</td>\n      <td>0.99084</td>\n      <td>0.991195</td>\n      <td>0.990680</td>\n      <td>0.999136</td>\n      <td>0.120154</td>\n      <td>0.988027</td>\n      <td>0.988372</td>\n      <td>0.987312</td>\n      <td>0.997741</td>\n    </tr>\n    <tr>\n      <th>6</th>\n      <td>0.027134</td>\n      <td>0.99124</td>\n      <td>0.991634</td>\n      <td>0.990960</td>\n      <td>0.999371</td>\n      <td>0.171206</td>\n      <td>0.988206</td>\n      <td>0.988732</td>\n      <td>0.987848</td>\n      <td>0.997399</td>\n    </tr>\n    <tr>\n      <th>7</th>\n      <td>0.023417</td>\n      <td>0.99320</td>\n      <td>0.993517</td>\n      <td>0.993040</td>\n      <td>0.999389</td>\n      <td>0.162539</td>\n      <td>0.985347</td>\n      <td>0.985520</td>\n      <td>0.985168</td>\n      <td>0.996742</td>\n    </tr>\n    <tr>\n      <th>8</th>\n      <td>0.023892</td>\n      <td>0.99300</td>\n      <td>0.993079</td>\n      <td>0.992880</td>\n      <td>0.999365</td>\n      <td>0.193776</td>\n      <td>0.988027</td>\n      <td>0.988023</td>\n      <td>0.987670</td>\n      <td>0.997110</td>\n    </tr>\n    <tr>\n      <th>9</th>\n      <td>0.018556</td>\n      <td>0.99424</td>\n      <td>0.994359</td>\n      <td>0.994200</td>\n      <td>0.999497</td>\n      <td>0.121376</td>\n      <td>0.984989</td>\n      <td>0.985694</td>\n      <td>0.984989</td>\n      <td>0.996563</td>\n    </tr>\n    <tr>\n      <th>10</th>\n      <td>0.020123</td>\n      <td>0.99372</td>\n      <td>0.993958</td>\n      <td>0.993640</td>\n      <td>0.999522</td>\n      <td>0.161986</td>\n      <td>0.989457</td>\n      <td>0.989455</td>\n      <td>0.989278</td>\n      <td>0.996808</td>\n    </tr>\n    <tr>\n      <th>11</th>\n      <td>0.019394</td>\n      <td>0.99468</td>\n      <td>0.994839</td>\n      <td>0.994640</td>\n      <td>0.999428</td>\n      <td>0.163724</td>\n      <td>0.988742</td>\n      <td>0.988742</td>\n      <td>0.988742</td>\n      <td>0.996829</td>\n    </tr>\n  </tbody>\n</table>\n</div>"
     },
     "metadata": {},
     "execution_count": 53
    }
   ],
   "source": [
    "history_tuned_bn = pd.DataFrame(model_tuned_bn_history.history)\n",
    "history_tuned_bn"
   ]
  },
  {
   "cell_type": "code",
   "execution_count": 54,
   "metadata": {},
   "outputs": [
    {
     "output_type": "display_data",
     "data": {
      "text/plain": "<Figure size 576x720 with 1 Axes>",
      "image/svg+xml": "<?xml version=\"1.0\" encoding=\"utf-8\" standalone=\"no\"?>\r\n<!DOCTYPE svg PUBLIC \"-//W3C//DTD SVG 1.1//EN\"\r\n  \"http://www.w3.org/Graphics/SVG/1.1/DTD/svg11.dtd\">\r\n<!-- Created with matplotlib (https://matplotlib.org/) -->\r\n<svg height=\"574.678125pt\" version=\"1.1\" viewBox=\"0 0 497.659375 574.678125\" width=\"497.659375pt\" xmlns=\"http://www.w3.org/2000/svg\" xmlns:xlink=\"http://www.w3.org/1999/xlink\">\r\n <metadata>\r\n  <rdf:RDF xmlns:cc=\"http://creativecommons.org/ns#\" xmlns:dc=\"http://purl.org/dc/elements/1.1/\" xmlns:rdf=\"http://www.w3.org/1999/02/22-rdf-syntax-ns#\">\r\n   <cc:Work>\r\n    <dc:type rdf:resource=\"http://purl.org/dc/dcmitype/StillImage\"/>\r\n    <dc:date>2021-05-30T00:43:20.784172</dc:date>\r\n    <dc:format>image/svg+xml</dc:format>\r\n    <dc:creator>\r\n     <cc:Agent>\r\n      <dc:title>Matplotlib v3.3.4, https://matplotlib.org/</dc:title>\r\n     </cc:Agent>\r\n    </dc:creator>\r\n   </cc:Work>\r\n  </rdf:RDF>\r\n </metadata>\r\n <defs>\r\n  <style type=\"text/css\">*{stroke-linecap:butt;stroke-linejoin:round;}</style>\r\n </defs>\r\n <g id=\"figure_1\">\r\n  <g id=\"patch_1\">\r\n   <path d=\"M 0 574.678125 \r\nL 497.659375 574.678125 \r\nL 497.659375 0 \r\nL 0 0 \r\nz\r\n\" style=\"fill:none;\"/>\r\n  </g>\r\n  <g id=\"axes_1\">\r\n   <g id=\"patch_2\">\r\n    <path d=\"M 44.059375 550.8 \r\nL 490.459375 550.8 \r\nL 490.459375 7.2 \r\nL 44.059375 7.2 \r\nz\r\n\" style=\"fill:#ffffff;\"/>\r\n   </g>\r\n   <g id=\"matplotlib.axis_1\">\r\n    <g id=\"xtick_1\">\r\n     <g id=\"line2d_1\">\r\n      <path clip-path=\"url(#p6dc7afd866)\" d=\"M 64.350284 550.8 \r\nL 64.350284 7.2 \r\n\" style=\"fill:none;stroke:#b0b0b0;stroke-linecap:square;stroke-width:0.8;\"/>\r\n     </g>\r\n     <g id=\"line2d_2\">\r\n      <defs>\r\n       <path d=\"M 0 0 \r\nL 0 3.5 \r\n\" id=\"m61861850f4\" style=\"stroke:#000000;stroke-width:0.8;\"/>\r\n      </defs>\r\n      <g>\r\n       <use style=\"stroke:#000000;stroke-width:0.8;\" x=\"64.350284\" xlink:href=\"#m61861850f4\" y=\"550.8\"/>\r\n      </g>\r\n     </g>\r\n     <g id=\"text_1\">\r\n      <!-- 0.0 -->\r\n      <g transform=\"translate(56.398722 565.398438)scale(0.1 -0.1)\">\r\n       <defs>\r\n        <path d=\"M 31.78125 66.40625 \r\nQ 24.171875 66.40625 20.328125 58.90625 \r\nQ 16.5 51.421875 16.5 36.375 \r\nQ 16.5 21.390625 20.328125 13.890625 \r\nQ 24.171875 6.390625 31.78125 6.390625 \r\nQ 39.453125 6.390625 43.28125 13.890625 \r\nQ 47.125 21.390625 47.125 36.375 \r\nQ 47.125 51.421875 43.28125 58.90625 \r\nQ 39.453125 66.40625 31.78125 66.40625 \r\nz\r\nM 31.78125 74.21875 \r\nQ 44.046875 74.21875 50.515625 64.515625 \r\nQ 56.984375 54.828125 56.984375 36.375 \r\nQ 56.984375 17.96875 50.515625 8.265625 \r\nQ 44.046875 -1.421875 31.78125 -1.421875 \r\nQ 19.53125 -1.421875 13.0625 8.265625 \r\nQ 6.59375 17.96875 6.59375 36.375 \r\nQ 6.59375 54.828125 13.0625 64.515625 \r\nQ 19.53125 74.21875 31.78125 74.21875 \r\nz\r\n\" id=\"DejaVuSans-48\"/>\r\n        <path d=\"M 10.6875 12.40625 \r\nL 21 12.40625 \r\nL 21 0 \r\nL 10.6875 0 \r\nz\r\n\" id=\"DejaVuSans-46\"/>\r\n       </defs>\r\n       <use xlink:href=\"#DejaVuSans-48\"/>\r\n       <use x=\"63.623047\" xlink:href=\"#DejaVuSans-46\"/>\r\n       <use x=\"95.410156\" xlink:href=\"#DejaVuSans-48\"/>\r\n      </g>\r\n     </g>\r\n    </g>\r\n    <g id=\"xtick_2\">\r\n     <g id=\"line2d_3\">\r\n      <path clip-path=\"url(#p6dc7afd866)\" d=\"M 117.747413 550.8 \r\nL 117.747413 7.2 \r\n\" style=\"fill:none;stroke:#b0b0b0;stroke-linecap:square;stroke-width:0.8;\"/>\r\n     </g>\r\n     <g id=\"line2d_4\">\r\n      <g>\r\n       <use style=\"stroke:#000000;stroke-width:0.8;\" x=\"117.747413\" xlink:href=\"#m61861850f4\" y=\"550.8\"/>\r\n      </g>\r\n     </g>\r\n     <g id=\"text_2\">\r\n      <!-- 2.5 -->\r\n      <g transform=\"translate(109.795851 565.398438)scale(0.1 -0.1)\">\r\n       <defs>\r\n        <path d=\"M 19.1875 8.296875 \r\nL 53.609375 8.296875 \r\nL 53.609375 0 \r\nL 7.328125 0 \r\nL 7.328125 8.296875 \r\nQ 12.9375 14.109375 22.625 23.890625 \r\nQ 32.328125 33.6875 34.8125 36.53125 \r\nQ 39.546875 41.84375 41.421875 45.53125 \r\nQ 43.3125 49.21875 43.3125 52.78125 \r\nQ 43.3125 58.59375 39.234375 62.25 \r\nQ 35.15625 65.921875 28.609375 65.921875 \r\nQ 23.96875 65.921875 18.8125 64.3125 \r\nQ 13.671875 62.703125 7.8125 59.421875 \r\nL 7.8125 69.390625 \r\nQ 13.765625 71.78125 18.9375 73 \r\nQ 24.125 74.21875 28.421875 74.21875 \r\nQ 39.75 74.21875 46.484375 68.546875 \r\nQ 53.21875 62.890625 53.21875 53.421875 \r\nQ 53.21875 48.921875 51.53125 44.890625 \r\nQ 49.859375 40.875 45.40625 35.40625 \r\nQ 44.1875 33.984375 37.640625 27.21875 \r\nQ 31.109375 20.453125 19.1875 8.296875 \r\nz\r\n\" id=\"DejaVuSans-50\"/>\r\n        <path d=\"M 10.796875 72.90625 \r\nL 49.515625 72.90625 \r\nL 49.515625 64.59375 \r\nL 19.828125 64.59375 \r\nL 19.828125 46.734375 \r\nQ 21.96875 47.46875 24.109375 47.828125 \r\nQ 26.265625 48.1875 28.421875 48.1875 \r\nQ 40.625 48.1875 47.75 41.5 \r\nQ 54.890625 34.8125 54.890625 23.390625 \r\nQ 54.890625 11.625 47.5625 5.09375 \r\nQ 40.234375 -1.421875 26.90625 -1.421875 \r\nQ 22.3125 -1.421875 17.546875 -0.640625 \r\nQ 12.796875 0.140625 7.71875 1.703125 \r\nL 7.71875 11.625 \r\nQ 12.109375 9.234375 16.796875 8.0625 \r\nQ 21.484375 6.890625 26.703125 6.890625 \r\nQ 35.15625 6.890625 40.078125 11.328125 \r\nQ 45.015625 15.765625 45.015625 23.390625 \r\nQ 45.015625 31 40.078125 35.4375 \r\nQ 35.15625 39.890625 26.703125 39.890625 \r\nQ 22.75 39.890625 18.8125 39.015625 \r\nQ 14.890625 38.140625 10.796875 36.28125 \r\nz\r\n\" id=\"DejaVuSans-53\"/>\r\n       </defs>\r\n       <use xlink:href=\"#DejaVuSans-50\"/>\r\n       <use x=\"63.623047\" xlink:href=\"#DejaVuSans-46\"/>\r\n       <use x=\"95.410156\" xlink:href=\"#DejaVuSans-53\"/>\r\n      </g>\r\n     </g>\r\n    </g>\r\n    <g id=\"xtick_3\">\r\n     <g id=\"line2d_5\">\r\n      <path clip-path=\"url(#p6dc7afd866)\" d=\"M 171.144542 550.8 \r\nL 171.144542 7.2 \r\n\" style=\"fill:none;stroke:#b0b0b0;stroke-linecap:square;stroke-width:0.8;\"/>\r\n     </g>\r\n     <g id=\"line2d_6\">\r\n      <g>\r\n       <use style=\"stroke:#000000;stroke-width:0.8;\" x=\"171.144542\" xlink:href=\"#m61861850f4\" y=\"550.8\"/>\r\n      </g>\r\n     </g>\r\n     <g id=\"text_3\">\r\n      <!-- 5.0 -->\r\n      <g transform=\"translate(163.19298 565.398438)scale(0.1 -0.1)\">\r\n       <use xlink:href=\"#DejaVuSans-53\"/>\r\n       <use x=\"63.623047\" xlink:href=\"#DejaVuSans-46\"/>\r\n       <use x=\"95.410156\" xlink:href=\"#DejaVuSans-48\"/>\r\n      </g>\r\n     </g>\r\n    </g>\r\n    <g id=\"xtick_4\">\r\n     <g id=\"line2d_7\">\r\n      <path clip-path=\"url(#p6dc7afd866)\" d=\"M 224.541672 550.8 \r\nL 224.541672 7.2 \r\n\" style=\"fill:none;stroke:#b0b0b0;stroke-linecap:square;stroke-width:0.8;\"/>\r\n     </g>\r\n     <g id=\"line2d_8\">\r\n      <g>\r\n       <use style=\"stroke:#000000;stroke-width:0.8;\" x=\"224.541672\" xlink:href=\"#m61861850f4\" y=\"550.8\"/>\r\n      </g>\r\n     </g>\r\n     <g id=\"text_4\">\r\n      <!-- 7.5 -->\r\n      <g transform=\"translate(216.590109 565.398438)scale(0.1 -0.1)\">\r\n       <defs>\r\n        <path d=\"M 8.203125 72.90625 \r\nL 55.078125 72.90625 \r\nL 55.078125 68.703125 \r\nL 28.609375 0 \r\nL 18.3125 0 \r\nL 43.21875 64.59375 \r\nL 8.203125 64.59375 \r\nz\r\n\" id=\"DejaVuSans-55\"/>\r\n       </defs>\r\n       <use xlink:href=\"#DejaVuSans-55\"/>\r\n       <use x=\"63.623047\" xlink:href=\"#DejaVuSans-46\"/>\r\n       <use x=\"95.410156\" xlink:href=\"#DejaVuSans-53\"/>\r\n      </g>\r\n     </g>\r\n    </g>\r\n    <g id=\"xtick_5\">\r\n     <g id=\"line2d_9\">\r\n      <path clip-path=\"url(#p6dc7afd866)\" d=\"M 277.938801 550.8 \r\nL 277.938801 7.2 \r\n\" style=\"fill:none;stroke:#b0b0b0;stroke-linecap:square;stroke-width:0.8;\"/>\r\n     </g>\r\n     <g id=\"line2d_10\">\r\n      <g>\r\n       <use style=\"stroke:#000000;stroke-width:0.8;\" x=\"277.938801\" xlink:href=\"#m61861850f4\" y=\"550.8\"/>\r\n      </g>\r\n     </g>\r\n     <g id=\"text_5\">\r\n      <!-- 10.0 -->\r\n      <g transform=\"translate(266.805988 565.398438)scale(0.1 -0.1)\">\r\n       <defs>\r\n        <path d=\"M 12.40625 8.296875 \r\nL 28.515625 8.296875 \r\nL 28.515625 63.921875 \r\nL 10.984375 60.40625 \r\nL 10.984375 69.390625 \r\nL 28.421875 72.90625 \r\nL 38.28125 72.90625 \r\nL 38.28125 8.296875 \r\nL 54.390625 8.296875 \r\nL 54.390625 0 \r\nL 12.40625 0 \r\nz\r\n\" id=\"DejaVuSans-49\"/>\r\n       </defs>\r\n       <use xlink:href=\"#DejaVuSans-49\"/>\r\n       <use x=\"63.623047\" xlink:href=\"#DejaVuSans-48\"/>\r\n       <use x=\"127.246094\" xlink:href=\"#DejaVuSans-46\"/>\r\n       <use x=\"159.033203\" xlink:href=\"#DejaVuSans-48\"/>\r\n      </g>\r\n     </g>\r\n    </g>\r\n    <g id=\"xtick_6\">\r\n     <g id=\"line2d_11\">\r\n      <path clip-path=\"url(#p6dc7afd866)\" d=\"M 331.33593 550.8 \r\nL 331.33593 7.2 \r\n\" style=\"fill:none;stroke:#b0b0b0;stroke-linecap:square;stroke-width:0.8;\"/>\r\n     </g>\r\n     <g id=\"line2d_12\">\r\n      <g>\r\n       <use style=\"stroke:#000000;stroke-width:0.8;\" x=\"331.33593\" xlink:href=\"#m61861850f4\" y=\"550.8\"/>\r\n      </g>\r\n     </g>\r\n     <g id=\"text_6\">\r\n      <!-- 12.5 -->\r\n      <g transform=\"translate(320.203118 565.398438)scale(0.1 -0.1)\">\r\n       <use xlink:href=\"#DejaVuSans-49\"/>\r\n       <use x=\"63.623047\" xlink:href=\"#DejaVuSans-50\"/>\r\n       <use x=\"127.246094\" xlink:href=\"#DejaVuSans-46\"/>\r\n       <use x=\"159.033203\" xlink:href=\"#DejaVuSans-53\"/>\r\n      </g>\r\n     </g>\r\n    </g>\r\n    <g id=\"xtick_7\">\r\n     <g id=\"line2d_13\">\r\n      <path clip-path=\"url(#p6dc7afd866)\" d=\"M 384.733059 550.8 \r\nL 384.733059 7.2 \r\n\" style=\"fill:none;stroke:#b0b0b0;stroke-linecap:square;stroke-width:0.8;\"/>\r\n     </g>\r\n     <g id=\"line2d_14\">\r\n      <g>\r\n       <use style=\"stroke:#000000;stroke-width:0.8;\" x=\"384.733059\" xlink:href=\"#m61861850f4\" y=\"550.8\"/>\r\n      </g>\r\n     </g>\r\n     <g id=\"text_7\">\r\n      <!-- 15.0 -->\r\n      <g transform=\"translate(373.600247 565.398438)scale(0.1 -0.1)\">\r\n       <use xlink:href=\"#DejaVuSans-49\"/>\r\n       <use x=\"63.623047\" xlink:href=\"#DejaVuSans-53\"/>\r\n       <use x=\"127.246094\" xlink:href=\"#DejaVuSans-46\"/>\r\n       <use x=\"159.033203\" xlink:href=\"#DejaVuSans-48\"/>\r\n      </g>\r\n     </g>\r\n    </g>\r\n    <g id=\"xtick_8\">\r\n     <g id=\"line2d_15\">\r\n      <path clip-path=\"url(#p6dc7afd866)\" d=\"M 438.130188 550.8 \r\nL 438.130188 7.2 \r\n\" style=\"fill:none;stroke:#b0b0b0;stroke-linecap:square;stroke-width:0.8;\"/>\r\n     </g>\r\n     <g id=\"line2d_16\">\r\n      <g>\r\n       <use style=\"stroke:#000000;stroke-width:0.8;\" x=\"438.130188\" xlink:href=\"#m61861850f4\" y=\"550.8\"/>\r\n      </g>\r\n     </g>\r\n     <g id=\"text_8\">\r\n      <!-- 17.5 -->\r\n      <g transform=\"translate(426.997376 565.398438)scale(0.1 -0.1)\">\r\n       <use xlink:href=\"#DejaVuSans-49\"/>\r\n       <use x=\"63.623047\" xlink:href=\"#DejaVuSans-55\"/>\r\n       <use x=\"127.246094\" xlink:href=\"#DejaVuSans-46\"/>\r\n       <use x=\"159.033203\" xlink:href=\"#DejaVuSans-53\"/>\r\n      </g>\r\n     </g>\r\n    </g>\r\n   </g>\r\n   <g id=\"matplotlib.axis_2\">\r\n    <g id=\"ytick_1\">\r\n     <g id=\"line2d_17\">\r\n      <path clip-path=\"url(#p6dc7afd866)\" d=\"M 44.059375 453.929058 \r\nL 490.459375 453.929058 \r\n\" style=\"fill:none;stroke:#b0b0b0;stroke-linecap:square;stroke-width:0.8;\"/>\r\n     </g>\r\n     <g id=\"line2d_18\">\r\n      <defs>\r\n       <path d=\"M 0 0 \r\nL -3.5 0 \r\n\" id=\"m37c57869d5\" style=\"stroke:#000000;stroke-width:0.8;\"/>\r\n      </defs>\r\n      <g>\r\n       <use style=\"stroke:#000000;stroke-width:0.8;\" x=\"44.059375\" xlink:href=\"#m37c57869d5\" y=\"453.929058\"/>\r\n      </g>\r\n     </g>\r\n     <g id=\"text_9\">\r\n      <!-- 0.2 -->\r\n      <g transform=\"translate(21.15625 457.728276)scale(0.1 -0.1)\">\r\n       <use xlink:href=\"#DejaVuSans-48\"/>\r\n       <use x=\"63.623047\" xlink:href=\"#DejaVuSans-46\"/>\r\n       <use x=\"95.410156\" xlink:href=\"#DejaVuSans-50\"/>\r\n      </g>\r\n     </g>\r\n    </g>\r\n    <g id=\"ytick_2\">\r\n     <g id=\"line2d_19\">\r\n      <path clip-path=\"url(#p6dc7afd866)\" d=\"M 44.059375 347.015043 \r\nL 490.459375 347.015043 \r\n\" style=\"fill:none;stroke:#b0b0b0;stroke-linecap:square;stroke-width:0.8;\"/>\r\n     </g>\r\n     <g id=\"line2d_20\">\r\n      <g>\r\n       <use style=\"stroke:#000000;stroke-width:0.8;\" x=\"44.059375\" xlink:href=\"#m37c57869d5\" y=\"347.015043\"/>\r\n      </g>\r\n     </g>\r\n     <g id=\"text_10\">\r\n      <!-- 0.4 -->\r\n      <g transform=\"translate(21.15625 350.814261)scale(0.1 -0.1)\">\r\n       <defs>\r\n        <path d=\"M 37.796875 64.3125 \r\nL 12.890625 25.390625 \r\nL 37.796875 25.390625 \r\nz\r\nM 35.203125 72.90625 \r\nL 47.609375 72.90625 \r\nL 47.609375 25.390625 \r\nL 58.015625 25.390625 \r\nL 58.015625 17.1875 \r\nL 47.609375 17.1875 \r\nL 47.609375 0 \r\nL 37.796875 0 \r\nL 37.796875 17.1875 \r\nL 4.890625 17.1875 \r\nL 4.890625 26.703125 \r\nz\r\n\" id=\"DejaVuSans-52\"/>\r\n       </defs>\r\n       <use xlink:href=\"#DejaVuSans-48\"/>\r\n       <use x=\"63.623047\" xlink:href=\"#DejaVuSans-46\"/>\r\n       <use x=\"95.410156\" xlink:href=\"#DejaVuSans-52\"/>\r\n      </g>\r\n     </g>\r\n    </g>\r\n    <g id=\"ytick_3\">\r\n     <g id=\"line2d_21\">\r\n      <path clip-path=\"url(#p6dc7afd866)\" d=\"M 44.059375 240.101027 \r\nL 490.459375 240.101027 \r\n\" style=\"fill:none;stroke:#b0b0b0;stroke-linecap:square;stroke-width:0.8;\"/>\r\n     </g>\r\n     <g id=\"line2d_22\">\r\n      <g>\r\n       <use style=\"stroke:#000000;stroke-width:0.8;\" x=\"44.059375\" xlink:href=\"#m37c57869d5\" y=\"240.101027\"/>\r\n      </g>\r\n     </g>\r\n     <g id=\"text_11\">\r\n      <!-- 0.6 -->\r\n      <g transform=\"translate(21.15625 243.900246)scale(0.1 -0.1)\">\r\n       <defs>\r\n        <path d=\"M 33.015625 40.375 \r\nQ 26.375 40.375 22.484375 35.828125 \r\nQ 18.609375 31.296875 18.609375 23.390625 \r\nQ 18.609375 15.53125 22.484375 10.953125 \r\nQ 26.375 6.390625 33.015625 6.390625 \r\nQ 39.65625 6.390625 43.53125 10.953125 \r\nQ 47.40625 15.53125 47.40625 23.390625 \r\nQ 47.40625 31.296875 43.53125 35.828125 \r\nQ 39.65625 40.375 33.015625 40.375 \r\nz\r\nM 52.59375 71.296875 \r\nL 52.59375 62.3125 \r\nQ 48.875 64.0625 45.09375 64.984375 \r\nQ 41.3125 65.921875 37.59375 65.921875 \r\nQ 27.828125 65.921875 22.671875 59.328125 \r\nQ 17.53125 52.734375 16.796875 39.40625 \r\nQ 19.671875 43.65625 24.015625 45.921875 \r\nQ 28.375 48.1875 33.59375 48.1875 \r\nQ 44.578125 48.1875 50.953125 41.515625 \r\nQ 57.328125 34.859375 57.328125 23.390625 \r\nQ 57.328125 12.15625 50.6875 5.359375 \r\nQ 44.046875 -1.421875 33.015625 -1.421875 \r\nQ 20.359375 -1.421875 13.671875 8.265625 \r\nQ 6.984375 17.96875 6.984375 36.375 \r\nQ 6.984375 53.65625 15.1875 63.9375 \r\nQ 23.390625 74.21875 37.203125 74.21875 \r\nQ 40.921875 74.21875 44.703125 73.484375 \r\nQ 48.484375 72.75 52.59375 71.296875 \r\nz\r\n\" id=\"DejaVuSans-54\"/>\r\n       </defs>\r\n       <use xlink:href=\"#DejaVuSans-48\"/>\r\n       <use x=\"63.623047\" xlink:href=\"#DejaVuSans-46\"/>\r\n       <use x=\"95.410156\" xlink:href=\"#DejaVuSans-54\"/>\r\n      </g>\r\n     </g>\r\n    </g>\r\n    <g id=\"ytick_4\">\r\n     <g id=\"line2d_23\">\r\n      <path clip-path=\"url(#p6dc7afd866)\" d=\"M 44.059375 133.187012 \r\nL 490.459375 133.187012 \r\n\" style=\"fill:none;stroke:#b0b0b0;stroke-linecap:square;stroke-width:0.8;\"/>\r\n     </g>\r\n     <g id=\"line2d_24\">\r\n      <g>\r\n       <use style=\"stroke:#000000;stroke-width:0.8;\" x=\"44.059375\" xlink:href=\"#m37c57869d5\" y=\"133.187012\"/>\r\n      </g>\r\n     </g>\r\n     <g id=\"text_12\">\r\n      <!-- 0.8 -->\r\n      <g transform=\"translate(21.15625 136.986231)scale(0.1 -0.1)\">\r\n       <defs>\r\n        <path d=\"M 31.78125 34.625 \r\nQ 24.75 34.625 20.71875 30.859375 \r\nQ 16.703125 27.09375 16.703125 20.515625 \r\nQ 16.703125 13.921875 20.71875 10.15625 \r\nQ 24.75 6.390625 31.78125 6.390625 \r\nQ 38.8125 6.390625 42.859375 10.171875 \r\nQ 46.921875 13.96875 46.921875 20.515625 \r\nQ 46.921875 27.09375 42.890625 30.859375 \r\nQ 38.875 34.625 31.78125 34.625 \r\nz\r\nM 21.921875 38.8125 \r\nQ 15.578125 40.375 12.03125 44.71875 \r\nQ 8.5 49.078125 8.5 55.328125 \r\nQ 8.5 64.0625 14.71875 69.140625 \r\nQ 20.953125 74.21875 31.78125 74.21875 \r\nQ 42.671875 74.21875 48.875 69.140625 \r\nQ 55.078125 64.0625 55.078125 55.328125 \r\nQ 55.078125 49.078125 51.53125 44.71875 \r\nQ 48 40.375 41.703125 38.8125 \r\nQ 48.828125 37.15625 52.796875 32.3125 \r\nQ 56.78125 27.484375 56.78125 20.515625 \r\nQ 56.78125 9.90625 50.3125 4.234375 \r\nQ 43.84375 -1.421875 31.78125 -1.421875 \r\nQ 19.734375 -1.421875 13.25 4.234375 \r\nQ 6.78125 9.90625 6.78125 20.515625 \r\nQ 6.78125 27.484375 10.78125 32.3125 \r\nQ 14.796875 37.15625 21.921875 38.8125 \r\nz\r\nM 18.3125 54.390625 \r\nQ 18.3125 48.734375 21.84375 45.5625 \r\nQ 25.390625 42.390625 31.78125 42.390625 \r\nQ 38.140625 42.390625 41.71875 45.5625 \r\nQ 45.3125 48.734375 45.3125 54.390625 \r\nQ 45.3125 60.0625 41.71875 63.234375 \r\nQ 38.140625 66.40625 31.78125 66.40625 \r\nQ 25.390625 66.40625 21.84375 63.234375 \r\nQ 18.3125 60.0625 18.3125 54.390625 \r\nz\r\n\" id=\"DejaVuSans-56\"/>\r\n       </defs>\r\n       <use xlink:href=\"#DejaVuSans-48\"/>\r\n       <use x=\"63.623047\" xlink:href=\"#DejaVuSans-46\"/>\r\n       <use x=\"95.410156\" xlink:href=\"#DejaVuSans-56\"/>\r\n      </g>\r\n     </g>\r\n    </g>\r\n    <g id=\"ytick_5\">\r\n     <g id=\"line2d_25\">\r\n      <path clip-path=\"url(#p6dc7afd866)\" d=\"M 44.059375 26.272997 \r\nL 490.459375 26.272997 \r\n\" style=\"fill:none;stroke:#b0b0b0;stroke-linecap:square;stroke-width:0.8;\"/>\r\n     </g>\r\n     <g id=\"line2d_26\">\r\n      <g>\r\n       <use style=\"stroke:#000000;stroke-width:0.8;\" x=\"44.059375\" xlink:href=\"#m37c57869d5\" y=\"26.272997\"/>\r\n      </g>\r\n     </g>\r\n     <g id=\"text_13\">\r\n      <!-- 1.0 -->\r\n      <g transform=\"translate(21.15625 30.072216)scale(0.1 -0.1)\">\r\n       <use xlink:href=\"#DejaVuSans-49\"/>\r\n       <use x=\"63.623047\" xlink:href=\"#DejaVuSans-46\"/>\r\n       <use x=\"95.410156\" xlink:href=\"#DejaVuSans-48\"/>\r\n      </g>\r\n     </g>\r\n    </g>\r\n    <g id=\"text_14\">\r\n     <!-- val_loss -->\r\n     <g transform=\"translate(14.798438 298.570312)rotate(-90)scale(0.1 -0.1)\">\r\n      <defs>\r\n       <path d=\"M 2.984375 54.6875 \r\nL 12.5 54.6875 \r\nL 29.59375 8.796875 \r\nL 46.6875 54.6875 \r\nL 56.203125 54.6875 \r\nL 35.6875 0 \r\nL 23.484375 0 \r\nz\r\n\" id=\"DejaVuSans-118\"/>\r\n       <path d=\"M 34.28125 27.484375 \r\nQ 23.390625 27.484375 19.1875 25 \r\nQ 14.984375 22.515625 14.984375 16.5 \r\nQ 14.984375 11.71875 18.140625 8.90625 \r\nQ 21.296875 6.109375 26.703125 6.109375 \r\nQ 34.1875 6.109375 38.703125 11.40625 \r\nQ 43.21875 16.703125 43.21875 25.484375 \r\nL 43.21875 27.484375 \r\nz\r\nM 52.203125 31.203125 \r\nL 52.203125 0 \r\nL 43.21875 0 \r\nL 43.21875 8.296875 \r\nQ 40.140625 3.328125 35.546875 0.953125 \r\nQ 30.953125 -1.421875 24.3125 -1.421875 \r\nQ 15.921875 -1.421875 10.953125 3.296875 \r\nQ 6 8.015625 6 15.921875 \r\nQ 6 25.140625 12.171875 29.828125 \r\nQ 18.359375 34.515625 30.609375 34.515625 \r\nL 43.21875 34.515625 \r\nL 43.21875 35.40625 \r\nQ 43.21875 41.609375 39.140625 45 \r\nQ 35.0625 48.390625 27.6875 48.390625 \r\nQ 23 48.390625 18.546875 47.265625 \r\nQ 14.109375 46.140625 10.015625 43.890625 \r\nL 10.015625 52.203125 \r\nQ 14.9375 54.109375 19.578125 55.046875 \r\nQ 24.21875 56 28.609375 56 \r\nQ 40.484375 56 46.34375 49.84375 \r\nQ 52.203125 43.703125 52.203125 31.203125 \r\nz\r\n\" id=\"DejaVuSans-97\"/>\r\n       <path d=\"M 9.421875 75.984375 \r\nL 18.40625 75.984375 \r\nL 18.40625 0 \r\nL 9.421875 0 \r\nz\r\n\" id=\"DejaVuSans-108\"/>\r\n       <path d=\"M 50.984375 -16.609375 \r\nL 50.984375 -23.578125 \r\nL -0.984375 -23.578125 \r\nL -0.984375 -16.609375 \r\nz\r\n\" id=\"DejaVuSans-95\"/>\r\n       <path d=\"M 30.609375 48.390625 \r\nQ 23.390625 48.390625 19.1875 42.75 \r\nQ 14.984375 37.109375 14.984375 27.296875 \r\nQ 14.984375 17.484375 19.15625 11.84375 \r\nQ 23.34375 6.203125 30.609375 6.203125 \r\nQ 37.796875 6.203125 41.984375 11.859375 \r\nQ 46.1875 17.53125 46.1875 27.296875 \r\nQ 46.1875 37.015625 41.984375 42.703125 \r\nQ 37.796875 48.390625 30.609375 48.390625 \r\nz\r\nM 30.609375 56 \r\nQ 42.328125 56 49.015625 48.375 \r\nQ 55.71875 40.765625 55.71875 27.296875 \r\nQ 55.71875 13.875 49.015625 6.21875 \r\nQ 42.328125 -1.421875 30.609375 -1.421875 \r\nQ 18.84375 -1.421875 12.171875 6.21875 \r\nQ 5.515625 13.875 5.515625 27.296875 \r\nQ 5.515625 40.765625 12.171875 48.375 \r\nQ 18.84375 56 30.609375 56 \r\nz\r\n\" id=\"DejaVuSans-111\"/>\r\n       <path d=\"M 44.28125 53.078125 \r\nL 44.28125 44.578125 \r\nQ 40.484375 46.53125 36.375 47.5 \r\nQ 32.28125 48.484375 27.875 48.484375 \r\nQ 21.1875 48.484375 17.84375 46.4375 \r\nQ 14.5 44.390625 14.5 40.28125 \r\nQ 14.5 37.15625 16.890625 35.375 \r\nQ 19.28125 33.59375 26.515625 31.984375 \r\nL 29.59375 31.296875 \r\nQ 39.15625 29.25 43.1875 25.515625 \r\nQ 47.21875 21.78125 47.21875 15.09375 \r\nQ 47.21875 7.46875 41.1875 3.015625 \r\nQ 35.15625 -1.421875 24.609375 -1.421875 \r\nQ 20.21875 -1.421875 15.453125 -0.5625 \r\nQ 10.6875 0.296875 5.421875 2 \r\nL 5.421875 11.28125 \r\nQ 10.40625 8.6875 15.234375 7.390625 \r\nQ 20.0625 6.109375 24.8125 6.109375 \r\nQ 31.15625 6.109375 34.5625 8.28125 \r\nQ 37.984375 10.453125 37.984375 14.40625 \r\nQ 37.984375 18.0625 35.515625 20.015625 \r\nQ 33.0625 21.96875 24.703125 23.78125 \r\nL 21.578125 24.515625 \r\nQ 13.234375 26.265625 9.515625 29.90625 \r\nQ 5.8125 33.546875 5.8125 39.890625 \r\nQ 5.8125 47.609375 11.28125 51.796875 \r\nQ 16.75 56 26.8125 56 \r\nQ 31.78125 56 36.171875 55.265625 \r\nQ 40.578125 54.546875 44.28125 53.078125 \r\nz\r\n\" id=\"DejaVuSans-115\"/>\r\n      </defs>\r\n      <use xlink:href=\"#DejaVuSans-118\"/>\r\n      <use x=\"59.179688\" xlink:href=\"#DejaVuSans-97\"/>\r\n      <use x=\"120.458984\" xlink:href=\"#DejaVuSans-108\"/>\r\n      <use x=\"148.242188\" xlink:href=\"#DejaVuSans-95\"/>\r\n      <use x=\"198.242188\" xlink:href=\"#DejaVuSans-108\"/>\r\n      <use x=\"226.025391\" xlink:href=\"#DejaVuSans-111\"/>\r\n      <use x=\"287.207031\" xlink:href=\"#DejaVuSans-115\"/>\r\n      <use x=\"339.306641\" xlink:href=\"#DejaVuSans-115\"/>\r\n     </g>\r\n    </g>\r\n   </g>\r\n   <g id=\"line2d_27\">\r\n    <path clip-path=\"url(#p6dc7afd866)\" d=\"M 64.350284 286.397686 \r\nL 85.709136 425.198435 \r\nL 107.067987 488.826805 \r\nL 128.426839 498.035319 \r\nL 149.785691 479.286109 \r\nL 171.144542 482.525518 \r\nL 192.503394 442.664635 \r\nL 213.862246 472.87797 \r\nL 235.221097 508.133639 \r\nL 256.579949 514.973742 \r\nL 277.938801 422.191282 \r\nL 299.297653 502.468821 \r\nL 320.656504 459.977607 \r\nL 342.015356 400.177025 \r\nL 363.374208 467.990311 \r\nL 384.733059 296.425246 \r\nL 406.091911 430.330331 \r\nL 427.450763 358.757969 \r\nL 448.809614 450.579537 \r\nL 470.168466 455.566958 \r\n\" style=\"fill:none;stroke:#1f77b4;stroke-linecap:square;stroke-width:1.5;\"/>\r\n   </g>\r\n   <g id=\"line2d_28\">\r\n    <path clip-path=\"url(#p6dc7afd866)\" d=\"M 64.350284 59.325393 \r\nL 85.709136 44.996314 \r\nL 107.067987 36.972036 \r\nL 128.426839 35.92123 \r\nL 149.785691 35.92123 \r\nL 171.144542 34.583851 \r\nL 192.503394 36.398886 \r\nL 213.862246 35.92123 \r\nL 235.221097 34.297276 \r\nL 256.579949 33.533077 \r\nL 277.938801 36.398886 \r\nL 299.297653 33.533077 \r\nL 320.656504 32.386747 \r\nL 342.015356 36.398886 \r\nL 363.374208 33.341996 \r\nL 384.733059 33.341996 \r\nL 406.091911 36.685461 \r\nL 427.450763 32.959896 \r\nL 448.809614 33.628602 \r\nL 470.168466 32.577797 \r\n\" style=\"fill:none;stroke:#ff7f0e;stroke-linecap:square;stroke-width:1.5;\"/>\r\n   </g>\r\n   <g id=\"line2d_29\">\r\n    <path clip-path=\"url(#p6dc7afd866)\" d=\"M 64.350284 512.656623 \r\nL 85.709136 526.090909 \r\nL 107.067987 509.023106 \r\nL 128.426839 503.802942 \r\nL 149.785691 522.780442 \r\nL 171.144542 496.612144 \r\nL 192.503394 469.321318 \r\nL 213.862246 473.95472 \r\nL 235.221097 457.25612 \r\nL 256.579949 495.95884 \r\nL 277.938801 474.25032 \r\nL 299.297653 473.320952 \r\n\" style=\"fill:none;stroke:#2ca02c;stroke-linecap:square;stroke-width:1.5;\"/>\r\n   </g>\r\n   <g id=\"line2d_30\">\r\n    <path clip-path=\"url(#p6dc7afd866)\" d=\"M 64.350284 36.398886 \r\nL 85.709136 32.768846 \r\nL 107.067987 34.297276 \r\nL 128.426839 33.341996 \r\nL 149.785691 32.291222 \r\nL 171.144542 32.673322 \r\nL 192.503394 32.577797 \r\nL 213.862246 34.106226 \r\nL 235.221097 32.673322 \r\nL 256.579949 34.297276 \r\nL 277.938801 31.909091 \r\nL 299.297653 32.291222 \r\n\" style=\"fill:none;stroke:#d62728;stroke-linecap:square;stroke-width:1.5;\"/>\r\n   </g>\r\n   <g id=\"patch_3\">\r\n    <path d=\"M 44.059375 550.8 \r\nL 44.059375 7.2 \r\n\" style=\"fill:none;stroke:#000000;stroke-linecap:square;stroke-linejoin:miter;stroke-width:0.8;\"/>\r\n   </g>\r\n   <g id=\"patch_4\">\r\n    <path d=\"M 490.459375 550.8 \r\nL 490.459375 7.2 \r\n\" style=\"fill:none;stroke:#000000;stroke-linecap:square;stroke-linejoin:miter;stroke-width:0.8;\"/>\r\n   </g>\r\n   <g id=\"patch_5\">\r\n    <path d=\"M 44.059375 550.8 \r\nL 490.459375 550.8 \r\n\" style=\"fill:none;stroke:#000000;stroke-linecap:square;stroke-linejoin:miter;stroke-width:0.8;\"/>\r\n   </g>\r\n   <g id=\"patch_6\">\r\n    <path d=\"M 44.059375 7.2 \r\nL 490.459375 7.2 \r\n\" style=\"fill:none;stroke:#000000;stroke-linecap:square;stroke-linejoin:miter;stroke-width:0.8;\"/>\r\n   </g>\r\n   <g id=\"legend_1\">\r\n    <g id=\"patch_7\">\r\n     <path d=\"M 359.445312 545.8 \r\nL 483.459375 545.8 \r\nQ 485.459375 545.8 485.459375 543.8 \r\nL 485.459375 486.0875 \r\nQ 485.459375 484.0875 483.459375 484.0875 \r\nL 359.445312 484.0875 \r\nQ 357.445312 484.0875 357.445312 486.0875 \r\nL 357.445312 543.8 \r\nQ 357.445312 545.8 359.445312 545.8 \r\nz\r\n\" style=\"fill:#ffffff;opacity:0.8;stroke:#cccccc;stroke-linejoin:miter;\"/>\r\n    </g>\r\n    <g id=\"line2d_31\">\r\n     <path d=\"M 361.445312 492.185938 \r\nL 381.445312 492.185938 \r\n\" style=\"fill:none;stroke:#1f77b4;stroke-linecap:square;stroke-width:1.5;\"/>\r\n    </g>\r\n    <g id=\"line2d_32\"/>\r\n    <g id=\"text_15\">\r\n     <!-- Validation Loss -->\r\n     <g transform=\"translate(389.445312 495.685938)scale(0.1 -0.1)\">\r\n      <defs>\r\n       <path d=\"M 28.609375 0 \r\nL 0.78125 72.90625 \r\nL 11.078125 72.90625 \r\nL 34.1875 11.53125 \r\nL 57.328125 72.90625 \r\nL 67.578125 72.90625 \r\nL 39.796875 0 \r\nz\r\n\" id=\"DejaVuSans-86\"/>\r\n       <path d=\"M 9.421875 54.6875 \r\nL 18.40625 54.6875 \r\nL 18.40625 0 \r\nL 9.421875 0 \r\nz\r\nM 9.421875 75.984375 \r\nL 18.40625 75.984375 \r\nL 18.40625 64.59375 \r\nL 9.421875 64.59375 \r\nz\r\n\" id=\"DejaVuSans-105\"/>\r\n       <path d=\"M 45.40625 46.390625 \r\nL 45.40625 75.984375 \r\nL 54.390625 75.984375 \r\nL 54.390625 0 \r\nL 45.40625 0 \r\nL 45.40625 8.203125 \r\nQ 42.578125 3.328125 38.25 0.953125 \r\nQ 33.9375 -1.421875 27.875 -1.421875 \r\nQ 17.96875 -1.421875 11.734375 6.484375 \r\nQ 5.515625 14.40625 5.515625 27.296875 \r\nQ 5.515625 40.1875 11.734375 48.09375 \r\nQ 17.96875 56 27.875 56 \r\nQ 33.9375 56 38.25 53.625 \r\nQ 42.578125 51.265625 45.40625 46.390625 \r\nz\r\nM 14.796875 27.296875 \r\nQ 14.796875 17.390625 18.875 11.75 \r\nQ 22.953125 6.109375 30.078125 6.109375 \r\nQ 37.203125 6.109375 41.296875 11.75 \r\nQ 45.40625 17.390625 45.40625 27.296875 \r\nQ 45.40625 37.203125 41.296875 42.84375 \r\nQ 37.203125 48.484375 30.078125 48.484375 \r\nQ 22.953125 48.484375 18.875 42.84375 \r\nQ 14.796875 37.203125 14.796875 27.296875 \r\nz\r\n\" id=\"DejaVuSans-100\"/>\r\n       <path d=\"M 18.3125 70.21875 \r\nL 18.3125 54.6875 \r\nL 36.8125 54.6875 \r\nL 36.8125 47.703125 \r\nL 18.3125 47.703125 \r\nL 18.3125 18.015625 \r\nQ 18.3125 11.328125 20.140625 9.421875 \r\nQ 21.96875 7.515625 27.59375 7.515625 \r\nL 36.8125 7.515625 \r\nL 36.8125 0 \r\nL 27.59375 0 \r\nQ 17.1875 0 13.234375 3.875 \r\nQ 9.28125 7.765625 9.28125 18.015625 \r\nL 9.28125 47.703125 \r\nL 2.6875 47.703125 \r\nL 2.6875 54.6875 \r\nL 9.28125 54.6875 \r\nL 9.28125 70.21875 \r\nz\r\n\" id=\"DejaVuSans-116\"/>\r\n       <path d=\"M 54.890625 33.015625 \r\nL 54.890625 0 \r\nL 45.90625 0 \r\nL 45.90625 32.71875 \r\nQ 45.90625 40.484375 42.875 44.328125 \r\nQ 39.84375 48.1875 33.796875 48.1875 \r\nQ 26.515625 48.1875 22.3125 43.546875 \r\nQ 18.109375 38.921875 18.109375 30.90625 \r\nL 18.109375 0 \r\nL 9.078125 0 \r\nL 9.078125 54.6875 \r\nL 18.109375 54.6875 \r\nL 18.109375 46.1875 \r\nQ 21.34375 51.125 25.703125 53.5625 \r\nQ 30.078125 56 35.796875 56 \r\nQ 45.21875 56 50.046875 50.171875 \r\nQ 54.890625 44.34375 54.890625 33.015625 \r\nz\r\n\" id=\"DejaVuSans-110\"/>\r\n       <path id=\"DejaVuSans-32\"/>\r\n       <path d=\"M 9.8125 72.90625 \r\nL 19.671875 72.90625 \r\nL 19.671875 8.296875 \r\nL 55.171875 8.296875 \r\nL 55.171875 0 \r\nL 9.8125 0 \r\nz\r\n\" id=\"DejaVuSans-76\"/>\r\n      </defs>\r\n      <use xlink:href=\"#DejaVuSans-86\"/>\r\n      <use x=\"60.658203\" xlink:href=\"#DejaVuSans-97\"/>\r\n      <use x=\"121.9375\" xlink:href=\"#DejaVuSans-108\"/>\r\n      <use x=\"149.720703\" xlink:href=\"#DejaVuSans-105\"/>\r\n      <use x=\"177.503906\" xlink:href=\"#DejaVuSans-100\"/>\r\n      <use x=\"240.980469\" xlink:href=\"#DejaVuSans-97\"/>\r\n      <use x=\"302.259766\" xlink:href=\"#DejaVuSans-116\"/>\r\n      <use x=\"341.46875\" xlink:href=\"#DejaVuSans-105\"/>\r\n      <use x=\"369.251953\" xlink:href=\"#DejaVuSans-111\"/>\r\n      <use x=\"430.433594\" xlink:href=\"#DejaVuSans-110\"/>\r\n      <use x=\"493.8125\" xlink:href=\"#DejaVuSans-32\"/>\r\n      <use x=\"525.599609\" xlink:href=\"#DejaVuSans-76\"/>\r\n      <use x=\"579.5625\" xlink:href=\"#DejaVuSans-111\"/>\r\n      <use x=\"640.744141\" xlink:href=\"#DejaVuSans-115\"/>\r\n      <use x=\"692.84375\" xlink:href=\"#DejaVuSans-115\"/>\r\n     </g>\r\n    </g>\r\n    <g id=\"line2d_33\">\r\n     <path d=\"M 361.445312 506.864063 \r\nL 381.445312 506.864063 \r\n\" style=\"fill:none;stroke:#ff7f0e;stroke-linecap:square;stroke-width:1.5;\"/>\r\n    </g>\r\n    <g id=\"line2d_34\"/>\r\n    <g id=\"text_16\">\r\n     <!-- Cat. Accuracy -->\r\n     <g transform=\"translate(389.445312 510.364063)scale(0.1 -0.1)\">\r\n      <defs>\r\n       <path d=\"M 64.40625 67.28125 \r\nL 64.40625 56.890625 \r\nQ 59.421875 61.53125 53.78125 63.8125 \r\nQ 48.140625 66.109375 41.796875 66.109375 \r\nQ 29.296875 66.109375 22.65625 58.46875 \r\nQ 16.015625 50.828125 16.015625 36.375 \r\nQ 16.015625 21.96875 22.65625 14.328125 \r\nQ 29.296875 6.6875 41.796875 6.6875 \r\nQ 48.140625 6.6875 53.78125 8.984375 \r\nQ 59.421875 11.28125 64.40625 15.921875 \r\nL 64.40625 5.609375 \r\nQ 59.234375 2.09375 53.4375 0.328125 \r\nQ 47.65625 -1.421875 41.21875 -1.421875 \r\nQ 24.65625 -1.421875 15.125 8.703125 \r\nQ 5.609375 18.84375 5.609375 36.375 \r\nQ 5.609375 53.953125 15.125 64.078125 \r\nQ 24.65625 74.21875 41.21875 74.21875 \r\nQ 47.75 74.21875 53.53125 72.484375 \r\nQ 59.328125 70.75 64.40625 67.28125 \r\nz\r\n\" id=\"DejaVuSans-67\"/>\r\n       <path d=\"M 34.1875 63.1875 \r\nL 20.796875 26.90625 \r\nL 47.609375 26.90625 \r\nz\r\nM 28.609375 72.90625 \r\nL 39.796875 72.90625 \r\nL 67.578125 0 \r\nL 57.328125 0 \r\nL 50.6875 18.703125 \r\nL 17.828125 18.703125 \r\nL 11.1875 0 \r\nL 0.78125 0 \r\nz\r\n\" id=\"DejaVuSans-65\"/>\r\n       <path d=\"M 48.78125 52.59375 \r\nL 48.78125 44.1875 \r\nQ 44.96875 46.296875 41.140625 47.34375 \r\nQ 37.3125 48.390625 33.40625 48.390625 \r\nQ 24.65625 48.390625 19.8125 42.84375 \r\nQ 14.984375 37.3125 14.984375 27.296875 \r\nQ 14.984375 17.28125 19.8125 11.734375 \r\nQ 24.65625 6.203125 33.40625 6.203125 \r\nQ 37.3125 6.203125 41.140625 7.25 \r\nQ 44.96875 8.296875 48.78125 10.40625 \r\nL 48.78125 2.09375 \r\nQ 45.015625 0.34375 40.984375 -0.53125 \r\nQ 36.96875 -1.421875 32.421875 -1.421875 \r\nQ 20.0625 -1.421875 12.78125 6.34375 \r\nQ 5.515625 14.109375 5.515625 27.296875 \r\nQ 5.515625 40.671875 12.859375 48.328125 \r\nQ 20.21875 56 33.015625 56 \r\nQ 37.15625 56 41.109375 55.140625 \r\nQ 45.0625 54.296875 48.78125 52.59375 \r\nz\r\n\" id=\"DejaVuSans-99\"/>\r\n       <path d=\"M 8.5 21.578125 \r\nL 8.5 54.6875 \r\nL 17.484375 54.6875 \r\nL 17.484375 21.921875 \r\nQ 17.484375 14.15625 20.5 10.265625 \r\nQ 23.53125 6.390625 29.59375 6.390625 \r\nQ 36.859375 6.390625 41.078125 11.03125 \r\nQ 45.3125 15.671875 45.3125 23.6875 \r\nL 45.3125 54.6875 \r\nL 54.296875 54.6875 \r\nL 54.296875 0 \r\nL 45.3125 0 \r\nL 45.3125 8.40625 \r\nQ 42.046875 3.421875 37.71875 1 \r\nQ 33.40625 -1.421875 27.6875 -1.421875 \r\nQ 18.265625 -1.421875 13.375 4.4375 \r\nQ 8.5 10.296875 8.5 21.578125 \r\nz\r\nM 31.109375 56 \r\nz\r\n\" id=\"DejaVuSans-117\"/>\r\n       <path d=\"M 41.109375 46.296875 \r\nQ 39.59375 47.171875 37.8125 47.578125 \r\nQ 36.03125 48 33.890625 48 \r\nQ 26.265625 48 22.1875 43.046875 \r\nQ 18.109375 38.09375 18.109375 28.8125 \r\nL 18.109375 0 \r\nL 9.078125 0 \r\nL 9.078125 54.6875 \r\nL 18.109375 54.6875 \r\nL 18.109375 46.1875 \r\nQ 20.953125 51.171875 25.484375 53.578125 \r\nQ 30.03125 56 36.53125 56 \r\nQ 37.453125 56 38.578125 55.875 \r\nQ 39.703125 55.765625 41.0625 55.515625 \r\nz\r\n\" id=\"DejaVuSans-114\"/>\r\n       <path d=\"M 32.171875 -5.078125 \r\nQ 28.375 -14.84375 24.75 -17.8125 \r\nQ 21.140625 -20.796875 15.09375 -20.796875 \r\nL 7.90625 -20.796875 \r\nL 7.90625 -13.28125 \r\nL 13.1875 -13.28125 \r\nQ 16.890625 -13.28125 18.9375 -11.515625 \r\nQ 21 -9.765625 23.484375 -3.21875 \r\nL 25.09375 0.875 \r\nL 2.984375 54.6875 \r\nL 12.5 54.6875 \r\nL 29.59375 11.921875 \r\nL 46.6875 54.6875 \r\nL 56.203125 54.6875 \r\nz\r\n\" id=\"DejaVuSans-121\"/>\r\n      </defs>\r\n      <use xlink:href=\"#DejaVuSans-67\"/>\r\n      <use x=\"69.824219\" xlink:href=\"#DejaVuSans-97\"/>\r\n      <use x=\"131.103516\" xlink:href=\"#DejaVuSans-116\"/>\r\n      <use x=\"170.3125\" xlink:href=\"#DejaVuSans-46\"/>\r\n      <use x=\"202.099609\" xlink:href=\"#DejaVuSans-32\"/>\r\n      <use x=\"233.886719\" xlink:href=\"#DejaVuSans-65\"/>\r\n      <use x=\"300.544922\" xlink:href=\"#DejaVuSans-99\"/>\r\n      <use x=\"355.525391\" xlink:href=\"#DejaVuSans-99\"/>\r\n      <use x=\"410.505859\" xlink:href=\"#DejaVuSans-117\"/>\r\n      <use x=\"473.884766\" xlink:href=\"#DejaVuSans-114\"/>\r\n      <use x=\"514.998047\" xlink:href=\"#DejaVuSans-97\"/>\r\n      <use x=\"576.277344\" xlink:href=\"#DejaVuSans-99\"/>\r\n      <use x=\"631.257812\" xlink:href=\"#DejaVuSans-121\"/>\r\n     </g>\r\n    </g>\r\n    <g id=\"line2d_35\">\r\n     <path d=\"M 361.445312 521.542188 \r\nL 381.445312 521.542188 \r\n\" style=\"fill:none;stroke:#2ca02c;stroke-linecap:square;stroke-width:1.5;\"/>\r\n    </g>\r\n    <g id=\"line2d_36\"/>\r\n    <g id=\"text_17\">\r\n     <!-- Validation Loss BN -->\r\n     <g transform=\"translate(389.445312 525.042188)scale(0.1 -0.1)\">\r\n      <defs>\r\n       <path d=\"M 19.671875 34.8125 \r\nL 19.671875 8.109375 \r\nL 35.5 8.109375 \r\nQ 43.453125 8.109375 47.28125 11.40625 \r\nQ 51.125 14.703125 51.125 21.484375 \r\nQ 51.125 28.328125 47.28125 31.5625 \r\nQ 43.453125 34.8125 35.5 34.8125 \r\nz\r\nM 19.671875 64.796875 \r\nL 19.671875 42.828125 \r\nL 34.28125 42.828125 \r\nQ 41.5 42.828125 45.03125 45.53125 \r\nQ 48.578125 48.25 48.578125 53.8125 \r\nQ 48.578125 59.328125 45.03125 62.0625 \r\nQ 41.5 64.796875 34.28125 64.796875 \r\nz\r\nM 9.8125 72.90625 \r\nL 35.015625 72.90625 \r\nQ 46.296875 72.90625 52.390625 68.21875 \r\nQ 58.5 63.53125 58.5 54.890625 \r\nQ 58.5 48.1875 55.375 44.234375 \r\nQ 52.25 40.28125 46.1875 39.3125 \r\nQ 53.46875 37.75 57.5 32.78125 \r\nQ 61.53125 27.828125 61.53125 20.40625 \r\nQ 61.53125 10.640625 54.890625 5.3125 \r\nQ 48.25 0 35.984375 0 \r\nL 9.8125 0 \r\nz\r\n\" id=\"DejaVuSans-66\"/>\r\n       <path d=\"M 9.8125 72.90625 \r\nL 23.09375 72.90625 \r\nL 55.421875 11.921875 \r\nL 55.421875 72.90625 \r\nL 64.984375 72.90625 \r\nL 64.984375 0 \r\nL 51.703125 0 \r\nL 19.390625 60.984375 \r\nL 19.390625 0 \r\nL 9.8125 0 \r\nz\r\n\" id=\"DejaVuSans-78\"/>\r\n      </defs>\r\n      <use xlink:href=\"#DejaVuSans-86\"/>\r\n      <use x=\"60.658203\" xlink:href=\"#DejaVuSans-97\"/>\r\n      <use x=\"121.9375\" xlink:href=\"#DejaVuSans-108\"/>\r\n      <use x=\"149.720703\" xlink:href=\"#DejaVuSans-105\"/>\r\n      <use x=\"177.503906\" xlink:href=\"#DejaVuSans-100\"/>\r\n      <use x=\"240.980469\" xlink:href=\"#DejaVuSans-97\"/>\r\n      <use x=\"302.259766\" xlink:href=\"#DejaVuSans-116\"/>\r\n      <use x=\"341.46875\" xlink:href=\"#DejaVuSans-105\"/>\r\n      <use x=\"369.251953\" xlink:href=\"#DejaVuSans-111\"/>\r\n      <use x=\"430.433594\" xlink:href=\"#DejaVuSans-110\"/>\r\n      <use x=\"493.8125\" xlink:href=\"#DejaVuSans-32\"/>\r\n      <use x=\"525.599609\" xlink:href=\"#DejaVuSans-76\"/>\r\n      <use x=\"579.5625\" xlink:href=\"#DejaVuSans-111\"/>\r\n      <use x=\"640.744141\" xlink:href=\"#DejaVuSans-115\"/>\r\n      <use x=\"692.84375\" xlink:href=\"#DejaVuSans-115\"/>\r\n      <use x=\"744.943359\" xlink:href=\"#DejaVuSans-32\"/>\r\n      <use x=\"776.730469\" xlink:href=\"#DejaVuSans-66\"/>\r\n      <use x=\"845.333984\" xlink:href=\"#DejaVuSans-78\"/>\r\n     </g>\r\n    </g>\r\n    <g id=\"line2d_37\">\r\n     <path d=\"M 361.445312 536.220312 \r\nL 381.445312 536.220312 \r\n\" style=\"fill:none;stroke:#d62728;stroke-linecap:square;stroke-width:1.5;\"/>\r\n    </g>\r\n    <g id=\"line2d_38\"/>\r\n    <g id=\"text_18\">\r\n     <!-- Cat. Accuracy BN -->\r\n     <g transform=\"translate(389.445312 539.720312)scale(0.1 -0.1)\">\r\n      <use xlink:href=\"#DejaVuSans-67\"/>\r\n      <use x=\"69.824219\" xlink:href=\"#DejaVuSans-97\"/>\r\n      <use x=\"131.103516\" xlink:href=\"#DejaVuSans-116\"/>\r\n      <use x=\"170.3125\" xlink:href=\"#DejaVuSans-46\"/>\r\n      <use x=\"202.099609\" xlink:href=\"#DejaVuSans-32\"/>\r\n      <use x=\"233.886719\" xlink:href=\"#DejaVuSans-65\"/>\r\n      <use x=\"300.544922\" xlink:href=\"#DejaVuSans-99\"/>\r\n      <use x=\"355.525391\" xlink:href=\"#DejaVuSans-99\"/>\r\n      <use x=\"410.505859\" xlink:href=\"#DejaVuSans-117\"/>\r\n      <use x=\"473.884766\" xlink:href=\"#DejaVuSans-114\"/>\r\n      <use x=\"514.998047\" xlink:href=\"#DejaVuSans-97\"/>\r\n      <use x=\"576.277344\" xlink:href=\"#DejaVuSans-99\"/>\r\n      <use x=\"631.257812\" xlink:href=\"#DejaVuSans-121\"/>\r\n      <use x=\"690.4375\" xlink:href=\"#DejaVuSans-32\"/>\r\n      <use x=\"722.224609\" xlink:href=\"#DejaVuSans-66\"/>\r\n      <use x=\"790.828125\" xlink:href=\"#DejaVuSans-78\"/>\r\n     </g>\r\n    </g>\r\n   </g>\r\n  </g>\r\n </g>\r\n <defs>\r\n  <clipPath id=\"p6dc7afd866\">\r\n   <rect height=\"543.6\" width=\"446.4\" x=\"44.059375\" y=\"7.2\"/>\r\n  </clipPath>\r\n </defs>\r\n</svg>\r\n",
      "image/png": "[encoded data removed]"
     },
     "metadata": {
      "needs_background": "light"
     }
    }
   ],
   "source": [
    "fig,ax_tuned = plt.subplots(1,1,figsize = (8,10))\n",
    "sns.lineplot(x = history_tuned.index.values.tolist(), y = history_tuned[\"val_loss\"], label = \"Validation Loss\", ax = ax_tuned)\n",
    "sns.lineplot(x = history_tuned.index.values.tolist(), y = history_tuned[\"val_categorical_accuracy\"], label = \"Cat. Accuracy\", ax = ax_tuned)\n",
    "\n",
    "sns.lineplot(x = history_tuned_bn.index.values.tolist(), y = history_tuned_bn[\"val_loss\"], label = \"Validation Loss BN\", ax = ax_tuned)\n",
    "sns.lineplot(x = history_tuned_bn.index.values.tolist(), y = history_tuned_bn[\"val_categorical_accuracy\"], label = \"Cat. Accuracy BN\", ax = ax_tuned)\n",
    "\n",
    "ax_tuned.legend()\n",
    "ax_tuned.grid()"
   ]
  },
  {
   "source": [
    "Batch Normalization makes it much faster to train your model. Using just one epoch, we have achieved the a higher accuracy that without BN"
   ],
   "cell_type": "markdown",
   "metadata": {}
  },
  {
   "cell_type": "code",
   "execution_count": 55,
   "metadata": {},
   "outputs": [
    {
     "output_type": "execute_result",
     "data": {
      "text/plain": [
       "0.9889326914966761"
      ]
     },
     "metadata": {},
     "execution_count": 55
    }
   ],
   "source": [
    "y_pred_tuned_bn_final_test = np.argmax(model_tuned_bn.predict(X_data_test0to4),axis = 1)\n",
    "\n",
    "precision_score(np.argmax(y_data_test0to4,axis = 1),y_pred_tuned_bn_final_test, average='weighted')"
   ]
  },
  {
   "source": [
    "BN also gives better Precision "
   ],
   "cell_type": "markdown",
   "metadata": {}
  },
  {
   "cell_type": "code",
   "execution_count": 56,
   "metadata": {},
   "outputs": [
    {
     "output_type": "execute_result",
     "data": {
      "text/plain": [
       "array([[ 975,    1,    0,    2,    2],\n",
       "       [   0, 1133,    2,    0,    0],\n",
       "       [   6,    5, 1011,    8,    2],\n",
       "       [   0,    2,    5, 1003,    0],\n",
       "       [   2,    3,   11,    6,  960]], dtype=int64)"
      ]
     },
     "metadata": {},
     "execution_count": 56
    }
   ],
   "source": [
    "confusion_matrix(np.argmax(y_data_test0to4,axis = 1),y_pred_tuned_bn_final_test)"
   ]
  },
  {
   "cell_type": "code",
   "execution_count": null,
   "metadata": {},
   "outputs": [],
   "source": []
  }
 ]
}