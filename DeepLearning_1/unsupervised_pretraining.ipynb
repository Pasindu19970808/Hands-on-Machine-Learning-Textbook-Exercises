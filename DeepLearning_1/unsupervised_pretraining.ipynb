{
 "metadata": {
  "language_info": {
   "codemirror_mode": {
    "name": "ipython",
    "version": 3
   },
   "file_extension": ".py",
   "mimetype": "text/x-python",
   "name": "python",
   "nbconvert_exporter": "python",
   "pygments_lexer": "ipython3",
   "version": 3
  },
  "orig_nbformat": 2
 },
 "nbformat": 4,
 "nbformat_minor": 2,
 "cells": [
  {
   "source": [
    "<h2> Unsupervised Pretraining </h2> \n",
    "\n",
    "When we do not have much labeled data, but we cannot find a model trained on a similar task. \n",
    "\n",
    "If the data you have is unlabelled, you may still be able to perform unsupervised pretraining on it. \n",
    "\n",
    "If you can gather plenty of unlabeled training data, you can try to train the layers one by one starting with the lowest layer and going up. \n",
    "\n",
    "<h4> Boltzmaan Machine </h4> \n",
    "\n",
    "Instead of using a deterministic step function to decide which value to output, these neurons output 1 with some probability, and 0 otherwise.\n",
    "\n",
    "If we keep a Boltzmaan machine running long enough, the probbility of observing a perticular outcome will only be a function of the connection weights and bias terms, not of the original configuration.\n",
    "\n",
    "Training a Boltzmann machine means finding the parameters which make the network approximate the training sets probability distribution.\n",
    "\n",
    "The point where your model no longer depends on its intital state, it has reached thermal equilibrium where there is no thermal gradient to cause any change. This is a generative model.\n",
    "\n",
    "<h4> Restricted Boltzmaan Machines </h4> \n",
    "\n",
    "RBMs are shallow neural networks with only 2 layers and is an unsupervised training method used to find patterns in data by reconstructing the input. It is called restricted because neurons in the same layer are not connected. \n",
    "\n",
    "RBMs can be used for both:\n",
    "- reconstruction of input\n",
    "- classify instances lacking classification by using the concept that similar neurons will fire in similar inputs. "
   ],
   "cell_type": "markdown",
   "metadata": {}
  }
 ]
}