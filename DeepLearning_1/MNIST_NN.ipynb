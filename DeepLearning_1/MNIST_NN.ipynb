{
 "metadata": {
  "language_info": {
   "codemirror_mode": {
    "name": "ipython",
    "version": 3
   },
   "file_extension": ".py",
   "mimetype": "text/x-python",
   "name": "python",
   "nbconvert_exporter": "python",
   "pygments_lexer": "ipython3",
   "version": "3.8.8-final"
  },
  "orig_nbformat": 2,
  "kernelspec": {
   "name": "python388jvsc74a57bd0965ba1120b0c101b3f715b6e258a73742ec1cf86f2c8b04492724c87d9f112c3",
   "display_name": "Python 3.8.8 64-bit"
  },
  "metadata": {
   "interpreter": {
    "hash": "965ba1120b0c101b3f715b6e258a73742ec1cf86f2c8b04492724c87d9f112c3"
   }
  }
 },
 "nbformat": 4,
 "nbformat_minor": 2,
 "cells": [
  {
   "cell_type": "code",
   "execution_count": 1,
   "metadata": {},
   "outputs": [
    {
     "output_type": "execute_result",
     "data": {
      "text/plain": [
       "dict_keys(['data', 'target', 'frame', 'categories', 'feature_names', 'target_names', 'DESCR', 'details', 'url'])"
      ]
     },
     "metadata": {},
     "execution_count": 1
    }
   ],
   "source": [
    "from sklearn.datasets import fetch_openml\n",
    "mnist = fetch_openml('mnist_784',version = 1)\n",
    "mnist.keys()"
   ]
  },
  {
   "cell_type": "code",
   "execution_count": 2,
   "metadata": {},
   "outputs": [],
   "source": [
    "import matplotlib.pyplot as plt\n",
    "import matplotlib as mpl\n",
    "import seaborn as sns\n",
    "import numpy as np"
   ]
  },
  {
   "cell_type": "code",
   "execution_count": 3,
   "metadata": {},
   "outputs": [],
   "source": [
    "X_data = mnist['data']\n",
    "y_data = mnist['target']\n",
    "y_data = y_data.astype(np.uint8)"
   ]
  },
  {
   "cell_type": "code",
   "execution_count": 4,
   "metadata": {},
   "outputs": [
    {
     "output_type": "execute_result",
     "data": {
      "text/plain": [
       "<matplotlib.image.AxesImage at 0x23b8073eca0>"
      ]
     },
     "metadata": {},
     "execution_count": 4
    },
    {
     "output_type": "display_data",
     "data": {
      "text/plain": "<Figure size 432x288 with 1 Axes>",
      "image/svg+xml": "<?xml version=\"1.0\" encoding=\"utf-8\" standalone=\"no\"?>\r\n<!DOCTYPE svg PUBLIC \"-//W3C//DTD SVG 1.1//EN\"\r\n  \"http://www.w3.org/Graphics/SVG/1.1/DTD/svg11.dtd\">\r\n<!-- Created with matplotlib (https://matplotlib.org/) -->\r\n<svg height=\"248.518125pt\" version=\"1.1\" viewBox=\"0 0 251.565 248.518125\" width=\"251.565pt\" xmlns=\"http://www.w3.org/2000/svg\" xmlns:xlink=\"http://www.w3.org/1999/xlink\">\r\n <metadata>\r\n  <rdf:RDF xmlns:cc=\"http://creativecommons.org/ns#\" xmlns:dc=\"http://purl.org/dc/elements/1.1/\" xmlns:rdf=\"http://www.w3.org/1999/02/22-rdf-syntax-ns#\">\r\n   <cc:Work>\r\n    <dc:type rdf:resource=\"http://purl.org/dc/dcmitype/StillImage\"/>\r\n    <dc:date>2021-04-13T11:33:56.626585</dc:date>\r\n    <dc:format>image/svg+xml</dc:format>\r\n    <dc:creator>\r\n     <cc:Agent>\r\n      <dc:title>Matplotlib v3.3.4, https://matplotlib.org/</dc:title>\r\n     </cc:Agent>\r\n    </dc:creator>\r\n   </cc:Work>\r\n  </rdf:RDF>\r\n </metadata>\r\n <defs>\r\n  <style type=\"text/css\">*{stroke-linecap:butt;stroke-linejoin:round;}</style>\r\n </defs>\r\n <g id=\"figure_1\">\r\n  <g id=\"patch_1\">\r\n   <path d=\"M 0 248.518125 \r\nL 251.565 248.518125 \r\nL 251.565 0 \r\nL 0 0 \r\nz\r\n\" style=\"fill:none;\"/>\r\n  </g>\r\n  <g id=\"axes_1\">\r\n   <g id=\"patch_2\">\r\n    <path d=\"M 26.925 224.64 \r\nL 244.365 224.64 \r\nL 244.365 7.2 \r\nL 26.925 7.2 \r\nz\r\n\" style=\"fill:#ffffff;\"/>\r\n   </g>\r\n   <g clip-path=\"url(#pc83486cb50)\">\r\n    <image height=\"218\" id=\"image0f46d6925f\" transform=\"scale(1 -1)translate(0 -218)\" width=\"218\" x=\"26.925\" xlink:href=\"data:image/png;base64,\r\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\" y=\"-6.64\"/>\r\n   </g>\r\n   <g id=\"matplotlib.axis_1\">\r\n    <g id=\"xtick_1\">\r\n     <g id=\"line2d_1\">\r\n      <defs>\r\n       <path d=\"M 0 0 \r\nL 0 3.5 \r\n\" id=\"mfacd2c7980\" style=\"stroke:#000000;stroke-width:0.8;\"/>\r\n      </defs>\r\n      <g>\r\n       <use style=\"stroke:#000000;stroke-width:0.8;\" x=\"30.807857\" xlink:href=\"#mfacd2c7980\" y=\"224.64\"/>\r\n      </g>\r\n     </g>\r\n     <g id=\"text_1\">\r\n      <!-- 0 -->\r\n      <g transform=\"translate(27.626607 239.238437)scale(0.1 -0.1)\">\r\n       <defs>\r\n        <path d=\"M 31.78125 66.40625 \r\nQ 24.171875 66.40625 20.328125 58.90625 \r\nQ 16.5 51.421875 16.5 36.375 \r\nQ 16.5 21.390625 20.328125 13.890625 \r\nQ 24.171875 6.390625 31.78125 6.390625 \r\nQ 39.453125 6.390625 43.28125 13.890625 \r\nQ 47.125 21.390625 47.125 36.375 \r\nQ 47.125 51.421875 43.28125 58.90625 \r\nQ 39.453125 66.40625 31.78125 66.40625 \r\nz\r\nM 31.78125 74.21875 \r\nQ 44.046875 74.21875 50.515625 64.515625 \r\nQ 56.984375 54.828125 56.984375 36.375 \r\nQ 56.984375 17.96875 50.515625 8.265625 \r\nQ 44.046875 -1.421875 31.78125 -1.421875 \r\nQ 19.53125 -1.421875 13.0625 8.265625 \r\nQ 6.59375 17.96875 6.59375 36.375 \r\nQ 6.59375 54.828125 13.0625 64.515625 \r\nQ 19.53125 74.21875 31.78125 74.21875 \r\nz\r\n\" id=\"DejaVuSans-48\"/>\r\n       </defs>\r\n       <use xlink:href=\"#DejaVuSans-48\"/>\r\n      </g>\r\n     </g>\r\n    </g>\r\n    <g id=\"xtick_2\">\r\n     <g id=\"line2d_2\">\r\n      <g>\r\n       <use style=\"stroke:#000000;stroke-width:0.8;\" x=\"69.636429\" xlink:href=\"#mfacd2c7980\" y=\"224.64\"/>\r\n      </g>\r\n     </g>\r\n     <g id=\"text_2\">\r\n      <!-- 5 -->\r\n      <g transform=\"translate(66.455179 239.238437)scale(0.1 -0.1)\">\r\n       <defs>\r\n        <path d=\"M 10.796875 72.90625 \r\nL 49.515625 72.90625 \r\nL 49.515625 64.59375 \r\nL 19.828125 64.59375 \r\nL 19.828125 46.734375 \r\nQ 21.96875 47.46875 24.109375 47.828125 \r\nQ 26.265625 48.1875 28.421875 48.1875 \r\nQ 40.625 48.1875 47.75 41.5 \r\nQ 54.890625 34.8125 54.890625 23.390625 \r\nQ 54.890625 11.625 47.5625 5.09375 \r\nQ 40.234375 -1.421875 26.90625 -1.421875 \r\nQ 22.3125 -1.421875 17.546875 -0.640625 \r\nQ 12.796875 0.140625 7.71875 1.703125 \r\nL 7.71875 11.625 \r\nQ 12.109375 9.234375 16.796875 8.0625 \r\nQ 21.484375 6.890625 26.703125 6.890625 \r\nQ 35.15625 6.890625 40.078125 11.328125 \r\nQ 45.015625 15.765625 45.015625 23.390625 \r\nQ 45.015625 31 40.078125 35.4375 \r\nQ 35.15625 39.890625 26.703125 39.890625 \r\nQ 22.75 39.890625 18.8125 39.015625 \r\nQ 14.890625 38.140625 10.796875 36.28125 \r\nz\r\n\" id=\"DejaVuSans-53\"/>\r\n       </defs>\r\n       <use xlink:href=\"#DejaVuSans-53\"/>\r\n      </g>\r\n     </g>\r\n    </g>\r\n    <g id=\"xtick_3\">\r\n     <g id=\"line2d_3\">\r\n      <g>\r\n       <use style=\"stroke:#000000;stroke-width:0.8;\" x=\"108.465\" xlink:href=\"#mfacd2c7980\" y=\"224.64\"/>\r\n      </g>\r\n     </g>\r\n     <g id=\"text_3\">\r\n      <!-- 10 -->\r\n      <g transform=\"translate(102.1025 239.238437)scale(0.1 -0.1)\">\r\n       <defs>\r\n        <path d=\"M 12.40625 8.296875 \r\nL 28.515625 8.296875 \r\nL 28.515625 63.921875 \r\nL 10.984375 60.40625 \r\nL 10.984375 69.390625 \r\nL 28.421875 72.90625 \r\nL 38.28125 72.90625 \r\nL 38.28125 8.296875 \r\nL 54.390625 8.296875 \r\nL 54.390625 0 \r\nL 12.40625 0 \r\nz\r\n\" id=\"DejaVuSans-49\"/>\r\n       </defs>\r\n       <use xlink:href=\"#DejaVuSans-49\"/>\r\n       <use x=\"63.623047\" xlink:href=\"#DejaVuSans-48\"/>\r\n      </g>\r\n     </g>\r\n    </g>\r\n    <g id=\"xtick_4\">\r\n     <g id=\"line2d_4\">\r\n      <g>\r\n       <use style=\"stroke:#000000;stroke-width:0.8;\" x=\"147.293571\" xlink:href=\"#mfacd2c7980\" y=\"224.64\"/>\r\n      </g>\r\n     </g>\r\n     <g id=\"text_4\">\r\n      <!-- 15 -->\r\n      <g transform=\"translate(140.931071 239.238437)scale(0.1 -0.1)\">\r\n       <use xlink:href=\"#DejaVuSans-49\"/>\r\n       <use x=\"63.623047\" xlink:href=\"#DejaVuSans-53\"/>\r\n      </g>\r\n     </g>\r\n    </g>\r\n    <g id=\"xtick_5\">\r\n     <g id=\"line2d_5\">\r\n      <g>\r\n       <use style=\"stroke:#000000;stroke-width:0.8;\" x=\"186.122143\" xlink:href=\"#mfacd2c7980\" y=\"224.64\"/>\r\n      </g>\r\n     </g>\r\n     <g id=\"text_5\">\r\n      <!-- 20 -->\r\n      <g transform=\"translate(179.759643 239.238437)scale(0.1 -0.1)\">\r\n       <defs>\r\n        <path d=\"M 19.1875 8.296875 \r\nL 53.609375 8.296875 \r\nL 53.609375 0 \r\nL 7.328125 0 \r\nL 7.328125 8.296875 \r\nQ 12.9375 14.109375 22.625 23.890625 \r\nQ 32.328125 33.6875 34.8125 36.53125 \r\nQ 39.546875 41.84375 41.421875 45.53125 \r\nQ 43.3125 49.21875 43.3125 52.78125 \r\nQ 43.3125 58.59375 39.234375 62.25 \r\nQ 35.15625 65.921875 28.609375 65.921875 \r\nQ 23.96875 65.921875 18.8125 64.3125 \r\nQ 13.671875 62.703125 7.8125 59.421875 \r\nL 7.8125 69.390625 \r\nQ 13.765625 71.78125 18.9375 73 \r\nQ 24.125 74.21875 28.421875 74.21875 \r\nQ 39.75 74.21875 46.484375 68.546875 \r\nQ 53.21875 62.890625 53.21875 53.421875 \r\nQ 53.21875 48.921875 51.53125 44.890625 \r\nQ 49.859375 40.875 45.40625 35.40625 \r\nQ 44.1875 33.984375 37.640625 27.21875 \r\nQ 31.109375 20.453125 19.1875 8.296875 \r\nz\r\n\" id=\"DejaVuSans-50\"/>\r\n       </defs>\r\n       <use xlink:href=\"#DejaVuSans-50\"/>\r\n       <use x=\"63.623047\" xlink:href=\"#DejaVuSans-48\"/>\r\n      </g>\r\n     </g>\r\n    </g>\r\n    <g id=\"xtick_6\">\r\n     <g id=\"line2d_6\">\r\n      <g>\r\n       <use style=\"stroke:#000000;stroke-width:0.8;\" x=\"224.950714\" xlink:href=\"#mfacd2c7980\" y=\"224.64\"/>\r\n      </g>\r\n     </g>\r\n     <g id=\"text_6\">\r\n      <!-- 25 -->\r\n      <g transform=\"translate(218.588214 239.238437)scale(0.1 -0.1)\">\r\n       <use xlink:href=\"#DejaVuSans-50\"/>\r\n       <use x=\"63.623047\" xlink:href=\"#DejaVuSans-53\"/>\r\n      </g>\r\n     </g>\r\n    </g>\r\n   </g>\r\n   <g id=\"matplotlib.axis_2\">\r\n    <g id=\"ytick_1\">\r\n     <g id=\"line2d_7\">\r\n      <defs>\r\n       <path d=\"M 0 0 \r\nL -3.5 0 \r\n\" id=\"mea768d969e\" style=\"stroke:#000000;stroke-width:0.8;\"/>\r\n      </defs>\r\n      <g>\r\n       <use style=\"stroke:#000000;stroke-width:0.8;\" x=\"26.925\" xlink:href=\"#mea768d969e\" y=\"11.082857\"/>\r\n      </g>\r\n     </g>\r\n     <g id=\"text_7\">\r\n      <!-- 0 -->\r\n      <g transform=\"translate(13.5625 14.882076)scale(0.1 -0.1)\">\r\n       <use xlink:href=\"#DejaVuSans-48\"/>\r\n      </g>\r\n     </g>\r\n    </g>\r\n    <g id=\"ytick_2\">\r\n     <g id=\"line2d_8\">\r\n      <g>\r\n       <use style=\"stroke:#000000;stroke-width:0.8;\" x=\"26.925\" xlink:href=\"#mea768d969e\" y=\"49.911429\"/>\r\n      </g>\r\n     </g>\r\n     <g id=\"text_8\">\r\n      <!-- 5 -->\r\n      <g transform=\"translate(13.5625 53.710647)scale(0.1 -0.1)\">\r\n       <use xlink:href=\"#DejaVuSans-53\"/>\r\n      </g>\r\n     </g>\r\n    </g>\r\n    <g id=\"ytick_3\">\r\n     <g id=\"line2d_9\">\r\n      <g>\r\n       <use style=\"stroke:#000000;stroke-width:0.8;\" x=\"26.925\" xlink:href=\"#mea768d969e\" y=\"88.74\"/>\r\n      </g>\r\n     </g>\r\n     <g id=\"text_9\">\r\n      <!-- 10 -->\r\n      <g transform=\"translate(7.2 92.539219)scale(0.1 -0.1)\">\r\n       <use xlink:href=\"#DejaVuSans-49\"/>\r\n       <use x=\"63.623047\" xlink:href=\"#DejaVuSans-48\"/>\r\n      </g>\r\n     </g>\r\n    </g>\r\n    <g id=\"ytick_4\">\r\n     <g id=\"line2d_10\">\r\n      <g>\r\n       <use style=\"stroke:#000000;stroke-width:0.8;\" x=\"26.925\" xlink:href=\"#mea768d969e\" y=\"127.568571\"/>\r\n      </g>\r\n     </g>\r\n     <g id=\"text_10\">\r\n      <!-- 15 -->\r\n      <g transform=\"translate(7.2 131.36779)scale(0.1 -0.1)\">\r\n       <use xlink:href=\"#DejaVuSans-49\"/>\r\n       <use x=\"63.623047\" xlink:href=\"#DejaVuSans-53\"/>\r\n      </g>\r\n     </g>\r\n    </g>\r\n    <g id=\"ytick_5\">\r\n     <g id=\"line2d_11\">\r\n      <g>\r\n       <use style=\"stroke:#000000;stroke-width:0.8;\" x=\"26.925\" xlink:href=\"#mea768d969e\" y=\"166.397143\"/>\r\n      </g>\r\n     </g>\r\n     <g id=\"text_11\">\r\n      <!-- 20 -->\r\n      <g transform=\"translate(7.2 170.196362)scale(0.1 -0.1)\">\r\n       <use xlink:href=\"#DejaVuSans-50\"/>\r\n       <use x=\"63.623047\" xlink:href=\"#DejaVuSans-48\"/>\r\n      </g>\r\n     </g>\r\n    </g>\r\n    <g id=\"ytick_6\">\r\n     <g id=\"line2d_12\">\r\n      <g>\r\n       <use style=\"stroke:#000000;stroke-width:0.8;\" x=\"26.925\" xlink:href=\"#mea768d969e\" y=\"205.225714\"/>\r\n      </g>\r\n     </g>\r\n     <g id=\"text_12\">\r\n      <!-- 25 -->\r\n      <g transform=\"translate(7.2 209.024933)scale(0.1 -0.1)\">\r\n       <use xlink:href=\"#DejaVuSans-50\"/>\r\n       <use x=\"63.623047\" xlink:href=\"#DejaVuSans-53\"/>\r\n      </g>\r\n     </g>\r\n    </g>\r\n   </g>\r\n   <g id=\"patch_3\">\r\n    <path d=\"M 26.925 224.64 \r\nL 26.925 7.2 \r\n\" style=\"fill:none;stroke:#000000;stroke-linecap:square;stroke-linejoin:miter;stroke-width:0.8;\"/>\r\n   </g>\r\n   <g id=\"patch_4\">\r\n    <path d=\"M 244.365 224.64 \r\nL 244.365 7.2 \r\n\" style=\"fill:none;stroke:#000000;stroke-linecap:square;stroke-linejoin:miter;stroke-width:0.8;\"/>\r\n   </g>\r\n   <g id=\"patch_5\">\r\n    <path d=\"M 26.925 224.64 \r\nL 244.365 224.64 \r\n\" style=\"fill:none;stroke:#000000;stroke-linecap:square;stroke-linejoin:miter;stroke-width:0.8;\"/>\r\n   </g>\r\n   <g id=\"patch_6\">\r\n    <path d=\"M 26.925 7.2 \r\nL 244.365 7.2 \r\n\" style=\"fill:none;stroke:#000000;stroke-linecap:square;stroke-linejoin:miter;stroke-width:0.8;\"/>\r\n   </g>\r\n  </g>\r\n </g>\r\n <defs>\r\n  <clipPath id=\"pc83486cb50\">\r\n   <rect height=\"217.44\" width=\"217.44\" x=\"26.925\" y=\"7.2\"/>\r\n  </clipPath>\r\n </defs>\r\n</svg>\r\n",
      "image/png": "[encoded data removed]"
     },
     "metadata": {
      "needs_background": "light"
     }
    }
   ],
   "source": [
    "plt.imshow(np.array(X_data.iloc[0,:]).reshape(28,28))"
   ]
  },
  {
   "cell_type": "code",
   "execution_count": 5,
   "metadata": {},
   "outputs": [],
   "source": [
    "from sklearn.preprocessing import StandardScaler\n",
    "from sklearn.model_selection import train_test_split"
   ]
  },
  {
   "cell_type": "code",
   "execution_count": 6,
   "metadata": {},
   "outputs": [],
   "source": [
    "scaler = StandardScaler()\n",
    "X_data_scaled = scaler.fit_transform(X_data)"
   ]
  },
  {
   "cell_type": "code",
   "execution_count": 7,
   "metadata": {},
   "outputs": [],
   "source": [
    "#splitting data into train sets, validation sets and test sets\n",
    "X_train_valid, X_test, y_train_valid, y_test = train_test_split(X_data_scaled, y_data, test_size=0.2, random_state=42)"
   ]
  },
  {
   "cell_type": "code",
   "execution_count": 8,
   "metadata": {},
   "outputs": [],
   "source": [
    "X_train, X_valid, y_train, y_valid = train_test_split(X_train_valid, y_train_valid, test_size=0.2,random_state=42)"
   ]
  },
  {
   "cell_type": "code",
   "execution_count": 9,
   "metadata": {},
   "outputs": [],
   "source": [
    "import tensorflow as tf\n",
    "from tensorflow import keras"
   ]
  },
  {
   "cell_type": "code",
   "execution_count": 10,
   "metadata": {},
   "outputs": [],
   "source": [
    "#using the sequential API\n",
    "model_init = keras.models.Sequential()\n",
    "model_init.add(keras.layers.Input(shape = [784]))\n",
    "model_init.add(keras.layers.Dense(300, activation = \"relu\"))\n",
    "model_init.add(keras.layers.Dense(100, activation = \"relu\"))\n",
    "model_init.add(keras.layers.Dense(10, activation = \"softmax\"))\n",
    "#model_init.add(keras.layers.Dense(1, activation = give_predicted_mnist))"
   ]
  },
  {
   "cell_type": "code",
   "execution_count": 11,
   "metadata": {},
   "outputs": [],
   "source": [
    "model_init.compile(optimizer = 'sgd', loss = \"sparse_categorical_crossentropy\")"
   ]
  },
  {
   "cell_type": "code",
   "execution_count": 12,
   "metadata": {},
   "outputs": [
    {
     "output_type": "stream",
     "name": "stdout",
     "text": [
      "Epoch 1/30\n",
      "1400/1400 [==============================] - 4s 3ms/step - loss: 0.7985 - val_loss: 0.2587\n",
      "Epoch 2/30\n",
      "1400/1400 [==============================] - 3s 2ms/step - loss: 0.2046 - val_loss: 0.2044\n",
      "Epoch 3/30\n",
      "1400/1400 [==============================] - 3s 2ms/step - loss: 0.1480 - val_loss: 0.1776\n",
      "Epoch 4/30\n",
      "1400/1400 [==============================] - 3s 2ms/step - loss: 0.1156 - val_loss: 0.1649\n",
      "Epoch 5/30\n",
      "1400/1400 [==============================] - 3s 2ms/step - loss: 0.0932 - val_loss: 0.1558\n",
      "Epoch 6/30\n",
      "1400/1400 [==============================] - 3s 2ms/step - loss: 0.0768 - val_loss: 0.1505\n",
      "Epoch 7/30\n",
      "1400/1400 [==============================] - 3s 2ms/step - loss: 0.0678 - val_loss: 0.1473\n",
      "Epoch 8/30\n",
      "1400/1400 [==============================] - 2s 2ms/step - loss: 0.0578 - val_loss: 0.1429\n",
      "Epoch 9/30\n",
      "1400/1400 [==============================] - 3s 2ms/step - loss: 0.0500 - val_loss: 0.1412\n",
      "Epoch 10/30\n",
      "1400/1400 [==============================] - 3s 2ms/step - loss: 0.0441 - val_loss: 0.1417\n",
      "Epoch 11/30\n",
      "1400/1400 [==============================] - 3s 2ms/step - loss: 0.0402 - val_loss: 0.1401\n",
      "Epoch 12/30\n",
      "1400/1400 [==============================] - 3s 2ms/step - loss: 0.0354 - val_loss: 0.1385\n",
      "Epoch 13/30\n",
      "1400/1400 [==============================] - 3s 2ms/step - loss: 0.0315 - val_loss: 0.1408\n",
      "Epoch 14/30\n",
      "1400/1400 [==============================] - 3s 2ms/step - loss: 0.0271 - val_loss: 0.1413\n",
      "Epoch 15/30\n",
      "1400/1400 [==============================] - 3s 2ms/step - loss: 0.0241 - val_loss: 0.1400\n",
      "Epoch 16/30\n",
      "1400/1400 [==============================] - 3s 2ms/step - loss: 0.0215 - val_loss: 0.1411\n",
      "Epoch 17/30\n",
      "1400/1400 [==============================] - 3s 2ms/step - loss: 0.0178 - val_loss: 0.1420\n",
      "Epoch 18/30\n",
      "1400/1400 [==============================] - 3s 2ms/step - loss: 0.0167 - val_loss: 0.1410\n",
      "Epoch 19/30\n",
      "1400/1400 [==============================] - 3s 2ms/step - loss: 0.0147 - val_loss: 0.1422\n",
      "Epoch 20/30\n",
      "1400/1400 [==============================] - 3s 2ms/step - loss: 0.0137 - val_loss: 0.1436\n",
      "Epoch 21/30\n",
      "1400/1400 [==============================] - 4s 3ms/step - loss: 0.0131 - val_loss: 0.1454\n",
      "Epoch 22/30\n",
      "1400/1400 [==============================] - 3s 2ms/step - loss: 0.0138 - val_loss: 0.1446\n",
      "Epoch 23/30\n",
      "1400/1400 [==============================] - 4s 3ms/step - loss: 0.0098 - val_loss: 0.1460\n",
      "Epoch 24/30\n",
      "1400/1400 [==============================] - 4s 3ms/step - loss: 0.0104 - val_loss: 0.1468\n",
      "Epoch 25/30\n",
      "1400/1400 [==============================] - 4s 3ms/step - loss: 0.0091 - val_loss: 0.1478\n",
      "Epoch 26/30\n",
      "1400/1400 [==============================] - 4s 3ms/step - loss: 0.0082 - val_loss: 0.1485\n",
      "Epoch 27/30\n",
      "1400/1400 [==============================] - 4s 3ms/step - loss: 0.0072 - val_loss: 0.1493\n",
      "Epoch 28/30\n",
      "1400/1400 [==============================] - 3s 2ms/step - loss: 0.0065 - val_loss: 0.1506\n",
      "Epoch 29/30\n",
      "1400/1400 [==============================] - 3s 2ms/step - loss: 0.0081 - val_loss: 0.1509\n",
      "Epoch 30/30\n",
      "1400/1400 [==============================] - 3s 2ms/step - loss: 0.0059 - val_loss: 0.1528\n"
     ]
    }
   ],
   "source": [
    "history_init = model_init.fit(X_train, y_train, epochs = 30, validation_data=(X_valid, y_valid))"
   ]
  },
  {
   "cell_type": "code",
   "execution_count": 13,
   "metadata": {},
   "outputs": [],
   "source": [
    "#calculating precision\n",
    "y_pred_init = model_init.predict(X_train)\n",
    "result_train = np.array(tf.argmax(y_pred_init, axis = 1))"
   ]
  },
  {
   "cell_type": "code",
   "execution_count": 14,
   "metadata": {},
   "outputs": [
    {
     "output_type": "execute_result",
     "data": {
      "text/plain": [
       "array([[4434,    0,    0,    0,    0,    0,    0,    0,    0,    0],\n",
       "       [   0, 5003,    0,    0,    0,    0,    0,    0,    0,    0],\n",
       "       [   0,    1, 4503,    0,    0,    0,    0,    0,    0,    0],\n",
       "       [   0,    0,    0, 4564,    0,    0,    0,    0,    0,    0],\n",
       "       [   0,    1,    0,    0, 4422,    0,    0,    0,    0,    2],\n",
       "       [   0,    2,    0,    0,    0, 3999,    0,    0,    0,    0],\n",
       "       [   0,    0,    0,    0,    0,    0, 4384,    0,    0,    0],\n",
       "       [   0,    3,    0,    0,    0,    0,    0, 4638,    0,    0],\n",
       "       [   0,    0,    0,    0,    0,    0,    0,    0, 4378,    0],\n",
       "       [   0,    0,    0,    0,    0,    0,    0,    2,    0, 4464]],\n",
       "      dtype=int64)"
      ]
     },
     "metadata": {},
     "execution_count": 14
    }
   ],
   "source": [
    "from sklearn.metrics import confusion_matrix\n",
    "confusion_matrix(y_train, result_train)"
   ]
  },
  {
   "cell_type": "code",
   "execution_count": 15,
   "metadata": {},
   "outputs": [],
   "source": [
    "y_pred_valid = model_init.predict(X_valid)\n",
    "result_valid = np.array(tf.argmax(y_pred_valid, axis = 1))"
   ]
  },
  {
   "cell_type": "code",
   "execution_count": 16,
   "metadata": {},
   "outputs": [
    {
     "output_type": "execute_result",
     "data": {
      "text/plain": [
       "array([[1105,    0,    1,    1,    1,    7,    4,    0,    4,    3],\n",
       "       [   0, 1258,    4,    4,    0,    0,    0,    3,    4,    1],\n",
       "       [   5,    1, 1066,   13,    4,    2,    4,    7,    4,    0],\n",
       "       [   4,    2,    7, 1101,    1,   10,    0,    6,    9,    4],\n",
       "       [   0,    1,    4,    0, 1077,    0,    8,    1,    1,   12],\n",
       "       [   2,    1,    1,   10,    3, 1004,    8,    1,    6,    3],\n",
       "       [  11,    4,    2,    0,    4,    8, 1060,    0,    7,    0],\n",
       "       [   2,    1,    9,    5,    4,    1,    2, 1110,    3,   12],\n",
       "       [   1,    8,    7,    7,    3,    8,    2,    1, 1044,    9],\n",
       "       [   6,    3,    2,   11,    8,    1,    0,   16,    5, 1020]],\n",
       "      dtype=int64)"
      ]
     },
     "metadata": {},
     "execution_count": 16
    }
   ],
   "source": [
    "confusion_matrix(y_valid, result_valid)"
   ]
  },
  {
   "cell_type": "code",
   "execution_count": 47,
   "metadata": {},
   "outputs": [],
   "source": [
    "def calculate_weightedprecision_score(ground_truth, predictions):\n",
    "    confusion_mat = confusion_matrix(ground_truth, predictions)\n",
    "    class_count = confusion_mat.shape[0]\n",
    "    precision_list = list()\n",
    "    for cl in range(0,class_count):\n",
    "        column_sum = np.sum(confusion_mat[:,0])\n",
    "        precision = confusion_mat[cl,cl]/column_sum\n",
    "        precision_list.append(precision)\n",
    "    #lets calculate weighted precision of this confusion matrix to obtain one precision for the entire confusion matrix\n",
    "    total_instances_perclass = np.sum(confusion_mat,axis = 1).tolist()\n",
    "    total_instances = np.sum(total_instances_perclass)\n",
    "    weighted_precision = np.dot((total_instances_perclass/total_instances),np.array(precision_list))\n",
    "    return weighted_precision"
   ]
  },
  {
   "cell_type": "code",
   "execution_count": 43,
   "metadata": {},
   "outputs": [
    {
     "output_type": "execute_result",
     "data": {
      "text/plain": [
       "0.9577917505030181"
      ]
     },
     "metadata": {},
     "execution_count": 43
    }
   ],
   "source": [
    "calculate_precision(confusion_matrix(y_valid, result_valid))"
   ]
  },
  {
   "cell_type": "code",
   "execution_count": 56,
   "metadata": {},
   "outputs": [],
   "source": [
    "#making a function to apply to GridSearchCV for hyperparameter tuning \n",
    "def build_model(n_hidden = 2, n_neurons = [300,100], learning_rate = 3e-3, input_shape = [784]):\n",
    "    model = keras.models.Sequential()\n",
    "    model.add(keras.layers.Input(shape = input_shape))\n",
    "    if(n_hidden == len(n_neurons)):\n",
    "        for layer in range(0,n_hidden):\n",
    "            model.add(keras.layers.Dense(n_neurons[layer], activation = 'relu'))\n",
    "    else:\n",
    "        raise IndexError('Number of hidden layers should be equal to the number of neurons in the neurons list')\n",
    "    #10 neurons because its 10 classes\n",
    "    model.add(keras.layers.Dense(10,activation = 'softmax'))\n",
    "    optimizer = keras.optimizers.SGD(learning_rate)\n",
    "    model.compile(optimizer = 'sgd', loss = \"sparse_categorical_crossentropy\")\n",
    "    return model"
   ]
  },
  {
   "cell_type": "code",
   "execution_count": 57,
   "metadata": {},
   "outputs": [],
   "source": [
    "from sklearn.metrics import make_scorer\n",
    "#Create a KerasRegressor based on the build_model function\n",
    "keras_reg_mnist = keras.wrappers.scikit_learn.KerasClassifier(build_model)\n",
    "#how to put a custom score to RandomizedSearchCV\n",
    "weighted_precision_scorer = make_scorer(calculate_weightedprecision_score, greater_is_better = True)"
   ]
  },
  {
   "cell_type": "code",
   "execution_count": 58,
   "metadata": {
    "tags": [
     "outputPrepend"
    ]
   },
   "outputs": [
    {
     "output_type": "stream",
     "name": "stdout",
     "text": [
      "s)\n",
      "  File \"C:\\Users\\ASUS\\AppData\\Roaming\\Python\\Python38\\site-packages\\tensorflow\\python\\keras\\wrappers\\scikit_learn.py\", line 157, in fit\n",
      "    self.model = self.build_fn(**self.filter_sk_params(self.build_fn))\n",
      "  File \"<ipython-input-56-3ff5404f13eb>\", line 9, in build_model\n",
      "    raise IndexError('Number of hidden layers should be equal to the number of neurons in the neurons list')\n",
      "IndexError: Number of hidden layers should be equal to the number of neurons in the neurons list\n",
      "\n",
      "  warnings.warn(\"Estimator fit failed. The score on this train-test\"\n",
      "C:\\Users\\ASUS\\AppData\\Local\\Programs\\Python\\Python38\\lib\\site-packages\\sklearn\\model_selection\\_validation.py:610: FitFailedWarning: Estimator fit failed. The score on this train-test partition for these parameters will be set to nan. Details: \n",
      "Traceback (most recent call last):\n",
      "  File \"C:\\Users\\ASUS\\AppData\\Local\\Programs\\Python\\Python38\\lib\\site-packages\\sklearn\\model_selection\\_validation.py\", line 593, in _fit_and_score\n",
      "    estimator.fit(X_train, y_train, **fit_params)\n",
      "  File \"C:\\Users\\ASUS\\AppData\\Roaming\\Python\\Python38\\site-packages\\tensorflow\\python\\keras\\wrappers\\scikit_learn.py\", line 223, in fit\n",
      "    return super(KerasClassifier, self).fit(x, y, **kwargs)\n",
      "  File \"C:\\Users\\ASUS\\AppData\\Roaming\\Python\\Python38\\site-packages\\tensorflow\\python\\keras\\wrappers\\scikit_learn.py\", line 157, in fit\n",
      "    self.model = self.build_fn(**self.filter_sk_params(self.build_fn))\n",
      "  File \"<ipython-input-56-3ff5404f13eb>\", line 9, in build_model\n",
      "    raise IndexError('Number of hidden layers should be equal to the number of neurons in the neurons list')\n",
      "IndexError: Number of hidden layers should be equal to the number of neurons in the neurons list\n",
      "\n",
      "  warnings.warn(\"Estimator fit failed. The score on this train-test\"\n",
      "C:\\Users\\ASUS\\AppData\\Local\\Programs\\Python\\Python38\\lib\\site-packages\\sklearn\\model_selection\\_validation.py:610: FitFailedWarning: Estimator fit failed. The score on this train-test partition for these parameters will be set to nan. Details: \n",
      "Traceback (most recent call last):\n",
      "  File \"C:\\Users\\ASUS\\AppData\\Local\\Programs\\Python\\Python38\\lib\\site-packages\\sklearn\\model_selection\\_validation.py\", line 593, in _fit_and_score\n",
      "    estimator.fit(X_train, y_train, **fit_params)\n",
      "  File \"C:\\Users\\ASUS\\AppData\\Roaming\\Python\\Python38\\site-packages\\tensorflow\\python\\keras\\wrappers\\scikit_learn.py\", line 223, in fit\n",
      "    return super(KerasClassifier, self).fit(x, y, **kwargs)\n",
      "  File \"C:\\Users\\ASUS\\AppData\\Roaming\\Python\\Python38\\site-packages\\tensorflow\\python\\keras\\wrappers\\scikit_learn.py\", line 157, in fit\n",
      "    self.model = self.build_fn(**self.filter_sk_params(self.build_fn))\n",
      "  File \"<ipython-input-56-3ff5404f13eb>\", line 9, in build_model\n",
      "    raise IndexError('Number of hidden layers should be equal to the number of neurons in the neurons list')\n",
      "IndexError: Number of hidden layers should be equal to the number of neurons in the neurons list\n",
      "\n",
      "  warnings.warn(\"Estimator fit failed. The score on this train-test\"\n",
      "C:\\Users\\ASUS\\AppData\\Local\\Programs\\Python\\Python38\\lib\\site-packages\\sklearn\\model_selection\\_validation.py:610: FitFailedWarning: Estimator fit failed. The score on this train-test partition for these parameters will be set to nan. Details: \n",
      "Traceback (most recent call last):\n",
      "  File \"C:\\Users\\ASUS\\AppData\\Local\\Programs\\Python\\Python38\\lib\\site-packages\\sklearn\\model_selection\\_validation.py\", line 593, in _fit_and_score\n",
      "    estimator.fit(X_train, y_train, **fit_params)\n",
      "  File \"C:\\Users\\ASUS\\AppData\\Roaming\\Python\\Python38\\site-packages\\tensorflow\\python\\keras\\wrappers\\scikit_learn.py\", line 223, in fit\n",
      "    return super(KerasClassifier, self).fit(x, y, **kwargs)\n",
      "  File \"C:\\Users\\ASUS\\AppData\\Roaming\\Python\\Python38\\site-packages\\tensorflow\\python\\keras\\wrappers\\scikit_learn.py\", line 157, in fit\n",
      "    self.model = self.build_fn(**self.filter_sk_params(self.build_fn))\n",
      "  File \"<ipython-input-56-3ff5404f13eb>\", line 9, in build_model\n",
      "    raise IndexError('Number of hidden layers should be equal to the number of neurons in the neurons list')\n",
      "IndexError: Number of hidden layers should be equal to the number of neurons in the neurons list\n",
      "\n",
      "  warnings.warn(\"Estimator fit failed. The score on this train-test\"\n",
      "C:\\Users\\ASUS\\AppData\\Local\\Programs\\Python\\Python38\\lib\\site-packages\\sklearn\\model_selection\\_validation.py:610: FitFailedWarning: Estimator fit failed. The score on this train-test partition for these parameters will be set to nan. Details: \n",
      "Traceback (most recent call last):\n",
      "  File \"C:\\Users\\ASUS\\AppData\\Local\\Programs\\Python\\Python38\\lib\\site-packages\\sklearn\\model_selection\\_validation.py\", line 593, in _fit_and_score\n",
      "    estimator.fit(X_train, y_train, **fit_params)\n",
      "  File \"C:\\Users\\ASUS\\AppData\\Roaming\\Python\\Python38\\site-packages\\tensorflow\\python\\keras\\wrappers\\scikit_learn.py\", line 223, in fit\n",
      "    return super(KerasClassifier, self).fit(x, y, **kwargs)\n",
      "  File \"C:\\Users\\ASUS\\AppData\\Roaming\\Python\\Python38\\site-packages\\tensorflow\\python\\keras\\wrappers\\scikit_learn.py\", line 157, in fit\n",
      "    self.model = self.build_fn(**self.filter_sk_params(self.build_fn))\n",
      "  File \"<ipython-input-56-3ff5404f13eb>\", line 9, in build_model\n",
      "    raise IndexError('Number of hidden layers should be equal to the number of neurons in the neurons list')\n",
      "IndexError: Number of hidden layers should be equal to the number of neurons in the neurons list\n",
      "\n",
      "  warnings.warn(\"Estimator fit failed. The score on this train-test\"\n",
      "C:\\Users\\ASUS\\AppData\\Local\\Programs\\Python\\Python38\\lib\\site-packages\\sklearn\\model_selection\\_validation.py:610: FitFailedWarning: Estimator fit failed. The score on this train-test partition for these parameters will be set to nan. Details: \n",
      "Traceback (most recent call last):\n",
      "  File \"C:\\Users\\ASUS\\AppData\\Local\\Programs\\Python\\Python38\\lib\\site-packages\\sklearn\\model_selection\\_validation.py\", line 593, in _fit_and_score\n",
      "    estimator.fit(X_train, y_train, **fit_params)\n",
      "  File \"C:\\Users\\ASUS\\AppData\\Roaming\\Python\\Python38\\site-packages\\tensorflow\\python\\keras\\wrappers\\scikit_learn.py\", line 223, in fit\n",
      "    return super(KerasClassifier, self).fit(x, y, **kwargs)\n",
      "  File \"C:\\Users\\ASUS\\AppData\\Roaming\\Python\\Python38\\site-packages\\tensorflow\\python\\keras\\wrappers\\scikit_learn.py\", line 157, in fit\n",
      "    self.model = self.build_fn(**self.filter_sk_params(self.build_fn))\n",
      "  File \"<ipython-input-56-3ff5404f13eb>\", line 9, in build_model\n",
      "    raise IndexError('Number of hidden layers should be equal to the number of neurons in the neurons list')\n",
      "IndexError: Number of hidden layers should be equal to the number of neurons in the neurons list\n",
      "\n",
      "  warnings.warn(\"Estimator fit failed. The score on this train-test\"\n",
      "C:\\Users\\ASUS\\AppData\\Local\\Programs\\Python\\Python38\\lib\\site-packages\\sklearn\\model_selection\\_validation.py:610: FitFailedWarning: Estimator fit failed. The score on this train-test partition for these parameters will be set to nan. Details: \n",
      "Traceback (most recent call last):\n",
      "  File \"C:\\Users\\ASUS\\AppData\\Local\\Programs\\Python\\Python38\\lib\\site-packages\\sklearn\\model_selection\\_validation.py\", line 593, in _fit_and_score\n",
      "    estimator.fit(X_train, y_train, **fit_params)\n",
      "  File \"C:\\Users\\ASUS\\AppData\\Roaming\\Python\\Python38\\site-packages\\tensorflow\\python\\keras\\wrappers\\scikit_learn.py\", line 223, in fit\n",
      "    return super(KerasClassifier, self).fit(x, y, **kwargs)\n",
      "  File \"C:\\Users\\ASUS\\AppData\\Roaming\\Python\\Python38\\site-packages\\tensorflow\\python\\keras\\wrappers\\scikit_learn.py\", line 157, in fit\n",
      "    self.model = self.build_fn(**self.filter_sk_params(self.build_fn))\n",
      "  File \"<ipython-input-56-3ff5404f13eb>\", line 9, in build_model\n",
      "    raise IndexError('Number of hidden layers should be equal to the number of neurons in the neurons list')\n",
      "IndexError: Number of hidden layers should be equal to the number of neurons in the neurons list\n",
      "\n",
      "  warnings.warn(\"Estimator fit failed. The score on this train-test\"\n",
      "C:\\Users\\ASUS\\AppData\\Local\\Programs\\Python\\Python38\\lib\\site-packages\\sklearn\\model_selection\\_validation.py:610: FitFailedWarning: Estimator fit failed. The score on this train-test partition for these parameters will be set to nan. Details: \n",
      "Traceback (most recent call last):\n",
      "  File \"C:\\Users\\ASUS\\AppData\\Local\\Programs\\Python\\Python38\\lib\\site-packages\\sklearn\\model_selection\\_validation.py\", line 593, in _fit_and_score\n",
      "    estimator.fit(X_train, y_train, **fit_params)\n",
      "  File \"C:\\Users\\ASUS\\AppData\\Roaming\\Python\\Python38\\site-packages\\tensorflow\\python\\keras\\wrappers\\scikit_learn.py\", line 223, in fit\n",
      "    return super(KerasClassifier, self).fit(x, y, **kwargs)\n",
      "  File \"C:\\Users\\ASUS\\AppData\\Roaming\\Python\\Python38\\site-packages\\tensorflow\\python\\keras\\wrappers\\scikit_learn.py\", line 157, in fit\n",
      "    self.model = self.build_fn(**self.filter_sk_params(self.build_fn))\n",
      "  File \"<ipython-input-56-3ff5404f13eb>\", line 9, in build_model\n",
      "    raise IndexError('Number of hidden layers should be equal to the number of neurons in the neurons list')\n",
      "IndexError: Number of hidden layers should be equal to the number of neurons in the neurons list\n",
      "\n",
      "  warnings.warn(\"Estimator fit failed. The score on this train-test\"\n",
      "C:\\Users\\ASUS\\AppData\\Local\\Programs\\Python\\Python38\\lib\\site-packages\\sklearn\\model_selection\\_validation.py:610: FitFailedWarning: Estimator fit failed. The score on this train-test partition for these parameters will be set to nan. Details: \n",
      "Traceback (most recent call last):\n",
      "  File \"C:\\Users\\ASUS\\AppData\\Local\\Programs\\Python\\Python38\\lib\\site-packages\\sklearn\\model_selection\\_validation.py\", line 593, in _fit_and_score\n",
      "    estimator.fit(X_train, y_train, **fit_params)\n",
      "  File \"C:\\Users\\ASUS\\AppData\\Roaming\\Python\\Python38\\site-packages\\tensorflow\\python\\keras\\wrappers\\scikit_learn.py\", line 223, in fit\n",
      "    return super(KerasClassifier, self).fit(x, y, **kwargs)\n",
      "  File \"C:\\Users\\ASUS\\AppData\\Roaming\\Python\\Python38\\site-packages\\tensorflow\\python\\keras\\wrappers\\scikit_learn.py\", line 157, in fit\n",
      "    self.model = self.build_fn(**self.filter_sk_params(self.build_fn))\n",
      "  File \"<ipython-input-56-3ff5404f13eb>\", line 9, in build_model\n",
      "    raise IndexError('Number of hidden layers should be equal to the number of neurons in the neurons list')\n",
      "IndexError: Number of hidden layers should be equal to the number of neurons in the neurons list\n",
      "\n",
      "  warnings.warn(\"Estimator fit failed. The score on this train-test\"\n",
      "C:\\Users\\ASUS\\AppData\\Local\\Programs\\Python\\Python38\\lib\\site-packages\\sklearn\\model_selection\\_validation.py:610: FitFailedWarning: Estimator fit failed. The score on this train-test partition for these parameters will be set to nan. Details: \n",
      "Traceback (most recent call last):\n",
      "  File \"C:\\Users\\ASUS\\AppData\\Local\\Programs\\Python\\Python38\\lib\\site-packages\\sklearn\\model_selection\\_validation.py\", line 593, in _fit_and_score\n",
      "    estimator.fit(X_train, y_train, **fit_params)\n",
      "  File \"C:\\Users\\ASUS\\AppData\\Roaming\\Python\\Python38\\site-packages\\tensorflow\\python\\keras\\wrappers\\scikit_learn.py\", line 223, in fit\n",
      "    return super(KerasClassifier, self).fit(x, y, **kwargs)\n",
      "  File \"C:\\Users\\ASUS\\AppData\\Roaming\\Python\\Python38\\site-packages\\tensorflow\\python\\keras\\wrappers\\scikit_learn.py\", line 157, in fit\n",
      "    self.model = self.build_fn(**self.filter_sk_params(self.build_fn))\n",
      "  File \"<ipython-input-56-3ff5404f13eb>\", line 9, in build_model\n",
      "    raise IndexError('Number of hidden layers should be equal to the number of neurons in the neurons list')\n",
      "IndexError: Number of hidden layers should be equal to the number of neurons in the neurons list\n",
      "\n",
      "  warnings.warn(\"Estimator fit failed. The score on this train-test\"\n",
      "Epoch 1/10\n",
      "1120/1120 [==============================] - 5s 4ms/step - loss: 1.0019 - val_loss: 0.2655\n",
      "Epoch 2/10\n",
      "1120/1120 [==============================] - 4s 4ms/step - loss: 0.2099 - val_loss: 0.2087\n",
      "Epoch 3/10\n",
      "1120/1120 [==============================] - 5s 4ms/step - loss: 0.1404 - val_loss: 0.1840\n",
      "Epoch 4/10\n",
      "1120/1120 [==============================] - 5s 4ms/step - loss: 0.1027 - val_loss: 0.1724\n",
      "Epoch 5/10\n",
      "1120/1120 [==============================] - 4s 4ms/step - loss: 0.0747 - val_loss: 0.1804\n",
      "Epoch 6/10\n",
      "1120/1120 [==============================] - 4s 4ms/step - loss: 0.0613 - val_loss: 0.1660\n",
      "Epoch 7/10\n",
      "1120/1120 [==============================] - 5s 4ms/step - loss: 0.0484 - val_loss: 0.1635\n",
      "Epoch 8/10\n",
      "1120/1120 [==============================] - 5s 4ms/step - loss: 0.0366 - val_loss: 0.1617\n",
      "Epoch 9/10\n",
      "1120/1120 [==============================] - 5s 4ms/step - loss: 0.0265 - val_loss: 0.1634\n",
      "Epoch 10/10\n",
      "1120/1120 [==============================] - 5s 4ms/step - loss: 0.0242 - val_loss: 0.1694\n",
      "C:\\Users\\ASUS\\AppData\\Roaming\\Python\\Python38\\site-packages\\tensorflow\\python\\keras\\engine\\sequential.py:450: UserWarning: `model.predict_classes()` is deprecated and will be removed after 2021-01-01. Please use instead:* `np.argmax(model.predict(x), axis=-1)`,   if your model does multi-class classification   (e.g. if it uses a `softmax` last-layer activation).* `(model.predict(x) > 0.5).astype(\"int32\")`,   if your model does binary classification   (e.g. if it uses a `sigmoid` last-layer activation).\n",
      "  warnings.warn('`model.predict_classes()` is deprecated and '\n",
      "Epoch 1/10\n",
      "1120/1120 [==============================] - 5s 4ms/step - loss: 0.9880 - val_loss: 0.2725\n",
      "Epoch 2/10\n",
      "1120/1120 [==============================] - 4s 4ms/step - loss: 0.2099 - val_loss: 0.2047\n",
      "Epoch 3/10\n",
      "1120/1120 [==============================] - 5s 4ms/step - loss: 0.1406 - val_loss: 0.1726\n",
      "Epoch 4/10\n",
      "1120/1120 [==============================] - 4s 4ms/step - loss: 0.1022 - val_loss: 0.1639\n",
      "Epoch 5/10\n",
      "1120/1120 [==============================] - 4s 4ms/step - loss: 0.0722 - val_loss: 0.1610\n",
      "Epoch 6/10\n",
      "1120/1120 [==============================] - 4s 4ms/step - loss: 0.0621 - val_loss: 0.1544\n",
      "Epoch 7/10\n",
      "1120/1120 [==============================] - 4s 4ms/step - loss: 0.0447 - val_loss: 0.1557\n",
      "Epoch 8/10\n",
      "1120/1120 [==============================] - 4s 4ms/step - loss: 0.0361 - val_loss: 0.1520\n",
      "Epoch 9/10\n",
      "1120/1120 [==============================] - 4s 4ms/step - loss: 0.0248 - val_loss: 0.1572\n",
      "Epoch 10/10\n",
      "1120/1120 [==============================] - 4s 4ms/step - loss: 0.0193 - val_loss: 0.1573\n",
      "C:\\Users\\ASUS\\AppData\\Roaming\\Python\\Python38\\site-packages\\tensorflow\\python\\keras\\engine\\sequential.py:450: UserWarning: `model.predict_classes()` is deprecated and will be removed after 2021-01-01. Please use instead:* `np.argmax(model.predict(x), axis=-1)`,   if your model does multi-class classification   (e.g. if it uses a `softmax` last-layer activation).* `(model.predict(x) > 0.5).astype(\"int32\")`,   if your model does binary classification   (e.g. if it uses a `sigmoid` last-layer activation).\n",
      "  warnings.warn('`model.predict_classes()` is deprecated and '\n",
      "Epoch 1/10\n",
      "1120/1120 [==============================] - 5s 4ms/step - loss: 1.0090 - val_loss: 0.2705\n",
      "Epoch 2/10\n",
      "1120/1120 [==============================] - 4s 4ms/step - loss: 0.2190 - val_loss: 0.2126\n",
      "Epoch 3/10\n",
      "1120/1120 [==============================] - 4s 4ms/step - loss: 0.1377 - val_loss: 0.2038\n",
      "Epoch 4/10\n",
      "1120/1120 [==============================] - 4s 4ms/step - loss: 0.1034 - val_loss: 0.1819\n",
      "Epoch 5/10\n",
      "1120/1120 [==============================] - 4s 4ms/step - loss: 0.0765 - val_loss: 0.1768\n",
      "Epoch 6/10\n",
      "1120/1120 [==============================] - 4s 4ms/step - loss: 0.0683 - val_loss: 0.1825\n",
      "Epoch 7/10\n",
      "1120/1120 [==============================] - 4s 4ms/step - loss: 0.0447 - val_loss: 0.1853\n",
      "Epoch 8/10\n",
      "1120/1120 [==============================] - 4s 4ms/step - loss: 0.0422 - val_loss: 0.1813\n",
      "Epoch 9/10\n",
      "1120/1120 [==============================] - 4s 4ms/step - loss: 0.0281 - val_loss: 0.1820\n",
      "Epoch 10/10\n",
      "1120/1120 [==============================] - 4s 4ms/step - loss: 0.0239 - val_loss: 0.1860\n",
      "C:\\Users\\ASUS\\AppData\\Roaming\\Python\\Python38\\site-packages\\tensorflow\\python\\keras\\engine\\sequential.py:450: UserWarning: `model.predict_classes()` is deprecated and will be removed after 2021-01-01. Please use instead:* `np.argmax(model.predict(x), axis=-1)`,   if your model does multi-class classification   (e.g. if it uses a `softmax` last-layer activation).* `(model.predict(x) > 0.5).astype(\"int32\")`,   if your model does binary classification   (e.g. if it uses a `sigmoid` last-layer activation).\n",
      "  warnings.warn('`model.predict_classes()` is deprecated and '\n",
      "Epoch 1/10\n",
      "1120/1120 [==============================] - 5s 4ms/step - loss: 0.9878 - val_loss: 0.2855\n",
      "Epoch 2/10\n",
      "1120/1120 [==============================] - 4s 4ms/step - loss: 0.2123 - val_loss: 0.2185\n",
      "Epoch 3/10\n",
      "1120/1120 [==============================] - 4s 4ms/step - loss: 0.1449 - val_loss: 0.1843\n",
      "Epoch 4/10\n",
      "1120/1120 [==============================] - 4s 4ms/step - loss: 0.0983 - val_loss: 0.1730\n",
      "Epoch 5/10\n",
      "1120/1120 [==============================] - 4s 4ms/step - loss: 0.0707 - val_loss: 0.1748\n",
      "Epoch 6/10\n",
      "1120/1120 [==============================] - 4s 4ms/step - loss: 0.0565 - val_loss: 0.1730\n",
      "Epoch 7/10\n",
      "1120/1120 [==============================] - 4s 4ms/step - loss: 0.0398 - val_loss: 0.1747\n",
      "Epoch 8/10\n",
      "1120/1120 [==============================] - 4s 4ms/step - loss: 0.0290 - val_loss: 0.1784\n",
      "Epoch 9/10\n",
      "1120/1120 [==============================] - 4s 4ms/step - loss: 0.0228 - val_loss: 0.1799\n",
      "Epoch 10/10\n",
      "1120/1120 [==============================] - 4s 4ms/step - loss: 0.0166 - val_loss: 0.1830\n",
      "C:\\Users\\ASUS\\AppData\\Roaming\\Python\\Python38\\site-packages\\tensorflow\\python\\keras\\engine\\sequential.py:450: UserWarning: `model.predict_classes()` is deprecated and will be removed after 2021-01-01. Please use instead:* `np.argmax(model.predict(x), axis=-1)`,   if your model does multi-class classification   (e.g. if it uses a `softmax` last-layer activation).* `(model.predict(x) > 0.5).astype(\"int32\")`,   if your model does binary classification   (e.g. if it uses a `sigmoid` last-layer activation).\n",
      "  warnings.warn('`model.predict_classes()` is deprecated and '\n",
      "Epoch 1/10\n",
      "1120/1120 [==============================] - 5s 4ms/step - loss: 1.0050 - val_loss: 0.2729\n",
      "Epoch 2/10\n",
      "1120/1120 [==============================] - 4s 4ms/step - loss: 0.1990 - val_loss: 0.2132\n",
      "Epoch 3/10\n",
      "1120/1120 [==============================] - 4s 4ms/step - loss: 0.1353 - val_loss: 0.1803\n",
      "Epoch 4/10\n",
      "1120/1120 [==============================] - 4s 4ms/step - loss: 0.0972 - val_loss: 0.1767\n",
      "Epoch 5/10\n",
      "1120/1120 [==============================] - 4s 4ms/step - loss: 0.0767 - val_loss: 0.1661\n",
      "Epoch 6/10\n",
      "1120/1120 [==============================] - 4s 4ms/step - loss: 0.0554 - val_loss: 0.1856\n",
      "Epoch 7/10\n",
      "1120/1120 [==============================] - 4s 4ms/step - loss: 0.0462 - val_loss: 0.1690\n",
      "Epoch 8/10\n",
      "1120/1120 [==============================] - 4s 4ms/step - loss: 0.0345 - val_loss: 0.1705\n",
      "Epoch 9/10\n",
      "1120/1120 [==============================] - 4s 4ms/step - loss: 0.0255 - val_loss: 0.1705\n",
      "Epoch 10/10\n",
      "1120/1120 [==============================] - 4s 4ms/step - loss: 0.0231 - val_loss: 0.1778\n",
      "C:\\Users\\ASUS\\AppData\\Roaming\\Python\\Python38\\site-packages\\tensorflow\\python\\keras\\engine\\sequential.py:450: UserWarning: `model.predict_classes()` is deprecated and will be removed after 2021-01-01. Please use instead:* `np.argmax(model.predict(x), axis=-1)`,   if your model does multi-class classification   (e.g. if it uses a `softmax` last-layer activation).* `(model.predict(x) > 0.5).astype(\"int32\")`,   if your model does binary classification   (e.g. if it uses a `sigmoid` last-layer activation).\n",
      "  warnings.warn('`model.predict_classes()` is deprecated and '\n",
      "C:\\Users\\ASUS\\AppData\\Local\\Programs\\Python\\Python38\\lib\\site-packages\\sklearn\\model_selection\\_search.py:918: UserWarning: One or more of the test scores are non-finite: [0.97670027        nan        nan        nan 0.97585041        nan\n",
      "        nan        nan 0.97760747 0.96976761        nan        nan\n",
      "        nan 0.97598946        nan        nan        nan 0.97277015\n",
      " 0.97259957        nan        nan        nan 0.98201495        nan\n",
      "        nan        nan 0.97770743]\n",
      "  warnings.warn(\n"
     ]
    },
    {
     "output_type": "error",
     "ename": "RuntimeError",
     "evalue": "Cannot clone object <tensorflow.python.keras.wrappers.scikit_learn.KerasClassifier object at 0x0000023B8CB53880>, as the constructor either does not set or modifies parameter n_neurons",
     "traceback": [
      "\u001b[1;31m---------------------------------------------------------------------------\u001b[0m",
      "\u001b[1;31mRuntimeError\u001b[0m                              Traceback (most recent call last)",
      "\u001b[1;32m<ipython-input-58-e8b34d09cfe3>\u001b[0m in \u001b[0;36m<module>\u001b[1;34m\u001b[0m\n\u001b[0;32m      8\u001b[0m \u001b[0mgrid_search_cv\u001b[0m \u001b[1;33m=\u001b[0m \u001b[0mGridSearchCV\u001b[0m\u001b[1;33m(\u001b[0m\u001b[0mkeras_reg_mnist\u001b[0m\u001b[1;33m,\u001b[0m \u001b[0mparam_grid\u001b[0m \u001b[1;33m=\u001b[0m \u001b[0mparams\u001b[0m\u001b[1;33m,\u001b[0m\u001b[0mcv\u001b[0m \u001b[1;33m=\u001b[0m \u001b[1;36m5\u001b[0m\u001b[1;33m,\u001b[0m \u001b[0mscoring\u001b[0m \u001b[1;33m=\u001b[0m \u001b[0mweighted_precision_scorer\u001b[0m\u001b[1;33m)\u001b[0m\u001b[1;33m\u001b[0m\u001b[1;33m\u001b[0m\u001b[0m\n\u001b[0;32m      9\u001b[0m \u001b[1;33m\u001b[0m\u001b[0m\n\u001b[1;32m---> 10\u001b[1;33m \u001b[0mgrid_search_cv\u001b[0m\u001b[1;33m.\u001b[0m\u001b[0mfit\u001b[0m\u001b[1;33m(\u001b[0m\u001b[0mX_train\u001b[0m\u001b[1;33m,\u001b[0m \u001b[0my_train\u001b[0m\u001b[1;33m,\u001b[0m \u001b[0mepochs\u001b[0m \u001b[1;33m=\u001b[0m \u001b[1;36m10\u001b[0m\u001b[1;33m,\u001b[0m \u001b[0mvalidation_data\u001b[0m\u001b[1;33m=\u001b[0m\u001b[1;33m(\u001b[0m\u001b[0mX_valid\u001b[0m\u001b[1;33m,\u001b[0m \u001b[0my_valid\u001b[0m\u001b[1;33m)\u001b[0m\u001b[1;33m,\u001b[0m \u001b[0mcallbacks\u001b[0m \u001b[1;33m=\u001b[0m \u001b[1;33m[\u001b[0m\u001b[0mkeras\u001b[0m\u001b[1;33m.\u001b[0m\u001b[0mcallbacks\u001b[0m\u001b[1;33m.\u001b[0m\u001b[0mEarlyStopping\u001b[0m\u001b[1;33m(\u001b[0m\u001b[0mpatience\u001b[0m \u001b[1;33m=\u001b[0m \u001b[1;36m10\u001b[0m\u001b[1;33m)\u001b[0m\u001b[1;33m]\u001b[0m\u001b[1;33m)\u001b[0m\u001b[1;33m\u001b[0m\u001b[1;33m\u001b[0m\u001b[0m\n\u001b[0m",
      "\u001b[1;32m~\\AppData\\Local\\Programs\\Python\\Python38\\lib\\site-packages\\sklearn\\utils\\validation.py\u001b[0m in \u001b[0;36minner_f\u001b[1;34m(*args, **kwargs)\u001b[0m\n\u001b[0;32m     61\u001b[0m             \u001b[0mextra_args\u001b[0m \u001b[1;33m=\u001b[0m \u001b[0mlen\u001b[0m\u001b[1;33m(\u001b[0m\u001b[0margs\u001b[0m\u001b[1;33m)\u001b[0m \u001b[1;33m-\u001b[0m \u001b[0mlen\u001b[0m\u001b[1;33m(\u001b[0m\u001b[0mall_args\u001b[0m\u001b[1;33m)\u001b[0m\u001b[1;33m\u001b[0m\u001b[1;33m\u001b[0m\u001b[0m\n\u001b[0;32m     62\u001b[0m             \u001b[1;32mif\u001b[0m \u001b[0mextra_args\u001b[0m \u001b[1;33m<=\u001b[0m \u001b[1;36m0\u001b[0m\u001b[1;33m:\u001b[0m\u001b[1;33m\u001b[0m\u001b[1;33m\u001b[0m\u001b[0m\n\u001b[1;32m---> 63\u001b[1;33m                 \u001b[1;32mreturn\u001b[0m \u001b[0mf\u001b[0m\u001b[1;33m(\u001b[0m\u001b[1;33m*\u001b[0m\u001b[0margs\u001b[0m\u001b[1;33m,\u001b[0m \u001b[1;33m**\u001b[0m\u001b[0mkwargs\u001b[0m\u001b[1;33m)\u001b[0m\u001b[1;33m\u001b[0m\u001b[1;33m\u001b[0m\u001b[0m\n\u001b[0m\u001b[0;32m     64\u001b[0m \u001b[1;33m\u001b[0m\u001b[0m\n\u001b[0;32m     65\u001b[0m             \u001b[1;31m# extra_args > 0\u001b[0m\u001b[1;33m\u001b[0m\u001b[1;33m\u001b[0m\u001b[1;33m\u001b[0m\u001b[0m\n",
      "\u001b[1;32m~\\AppData\\Local\\Programs\\Python\\Python38\\lib\\site-packages\\sklearn\\model_selection\\_search.py\u001b[0m in \u001b[0;36mfit\u001b[1;34m(self, X, y, groups, **fit_params)\u001b[0m\n\u001b[0;32m    874\u001b[0m             \u001b[1;31m# we clone again after setting params in case some\u001b[0m\u001b[1;33m\u001b[0m\u001b[1;33m\u001b[0m\u001b[1;33m\u001b[0m\u001b[0m\n\u001b[0;32m    875\u001b[0m             \u001b[1;31m# of the params are estimators as well.\u001b[0m\u001b[1;33m\u001b[0m\u001b[1;33m\u001b[0m\u001b[1;33m\u001b[0m\u001b[0m\n\u001b[1;32m--> 876\u001b[1;33m             self.best_estimator_ = clone(clone(base_estimator).set_params(\n\u001b[0m\u001b[0;32m    877\u001b[0m                 **self.best_params_))\n\u001b[0;32m    878\u001b[0m             \u001b[0mrefit_start_time\u001b[0m \u001b[1;33m=\u001b[0m \u001b[0mtime\u001b[0m\u001b[1;33m.\u001b[0m\u001b[0mtime\u001b[0m\u001b[1;33m(\u001b[0m\u001b[1;33m)\u001b[0m\u001b[1;33m\u001b[0m\u001b[1;33m\u001b[0m\u001b[0m\n",
      "\u001b[1;32m~\\AppData\\Local\\Programs\\Python\\Python38\\lib\\site-packages\\sklearn\\utils\\validation.py\u001b[0m in \u001b[0;36minner_f\u001b[1;34m(*args, **kwargs)\u001b[0m\n\u001b[0;32m     61\u001b[0m             \u001b[0mextra_args\u001b[0m \u001b[1;33m=\u001b[0m \u001b[0mlen\u001b[0m\u001b[1;33m(\u001b[0m\u001b[0margs\u001b[0m\u001b[1;33m)\u001b[0m \u001b[1;33m-\u001b[0m \u001b[0mlen\u001b[0m\u001b[1;33m(\u001b[0m\u001b[0mall_args\u001b[0m\u001b[1;33m)\u001b[0m\u001b[1;33m\u001b[0m\u001b[1;33m\u001b[0m\u001b[0m\n\u001b[0;32m     62\u001b[0m             \u001b[1;32mif\u001b[0m \u001b[0mextra_args\u001b[0m \u001b[1;33m<=\u001b[0m \u001b[1;36m0\u001b[0m\u001b[1;33m:\u001b[0m\u001b[1;33m\u001b[0m\u001b[1;33m\u001b[0m\u001b[0m\n\u001b[1;32m---> 63\u001b[1;33m                 \u001b[1;32mreturn\u001b[0m \u001b[0mf\u001b[0m\u001b[1;33m(\u001b[0m\u001b[1;33m*\u001b[0m\u001b[0margs\u001b[0m\u001b[1;33m,\u001b[0m \u001b[1;33m**\u001b[0m\u001b[0mkwargs\u001b[0m\u001b[1;33m)\u001b[0m\u001b[1;33m\u001b[0m\u001b[1;33m\u001b[0m\u001b[0m\n\u001b[0m\u001b[0;32m     64\u001b[0m \u001b[1;33m\u001b[0m\u001b[0m\n\u001b[0;32m     65\u001b[0m             \u001b[1;31m# extra_args > 0\u001b[0m\u001b[1;33m\u001b[0m\u001b[1;33m\u001b[0m\u001b[1;33m\u001b[0m\u001b[0m\n",
      "\u001b[1;32m~\\AppData\\Local\\Programs\\Python\\Python38\\lib\\site-packages\\sklearn\\base.py\u001b[0m in \u001b[0;36mclone\u001b[1;34m(estimator, safe)\u001b[0m\n\u001b[0;32m     83\u001b[0m         \u001b[0mparam2\u001b[0m \u001b[1;33m=\u001b[0m \u001b[0mparams_set\u001b[0m\u001b[1;33m[\u001b[0m\u001b[0mname\u001b[0m\u001b[1;33m]\u001b[0m\u001b[1;33m\u001b[0m\u001b[1;33m\u001b[0m\u001b[0m\n\u001b[0;32m     84\u001b[0m         \u001b[1;32mif\u001b[0m \u001b[0mparam1\u001b[0m \u001b[1;32mis\u001b[0m \u001b[1;32mnot\u001b[0m \u001b[0mparam2\u001b[0m\u001b[1;33m:\u001b[0m\u001b[1;33m\u001b[0m\u001b[1;33m\u001b[0m\u001b[0m\n\u001b[1;32m---> 85\u001b[1;33m             raise RuntimeError('Cannot clone object %s, as the constructor '\n\u001b[0m\u001b[0;32m     86\u001b[0m                                \u001b[1;34m'either does not set or modifies parameter %s'\u001b[0m \u001b[1;33m%\u001b[0m\u001b[1;33m\u001b[0m\u001b[1;33m\u001b[0m\u001b[0m\n\u001b[0;32m     87\u001b[0m                                (estimator, name))\n",
      "\u001b[1;31mRuntimeError\u001b[0m: Cannot clone object <tensorflow.python.keras.wrappers.scikit_learn.KerasClassifier object at 0x0000023B8CB53880>, as the constructor either does not set or modifies parameter n_neurons"
     ]
    }
   ],
   "source": [
    "from sklearn.model_selection import GridSearchCV\n",
    "params = {\n",
    "    \"n_hidden\":[2,3,4],\n",
    "    \"n_neurons\":[[300,100],[400,300,100],[400,300,200,100]],\n",
    "    \"learning_rate\":[3e-3,1e-2,3e-2]\n",
    "}\n",
    "\n",
    "grid_search_cv = GridSearchCV(keras_reg_mnist, param_grid = params,cv = 5, scoring = weighted_precision_scorer)\n",
    "\n",
    "grid_search_cv.fit(X_train, y_train, epochs = 10, validation_data=(X_valid, y_valid), callbacks = [keras.callbacks.EarlyStopping(patience = 10)])"
   ]
  },
  {
   "cell_type": "code",
   "execution_count": 59,
   "metadata": {},
   "outputs": [
    {
     "output_type": "execute_result",
     "data": {
      "text/plain": [
       "{'learning_rate': 0.03, 'n_hidden': 3, 'n_neurons': [400, 300, 100]}"
      ]
     },
     "metadata": {},
     "execution_count": 59
    }
   ],
   "source": [
    "grid_search_cv.best_params_"
   ]
  },
  {
   "cell_type": "code",
   "execution_count": 60,
   "metadata": {},
   "outputs": [
    {
     "output_type": "execute_result",
     "data": {
      "text/plain": [
       "0.9820149463100843"
      ]
     },
     "metadata": {},
     "execution_count": 60
    }
   ],
   "source": [
    "grid_search_cv.best_score_"
   ]
  },
  {
   "cell_type": "code",
   "execution_count": 77,
   "metadata": {},
   "outputs": [],
   "source": [
    "model_grid_search = keras.models.Sequential()\n",
    "model_grid_search.add(keras.layers.Input(shape = [784]))\n",
    "model_grid_search.add(keras.layers.Dense(400, activation = \"relu\"))\n",
    "model_grid_search.add(keras.layers.Dense(300, activation = \"relu\"))\n",
    "model_grid_search.add(keras.layers.Dense(100, activation = \"relu\"))\n",
    "model_grid_search.add(keras.layers.Dense(10, activation = \"softmax\"))"
   ]
  },
  {
   "cell_type": "code",
   "execution_count": 78,
   "metadata": {},
   "outputs": [
    {
     "output_type": "stream",
     "name": "stdout",
     "text": [
      "Epoch 1/30\n",
      "1400/1400 [==============================] - 6s 4ms/step - loss: 0.4873 - accuracy: 0.8654 - val_loss: 0.1661 - val_accuracy: 0.9526\n",
      "Epoch 2/30\n",
      "1400/1400 [==============================] - 5s 3ms/step - loss: 0.1087 - accuracy: 0.9681 - val_loss: 0.1308 - val_accuracy: 0.9626\n",
      "Epoch 3/30\n",
      "1400/1400 [==============================] - 5s 3ms/step - loss: 0.0598 - accuracy: 0.9824 - val_loss: 0.1165 - val_accuracy: 0.9675\n",
      "Epoch 4/30\n",
      "1400/1400 [==============================] - 5s 3ms/step - loss: 0.0378 - accuracy: 0.9904 - val_loss: 0.1090 - val_accuracy: 0.9707\n",
      "Epoch 5/30\n",
      "1400/1400 [==============================] - 5s 3ms/step - loss: 0.0223 - accuracy: 0.9941 - val_loss: 0.1124 - val_accuracy: 0.9713\n",
      "Epoch 6/30\n",
      "1400/1400 [==============================] - 5s 4ms/step - loss: 0.0113 - accuracy: 0.9979 - val_loss: 0.1156 - val_accuracy: 0.9730\n",
      "Epoch 7/30\n",
      "1400/1400 [==============================] - 5s 4ms/step - loss: 0.0089 - accuracy: 0.9983 - val_loss: 0.1212 - val_accuracy: 0.9719\n",
      "Epoch 8/30\n",
      "1400/1400 [==============================] - 5s 4ms/step - loss: 0.0049 - accuracy: 0.9993 - val_loss: 0.1210 - val_accuracy: 0.9737\n",
      "Epoch 9/30\n",
      "1400/1400 [==============================] - 5s 3ms/step - loss: 0.0027 - accuracy: 0.9996 - val_loss: 0.1222 - val_accuracy: 0.9741\n",
      "Epoch 10/30\n",
      "1400/1400 [==============================] - 5s 3ms/step - loss: 0.0022 - accuracy: 0.9999 - val_loss: 0.1262 - val_accuracy: 0.9741\n",
      "Epoch 11/30\n",
      "1400/1400 [==============================] - 5s 3ms/step - loss: 0.0013 - accuracy: 0.9999 - val_loss: 0.1307 - val_accuracy: 0.9738\n",
      "Epoch 12/30\n",
      "1400/1400 [==============================] - 5s 3ms/step - loss: 0.0024 - accuracy: 0.9998 - val_loss: 0.1312 - val_accuracy: 0.9743\n",
      "Epoch 13/30\n",
      "1400/1400 [==============================] - 5s 4ms/step - loss: 8.5610e-04 - accuracy: 1.0000 - val_loss: 0.1332 - val_accuracy: 0.9741\n",
      "Epoch 14/30\n",
      "1400/1400 [==============================] - 5s 3ms/step - loss: 9.3071e-04 - accuracy: 0.9998 - val_loss: 0.1347 - val_accuracy: 0.9745\n"
     ]
    }
   ],
   "source": [
    "lr = keras.optimizers.SGD(0.05)\n",
    "model_grid_search.compile(optimizer=lr, loss = \"sparse_categorical_crossentropy\", metrics=['accuracy'])\n",
    "history_grid_search = model_grid_search.fit(X_train, y_train, epochs = 30, validation_data=(X_valid, y_valid), callbacks=[keras.callbacks.EarlyStopping(patience = 10)])"
   ]
  },
  {
   "cell_type": "code",
   "execution_count": 79,
   "metadata": {},
   "outputs": [],
   "source": [
    "y_pred_valid_grid_search = model_grid_search.predict(X_valid)\n",
    "result_valid_grid_search = np.array(tf.argmax(y_pred_valid_grid_search, axis = 1))"
   ]
  },
  {
   "cell_type": "code",
   "execution_count": 80,
   "metadata": {},
   "outputs": [
    {
     "output_type": "execute_result",
     "data": {
      "text/plain": [
       "0.9655139046359286"
      ]
     },
     "metadata": {},
     "execution_count": 80
    }
   ],
   "source": [
    "#precision on validation set\n",
    "calculate_weightedprecision_score(y_valid, result_valid_grid_search)"
   ]
  },
  {
   "cell_type": "code",
   "execution_count": 81,
   "metadata": {},
   "outputs": [
    {
     "output_type": "stream",
     "name": "stdout",
     "text": [
      "350/350 [==============================] - 0s 1ms/step - loss: 0.1347 - accuracy: 0.9745\n"
     ]
    },
    {
     "output_type": "execute_result",
     "data": {
      "text/plain": [
       "[0.13473497331142426, 0.9744642972946167]"
      ]
     },
     "metadata": {},
     "execution_count": 81
    }
   ],
   "source": [
    "model_grid_search.evaluate(X_valid,y_valid)"
   ]
  },
  {
   "cell_type": "code",
   "execution_count": null,
   "metadata": {},
   "outputs": [],
   "source": []
  }
 ]
}