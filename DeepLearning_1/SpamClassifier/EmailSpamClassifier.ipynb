{
 "metadata": {
  "language_info": {
   "codemirror_mode": {
    "name": "ipython",
    "version": 3
   },
   "file_extension": ".py",
   "mimetype": "text/x-python",
   "name": "python",
   "nbconvert_exporter": "python",
   "pygments_lexer": "ipython3",
   "version": "3.8.8"
  },
  "orig_nbformat": 2,
  "kernelspec": {
   "name": "python388jvsc74a57bd0965ba1120b0c101b3f715b6e258a73742ec1cf86f2c8b04492724c87d9f112c3",
   "display_name": "Python 3.8.8 64-bit"
  },
  "metadata": {
   "interpreter": {
    "hash": "965ba1120b0c101b3f715b6e258a73742ec1cf86f2c8b04492724c87d9f112c3"
   }
  }
 },
 "nbformat": 4,
 "nbformat_minor": 2,
 "cells": [
  {
   "source": [
    "<h1> Email Classifier </h1> "
   ],
   "cell_type": "markdown",
   "metadata": {}
  },
  {
   "cell_type": "code",
   "execution_count": 1,
   "metadata": {},
   "outputs": [],
   "source": [
    "import os\n",
    "import matplotlib.pyplot as plt\n",
    "import seaborn as sns\n",
    "import pandas as pd"
   ]
  },
  {
   "cell_type": "code",
   "execution_count": 2,
   "metadata": {},
   "outputs": [],
   "source": [
    "#the spam and valid emails are stored in 2 folders called \"easy_ham\" and \"spam\"\n",
    "#we want to read all the files in these 2 folders and pu the filenames into a list of spam and not spam\n",
    "ham_filenames = [filename for filename in sorted(os.listdir(os.path.join(os.getcwd(),\"easy_ham\"))) if len(filename) > 20]\n",
    "spam_filenames = [filename for filename in sorted(os.listdir(os.path.join(os.getcwd(),\"spam\"))) if len(filename) > 20]"
   ]
  },
  {
   "cell_type": "code",
   "execution_count": 3,
   "metadata": {},
   "outputs": [
    {
     "output_type": "execute_result",
     "data": {
      "text/plain": [
       "2551"
      ]
     },
     "metadata": {},
     "execution_count": 3
    }
   ],
   "source": [
    "len(ham_filenames)"
   ]
  },
  {
   "cell_type": "code",
   "execution_count": 4,
   "metadata": {},
   "outputs": [
    {
     "output_type": "execute_result",
     "data": {
      "text/plain": [
       "500"
      ]
     },
     "metadata": {},
     "execution_count": 4
    }
   ],
   "source": [
    "len(spam_filenames)"
   ]
  },
  {
   "source": [
    "To parse emails we will use the email library of Python:\n",
    "\n",
    "How the email library works for parsing:\n",
    "\n",
    "The parser takes a serialized version of the email message(a stream of bytes) and converts it to a tree of EmailMessage objects.  The generator takes an EmailMessage and turns it back into a serialized byte stream.\n",
    "\n",
    "There are 2 parser interfaces available, the Parser API and FeedParser API. The Parser API is most useful when you have the entire text of the message in memory or if the entire message lives in a file on the file system. FeedParser API is useful when you are reading the message from a stream which might block your waiting(reading from a url itself)"
   ],
   "cell_type": "markdown",
   "metadata": {}
  },
  {
   "cell_type": "code",
   "execution_count": 5,
   "metadata": {},
   "outputs": [],
   "source": [
    "#collecting all the parsed ham messages\n",
    "ham_path = os.path.join(os.getcwd(),\"easy_ham\")\n",
    "spam_path = os.path.join(os.getcwd(),\"spam\")"
   ]
  },
  {
   "cell_type": "code",
   "execution_count": 6,
   "metadata": {},
   "outputs": [],
   "source": [
    "import email\n",
    "from email import policy\n"
   ]
  },
  {
   "cell_type": "code",
   "execution_count": 7,
   "metadata": {},
   "outputs": [],
   "source": [
    "ham_messages = list()\n",
    "for filename in ham_filenames:\n",
    "    with open(os.path.join(ham_path,filename),'rb') as f:\n",
    "        ham_messages.append(email.parser.BytesParser(policy = email.policy.default).parse(f))\n"
   ]
  },
  {
   "cell_type": "code",
   "execution_count": 8,
   "metadata": {},
   "outputs": [],
   "source": [
    "spam_messages = list()\n",
    "for filename in spam_filenames:\n",
    "    with open(os.path.join(spam_path,filename),'rb') as f:\n",
    "        spam_messages.append(email.parser.BytesParser(policy = email.policy.default).parse(f))"
   ]
  },
  {
   "cell_type": "code",
   "execution_count": 9,
   "metadata": {},
   "outputs": [
    {
     "output_type": "stream",
     "name": "stdout",
     "text": [
      "Date:        Wed, 21 Aug 2002 10:54:46 -0500\n    From:        Chris Garrigues <cwg-dated-1030377287.06fa6d@DeepEddy.Com>\n    Message-ID:  <1029945287.4797.TMDA@deepeddy.vircio.com>\n\n\n  | I can't reproduce this error.\n\nFor me it is very repeatable... (like every time, without fail).\n\nThis is the debug log of the pick happening ...\n\n18:19:03 Pick_It {exec pick +inbox -list -lbrace -lbrace -subject ftp -rbrace -rbrace} {4852-4852 -sequence mercury}\n18:19:03 exec pick +inbox -list -lbrace -lbrace -subject ftp -rbrace -rbrace 4852-4852 -sequence mercury\n18:19:04 Ftoc_PickMsgs {{1 hit}}\n18:19:04 Marking 1 hits\n18:19:04 tkerror: syntax error in expression \"int ...\n\nNote, if I run the pick command by hand ...\n\ndelta$ pick +inbox -list -lbrace -lbrace -subject ftp -rbrace -rbrace  4852-4852 -sequence mercury\n1 hit\n\nThat's where the \"1 hit\" comes from (obviously).  The version of nmh I'm\nusing is ...\n\ndelta$ pick -version\npick -- nmh-1.0.4 [compiled on fuchsia.cs.mu.OZ.AU at Sun Mar 17 14:55:56 ICT 2002]\n\nAnd the relevant part of my .mh_profile ...\n\ndelta$ mhparam pick\n-seq sel -list\n\n\nSince the pick command works, the sequence (actually, both of them, the\none that's explicit on the command line, from the search popup, and the\none that comes from .mh_profile) do get created.\n\nkre\n\nps: this is still using the version of the code form a day ago, I haven't\nbeen able to reach the cvs repository today (local routing issue I think).\n\n\n\n_______________________________________________\nExmh-workers mailing list\nExmh-workers@redhat.com\nhttps://listman.redhat.com/mailman/listinfo/exmh-workers\n"
     ]
    }
   ],
   "source": [
    "print(ham_messages[0].get_content().strip())"
   ]
  },
  {
   "source": [
    "Emails can have different parts to it, with images, attachments. And these attachments can have emails in them. "
   ],
   "cell_type": "markdown",
   "metadata": {}
  },
  {
   "cell_type": "code",
   "execution_count": 10,
   "metadata": {},
   "outputs": [],
   "source": [
    "def get_email_structure(email):\n",
    "    if isinstance(email,str):\n",
    "        return email\n",
    "    #get_payload() returns a list if the email is multipart and .is_multipart() = True\n",
    "    payload = email.get_payload()\n",
    "    if isinstance(payload,list):\n",
    "        result = \"multipart({})\".format(', '.join([get_email_structure(sub_email) for sub_email in payload]))\n",
    "        return result\n",
    "    else:\n",
    "        return email.get_content_type()"
   ]
  },
  {
   "cell_type": "code",
   "execution_count": 11,
   "metadata": {},
   "outputs": [],
   "source": [
    "from collections import Counter\n",
    "\n",
    "def structures_counter(emails):\n",
    "    structures = Counter()\n",
    "    for email in emails:\n",
    "        structure = get_email_structure(email)\n",
    "        structures[structure] += 1\n",
    "    return structures"
   ]
  },
  {
   "cell_type": "code",
   "execution_count": 12,
   "metadata": {},
   "outputs": [],
   "source": [
    "structure_counts_ham = structures_counter(ham_messages)\n",
    "structure_counts_spam = structures_counter(spam_messages)"
   ]
  },
  {
   "cell_type": "code",
   "execution_count": 13,
   "metadata": {},
   "outputs": [
    {
     "output_type": "execute_result",
     "data": {
      "text/plain": [
       "[('text/plain', 2453),\n",
       " ('multipart(text/plain, application/pgp-signature)', 72),\n",
       " ('multipart(text/plain, text/html)', 8),\n",
       " ('multipart(text/plain, text/plain)', 4),\n",
       " ('multipart(text/plain)', 3),\n",
       " ('multipart(text/plain, application/octet-stream)', 2),\n",
       " ('multipart(text/plain, text/enriched)', 1),\n",
       " ('multipart(text/plain, application/ms-tnef, text/plain)', 1),\n",
       " ('multipart(multipart(text/plain, text/plain, text/plain), application/pgp-signature)',\n",
       "  1),\n",
       " ('multipart(text/plain, video/mng)', 1),\n",
       " ('multipart(text/plain, multipart(text/plain))', 1),\n",
       " ('multipart(text/plain, application/x-pkcs7-signature)', 1),\n",
       " ('multipart(text/plain, multipart(text/plain, text/plain), text/rfc822-headers)',\n",
       "  1),\n",
       " ('multipart(text/plain, multipart(text/plain, text/plain), multipart(multipart(text/plain, application/x-pkcs7-signature)))',\n",
       "  1),\n",
       " ('multipart(text/plain, application/x-java-applet)', 1)]"
      ]
     },
     "metadata": {},
     "execution_count": 13
    }
   ],
   "source": [
    "structure_counts_ham.most_common()"
   ]
  },
  {
   "cell_type": "code",
   "execution_count": 14,
   "metadata": {},
   "outputs": [
    {
     "output_type": "execute_result",
     "data": {
      "text/plain": [
       "[('text/plain', 221),\n",
       " ('text/html', 181),\n",
       " ('multipart(text/plain, text/html)', 45),\n",
       " ('multipart(text/html)', 19),\n",
       " ('multipart(text/plain)', 19),\n",
       " ('multipart(multipart(text/html))', 5),\n",
       " ('multipart(text/plain, image/jpeg)', 3),\n",
       " ('multipart(text/html, application/octet-stream)', 2),\n",
       " ('multipart(text/plain, application/octet-stream)', 1),\n",
       " ('multipart(text/html, text/plain)', 1),\n",
       " ('multipart(multipart(text/html), application/octet-stream, image/jpeg)', 1),\n",
       " ('multipart(multipart(text/plain, text/html), image/gif)', 1),\n",
       " ('multipart/alternative', 1)]"
      ]
     },
     "metadata": {},
     "execution_count": 14
    }
   ],
   "source": [
    "structure_counts_spam.most_common()"
   ]
  },
  {
   "cell_type": "code",
   "execution_count": 15,
   "metadata": {},
   "outputs": [],
   "source": [
    "type_list = list()\n",
    "temp = [[type_list.append(i) for i in structures] for structures in [structure_counts_ham, structure_counts_spam]]\n",
    "ham_type_counts = [structure_counts_ham[i] for i in set(type_list)]\n",
    "spam_type_counts = [structure_counts_spam[i] for i in set(type_list)]"
   ]
  },
  {
   "cell_type": "code",
   "execution_count": 16,
   "metadata": {},
   "outputs": [
    {
     "output_type": "execute_result",
     "data": {
      "text/plain": [
       "                                           Email Type  Ham Count  Spam Count\n",
       "0    multipart(text/plain, application/x-java-applet)          1           0\n",
       "1        multipart(text/plain, multipart(text/plain))          1           0\n",
       "2                                           text/html          0         181\n",
       "3     multipart(text/plain, application/octet-stream)          2           1\n",
       "4                                          text/plain       2453         221\n",
       "5    multipart(text/plain, application/pgp-signature)         72           0\n",
       "6   multipart(multipart(text/plain, text/html), im...          0           1\n",
       "7                   multipart(text/plain, text/plain)          4           0\n",
       "8                multipart(text/plain, text/enriched)          1           0\n",
       "9                     multipart(multipart(text/html))          0           5\n",
       "10  multipart(text/plain, application/x-pkcs7-sign...          1           0\n",
       "11                   multipart(text/plain, video/mng)          1           0\n",
       "12  multipart(text/plain, application/ms-tnef, tex...          1           0\n",
       "13  multipart(multipart(text/html), application/oc...          0           1\n",
       "14                   multipart(text/plain, text/html)          8          45\n",
       "15                               multipart(text/html)          0          19\n",
       "16                              multipart/alternative          0           1\n",
       "17  multipart(text/plain, multipart(text/plain, te...          1           0\n",
       "18  multipart(text/plain, multipart(text/plain, te...          1           0\n",
       "19                              multipart(text/plain)          3          19\n",
       "20  multipart(multipart(text/plain, text/plain, te...          1           0\n",
       "21                   multipart(text/html, text/plain)          0           1\n",
       "22     multipart(text/html, application/octet-stream)          0           2\n",
       "23                  multipart(text/plain, image/jpeg)          0           3"
      ],
      "text/html": "<div>\n<style scoped>\n    .dataframe tbody tr th:only-of-type {\n        vertical-align: middle;\n    }\n\n    .dataframe tbody tr th {\n        vertical-align: top;\n    }\n\n    .dataframe thead th {\n        text-align: right;\n    }\n</style>\n<table border=\"1\" class=\"dataframe\">\n  <thead>\n    <tr style=\"text-align: right;\">\n      <th></th>\n      <th>Email Type</th>\n      <th>Ham Count</th>\n      <th>Spam Count</th>\n    </tr>\n  </thead>\n  <tbody>\n    <tr>\n      <th>0</th>\n      <td>multipart(text/plain, application/x-java-applet)</td>\n      <td>1</td>\n      <td>0</td>\n    </tr>\n    <tr>\n      <th>1</th>\n      <td>multipart(text/plain, multipart(text/plain))</td>\n      <td>1</td>\n      <td>0</td>\n    </tr>\n    <tr>\n      <th>2</th>\n      <td>text/html</td>\n      <td>0</td>\n      <td>181</td>\n    </tr>\n    <tr>\n      <th>3</th>\n      <td>multipart(text/plain, application/octet-stream)</td>\n      <td>2</td>\n      <td>1</td>\n    </tr>\n    <tr>\n      <th>4</th>\n      <td>text/plain</td>\n      <td>2453</td>\n      <td>221</td>\n    </tr>\n    <tr>\n      <th>5</th>\n      <td>multipart(text/plain, application/pgp-signature)</td>\n      <td>72</td>\n      <td>0</td>\n    </tr>\n    <tr>\n      <th>6</th>\n      <td>multipart(multipart(text/plain, text/html), im...</td>\n      <td>0</td>\n      <td>1</td>\n    </tr>\n    <tr>\n      <th>7</th>\n      <td>multipart(text/plain, text/plain)</td>\n      <td>4</td>\n      <td>0</td>\n    </tr>\n    <tr>\n      <th>8</th>\n      <td>multipart(text/plain, text/enriched)</td>\n      <td>1</td>\n      <td>0</td>\n    </tr>\n    <tr>\n      <th>9</th>\n      <td>multipart(multipart(text/html))</td>\n      <td>0</td>\n      <td>5</td>\n    </tr>\n    <tr>\n      <th>10</th>\n      <td>multipart(text/plain, application/x-pkcs7-sign...</td>\n      <td>1</td>\n      <td>0</td>\n    </tr>\n    <tr>\n      <th>11</th>\n      <td>multipart(text/plain, video/mng)</td>\n      <td>1</td>\n      <td>0</td>\n    </tr>\n    <tr>\n      <th>12</th>\n      <td>multipart(text/plain, application/ms-tnef, tex...</td>\n      <td>1</td>\n      <td>0</td>\n    </tr>\n    <tr>\n      <th>13</th>\n      <td>multipart(multipart(text/html), application/oc...</td>\n      <td>0</td>\n      <td>1</td>\n    </tr>\n    <tr>\n      <th>14</th>\n      <td>multipart(text/plain, text/html)</td>\n      <td>8</td>\n      <td>45</td>\n    </tr>\n    <tr>\n      <th>15</th>\n      <td>multipart(text/html)</td>\n      <td>0</td>\n      <td>19</td>\n    </tr>\n    <tr>\n      <th>16</th>\n      <td>multipart/alternative</td>\n      <td>0</td>\n      <td>1</td>\n    </tr>\n    <tr>\n      <th>17</th>\n      <td>multipart(text/plain, multipart(text/plain, te...</td>\n      <td>1</td>\n      <td>0</td>\n    </tr>\n    <tr>\n      <th>18</th>\n      <td>multipart(text/plain, multipart(text/plain, te...</td>\n      <td>1</td>\n      <td>0</td>\n    </tr>\n    <tr>\n      <th>19</th>\n      <td>multipart(text/plain)</td>\n      <td>3</td>\n      <td>19</td>\n    </tr>\n    <tr>\n      <th>20</th>\n      <td>multipart(multipart(text/plain, text/plain, te...</td>\n      <td>1</td>\n      <td>0</td>\n    </tr>\n    <tr>\n      <th>21</th>\n      <td>multipart(text/html, text/plain)</td>\n      <td>0</td>\n      <td>1</td>\n    </tr>\n    <tr>\n      <th>22</th>\n      <td>multipart(text/html, application/octet-stream)</td>\n      <td>0</td>\n      <td>2</td>\n    </tr>\n    <tr>\n      <th>23</th>\n      <td>multipart(text/plain, image/jpeg)</td>\n      <td>0</td>\n      <td>3</td>\n    </tr>\n  </tbody>\n</table>\n</div>"
     },
     "metadata": {},
     "execution_count": 16
    }
   ],
   "source": [
    "type_counts_df = pd.DataFrame({'Email Type':list(set(type_list)), 'Ham Count':ham_type_counts, 'Spam Count':spam_type_counts})\n",
    "type_counts_df"
   ]
  },
  {
   "source": [
    "Most valid(ham) emails are text/plain and contain a PGP(Pretty Good Privacy) signature, while Spam emails have a higher amount of HTML messages. "
   ],
   "cell_type": "markdown",
   "metadata": {}
  },
  {
   "cell_type": "code",
   "execution_count": 17,
   "metadata": {},
   "outputs": [],
   "source": [
    "#create a list of type of each email \n",
    "ham_email_type = [get_email_structure(email) for email in ham_messages]\n",
    "spam_email_type = [get_email_structure(email) for email in spam_messages]"
   ]
  },
  {
   "cell_type": "code",
   "execution_count": 18,
   "metadata": {},
   "outputs": [],
   "source": [
    "def FindEmailSender(email):\n",
    "    try:\n",
    "        return dict(email.items())['From']\n",
    "    except:\n",
    "        return \"N/A\""
   ]
  },
  {
   "cell_type": "code",
   "execution_count": 19,
   "metadata": {},
   "outputs": [],
   "source": [
    "#creating list of senders of each email\n",
    "ham_email_senders = [FindEmailSender(email) for email in ham_messages]\n",
    "spam_email_senders = [FindEmailSender(email) for email in spam_messages]"
   ]
  },
  {
   "cell_type": "code",
   "execution_count": 20,
   "metadata": {},
   "outputs": [],
   "source": [
    "#combining the dataset to create a complete dataset for splitting into train and test sets\n",
    "import numpy as np\n",
    "X = np.array(ham_messages + spam_messages, dtype = object)\n",
    "y = np.array([0] * len(ham_messages) + [1]*len(spam_messages))"
   ]
  },
  {
   "cell_type": "code",
   "execution_count": 21,
   "metadata": {},
   "outputs": [],
   "source": [
    "from sklearn.model_selection import train_test_split\n",
    "\n",
    "X_train,X_test,y_train,y_test = train_test_split(X,y,random_state=42, test_size=0.2)"
   ]
  },
  {
   "cell_type": "code",
   "execution_count": 22,
   "metadata": {},
   "outputs": [],
   "source": [
    "#turning html in emails into tags we want\n",
    "#turn head tags into ''\n",
    "#turn anchor tags into hyper links\n",
    "#turn all html tags into ''\n",
    "import re\n",
    "from html import unescape\n",
    "def html_to_text(html):\n",
    "    text = re.sub(r'<head.*?>.*?</head>','',html,flags = re.I|re.M|re.S)\n",
    "    text = re.sub(r'<a.*?>.*?</a>',' HYPERLINK ',text,flags = re.I|re.M|re.S)\n",
    "    text = re.sub(r'<.*?>','',text,flags=re.M|re.I|re.S)\n",
    "    text = re.sub(r'(\\s*\\n)+','\\n',text,flags = re.M|re.I|re.S)\n",
    "    return unescape(text)"
   ]
  },
  {
   "cell_type": "code",
   "execution_count": 23,
   "metadata": {},
   "outputs": [],
   "source": [
    "idx_html = [i for i in range(len(X_train)) if get_email_structure(X_train[i]) == 'text/html']"
   ]
  },
  {
   "cell_type": "code",
   "execution_count": 24,
   "metadata": {},
   "outputs": [
    {
     "output_type": "execute_result",
     "data": {
      "text/plain": [
       "'\\n HYPERLINK\\nCopyright 2002 - All rights reservedIf you would no longer like us\\nto contact you or feel that you havereceived this email in error,\\nplease  HYPERLINK .'"
      ]
     },
     "metadata": {},
     "execution_count": 24
    }
   ],
   "source": [
    "html_to_text(X_train[idx_html[5]].get_content().strip())"
   ]
  },
  {
   "cell_type": "code",
   "execution_count": 25,
   "metadata": {},
   "outputs": [
    {
     "output_type": "execute_result",
     "data": {
      "text/plain": [
       "[41, 805, 942, 1131, 1219, 2033, 2134, 2266]"
      ]
     },
     "metadata": {},
     "execution_count": 25
    }
   ],
   "source": [
    "#check if any EmailMessage objects have more tha one text/html type occuring\n",
    "html_check = list()\n",
    "for j in range(len(X_train)):\n",
    "    i = 0\n",
    "    for part in X_train[j].walk():\n",
    "        if part.get_content_type() == 'text/plain':\n",
    "            i += 1\n",
    "        if i == 2:\n",
    "            html_check.append(j)\n",
    "    \n",
    "html_check"
   ]
  },
  {
   "cell_type": "code",
   "execution_count": 26,
   "metadata": {},
   "outputs": [],
   "source": [
    "def email_to_text(email):\n",
    "    html = None\n",
    "    for sub_email in email.walk():\n",
    "        content_type = sub_email.get_content_type()\n",
    "        if content_type not in ('text/html','text/plain'):\n",
    "            continue\n",
    "        try:\n",
    "            content = sub_email.get_content()\n",
    "        except:\n",
    "            content = str(sub_email.get_payload())\n",
    "        if content_type == 'text/plain':\n",
    "            return content\n",
    "        else:\n",
    "            html = content\n",
    "    if html:\n",
    "        return html_to_text(html)"
   ]
  },
  {
   "cell_type": "code",
   "execution_count": 27,
   "metadata": {},
   "outputs": [],
   "source": [
    "def email_to_text_multipart(email,f,i):\n",
    "    html = None\n",
    "    #the first sub_email that is traversed is the main parent email itself. the following will be the children\n",
    "    for sub_email in email.walk():\n",
    "        content_type = sub_email.get_content_type()\n",
    "        f.write('{},{}\\n'.format(i,content_type))\n",
    "        if content_type not in ('text/html','text/plain'):\n",
    "            #if the parent mail is multipart, use this route\n",
    "            content_type = email.get_content_type()\n",
    "            if re.fullmatch(r'multipart/[a-zA-Z]+',content_type) != None:\n",
    "                textlist = list()\n",
    "                for sub_email_1 in email.get_payload():\n",
    "                    try:\n",
    "                        if sub_email_1.get_content_type() == 'text/plain':\n",
    "                            textlist.append(sub_email_1.get_content())\n",
    "                        elif sub_email_1.get_content_type() == 'text/html':\n",
    "                            textlist.append(html_to_text(sub_email_1.get_content()))\n",
    "                        else:\n",
    "                            continue\n",
    "                    except:\n",
    "                        if(isinstance(sub_email_1,str)):\n",
    "                            textlist.append(sub_email_1)\n",
    "                        else:\n",
    "                            continue\n",
    "                if (len(textlist) > 0):\n",
    "                    return ' '.join(textlist)\n",
    "            else:\n",
    "                continue\n",
    "        try:\n",
    "            content = sub_email.get_content()\n",
    "        except:\n",
    "            content = str(sub_email.get_payload())\n",
    "        if content_type == 'text/plain':\n",
    "            return content\n",
    "        else:\n",
    "            f.write('{},{}\\n'.format(i,content_type))\n",
    "            html = content\n",
    "    if html:\n",
    "        try:\n",
    "            return html_to_text(html)\n",
    "        except:\n",
    "            f.write('{},{}\\n'.format(i,html))\n",
    "            f.close()\n",
    "            return TypeError"
   ]
  },
  {
   "cell_type": "code",
   "execution_count": 28,
   "metadata": {},
   "outputs": [],
   "source": [
    "def email_to_text_multipart_2(email,f,i):\n",
    "    html = None\n",
    "    email_type = email.get_content_type()\n",
    "    #j is used as a counter to count on the walk attribute\n",
    "    textlist = list()\n",
    "    j = 0\n",
    "    for sub_email in email.walk():\n",
    "        j += 1\n",
    "        sub_type = sub_email.get_content_type()\n",
    "        f.write('{},{}\\n'.format(i,sub_type))\n",
    "        if sub_type not in ('text/plain','text/html'):\n",
    "            #if the parent is not text/plain or text/html we want to continue\n",
    "            continue\n",
    "        #this is to get the content if the parent is text/html or text/plain\n",
    "        elif ((j==1) & (sub_type in ('text/plain','text/html')) & (re.fullmatch(r'multipart/[a-zA-Z]+',email_type) == None)):\n",
    "            try:\n",
    "                content = sub_email.get_content()\n",
    "            except:\n",
    "                content = str(sub_email.get_payload())\n",
    "            if (sub_type == 'text/plain'):\n",
    "                f.write('{},2nd Condition,{},{}\\n'.format(i,email_type,sub_type))\n",
    "                return content\n",
    "            else:\n",
    "                html = content\n",
    "                return html_to_text(html)\n",
    "        elif ((j!=1) & (re.fullmatch(r'multipart/[a-zA-Z]+',email_type) != None)):\n",
    "            f.write('{},MULTIPART,{}\\n'.format(i,sub_type))\n",
    "            try:\n",
    "                if sub_type == 'text/plain':\n",
    "                    f.write('{},wrote to textlist,{},{},j:{}\\n'.format(i,sub_type,len(textlist),j))\n",
    "                    textlist.append(sub_email.get_content())\n",
    "                elif sub_type == 'text/html':\n",
    "                    f.write('{},wrote to textlist,{},{},j:{}\\n'.format(i,sub_type,len(textlist),j))\n",
    "                    textlist.append(html_to_text(sub_email.get_content()))\n",
    "                elif(sub_type not in ('text/plain','text/html')):\n",
    "                    f.write('Not text/html or text/plain \\n')\n",
    "                    continue\n",
    "            except:\n",
    "                if(isinstance(sub_email,str)):\n",
    "                    f.write('{},wrote to textlist as string,{},{}\\n'.format(i,sub_type,len(textlist)))\n",
    "                    textlist.append(sub_email)\n",
    "                else:\n",
    "                    continue\n",
    "    if (len(textlist) > 0):\n",
    "        return ' '.join(textlist)\n",
    "\n",
    "\n",
    "\n",
    "\n",
    "\n",
    "\n"
   ]
  },
  {
   "cell_type": "code",
   "execution_count": 29,
   "metadata": {},
   "outputs": [],
   "source": [
    "#converts emails in the body to \"EMAIL\"\n",
    "import re\n",
    "def convert_email_tags(email_text):\n",
    "    return re.sub(r'([a-zA-Z0-9\\._-]+@[a-zA-Z0-9\\._-]+\\.[a-zA-Z0-9\\._-]+)',' EMAIL-LINK ',email_text,flags = re.I|re.S|re.M)"
   ]
  },
  {
   "cell_type": "code",
   "execution_count": 30,
   "metadata": {},
   "outputs": [],
   "source": [
    "#remove stopwords\n",
    "import nltk\n",
    "from nltk.corpus import stopwords\n",
    "from nltk.tokenize import word_tokenize\n",
    "\n",
    "def remove_stopwords(email_text):\n",
    "    stop_words = set(stopwords.words(\"english\"))\n",
    "    words = word_tokenize(email_text.strip())\n",
    "    return [i for i in words if i not in stop_words]"
   ]
  },
  {
   "cell_type": "code",
   "execution_count": 31,
   "metadata": {},
   "outputs": [],
   "source": [
    "#stem the words to get the root of words\n",
    "from nltk.stem import PorterStemmer\n",
    "\n",
    "def stemmer(email_word_list):\n",
    "    ps = PorterStemmer()\n",
    "    return [ps.stem(w) for w in email_word_list]"
   ]
  },
  {
   "cell_type": "code",
   "execution_count": 32,
   "metadata": {},
   "outputs": [],
   "source": [
    "from sklearn.base import BaseEstimator,TransformerMixin\n",
    "import urlextract\n",
    "import re\n",
    "class EmailToWord(BaseEstimator,TransformerMixin):\n",
    "    def __init__(self,lower_case = True, remove_email = True, remove_punctuation = True, remove_urls = True, stemming = True, remove_stopwords = True, remove_numbers = True):\n",
    "         self.lower_case =lower_case\n",
    "         self.remove_email = remove_email\n",
    "         self.remove_punctuation = remove_punctuation\n",
    "         self.remove_urls = remove_urls\n",
    "         self.stemming = stemming\n",
    "         self.remove_stopwords = remove_stopwords\n",
    "         self.remove_numbers = remove_numbers\n",
    "    def fit(self,X,y = None):\n",
    "        return self\n",
    "    def transform(self,X,y = None):\n",
    "        X_transformed = []\n",
    "        with open('log.txt','w') as f:\n",
    "            for i,email in enumerate(X):\n",
    "                text = email_to_text_multipart_2(email,f,i) or \"\"\n",
    "                if self.lower_case:\n",
    "                    text = text.lower()\n",
    "                if self.remove_urls:\n",
    "                    url_extractor = urlextract.URLExtract()\n",
    "                    urls = url_extractor.find_urls(text)\n",
    "                    for url in urls:\n",
    "                        text = text.replace(url,' URL ')\n",
    "                if self.remove_punctuation:\n",
    "                    text = re.sub(r'[^a-zA-Z0-9_]',' ', text, flags = re.M|re.S|re.I)\n",
    "                if self.remove_numbers:\n",
    "                    text = re.sub(r'\\d+(?:\\.\\d*)?(?:[eE][+-]?\\d+)?', ' NUMBER ', text, flags = re.I|re.S|re.M)\n",
    "                if self.remove_email:\n",
    "                    text = convert_email_tags(text)\n",
    "                if self.remove_stopwords:\n",
    "                    #words without stemming\n",
    "                    word_list = remove_stopwords(text)\n",
    "                if self.stemming:\n",
    "                    stemmed_list = stemmer(word_list)\n",
    "                X_transformed.append(stemmed_list)\n",
    "        return X_transformed\n",
    "    "
   ]
  },
  {
   "cell_type": "code",
   "execution_count": 33,
   "metadata": {},
   "outputs": [],
   "source": [
    "from sklearn.base import BaseEstimator,TransformerMixin\n",
    "import urlextract\n",
    "import re\n",
    "from collections import Counter\n",
    "class CountWords(BaseEstimator,TransformerMixin):\n",
    "    def __init__(self):\n",
    "        return None\n",
    "    def fit(self,X,y = None):\n",
    "        return self\n",
    "    def transform(self,X,y = None):\n",
    "        #create a word vector\n",
    "        X_wordcounts = []\n",
    "        for email_word_list in X:\n",
    "            X_wordcounts.append(Counter(email_word_list))\n",
    "        #returns a Counter object\n",
    "        return X_wordcounts"
   ]
  },
  {
   "cell_type": "code",
   "execution_count": 34,
   "metadata": {},
   "outputs": [],
   "source": [
    "from sklearn.base import BaseEstimator,TransformerMixin\n",
    "from scipy.sparse import csr_matrix\n",
    "import numpy as np\n",
    "class CreateWordVector(BaseEstimator, TransformerMixin):\n",
    "    def __init__(self,vocabulary_size = 1000):\n",
    "        self.vocabulary_size = vocabulary_size\n",
    "    def fit(self,X,y=None):\n",
    "        total_count = Counter()\n",
    "        for email in X:\n",
    "            #each email is a counter object here\n",
    "            for word,count in email.items():\n",
    "                total_count[word] += min(count,10)\n",
    "        self.most_common = total_count.most_common()[:self.vocabulary_size]\n",
    "        self.vocabulary_ = {word:index + 1 for index,(word,count) in enumerate(self.most_common)}\n",
    "        return self\n",
    "    def transform(self,X,y=None):\n",
    "        rows = []\n",
    "        cols = []\n",
    "        occurences = []\n",
    "        result_array = np.zeros(shape = (len(X),self.vocabulary_size + 1))\n",
    "        for i,email in enumerate(X):\n",
    "            for word,count in email.items():\n",
    "                #getting the index position for the word in most common dictionary. This will be used as the entry to cols\n",
    "                idx = self.vocabulary_.get(word,0)\n",
    "                if idx == 0:\n",
    "                    result_array[i,0] = result_array[i,0] + count\n",
    "                else:\n",
    "                    result_array[i,idx] = result_array[i,idx] + count  \n",
    "        return [result_array,self.most_common]"
   ]
  },
  {
   "cell_type": "code",
   "execution_count": 35,
   "metadata": {},
   "outputs": [],
   "source": [
    "from sklearn.pipeline import Pipeline\n",
    "\n",
    "datatransformation = Pipeline([\n",
    "    ('emailtoword',EmailToWord()),\n",
    "    ('countwords',CountWords()),\n",
    "    ('createwordvector',CreateWordVector())\n",
    "])"
   ]
  },
  {
   "cell_type": "code",
   "execution_count": 36,
   "metadata": {},
   "outputs": [],
   "source": [
    "res = datatransformation.fit_transform(X_train)"
   ]
  },
  {
   "cell_type": "code",
   "execution_count": 37,
   "metadata": {},
   "outputs": [],
   "source": [
    "X_train_transformed = res[0]\n",
    "most_common = res[1]"
   ]
  },
  {
   "cell_type": "code",
   "execution_count": 38,
   "metadata": {},
   "outputs": [
    {
     "output_type": "execute_result",
     "data": {
      "text/plain": [
       "1000"
      ]
     },
     "metadata": {},
     "execution_count": 38
    }
   ],
   "source": [
    "len(most_common)"
   ]
  },
  {
   "cell_type": "code",
   "execution_count": 39,
   "metadata": {},
   "outputs": [],
   "source": [
    "#making a dataframe from the data we have obtained of the transformed emails\n",
    "import pandas as pd\n",
    "columns = [i[0] for i in most_common]\n",
    "columns.insert(0,'Not in Vocabulary')\n",
    "X_train_transformed_df = pd.DataFrame(data = X_train_transformed,columns = columns)"
   ]
  },
  {
   "cell_type": "code",
   "execution_count": 40,
   "metadata": {},
   "outputs": [
    {
     "output_type": "execute_result",
     "data": {
      "text/plain": [
       "      Not in Vocabulary  number  url  list  use  mail  get  one  time  like  \\\n",
       "0                  11.0     0.0  1.0   0.0  0.0   0.0  0.0  0.0   0.0   0.0   \n",
       "1                  18.0    10.0  1.0   1.0  0.0   1.0  0.0  0.0   2.0   0.0   \n",
       "2                  22.0     0.0  0.0   0.0  0.0   0.0  1.0  0.0   0.0   0.0   \n",
       "3                  77.0    22.0  0.0   0.0  3.0   2.0  3.0  0.0   0.0   4.0   \n",
       "4                  19.0    17.0  5.0   1.0  0.0   0.0  0.0  0.0   0.0   0.0   \n",
       "...                 ...     ...  ...   ...  ...   ...  ...  ...   ...   ...   \n",
       "2435               14.0     6.0  4.0   2.0  1.0   2.0  1.0  1.0   1.0   0.0   \n",
       "2436               43.0    11.0  1.0   1.0  3.0   1.0  1.0  3.0   0.0   1.0   \n",
       "2437                9.0     1.0  2.0   3.0  0.0   1.0  0.0  0.0   0.0   0.0   \n",
       "2438               16.0    11.0  1.0   3.0  0.0   1.0  1.0  0.0   0.0   0.0   \n",
       "2439               78.0    10.0  2.0   1.0  1.0   0.0  3.0  1.0   0.0   3.0   \n",
       "\n",
       "      ...  owner  decis  expert  match  btw  middl  mode  effici  startup  \\\n",
       "0     ...    0.0    0.0     0.0    0.0  0.0    0.0   0.0     0.0      0.0   \n",
       "1     ...    0.0    0.0     0.0    0.0  0.0    0.0   0.0     0.0      0.0   \n",
       "2     ...    0.0    0.0     0.0    0.0  0.0    0.0   0.0     0.0      0.0   \n",
       "3     ...    0.0    0.0     0.0    0.0  0.0    0.0   0.0     0.0      0.0   \n",
       "4     ...    0.0    0.0     0.0    0.0  0.0    0.0   0.0     0.0      0.0   \n",
       "...   ...    ...    ...     ...    ...  ...    ...   ...     ...      ...   \n",
       "2435  ...    0.0    0.0     0.0    0.0  0.0    0.0   0.0     0.0      0.0   \n",
       "2436  ...    0.0    0.0     0.0    0.0  1.0    0.0   0.0     0.0      0.0   \n",
       "2437  ...    0.0    0.0     0.0    0.0  0.0    0.0   0.0     0.0      0.0   \n",
       "2438  ...    0.0    0.0     0.0    0.0  0.0    0.0   0.0     0.0      0.0   \n",
       "2439  ...    0.0    0.0     0.0    0.0  0.0    0.0   0.0     0.0      0.0   \n",
       "\n",
       "      Result  \n",
       "0          0  \n",
       "1          0  \n",
       "2          1  \n",
       "3          0  \n",
       "4          0  \n",
       "...      ...  \n",
       "2435       0  \n",
       "2436       0  \n",
       "2437       0  \n",
       "2438       0  \n",
       "2439       0  \n",
       "\n",
       "[2440 rows x 1002 columns]"
      ],
      "text/html": "<div>\n<style scoped>\n    .dataframe tbody tr th:only-of-type {\n        vertical-align: middle;\n    }\n\n    .dataframe tbody tr th {\n        vertical-align: top;\n    }\n\n    .dataframe thead th {\n        text-align: right;\n    }\n</style>\n<table border=\"1\" class=\"dataframe\">\n  <thead>\n    <tr style=\"text-align: right;\">\n      <th></th>\n      <th>Not in Vocabulary</th>\n      <th>number</th>\n      <th>url</th>\n      <th>list</th>\n      <th>use</th>\n      <th>mail</th>\n      <th>get</th>\n      <th>one</th>\n      <th>time</th>\n      <th>like</th>\n      <th>...</th>\n      <th>owner</th>\n      <th>decis</th>\n      <th>expert</th>\n      <th>match</th>\n      <th>btw</th>\n      <th>middl</th>\n      <th>mode</th>\n      <th>effici</th>\n      <th>startup</th>\n      <th>Result</th>\n    </tr>\n  </thead>\n  <tbody>\n    <tr>\n      <th>0</th>\n      <td>11.0</td>\n      <td>0.0</td>\n      <td>1.0</td>\n      <td>0.0</td>\n      <td>0.0</td>\n      <td>0.0</td>\n      <td>0.0</td>\n      <td>0.0</td>\n      <td>0.0</td>\n      <td>0.0</td>\n      <td>...</td>\n      <td>0.0</td>\n      <td>0.0</td>\n      <td>0.0</td>\n      <td>0.0</td>\n      <td>0.0</td>\n      <td>0.0</td>\n      <td>0.0</td>\n      <td>0.0</td>\n      <td>0.0</td>\n      <td>0</td>\n    </tr>\n    <tr>\n      <th>1</th>\n      <td>18.0</td>\n      <td>10.0</td>\n      <td>1.0</td>\n      <td>1.0</td>\n      <td>0.0</td>\n      <td>1.0</td>\n      <td>0.0</td>\n      <td>0.0</td>\n      <td>2.0</td>\n      <td>0.0</td>\n      <td>...</td>\n      <td>0.0</td>\n      <td>0.0</td>\n      <td>0.0</td>\n      <td>0.0</td>\n      <td>0.0</td>\n      <td>0.0</td>\n      <td>0.0</td>\n      <td>0.0</td>\n      <td>0.0</td>\n      <td>0</td>\n    </tr>\n    <tr>\n      <th>2</th>\n      <td>22.0</td>\n      <td>0.0</td>\n      <td>0.0</td>\n      <td>0.0</td>\n      <td>0.0</td>\n      <td>0.0</td>\n      <td>1.0</td>\n      <td>0.0</td>\n      <td>0.0</td>\n      <td>0.0</td>\n      <td>...</td>\n      <td>0.0</td>\n      <td>0.0</td>\n      <td>0.0</td>\n      <td>0.0</td>\n      <td>0.0</td>\n      <td>0.0</td>\n      <td>0.0</td>\n      <td>0.0</td>\n      <td>0.0</td>\n      <td>1</td>\n    </tr>\n    <tr>\n      <th>3</th>\n      <td>77.0</td>\n      <td>22.0</td>\n      <td>0.0</td>\n      <td>0.0</td>\n      <td>3.0</td>\n      <td>2.0</td>\n      <td>3.0</td>\n      <td>0.0</td>\n      <td>0.0</td>\n      <td>4.0</td>\n      <td>...</td>\n      <td>0.0</td>\n      <td>0.0</td>\n      <td>0.0</td>\n      <td>0.0</td>\n      <td>0.0</td>\n      <td>0.0</td>\n      <td>0.0</td>\n      <td>0.0</td>\n      <td>0.0</td>\n      <td>0</td>\n    </tr>\n    <tr>\n      <th>4</th>\n      <td>19.0</td>\n      <td>17.0</td>\n      <td>5.0</td>\n      <td>1.0</td>\n      <td>0.0</td>\n      <td>0.0</td>\n      <td>0.0</td>\n      <td>0.0</td>\n      <td>0.0</td>\n      <td>0.0</td>\n      <td>...</td>\n      <td>0.0</td>\n      <td>0.0</td>\n      <td>0.0</td>\n      <td>0.0</td>\n      <td>0.0</td>\n      <td>0.0</td>\n      <td>0.0</td>\n      <td>0.0</td>\n      <td>0.0</td>\n      <td>0</td>\n    </tr>\n    <tr>\n      <th>...</th>\n      <td>...</td>\n      <td>...</td>\n      <td>...</td>\n      <td>...</td>\n      <td>...</td>\n      <td>...</td>\n      <td>...</td>\n      <td>...</td>\n      <td>...</td>\n      <td>...</td>\n      <td>...</td>\n      <td>...</td>\n      <td>...</td>\n      <td>...</td>\n      <td>...</td>\n      <td>...</td>\n      <td>...</td>\n      <td>...</td>\n      <td>...</td>\n      <td>...</td>\n      <td>...</td>\n    </tr>\n    <tr>\n      <th>2435</th>\n      <td>14.0</td>\n      <td>6.0</td>\n      <td>4.0</td>\n      <td>2.0</td>\n      <td>1.0</td>\n      <td>2.0</td>\n      <td>1.0</td>\n      <td>1.0</td>\n      <td>1.0</td>\n      <td>0.0</td>\n      <td>...</td>\n      <td>0.0</td>\n      <td>0.0</td>\n      <td>0.0</td>\n      <td>0.0</td>\n      <td>0.0</td>\n      <td>0.0</td>\n      <td>0.0</td>\n      <td>0.0</td>\n      <td>0.0</td>\n      <td>0</td>\n    </tr>\n    <tr>\n      <th>2436</th>\n      <td>43.0</td>\n      <td>11.0</td>\n      <td>1.0</td>\n      <td>1.0</td>\n      <td>3.0</td>\n      <td>1.0</td>\n      <td>1.0</td>\n      <td>3.0</td>\n      <td>0.0</td>\n      <td>1.0</td>\n      <td>...</td>\n      <td>0.0</td>\n      <td>0.0</td>\n      <td>0.0</td>\n      <td>0.0</td>\n      <td>1.0</td>\n      <td>0.0</td>\n      <td>0.0</td>\n      <td>0.0</td>\n      <td>0.0</td>\n      <td>0</td>\n    </tr>\n    <tr>\n      <th>2437</th>\n      <td>9.0</td>\n      <td>1.0</td>\n      <td>2.0</td>\n      <td>3.0</td>\n      <td>0.0</td>\n      <td>1.0</td>\n      <td>0.0</td>\n      <td>0.0</td>\n      <td>0.0</td>\n      <td>0.0</td>\n      <td>...</td>\n      <td>0.0</td>\n      <td>0.0</td>\n      <td>0.0</td>\n      <td>0.0</td>\n      <td>0.0</td>\n      <td>0.0</td>\n      <td>0.0</td>\n      <td>0.0</td>\n      <td>0.0</td>\n      <td>0</td>\n    </tr>\n    <tr>\n      <th>2438</th>\n      <td>16.0</td>\n      <td>11.0</td>\n      <td>1.0</td>\n      <td>3.0</td>\n      <td>0.0</td>\n      <td>1.0</td>\n      <td>1.0</td>\n      <td>0.0</td>\n      <td>0.0</td>\n      <td>0.0</td>\n      <td>...</td>\n      <td>0.0</td>\n      <td>0.0</td>\n      <td>0.0</td>\n      <td>0.0</td>\n      <td>0.0</td>\n      <td>0.0</td>\n      <td>0.0</td>\n      <td>0.0</td>\n      <td>0.0</td>\n      <td>0</td>\n    </tr>\n    <tr>\n      <th>2439</th>\n      <td>78.0</td>\n      <td>10.0</td>\n      <td>2.0</td>\n      <td>1.0</td>\n      <td>1.0</td>\n      <td>0.0</td>\n      <td>3.0</td>\n      <td>1.0</td>\n      <td>0.0</td>\n      <td>3.0</td>\n      <td>...</td>\n      <td>0.0</td>\n      <td>0.0</td>\n      <td>0.0</td>\n      <td>0.0</td>\n      <td>0.0</td>\n      <td>0.0</td>\n      <td>0.0</td>\n      <td>0.0</td>\n      <td>0.0</td>\n      <td>0</td>\n    </tr>\n  </tbody>\n</table>\n<p>2440 rows × 1002 columns</p>\n</div>"
     },
     "metadata": {},
     "execution_count": 40
    }
   ],
   "source": [
    "X_train_transformed_df['Result'] = y_train\n",
    "X_train_transformed_df"
   ]
  },
  {
   "cell_type": "code",
   "execution_count": 41,
   "metadata": {},
   "outputs": [
    {
     "output_type": "execute_result",
     "data": {
      "text/plain": [
       "      number  url  list  use  mail  get  one  time  like  com  ...  approv  \\\n",
       "0        0.0  1.0   0.0  0.0   0.0  0.0  0.0   0.0   0.0  0.0  ...     0.0   \n",
       "1       10.0  1.0   1.0  0.0   1.0  0.0  0.0   2.0   0.0  3.0  ...     0.0   \n",
       "3       22.0  0.0   0.0  3.0   2.0  3.0  0.0   0.0   4.0  0.0  ...     0.0   \n",
       "4       17.0  5.0   1.0  0.0   0.0  0.0  0.0   0.0   0.0  0.0  ...     0.0   \n",
       "6        8.0  2.0   0.0  0.0   0.0  0.0  0.0   0.0   0.0  0.0  ...     0.0   \n",
       "...      ...  ...   ...  ...   ...  ...  ...   ...   ...  ...  ...     ...   \n",
       "2435     6.0  4.0   2.0  1.0   2.0  1.0  1.0   1.0   0.0  0.0  ...     0.0   \n",
       "2436    11.0  1.0   1.0  3.0   1.0  1.0  3.0   0.0   1.0  2.0  ...     0.0   \n",
       "2437     1.0  2.0   3.0  0.0   1.0  0.0  0.0   0.0   0.0  0.0  ...     0.0   \n",
       "2438    11.0  1.0   3.0  0.0   1.0  1.0  0.0   0.0   0.0  1.0  ...     0.0   \n",
       "2439    10.0  2.0   1.0  1.0   0.0  3.0  1.0   0.0   3.0  2.0  ...     0.0   \n",
       "\n",
       "      owner  decis  expert  match  btw  middl  mode  effici  startup  \n",
       "0       0.0    0.0     0.0    0.0  0.0    0.0   0.0     0.0      0.0  \n",
       "1       0.0    0.0     0.0    0.0  0.0    0.0   0.0     0.0      0.0  \n",
       "3       0.0    0.0     0.0    0.0  0.0    0.0   0.0     0.0      0.0  \n",
       "4       0.0    0.0     0.0    0.0  0.0    0.0   0.0     0.0      0.0  \n",
       "6       0.0    0.0     0.0    0.0  0.0    0.0   0.0     0.0      0.0  \n",
       "...     ...    ...     ...    ...  ...    ...   ...     ...      ...  \n",
       "2435    0.0    0.0     0.0    0.0  0.0    0.0   0.0     0.0      0.0  \n",
       "2436    0.0    0.0     0.0    0.0  1.0    0.0   0.0     0.0      0.0  \n",
       "2437    0.0    0.0     0.0    0.0  0.0    0.0   0.0     0.0      0.0  \n",
       "2438    0.0    0.0     0.0    0.0  0.0    0.0   0.0     0.0      0.0  \n",
       "2439    0.0    0.0     0.0    0.0  0.0    0.0   0.0     0.0      0.0  \n",
       "\n",
       "[2035 rows x 1000 columns]"
      ],
      "text/html": "<div>\n<style scoped>\n    .dataframe tbody tr th:only-of-type {\n        vertical-align: middle;\n    }\n\n    .dataframe tbody tr th {\n        vertical-align: top;\n    }\n\n    .dataframe thead th {\n        text-align: right;\n    }\n</style>\n<table border=\"1\" class=\"dataframe\">\n  <thead>\n    <tr style=\"text-align: right;\">\n      <th></th>\n      <th>number</th>\n      <th>url</th>\n      <th>list</th>\n      <th>use</th>\n      <th>mail</th>\n      <th>get</th>\n      <th>one</th>\n      <th>time</th>\n      <th>like</th>\n      <th>com</th>\n      <th>...</th>\n      <th>approv</th>\n      <th>owner</th>\n      <th>decis</th>\n      <th>expert</th>\n      <th>match</th>\n      <th>btw</th>\n      <th>middl</th>\n      <th>mode</th>\n      <th>effici</th>\n      <th>startup</th>\n    </tr>\n  </thead>\n  <tbody>\n    <tr>\n      <th>0</th>\n      <td>0.0</td>\n      <td>1.0</td>\n      <td>0.0</td>\n      <td>0.0</td>\n      <td>0.0</td>\n      <td>0.0</td>\n      <td>0.0</td>\n      <td>0.0</td>\n      <td>0.0</td>\n      <td>0.0</td>\n      <td>...</td>\n      <td>0.0</td>\n      <td>0.0</td>\n      <td>0.0</td>\n      <td>0.0</td>\n      <td>0.0</td>\n      <td>0.0</td>\n      <td>0.0</td>\n      <td>0.0</td>\n      <td>0.0</td>\n      <td>0.0</td>\n    </tr>\n    <tr>\n      <th>1</th>\n      <td>10.0</td>\n      <td>1.0</td>\n      <td>1.0</td>\n      <td>0.0</td>\n      <td>1.0</td>\n      <td>0.0</td>\n      <td>0.0</td>\n      <td>2.0</td>\n      <td>0.0</td>\n      <td>3.0</td>\n      <td>...</td>\n      <td>0.0</td>\n      <td>0.0</td>\n      <td>0.0</td>\n      <td>0.0</td>\n      <td>0.0</td>\n      <td>0.0</td>\n      <td>0.0</td>\n      <td>0.0</td>\n      <td>0.0</td>\n      <td>0.0</td>\n    </tr>\n    <tr>\n      <th>3</th>\n      <td>22.0</td>\n      <td>0.0</td>\n      <td>0.0</td>\n      <td>3.0</td>\n      <td>2.0</td>\n      <td>3.0</td>\n      <td>0.0</td>\n      <td>0.0</td>\n      <td>4.0</td>\n      <td>0.0</td>\n      <td>...</td>\n      <td>0.0</td>\n      <td>0.0</td>\n      <td>0.0</td>\n      <td>0.0</td>\n      <td>0.0</td>\n      <td>0.0</td>\n      <td>0.0</td>\n      <td>0.0</td>\n      <td>0.0</td>\n      <td>0.0</td>\n    </tr>\n    <tr>\n      <th>4</th>\n      <td>17.0</td>\n      <td>5.0</td>\n      <td>1.0</td>\n      <td>0.0</td>\n      <td>0.0</td>\n      <td>0.0</td>\n      <td>0.0</td>\n      <td>0.0</td>\n      <td>0.0</td>\n      <td>0.0</td>\n      <td>...</td>\n      <td>0.0</td>\n      <td>0.0</td>\n      <td>0.0</td>\n      <td>0.0</td>\n      <td>0.0</td>\n      <td>0.0</td>\n      <td>0.0</td>\n      <td>0.0</td>\n      <td>0.0</td>\n      <td>0.0</td>\n    </tr>\n    <tr>\n      <th>6</th>\n      <td>8.0</td>\n      <td>2.0</td>\n      <td>0.0</td>\n      <td>0.0</td>\n      <td>0.0</td>\n      <td>0.0</td>\n      <td>0.0</td>\n      <td>0.0</td>\n      <td>0.0</td>\n      <td>0.0</td>\n      <td>...</td>\n      <td>0.0</td>\n      <td>0.0</td>\n      <td>0.0</td>\n      <td>0.0</td>\n      <td>0.0</td>\n      <td>0.0</td>\n      <td>0.0</td>\n      <td>0.0</td>\n      <td>0.0</td>\n      <td>0.0</td>\n    </tr>\n    <tr>\n      <th>...</th>\n      <td>...</td>\n      <td>...</td>\n      <td>...</td>\n      <td>...</td>\n      <td>...</td>\n      <td>...</td>\n      <td>...</td>\n      <td>...</td>\n      <td>...</td>\n      <td>...</td>\n      <td>...</td>\n      <td>...</td>\n      <td>...</td>\n      <td>...</td>\n      <td>...</td>\n      <td>...</td>\n      <td>...</td>\n      <td>...</td>\n      <td>...</td>\n      <td>...</td>\n      <td>...</td>\n    </tr>\n    <tr>\n      <th>2435</th>\n      <td>6.0</td>\n      <td>4.0</td>\n      <td>2.0</td>\n      <td>1.0</td>\n      <td>2.0</td>\n      <td>1.0</td>\n      <td>1.0</td>\n      <td>1.0</td>\n      <td>0.0</td>\n      <td>0.0</td>\n      <td>...</td>\n      <td>0.0</td>\n      <td>0.0</td>\n      <td>0.0</td>\n      <td>0.0</td>\n      <td>0.0</td>\n      <td>0.0</td>\n      <td>0.0</td>\n      <td>0.0</td>\n      <td>0.0</td>\n      <td>0.0</td>\n    </tr>\n    <tr>\n      <th>2436</th>\n      <td>11.0</td>\n      <td>1.0</td>\n      <td>1.0</td>\n      <td>3.0</td>\n      <td>1.0</td>\n      <td>1.0</td>\n      <td>3.0</td>\n      <td>0.0</td>\n      <td>1.0</td>\n      <td>2.0</td>\n      <td>...</td>\n      <td>0.0</td>\n      <td>0.0</td>\n      <td>0.0</td>\n      <td>0.0</td>\n      <td>0.0</td>\n      <td>1.0</td>\n      <td>0.0</td>\n      <td>0.0</td>\n      <td>0.0</td>\n      <td>0.0</td>\n    </tr>\n    <tr>\n      <th>2437</th>\n      <td>1.0</td>\n      <td>2.0</td>\n      <td>3.0</td>\n      <td>0.0</td>\n      <td>1.0</td>\n      <td>0.0</td>\n      <td>0.0</td>\n      <td>0.0</td>\n      <td>0.0</td>\n      <td>0.0</td>\n      <td>...</td>\n      <td>0.0</td>\n      <td>0.0</td>\n      <td>0.0</td>\n      <td>0.0</td>\n      <td>0.0</td>\n      <td>0.0</td>\n      <td>0.0</td>\n      <td>0.0</td>\n      <td>0.0</td>\n      <td>0.0</td>\n    </tr>\n    <tr>\n      <th>2438</th>\n      <td>11.0</td>\n      <td>1.0</td>\n      <td>3.0</td>\n      <td>0.0</td>\n      <td>1.0</td>\n      <td>1.0</td>\n      <td>0.0</td>\n      <td>0.0</td>\n      <td>0.0</td>\n      <td>1.0</td>\n      <td>...</td>\n      <td>0.0</td>\n      <td>0.0</td>\n      <td>0.0</td>\n      <td>0.0</td>\n      <td>0.0</td>\n      <td>0.0</td>\n      <td>0.0</td>\n      <td>0.0</td>\n      <td>0.0</td>\n      <td>0.0</td>\n    </tr>\n    <tr>\n      <th>2439</th>\n      <td>10.0</td>\n      <td>2.0</td>\n      <td>1.0</td>\n      <td>1.0</td>\n      <td>0.0</td>\n      <td>3.0</td>\n      <td>1.0</td>\n      <td>0.0</td>\n      <td>3.0</td>\n      <td>2.0</td>\n      <td>...</td>\n      <td>0.0</td>\n      <td>0.0</td>\n      <td>0.0</td>\n      <td>0.0</td>\n      <td>0.0</td>\n      <td>0.0</td>\n      <td>0.0</td>\n      <td>0.0</td>\n      <td>0.0</td>\n      <td>0.0</td>\n    </tr>\n  </tbody>\n</table>\n<p>2035 rows × 1000 columns</p>\n</div>"
     },
     "metadata": {},
     "execution_count": 41
    }
   ],
   "source": [
    "#drawing histogram for spam email and normal email to see word distributions. \n",
    "#words not in vocabulary will be left out and we shall only draw for the most occuring 20 words in each category\n",
    "df_ham = X_train_transformed_df.loc[X_train_transformed_df[\"Result\"] == 0]\n",
    "df_ham = df_ham.drop([\"Not in Vocabulary\", \"Result\"],1)\n",
    "df_ham"
   ]
  },
  {
   "cell_type": "code",
   "execution_count": 42,
   "metadata": {},
   "outputs": [
    {
     "output_type": "execute_result",
     "data": {
      "text/plain": [
       "      number  url  list  use  mail  get  one  time  like  com  ...  approv  \\\n",
       "2        0.0  0.0   0.0  0.0   0.0  1.0  0.0   0.0   0.0  0.0  ...     0.0   \n",
       "5       21.0  4.0   1.0  1.0   1.0  0.0  1.0   0.0   0.0  2.0  ...     1.0   \n",
       "15       2.0  0.0   0.0  0.0   1.0  0.0  0.0   0.0   0.0  0.0  ...     0.0   \n",
       "24       4.0  5.0   2.0  2.0   8.0  2.0  0.0   0.0   0.0  1.0  ...     0.0   \n",
       "28      10.0  4.0   1.0  0.0   0.0  0.0  1.0   1.0   1.0  0.0  ...     0.0   \n",
       "...      ...  ...   ...  ...   ...  ...  ...   ...   ...  ...  ...     ...   \n",
       "2407     5.0  0.0   1.0  0.0   2.0  0.0  0.0   2.0   0.0  0.0  ...     0.0   \n",
       "2409   241.0  2.0   0.0  1.0   1.0  0.0  0.0   0.0   0.0  2.0  ...     0.0   \n",
       "2412     5.0  0.0   0.0  1.0   1.0  0.0  1.0   0.0   0.0  0.0  ...     0.0   \n",
       "2422     2.0  0.0   0.0  0.0   0.0  0.0  0.0   0.0   0.0  0.0  ...     0.0   \n",
       "2428    16.0  4.0   1.0  0.0   1.0  1.0  1.0   0.0   0.0  0.0  ...     0.0   \n",
       "\n",
       "      owner  decis  expert  match  btw  middl  mode  effici  startup  \n",
       "2       0.0    0.0     0.0    0.0  0.0    0.0   0.0     0.0      0.0  \n",
       "5       0.0    0.0     0.0    0.0  0.0    0.0   0.0     0.0      0.0  \n",
       "15      0.0    0.0     0.0    0.0  0.0    0.0   0.0     0.0      0.0  \n",
       "24      0.0    0.0     0.0    0.0  0.0    0.0   0.0     0.0      0.0  \n",
       "28      0.0    0.0     0.0    0.0  0.0    0.0   0.0     0.0      0.0  \n",
       "...     ...    ...     ...    ...  ...    ...   ...     ...      ...  \n",
       "2407    0.0    0.0     0.0    0.0  0.0    0.0   0.0     0.0      0.0  \n",
       "2409    0.0    0.0     0.0    0.0  0.0    0.0   0.0     0.0      0.0  \n",
       "2412    0.0    0.0     0.0    0.0  0.0    0.0   0.0     0.0      0.0  \n",
       "2422    0.0    0.0     0.0    0.0  0.0    0.0   0.0     0.0      0.0  \n",
       "2428    0.0    0.0     0.0    0.0  0.0    0.0   0.0     0.0      0.0  \n",
       "\n",
       "[405 rows x 1000 columns]"
      ],
      "text/html": "<div>\n<style scoped>\n    .dataframe tbody tr th:only-of-type {\n        vertical-align: middle;\n    }\n\n    .dataframe tbody tr th {\n        vertical-align: top;\n    }\n\n    .dataframe thead th {\n        text-align: right;\n    }\n</style>\n<table border=\"1\" class=\"dataframe\">\n  <thead>\n    <tr style=\"text-align: right;\">\n      <th></th>\n      <th>number</th>\n      <th>url</th>\n      <th>list</th>\n      <th>use</th>\n      <th>mail</th>\n      <th>get</th>\n      <th>one</th>\n      <th>time</th>\n      <th>like</th>\n      <th>com</th>\n      <th>...</th>\n      <th>approv</th>\n      <th>owner</th>\n      <th>decis</th>\n      <th>expert</th>\n      <th>match</th>\n      <th>btw</th>\n      <th>middl</th>\n      <th>mode</th>\n      <th>effici</th>\n      <th>startup</th>\n    </tr>\n  </thead>\n  <tbody>\n    <tr>\n      <th>2</th>\n      <td>0.0</td>\n      <td>0.0</td>\n      <td>0.0</td>\n      <td>0.0</td>\n      <td>0.0</td>\n      <td>1.0</td>\n      <td>0.0</td>\n      <td>0.0</td>\n      <td>0.0</td>\n      <td>0.0</td>\n      <td>...</td>\n      <td>0.0</td>\n      <td>0.0</td>\n      <td>0.0</td>\n      <td>0.0</td>\n      <td>0.0</td>\n      <td>0.0</td>\n      <td>0.0</td>\n      <td>0.0</td>\n      <td>0.0</td>\n      <td>0.0</td>\n    </tr>\n    <tr>\n      <th>5</th>\n      <td>21.0</td>\n      <td>4.0</td>\n      <td>1.0</td>\n      <td>1.0</td>\n      <td>1.0</td>\n      <td>0.0</td>\n      <td>1.0</td>\n      <td>0.0</td>\n      <td>0.0</td>\n      <td>2.0</td>\n      <td>...</td>\n      <td>1.0</td>\n      <td>0.0</td>\n      <td>0.0</td>\n      <td>0.0</td>\n      <td>0.0</td>\n      <td>0.0</td>\n      <td>0.0</td>\n      <td>0.0</td>\n      <td>0.0</td>\n      <td>0.0</td>\n    </tr>\n    <tr>\n      <th>15</th>\n      <td>2.0</td>\n      <td>0.0</td>\n      <td>0.0</td>\n      <td>0.0</td>\n      <td>1.0</td>\n      <td>0.0</td>\n      <td>0.0</td>\n      <td>0.0</td>\n      <td>0.0</td>\n      <td>0.0</td>\n      <td>...</td>\n      <td>0.0</td>\n      <td>0.0</td>\n      <td>0.0</td>\n      <td>0.0</td>\n      <td>0.0</td>\n      <td>0.0</td>\n      <td>0.0</td>\n      <td>0.0</td>\n      <td>0.0</td>\n      <td>0.0</td>\n    </tr>\n    <tr>\n      <th>24</th>\n      <td>4.0</td>\n      <td>5.0</td>\n      <td>2.0</td>\n      <td>2.0</td>\n      <td>8.0</td>\n      <td>2.0</td>\n      <td>0.0</td>\n      <td>0.0</td>\n      <td>0.0</td>\n      <td>1.0</td>\n      <td>...</td>\n      <td>0.0</td>\n      <td>0.0</td>\n      <td>0.0</td>\n      <td>0.0</td>\n      <td>0.0</td>\n      <td>0.0</td>\n      <td>0.0</td>\n      <td>0.0</td>\n      <td>0.0</td>\n      <td>0.0</td>\n    </tr>\n    <tr>\n      <th>28</th>\n      <td>10.0</td>\n      <td>4.0</td>\n      <td>1.0</td>\n      <td>0.0</td>\n      <td>0.0</td>\n      <td>0.0</td>\n      <td>1.0</td>\n      <td>1.0</td>\n      <td>1.0</td>\n      <td>0.0</td>\n      <td>...</td>\n      <td>0.0</td>\n      <td>0.0</td>\n      <td>0.0</td>\n      <td>0.0</td>\n      <td>0.0</td>\n      <td>0.0</td>\n      <td>0.0</td>\n      <td>0.0</td>\n      <td>0.0</td>\n      <td>0.0</td>\n    </tr>\n    <tr>\n      <th>...</th>\n      <td>...</td>\n      <td>...</td>\n      <td>...</td>\n      <td>...</td>\n      <td>...</td>\n      <td>...</td>\n      <td>...</td>\n      <td>...</td>\n      <td>...</td>\n      <td>...</td>\n      <td>...</td>\n      <td>...</td>\n      <td>...</td>\n      <td>...</td>\n      <td>...</td>\n      <td>...</td>\n      <td>...</td>\n      <td>...</td>\n      <td>...</td>\n      <td>...</td>\n      <td>...</td>\n    </tr>\n    <tr>\n      <th>2407</th>\n      <td>5.0</td>\n      <td>0.0</td>\n      <td>1.0</td>\n      <td>0.0</td>\n      <td>2.0</td>\n      <td>0.0</td>\n      <td>0.0</td>\n      <td>2.0</td>\n      <td>0.0</td>\n      <td>0.0</td>\n      <td>...</td>\n      <td>0.0</td>\n      <td>0.0</td>\n      <td>0.0</td>\n      <td>0.0</td>\n      <td>0.0</td>\n      <td>0.0</td>\n      <td>0.0</td>\n      <td>0.0</td>\n      <td>0.0</td>\n      <td>0.0</td>\n    </tr>\n    <tr>\n      <th>2409</th>\n      <td>241.0</td>\n      <td>2.0</td>\n      <td>0.0</td>\n      <td>1.0</td>\n      <td>1.0</td>\n      <td>0.0</td>\n      <td>0.0</td>\n      <td>0.0</td>\n      <td>0.0</td>\n      <td>2.0</td>\n      <td>...</td>\n      <td>0.0</td>\n      <td>0.0</td>\n      <td>0.0</td>\n      <td>0.0</td>\n      <td>0.0</td>\n      <td>0.0</td>\n      <td>0.0</td>\n      <td>0.0</td>\n      <td>0.0</td>\n      <td>0.0</td>\n    </tr>\n    <tr>\n      <th>2412</th>\n      <td>5.0</td>\n      <td>0.0</td>\n      <td>0.0</td>\n      <td>1.0</td>\n      <td>1.0</td>\n      <td>0.0</td>\n      <td>1.0</td>\n      <td>0.0</td>\n      <td>0.0</td>\n      <td>0.0</td>\n      <td>...</td>\n      <td>0.0</td>\n      <td>0.0</td>\n      <td>0.0</td>\n      <td>0.0</td>\n      <td>0.0</td>\n      <td>0.0</td>\n      <td>0.0</td>\n      <td>0.0</td>\n      <td>0.0</td>\n      <td>0.0</td>\n    </tr>\n    <tr>\n      <th>2422</th>\n      <td>2.0</td>\n      <td>0.0</td>\n      <td>0.0</td>\n      <td>0.0</td>\n      <td>0.0</td>\n      <td>0.0</td>\n      <td>0.0</td>\n      <td>0.0</td>\n      <td>0.0</td>\n      <td>0.0</td>\n      <td>...</td>\n      <td>0.0</td>\n      <td>0.0</td>\n      <td>0.0</td>\n      <td>0.0</td>\n      <td>0.0</td>\n      <td>0.0</td>\n      <td>0.0</td>\n      <td>0.0</td>\n      <td>0.0</td>\n      <td>0.0</td>\n    </tr>\n    <tr>\n      <th>2428</th>\n      <td>16.0</td>\n      <td>4.0</td>\n      <td>1.0</td>\n      <td>0.0</td>\n      <td>1.0</td>\n      <td>1.0</td>\n      <td>1.0</td>\n      <td>0.0</td>\n      <td>0.0</td>\n      <td>0.0</td>\n      <td>...</td>\n      <td>0.0</td>\n      <td>0.0</td>\n      <td>0.0</td>\n      <td>0.0</td>\n      <td>0.0</td>\n      <td>0.0</td>\n      <td>0.0</td>\n      <td>0.0</td>\n      <td>0.0</td>\n      <td>0.0</td>\n    </tr>\n  </tbody>\n</table>\n<p>405 rows × 1000 columns</p>\n</div>"
     },
     "metadata": {},
     "execution_count": 42
    }
   ],
   "source": [
    "df_spam = X_train_transformed_df.loc[X_train_transformed_df[\"Result\"] == 1]\n",
    "df_spam = df_spam.drop([\"Not in Vocabulary\", \"Result\"],1)\n",
    "df_spam"
   ]
  },
  {
   "cell_type": "code",
   "execution_count": 43,
   "metadata": {},
   "outputs": [
    {
     "output_type": "execute_result",
     "data": {
      "text/plain": [
       "number     12.582801\n",
       "url         2.417690\n",
       "list        1.002948\n",
       "use         0.812776\n",
       "mail        0.569533\n",
       "             ...    \n",
       "btw         0.029484\n",
       "middl       0.027027\n",
       "mode        0.027027\n",
       "effici      0.030958\n",
       "startup     0.016216\n",
       "Length: 1000, dtype: float64"
      ]
     },
     "metadata": {},
     "execution_count": 43
    }
   ],
   "source": [
    "ham_words_means = df_ham.mean(axis = 0)\n",
    "ham_words_means"
   ]
  },
  {
   "cell_type": "code",
   "execution_count": 44,
   "metadata": {},
   "outputs": [
    {
     "output_type": "execute_result",
     "data": {
      "text/plain": [
       "number     18.572840\n",
       "url         1.748148\n",
       "list        1.029630\n",
       "use         0.530864\n",
       "mail        1.839506\n",
       "             ...    \n",
       "btw         0.000000\n",
       "middl       0.012346\n",
       "mode        0.012346\n",
       "effici      0.004938\n",
       "startup     0.086420\n",
       "Length: 1000, dtype: float64"
      ]
     },
     "metadata": {},
     "execution_count": 44
    }
   ],
   "source": [
    "spam_words_means = df_spam.mean(axis = 0)\n",
    "spam_words_means"
   ]
  },
  {
   "source": [
    "In both spam and normal messages, numbers and urls tend to be majority of the occurences in total. Hence we shall avoid these to see a more clearer piture of the highly occuring words"
   ],
   "cell_type": "markdown",
   "metadata": {}
  },
  {
   "cell_type": "code",
   "execution_count": 45,
   "metadata": {},
   "outputs": [],
   "source": [
    "sorted_ham_word_means = sorted(ham_words_means.tolist(), reverse = True)[2:25]"
   ]
  },
  {
   "cell_type": "code",
   "execution_count": 46,
   "metadata": {},
   "outputs": [],
   "source": [
    "sorted_ham_word_labels= ham_words_means.index.values.tolist()[2:25]"
   ]
  },
  {
   "cell_type": "code",
   "execution_count": 47,
   "metadata": {},
   "outputs": [],
   "source": [
    "sorted_spam_word_means = sorted(spam_words_means.tolist(), reverse = True)[2:25]"
   ]
  },
  {
   "cell_type": "code",
   "execution_count": 48,
   "metadata": {},
   "outputs": [],
   "source": [
    "sorted_spam_word_labels= spam_words_means.index.values.tolist()[2:25]"
   ]
  },
  {
   "cell_type": "code",
   "execution_count": 49,
   "metadata": {},
   "outputs": [
    {
     "output_type": "execute_result",
     "data": {
      "text/plain": [
       "[Text(0, 0, 'list'),\n",
       " Text(1, 0, 'use'),\n",
       " Text(2, 0, 'mail'),\n",
       " Text(3, 0, 'get'),\n",
       " Text(4, 0, 'one'),\n",
       " Text(5, 0, 'time'),\n",
       " Text(6, 0, 'like'),\n",
       " Text(7, 0, 'com'),\n",
       " Text(8, 0, 'messag'),\n",
       " Text(9, 0, 'would'),\n",
       " Text(10, 0, 'email'),\n",
       " Text(11, 0, 'work'),\n",
       " Text(12, 0, 'new'),\n",
       " Text(13, 0, 'make'),\n",
       " Text(14, 0, 'peopl'),\n",
       " Text(15, 0, 'rpm'),\n",
       " Text(16, 0, 'user'),\n",
       " Text(17, 0, 'net'),\n",
       " Text(18, 0, 'free'),\n",
       " Text(19, 0, 'date'),\n",
       " Text(20, 0, 'wrote'),\n",
       " Text(21, 0, 'go'),\n",
       " Text(22, 0, 'want')]"
      ]
     },
     "metadata": {},
     "execution_count": 49
    },
    {
     "output_type": "display_data",
     "data": {
      "text/plain": "<Figure size 576x720 with 1 Axes>",
      "image/svg+xml": "<?xml version=\"1.0\" encoding=\"utf-8\" standalone=\"no\"?>\r\n<!DOCTYPE svg PUBLIC \"-//W3C//DTD SVG 1.1//EN\"\r\n  \"http://www.w3.org/Graphics/SVG/1.1/DTD/svg11.dtd\">\r\n<!-- Created with matplotlib (https://matplotlib.org/) -->\r\n<svg height=\"599.271477pt\" version=\"1.1\" viewBox=\"0 0 486.105219 599.271477\" width=\"486.105219pt\" xmlns=\"http://www.w3.org/2000/svg\" xmlns:xlink=\"http://www.w3.org/1999/xlink\">\r\n <metadata>\r\n  <rdf:RDF xmlns:cc=\"http://creativecommons.org/ns#\" xmlns:dc=\"http://purl.org/dc/elements/1.1/\" xmlns:rdf=\"http://www.w3.org/1999/02/22-rdf-syntax-ns#\">\r\n   <cc:Work>\r\n    <dc:type rdf:resource=\"http://purl.org/dc/dcmitype/StillImage\"/>\r\n    <dc:date>2021-06-13T21:30:20.811417</dc:date>\r\n    <dc:format>image/svg+xml</dc:format>\r\n    <dc:creator>\r\n     <cc:Agent>\r\n      <dc:title>Matplotlib v3.3.4, https://matplotlib.org/</dc:title>\r\n     </cc:Agent>\r\n    </dc:creator>\r\n   </cc:Work>\r\n  </rdf:RDF>\r\n </metadata>\r\n <defs>\r\n  <style type=\"text/css\">*{stroke-linecap:butt;stroke-linejoin:round;}</style>\r\n </defs>\r\n <g id=\"figure_1\">\r\n  <g id=\"patch_1\">\r\n   <path d=\"M 0 599.271477 \r\nL 486.105219 599.271477 \r\nL 486.105219 0 \r\nL 0 0 \r\nz\r\n\" style=\"fill:none;\"/>\r\n  </g>\r\n  <g id=\"axes_1\">\r\n   <g id=\"patch_2\">\r\n    <path d=\"M 30.103125 550.8 \r\nL 476.503125 550.8 \r\nL 476.503125 7.2 \r\nL 30.103125 7.2 \r\nz\r\n\" style=\"fill:#ffffff;\"/>\r\n   </g>\r\n   <g id=\"patch_3\">\r\n    <path clip-path=\"url(#p32414bb1c8)\" d=\"M 32.043995 550.8 \r\nL 47.570951 550.8 \r\nL 47.570951 33.085714 \r\nL 32.043995 33.085714 \r\nz\r\n\" style=\"fill:#ea96a3;\"/>\r\n   </g>\r\n   <g id=\"patch_4\">\r\n    <path clip-path=\"url(#p32414bb1c8)\" d=\"M 51.45269 550.8 \r\nL 66.979647 550.8 \r\nL 66.979647 131.251039 \r\nL 51.45269 131.251039 \r\nz\r\n\" style=\"fill:#e89689;\"/>\r\n   </g>\r\n   <g id=\"patch_5\">\r\n    <path clip-path=\"url(#p32414bb1c8)\" d=\"M 70.861386 550.8 \r\nL 86.388342 550.8 \r\nL 86.388342 249.201624 \r\nL 70.861386 249.201624 \r\nz\r\n\" style=\"fill:#df914f;\"/>\r\n   </g>\r\n   <g id=\"patch_6\">\r\n    <path clip-path=\"url(#p32414bb1c8)\" d=\"M 90.270082 550.8 \r\nL 105.797038 550.8 \r\nL 105.797038 256.811339 \r\nL 90.270082 256.811339 \r\nz\r\n\" style=\"fill:#c8984b;\"/>\r\n   </g>\r\n   <g id=\"patch_7\">\r\n    <path clip-path=\"url(#p32414bb1c8)\" d=\"M 109.678777 550.8 \r\nL 125.205734 550.8 \r\nL 125.205734 266.957626 \r\nL 109.678777 266.957626 \r\nz\r\n\" style=\"fill:#b69c49;\"/>\r\n   </g>\r\n   <g id=\"patch_8\">\r\n    <path clip-path=\"url(#p32414bb1c8)\" d=\"M 129.087473 550.8 \r\nL 144.614429 550.8 \r\nL 144.614429 305.513516 \r\nL 129.087473 305.513516 \r\nz\r\n\" style=\"fill:#a49f46;\"/>\r\n   </g>\r\n   <g id=\"patch_9\">\r\n    <path clip-path=\"url(#p32414bb1c8)\" d=\"M 148.496168 550.8 \r\nL 164.023125 550.8 \r\nL 164.023125 311.093974 \r\nL 148.496168 311.093974 \r\nz\r\n\" style=\"fill:#93a346;\"/>\r\n   </g>\r\n   <g id=\"patch_10\">\r\n    <path clip-path=\"url(#p32414bb1c8)\" d=\"M 167.904864 550.8 \r\nL 183.431821 550.8 \r\nL 183.431821 315.152488 \r\nL 167.904864 315.152488 \r\nz\r\n\" style=\"fill:#7ca947;\"/>\r\n   </g>\r\n   <g id=\"patch_11\">\r\n    <path clip-path=\"url(#p32414bb1c8)\" d=\"M 187.31356 550.8 \r\nL 202.840516 550.8 \r\nL 202.840516 319.718317 \r\nL 187.31356 319.718317 \r\nz\r\n\" style=\"fill:#48b14d;\"/>\r\n   </g>\r\n   <g id=\"patch_12\">\r\n    <path clip-path=\"url(#p32414bb1c8)\" d=\"M 206.722255 550.8 \r\nL 222.249212 550.8 \r\nL 222.249212 321.747575 \r\nL 206.722255 321.747575 \r\nz\r\n\" style=\"fill:#49ae7e;\"/>\r\n   </g>\r\n   <g id=\"patch_13\">\r\n    <path clip-path=\"url(#p32414bb1c8)\" d=\"M 226.130951 550.8 \r\nL 241.657908 550.8 \r\nL 241.657908 322.254889 \r\nL 226.130951 322.254889 \r\nz\r\n\" style=\"fill:#4aad91;\"/>\r\n   </g>\r\n   <g id=\"patch_14\">\r\n    <path clip-path=\"url(#p32414bb1c8)\" d=\"M 245.539647 550.8 \r\nL 261.066603 550.8 \r\nL 261.066603 358.274207 \r\nL 245.539647 358.274207 \r\nz\r\n\" style=\"fill:#4bac9f;\"/>\r\n   </g>\r\n   <g id=\"patch_15\">\r\n    <path clip-path=\"url(#p32414bb1c8)\" d=\"M 264.948342 550.8 \r\nL 280.475299 550.8 \r\nL 280.475299 360.810779 \r\nL 264.948342 360.810779 \r\nz\r\n\" style=\"fill:#4babaa;\"/>\r\n   </g>\r\n   <g id=\"patch_16\">\r\n    <path clip-path=\"url(#p32414bb1c8)\" d=\"M 284.357038 550.8 \r\nL 299.883995 550.8 \r\nL 299.883995 362.079065 \r\nL 284.357038 362.079065 \r\nz\r\n\" style=\"fill:#4eabb7;\"/>\r\n   </g>\r\n   <g id=\"patch_17\">\r\n    <path clip-path=\"url(#p32414bb1c8)\" d=\"M 303.765734 550.8 \r\nL 319.29269 550.8 \r\nL 319.29269 364.108322 \r\nL 303.765734 364.108322 \r\nz\r\n\" style=\"fill:#51acc6;\"/>\r\n   </g>\r\n   <g id=\"patch_18\">\r\n    <path clip-path=\"url(#p32414bb1c8)\" d=\"M 323.174429 550.8 \r\nL 338.701386 550.8 \r\nL 338.701386 367.659523 \r\nL 323.174429 367.659523 \r\nz\r\n\" style=\"fill:#56addd;\"/>\r\n   </g>\r\n   <g id=\"patch_19\">\r\n    <path clip-path=\"url(#p32414bb1c8)\" d=\"M 342.583125 550.8 \r\nL 358.110082 550.8 \r\nL 358.110082 370.196094 \r\nL 342.583125 370.196094 \r\nz\r\n\" style=\"fill:#90aee7;\"/>\r\n   </g>\r\n   <g id=\"patch_20\">\r\n    <path clip-path=\"url(#p32414bb1c8)\" d=\"M 361.991821 550.8 \r\nL 377.518777 550.8 \r\nL 377.518777 377.298495 \r\nL 361.991821 377.298495 \r\nz\r\n\" style=\"fill:#b0aaeb;\"/>\r\n   </g>\r\n   <g id=\"patch_21\">\r\n    <path clip-path=\"url(#p32414bb1c8)\" d=\"M 381.400516 550.8 \r\nL 396.927473 550.8 \r\nL 396.927473 378.820438 \r\nL 381.400516 378.820438 \r\nz\r\n\" style=\"fill:#c6a0ea;\"/>\r\n   </g>\r\n   <g id=\"patch_22\">\r\n    <path clip-path=\"url(#p32414bb1c8)\" d=\"M 400.809212 550.8 \r\nL 416.336168 550.8 \r\nL 416.336168 386.176496 \r\nL 400.809212 386.176496 \r\nz\r\n\" style=\"fill:#db92e8;\"/>\r\n   </g>\r\n   <g id=\"patch_23\">\r\n    <path clip-path=\"url(#p32414bb1c8)\" d=\"M 420.217908 550.8 \r\nL 435.744864 550.8 \r\nL 435.744864 390.995982 \r\nL 420.217908 390.995982 \r\nz\r\n\" style=\"fill:#e78cda;\"/>\r\n   </g>\r\n   <g id=\"patch_24\">\r\n    <path clip-path=\"url(#p32414bb1c8)\" d=\"M 439.626603 550.8 \r\nL 455.15356 550.8 \r\nL 455.15356 391.756954 \r\nL 439.626603 391.756954 \r\nz\r\n\" style=\"fill:#e890c7;\"/>\r\n   </g>\r\n   <g id=\"patch_25\">\r\n    <path clip-path=\"url(#p32414bb1c8)\" d=\"M 459.035299 550.8 \r\nL 474.562255 550.8 \r\nL 474.562255 395.054497 \r\nL 459.035299 395.054497 \r\nz\r\n\" style=\"fill:#e993b6;\"/>\r\n   </g>\r\n   <g id=\"matplotlib.axis_1\">\r\n    <g id=\"xtick_1\">\r\n     <g id=\"line2d_1\">\r\n      <defs>\r\n       <path d=\"M 0 0 \r\nL 0 3.5 \r\n\" id=\"m16ff8f972c\" style=\"stroke:#000000;stroke-width:0.8;\"/>\r\n      </defs>\r\n      <g>\r\n       <use style=\"stroke:#000000;stroke-width:0.8;\" x=\"39.807473\" xlink:href=\"#m16ff8f972c\" y=\"550.8\"/>\r\n      </g>\r\n     </g>\r\n     <g id=\"text_1\">\r\n      <!-- list -->\r\n      <g transform=\"translate(36.566383 573.557433)rotate(-45)scale(0.1 -0.1)\">\r\n       <defs>\r\n        <path d=\"M 9.421875 75.984375 \r\nL 18.40625 75.984375 \r\nL 18.40625 0 \r\nL 9.421875 0 \r\nz\r\n\" id=\"DejaVuSans-108\"/>\r\n        <path d=\"M 9.421875 54.6875 \r\nL 18.40625 54.6875 \r\nL 18.40625 0 \r\nL 9.421875 0 \r\nz\r\nM 9.421875 75.984375 \r\nL 18.40625 75.984375 \r\nL 18.40625 64.59375 \r\nL 9.421875 64.59375 \r\nz\r\n\" id=\"DejaVuSans-105\"/>\r\n        <path d=\"M 44.28125 53.078125 \r\nL 44.28125 44.578125 \r\nQ 40.484375 46.53125 36.375 47.5 \r\nQ 32.28125 48.484375 27.875 48.484375 \r\nQ 21.1875 48.484375 17.84375 46.4375 \r\nQ 14.5 44.390625 14.5 40.28125 \r\nQ 14.5 37.15625 16.890625 35.375 \r\nQ 19.28125 33.59375 26.515625 31.984375 \r\nL 29.59375 31.296875 \r\nQ 39.15625 29.25 43.1875 25.515625 \r\nQ 47.21875 21.78125 47.21875 15.09375 \r\nQ 47.21875 7.46875 41.1875 3.015625 \r\nQ 35.15625 -1.421875 24.609375 -1.421875 \r\nQ 20.21875 -1.421875 15.453125 -0.5625 \r\nQ 10.6875 0.296875 5.421875 2 \r\nL 5.421875 11.28125 \r\nQ 10.40625 8.6875 15.234375 7.390625 \r\nQ 20.0625 6.109375 24.8125 6.109375 \r\nQ 31.15625 6.109375 34.5625 8.28125 \r\nQ 37.984375 10.453125 37.984375 14.40625 \r\nQ 37.984375 18.0625 35.515625 20.015625 \r\nQ 33.0625 21.96875 24.703125 23.78125 \r\nL 21.578125 24.515625 \r\nQ 13.234375 26.265625 9.515625 29.90625 \r\nQ 5.8125 33.546875 5.8125 39.890625 \r\nQ 5.8125 47.609375 11.28125 51.796875 \r\nQ 16.75 56 26.8125 56 \r\nQ 31.78125 56 36.171875 55.265625 \r\nQ 40.578125 54.546875 44.28125 53.078125 \r\nz\r\n\" id=\"DejaVuSans-115\"/>\r\n        <path d=\"M 18.3125 70.21875 \r\nL 18.3125 54.6875 \r\nL 36.8125 54.6875 \r\nL 36.8125 47.703125 \r\nL 18.3125 47.703125 \r\nL 18.3125 18.015625 \r\nQ 18.3125 11.328125 20.140625 9.421875 \r\nQ 21.96875 7.515625 27.59375 7.515625 \r\nL 36.8125 7.515625 \r\nL 36.8125 0 \r\nL 27.59375 0 \r\nQ 17.1875 0 13.234375 3.875 \r\nQ 9.28125 7.765625 9.28125 18.015625 \r\nL 9.28125 47.703125 \r\nL 2.6875 47.703125 \r\nL 2.6875 54.6875 \r\nL 9.28125 54.6875 \r\nL 9.28125 70.21875 \r\nz\r\n\" id=\"DejaVuSans-116\"/>\r\n       </defs>\r\n       <use xlink:href=\"#DejaVuSans-108\"/>\r\n       <use x=\"27.783203\" xlink:href=\"#DejaVuSans-105\"/>\r\n       <use x=\"55.566406\" xlink:href=\"#DejaVuSans-115\"/>\r\n       <use x=\"107.666016\" xlink:href=\"#DejaVuSans-116\"/>\r\n      </g>\r\n     </g>\r\n    </g>\r\n    <g id=\"xtick_2\">\r\n     <g id=\"line2d_2\">\r\n      <g>\r\n       <use style=\"stroke:#000000;stroke-width:0.8;\" x=\"59.216168\" xlink:href=\"#m16ff8f972c\" y=\"550.8\"/>\r\n      </g>\r\n     </g>\r\n     <g id=\"text_2\">\r\n      <!-- use -->\r\n      <g transform=\"translate(54.909446 575.688697)rotate(-45)scale(0.1 -0.1)\">\r\n       <defs>\r\n        <path d=\"M 8.5 21.578125 \r\nL 8.5 54.6875 \r\nL 17.484375 54.6875 \r\nL 17.484375 21.921875 \r\nQ 17.484375 14.15625 20.5 10.265625 \r\nQ 23.53125 6.390625 29.59375 6.390625 \r\nQ 36.859375 6.390625 41.078125 11.03125 \r\nQ 45.3125 15.671875 45.3125 23.6875 \r\nL 45.3125 54.6875 \r\nL 54.296875 54.6875 \r\nL 54.296875 0 \r\nL 45.3125 0 \r\nL 45.3125 8.40625 \r\nQ 42.046875 3.421875 37.71875 1 \r\nQ 33.40625 -1.421875 27.6875 -1.421875 \r\nQ 18.265625 -1.421875 13.375 4.4375 \r\nQ 8.5 10.296875 8.5 21.578125 \r\nz\r\nM 31.109375 56 \r\nz\r\n\" id=\"DejaVuSans-117\"/>\r\n        <path d=\"M 56.203125 29.59375 \r\nL 56.203125 25.203125 \r\nL 14.890625 25.203125 \r\nQ 15.484375 15.921875 20.484375 11.0625 \r\nQ 25.484375 6.203125 34.421875 6.203125 \r\nQ 39.59375 6.203125 44.453125 7.46875 \r\nQ 49.3125 8.734375 54.109375 11.28125 \r\nL 54.109375 2.78125 \r\nQ 49.265625 0.734375 44.1875 -0.34375 \r\nQ 39.109375 -1.421875 33.890625 -1.421875 \r\nQ 20.796875 -1.421875 13.15625 6.1875 \r\nQ 5.515625 13.8125 5.515625 26.8125 \r\nQ 5.515625 40.234375 12.765625 48.109375 \r\nQ 20.015625 56 32.328125 56 \r\nQ 43.359375 56 49.78125 48.890625 \r\nQ 56.203125 41.796875 56.203125 29.59375 \r\nz\r\nM 47.21875 32.234375 \r\nQ 47.125 39.59375 43.09375 43.984375 \r\nQ 39.0625 48.390625 32.421875 48.390625 \r\nQ 24.90625 48.390625 20.390625 44.140625 \r\nQ 15.875 39.890625 15.1875 32.171875 \r\nz\r\n\" id=\"DejaVuSans-101\"/>\r\n       </defs>\r\n       <use xlink:href=\"#DejaVuSans-117\"/>\r\n       <use x=\"63.378906\" xlink:href=\"#DejaVuSans-115\"/>\r\n       <use x=\"115.478516\" xlink:href=\"#DejaVuSans-101\"/>\r\n      </g>\r\n     </g>\r\n    </g>\r\n    <g id=\"xtick_3\">\r\n     <g id=\"line2d_3\">\r\n      <g>\r\n       <use style=\"stroke:#000000;stroke-width:0.8;\" x=\"78.624864\" xlink:href=\"#m16ff8f972c\" y=\"550.8\"/>\r\n      </g>\r\n     </g>\r\n     <g id=\"text_3\">\r\n      <!-- mail -->\r\n      <g transform=\"translate(73.001156 578.322669)rotate(-45)scale(0.1 -0.1)\">\r\n       <defs>\r\n        <path d=\"M 52 44.1875 \r\nQ 55.375 50.25 60.0625 53.125 \r\nQ 64.75 56 71.09375 56 \r\nQ 79.640625 56 84.28125 50.015625 \r\nQ 88.921875 44.046875 88.921875 33.015625 \r\nL 88.921875 0 \r\nL 79.890625 0 \r\nL 79.890625 32.71875 \r\nQ 79.890625 40.578125 77.09375 44.375 \r\nQ 74.3125 48.1875 68.609375 48.1875 \r\nQ 61.625 48.1875 57.5625 43.546875 \r\nQ 53.515625 38.921875 53.515625 30.90625 \r\nL 53.515625 0 \r\nL 44.484375 0 \r\nL 44.484375 32.71875 \r\nQ 44.484375 40.625 41.703125 44.40625 \r\nQ 38.921875 48.1875 33.109375 48.1875 \r\nQ 26.21875 48.1875 22.15625 43.53125 \r\nQ 18.109375 38.875 18.109375 30.90625 \r\nL 18.109375 0 \r\nL 9.078125 0 \r\nL 9.078125 54.6875 \r\nL 18.109375 54.6875 \r\nL 18.109375 46.1875 \r\nQ 21.1875 51.21875 25.484375 53.609375 \r\nQ 29.78125 56 35.6875 56 \r\nQ 41.65625 56 45.828125 52.96875 \r\nQ 50 49.953125 52 44.1875 \r\nz\r\n\" id=\"DejaVuSans-109\"/>\r\n        <path d=\"M 34.28125 27.484375 \r\nQ 23.390625 27.484375 19.1875 25 \r\nQ 14.984375 22.515625 14.984375 16.5 \r\nQ 14.984375 11.71875 18.140625 8.90625 \r\nQ 21.296875 6.109375 26.703125 6.109375 \r\nQ 34.1875 6.109375 38.703125 11.40625 \r\nQ 43.21875 16.703125 43.21875 25.484375 \r\nL 43.21875 27.484375 \r\nz\r\nM 52.203125 31.203125 \r\nL 52.203125 0 \r\nL 43.21875 0 \r\nL 43.21875 8.296875 \r\nQ 40.140625 3.328125 35.546875 0.953125 \r\nQ 30.953125 -1.421875 24.3125 -1.421875 \r\nQ 15.921875 -1.421875 10.953125 3.296875 \r\nQ 6 8.015625 6 15.921875 \r\nQ 6 25.140625 12.171875 29.828125 \r\nQ 18.359375 34.515625 30.609375 34.515625 \r\nL 43.21875 34.515625 \r\nL 43.21875 35.40625 \r\nQ 43.21875 41.609375 39.140625 45 \r\nQ 35.0625 48.390625 27.6875 48.390625 \r\nQ 23 48.390625 18.546875 47.265625 \r\nQ 14.109375 46.140625 10.015625 43.890625 \r\nL 10.015625 52.203125 \r\nQ 14.9375 54.109375 19.578125 55.046875 \r\nQ 24.21875 56 28.609375 56 \r\nQ 40.484375 56 46.34375 49.84375 \r\nQ 52.203125 43.703125 52.203125 31.203125 \r\nz\r\n\" id=\"DejaVuSans-97\"/>\r\n       </defs>\r\n       <use xlink:href=\"#DejaVuSans-109\"/>\r\n       <use x=\"97.412109\" xlink:href=\"#DejaVuSans-97\"/>\r\n       <use x=\"158.691406\" xlink:href=\"#DejaVuSans-105\"/>\r\n       <use x=\"186.474609\" xlink:href=\"#DejaVuSans-108\"/>\r\n      </g>\r\n     </g>\r\n    </g>\r\n    <g id=\"xtick_4\">\r\n     <g id=\"line2d_4\">\r\n      <g>\r\n       <use style=\"stroke:#000000;stroke-width:0.8;\" x=\"98.03356\" xlink:href=\"#m16ff8f972c\" y=\"550.8\"/>\r\n      </g>\r\n     </g>\r\n     <g id=\"text_4\">\r\n      <!-- get -->\r\n      <g transform=\"translate(94.178723 574.784926)rotate(-45)scale(0.1 -0.1)\">\r\n       <defs>\r\n        <path d=\"M 45.40625 27.984375 \r\nQ 45.40625 37.75 41.375 43.109375 \r\nQ 37.359375 48.484375 30.078125 48.484375 \r\nQ 22.859375 48.484375 18.828125 43.109375 \r\nQ 14.796875 37.75 14.796875 27.984375 \r\nQ 14.796875 18.265625 18.828125 12.890625 \r\nQ 22.859375 7.515625 30.078125 7.515625 \r\nQ 37.359375 7.515625 41.375 12.890625 \r\nQ 45.40625 18.265625 45.40625 27.984375 \r\nz\r\nM 54.390625 6.78125 \r\nQ 54.390625 -7.171875 48.1875 -13.984375 \r\nQ 42 -20.796875 29.203125 -20.796875 \r\nQ 24.46875 -20.796875 20.265625 -20.09375 \r\nQ 16.0625 -19.390625 12.109375 -17.921875 \r\nL 12.109375 -9.1875 \r\nQ 16.0625 -11.328125 19.921875 -12.34375 \r\nQ 23.78125 -13.375 27.78125 -13.375 \r\nQ 36.625 -13.375 41.015625 -8.765625 \r\nQ 45.40625 -4.15625 45.40625 5.171875 \r\nL 45.40625 9.625 \r\nQ 42.625 4.78125 38.28125 2.390625 \r\nQ 33.9375 0 27.875 0 \r\nQ 17.828125 0 11.671875 7.65625 \r\nQ 5.515625 15.328125 5.515625 27.984375 \r\nQ 5.515625 40.671875 11.671875 48.328125 \r\nQ 17.828125 56 27.875 56 \r\nQ 33.9375 56 38.28125 53.609375 \r\nQ 42.625 51.21875 45.40625 46.390625 \r\nL 45.40625 54.6875 \r\nL 54.390625 54.6875 \r\nz\r\n\" id=\"DejaVuSans-103\"/>\r\n       </defs>\r\n       <use xlink:href=\"#DejaVuSans-103\"/>\r\n       <use x=\"63.476562\" xlink:href=\"#DejaVuSans-101\"/>\r\n       <use x=\"125\" xlink:href=\"#DejaVuSans-116\"/>\r\n      </g>\r\n     </g>\r\n    </g>\r\n    <g id=\"xtick_5\">\r\n     <g id=\"line2d_5\">\r\n      <g>\r\n       <use style=\"stroke:#000000;stroke-width:0.8;\" x=\"117.442255\" xlink:href=\"#m16ff8f972c\" y=\"550.8\"/>\r\n      </g>\r\n     </g>\r\n     <g id=\"text_5\">\r\n      <!-- one -->\r\n      <g transform=\"translate(112.814021 576.331722)rotate(-45)scale(0.1 -0.1)\">\r\n       <defs>\r\n        <path d=\"M 30.609375 48.390625 \r\nQ 23.390625 48.390625 19.1875 42.75 \r\nQ 14.984375 37.109375 14.984375 27.296875 \r\nQ 14.984375 17.484375 19.15625 11.84375 \r\nQ 23.34375 6.203125 30.609375 6.203125 \r\nQ 37.796875 6.203125 41.984375 11.859375 \r\nQ 46.1875 17.53125 46.1875 27.296875 \r\nQ 46.1875 37.015625 41.984375 42.703125 \r\nQ 37.796875 48.390625 30.609375 48.390625 \r\nz\r\nM 30.609375 56 \r\nQ 42.328125 56 49.015625 48.375 \r\nQ 55.71875 40.765625 55.71875 27.296875 \r\nQ 55.71875 13.875 49.015625 6.21875 \r\nQ 42.328125 -1.421875 30.609375 -1.421875 \r\nQ 18.84375 -1.421875 12.171875 6.21875 \r\nQ 5.515625 13.875 5.515625 27.296875 \r\nQ 5.515625 40.765625 12.171875 48.375 \r\nQ 18.84375 56 30.609375 56 \r\nz\r\n\" id=\"DejaVuSans-111\"/>\r\n        <path d=\"M 54.890625 33.015625 \r\nL 54.890625 0 \r\nL 45.90625 0 \r\nL 45.90625 32.71875 \r\nQ 45.90625 40.484375 42.875 44.328125 \r\nQ 39.84375 48.1875 33.796875 48.1875 \r\nQ 26.515625 48.1875 22.3125 43.546875 \r\nQ 18.109375 38.921875 18.109375 30.90625 \r\nL 18.109375 0 \r\nL 9.078125 0 \r\nL 9.078125 54.6875 \r\nL 18.109375 54.6875 \r\nL 18.109375 46.1875 \r\nQ 21.34375 51.125 25.703125 53.5625 \r\nQ 30.078125 56 35.796875 56 \r\nQ 45.21875 56 50.046875 50.171875 \r\nQ 54.890625 44.34375 54.890625 33.015625 \r\nz\r\n\" id=\"DejaVuSans-110\"/>\r\n       </defs>\r\n       <use xlink:href=\"#DejaVuSans-111\"/>\r\n       <use x=\"61.181641\" xlink:href=\"#DejaVuSans-110\"/>\r\n       <use x=\"124.560547\" xlink:href=\"#DejaVuSans-101\"/>\r\n      </g>\r\n     </g>\r\n    </g>\r\n    <g id=\"xtick_6\">\r\n     <g id=\"line2d_6\">\r\n      <g>\r\n       <use style=\"stroke:#000000;stroke-width:0.8;\" x=\"136.850951\" xlink:href=\"#m16ff8f972c\" y=\"550.8\"/>\r\n      </g>\r\n     </g>\r\n     <g id=\"text_6\">\r\n      <!-- time -->\r\n      <g transform=\"translate(130.814579 579.147996)rotate(-45)scale(0.1 -0.1)\">\r\n       <use xlink:href=\"#DejaVuSans-116\"/>\r\n       <use x=\"39.208984\" xlink:href=\"#DejaVuSans-105\"/>\r\n       <use x=\"66.992188\" xlink:href=\"#DejaVuSans-109\"/>\r\n       <use x=\"164.404297\" xlink:href=\"#DejaVuSans-101\"/>\r\n      </g>\r\n     </g>\r\n    </g>\r\n    <g id=\"xtick_7\">\r\n     <g id=\"line2d_7\">\r\n      <g>\r\n       <use style=\"stroke:#000000;stroke-width:0.8;\" x=\"156.259647\" xlink:href=\"#m16ff8f972c\" y=\"550.8\"/>\r\n      </g>\r\n     </g>\r\n     <g id=\"text_7\">\r\n      <!-- like -->\r\n      <g transform=\"translate(152.151798 575.290949)rotate(-45)scale(0.1 -0.1)\">\r\n       <defs>\r\n        <path d=\"M 9.078125 75.984375 \r\nL 18.109375 75.984375 \r\nL 18.109375 31.109375 \r\nL 44.921875 54.6875 \r\nL 56.390625 54.6875 \r\nL 27.390625 29.109375 \r\nL 57.625 0 \r\nL 45.90625 0 \r\nL 18.109375 26.703125 \r\nL 18.109375 0 \r\nL 9.078125 0 \r\nz\r\n\" id=\"DejaVuSans-107\"/>\r\n       </defs>\r\n       <use xlink:href=\"#DejaVuSans-108\"/>\r\n       <use x=\"27.783203\" xlink:href=\"#DejaVuSans-105\"/>\r\n       <use x=\"55.566406\" xlink:href=\"#DejaVuSans-107\"/>\r\n       <use x=\"109.851562\" xlink:href=\"#DejaVuSans-101\"/>\r\n      </g>\r\n     </g>\r\n    </g>\r\n    <g id=\"xtick_8\">\r\n     <g id=\"line2d_8\">\r\n      <g>\r\n       <use style=\"stroke:#000000;stroke-width:0.8;\" x=\"175.668342\" xlink:href=\"#m16ff8f972c\" y=\"550.8\"/>\r\n      </g>\r\n     </g>\r\n     <g id=\"text_8\">\r\n      <!-- com -->\r\n      <g transform=\"translate(170.068388 578.275161)rotate(-45)scale(0.1 -0.1)\">\r\n       <defs>\r\n        <path d=\"M 48.78125 52.59375 \r\nL 48.78125 44.1875 \r\nQ 44.96875 46.296875 41.140625 47.34375 \r\nQ 37.3125 48.390625 33.40625 48.390625 \r\nQ 24.65625 48.390625 19.8125 42.84375 \r\nQ 14.984375 37.3125 14.984375 27.296875 \r\nQ 14.984375 17.28125 19.8125 11.734375 \r\nQ 24.65625 6.203125 33.40625 6.203125 \r\nQ 37.3125 6.203125 41.140625 7.25 \r\nQ 44.96875 8.296875 48.78125 10.40625 \r\nL 48.78125 2.09375 \r\nQ 45.015625 0.34375 40.984375 -0.53125 \r\nQ 36.96875 -1.421875 32.421875 -1.421875 \r\nQ 20.0625 -1.421875 12.78125 6.34375 \r\nQ 5.515625 14.109375 5.515625 27.296875 \r\nQ 5.515625 40.671875 12.859375 48.328125 \r\nQ 20.21875 56 33.015625 56 \r\nQ 37.15625 56 41.109375 55.140625 \r\nQ 45.0625 54.296875 48.78125 52.59375 \r\nz\r\n\" id=\"DejaVuSans-99\"/>\r\n       </defs>\r\n       <use xlink:href=\"#DejaVuSans-99\"/>\r\n       <use x=\"54.980469\" xlink:href=\"#DejaVuSans-111\"/>\r\n       <use x=\"116.162109\" xlink:href=\"#DejaVuSans-109\"/>\r\n      </g>\r\n     </g>\r\n    </g>\r\n    <g id=\"xtick_9\">\r\n     <g id=\"line2d_9\">\r\n      <g>\r\n       <use style=\"stroke:#000000;stroke-width:0.8;\" x=\"195.077038\" xlink:href=\"#m16ff8f972c\" y=\"550.8\"/>\r\n      </g>\r\n     </g>\r\n     <g id=\"text_9\">\r\n      <!-- messag -->\r\n      <g transform=\"translate(183.314206 590.600916)rotate(-45)scale(0.1 -0.1)\">\r\n       <use xlink:href=\"#DejaVuSans-109\"/>\r\n       <use x=\"97.412109\" xlink:href=\"#DejaVuSans-101\"/>\r\n       <use x=\"158.935547\" xlink:href=\"#DejaVuSans-115\"/>\r\n       <use x=\"211.035156\" xlink:href=\"#DejaVuSans-115\"/>\r\n       <use x=\"263.134766\" xlink:href=\"#DejaVuSans-97\"/>\r\n       <use x=\"324.414062\" xlink:href=\"#DejaVuSans-103\"/>\r\n      </g>\r\n     </g>\r\n    </g>\r\n    <g id=\"xtick_10\">\r\n     <g id=\"line2d_10\">\r\n      <g>\r\n       <use style=\"stroke:#000000;stroke-width:0.8;\" x=\"214.485734\" xlink:href=\"#m16ff8f972c\" y=\"550.8\"/>\r\n      </g>\r\n     </g>\r\n     <g id=\"text_10\">\r\n      <!-- would -->\r\n      <g transform=\"translate(205.914826 584.217067)rotate(-45)scale(0.1 -0.1)\">\r\n       <defs>\r\n        <path d=\"M 4.203125 54.6875 \r\nL 13.1875 54.6875 \r\nL 24.421875 12.015625 \r\nL 35.59375 54.6875 \r\nL 46.1875 54.6875 \r\nL 57.421875 12.015625 \r\nL 68.609375 54.6875 \r\nL 77.59375 54.6875 \r\nL 63.28125 0 \r\nL 52.6875 0 \r\nL 40.921875 44.828125 \r\nL 29.109375 0 \r\nL 18.5 0 \r\nz\r\n\" id=\"DejaVuSans-119\"/>\r\n        <path d=\"M 45.40625 46.390625 \r\nL 45.40625 75.984375 \r\nL 54.390625 75.984375 \r\nL 54.390625 0 \r\nL 45.40625 0 \r\nL 45.40625 8.203125 \r\nQ 42.578125 3.328125 38.25 0.953125 \r\nQ 33.9375 -1.421875 27.875 -1.421875 \r\nQ 17.96875 -1.421875 11.734375 6.484375 \r\nQ 5.515625 14.40625 5.515625 27.296875 \r\nQ 5.515625 40.1875 11.734375 48.09375 \r\nQ 17.96875 56 27.875 56 \r\nQ 33.9375 56 38.25 53.625 \r\nQ 42.578125 51.265625 45.40625 46.390625 \r\nz\r\nM 14.796875 27.296875 \r\nQ 14.796875 17.390625 18.875 11.75 \r\nQ 22.953125 6.109375 30.078125 6.109375 \r\nQ 37.203125 6.109375 41.296875 11.75 \r\nQ 45.40625 17.390625 45.40625 27.296875 \r\nQ 45.40625 37.203125 41.296875 42.84375 \r\nQ 37.203125 48.484375 30.078125 48.484375 \r\nQ 22.953125 48.484375 18.875 42.84375 \r\nQ 14.796875 37.203125 14.796875 27.296875 \r\nz\r\n\" id=\"DejaVuSans-100\"/>\r\n       </defs>\r\n       <use xlink:href=\"#DejaVuSans-119\"/>\r\n       <use x=\"81.787109\" xlink:href=\"#DejaVuSans-111\"/>\r\n       <use x=\"142.96875\" xlink:href=\"#DejaVuSans-117\"/>\r\n       <use x=\"206.347656\" xlink:href=\"#DejaVuSans-108\"/>\r\n       <use x=\"234.130859\" xlink:href=\"#DejaVuSans-100\"/>\r\n      </g>\r\n     </g>\r\n    </g>\r\n    <g id=\"xtick_11\">\r\n     <g id=\"line2d_11\">\r\n      <g>\r\n       <use style=\"stroke:#000000;stroke-width:0.8;\" x=\"233.894429\" xlink:href=\"#m16ff8f972c\" y=\"550.8\"/>\r\n      </g>\r\n     </g>\r\n     <g id=\"text_11\">\r\n      <!-- email -->\r\n      <g transform=\"translate(226.095263 582.673586)rotate(-45)scale(0.1 -0.1)\">\r\n       <use xlink:href=\"#DejaVuSans-101\"/>\r\n       <use x=\"61.523438\" xlink:href=\"#DejaVuSans-109\"/>\r\n       <use x=\"158.935547\" xlink:href=\"#DejaVuSans-97\"/>\r\n       <use x=\"220.214844\" xlink:href=\"#DejaVuSans-105\"/>\r\n       <use x=\"247.998047\" xlink:href=\"#DejaVuSans-108\"/>\r\n      </g>\r\n     </g>\r\n    </g>\r\n    <g id=\"xtick_12\">\r\n     <g id=\"line2d_12\">\r\n      <g>\r\n       <use style=\"stroke:#000000;stroke-width:0.8;\" x=\"253.303125\" xlink:href=\"#m16ff8f972c\" y=\"550.8\"/>\r\n      </g>\r\n     </g>\r\n     <g id=\"text_12\">\r\n      <!-- work -->\r\n      <g transform=\"translate(246.698858 580.283786)rotate(-45)scale(0.1 -0.1)\">\r\n       <defs>\r\n        <path d=\"M 41.109375 46.296875 \r\nQ 39.59375 47.171875 37.8125 47.578125 \r\nQ 36.03125 48 33.890625 48 \r\nQ 26.265625 48 22.1875 43.046875 \r\nQ 18.109375 38.09375 18.109375 28.8125 \r\nL 18.109375 0 \r\nL 9.078125 0 \r\nL 9.078125 54.6875 \r\nL 18.109375 54.6875 \r\nL 18.109375 46.1875 \r\nQ 20.953125 51.171875 25.484375 53.578125 \r\nQ 30.03125 56 36.53125 56 \r\nQ 37.453125 56 38.578125 55.875 \r\nQ 39.703125 55.765625 41.0625 55.515625 \r\nz\r\n\" id=\"DejaVuSans-114\"/>\r\n       </defs>\r\n       <use xlink:href=\"#DejaVuSans-119\"/>\r\n       <use x=\"81.787109\" xlink:href=\"#DejaVuSans-111\"/>\r\n       <use x=\"142.96875\" xlink:href=\"#DejaVuSans-114\"/>\r\n       <use x=\"184.082031\" xlink:href=\"#DejaVuSans-107\"/>\r\n      </g>\r\n     </g>\r\n    </g>\r\n    <g id=\"xtick_13\">\r\n     <g id=\"line2d_13\">\r\n      <g>\r\n       <use style=\"stroke:#000000;stroke-width:0.8;\" x=\"272.711821\" xlink:href=\"#m16ff8f972c\" y=\"550.8\"/>\r\n      </g>\r\n     </g>\r\n     <g id=\"text_13\">\r\n      <!-- new -->\r\n      <g transform=\"translate(267.355487 577.78792)rotate(-45)scale(0.1 -0.1)\">\r\n       <use xlink:href=\"#DejaVuSans-110\"/>\r\n       <use x=\"63.378906\" xlink:href=\"#DejaVuSans-101\"/>\r\n       <use x=\"124.902344\" xlink:href=\"#DejaVuSans-119\"/>\r\n      </g>\r\n     </g>\r\n    </g>\r\n    <g id=\"xtick_14\">\r\n     <g id=\"line2d_14\">\r\n      <g>\r\n       <use style=\"stroke:#000000;stroke-width:0.8;\" x=\"292.120516\" xlink:href=\"#m16ff8f972c\" y=\"550.8\"/>\r\n      </g>\r\n     </g>\r\n     <g id=\"text_14\">\r\n      <!-- make -->\r\n      <g transform=\"translate(284.366649 582.582988)rotate(-45)scale(0.1 -0.1)\">\r\n       <use xlink:href=\"#DejaVuSans-109\"/>\r\n       <use x=\"97.412109\" xlink:href=\"#DejaVuSans-97\"/>\r\n       <use x=\"158.691406\" xlink:href=\"#DejaVuSans-107\"/>\r\n       <use x=\"212.976562\" xlink:href=\"#DejaVuSans-101\"/>\r\n      </g>\r\n     </g>\r\n    </g>\r\n    <g id=\"xtick_15\">\r\n     <g id=\"line2d_15\">\r\n      <g>\r\n       <use style=\"stroke:#000000;stroke-width:0.8;\" x=\"311.529212\" xlink:href=\"#m16ff8f972c\" y=\"550.8\"/>\r\n      </g>\r\n     </g>\r\n     <g id=\"text_15\">\r\n      <!-- peopl -->\r\n      <g transform=\"translate(303.670383 582.79291)rotate(-45)scale(0.1 -0.1)\">\r\n       <defs>\r\n        <path d=\"M 18.109375 8.203125 \r\nL 18.109375 -20.796875 \r\nL 9.078125 -20.796875 \r\nL 9.078125 54.6875 \r\nL 18.109375 54.6875 \r\nL 18.109375 46.390625 \r\nQ 20.953125 51.265625 25.265625 53.625 \r\nQ 29.59375 56 35.59375 56 \r\nQ 45.5625 56 51.78125 48.09375 \r\nQ 58.015625 40.1875 58.015625 27.296875 \r\nQ 58.015625 14.40625 51.78125 6.484375 \r\nQ 45.5625 -1.421875 35.59375 -1.421875 \r\nQ 29.59375 -1.421875 25.265625 0.953125 \r\nQ 20.953125 3.328125 18.109375 8.203125 \r\nz\r\nM 48.6875 27.296875 \r\nQ 48.6875 37.203125 44.609375 42.84375 \r\nQ 40.53125 48.484375 33.40625 48.484375 \r\nQ 26.265625 48.484375 22.1875 42.84375 \r\nQ 18.109375 37.203125 18.109375 27.296875 \r\nQ 18.109375 17.390625 22.1875 11.75 \r\nQ 26.265625 6.109375 33.40625 6.109375 \r\nQ 40.53125 6.109375 44.609375 11.75 \r\nQ 48.6875 17.390625 48.6875 27.296875 \r\nz\r\n\" id=\"DejaVuSans-112\"/>\r\n       </defs>\r\n       <use xlink:href=\"#DejaVuSans-112\"/>\r\n       <use x=\"63.476562\" xlink:href=\"#DejaVuSans-101\"/>\r\n       <use x=\"125\" xlink:href=\"#DejaVuSans-111\"/>\r\n       <use x=\"186.181641\" xlink:href=\"#DejaVuSans-112\"/>\r\n       <use x=\"249.658203\" xlink:href=\"#DejaVuSans-108\"/>\r\n      </g>\r\n     </g>\r\n    </g>\r\n    <g id=\"xtick_16\">\r\n     <g id=\"line2d_16\">\r\n      <g>\r\n       <use style=\"stroke:#000000;stroke-width:0.8;\" x=\"330.937908\" xlink:href=\"#m16ff8f972c\" y=\"550.8\"/>\r\n      </g>\r\n     </g>\r\n     <g id=\"text_16\">\r\n      <!-- rpm -->\r\n      <g transform=\"translate(325.747302 577.456464)rotate(-45)scale(0.1 -0.1)\">\r\n       <use xlink:href=\"#DejaVuSans-114\"/>\r\n       <use x=\"41.113281\" xlink:href=\"#DejaVuSans-112\"/>\r\n       <use x=\"104.589844\" xlink:href=\"#DejaVuSans-109\"/>\r\n      </g>\r\n     </g>\r\n    </g>\r\n    <g id=\"xtick_17\">\r\n     <g id=\"line2d_17\">\r\n      <g>\r\n       <use style=\"stroke:#000000;stroke-width:0.8;\" x=\"350.346603\" xlink:href=\"#m16ff8f972c\" y=\"550.8\"/>\r\n      </g>\r\n     </g>\r\n     <g id=\"text_17\">\r\n      <!-- user -->\r\n      <g transform=\"translate(344.586445 578.595568)rotate(-45)scale(0.1 -0.1)\">\r\n       <use xlink:href=\"#DejaVuSans-117\"/>\r\n       <use x=\"63.378906\" xlink:href=\"#DejaVuSans-115\"/>\r\n       <use x=\"115.478516\" xlink:href=\"#DejaVuSans-101\"/>\r\n       <use x=\"177.001953\" xlink:href=\"#DejaVuSans-114\"/>\r\n      </g>\r\n     </g>\r\n    </g>\r\n    <g id=\"xtick_18\">\r\n     <g id=\"line2d_18\">\r\n      <g>\r\n       <use style=\"stroke:#000000;stroke-width:0.8;\" x=\"369.755299\" xlink:href=\"#m16ff8f972c\" y=\"550.8\"/>\r\n      </g>\r\n     </g>\r\n     <g id=\"text_18\">\r\n      <!-- net -->\r\n      <g transform=\"translate(365.904329 574.777192)rotate(-45)scale(0.1 -0.1)\">\r\n       <use xlink:href=\"#DejaVuSans-110\"/>\r\n       <use x=\"63.378906\" xlink:href=\"#DejaVuSans-101\"/>\r\n       <use x=\"124.902344\" xlink:href=\"#DejaVuSans-116\"/>\r\n      </g>\r\n     </g>\r\n    </g>\r\n    <g id=\"xtick_19\">\r\n     <g id=\"line2d_19\">\r\n      <g>\r\n       <use style=\"stroke:#000000;stroke-width:0.8;\" x=\"389.163995\" xlink:href=\"#m16ff8f972c\" y=\"550.8\"/>\r\n      </g>\r\n     </g>\r\n     <g id=\"text_19\">\r\n      <!-- free -->\r\n      <g transform=\"translate(384.145746 577.111749)rotate(-45)scale(0.1 -0.1)\">\r\n       <defs>\r\n        <path d=\"M 37.109375 75.984375 \r\nL 37.109375 68.5 \r\nL 28.515625 68.5 \r\nQ 23.6875 68.5 21.796875 66.546875 \r\nQ 19.921875 64.59375 19.921875 59.515625 \r\nL 19.921875 54.6875 \r\nL 34.71875 54.6875 \r\nL 34.71875 47.703125 \r\nL 19.921875 47.703125 \r\nL 19.921875 0 \r\nL 10.890625 0 \r\nL 10.890625 47.703125 \r\nL 2.296875 47.703125 \r\nL 2.296875 54.6875 \r\nL 10.890625 54.6875 \r\nL 10.890625 58.5 \r\nQ 10.890625 67.625 15.140625 71.796875 \r\nQ 19.390625 75.984375 28.609375 75.984375 \r\nz\r\n\" id=\"DejaVuSans-102\"/>\r\n       </defs>\r\n       <use xlink:href=\"#DejaVuSans-102\"/>\r\n       <use x=\"35.205078\" xlink:href=\"#DejaVuSans-114\"/>\r\n       <use x=\"74.068359\" xlink:href=\"#DejaVuSans-101\"/>\r\n       <use x=\"135.591797\" xlink:href=\"#DejaVuSans-101\"/>\r\n      </g>\r\n     </g>\r\n    </g>\r\n    <g id=\"xtick_20\">\r\n     <g id=\"line2d_20\">\r\n      <g>\r\n       <use style=\"stroke:#000000;stroke-width:0.8;\" x=\"408.57269\" xlink:href=\"#m16ff8f972c\" y=\"550.8\"/>\r\n      </g>\r\n     </g>\r\n     <g id=\"text_20\">\r\n      <!-- date -->\r\n      <g transform=\"translate(402.551234 579.118165)rotate(-45)scale(0.1 -0.1)\">\r\n       <use xlink:href=\"#DejaVuSans-100\"/>\r\n       <use x=\"63.476562\" xlink:href=\"#DejaVuSans-97\"/>\r\n       <use x=\"124.755859\" xlink:href=\"#DejaVuSans-116\"/>\r\n       <use x=\"163.964844\" xlink:href=\"#DejaVuSans-101\"/>\r\n      </g>\r\n     </g>\r\n    </g>\r\n    <g id=\"xtick_21\">\r\n     <g id=\"line2d_21\">\r\n      <g>\r\n       <use style=\"stroke:#000000;stroke-width:0.8;\" x=\"427.981386\" xlink:href=\"#m16ff8f972c\" y=\"550.8\"/>\r\n      </g>\r\n     </g>\r\n     <g id=\"text_21\">\r\n      <!-- wrote -->\r\n      <g transform=\"translate(419.942466 583.153093)rotate(-45)scale(0.1 -0.1)\">\r\n       <use xlink:href=\"#DejaVuSans-119\"/>\r\n       <use x=\"81.787109\" xlink:href=\"#DejaVuSans-114\"/>\r\n       <use x=\"120.650391\" xlink:href=\"#DejaVuSans-111\"/>\r\n       <use x=\"181.832031\" xlink:href=\"#DejaVuSans-116\"/>\r\n       <use x=\"221.041016\" xlink:href=\"#DejaVuSans-101\"/>\r\n      </g>\r\n     </g>\r\n    </g>\r\n    <g id=\"xtick_22\">\r\n     <g id=\"line2d_22\">\r\n      <g>\r\n       <use style=\"stroke:#000000;stroke-width:0.8;\" x=\"447.390082\" xlink:href=\"#m16ff8f972c\" y=\"550.8\"/>\r\n      </g>\r\n     </g>\r\n     <g id=\"text_22\">\r\n      <!-- go -->\r\n      <g transform=\"translate(444.933438 571.98854)rotate(-45)scale(0.1 -0.1)\">\r\n       <use xlink:href=\"#DejaVuSans-103\"/>\r\n       <use x=\"63.476562\" xlink:href=\"#DejaVuSans-111\"/>\r\n      </g>\r\n     </g>\r\n    </g>\r\n    <g id=\"xtick_23\">\r\n     <g id=\"line2d_23\">\r\n      <g>\r\n       <use style=\"stroke:#000000;stroke-width:0.8;\" x=\"466.798777\" xlink:href=\"#m16ff8f972c\" y=\"550.8\"/>\r\n      </g>\r\n     </g>\r\n     <g id=\"text_23\">\r\n      <!-- want -->\r\n      <g transform=\"translate(460.065242 580.542322)rotate(-45)scale(0.1 -0.1)\">\r\n       <use xlink:href=\"#DejaVuSans-119\"/>\r\n       <use x=\"81.787109\" xlink:href=\"#DejaVuSans-97\"/>\r\n       <use x=\"143.066406\" xlink:href=\"#DejaVuSans-110\"/>\r\n       <use x=\"206.445312\" xlink:href=\"#DejaVuSans-116\"/>\r\n      </g>\r\n     </g>\r\n    </g>\r\n   </g>\r\n   <g id=\"matplotlib.axis_2\">\r\n    <g id=\"ytick_1\">\r\n     <g id=\"line2d_24\">\r\n      <defs>\r\n       <path d=\"M 0 0 \r\nL -3.5 0 \r\n\" id=\"m58d70b0568\" style=\"stroke:#000000;stroke-width:0.8;\"/>\r\n      </defs>\r\n      <g>\r\n       <use style=\"stroke:#000000;stroke-width:0.8;\" x=\"30.103125\" xlink:href=\"#m58d70b0568\" y=\"550.8\"/>\r\n      </g>\r\n     </g>\r\n     <g id=\"text_24\">\r\n      <!-- 0.0 -->\r\n      <g transform=\"translate(7.2 554.599219)scale(0.1 -0.1)\">\r\n       <defs>\r\n        <path d=\"M 31.78125 66.40625 \r\nQ 24.171875 66.40625 20.328125 58.90625 \r\nQ 16.5 51.421875 16.5 36.375 \r\nQ 16.5 21.390625 20.328125 13.890625 \r\nQ 24.171875 6.390625 31.78125 6.390625 \r\nQ 39.453125 6.390625 43.28125 13.890625 \r\nQ 47.125 21.390625 47.125 36.375 \r\nQ 47.125 51.421875 43.28125 58.90625 \r\nQ 39.453125 66.40625 31.78125 66.40625 \r\nz\r\nM 31.78125 74.21875 \r\nQ 44.046875 74.21875 50.515625 64.515625 \r\nQ 56.984375 54.828125 56.984375 36.375 \r\nQ 56.984375 17.96875 50.515625 8.265625 \r\nQ 44.046875 -1.421875 31.78125 -1.421875 \r\nQ 19.53125 -1.421875 13.0625 8.265625 \r\nQ 6.59375 17.96875 6.59375 36.375 \r\nQ 6.59375 54.828125 13.0625 64.515625 \r\nQ 19.53125 74.21875 31.78125 74.21875 \r\nz\r\n\" id=\"DejaVuSans-48\"/>\r\n        <path d=\"M 10.6875 12.40625 \r\nL 21 12.40625 \r\nL 21 0 \r\nL 10.6875 0 \r\nz\r\n\" id=\"DejaVuSans-46\"/>\r\n       </defs>\r\n       <use xlink:href=\"#DejaVuSans-48\"/>\r\n       <use x=\"63.623047\" xlink:href=\"#DejaVuSans-46\"/>\r\n       <use x=\"95.410156\" xlink:href=\"#DejaVuSans-48\"/>\r\n      </g>\r\n     </g>\r\n    </g>\r\n    <g id=\"ytick_2\">\r\n     <g id=\"line2d_25\">\r\n      <g>\r\n       <use style=\"stroke:#000000;stroke-width:0.8;\" x=\"30.103125\" xlink:href=\"#m58d70b0568\" y=\"447.561531\"/>\r\n      </g>\r\n     </g>\r\n     <g id=\"text_25\">\r\n      <!-- 0.2 -->\r\n      <g transform=\"translate(7.2 451.36075)scale(0.1 -0.1)\">\r\n       <defs>\r\n        <path d=\"M 19.1875 8.296875 \r\nL 53.609375 8.296875 \r\nL 53.609375 0 \r\nL 7.328125 0 \r\nL 7.328125 8.296875 \r\nQ 12.9375 14.109375 22.625 23.890625 \r\nQ 32.328125 33.6875 34.8125 36.53125 \r\nQ 39.546875 41.84375 41.421875 45.53125 \r\nQ 43.3125 49.21875 43.3125 52.78125 \r\nQ 43.3125 58.59375 39.234375 62.25 \r\nQ 35.15625 65.921875 28.609375 65.921875 \r\nQ 23.96875 65.921875 18.8125 64.3125 \r\nQ 13.671875 62.703125 7.8125 59.421875 \r\nL 7.8125 69.390625 \r\nQ 13.765625 71.78125 18.9375 73 \r\nQ 24.125 74.21875 28.421875 74.21875 \r\nQ 39.75 74.21875 46.484375 68.546875 \r\nQ 53.21875 62.890625 53.21875 53.421875 \r\nQ 53.21875 48.921875 51.53125 44.890625 \r\nQ 49.859375 40.875 45.40625 35.40625 \r\nQ 44.1875 33.984375 37.640625 27.21875 \r\nQ 31.109375 20.453125 19.1875 8.296875 \r\nz\r\n\" id=\"DejaVuSans-50\"/>\r\n       </defs>\r\n       <use xlink:href=\"#DejaVuSans-48\"/>\r\n       <use x=\"63.623047\" xlink:href=\"#DejaVuSans-46\"/>\r\n       <use x=\"95.410156\" xlink:href=\"#DejaVuSans-50\"/>\r\n      </g>\r\n     </g>\r\n    </g>\r\n    <g id=\"ytick_3\">\r\n     <g id=\"line2d_26\">\r\n      <g>\r\n       <use style=\"stroke:#000000;stroke-width:0.8;\" x=\"30.103125\" xlink:href=\"#m58d70b0568\" y=\"344.323063\"/>\r\n      </g>\r\n     </g>\r\n     <g id=\"text_26\">\r\n      <!-- 0.4 -->\r\n      <g transform=\"translate(7.2 348.122282)scale(0.1 -0.1)\">\r\n       <defs>\r\n        <path d=\"M 37.796875 64.3125 \r\nL 12.890625 25.390625 \r\nL 37.796875 25.390625 \r\nz\r\nM 35.203125 72.90625 \r\nL 47.609375 72.90625 \r\nL 47.609375 25.390625 \r\nL 58.015625 25.390625 \r\nL 58.015625 17.1875 \r\nL 47.609375 17.1875 \r\nL 47.609375 0 \r\nL 37.796875 0 \r\nL 37.796875 17.1875 \r\nL 4.890625 17.1875 \r\nL 4.890625 26.703125 \r\nz\r\n\" id=\"DejaVuSans-52\"/>\r\n       </defs>\r\n       <use xlink:href=\"#DejaVuSans-48\"/>\r\n       <use x=\"63.623047\" xlink:href=\"#DejaVuSans-46\"/>\r\n       <use x=\"95.410156\" xlink:href=\"#DejaVuSans-52\"/>\r\n      </g>\r\n     </g>\r\n    </g>\r\n    <g id=\"ytick_4\">\r\n     <g id=\"line2d_27\">\r\n      <g>\r\n       <use style=\"stroke:#000000;stroke-width:0.8;\" x=\"30.103125\" xlink:href=\"#m58d70b0568\" y=\"241.084594\"/>\r\n      </g>\r\n     </g>\r\n     <g id=\"text_27\">\r\n      <!-- 0.6 -->\r\n      <g transform=\"translate(7.2 244.883813)scale(0.1 -0.1)\">\r\n       <defs>\r\n        <path d=\"M 33.015625 40.375 \r\nQ 26.375 40.375 22.484375 35.828125 \r\nQ 18.609375 31.296875 18.609375 23.390625 \r\nQ 18.609375 15.53125 22.484375 10.953125 \r\nQ 26.375 6.390625 33.015625 6.390625 \r\nQ 39.65625 6.390625 43.53125 10.953125 \r\nQ 47.40625 15.53125 47.40625 23.390625 \r\nQ 47.40625 31.296875 43.53125 35.828125 \r\nQ 39.65625 40.375 33.015625 40.375 \r\nz\r\nM 52.59375 71.296875 \r\nL 52.59375 62.3125 \r\nQ 48.875 64.0625 45.09375 64.984375 \r\nQ 41.3125 65.921875 37.59375 65.921875 \r\nQ 27.828125 65.921875 22.671875 59.328125 \r\nQ 17.53125 52.734375 16.796875 39.40625 \r\nQ 19.671875 43.65625 24.015625 45.921875 \r\nQ 28.375 48.1875 33.59375 48.1875 \r\nQ 44.578125 48.1875 50.953125 41.515625 \r\nQ 57.328125 34.859375 57.328125 23.390625 \r\nQ 57.328125 12.15625 50.6875 5.359375 \r\nQ 44.046875 -1.421875 33.015625 -1.421875 \r\nQ 20.359375 -1.421875 13.671875 8.265625 \r\nQ 6.984375 17.96875 6.984375 36.375 \r\nQ 6.984375 53.65625 15.1875 63.9375 \r\nQ 23.390625 74.21875 37.203125 74.21875 \r\nQ 40.921875 74.21875 44.703125 73.484375 \r\nQ 48.484375 72.75 52.59375 71.296875 \r\nz\r\n\" id=\"DejaVuSans-54\"/>\r\n       </defs>\r\n       <use xlink:href=\"#DejaVuSans-48\"/>\r\n       <use x=\"63.623047\" xlink:href=\"#DejaVuSans-46\"/>\r\n       <use x=\"95.410156\" xlink:href=\"#DejaVuSans-54\"/>\r\n      </g>\r\n     </g>\r\n    </g>\r\n    <g id=\"ytick_5\">\r\n     <g id=\"line2d_28\">\r\n      <g>\r\n       <use style=\"stroke:#000000;stroke-width:0.8;\" x=\"30.103125\" xlink:href=\"#m58d70b0568\" y=\"137.846126\"/>\r\n      </g>\r\n     </g>\r\n     <g id=\"text_28\">\r\n      <!-- 0.8 -->\r\n      <g transform=\"translate(7.2 141.645345)scale(0.1 -0.1)\">\r\n       <defs>\r\n        <path d=\"M 31.78125 34.625 \r\nQ 24.75 34.625 20.71875 30.859375 \r\nQ 16.703125 27.09375 16.703125 20.515625 \r\nQ 16.703125 13.921875 20.71875 10.15625 \r\nQ 24.75 6.390625 31.78125 6.390625 \r\nQ 38.8125 6.390625 42.859375 10.171875 \r\nQ 46.921875 13.96875 46.921875 20.515625 \r\nQ 46.921875 27.09375 42.890625 30.859375 \r\nQ 38.875 34.625 31.78125 34.625 \r\nz\r\nM 21.921875 38.8125 \r\nQ 15.578125 40.375 12.03125 44.71875 \r\nQ 8.5 49.078125 8.5 55.328125 \r\nQ 8.5 64.0625 14.71875 69.140625 \r\nQ 20.953125 74.21875 31.78125 74.21875 \r\nQ 42.671875 74.21875 48.875 69.140625 \r\nQ 55.078125 64.0625 55.078125 55.328125 \r\nQ 55.078125 49.078125 51.53125 44.71875 \r\nQ 48 40.375 41.703125 38.8125 \r\nQ 48.828125 37.15625 52.796875 32.3125 \r\nQ 56.78125 27.484375 56.78125 20.515625 \r\nQ 56.78125 9.90625 50.3125 4.234375 \r\nQ 43.84375 -1.421875 31.78125 -1.421875 \r\nQ 19.734375 -1.421875 13.25 4.234375 \r\nQ 6.78125 9.90625 6.78125 20.515625 \r\nQ 6.78125 27.484375 10.78125 32.3125 \r\nQ 14.796875 37.15625 21.921875 38.8125 \r\nz\r\nM 18.3125 54.390625 \r\nQ 18.3125 48.734375 21.84375 45.5625 \r\nQ 25.390625 42.390625 31.78125 42.390625 \r\nQ 38.140625 42.390625 41.71875 45.5625 \r\nQ 45.3125 48.734375 45.3125 54.390625 \r\nQ 45.3125 60.0625 41.71875 63.234375 \r\nQ 38.140625 66.40625 31.78125 66.40625 \r\nQ 25.390625 66.40625 21.84375 63.234375 \r\nQ 18.3125 60.0625 18.3125 54.390625 \r\nz\r\n\" id=\"DejaVuSans-56\"/>\r\n       </defs>\r\n       <use xlink:href=\"#DejaVuSans-48\"/>\r\n       <use x=\"63.623047\" xlink:href=\"#DejaVuSans-46\"/>\r\n       <use x=\"95.410156\" xlink:href=\"#DejaVuSans-56\"/>\r\n      </g>\r\n     </g>\r\n    </g>\r\n    <g id=\"ytick_6\">\r\n     <g id=\"line2d_29\">\r\n      <g>\r\n       <use style=\"stroke:#000000;stroke-width:0.8;\" x=\"30.103125\" xlink:href=\"#m58d70b0568\" y=\"34.607657\"/>\r\n      </g>\r\n     </g>\r\n     <g id=\"text_29\">\r\n      <!-- 1.0 -->\r\n      <g transform=\"translate(7.2 38.406876)scale(0.1 -0.1)\">\r\n       <defs>\r\n        <path d=\"M 12.40625 8.296875 \r\nL 28.515625 8.296875 \r\nL 28.515625 63.921875 \r\nL 10.984375 60.40625 \r\nL 10.984375 69.390625 \r\nL 28.421875 72.90625 \r\nL 38.28125 72.90625 \r\nL 38.28125 8.296875 \r\nL 54.390625 8.296875 \r\nL 54.390625 0 \r\nL 12.40625 0 \r\nz\r\n\" id=\"DejaVuSans-49\"/>\r\n       </defs>\r\n       <use xlink:href=\"#DejaVuSans-49\"/>\r\n       <use x=\"63.623047\" xlink:href=\"#DejaVuSans-46\"/>\r\n       <use x=\"95.410156\" xlink:href=\"#DejaVuSans-48\"/>\r\n      </g>\r\n     </g>\r\n    </g>\r\n   </g>\r\n   <g id=\"line2d_30\">\r\n    <path clip-path=\"url(#p32414bb1c8)\" style=\"fill:none;stroke:#424242;stroke-linecap:square;stroke-width:2.7;\"/>\r\n   </g>\r\n   <g id=\"line2d_31\">\r\n    <path clip-path=\"url(#p32414bb1c8)\" style=\"fill:none;stroke:#424242;stroke-linecap:square;stroke-width:2.7;\"/>\r\n   </g>\r\n   <g id=\"line2d_32\">\r\n    <path clip-path=\"url(#p32414bb1c8)\" style=\"fill:none;stroke:#424242;stroke-linecap:square;stroke-width:2.7;\"/>\r\n   </g>\r\n   <g id=\"line2d_33\">\r\n    <path clip-path=\"url(#p32414bb1c8)\" style=\"fill:none;stroke:#424242;stroke-linecap:square;stroke-width:2.7;\"/>\r\n   </g>\r\n   <g id=\"line2d_34\">\r\n    <path clip-path=\"url(#p32414bb1c8)\" style=\"fill:none;stroke:#424242;stroke-linecap:square;stroke-width:2.7;\"/>\r\n   </g>\r\n   <g id=\"line2d_35\">\r\n    <path clip-path=\"url(#p32414bb1c8)\" style=\"fill:none;stroke:#424242;stroke-linecap:square;stroke-width:2.7;\"/>\r\n   </g>\r\n   <g id=\"line2d_36\">\r\n    <path clip-path=\"url(#p32414bb1c8)\" style=\"fill:none;stroke:#424242;stroke-linecap:square;stroke-width:2.7;\"/>\r\n   </g>\r\n   <g id=\"line2d_37\">\r\n    <path clip-path=\"url(#p32414bb1c8)\" style=\"fill:none;stroke:#424242;stroke-linecap:square;stroke-width:2.7;\"/>\r\n   </g>\r\n   <g id=\"line2d_38\">\r\n    <path clip-path=\"url(#p32414bb1c8)\" style=\"fill:none;stroke:#424242;stroke-linecap:square;stroke-width:2.7;\"/>\r\n   </g>\r\n   <g id=\"line2d_39\">\r\n    <path clip-path=\"url(#p32414bb1c8)\" style=\"fill:none;stroke:#424242;stroke-linecap:square;stroke-width:2.7;\"/>\r\n   </g>\r\n   <g id=\"line2d_40\">\r\n    <path clip-path=\"url(#p32414bb1c8)\" style=\"fill:none;stroke:#424242;stroke-linecap:square;stroke-width:2.7;\"/>\r\n   </g>\r\n   <g id=\"line2d_41\">\r\n    <path clip-path=\"url(#p32414bb1c8)\" style=\"fill:none;stroke:#424242;stroke-linecap:square;stroke-width:2.7;\"/>\r\n   </g>\r\n   <g id=\"line2d_42\">\r\n    <path clip-path=\"url(#p32414bb1c8)\" style=\"fill:none;stroke:#424242;stroke-linecap:square;stroke-width:2.7;\"/>\r\n   </g>\r\n   <g id=\"line2d_43\">\r\n    <path clip-path=\"url(#p32414bb1c8)\" style=\"fill:none;stroke:#424242;stroke-linecap:square;stroke-width:2.7;\"/>\r\n   </g>\r\n   <g id=\"line2d_44\">\r\n    <path clip-path=\"url(#p32414bb1c8)\" style=\"fill:none;stroke:#424242;stroke-linecap:square;stroke-width:2.7;\"/>\r\n   </g>\r\n   <g id=\"line2d_45\">\r\n    <path clip-path=\"url(#p32414bb1c8)\" style=\"fill:none;stroke:#424242;stroke-linecap:square;stroke-width:2.7;\"/>\r\n   </g>\r\n   <g id=\"line2d_46\">\r\n    <path clip-path=\"url(#p32414bb1c8)\" style=\"fill:none;stroke:#424242;stroke-linecap:square;stroke-width:2.7;\"/>\r\n   </g>\r\n   <g id=\"line2d_47\">\r\n    <path clip-path=\"url(#p32414bb1c8)\" style=\"fill:none;stroke:#424242;stroke-linecap:square;stroke-width:2.7;\"/>\r\n   </g>\r\n   <g id=\"line2d_48\">\r\n    <path clip-path=\"url(#p32414bb1c8)\" style=\"fill:none;stroke:#424242;stroke-linecap:square;stroke-width:2.7;\"/>\r\n   </g>\r\n   <g id=\"line2d_49\">\r\n    <path clip-path=\"url(#p32414bb1c8)\" style=\"fill:none;stroke:#424242;stroke-linecap:square;stroke-width:2.7;\"/>\r\n   </g>\r\n   <g id=\"line2d_50\">\r\n    <path clip-path=\"url(#p32414bb1c8)\" style=\"fill:none;stroke:#424242;stroke-linecap:square;stroke-width:2.7;\"/>\r\n   </g>\r\n   <g id=\"line2d_51\">\r\n    <path clip-path=\"url(#p32414bb1c8)\" style=\"fill:none;stroke:#424242;stroke-linecap:square;stroke-width:2.7;\"/>\r\n   </g>\r\n   <g id=\"line2d_52\">\r\n    <path clip-path=\"url(#p32414bb1c8)\" style=\"fill:none;stroke:#424242;stroke-linecap:square;stroke-width:2.7;\"/>\r\n   </g>\r\n   <g id=\"patch_26\">\r\n    <path d=\"M 30.103125 550.8 \r\nL 30.103125 7.2 \r\n\" style=\"fill:none;stroke:#000000;stroke-linecap:square;stroke-linejoin:miter;stroke-width:0.8;\"/>\r\n   </g>\r\n   <g id=\"patch_27\">\r\n    <path d=\"M 476.503125 550.8 \r\nL 476.503125 7.2 \r\n\" style=\"fill:none;stroke:#000000;stroke-linecap:square;stroke-linejoin:miter;stroke-width:0.8;\"/>\r\n   </g>\r\n   <g id=\"patch_28\">\r\n    <path d=\"M 30.103125 550.8 \r\nL 476.503125 550.8 \r\n\" style=\"fill:none;stroke:#000000;stroke-linecap:square;stroke-linejoin:miter;stroke-width:0.8;\"/>\r\n   </g>\r\n   <g id=\"patch_29\">\r\n    <path d=\"M 30.103125 7.2 \r\nL 476.503125 7.2 \r\n\" style=\"fill:none;stroke:#000000;stroke-linecap:square;stroke-linejoin:miter;stroke-width:0.8;\"/>\r\n   </g>\r\n  </g>\r\n </g>\r\n <defs>\r\n  <clipPath id=\"p32414bb1c8\">\r\n   <rect height=\"543.6\" width=\"446.4\" x=\"30.103125\" y=\"7.2\"/>\r\n  </clipPath>\r\n </defs>\r\n</svg>\r\n",
      "image/png": "[encoded data removed]"
     },
     "metadata": {
      "needs_background": "light"
     }
    }
   ],
   "source": [
    "import matplotlib.pyplot as plt\n",
    "import seaborn as sns\n",
    "fig,ax_ham_words = plt.subplots(1,1,figsize = (8,10))\n",
    "sns.barplot(x = sorted_ham_word_labels, y = sorted_ham_word_means, ax = ax_ham_words)\n",
    "ax_ham_words.set_xticklabels(ax_ham_words.get_xticklabels(), rotation = 45)"
   ]
  },
  {
   "cell_type": "code",
   "execution_count": 50,
   "metadata": {},
   "outputs": [
    {
     "output_type": "execute_result",
     "data": {
      "text/plain": [
       "[Text(0, 0, 'list'),\n",
       " Text(1, 0, 'use'),\n",
       " Text(2, 0, 'mail'),\n",
       " Text(3, 0, 'get'),\n",
       " Text(4, 0, 'one'),\n",
       " Text(5, 0, 'time'),\n",
       " Text(6, 0, 'like'),\n",
       " Text(7, 0, 'com'),\n",
       " Text(8, 0, 'messag'),\n",
       " Text(9, 0, 'would'),\n",
       " Text(10, 0, 'email'),\n",
       " Text(11, 0, 'work'),\n",
       " Text(12, 0, 'new'),\n",
       " Text(13, 0, 'make'),\n",
       " Text(14, 0, 'peopl'),\n",
       " Text(15, 0, 'rpm'),\n",
       " Text(16, 0, 'user'),\n",
       " Text(17, 0, 'net'),\n",
       " Text(18, 0, 'free'),\n",
       " Text(19, 0, 'date'),\n",
       " Text(20, 0, 'wrote'),\n",
       " Text(21, 0, 'go'),\n",
       " Text(22, 0, 'want')]"
      ]
     },
     "metadata": {},
     "execution_count": 50
    },
    {
     "output_type": "display_data",
     "data": {
      "text/plain": "<Figure size 576x720 with 1 Axes>",
      "image/svg+xml": "<?xml version=\"1.0\" encoding=\"utf-8\" standalone=\"no\"?>\r\n<!DOCTYPE svg PUBLIC \"-//W3C//DTD SVG 1.1//EN\"\r\n  \"http://www.w3.org/Graphics/SVG/1.1/DTD/svg11.dtd\">\r\n<!-- Created with matplotlib (https://matplotlib.org/) -->\r\n<svg height=\"599.271477pt\" version=\"1.1\" viewBox=\"0 0 492.467719 599.271477\" width=\"492.467719pt\" xmlns=\"http://www.w3.org/2000/svg\" xmlns:xlink=\"http://www.w3.org/1999/xlink\">\r\n <metadata>\r\n  <rdf:RDF xmlns:cc=\"http://creativecommons.org/ns#\" xmlns:dc=\"http://purl.org/dc/elements/1.1/\" xmlns:rdf=\"http://www.w3.org/1999/02/22-rdf-syntax-ns#\">\r\n   <cc:Work>\r\n    <dc:type rdf:resource=\"http://purl.org/dc/dcmitype/StillImage\"/>\r\n    <dc:date>2021-06-13T21:30:21.799661</dc:date>\r\n    <dc:format>image/svg+xml</dc:format>\r\n    <dc:creator>\r\n     <cc:Agent>\r\n      <dc:title>Matplotlib v3.3.4, https://matplotlib.org/</dc:title>\r\n     </cc:Agent>\r\n    </dc:creator>\r\n   </cc:Work>\r\n  </rdf:RDF>\r\n </metadata>\r\n <defs>\r\n  <style type=\"text/css\">*{stroke-linecap:butt;stroke-linejoin:round;}</style>\r\n </defs>\r\n <g id=\"figure_1\">\r\n  <g id=\"patch_1\">\r\n   <path d=\"M 0 599.271477 \r\nL 492.467719 599.271477 \r\nL 492.467719 0 \r\nL 0 0 \r\nz\r\n\" style=\"fill:none;\"/>\r\n  </g>\r\n  <g id=\"axes_1\">\r\n   <g id=\"patch_2\">\r\n    <path d=\"M 36.465625 550.8 \r\nL 482.865625 550.8 \r\nL 482.865625 7.2 \r\nL 36.465625 7.2 \r\nz\r\n\" style=\"fill:#ffffff;\"/>\r\n   </g>\r\n   <g id=\"patch_3\">\r\n    <path clip-path=\"url(#p5aa1d45efb)\" d=\"M 38.406495 550.8 \r\nL 53.933451 550.8 \r\nL 53.933451 33.085714 \r\nL 38.406495 33.085714 \r\nz\r\n\" style=\"fill:#ea96a3;\"/>\r\n   </g>\r\n   <g id=\"patch_4\">\r\n    <path clip-path=\"url(#p5aa1d45efb)\" d=\"M 57.81519 550.8 \r\nL 73.342147 550.8 \r\nL 73.342147 49.374946 \r\nL 57.81519 49.374946 \r\nz\r\n\" style=\"fill:#e89689;\"/>\r\n   </g>\r\n   <g id=\"patch_5\">\r\n    <path clip-path=\"url(#p5aa1d45efb)\" d=\"M 77.223886 550.8 \r\nL 92.750842 550.8 \r\nL 92.750842 145.693883 \r\nL 77.223886 145.693883 \r\nz\r\n\" style=\"fill:#df914f;\"/>\r\n   </g>\r\n   <g id=\"patch_6\">\r\n    <path clip-path=\"url(#p5aa1d45efb)\" d=\"M 96.632582 550.8 \r\nL 112.159538 550.8 \r\nL 112.159538 149.235021 \r\nL 96.632582 149.235021 \r\nz\r\n\" style=\"fill:#c8984b;\"/>\r\n   </g>\r\n   <g id=\"patch_7\">\r\n    <path clip-path=\"url(#p5aa1d45efb)\" d=\"M 116.041277 550.8 \r\nL 131.568234 550.8 \r\nL 131.568234 200.935626 \r\nL 116.041277 200.935626 \r\nz\r\n\" style=\"fill:#b69c49;\"/>\r\n   </g>\r\n   <g id=\"patch_8\">\r\n    <path clip-path=\"url(#p5aa1d45efb)\" d=\"M 135.449973 550.8 \r\nL 150.976929 550.8 \r\nL 150.976929 211.559038 \r\nL 135.449973 211.559038 \r\nz\r\n\" style=\"fill:#a49f46;\"/>\r\n   </g>\r\n   <g id=\"patch_9\">\r\n    <path clip-path=\"url(#p5aa1d45efb)\" d=\"M 154.858668 550.8 \r\nL 170.385625 550.8 \r\nL 170.385625 225.723588 \r\nL 154.858668 225.723588 \r\nz\r\n\" style=\"fill:#93a346;\"/>\r\n   </g>\r\n   <g id=\"patch_10\">\r\n    <path clip-path=\"url(#p5aa1d45efb)\" d=\"M 174.267364 550.8 \r\nL 189.794321 550.8 \r\nL 189.794321 255.469142 \r\nL 174.267364 255.469142 \r\nz\r\n\" style=\"fill:#7ca947;\"/>\r\n   </g>\r\n   <g id=\"patch_11\">\r\n    <path clip-path=\"url(#p5aa1d45efb)\" d=\"M 193.67606 550.8 \r\nL 209.203016 550.8 \r\nL 209.203016 261.134962 \r\nL 193.67606 261.134962 \r\nz\r\n\" style=\"fill:#48b14d;\"/>\r\n   </g>\r\n   <g id=\"patch_12\">\r\n    <path clip-path=\"url(#p5aa1d45efb)\" d=\"M 213.084755 550.8 \r\nL 228.611712 550.8 \r\nL 228.611712 271.050147 \r\nL 213.084755 271.050147 \r\nz\r\n\" style=\"fill:#49ae7e;\"/>\r\n   </g>\r\n   <g id=\"patch_13\">\r\n    <path clip-path=\"url(#p5aa1d45efb)\" d=\"M 232.493451 550.8 \r\nL 248.020408 550.8 \r\nL 248.020408 284.506469 \r\nL 232.493451 284.506469 \r\nz\r\n\" style=\"fill:#4aad91;\"/>\r\n   </g>\r\n   <g id=\"patch_14\">\r\n    <path clip-path=\"url(#p5aa1d45efb)\" d=\"M 251.902147 550.8 \r\nL 267.429103 550.8 \r\nL 267.429103 288.047606 \r\nL 251.902147 288.047606 \r\nz\r\n\" style=\"fill:#4bac9f;\"/>\r\n   </g>\r\n   <g id=\"patch_15\">\r\n    <path clip-path=\"url(#p5aa1d45efb)\" d=\"M 271.310842 550.8 \r\nL 286.837799 550.8 \r\nL 286.837799 290.880516 \r\nL 271.310842 290.880516 \r\nz\r\n\" style=\"fill:#4babaa;\"/>\r\n   </g>\r\n   <g id=\"patch_16\">\r\n    <path clip-path=\"url(#p5aa1d45efb)\" d=\"M 290.719538 550.8 \r\nL 306.246495 550.8 \r\nL 306.246495 304.336838 \r\nL 290.719538 304.336838 \r\nz\r\n\" style=\"fill:#4eabb7;\"/>\r\n   </g>\r\n   <g id=\"patch_17\">\r\n    <path clip-path=\"url(#p5aa1d45efb)\" d=\"M 310.128234 550.8 \r\nL 325.65519 550.8 \r\nL 325.65519 310.710885 \r\nL 310.128234 310.710885 \r\nz\r\n\" style=\"fill:#51acc6;\"/>\r\n   </g>\r\n   <g id=\"patch_18\">\r\n    <path clip-path=\"url(#p5aa1d45efb)\" d=\"M 329.536929 550.8 \r\nL 345.063886 550.8 \r\nL 345.063886 314.96025 \r\nL 329.536929 314.96025 \r\nz\r\n\" style=\"fill:#56addd;\"/>\r\n   </g>\r\n   <g id=\"patch_19\">\r\n    <path clip-path=\"url(#p5aa1d45efb)\" d=\"M 348.945625 550.8 \r\nL 364.472582 550.8 \r\nL 364.472582 315.668478 \r\nL 348.945625 315.668478 \r\nz\r\n\" style=\"fill:#90aee7;\"/>\r\n   </g>\r\n   <g id=\"patch_20\">\r\n    <path clip-path=\"url(#p5aa1d45efb)\" d=\"M 368.354321 550.8 \r\nL 383.881277 550.8 \r\nL 383.881277 322.750752 \r\nL 368.354321 322.750752 \r\nz\r\n\" style=\"fill:#b0aaeb;\"/>\r\n   </g>\r\n   <g id=\"patch_21\">\r\n    <path clip-path=\"url(#p5aa1d45efb)\" d=\"M 387.763016 550.8 \r\nL 403.289973 550.8 \r\nL 403.289973 322.750752 \r\nL 387.763016 322.750752 \r\nz\r\n\" style=\"fill:#c6a0ea;\"/>\r\n   </g>\r\n   <g id=\"patch_22\">\r\n    <path clip-path=\"url(#p5aa1d45efb)\" d=\"M 407.171712 550.8 \r\nL 422.698668 550.8 \r\nL 422.698668 339.748212 \r\nL 407.171712 339.748212 \r\nz\r\n\" style=\"fill:#db92e8;\"/>\r\n   </g>\r\n   <g id=\"patch_23\">\r\n    <path clip-path=\"url(#p5aa1d45efb)\" d=\"M 426.580408 550.8 \r\nL 442.107364 550.8 \r\nL 442.107364 341.164667 \r\nL 426.580408 341.164667 \r\nz\r\n\" style=\"fill:#e78cda;\"/>\r\n   </g>\r\n   <g id=\"patch_24\">\r\n    <path clip-path=\"url(#p5aa1d45efb)\" d=\"M 445.989103 550.8 \r\nL 461.51606 550.8 \r\nL 461.51606 343.997577 \r\nL 445.989103 343.997577 \r\nz\r\n\" style=\"fill:#e890c7;\"/>\r\n   </g>\r\n   <g id=\"patch_25\">\r\n    <path clip-path=\"url(#p5aa1d45efb)\" d=\"M 465.397799 550.8 \r\nL 480.924755 550.8 \r\nL 480.924755 344.705804 \r\nL 465.397799 344.705804 \r\nz\r\n\" style=\"fill:#e993b6;\"/>\r\n   </g>\r\n   <g id=\"matplotlib.axis_1\">\r\n    <g id=\"xtick_1\">\r\n     <g id=\"line2d_1\">\r\n      <defs>\r\n       <path d=\"M 0 0 \r\nL 0 3.5 \r\n\" id=\"m825a00eda6\" style=\"stroke:#000000;stroke-width:0.8;\"/>\r\n      </defs>\r\n      <g>\r\n       <use style=\"stroke:#000000;stroke-width:0.8;\" x=\"46.169973\" xlink:href=\"#m825a00eda6\" y=\"550.8\"/>\r\n      </g>\r\n     </g>\r\n     <g id=\"text_1\">\r\n      <!-- list -->\r\n      <g transform=\"translate(42.928883 573.557433)rotate(-45)scale(0.1 -0.1)\">\r\n       <defs>\r\n        <path d=\"M 9.421875 75.984375 \r\nL 18.40625 75.984375 \r\nL 18.40625 0 \r\nL 9.421875 0 \r\nz\r\n\" id=\"DejaVuSans-108\"/>\r\n        <path d=\"M 9.421875 54.6875 \r\nL 18.40625 54.6875 \r\nL 18.40625 0 \r\nL 9.421875 0 \r\nz\r\nM 9.421875 75.984375 \r\nL 18.40625 75.984375 \r\nL 18.40625 64.59375 \r\nL 9.421875 64.59375 \r\nz\r\n\" id=\"DejaVuSans-105\"/>\r\n        <path d=\"M 44.28125 53.078125 \r\nL 44.28125 44.578125 \r\nQ 40.484375 46.53125 36.375 47.5 \r\nQ 32.28125 48.484375 27.875 48.484375 \r\nQ 21.1875 48.484375 17.84375 46.4375 \r\nQ 14.5 44.390625 14.5 40.28125 \r\nQ 14.5 37.15625 16.890625 35.375 \r\nQ 19.28125 33.59375 26.515625 31.984375 \r\nL 29.59375 31.296875 \r\nQ 39.15625 29.25 43.1875 25.515625 \r\nQ 47.21875 21.78125 47.21875 15.09375 \r\nQ 47.21875 7.46875 41.1875 3.015625 \r\nQ 35.15625 -1.421875 24.609375 -1.421875 \r\nQ 20.21875 -1.421875 15.453125 -0.5625 \r\nQ 10.6875 0.296875 5.421875 2 \r\nL 5.421875 11.28125 \r\nQ 10.40625 8.6875 15.234375 7.390625 \r\nQ 20.0625 6.109375 24.8125 6.109375 \r\nQ 31.15625 6.109375 34.5625 8.28125 \r\nQ 37.984375 10.453125 37.984375 14.40625 \r\nQ 37.984375 18.0625 35.515625 20.015625 \r\nQ 33.0625 21.96875 24.703125 23.78125 \r\nL 21.578125 24.515625 \r\nQ 13.234375 26.265625 9.515625 29.90625 \r\nQ 5.8125 33.546875 5.8125 39.890625 \r\nQ 5.8125 47.609375 11.28125 51.796875 \r\nQ 16.75 56 26.8125 56 \r\nQ 31.78125 56 36.171875 55.265625 \r\nQ 40.578125 54.546875 44.28125 53.078125 \r\nz\r\n\" id=\"DejaVuSans-115\"/>\r\n        <path d=\"M 18.3125 70.21875 \r\nL 18.3125 54.6875 \r\nL 36.8125 54.6875 \r\nL 36.8125 47.703125 \r\nL 18.3125 47.703125 \r\nL 18.3125 18.015625 \r\nQ 18.3125 11.328125 20.140625 9.421875 \r\nQ 21.96875 7.515625 27.59375 7.515625 \r\nL 36.8125 7.515625 \r\nL 36.8125 0 \r\nL 27.59375 0 \r\nQ 17.1875 0 13.234375 3.875 \r\nQ 9.28125 7.765625 9.28125 18.015625 \r\nL 9.28125 47.703125 \r\nL 2.6875 47.703125 \r\nL 2.6875 54.6875 \r\nL 9.28125 54.6875 \r\nL 9.28125 70.21875 \r\nz\r\n\" id=\"DejaVuSans-116\"/>\r\n       </defs>\r\n       <use xlink:href=\"#DejaVuSans-108\"/>\r\n       <use x=\"27.783203\" xlink:href=\"#DejaVuSans-105\"/>\r\n       <use x=\"55.566406\" xlink:href=\"#DejaVuSans-115\"/>\r\n       <use x=\"107.666016\" xlink:href=\"#DejaVuSans-116\"/>\r\n      </g>\r\n     </g>\r\n    </g>\r\n    <g id=\"xtick_2\">\r\n     <g id=\"line2d_2\">\r\n      <g>\r\n       <use style=\"stroke:#000000;stroke-width:0.8;\" x=\"65.578668\" xlink:href=\"#m825a00eda6\" y=\"550.8\"/>\r\n      </g>\r\n     </g>\r\n     <g id=\"text_2\">\r\n      <!-- use -->\r\n      <g transform=\"translate(61.271946 575.688697)rotate(-45)scale(0.1 -0.1)\">\r\n       <defs>\r\n        <path d=\"M 8.5 21.578125 \r\nL 8.5 54.6875 \r\nL 17.484375 54.6875 \r\nL 17.484375 21.921875 \r\nQ 17.484375 14.15625 20.5 10.265625 \r\nQ 23.53125 6.390625 29.59375 6.390625 \r\nQ 36.859375 6.390625 41.078125 11.03125 \r\nQ 45.3125 15.671875 45.3125 23.6875 \r\nL 45.3125 54.6875 \r\nL 54.296875 54.6875 \r\nL 54.296875 0 \r\nL 45.3125 0 \r\nL 45.3125 8.40625 \r\nQ 42.046875 3.421875 37.71875 1 \r\nQ 33.40625 -1.421875 27.6875 -1.421875 \r\nQ 18.265625 -1.421875 13.375 4.4375 \r\nQ 8.5 10.296875 8.5 21.578125 \r\nz\r\nM 31.109375 56 \r\nz\r\n\" id=\"DejaVuSans-117\"/>\r\n        <path d=\"M 56.203125 29.59375 \r\nL 56.203125 25.203125 \r\nL 14.890625 25.203125 \r\nQ 15.484375 15.921875 20.484375 11.0625 \r\nQ 25.484375 6.203125 34.421875 6.203125 \r\nQ 39.59375 6.203125 44.453125 7.46875 \r\nQ 49.3125 8.734375 54.109375 11.28125 \r\nL 54.109375 2.78125 \r\nQ 49.265625 0.734375 44.1875 -0.34375 \r\nQ 39.109375 -1.421875 33.890625 -1.421875 \r\nQ 20.796875 -1.421875 13.15625 6.1875 \r\nQ 5.515625 13.8125 5.515625 26.8125 \r\nQ 5.515625 40.234375 12.765625 48.109375 \r\nQ 20.015625 56 32.328125 56 \r\nQ 43.359375 56 49.78125 48.890625 \r\nQ 56.203125 41.796875 56.203125 29.59375 \r\nz\r\nM 47.21875 32.234375 \r\nQ 47.125 39.59375 43.09375 43.984375 \r\nQ 39.0625 48.390625 32.421875 48.390625 \r\nQ 24.90625 48.390625 20.390625 44.140625 \r\nQ 15.875 39.890625 15.1875 32.171875 \r\nz\r\n\" id=\"DejaVuSans-101\"/>\r\n       </defs>\r\n       <use xlink:href=\"#DejaVuSans-117\"/>\r\n       <use x=\"63.378906\" xlink:href=\"#DejaVuSans-115\"/>\r\n       <use x=\"115.478516\" xlink:href=\"#DejaVuSans-101\"/>\r\n      </g>\r\n     </g>\r\n    </g>\r\n    <g id=\"xtick_3\">\r\n     <g id=\"line2d_3\">\r\n      <g>\r\n       <use style=\"stroke:#000000;stroke-width:0.8;\" x=\"84.987364\" xlink:href=\"#m825a00eda6\" y=\"550.8\"/>\r\n      </g>\r\n     </g>\r\n     <g id=\"text_3\">\r\n      <!-- mail -->\r\n      <g transform=\"translate(79.363656 578.322669)rotate(-45)scale(0.1 -0.1)\">\r\n       <defs>\r\n        <path d=\"M 52 44.1875 \r\nQ 55.375 50.25 60.0625 53.125 \r\nQ 64.75 56 71.09375 56 \r\nQ 79.640625 56 84.28125 50.015625 \r\nQ 88.921875 44.046875 88.921875 33.015625 \r\nL 88.921875 0 \r\nL 79.890625 0 \r\nL 79.890625 32.71875 \r\nQ 79.890625 40.578125 77.09375 44.375 \r\nQ 74.3125 48.1875 68.609375 48.1875 \r\nQ 61.625 48.1875 57.5625 43.546875 \r\nQ 53.515625 38.921875 53.515625 30.90625 \r\nL 53.515625 0 \r\nL 44.484375 0 \r\nL 44.484375 32.71875 \r\nQ 44.484375 40.625 41.703125 44.40625 \r\nQ 38.921875 48.1875 33.109375 48.1875 \r\nQ 26.21875 48.1875 22.15625 43.53125 \r\nQ 18.109375 38.875 18.109375 30.90625 \r\nL 18.109375 0 \r\nL 9.078125 0 \r\nL 9.078125 54.6875 \r\nL 18.109375 54.6875 \r\nL 18.109375 46.1875 \r\nQ 21.1875 51.21875 25.484375 53.609375 \r\nQ 29.78125 56 35.6875 56 \r\nQ 41.65625 56 45.828125 52.96875 \r\nQ 50 49.953125 52 44.1875 \r\nz\r\n\" id=\"DejaVuSans-109\"/>\r\n        <path d=\"M 34.28125 27.484375 \r\nQ 23.390625 27.484375 19.1875 25 \r\nQ 14.984375 22.515625 14.984375 16.5 \r\nQ 14.984375 11.71875 18.140625 8.90625 \r\nQ 21.296875 6.109375 26.703125 6.109375 \r\nQ 34.1875 6.109375 38.703125 11.40625 \r\nQ 43.21875 16.703125 43.21875 25.484375 \r\nL 43.21875 27.484375 \r\nz\r\nM 52.203125 31.203125 \r\nL 52.203125 0 \r\nL 43.21875 0 \r\nL 43.21875 8.296875 \r\nQ 40.140625 3.328125 35.546875 0.953125 \r\nQ 30.953125 -1.421875 24.3125 -1.421875 \r\nQ 15.921875 -1.421875 10.953125 3.296875 \r\nQ 6 8.015625 6 15.921875 \r\nQ 6 25.140625 12.171875 29.828125 \r\nQ 18.359375 34.515625 30.609375 34.515625 \r\nL 43.21875 34.515625 \r\nL 43.21875 35.40625 \r\nQ 43.21875 41.609375 39.140625 45 \r\nQ 35.0625 48.390625 27.6875 48.390625 \r\nQ 23 48.390625 18.546875 47.265625 \r\nQ 14.109375 46.140625 10.015625 43.890625 \r\nL 10.015625 52.203125 \r\nQ 14.9375 54.109375 19.578125 55.046875 \r\nQ 24.21875 56 28.609375 56 \r\nQ 40.484375 56 46.34375 49.84375 \r\nQ 52.203125 43.703125 52.203125 31.203125 \r\nz\r\n\" id=\"DejaVuSans-97\"/>\r\n       </defs>\r\n       <use xlink:href=\"#DejaVuSans-109\"/>\r\n       <use x=\"97.412109\" xlink:href=\"#DejaVuSans-97\"/>\r\n       <use x=\"158.691406\" xlink:href=\"#DejaVuSans-105\"/>\r\n       <use x=\"186.474609\" xlink:href=\"#DejaVuSans-108\"/>\r\n      </g>\r\n     </g>\r\n    </g>\r\n    <g id=\"xtick_4\">\r\n     <g id=\"line2d_4\">\r\n      <g>\r\n       <use style=\"stroke:#000000;stroke-width:0.8;\" x=\"104.39606\" xlink:href=\"#m825a00eda6\" y=\"550.8\"/>\r\n      </g>\r\n     </g>\r\n     <g id=\"text_4\">\r\n      <!-- get -->\r\n      <g transform=\"translate(100.541223 574.784926)rotate(-45)scale(0.1 -0.1)\">\r\n       <defs>\r\n        <path d=\"M 45.40625 27.984375 \r\nQ 45.40625 37.75 41.375 43.109375 \r\nQ 37.359375 48.484375 30.078125 48.484375 \r\nQ 22.859375 48.484375 18.828125 43.109375 \r\nQ 14.796875 37.75 14.796875 27.984375 \r\nQ 14.796875 18.265625 18.828125 12.890625 \r\nQ 22.859375 7.515625 30.078125 7.515625 \r\nQ 37.359375 7.515625 41.375 12.890625 \r\nQ 45.40625 18.265625 45.40625 27.984375 \r\nz\r\nM 54.390625 6.78125 \r\nQ 54.390625 -7.171875 48.1875 -13.984375 \r\nQ 42 -20.796875 29.203125 -20.796875 \r\nQ 24.46875 -20.796875 20.265625 -20.09375 \r\nQ 16.0625 -19.390625 12.109375 -17.921875 \r\nL 12.109375 -9.1875 \r\nQ 16.0625 -11.328125 19.921875 -12.34375 \r\nQ 23.78125 -13.375 27.78125 -13.375 \r\nQ 36.625 -13.375 41.015625 -8.765625 \r\nQ 45.40625 -4.15625 45.40625 5.171875 \r\nL 45.40625 9.625 \r\nQ 42.625 4.78125 38.28125 2.390625 \r\nQ 33.9375 0 27.875 0 \r\nQ 17.828125 0 11.671875 7.65625 \r\nQ 5.515625 15.328125 5.515625 27.984375 \r\nQ 5.515625 40.671875 11.671875 48.328125 \r\nQ 17.828125 56 27.875 56 \r\nQ 33.9375 56 38.28125 53.609375 \r\nQ 42.625 51.21875 45.40625 46.390625 \r\nL 45.40625 54.6875 \r\nL 54.390625 54.6875 \r\nz\r\n\" id=\"DejaVuSans-103\"/>\r\n       </defs>\r\n       <use xlink:href=\"#DejaVuSans-103\"/>\r\n       <use x=\"63.476562\" xlink:href=\"#DejaVuSans-101\"/>\r\n       <use x=\"125\" xlink:href=\"#DejaVuSans-116\"/>\r\n      </g>\r\n     </g>\r\n    </g>\r\n    <g id=\"xtick_5\">\r\n     <g id=\"line2d_5\">\r\n      <g>\r\n       <use style=\"stroke:#000000;stroke-width:0.8;\" x=\"123.804755\" xlink:href=\"#m825a00eda6\" y=\"550.8\"/>\r\n      </g>\r\n     </g>\r\n     <g id=\"text_5\">\r\n      <!-- one -->\r\n      <g transform=\"translate(119.176521 576.331722)rotate(-45)scale(0.1 -0.1)\">\r\n       <defs>\r\n        <path d=\"M 30.609375 48.390625 \r\nQ 23.390625 48.390625 19.1875 42.75 \r\nQ 14.984375 37.109375 14.984375 27.296875 \r\nQ 14.984375 17.484375 19.15625 11.84375 \r\nQ 23.34375 6.203125 30.609375 6.203125 \r\nQ 37.796875 6.203125 41.984375 11.859375 \r\nQ 46.1875 17.53125 46.1875 27.296875 \r\nQ 46.1875 37.015625 41.984375 42.703125 \r\nQ 37.796875 48.390625 30.609375 48.390625 \r\nz\r\nM 30.609375 56 \r\nQ 42.328125 56 49.015625 48.375 \r\nQ 55.71875 40.765625 55.71875 27.296875 \r\nQ 55.71875 13.875 49.015625 6.21875 \r\nQ 42.328125 -1.421875 30.609375 -1.421875 \r\nQ 18.84375 -1.421875 12.171875 6.21875 \r\nQ 5.515625 13.875 5.515625 27.296875 \r\nQ 5.515625 40.765625 12.171875 48.375 \r\nQ 18.84375 56 30.609375 56 \r\nz\r\n\" id=\"DejaVuSans-111\"/>\r\n        <path d=\"M 54.890625 33.015625 \r\nL 54.890625 0 \r\nL 45.90625 0 \r\nL 45.90625 32.71875 \r\nQ 45.90625 40.484375 42.875 44.328125 \r\nQ 39.84375 48.1875 33.796875 48.1875 \r\nQ 26.515625 48.1875 22.3125 43.546875 \r\nQ 18.109375 38.921875 18.109375 30.90625 \r\nL 18.109375 0 \r\nL 9.078125 0 \r\nL 9.078125 54.6875 \r\nL 18.109375 54.6875 \r\nL 18.109375 46.1875 \r\nQ 21.34375 51.125 25.703125 53.5625 \r\nQ 30.078125 56 35.796875 56 \r\nQ 45.21875 56 50.046875 50.171875 \r\nQ 54.890625 44.34375 54.890625 33.015625 \r\nz\r\n\" id=\"DejaVuSans-110\"/>\r\n       </defs>\r\n       <use xlink:href=\"#DejaVuSans-111\"/>\r\n       <use x=\"61.181641\" xlink:href=\"#DejaVuSans-110\"/>\r\n       <use x=\"124.560547\" xlink:href=\"#DejaVuSans-101\"/>\r\n      </g>\r\n     </g>\r\n    </g>\r\n    <g id=\"xtick_6\">\r\n     <g id=\"line2d_6\">\r\n      <g>\r\n       <use style=\"stroke:#000000;stroke-width:0.8;\" x=\"143.213451\" xlink:href=\"#m825a00eda6\" y=\"550.8\"/>\r\n      </g>\r\n     </g>\r\n     <g id=\"text_6\">\r\n      <!-- time -->\r\n      <g transform=\"translate(137.177079 579.147996)rotate(-45)scale(0.1 -0.1)\">\r\n       <use xlink:href=\"#DejaVuSans-116\"/>\r\n       <use x=\"39.208984\" xlink:href=\"#DejaVuSans-105\"/>\r\n       <use x=\"66.992188\" xlink:href=\"#DejaVuSans-109\"/>\r\n       <use x=\"164.404297\" xlink:href=\"#DejaVuSans-101\"/>\r\n      </g>\r\n     </g>\r\n    </g>\r\n    <g id=\"xtick_7\">\r\n     <g id=\"line2d_7\">\r\n      <g>\r\n       <use style=\"stroke:#000000;stroke-width:0.8;\" x=\"162.622147\" xlink:href=\"#m825a00eda6\" y=\"550.8\"/>\r\n      </g>\r\n     </g>\r\n     <g id=\"text_7\">\r\n      <!-- like -->\r\n      <g transform=\"translate(158.514298 575.290949)rotate(-45)scale(0.1 -0.1)\">\r\n       <defs>\r\n        <path d=\"M 9.078125 75.984375 \r\nL 18.109375 75.984375 \r\nL 18.109375 31.109375 \r\nL 44.921875 54.6875 \r\nL 56.390625 54.6875 \r\nL 27.390625 29.109375 \r\nL 57.625 0 \r\nL 45.90625 0 \r\nL 18.109375 26.703125 \r\nL 18.109375 0 \r\nL 9.078125 0 \r\nz\r\n\" id=\"DejaVuSans-107\"/>\r\n       </defs>\r\n       <use xlink:href=\"#DejaVuSans-108\"/>\r\n       <use x=\"27.783203\" xlink:href=\"#DejaVuSans-105\"/>\r\n       <use x=\"55.566406\" xlink:href=\"#DejaVuSans-107\"/>\r\n       <use x=\"109.851562\" xlink:href=\"#DejaVuSans-101\"/>\r\n      </g>\r\n     </g>\r\n    </g>\r\n    <g id=\"xtick_8\">\r\n     <g id=\"line2d_8\">\r\n      <g>\r\n       <use style=\"stroke:#000000;stroke-width:0.8;\" x=\"182.030842\" xlink:href=\"#m825a00eda6\" y=\"550.8\"/>\r\n      </g>\r\n     </g>\r\n     <g id=\"text_8\">\r\n      <!-- com -->\r\n      <g transform=\"translate(176.430888 578.275161)rotate(-45)scale(0.1 -0.1)\">\r\n       <defs>\r\n        <path d=\"M 48.78125 52.59375 \r\nL 48.78125 44.1875 \r\nQ 44.96875 46.296875 41.140625 47.34375 \r\nQ 37.3125 48.390625 33.40625 48.390625 \r\nQ 24.65625 48.390625 19.8125 42.84375 \r\nQ 14.984375 37.3125 14.984375 27.296875 \r\nQ 14.984375 17.28125 19.8125 11.734375 \r\nQ 24.65625 6.203125 33.40625 6.203125 \r\nQ 37.3125 6.203125 41.140625 7.25 \r\nQ 44.96875 8.296875 48.78125 10.40625 \r\nL 48.78125 2.09375 \r\nQ 45.015625 0.34375 40.984375 -0.53125 \r\nQ 36.96875 -1.421875 32.421875 -1.421875 \r\nQ 20.0625 -1.421875 12.78125 6.34375 \r\nQ 5.515625 14.109375 5.515625 27.296875 \r\nQ 5.515625 40.671875 12.859375 48.328125 \r\nQ 20.21875 56 33.015625 56 \r\nQ 37.15625 56 41.109375 55.140625 \r\nQ 45.0625 54.296875 48.78125 52.59375 \r\nz\r\n\" id=\"DejaVuSans-99\"/>\r\n       </defs>\r\n       <use xlink:href=\"#DejaVuSans-99\"/>\r\n       <use x=\"54.980469\" xlink:href=\"#DejaVuSans-111\"/>\r\n       <use x=\"116.162109\" xlink:href=\"#DejaVuSans-109\"/>\r\n      </g>\r\n     </g>\r\n    </g>\r\n    <g id=\"xtick_9\">\r\n     <g id=\"line2d_9\">\r\n      <g>\r\n       <use style=\"stroke:#000000;stroke-width:0.8;\" x=\"201.439538\" xlink:href=\"#m825a00eda6\" y=\"550.8\"/>\r\n      </g>\r\n     </g>\r\n     <g id=\"text_9\">\r\n      <!-- messag -->\r\n      <g transform=\"translate(189.676706 590.600916)rotate(-45)scale(0.1 -0.1)\">\r\n       <use xlink:href=\"#DejaVuSans-109\"/>\r\n       <use x=\"97.412109\" xlink:href=\"#DejaVuSans-101\"/>\r\n       <use x=\"158.935547\" xlink:href=\"#DejaVuSans-115\"/>\r\n       <use x=\"211.035156\" xlink:href=\"#DejaVuSans-115\"/>\r\n       <use x=\"263.134766\" xlink:href=\"#DejaVuSans-97\"/>\r\n       <use x=\"324.414062\" xlink:href=\"#DejaVuSans-103\"/>\r\n      </g>\r\n     </g>\r\n    </g>\r\n    <g id=\"xtick_10\">\r\n     <g id=\"line2d_10\">\r\n      <g>\r\n       <use style=\"stroke:#000000;stroke-width:0.8;\" x=\"220.848234\" xlink:href=\"#m825a00eda6\" y=\"550.8\"/>\r\n      </g>\r\n     </g>\r\n     <g id=\"text_10\">\r\n      <!-- would -->\r\n      <g transform=\"translate(212.277326 584.217067)rotate(-45)scale(0.1 -0.1)\">\r\n       <defs>\r\n        <path d=\"M 4.203125 54.6875 \r\nL 13.1875 54.6875 \r\nL 24.421875 12.015625 \r\nL 35.59375 54.6875 \r\nL 46.1875 54.6875 \r\nL 57.421875 12.015625 \r\nL 68.609375 54.6875 \r\nL 77.59375 54.6875 \r\nL 63.28125 0 \r\nL 52.6875 0 \r\nL 40.921875 44.828125 \r\nL 29.109375 0 \r\nL 18.5 0 \r\nz\r\n\" id=\"DejaVuSans-119\"/>\r\n        <path d=\"M 45.40625 46.390625 \r\nL 45.40625 75.984375 \r\nL 54.390625 75.984375 \r\nL 54.390625 0 \r\nL 45.40625 0 \r\nL 45.40625 8.203125 \r\nQ 42.578125 3.328125 38.25 0.953125 \r\nQ 33.9375 -1.421875 27.875 -1.421875 \r\nQ 17.96875 -1.421875 11.734375 6.484375 \r\nQ 5.515625 14.40625 5.515625 27.296875 \r\nQ 5.515625 40.1875 11.734375 48.09375 \r\nQ 17.96875 56 27.875 56 \r\nQ 33.9375 56 38.25 53.625 \r\nQ 42.578125 51.265625 45.40625 46.390625 \r\nz\r\nM 14.796875 27.296875 \r\nQ 14.796875 17.390625 18.875 11.75 \r\nQ 22.953125 6.109375 30.078125 6.109375 \r\nQ 37.203125 6.109375 41.296875 11.75 \r\nQ 45.40625 17.390625 45.40625 27.296875 \r\nQ 45.40625 37.203125 41.296875 42.84375 \r\nQ 37.203125 48.484375 30.078125 48.484375 \r\nQ 22.953125 48.484375 18.875 42.84375 \r\nQ 14.796875 37.203125 14.796875 27.296875 \r\nz\r\n\" id=\"DejaVuSans-100\"/>\r\n       </defs>\r\n       <use xlink:href=\"#DejaVuSans-119\"/>\r\n       <use x=\"81.787109\" xlink:href=\"#DejaVuSans-111\"/>\r\n       <use x=\"142.96875\" xlink:href=\"#DejaVuSans-117\"/>\r\n       <use x=\"206.347656\" xlink:href=\"#DejaVuSans-108\"/>\r\n       <use x=\"234.130859\" xlink:href=\"#DejaVuSans-100\"/>\r\n      </g>\r\n     </g>\r\n    </g>\r\n    <g id=\"xtick_11\">\r\n     <g id=\"line2d_11\">\r\n      <g>\r\n       <use style=\"stroke:#000000;stroke-width:0.8;\" x=\"240.256929\" xlink:href=\"#m825a00eda6\" y=\"550.8\"/>\r\n      </g>\r\n     </g>\r\n     <g id=\"text_11\">\r\n      <!-- email -->\r\n      <g transform=\"translate(232.457763 582.673586)rotate(-45)scale(0.1 -0.1)\">\r\n       <use xlink:href=\"#DejaVuSans-101\"/>\r\n       <use x=\"61.523438\" xlink:href=\"#DejaVuSans-109\"/>\r\n       <use x=\"158.935547\" xlink:href=\"#DejaVuSans-97\"/>\r\n       <use x=\"220.214844\" xlink:href=\"#DejaVuSans-105\"/>\r\n       <use x=\"247.998047\" xlink:href=\"#DejaVuSans-108\"/>\r\n      </g>\r\n     </g>\r\n    </g>\r\n    <g id=\"xtick_12\">\r\n     <g id=\"line2d_12\">\r\n      <g>\r\n       <use style=\"stroke:#000000;stroke-width:0.8;\" x=\"259.665625\" xlink:href=\"#m825a00eda6\" y=\"550.8\"/>\r\n      </g>\r\n     </g>\r\n     <g id=\"text_12\">\r\n      <!-- work -->\r\n      <g transform=\"translate(253.061358 580.283786)rotate(-45)scale(0.1 -0.1)\">\r\n       <defs>\r\n        <path d=\"M 41.109375 46.296875 \r\nQ 39.59375 47.171875 37.8125 47.578125 \r\nQ 36.03125 48 33.890625 48 \r\nQ 26.265625 48 22.1875 43.046875 \r\nQ 18.109375 38.09375 18.109375 28.8125 \r\nL 18.109375 0 \r\nL 9.078125 0 \r\nL 9.078125 54.6875 \r\nL 18.109375 54.6875 \r\nL 18.109375 46.1875 \r\nQ 20.953125 51.171875 25.484375 53.578125 \r\nQ 30.03125 56 36.53125 56 \r\nQ 37.453125 56 38.578125 55.875 \r\nQ 39.703125 55.765625 41.0625 55.515625 \r\nz\r\n\" id=\"DejaVuSans-114\"/>\r\n       </defs>\r\n       <use xlink:href=\"#DejaVuSans-119\"/>\r\n       <use x=\"81.787109\" xlink:href=\"#DejaVuSans-111\"/>\r\n       <use x=\"142.96875\" xlink:href=\"#DejaVuSans-114\"/>\r\n       <use x=\"184.082031\" xlink:href=\"#DejaVuSans-107\"/>\r\n      </g>\r\n     </g>\r\n    </g>\r\n    <g id=\"xtick_13\">\r\n     <g id=\"line2d_13\">\r\n      <g>\r\n       <use style=\"stroke:#000000;stroke-width:0.8;\" x=\"279.074321\" xlink:href=\"#m825a00eda6\" y=\"550.8\"/>\r\n      </g>\r\n     </g>\r\n     <g id=\"text_13\">\r\n      <!-- new -->\r\n      <g transform=\"translate(273.717987 577.78792)rotate(-45)scale(0.1 -0.1)\">\r\n       <use xlink:href=\"#DejaVuSans-110\"/>\r\n       <use x=\"63.378906\" xlink:href=\"#DejaVuSans-101\"/>\r\n       <use x=\"124.902344\" xlink:href=\"#DejaVuSans-119\"/>\r\n      </g>\r\n     </g>\r\n    </g>\r\n    <g id=\"xtick_14\">\r\n     <g id=\"line2d_14\">\r\n      <g>\r\n       <use style=\"stroke:#000000;stroke-width:0.8;\" x=\"298.483016\" xlink:href=\"#m825a00eda6\" y=\"550.8\"/>\r\n      </g>\r\n     </g>\r\n     <g id=\"text_14\">\r\n      <!-- make -->\r\n      <g transform=\"translate(290.729149 582.582988)rotate(-45)scale(0.1 -0.1)\">\r\n       <use xlink:href=\"#DejaVuSans-109\"/>\r\n       <use x=\"97.412109\" xlink:href=\"#DejaVuSans-97\"/>\r\n       <use x=\"158.691406\" xlink:href=\"#DejaVuSans-107\"/>\r\n       <use x=\"212.976562\" xlink:href=\"#DejaVuSans-101\"/>\r\n      </g>\r\n     </g>\r\n    </g>\r\n    <g id=\"xtick_15\">\r\n     <g id=\"line2d_15\">\r\n      <g>\r\n       <use style=\"stroke:#000000;stroke-width:0.8;\" x=\"317.891712\" xlink:href=\"#m825a00eda6\" y=\"550.8\"/>\r\n      </g>\r\n     </g>\r\n     <g id=\"text_15\">\r\n      <!-- peopl -->\r\n      <g transform=\"translate(310.032883 582.79291)rotate(-45)scale(0.1 -0.1)\">\r\n       <defs>\r\n        <path d=\"M 18.109375 8.203125 \r\nL 18.109375 -20.796875 \r\nL 9.078125 -20.796875 \r\nL 9.078125 54.6875 \r\nL 18.109375 54.6875 \r\nL 18.109375 46.390625 \r\nQ 20.953125 51.265625 25.265625 53.625 \r\nQ 29.59375 56 35.59375 56 \r\nQ 45.5625 56 51.78125 48.09375 \r\nQ 58.015625 40.1875 58.015625 27.296875 \r\nQ 58.015625 14.40625 51.78125 6.484375 \r\nQ 45.5625 -1.421875 35.59375 -1.421875 \r\nQ 29.59375 -1.421875 25.265625 0.953125 \r\nQ 20.953125 3.328125 18.109375 8.203125 \r\nz\r\nM 48.6875 27.296875 \r\nQ 48.6875 37.203125 44.609375 42.84375 \r\nQ 40.53125 48.484375 33.40625 48.484375 \r\nQ 26.265625 48.484375 22.1875 42.84375 \r\nQ 18.109375 37.203125 18.109375 27.296875 \r\nQ 18.109375 17.390625 22.1875 11.75 \r\nQ 26.265625 6.109375 33.40625 6.109375 \r\nQ 40.53125 6.109375 44.609375 11.75 \r\nQ 48.6875 17.390625 48.6875 27.296875 \r\nz\r\n\" id=\"DejaVuSans-112\"/>\r\n       </defs>\r\n       <use xlink:href=\"#DejaVuSans-112\"/>\r\n       <use x=\"63.476562\" xlink:href=\"#DejaVuSans-101\"/>\r\n       <use x=\"125\" xlink:href=\"#DejaVuSans-111\"/>\r\n       <use x=\"186.181641\" xlink:href=\"#DejaVuSans-112\"/>\r\n       <use x=\"249.658203\" xlink:href=\"#DejaVuSans-108\"/>\r\n      </g>\r\n     </g>\r\n    </g>\r\n    <g id=\"xtick_16\">\r\n     <g id=\"line2d_16\">\r\n      <g>\r\n       <use style=\"stroke:#000000;stroke-width:0.8;\" x=\"337.300408\" xlink:href=\"#m825a00eda6\" y=\"550.8\"/>\r\n      </g>\r\n     </g>\r\n     <g id=\"text_16\">\r\n      <!-- rpm -->\r\n      <g transform=\"translate(332.109802 577.456464)rotate(-45)scale(0.1 -0.1)\">\r\n       <use xlink:href=\"#DejaVuSans-114\"/>\r\n       <use x=\"41.113281\" xlink:href=\"#DejaVuSans-112\"/>\r\n       <use x=\"104.589844\" xlink:href=\"#DejaVuSans-109\"/>\r\n      </g>\r\n     </g>\r\n    </g>\r\n    <g id=\"xtick_17\">\r\n     <g id=\"line2d_17\">\r\n      <g>\r\n       <use style=\"stroke:#000000;stroke-width:0.8;\" x=\"356.709103\" xlink:href=\"#m825a00eda6\" y=\"550.8\"/>\r\n      </g>\r\n     </g>\r\n     <g id=\"text_17\">\r\n      <!-- user -->\r\n      <g transform=\"translate(350.948945 578.595568)rotate(-45)scale(0.1 -0.1)\">\r\n       <use xlink:href=\"#DejaVuSans-117\"/>\r\n       <use x=\"63.378906\" xlink:href=\"#DejaVuSans-115\"/>\r\n       <use x=\"115.478516\" xlink:href=\"#DejaVuSans-101\"/>\r\n       <use x=\"177.001953\" xlink:href=\"#DejaVuSans-114\"/>\r\n      </g>\r\n     </g>\r\n    </g>\r\n    <g id=\"xtick_18\">\r\n     <g id=\"line2d_18\">\r\n      <g>\r\n       <use style=\"stroke:#000000;stroke-width:0.8;\" x=\"376.117799\" xlink:href=\"#m825a00eda6\" y=\"550.8\"/>\r\n      </g>\r\n     </g>\r\n     <g id=\"text_18\">\r\n      <!-- net -->\r\n      <g transform=\"translate(372.266829 574.777192)rotate(-45)scale(0.1 -0.1)\">\r\n       <use xlink:href=\"#DejaVuSans-110\"/>\r\n       <use x=\"63.378906\" xlink:href=\"#DejaVuSans-101\"/>\r\n       <use x=\"124.902344\" xlink:href=\"#DejaVuSans-116\"/>\r\n      </g>\r\n     </g>\r\n    </g>\r\n    <g id=\"xtick_19\">\r\n     <g id=\"line2d_19\">\r\n      <g>\r\n       <use style=\"stroke:#000000;stroke-width:0.8;\" x=\"395.526495\" xlink:href=\"#m825a00eda6\" y=\"550.8\"/>\r\n      </g>\r\n     </g>\r\n     <g id=\"text_19\">\r\n      <!-- free -->\r\n      <g transform=\"translate(390.508246 577.111749)rotate(-45)scale(0.1 -0.1)\">\r\n       <defs>\r\n        <path d=\"M 37.109375 75.984375 \r\nL 37.109375 68.5 \r\nL 28.515625 68.5 \r\nQ 23.6875 68.5 21.796875 66.546875 \r\nQ 19.921875 64.59375 19.921875 59.515625 \r\nL 19.921875 54.6875 \r\nL 34.71875 54.6875 \r\nL 34.71875 47.703125 \r\nL 19.921875 47.703125 \r\nL 19.921875 0 \r\nL 10.890625 0 \r\nL 10.890625 47.703125 \r\nL 2.296875 47.703125 \r\nL 2.296875 54.6875 \r\nL 10.890625 54.6875 \r\nL 10.890625 58.5 \r\nQ 10.890625 67.625 15.140625 71.796875 \r\nQ 19.390625 75.984375 28.609375 75.984375 \r\nz\r\n\" id=\"DejaVuSans-102\"/>\r\n       </defs>\r\n       <use xlink:href=\"#DejaVuSans-102\"/>\r\n       <use x=\"35.205078\" xlink:href=\"#DejaVuSans-114\"/>\r\n       <use x=\"74.068359\" xlink:href=\"#DejaVuSans-101\"/>\r\n       <use x=\"135.591797\" xlink:href=\"#DejaVuSans-101\"/>\r\n      </g>\r\n     </g>\r\n    </g>\r\n    <g id=\"xtick_20\">\r\n     <g id=\"line2d_20\">\r\n      <g>\r\n       <use style=\"stroke:#000000;stroke-width:0.8;\" x=\"414.93519\" xlink:href=\"#m825a00eda6\" y=\"550.8\"/>\r\n      </g>\r\n     </g>\r\n     <g id=\"text_20\">\r\n      <!-- date -->\r\n      <g transform=\"translate(408.913734 579.118165)rotate(-45)scale(0.1 -0.1)\">\r\n       <use xlink:href=\"#DejaVuSans-100\"/>\r\n       <use x=\"63.476562\" xlink:href=\"#DejaVuSans-97\"/>\r\n       <use x=\"124.755859\" xlink:href=\"#DejaVuSans-116\"/>\r\n       <use x=\"163.964844\" xlink:href=\"#DejaVuSans-101\"/>\r\n      </g>\r\n     </g>\r\n    </g>\r\n    <g id=\"xtick_21\">\r\n     <g id=\"line2d_21\">\r\n      <g>\r\n       <use style=\"stroke:#000000;stroke-width:0.8;\" x=\"434.343886\" xlink:href=\"#m825a00eda6\" y=\"550.8\"/>\r\n      </g>\r\n     </g>\r\n     <g id=\"text_21\">\r\n      <!-- wrote -->\r\n      <g transform=\"translate(426.304966 583.153093)rotate(-45)scale(0.1 -0.1)\">\r\n       <use xlink:href=\"#DejaVuSans-119\"/>\r\n       <use x=\"81.787109\" xlink:href=\"#DejaVuSans-114\"/>\r\n       <use x=\"120.650391\" xlink:href=\"#DejaVuSans-111\"/>\r\n       <use x=\"181.832031\" xlink:href=\"#DejaVuSans-116\"/>\r\n       <use x=\"221.041016\" xlink:href=\"#DejaVuSans-101\"/>\r\n      </g>\r\n     </g>\r\n    </g>\r\n    <g id=\"xtick_22\">\r\n     <g id=\"line2d_22\">\r\n      <g>\r\n       <use style=\"stroke:#000000;stroke-width:0.8;\" x=\"453.752582\" xlink:href=\"#m825a00eda6\" y=\"550.8\"/>\r\n      </g>\r\n     </g>\r\n     <g id=\"text_22\">\r\n      <!-- go -->\r\n      <g transform=\"translate(451.295938 571.98854)rotate(-45)scale(0.1 -0.1)\">\r\n       <use xlink:href=\"#DejaVuSans-103\"/>\r\n       <use x=\"63.476562\" xlink:href=\"#DejaVuSans-111\"/>\r\n      </g>\r\n     </g>\r\n    </g>\r\n    <g id=\"xtick_23\">\r\n     <g id=\"line2d_23\">\r\n      <g>\r\n       <use style=\"stroke:#000000;stroke-width:0.8;\" x=\"473.161277\" xlink:href=\"#m825a00eda6\" y=\"550.8\"/>\r\n      </g>\r\n     </g>\r\n     <g id=\"text_23\">\r\n      <!-- want -->\r\n      <g transform=\"translate(466.427742 580.542322)rotate(-45)scale(0.1 -0.1)\">\r\n       <use xlink:href=\"#DejaVuSans-119\"/>\r\n       <use x=\"81.787109\" xlink:href=\"#DejaVuSans-97\"/>\r\n       <use x=\"143.066406\" xlink:href=\"#DejaVuSans-110\"/>\r\n       <use x=\"206.445312\" xlink:href=\"#DejaVuSans-116\"/>\r\n      </g>\r\n     </g>\r\n    </g>\r\n   </g>\r\n   <g id=\"matplotlib.axis_2\">\r\n    <g id=\"ytick_1\">\r\n     <g id=\"line2d_24\">\r\n      <defs>\r\n       <path d=\"M 0 0 \r\nL -3.5 0 \r\n\" id=\"m5e0ece3555\" style=\"stroke:#000000;stroke-width:0.8;\"/>\r\n      </defs>\r\n      <g>\r\n       <use style=\"stroke:#000000;stroke-width:0.8;\" x=\"36.465625\" xlink:href=\"#m5e0ece3555\" y=\"550.8\"/>\r\n      </g>\r\n     </g>\r\n     <g id=\"text_24\">\r\n      <!-- 0.00 -->\r\n      <g transform=\"translate(7.2 554.599219)scale(0.1 -0.1)\">\r\n       <defs>\r\n        <path d=\"M 31.78125 66.40625 \r\nQ 24.171875 66.40625 20.328125 58.90625 \r\nQ 16.5 51.421875 16.5 36.375 \r\nQ 16.5 21.390625 20.328125 13.890625 \r\nQ 24.171875 6.390625 31.78125 6.390625 \r\nQ 39.453125 6.390625 43.28125 13.890625 \r\nQ 47.125 21.390625 47.125 36.375 \r\nQ 47.125 51.421875 43.28125 58.90625 \r\nQ 39.453125 66.40625 31.78125 66.40625 \r\nz\r\nM 31.78125 74.21875 \r\nQ 44.046875 74.21875 50.515625 64.515625 \r\nQ 56.984375 54.828125 56.984375 36.375 \r\nQ 56.984375 17.96875 50.515625 8.265625 \r\nQ 44.046875 -1.421875 31.78125 -1.421875 \r\nQ 19.53125 -1.421875 13.0625 8.265625 \r\nQ 6.59375 17.96875 6.59375 36.375 \r\nQ 6.59375 54.828125 13.0625 64.515625 \r\nQ 19.53125 74.21875 31.78125 74.21875 \r\nz\r\n\" id=\"DejaVuSans-48\"/>\r\n        <path d=\"M 10.6875 12.40625 \r\nL 21 12.40625 \r\nL 21 0 \r\nL 10.6875 0 \r\nz\r\n\" id=\"DejaVuSans-46\"/>\r\n       </defs>\r\n       <use xlink:href=\"#DejaVuSans-48\"/>\r\n       <use x=\"63.623047\" xlink:href=\"#DejaVuSans-46\"/>\r\n       <use x=\"95.410156\" xlink:href=\"#DejaVuSans-48\"/>\r\n       <use x=\"159.033203\" xlink:href=\"#DejaVuSans-48\"/>\r\n      </g>\r\n     </g>\r\n    </g>\r\n    <g id=\"ytick_2\">\r\n     <g id=\"line2d_25\">\r\n      <g>\r\n       <use style=\"stroke:#000000;stroke-width:0.8;\" x=\"36.465625\" xlink:href=\"#m5e0ece3555\" y=\"479.091968\"/>\r\n      </g>\r\n     </g>\r\n     <g id=\"text_25\">\r\n      <!-- 0.25 -->\r\n      <g transform=\"translate(7.2 482.891187)scale(0.1 -0.1)\">\r\n       <defs>\r\n        <path d=\"M 19.1875 8.296875 \r\nL 53.609375 8.296875 \r\nL 53.609375 0 \r\nL 7.328125 0 \r\nL 7.328125 8.296875 \r\nQ 12.9375 14.109375 22.625 23.890625 \r\nQ 32.328125 33.6875 34.8125 36.53125 \r\nQ 39.546875 41.84375 41.421875 45.53125 \r\nQ 43.3125 49.21875 43.3125 52.78125 \r\nQ 43.3125 58.59375 39.234375 62.25 \r\nQ 35.15625 65.921875 28.609375 65.921875 \r\nQ 23.96875 65.921875 18.8125 64.3125 \r\nQ 13.671875 62.703125 7.8125 59.421875 \r\nL 7.8125 69.390625 \r\nQ 13.765625 71.78125 18.9375 73 \r\nQ 24.125 74.21875 28.421875 74.21875 \r\nQ 39.75 74.21875 46.484375 68.546875 \r\nQ 53.21875 62.890625 53.21875 53.421875 \r\nQ 53.21875 48.921875 51.53125 44.890625 \r\nQ 49.859375 40.875 45.40625 35.40625 \r\nQ 44.1875 33.984375 37.640625 27.21875 \r\nQ 31.109375 20.453125 19.1875 8.296875 \r\nz\r\n\" id=\"DejaVuSans-50\"/>\r\n        <path d=\"M 10.796875 72.90625 \r\nL 49.515625 72.90625 \r\nL 49.515625 64.59375 \r\nL 19.828125 64.59375 \r\nL 19.828125 46.734375 \r\nQ 21.96875 47.46875 24.109375 47.828125 \r\nQ 26.265625 48.1875 28.421875 48.1875 \r\nQ 40.625 48.1875 47.75 41.5 \r\nQ 54.890625 34.8125 54.890625 23.390625 \r\nQ 54.890625 11.625 47.5625 5.09375 \r\nQ 40.234375 -1.421875 26.90625 -1.421875 \r\nQ 22.3125 -1.421875 17.546875 -0.640625 \r\nQ 12.796875 0.140625 7.71875 1.703125 \r\nL 7.71875 11.625 \r\nQ 12.109375 9.234375 16.796875 8.0625 \r\nQ 21.484375 6.890625 26.703125 6.890625 \r\nQ 35.15625 6.890625 40.078125 11.328125 \r\nQ 45.015625 15.765625 45.015625 23.390625 \r\nQ 45.015625 31 40.078125 35.4375 \r\nQ 35.15625 39.890625 26.703125 39.890625 \r\nQ 22.75 39.890625 18.8125 39.015625 \r\nQ 14.890625 38.140625 10.796875 36.28125 \r\nz\r\n\" id=\"DejaVuSans-53\"/>\r\n       </defs>\r\n       <use xlink:href=\"#DejaVuSans-48\"/>\r\n       <use x=\"63.623047\" xlink:href=\"#DejaVuSans-46\"/>\r\n       <use x=\"95.410156\" xlink:href=\"#DejaVuSans-50\"/>\r\n       <use x=\"159.033203\" xlink:href=\"#DejaVuSans-53\"/>\r\n      </g>\r\n     </g>\r\n    </g>\r\n    <g id=\"ytick_3\">\r\n     <g id=\"line2d_26\">\r\n      <g>\r\n       <use style=\"stroke:#000000;stroke-width:0.8;\" x=\"36.465625\" xlink:href=\"#m5e0ece3555\" y=\"407.383936\"/>\r\n      </g>\r\n     </g>\r\n     <g id=\"text_26\">\r\n      <!-- 0.50 -->\r\n      <g transform=\"translate(7.2 411.183155)scale(0.1 -0.1)\">\r\n       <use xlink:href=\"#DejaVuSans-48\"/>\r\n       <use x=\"63.623047\" xlink:href=\"#DejaVuSans-46\"/>\r\n       <use x=\"95.410156\" xlink:href=\"#DejaVuSans-53\"/>\r\n       <use x=\"159.033203\" xlink:href=\"#DejaVuSans-48\"/>\r\n      </g>\r\n     </g>\r\n    </g>\r\n    <g id=\"ytick_4\">\r\n     <g id=\"line2d_27\">\r\n      <g>\r\n       <use style=\"stroke:#000000;stroke-width:0.8;\" x=\"36.465625\" xlink:href=\"#m5e0ece3555\" y=\"335.675904\"/>\r\n      </g>\r\n     </g>\r\n     <g id=\"text_27\">\r\n      <!-- 0.75 -->\r\n      <g transform=\"translate(7.2 339.475123)scale(0.1 -0.1)\">\r\n       <defs>\r\n        <path d=\"M 8.203125 72.90625 \r\nL 55.078125 72.90625 \r\nL 55.078125 68.703125 \r\nL 28.609375 0 \r\nL 18.3125 0 \r\nL 43.21875 64.59375 \r\nL 8.203125 64.59375 \r\nz\r\n\" id=\"DejaVuSans-55\"/>\r\n       </defs>\r\n       <use xlink:href=\"#DejaVuSans-48\"/>\r\n       <use x=\"63.623047\" xlink:href=\"#DejaVuSans-46\"/>\r\n       <use x=\"95.410156\" xlink:href=\"#DejaVuSans-55\"/>\r\n       <use x=\"159.033203\" xlink:href=\"#DejaVuSans-53\"/>\r\n      </g>\r\n     </g>\r\n    </g>\r\n    <g id=\"ytick_5\">\r\n     <g id=\"line2d_28\">\r\n      <g>\r\n       <use style=\"stroke:#000000;stroke-width:0.8;\" x=\"36.465625\" xlink:href=\"#m5e0ece3555\" y=\"263.967872\"/>\r\n      </g>\r\n     </g>\r\n     <g id=\"text_28\">\r\n      <!-- 1.00 -->\r\n      <g transform=\"translate(7.2 267.767091)scale(0.1 -0.1)\">\r\n       <defs>\r\n        <path d=\"M 12.40625 8.296875 \r\nL 28.515625 8.296875 \r\nL 28.515625 63.921875 \r\nL 10.984375 60.40625 \r\nL 10.984375 69.390625 \r\nL 28.421875 72.90625 \r\nL 38.28125 72.90625 \r\nL 38.28125 8.296875 \r\nL 54.390625 8.296875 \r\nL 54.390625 0 \r\nL 12.40625 0 \r\nz\r\n\" id=\"DejaVuSans-49\"/>\r\n       </defs>\r\n       <use xlink:href=\"#DejaVuSans-49\"/>\r\n       <use x=\"63.623047\" xlink:href=\"#DejaVuSans-46\"/>\r\n       <use x=\"95.410156\" xlink:href=\"#DejaVuSans-48\"/>\r\n       <use x=\"159.033203\" xlink:href=\"#DejaVuSans-48\"/>\r\n      </g>\r\n     </g>\r\n    </g>\r\n    <g id=\"ytick_6\">\r\n     <g id=\"line2d_29\">\r\n      <g>\r\n       <use style=\"stroke:#000000;stroke-width:0.8;\" x=\"36.465625\" xlink:href=\"#m5e0ece3555\" y=\"192.25984\"/>\r\n      </g>\r\n     </g>\r\n     <g id=\"text_29\">\r\n      <!-- 1.25 -->\r\n      <g transform=\"translate(7.2 196.059058)scale(0.1 -0.1)\">\r\n       <use xlink:href=\"#DejaVuSans-49\"/>\r\n       <use x=\"63.623047\" xlink:href=\"#DejaVuSans-46\"/>\r\n       <use x=\"95.410156\" xlink:href=\"#DejaVuSans-50\"/>\r\n       <use x=\"159.033203\" xlink:href=\"#DejaVuSans-53\"/>\r\n      </g>\r\n     </g>\r\n    </g>\r\n    <g id=\"ytick_7\">\r\n     <g id=\"line2d_30\">\r\n      <g>\r\n       <use style=\"stroke:#000000;stroke-width:0.8;\" x=\"36.465625\" xlink:href=\"#m5e0ece3555\" y=\"120.551808\"/>\r\n      </g>\r\n     </g>\r\n     <g id=\"text_30\">\r\n      <!-- 1.50 -->\r\n      <g transform=\"translate(7.2 124.351026)scale(0.1 -0.1)\">\r\n       <use xlink:href=\"#DejaVuSans-49\"/>\r\n       <use x=\"63.623047\" xlink:href=\"#DejaVuSans-46\"/>\r\n       <use x=\"95.410156\" xlink:href=\"#DejaVuSans-53\"/>\r\n       <use x=\"159.033203\" xlink:href=\"#DejaVuSans-48\"/>\r\n      </g>\r\n     </g>\r\n    </g>\r\n    <g id=\"ytick_8\">\r\n     <g id=\"line2d_31\">\r\n      <g>\r\n       <use style=\"stroke:#000000;stroke-width:0.8;\" x=\"36.465625\" xlink:href=\"#m5e0ece3555\" y=\"48.843776\"/>\r\n      </g>\r\n     </g>\r\n     <g id=\"text_31\">\r\n      <!-- 1.75 -->\r\n      <g transform=\"translate(7.2 52.642994)scale(0.1 -0.1)\">\r\n       <use xlink:href=\"#DejaVuSans-49\"/>\r\n       <use x=\"63.623047\" xlink:href=\"#DejaVuSans-46\"/>\r\n       <use x=\"95.410156\" xlink:href=\"#DejaVuSans-55\"/>\r\n       <use x=\"159.033203\" xlink:href=\"#DejaVuSans-53\"/>\r\n      </g>\r\n     </g>\r\n    </g>\r\n   </g>\r\n   <g id=\"line2d_32\">\r\n    <path clip-path=\"url(#p5aa1d45efb)\" style=\"fill:none;stroke:#424242;stroke-linecap:square;stroke-width:2.7;\"/>\r\n   </g>\r\n   <g id=\"line2d_33\">\r\n    <path clip-path=\"url(#p5aa1d45efb)\" style=\"fill:none;stroke:#424242;stroke-linecap:square;stroke-width:2.7;\"/>\r\n   </g>\r\n   <g id=\"line2d_34\">\r\n    <path clip-path=\"url(#p5aa1d45efb)\" style=\"fill:none;stroke:#424242;stroke-linecap:square;stroke-width:2.7;\"/>\r\n   </g>\r\n   <g id=\"line2d_35\">\r\n    <path clip-path=\"url(#p5aa1d45efb)\" style=\"fill:none;stroke:#424242;stroke-linecap:square;stroke-width:2.7;\"/>\r\n   </g>\r\n   <g id=\"line2d_36\">\r\n    <path clip-path=\"url(#p5aa1d45efb)\" style=\"fill:none;stroke:#424242;stroke-linecap:square;stroke-width:2.7;\"/>\r\n   </g>\r\n   <g id=\"line2d_37\">\r\n    <path clip-path=\"url(#p5aa1d45efb)\" style=\"fill:none;stroke:#424242;stroke-linecap:square;stroke-width:2.7;\"/>\r\n   </g>\r\n   <g id=\"line2d_38\">\r\n    <path clip-path=\"url(#p5aa1d45efb)\" style=\"fill:none;stroke:#424242;stroke-linecap:square;stroke-width:2.7;\"/>\r\n   </g>\r\n   <g id=\"line2d_39\">\r\n    <path clip-path=\"url(#p5aa1d45efb)\" style=\"fill:none;stroke:#424242;stroke-linecap:square;stroke-width:2.7;\"/>\r\n   </g>\r\n   <g id=\"line2d_40\">\r\n    <path clip-path=\"url(#p5aa1d45efb)\" style=\"fill:none;stroke:#424242;stroke-linecap:square;stroke-width:2.7;\"/>\r\n   </g>\r\n   <g id=\"line2d_41\">\r\n    <path clip-path=\"url(#p5aa1d45efb)\" style=\"fill:none;stroke:#424242;stroke-linecap:square;stroke-width:2.7;\"/>\r\n   </g>\r\n   <g id=\"line2d_42\">\r\n    <path clip-path=\"url(#p5aa1d45efb)\" style=\"fill:none;stroke:#424242;stroke-linecap:square;stroke-width:2.7;\"/>\r\n   </g>\r\n   <g id=\"line2d_43\">\r\n    <path clip-path=\"url(#p5aa1d45efb)\" style=\"fill:none;stroke:#424242;stroke-linecap:square;stroke-width:2.7;\"/>\r\n   </g>\r\n   <g id=\"line2d_44\">\r\n    <path clip-path=\"url(#p5aa1d45efb)\" style=\"fill:none;stroke:#424242;stroke-linecap:square;stroke-width:2.7;\"/>\r\n   </g>\r\n   <g id=\"line2d_45\">\r\n    <path clip-path=\"url(#p5aa1d45efb)\" style=\"fill:none;stroke:#424242;stroke-linecap:square;stroke-width:2.7;\"/>\r\n   </g>\r\n   <g id=\"line2d_46\">\r\n    <path clip-path=\"url(#p5aa1d45efb)\" style=\"fill:none;stroke:#424242;stroke-linecap:square;stroke-width:2.7;\"/>\r\n   </g>\r\n   <g id=\"line2d_47\">\r\n    <path clip-path=\"url(#p5aa1d45efb)\" style=\"fill:none;stroke:#424242;stroke-linecap:square;stroke-width:2.7;\"/>\r\n   </g>\r\n   <g id=\"line2d_48\">\r\n    <path clip-path=\"url(#p5aa1d45efb)\" style=\"fill:none;stroke:#424242;stroke-linecap:square;stroke-width:2.7;\"/>\r\n   </g>\r\n   <g id=\"line2d_49\">\r\n    <path clip-path=\"url(#p5aa1d45efb)\" style=\"fill:none;stroke:#424242;stroke-linecap:square;stroke-width:2.7;\"/>\r\n   </g>\r\n   <g id=\"line2d_50\">\r\n    <path clip-path=\"url(#p5aa1d45efb)\" style=\"fill:none;stroke:#424242;stroke-linecap:square;stroke-width:2.7;\"/>\r\n   </g>\r\n   <g id=\"line2d_51\">\r\n    <path clip-path=\"url(#p5aa1d45efb)\" style=\"fill:none;stroke:#424242;stroke-linecap:square;stroke-width:2.7;\"/>\r\n   </g>\r\n   <g id=\"line2d_52\">\r\n    <path clip-path=\"url(#p5aa1d45efb)\" style=\"fill:none;stroke:#424242;stroke-linecap:square;stroke-width:2.7;\"/>\r\n   </g>\r\n   <g id=\"line2d_53\">\r\n    <path clip-path=\"url(#p5aa1d45efb)\" style=\"fill:none;stroke:#424242;stroke-linecap:square;stroke-width:2.7;\"/>\r\n   </g>\r\n   <g id=\"line2d_54\">\r\n    <path clip-path=\"url(#p5aa1d45efb)\" style=\"fill:none;stroke:#424242;stroke-linecap:square;stroke-width:2.7;\"/>\r\n   </g>\r\n   <g id=\"patch_26\">\r\n    <path d=\"M 36.465625 550.8 \r\nL 36.465625 7.2 \r\n\" style=\"fill:none;stroke:#000000;stroke-linecap:square;stroke-linejoin:miter;stroke-width:0.8;\"/>\r\n   </g>\r\n   <g id=\"patch_27\">\r\n    <path d=\"M 482.865625 550.8 \r\nL 482.865625 7.2 \r\n\" style=\"fill:none;stroke:#000000;stroke-linecap:square;stroke-linejoin:miter;stroke-width:0.8;\"/>\r\n   </g>\r\n   <g id=\"patch_28\">\r\n    <path d=\"M 36.465625 550.8 \r\nL 482.865625 550.8 \r\n\" style=\"fill:none;stroke:#000000;stroke-linecap:square;stroke-linejoin:miter;stroke-width:0.8;\"/>\r\n   </g>\r\n   <g id=\"patch_29\">\r\n    <path d=\"M 36.465625 7.2 \r\nL 482.865625 7.2 \r\n\" style=\"fill:none;stroke:#000000;stroke-linecap:square;stroke-linejoin:miter;stroke-width:0.8;\"/>\r\n   </g>\r\n  </g>\r\n </g>\r\n <defs>\r\n  <clipPath id=\"p5aa1d45efb\">\r\n   <rect height=\"543.6\" width=\"446.4\" x=\"36.465625\" y=\"7.2\"/>\r\n  </clipPath>\r\n </defs>\r\n</svg>\r\n",
      "image/png": "[encoded data removed]"
     },
     "metadata": {
      "needs_background": "light"
     }
    }
   ],
   "source": [
    "fig,ax_spam_words = plt.subplots(1,1,figsize = (8,10))\n",
    "sns.barplot(x = sorted_spam_word_labels, y = sorted_spam_word_means, ax = ax_spam_words) \n",
    "ax_spam_words.set_xticklabels(ax_spam_words.get_xticklabels(), rotation = 45)"
   ]
  },
  {
   "cell_type": "code",
   "execution_count": 51,
   "metadata": {},
   "outputs": [],
   "source": [
    "from sklearn.linear_model import LogisticRegression\n",
    "from sklearn.model_selection import cross_val_score\n",
    "from sklearn.model_selection import StratifiedKFold"
   ]
  },
  {
   "source": [
    "<h3> Using Logistic Regression Model </h3> "
   ],
   "cell_type": "markdown",
   "metadata": {}
  },
  {
   "cell_type": "code",
   "execution_count": 52,
   "metadata": {},
   "outputs": [],
   "source": [
    "skf = StratifiedKFold(n_splits=3)\n",
    "log_reg = LogisticRegression(solver=\"lbfgs\", max_iter = 1000, random_state = 42)"
   ]
  },
  {
   "cell_type": "code",
   "execution_count": 53,
   "metadata": {},
   "outputs": [],
   "source": [
    "columns = X_train_transformed_df.columns.tolist()[:-1]"
   ]
  },
  {
   "cell_type": "code",
   "execution_count": 54,
   "metadata": {},
   "outputs": [
    {
     "output_type": "execute_result",
     "data": {
      "text/plain": [
       "LogisticRegression(max_iter=1000, random_state=42)"
      ]
     },
     "metadata": {},
     "execution_count": 54
    }
   ],
   "source": [
    "log_reg.fit(X_train_transformed_df[columns],X_train_transformed_df[\"Result\"])"
   ]
  },
  {
   "cell_type": "code",
   "execution_count": 55,
   "metadata": {},
   "outputs": [
    {
     "output_type": "execute_result",
     "data": {
      "text/plain": [
       "array([[2035,    0],\n",
       "       [   5,  400]], dtype=int64)"
      ]
     },
     "metadata": {},
     "execution_count": 55
    }
   ],
   "source": [
    "from sklearn.metrics import confusion_matrix\n",
    "confusion_matrix(X_train_transformed_df[\"Result\"],log_reg.predict(X_train_transformed_df[columns]))"
   ]
  },
  {
   "cell_type": "code",
   "execution_count": 56,
   "metadata": {},
   "outputs": [
    {
     "output_type": "stream",
     "name": "stderr",
     "text": [
      "[Parallel(n_jobs=1)]: Using backend SequentialBackend with 1 concurrent workers.\n",
      "[Parallel(n_jobs=1)]: Done   1 out of   1 | elapsed:    1.1s remaining:    0.0s\n",
      "[Parallel(n_jobs=1)]: Done   2 out of   2 | elapsed:    2.9s remaining:    0.0s\n",
      "[Parallel(n_jobs=1)]: Done   3 out of   3 | elapsed:    4.3s finished\n"
     ]
    },
    {
     "output_type": "execute_result",
     "data": {
      "text/plain": [
       "array([[2031,    4],\n",
       "       [  29,  376]], dtype=int64)"
      ]
     },
     "metadata": {},
     "execution_count": 56
    }
   ],
   "source": [
    "from sklearn.model_selection import cross_val_predict\n",
    "log_reg_cross_val = LogisticRegression(solver=\"lbfgs\", max_iter = 1000, random_state = 42)\n",
    "y_pred = cross_val_predict(log_reg_cross_val,X_train_transformed_df[columns],X_train_transformed_df[\"Result\"], cv = skf,verbose = 3)\n",
    "conf_matrix_log_reg = confusion_matrix(X_train_transformed_df[\"Result\"], y_pred)\n",
    "conf_matrix_log_reg"
   ]
  },
  {
   "cell_type": "code",
   "execution_count": 57,
   "metadata": {},
   "outputs": [
    {
     "output_type": "execute_result",
     "data": {
      "text/plain": [
       "0.9859223300970874"
      ]
     },
     "metadata": {},
     "execution_count": 57
    }
   ],
   "source": [
    "conf_matrix_log_reg[0,0]/np.sum(conf_matrix_log_reg,axis = 0)[0]"
   ]
  },
  {
   "cell_type": "code",
   "execution_count": 58,
   "metadata": {},
   "outputs": [
    {
     "output_type": "execute_result",
     "data": {
      "text/plain": [
       "(405, 1000)"
      ]
     },
     "metadata": {},
     "execution_count": 58
    }
   ],
   "source": [
    "df_spam.shape"
   ]
  },
  {
   "cell_type": "code",
   "execution_count": 59,
   "metadata": {},
   "outputs": [
    {
     "output_type": "execute_result",
     "data": {
      "text/plain": [
       "0.9894736842105263"
      ]
     },
     "metadata": {},
     "execution_count": 59
    }
   ],
   "source": [
    "from sklearn.metrics import precision_score\n",
    "precision_score(X_train_transformed_df[\"Result\"], y_pred)"
   ]
  },
  {
   "cell_type": "code",
   "execution_count": 60,
   "metadata": {},
   "outputs": [
    {
     "output_type": "execute_result",
     "data": {
      "text/plain": [
       "0.928395061728395"
      ]
     },
     "metadata": {},
     "execution_count": 60
    }
   ],
   "source": [
    "from sklearn.metrics import recall_score\n",
    "recall_score(X_train_transformed_df[\"Result\"], y_pred)"
   ]
  },
  {
   "cell_type": "code",
   "execution_count": 61,
   "metadata": {},
   "outputs": [
    {
     "output_type": "execute_result",
     "data": {
      "text/plain": [
       "0.9579617834394905"
      ]
     },
     "metadata": {},
     "execution_count": 61
    }
   ],
   "source": [
    "from sklearn.metrics import f1_score\n",
    "f1_score(X_train_transformed_df[\"Result\"], y_pred)"
   ]
  },
  {
   "source": [
    "<h3> Support Vector Classifier </h3> "
   ],
   "cell_type": "markdown",
   "metadata": {}
  },
  {
   "cell_type": "code",
   "execution_count": 63,
   "metadata": {},
   "outputs": [],
   "source": [
    "from sklearn.svm import SVC\n"
   ]
  },
  {
   "cell_type": "code",
   "execution_count": 64,
   "metadata": {},
   "outputs": [
    {
     "output_type": "execute_result",
     "data": {
      "text/plain": [
       "array([[2035,    0],\n",
       "       [ 290,  115]], dtype=int64)"
      ]
     },
     "metadata": {},
     "execution_count": 64
    }
   ],
   "source": [
    "svm_clf = SVC(kernel = 'rbf',gamma = 'scale')\n",
    "svm_clf.fit(X_train_transformed_df[columns],X_train_transformed_df[\"Result\"])\n",
    "confusion_matrix(X_train_transformed_df[\"Result\"],svm_clf.predict(X_train_transformed_df[columns]))"
   ]
  },
  {
   "cell_type": "code",
   "execution_count": 65,
   "metadata": {},
   "outputs": [
    {
     "output_type": "stream",
     "name": "stderr",
     "text": [
      "[Parallel(n_jobs=1)]: Using backend SequentialBackend with 1 concurrent workers.\n",
      "[Parallel(n_jobs=1)]: Done   1 out of   1 | elapsed:    1.2s remaining:    0.0s\n",
      "[Parallel(n_jobs=1)]: Done   2 out of   2 | elapsed:    2.6s remaining:    0.0s\n",
      "[Parallel(n_jobs=1)]: Done   3 out of   3 | elapsed:    4.0s finished\n"
     ]
    },
    {
     "output_type": "execute_result",
     "data": {
      "text/plain": [
       "array([[2033,    2],\n",
       "       [ 360,   45]], dtype=int64)"
      ]
     },
     "metadata": {},
     "execution_count": 65
    }
   ],
   "source": [
    "svm_clf_cross_val = SVC(kernel = 'rbf',gamma = 'scale')\n",
    "y_pred_svm = cross_val_predict(svm_clf_cross_val,X_train_transformed_df[columns],X_train_transformed_df[\"Result\"], cv = skf,verbose = 3)\n",
    "conf_matrix_svm_clf = confusion_matrix(X_train_transformed_df[\"Result\"], y_pred_svm)\n",
    "conf_matrix_svm_clf"
   ]
  },
  {
   "cell_type": "code",
   "execution_count": 66,
   "metadata": {},
   "outputs": [
    {
     "output_type": "stream",
     "name": "stdout",
     "text": [
      "Precision of SVM: 0.9574468085106383\nRecall of SVM: 0.1111111111111111\n"
     ]
    }
   ],
   "source": [
    "print(\"Precision of SVM: {}\".format(precision_score(X_train_transformed_df[\"Result\"], y_pred_svm)))\n",
    "print(\"Recall of SVM: {}\".format(recall_score(X_train_transformed_df[\"Result\"], y_pred_svm)))"
   ]
  },
  {
   "source": [
    "<h3> Random Forest Classifier </h3>"
   ],
   "cell_type": "markdown",
   "metadata": {}
  },
  {
   "cell_type": "code",
   "execution_count": 67,
   "metadata": {},
   "outputs": [],
   "source": [
    "from sklearn.ensemble import RandomForestClassifier\n"
   ]
  },
  {
   "cell_type": "code",
   "execution_count": 68,
   "metadata": {},
   "outputs": [
    {
     "output_type": "execute_result",
     "data": {
      "text/plain": [
       "array([[2035,    0],\n",
       "       [ 148,  257]], dtype=int64)"
      ]
     },
     "metadata": {},
     "execution_count": 68
    }
   ],
   "source": [
    "rnd_clf = RandomForestClassifier(n_estimators=500, max_leaf_nodes=16, n_jobs = -1, random_state=42)\n",
    "rnd_clf.fit(X_train_transformed_df[columns],X_train_transformed_df[\"Result\"])\n",
    "confusion_matrix(X_train_transformed_df[\"Result\"],rnd_clf.predict(X_train_transformed_df[columns]))"
   ]
  },
  {
   "cell_type": "code",
   "execution_count": 69,
   "metadata": {},
   "outputs": [
    {
     "output_type": "stream",
     "name": "stderr",
     "text": [
      "[Parallel(n_jobs=1)]: Using backend SequentialBackend with 1 concurrent workers.\n",
      "[Parallel(n_jobs=1)]: Done   1 out of   1 | elapsed:    4.6s remaining:    0.0s\n",
      "[Parallel(n_jobs=1)]: Done   2 out of   2 | elapsed:    5.9s remaining:    0.0s\n",
      "[Parallel(n_jobs=1)]: Done   3 out of   3 | elapsed:    7.5s finished\n"
     ]
    },
    {
     "output_type": "execute_result",
     "data": {
      "text/plain": [
       "array([[2031,    4],\n",
       "       [ 173,  232]], dtype=int64)"
      ]
     },
     "metadata": {},
     "execution_count": 69
    }
   ],
   "source": [
    "rnd_clf_cross_val = RandomForestClassifier(n_estimators=500, max_leaf_nodes=16, n_jobs = -1, random_state=42)\n",
    "y_pred_rnd = cross_val_predict(rnd_clf_cross_val,X_train_transformed_df[columns],X_train_transformed_df[\"Result\"], cv = skf,verbose = 3)\n",
    "conf_matrix_rnd_clf = confusion_matrix(X_train_transformed_df[\"Result\"], y_pred_rnd)\n",
    "conf_matrix_rnd_clf"
   ]
  },
  {
   "source": [
    "<h3> AdaBoost Classifier </h3> "
   ],
   "cell_type": "markdown",
   "metadata": {}
  },
  {
   "cell_type": "code",
   "execution_count": 70,
   "metadata": {},
   "outputs": [],
   "source": [
    "from sklearn.ensemble import AdaBoostClassifier\n",
    "from sklearn.tree import DecisionTreeClassifier"
   ]
  },
  {
   "cell_type": "code",
   "execution_count": 71,
   "metadata": {},
   "outputs": [
    {
     "output_type": "execute_result",
     "data": {
      "text/plain": [
       "array([[2035,    0],\n",
       "       [   0,  405]], dtype=int64)"
      ]
     },
     "metadata": {},
     "execution_count": 71
    }
   ],
   "source": [
    "ada_clf = AdaBoostClassifier(DecisionTreeClassifier(max_depth=1), n_estimators = 200, algorithm = \"SAMME.R\", learning_rate = 0.5)\n",
    "ada_clf.fit(X_train_transformed_df[columns],X_train_transformed_df[\"Result\"])\n",
    "confusion_matrix(X_train_transformed_df[\"Result\"],ada_clf.predict(X_train_transformed_df[columns]))"
   ]
  },
  {
   "cell_type": "code",
   "execution_count": 72,
   "metadata": {},
   "outputs": [
    {
     "output_type": "stream",
     "name": "stderr",
     "text": [
      "[Parallel(n_jobs=1)]: Using backend SequentialBackend with 1 concurrent workers.\n",
      "[Parallel(n_jobs=1)]: Done   1 out of   1 | elapsed:    9.0s remaining:    0.0s\n",
      "[Parallel(n_jobs=1)]: Done   2 out of   2 | elapsed:   17.5s remaining:    0.0s\n",
      "[Parallel(n_jobs=1)]: Done   3 out of   3 | elapsed:   26.4s finished\n"
     ]
    },
    {
     "output_type": "execute_result",
     "data": {
      "text/plain": [
       "array([[2023,   12],\n",
       "       [  26,  379]], dtype=int64)"
      ]
     },
     "metadata": {},
     "execution_count": 72
    }
   ],
   "source": [
    "ada_clf_cross_val = AdaBoostClassifier(DecisionTreeClassifier(max_depth=1), n_estimators = 200, algorithm = \"SAMME.R\", learning_rate = 0.5)\n",
    "y_pred_ada = cross_val_predict(ada_clf_cross_val,X_train_transformed_df[columns],X_train_transformed_df[\"Result\"], cv = skf,verbose = 3)\n",
    "conf_matrix_ada_clf = confusion_matrix(X_train_transformed_df[\"Result\"], y_pred_ada)\n",
    "conf_matrix_ada_clf"
   ]
  },
  {
   "cell_type": "code",
   "execution_count": 73,
   "metadata": {},
   "outputs": [
    {
     "output_type": "stream",
     "name": "stdout",
     "text": [
      "Precision of Adaboost: 0.969309462915601\nRecall of Adaboost: 0.9358024691358025\n"
     ]
    }
   ],
   "source": [
    "print(\"Precision of Adaboost: {}\".format(precision_score(X_train_transformed_df[\"Result\"], y_pred_ada)))\n",
    "print(\"Recall of Adaboost: {}\".format(recall_score(X_train_transformed_df[\"Result\"], y_pred_ada)))"
   ]
  },
  {
   "source": [
    "ada_clf_log_reg = AdaBoostClassifier(base_estimator=LogisticRegression(solver=\"lbfgs\", max_iter = 1000, random_state = 42), n_estimators = 200, algorithm = \"SAMME.R\", learning_rate = 0.5)\n",
    "y_pred_ada_log_reg = cross_val_predict(ada_clf_log_reg,X_train_transformed_df[columns],X_train_transformed_df[\"Result\"], cv = skf,verbose = 3)\n",
    "conf_matrix_ada_log_reg = confusion_matrix(X_train_transformed_df[\"Result\"], y_pred_ada_log_reg)\n",
    "conf_matrix_ada_log_reg"
   ],
   "cell_type": "code",
   "metadata": {},
   "execution_count": 74,
   "outputs": [
    {
     "output_type": "stream",
     "name": "stderr",
     "text": [
      "[Parallel(n_jobs=1)]: Using backend SequentialBackend with 1 concurrent workers.\n",
      "[Parallel(n_jobs=1)]: Done   1 out of   1 | elapsed:   17.4s remaining:    0.0s\n",
      "[Parallel(n_jobs=1)]: Done   2 out of   2 | elapsed:   34.3s remaining:    0.0s\n",
      "[Parallel(n_jobs=1)]: Done   3 out of   3 | elapsed:   53.8s finished\n"
     ]
    },
    {
     "output_type": "execute_result",
     "data": {
      "text/plain": [
       "array([[2027,    8],\n",
       "       [  27,  378]], dtype=int64)"
      ]
     },
     "metadata": {},
     "execution_count": 74
    }
   ]
  },
  {
   "source": [
    "<h3> Using AdaBoost with the Logistic Regression algorithm as the base algorithm </h3> \n",
    "\n",
    "Given that out of all the above estimators, Logistic Regression and Adaptive Gradient Boosting works the best, for the next step, we can use Adaptive Gradient Boosting with Logistic Regression as its base estimator."
   ],
   "cell_type": "markdown",
   "metadata": {}
  },
  {
   "cell_type": "code",
   "execution_count": 75,
   "metadata": {},
   "outputs": [
    {
     "output_type": "stream",
     "name": "stdout",
     "text": [
      "Precision of Adaboost with LogReg: 0.9792746113989638\nRecall of Adaboost with LogReg: 0.9333333333333333\n"
     ]
    }
   ],
   "source": [
    "print(\"Precision of Adaboost with LogReg: {}\".format(precision_score(X_train_transformed_df[\"Result\"], y_pred_ada_log_reg)))\n",
    "print(\"Recall of Adaboost with LogReg: {}\".format(recall_score(X_train_transformed_df[\"Result\"], y_pred_ada_log_reg)))"
   ]
  },
  {
   "source": [
    "There is a slight improvement in Precision, however the Recall has decreased by a negligible amount. "
   ],
   "cell_type": "markdown",
   "metadata": {}
  },
  {
   "source": [
    "<h3> Hyper parameter tuning of Logistic Regression and AdaBoost </h3> "
   ],
   "cell_type": "markdown",
   "metadata": {}
  },
  {
   "cell_type": "code",
   "execution_count": 76,
   "metadata": {
    "tags": []
   },
   "outputs": [
    {
     "output_type": "stream",
     "name": "stdout",
     "text": [
      "Fitting 5 folds for each of 8 candidates, totalling 40 fits\n",
      "C:\\Users\\ASUS\\AppData\\Local\\Programs\\Python\\Python38\\lib\\site-packages\\sklearn\\linear_model\\_logistic.py:763: ConvergenceWarning: lbfgs failed to converge (status=1):\n",
      "STOP: TOTAL NO. of ITERATIONS REACHED LIMIT.\n",
      "\n",
      "Increase the number of iterations (max_iter) or scale the data as shown in:\n",
      "    https://scikit-learn.org/stable/modules/preprocessing.html\n",
      "Please also refer to the documentation for alternative solver options:\n",
      "    https://scikit-learn.org/stable/modules/linear_model.html#logistic-regression\n",
      "  n_iter_i = _check_optimize_result(\n",
      "[CV] END ................................C=0.1, max_iter=100; total time=   0.3s\n",
      "C:\\Users\\ASUS\\AppData\\Local\\Programs\\Python\\Python38\\lib\\site-packages\\sklearn\\linear_model\\_logistic.py:763: ConvergenceWarning: lbfgs failed to converge (status=1):\n",
      "STOP: TOTAL NO. of ITERATIONS REACHED LIMIT.\n",
      "\n",
      "Increase the number of iterations (max_iter) or scale the data as shown in:\n",
      "    https://scikit-learn.org/stable/modules/preprocessing.html\n",
      "Please also refer to the documentation for alternative solver options:\n",
      "    https://scikit-learn.org/stable/modules/linear_model.html#logistic-regression\n",
      "  n_iter_i = _check_optimize_result(\n",
      "[CV] END ................................C=0.1, max_iter=100; total time=   0.3s\n",
      "C:\\Users\\ASUS\\AppData\\Local\\Programs\\Python\\Python38\\lib\\site-packages\\sklearn\\linear_model\\_logistic.py:763: ConvergenceWarning: lbfgs failed to converge (status=1):\n",
      "STOP: TOTAL NO. of ITERATIONS REACHED LIMIT.\n",
      "\n",
      "Increase the number of iterations (max_iter) or scale the data as shown in:\n",
      "    https://scikit-learn.org/stable/modules/preprocessing.html\n",
      "Please also refer to the documentation for alternative solver options:\n",
      "    https://scikit-learn.org/stable/modules/linear_model.html#logistic-regression\n",
      "  n_iter_i = _check_optimize_result(\n",
      "[CV] END ................................C=0.1, max_iter=100; total time=   0.3s\n",
      "C:\\Users\\ASUS\\AppData\\Local\\Programs\\Python\\Python38\\lib\\site-packages\\sklearn\\linear_model\\_logistic.py:763: ConvergenceWarning: lbfgs failed to converge (status=1):\n",
      "STOP: TOTAL NO. of ITERATIONS REACHED LIMIT.\n",
      "\n",
      "Increase the number of iterations (max_iter) or scale the data as shown in:\n",
      "    https://scikit-learn.org/stable/modules/preprocessing.html\n",
      "Please also refer to the documentation for alternative solver options:\n",
      "    https://scikit-learn.org/stable/modules/linear_model.html#logistic-regression\n",
      "  n_iter_i = _check_optimize_result(\n",
      "[CV] END ................................C=0.1, max_iter=100; total time=   0.4s\n",
      "C:\\Users\\ASUS\\AppData\\Local\\Programs\\Python\\Python38\\lib\\site-packages\\sklearn\\linear_model\\_logistic.py:763: ConvergenceWarning: lbfgs failed to converge (status=1):\n",
      "STOP: TOTAL NO. of ITERATIONS REACHED LIMIT.\n",
      "\n",
      "Increase the number of iterations (max_iter) or scale the data as shown in:\n",
      "    https://scikit-learn.org/stable/modules/preprocessing.html\n",
      "Please also refer to the documentation for alternative solver options:\n",
      "    https://scikit-learn.org/stable/modules/linear_model.html#logistic-regression\n",
      "  n_iter_i = _check_optimize_result(\n",
      "[CV] END ................................C=0.1, max_iter=100; total time=   0.4s\n",
      "[CV] END ...............................C=0.1, max_iter=1000; total time=   0.8s\n",
      "[CV] END ...............................C=0.1, max_iter=1000; total time=   0.7s\n",
      "[CV] END ...............................C=0.1, max_iter=1000; total time=   0.7s\n",
      "[CV] END ...............................C=0.1, max_iter=1000; total time=   0.7s\n",
      "[CV] END ...............................C=0.1, max_iter=1000; total time=   0.7s\n",
      "C:\\Users\\ASUS\\AppData\\Local\\Programs\\Python\\Python38\\lib\\site-packages\\sklearn\\linear_model\\_logistic.py:763: ConvergenceWarning: lbfgs failed to converge (status=1):\n",
      "STOP: TOTAL NO. of ITERATIONS REACHED LIMIT.\n",
      "\n",
      "Increase the number of iterations (max_iter) or scale the data as shown in:\n",
      "    https://scikit-learn.org/stable/modules/preprocessing.html\n",
      "Please also refer to the documentation for alternative solver options:\n",
      "    https://scikit-learn.org/stable/modules/linear_model.html#logistic-regression\n",
      "  n_iter_i = _check_optimize_result(\n",
      "[CV] END ................................C=0.5, max_iter=100; total time=   0.4s\n",
      "C:\\Users\\ASUS\\AppData\\Local\\Programs\\Python\\Python38\\lib\\site-packages\\sklearn\\linear_model\\_logistic.py:763: ConvergenceWarning: lbfgs failed to converge (status=1):\n",
      "STOP: TOTAL NO. of ITERATIONS REACHED LIMIT.\n",
      "\n",
      "Increase the number of iterations (max_iter) or scale the data as shown in:\n",
      "    https://scikit-learn.org/stable/modules/preprocessing.html\n",
      "Please also refer to the documentation for alternative solver options:\n",
      "    https://scikit-learn.org/stable/modules/linear_model.html#logistic-regression\n",
      "  n_iter_i = _check_optimize_result(\n",
      "[CV] END ................................C=0.5, max_iter=100; total time=   0.3s\n",
      "C:\\Users\\ASUS\\AppData\\Local\\Programs\\Python\\Python38\\lib\\site-packages\\sklearn\\linear_model\\_logistic.py:763: ConvergenceWarning: lbfgs failed to converge (status=1):\n",
      "STOP: TOTAL NO. of ITERATIONS REACHED LIMIT.\n",
      "\n",
      "Increase the number of iterations (max_iter) or scale the data as shown in:\n",
      "    https://scikit-learn.org/stable/modules/preprocessing.html\n",
      "Please also refer to the documentation for alternative solver options:\n",
      "    https://scikit-learn.org/stable/modules/linear_model.html#logistic-regression\n",
      "  n_iter_i = _check_optimize_result(\n",
      "[CV] END ................................C=0.5, max_iter=100; total time=   0.4s\n",
      "C:\\Users\\ASUS\\AppData\\Local\\Programs\\Python\\Python38\\lib\\site-packages\\sklearn\\linear_model\\_logistic.py:763: ConvergenceWarning: lbfgs failed to converge (status=1):\n",
      "STOP: TOTAL NO. of ITERATIONS REACHED LIMIT.\n",
      "\n",
      "Increase the number of iterations (max_iter) or scale the data as shown in:\n",
      "    https://scikit-learn.org/stable/modules/preprocessing.html\n",
      "Please also refer to the documentation for alternative solver options:\n",
      "    https://scikit-learn.org/stable/modules/linear_model.html#logistic-regression\n",
      "  n_iter_i = _check_optimize_result(\n",
      "[CV] END ................................C=0.5, max_iter=100; total time=   0.3s\n",
      "C:\\Users\\ASUS\\AppData\\Local\\Programs\\Python\\Python38\\lib\\site-packages\\sklearn\\linear_model\\_logistic.py:763: ConvergenceWarning: lbfgs failed to converge (status=1):\n",
      "STOP: TOTAL NO. of ITERATIONS REACHED LIMIT.\n",
      "\n",
      "Increase the number of iterations (max_iter) or scale the data as shown in:\n",
      "    https://scikit-learn.org/stable/modules/preprocessing.html\n",
      "Please also refer to the documentation for alternative solver options:\n",
      "    https://scikit-learn.org/stable/modules/linear_model.html#logistic-regression\n",
      "  n_iter_i = _check_optimize_result(\n",
      "[CV] END ................................C=0.5, max_iter=100; total time=   0.4s\n",
      "[CV] END ...............................C=0.5, max_iter=1000; total time=   0.9s\n",
      "[CV] END ...............................C=0.5, max_iter=1000; total time=   0.9s\n",
      "[CV] END ...............................C=0.5, max_iter=1000; total time=   1.1s\n",
      "[CV] END ...............................C=0.5, max_iter=1000; total time=   1.1s\n",
      "[CV] END ...............................C=0.5, max_iter=1000; total time=   0.8s\n",
      "C:\\Users\\ASUS\\AppData\\Local\\Programs\\Python\\Python38\\lib\\site-packages\\sklearn\\linear_model\\_logistic.py:763: ConvergenceWarning: lbfgs failed to converge (status=1):\n",
      "STOP: TOTAL NO. of ITERATIONS REACHED LIMIT.\n",
      "\n",
      "Increase the number of iterations (max_iter) or scale the data as shown in:\n",
      "    https://scikit-learn.org/stable/modules/preprocessing.html\n",
      "Please also refer to the documentation for alternative solver options:\n",
      "    https://scikit-learn.org/stable/modules/linear_model.html#logistic-regression\n",
      "  n_iter_i = _check_optimize_result(\n",
      "[CV] END ................................C=1.0, max_iter=100; total time=   0.4s\n",
      "C:\\Users\\ASUS\\AppData\\Local\\Programs\\Python\\Python38\\lib\\site-packages\\sklearn\\linear_model\\_logistic.py:763: ConvergenceWarning: lbfgs failed to converge (status=1):\n",
      "STOP: TOTAL NO. of ITERATIONS REACHED LIMIT.\n",
      "\n",
      "Increase the number of iterations (max_iter) or scale the data as shown in:\n",
      "    https://scikit-learn.org/stable/modules/preprocessing.html\n",
      "Please also refer to the documentation for alternative solver options:\n",
      "    https://scikit-learn.org/stable/modules/linear_model.html#logistic-regression\n",
      "  n_iter_i = _check_optimize_result(\n",
      "[CV] END ................................C=1.0, max_iter=100; total time=   0.3s\n",
      "C:\\Users\\ASUS\\AppData\\Local\\Programs\\Python\\Python38\\lib\\site-packages\\sklearn\\linear_model\\_logistic.py:763: ConvergenceWarning: lbfgs failed to converge (status=1):\n",
      "STOP: TOTAL NO. of ITERATIONS REACHED LIMIT.\n",
      "\n",
      "Increase the number of iterations (max_iter) or scale the data as shown in:\n",
      "    https://scikit-learn.org/stable/modules/preprocessing.html\n",
      "Please also refer to the documentation for alternative solver options:\n",
      "    https://scikit-learn.org/stable/modules/linear_model.html#logistic-regression\n",
      "  n_iter_i = _check_optimize_result(\n",
      "[CV] END ................................C=1.0, max_iter=100; total time=   0.3s\n",
      "C:\\Users\\ASUS\\AppData\\Local\\Programs\\Python\\Python38\\lib\\site-packages\\sklearn\\linear_model\\_logistic.py:763: ConvergenceWarning: lbfgs failed to converge (status=1):\n",
      "STOP: TOTAL NO. of ITERATIONS REACHED LIMIT.\n",
      "\n",
      "Increase the number of iterations (max_iter) or scale the data as shown in:\n",
      "    https://scikit-learn.org/stable/modules/preprocessing.html\n",
      "Please also refer to the documentation for alternative solver options:\n",
      "    https://scikit-learn.org/stable/modules/linear_model.html#logistic-regression\n",
      "  n_iter_i = _check_optimize_result(\n",
      "[CV] END ................................C=1.0, max_iter=100; total time=   0.4s\n",
      "C:\\Users\\ASUS\\AppData\\Local\\Programs\\Python\\Python38\\lib\\site-packages\\sklearn\\linear_model\\_logistic.py:763: ConvergenceWarning: lbfgs failed to converge (status=1):\n",
      "STOP: TOTAL NO. of ITERATIONS REACHED LIMIT.\n",
      "\n",
      "Increase the number of iterations (max_iter) or scale the data as shown in:\n",
      "    https://scikit-learn.org/stable/modules/preprocessing.html\n",
      "Please also refer to the documentation for alternative solver options:\n",
      "    https://scikit-learn.org/stable/modules/linear_model.html#logistic-regression\n",
      "  n_iter_i = _check_optimize_result(\n",
      "[CV] END ................................C=1.0, max_iter=100; total time=   0.5s\n",
      "[CV] END ...............................C=1.0, max_iter=1000; total time=   0.9s\n",
      "[CV] END ...............................C=1.0, max_iter=1000; total time=   0.9s\n",
      "[CV] END ...............................C=1.0, max_iter=1000; total time=   1.2s\n",
      "[CV] END ...............................C=1.0, max_iter=1000; total time=   1.1s\n",
      "[CV] END ...............................C=1.0, max_iter=1000; total time=   1.1s\n",
      "C:\\Users\\ASUS\\AppData\\Local\\Programs\\Python\\Python38\\lib\\site-packages\\sklearn\\linear_model\\_logistic.py:763: ConvergenceWarning: lbfgs failed to converge (status=1):\n",
      "STOP: TOTAL NO. of ITERATIONS REACHED LIMIT.\n",
      "\n",
      "Increase the number of iterations (max_iter) or scale the data as shown in:\n",
      "    https://scikit-learn.org/stable/modules/preprocessing.html\n",
      "Please also refer to the documentation for alternative solver options:\n",
      "    https://scikit-learn.org/stable/modules/linear_model.html#logistic-regression\n",
      "  n_iter_i = _check_optimize_result(\n",
      "[CV] END .................................C=10, max_iter=100; total time=   0.4s\n",
      "C:\\Users\\ASUS\\AppData\\Local\\Programs\\Python\\Python38\\lib\\site-packages\\sklearn\\linear_model\\_logistic.py:763: ConvergenceWarning: lbfgs failed to converge (status=1):\n",
      "STOP: TOTAL NO. of ITERATIONS REACHED LIMIT.\n",
      "\n",
      "Increase the number of iterations (max_iter) or scale the data as shown in:\n",
      "    https://scikit-learn.org/stable/modules/preprocessing.html\n",
      "Please also refer to the documentation for alternative solver options:\n",
      "    https://scikit-learn.org/stable/modules/linear_model.html#logistic-regression\n",
      "  n_iter_i = _check_optimize_result(\n",
      "[CV] END .................................C=10, max_iter=100; total time=   0.4s\n",
      "C:\\Users\\ASUS\\AppData\\Local\\Programs\\Python\\Python38\\lib\\site-packages\\sklearn\\linear_model\\_logistic.py:763: ConvergenceWarning: lbfgs failed to converge (status=1):\n",
      "STOP: TOTAL NO. of ITERATIONS REACHED LIMIT.\n",
      "\n",
      "Increase the number of iterations (max_iter) or scale the data as shown in:\n",
      "    https://scikit-learn.org/stable/modules/preprocessing.html\n",
      "Please also refer to the documentation for alternative solver options:\n",
      "    https://scikit-learn.org/stable/modules/linear_model.html#logistic-regression\n",
      "  n_iter_i = _check_optimize_result(\n",
      "[CV] END .................................C=10, max_iter=100; total time=   0.4s\n",
      "C:\\Users\\ASUS\\AppData\\Local\\Programs\\Python\\Python38\\lib\\site-packages\\sklearn\\linear_model\\_logistic.py:763: ConvergenceWarning: lbfgs failed to converge (status=1):\n",
      "STOP: TOTAL NO. of ITERATIONS REACHED LIMIT.\n",
      "\n",
      "Increase the number of iterations (max_iter) or scale the data as shown in:\n",
      "    https://scikit-learn.org/stable/modules/preprocessing.html\n",
      "Please also refer to the documentation for alternative solver options:\n",
      "    https://scikit-learn.org/stable/modules/linear_model.html#logistic-regression\n",
      "  n_iter_i = _check_optimize_result(\n",
      "[CV] END .................................C=10, max_iter=100; total time=   0.3s\n",
      "C:\\Users\\ASUS\\AppData\\Local\\Programs\\Python\\Python38\\lib\\site-packages\\sklearn\\linear_model\\_logistic.py:763: ConvergenceWarning: lbfgs failed to converge (status=1):\n",
      "STOP: TOTAL NO. of ITERATIONS REACHED LIMIT.\n",
      "\n",
      "Increase the number of iterations (max_iter) or scale the data as shown in:\n",
      "    https://scikit-learn.org/stable/modules/preprocessing.html\n",
      "Please also refer to the documentation for alternative solver options:\n",
      "    https://scikit-learn.org/stable/modules/linear_model.html#logistic-regression\n",
      "  n_iter_i = _check_optimize_result(\n",
      "[CV] END .................................C=10, max_iter=100; total time=   0.4s\n",
      "[CV] END ................................C=10, max_iter=1000; total time=   1.5s\n",
      "[CV] END ................................C=10, max_iter=1000; total time=   1.3s\n",
      "[CV] END ................................C=10, max_iter=1000; total time=   1.7s\n",
      "[CV] END ................................C=10, max_iter=1000; total time=   1.5s\n",
      "[CV] END ................................C=10, max_iter=1000; total time=   1.3s\n",
      "C:\\Users\\ASUS\\AppData\\Local\\Programs\\Python\\Python38\\lib\\site-packages\\sklearn\\linear_model\\_logistic.py:763: ConvergenceWarning: lbfgs failed to converge (status=1):\n",
      "STOP: TOTAL NO. of ITERATIONS REACHED LIMIT.\n",
      "\n",
      "Increase the number of iterations (max_iter) or scale the data as shown in:\n",
      "    https://scikit-learn.org/stable/modules/preprocessing.html\n",
      "Please also refer to the documentation for alternative solver options:\n",
      "    https://scikit-learn.org/stable/modules/linear_model.html#logistic-regression\n",
      "  n_iter_i = _check_optimize_result(\n"
     ]
    },
    {
     "output_type": "execute_result",
     "data": {
      "text/plain": [
       "GridSearchCV(estimator=LogisticRegression(random_state=42),\n",
       "             param_grid={'C': (0.1, 0.5, 1.0, 10), 'max_iter': (100, 1000)},\n",
       "             refit='F1Score', return_train_score=True,\n",
       "             scoring={'F1Score': make_scorer(f1_score),\n",
       "                      'Precision': make_scorer(precision_score),\n",
       "                      'Recall': make_scorer(recall_score)},\n",
       "             verbose=2)"
      ]
     },
     "metadata": {},
     "execution_count": 76
    }
   ],
   "source": [
    "from sklearn.model_selection import GridSearchCV\n",
    "from sklearn.metrics import make_scorer\n",
    "from sklearn.metrics import f1_score\n",
    "parameters_log_reg = {\n",
    "    'C':(0.1,0.5,1.0,10),\n",
    "    'max_iter':(100,1000)\n",
    "}\n",
    "\n",
    "parameters_log_reg2 =  {\n",
    "    'solver' : ('liblinear','saga','lbfgs')}\n",
    "\n",
    "scoring_log_reg = {\"Precision\" : make_scorer(precision_score), \"Recall\":make_scorer(recall_score), \"F1Score\":make_scorer(f1_score)}\n",
    "\n",
    "grid_log_reg = GridSearchCV(estimator = LogisticRegression(solver=\"lbfgs\", random_state = 42), param_grid = parameters_log_reg, \n",
    "scoring = scoring_log_reg, refit = \"F1Score\",verbose = 2, return_train_score = True)\n",
    "\n",
    "grid_log_reg.fit(X_train_transformed_df[columns],X_train_transformed_df[\"Result\"])"
   ]
  },
  {
   "cell_type": "code",
   "execution_count": 77,
   "metadata": {},
   "outputs": [
    {
     "output_type": "execute_result",
     "data": {
      "text/plain": [
       "0.9591079880776748"
      ]
     },
     "metadata": {},
     "execution_count": 77
    }
   ],
   "source": [
    "grid_log_reg.best_score_"
   ]
  },
  {
   "cell_type": "code",
   "execution_count": 78,
   "metadata": {},
   "outputs": [
    {
     "output_type": "execute_result",
     "data": {
      "text/plain": [
       "LogisticRegression(C=0.5, random_state=42)"
      ]
     },
     "metadata": {},
     "execution_count": 78
    }
   ],
   "source": [
    "log_reg_optimized = grid_log_reg.best_estimator_\n",
    "log_reg_optimized"
   ]
  },
  {
   "cell_type": "code",
   "execution_count": 79,
   "metadata": {},
   "outputs": [
    {
     "output_type": "execute_result",
     "data": {
      "text/plain": [
       "1.0"
      ]
     },
     "metadata": {},
     "execution_count": 79
    }
   ],
   "source": [
    "precision_score(X_train_transformed_df[\"Result\"],log_reg_optimized.predict(X_train_transformed_df[columns]))"
   ]
  },
  {
   "cell_type": "code",
   "execution_count": 80,
   "metadata": {},
   "outputs": [
    {
     "output_type": "execute_result",
     "data": {
      "text/plain": [
       "0.9827160493827161"
      ]
     },
     "metadata": {},
     "execution_count": 80
    }
   ],
   "source": [
    "recall_score(X_train_transformed_df[\"Result\"],log_reg_optimized.predict(X_train_transformed_df[columns]))"
   ]
  },
  {
   "source": [
    "After Hyperparameter tuning of the logistic regression estimator, we obtain very high precision and high recall. Note: this is not expected to have the same precision and recall as grid_search_cv results as the results of grid_search_cv is an average off all the splits used in cross validation. "
   ],
   "cell_type": "markdown",
   "metadata": {}
  },
  {
   "cell_type": "code",
   "execution_count": 81,
   "metadata": {},
   "outputs": [
    {
     "output_type": "execute_result",
     "data": {
      "text/plain": [
       "[(100, 0.1),\n",
       " (1000, 0.1),\n",
       " (100, 0.5),\n",
       " (1000, 0.5),\n",
       " (100, 1.0),\n",
       " (1000, 1.0),\n",
       " (100, 10),\n",
       " (1000, 10)]"
      ]
     },
     "metadata": {},
     "execution_count": 81
    }
   ],
   "source": [
    "param_combo = list(zip(*(grid_log_reg.cv_results_[\"param_max_iter\"].data,grid_log_reg.cv_results_[\"param_C\"].data)))\n",
    "param_combo"
   ]
  },
  {
   "cell_type": "code",
   "execution_count": 82,
   "metadata": {},
   "outputs": [
    {
     "output_type": "execute_result",
     "data": {
      "text/plain": [
       "[[0], [1], [2], [3], [4], [5], [6], [7]]"
      ]
     },
     "metadata": {},
     "execution_count": 82
    }
   ],
   "source": [
    "params_set = grid_log_reg.cv_results_[\"params\"]\n",
    "[[idx for idx in range(len(params_set)) if ((params_set[idx]['C'] == param_combo[i][1]) & (params_set[idx]['max_iter'] == param_combo[i][0]))] for i in range(len(param_combo))]"
   ]
  },
  {
   "cell_type": "code",
   "execution_count": 83,
   "metadata": {},
   "outputs": [
    {
     "output_type": "execute_result",
     "data": {
      "text/plain": [
       "[{'C': 0.1, 'max_iter': 100},\n",
       " {'C': 0.1, 'max_iter': 1000},\n",
       " {'C': 0.5, 'max_iter': 100},\n",
       " {'C': 0.5, 'max_iter': 1000},\n",
       " {'C': 1.0, 'max_iter': 100},\n",
       " {'C': 1.0, 'max_iter': 1000},\n",
       " {'C': 10, 'max_iter': 100},\n",
       " {'C': 10, 'max_iter': 1000}]"
      ]
     },
     "metadata": {},
     "execution_count": 83
    }
   ],
   "source": [
    "grid_log_reg.cv_results_[\"params\"]"
   ]
  },
  {
   "cell_type": "code",
   "execution_count": 84,
   "metadata": {},
   "outputs": [
    {
     "output_type": "execute_result",
     "data": {
      "text/plain": [
       "dict_keys(['mean_fit_time', 'std_fit_time', 'mean_score_time', 'std_score_time', 'param_C', 'param_max_iter', 'params', 'split0_test_Precision', 'split1_test_Precision', 'split2_test_Precision', 'split3_test_Precision', 'split4_test_Precision', 'mean_test_Precision', 'std_test_Precision', 'rank_test_Precision', 'split0_train_Precision', 'split1_train_Precision', 'split2_train_Precision', 'split3_train_Precision', 'split4_train_Precision', 'mean_train_Precision', 'std_train_Precision', 'split0_test_Recall', 'split1_test_Recall', 'split2_test_Recall', 'split3_test_Recall', 'split4_test_Recall', 'mean_test_Recall', 'std_test_Recall', 'rank_test_Recall', 'split0_train_Recall', 'split1_train_Recall', 'split2_train_Recall', 'split3_train_Recall', 'split4_train_Recall', 'mean_train_Recall', 'std_train_Recall', 'split0_test_F1Score', 'split1_test_F1Score', 'split2_test_F1Score', 'split3_test_F1Score', 'split4_test_F1Score', 'mean_test_F1Score', 'std_test_F1Score', 'rank_test_F1Score', 'split0_train_F1Score', 'split1_train_F1Score', 'split2_train_F1Score', 'split3_train_F1Score', 'split4_train_F1Score', 'mean_train_F1Score', 'std_train_F1Score'])"
      ]
     },
     "metadata": {},
     "execution_count": 84
    }
   ],
   "source": [
    "grid_log_reg.cv_results_.keys()"
   ]
  },
  {
   "cell_type": "code",
   "execution_count": 85,
   "metadata": {},
   "outputs": [
    {
     "output_type": "execute_result",
     "data": {
      "text/plain": [
       "[('Precision', 'b'), ('Recall', 'r'), ('F1Score', 'g')]"
      ]
     },
     "metadata": {},
     "execution_count": 85
    }
   ],
   "source": [
    "list(zip(*(scoring_log_reg, [\"b\",'r','g'])))"
   ]
  },
  {
   "cell_type": "code",
   "execution_count": 86,
   "metadata": {},
   "outputs": [
    {
     "output_type": "execute_result",
     "data": {
      "text/plain": [
       "['C : 0.1 max_iter:100',\n",
       " 'C : 0.1 max_iter:1000',\n",
       " 'C : 0.5 max_iter:100',\n",
       " 'C : 0.5 max_iter:1000',\n",
       " 'C : 1.0 max_iter:100',\n",
       " 'C : 1.0 max_iter:1000',\n",
       " 'C : 10 max_iter:100',\n",
       " 'C : 10 max_iter:1000']"
      ]
     },
     "metadata": {},
     "execution_count": 86
    }
   ],
   "source": [
    "x_label_list = ['C : ' + str(params_set[idx]['C']) + ' max_iter:' + str(params_set[idx]['max_iter']) for idx in range(len(params_set))]\n",
    "x_label_list"
   ]
  },
  {
   "cell_type": "code",
   "execution_count": 87,
   "metadata": {},
   "outputs": [
    {
     "output_type": "stream",
     "name": "stderr",
     "text": [
      "<ipython-input-87-f3dcfc9c4e89>:7: UserWarning: FixedFormatter should only be used together with FixedLocator\n  ax_log_reg_grid.set_xticklabels(x_label_list, rotation = 45)\n"
     ]
    },
    {
     "output_type": "execute_result",
     "data": {
      "text/plain": [
       "<matplotlib.legend.Legend at 0x1d7da297310>"
      ]
     },
     "metadata": {},
     "execution_count": 87
    },
    {
     "output_type": "display_data",
     "data": {
      "text/plain": "<Figure size 504x504 with 1 Axes>",
      "image/svg+xml": "<?xml version=\"1.0\" encoding=\"utf-8\" standalone=\"no\"?>\r\n<!DOCTYPE svg PUBLIC \"-//W3C//DTD SVG 1.1//EN\"\r\n  \"http://www.w3.org/Graphics/SVG/1.1/DTD/svg11.dtd\">\r\n<!-- Created with matplotlib (https://matplotlib.org/) -->\r\n<svg height=\"499.135057pt\" version=\"1.1\" viewBox=\"0 0 470.834034 499.135057\" width=\"470.834034pt\" xmlns=\"http://www.w3.org/2000/svg\" xmlns:xlink=\"http://www.w3.org/1999/xlink\">\r\n <metadata>\r\n  <rdf:RDF xmlns:cc=\"http://creativecommons.org/ns#\" xmlns:dc=\"http://purl.org/dc/elements/1.1/\" xmlns:rdf=\"http://www.w3.org/1999/02/22-rdf-syntax-ns#\">\r\n   <cc:Work>\r\n    <dc:type rdf:resource=\"http://purl.org/dc/dcmitype/StillImage\"/>\r\n    <dc:date>2021-06-13T21:54:51.992818</dc:date>\r\n    <dc:format>image/svg+xml</dc:format>\r\n    <dc:creator>\r\n     <cc:Agent>\r\n      <dc:title>Matplotlib v3.3.4, https://matplotlib.org/</dc:title>\r\n     </cc:Agent>\r\n    </dc:creator>\r\n   </cc:Work>\r\n  </rdf:RDF>\r\n </metadata>\r\n <defs>\r\n  <style type=\"text/css\">*{stroke-linecap:butt;stroke-linejoin:round;}</style>\r\n </defs>\r\n <g id=\"figure_1\">\r\n  <g id=\"patch_1\">\r\n   <path d=\"M 0 499.135057 \r\nL 470.834034 499.135057 \r\nL 470.834034 0 \r\nL 0 0 \r\nz\r\n\" style=\"fill:none;\"/>\r\n  </g>\r\n  <g id=\"axes_1\">\r\n   <g id=\"patch_2\">\r\n    <path d=\"M 50.14375 387.72 \r\nL 440.74375 387.72 \r\nL 440.74375 7.2 \r\nL 50.14375 7.2 \r\nz\r\n\" style=\"fill:#ffffff;\"/>\r\n   </g>\r\n   <g id=\"matplotlib.axis_1\">\r\n    <g id=\"xtick_1\">\r\n     <g id=\"line2d_1\">\r\n      <defs>\r\n       <path d=\"M 0 0 \r\nL 0 3.5 \r\n\" id=\"mfc15eeae47\" style=\"stroke:#000000;stroke-width:0.8;\"/>\r\n      </defs>\r\n      <g>\r\n       <use style=\"stroke:#000000;stroke-width:0.8;\" x=\"67.898295\" xlink:href=\"#mfc15eeae47\" y=\"387.72\"/>\r\n      </g>\r\n     </g>\r\n     <g id=\"text_1\">\r\n      <!-- C : 0.1 max_iter:100 -->\r\n      <g transform=\"translate(33.752219 472.09074)rotate(-45)scale(0.1 -0.1)\">\r\n       <defs>\r\n        <path d=\"M 64.40625 67.28125 \r\nL 64.40625 56.890625 \r\nQ 59.421875 61.53125 53.78125 63.8125 \r\nQ 48.140625 66.109375 41.796875 66.109375 \r\nQ 29.296875 66.109375 22.65625 58.46875 \r\nQ 16.015625 50.828125 16.015625 36.375 \r\nQ 16.015625 21.96875 22.65625 14.328125 \r\nQ 29.296875 6.6875 41.796875 6.6875 \r\nQ 48.140625 6.6875 53.78125 8.984375 \r\nQ 59.421875 11.28125 64.40625 15.921875 \r\nL 64.40625 5.609375 \r\nQ 59.234375 2.09375 53.4375 0.328125 \r\nQ 47.65625 -1.421875 41.21875 -1.421875 \r\nQ 24.65625 -1.421875 15.125 8.703125 \r\nQ 5.609375 18.84375 5.609375 36.375 \r\nQ 5.609375 53.953125 15.125 64.078125 \r\nQ 24.65625 74.21875 41.21875 74.21875 \r\nQ 47.75 74.21875 53.53125 72.484375 \r\nQ 59.328125 70.75 64.40625 67.28125 \r\nz\r\n\" id=\"DejaVuSans-67\"/>\r\n        <path id=\"DejaVuSans-32\"/>\r\n        <path d=\"M 11.71875 12.40625 \r\nL 22.015625 12.40625 \r\nL 22.015625 0 \r\nL 11.71875 0 \r\nz\r\nM 11.71875 51.703125 \r\nL 22.015625 51.703125 \r\nL 22.015625 39.3125 \r\nL 11.71875 39.3125 \r\nz\r\n\" id=\"DejaVuSans-58\"/>\r\n        <path d=\"M 31.78125 66.40625 \r\nQ 24.171875 66.40625 20.328125 58.90625 \r\nQ 16.5 51.421875 16.5 36.375 \r\nQ 16.5 21.390625 20.328125 13.890625 \r\nQ 24.171875 6.390625 31.78125 6.390625 \r\nQ 39.453125 6.390625 43.28125 13.890625 \r\nQ 47.125 21.390625 47.125 36.375 \r\nQ 47.125 51.421875 43.28125 58.90625 \r\nQ 39.453125 66.40625 31.78125 66.40625 \r\nz\r\nM 31.78125 74.21875 \r\nQ 44.046875 74.21875 50.515625 64.515625 \r\nQ 56.984375 54.828125 56.984375 36.375 \r\nQ 56.984375 17.96875 50.515625 8.265625 \r\nQ 44.046875 -1.421875 31.78125 -1.421875 \r\nQ 19.53125 -1.421875 13.0625 8.265625 \r\nQ 6.59375 17.96875 6.59375 36.375 \r\nQ 6.59375 54.828125 13.0625 64.515625 \r\nQ 19.53125 74.21875 31.78125 74.21875 \r\nz\r\n\" id=\"DejaVuSans-48\"/>\r\n        <path d=\"M 10.6875 12.40625 \r\nL 21 12.40625 \r\nL 21 0 \r\nL 10.6875 0 \r\nz\r\n\" id=\"DejaVuSans-46\"/>\r\n        <path d=\"M 12.40625 8.296875 \r\nL 28.515625 8.296875 \r\nL 28.515625 63.921875 \r\nL 10.984375 60.40625 \r\nL 10.984375 69.390625 \r\nL 28.421875 72.90625 \r\nL 38.28125 72.90625 \r\nL 38.28125 8.296875 \r\nL 54.390625 8.296875 \r\nL 54.390625 0 \r\nL 12.40625 0 \r\nz\r\n\" id=\"DejaVuSans-49\"/>\r\n        <path d=\"M 52 44.1875 \r\nQ 55.375 50.25 60.0625 53.125 \r\nQ 64.75 56 71.09375 56 \r\nQ 79.640625 56 84.28125 50.015625 \r\nQ 88.921875 44.046875 88.921875 33.015625 \r\nL 88.921875 0 \r\nL 79.890625 0 \r\nL 79.890625 32.71875 \r\nQ 79.890625 40.578125 77.09375 44.375 \r\nQ 74.3125 48.1875 68.609375 48.1875 \r\nQ 61.625 48.1875 57.5625 43.546875 \r\nQ 53.515625 38.921875 53.515625 30.90625 \r\nL 53.515625 0 \r\nL 44.484375 0 \r\nL 44.484375 32.71875 \r\nQ 44.484375 40.625 41.703125 44.40625 \r\nQ 38.921875 48.1875 33.109375 48.1875 \r\nQ 26.21875 48.1875 22.15625 43.53125 \r\nQ 18.109375 38.875 18.109375 30.90625 \r\nL 18.109375 0 \r\nL 9.078125 0 \r\nL 9.078125 54.6875 \r\nL 18.109375 54.6875 \r\nL 18.109375 46.1875 \r\nQ 21.1875 51.21875 25.484375 53.609375 \r\nQ 29.78125 56 35.6875 56 \r\nQ 41.65625 56 45.828125 52.96875 \r\nQ 50 49.953125 52 44.1875 \r\nz\r\n\" id=\"DejaVuSans-109\"/>\r\n        <path d=\"M 34.28125 27.484375 \r\nQ 23.390625 27.484375 19.1875 25 \r\nQ 14.984375 22.515625 14.984375 16.5 \r\nQ 14.984375 11.71875 18.140625 8.90625 \r\nQ 21.296875 6.109375 26.703125 6.109375 \r\nQ 34.1875 6.109375 38.703125 11.40625 \r\nQ 43.21875 16.703125 43.21875 25.484375 \r\nL 43.21875 27.484375 \r\nz\r\nM 52.203125 31.203125 \r\nL 52.203125 0 \r\nL 43.21875 0 \r\nL 43.21875 8.296875 \r\nQ 40.140625 3.328125 35.546875 0.953125 \r\nQ 30.953125 -1.421875 24.3125 -1.421875 \r\nQ 15.921875 -1.421875 10.953125 3.296875 \r\nQ 6 8.015625 6 15.921875 \r\nQ 6 25.140625 12.171875 29.828125 \r\nQ 18.359375 34.515625 30.609375 34.515625 \r\nL 43.21875 34.515625 \r\nL 43.21875 35.40625 \r\nQ 43.21875 41.609375 39.140625 45 \r\nQ 35.0625 48.390625 27.6875 48.390625 \r\nQ 23 48.390625 18.546875 47.265625 \r\nQ 14.109375 46.140625 10.015625 43.890625 \r\nL 10.015625 52.203125 \r\nQ 14.9375 54.109375 19.578125 55.046875 \r\nQ 24.21875 56 28.609375 56 \r\nQ 40.484375 56 46.34375 49.84375 \r\nQ 52.203125 43.703125 52.203125 31.203125 \r\nz\r\n\" id=\"DejaVuSans-97\"/>\r\n        <path d=\"M 54.890625 54.6875 \r\nL 35.109375 28.078125 \r\nL 55.90625 0 \r\nL 45.3125 0 \r\nL 29.390625 21.484375 \r\nL 13.484375 0 \r\nL 2.875 0 \r\nL 24.125 28.609375 \r\nL 4.6875 54.6875 \r\nL 15.28125 54.6875 \r\nL 29.78125 35.203125 \r\nL 44.28125 54.6875 \r\nz\r\n\" id=\"DejaVuSans-120\"/>\r\n        <path d=\"M 50.984375 -16.609375 \r\nL 50.984375 -23.578125 \r\nL -0.984375 -23.578125 \r\nL -0.984375 -16.609375 \r\nz\r\n\" id=\"DejaVuSans-95\"/>\r\n        <path d=\"M 9.421875 54.6875 \r\nL 18.40625 54.6875 \r\nL 18.40625 0 \r\nL 9.421875 0 \r\nz\r\nM 9.421875 75.984375 \r\nL 18.40625 75.984375 \r\nL 18.40625 64.59375 \r\nL 9.421875 64.59375 \r\nz\r\n\" id=\"DejaVuSans-105\"/>\r\n        <path d=\"M 18.3125 70.21875 \r\nL 18.3125 54.6875 \r\nL 36.8125 54.6875 \r\nL 36.8125 47.703125 \r\nL 18.3125 47.703125 \r\nL 18.3125 18.015625 \r\nQ 18.3125 11.328125 20.140625 9.421875 \r\nQ 21.96875 7.515625 27.59375 7.515625 \r\nL 36.8125 7.515625 \r\nL 36.8125 0 \r\nL 27.59375 0 \r\nQ 17.1875 0 13.234375 3.875 \r\nQ 9.28125 7.765625 9.28125 18.015625 \r\nL 9.28125 47.703125 \r\nL 2.6875 47.703125 \r\nL 2.6875 54.6875 \r\nL 9.28125 54.6875 \r\nL 9.28125 70.21875 \r\nz\r\n\" id=\"DejaVuSans-116\"/>\r\n        <path d=\"M 56.203125 29.59375 \r\nL 56.203125 25.203125 \r\nL 14.890625 25.203125 \r\nQ 15.484375 15.921875 20.484375 11.0625 \r\nQ 25.484375 6.203125 34.421875 6.203125 \r\nQ 39.59375 6.203125 44.453125 7.46875 \r\nQ 49.3125 8.734375 54.109375 11.28125 \r\nL 54.109375 2.78125 \r\nQ 49.265625 0.734375 44.1875 -0.34375 \r\nQ 39.109375 -1.421875 33.890625 -1.421875 \r\nQ 20.796875 -1.421875 13.15625 6.1875 \r\nQ 5.515625 13.8125 5.515625 26.8125 \r\nQ 5.515625 40.234375 12.765625 48.109375 \r\nQ 20.015625 56 32.328125 56 \r\nQ 43.359375 56 49.78125 48.890625 \r\nQ 56.203125 41.796875 56.203125 29.59375 \r\nz\r\nM 47.21875 32.234375 \r\nQ 47.125 39.59375 43.09375 43.984375 \r\nQ 39.0625 48.390625 32.421875 48.390625 \r\nQ 24.90625 48.390625 20.390625 44.140625 \r\nQ 15.875 39.890625 15.1875 32.171875 \r\nz\r\n\" id=\"DejaVuSans-101\"/>\r\n        <path d=\"M 41.109375 46.296875 \r\nQ 39.59375 47.171875 37.8125 47.578125 \r\nQ 36.03125 48 33.890625 48 \r\nQ 26.265625 48 22.1875 43.046875 \r\nQ 18.109375 38.09375 18.109375 28.8125 \r\nL 18.109375 0 \r\nL 9.078125 0 \r\nL 9.078125 54.6875 \r\nL 18.109375 54.6875 \r\nL 18.109375 46.1875 \r\nQ 20.953125 51.171875 25.484375 53.578125 \r\nQ 30.03125 56 36.53125 56 \r\nQ 37.453125 56 38.578125 55.875 \r\nQ 39.703125 55.765625 41.0625 55.515625 \r\nz\r\n\" id=\"DejaVuSans-114\"/>\r\n       </defs>\r\n       <use xlink:href=\"#DejaVuSans-67\"/>\r\n       <use x=\"69.824219\" xlink:href=\"#DejaVuSans-32\"/>\r\n       <use x=\"101.611328\" xlink:href=\"#DejaVuSans-58\"/>\r\n       <use x=\"135.302734\" xlink:href=\"#DejaVuSans-32\"/>\r\n       <use x=\"167.089844\" xlink:href=\"#DejaVuSans-48\"/>\r\n       <use x=\"230.712891\" xlink:href=\"#DejaVuSans-46\"/>\r\n       <use x=\"262.5\" xlink:href=\"#DejaVuSans-49\"/>\r\n       <use x=\"326.123047\" xlink:href=\"#DejaVuSans-32\"/>\r\n       <use x=\"357.910156\" xlink:href=\"#DejaVuSans-109\"/>\r\n       <use x=\"455.322266\" xlink:href=\"#DejaVuSans-97\"/>\r\n       <use x=\"516.601562\" xlink:href=\"#DejaVuSans-120\"/>\r\n       <use x=\"575.78125\" xlink:href=\"#DejaVuSans-95\"/>\r\n       <use x=\"625.78125\" xlink:href=\"#DejaVuSans-105\"/>\r\n       <use x=\"653.564453\" xlink:href=\"#DejaVuSans-116\"/>\r\n       <use x=\"692.773438\" xlink:href=\"#DejaVuSans-101\"/>\r\n       <use x=\"754.296875\" xlink:href=\"#DejaVuSans-114\"/>\r\n       <use x=\"793.660156\" xlink:href=\"#DejaVuSans-58\"/>\r\n       <use x=\"827.351562\" xlink:href=\"#DejaVuSans-49\"/>\r\n       <use x=\"890.974609\" xlink:href=\"#DejaVuSans-48\"/>\r\n       <use x=\"954.597656\" xlink:href=\"#DejaVuSans-48\"/>\r\n      </g>\r\n     </g>\r\n    </g>\r\n    <g id=\"xtick_2\">\r\n     <g id=\"line2d_2\">\r\n      <g>\r\n       <use style=\"stroke:#000000;stroke-width:0.8;\" x=\"118.625568\" xlink:href=\"#mfc15eeae47\" y=\"387.72\"/>\r\n      </g>\r\n     </g>\r\n     <g id=\"text_2\">\r\n      <!-- C : 0.1 max_iter:1000 -->\r\n      <g transform=\"translate(82.230009 476.589707)rotate(-45)scale(0.1 -0.1)\">\r\n       <use xlink:href=\"#DejaVuSans-67\"/>\r\n       <use x=\"69.824219\" xlink:href=\"#DejaVuSans-32\"/>\r\n       <use x=\"101.611328\" xlink:href=\"#DejaVuSans-58\"/>\r\n       <use x=\"135.302734\" xlink:href=\"#DejaVuSans-32\"/>\r\n       <use x=\"167.089844\" xlink:href=\"#DejaVuSans-48\"/>\r\n       <use x=\"230.712891\" xlink:href=\"#DejaVuSans-46\"/>\r\n       <use x=\"262.5\" xlink:href=\"#DejaVuSans-49\"/>\r\n       <use x=\"326.123047\" xlink:href=\"#DejaVuSans-32\"/>\r\n       <use x=\"357.910156\" xlink:href=\"#DejaVuSans-109\"/>\r\n       <use x=\"455.322266\" xlink:href=\"#DejaVuSans-97\"/>\r\n       <use x=\"516.601562\" xlink:href=\"#DejaVuSans-120\"/>\r\n       <use x=\"575.78125\" xlink:href=\"#DejaVuSans-95\"/>\r\n       <use x=\"625.78125\" xlink:href=\"#DejaVuSans-105\"/>\r\n       <use x=\"653.564453\" xlink:href=\"#DejaVuSans-116\"/>\r\n       <use x=\"692.773438\" xlink:href=\"#DejaVuSans-101\"/>\r\n       <use x=\"754.296875\" xlink:href=\"#DejaVuSans-114\"/>\r\n       <use x=\"793.660156\" xlink:href=\"#DejaVuSans-58\"/>\r\n       <use x=\"827.351562\" xlink:href=\"#DejaVuSans-49\"/>\r\n       <use x=\"890.974609\" xlink:href=\"#DejaVuSans-48\"/>\r\n       <use x=\"954.597656\" xlink:href=\"#DejaVuSans-48\"/>\r\n       <use x=\"1018.220703\" xlink:href=\"#DejaVuSans-48\"/>\r\n      </g>\r\n     </g>\r\n    </g>\r\n    <g id=\"xtick_3\">\r\n     <g id=\"line2d_3\">\r\n      <g>\r\n       <use style=\"stroke:#000000;stroke-width:0.8;\" x=\"169.352841\" xlink:href=\"#mfc15eeae47\" y=\"387.72\"/>\r\n      </g>\r\n     </g>\r\n     <g id=\"text_3\">\r\n      <!-- C : 0.5 max_iter:100 -->\r\n      <g transform=\"translate(135.206765 472.09074)rotate(-45)scale(0.1 -0.1)\">\r\n       <defs>\r\n        <path d=\"M 10.796875 72.90625 \r\nL 49.515625 72.90625 \r\nL 49.515625 64.59375 \r\nL 19.828125 64.59375 \r\nL 19.828125 46.734375 \r\nQ 21.96875 47.46875 24.109375 47.828125 \r\nQ 26.265625 48.1875 28.421875 48.1875 \r\nQ 40.625 48.1875 47.75 41.5 \r\nQ 54.890625 34.8125 54.890625 23.390625 \r\nQ 54.890625 11.625 47.5625 5.09375 \r\nQ 40.234375 -1.421875 26.90625 -1.421875 \r\nQ 22.3125 -1.421875 17.546875 -0.640625 \r\nQ 12.796875 0.140625 7.71875 1.703125 \r\nL 7.71875 11.625 \r\nQ 12.109375 9.234375 16.796875 8.0625 \r\nQ 21.484375 6.890625 26.703125 6.890625 \r\nQ 35.15625 6.890625 40.078125 11.328125 \r\nQ 45.015625 15.765625 45.015625 23.390625 \r\nQ 45.015625 31 40.078125 35.4375 \r\nQ 35.15625 39.890625 26.703125 39.890625 \r\nQ 22.75 39.890625 18.8125 39.015625 \r\nQ 14.890625 38.140625 10.796875 36.28125 \r\nz\r\n\" id=\"DejaVuSans-53\"/>\r\n       </defs>\r\n       <use xlink:href=\"#DejaVuSans-67\"/>\r\n       <use x=\"69.824219\" xlink:href=\"#DejaVuSans-32\"/>\r\n       <use x=\"101.611328\" xlink:href=\"#DejaVuSans-58\"/>\r\n       <use x=\"135.302734\" xlink:href=\"#DejaVuSans-32\"/>\r\n       <use x=\"167.089844\" xlink:href=\"#DejaVuSans-48\"/>\r\n       <use x=\"230.712891\" xlink:href=\"#DejaVuSans-46\"/>\r\n       <use x=\"262.5\" xlink:href=\"#DejaVuSans-53\"/>\r\n       <use x=\"326.123047\" xlink:href=\"#DejaVuSans-32\"/>\r\n       <use x=\"357.910156\" xlink:href=\"#DejaVuSans-109\"/>\r\n       <use x=\"455.322266\" xlink:href=\"#DejaVuSans-97\"/>\r\n       <use x=\"516.601562\" xlink:href=\"#DejaVuSans-120\"/>\r\n       <use x=\"575.78125\" xlink:href=\"#DejaVuSans-95\"/>\r\n       <use x=\"625.78125\" xlink:href=\"#DejaVuSans-105\"/>\r\n       <use x=\"653.564453\" xlink:href=\"#DejaVuSans-116\"/>\r\n       <use x=\"692.773438\" xlink:href=\"#DejaVuSans-101\"/>\r\n       <use x=\"754.296875\" xlink:href=\"#DejaVuSans-114\"/>\r\n       <use x=\"793.660156\" xlink:href=\"#DejaVuSans-58\"/>\r\n       <use x=\"827.351562\" xlink:href=\"#DejaVuSans-49\"/>\r\n       <use x=\"890.974609\" xlink:href=\"#DejaVuSans-48\"/>\r\n       <use x=\"954.597656\" xlink:href=\"#DejaVuSans-48\"/>\r\n      </g>\r\n     </g>\r\n    </g>\r\n    <g id=\"xtick_4\">\r\n     <g id=\"line2d_4\">\r\n      <g>\r\n       <use style=\"stroke:#000000;stroke-width:0.8;\" x=\"220.080114\" xlink:href=\"#mfc15eeae47\" y=\"387.72\"/>\r\n      </g>\r\n     </g>\r\n     <g id=\"text_4\">\r\n      <!-- C : 0.5 max_iter:1000 -->\r\n      <g transform=\"translate(183.684554 476.589707)rotate(-45)scale(0.1 -0.1)\">\r\n       <use xlink:href=\"#DejaVuSans-67\"/>\r\n       <use x=\"69.824219\" xlink:href=\"#DejaVuSans-32\"/>\r\n       <use x=\"101.611328\" xlink:href=\"#DejaVuSans-58\"/>\r\n       <use x=\"135.302734\" xlink:href=\"#DejaVuSans-32\"/>\r\n       <use x=\"167.089844\" xlink:href=\"#DejaVuSans-48\"/>\r\n       <use x=\"230.712891\" xlink:href=\"#DejaVuSans-46\"/>\r\n       <use x=\"262.5\" xlink:href=\"#DejaVuSans-53\"/>\r\n       <use x=\"326.123047\" xlink:href=\"#DejaVuSans-32\"/>\r\n       <use x=\"357.910156\" xlink:href=\"#DejaVuSans-109\"/>\r\n       <use x=\"455.322266\" xlink:href=\"#DejaVuSans-97\"/>\r\n       <use x=\"516.601562\" xlink:href=\"#DejaVuSans-120\"/>\r\n       <use x=\"575.78125\" xlink:href=\"#DejaVuSans-95\"/>\r\n       <use x=\"625.78125\" xlink:href=\"#DejaVuSans-105\"/>\r\n       <use x=\"653.564453\" xlink:href=\"#DejaVuSans-116\"/>\r\n       <use x=\"692.773438\" xlink:href=\"#DejaVuSans-101\"/>\r\n       <use x=\"754.296875\" xlink:href=\"#DejaVuSans-114\"/>\r\n       <use x=\"793.660156\" xlink:href=\"#DejaVuSans-58\"/>\r\n       <use x=\"827.351562\" xlink:href=\"#DejaVuSans-49\"/>\r\n       <use x=\"890.974609\" xlink:href=\"#DejaVuSans-48\"/>\r\n       <use x=\"954.597656\" xlink:href=\"#DejaVuSans-48\"/>\r\n       <use x=\"1018.220703\" xlink:href=\"#DejaVuSans-48\"/>\r\n      </g>\r\n     </g>\r\n    </g>\r\n    <g id=\"xtick_5\">\r\n     <g id=\"line2d_5\">\r\n      <g>\r\n       <use style=\"stroke:#000000;stroke-width:0.8;\" x=\"270.807386\" xlink:href=\"#mfc15eeae47\" y=\"387.72\"/>\r\n      </g>\r\n     </g>\r\n     <g id=\"text_5\">\r\n      <!-- C : 1.0 max_iter:100 -->\r\n      <g transform=\"translate(236.66131 472.09074)rotate(-45)scale(0.1 -0.1)\">\r\n       <use xlink:href=\"#DejaVuSans-67\"/>\r\n       <use x=\"69.824219\" xlink:href=\"#DejaVuSans-32\"/>\r\n       <use x=\"101.611328\" xlink:href=\"#DejaVuSans-58\"/>\r\n       <use x=\"135.302734\" xlink:href=\"#DejaVuSans-32\"/>\r\n       <use x=\"167.089844\" xlink:href=\"#DejaVuSans-49\"/>\r\n       <use x=\"230.712891\" xlink:href=\"#DejaVuSans-46\"/>\r\n       <use x=\"262.5\" xlink:href=\"#DejaVuSans-48\"/>\r\n       <use x=\"326.123047\" xlink:href=\"#DejaVuSans-32\"/>\r\n       <use x=\"357.910156\" xlink:href=\"#DejaVuSans-109\"/>\r\n       <use x=\"455.322266\" xlink:href=\"#DejaVuSans-97\"/>\r\n       <use x=\"516.601562\" xlink:href=\"#DejaVuSans-120\"/>\r\n       <use x=\"575.78125\" xlink:href=\"#DejaVuSans-95\"/>\r\n       <use x=\"625.78125\" xlink:href=\"#DejaVuSans-105\"/>\r\n       <use x=\"653.564453\" xlink:href=\"#DejaVuSans-116\"/>\r\n       <use x=\"692.773438\" xlink:href=\"#DejaVuSans-101\"/>\r\n       <use x=\"754.296875\" xlink:href=\"#DejaVuSans-114\"/>\r\n       <use x=\"793.660156\" xlink:href=\"#DejaVuSans-58\"/>\r\n       <use x=\"827.351562\" xlink:href=\"#DejaVuSans-49\"/>\r\n       <use x=\"890.974609\" xlink:href=\"#DejaVuSans-48\"/>\r\n       <use x=\"954.597656\" xlink:href=\"#DejaVuSans-48\"/>\r\n      </g>\r\n     </g>\r\n    </g>\r\n    <g id=\"xtick_6\">\r\n     <g id=\"line2d_6\">\r\n      <g>\r\n       <use style=\"stroke:#000000;stroke-width:0.8;\" x=\"321.534659\" xlink:href=\"#mfc15eeae47\" y=\"387.72\"/>\r\n      </g>\r\n     </g>\r\n     <g id=\"text_6\">\r\n      <!-- C : 1.0 max_iter:1000 -->\r\n      <g transform=\"translate(285.1391 476.589707)rotate(-45)scale(0.1 -0.1)\">\r\n       <use xlink:href=\"#DejaVuSans-67\"/>\r\n       <use x=\"69.824219\" xlink:href=\"#DejaVuSans-32\"/>\r\n       <use x=\"101.611328\" xlink:href=\"#DejaVuSans-58\"/>\r\n       <use x=\"135.302734\" xlink:href=\"#DejaVuSans-32\"/>\r\n       <use x=\"167.089844\" xlink:href=\"#DejaVuSans-49\"/>\r\n       <use x=\"230.712891\" xlink:href=\"#DejaVuSans-46\"/>\r\n       <use x=\"262.5\" xlink:href=\"#DejaVuSans-48\"/>\r\n       <use x=\"326.123047\" xlink:href=\"#DejaVuSans-32\"/>\r\n       <use x=\"357.910156\" xlink:href=\"#DejaVuSans-109\"/>\r\n       <use x=\"455.322266\" xlink:href=\"#DejaVuSans-97\"/>\r\n       <use x=\"516.601562\" xlink:href=\"#DejaVuSans-120\"/>\r\n       <use x=\"575.78125\" xlink:href=\"#DejaVuSans-95\"/>\r\n       <use x=\"625.78125\" xlink:href=\"#DejaVuSans-105\"/>\r\n       <use x=\"653.564453\" xlink:href=\"#DejaVuSans-116\"/>\r\n       <use x=\"692.773438\" xlink:href=\"#DejaVuSans-101\"/>\r\n       <use x=\"754.296875\" xlink:href=\"#DejaVuSans-114\"/>\r\n       <use x=\"793.660156\" xlink:href=\"#DejaVuSans-58\"/>\r\n       <use x=\"827.351562\" xlink:href=\"#DejaVuSans-49\"/>\r\n       <use x=\"890.974609\" xlink:href=\"#DejaVuSans-48\"/>\r\n       <use x=\"954.597656\" xlink:href=\"#DejaVuSans-48\"/>\r\n       <use x=\"1018.220703\" xlink:href=\"#DejaVuSans-48\"/>\r\n      </g>\r\n     </g>\r\n    </g>\r\n    <g id=\"xtick_7\">\r\n     <g id=\"line2d_7\">\r\n      <g>\r\n       <use style=\"stroke:#000000;stroke-width:0.8;\" x=\"372.261932\" xlink:href=\"#mfc15eeae47\" y=\"387.72\"/>\r\n      </g>\r\n     </g>\r\n     <g id=\"text_7\">\r\n      <!-- C : 10 max_iter:100 -->\r\n      <g transform=\"translate(339.239493 469.843466)rotate(-45)scale(0.1 -0.1)\">\r\n       <use xlink:href=\"#DejaVuSans-67\"/>\r\n       <use x=\"69.824219\" xlink:href=\"#DejaVuSans-32\"/>\r\n       <use x=\"101.611328\" xlink:href=\"#DejaVuSans-58\"/>\r\n       <use x=\"135.302734\" xlink:href=\"#DejaVuSans-32\"/>\r\n       <use x=\"167.089844\" xlink:href=\"#DejaVuSans-49\"/>\r\n       <use x=\"230.712891\" xlink:href=\"#DejaVuSans-48\"/>\r\n       <use x=\"294.335938\" xlink:href=\"#DejaVuSans-32\"/>\r\n       <use x=\"326.123047\" xlink:href=\"#DejaVuSans-109\"/>\r\n       <use x=\"423.535156\" xlink:href=\"#DejaVuSans-97\"/>\r\n       <use x=\"484.814453\" xlink:href=\"#DejaVuSans-120\"/>\r\n       <use x=\"543.994141\" xlink:href=\"#DejaVuSans-95\"/>\r\n       <use x=\"593.994141\" xlink:href=\"#DejaVuSans-105\"/>\r\n       <use x=\"621.777344\" xlink:href=\"#DejaVuSans-116\"/>\r\n       <use x=\"660.986328\" xlink:href=\"#DejaVuSans-101\"/>\r\n       <use x=\"722.509766\" xlink:href=\"#DejaVuSans-114\"/>\r\n       <use x=\"761.873047\" xlink:href=\"#DejaVuSans-58\"/>\r\n       <use x=\"795.564453\" xlink:href=\"#DejaVuSans-49\"/>\r\n       <use x=\"859.1875\" xlink:href=\"#DejaVuSans-48\"/>\r\n       <use x=\"922.810547\" xlink:href=\"#DejaVuSans-48\"/>\r\n      </g>\r\n     </g>\r\n    </g>\r\n    <g id=\"xtick_8\">\r\n     <g id=\"line2d_8\">\r\n      <g>\r\n       <use style=\"stroke:#000000;stroke-width:0.8;\" x=\"422.989205\" xlink:href=\"#mfc15eeae47\" y=\"387.72\"/>\r\n      </g>\r\n     </g>\r\n     <g id=\"text_8\">\r\n      <!-- C : 10 max_iter:1000 -->\r\n      <g transform=\"translate(387.717282 474.342433)rotate(-45)scale(0.1 -0.1)\">\r\n       <use xlink:href=\"#DejaVuSans-67\"/>\r\n       <use x=\"69.824219\" xlink:href=\"#DejaVuSans-32\"/>\r\n       <use x=\"101.611328\" xlink:href=\"#DejaVuSans-58\"/>\r\n       <use x=\"135.302734\" xlink:href=\"#DejaVuSans-32\"/>\r\n       <use x=\"167.089844\" xlink:href=\"#DejaVuSans-49\"/>\r\n       <use x=\"230.712891\" xlink:href=\"#DejaVuSans-48\"/>\r\n       <use x=\"294.335938\" xlink:href=\"#DejaVuSans-32\"/>\r\n       <use x=\"326.123047\" xlink:href=\"#DejaVuSans-109\"/>\r\n       <use x=\"423.535156\" xlink:href=\"#DejaVuSans-97\"/>\r\n       <use x=\"484.814453\" xlink:href=\"#DejaVuSans-120\"/>\r\n       <use x=\"543.994141\" xlink:href=\"#DejaVuSans-95\"/>\r\n       <use x=\"593.994141\" xlink:href=\"#DejaVuSans-105\"/>\r\n       <use x=\"621.777344\" xlink:href=\"#DejaVuSans-116\"/>\r\n       <use x=\"660.986328\" xlink:href=\"#DejaVuSans-101\"/>\r\n       <use x=\"722.509766\" xlink:href=\"#DejaVuSans-114\"/>\r\n       <use x=\"761.873047\" xlink:href=\"#DejaVuSans-58\"/>\r\n       <use x=\"795.564453\" xlink:href=\"#DejaVuSans-49\"/>\r\n       <use x=\"859.1875\" xlink:href=\"#DejaVuSans-48\"/>\r\n       <use x=\"922.810547\" xlink:href=\"#DejaVuSans-48\"/>\r\n       <use x=\"986.433594\" xlink:href=\"#DejaVuSans-48\"/>\r\n      </g>\r\n     </g>\r\n    </g>\r\n    <g id=\"text_9\">\r\n     <!-- Parameters -->\r\n     <g transform=\"translate(216.826563 489.85537)scale(0.1 -0.1)\">\r\n      <defs>\r\n       <path d=\"M 19.671875 64.796875 \r\nL 19.671875 37.40625 \r\nL 32.078125 37.40625 \r\nQ 38.96875 37.40625 42.71875 40.96875 \r\nQ 46.484375 44.53125 46.484375 51.125 \r\nQ 46.484375 57.671875 42.71875 61.234375 \r\nQ 38.96875 64.796875 32.078125 64.796875 \r\nz\r\nM 9.8125 72.90625 \r\nL 32.078125 72.90625 \r\nQ 44.34375 72.90625 50.609375 67.359375 \r\nQ 56.890625 61.8125 56.890625 51.125 \r\nQ 56.890625 40.328125 50.609375 34.8125 \r\nQ 44.34375 29.296875 32.078125 29.296875 \r\nL 19.671875 29.296875 \r\nL 19.671875 0 \r\nL 9.8125 0 \r\nz\r\n\" id=\"DejaVuSans-80\"/>\r\n       <path d=\"M 44.28125 53.078125 \r\nL 44.28125 44.578125 \r\nQ 40.484375 46.53125 36.375 47.5 \r\nQ 32.28125 48.484375 27.875 48.484375 \r\nQ 21.1875 48.484375 17.84375 46.4375 \r\nQ 14.5 44.390625 14.5 40.28125 \r\nQ 14.5 37.15625 16.890625 35.375 \r\nQ 19.28125 33.59375 26.515625 31.984375 \r\nL 29.59375 31.296875 \r\nQ 39.15625 29.25 43.1875 25.515625 \r\nQ 47.21875 21.78125 47.21875 15.09375 \r\nQ 47.21875 7.46875 41.1875 3.015625 \r\nQ 35.15625 -1.421875 24.609375 -1.421875 \r\nQ 20.21875 -1.421875 15.453125 -0.5625 \r\nQ 10.6875 0.296875 5.421875 2 \r\nL 5.421875 11.28125 \r\nQ 10.40625 8.6875 15.234375 7.390625 \r\nQ 20.0625 6.109375 24.8125 6.109375 \r\nQ 31.15625 6.109375 34.5625 8.28125 \r\nQ 37.984375 10.453125 37.984375 14.40625 \r\nQ 37.984375 18.0625 35.515625 20.015625 \r\nQ 33.0625 21.96875 24.703125 23.78125 \r\nL 21.578125 24.515625 \r\nQ 13.234375 26.265625 9.515625 29.90625 \r\nQ 5.8125 33.546875 5.8125 39.890625 \r\nQ 5.8125 47.609375 11.28125 51.796875 \r\nQ 16.75 56 26.8125 56 \r\nQ 31.78125 56 36.171875 55.265625 \r\nQ 40.578125 54.546875 44.28125 53.078125 \r\nz\r\n\" id=\"DejaVuSans-115\"/>\r\n      </defs>\r\n      <use xlink:href=\"#DejaVuSans-80\"/>\r\n      <use x=\"55.802734\" xlink:href=\"#DejaVuSans-97\"/>\r\n      <use x=\"117.082031\" xlink:href=\"#DejaVuSans-114\"/>\r\n      <use x=\"158.195312\" xlink:href=\"#DejaVuSans-97\"/>\r\n      <use x=\"219.474609\" xlink:href=\"#DejaVuSans-109\"/>\r\n      <use x=\"316.886719\" xlink:href=\"#DejaVuSans-101\"/>\r\n      <use x=\"378.410156\" xlink:href=\"#DejaVuSans-116\"/>\r\n      <use x=\"417.619141\" xlink:href=\"#DejaVuSans-101\"/>\r\n      <use x=\"479.142578\" xlink:href=\"#DejaVuSans-114\"/>\r\n      <use x=\"520.255859\" xlink:href=\"#DejaVuSans-115\"/>\r\n     </g>\r\n    </g>\r\n   </g>\r\n   <g id=\"matplotlib.axis_2\">\r\n    <g id=\"ytick_1\">\r\n     <g id=\"line2d_9\">\r\n      <defs>\r\n       <path d=\"M 0 0 \r\nL -3.5 0 \r\n\" id=\"m0a1bb9d4ad\" style=\"stroke:#000000;stroke-width:0.8;\"/>\r\n      </defs>\r\n      <g>\r\n       <use style=\"stroke:#000000;stroke-width:0.8;\" x=\"50.14375\" xlink:href=\"#m0a1bb9d4ad\" y=\"335.830909\"/>\r\n      </g>\r\n     </g>\r\n     <g id=\"text_10\">\r\n      <!-- 0.90 -->\r\n      <g transform=\"translate(20.878125 339.630128)scale(0.1 -0.1)\">\r\n       <defs>\r\n        <path d=\"M 10.984375 1.515625 \r\nL 10.984375 10.5 \r\nQ 14.703125 8.734375 18.5 7.8125 \r\nQ 22.3125 6.890625 25.984375 6.890625 \r\nQ 35.75 6.890625 40.890625 13.453125 \r\nQ 46.046875 20.015625 46.78125 33.40625 \r\nQ 43.953125 29.203125 39.59375 26.953125 \r\nQ 35.25 24.703125 29.984375 24.703125 \r\nQ 19.046875 24.703125 12.671875 31.3125 \r\nQ 6.296875 37.9375 6.296875 49.421875 \r\nQ 6.296875 60.640625 12.9375 67.421875 \r\nQ 19.578125 74.21875 30.609375 74.21875 \r\nQ 43.265625 74.21875 49.921875 64.515625 \r\nQ 56.59375 54.828125 56.59375 36.375 \r\nQ 56.59375 19.140625 48.40625 8.859375 \r\nQ 40.234375 -1.421875 26.421875 -1.421875 \r\nQ 22.703125 -1.421875 18.890625 -0.6875 \r\nQ 15.09375 0.046875 10.984375 1.515625 \r\nz\r\nM 30.609375 32.421875 \r\nQ 37.25 32.421875 41.125 36.953125 \r\nQ 45.015625 41.5 45.015625 49.421875 \r\nQ 45.015625 57.28125 41.125 61.84375 \r\nQ 37.25 66.40625 30.609375 66.40625 \r\nQ 23.96875 66.40625 20.09375 61.84375 \r\nQ 16.21875 57.28125 16.21875 49.421875 \r\nQ 16.21875 41.5 20.09375 36.953125 \r\nQ 23.96875 32.421875 30.609375 32.421875 \r\nz\r\n\" id=\"DejaVuSans-57\"/>\r\n       </defs>\r\n       <use xlink:href=\"#DejaVuSans-48\"/>\r\n       <use x=\"63.623047\" xlink:href=\"#DejaVuSans-46\"/>\r\n       <use x=\"95.410156\" xlink:href=\"#DejaVuSans-57\"/>\r\n       <use x=\"159.033203\" xlink:href=\"#DejaVuSans-48\"/>\r\n      </g>\r\n     </g>\r\n    </g>\r\n    <g id=\"ytick_2\">\r\n     <g id=\"line2d_10\">\r\n      <g>\r\n       <use style=\"stroke:#000000;stroke-width:0.8;\" x=\"50.14375\" xlink:href=\"#m0a1bb9d4ad\" y=\"273.564\"/>\r\n      </g>\r\n     </g>\r\n     <g id=\"text_11\">\r\n      <!-- 0.92 -->\r\n      <g transform=\"translate(20.878125 277.363219)scale(0.1 -0.1)\">\r\n       <defs>\r\n        <path d=\"M 19.1875 8.296875 \r\nL 53.609375 8.296875 \r\nL 53.609375 0 \r\nL 7.328125 0 \r\nL 7.328125 8.296875 \r\nQ 12.9375 14.109375 22.625 23.890625 \r\nQ 32.328125 33.6875 34.8125 36.53125 \r\nQ 39.546875 41.84375 41.421875 45.53125 \r\nQ 43.3125 49.21875 43.3125 52.78125 \r\nQ 43.3125 58.59375 39.234375 62.25 \r\nQ 35.15625 65.921875 28.609375 65.921875 \r\nQ 23.96875 65.921875 18.8125 64.3125 \r\nQ 13.671875 62.703125 7.8125 59.421875 \r\nL 7.8125 69.390625 \r\nQ 13.765625 71.78125 18.9375 73 \r\nQ 24.125 74.21875 28.421875 74.21875 \r\nQ 39.75 74.21875 46.484375 68.546875 \r\nQ 53.21875 62.890625 53.21875 53.421875 \r\nQ 53.21875 48.921875 51.53125 44.890625 \r\nQ 49.859375 40.875 45.40625 35.40625 \r\nQ 44.1875 33.984375 37.640625 27.21875 \r\nQ 31.109375 20.453125 19.1875 8.296875 \r\nz\r\n\" id=\"DejaVuSans-50\"/>\r\n       </defs>\r\n       <use xlink:href=\"#DejaVuSans-48\"/>\r\n       <use x=\"63.623047\" xlink:href=\"#DejaVuSans-46\"/>\r\n       <use x=\"95.410156\" xlink:href=\"#DejaVuSans-57\"/>\r\n       <use x=\"159.033203\" xlink:href=\"#DejaVuSans-50\"/>\r\n      </g>\r\n     </g>\r\n    </g>\r\n    <g id=\"ytick_3\">\r\n     <g id=\"line2d_11\">\r\n      <g>\r\n       <use style=\"stroke:#000000;stroke-width:0.8;\" x=\"50.14375\" xlink:href=\"#m0a1bb9d4ad\" y=\"211.297091\"/>\r\n      </g>\r\n     </g>\r\n     <g id=\"text_12\">\r\n      <!-- 0.94 -->\r\n      <g transform=\"translate(20.878125 215.09631)scale(0.1 -0.1)\">\r\n       <defs>\r\n        <path d=\"M 37.796875 64.3125 \r\nL 12.890625 25.390625 \r\nL 37.796875 25.390625 \r\nz\r\nM 35.203125 72.90625 \r\nL 47.609375 72.90625 \r\nL 47.609375 25.390625 \r\nL 58.015625 25.390625 \r\nL 58.015625 17.1875 \r\nL 47.609375 17.1875 \r\nL 47.609375 0 \r\nL 37.796875 0 \r\nL 37.796875 17.1875 \r\nL 4.890625 17.1875 \r\nL 4.890625 26.703125 \r\nz\r\n\" id=\"DejaVuSans-52\"/>\r\n       </defs>\r\n       <use xlink:href=\"#DejaVuSans-48\"/>\r\n       <use x=\"63.623047\" xlink:href=\"#DejaVuSans-46\"/>\r\n       <use x=\"95.410156\" xlink:href=\"#DejaVuSans-57\"/>\r\n       <use x=\"159.033203\" xlink:href=\"#DejaVuSans-52\"/>\r\n      </g>\r\n     </g>\r\n    </g>\r\n    <g id=\"ytick_4\">\r\n     <g id=\"line2d_12\">\r\n      <g>\r\n       <use style=\"stroke:#000000;stroke-width:0.8;\" x=\"50.14375\" xlink:href=\"#m0a1bb9d4ad\" y=\"149.030182\"/>\r\n      </g>\r\n     </g>\r\n     <g id=\"text_13\">\r\n      <!-- 0.96 -->\r\n      <g transform=\"translate(20.878125 152.829401)scale(0.1 -0.1)\">\r\n       <defs>\r\n        <path d=\"M 33.015625 40.375 \r\nQ 26.375 40.375 22.484375 35.828125 \r\nQ 18.609375 31.296875 18.609375 23.390625 \r\nQ 18.609375 15.53125 22.484375 10.953125 \r\nQ 26.375 6.390625 33.015625 6.390625 \r\nQ 39.65625 6.390625 43.53125 10.953125 \r\nQ 47.40625 15.53125 47.40625 23.390625 \r\nQ 47.40625 31.296875 43.53125 35.828125 \r\nQ 39.65625 40.375 33.015625 40.375 \r\nz\r\nM 52.59375 71.296875 \r\nL 52.59375 62.3125 \r\nQ 48.875 64.0625 45.09375 64.984375 \r\nQ 41.3125 65.921875 37.59375 65.921875 \r\nQ 27.828125 65.921875 22.671875 59.328125 \r\nQ 17.53125 52.734375 16.796875 39.40625 \r\nQ 19.671875 43.65625 24.015625 45.921875 \r\nQ 28.375 48.1875 33.59375 48.1875 \r\nQ 44.578125 48.1875 50.953125 41.515625 \r\nQ 57.328125 34.859375 57.328125 23.390625 \r\nQ 57.328125 12.15625 50.6875 5.359375 \r\nQ 44.046875 -1.421875 33.015625 -1.421875 \r\nQ 20.359375 -1.421875 13.671875 8.265625 \r\nQ 6.984375 17.96875 6.984375 36.375 \r\nQ 6.984375 53.65625 15.1875 63.9375 \r\nQ 23.390625 74.21875 37.203125 74.21875 \r\nQ 40.921875 74.21875 44.703125 73.484375 \r\nQ 48.484375 72.75 52.59375 71.296875 \r\nz\r\n\" id=\"DejaVuSans-54\"/>\r\n       </defs>\r\n       <use xlink:href=\"#DejaVuSans-48\"/>\r\n       <use x=\"63.623047\" xlink:href=\"#DejaVuSans-46\"/>\r\n       <use x=\"95.410156\" xlink:href=\"#DejaVuSans-57\"/>\r\n       <use x=\"159.033203\" xlink:href=\"#DejaVuSans-54\"/>\r\n      </g>\r\n     </g>\r\n    </g>\r\n    <g id=\"ytick_5\">\r\n     <g id=\"line2d_13\">\r\n      <g>\r\n       <use style=\"stroke:#000000;stroke-width:0.8;\" x=\"50.14375\" xlink:href=\"#m0a1bb9d4ad\" y=\"86.763273\"/>\r\n      </g>\r\n     </g>\r\n     <g id=\"text_14\">\r\n      <!-- 0.98 -->\r\n      <g transform=\"translate(20.878125 90.562491)scale(0.1 -0.1)\">\r\n       <defs>\r\n        <path d=\"M 31.78125 34.625 \r\nQ 24.75 34.625 20.71875 30.859375 \r\nQ 16.703125 27.09375 16.703125 20.515625 \r\nQ 16.703125 13.921875 20.71875 10.15625 \r\nQ 24.75 6.390625 31.78125 6.390625 \r\nQ 38.8125 6.390625 42.859375 10.171875 \r\nQ 46.921875 13.96875 46.921875 20.515625 \r\nQ 46.921875 27.09375 42.890625 30.859375 \r\nQ 38.875 34.625 31.78125 34.625 \r\nz\r\nM 21.921875 38.8125 \r\nQ 15.578125 40.375 12.03125 44.71875 \r\nQ 8.5 49.078125 8.5 55.328125 \r\nQ 8.5 64.0625 14.71875 69.140625 \r\nQ 20.953125 74.21875 31.78125 74.21875 \r\nQ 42.671875 74.21875 48.875 69.140625 \r\nQ 55.078125 64.0625 55.078125 55.328125 \r\nQ 55.078125 49.078125 51.53125 44.71875 \r\nQ 48 40.375 41.703125 38.8125 \r\nQ 48.828125 37.15625 52.796875 32.3125 \r\nQ 56.78125 27.484375 56.78125 20.515625 \r\nQ 56.78125 9.90625 50.3125 4.234375 \r\nQ 43.84375 -1.421875 31.78125 -1.421875 \r\nQ 19.734375 -1.421875 13.25 4.234375 \r\nQ 6.78125 9.90625 6.78125 20.515625 \r\nQ 6.78125 27.484375 10.78125 32.3125 \r\nQ 14.796875 37.15625 21.921875 38.8125 \r\nz\r\nM 18.3125 54.390625 \r\nQ 18.3125 48.734375 21.84375 45.5625 \r\nQ 25.390625 42.390625 31.78125 42.390625 \r\nQ 38.140625 42.390625 41.71875 45.5625 \r\nQ 45.3125 48.734375 45.3125 54.390625 \r\nQ 45.3125 60.0625 41.71875 63.234375 \r\nQ 38.140625 66.40625 31.78125 66.40625 \r\nQ 25.390625 66.40625 21.84375 63.234375 \r\nQ 18.3125 60.0625 18.3125 54.390625 \r\nz\r\n\" id=\"DejaVuSans-56\"/>\r\n       </defs>\r\n       <use xlink:href=\"#DejaVuSans-48\"/>\r\n       <use x=\"63.623047\" xlink:href=\"#DejaVuSans-46\"/>\r\n       <use x=\"95.410156\" xlink:href=\"#DejaVuSans-57\"/>\r\n       <use x=\"159.033203\" xlink:href=\"#DejaVuSans-56\"/>\r\n      </g>\r\n     </g>\r\n    </g>\r\n    <g id=\"ytick_6\">\r\n     <g id=\"line2d_14\">\r\n      <g>\r\n       <use style=\"stroke:#000000;stroke-width:0.8;\" x=\"50.14375\" xlink:href=\"#m0a1bb9d4ad\" y=\"24.496364\"/>\r\n      </g>\r\n     </g>\r\n     <g id=\"text_15\">\r\n      <!-- 1.00 -->\r\n      <g transform=\"translate(20.878125 28.295582)scale(0.1 -0.1)\">\r\n       <use xlink:href=\"#DejaVuSans-49\"/>\r\n       <use x=\"63.623047\" xlink:href=\"#DejaVuSans-46\"/>\r\n       <use x=\"95.410156\" xlink:href=\"#DejaVuSans-48\"/>\r\n       <use x=\"159.033203\" xlink:href=\"#DejaVuSans-48\"/>\r\n      </g>\r\n     </g>\r\n    </g>\r\n    <g id=\"text_16\">\r\n     <!-- Score -->\r\n     <g transform=\"translate(14.798438 211.462344)rotate(-90)scale(0.1 -0.1)\">\r\n      <defs>\r\n       <path d=\"M 53.515625 70.515625 \r\nL 53.515625 60.890625 \r\nQ 47.90625 63.578125 42.921875 64.890625 \r\nQ 37.9375 66.21875 33.296875 66.21875 \r\nQ 25.25 66.21875 20.875 63.09375 \r\nQ 16.5 59.96875 16.5 54.203125 \r\nQ 16.5 49.359375 19.40625 46.890625 \r\nQ 22.3125 44.4375 30.421875 42.921875 \r\nL 36.375 41.703125 \r\nQ 47.40625 39.59375 52.65625 34.296875 \r\nQ 57.90625 29 57.90625 20.125 \r\nQ 57.90625 9.515625 50.796875 4.046875 \r\nQ 43.703125 -1.421875 29.984375 -1.421875 \r\nQ 24.8125 -1.421875 18.96875 -0.25 \r\nQ 13.140625 0.921875 6.890625 3.21875 \r\nL 6.890625 13.375 \r\nQ 12.890625 10.015625 18.65625 8.296875 \r\nQ 24.421875 6.59375 29.984375 6.59375 \r\nQ 38.421875 6.59375 43.015625 9.90625 \r\nQ 47.609375 13.234375 47.609375 19.390625 \r\nQ 47.609375 24.75 44.3125 27.78125 \r\nQ 41.015625 30.8125 33.5 32.328125 \r\nL 27.484375 33.5 \r\nQ 16.453125 35.6875 11.515625 40.375 \r\nQ 6.59375 45.0625 6.59375 53.421875 \r\nQ 6.59375 63.09375 13.40625 68.65625 \r\nQ 20.21875 74.21875 32.171875 74.21875 \r\nQ 37.3125 74.21875 42.625 73.28125 \r\nQ 47.953125 72.359375 53.515625 70.515625 \r\nz\r\n\" id=\"DejaVuSans-83\"/>\r\n       <path d=\"M 48.78125 52.59375 \r\nL 48.78125 44.1875 \r\nQ 44.96875 46.296875 41.140625 47.34375 \r\nQ 37.3125 48.390625 33.40625 48.390625 \r\nQ 24.65625 48.390625 19.8125 42.84375 \r\nQ 14.984375 37.3125 14.984375 27.296875 \r\nQ 14.984375 17.28125 19.8125 11.734375 \r\nQ 24.65625 6.203125 33.40625 6.203125 \r\nQ 37.3125 6.203125 41.140625 7.25 \r\nQ 44.96875 8.296875 48.78125 10.40625 \r\nL 48.78125 2.09375 \r\nQ 45.015625 0.34375 40.984375 -0.53125 \r\nQ 36.96875 -1.421875 32.421875 -1.421875 \r\nQ 20.0625 -1.421875 12.78125 6.34375 \r\nQ 5.515625 14.109375 5.515625 27.296875 \r\nQ 5.515625 40.671875 12.859375 48.328125 \r\nQ 20.21875 56 33.015625 56 \r\nQ 37.15625 56 41.109375 55.140625 \r\nQ 45.0625 54.296875 48.78125 52.59375 \r\nz\r\n\" id=\"DejaVuSans-99\"/>\r\n       <path d=\"M 30.609375 48.390625 \r\nQ 23.390625 48.390625 19.1875 42.75 \r\nQ 14.984375 37.109375 14.984375 27.296875 \r\nQ 14.984375 17.484375 19.15625 11.84375 \r\nQ 23.34375 6.203125 30.609375 6.203125 \r\nQ 37.796875 6.203125 41.984375 11.859375 \r\nQ 46.1875 17.53125 46.1875 27.296875 \r\nQ 46.1875 37.015625 41.984375 42.703125 \r\nQ 37.796875 48.390625 30.609375 48.390625 \r\nz\r\nM 30.609375 56 \r\nQ 42.328125 56 49.015625 48.375 \r\nQ 55.71875 40.765625 55.71875 27.296875 \r\nQ 55.71875 13.875 49.015625 6.21875 \r\nQ 42.328125 -1.421875 30.609375 -1.421875 \r\nQ 18.84375 -1.421875 12.171875 6.21875 \r\nQ 5.515625 13.875 5.515625 27.296875 \r\nQ 5.515625 40.765625 12.171875 48.375 \r\nQ 18.84375 56 30.609375 56 \r\nz\r\n\" id=\"DejaVuSans-111\"/>\r\n      </defs>\r\n      <use xlink:href=\"#DejaVuSans-83\"/>\r\n      <use x=\"63.476562\" xlink:href=\"#DejaVuSans-99\"/>\r\n      <use x=\"118.457031\" xlink:href=\"#DejaVuSans-111\"/>\r\n      <use x=\"179.638672\" xlink:href=\"#DejaVuSans-114\"/>\r\n      <use x=\"218.501953\" xlink:href=\"#DejaVuSans-101\"/>\r\n     </g>\r\n    </g>\r\n   </g>\r\n   <g id=\"line2d_15\">\r\n    <path clip-path=\"url(#p5f6d8e7ef4)\" d=\"M 67.898295 24.496364 \r\nL 118.625568 24.496364 \r\nL 169.352841 24.496364 \r\nL 220.080114 24.496364 \r\nL 270.807386 24.496364 \r\nL 321.534659 24.496364 \r\nL 372.261932 24.496364 \r\nL 422.989205 24.496364 \r\n\" style=\"fill:none;stroke:#1f77b4;stroke-linecap:square;stroke-width:1.5;\"/>\r\n   </g>\r\n   <g id=\"line2d_16\">\r\n    <path clip-path=\"url(#p5f6d8e7ef4)\" d=\"M 67.898295 41.103825 \r\nL 118.625568 41.213065 \r\nL 169.352841 64.56203 \r\nL 220.080114 65.016948 \r\nL 270.807386 72.648641 \r\nL 321.534659 72.665678 \r\nL 372.261932 95.044307 \r\nL 422.989205 110.224051 \r\n\" style=\"fill:none;stroke:#ff7f0e;stroke-linecap:square;stroke-width:1.5;\"/>\r\n   </g>\r\n   <g id=\"line2d_17\">\r\n    <path clip-path=\"url(#p5f6d8e7ef4)\" d=\"M 67.898295 218.6 \r\nL 118.625568 220.521818 \r\nL 169.352841 84.072727 \r\nL 220.080114 84.072727 \r\nL 270.807386 64.854545 \r\nL 321.534659 62.932727 \r\nL 372.261932 47.558182 \r\nL 422.989205 26.418182 \r\n\" style=\"fill:none;stroke:#2ca02c;stroke-linecap:square;stroke-width:1.5;\"/>\r\n   </g>\r\n   <g id=\"line2d_18\">\r\n    <path clip-path=\"url(#p5f6d8e7ef4)\" d=\"M 67.898295 362.736364 \r\nL 118.625568 370.423636 \r\nL 169.352841 232.052727 \r\nL 220.080114 247.427273 \r\nL 270.807386 239.74 \r\nL 321.534659 239.74 \r\nL 372.261932 216.678182 \r\nL 422.989205 208.990909 \r\n\" style=\"fill:none;stroke:#d62728;stroke-linecap:square;stroke-width:1.5;\"/>\r\n   </g>\r\n   <g id=\"line2d_19\">\r\n    <path clip-path=\"url(#p5f6d8e7ef4)\" d=\"M 67.898295 124.701568 \r\nL 118.625568 125.729562 \r\nL 169.352841 54.582695 \r\nL 220.080114 54.582695 \r\nL 270.807386 44.814352 \r\nL 321.534659 43.845985 \r\nL 372.261932 36.074932 \r\nL 422.989205 25.458758 \r\n\" style=\"fill:none;stroke:#9467bd;stroke-linecap:square;stroke-width:1.5;\"/>\r\n   </g>\r\n   <g id=\"line2d_20\">\r\n    <path clip-path=\"url(#p5f6d8e7ef4)\" d=\"M 67.898295 212.049304 \r\nL 118.625568 216.218736 \r\nL 169.352841 151.807323 \r\nL 220.080114 160.412307 \r\nL 270.807386 159.68921 \r\nL 321.534659 159.8495 \r\nL 372.261932 158.248927 \r\nL 422.989205 161.82723 \r\n\" style=\"fill:none;stroke:#8c564b;stroke-linecap:square;stroke-width:1.5;\"/>\r\n   </g>\r\n   <g id=\"patch_3\">\r\n    <path d=\"M 50.14375 387.72 \r\nL 50.14375 7.2 \r\n\" style=\"fill:none;stroke:#000000;stroke-linecap:square;stroke-linejoin:miter;stroke-width:0.8;\"/>\r\n   </g>\r\n   <g id=\"patch_4\">\r\n    <path d=\"M 440.74375 387.72 \r\nL 440.74375 7.2 \r\n\" style=\"fill:none;stroke:#000000;stroke-linecap:square;stroke-linejoin:miter;stroke-width:0.8;\"/>\r\n   </g>\r\n   <g id=\"patch_5\">\r\n    <path d=\"M 50.14375 387.72 \r\nL 440.74375 387.72 \r\n\" style=\"fill:none;stroke:#000000;stroke-linecap:square;stroke-linejoin:miter;stroke-width:0.8;\"/>\r\n   </g>\r\n   <g id=\"patch_6\">\r\n    <path d=\"M 50.14375 7.2 \r\nL 440.74375 7.2 \r\n\" style=\"fill:none;stroke:#000000;stroke-linecap:square;stroke-linejoin:miter;stroke-width:0.8;\"/>\r\n   </g>\r\n   <g id=\"legend_1\">\r\n    <g id=\"patch_7\">\r\n     <path d=\"M 295.495313 382.72 \r\nL 433.74375 382.72 \r\nQ 435.74375 382.72 435.74375 380.72 \r\nL 435.74375 291.9825 \r\nQ 435.74375 289.9825 433.74375 289.9825 \r\nL 295.495313 289.9825 \r\nQ 293.495313 289.9825 293.495313 291.9825 \r\nL 293.495313 380.72 \r\nQ 293.495313 382.72 295.495313 382.72 \r\nz\r\n\" style=\"fill:#ffffff;opacity:0.8;stroke:#cccccc;stroke-linejoin:miter;\"/>\r\n    </g>\r\n    <g id=\"line2d_21\">\r\n     <path d=\"M 297.495313 298.080937 \r\nL 317.495313 298.080937 \r\n\" style=\"fill:none;stroke:#1f77b4;stroke-linecap:square;stroke-width:1.5;\"/>\r\n    </g>\r\n    <g id=\"line2d_22\"/>\r\n    <g id=\"text_17\">\r\n     <!-- mean_train_Precision -->\r\n     <g transform=\"translate(325.495313 301.580937)scale(0.1 -0.1)\">\r\n      <defs>\r\n       <path d=\"M 54.890625 33.015625 \r\nL 54.890625 0 \r\nL 45.90625 0 \r\nL 45.90625 32.71875 \r\nQ 45.90625 40.484375 42.875 44.328125 \r\nQ 39.84375 48.1875 33.796875 48.1875 \r\nQ 26.515625 48.1875 22.3125 43.546875 \r\nQ 18.109375 38.921875 18.109375 30.90625 \r\nL 18.109375 0 \r\nL 9.078125 0 \r\nL 9.078125 54.6875 \r\nL 18.109375 54.6875 \r\nL 18.109375 46.1875 \r\nQ 21.34375 51.125 25.703125 53.5625 \r\nQ 30.078125 56 35.796875 56 \r\nQ 45.21875 56 50.046875 50.171875 \r\nQ 54.890625 44.34375 54.890625 33.015625 \r\nz\r\n\" id=\"DejaVuSans-110\"/>\r\n      </defs>\r\n      <use xlink:href=\"#DejaVuSans-109\"/>\r\n      <use x=\"97.412109\" xlink:href=\"#DejaVuSans-101\"/>\r\n      <use x=\"158.935547\" xlink:href=\"#DejaVuSans-97\"/>\r\n      <use x=\"220.214844\" xlink:href=\"#DejaVuSans-110\"/>\r\n      <use x=\"283.59375\" xlink:href=\"#DejaVuSans-95\"/>\r\n      <use x=\"333.59375\" xlink:href=\"#DejaVuSans-116\"/>\r\n      <use x=\"372.802734\" xlink:href=\"#DejaVuSans-114\"/>\r\n      <use x=\"413.916016\" xlink:href=\"#DejaVuSans-97\"/>\r\n      <use x=\"475.195312\" xlink:href=\"#DejaVuSans-105\"/>\r\n      <use x=\"502.978516\" xlink:href=\"#DejaVuSans-110\"/>\r\n      <use x=\"566.357422\" xlink:href=\"#DejaVuSans-95\"/>\r\n      <use x=\"616.357422\" xlink:href=\"#DejaVuSans-80\"/>\r\n      <use x=\"674.910156\" xlink:href=\"#DejaVuSans-114\"/>\r\n      <use x=\"713.773438\" xlink:href=\"#DejaVuSans-101\"/>\r\n      <use x=\"775.296875\" xlink:href=\"#DejaVuSans-99\"/>\r\n      <use x=\"830.277344\" xlink:href=\"#DejaVuSans-105\"/>\r\n      <use x=\"858.060547\" xlink:href=\"#DejaVuSans-115\"/>\r\n      <use x=\"910.160156\" xlink:href=\"#DejaVuSans-105\"/>\r\n      <use x=\"937.943359\" xlink:href=\"#DejaVuSans-111\"/>\r\n      <use x=\"999.125\" xlink:href=\"#DejaVuSans-110\"/>\r\n     </g>\r\n    </g>\r\n    <g id=\"line2d_23\">\r\n     <path d=\"M 297.495313 313.037187 \r\nL 317.495313 313.037187 \r\n\" style=\"fill:none;stroke:#ff7f0e;stroke-linecap:square;stroke-width:1.5;\"/>\r\n    </g>\r\n    <g id=\"line2d_24\"/>\r\n    <g id=\"text_18\">\r\n     <!-- mean_test_Precision -->\r\n     <g transform=\"translate(325.495313 316.537187)scale(0.1 -0.1)\">\r\n      <use xlink:href=\"#DejaVuSans-109\"/>\r\n      <use x=\"97.412109\" xlink:href=\"#DejaVuSans-101\"/>\r\n      <use x=\"158.935547\" xlink:href=\"#DejaVuSans-97\"/>\r\n      <use x=\"220.214844\" xlink:href=\"#DejaVuSans-110\"/>\r\n      <use x=\"283.59375\" xlink:href=\"#DejaVuSans-95\"/>\r\n      <use x=\"333.59375\" xlink:href=\"#DejaVuSans-116\"/>\r\n      <use x=\"372.802734\" xlink:href=\"#DejaVuSans-101\"/>\r\n      <use x=\"434.326172\" xlink:href=\"#DejaVuSans-115\"/>\r\n      <use x=\"486.425781\" xlink:href=\"#DejaVuSans-116\"/>\r\n      <use x=\"525.634766\" xlink:href=\"#DejaVuSans-95\"/>\r\n      <use x=\"575.634766\" xlink:href=\"#DejaVuSans-80\"/>\r\n      <use x=\"634.1875\" xlink:href=\"#DejaVuSans-114\"/>\r\n      <use x=\"673.050781\" xlink:href=\"#DejaVuSans-101\"/>\r\n      <use x=\"734.574219\" xlink:href=\"#DejaVuSans-99\"/>\r\n      <use x=\"789.554688\" xlink:href=\"#DejaVuSans-105\"/>\r\n      <use x=\"817.337891\" xlink:href=\"#DejaVuSans-115\"/>\r\n      <use x=\"869.4375\" xlink:href=\"#DejaVuSans-105\"/>\r\n      <use x=\"897.220703\" xlink:href=\"#DejaVuSans-111\"/>\r\n      <use x=\"958.402344\" xlink:href=\"#DejaVuSans-110\"/>\r\n     </g>\r\n    </g>\r\n    <g id=\"line2d_25\">\r\n     <path d=\"M 297.495313 327.993437 \r\nL 317.495313 327.993437 \r\n\" style=\"fill:none;stroke:#2ca02c;stroke-linecap:square;stroke-width:1.5;\"/>\r\n    </g>\r\n    <g id=\"line2d_26\"/>\r\n    <g id=\"text_19\">\r\n     <!-- mean_train_Recall -->\r\n     <g transform=\"translate(325.495313 331.493437)scale(0.1 -0.1)\">\r\n      <defs>\r\n       <path d=\"M 44.390625 34.1875 \r\nQ 47.5625 33.109375 50.5625 29.59375 \r\nQ 53.5625 26.078125 56.59375 19.921875 \r\nL 66.609375 0 \r\nL 56 0 \r\nL 46.6875 18.703125 \r\nQ 43.0625 26.03125 39.671875 28.421875 \r\nQ 36.28125 30.8125 30.421875 30.8125 \r\nL 19.671875 30.8125 \r\nL 19.671875 0 \r\nL 9.8125 0 \r\nL 9.8125 72.90625 \r\nL 32.078125 72.90625 \r\nQ 44.578125 72.90625 50.734375 67.671875 \r\nQ 56.890625 62.453125 56.890625 51.90625 \r\nQ 56.890625 45.015625 53.6875 40.46875 \r\nQ 50.484375 35.9375 44.390625 34.1875 \r\nz\r\nM 19.671875 64.796875 \r\nL 19.671875 38.921875 \r\nL 32.078125 38.921875 \r\nQ 39.203125 38.921875 42.84375 42.21875 \r\nQ 46.484375 45.515625 46.484375 51.90625 \r\nQ 46.484375 58.296875 42.84375 61.546875 \r\nQ 39.203125 64.796875 32.078125 64.796875 \r\nz\r\n\" id=\"DejaVuSans-82\"/>\r\n       <path d=\"M 9.421875 75.984375 \r\nL 18.40625 75.984375 \r\nL 18.40625 0 \r\nL 9.421875 0 \r\nz\r\n\" id=\"DejaVuSans-108\"/>\r\n      </defs>\r\n      <use xlink:href=\"#DejaVuSans-109\"/>\r\n      <use x=\"97.412109\" xlink:href=\"#DejaVuSans-101\"/>\r\n      <use x=\"158.935547\" xlink:href=\"#DejaVuSans-97\"/>\r\n      <use x=\"220.214844\" xlink:href=\"#DejaVuSans-110\"/>\r\n      <use x=\"283.59375\" xlink:href=\"#DejaVuSans-95\"/>\r\n      <use x=\"333.59375\" xlink:href=\"#DejaVuSans-116\"/>\r\n      <use x=\"372.802734\" xlink:href=\"#DejaVuSans-114\"/>\r\n      <use x=\"413.916016\" xlink:href=\"#DejaVuSans-97\"/>\r\n      <use x=\"475.195312\" xlink:href=\"#DejaVuSans-105\"/>\r\n      <use x=\"502.978516\" xlink:href=\"#DejaVuSans-110\"/>\r\n      <use x=\"566.357422\" xlink:href=\"#DejaVuSans-95\"/>\r\n      <use x=\"616.357422\" xlink:href=\"#DejaVuSans-82\"/>\r\n      <use x=\"681.339844\" xlink:href=\"#DejaVuSans-101\"/>\r\n      <use x=\"742.863281\" xlink:href=\"#DejaVuSans-99\"/>\r\n      <use x=\"797.84375\" xlink:href=\"#DejaVuSans-97\"/>\r\n      <use x=\"859.123047\" xlink:href=\"#DejaVuSans-108\"/>\r\n      <use x=\"886.90625\" xlink:href=\"#DejaVuSans-108\"/>\r\n     </g>\r\n    </g>\r\n    <g id=\"line2d_27\">\r\n     <path d=\"M 297.495313 342.949687 \r\nL 317.495313 342.949687 \r\n\" style=\"fill:none;stroke:#d62728;stroke-linecap:square;stroke-width:1.5;\"/>\r\n    </g>\r\n    <g id=\"line2d_28\"/>\r\n    <g id=\"text_20\">\r\n     <!-- mean_test_Recall -->\r\n     <g transform=\"translate(325.495313 346.449687)scale(0.1 -0.1)\">\r\n      <use xlink:href=\"#DejaVuSans-109\"/>\r\n      <use x=\"97.412109\" xlink:href=\"#DejaVuSans-101\"/>\r\n      <use x=\"158.935547\" xlink:href=\"#DejaVuSans-97\"/>\r\n      <use x=\"220.214844\" xlink:href=\"#DejaVuSans-110\"/>\r\n      <use x=\"283.59375\" xlink:href=\"#DejaVuSans-95\"/>\r\n      <use x=\"333.59375\" xlink:href=\"#DejaVuSans-116\"/>\r\n      <use x=\"372.802734\" xlink:href=\"#DejaVuSans-101\"/>\r\n      <use x=\"434.326172\" xlink:href=\"#DejaVuSans-115\"/>\r\n      <use x=\"486.425781\" xlink:href=\"#DejaVuSans-116\"/>\r\n      <use x=\"525.634766\" xlink:href=\"#DejaVuSans-95\"/>\r\n      <use x=\"575.634766\" xlink:href=\"#DejaVuSans-82\"/>\r\n      <use x=\"640.617188\" xlink:href=\"#DejaVuSans-101\"/>\r\n      <use x=\"702.140625\" xlink:href=\"#DejaVuSans-99\"/>\r\n      <use x=\"757.121094\" xlink:href=\"#DejaVuSans-97\"/>\r\n      <use x=\"818.400391\" xlink:href=\"#DejaVuSans-108\"/>\r\n      <use x=\"846.183594\" xlink:href=\"#DejaVuSans-108\"/>\r\n     </g>\r\n    </g>\r\n    <g id=\"line2d_29\">\r\n     <path d=\"M 297.495313 357.905937 \r\nL 317.495313 357.905937 \r\n\" style=\"fill:none;stroke:#9467bd;stroke-linecap:square;stroke-width:1.5;\"/>\r\n    </g>\r\n    <g id=\"line2d_30\"/>\r\n    <g id=\"text_21\">\r\n     <!-- mean_train_F1Score -->\r\n     <g transform=\"translate(325.495313 361.405937)scale(0.1 -0.1)\">\r\n      <defs>\r\n       <path d=\"M 9.8125 72.90625 \r\nL 51.703125 72.90625 \r\nL 51.703125 64.59375 \r\nL 19.671875 64.59375 \r\nL 19.671875 43.109375 \r\nL 48.578125 43.109375 \r\nL 48.578125 34.8125 \r\nL 19.671875 34.8125 \r\nL 19.671875 0 \r\nL 9.8125 0 \r\nz\r\n\" id=\"DejaVuSans-70\"/>\r\n      </defs>\r\n      <use xlink:href=\"#DejaVuSans-109\"/>\r\n      <use x=\"97.412109\" xlink:href=\"#DejaVuSans-101\"/>\r\n      <use x=\"158.935547\" xlink:href=\"#DejaVuSans-97\"/>\r\n      <use x=\"220.214844\" xlink:href=\"#DejaVuSans-110\"/>\r\n      <use x=\"283.59375\" xlink:href=\"#DejaVuSans-95\"/>\r\n      <use x=\"333.59375\" xlink:href=\"#DejaVuSans-116\"/>\r\n      <use x=\"372.802734\" xlink:href=\"#DejaVuSans-114\"/>\r\n      <use x=\"413.916016\" xlink:href=\"#DejaVuSans-97\"/>\r\n      <use x=\"475.195312\" xlink:href=\"#DejaVuSans-105\"/>\r\n      <use x=\"502.978516\" xlink:href=\"#DejaVuSans-110\"/>\r\n      <use x=\"566.357422\" xlink:href=\"#DejaVuSans-95\"/>\r\n      <use x=\"616.357422\" xlink:href=\"#DejaVuSans-70\"/>\r\n      <use x=\"673.876953\" xlink:href=\"#DejaVuSans-49\"/>\r\n      <use x=\"737.5\" xlink:href=\"#DejaVuSans-83\"/>\r\n      <use x=\"800.976562\" xlink:href=\"#DejaVuSans-99\"/>\r\n      <use x=\"855.957031\" xlink:href=\"#DejaVuSans-111\"/>\r\n      <use x=\"917.138672\" xlink:href=\"#DejaVuSans-114\"/>\r\n      <use x=\"956.001953\" xlink:href=\"#DejaVuSans-101\"/>\r\n     </g>\r\n    </g>\r\n    <g id=\"line2d_31\">\r\n     <path d=\"M 297.495313 372.862187 \r\nL 317.495313 372.862187 \r\n\" style=\"fill:none;stroke:#8c564b;stroke-linecap:square;stroke-width:1.5;\"/>\r\n    </g>\r\n    <g id=\"line2d_32\"/>\r\n    <g id=\"text_22\">\r\n     <!-- mean_test_F1Score -->\r\n     <g transform=\"translate(325.495313 376.362187)scale(0.1 -0.1)\">\r\n      <use xlink:href=\"#DejaVuSans-109\"/>\r\n      <use x=\"97.412109\" xlink:href=\"#DejaVuSans-101\"/>\r\n      <use x=\"158.935547\" xlink:href=\"#DejaVuSans-97\"/>\r\n      <use x=\"220.214844\" xlink:href=\"#DejaVuSans-110\"/>\r\n      <use x=\"283.59375\" xlink:href=\"#DejaVuSans-95\"/>\r\n      <use x=\"333.59375\" xlink:href=\"#DejaVuSans-116\"/>\r\n      <use x=\"372.802734\" xlink:href=\"#DejaVuSans-101\"/>\r\n      <use x=\"434.326172\" xlink:href=\"#DejaVuSans-115\"/>\r\n      <use x=\"486.425781\" xlink:href=\"#DejaVuSans-116\"/>\r\n      <use x=\"525.634766\" xlink:href=\"#DejaVuSans-95\"/>\r\n      <use x=\"575.634766\" xlink:href=\"#DejaVuSans-70\"/>\r\n      <use x=\"633.154297\" xlink:href=\"#DejaVuSans-49\"/>\r\n      <use x=\"696.777344\" xlink:href=\"#DejaVuSans-83\"/>\r\n      <use x=\"760.253906\" xlink:href=\"#DejaVuSans-99\"/>\r\n      <use x=\"815.234375\" xlink:href=\"#DejaVuSans-111\"/>\r\n      <use x=\"876.416016\" xlink:href=\"#DejaVuSans-114\"/>\r\n      <use x=\"915.279297\" xlink:href=\"#DejaVuSans-101\"/>\r\n     </g>\r\n    </g>\r\n   </g>\r\n  </g>\r\n </g>\r\n <defs>\r\n  <clipPath id=\"p5f6d8e7ef4\">\r\n   <rect height=\"380.52\" width=\"390.6\" x=\"50.14375\" y=\"7.2\"/>\r\n  </clipPath>\r\n </defs>\r\n</svg>\r\n",
      "image/png": "[encoded data removed]"
     },
     "metadata": {
      "needs_background": "light"
     }
    }
   ],
   "source": [
    "mean_precision = list()\n",
    "mean_recall = list()\n",
    "mean_f1score = list()\n",
    "fig,ax_log_reg_grid = plt.subplots(1,1,figsize = (7,7))\n",
    "ax_log_reg_grid.set_xlabel('Parameters')\n",
    "ax_log_reg_grid.set_ylabel('Score')\n",
    "ax_log_reg_grid.set_xticklabels(x_label_list, rotation = 45)\n",
    "for score_type,color in list(zip(*(scoring_log_reg, [\"b\",'r','g']))):\n",
    "    for (sample_type,style) in (('train','--'),('test','-')):\n",
    "        sample_mean_score = grid_log_reg.cv_results_['mean_{}_{}'.format(sample_type,score_type)]\n",
    "        ax_log_reg_grid.plot(x_label_list,sample_mean_score, label = 'mean_{}_{}'.format(sample_type,score_type))\n",
    "    \n",
    "ax_log_reg_grid.legend()"
   ]
  },
  {
   "source": [
    "The best parameters which give a good F1 Score are C:0.5 and max_iter:100. We shall use this logistic regression mode as the base estimator in an AdaBoost Classifier"
   ],
   "cell_type": "markdown",
   "metadata": {}
  },
  {
   "cell_type": "code",
   "execution_count": 88,
   "metadata": {},
   "outputs": [
    {
     "output_type": "execute_result",
     "data": {
      "text/plain": [
       "{'C': 0.5, 'max_iter': 100}"
      ]
     },
     "metadata": {},
     "execution_count": 88
    }
   ],
   "source": [
    "grid_log_reg.best_params_"
   ]
  },
  {
   "cell_type": "code",
   "execution_count": 89,
   "metadata": {},
   "outputs": [
    {
     "output_type": "stream",
     "name": "stdout",
     "text": [
      "Fitting 5 folds for each of 12 candidates, totalling 60 fits\n",
      "[CV] END ................learning_rate=0.5, n_estimators=100; total time=  12.0s\n",
      "[CV] END ................learning_rate=0.5, n_estimators=100; total time=   9.8s\n",
      "[CV] END ................learning_rate=0.5, n_estimators=100; total time=   9.6s\n",
      "[CV] END ................learning_rate=0.5, n_estimators=100; total time=   8.3s\n",
      "[CV] END ................learning_rate=0.5, n_estimators=100; total time=   6.3s\n",
      "[CV] END ................learning_rate=0.5, n_estimators=150; total time=  13.0s\n",
      "[CV] END ................learning_rate=0.5, n_estimators=150; total time=  12.1s\n",
      "[CV] END ................learning_rate=0.5, n_estimators=150; total time=  13.3s\n",
      "[CV] END ................learning_rate=0.5, n_estimators=150; total time=  11.0s\n",
      "[CV] END ................learning_rate=0.5, n_estimators=150; total time=   8.6s\n",
      "[CV] END ................learning_rate=0.5, n_estimators=200; total time=  16.7s\n",
      "[CV] END ................learning_rate=0.5, n_estimators=200; total time=  18.7s\n",
      "[CV] END ................learning_rate=0.5, n_estimators=200; total time=  26.1s\n",
      "[CV] END ................learning_rate=0.5, n_estimators=200; total time=  17.7s\n",
      "[CV] END ................learning_rate=0.5, n_estimators=200; total time=  10.6s\n",
      "[CV] END ................learning_rate=0.5, n_estimators=300; total time=  28.5s\n",
      "[CV] END ................learning_rate=0.5, n_estimators=300; total time=  29.6s\n",
      "[CV] END ................learning_rate=0.5, n_estimators=300; total time=  29.9s\n",
      "[CV] END ................learning_rate=0.5, n_estimators=300; total time=  27.0s\n",
      "[CV] END ................learning_rate=0.5, n_estimators=300; total time=  10.9s\n",
      "[CV] END ...............learning_rate=0.75, n_estimators=100; total time=   8.5s\n",
      "[CV] END ...............learning_rate=0.75, n_estimators=100; total time=  10.2s\n",
      "[CV] END ...............learning_rate=0.75, n_estimators=100; total time=   9.0s\n",
      "[CV] END ...............learning_rate=0.75, n_estimators=100; total time=   9.2s\n",
      "[CV] END ...............learning_rate=0.75, n_estimators=100; total time=   6.6s\n",
      "[CV] END ...............learning_rate=0.75, n_estimators=150; total time=  13.4s\n",
      "[CV] END ...............learning_rate=0.75, n_estimators=150; total time=  15.8s\n",
      "[CV] END ...............learning_rate=0.75, n_estimators=150; total time=  13.9s\n",
      "[CV] END ...............learning_rate=0.75, n_estimators=150; total time=  13.5s\n",
      "[CV] END ...............learning_rate=0.75, n_estimators=150; total time=   6.7s\n",
      "[CV] END ...............learning_rate=0.75, n_estimators=200; total time=  22.9s\n",
      "[CV] END ...............learning_rate=0.75, n_estimators=200; total time=  19.9s\n",
      "[CV] END ...............learning_rate=0.75, n_estimators=200; total time=  18.3s\n",
      "[CV] END ...............learning_rate=0.75, n_estimators=200; total time=  18.5s\n",
      "[CV] END ...............learning_rate=0.75, n_estimators=200; total time=   6.6s\n",
      "[CV] END ...............learning_rate=0.75, n_estimators=300; total time=  25.8s\n",
      "[CV] END ...............learning_rate=0.75, n_estimators=300; total time=  29.0s\n",
      "[CV] END ...............learning_rate=0.75, n_estimators=300; total time=  27.3s\n",
      "[CV] END ...............learning_rate=0.75, n_estimators=300; total time=  27.5s\n",
      "[CV] END ...............learning_rate=0.75, n_estimators=300; total time=   6.7s\n",
      "[CV] END ..................learning_rate=1, n_estimators=100; total time=   8.6s\n",
      "[CV] END ..................learning_rate=1, n_estimators=100; total time=   9.5s\n",
      "[CV] END ..................learning_rate=1, n_estimators=100; total time=   8.8s\n",
      "[CV] END ..................learning_rate=1, n_estimators=100; total time=   8.8s\n",
      "[CV] END ..................learning_rate=1, n_estimators=100; total time=   5.6s\n",
      "[CV] END ..................learning_rate=1, n_estimators=150; total time=  13.1s\n",
      "[CV] END ..................learning_rate=1, n_estimators=150; total time=  14.5s\n",
      "[CV] END ..................learning_rate=1, n_estimators=150; total time=  13.3s\n",
      "[CV] END ..................learning_rate=1, n_estimators=150; total time=  13.4s\n",
      "[CV] END ..................learning_rate=1, n_estimators=150; total time=   5.3s\n",
      "[CV] END ..................learning_rate=1, n_estimators=200; total time=  17.3s\n",
      "[CV] END ..................learning_rate=1, n_estimators=200; total time=  19.3s\n",
      "[CV] END ..................learning_rate=1, n_estimators=200; total time=  17.6s\n",
      "[CV] END ..................learning_rate=1, n_estimators=200; total time=  17.7s\n",
      "[CV] END ..................learning_rate=1, n_estimators=200; total time=   5.4s\n",
      "[CV] END ..................learning_rate=1, n_estimators=300; total time=  25.3s\n",
      "[CV] END ..................learning_rate=1, n_estimators=300; total time=  26.8s\n",
      "[CV] END ..................learning_rate=1, n_estimators=300; total time=  26.8s\n",
      "[CV] END ..................learning_rate=1, n_estimators=300; total time=  26.3s\n",
      "[CV] END ..................learning_rate=1, n_estimators=300; total time=   5.3s\n"
     ]
    },
    {
     "output_type": "execute_result",
     "data": {
      "text/plain": [
       "GridSearchCV(estimator=AdaBoostClassifier(base_estimator=LogisticRegression(C=0.5,\n",
       "                                                                            random_state=42),\n",
       "                                          random_state=42),\n",
       "             param_grid={'learning_rate': (0.5, 0.75, 1),\n",
       "                         'n_estimators': (100, 150, 200, 300)},\n",
       "             refit='F1Score', return_train_score=True,\n",
       "             scoring={'F1Score': make_scorer(f1_score),\n",
       "                      'Precision': make_scorer(precision_score),\n",
       "                      'Recall': make_scorer(recall_score)},\n",
       "             verbose=2)"
      ]
     },
     "metadata": {},
     "execution_count": 89
    }
   ],
   "source": [
    "parameters_ada_boost = {\n",
    "    'n_estimators' : (100,150,200,300),\n",
    "    'learning_rate' : (0.5,0.75,1)\n",
    "}\n",
    "\n",
    "scoring_ada_boost = {\"Precision\" : make_scorer(precision_score), \"Recall\":make_scorer(recall_score), \"F1Score\":make_scorer(f1_score)}\n",
    "\n",
    "\n",
    "estimator_ada_boost = AdaBoostClassifier(base_estimator=LogisticRegression(solver=\"lbfgs\", C = 0.5, max_iter = 100, random_state = 42), algorithm='SAMME.R',random_state=42)\n",
    "\n",
    "\n",
    "grid_ada_boost = GridSearchCV(estimator = estimator_ada_boost, param_grid = parameters_ada_boost, scoring = scoring_ada_boost, refit = \"F1Score\",verbose = 2, return_train_score = True)\n",
    "\n",
    "grid_ada_boost.fit(X_train_transformed_df[columns],X_train_transformed_df[\"Result\"])"
   ]
  },
  {
   "cell_type": "code",
   "execution_count": 90,
   "metadata": {},
   "outputs": [
    {
     "output_type": "execute_result",
     "data": {
      "text/plain": [
       "AdaBoostClassifier(base_estimator=LogisticRegression(C=0.5, random_state=42),\n",
       "                   learning_rate=0.5, n_estimators=200, random_state=42)"
      ]
     },
     "metadata": {},
     "execution_count": 90
    }
   ],
   "source": [
    "grid_ada_boost.best_estimator_"
   ]
  },
  {
   "cell_type": "code",
   "execution_count": 91,
   "metadata": {},
   "outputs": [
    {
     "output_type": "execute_result",
     "data": {
      "text/plain": [
       "0.9605107280174876"
      ]
     },
     "metadata": {},
     "execution_count": 91
    }
   ],
   "source": [
    "grid_ada_boost.best_score_"
   ]
  },
  {
   "cell_type": "code",
   "execution_count": 92,
   "metadata": {},
   "outputs": [
    {
     "output_type": "execute_result",
     "data": {
      "text/plain": [
       "{'mean_fit_time': array([ 9.19860301, 11.61158137, 17.89855118, 25.05537581,  8.68310204,\n",
       "        12.58968506, 17.14244947, 23.12362156,  8.25804019, 11.89024591,\n",
       "        15.38888106, 21.96563001]),\n",
       " 'std_fit_time': array([1.84375807, 1.70170786, 4.95528386, 7.14354325, 1.17871927,\n",
       "        3.06462424, 5.49895456, 8.26605604, 1.34046961, 3.2986756 ,\n",
       "        5.03292546, 8.31809972]),\n",
       " 'mean_score_time': array([0.09330072, 0.10671725, 0.16871223, 0.24935713, 0.09449167,\n",
       "        0.15991645, 0.20395741, 0.24243069, 0.10502195, 0.12806735,\n",
       "        0.17572231, 0.25921063]),\n",
       " 'std_score_time': array([0.02157775, 0.0030726 , 0.0168518 , 0.06487867, 0.01285631,\n",
       "        0.04422077, 0.08905717, 0.0771599 , 0.01802848, 0.02951791,\n",
       "        0.06347445, 0.10293959]),\n",
       " 'param_learning_rate': masked_array(data=[0.5, 0.5, 0.5, 0.5, 0.75, 0.75, 0.75, 0.75, 1, 1, 1, 1],\n",
       "              mask=[False, False, False, False, False, False, False, False,\n",
       "                    False, False, False, False],\n",
       "        fill_value='?',\n",
       "             dtype=object),\n",
       " 'param_n_estimators': masked_array(data=[100, 150, 200, 300, 100, 150, 200, 300, 100, 150, 200,\n",
       "                    300],\n",
       "              mask=[False, False, False, False, False, False, False, False,\n",
       "                    False, False, False, False],\n",
       "        fill_value='?',\n",
       "             dtype=object),\n",
       " 'params': [{'learning_rate': 0.5, 'n_estimators': 100},\n",
       "  {'learning_rate': 0.5, 'n_estimators': 150},\n",
       "  {'learning_rate': 0.5, 'n_estimators': 200},\n",
       "  {'learning_rate': 0.5, 'n_estimators': 300},\n",
       "  {'learning_rate': 0.75, 'n_estimators': 100},\n",
       "  {'learning_rate': 0.75, 'n_estimators': 150},\n",
       "  {'learning_rate': 0.75, 'n_estimators': 200},\n",
       "  {'learning_rate': 0.75, 'n_estimators': 300},\n",
       "  {'learning_rate': 1, 'n_estimators': 100},\n",
       "  {'learning_rate': 1, 'n_estimators': 150},\n",
       "  {'learning_rate': 1, 'n_estimators': 200},\n",
       "  {'learning_rate': 1, 'n_estimators': 300}],\n",
       " 'split0_test_Precision': array([0.98684211, 0.98701299, 0.97435897, 0.97435897, 0.98701299,\n",
       "        0.97435897, 0.97435897, 0.97468354, 0.97435897, 0.97435897,\n",
       "        0.97468354, 0.97468354]),\n",
       " 'split1_test_Precision': array([0.97468354, 0.97530864, 0.97560976, 0.97560976, 0.97530864,\n",
       "        0.97560976, 0.97560976, 0.975     , 0.97560976, 0.97560976,\n",
       "        0.975     , 0.97530864]),\n",
       " 'split2_test_Precision': array([1.        , 1.        , 1.        , 1.        , 1.        ,\n",
       "        1.        , 1.        , 0.98734177, 1.        , 1.        ,\n",
       "        0.98734177, 0.98734177]),\n",
       " 'split3_test_Precision': array([0.98630137, 0.97333333, 0.97368421, 0.97368421, 0.97333333,\n",
       "        0.97333333, 0.97368421, 0.96103896, 0.97368421, 0.97368421,\n",
       "        0.96103896, 0.94936709]),\n",
       " 'split4_test_Precision': array([1., 1., 1., 1., 1., 1., 1., 1., 1., 1., 1., 1.]),\n",
       " 'mean_test_Precision': array([0.9895654 , 0.98713099, 0.98473059, 0.98473059, 0.98713099,\n",
       "        0.98466041, 0.98473059, 0.97961286, 0.98473059, 0.98473059,\n",
       "        0.97961286, 0.97734021]),\n",
       " 'std_test_Precision': array([0.00956349, 0.01150113, 0.01248273, 0.01248273, 0.01150113,\n",
       "        0.01254546, 0.01248273, 0.01316008, 0.01248273, 0.01248273,\n",
       "        0.01316008, 0.01677604]),\n",
       " 'rank_test_Precision': array([ 1,  2,  4,  4,  2,  9,  4, 10,  4,  4, 10, 12]),\n",
       " 'split0_train_Precision': array([1., 1., 1., 1., 1., 1., 1., 1., 1., 1., 1., 1.]),\n",
       " 'split1_train_Precision': array([1., 1., 1., 1., 1., 1., 1., 1., 1., 1., 1., 1.]),\n",
       " 'split2_train_Precision': array([1., 1., 1., 1., 1., 1., 1., 1., 1., 1., 1., 1.]),\n",
       " 'split3_train_Precision': array([1., 1., 1., 1., 1., 1., 1., 1., 1., 1., 1., 1.]),\n",
       " 'split4_train_Precision': array([1., 1., 1., 1., 1., 1., 1., 1., 1., 1., 1., 1.]),\n",
       " 'mean_train_Precision': array([1., 1., 1., 1., 1., 1., 1., 1., 1., 1., 1., 1.]),\n",
       " 'std_train_Precision': array([0., 0., 0., 0., 0., 0., 0., 0., 0., 0., 0., 0.]),\n",
       " 'split0_test_Recall': array([0.92592593, 0.9382716 , 0.9382716 , 0.9382716 , 0.9382716 ,\n",
       "        0.9382716 , 0.9382716 , 0.95061728, 0.9382716 , 0.9382716 ,\n",
       "        0.95061728, 0.95061728]),\n",
       " 'split1_test_Recall': array([0.95061728, 0.97530864, 0.98765432, 0.98765432, 0.97530864,\n",
       "        0.98765432, 0.98765432, 0.96296296, 0.98765432, 0.98765432,\n",
       "        0.96296296, 0.97530864]),\n",
       " 'split2_test_Recall': array([0.92592593, 0.96296296, 0.96296296, 0.96296296, 0.96296296,\n",
       "        0.96296296, 0.96296296, 0.96296296, 0.96296296, 0.96296296,\n",
       "        0.96296296, 0.96296296]),\n",
       " 'split3_test_Recall': array([0.88888889, 0.90123457, 0.91358025, 0.91358025, 0.90123457,\n",
       "        0.90123457, 0.91358025, 0.91358025, 0.91358025, 0.91358025,\n",
       "        0.91358025, 0.92592593]),\n",
       " 'split4_test_Recall': array([0.86419753, 0.88888889, 0.88888889, 0.88888889, 0.88888889,\n",
       "        0.88888889, 0.88888889, 0.88888889, 0.88888889, 0.88888889,\n",
       "        0.88888889, 0.88888889]),\n",
       " 'mean_test_Recall': array([0.91111111, 0.93333333, 0.9382716 , 0.9382716 , 0.93333333,\n",
       "        0.93580247, 0.9382716 , 0.93580247, 0.9382716 , 0.9382716 ,\n",
       "        0.93580247, 0.94074074]),\n",
       " 'std_test_Recall': array([0.03064117, 0.03367452, 0.03491885, 0.03491885, 0.03367452,\n",
       "        0.03695464, 0.03491885, 0.02962963, 0.03491885, 0.03491885,\n",
       "        0.02962963, 0.03064117]),\n",
       " 'rank_test_Recall': array([12, 10,  2,  2, 10,  7,  2,  7,  2,  2,  7,  1]),\n",
       " 'split0_train_Recall': array([0.94753086, 0.97530864, 0.98148148, 0.98765432, 0.97530864,\n",
       "        0.9845679 , 0.98765432, 0.99074074, 0.98148148, 0.98765432,\n",
       "        0.98765432, 1.        ]),\n",
       " 'split1_train_Recall': array([0.95679012, 0.97222222, 0.98148148, 0.98765432, 0.97222222,\n",
       "        0.9845679 , 0.98765432, 0.99074074, 0.98148148, 0.98765432,\n",
       "        0.98765432, 0.99074074]),\n",
       " 'split2_train_Recall': array([0.9537037 , 0.97222222, 0.98148148, 0.98765432, 0.97222222,\n",
       "        0.98148148, 0.98765432, 0.99074074, 0.98148148, 0.98765432,\n",
       "        0.99074074, 1.        ]),\n",
       " 'split3_train_Recall': array([0.95679012, 0.9845679 , 0.98765432, 0.99382716, 0.9845679 ,\n",
       "        0.99382716, 0.99382716, 0.99382716, 0.98765432, 0.99382716,\n",
       "        0.99382716, 1.        ]),\n",
       " 'split4_train_Recall': array([0.96296296, 0.97839506, 0.97839506, 0.97839506, 0.97839506,\n",
       "        0.97839506, 0.97839506, 0.97839506, 0.97839506, 0.97839506,\n",
       "        0.97839506, 0.97839506]),\n",
       " 'mean_train_Recall': array([0.95555556, 0.97654321, 0.98209877, 0.98703704, 0.97654321,\n",
       "        0.9845679 , 0.98703704, 0.98888889, 0.98209877, 0.98703704,\n",
       "        0.98765432, 0.99382716]),\n",
       " 'std_train_Recall': array([0.00501484, 0.00461933, 0.00302406, 0.00493827, 0.00461933,\n",
       "        0.00516457, 0.00493827, 0.00538136, 0.00302406, 0.00493827,\n",
       "        0.00516457, 0.00850867]),\n",
       " 'split0_test_F1Score': array([0.95541401, 0.96202532, 0.95597484, 0.95597484, 0.96202532,\n",
       "        0.95597484, 0.95597484, 0.9625    , 0.95597484, 0.95597484,\n",
       "        0.9625    , 0.9625    ]),\n",
       " 'split1_test_F1Score': array([0.9625    , 0.97530864, 0.98159509, 0.98159509, 0.97530864,\n",
       "        0.98159509, 0.98159509, 0.9689441 , 0.98159509, 0.98159509,\n",
       "        0.9689441 , 0.97530864]),\n",
       " 'split2_test_F1Score': array([0.96153846, 0.98113208, 0.98113208, 0.98113208, 0.98113208,\n",
       "        0.98113208, 0.98113208, 0.975     , 0.98113208, 0.98113208,\n",
       "        0.975     , 0.975     ]),\n",
       " 'split3_test_F1Score': array([0.93506494, 0.93589744, 0.94267516, 0.94267516, 0.93589744,\n",
       "        0.93589744, 0.94267516, 0.93670886, 0.94267516, 0.94267516,\n",
       "        0.93670886, 0.9375    ]),\n",
       " 'split4_test_F1Score': array([0.92715232, 0.94117647, 0.94117647, 0.94117647, 0.94117647,\n",
       "        0.94117647, 0.94117647, 0.94117647, 0.94117647, 0.94117647,\n",
       "        0.94117647, 0.94117647]),\n",
       " 'mean_test_F1Score': array([0.94833395, 0.95910799, 0.96051073, 0.96051073, 0.95910799,\n",
       "        0.95915518, 0.96051073, 0.95686589, 0.96051073, 0.96051073,\n",
       "        0.95686589, 0.95829702]),\n",
       " 'std_test_F1Score': array([0.01449063, 0.01797944, 0.01778924, 0.01778924, 0.01797944,\n",
       "        0.01929147, 0.01778924, 0.01522456, 0.01778924, 0.01778924,\n",
       "        0.01522456, 0.01619678]),\n",
       " 'rank_test_F1Score': array([12,  7,  1,  1,  7,  6,  1, 10,  1,  1, 10,  9]),\n",
       " 'split0_train_F1Score': array([0.97305864, 0.9875    , 0.99065421, 0.99378882, 0.9875    ,\n",
       "        0.99222395, 0.99378882, 0.99534884, 0.99065421, 0.99378882,\n",
       "        0.99378882, 1.        ]),\n",
       " 'split1_train_F1Score': array([0.97791798, 0.98591549, 0.99065421, 0.99378882, 0.98591549,\n",
       "        0.99222395, 0.99378882, 0.99534884, 0.99065421, 0.99378882,\n",
       "        0.99378882, 0.99534884]),\n",
       " 'split2_train_F1Score': array([0.97630332, 0.98591549, 0.99065421, 0.99378882, 0.98591549,\n",
       "        0.99065421, 0.99378882, 0.99534884, 0.99065421, 0.99378882,\n",
       "        0.99534884, 1.        ]),\n",
       " 'split3_train_F1Score': array([0.97791798, 0.99222395, 0.99378882, 0.99690402, 0.99222395,\n",
       "        0.99690402, 0.99690402, 0.99690402, 0.99378882, 0.99690402,\n",
       "        0.99690402, 1.        ]),\n",
       " 'split4_train_F1Score': array([0.98113208, 0.98907956, 0.98907956, 0.98907956, 0.98907956,\n",
       "        0.98907956, 0.98907956, 0.98907956, 0.98907956, 0.98907956,\n",
       "        0.98907956, 0.98907956]),\n",
       " 'mean_train_F1Score': array([0.977266  , 0.9881269 , 0.9909662 , 0.99347001, 0.9881269 ,\n",
       "        0.99221714, 0.99347001, 0.99440602, 0.9909662 , 0.99347001,\n",
       "        0.99378201, 0.99688568]),\n",
       " 'std_train_F1Score': array([0.00262394, 0.00236081, 0.00153744, 0.00250493, 0.00236081,\n",
       "        0.00261741, 0.00250493, 0.00273049, 0.00153744, 0.00250493,\n",
       "        0.00261973, 0.0042987 ])}"
      ]
     },
     "metadata": {},
     "execution_count": 92
    }
   ],
   "source": [
    "grid_ada_boost.cv_results_"
   ]
  },
  {
   "cell_type": "code",
   "execution_count": 93,
   "metadata": {},
   "outputs": [
    {
     "output_type": "execute_result",
     "data": {
      "text/plain": [
       "['n_estim : 100 learning_rate:0.5',\n",
       " 'n_estim : 150 learning_rate:0.5',\n",
       " 'n_estim : 200 learning_rate:0.5',\n",
       " 'n_estim : 300 learning_rate:0.5',\n",
       " 'n_estim : 100 learning_rate:0.75',\n",
       " 'n_estim : 150 learning_rate:0.75',\n",
       " 'n_estim : 200 learning_rate:0.75',\n",
       " 'n_estim : 300 learning_rate:0.75',\n",
       " 'n_estim : 100 learning_rate:1',\n",
       " 'n_estim : 150 learning_rate:1',\n",
       " 'n_estim : 200 learning_rate:1',\n",
       " 'n_estim : 300 learning_rate:1']"
      ]
     },
     "metadata": {},
     "execution_count": 93
    }
   ],
   "source": [
    "params_set_ada = grid_ada_boost.cv_results_[\"params\"]\n",
    "x_label_list_ada = ['n_estim : ' + str(params_set_ada[idx]['n_estimators']) + ' learning_rate:' + str(params_set_ada[idx]['learning_rate']) for idx in range(len(params_set_ada))]\n",
    "x_label_list_ada"
   ]
  },
  {
   "cell_type": "code",
   "execution_count": 94,
   "metadata": {},
   "outputs": [
    {
     "output_type": "stream",
     "name": "stderr",
     "text": [
      "<ipython-input-94-3bfe4d52c137>:7: UserWarning: FixedFormatter should only be used together with FixedLocator\n  ax_ada.set_xticklabels(x_label_list_ada, rotation = 45)\n"
     ]
    },
    {
     "output_type": "execute_result",
     "data": {
      "text/plain": [
       "<matplotlib.legend.Legend at 0x1d7da186940>"
      ]
     },
     "metadata": {},
     "execution_count": 94
    },
    {
     "output_type": "display_data",
     "data": {
      "text/plain": "<Figure size 504x504 with 1 Axes>",
      "image/svg+xml": "<?xml version=\"1.0\" encoding=\"utf-8\" standalone=\"no\"?>\r\n<!DOCTYPE svg PUBLIC \"-//W3C//DTD SVG 1.1//EN\"\r\n  \"http://www.w3.org/Graphics/SVG/1.1/DTD/svg11.dtd\">\r\n<!-- Created with matplotlib (https://matplotlib.org/) -->\r\n<svg height=\"537.807169pt\" version=\"1.1\" viewBox=\"0 0 485.671123 537.807169\" width=\"485.671123pt\" xmlns=\"http://www.w3.org/2000/svg\" xmlns:xlink=\"http://www.w3.org/1999/xlink\">\r\n <metadata>\r\n  <rdf:RDF xmlns:cc=\"http://creativecommons.org/ns#\" xmlns:dc=\"http://purl.org/dc/elements/1.1/\" xmlns:rdf=\"http://www.w3.org/1999/02/22-rdf-syntax-ns#\">\r\n   <cc:Work>\r\n    <dc:type rdf:resource=\"http://purl.org/dc/dcmitype/StillImage\"/>\r\n    <dc:date>2021-06-13T22:17:44.729134</dc:date>\r\n    <dc:format>image/svg+xml</dc:format>\r\n    <dc:creator>\r\n     <cc:Agent>\r\n      <dc:title>Matplotlib v3.3.4, https://matplotlib.org/</dc:title>\r\n     </cc:Agent>\r\n    </dc:creator>\r\n   </cc:Work>\r\n  </rdf:RDF>\r\n </metadata>\r\n <defs>\r\n  <style type=\"text/css\">*{stroke-linecap:butt;stroke-linejoin:round;}</style>\r\n </defs>\r\n <g id=\"figure_1\">\r\n  <g id=\"patch_1\">\r\n   <path d=\"M 0 537.807169 \r\nL 485.671123 537.807169 \r\nL 485.671123 0 \r\nL 0 0 \r\nz\r\n\" style=\"fill:none;\"/>\r\n  </g>\r\n  <g id=\"axes_1\">\r\n   <g id=\"patch_2\">\r\n    <path d=\"M 50.14375 387.72 \r\nL 440.74375 387.72 \r\nL 440.74375 7.2 \r\nL 50.14375 7.2 \r\nz\r\n\" style=\"fill:#ffffff;\"/>\r\n   </g>\r\n   <g id=\"matplotlib.axis_1\">\r\n    <g id=\"xtick_1\">\r\n     <g id=\"line2d_1\">\r\n      <defs>\r\n       <path d=\"M 0 0 \r\nL 0 3.5 \r\n\" id=\"m80348dc09b\" style=\"stroke:#000000;stroke-width:0.8;\"/>\r\n      </defs>\r\n      <g>\r\n       <use style=\"stroke:#000000;stroke-width:0.8;\" x=\"67.898295\" xlink:href=\"#m80348dc09b\" y=\"387.72\"/>\r\n      </g>\r\n     </g>\r\n     <g id=\"text_1\">\r\n      <!-- n_estim : 100 learning_rate:0.5 -->\r\n      <g transform=\"translate(14.416164 510.762852)rotate(-45)scale(0.1 -0.1)\">\r\n       <defs>\r\n        <path d=\"M 54.890625 33.015625 \r\nL 54.890625 0 \r\nL 45.90625 0 \r\nL 45.90625 32.71875 \r\nQ 45.90625 40.484375 42.875 44.328125 \r\nQ 39.84375 48.1875 33.796875 48.1875 \r\nQ 26.515625 48.1875 22.3125 43.546875 \r\nQ 18.109375 38.921875 18.109375 30.90625 \r\nL 18.109375 0 \r\nL 9.078125 0 \r\nL 9.078125 54.6875 \r\nL 18.109375 54.6875 \r\nL 18.109375 46.1875 \r\nQ 21.34375 51.125 25.703125 53.5625 \r\nQ 30.078125 56 35.796875 56 \r\nQ 45.21875 56 50.046875 50.171875 \r\nQ 54.890625 44.34375 54.890625 33.015625 \r\nz\r\n\" id=\"DejaVuSans-110\"/>\r\n        <path d=\"M 50.984375 -16.609375 \r\nL 50.984375 -23.578125 \r\nL -0.984375 -23.578125 \r\nL -0.984375 -16.609375 \r\nz\r\n\" id=\"DejaVuSans-95\"/>\r\n        <path d=\"M 56.203125 29.59375 \r\nL 56.203125 25.203125 \r\nL 14.890625 25.203125 \r\nQ 15.484375 15.921875 20.484375 11.0625 \r\nQ 25.484375 6.203125 34.421875 6.203125 \r\nQ 39.59375 6.203125 44.453125 7.46875 \r\nQ 49.3125 8.734375 54.109375 11.28125 \r\nL 54.109375 2.78125 \r\nQ 49.265625 0.734375 44.1875 -0.34375 \r\nQ 39.109375 -1.421875 33.890625 -1.421875 \r\nQ 20.796875 -1.421875 13.15625 6.1875 \r\nQ 5.515625 13.8125 5.515625 26.8125 \r\nQ 5.515625 40.234375 12.765625 48.109375 \r\nQ 20.015625 56 32.328125 56 \r\nQ 43.359375 56 49.78125 48.890625 \r\nQ 56.203125 41.796875 56.203125 29.59375 \r\nz\r\nM 47.21875 32.234375 \r\nQ 47.125 39.59375 43.09375 43.984375 \r\nQ 39.0625 48.390625 32.421875 48.390625 \r\nQ 24.90625 48.390625 20.390625 44.140625 \r\nQ 15.875 39.890625 15.1875 32.171875 \r\nz\r\n\" id=\"DejaVuSans-101\"/>\r\n        <path d=\"M 44.28125 53.078125 \r\nL 44.28125 44.578125 \r\nQ 40.484375 46.53125 36.375 47.5 \r\nQ 32.28125 48.484375 27.875 48.484375 \r\nQ 21.1875 48.484375 17.84375 46.4375 \r\nQ 14.5 44.390625 14.5 40.28125 \r\nQ 14.5 37.15625 16.890625 35.375 \r\nQ 19.28125 33.59375 26.515625 31.984375 \r\nL 29.59375 31.296875 \r\nQ 39.15625 29.25 43.1875 25.515625 \r\nQ 47.21875 21.78125 47.21875 15.09375 \r\nQ 47.21875 7.46875 41.1875 3.015625 \r\nQ 35.15625 -1.421875 24.609375 -1.421875 \r\nQ 20.21875 -1.421875 15.453125 -0.5625 \r\nQ 10.6875 0.296875 5.421875 2 \r\nL 5.421875 11.28125 \r\nQ 10.40625 8.6875 15.234375 7.390625 \r\nQ 20.0625 6.109375 24.8125 6.109375 \r\nQ 31.15625 6.109375 34.5625 8.28125 \r\nQ 37.984375 10.453125 37.984375 14.40625 \r\nQ 37.984375 18.0625 35.515625 20.015625 \r\nQ 33.0625 21.96875 24.703125 23.78125 \r\nL 21.578125 24.515625 \r\nQ 13.234375 26.265625 9.515625 29.90625 \r\nQ 5.8125 33.546875 5.8125 39.890625 \r\nQ 5.8125 47.609375 11.28125 51.796875 \r\nQ 16.75 56 26.8125 56 \r\nQ 31.78125 56 36.171875 55.265625 \r\nQ 40.578125 54.546875 44.28125 53.078125 \r\nz\r\n\" id=\"DejaVuSans-115\"/>\r\n        <path d=\"M 18.3125 70.21875 \r\nL 18.3125 54.6875 \r\nL 36.8125 54.6875 \r\nL 36.8125 47.703125 \r\nL 18.3125 47.703125 \r\nL 18.3125 18.015625 \r\nQ 18.3125 11.328125 20.140625 9.421875 \r\nQ 21.96875 7.515625 27.59375 7.515625 \r\nL 36.8125 7.515625 \r\nL 36.8125 0 \r\nL 27.59375 0 \r\nQ 17.1875 0 13.234375 3.875 \r\nQ 9.28125 7.765625 9.28125 18.015625 \r\nL 9.28125 47.703125 \r\nL 2.6875 47.703125 \r\nL 2.6875 54.6875 \r\nL 9.28125 54.6875 \r\nL 9.28125 70.21875 \r\nz\r\n\" id=\"DejaVuSans-116\"/>\r\n        <path d=\"M 9.421875 54.6875 \r\nL 18.40625 54.6875 \r\nL 18.40625 0 \r\nL 9.421875 0 \r\nz\r\nM 9.421875 75.984375 \r\nL 18.40625 75.984375 \r\nL 18.40625 64.59375 \r\nL 9.421875 64.59375 \r\nz\r\n\" id=\"DejaVuSans-105\"/>\r\n        <path d=\"M 52 44.1875 \r\nQ 55.375 50.25 60.0625 53.125 \r\nQ 64.75 56 71.09375 56 \r\nQ 79.640625 56 84.28125 50.015625 \r\nQ 88.921875 44.046875 88.921875 33.015625 \r\nL 88.921875 0 \r\nL 79.890625 0 \r\nL 79.890625 32.71875 \r\nQ 79.890625 40.578125 77.09375 44.375 \r\nQ 74.3125 48.1875 68.609375 48.1875 \r\nQ 61.625 48.1875 57.5625 43.546875 \r\nQ 53.515625 38.921875 53.515625 30.90625 \r\nL 53.515625 0 \r\nL 44.484375 0 \r\nL 44.484375 32.71875 \r\nQ 44.484375 40.625 41.703125 44.40625 \r\nQ 38.921875 48.1875 33.109375 48.1875 \r\nQ 26.21875 48.1875 22.15625 43.53125 \r\nQ 18.109375 38.875 18.109375 30.90625 \r\nL 18.109375 0 \r\nL 9.078125 0 \r\nL 9.078125 54.6875 \r\nL 18.109375 54.6875 \r\nL 18.109375 46.1875 \r\nQ 21.1875 51.21875 25.484375 53.609375 \r\nQ 29.78125 56 35.6875 56 \r\nQ 41.65625 56 45.828125 52.96875 \r\nQ 50 49.953125 52 44.1875 \r\nz\r\n\" id=\"DejaVuSans-109\"/>\r\n        <path id=\"DejaVuSans-32\"/>\r\n        <path d=\"M 11.71875 12.40625 \r\nL 22.015625 12.40625 \r\nL 22.015625 0 \r\nL 11.71875 0 \r\nz\r\nM 11.71875 51.703125 \r\nL 22.015625 51.703125 \r\nL 22.015625 39.3125 \r\nL 11.71875 39.3125 \r\nz\r\n\" id=\"DejaVuSans-58\"/>\r\n        <path d=\"M 12.40625 8.296875 \r\nL 28.515625 8.296875 \r\nL 28.515625 63.921875 \r\nL 10.984375 60.40625 \r\nL 10.984375 69.390625 \r\nL 28.421875 72.90625 \r\nL 38.28125 72.90625 \r\nL 38.28125 8.296875 \r\nL 54.390625 8.296875 \r\nL 54.390625 0 \r\nL 12.40625 0 \r\nz\r\n\" id=\"DejaVuSans-49\"/>\r\n        <path d=\"M 31.78125 66.40625 \r\nQ 24.171875 66.40625 20.328125 58.90625 \r\nQ 16.5 51.421875 16.5 36.375 \r\nQ 16.5 21.390625 20.328125 13.890625 \r\nQ 24.171875 6.390625 31.78125 6.390625 \r\nQ 39.453125 6.390625 43.28125 13.890625 \r\nQ 47.125 21.390625 47.125 36.375 \r\nQ 47.125 51.421875 43.28125 58.90625 \r\nQ 39.453125 66.40625 31.78125 66.40625 \r\nz\r\nM 31.78125 74.21875 \r\nQ 44.046875 74.21875 50.515625 64.515625 \r\nQ 56.984375 54.828125 56.984375 36.375 \r\nQ 56.984375 17.96875 50.515625 8.265625 \r\nQ 44.046875 -1.421875 31.78125 -1.421875 \r\nQ 19.53125 -1.421875 13.0625 8.265625 \r\nQ 6.59375 17.96875 6.59375 36.375 \r\nQ 6.59375 54.828125 13.0625 64.515625 \r\nQ 19.53125 74.21875 31.78125 74.21875 \r\nz\r\n\" id=\"DejaVuSans-48\"/>\r\n        <path d=\"M 9.421875 75.984375 \r\nL 18.40625 75.984375 \r\nL 18.40625 0 \r\nL 9.421875 0 \r\nz\r\n\" id=\"DejaVuSans-108\"/>\r\n        <path d=\"M 34.28125 27.484375 \r\nQ 23.390625 27.484375 19.1875 25 \r\nQ 14.984375 22.515625 14.984375 16.5 \r\nQ 14.984375 11.71875 18.140625 8.90625 \r\nQ 21.296875 6.109375 26.703125 6.109375 \r\nQ 34.1875 6.109375 38.703125 11.40625 \r\nQ 43.21875 16.703125 43.21875 25.484375 \r\nL 43.21875 27.484375 \r\nz\r\nM 52.203125 31.203125 \r\nL 52.203125 0 \r\nL 43.21875 0 \r\nL 43.21875 8.296875 \r\nQ 40.140625 3.328125 35.546875 0.953125 \r\nQ 30.953125 -1.421875 24.3125 -1.421875 \r\nQ 15.921875 -1.421875 10.953125 3.296875 \r\nQ 6 8.015625 6 15.921875 \r\nQ 6 25.140625 12.171875 29.828125 \r\nQ 18.359375 34.515625 30.609375 34.515625 \r\nL 43.21875 34.515625 \r\nL 43.21875 35.40625 \r\nQ 43.21875 41.609375 39.140625 45 \r\nQ 35.0625 48.390625 27.6875 48.390625 \r\nQ 23 48.390625 18.546875 47.265625 \r\nQ 14.109375 46.140625 10.015625 43.890625 \r\nL 10.015625 52.203125 \r\nQ 14.9375 54.109375 19.578125 55.046875 \r\nQ 24.21875 56 28.609375 56 \r\nQ 40.484375 56 46.34375 49.84375 \r\nQ 52.203125 43.703125 52.203125 31.203125 \r\nz\r\n\" id=\"DejaVuSans-97\"/>\r\n        <path d=\"M 41.109375 46.296875 \r\nQ 39.59375 47.171875 37.8125 47.578125 \r\nQ 36.03125 48 33.890625 48 \r\nQ 26.265625 48 22.1875 43.046875 \r\nQ 18.109375 38.09375 18.109375 28.8125 \r\nL 18.109375 0 \r\nL 9.078125 0 \r\nL 9.078125 54.6875 \r\nL 18.109375 54.6875 \r\nL 18.109375 46.1875 \r\nQ 20.953125 51.171875 25.484375 53.578125 \r\nQ 30.03125 56 36.53125 56 \r\nQ 37.453125 56 38.578125 55.875 \r\nQ 39.703125 55.765625 41.0625 55.515625 \r\nz\r\n\" id=\"DejaVuSans-114\"/>\r\n        <path d=\"M 45.40625 27.984375 \r\nQ 45.40625 37.75 41.375 43.109375 \r\nQ 37.359375 48.484375 30.078125 48.484375 \r\nQ 22.859375 48.484375 18.828125 43.109375 \r\nQ 14.796875 37.75 14.796875 27.984375 \r\nQ 14.796875 18.265625 18.828125 12.890625 \r\nQ 22.859375 7.515625 30.078125 7.515625 \r\nQ 37.359375 7.515625 41.375 12.890625 \r\nQ 45.40625 18.265625 45.40625 27.984375 \r\nz\r\nM 54.390625 6.78125 \r\nQ 54.390625 -7.171875 48.1875 -13.984375 \r\nQ 42 -20.796875 29.203125 -20.796875 \r\nQ 24.46875 -20.796875 20.265625 -20.09375 \r\nQ 16.0625 -19.390625 12.109375 -17.921875 \r\nL 12.109375 -9.1875 \r\nQ 16.0625 -11.328125 19.921875 -12.34375 \r\nQ 23.78125 -13.375 27.78125 -13.375 \r\nQ 36.625 -13.375 41.015625 -8.765625 \r\nQ 45.40625 -4.15625 45.40625 5.171875 \r\nL 45.40625 9.625 \r\nQ 42.625 4.78125 38.28125 2.390625 \r\nQ 33.9375 0 27.875 0 \r\nQ 17.828125 0 11.671875 7.65625 \r\nQ 5.515625 15.328125 5.515625 27.984375 \r\nQ 5.515625 40.671875 11.671875 48.328125 \r\nQ 17.828125 56 27.875 56 \r\nQ 33.9375 56 38.28125 53.609375 \r\nQ 42.625 51.21875 45.40625 46.390625 \r\nL 45.40625 54.6875 \r\nL 54.390625 54.6875 \r\nz\r\n\" id=\"DejaVuSans-103\"/>\r\n        <path d=\"M 10.6875 12.40625 \r\nL 21 12.40625 \r\nL 21 0 \r\nL 10.6875 0 \r\nz\r\n\" id=\"DejaVuSans-46\"/>\r\n        <path d=\"M 10.796875 72.90625 \r\nL 49.515625 72.90625 \r\nL 49.515625 64.59375 \r\nL 19.828125 64.59375 \r\nL 19.828125 46.734375 \r\nQ 21.96875 47.46875 24.109375 47.828125 \r\nQ 26.265625 48.1875 28.421875 48.1875 \r\nQ 40.625 48.1875 47.75 41.5 \r\nQ 54.890625 34.8125 54.890625 23.390625 \r\nQ 54.890625 11.625 47.5625 5.09375 \r\nQ 40.234375 -1.421875 26.90625 -1.421875 \r\nQ 22.3125 -1.421875 17.546875 -0.640625 \r\nQ 12.796875 0.140625 7.71875 1.703125 \r\nL 7.71875 11.625 \r\nQ 12.109375 9.234375 16.796875 8.0625 \r\nQ 21.484375 6.890625 26.703125 6.890625 \r\nQ 35.15625 6.890625 40.078125 11.328125 \r\nQ 45.015625 15.765625 45.015625 23.390625 \r\nQ 45.015625 31 40.078125 35.4375 \r\nQ 35.15625 39.890625 26.703125 39.890625 \r\nQ 22.75 39.890625 18.8125 39.015625 \r\nQ 14.890625 38.140625 10.796875 36.28125 \r\nz\r\n\" id=\"DejaVuSans-53\"/>\r\n       </defs>\r\n       <use xlink:href=\"#DejaVuSans-110\"/>\r\n       <use x=\"63.378906\" xlink:href=\"#DejaVuSans-95\"/>\r\n       <use x=\"113.378906\" xlink:href=\"#DejaVuSans-101\"/>\r\n       <use x=\"174.902344\" xlink:href=\"#DejaVuSans-115\"/>\r\n       <use x=\"227.001953\" xlink:href=\"#DejaVuSans-116\"/>\r\n       <use x=\"266.210938\" xlink:href=\"#DejaVuSans-105\"/>\r\n       <use x=\"293.994141\" xlink:href=\"#DejaVuSans-109\"/>\r\n       <use x=\"391.40625\" xlink:href=\"#DejaVuSans-32\"/>\r\n       <use x=\"423.193359\" xlink:href=\"#DejaVuSans-58\"/>\r\n       <use x=\"456.884766\" xlink:href=\"#DejaVuSans-32\"/>\r\n       <use x=\"488.671875\" xlink:href=\"#DejaVuSans-49\"/>\r\n       <use x=\"552.294922\" xlink:href=\"#DejaVuSans-48\"/>\r\n       <use x=\"615.917969\" xlink:href=\"#DejaVuSans-48\"/>\r\n       <use x=\"679.541016\" xlink:href=\"#DejaVuSans-32\"/>\r\n       <use x=\"711.328125\" xlink:href=\"#DejaVuSans-108\"/>\r\n       <use x=\"739.111328\" xlink:href=\"#DejaVuSans-101\"/>\r\n       <use x=\"800.634766\" xlink:href=\"#DejaVuSans-97\"/>\r\n       <use x=\"861.914062\" xlink:href=\"#DejaVuSans-114\"/>\r\n       <use x=\"901.277344\" xlink:href=\"#DejaVuSans-110\"/>\r\n       <use x=\"964.65625\" xlink:href=\"#DejaVuSans-105\"/>\r\n       <use x=\"992.439453\" xlink:href=\"#DejaVuSans-110\"/>\r\n       <use x=\"1055.818359\" xlink:href=\"#DejaVuSans-103\"/>\r\n       <use x=\"1119.294922\" xlink:href=\"#DejaVuSans-95\"/>\r\n       <use x=\"1169.294922\" xlink:href=\"#DejaVuSans-114\"/>\r\n       <use x=\"1210.408203\" xlink:href=\"#DejaVuSans-97\"/>\r\n       <use x=\"1271.6875\" xlink:href=\"#DejaVuSans-116\"/>\r\n       <use x=\"1310.896484\" xlink:href=\"#DejaVuSans-101\"/>\r\n       <use x=\"1372.419922\" xlink:href=\"#DejaVuSans-58\"/>\r\n       <use x=\"1406.111328\" xlink:href=\"#DejaVuSans-48\"/>\r\n       <use x=\"1469.734375\" xlink:href=\"#DejaVuSans-46\"/>\r\n       <use x=\"1501.521484\" xlink:href=\"#DejaVuSans-53\"/>\r\n      </g>\r\n     </g>\r\n    </g>\r\n    <g id=\"xtick_2\">\r\n     <g id=\"line2d_2\">\r\n      <g>\r\n       <use style=\"stroke:#000000;stroke-width:0.8;\" x=\"100.179287\" xlink:href=\"#m80348dc09b\" y=\"387.72\"/>\r\n      </g>\r\n     </g>\r\n     <g id=\"text_2\">\r\n      <!-- n_estim : 150 learning_rate:0.5 -->\r\n      <g transform=\"translate(46.697155 510.762852)rotate(-45)scale(0.1 -0.1)\">\r\n       <use xlink:href=\"#DejaVuSans-110\"/>\r\n       <use x=\"63.378906\" xlink:href=\"#DejaVuSans-95\"/>\r\n       <use x=\"113.378906\" xlink:href=\"#DejaVuSans-101\"/>\r\n       <use x=\"174.902344\" xlink:href=\"#DejaVuSans-115\"/>\r\n       <use x=\"227.001953\" xlink:href=\"#DejaVuSans-116\"/>\r\n       <use x=\"266.210938\" xlink:href=\"#DejaVuSans-105\"/>\r\n       <use x=\"293.994141\" xlink:href=\"#DejaVuSans-109\"/>\r\n       <use x=\"391.40625\" xlink:href=\"#DejaVuSans-32\"/>\r\n       <use x=\"423.193359\" xlink:href=\"#DejaVuSans-58\"/>\r\n       <use x=\"456.884766\" xlink:href=\"#DejaVuSans-32\"/>\r\n       <use x=\"488.671875\" xlink:href=\"#DejaVuSans-49\"/>\r\n       <use x=\"552.294922\" xlink:href=\"#DejaVuSans-53\"/>\r\n       <use x=\"615.917969\" xlink:href=\"#DejaVuSans-48\"/>\r\n       <use x=\"679.541016\" xlink:href=\"#DejaVuSans-32\"/>\r\n       <use x=\"711.328125\" xlink:href=\"#DejaVuSans-108\"/>\r\n       <use x=\"739.111328\" xlink:href=\"#DejaVuSans-101\"/>\r\n       <use x=\"800.634766\" xlink:href=\"#DejaVuSans-97\"/>\r\n       <use x=\"861.914062\" xlink:href=\"#DejaVuSans-114\"/>\r\n       <use x=\"901.277344\" xlink:href=\"#DejaVuSans-110\"/>\r\n       <use x=\"964.65625\" xlink:href=\"#DejaVuSans-105\"/>\r\n       <use x=\"992.439453\" xlink:href=\"#DejaVuSans-110\"/>\r\n       <use x=\"1055.818359\" xlink:href=\"#DejaVuSans-103\"/>\r\n       <use x=\"1119.294922\" xlink:href=\"#DejaVuSans-95\"/>\r\n       <use x=\"1169.294922\" xlink:href=\"#DejaVuSans-114\"/>\r\n       <use x=\"1210.408203\" xlink:href=\"#DejaVuSans-97\"/>\r\n       <use x=\"1271.6875\" xlink:href=\"#DejaVuSans-116\"/>\r\n       <use x=\"1310.896484\" xlink:href=\"#DejaVuSans-101\"/>\r\n       <use x=\"1372.419922\" xlink:href=\"#DejaVuSans-58\"/>\r\n       <use x=\"1406.111328\" xlink:href=\"#DejaVuSans-48\"/>\r\n       <use x=\"1469.734375\" xlink:href=\"#DejaVuSans-46\"/>\r\n       <use x=\"1501.521484\" xlink:href=\"#DejaVuSans-53\"/>\r\n      </g>\r\n     </g>\r\n    </g>\r\n    <g id=\"xtick_3\">\r\n     <g id=\"line2d_3\">\r\n      <g>\r\n       <use style=\"stroke:#000000;stroke-width:0.8;\" x=\"132.460279\" xlink:href=\"#m80348dc09b\" y=\"387.72\"/>\r\n      </g>\r\n     </g>\r\n     <g id=\"text_3\">\r\n      <!-- n_estim : 200 learning_rate:0.5 -->\r\n      <g transform=\"translate(78.978147 510.762852)rotate(-45)scale(0.1 -0.1)\">\r\n       <defs>\r\n        <path d=\"M 19.1875 8.296875 \r\nL 53.609375 8.296875 \r\nL 53.609375 0 \r\nL 7.328125 0 \r\nL 7.328125 8.296875 \r\nQ 12.9375 14.109375 22.625 23.890625 \r\nQ 32.328125 33.6875 34.8125 36.53125 \r\nQ 39.546875 41.84375 41.421875 45.53125 \r\nQ 43.3125 49.21875 43.3125 52.78125 \r\nQ 43.3125 58.59375 39.234375 62.25 \r\nQ 35.15625 65.921875 28.609375 65.921875 \r\nQ 23.96875 65.921875 18.8125 64.3125 \r\nQ 13.671875 62.703125 7.8125 59.421875 \r\nL 7.8125 69.390625 \r\nQ 13.765625 71.78125 18.9375 73 \r\nQ 24.125 74.21875 28.421875 74.21875 \r\nQ 39.75 74.21875 46.484375 68.546875 \r\nQ 53.21875 62.890625 53.21875 53.421875 \r\nQ 53.21875 48.921875 51.53125 44.890625 \r\nQ 49.859375 40.875 45.40625 35.40625 \r\nQ 44.1875 33.984375 37.640625 27.21875 \r\nQ 31.109375 20.453125 19.1875 8.296875 \r\nz\r\n\" id=\"DejaVuSans-50\"/>\r\n       </defs>\r\n       <use xlink:href=\"#DejaVuSans-110\"/>\r\n       <use x=\"63.378906\" xlink:href=\"#DejaVuSans-95\"/>\r\n       <use x=\"113.378906\" xlink:href=\"#DejaVuSans-101\"/>\r\n       <use x=\"174.902344\" xlink:href=\"#DejaVuSans-115\"/>\r\n       <use x=\"227.001953\" xlink:href=\"#DejaVuSans-116\"/>\r\n       <use x=\"266.210938\" xlink:href=\"#DejaVuSans-105\"/>\r\n       <use x=\"293.994141\" xlink:href=\"#DejaVuSans-109\"/>\r\n       <use x=\"391.40625\" xlink:href=\"#DejaVuSans-32\"/>\r\n       <use x=\"423.193359\" xlink:href=\"#DejaVuSans-58\"/>\r\n       <use x=\"456.884766\" xlink:href=\"#DejaVuSans-32\"/>\r\n       <use x=\"488.671875\" xlink:href=\"#DejaVuSans-50\"/>\r\n       <use x=\"552.294922\" xlink:href=\"#DejaVuSans-48\"/>\r\n       <use x=\"615.917969\" xlink:href=\"#DejaVuSans-48\"/>\r\n       <use x=\"679.541016\" xlink:href=\"#DejaVuSans-32\"/>\r\n       <use x=\"711.328125\" xlink:href=\"#DejaVuSans-108\"/>\r\n       <use x=\"739.111328\" xlink:href=\"#DejaVuSans-101\"/>\r\n       <use x=\"800.634766\" xlink:href=\"#DejaVuSans-97\"/>\r\n       <use x=\"861.914062\" xlink:href=\"#DejaVuSans-114\"/>\r\n       <use x=\"901.277344\" xlink:href=\"#DejaVuSans-110\"/>\r\n       <use x=\"964.65625\" xlink:href=\"#DejaVuSans-105\"/>\r\n       <use x=\"992.439453\" xlink:href=\"#DejaVuSans-110\"/>\r\n       <use x=\"1055.818359\" xlink:href=\"#DejaVuSans-103\"/>\r\n       <use x=\"1119.294922\" xlink:href=\"#DejaVuSans-95\"/>\r\n       <use x=\"1169.294922\" xlink:href=\"#DejaVuSans-114\"/>\r\n       <use x=\"1210.408203\" xlink:href=\"#DejaVuSans-97\"/>\r\n       <use x=\"1271.6875\" xlink:href=\"#DejaVuSans-116\"/>\r\n       <use x=\"1310.896484\" xlink:href=\"#DejaVuSans-101\"/>\r\n       <use x=\"1372.419922\" xlink:href=\"#DejaVuSans-58\"/>\r\n       <use x=\"1406.111328\" xlink:href=\"#DejaVuSans-48\"/>\r\n       <use x=\"1469.734375\" xlink:href=\"#DejaVuSans-46\"/>\r\n       <use x=\"1501.521484\" xlink:href=\"#DejaVuSans-53\"/>\r\n      </g>\r\n     </g>\r\n    </g>\r\n    <g id=\"xtick_4\">\r\n     <g id=\"line2d_4\">\r\n      <g>\r\n       <use style=\"stroke:#000000;stroke-width:0.8;\" x=\"164.741271\" xlink:href=\"#m80348dc09b\" y=\"387.72\"/>\r\n      </g>\r\n     </g>\r\n     <g id=\"text_4\">\r\n      <!-- n_estim : 300 learning_rate:0.5 -->\r\n      <g transform=\"translate(111.259139 510.762852)rotate(-45)scale(0.1 -0.1)\">\r\n       <defs>\r\n        <path d=\"M 40.578125 39.3125 \r\nQ 47.65625 37.796875 51.625 33 \r\nQ 55.609375 28.21875 55.609375 21.1875 \r\nQ 55.609375 10.40625 48.1875 4.484375 \r\nQ 40.765625 -1.421875 27.09375 -1.421875 \r\nQ 22.515625 -1.421875 17.65625 -0.515625 \r\nQ 12.796875 0.390625 7.625 2.203125 \r\nL 7.625 11.71875 \r\nQ 11.71875 9.328125 16.59375 8.109375 \r\nQ 21.484375 6.890625 26.8125 6.890625 \r\nQ 36.078125 6.890625 40.9375 10.546875 \r\nQ 45.796875 14.203125 45.796875 21.1875 \r\nQ 45.796875 27.640625 41.28125 31.265625 \r\nQ 36.765625 34.90625 28.71875 34.90625 \r\nL 20.21875 34.90625 \r\nL 20.21875 43.015625 \r\nL 29.109375 43.015625 \r\nQ 36.375 43.015625 40.234375 45.921875 \r\nQ 44.09375 48.828125 44.09375 54.296875 \r\nQ 44.09375 59.90625 40.109375 62.90625 \r\nQ 36.140625 65.921875 28.71875 65.921875 \r\nQ 24.65625 65.921875 20.015625 65.03125 \r\nQ 15.375 64.15625 9.8125 62.3125 \r\nL 9.8125 71.09375 \r\nQ 15.4375 72.65625 20.34375 73.4375 \r\nQ 25.25 74.21875 29.59375 74.21875 \r\nQ 40.828125 74.21875 47.359375 69.109375 \r\nQ 53.90625 64.015625 53.90625 55.328125 \r\nQ 53.90625 49.265625 50.4375 45.09375 \r\nQ 46.96875 40.921875 40.578125 39.3125 \r\nz\r\n\" id=\"DejaVuSans-51\"/>\r\n       </defs>\r\n       <use xlink:href=\"#DejaVuSans-110\"/>\r\n       <use x=\"63.378906\" xlink:href=\"#DejaVuSans-95\"/>\r\n       <use x=\"113.378906\" xlink:href=\"#DejaVuSans-101\"/>\r\n       <use x=\"174.902344\" xlink:href=\"#DejaVuSans-115\"/>\r\n       <use x=\"227.001953\" xlink:href=\"#DejaVuSans-116\"/>\r\n       <use x=\"266.210938\" xlink:href=\"#DejaVuSans-105\"/>\r\n       <use x=\"293.994141\" xlink:href=\"#DejaVuSans-109\"/>\r\n       <use x=\"391.40625\" xlink:href=\"#DejaVuSans-32\"/>\r\n       <use x=\"423.193359\" xlink:href=\"#DejaVuSans-58\"/>\r\n       <use x=\"456.884766\" xlink:href=\"#DejaVuSans-32\"/>\r\n       <use x=\"488.671875\" xlink:href=\"#DejaVuSans-51\"/>\r\n       <use x=\"552.294922\" xlink:href=\"#DejaVuSans-48\"/>\r\n       <use x=\"615.917969\" xlink:href=\"#DejaVuSans-48\"/>\r\n       <use x=\"679.541016\" xlink:href=\"#DejaVuSans-32\"/>\r\n       <use x=\"711.328125\" xlink:href=\"#DejaVuSans-108\"/>\r\n       <use x=\"739.111328\" xlink:href=\"#DejaVuSans-101\"/>\r\n       <use x=\"800.634766\" xlink:href=\"#DejaVuSans-97\"/>\r\n       <use x=\"861.914062\" xlink:href=\"#DejaVuSans-114\"/>\r\n       <use x=\"901.277344\" xlink:href=\"#DejaVuSans-110\"/>\r\n       <use x=\"964.65625\" xlink:href=\"#DejaVuSans-105\"/>\r\n       <use x=\"992.439453\" xlink:href=\"#DejaVuSans-110\"/>\r\n       <use x=\"1055.818359\" xlink:href=\"#DejaVuSans-103\"/>\r\n       <use x=\"1119.294922\" xlink:href=\"#DejaVuSans-95\"/>\r\n       <use x=\"1169.294922\" xlink:href=\"#DejaVuSans-114\"/>\r\n       <use x=\"1210.408203\" xlink:href=\"#DejaVuSans-97\"/>\r\n       <use x=\"1271.6875\" xlink:href=\"#DejaVuSans-116\"/>\r\n       <use x=\"1310.896484\" xlink:href=\"#DejaVuSans-101\"/>\r\n       <use x=\"1372.419922\" xlink:href=\"#DejaVuSans-58\"/>\r\n       <use x=\"1406.111328\" xlink:href=\"#DejaVuSans-48\"/>\r\n       <use x=\"1469.734375\" xlink:href=\"#DejaVuSans-46\"/>\r\n       <use x=\"1501.521484\" xlink:href=\"#DejaVuSans-53\"/>\r\n      </g>\r\n     </g>\r\n    </g>\r\n    <g id=\"xtick_5\">\r\n     <g id=\"line2d_5\">\r\n      <g>\r\n       <use style=\"stroke:#000000;stroke-width:0.8;\" x=\"197.022262\" xlink:href=\"#m80348dc09b\" y=\"387.72\"/>\r\n      </g>\r\n     </g>\r\n     <g id=\"text_5\">\r\n      <!-- n_estim : 100 learning_rate:0.75 -->\r\n      <g transform=\"translate(141.290647 515.261819)rotate(-45)scale(0.1 -0.1)\">\r\n       <defs>\r\n        <path d=\"M 8.203125 72.90625 \r\nL 55.078125 72.90625 \r\nL 55.078125 68.703125 \r\nL 28.609375 0 \r\nL 18.3125 0 \r\nL 43.21875 64.59375 \r\nL 8.203125 64.59375 \r\nz\r\n\" id=\"DejaVuSans-55\"/>\r\n       </defs>\r\n       <use xlink:href=\"#DejaVuSans-110\"/>\r\n       <use x=\"63.378906\" xlink:href=\"#DejaVuSans-95\"/>\r\n       <use x=\"113.378906\" xlink:href=\"#DejaVuSans-101\"/>\r\n       <use x=\"174.902344\" xlink:href=\"#DejaVuSans-115\"/>\r\n       <use x=\"227.001953\" xlink:href=\"#DejaVuSans-116\"/>\r\n       <use x=\"266.210938\" xlink:href=\"#DejaVuSans-105\"/>\r\n       <use x=\"293.994141\" xlink:href=\"#DejaVuSans-109\"/>\r\n       <use x=\"391.40625\" xlink:href=\"#DejaVuSans-32\"/>\r\n       <use x=\"423.193359\" xlink:href=\"#DejaVuSans-58\"/>\r\n       <use x=\"456.884766\" xlink:href=\"#DejaVuSans-32\"/>\r\n       <use x=\"488.671875\" xlink:href=\"#DejaVuSans-49\"/>\r\n       <use x=\"552.294922\" xlink:href=\"#DejaVuSans-48\"/>\r\n       <use x=\"615.917969\" xlink:href=\"#DejaVuSans-48\"/>\r\n       <use x=\"679.541016\" xlink:href=\"#DejaVuSans-32\"/>\r\n       <use x=\"711.328125\" xlink:href=\"#DejaVuSans-108\"/>\r\n       <use x=\"739.111328\" xlink:href=\"#DejaVuSans-101\"/>\r\n       <use x=\"800.634766\" xlink:href=\"#DejaVuSans-97\"/>\r\n       <use x=\"861.914062\" xlink:href=\"#DejaVuSans-114\"/>\r\n       <use x=\"901.277344\" xlink:href=\"#DejaVuSans-110\"/>\r\n       <use x=\"964.65625\" xlink:href=\"#DejaVuSans-105\"/>\r\n       <use x=\"992.439453\" xlink:href=\"#DejaVuSans-110\"/>\r\n       <use x=\"1055.818359\" xlink:href=\"#DejaVuSans-103\"/>\r\n       <use x=\"1119.294922\" xlink:href=\"#DejaVuSans-95\"/>\r\n       <use x=\"1169.294922\" xlink:href=\"#DejaVuSans-114\"/>\r\n       <use x=\"1210.408203\" xlink:href=\"#DejaVuSans-97\"/>\r\n       <use x=\"1271.6875\" xlink:href=\"#DejaVuSans-116\"/>\r\n       <use x=\"1310.896484\" xlink:href=\"#DejaVuSans-101\"/>\r\n       <use x=\"1372.419922\" xlink:href=\"#DejaVuSans-58\"/>\r\n       <use x=\"1406.111328\" xlink:href=\"#DejaVuSans-48\"/>\r\n       <use x=\"1469.734375\" xlink:href=\"#DejaVuSans-46\"/>\r\n       <use x=\"1501.521484\" xlink:href=\"#DejaVuSans-55\"/>\r\n       <use x=\"1565.144531\" xlink:href=\"#DejaVuSans-53\"/>\r\n      </g>\r\n     </g>\r\n    </g>\r\n    <g id=\"xtick_6\">\r\n     <g id=\"line2d_6\">\r\n      <g>\r\n       <use style=\"stroke:#000000;stroke-width:0.8;\" x=\"229.303254\" xlink:href=\"#m80348dc09b\" y=\"387.72\"/>\r\n      </g>\r\n     </g>\r\n     <g id=\"text_6\">\r\n      <!-- n_estim : 150 learning_rate:0.75 -->\r\n      <g transform=\"translate(173.571639 515.261819)rotate(-45)scale(0.1 -0.1)\">\r\n       <use xlink:href=\"#DejaVuSans-110\"/>\r\n       <use x=\"63.378906\" xlink:href=\"#DejaVuSans-95\"/>\r\n       <use x=\"113.378906\" xlink:href=\"#DejaVuSans-101\"/>\r\n       <use x=\"174.902344\" xlink:href=\"#DejaVuSans-115\"/>\r\n       <use x=\"227.001953\" xlink:href=\"#DejaVuSans-116\"/>\r\n       <use x=\"266.210938\" xlink:href=\"#DejaVuSans-105\"/>\r\n       <use x=\"293.994141\" xlink:href=\"#DejaVuSans-109\"/>\r\n       <use x=\"391.40625\" xlink:href=\"#DejaVuSans-32\"/>\r\n       <use x=\"423.193359\" xlink:href=\"#DejaVuSans-58\"/>\r\n       <use x=\"456.884766\" xlink:href=\"#DejaVuSans-32\"/>\r\n       <use x=\"488.671875\" xlink:href=\"#DejaVuSans-49\"/>\r\n       <use x=\"552.294922\" xlink:href=\"#DejaVuSans-53\"/>\r\n       <use x=\"615.917969\" xlink:href=\"#DejaVuSans-48\"/>\r\n       <use x=\"679.541016\" xlink:href=\"#DejaVuSans-32\"/>\r\n       <use x=\"711.328125\" xlink:href=\"#DejaVuSans-108\"/>\r\n       <use x=\"739.111328\" xlink:href=\"#DejaVuSans-101\"/>\r\n       <use x=\"800.634766\" xlink:href=\"#DejaVuSans-97\"/>\r\n       <use x=\"861.914062\" xlink:href=\"#DejaVuSans-114\"/>\r\n       <use x=\"901.277344\" xlink:href=\"#DejaVuSans-110\"/>\r\n       <use x=\"964.65625\" xlink:href=\"#DejaVuSans-105\"/>\r\n       <use x=\"992.439453\" xlink:href=\"#DejaVuSans-110\"/>\r\n       <use x=\"1055.818359\" xlink:href=\"#DejaVuSans-103\"/>\r\n       <use x=\"1119.294922\" xlink:href=\"#DejaVuSans-95\"/>\r\n       <use x=\"1169.294922\" xlink:href=\"#DejaVuSans-114\"/>\r\n       <use x=\"1210.408203\" xlink:href=\"#DejaVuSans-97\"/>\r\n       <use x=\"1271.6875\" xlink:href=\"#DejaVuSans-116\"/>\r\n       <use x=\"1310.896484\" xlink:href=\"#DejaVuSans-101\"/>\r\n       <use x=\"1372.419922\" xlink:href=\"#DejaVuSans-58\"/>\r\n       <use x=\"1406.111328\" xlink:href=\"#DejaVuSans-48\"/>\r\n       <use x=\"1469.734375\" xlink:href=\"#DejaVuSans-46\"/>\r\n       <use x=\"1501.521484\" xlink:href=\"#DejaVuSans-55\"/>\r\n       <use x=\"1565.144531\" xlink:href=\"#DejaVuSans-53\"/>\r\n      </g>\r\n     </g>\r\n    </g>\r\n    <g id=\"xtick_7\">\r\n     <g id=\"line2d_7\">\r\n      <g>\r\n       <use style=\"stroke:#000000;stroke-width:0.8;\" x=\"261.584246\" xlink:href=\"#m80348dc09b\" y=\"387.72\"/>\r\n      </g>\r\n     </g>\r\n     <g id=\"text_7\">\r\n      <!-- n_estim : 200 learning_rate:0.75 -->\r\n      <g transform=\"translate(205.852631 515.261819)rotate(-45)scale(0.1 -0.1)\">\r\n       <use xlink:href=\"#DejaVuSans-110\"/>\r\n       <use x=\"63.378906\" xlink:href=\"#DejaVuSans-95\"/>\r\n       <use x=\"113.378906\" xlink:href=\"#DejaVuSans-101\"/>\r\n       <use x=\"174.902344\" xlink:href=\"#DejaVuSans-115\"/>\r\n       <use x=\"227.001953\" xlink:href=\"#DejaVuSans-116\"/>\r\n       <use x=\"266.210938\" xlink:href=\"#DejaVuSans-105\"/>\r\n       <use x=\"293.994141\" xlink:href=\"#DejaVuSans-109\"/>\r\n       <use x=\"391.40625\" xlink:href=\"#DejaVuSans-32\"/>\r\n       <use x=\"423.193359\" xlink:href=\"#DejaVuSans-58\"/>\r\n       <use x=\"456.884766\" xlink:href=\"#DejaVuSans-32\"/>\r\n       <use x=\"488.671875\" xlink:href=\"#DejaVuSans-50\"/>\r\n       <use x=\"552.294922\" xlink:href=\"#DejaVuSans-48\"/>\r\n       <use x=\"615.917969\" xlink:href=\"#DejaVuSans-48\"/>\r\n       <use x=\"679.541016\" xlink:href=\"#DejaVuSans-32\"/>\r\n       <use x=\"711.328125\" xlink:href=\"#DejaVuSans-108\"/>\r\n       <use x=\"739.111328\" xlink:href=\"#DejaVuSans-101\"/>\r\n       <use x=\"800.634766\" xlink:href=\"#DejaVuSans-97\"/>\r\n       <use x=\"861.914062\" xlink:href=\"#DejaVuSans-114\"/>\r\n       <use x=\"901.277344\" xlink:href=\"#DejaVuSans-110\"/>\r\n       <use x=\"964.65625\" xlink:href=\"#DejaVuSans-105\"/>\r\n       <use x=\"992.439453\" xlink:href=\"#DejaVuSans-110\"/>\r\n       <use x=\"1055.818359\" xlink:href=\"#DejaVuSans-103\"/>\r\n       <use x=\"1119.294922\" xlink:href=\"#DejaVuSans-95\"/>\r\n       <use x=\"1169.294922\" xlink:href=\"#DejaVuSans-114\"/>\r\n       <use x=\"1210.408203\" xlink:href=\"#DejaVuSans-97\"/>\r\n       <use x=\"1271.6875\" xlink:href=\"#DejaVuSans-116\"/>\r\n       <use x=\"1310.896484\" xlink:href=\"#DejaVuSans-101\"/>\r\n       <use x=\"1372.419922\" xlink:href=\"#DejaVuSans-58\"/>\r\n       <use x=\"1406.111328\" xlink:href=\"#DejaVuSans-48\"/>\r\n       <use x=\"1469.734375\" xlink:href=\"#DejaVuSans-46\"/>\r\n       <use x=\"1501.521484\" xlink:href=\"#DejaVuSans-55\"/>\r\n       <use x=\"1565.144531\" xlink:href=\"#DejaVuSans-53\"/>\r\n      </g>\r\n     </g>\r\n    </g>\r\n    <g id=\"xtick_8\">\r\n     <g id=\"line2d_8\">\r\n      <g>\r\n       <use style=\"stroke:#000000;stroke-width:0.8;\" x=\"293.865238\" xlink:href=\"#m80348dc09b\" y=\"387.72\"/>\r\n      </g>\r\n     </g>\r\n     <g id=\"text_8\">\r\n      <!-- n_estim : 300 learning_rate:0.75 -->\r\n      <g transform=\"translate(238.133622 515.261819)rotate(-45)scale(0.1 -0.1)\">\r\n       <use xlink:href=\"#DejaVuSans-110\"/>\r\n       <use x=\"63.378906\" xlink:href=\"#DejaVuSans-95\"/>\r\n       <use x=\"113.378906\" xlink:href=\"#DejaVuSans-101\"/>\r\n       <use x=\"174.902344\" xlink:href=\"#DejaVuSans-115\"/>\r\n       <use x=\"227.001953\" xlink:href=\"#DejaVuSans-116\"/>\r\n       <use x=\"266.210938\" xlink:href=\"#DejaVuSans-105\"/>\r\n       <use x=\"293.994141\" xlink:href=\"#DejaVuSans-109\"/>\r\n       <use x=\"391.40625\" xlink:href=\"#DejaVuSans-32\"/>\r\n       <use x=\"423.193359\" xlink:href=\"#DejaVuSans-58\"/>\r\n       <use x=\"456.884766\" xlink:href=\"#DejaVuSans-32\"/>\r\n       <use x=\"488.671875\" xlink:href=\"#DejaVuSans-51\"/>\r\n       <use x=\"552.294922\" xlink:href=\"#DejaVuSans-48\"/>\r\n       <use x=\"615.917969\" xlink:href=\"#DejaVuSans-48\"/>\r\n       <use x=\"679.541016\" xlink:href=\"#DejaVuSans-32\"/>\r\n       <use x=\"711.328125\" xlink:href=\"#DejaVuSans-108\"/>\r\n       <use x=\"739.111328\" xlink:href=\"#DejaVuSans-101\"/>\r\n       <use x=\"800.634766\" xlink:href=\"#DejaVuSans-97\"/>\r\n       <use x=\"861.914062\" xlink:href=\"#DejaVuSans-114\"/>\r\n       <use x=\"901.277344\" xlink:href=\"#DejaVuSans-110\"/>\r\n       <use x=\"964.65625\" xlink:href=\"#DejaVuSans-105\"/>\r\n       <use x=\"992.439453\" xlink:href=\"#DejaVuSans-110\"/>\r\n       <use x=\"1055.818359\" xlink:href=\"#DejaVuSans-103\"/>\r\n       <use x=\"1119.294922\" xlink:href=\"#DejaVuSans-95\"/>\r\n       <use x=\"1169.294922\" xlink:href=\"#DejaVuSans-114\"/>\r\n       <use x=\"1210.408203\" xlink:href=\"#DejaVuSans-97\"/>\r\n       <use x=\"1271.6875\" xlink:href=\"#DejaVuSans-116\"/>\r\n       <use x=\"1310.896484\" xlink:href=\"#DejaVuSans-101\"/>\r\n       <use x=\"1372.419922\" xlink:href=\"#DejaVuSans-58\"/>\r\n       <use x=\"1406.111328\" xlink:href=\"#DejaVuSans-48\"/>\r\n       <use x=\"1469.734375\" xlink:href=\"#DejaVuSans-46\"/>\r\n       <use x=\"1501.521484\" xlink:href=\"#DejaVuSans-55\"/>\r\n       <use x=\"1565.144531\" xlink:href=\"#DejaVuSans-53\"/>\r\n      </g>\r\n     </g>\r\n    </g>\r\n    <g id=\"xtick_9\">\r\n     <g id=\"line2d_9\">\r\n      <g>\r\n       <use style=\"stroke:#000000;stroke-width:0.8;\" x=\"326.146229\" xlink:href=\"#m80348dc09b\" y=\"387.72\"/>\r\n      </g>\r\n     </g>\r\n     <g id=\"text_9\">\r\n      <!-- n_estim : 100 learning_rate:1 -->\r\n      <g transform=\"translate(276.037218 504.016611)rotate(-45)scale(0.1 -0.1)\">\r\n       <use xlink:href=\"#DejaVuSans-110\"/>\r\n       <use x=\"63.378906\" xlink:href=\"#DejaVuSans-95\"/>\r\n       <use x=\"113.378906\" xlink:href=\"#DejaVuSans-101\"/>\r\n       <use x=\"174.902344\" xlink:href=\"#DejaVuSans-115\"/>\r\n       <use x=\"227.001953\" xlink:href=\"#DejaVuSans-116\"/>\r\n       <use x=\"266.210938\" xlink:href=\"#DejaVuSans-105\"/>\r\n       <use x=\"293.994141\" xlink:href=\"#DejaVuSans-109\"/>\r\n       <use x=\"391.40625\" xlink:href=\"#DejaVuSans-32\"/>\r\n       <use x=\"423.193359\" xlink:href=\"#DejaVuSans-58\"/>\r\n       <use x=\"456.884766\" xlink:href=\"#DejaVuSans-32\"/>\r\n       <use x=\"488.671875\" xlink:href=\"#DejaVuSans-49\"/>\r\n       <use x=\"552.294922\" xlink:href=\"#DejaVuSans-48\"/>\r\n       <use x=\"615.917969\" xlink:href=\"#DejaVuSans-48\"/>\r\n       <use x=\"679.541016\" xlink:href=\"#DejaVuSans-32\"/>\r\n       <use x=\"711.328125\" xlink:href=\"#DejaVuSans-108\"/>\r\n       <use x=\"739.111328\" xlink:href=\"#DejaVuSans-101\"/>\r\n       <use x=\"800.634766\" xlink:href=\"#DejaVuSans-97\"/>\r\n       <use x=\"861.914062\" xlink:href=\"#DejaVuSans-114\"/>\r\n       <use x=\"901.277344\" xlink:href=\"#DejaVuSans-110\"/>\r\n       <use x=\"964.65625\" xlink:href=\"#DejaVuSans-105\"/>\r\n       <use x=\"992.439453\" xlink:href=\"#DejaVuSans-110\"/>\r\n       <use x=\"1055.818359\" xlink:href=\"#DejaVuSans-103\"/>\r\n       <use x=\"1119.294922\" xlink:href=\"#DejaVuSans-95\"/>\r\n       <use x=\"1169.294922\" xlink:href=\"#DejaVuSans-114\"/>\r\n       <use x=\"1210.408203\" xlink:href=\"#DejaVuSans-97\"/>\r\n       <use x=\"1271.6875\" xlink:href=\"#DejaVuSans-116\"/>\r\n       <use x=\"1310.896484\" xlink:href=\"#DejaVuSans-101\"/>\r\n       <use x=\"1372.419922\" xlink:href=\"#DejaVuSans-58\"/>\r\n       <use x=\"1406.111328\" xlink:href=\"#DejaVuSans-49\"/>\r\n      </g>\r\n     </g>\r\n    </g>\r\n    <g id=\"xtick_10\">\r\n     <g id=\"line2d_10\">\r\n      <g>\r\n       <use style=\"stroke:#000000;stroke-width:0.8;\" x=\"358.427221\" xlink:href=\"#m80348dc09b\" y=\"387.72\"/>\r\n      </g>\r\n     </g>\r\n     <g id=\"text_10\">\r\n      <!-- n_estim : 150 learning_rate:1 -->\r\n      <g transform=\"translate(308.31821 504.016611)rotate(-45)scale(0.1 -0.1)\">\r\n       <use xlink:href=\"#DejaVuSans-110\"/>\r\n       <use x=\"63.378906\" xlink:href=\"#DejaVuSans-95\"/>\r\n       <use x=\"113.378906\" xlink:href=\"#DejaVuSans-101\"/>\r\n       <use x=\"174.902344\" xlink:href=\"#DejaVuSans-115\"/>\r\n       <use x=\"227.001953\" xlink:href=\"#DejaVuSans-116\"/>\r\n       <use x=\"266.210938\" xlink:href=\"#DejaVuSans-105\"/>\r\n       <use x=\"293.994141\" xlink:href=\"#DejaVuSans-109\"/>\r\n       <use x=\"391.40625\" xlink:href=\"#DejaVuSans-32\"/>\r\n       <use x=\"423.193359\" xlink:href=\"#DejaVuSans-58\"/>\r\n       <use x=\"456.884766\" xlink:href=\"#DejaVuSans-32\"/>\r\n       <use x=\"488.671875\" xlink:href=\"#DejaVuSans-49\"/>\r\n       <use x=\"552.294922\" xlink:href=\"#DejaVuSans-53\"/>\r\n       <use x=\"615.917969\" xlink:href=\"#DejaVuSans-48\"/>\r\n       <use x=\"679.541016\" xlink:href=\"#DejaVuSans-32\"/>\r\n       <use x=\"711.328125\" xlink:href=\"#DejaVuSans-108\"/>\r\n       <use x=\"739.111328\" xlink:href=\"#DejaVuSans-101\"/>\r\n       <use x=\"800.634766\" xlink:href=\"#DejaVuSans-97\"/>\r\n       <use x=\"861.914062\" xlink:href=\"#DejaVuSans-114\"/>\r\n       <use x=\"901.277344\" xlink:href=\"#DejaVuSans-110\"/>\r\n       <use x=\"964.65625\" xlink:href=\"#DejaVuSans-105\"/>\r\n       <use x=\"992.439453\" xlink:href=\"#DejaVuSans-110\"/>\r\n       <use x=\"1055.818359\" xlink:href=\"#DejaVuSans-103\"/>\r\n       <use x=\"1119.294922\" xlink:href=\"#DejaVuSans-95\"/>\r\n       <use x=\"1169.294922\" xlink:href=\"#DejaVuSans-114\"/>\r\n       <use x=\"1210.408203\" xlink:href=\"#DejaVuSans-97\"/>\r\n       <use x=\"1271.6875\" xlink:href=\"#DejaVuSans-116\"/>\r\n       <use x=\"1310.896484\" xlink:href=\"#DejaVuSans-101\"/>\r\n       <use x=\"1372.419922\" xlink:href=\"#DejaVuSans-58\"/>\r\n       <use x=\"1406.111328\" xlink:href=\"#DejaVuSans-49\"/>\r\n      </g>\r\n     </g>\r\n    </g>\r\n    <g id=\"xtick_11\">\r\n     <g id=\"line2d_11\">\r\n      <g>\r\n       <use style=\"stroke:#000000;stroke-width:0.8;\" x=\"390.708213\" xlink:href=\"#m80348dc09b\" y=\"387.72\"/>\r\n      </g>\r\n     </g>\r\n     <g id=\"text_11\">\r\n      <!-- n_estim : 200 learning_rate:1 -->\r\n      <g transform=\"translate(340.599201 504.016611)rotate(-45)scale(0.1 -0.1)\">\r\n       <use xlink:href=\"#DejaVuSans-110\"/>\r\n       <use x=\"63.378906\" xlink:href=\"#DejaVuSans-95\"/>\r\n       <use x=\"113.378906\" xlink:href=\"#DejaVuSans-101\"/>\r\n       <use x=\"174.902344\" xlink:href=\"#DejaVuSans-115\"/>\r\n       <use x=\"227.001953\" xlink:href=\"#DejaVuSans-116\"/>\r\n       <use x=\"266.210938\" xlink:href=\"#DejaVuSans-105\"/>\r\n       <use x=\"293.994141\" xlink:href=\"#DejaVuSans-109\"/>\r\n       <use x=\"391.40625\" xlink:href=\"#DejaVuSans-32\"/>\r\n       <use x=\"423.193359\" xlink:href=\"#DejaVuSans-58\"/>\r\n       <use x=\"456.884766\" xlink:href=\"#DejaVuSans-32\"/>\r\n       <use x=\"488.671875\" xlink:href=\"#DejaVuSans-50\"/>\r\n       <use x=\"552.294922\" xlink:href=\"#DejaVuSans-48\"/>\r\n       <use x=\"615.917969\" xlink:href=\"#DejaVuSans-48\"/>\r\n       <use x=\"679.541016\" xlink:href=\"#DejaVuSans-32\"/>\r\n       <use x=\"711.328125\" xlink:href=\"#DejaVuSans-108\"/>\r\n       <use x=\"739.111328\" xlink:href=\"#DejaVuSans-101\"/>\r\n       <use x=\"800.634766\" xlink:href=\"#DejaVuSans-97\"/>\r\n       <use x=\"861.914062\" xlink:href=\"#DejaVuSans-114\"/>\r\n       <use x=\"901.277344\" xlink:href=\"#DejaVuSans-110\"/>\r\n       <use x=\"964.65625\" xlink:href=\"#DejaVuSans-105\"/>\r\n       <use x=\"992.439453\" xlink:href=\"#DejaVuSans-110\"/>\r\n       <use x=\"1055.818359\" xlink:href=\"#DejaVuSans-103\"/>\r\n       <use x=\"1119.294922\" xlink:href=\"#DejaVuSans-95\"/>\r\n       <use x=\"1169.294922\" xlink:href=\"#DejaVuSans-114\"/>\r\n       <use x=\"1210.408203\" xlink:href=\"#DejaVuSans-97\"/>\r\n       <use x=\"1271.6875\" xlink:href=\"#DejaVuSans-116\"/>\r\n       <use x=\"1310.896484\" xlink:href=\"#DejaVuSans-101\"/>\r\n       <use x=\"1372.419922\" xlink:href=\"#DejaVuSans-58\"/>\r\n       <use x=\"1406.111328\" xlink:href=\"#DejaVuSans-49\"/>\r\n      </g>\r\n     </g>\r\n    </g>\r\n    <g id=\"xtick_12\">\r\n     <g id=\"line2d_12\">\r\n      <g>\r\n       <use style=\"stroke:#000000;stroke-width:0.8;\" x=\"422.989205\" xlink:href=\"#m80348dc09b\" y=\"387.72\"/>\r\n      </g>\r\n     </g>\r\n     <g id=\"text_12\">\r\n      <!-- n_estim : 300 learning_rate:1 -->\r\n      <g transform=\"translate(372.880193 504.016611)rotate(-45)scale(0.1 -0.1)\">\r\n       <use xlink:href=\"#DejaVuSans-110\"/>\r\n       <use x=\"63.378906\" xlink:href=\"#DejaVuSans-95\"/>\r\n       <use x=\"113.378906\" xlink:href=\"#DejaVuSans-101\"/>\r\n       <use x=\"174.902344\" xlink:href=\"#DejaVuSans-115\"/>\r\n       <use x=\"227.001953\" xlink:href=\"#DejaVuSans-116\"/>\r\n       <use x=\"266.210938\" xlink:href=\"#DejaVuSans-105\"/>\r\n       <use x=\"293.994141\" xlink:href=\"#DejaVuSans-109\"/>\r\n       <use x=\"391.40625\" xlink:href=\"#DejaVuSans-32\"/>\r\n       <use x=\"423.193359\" xlink:href=\"#DejaVuSans-58\"/>\r\n       <use x=\"456.884766\" xlink:href=\"#DejaVuSans-32\"/>\r\n       <use x=\"488.671875\" xlink:href=\"#DejaVuSans-51\"/>\r\n       <use x=\"552.294922\" xlink:href=\"#DejaVuSans-48\"/>\r\n       <use x=\"615.917969\" xlink:href=\"#DejaVuSans-48\"/>\r\n       <use x=\"679.541016\" xlink:href=\"#DejaVuSans-32\"/>\r\n       <use x=\"711.328125\" xlink:href=\"#DejaVuSans-108\"/>\r\n       <use x=\"739.111328\" xlink:href=\"#DejaVuSans-101\"/>\r\n       <use x=\"800.634766\" xlink:href=\"#DejaVuSans-97\"/>\r\n       <use x=\"861.914062\" xlink:href=\"#DejaVuSans-114\"/>\r\n       <use x=\"901.277344\" xlink:href=\"#DejaVuSans-110\"/>\r\n       <use x=\"964.65625\" xlink:href=\"#DejaVuSans-105\"/>\r\n       <use x=\"992.439453\" xlink:href=\"#DejaVuSans-110\"/>\r\n       <use x=\"1055.818359\" xlink:href=\"#DejaVuSans-103\"/>\r\n       <use x=\"1119.294922\" xlink:href=\"#DejaVuSans-95\"/>\r\n       <use x=\"1169.294922\" xlink:href=\"#DejaVuSans-114\"/>\r\n       <use x=\"1210.408203\" xlink:href=\"#DejaVuSans-97\"/>\r\n       <use x=\"1271.6875\" xlink:href=\"#DejaVuSans-116\"/>\r\n       <use x=\"1310.896484\" xlink:href=\"#DejaVuSans-101\"/>\r\n       <use x=\"1372.419922\" xlink:href=\"#DejaVuSans-58\"/>\r\n       <use x=\"1406.111328\" xlink:href=\"#DejaVuSans-49\"/>\r\n      </g>\r\n     </g>\r\n    </g>\r\n    <g id=\"text_13\">\r\n     <!-- Parameters -->\r\n     <g transform=\"translate(216.826563 528.527482)scale(0.1 -0.1)\">\r\n      <defs>\r\n       <path d=\"M 19.671875 64.796875 \r\nL 19.671875 37.40625 \r\nL 32.078125 37.40625 \r\nQ 38.96875 37.40625 42.71875 40.96875 \r\nQ 46.484375 44.53125 46.484375 51.125 \r\nQ 46.484375 57.671875 42.71875 61.234375 \r\nQ 38.96875 64.796875 32.078125 64.796875 \r\nz\r\nM 9.8125 72.90625 \r\nL 32.078125 72.90625 \r\nQ 44.34375 72.90625 50.609375 67.359375 \r\nQ 56.890625 61.8125 56.890625 51.125 \r\nQ 56.890625 40.328125 50.609375 34.8125 \r\nQ 44.34375 29.296875 32.078125 29.296875 \r\nL 19.671875 29.296875 \r\nL 19.671875 0 \r\nL 9.8125 0 \r\nz\r\n\" id=\"DejaVuSans-80\"/>\r\n      </defs>\r\n      <use xlink:href=\"#DejaVuSans-80\"/>\r\n      <use x=\"55.802734\" xlink:href=\"#DejaVuSans-97\"/>\r\n      <use x=\"117.082031\" xlink:href=\"#DejaVuSans-114\"/>\r\n      <use x=\"158.195312\" xlink:href=\"#DejaVuSans-97\"/>\r\n      <use x=\"219.474609\" xlink:href=\"#DejaVuSans-109\"/>\r\n      <use x=\"316.886719\" xlink:href=\"#DejaVuSans-101\"/>\r\n      <use x=\"378.410156\" xlink:href=\"#DejaVuSans-116\"/>\r\n      <use x=\"417.619141\" xlink:href=\"#DejaVuSans-101\"/>\r\n      <use x=\"479.142578\" xlink:href=\"#DejaVuSans-114\"/>\r\n      <use x=\"520.255859\" xlink:href=\"#DejaVuSans-115\"/>\r\n     </g>\r\n    </g>\r\n   </g>\r\n   <g id=\"matplotlib.axis_2\">\r\n    <g id=\"ytick_1\">\r\n     <g id=\"line2d_13\">\r\n      <defs>\r\n       <path d=\"M 0 0 \r\nL -3.5 0 \r\n\" id=\"me8746d4102\" style=\"stroke:#000000;stroke-width:0.8;\"/>\r\n      </defs>\r\n      <g>\r\n       <use style=\"stroke:#000000;stroke-width:0.8;\" x=\"50.14375\" xlink:href=\"#me8746d4102\" y=\"335.830909\"/>\r\n      </g>\r\n     </g>\r\n     <g id=\"text_14\">\r\n      <!-- 0.92 -->\r\n      <g transform=\"translate(20.878125 339.630128)scale(0.1 -0.1)\">\r\n       <defs>\r\n        <path d=\"M 10.984375 1.515625 \r\nL 10.984375 10.5 \r\nQ 14.703125 8.734375 18.5 7.8125 \r\nQ 22.3125 6.890625 25.984375 6.890625 \r\nQ 35.75 6.890625 40.890625 13.453125 \r\nQ 46.046875 20.015625 46.78125 33.40625 \r\nQ 43.953125 29.203125 39.59375 26.953125 \r\nQ 35.25 24.703125 29.984375 24.703125 \r\nQ 19.046875 24.703125 12.671875 31.3125 \r\nQ 6.296875 37.9375 6.296875 49.421875 \r\nQ 6.296875 60.640625 12.9375 67.421875 \r\nQ 19.578125 74.21875 30.609375 74.21875 \r\nQ 43.265625 74.21875 49.921875 64.515625 \r\nQ 56.59375 54.828125 56.59375 36.375 \r\nQ 56.59375 19.140625 48.40625 8.859375 \r\nQ 40.234375 -1.421875 26.421875 -1.421875 \r\nQ 22.703125 -1.421875 18.890625 -0.6875 \r\nQ 15.09375 0.046875 10.984375 1.515625 \r\nz\r\nM 30.609375 32.421875 \r\nQ 37.25 32.421875 41.125 36.953125 \r\nQ 45.015625 41.5 45.015625 49.421875 \r\nQ 45.015625 57.28125 41.125 61.84375 \r\nQ 37.25 66.40625 30.609375 66.40625 \r\nQ 23.96875 66.40625 20.09375 61.84375 \r\nQ 16.21875 57.28125 16.21875 49.421875 \r\nQ 16.21875 41.5 20.09375 36.953125 \r\nQ 23.96875 32.421875 30.609375 32.421875 \r\nz\r\n\" id=\"DejaVuSans-57\"/>\r\n       </defs>\r\n       <use xlink:href=\"#DejaVuSans-48\"/>\r\n       <use x=\"63.623047\" xlink:href=\"#DejaVuSans-46\"/>\r\n       <use x=\"95.410156\" xlink:href=\"#DejaVuSans-57\"/>\r\n       <use x=\"159.033203\" xlink:href=\"#DejaVuSans-50\"/>\r\n      </g>\r\n     </g>\r\n    </g>\r\n    <g id=\"ytick_2\">\r\n     <g id=\"line2d_14\">\r\n      <g>\r\n       <use style=\"stroke:#000000;stroke-width:0.8;\" x=\"50.14375\" xlink:href=\"#me8746d4102\" y=\"257.997273\"/>\r\n      </g>\r\n     </g>\r\n     <g id=\"text_15\">\r\n      <!-- 0.94 -->\r\n      <g transform=\"translate(20.878125 261.796491)scale(0.1 -0.1)\">\r\n       <defs>\r\n        <path d=\"M 37.796875 64.3125 \r\nL 12.890625 25.390625 \r\nL 37.796875 25.390625 \r\nz\r\nM 35.203125 72.90625 \r\nL 47.609375 72.90625 \r\nL 47.609375 25.390625 \r\nL 58.015625 25.390625 \r\nL 58.015625 17.1875 \r\nL 47.609375 17.1875 \r\nL 47.609375 0 \r\nL 37.796875 0 \r\nL 37.796875 17.1875 \r\nL 4.890625 17.1875 \r\nL 4.890625 26.703125 \r\nz\r\n\" id=\"DejaVuSans-52\"/>\r\n       </defs>\r\n       <use xlink:href=\"#DejaVuSans-48\"/>\r\n       <use x=\"63.623047\" xlink:href=\"#DejaVuSans-46\"/>\r\n       <use x=\"95.410156\" xlink:href=\"#DejaVuSans-57\"/>\r\n       <use x=\"159.033203\" xlink:href=\"#DejaVuSans-52\"/>\r\n      </g>\r\n     </g>\r\n    </g>\r\n    <g id=\"ytick_3\">\r\n     <g id=\"line2d_15\">\r\n      <g>\r\n       <use style=\"stroke:#000000;stroke-width:0.8;\" x=\"50.14375\" xlink:href=\"#me8746d4102\" y=\"180.163636\"/>\r\n      </g>\r\n     </g>\r\n     <g id=\"text_16\">\r\n      <!-- 0.96 -->\r\n      <g transform=\"translate(20.878125 183.962855)scale(0.1 -0.1)\">\r\n       <defs>\r\n        <path d=\"M 33.015625 40.375 \r\nQ 26.375 40.375 22.484375 35.828125 \r\nQ 18.609375 31.296875 18.609375 23.390625 \r\nQ 18.609375 15.53125 22.484375 10.953125 \r\nQ 26.375 6.390625 33.015625 6.390625 \r\nQ 39.65625 6.390625 43.53125 10.953125 \r\nQ 47.40625 15.53125 47.40625 23.390625 \r\nQ 47.40625 31.296875 43.53125 35.828125 \r\nQ 39.65625 40.375 33.015625 40.375 \r\nz\r\nM 52.59375 71.296875 \r\nL 52.59375 62.3125 \r\nQ 48.875 64.0625 45.09375 64.984375 \r\nQ 41.3125 65.921875 37.59375 65.921875 \r\nQ 27.828125 65.921875 22.671875 59.328125 \r\nQ 17.53125 52.734375 16.796875 39.40625 \r\nQ 19.671875 43.65625 24.015625 45.921875 \r\nQ 28.375 48.1875 33.59375 48.1875 \r\nQ 44.578125 48.1875 50.953125 41.515625 \r\nQ 57.328125 34.859375 57.328125 23.390625 \r\nQ 57.328125 12.15625 50.6875 5.359375 \r\nQ 44.046875 -1.421875 33.015625 -1.421875 \r\nQ 20.359375 -1.421875 13.671875 8.265625 \r\nQ 6.984375 17.96875 6.984375 36.375 \r\nQ 6.984375 53.65625 15.1875 63.9375 \r\nQ 23.390625 74.21875 37.203125 74.21875 \r\nQ 40.921875 74.21875 44.703125 73.484375 \r\nQ 48.484375 72.75 52.59375 71.296875 \r\nz\r\n\" id=\"DejaVuSans-54\"/>\r\n       </defs>\r\n       <use xlink:href=\"#DejaVuSans-48\"/>\r\n       <use x=\"63.623047\" xlink:href=\"#DejaVuSans-46\"/>\r\n       <use x=\"95.410156\" xlink:href=\"#DejaVuSans-57\"/>\r\n       <use x=\"159.033203\" xlink:href=\"#DejaVuSans-54\"/>\r\n      </g>\r\n     </g>\r\n    </g>\r\n    <g id=\"ytick_4\">\r\n     <g id=\"line2d_16\">\r\n      <g>\r\n       <use style=\"stroke:#000000;stroke-width:0.8;\" x=\"50.14375\" xlink:href=\"#me8746d4102\" y=\"102.33\"/>\r\n      </g>\r\n     </g>\r\n     <g id=\"text_17\">\r\n      <!-- 0.98 -->\r\n      <g transform=\"translate(20.878125 106.129219)scale(0.1 -0.1)\">\r\n       <defs>\r\n        <path d=\"M 31.78125 34.625 \r\nQ 24.75 34.625 20.71875 30.859375 \r\nQ 16.703125 27.09375 16.703125 20.515625 \r\nQ 16.703125 13.921875 20.71875 10.15625 \r\nQ 24.75 6.390625 31.78125 6.390625 \r\nQ 38.8125 6.390625 42.859375 10.171875 \r\nQ 46.921875 13.96875 46.921875 20.515625 \r\nQ 46.921875 27.09375 42.890625 30.859375 \r\nQ 38.875 34.625 31.78125 34.625 \r\nz\r\nM 21.921875 38.8125 \r\nQ 15.578125 40.375 12.03125 44.71875 \r\nQ 8.5 49.078125 8.5 55.328125 \r\nQ 8.5 64.0625 14.71875 69.140625 \r\nQ 20.953125 74.21875 31.78125 74.21875 \r\nQ 42.671875 74.21875 48.875 69.140625 \r\nQ 55.078125 64.0625 55.078125 55.328125 \r\nQ 55.078125 49.078125 51.53125 44.71875 \r\nQ 48 40.375 41.703125 38.8125 \r\nQ 48.828125 37.15625 52.796875 32.3125 \r\nQ 56.78125 27.484375 56.78125 20.515625 \r\nQ 56.78125 9.90625 50.3125 4.234375 \r\nQ 43.84375 -1.421875 31.78125 -1.421875 \r\nQ 19.734375 -1.421875 13.25 4.234375 \r\nQ 6.78125 9.90625 6.78125 20.515625 \r\nQ 6.78125 27.484375 10.78125 32.3125 \r\nQ 14.796875 37.15625 21.921875 38.8125 \r\nz\r\nM 18.3125 54.390625 \r\nQ 18.3125 48.734375 21.84375 45.5625 \r\nQ 25.390625 42.390625 31.78125 42.390625 \r\nQ 38.140625 42.390625 41.71875 45.5625 \r\nQ 45.3125 48.734375 45.3125 54.390625 \r\nQ 45.3125 60.0625 41.71875 63.234375 \r\nQ 38.140625 66.40625 31.78125 66.40625 \r\nQ 25.390625 66.40625 21.84375 63.234375 \r\nQ 18.3125 60.0625 18.3125 54.390625 \r\nz\r\n\" id=\"DejaVuSans-56\"/>\r\n       </defs>\r\n       <use xlink:href=\"#DejaVuSans-48\"/>\r\n       <use x=\"63.623047\" xlink:href=\"#DejaVuSans-46\"/>\r\n       <use x=\"95.410156\" xlink:href=\"#DejaVuSans-57\"/>\r\n       <use x=\"159.033203\" xlink:href=\"#DejaVuSans-56\"/>\r\n      </g>\r\n     </g>\r\n    </g>\r\n    <g id=\"ytick_5\">\r\n     <g id=\"line2d_17\">\r\n      <g>\r\n       <use style=\"stroke:#000000;stroke-width:0.8;\" x=\"50.14375\" xlink:href=\"#me8746d4102\" y=\"24.496364\"/>\r\n      </g>\r\n     </g>\r\n     <g id=\"text_18\">\r\n      <!-- 1.00 -->\r\n      <g transform=\"translate(20.878125 28.295582)scale(0.1 -0.1)\">\r\n       <use xlink:href=\"#DejaVuSans-49\"/>\r\n       <use x=\"63.623047\" xlink:href=\"#DejaVuSans-46\"/>\r\n       <use x=\"95.410156\" xlink:href=\"#DejaVuSans-48\"/>\r\n       <use x=\"159.033203\" xlink:href=\"#DejaVuSans-48\"/>\r\n      </g>\r\n     </g>\r\n    </g>\r\n    <g id=\"text_19\">\r\n     <!-- Score -->\r\n     <g transform=\"translate(14.798438 211.462344)rotate(-90)scale(0.1 -0.1)\">\r\n      <defs>\r\n       <path d=\"M 53.515625 70.515625 \r\nL 53.515625 60.890625 \r\nQ 47.90625 63.578125 42.921875 64.890625 \r\nQ 37.9375 66.21875 33.296875 66.21875 \r\nQ 25.25 66.21875 20.875 63.09375 \r\nQ 16.5 59.96875 16.5 54.203125 \r\nQ 16.5 49.359375 19.40625 46.890625 \r\nQ 22.3125 44.4375 30.421875 42.921875 \r\nL 36.375 41.703125 \r\nQ 47.40625 39.59375 52.65625 34.296875 \r\nQ 57.90625 29 57.90625 20.125 \r\nQ 57.90625 9.515625 50.796875 4.046875 \r\nQ 43.703125 -1.421875 29.984375 -1.421875 \r\nQ 24.8125 -1.421875 18.96875 -0.25 \r\nQ 13.140625 0.921875 6.890625 3.21875 \r\nL 6.890625 13.375 \r\nQ 12.890625 10.015625 18.65625 8.296875 \r\nQ 24.421875 6.59375 29.984375 6.59375 \r\nQ 38.421875 6.59375 43.015625 9.90625 \r\nQ 47.609375 13.234375 47.609375 19.390625 \r\nQ 47.609375 24.75 44.3125 27.78125 \r\nQ 41.015625 30.8125 33.5 32.328125 \r\nL 27.484375 33.5 \r\nQ 16.453125 35.6875 11.515625 40.375 \r\nQ 6.59375 45.0625 6.59375 53.421875 \r\nQ 6.59375 63.09375 13.40625 68.65625 \r\nQ 20.21875 74.21875 32.171875 74.21875 \r\nQ 37.3125 74.21875 42.625 73.28125 \r\nQ 47.953125 72.359375 53.515625 70.515625 \r\nz\r\n\" id=\"DejaVuSans-83\"/>\r\n       <path d=\"M 48.78125 52.59375 \r\nL 48.78125 44.1875 \r\nQ 44.96875 46.296875 41.140625 47.34375 \r\nQ 37.3125 48.390625 33.40625 48.390625 \r\nQ 24.65625 48.390625 19.8125 42.84375 \r\nQ 14.984375 37.3125 14.984375 27.296875 \r\nQ 14.984375 17.28125 19.8125 11.734375 \r\nQ 24.65625 6.203125 33.40625 6.203125 \r\nQ 37.3125 6.203125 41.140625 7.25 \r\nQ 44.96875 8.296875 48.78125 10.40625 \r\nL 48.78125 2.09375 \r\nQ 45.015625 0.34375 40.984375 -0.53125 \r\nQ 36.96875 -1.421875 32.421875 -1.421875 \r\nQ 20.0625 -1.421875 12.78125 6.34375 \r\nQ 5.515625 14.109375 5.515625 27.296875 \r\nQ 5.515625 40.671875 12.859375 48.328125 \r\nQ 20.21875 56 33.015625 56 \r\nQ 37.15625 56 41.109375 55.140625 \r\nQ 45.0625 54.296875 48.78125 52.59375 \r\nz\r\n\" id=\"DejaVuSans-99\"/>\r\n       <path d=\"M 30.609375 48.390625 \r\nQ 23.390625 48.390625 19.1875 42.75 \r\nQ 14.984375 37.109375 14.984375 27.296875 \r\nQ 14.984375 17.484375 19.15625 11.84375 \r\nQ 23.34375 6.203125 30.609375 6.203125 \r\nQ 37.796875 6.203125 41.984375 11.859375 \r\nQ 46.1875 17.53125 46.1875 27.296875 \r\nQ 46.1875 37.015625 41.984375 42.703125 \r\nQ 37.796875 48.390625 30.609375 48.390625 \r\nz\r\nM 30.609375 56 \r\nQ 42.328125 56 49.015625 48.375 \r\nQ 55.71875 40.765625 55.71875 27.296875 \r\nQ 55.71875 13.875 49.015625 6.21875 \r\nQ 42.328125 -1.421875 30.609375 -1.421875 \r\nQ 18.84375 -1.421875 12.171875 6.21875 \r\nQ 5.515625 13.875 5.515625 27.296875 \r\nQ 5.515625 40.765625 12.171875 48.375 \r\nQ 18.84375 56 30.609375 56 \r\nz\r\n\" id=\"DejaVuSans-111\"/>\r\n      </defs>\r\n      <use xlink:href=\"#DejaVuSans-83\"/>\r\n      <use x=\"63.476562\" xlink:href=\"#DejaVuSans-99\"/>\r\n      <use x=\"118.457031\" xlink:href=\"#DejaVuSans-111\"/>\r\n      <use x=\"179.638672\" xlink:href=\"#DejaVuSans-114\"/>\r\n      <use x=\"218.501953\" xlink:href=\"#DejaVuSans-101\"/>\r\n     </g>\r\n    </g>\r\n   </g>\r\n   <g id=\"line2d_18\">\r\n    <path clip-path=\"url(#p7821b175da)\" d=\"M 67.898295 24.496364 \r\nL 100.179287 24.496364 \r\nL 132.460279 24.496364 \r\nL 164.741271 24.496364 \r\nL 197.022262 24.496364 \r\nL 229.303254 24.496364 \r\nL 261.584246 24.496364 \r\nL 293.865238 24.496364 \r\nL 326.146229 24.496364 \r\nL 358.427221 24.496364 \r\nL 390.708213 24.496364 \r\nL 422.989205 24.496364 \r\n\" style=\"fill:none;stroke:#1f77b4;stroke-linecap:square;stroke-width:1.5;\"/>\r\n   </g>\r\n   <g id=\"line2d_19\">\r\n    <path clip-path=\"url(#p7821b175da)\" d=\"M 67.898295 65.104492 \r\nL 100.179287 74.578446 \r\nL 132.460279 83.920056 \r\nL 164.741271 83.920056 \r\nL 197.022262 74.578446 \r\nL 229.303254 84.193156 \r\nL 261.584246 83.920056 \r\nL 293.865238 103.836643 \r\nL 326.146229 83.920056 \r\nL 358.427221 83.920056 \r\nL 390.708213 103.836643 \r\nL 422.989205 112.681059 \r\n\" style=\"fill:none;stroke:#ff7f0e;stroke-linecap:square;stroke-width:1.5;\"/>\r\n   </g>\r\n   <g id=\"line2d_20\">\r\n    <path clip-path=\"url(#p7821b175da)\" d=\"M 67.898295 197.46 \r\nL 100.179287 115.782727 \r\nL 132.460279 94.162273 \r\nL 164.741271 74.944091 \r\nL 197.022262 115.782727 \r\nL 229.303254 84.553182 \r\nL 261.584246 74.944091 \r\nL 293.865238 67.737273 \r\nL 326.146229 94.162273 \r\nL 358.427221 74.944091 \r\nL 390.708213 72.541818 \r\nL 422.989205 48.519091 \r\n\" style=\"fill:none;stroke:#2ca02c;stroke-linecap:square;stroke-width:1.5;\"/>\r\n   </g>\r\n   <g id=\"line2d_21\">\r\n    <path clip-path=\"url(#p7821b175da)\" d=\"M 67.898295 370.423636 \r\nL 100.179287 283.941818 \r\nL 132.460279 264.723636 \r\nL 164.741271 264.723636 \r\nL 197.022262 283.941818 \r\nL 229.303254 274.332727 \r\nL 261.584246 264.723636 \r\nL 293.865238 274.332727 \r\nL 326.146229 264.723636 \r\nL 358.427221 264.723636 \r\nL 390.708213 274.332727 \r\nL 422.989205 255.114545 \r\n\" style=\"fill:none;stroke:#d62728;stroke-linecap:square;stroke-width:1.5;\"/>\r\n   </g>\r\n   <g id=\"line2d_22\">\r\n    <path clip-path=\"url(#p7821b175da)\" d=\"M 67.898295 112.969864 \r\nL 100.179287 70.702692 \r\nL 132.460279 59.653039 \r\nL 164.741271 49.909009 \r\nL 197.022262 70.702692 \r\nL 229.303254 54.784783 \r\nL 261.584246 49.909009 \r\nL 293.865238 46.266354 \r\nL 326.146229 59.653039 \r\nL 358.427221 49.909009 \r\nL 390.708213 48.694791 \r\nL 422.989205 36.616306 \r\n\" style=\"fill:none;stroke:#9467bd;stroke-linecap:square;stroke-width:1.5;\"/>\r\n   </g>\r\n   <g id=\"line2d_23\">\r\n    <path clip-path=\"url(#p7821b175da)\" d=\"M 67.898295 225.564209 \r\nL 100.179287 183.635063 \r\nL 132.460279 178.176045 \r\nL 164.741271 178.176045 \r\nL 197.022262 183.635063 \r\nL 229.303254 183.451394 \r\nL 261.584246 178.176045 \r\nL 293.865238 192.36061 \r\nL 326.146229 178.176045 \r\nL 358.427221 178.176045 \r\nL 390.708213 192.36061 \r\nL 422.989205 186.791083 \r\n\" style=\"fill:none;stroke:#8c564b;stroke-linecap:square;stroke-width:1.5;\"/>\r\n   </g>\r\n   <g id=\"patch_3\">\r\n    <path d=\"M 50.14375 387.72 \r\nL 50.14375 7.2 \r\n\" style=\"fill:none;stroke:#000000;stroke-linecap:square;stroke-linejoin:miter;stroke-width:0.8;\"/>\r\n   </g>\r\n   <g id=\"patch_4\">\r\n    <path d=\"M 440.74375 387.72 \r\nL 440.74375 7.2 \r\n\" style=\"fill:none;stroke:#000000;stroke-linecap:square;stroke-linejoin:miter;stroke-width:0.8;\"/>\r\n   </g>\r\n   <g id=\"patch_5\">\r\n    <path d=\"M 50.14375 387.72 \r\nL 440.74375 387.72 \r\n\" style=\"fill:none;stroke:#000000;stroke-linecap:square;stroke-linejoin:miter;stroke-width:0.8;\"/>\r\n   </g>\r\n   <g id=\"patch_6\">\r\n    <path d=\"M 50.14375 7.2 \r\nL 440.74375 7.2 \r\n\" style=\"fill:none;stroke:#000000;stroke-linecap:square;stroke-linejoin:miter;stroke-width:0.8;\"/>\r\n   </g>\r\n   <g id=\"legend_1\">\r\n    <g id=\"patch_7\">\r\n     <path d=\"M 295.495313 382.72 \r\nL 433.74375 382.72 \r\nQ 435.74375 382.72 435.74375 380.72 \r\nL 435.74375 291.9825 \r\nQ 435.74375 289.9825 433.74375 289.9825 \r\nL 295.495313 289.9825 \r\nQ 293.495313 289.9825 293.495313 291.9825 \r\nL 293.495313 380.72 \r\nQ 293.495313 382.72 295.495313 382.72 \r\nz\r\n\" style=\"fill:#ffffff;opacity:0.8;stroke:#cccccc;stroke-linejoin:miter;\"/>\r\n    </g>\r\n    <g id=\"line2d_24\">\r\n     <path d=\"M 297.495313 298.080937 \r\nL 317.495313 298.080937 \r\n\" style=\"fill:none;stroke:#1f77b4;stroke-linecap:square;stroke-width:1.5;\"/>\r\n    </g>\r\n    <g id=\"line2d_25\"/>\r\n    <g id=\"text_20\">\r\n     <!-- mean_train_Precision -->\r\n     <g transform=\"translate(325.495313 301.580937)scale(0.1 -0.1)\">\r\n      <use xlink:href=\"#DejaVuSans-109\"/>\r\n      <use x=\"97.412109\" xlink:href=\"#DejaVuSans-101\"/>\r\n      <use x=\"158.935547\" xlink:href=\"#DejaVuSans-97\"/>\r\n      <use x=\"220.214844\" xlink:href=\"#DejaVuSans-110\"/>\r\n      <use x=\"283.59375\" xlink:href=\"#DejaVuSans-95\"/>\r\n      <use x=\"333.59375\" xlink:href=\"#DejaVuSans-116\"/>\r\n      <use x=\"372.802734\" xlink:href=\"#DejaVuSans-114\"/>\r\n      <use x=\"413.916016\" xlink:href=\"#DejaVuSans-97\"/>\r\n      <use x=\"475.195312\" xlink:href=\"#DejaVuSans-105\"/>\r\n      <use x=\"502.978516\" xlink:href=\"#DejaVuSans-110\"/>\r\n      <use x=\"566.357422\" xlink:href=\"#DejaVuSans-95\"/>\r\n      <use x=\"616.357422\" xlink:href=\"#DejaVuSans-80\"/>\r\n      <use x=\"674.910156\" xlink:href=\"#DejaVuSans-114\"/>\r\n      <use x=\"713.773438\" xlink:href=\"#DejaVuSans-101\"/>\r\n      <use x=\"775.296875\" xlink:href=\"#DejaVuSans-99\"/>\r\n      <use x=\"830.277344\" xlink:href=\"#DejaVuSans-105\"/>\r\n      <use x=\"858.060547\" xlink:href=\"#DejaVuSans-115\"/>\r\n      <use x=\"910.160156\" xlink:href=\"#DejaVuSans-105\"/>\r\n      <use x=\"937.943359\" xlink:href=\"#DejaVuSans-111\"/>\r\n      <use x=\"999.125\" xlink:href=\"#DejaVuSans-110\"/>\r\n     </g>\r\n    </g>\r\n    <g id=\"line2d_26\">\r\n     <path d=\"M 297.495313 313.037187 \r\nL 317.495313 313.037187 \r\n\" style=\"fill:none;stroke:#ff7f0e;stroke-linecap:square;stroke-width:1.5;\"/>\r\n    </g>\r\n    <g id=\"line2d_27\"/>\r\n    <g id=\"text_21\">\r\n     <!-- mean_test_Precision -->\r\n     <g transform=\"translate(325.495313 316.537187)scale(0.1 -0.1)\">\r\n      <use xlink:href=\"#DejaVuSans-109\"/>\r\n      <use x=\"97.412109\" xlink:href=\"#DejaVuSans-101\"/>\r\n      <use x=\"158.935547\" xlink:href=\"#DejaVuSans-97\"/>\r\n      <use x=\"220.214844\" xlink:href=\"#DejaVuSans-110\"/>\r\n      <use x=\"283.59375\" xlink:href=\"#DejaVuSans-95\"/>\r\n      <use x=\"333.59375\" xlink:href=\"#DejaVuSans-116\"/>\r\n      <use x=\"372.802734\" xlink:href=\"#DejaVuSans-101\"/>\r\n      <use x=\"434.326172\" xlink:href=\"#DejaVuSans-115\"/>\r\n      <use x=\"486.425781\" xlink:href=\"#DejaVuSans-116\"/>\r\n      <use x=\"525.634766\" xlink:href=\"#DejaVuSans-95\"/>\r\n      <use x=\"575.634766\" xlink:href=\"#DejaVuSans-80\"/>\r\n      <use x=\"634.1875\" xlink:href=\"#DejaVuSans-114\"/>\r\n      <use x=\"673.050781\" xlink:href=\"#DejaVuSans-101\"/>\r\n      <use x=\"734.574219\" xlink:href=\"#DejaVuSans-99\"/>\r\n      <use x=\"789.554688\" xlink:href=\"#DejaVuSans-105\"/>\r\n      <use x=\"817.337891\" xlink:href=\"#DejaVuSans-115\"/>\r\n      <use x=\"869.4375\" xlink:href=\"#DejaVuSans-105\"/>\r\n      <use x=\"897.220703\" xlink:href=\"#DejaVuSans-111\"/>\r\n      <use x=\"958.402344\" xlink:href=\"#DejaVuSans-110\"/>\r\n     </g>\r\n    </g>\r\n    <g id=\"line2d_28\">\r\n     <path d=\"M 297.495313 327.993437 \r\nL 317.495313 327.993437 \r\n\" style=\"fill:none;stroke:#2ca02c;stroke-linecap:square;stroke-width:1.5;\"/>\r\n    </g>\r\n    <g id=\"line2d_29\"/>\r\n    <g id=\"text_22\">\r\n     <!-- mean_train_Recall -->\r\n     <g transform=\"translate(325.495313 331.493437)scale(0.1 -0.1)\">\r\n      <defs>\r\n       <path d=\"M 44.390625 34.1875 \r\nQ 47.5625 33.109375 50.5625 29.59375 \r\nQ 53.5625 26.078125 56.59375 19.921875 \r\nL 66.609375 0 \r\nL 56 0 \r\nL 46.6875 18.703125 \r\nQ 43.0625 26.03125 39.671875 28.421875 \r\nQ 36.28125 30.8125 30.421875 30.8125 \r\nL 19.671875 30.8125 \r\nL 19.671875 0 \r\nL 9.8125 0 \r\nL 9.8125 72.90625 \r\nL 32.078125 72.90625 \r\nQ 44.578125 72.90625 50.734375 67.671875 \r\nQ 56.890625 62.453125 56.890625 51.90625 \r\nQ 56.890625 45.015625 53.6875 40.46875 \r\nQ 50.484375 35.9375 44.390625 34.1875 \r\nz\r\nM 19.671875 64.796875 \r\nL 19.671875 38.921875 \r\nL 32.078125 38.921875 \r\nQ 39.203125 38.921875 42.84375 42.21875 \r\nQ 46.484375 45.515625 46.484375 51.90625 \r\nQ 46.484375 58.296875 42.84375 61.546875 \r\nQ 39.203125 64.796875 32.078125 64.796875 \r\nz\r\n\" id=\"DejaVuSans-82\"/>\r\n      </defs>\r\n      <use xlink:href=\"#DejaVuSans-109\"/>\r\n      <use x=\"97.412109\" xlink:href=\"#DejaVuSans-101\"/>\r\n      <use x=\"158.935547\" xlink:href=\"#DejaVuSans-97\"/>\r\n      <use x=\"220.214844\" xlink:href=\"#DejaVuSans-110\"/>\r\n      <use x=\"283.59375\" xlink:href=\"#DejaVuSans-95\"/>\r\n      <use x=\"333.59375\" xlink:href=\"#DejaVuSans-116\"/>\r\n      <use x=\"372.802734\" xlink:href=\"#DejaVuSans-114\"/>\r\n      <use x=\"413.916016\" xlink:href=\"#DejaVuSans-97\"/>\r\n      <use x=\"475.195312\" xlink:href=\"#DejaVuSans-105\"/>\r\n      <use x=\"502.978516\" xlink:href=\"#DejaVuSans-110\"/>\r\n      <use x=\"566.357422\" xlink:href=\"#DejaVuSans-95\"/>\r\n      <use x=\"616.357422\" xlink:href=\"#DejaVuSans-82\"/>\r\n      <use x=\"681.339844\" xlink:href=\"#DejaVuSans-101\"/>\r\n      <use x=\"742.863281\" xlink:href=\"#DejaVuSans-99\"/>\r\n      <use x=\"797.84375\" xlink:href=\"#DejaVuSans-97\"/>\r\n      <use x=\"859.123047\" xlink:href=\"#DejaVuSans-108\"/>\r\n      <use x=\"886.90625\" xlink:href=\"#DejaVuSans-108\"/>\r\n     </g>\r\n    </g>\r\n    <g id=\"line2d_30\">\r\n     <path d=\"M 297.495313 342.949687 \r\nL 317.495313 342.949687 \r\n\" style=\"fill:none;stroke:#d62728;stroke-linecap:square;stroke-width:1.5;\"/>\r\n    </g>\r\n    <g id=\"line2d_31\"/>\r\n    <g id=\"text_23\">\r\n     <!-- mean_test_Recall -->\r\n     <g transform=\"translate(325.495313 346.449687)scale(0.1 -0.1)\">\r\n      <use xlink:href=\"#DejaVuSans-109\"/>\r\n      <use x=\"97.412109\" xlink:href=\"#DejaVuSans-101\"/>\r\n      <use x=\"158.935547\" xlink:href=\"#DejaVuSans-97\"/>\r\n      <use x=\"220.214844\" xlink:href=\"#DejaVuSans-110\"/>\r\n      <use x=\"283.59375\" xlink:href=\"#DejaVuSans-95\"/>\r\n      <use x=\"333.59375\" xlink:href=\"#DejaVuSans-116\"/>\r\n      <use x=\"372.802734\" xlink:href=\"#DejaVuSans-101\"/>\r\n      <use x=\"434.326172\" xlink:href=\"#DejaVuSans-115\"/>\r\n      <use x=\"486.425781\" xlink:href=\"#DejaVuSans-116\"/>\r\n      <use x=\"525.634766\" xlink:href=\"#DejaVuSans-95\"/>\r\n      <use x=\"575.634766\" xlink:href=\"#DejaVuSans-82\"/>\r\n      <use x=\"640.617188\" xlink:href=\"#DejaVuSans-101\"/>\r\n      <use x=\"702.140625\" xlink:href=\"#DejaVuSans-99\"/>\r\n      <use x=\"757.121094\" xlink:href=\"#DejaVuSans-97\"/>\r\n      <use x=\"818.400391\" xlink:href=\"#DejaVuSans-108\"/>\r\n      <use x=\"846.183594\" xlink:href=\"#DejaVuSans-108\"/>\r\n     </g>\r\n    </g>\r\n    <g id=\"line2d_32\">\r\n     <path d=\"M 297.495313 357.905937 \r\nL 317.495313 357.905937 \r\n\" style=\"fill:none;stroke:#9467bd;stroke-linecap:square;stroke-width:1.5;\"/>\r\n    </g>\r\n    <g id=\"line2d_33\"/>\r\n    <g id=\"text_24\">\r\n     <!-- mean_train_F1Score -->\r\n     <g transform=\"translate(325.495313 361.405937)scale(0.1 -0.1)\">\r\n      <defs>\r\n       <path d=\"M 9.8125 72.90625 \r\nL 51.703125 72.90625 \r\nL 51.703125 64.59375 \r\nL 19.671875 64.59375 \r\nL 19.671875 43.109375 \r\nL 48.578125 43.109375 \r\nL 48.578125 34.8125 \r\nL 19.671875 34.8125 \r\nL 19.671875 0 \r\nL 9.8125 0 \r\nz\r\n\" id=\"DejaVuSans-70\"/>\r\n      </defs>\r\n      <use xlink:href=\"#DejaVuSans-109\"/>\r\n      <use x=\"97.412109\" xlink:href=\"#DejaVuSans-101\"/>\r\n      <use x=\"158.935547\" xlink:href=\"#DejaVuSans-97\"/>\r\n      <use x=\"220.214844\" xlink:href=\"#DejaVuSans-110\"/>\r\n      <use x=\"283.59375\" xlink:href=\"#DejaVuSans-95\"/>\r\n      <use x=\"333.59375\" xlink:href=\"#DejaVuSans-116\"/>\r\n      <use x=\"372.802734\" xlink:href=\"#DejaVuSans-114\"/>\r\n      <use x=\"413.916016\" xlink:href=\"#DejaVuSans-97\"/>\r\n      <use x=\"475.195312\" xlink:href=\"#DejaVuSans-105\"/>\r\n      <use x=\"502.978516\" xlink:href=\"#DejaVuSans-110\"/>\r\n      <use x=\"566.357422\" xlink:href=\"#DejaVuSans-95\"/>\r\n      <use x=\"616.357422\" xlink:href=\"#DejaVuSans-70\"/>\r\n      <use x=\"673.876953\" xlink:href=\"#DejaVuSans-49\"/>\r\n      <use x=\"737.5\" xlink:href=\"#DejaVuSans-83\"/>\r\n      <use x=\"800.976562\" xlink:href=\"#DejaVuSans-99\"/>\r\n      <use x=\"855.957031\" xlink:href=\"#DejaVuSans-111\"/>\r\n      <use x=\"917.138672\" xlink:href=\"#DejaVuSans-114\"/>\r\n      <use x=\"956.001953\" xlink:href=\"#DejaVuSans-101\"/>\r\n     </g>\r\n    </g>\r\n    <g id=\"line2d_34\">\r\n     <path d=\"M 297.495313 372.862187 \r\nL 317.495313 372.862187 \r\n\" style=\"fill:none;stroke:#8c564b;stroke-linecap:square;stroke-width:1.5;\"/>\r\n    </g>\r\n    <g id=\"line2d_35\"/>\r\n    <g id=\"text_25\">\r\n     <!-- mean_test_F1Score -->\r\n     <g transform=\"translate(325.495313 376.362187)scale(0.1 -0.1)\">\r\n      <use xlink:href=\"#DejaVuSans-109\"/>\r\n      <use x=\"97.412109\" xlink:href=\"#DejaVuSans-101\"/>\r\n      <use x=\"158.935547\" xlink:href=\"#DejaVuSans-97\"/>\r\n      <use x=\"220.214844\" xlink:href=\"#DejaVuSans-110\"/>\r\n      <use x=\"283.59375\" xlink:href=\"#DejaVuSans-95\"/>\r\n      <use x=\"333.59375\" xlink:href=\"#DejaVuSans-116\"/>\r\n      <use x=\"372.802734\" xlink:href=\"#DejaVuSans-101\"/>\r\n      <use x=\"434.326172\" xlink:href=\"#DejaVuSans-115\"/>\r\n      <use x=\"486.425781\" xlink:href=\"#DejaVuSans-116\"/>\r\n      <use x=\"525.634766\" xlink:href=\"#DejaVuSans-95\"/>\r\n      <use x=\"575.634766\" xlink:href=\"#DejaVuSans-70\"/>\r\n      <use x=\"633.154297\" xlink:href=\"#DejaVuSans-49\"/>\r\n      <use x=\"696.777344\" xlink:href=\"#DejaVuSans-83\"/>\r\n      <use x=\"760.253906\" xlink:href=\"#DejaVuSans-99\"/>\r\n      <use x=\"815.234375\" xlink:href=\"#DejaVuSans-111\"/>\r\n      <use x=\"876.416016\" xlink:href=\"#DejaVuSans-114\"/>\r\n      <use x=\"915.279297\" xlink:href=\"#DejaVuSans-101\"/>\r\n     </g>\r\n    </g>\r\n   </g>\r\n  </g>\r\n </g>\r\n <defs>\r\n  <clipPath id=\"p7821b175da\">\r\n   <rect height=\"380.52\" width=\"390.6\" x=\"50.14375\" y=\"7.2\"/>\r\n  </clipPath>\r\n </defs>\r\n</svg>\r\n",
      "image/png": "[encoded data removed]"
     },
     "metadata": {
      "needs_background": "light"
     }
    }
   ],
   "source": [
    "mean_precision = list()\n",
    "mean_recall = list()\n",
    "mean_f1score = list()\n",
    "fig,ax_ada = plt.subplots(1,1,figsize = (7,7))\n",
    "ax_ada.set_xlabel('Parameters')\n",
    "ax_ada.set_ylabel('Score')\n",
    "ax_ada.set_xticklabels(x_label_list_ada, rotation = 45)\n",
    "for score_type,color in list(zip(*(scoring_ada_boost, [\"b\",'r','g']))):\n",
    "    for (sample_type,style) in (('train','--'),('test','-')):\n",
    "        sample_mean_score = grid_ada_boost.cv_results_['mean_{}_{}'.format(sample_type,score_type)]\n",
    "        ax_ada.plot(x_label_list_ada,sample_mean_score, label = 'mean_{}_{}'.format(sample_type,score_type))\n",
    "    \n",
    "ax_ada.legend()"
   ]
  },
  {
   "cell_type": "code",
   "execution_count": 95,
   "metadata": {},
   "outputs": [],
   "source": [
    "final_best_estimator = grid_ada_boost.best_estimator_"
   ]
  },
  {
   "cell_type": "code",
   "execution_count": 96,
   "metadata": {},
   "outputs": [
    {
     "output_type": "execute_result",
     "data": {
      "text/plain": [
       "1.0"
      ]
     },
     "metadata": {},
     "execution_count": 96
    }
   ],
   "source": [
    "precision_score(X_train_transformed_df[\"Result\"],final_best_estimator.predict(X_train_transformed_df[columns]))"
   ]
  },
  {
   "cell_type": "code",
   "execution_count": 97,
   "metadata": {},
   "outputs": [
    {
     "output_type": "execute_result",
     "data": {
      "text/plain": [
       "0.9827160493827161"
      ]
     },
     "metadata": {},
     "execution_count": 97
    }
   ],
   "source": [
    "recall_score(X_train_transformed_df[\"Result\"],final_best_estimator.predict(X_train_transformed_df[columns]))"
   ]
  },
  {
   "cell_type": "code",
   "execution_count": 98,
   "metadata": {},
   "outputs": [],
   "source": [
    "res_test = datatransformation.transform(X_test)"
   ]
  },
  {
   "cell_type": "code",
   "execution_count": 99,
   "metadata": {},
   "outputs": [
    {
     "output_type": "execute_result",
     "data": {
      "text/plain": [
       "array([[ 4., 12.,  1., ...,  0.,  0.,  0.],\n",
       "       [76.,  5.,  1., ...,  1.,  0.,  0.],\n",
       "       [28., 29.,  6., ...,  0.,  0.,  0.],\n",
       "       ...,\n",
       "       [ 9.,  9.,  5., ...,  0.,  0.,  0.],\n",
       "       [ 4.,  0.,  1., ...,  0.,  0.,  0.],\n",
       "       [10., 14.,  2., ...,  0.,  0.,  0.]])"
      ]
     },
     "metadata": {},
     "execution_count": 99
    }
   ],
   "source": [
    "X_test_transformed = res_test[0]\n",
    "X_test_transformed"
   ]
  },
  {
   "cell_type": "code",
   "execution_count": 100,
   "metadata": {},
   "outputs": [
    {
     "output_type": "execute_result",
     "data": {
      "text/plain": [
       "(611, 1001)"
      ]
     },
     "metadata": {},
     "execution_count": 100
    }
   ],
   "source": [
    "X_test_transformed.shape"
   ]
  },
  {
   "cell_type": "code",
   "execution_count": 101,
   "metadata": {},
   "outputs": [
    {
     "output_type": "execute_result",
     "data": {
      "text/plain": [
       "     Not in Vocabulary  number  url  list  use  mail  get  one  time  like  \\\n",
       "0                  4.0    12.0  1.0   1.0  0.0   0.0  0.0  0.0   0.0   0.0   \n",
       "1                 76.0     5.0  1.0   0.0  1.0   0.0  1.0  0.0   0.0   1.0   \n",
       "2                 28.0    29.0  6.0   0.0  1.0   0.0  0.0  0.0   0.0   0.0   \n",
       "3                 13.0    12.0  0.0   0.0  0.0   0.0  0.0  0.0   0.0   0.0   \n",
       "4                  6.0     0.0  2.0   0.0  0.0   0.0  0.0  0.0   0.0   0.0   \n",
       "..                 ...     ...  ...   ...  ...   ...  ...  ...   ...   ...   \n",
       "606               16.0     2.0  1.0   0.0  1.0   0.0  0.0  0.0   1.0   0.0   \n",
       "607                8.0     1.0  2.0   0.0  0.0   1.0  1.0  0.0   1.0   0.0   \n",
       "608                9.0     9.0  5.0   0.0  0.0   0.0  0.0  0.0   0.0   0.0   \n",
       "609                4.0     0.0  1.0   0.0  0.0   0.0  0.0  0.0   0.0   1.0   \n",
       "610               10.0    14.0  2.0   3.0  0.0   1.0  0.0  0.0   1.0   0.0   \n",
       "\n",
       "     ...  approv  owner  decis  expert  match  btw  middl  mode  effici  \\\n",
       "0    ...     0.0    0.0    0.0     0.0    0.0  0.0    0.0   0.0     0.0   \n",
       "1    ...     0.0    0.0    0.0     0.0    0.0  0.0    0.0   1.0     0.0   \n",
       "2    ...     0.0    0.0    0.0     0.0    0.0  0.0    0.0   0.0     0.0   \n",
       "3    ...     0.0    0.0    0.0     0.0    0.0  0.0    0.0   0.0     0.0   \n",
       "4    ...     0.0    0.0    0.0     0.0    0.0  0.0    0.0   0.0     0.0   \n",
       "..   ...     ...    ...    ...     ...    ...  ...    ...   ...     ...   \n",
       "606  ...     0.0    0.0    0.0     0.0    0.0  0.0    0.0   0.0     0.0   \n",
       "607  ...     0.0    0.0    0.0     0.0    0.0  0.0    0.0   0.0     0.0   \n",
       "608  ...     0.0    0.0    0.0     0.0    0.0  0.0    0.0   0.0     0.0   \n",
       "609  ...     0.0    0.0    0.0     0.0    0.0  0.0    0.0   0.0     0.0   \n",
       "610  ...     0.0    0.0    0.0     0.0    0.0  0.0    0.0   0.0     0.0   \n",
       "\n",
       "     startup  \n",
       "0        0.0  \n",
       "1        0.0  \n",
       "2        0.0  \n",
       "3        0.0  \n",
       "4        0.0  \n",
       "..       ...  \n",
       "606      0.0  \n",
       "607      0.0  \n",
       "608      0.0  \n",
       "609      0.0  \n",
       "610      0.0  \n",
       "\n",
       "[611 rows x 1001 columns]"
      ],
      "text/html": "<div>\n<style scoped>\n    .dataframe tbody tr th:only-of-type {\n        vertical-align: middle;\n    }\n\n    .dataframe tbody tr th {\n        vertical-align: top;\n    }\n\n    .dataframe thead th {\n        text-align: right;\n    }\n</style>\n<table border=\"1\" class=\"dataframe\">\n  <thead>\n    <tr style=\"text-align: right;\">\n      <th></th>\n      <th>Not in Vocabulary</th>\n      <th>number</th>\n      <th>url</th>\n      <th>list</th>\n      <th>use</th>\n      <th>mail</th>\n      <th>get</th>\n      <th>one</th>\n      <th>time</th>\n      <th>like</th>\n      <th>...</th>\n      <th>approv</th>\n      <th>owner</th>\n      <th>decis</th>\n      <th>expert</th>\n      <th>match</th>\n      <th>btw</th>\n      <th>middl</th>\n      <th>mode</th>\n      <th>effici</th>\n      <th>startup</th>\n    </tr>\n  </thead>\n  <tbody>\n    <tr>\n      <th>0</th>\n      <td>4.0</td>\n      <td>12.0</td>\n      <td>1.0</td>\n      <td>1.0</td>\n      <td>0.0</td>\n      <td>0.0</td>\n      <td>0.0</td>\n      <td>0.0</td>\n      <td>0.0</td>\n      <td>0.0</td>\n      <td>...</td>\n      <td>0.0</td>\n      <td>0.0</td>\n      <td>0.0</td>\n      <td>0.0</td>\n      <td>0.0</td>\n      <td>0.0</td>\n      <td>0.0</td>\n      <td>0.0</td>\n      <td>0.0</td>\n      <td>0.0</td>\n    </tr>\n    <tr>\n      <th>1</th>\n      <td>76.0</td>\n      <td>5.0</td>\n      <td>1.0</td>\n      <td>0.0</td>\n      <td>1.0</td>\n      <td>0.0</td>\n      <td>1.0</td>\n      <td>0.0</td>\n      <td>0.0</td>\n      <td>1.0</td>\n      <td>...</td>\n      <td>0.0</td>\n      <td>0.0</td>\n      <td>0.0</td>\n      <td>0.0</td>\n      <td>0.0</td>\n      <td>0.0</td>\n      <td>0.0</td>\n      <td>1.0</td>\n      <td>0.0</td>\n      <td>0.0</td>\n    </tr>\n    <tr>\n      <th>2</th>\n      <td>28.0</td>\n      <td>29.0</td>\n      <td>6.0</td>\n      <td>0.0</td>\n      <td>1.0</td>\n      <td>0.0</td>\n      <td>0.0</td>\n      <td>0.0</td>\n      <td>0.0</td>\n      <td>0.0</td>\n      <td>...</td>\n      <td>0.0</td>\n      <td>0.0</td>\n      <td>0.0</td>\n      <td>0.0</td>\n      <td>0.0</td>\n      <td>0.0</td>\n      <td>0.0</td>\n      <td>0.0</td>\n      <td>0.0</td>\n      <td>0.0</td>\n    </tr>\n    <tr>\n      <th>3</th>\n      <td>13.0</td>\n      <td>12.0</td>\n      <td>0.0</td>\n      <td>0.0</td>\n      <td>0.0</td>\n      <td>0.0</td>\n      <td>0.0</td>\n      <td>0.0</td>\n      <td>0.0</td>\n      <td>0.0</td>\n      <td>...</td>\n      <td>0.0</td>\n      <td>0.0</td>\n      <td>0.0</td>\n      <td>0.0</td>\n      <td>0.0</td>\n      <td>0.0</td>\n      <td>0.0</td>\n      <td>0.0</td>\n      <td>0.0</td>\n      <td>0.0</td>\n    </tr>\n    <tr>\n      <th>4</th>\n      <td>6.0</td>\n      <td>0.0</td>\n      <td>2.0</td>\n      <td>0.0</td>\n      <td>0.0</td>\n      <td>0.0</td>\n      <td>0.0</td>\n      <td>0.0</td>\n      <td>0.0</td>\n      <td>0.0</td>\n      <td>...</td>\n      <td>0.0</td>\n      <td>0.0</td>\n      <td>0.0</td>\n      <td>0.0</td>\n      <td>0.0</td>\n      <td>0.0</td>\n      <td>0.0</td>\n      <td>0.0</td>\n      <td>0.0</td>\n      <td>0.0</td>\n    </tr>\n    <tr>\n      <th>...</th>\n      <td>...</td>\n      <td>...</td>\n      <td>...</td>\n      <td>...</td>\n      <td>...</td>\n      <td>...</td>\n      <td>...</td>\n      <td>...</td>\n      <td>...</td>\n      <td>...</td>\n      <td>...</td>\n      <td>...</td>\n      <td>...</td>\n      <td>...</td>\n      <td>...</td>\n      <td>...</td>\n      <td>...</td>\n      <td>...</td>\n      <td>...</td>\n      <td>...</td>\n      <td>...</td>\n    </tr>\n    <tr>\n      <th>606</th>\n      <td>16.0</td>\n      <td>2.0</td>\n      <td>1.0</td>\n      <td>0.0</td>\n      <td>1.0</td>\n      <td>0.0</td>\n      <td>0.0</td>\n      <td>0.0</td>\n      <td>1.0</td>\n      <td>0.0</td>\n      <td>...</td>\n      <td>0.0</td>\n      <td>0.0</td>\n      <td>0.0</td>\n      <td>0.0</td>\n      <td>0.0</td>\n      <td>0.0</td>\n      <td>0.0</td>\n      <td>0.0</td>\n      <td>0.0</td>\n      <td>0.0</td>\n    </tr>\n    <tr>\n      <th>607</th>\n      <td>8.0</td>\n      <td>1.0</td>\n      <td>2.0</td>\n      <td>0.0</td>\n      <td>0.0</td>\n      <td>1.0</td>\n      <td>1.0</td>\n      <td>0.0</td>\n      <td>1.0</td>\n      <td>0.0</td>\n      <td>...</td>\n      <td>0.0</td>\n      <td>0.0</td>\n      <td>0.0</td>\n      <td>0.0</td>\n      <td>0.0</td>\n      <td>0.0</td>\n      <td>0.0</td>\n      <td>0.0</td>\n      <td>0.0</td>\n      <td>0.0</td>\n    </tr>\n    <tr>\n      <th>608</th>\n      <td>9.0</td>\n      <td>9.0</td>\n      <td>5.0</td>\n      <td>0.0</td>\n      <td>0.0</td>\n      <td>0.0</td>\n      <td>0.0</td>\n      <td>0.0</td>\n      <td>0.0</td>\n      <td>0.0</td>\n      <td>...</td>\n      <td>0.0</td>\n      <td>0.0</td>\n      <td>0.0</td>\n      <td>0.0</td>\n      <td>0.0</td>\n      <td>0.0</td>\n      <td>0.0</td>\n      <td>0.0</td>\n      <td>0.0</td>\n      <td>0.0</td>\n    </tr>\n    <tr>\n      <th>609</th>\n      <td>4.0</td>\n      <td>0.0</td>\n      <td>1.0</td>\n      <td>0.0</td>\n      <td>0.0</td>\n      <td>0.0</td>\n      <td>0.0</td>\n      <td>0.0</td>\n      <td>0.0</td>\n      <td>1.0</td>\n      <td>...</td>\n      <td>0.0</td>\n      <td>0.0</td>\n      <td>0.0</td>\n      <td>0.0</td>\n      <td>0.0</td>\n      <td>0.0</td>\n      <td>0.0</td>\n      <td>0.0</td>\n      <td>0.0</td>\n      <td>0.0</td>\n    </tr>\n    <tr>\n      <th>610</th>\n      <td>10.0</td>\n      <td>14.0</td>\n      <td>2.0</td>\n      <td>3.0</td>\n      <td>0.0</td>\n      <td>1.0</td>\n      <td>0.0</td>\n      <td>0.0</td>\n      <td>1.0</td>\n      <td>0.0</td>\n      <td>...</td>\n      <td>0.0</td>\n      <td>0.0</td>\n      <td>0.0</td>\n      <td>0.0</td>\n      <td>0.0</td>\n      <td>0.0</td>\n      <td>0.0</td>\n      <td>0.0</td>\n      <td>0.0</td>\n      <td>0.0</td>\n    </tr>\n  </tbody>\n</table>\n<p>611 rows × 1001 columns</p>\n</div>"
     },
     "metadata": {},
     "execution_count": 101
    }
   ],
   "source": [
    "X_test_transformed_df = pd.DataFrame(data = X_test_transformed,columns = columns)\n",
    "X_test_transformed_df"
   ]
  },
  {
   "cell_type": "code",
   "execution_count": 102,
   "metadata": {},
   "outputs": [],
   "source": [
    "X_test_transformed_df[\"Results\"] = y_test"
   ]
  },
  {
   "cell_type": "code",
   "execution_count": 103,
   "metadata": {},
   "outputs": [
    {
     "output_type": "execute_result",
     "data": {
      "text/plain": [
       "     Not in Vocabulary  number  url  list  use  mail  get  one  time  like  \\\n",
       "0                  4.0    12.0  1.0   1.0  0.0   0.0  0.0  0.0   0.0   0.0   \n",
       "1                 76.0     5.0  1.0   0.0  1.0   0.0  1.0  0.0   0.0   1.0   \n",
       "2                 28.0    29.0  6.0   0.0  1.0   0.0  0.0  0.0   0.0   0.0   \n",
       "3                 13.0    12.0  0.0   0.0  0.0   0.0  0.0  0.0   0.0   0.0   \n",
       "4                  6.0     0.0  2.0   0.0  0.0   0.0  0.0  0.0   0.0   0.0   \n",
       "..                 ...     ...  ...   ...  ...   ...  ...  ...   ...   ...   \n",
       "606               16.0     2.0  1.0   0.0  1.0   0.0  0.0  0.0   1.0   0.0   \n",
       "607                8.0     1.0  2.0   0.0  0.0   1.0  1.0  0.0   1.0   0.0   \n",
       "608                9.0     9.0  5.0   0.0  0.0   0.0  0.0  0.0   0.0   0.0   \n",
       "609                4.0     0.0  1.0   0.0  0.0   0.0  0.0  0.0   0.0   1.0   \n",
       "610               10.0    14.0  2.0   3.0  0.0   1.0  0.0  0.0   1.0   0.0   \n",
       "\n",
       "     ...  owner  decis  expert  match  btw  middl  mode  effici  startup  \\\n",
       "0    ...    0.0    0.0     0.0    0.0  0.0    0.0   0.0     0.0      0.0   \n",
       "1    ...    0.0    0.0     0.0    0.0  0.0    0.0   1.0     0.0      0.0   \n",
       "2    ...    0.0    0.0     0.0    0.0  0.0    0.0   0.0     0.0      0.0   \n",
       "3    ...    0.0    0.0     0.0    0.0  0.0    0.0   0.0     0.0      0.0   \n",
       "4    ...    0.0    0.0     0.0    0.0  0.0    0.0   0.0     0.0      0.0   \n",
       "..   ...    ...    ...     ...    ...  ...    ...   ...     ...      ...   \n",
       "606  ...    0.0    0.0     0.0    0.0  0.0    0.0   0.0     0.0      0.0   \n",
       "607  ...    0.0    0.0     0.0    0.0  0.0    0.0   0.0     0.0      0.0   \n",
       "608  ...    0.0    0.0     0.0    0.0  0.0    0.0   0.0     0.0      0.0   \n",
       "609  ...    0.0    0.0     0.0    0.0  0.0    0.0   0.0     0.0      0.0   \n",
       "610  ...    0.0    0.0     0.0    0.0  0.0    0.0   0.0     0.0      0.0   \n",
       "\n",
       "     Results  \n",
       "0          0  \n",
       "1          0  \n",
       "2          0  \n",
       "3          0  \n",
       "4          0  \n",
       "..       ...  \n",
       "606        0  \n",
       "607        0  \n",
       "608        0  \n",
       "609        1  \n",
       "610        0  \n",
       "\n",
       "[611 rows x 1002 columns]"
      ],
      "text/html": "<div>\n<style scoped>\n    .dataframe tbody tr th:only-of-type {\n        vertical-align: middle;\n    }\n\n    .dataframe tbody tr th {\n        vertical-align: top;\n    }\n\n    .dataframe thead th {\n        text-align: right;\n    }\n</style>\n<table border=\"1\" class=\"dataframe\">\n  <thead>\n    <tr style=\"text-align: right;\">\n      <th></th>\n      <th>Not in Vocabulary</th>\n      <th>number</th>\n      <th>url</th>\n      <th>list</th>\n      <th>use</th>\n      <th>mail</th>\n      <th>get</th>\n      <th>one</th>\n      <th>time</th>\n      <th>like</th>\n      <th>...</th>\n      <th>owner</th>\n      <th>decis</th>\n      <th>expert</th>\n      <th>match</th>\n      <th>btw</th>\n      <th>middl</th>\n      <th>mode</th>\n      <th>effici</th>\n      <th>startup</th>\n      <th>Results</th>\n    </tr>\n  </thead>\n  <tbody>\n    <tr>\n      <th>0</th>\n      <td>4.0</td>\n      <td>12.0</td>\n      <td>1.0</td>\n      <td>1.0</td>\n      <td>0.0</td>\n      <td>0.0</td>\n      <td>0.0</td>\n      <td>0.0</td>\n      <td>0.0</td>\n      <td>0.0</td>\n      <td>...</td>\n      <td>0.0</td>\n      <td>0.0</td>\n      <td>0.0</td>\n      <td>0.0</td>\n      <td>0.0</td>\n      <td>0.0</td>\n      <td>0.0</td>\n      <td>0.0</td>\n      <td>0.0</td>\n      <td>0</td>\n    </tr>\n    <tr>\n      <th>1</th>\n      <td>76.0</td>\n      <td>5.0</td>\n      <td>1.0</td>\n      <td>0.0</td>\n      <td>1.0</td>\n      <td>0.0</td>\n      <td>1.0</td>\n      <td>0.0</td>\n      <td>0.0</td>\n      <td>1.0</td>\n      <td>...</td>\n      <td>0.0</td>\n      <td>0.0</td>\n      <td>0.0</td>\n      <td>0.0</td>\n      <td>0.0</td>\n      <td>0.0</td>\n      <td>1.0</td>\n      <td>0.0</td>\n      <td>0.0</td>\n      <td>0</td>\n    </tr>\n    <tr>\n      <th>2</th>\n      <td>28.0</td>\n      <td>29.0</td>\n      <td>6.0</td>\n      <td>0.0</td>\n      <td>1.0</td>\n      <td>0.0</td>\n      <td>0.0</td>\n      <td>0.0</td>\n      <td>0.0</td>\n      <td>0.0</td>\n      <td>...</td>\n      <td>0.0</td>\n      <td>0.0</td>\n      <td>0.0</td>\n      <td>0.0</td>\n      <td>0.0</td>\n      <td>0.0</td>\n      <td>0.0</td>\n      <td>0.0</td>\n      <td>0.0</td>\n      <td>0</td>\n    </tr>\n    <tr>\n      <th>3</th>\n      <td>13.0</td>\n      <td>12.0</td>\n      <td>0.0</td>\n      <td>0.0</td>\n      <td>0.0</td>\n      <td>0.0</td>\n      <td>0.0</td>\n      <td>0.0</td>\n      <td>0.0</td>\n      <td>0.0</td>\n      <td>...</td>\n      <td>0.0</td>\n      <td>0.0</td>\n      <td>0.0</td>\n      <td>0.0</td>\n      <td>0.0</td>\n      <td>0.0</td>\n      <td>0.0</td>\n      <td>0.0</td>\n      <td>0.0</td>\n      <td>0</td>\n    </tr>\n    <tr>\n      <th>4</th>\n      <td>6.0</td>\n      <td>0.0</td>\n      <td>2.0</td>\n      <td>0.0</td>\n      <td>0.0</td>\n      <td>0.0</td>\n      <td>0.0</td>\n      <td>0.0</td>\n      <td>0.0</td>\n      <td>0.0</td>\n      <td>...</td>\n      <td>0.0</td>\n      <td>0.0</td>\n      <td>0.0</td>\n      <td>0.0</td>\n      <td>0.0</td>\n      <td>0.0</td>\n      <td>0.0</td>\n      <td>0.0</td>\n      <td>0.0</td>\n      <td>0</td>\n    </tr>\n    <tr>\n      <th>...</th>\n      <td>...</td>\n      <td>...</td>\n      <td>...</td>\n      <td>...</td>\n      <td>...</td>\n      <td>...</td>\n      <td>...</td>\n      <td>...</td>\n      <td>...</td>\n      <td>...</td>\n      <td>...</td>\n      <td>...</td>\n      <td>...</td>\n      <td>...</td>\n      <td>...</td>\n      <td>...</td>\n      <td>...</td>\n      <td>...</td>\n      <td>...</td>\n      <td>...</td>\n      <td>...</td>\n    </tr>\n    <tr>\n      <th>606</th>\n      <td>16.0</td>\n      <td>2.0</td>\n      <td>1.0</td>\n      <td>0.0</td>\n      <td>1.0</td>\n      <td>0.0</td>\n      <td>0.0</td>\n      <td>0.0</td>\n      <td>1.0</td>\n      <td>0.0</td>\n      <td>...</td>\n      <td>0.0</td>\n      <td>0.0</td>\n      <td>0.0</td>\n      <td>0.0</td>\n      <td>0.0</td>\n      <td>0.0</td>\n      <td>0.0</td>\n      <td>0.0</td>\n      <td>0.0</td>\n      <td>0</td>\n    </tr>\n    <tr>\n      <th>607</th>\n      <td>8.0</td>\n      <td>1.0</td>\n      <td>2.0</td>\n      <td>0.0</td>\n      <td>0.0</td>\n      <td>1.0</td>\n      <td>1.0</td>\n      <td>0.0</td>\n      <td>1.0</td>\n      <td>0.0</td>\n      <td>...</td>\n      <td>0.0</td>\n      <td>0.0</td>\n      <td>0.0</td>\n      <td>0.0</td>\n      <td>0.0</td>\n      <td>0.0</td>\n      <td>0.0</td>\n      <td>0.0</td>\n      <td>0.0</td>\n      <td>0</td>\n    </tr>\n    <tr>\n      <th>608</th>\n      <td>9.0</td>\n      <td>9.0</td>\n      <td>5.0</td>\n      <td>0.0</td>\n      <td>0.0</td>\n      <td>0.0</td>\n      <td>0.0</td>\n      <td>0.0</td>\n      <td>0.0</td>\n      <td>0.0</td>\n      <td>...</td>\n      <td>0.0</td>\n      <td>0.0</td>\n      <td>0.0</td>\n      <td>0.0</td>\n      <td>0.0</td>\n      <td>0.0</td>\n      <td>0.0</td>\n      <td>0.0</td>\n      <td>0.0</td>\n      <td>0</td>\n    </tr>\n    <tr>\n      <th>609</th>\n      <td>4.0</td>\n      <td>0.0</td>\n      <td>1.0</td>\n      <td>0.0</td>\n      <td>0.0</td>\n      <td>0.0</td>\n      <td>0.0</td>\n      <td>0.0</td>\n      <td>0.0</td>\n      <td>1.0</td>\n      <td>...</td>\n      <td>0.0</td>\n      <td>0.0</td>\n      <td>0.0</td>\n      <td>0.0</td>\n      <td>0.0</td>\n      <td>0.0</td>\n      <td>0.0</td>\n      <td>0.0</td>\n      <td>0.0</td>\n      <td>1</td>\n    </tr>\n    <tr>\n      <th>610</th>\n      <td>10.0</td>\n      <td>14.0</td>\n      <td>2.0</td>\n      <td>3.0</td>\n      <td>0.0</td>\n      <td>1.0</td>\n      <td>0.0</td>\n      <td>0.0</td>\n      <td>1.0</td>\n      <td>0.0</td>\n      <td>...</td>\n      <td>0.0</td>\n      <td>0.0</td>\n      <td>0.0</td>\n      <td>0.0</td>\n      <td>0.0</td>\n      <td>0.0</td>\n      <td>0.0</td>\n      <td>0.0</td>\n      <td>0.0</td>\n      <td>0</td>\n    </tr>\n  </tbody>\n</table>\n<p>611 rows × 1002 columns</p>\n</div>"
     },
     "metadata": {},
     "execution_count": 103
    }
   ],
   "source": [
    "X_test_transformed_df"
   ]
  },
  {
   "cell_type": "code",
   "execution_count": 104,
   "metadata": {},
   "outputs": [
    {
     "output_type": "execute_result",
     "data": {
      "text/plain": [
       "0    516\n",
       "1     95\n",
       "Name: Results, dtype: int64"
      ]
     },
     "metadata": {},
     "execution_count": 104
    }
   ],
   "source": [
    "X_test_transformed_df[\"Results\"].value_counts()"
   ]
  },
  {
   "source": [
    "<h3> Performance of final estimator on unseen test data </h3>"
   ],
   "cell_type": "markdown",
   "metadata": {}
  },
  {
   "cell_type": "code",
   "execution_count": 105,
   "metadata": {},
   "outputs": [
    {
     "output_type": "execute_result",
     "data": {
      "text/plain": [
       "array([[516,   0],\n",
       "       [  5,  90]], dtype=int64)"
      ]
     },
     "metadata": {},
     "execution_count": 105
    }
   ],
   "source": [
    "confusion_matrix(X_test_transformed_df[\"Results\"],final_best_estimator.predict(X_test_transformed_df[columns]))"
   ]
  },
  {
   "cell_type": "code",
   "execution_count": 106,
   "metadata": {},
   "outputs": [
    {
     "output_type": "execute_result",
     "data": {
      "text/plain": [
       "1.0"
      ]
     },
     "metadata": {},
     "execution_count": 106
    }
   ],
   "source": [
    "precision_score(X_test_transformed_df[\"Results\"],final_best_estimator.predict(X_test_transformed_df[columns]))"
   ]
  },
  {
   "cell_type": "code",
   "execution_count": 107,
   "metadata": {},
   "outputs": [
    {
     "output_type": "execute_result",
     "data": {
      "text/plain": [
       "0.9473684210526315"
      ]
     },
     "metadata": {},
     "execution_count": 107
    }
   ],
   "source": [
    "recall_score(X_test_transformed_df[\"Results\"],final_best_estimator.predict(X_test_transformed_df[columns]))"
   ]
  },
  {
   "cell_type": "code",
   "execution_count": 108,
   "metadata": {},
   "outputs": [
    {
     "output_type": "execute_result",
     "data": {
      "text/plain": [
       "0.972972972972973"
      ]
     },
     "metadata": {},
     "execution_count": 108
    }
   ],
   "source": [
    "f1_score(X_test_transformed_df[\"Results\"],final_best_estimator.predict(X_test_transformed_df[columns]))"
   ]
  },
  {
   "cell_type": "code",
   "execution_count": 109,
   "metadata": {},
   "outputs": [],
   "source": [
    "import tensorflow as tf\n",
    "from tensorflow import keras"
   ]
  },
  {
   "cell_type": "code",
   "execution_count": 113,
   "metadata": {},
   "outputs": [
    {
     "output_type": "execute_result",
     "data": {
      "text/plain": [
       "(2440, 1001)"
      ]
     },
     "metadata": {},
     "execution_count": 113
    }
   ],
   "source": [
    "X_train_transformed_df[columns].shape"
   ]
  },
  {
   "cell_type": "code",
   "execution_count": 229,
   "metadata": {},
   "outputs": [],
   "source": [
    "class customWeightedPrecision(keras.metrics.Metric):\n",
    "    def __init__(self,**kwargs):\n",
    "        super().__init__(**kwargs)\n",
    "    def update_state(self,ytrue,ypred,sample_weight = None):\n",
    "        #no.ofclasses\n",
    "        try:\n",
    "            for _class in self.unique.numpy():\n",
    "                self.totaltrue[0,_class].assign(tf.add(self.totaltrue[0,_class],tf.where(tf.constant(ytrue) == _class).shape[0]))\n",
    "                self.totalprediction[0,_class].assign(tf.add(self.totalprediction[0,_class],tf.where(tf.constant(ypred) == _class).shape[0]))\n",
    "                for i in tf.where(tf.constant(ytrue) == _class):\n",
    "                    if i in tf.where(tf.constant(ypred) == _class):\n",
    "                        self.truepositives[0,_class].assign(tf.add(self.truepositives[0,_class],1))\n",
    "        except:\n",
    "            self.unique,_,_ = tf.unique_with_counts(ytrue)\n",
    "            self.truepositives = self.add_weight(\"truepositives\",\n",
    "            shape = [1,tf.shape(self.unique).numpy()[0]],\n",
    "            initializer = \"zeros\")\n",
    "            self.totalprediction = self.add_weight(\"totalprediction\",\n",
    "            shape = [1,tf.shape(self.unique).numpy()[0]],\n",
    "            initializer = \"zeros\")\n",
    "            self.precisionresult = self.add_weight(\"precisionresult\",\n",
    "            shape = [1,tf.shape(self.unique).numpy()[0]],\n",
    "            initializer = \"zeros\")\n",
    "            self.totaltrue = self.add_weight(\"totaltrueresult\",\n",
    "            shape = [1,tf.shape(self.unique).numpy()[0]],\n",
    "            initializer = \"zeros\")\n",
    "            for _class in self.unique.numpy():\n",
    "                self.totaltrue[0,_class].assign(tf.add(self.totaltrue[0,_class],tf.where(tf.constant(ytrue) == _class).shape[0]))\n",
    "                self.totalprediction[0,_class].assign(tf.add(self.totalprediction[0,_class],tf.where(tf.constant(ypred) == _class).shape[0]))\n",
    "                for i in tf.where(tf.constant(ytrue) == _class):\n",
    "                    if i in tf.where(tf.constant(ypred) == _class):\n",
    "                        self.truepositives[0,_class].assign(tf.add(self.truepositives[0,_class],1))\n",
    "    def result(self):\n",
    "        for _class in self.unique.numpy():\n",
    "            if(self.totalprediction[0,_class] != 0):\n",
    "                self.precisionresult[0,_class].assign(self.truepositives[0,_class]/self.totalprediction[0,_class])\n",
    "                weighted_prec = tf.multiply(self.precisionresult[0,_class],tf.divide(self.totaltrue[0,_class],tf.reduce_sum(self.totaltrue)))\n",
    "                self.precisionresult[0,_class].assign(weighted_prec)\n",
    "        return tf.reduce_sum(self.precisionresult)\n",
    "        #return self.totalprediction\n",
    "    def get_config(self):\n",
    "        base_config = self.get_config()\n",
    "        return {**base_config}      "
   ]
  },
  {
   "cell_type": "code",
   "execution_count": 230,
   "metadata": {},
   "outputs": [],
   "source": [
    "class customWeightedRecall(keras.metrics.Metric):\n",
    "    def __init__(self,**kwargs):\n",
    "        super().__init__(**kwargs)\n",
    "    def update_state(self,ytrue,ypred,sample_weight = None):\n",
    "        #no.ofclasses\n",
    "        try:\n",
    "            for _class in self.unique.numpy():\n",
    "                self.totaltrue[0,_class].assign(tf.add(self.totaltrue[0,_class],tf.where(tf.constant(ytrue) == _class).shape[0]))\n",
    "                self.totalprediction[0,_class].assign(tf.add(self.totalprediction[0,_class],tf.where(tf.constant(ypred) == _class).shape[0]))\n",
    "                for i in tf.where(tf.constant(ytrue) == _class):\n",
    "                    if i in tf.where(tf.constant(ypred) == _class):\n",
    "                        self.truepositives[0,_class].assign(tf.add(self.truepositives[0,_class],1))\n",
    "        except:\n",
    "            self.unique,_,_ = tf.unique_with_counts(ytrue)\n",
    "            self.truepositives = self.add_weight(\"truepositives\",\n",
    "            shape = [1,tf.shape(self.unique).numpy()[0]],\n",
    "            initializer = \"zeros\")\n",
    "            self.totalprediction = self.add_weight(\"totalprediction\",\n",
    "            shape = [1,tf.shape(self.unique).numpy()[0]],\n",
    "            initializer = \"zeros\")\n",
    "            self.recallresult = self.add_weight(\"recallresult\",\n",
    "            shape = [1,tf.shape(self.unique).numpy()[0]],\n",
    "            initializer = \"zeros\")\n",
    "            self.totaltrue = self.add_weight(\"totaltrueresult\",\n",
    "            shape = [1,tf.shape(self.unique).numpy()[0]],\n",
    "            initializer = \"zeros\")\n",
    "            for _class in self.unique.numpy():\n",
    "                self.totaltrue[0,_class].assign(tf.add(self.totaltrue[0,_class],tf.where(tf.constant(ytrue) == _class).shape[0]))\n",
    "                self.totalprediction[0,_class].assign(tf.add(self.totalprediction[0,_class],tf.where(tf.constant(ypred) == _class).shape[0]))\n",
    "                for i in tf.where(tf.constant(ytrue) == _class):\n",
    "                    if i in tf.where(tf.constant(ypred) == _class):\n",
    "                        self.truepositives[0,_class].assign(tf.add(self.truepositives[0,_class],1))\n",
    "    def result(self):\n",
    "        for _class in self.unique.numpy():\n",
    "            if(self.totalprediction[0,_class] != 0):\n",
    "                self.recallresult[0,_class].assign(self.truepositives[0,_class]/self.totaltrue[0,_class])\n",
    "                weighted_recall = tf.multiply(self.recallresult[0,_class],tf.divide(self.totaltrue[0,_class],tf.reduce_sum(self.totaltrue)))\n",
    "                self.recallresult[0,_class].assign(weighted_recall)\n",
    "        return tf.reduce_sum(self.recallresult)\n",
    "        #return self.totalprediction\n",
    "    def get_config(self):\n",
    "        base_config = self.get_config()\n",
    "        return {**base_config}      "
   ]
  },
  {
   "cell_type": "code",
   "execution_count": 275,
   "metadata": {},
   "outputs": [],
   "source": [
    "#create an input layer which just initializes ones\n",
    "class customInputLayer(keras.layers.Layer):\n",
    "    def __init__(self,**kwargs):\n",
    "        super().__init__(**kwargs)\n",
    "    def build(self,batch_input_shape):\n",
    "        self.inputkernel = self.add_weight(name = \"inputkernel\", \n",
    "        shape = [batch_input_shape[-1],1],initializer = \"ones\")\n",
    "        super().build(batch_input_shape)\n",
    "    def call(self,X):\n",
    "        return tf.matmul(X,self.inputkernel)\n",
    "    def compute_output_shape(self,batch_input_shape):\n",
    "        return tf.TensorShape([batch_input_shape[-1],1])\n",
    "    def get_config(self):\n",
    "        base_config = super().get_config()\n",
    "        return {**base_config}"
   ]
  },
  {
   "cell_type": "code",
   "execution_count": 276,
   "metadata": {},
   "outputs": [],
   "source": [
    "class customHiddenLayer(keras.layers.Layer):\n",
    "    def __init__(self,no_layers,no_units,initializer,activation = None,**kwargs):\n",
    "        super().__init__(**kwargs)\n",
    "        self.no_layers = no_layers\n",
    "        self.hidden = list()\n",
    "        self.bias = list()\n",
    "        self.units = no_units\n",
    "        self.initializer = initializer\n",
    "        self.activation = keras.activations.get(activation)\n",
    "    def build(self,batch_input_shape):\n",
    "        for no in tf.range(1,self.no_layers + 1):\n",
    "            if no == 1:\n",
    "                self.hidden.append(self.add_weight(name = \"hiddenlayer{}\".format(no),shape = [batch_input_shape[-1],self.units],\n",
    "                initializer = self.initializer))\n",
    "            else:\n",
    "                self.hidden.append(self.add_weight(name = \"hiddenlayer{}\".format(no),shape = [self.units,self.units],\n",
    "                initializer = self.initializer))\n",
    "            self.bias.append(self.add_weight(name = \"bias\",\n",
    "        shape = [self.units], initializer = \"zeros\"))\n",
    "        super().build(batch_input_shape)\n",
    "    def call(self,X):\n",
    "        Z = X\n",
    "        for no in range(1,self.no_layers+1):\n",
    "            #Z = tf.add(tf.matmul(Z,self.hidden[no]),self.bias[no])\n",
    "            Z = self.activation(tf.matmul(Z,self.hidden[no - 1]) + self.bias[no - 1])\n",
    "        return Z\n",
    "    def compute_output_shape(self,batch_input_shape):\n",
    "        return tf.TensorShape([self.units,self,units])\n",
    "    def get_config(self):\n",
    "        base_config = super().get_config()\n",
    "        return {**base_config}"
   ]
  },
  {
   "cell_type": "code",
   "execution_count": 281,
   "metadata": {},
   "outputs": [],
   "source": [
    "class customOutputLayer(keras.layers.Layer):\n",
    "    def __init__(self,no_units,initializer,activation = None,**kwargs):\n",
    "        super().__init__(**kwargs)\n",
    "        self.activation = keras.activations.get(activation)\n",
    "        self.units = no_units\n",
    "        self.initializer = initializer\n",
    "    def build(self,batch_input_shape):\n",
    "        self.outputlayer = self.add_weight(name = \"outputlayer\",\n",
    "        shape = [batch_input_shape[-1],self.units],\n",
    "        initializer = self.initializer)\n",
    "        self.outputbias = self.add_weight(name = \"outputbias\",\n",
    "        shape = [self.units],initializer = \"zeros\")\n",
    "    def call(self,X):\n",
    "        return self.activation(tf.matmul(X,self.outputlayer) + self.outputbias)\n",
    "    def compute_output_shape(self,batch_input_shape):\n",
    "        return tf.TensorShape([self.units,self.units])\n",
    "    def get_config(self):\n",
    "        base_config = super().get_config()\n",
    "        return {**base_config}"
   ]
  },
  {
   "cell_type": "code",
   "execution_count": 282,
   "metadata": {},
   "outputs": [],
   "source": [
    "model_nn = keras.models.Sequential()\n",
    "model_nn.add(customHiddenLayer(no_layers = 3,no_units = 10,initializer = \"he_normal\",input_shape = (8,)))\n",
    "model_nn.add(customOutputLayer(no_units = 1,initializer = \"he_normal\"))"
   ]
  },
  {
   "cell_type": "code",
   "execution_count": 283,
   "metadata": {},
   "outputs": [
    {
     "output_type": "stream",
     "name": "stdout",
     "text": [
      "Model: \"sequential_13\"\n_________________________________________________________________\nLayer (type)                 Output Shape              Param #   \n=================================================================\ncustom_hidden_layer_8 (custo (None, 10)                310       \n_________________________________________________________________\ncustom_output_layer_1 (custo (None, 1)                 11        \n=================================================================\nTotal params: 321\nTrainable params: 321\nNon-trainable params: 0\n_________________________________________________________________\n"
     ]
    }
   ],
   "source": [
    "model_nn.summary()"
   ]
  },
  {
   "cell_type": "code",
   "execution_count": 284,
   "metadata": {},
   "outputs": [
    {
     "output_type": "execute_result",
     "data": {
      "text/plain": [
       "[<tf.Variable 'custom_output_layer_1/outputlayer:0' shape=(10, 1) dtype=float32, numpy=\n",
       " array([[ 0.44000623],\n",
       "        [-0.51123446],\n",
       "        [ 0.32634667],\n",
       "        [-0.038048  ],\n",
       "        [-0.08281311],\n",
       "        [-0.20164067],\n",
       "        [ 0.17904565],\n",
       "        [-0.47768524],\n",
       "        [-0.04635427],\n",
       "        [-0.4523342 ]], dtype=float32)>,\n",
       " <tf.Variable 'custom_output_layer_1/outputbias:0' shape=(1,) dtype=float32, numpy=array([0.], dtype=float32)>]"
      ]
     },
     "metadata": {},
     "execution_count": 284
    }
   ],
   "source": [
    "model_nn.layers[1].weights"
   ]
  },
  {
   "cell_type": "code",
   "execution_count": 253,
   "metadata": {},
   "outputs": [
    {
     "output_type": "stream",
     "name": "stdout",
     "text": [
      "tf.Tensor(0, shape=(), dtype=int32)\ntf.Tensor(1, shape=(), dtype=int32)\ntf.Tensor(2, shape=(), dtype=int32)\n"
     ]
    }
   ],
   "source": [
    "for i in tf.range(3):\n",
    "    print()"
   ]
  },
  {
   "cell_type": "code",
   "execution_count": null,
   "metadata": {},
   "outputs": [],
   "source": [
    "tf.int32"
   ]
  }
 ]
}