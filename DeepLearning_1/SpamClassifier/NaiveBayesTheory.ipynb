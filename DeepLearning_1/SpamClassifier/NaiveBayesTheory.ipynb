{
 "metadata": {
  "language_info": {
   "codemirror_mode": {
    "name": "ipython",
    "version": 3
   },
   "file_extension": ".py",
   "mimetype": "text/x-python",
   "name": "python",
   "nbconvert_exporter": "python",
   "pygments_lexer": "ipython3",
   "version": "3.8.8"
  },
  "orig_nbformat": 2,
  "kernelspec": {
   "name": "python388jvsc74a57bd0965ba1120b0c101b3f715b6e258a73742ec1cf86f2c8b04492724c87d9f112c3",
   "display_name": "Python 3.8.8 64-bit"
  },
  "metadata": {
   "interpreter": {
    "hash": "965ba1120b0c101b3f715b6e258a73742ec1cf86f2c8b04492724c87d9f112c3"
   }
  }
 },
 "nbformat": 4,
 "nbformat_minor": 2,
 "cells": [
  {
   "source": [
    "<h2> Naive Bayes </h2> \n",
    "\n",
    "Lets say we get spam and valid emails. \n",
    "\n",
    "The first thing we do is make a histogram of all the words that occur in the valid emails. We can use the histogram to calculate the probability that a word occurs in a normal message. \n",
    "\n",
    "We calculate the probability of each word occuring given the total number of occurences. \n",
    "\n",
    "We do the same for the spam emails too \n",
    "\n",
    "As the probabilities of these words are discrete probabilities, they are called likelihoods. \n",
    "\n",
    "\n",
    "We start with assuming that any message is a normal valid email. \n",
    "\n",
    "Given that we have 8 emails of Valid messages and 4 of Spam messages in this example, the probability of a Valid email is 8/12 = 0.67. This initial guess is called a prior probability.  \n",
    "\n",
    "We also calculate the probability o the incoming email being spam, the same way. Given 4 are spam, your probability is 4/12 = 0.33.\n",
    "\n",
    "\n",
    "There can be situations where a word doesnt exist in the spam email histogram, resulting in the entire probability of a particular email being spam being zero. However this same email may have another word which is of high probability in the spam histogram. Yet as the probability of one word is zero, the entire probability becomes zero. To handle this we add one count to each word regardless. \n"
   ],
   "cell_type": "markdown",
   "metadata": {}
  },
  {
   "source": [
    "<h3> Why is Naive Byes naive </h3>\n",
    "\n",
    "It treats all word orders the same. \n",
    "\n",
    "P(N) x P(Friend|N) x P(Dear|N) == P(N) x P(Dear|N) x P(Friend|N) \n",
    "\n",
    "\n",
    "Due t ignoring relationships among words, Naive Bayes is said to have high bias , but as it performs surprisingly well, it is said to have low variance.\n"
   ],
   "cell_type": "markdown",
   "metadata": {}
  },
  {
   "source": [
    "<h3> Natural Language Processing </h3> \n",
    "\n",
    "Process of converting language into number which the computer understands. \n"
   ],
   "cell_type": "markdown",
   "metadata": {}
  },
  {
   "cell_type": "code",
   "execution_count": 3,
   "metadata": {},
   "outputs": [],
   "source": [
    "import nltk"
   ]
  },
  {
   "cell_type": "code",
   "execution_count": 4,
   "metadata": {},
   "outputs": [
    {
     "output_type": "stream",
     "name": "stdout",
     "text": [
      "showing info https://raw.githubusercontent.com/nltk/nltk_data/gh-pages/index.xml\n"
     ]
    },
    {
     "output_type": "execute_result",
     "data": {
      "text/plain": [
       "True"
      ]
     },
     "metadata": {},
     "execution_count": 4
    }
   ],
   "source": [
    "nltk.download()"
   ]
  },
  {
   "source": [
    "Tokenizing - word tokenizer and sentence tokenizer. A word tokenizer separates by words, and sentence tokenizer separates by sentence. \n",
    "\n",
    "Corpora - Body of text. eg: medical journals, presidential speeches\n",
    "\n",
    "Lexicon - words and their means according to their context\n",
    "E.g.: Investor speak 'bull' vs normal speak 'bull'"
   ],
   "cell_type": "markdown",
   "metadata": {}
  },
  {
   "cell_type": "code",
   "execution_count": 20,
   "metadata": {},
   "outputs": [],
   "source": [
    "from nltk.tokenize import sent_tokenize, word_tokenize\n",
    "\n",
    "example_text = \"Hello there, how are you doing today? The weather is great and Python is awesome. The sky is pinkish-blue. You should not eat cardboard. \"\n",
    "\n",
    "example_text2 = \"Hello Mr.Smith, how are you doing today? The weather is great and Python is awesome. The sky is pinkish-blue. You should not eat cardboard. \""
   ]
  },
  {
   "cell_type": "code",
   "execution_count": 21,
   "metadata": {},
   "outputs": [
    {
     "output_type": "stream",
     "name": "stdout",
     "text": [
      "['Hello there, how are you doing today?', 'The weather is great and Python is awesome.', 'The sky is pinkish-blue.', 'You should not eat cardboard.']\n"
     ]
    }
   ],
   "source": [
    "print(sent_tokenize(example_text))"
   ]
  },
  {
   "cell_type": "code",
   "execution_count": 22,
   "metadata": {},
   "outputs": [
    {
     "output_type": "stream",
     "name": "stdout",
     "text": [
      "['Hello Mr.Smith, how are you doing today?', 'The weather is great and Python is awesome.', 'The sky is pinkish-blue.', 'You should not eat cardboard.']\n"
     ]
    }
   ],
   "source": [
    "print(sent_tokenize(example_text2))"
   ]
  },
  {
   "cell_type": "code",
   "execution_count": 23,
   "metadata": {},
   "outputs": [
    {
     "output_type": "stream",
     "name": "stdout",
     "text": [
      "['Hello', 'there', ',', 'how', 'are', 'you', 'doing', 'today', '?', 'The', 'weather', 'is', 'great', 'and', 'Python', 'is', 'awesome', '.', 'The', 'sky', 'is', 'pinkish-blue', '.', 'You', 'should', 'not', 'eat', 'cardboard', '.']\n"
     ]
    }
   ],
   "source": [
    "print(word_tokenize(example_text))"
   ]
  },
  {
   "cell_type": "code",
   "execution_count": 24,
   "metadata": {},
   "outputs": [
    {
     "output_type": "stream",
     "name": "stdout",
     "text": [
      "['Hello', 'Mr.Smith', ',', 'how', 'are', 'you', 'doing', 'today', '?', 'The', 'weather', 'is', 'great', 'and', 'Python', 'is', 'awesome', '.', 'The', 'sky', 'is', 'pinkish-blue', '.', 'You', 'should', 'not', 'eat', 'cardboard', '.']\n"
     ]
    }
   ],
   "source": [
    "print(word_tokenize(example_text2))"
   ]
  },
  {
   "cell_type": "code",
   "execution_count": null,
   "metadata": {},
   "outputs": [],
   "source": []
  }
 ]
}