{
 "cells": [
  {
   "cell_type": "code",
   "execution_count": 1,
   "source": [
    "import tensorflow_datasets as tfds\r\n",
    "import tensorflow as tf\r\n",
    "from tensorflow import keras\r\n",
    "import numpy as np\r\n",
    "import matplotlib.pyplot as plt\r\n",
    "import random"
   ],
   "outputs": [],
   "metadata": {}
  },
  {
   "cell_type": "code",
   "execution_count": 2,
   "source": [
    "tf.compat.v1.enable_eager_execution()"
   ],
   "outputs": [],
   "metadata": {}
  },
  {
   "cell_type": "code",
   "execution_count": 3,
   "source": [
    "(train_set, valid_set, test_set), info = tfds.load('mnist',split = ['train[0%:75%]','train[75%:90%]','train[90%:100%]'],as_supervised = True,with_info = True)"
   ],
   "outputs": [],
   "metadata": {}
  },
  {
   "cell_type": "code",
   "execution_count": 4,
   "source": [
    "images_np_train = np.zeros(shape = [45000,28,28,1])\r\n",
    "label_np_train = np.zeros(shape = [45000])\r\n",
    "images_np_valid = np.zeros(shape = [9000,28,28,1])\r\n",
    "label_np_valid = np.zeros(shape = [9000])\r\n",
    "images_np_test = np.zeros(shape = [6000,28,28,1])\r\n",
    "label_np_test = np.zeros(shape = [6000])\r\n",
    "i = 0\r\n",
    "j = 0\r\n",
    "k = 0\r\n",
    "for image,label in train_set:\r\n",
    "    images_np_train[i,:,:,:] = image.numpy()\r\n",
    "    label_np_train[i] = label\r\n",
    "    i += 1\r\n",
    "for image,label in valid_set:\r\n",
    "    images_np_valid[j,:,:,:] = image.numpy()\r\n",
    "    label_np_valid[j] = label\r\n",
    "    j += 1\r\n",
    "for image,label in test_set:\r\n",
    "    images_np_test[k,:,:,:] = image.numpy()\r\n",
    "    label_np_test[k] = label\r\n",
    "    k += 1\r\n",
    "\r\n",
    "train_set = tf.data.Dataset.from_tensor_slices((images_np_train,label_np_train))\r\n",
    "valid_set = tf.data.Dataset.from_tensor_slices((images_np_valid,label_np_valid))\r\n",
    "test_set = tf.data.Dataset.from_tensor_slices((images_np_test,label_np_test))"
   ],
   "outputs": [],
   "metadata": {}
  },
  {
   "cell_type": "code",
   "execution_count": 5,
   "source": [
    "fig,ax = plt.subplots(3,3,figsize = (10,10))\r\n",
    "i = 0\r\n",
    "index = 0\r\n",
    "for image,label in train_set.take(9):\r\n",
    "    ax[index,i].imshow(image)\r\n",
    "    if i == 2:\r\n",
    "        index += 1\r\n",
    "        i = 0\r\n",
    "        continue\r\n",
    "    i += 1"
   ],
   "outputs": [
    {
     "output_type": "display_data",
     "data": {
      "text/plain": [
       "<Figure size 720x720 with 9 Axes>"
      ],
      "image/png": "[encoded data removed]"
     },
     "metadata": {
      "needs_background": "light"
     }
    }
   ],
   "metadata": {}
  },
  {
   "cell_type": "code",
   "execution_count": 6,
   "source": [
    "train_set = train_set.shuffle(1000)\r\n",
    "valid_set = valid_set.shuffle(1000)\r\n",
    "test_set = test_set.shuffle(1000)"
   ],
   "outputs": [],
   "metadata": {}
  },
  {
   "cell_type": "code",
   "execution_count": 7,
   "source": [
    "train_set = train_set.batch(32)\r\n",
    "valid_set = valid_set.batch(32)\r\n",
    "test_set = test_set.batch(32)"
   ],
   "outputs": [],
   "metadata": {}
  },
  {
   "cell_type": "code",
   "execution_count": 8,
   "source": [
    "train_image_tensor = tf.TensorArray(tf.uint8,size = train_set.cardinality(), clear_after_read=False)\r\n",
    "train_label_tensor = tf.TensorArray(tf.int64,size = train_set.cardinality(), clear_after_read=False)"
   ],
   "outputs": [],
   "metadata": {}
  },
  {
   "cell_type": "code",
   "execution_count": null,
   "source": [
    "\"\"\" images_np = np.zeros(shape = [45000,28,28,1])\r\n",
    "label_np = np.zeros(shape = [45000])\r\n",
    "i = 0\r\n",
    "for image,label in train_set:\r\n",
    "    train_image_tensor = train_image_tensor.write(i,image)\r\n",
    "    train_label_tensor = train_label_tensor.write(i,label)\r\n",
    "    i += 1 \r\n",
    "for image,label in train_set:\r\n",
    "    images_np[i,:,:,:] = image.numpy()\r\n",
    "    label_np[i] = label\r\n",
    "    i += 1 \"\"\""
   ],
   "outputs": [],
   "metadata": {}
  },
  {
   "cell_type": "code",
   "execution_count": 9,
   "source": [
    "random_angles = tf.random.uniform(shape = (train_image_tensor.size().numpy(),),minval = 0, maxval = np.pi/2)\r\n",
    "#convert the above to a numpy array to be made into a dataset for preprocessing\r\n",
    "random_angles_np = random_angles.numpy()"
   ],
   "outputs": [],
   "metadata": {}
  },
  {
   "cell_type": "code",
   "execution_count": null,
   "source": [
    "\"\"\" train_dataset_with_angles = tf.data.Dataset.from_tensor_slices((images_np,random_angles_np)) \"\"\""
   ],
   "outputs": [],
   "metadata": {}
  },
  {
   "cell_type": "code",
   "execution_count": 10,
   "source": [
    "class augmentationlayer(keras.layers.Layer):\r\n",
    "    def __init__(self,**kwargs):\r\n",
    "        super().__init__(**kwargs)\r\n",
    "        self.aug_model = tf.keras.Sequential()\r\n",
    "    def call(self,image,angle):\r\n",
    "        angle = angle.numpy()\r\n",
    "        self.aug_model.add(tf.keras.layers.experimental.preprocessing.RandomRotation(abs(angle)))\r\n",
    "        image = tf.expand_dims(image,0)\r\n",
    "        rotated_img = self.aug_model(image)\r\n",
    "        return rotated_img[0,:,:,:],angle"
   ],
   "outputs": [],
   "metadata": {}
  },
  {
   "cell_type": "code",
   "execution_count": 11,
   "source": [
    "keras.backend.clear_session()\r\n",
    "tf.random.set_seed(42)\r\n",
    "np.random.seed(42)\r\n",
    "\r\n",
    "model_1 = tf.keras.models.Sequential()\r\n",
    "model_1.add(tf.keras.layers.Conv2D(32,kernel_size = 3,padding = \"SAME\", activation = \"relu\"))\r\n",
    "model_1.add(tf.keras.layers.Conv2D(64,kernel_size = 3,padding = \"SAME\",\r\n",
    "activation = \"relu\"))\r\n",
    "model_1.add(tf.keras.layers.MaxPool2D())\r\n",
    "model_1.add(tf.keras.layers.Flatten())\r\n",
    "model_1.add(tf.keras.layers.Dropout(0.25))\r\n",
    "model_1.add(tf.keras.layers.Dense(128, activation = \"relu\"))\r\n",
    "model_1.add(tf.keras.layers.Dropout(0.5))\r\n",
    "model_1.add(tf.keras.layers.Dense(10, activation = \"softmax\"))"
   ],
   "outputs": [],
   "metadata": {}
  },
  {
   "cell_type": "code",
   "execution_count": 12,
   "source": [
    "model_1.compile(loss = \"sparse_categorical_crossentropy\", optimizer = \"nadam\",\r\n",
    "metrics = \"accuracy\")\r\n",
    "\r\n",
    "model_1.fit(train_set, epochs = 10, validation_data=valid_set)"
   ],
   "outputs": [
    {
     "output_type": "stream",
     "name": "stdout",
     "text": [
      "Epoch 1/10\n",
      "1407/1407 [==============================] - 192s 135ms/step - loss: 1.7862 - accuracy: 0.7667 - val_loss: 0.0932 - val_accuracy: 0.9741\n",
      "Epoch 2/10\n",
      "1407/1407 [==============================] - 183s 130ms/step - loss: 0.1711 - accuracy: 0.9519 - val_loss: 0.0914 - val_accuracy: 0.9762\n",
      "Epoch 3/10\n",
      "1407/1407 [==============================] - 180s 128ms/step - loss: 0.1291 - accuracy: 0.9639 - val_loss: 0.0750 - val_accuracy: 0.9810\n",
      "Epoch 4/10\n",
      "1407/1407 [==============================] - 182s 129ms/step - loss: 0.1042 - accuracy: 0.9707 - val_loss: 0.0570 - val_accuracy: 0.9851\n",
      "Epoch 5/10\n",
      "1407/1407 [==============================] - 182s 129ms/step - loss: 0.0838 - accuracy: 0.9760 - val_loss: 0.0700 - val_accuracy: 0.9833\n",
      "Epoch 6/10\n",
      "1407/1407 [==============================] - 184s 131ms/step - loss: 0.0802 - accuracy: 0.9773 - val_loss: 0.0753 - val_accuracy: 0.9844\n",
      "Epoch 7/10\n",
      "1407/1407 [==============================] - 181s 129ms/step - loss: 0.0695 - accuracy: 0.9795 - val_loss: 0.0597 - val_accuracy: 0.9851\n",
      "Epoch 8/10\n",
      "1407/1407 [==============================] - 186s 132ms/step - loss: 0.0595 - accuracy: 0.9822 - val_loss: 0.0666 - val_accuracy: 0.9854\n",
      "Epoch 9/10\n",
      "1407/1407 [==============================] - 187s 133ms/step - loss: 0.0590 - accuracy: 0.9821 - val_loss: 0.0652 - val_accuracy: 0.9842\n",
      "Epoch 10/10\n",
      "1407/1407 [==============================] - 183s 130ms/step - loss: 0.0616 - accuracy: 0.9829 - val_loss: 0.0754 - val_accuracy: 0.9833\n"
     ]
    },
    {
     "output_type": "execute_result",
     "data": {
      "text/plain": [
       "<tensorflow.python.keras.callbacks.History at 0x1e3ebcc5d60>"
      ]
     },
     "metadata": {},
     "execution_count": 12
    }
   ],
   "metadata": {}
  },
  {
   "cell_type": "code",
   "execution_count": 13,
   "source": [
    "model_1.evaluate(images_np_test,label_np_test)"
   ],
   "outputs": [
    {
     "output_type": "stream",
     "name": "stdout",
     "text": [
      "188/188 [==============================] - 4s 17ms/step - loss: 0.0735 - accuracy: 0.9852\n"
     ]
    },
    {
     "output_type": "execute_result",
     "data": {
      "text/plain": [
       "[0.07353276759386063, 0.9851666688919067]"
      ]
     },
     "metadata": {},
     "execution_count": 13
    }
   ],
   "metadata": {}
  },
  {
   "cell_type": "code",
   "execution_count": 25,
   "source": [
    "#random cropping function \r\n",
    "augmentationlayer = tf.keras.models.Sequential()\r\n",
    "#random flip\r\n",
    "augmentationlayer.add(tf.keras.layers.experimental.preprocessing.RandomFlip(\"horizontal_and_vertical\"))"
   ],
   "outputs": [],
   "metadata": {}
  },
  {
   "cell_type": "code",
   "execution_count": 26,
   "source": [
    "augmented_ds = train_set.map(lambda image,label:(augmentationlayer(image,training = True),label))"
   ],
   "outputs": [],
   "metadata": {}
  },
  {
   "cell_type": "code",
   "execution_count": 27,
   "source": [
    "fig,ax_aug = plt.subplots(3,3,figsize = (10,10))\r\n",
    "index = 0\r\n",
    "i = 0\r\n",
    "for image, label in augmented_ds.take(9):\r\n",
    "    ax_aug[index,i].imshow(image[0,:,:,:])\r\n",
    "    if i == 2:\r\n",
    "        index += 1\r\n",
    "        i = 0\r\n",
    "        continue\r\n",
    "    i += 1"
   ],
   "outputs": [
    {
     "output_type": "display_data",
     "data": {
      "text/plain": [
       "<Figure size 720x720 with 9 Axes>"
      ],
      "image/png": "[encoded data removed]"
     },
     "metadata": {
      "needs_background": "light"
     }
    }
   ],
   "metadata": {}
  },
  {
   "cell_type": "markdown",
   "source": [
    "Images have been augmented to be cropped randomly and also randomly flipped. "
   ],
   "metadata": {}
  },
  {
   "cell_type": "code",
   "execution_count": 28,
   "source": [
    "model_2 = tf.keras.models.Sequential()\r\n",
    "model_2.add(tf.keras.layers.Conv2D(32,kernel_size = 3,padding = \"SAME\", activation = \"relu\"))\r\n",
    "model_2.add(tf.keras.layers.Conv2D(64,kernel_size = 3,padding = \"SAME\",\r\n",
    "activation = \"relu\"))\r\n",
    "#model_2.add(tf.keras.layers.Conv2D(128,kernel_size = 3, padding = \"SAME\", activation = \"elu\"))\r\n",
    "model_2.add(tf.keras.layers.MaxPool2D())\r\n",
    "model_2.add(tf.keras.layers.Flatten())\r\n",
    "model_2.add(tf.keras.layers.Dropout(0.25))\r\n",
    "model_2.add(tf.keras.layers.Dense(128, activation = \"relu\"))\r\n",
    "model_2.add(tf.keras.layers.Dropout(0.5))\r\n",
    "model_2.add(tf.keras.layers.Dense(10, activation = \"softmax\"))"
   ],
   "outputs": [],
   "metadata": {}
  },
  {
   "cell_type": "code",
   "execution_count": 29,
   "source": [
    "model_2.compile(loss = \"sparse_categorical_crossentropy\", optimizer = \"nadam\",\r\n",
    "metrics = \"accuracy\")\r\n",
    "\r\n",
    "model_2.fit(augmented_ds, epochs = 15, validation_data=valid_set)"
   ],
   "outputs": [
    {
     "output_type": "stream",
     "name": "stdout",
     "text": [
      "Epoch 1/15\n",
      "1407/1407 [==============================] - 138s 97ms/step - loss: 2.4943 - accuracy: 0.4407 - val_loss: 0.7564 - val_accuracy: 0.7847\n",
      "Epoch 2/15\n",
      "1407/1407 [==============================] - 139s 99ms/step - loss: 0.5953 - accuracy: 0.8045 - val_loss: 0.2541 - val_accuracy: 0.9226\n",
      "Epoch 3/15\n",
      "1407/1407 [==============================] - 149s 106ms/step - loss: 0.4067 - accuracy: 0.8707 - val_loss: 0.1777 - val_accuracy: 0.9476\n",
      "Epoch 4/15\n",
      "1407/1407 [==============================] - 149s 106ms/step - loss: 0.3459 - accuracy: 0.8927 - val_loss: 0.1881 - val_accuracy: 0.9444\n",
      "Epoch 5/15\n",
      "1407/1407 [==============================] - 144s 102ms/step - loss: 0.3097 - accuracy: 0.9059 - val_loss: 0.1782 - val_accuracy: 0.9449\n",
      "Epoch 6/15\n",
      "1407/1407 [==============================] - 150s 106ms/step - loss: 0.2807 - accuracy: 0.9136 - val_loss: 0.1680 - val_accuracy: 0.9519\n",
      "Epoch 7/15\n",
      "1407/1407 [==============================] - 149s 106ms/step - loss: 0.2564 - accuracy: 0.9200 - val_loss: 0.1448 - val_accuracy: 0.9570\n",
      "Epoch 8/15\n",
      "1407/1407 [==============================] - 149s 106ms/step - loss: 0.2379 - accuracy: 0.9275 - val_loss: 0.1255 - val_accuracy: 0.9624\n",
      "Epoch 9/15\n",
      "1407/1407 [==============================] - 155s 110ms/step - loss: 0.2231 - accuracy: 0.9316 - val_loss: 0.1217 - val_accuracy: 0.9617\n",
      "Epoch 10/15\n",
      "1407/1407 [==============================] - 147s 104ms/step - loss: 0.2135 - accuracy: 0.9359 - val_loss: 0.1226 - val_accuracy: 0.9626\n",
      "Epoch 11/15\n",
      "1407/1407 [==============================] - 147s 104ms/step - loss: 0.2137 - accuracy: 0.9358 - val_loss: 0.1171 - val_accuracy: 0.9649\n",
      "Epoch 12/15\n",
      "1407/1407 [==============================] - 144s 102ms/step - loss: 0.2087 - accuracy: 0.9369 - val_loss: 0.1271 - val_accuracy: 0.9603\n",
      "Epoch 13/15\n",
      "1407/1407 [==============================] - 148s 105ms/step - loss: 0.1976 - accuracy: 0.9398 - val_loss: 0.1092 - val_accuracy: 0.9682\n",
      "Epoch 14/15\n",
      "1407/1407 [==============================] - 153s 108ms/step - loss: 0.2003 - accuracy: 0.9409 - val_loss: 0.1135 - val_accuracy: 0.9661\n",
      "Epoch 15/15\n",
      "1407/1407 [==============================] - 146s 104ms/step - loss: 0.1912 - accuracy: 0.9418 - val_loss: 0.1086 - val_accuracy: 0.9671\n"
     ]
    },
    {
     "output_type": "execute_result",
     "data": {
      "text/plain": [
       "<tensorflow.python.keras.callbacks.History at 0x1e405e999d0>"
      ]
     },
     "metadata": {},
     "execution_count": 29
    }
   ],
   "metadata": {}
  },
  {
   "cell_type": "markdown",
   "source": [
    "As the addition of an augmentation layer resuls in moe complex features for the network to handle, we shall increase the model with one more convolutional layer."
   ],
   "metadata": {}
  },
  {
   "cell_type": "code",
   "execution_count": 30,
   "source": [
    "model_3 = tf.keras.models.Sequential()\r\n",
    "model_3.add(tf.keras.layers.Conv2D(32,kernel_size = 3,padding = \"SAME\", activation = \"relu\"))\r\n",
    "model_3.add(tf.keras.layers.Conv2D(64,kernel_size = 3,padding = \"SAME\",\r\n",
    "activation = \"relu\"))\r\n",
    "model_3.add(tf.keras.layers.Conv2D(128,kernel_size = 3, padding = \"SAME\", activation = \"elu\"))\r\n",
    "model_3.add(tf.keras.layers.MaxPool2D())\r\n",
    "model_3.add(tf.keras.layers.Flatten())\r\n",
    "model_3.add(tf.keras.layers.Dropout(0.25))\r\n",
    "model_3.add(tf.keras.layers.Dense(128, activation = \"relu\"))\r\n",
    "model_3.add(tf.keras.layers.Dropout(0.5))\r\n",
    "model_3.add(tf.keras.layers.Dense(10, activation = \"softmax\"))"
   ],
   "outputs": [],
   "metadata": {}
  },
  {
   "cell_type": "code",
   "execution_count": 31,
   "source": [
    "model_3.compile(loss = \"sparse_categorical_crossentropy\", optimizer = \"nadam\",\r\n",
    "metrics = \"accuracy\")\r\n",
    "\r\n",
    "model_3.fit(augmented_ds, epochs = 15, validation_data=valid_set)"
   ],
   "outputs": [
    {
     "output_type": "stream",
     "name": "stdout",
     "text": [
      "Epoch 1/15\n",
      "1407/1407 [==============================] - 333s 236ms/step - loss: 1.5505 - accuracy: 0.5957 - val_loss: 0.4073 - val_accuracy: 0.8726\n",
      "Epoch 2/15\n",
      "1407/1407 [==============================] - 345s 245ms/step - loss: 0.4355 - accuracy: 0.8627 - val_loss: 0.2613 - val_accuracy: 0.9239\n",
      "Epoch 3/15\n",
      "1407/1407 [==============================] - 345s 245ms/step - loss: 0.3494 - accuracy: 0.8916 - val_loss: 0.2007 - val_accuracy: 0.9388\n",
      "Epoch 4/15\n",
      "1407/1407 [==============================] - 346s 246ms/step - loss: 0.3126 - accuracy: 0.9061 - val_loss: 0.2104 - val_accuracy: 0.9366\n",
      "Epoch 5/15\n",
      "1407/1407 [==============================] - 342s 243ms/step - loss: 0.2849 - accuracy: 0.9118 - val_loss: 0.1637 - val_accuracy: 0.9541\n",
      "Epoch 6/15\n",
      "1407/1407 [==============================] - 321s 228ms/step - loss: 0.2697 - accuracy: 0.9176 - val_loss: 0.1722 - val_accuracy: 0.9521\n",
      "Epoch 7/15\n",
      "1407/1407 [==============================] - 411s 292ms/step - loss: 0.2604 - accuracy: 0.9202 - val_loss: 0.1850 - val_accuracy: 0.9471\n",
      "Epoch 8/15\n",
      "1407/1407 [==============================] - 366s 260ms/step - loss: 0.2512 - accuracy: 0.9267 - val_loss: 0.1565 - val_accuracy: 0.9529\n",
      "Epoch 9/15\n",
      "1407/1407 [==============================] - 308s 219ms/step - loss: 0.2417 - accuracy: 0.9279 - val_loss: 0.1246 - val_accuracy: 0.9628\n",
      "Epoch 10/15\n",
      "1407/1407 [==============================] - 310s 220ms/step - loss: 0.2171 - accuracy: 0.9354 - val_loss: 0.1522 - val_accuracy: 0.9601\n",
      "Epoch 11/15\n",
      "1407/1407 [==============================] - 310s 220ms/step - loss: 0.2190 - accuracy: 0.9347 - val_loss: 0.1615 - val_accuracy: 0.9582\n",
      "Epoch 12/15\n",
      "1407/1407 [==============================] - 316s 224ms/step - loss: 0.2161 - accuracy: 0.9350 - val_loss: 0.1481 - val_accuracy: 0.9568\n",
      "Epoch 13/15\n",
      "1407/1407 [==============================] - 358s 254ms/step - loss: 0.2140 - accuracy: 0.9369 - val_loss: 0.1694 - val_accuracy: 0.9563\n",
      "Epoch 14/15\n",
      "1407/1407 [==============================] - 363s 258ms/step - loss: 0.2067 - accuracy: 0.9406 - val_loss: 0.1260 - val_accuracy: 0.9642\n",
      "Epoch 15/15\n",
      "1407/1407 [==============================] - 374s 266ms/step - loss: 0.2020 - accuracy: 0.9396 - val_loss: 0.1277 - val_accuracy: 0.9639\n"
     ]
    },
    {
     "output_type": "execute_result",
     "data": {
      "text/plain": [
       "<tensorflow.python.keras.callbacks.History at 0x1e4059a2430>"
      ]
     },
     "metadata": {},
     "execution_count": 31
    }
   ],
   "metadata": {}
  },
  {
   "cell_type": "code",
   "execution_count": 34,
   "source": [
    "import os\r\n",
    "image_path = os.path.join(r'C:\\Users\\ASUS\\Desktop\\Web Dev Tutorial',r'nba.jpg')"
   ],
   "outputs": [],
   "metadata": {}
  },
  {
   "cell_type": "code",
   "execution_count": 35,
   "source": [
    "image_path"
   ],
   "outputs": [
    {
     "output_type": "execute_result",
     "data": {
      "text/plain": [
       "'C:\\\\Users\\\\ASUS\\\\Desktop\\\\Web Dev Tutorial\\\\nba.jpg'"
      ]
     },
     "metadata": {},
     "execution_count": 35
    }
   ],
   "metadata": {}
  },
  {
   "cell_type": "code",
   "execution_count": 36,
   "source": [
    "img = tf.io.read_file(image_path)"
   ],
   "outputs": [],
   "metadata": {}
  },
  {
   "cell_type": "code",
   "execution_count": 38,
   "source": [
    "img = tf.io.decode_image(img, channels = 3,dtype = tf.float32)\r\n",
    "img"
   ],
   "outputs": [
    {
     "output_type": "execute_result",
     "data": {
      "text/plain": [
       "<tf.Tensor: shape=(233, 118, 3), dtype=float32, numpy=\n",
       "array([[[0.9686275, 0.9686275, 0.9686275],\n",
       "        [0.9686275, 0.9686275, 0.9686275],\n",
       "        [0.9686275, 0.9686275, 0.9686275],\n",
       "        ...,\n",
       "        [0.9686275, 0.9686275, 0.9686275],\n",
       "        [0.9686275, 0.9686275, 0.9686275],\n",
       "        [0.9686275, 0.9686275, 0.9686275]],\n",
       "\n",
       "       [[0.9686275, 0.9686275, 0.9686275],\n",
       "        [0.9686275, 0.9686275, 0.9686275],\n",
       "        [0.9686275, 0.9686275, 0.9686275],\n",
       "        ...,\n",
       "        [0.9686275, 0.9686275, 0.9686275],\n",
       "        [0.9686275, 0.9686275, 0.9686275],\n",
       "        [0.9686275, 0.9686275, 0.9686275]],\n",
       "\n",
       "       [[0.9686275, 0.9686275, 0.9686275],\n",
       "        [0.9686275, 0.9686275, 0.9686275],\n",
       "        [0.9686275, 0.9686275, 0.9686275],\n",
       "        ...,\n",
       "        [0.9686275, 0.9686275, 0.9686275],\n",
       "        [0.9686275, 0.9686275, 0.9686275],\n",
       "        [0.9686275, 0.9686275, 0.9686275]],\n",
       "\n",
       "       ...,\n",
       "\n",
       "       [[0.9686275, 0.9686275, 0.9686275],\n",
       "        [0.9686275, 0.9686275, 0.9686275],\n",
       "        [0.9686275, 0.9686275, 0.9686275],\n",
       "        ...,\n",
       "        [0.9686275, 0.9686275, 0.9686275],\n",
       "        [0.9686275, 0.9686275, 0.9686275],\n",
       "        [0.9686275, 0.9686275, 0.9686275]],\n",
       "\n",
       "       [[0.9686275, 0.9686275, 0.9686275],\n",
       "        [0.9686275, 0.9686275, 0.9686275],\n",
       "        [0.9686275, 0.9686275, 0.9686275],\n",
       "        ...,\n",
       "        [0.9686275, 0.9686275, 0.9686275],\n",
       "        [0.9686275, 0.9686275, 0.9686275],\n",
       "        [0.9686275, 0.9686275, 0.9686275]],\n",
       "\n",
       "       [[0.9686275, 0.9686275, 0.9686275],\n",
       "        [0.9686275, 0.9686275, 0.9686275],\n",
       "        [0.9686275, 0.9686275, 0.9686275],\n",
       "        ...,\n",
       "        [0.9686275, 0.9686275, 0.9686275],\n",
       "        [0.9686275, 0.9686275, 0.9686275],\n",
       "        [0.9686275, 0.9686275, 0.9686275]]], dtype=float32)>"
      ]
     },
     "metadata": {},
     "execution_count": 38
    }
   ],
   "metadata": {}
  },
  {
   "cell_type": "code",
   "execution_count": 39,
   "source": [
    "plt.imshow(img)"
   ],
   "outputs": [
    {
     "output_type": "execute_result",
     "data": {
      "text/plain": [
       "<matplotlib.image.AxesImage at 0x1e408dc5df0>"
      ]
     },
     "metadata": {},
     "execution_count": 39
    },
    {
     "output_type": "display_data",
     "data": {
      "text/plain": [
       "<Figure size 432x288 with 1 Axes>"
      ],
      "image/png": "[encoded data removed]"
     },
     "metadata": {
      "needs_background": "light"
     }
    }
   ],
   "metadata": {}
  },
  {
   "cell_type": "code",
   "execution_count": null,
   "source": [],
   "outputs": [],
   "metadata": {}
  }
 ],
 "metadata": {
  "orig_nbformat": 4,
  "language_info": {
   "name": "python"
  }
 },
 "nbformat": 4,
 "nbformat_minor": 2
}