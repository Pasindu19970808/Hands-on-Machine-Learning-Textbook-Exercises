{
 "cells": [
  {
   "cell_type": "code",
   "execution_count": 1,
   "source": [
    "import tensorflow_datasets as tfds\r\n",
    "import tensorflow as tf\r\n",
    "from tensorflow import keras\r\n",
    "import numpy as np\r\n",
    "import matplotlib.pyplot as plt"
   ],
   "outputs": [],
   "metadata": {}
  },
  {
   "cell_type": "code",
   "execution_count": 2,
   "source": [
    "(train_set, valid_set, test_set), info = tfds.load('mnist',split = ['train[0%:75%]','train[75%:90%]','train[90%:100%]'],as_supervised = True,with_info = True)"
   ],
   "outputs": [],
   "metadata": {}
  },
  {
   "cell_type": "code",
   "execution_count": 3,
   "source": [
    "fig,ax = plt.subplots(3,3,figsize = (10,10))\r\n",
    "i = 0\r\n",
    "index = 0\r\n",
    "for image,label in train_set.take(9):\r\n",
    "    ax[index,i].imshow(image)\r\n",
    "    if i == 2:\r\n",
    "        index += 1\r\n",
    "        i = 0\r\n",
    "        continue\r\n",
    "    i += 1\r\n",
    "\r\n",
    "\r\n"
   ],
   "outputs": [
    {
     "output_type": "display_data",
     "data": {
      "text/plain": [
       "<Figure size 720x720 with 9 Axes>"
      ],
      "image/png": "[encoded data removed]"
     },
     "metadata": {
      "needs_background": "light"
     }
    }
   ],
   "metadata": {}
  },
  {
   "cell_type": "code",
   "execution_count": 4,
   "source": [
    "#shuffle and batch the datasets\r\n",
    "train_set_size = train_set.cardinality()\r\n",
    "valid_set_size = valid_set.cardinality()\r\n",
    "test_set_size = test_set.cardinality()"
   ],
   "outputs": [],
   "metadata": {}
  },
  {
   "cell_type": "code",
   "execution_count": 5,
   "source": [
    "train_set = train_set.shuffle(1000)\r\n",
    "valid_set = valid_set.shuffle(1000)\r\n",
    "test_set = test_set.shuffle(1000)"
   ],
   "outputs": [],
   "metadata": {}
  },
  {
   "cell_type": "code",
   "execution_count": 6,
   "source": [
    "#preprocess \r\n",
    "#includes data augmentation to randomly crop\r\n",
    "import cv2\r\n",
    "def preprocess_augment(image,label,rotate):\r\n",
    "    pixels = image.numpy()\r\n",
    "    if rotate == 1:\r\n",
    "        rotated = cv2.rotate(pixels, cv2.ROTATE_90_CLOCKWISE)\r\n",
    "    tf_instance = tf.convert_to_tensor(rotated)\r\n",
    "    rand_cropped = tf.image.random_crop(tf_instance,size = (20,20,1))\r\n",
    "    resized_padded = tf.image.resize_with_pad(rand_cropped,target_height=28, target_width=28)\r\n",
    "    return resized_padded,label"
   ],
   "outputs": [],
   "metadata": {}
  },
  {
   "cell_type": "code",
   "execution_count": 7,
   "source": [
    "train_image_tensor = tf.TensorArray(tf.uint8,size = train_set.cardinality(), clear_after_read=False)\r\n",
    "train_label_tensor = tf.TensorArray(tf.int64,size = train_set.cardinality(), clear_after_read=False)"
   ],
   "outputs": [],
   "metadata": {}
  },
  {
   "cell_type": "code",
   "execution_count": 34,
   "source": [
    "images_np = np.zeros(shape = [45000,28,28,1])\r\n",
    "label_np = np.zeros(shape = [45000])\r\n",
    "i = 0\r\n",
    "\"\"\" for image,label in train_set:\r\n",
    "    train_image_tensor = train_image_tensor.write(i,image)\r\n",
    "    train_label_tensor = train_label_tensor.write(i,label)\r\n",
    "    i += 1 \"\"\"\r\n",
    "for image,label in train_set:\r\n",
    "    images_np[i,:,:,:] = image.numpy()\r\n",
    "    label_np[i] = label"
   ],
   "outputs": [],
   "metadata": {}
  },
  {
   "cell_type": "code",
   "execution_count": 9,
   "source": [
    "train_image_tensor.size().numpy()"
   ],
   "outputs": [
    {
     "output_type": "execute_result",
     "data": {
      "text/plain": [
       "45000"
      ]
     },
     "metadata": {},
     "execution_count": 9
    }
   ],
   "metadata": {}
  },
  {
   "cell_type": "markdown",
   "source": [
    "#making batches of the data\r\n",
    "train_set = train_set.batch(32)\r\n",
    "valid_set = valid_set.batch(32)\r\n",
    "test_set = test_set.batch(32)"
   ],
   "metadata": {}
  },
  {
   "cell_type": "code",
   "execution_count": 10,
   "source": [
    "random_angles = tf.random.uniform(shape = (train_image_tensor.size().numpy(),),minval = -np.pi/4, maxval = np.pi/4)"
   ],
   "outputs": [],
   "metadata": {}
  },
  {
   "cell_type": "code",
   "execution_count": 11,
   "source": [
    "random_angles"
   ],
   "outputs": [
    {
     "output_type": "execute_result",
     "data": {
      "text/plain": [
       "<tf.Tensor: shape=(45000,), dtype=float32, numpy=\n",
       "array([ 0.33598858,  0.30738944,  0.52393025, ..., -0.068335  ,\n",
       "        0.18068916, -0.24824947], dtype=float32)>"
      ]
     },
     "metadata": {},
     "execution_count": 11
    }
   ],
   "metadata": {}
  },
  {
   "cell_type": "code",
   "execution_count": 12,
   "source": [
    "import tensorflow as tf"
   ],
   "outputs": [],
   "metadata": {}
  },
  {
   "cell_type": "code",
   "execution_count": 32,
   "source": [
    "images_np[0]"
   ],
   "outputs": [
    {
     "output_type": "execute_result",
     "data": {
      "text/plain": [
       "(28, 28, 1)"
      ]
     },
     "metadata": {},
     "execution_count": 32
    }
   ],
   "metadata": {}
  },
  {
   "cell_type": "code",
   "execution_count": 36,
   "source": [
    "label_np.shape"
   ],
   "outputs": [
    {
     "output_type": "execute_result",
     "data": {
      "text/plain": [
       "(45000,)"
      ]
     },
     "metadata": {},
     "execution_count": 36
    }
   ],
   "metadata": {}
  },
  {
   "cell_type": "code",
   "execution_count": null,
   "source": [],
   "outputs": [],
   "metadata": {}
  }
 ],
 "metadata": {
  "orig_nbformat": 4,
  "language_info": {
   "name": "python"
  }
 },
 "nbformat": 4,
 "nbformat_minor": 2
}