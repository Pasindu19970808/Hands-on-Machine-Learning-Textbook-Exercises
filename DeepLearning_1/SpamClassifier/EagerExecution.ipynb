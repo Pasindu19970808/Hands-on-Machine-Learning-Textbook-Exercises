{
 "cells": [
  {
   "cell_type": "markdown",
   "source": [
    "<h3> Eager Execution </h3>\r\n",
    "\r\n",
    "Why were graphs used in the first place?\r\n",
    "\r\n",
    "- Automatic Differentiation\r\n",
    "- Deployment to python free servers\r\n",
    "- Graph-based optimizations \r\n",
    "- Compilation"
   ],
   "metadata": {}
  },
  {
   "cell_type": "markdown",
   "source": [
    "<h4> Why Eager Execution </h3> \r\n",
    "\r\n",
    "- Can still do automatic differentiation \r\n",
    "- Capable of debugging \r\n",
    "- You can use your host programming language to do control flow, data flow etc to inspect and making your model work. "
   ],
   "metadata": {}
  },
  {
   "cell_type": "code",
   "execution_count": 1,
   "source": [
    "import tensorflow as tf"
   ],
   "outputs": [],
   "metadata": {}
  },
  {
   "cell_type": "code",
   "execution_count": 3,
   "source": [
    "tf.compat.v1.enable_eager_execution()"
   ],
   "outputs": [],
   "metadata": {}
  },
  {
   "cell_type": "code",
   "execution_count": 4,
   "source": [
    "a = tf.constant([[2.0, 3.0], [4.0, 5.0]])\r\n",
    "print(tf.matmul(a,a))"
   ],
   "outputs": [
    {
     "output_type": "stream",
     "name": "stdout",
     "text": [
      "tf.Tensor(\n",
      "[[16. 21.]\n",
      " [28. 37.]], shape=(2, 2), dtype=float32)\n"
     ]
    }
   ],
   "metadata": {}
  },
  {
   "cell_type": "markdown",
   "source": [
    "Anytime you run a tensorflow operation with eager execution, rather than a graph being built and running the operation, it will immediately carry out the operation and present the result. \r\n",
    "\r\n",
    "Furthermore as things are occuring immediately, we can have highly dynamic control flow. "
   ],
   "metadata": {}
  },
  {
   "cell_type": "markdown",
   "source": [
    "With eager execution a new way is provided to calculate gradients. \r\n",
    "\r\n",
    "With eager execution we try to be efficient as possible. Hence we need to keeo track of information about what happened so far. BUT we also dont want to pay for this tracking of information when we are not computing gradients. \r\n",
    "\r\n",
    "This is where the *tape* comes in where we keep track of all the changes we execute."
   ],
   "metadata": {}
  },
  {
   "cell_type": "markdown",
   "source": [],
   "metadata": {}
  },
  {
   "cell_type": "markdown",
   "source": [
    "The **tape** concept also allows us to write custom loops for training. "
   ],
   "metadata": {}
  },
  {
   "cell_type": "markdown",
   "source": [
    "With eager execution you can also debug in a training loop/gradient tape. We have the power to look at the intermediate gradients by using a debugger in the **with** statement used in the loop"
   ],
   "metadata": {}
  },
  {
   "cell_type": "markdown",
   "source": [],
   "metadata": {}
  }
 ],
 "metadata": {
  "orig_nbformat": 4,
  "language_info": {
   "name": "python"
  }
 },
 "nbformat": 4,
 "nbformat_minor": 2
}