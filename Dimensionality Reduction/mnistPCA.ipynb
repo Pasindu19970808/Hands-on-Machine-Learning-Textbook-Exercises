{
 "metadata": {
  "language_info": {
   "codemirror_mode": {
    "name": "ipython",
    "version": 3
   },
   "file_extension": ".py",
   "mimetype": "text/x-python",
   "name": "python",
   "nbconvert_exporter": "python",
   "pygments_lexer": "ipython3",
   "version": "3.7.3-final"
  },
  "orig_nbformat": 2,
  "kernelspec": {
   "name": "python3",
   "display_name": "Python 3",
   "language": "python"
  }
 },
 "nbformat": 4,
 "nbformat_minor": 2,
 "cells": [
  {
   "cell_type": "code",
   "execution_count": 1,
   "metadata": {},
   "outputs": [],
   "source": [
    "from sklearn.datasets import fetch_openml\n",
    "mnist = fetch_openml('mnist_784',version = 1)"
   ]
  },
  {
   "cell_type": "code",
   "execution_count": 2,
   "metadata": {},
   "outputs": [],
   "source": [
    "X,y = mnist[\"data\"],mnist[\"target\"]\n",
    "#taking only the first 1000 to save time on training\n",
    "\n",
    "X = mnist[\"data\"][:1000]\n",
    "y = mnist[\"target\"][:1000]"
   ]
  },
  {
   "cell_type": "code",
   "execution_count": 3,
   "metadata": {},
   "outputs": [],
   "source": [
    "from sklearn.model_selection import train_test_split\n",
    "Xtrain,xtest,Ytrain,ytest = train_test_split(X,y,test_size = 0.15,random_state = 42)"
   ]
  },
  {
   "cell_type": "code",
   "execution_count": 4,
   "metadata": {},
   "outputs": [
    {
     "output_type": "execute_result",
     "data": {
      "text/plain": [
       "(850, 784)"
      ]
     },
     "metadata": {},
     "execution_count": 4
    }
   ],
   "source": [
    "Xtrain.shape"
   ]
  },
  {
   "cell_type": "code",
   "execution_count": 6,
   "metadata": {},
   "outputs": [],
   "source": [
    "from sklearn.ensemble import BaggingClassifier\n",
    "from sklearn.tree import DecisionTreeClassifier\n",
    "from sklearn.model_selection import StratifiedKFold\n",
    "from sklearn.model_selection import cross_val_score"
   ]
  },
  {
   "cell_type": "code",
   "execution_count": 17,
   "metadata": {},
   "outputs": [
    {
     "output_type": "stream",
     "name": "stdout",
     "text": [
      "Run :1\n",
      "0.4396890841972585\n",
      "Run :2\n",
      "Run :3\n",
      "0.48391106590697525\n",
      "Run :4\n",
      "0.5674489063072675\n",
      "Run :5\n",
      "0.6152505072548737\n",
      "Run :6\n",
      "0.650572402693386\n",
      "Run :7\n",
      "0.6569316910766178\n",
      "Run :8\n",
      "0.6903240470005176\n",
      "Run :9\n",
      "Run :10\n",
      "0.6976031358250672\n",
      "Run :11\n",
      "Run :12\n",
      "Run :13\n",
      "0.7028771003477753\n",
      "Run :14\n",
      "0.7558695157476543\n",
      "Run :15\n",
      "Run :16\n",
      "Run :17\n",
      "Run :18\n",
      "Run :19\n",
      "Run :20\n",
      "15\n"
     ]
    }
   ],
   "source": [
    "import numpy as np\n",
    "\n",
    "err = 0\n",
    "accuracy_decreasing = 0\n",
    "skf = StratifiedKFold(n_splits = 5, random_state = 42)\n",
    "for i in range(1,200):\n",
    "    print('Run :{}'.format(i))\n",
    "    bag_clf = BaggingClassifier(DecisionTreeClassifier(), bootstrap=True, n_estimators= i, n_jobs= -1, max_samples=100)\n",
    "    score = np.mean(cross_val_score(bag_clf, Xtrain,Ytrain,cv=skf, scoring = 'f1_weighted'))\n",
    "    if score > err:\n",
    "        accuracy_decreasing = 0\n",
    "        err = score\n",
    "        print(err)\n",
    "    else:\n",
    "        accuracy_decreasing = accuracy_decreasing + 1\n",
    "        if accuracy_decreasing > 5:\n",
    "            print(i - 5)\n",
    "            break\n"
   ]
  },
  {
   "cell_type": "code",
   "execution_count": 41,
   "metadata": {},
   "outputs": [
    {
     "output_type": "execute_result",
     "data": {
      "text/plain": [
       "BaggingClassifier(base_estimator=DecisionTreeClassifier(class_weight=None,\n",
       "                                                        criterion='gini',\n",
       "                                                        max_depth=None,\n",
       "                                                        max_features=None,\n",
       "                                                        max_leaf_nodes=None,\n",
       "                                                        min_impurity_decrease=0.0,\n",
       "                                                        min_impurity_split=None,\n",
       "                                                        min_samples_leaf=1,\n",
       "                                                        min_samples_split=2,\n",
       "                                                        min_weight_fraction_leaf=0.0,\n",
       "                                                        presort=False,\n",
       "                                                        random_state=None,\n",
       "                                                        splitter='best'),\n",
       "                  bootstrap=True, bootstrap_features=False, max_features=1.0,\n",
       "                  max_samples=100, n_estimators=500, n_jobs=-1, oob_score=False,\n",
       "                  random_state=None, verbose=0, warm_start=False)"
      ]
     },
     "metadata": {},
     "execution_count": 41
    }
   ],
   "source": [
    "bag_clf_final = BaggingClassifier(DecisionTreeClassifier(), bootstrap=True, n_estimators= 500, n_jobs= -1, max_samples=100)\n",
    "bag_clf_final.fit(Xtrain,Ytrain)"
   ]
  },
  {
   "cell_type": "code",
   "execution_count": 42,
   "metadata": {},
   "outputs": [],
   "source": [
    "ypred_train = bag_clf_final.predict(Xtrain)"
   ]
  },
  {
   "cell_type": "code",
   "execution_count": 43,
   "metadata": {},
   "outputs": [
    {
     "output_type": "execute_result",
     "data": {
      "text/plain": [
       "array([[ 83,   0,   0,   0,   0,   0,   1,   0,   0,   0],\n",
       "       [  0, 101,   0,   0,   0,   0,   1,   1,   0,   0],\n",
       "       [  1,  10,  63,   0,   2,   0,   0,   6,   0,   0],\n",
       "       [  1,   1,   0,  70,   2,   0,   0,   1,   0,   1],\n",
       "       [  0,   1,   0,   0,  92,   0,   2,   1,   0,   0],\n",
       "       [  0,   0,   0,   1,   1,  73,   1,   1,   1,   0],\n",
       "       [  1,   1,   0,   0,   2,   0,  71,   1,   0,   0],\n",
       "       [  1,   1,   0,   0,   2,   0,   0,  93,   0,   1],\n",
       "       [  0,   3,   0,   1,   0,   1,   0,   0,  71,   0],\n",
       "       [  1,   2,   0,   0,   1,   1,   1,   5,   0,  70]], dtype=int64)"
      ]
     },
     "metadata": {},
     "execution_count": 43
    }
   ],
   "source": [
    "from sklearn.metrics import confusion_matrix\n",
    "confusion_matrix_train = confusion_matrix(Ytrain,ypred_train)\n",
    "confusion_matrix_train"
   ]
  },
  {
   "cell_type": "code",
   "execution_count": 25,
   "metadata": {},
   "outputs": [
    {
     "output_type": "stream",
     "name": "stdout",
     "text": [
      "0,Precision:0.8695652173913043,Recall:0.9523809523809523\n1,Precision:0.7050359712230215,Recall:0.9514563106796117\n2,Precision:0.7457627118644068,Recall:0.5365853658536586\n3,Precision:0.7808219178082192,Recall:0.75\n4,Precision:0.8282828282828283,Recall:0.8541666666666666\n5,Precision:0.6823529411764706,Recall:0.7435897435897436\n6,Precision:0.8840579710144928,Recall:0.8026315789473685\n7,Precision:0.7758620689655172,Recall:0.9183673469387755\n8,Precision:0.8703703703703703,Recall:0.618421052631579\n9,Precision:0.90625,Recall:0.7160493827160493\n"
     ]
    }
   ],
   "source": [
    "for i in range(0,10):\n",
    "    precision = confusion_matrix_train[i,i]/np.sum(confusion_matrix_train[:,i])\n",
    "    recall = confusion_matrix_train[i,i]/np.sum(confusion_matrix_train[i,:])\n",
    "    print('{},Precision:{},Recall:{}'.format(i,precision,recall))"
   ]
  },
  {
   "cell_type": "code",
   "execution_count": 44,
   "metadata": {},
   "outputs": [
    {
     "output_type": "stream",
     "name": "stdout",
     "text": [
      "0,Precision:0.9431818181818182,Recall:0.9880952380952381\n1,Precision:0.8416666666666667,Recall:0.9805825242718447\n2,Precision:1.0,Recall:0.7682926829268293\n3,Precision:0.9722222222222222,Recall:0.9210526315789473\n4,Precision:0.9019607843137255,Recall:0.9583333333333334\n5,Precision:0.9733333333333334,Recall:0.9358974358974359\n6,Precision:0.922077922077922,Recall:0.9342105263157895\n7,Precision:0.8532110091743119,Recall:0.9489795918367347\n8,Precision:0.9861111111111112,Recall:0.9342105263157895\n9,Precision:0.9722222222222222,Recall:0.8641975308641975\n"
     ]
    }
   ],
   "source": [
    "for i in range(0,10):\n",
    "    precision = confusion_matrix_train[i,i]/np.sum(confusion_matrix_train[:,i])\n",
    "    recall = confusion_matrix_train[i,i]/np.sum(confusion_matrix_train[i,:])\n",
    "    print('{},Precision:{},Recall:{}'.format(i,precision,recall))"
   ]
  },
  {
   "cell_type": "code",
   "execution_count": 45,
   "metadata": {},
   "outputs": [
    {
     "output_type": "execute_result",
     "data": {
      "text/plain": [
       "0.9258823529411765"
      ]
     },
     "metadata": {},
     "execution_count": 45
    }
   ],
   "source": [
    "from sklearn.metrics import accuracy_score\n",
    "accuracy_score(Ytrain, ypred_train)"
   ]
  },
  {
   "cell_type": "code",
   "execution_count": 46,
   "metadata": {},
   "outputs": [
    {
     "output_type": "execute_result",
     "data": {
      "text/plain": [
       "array([[12,  0,  0,  0,  0,  0,  0,  1,  0,  0],\n",
       "       [ 0, 13,  0,  0,  0,  0,  0,  0,  0,  0],\n",
       "       [ 0,  3,  9,  1,  1,  0,  1,  2,  0,  0],\n",
       "       [ 1,  1,  0, 13,  0,  1,  0,  1,  0,  0],\n",
       "       [ 0,  0,  0,  0,  9,  0,  0,  0,  0,  0],\n",
       "       [ 0,  0,  1,  1,  0, 11,  0,  0,  0,  1],\n",
       "       [ 0,  2,  0,  0,  2,  0, 14,  0,  0,  0],\n",
       "       [ 0,  3,  0,  0,  1,  0,  0, 15,  0,  0],\n",
       "       [ 0,  0,  0,  0,  0,  1,  1,  0,  9,  0],\n",
       "       [ 1,  0,  0,  1,  2,  0,  0,  1,  0, 14]], dtype=int64)"
      ]
     },
     "metadata": {},
     "execution_count": 46
    }
   ],
   "source": [
    "ypred_test = bag_clf_final.predict(xtest)\n",
    "confusion_matrix_test = confusion_matrix(ytest,ypred_test)\n",
    "confusion_matrix_test"
   ]
  },
  {
   "cell_type": "code",
   "execution_count": 47,
   "metadata": {},
   "outputs": [
    {
     "output_type": "stream",
     "name": "stdout",
     "text": [
      "0,Precision:0.8571428571428571,Recall:0.9230769230769231\n1,Precision:0.5909090909090909,Recall:1.0\n2,Precision:0.9,Recall:0.5294117647058824\n3,Precision:0.8125,Recall:0.7647058823529411\n4,Precision:0.6,Recall:1.0\n5,Precision:0.8461538461538461,Recall:0.7857142857142857\n6,Precision:0.875,Recall:0.7777777777777778\n7,Precision:0.75,Recall:0.7894736842105263\n8,Precision:1.0,Recall:0.8181818181818182\n9,Precision:0.9333333333333333,Recall:0.7368421052631579\n"
     ]
    }
   ],
   "source": [
    "for i in range(0,10):\n",
    "    precision = confusion_matrix_test[i,i]/np.sum(confusion_matrix_test[:,i])\n",
    "    recall = confusion_matrix_test[i,i]/np.sum(confusion_matrix_test[i,:])\n",
    "    print('{},Precision:{},Recall:{}'.format(i,precision,recall))"
   ]
  },
  {
   "cell_type": "code",
   "execution_count": null,
   "metadata": {},
   "outputs": [],
   "source": []
  }
 ]
}