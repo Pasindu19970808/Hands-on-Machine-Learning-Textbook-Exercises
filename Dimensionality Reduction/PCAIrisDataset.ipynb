{
 "metadata": {
  "language_info": {
   "codemirror_mode": {
    "name": "ipython",
    "version": 3
   },
   "file_extension": ".py",
   "mimetype": "text/x-python",
   "name": "python",
   "nbconvert_exporter": "python",
   "pygments_lexer": "ipython3",
   "version": "3.7.3-final"
  },
  "orig_nbformat": 2,
  "kernelspec": {
   "name": "python3",
   "display_name": "Python 3",
   "language": "python"
  }
 },
 "nbformat": 4,
 "nbformat_minor": 2,
 "cells": [
  {
   "cell_type": "code",
   "execution_count": 1,
   "metadata": {},
   "outputs": [],
   "source": [
    "from sklearn.datasets import load_iris\n",
    "iris = load_iris()\n",
    "X = iris.data\n",
    "y = iris.target"
   ]
  },
  {
   "cell_type": "code",
   "execution_count": 2,
   "metadata": {},
   "outputs": [],
   "source": [
    "#Linear PCA\n",
    "from sklearn.decomposition import PCA\n",
    "lin_pca = PCA()"
   ]
  },
  {
   "cell_type": "code",
   "execution_count": 6,
   "metadata": {},
   "outputs": [],
   "source": [
    "import numpy as np\n",
    "X_centered = X - np.mean(X,axis = 0)"
   ]
  },
  {
   "cell_type": "code",
   "execution_count": 7,
   "metadata": {},
   "outputs": [],
   "source": [
    "U,s,V = np.linalg.svd(X_centered)"
   ]
  },
  {
   "cell_type": "code",
   "execution_count": 12,
   "metadata": {},
   "outputs": [
    {
     "output_type": "execute_result",
     "data": {
      "text/plain": [
       "2"
      ]
     },
     "metadata": {},
     "execution_count": 12
    }
   ],
   "source": [
    "np.where(np.cumsum((s/np.sum(s)))>=0.9)[0][0]"
   ]
  },
  {
   "cell_type": "code",
   "execution_count": 14,
   "metadata": {},
   "outputs": [
    {
     "output_type": "execute_result",
     "data": {
      "text/plain": [
       "array([0.68934513, 0.85449016, 0.94824346, 1.        ])"
      ]
     },
     "metadata": {},
     "execution_count": 14
    }
   ],
   "source": [
    "np.cumsum(s/np.sum(s))"
   ]
  },
  {
   "cell_type": "code",
   "execution_count": 15,
   "metadata": {},
   "outputs": [],
   "source": [
    "#capture only 85% of variance\n",
    "lin_pca_final = PCA(n_components = 2)\n",
    "X_reduced = lin_pca_final.fit_transform(X)"
   ]
  },
  {
   "cell_type": "code",
   "execution_count": 19,
   "metadata": {},
   "outputs": [
    {
     "output_type": "execute_result",
     "data": {
      "text/plain": [
       "<matplotlib.collections.PathCollection at 0x23cd732b2b0>"
      ]
     },
     "metadata": {},
     "execution_count": 19
    },
    {
     "output_type": "display_data",
     "data": {
      "text/plain": "<Figure size 576x432 with 1 Axes>",
      "image/png": "[encoded data removed]"
     },
     "metadata": {
      "needs_background": "light"
     }
    }
   ],
   "source": [
    "import matplotlib.pyplot as plt\n",
    "fig,ax = plt.subplots(1,1,figsize = (8,6))\n",
    "ax.scatter(X_reduced[y == 0,0],X_reduced[y == 0,1],color = 'red',alpha = 0.5)\n",
    "ax.scatter(X_reduced[y == 1,0],X_reduced[y == 1,1],color = 'blue',alpha = 0.5)\n",
    "ax.scatter(X_reduced[y == 2,0],X_reduced[y == 2,1],color = 'green',alpha = 0.5)\n"
   ]
  },
  {
   "source": [
    "<h3> Kernel PCA </h3>"
   ],
   "cell_type": "markdown",
   "metadata": {}
  },
  {
   "cell_type": "code",
   "execution_count": 25,
   "metadata": {},
   "outputs": [],
   "source": [
    "from scipy.spatial.distance import pdist, squareform\n",
    "from scipy.linalg import eigh\n",
    "from scipy import exp"
   ]
  },
  {
   "cell_type": "code",
   "execution_count": 26,
   "metadata": {},
   "outputs": [],
   "source": [
    "sq_dists = pdist(X,'sqeuclidean')\n",
    "mat_sq_dists = squareform(sq_dists)\n",
    "#RBF kernel\n",
    "K = exp(-0.04*(mat_sq_dists))\n",
    "#centering K\n",
    "N = K.shape[0]\n",
    "one_n = np.ones((N,N))/N\n",
    "K = K - one_n.dot(K) - K.dot(one_n) +(one_n.dot(K)).dot(one_n)\n",
    "\n",
    "eigvals,eigvecs = eigh(K)"
   ]
  },
  {
   "cell_type": "code",
   "execution_count": 30,
   "metadata": {},
   "outputs": [
    {
     "output_type": "execute_result",
     "data": {
      "text/plain": [
       "array([[-0.04186074, -0.1108721 ],\n",
       "       [-0.02190485, -0.11066698],\n",
       "       [-0.03840396, -0.11518369],\n",
       "       [-0.01932767, -0.11107159],\n",
       "       [-0.04616687, -0.11197005],\n",
       "       [-0.03411278, -0.09824562],\n",
       "       [-0.0362245 , -0.11349364],\n",
       "       [-0.03002022, -0.10928349],\n",
       "       [-0.02164874, -0.1129703 ],\n",
       "       [-0.02096343, -0.10984595],\n",
       "       [-0.0440861 , -0.10550114],\n",
       "       [-0.02276336, -0.10858094],\n",
       "       [-0.02539167, -0.11228651],\n",
       "       [-0.0532536 , -0.11990841],\n",
       "       [-0.08054549, -0.10659952],\n",
       "       [-0.073541  , -0.09834357],\n",
       "       [-0.06204514, -0.10801918],\n",
       "       [-0.0390312 , -0.1099055 ],\n",
       "       [-0.03462491, -0.09520712],\n",
       "       [-0.0448857 , -0.10790195],\n",
       "       [-0.01625929, -0.0997273 ],\n",
       "       [-0.03767182, -0.10679583],\n",
       "       [-0.07781347, -0.12182   ],\n",
       "       [-0.00220843, -0.09947912],\n",
       "       [-0.00023736, -0.10064103],\n",
       "       [-0.00594594, -0.10506928],\n",
       "       [-0.01670164, -0.10473306],\n",
       "       [-0.03449098, -0.10752862],\n",
       "       [-0.03772762, -0.10959893],\n",
       "       [-0.01482955, -0.1085832 ],\n",
       "       [-0.01035761, -0.10736879],\n",
       "       [-0.02540765, -0.10277133],\n",
       "       [-0.06420717, -0.10836643],\n",
       "       [-0.0741152 , -0.10601201],\n",
       "       [-0.01786831, -0.10895315],\n",
       "       [-0.0451172 , -0.11496891],\n",
       "       [-0.05040382, -0.10852599],\n",
       "       [-0.04922057, -0.11365581],\n",
       "       [-0.03324978, -0.11554422],\n",
       "       [-0.03002647, -0.10831848],\n",
       "       [-0.0466619 , -0.11299961],\n",
       "       [-0.00683841, -0.10843059],\n",
       "       [-0.04066229, -0.1165344 ],\n",
       "       [-0.01591012, -0.10254554],\n",
       "       [-0.01373694, -0.09614291],\n",
       "       [-0.01929171, -0.11049435],\n",
       "       [-0.04040383, -0.10647729],\n",
       "       [-0.03113215, -0.11370971],\n",
       "       [-0.04363976, -0.10670207],\n",
       "       [-0.03352912, -0.11123972],\n",
       "       [-0.01315401,  0.05859261],\n",
       "       [ 0.03658922,  0.04627407],\n",
       "       [-0.01429152,  0.06582836],\n",
       "       [ 0.13410797,  0.01248698],\n",
       "       [ 0.04245609,  0.05263669],\n",
       "       [ 0.09802915,  0.03380907],\n",
       "       [ 0.0279028 ,  0.05295277],\n",
       "       [ 0.13674667, -0.03137877],\n",
       "       [ 0.03518726,  0.0504972 ],\n",
       "       [ 0.13079936,  0.00356014],\n",
       "       [ 0.15025208, -0.01960174],\n",
       "       [ 0.08514974,  0.02813487],\n",
       "       [ 0.11605994,  0.01585289],\n",
       "       [ 0.06230706,  0.04873274],\n",
       "       [ 0.109455  , -0.0047469 ],\n",
       "       [ 0.02630026,  0.04542878],\n",
       "       [ 0.09180468,  0.03462132],\n",
       "       [ 0.10846764,  0.01502405],\n",
       "       [ 0.08643542,  0.04582756],\n",
       "       [ 0.1257432 ,  0.00601118],\n",
       "       [ 0.0482288 ,  0.05371465],\n",
       "       [ 0.08919405,  0.02079037],\n",
       "       [ 0.05196228,  0.06042795],\n",
       "       [ 0.06939901,  0.04579595],\n",
       "       [ 0.06009071,  0.03685139],\n",
       "       [ 0.03756246,  0.04457611],\n",
       "       [ 0.01287334,  0.06122995],\n",
       "       [-0.00598439,  0.06990621],\n",
       "       [ 0.07476102,  0.04160191],\n",
       "       [ 0.11636071, -0.01121991],\n",
       "       [ 0.13264016,  0.00059879],\n",
       "       [ 0.13198399, -0.00528228],\n",
       "       [ 0.10996303,  0.01037838],\n",
       "       [ 0.05110568,  0.06353594],\n",
       "       [ 0.10076394,  0.03112567],\n",
       "       [ 0.05005791,  0.04086496],\n",
       "       [ 0.01117169,  0.05743749],\n",
       "       [ 0.0844054 ,  0.04053118],\n",
       "       [ 0.10360331,  0.01566782],\n",
       "       [ 0.1281236 ,  0.01184914],\n",
       "       [ 0.11848666,  0.02555546],\n",
       "       [ 0.06239638,  0.04483846],\n",
       "       [ 0.11272718,  0.01486086],\n",
       "       [ 0.13846896, -0.02928986],\n",
       "       [ 0.11426521,  0.02088164],\n",
       "       [ 0.09829194,  0.01968655],\n",
       "       [ 0.10180748,  0.02183801],\n",
       "       [ 0.07256286,  0.03389347],\n",
       "       [ 0.12153766, -0.0394188 ],\n",
       "       [ 0.10767472,  0.01821877],\n",
       "       [-0.08418767,  0.09257855],\n",
       "       [ 0.05538172,  0.06425288],\n",
       "       [-0.11191044,  0.09576077],\n",
       "       [-0.01583173,  0.08227236],\n",
       "       [-0.06219844,  0.09120412],\n",
       "       [-0.19944112,  0.10115858],\n",
       "       [ 0.13257994,  0.02669606],\n",
       "       [-0.1444587 ,  0.09857687],\n",
       "       [-0.04714032,  0.08992128],\n",
       "       [-0.16649098,  0.09706782],\n",
       "       [-0.0141916 ,  0.07330948],\n",
       "       [ 0.00244406,  0.07775705],\n",
       "       [-0.05911334,  0.087311  ],\n",
       "       [ 0.07062048,  0.06103896],\n",
       "       [ 0.03497069,  0.06884611],\n",
       "       [-0.02977112,  0.07997695],\n",
       "       [-0.02697691,  0.0820001 ],\n",
       "       [-0.23595193,  0.09724846],\n",
       "       [-0.22020275,  0.10089732],\n",
       "       [ 0.07469383,  0.05923016],\n",
       "       [-0.09536978,  0.09230084],\n",
       "       [ 0.07121192,  0.05595798],\n",
       "       [-0.20411959,  0.10059624],\n",
       "       [ 0.0375817 ,  0.06424086],\n",
       "       [-0.07747401,  0.08935706],\n",
       "       [-0.12445193,  0.09460256],\n",
       "       [ 0.0460514 ,  0.05955338],\n",
       "       [ 0.03931471,  0.06076998],\n",
       "       [-0.02911892,  0.08622424],\n",
       "       [-0.09658451,  0.09036393],\n",
       "       [-0.13667656,  0.09754974],\n",
       "       [-0.22390952,  0.09465865],\n",
       "       [-0.03255606,  0.08693919],\n",
       "       [ 0.02978963,  0.0661047 ],\n",
       "       [ 0.01955042,  0.0752825 ],\n",
       "       [-0.17683878,  0.09873465],\n",
       "       [-0.05498359,  0.08508117],\n",
       "       [-0.02352562,  0.08063263],\n",
       "       [ 0.05086825,  0.0560712 ],\n",
       "       [-0.06338589,  0.08556207],\n",
       "       [-0.07269185,  0.0900748 ],\n",
       "       [-0.04961276,  0.07990746],\n",
       "       [ 0.05538172,  0.06425288],\n",
       "       [-0.10279418,  0.09485575],\n",
       "       [-0.09084099,  0.09143952],\n",
       "       [-0.03727696,  0.0811535 ],\n",
       "       [ 0.03573247,  0.06854415],\n",
       "       [-0.01248244,  0.07673848],\n",
       "       [-0.03066952,  0.07904184],\n",
       "       [ 0.04069187,  0.06390797]])"
      ]
     },
     "metadata": {},
     "execution_count": 30
    }
   ],
   "source": [
    "X_reduced_rbf = eigvecs[:,-2:]\n",
    "X_reduced_rbf"
   ]
  },
  {
   "cell_type": "code",
   "execution_count": 31,
   "metadata": {},
   "outputs": [
    {
     "output_type": "execute_result",
     "data": {
      "text/plain": [
       "<matplotlib.collections.PathCollection at 0x23cdf31bb70>"
      ]
     },
     "metadata": {},
     "execution_count": 31
    },
    {
     "output_type": "display_data",
     "data": {
      "text/plain": "<Figure size 576x432 with 1 Axes>",
      "image/png": "[encoded data removed]"
     },
     "metadata": {
      "needs_background": "light"
     }
    }
   ],
   "source": [
    "import matplotlib.pyplot as plt\n",
    "fig,ax1 = plt.subplots(1,1,figsize = (8,6))\n",
    "ax1.scatter(X_reduced_rbf[y == 0,0],X_reduced_rbf[y == 0,1],color = 'red',alpha = 0.5)\n",
    "ax1.scatter(X_reduced_rbf[y == 1,0],X_reduced_rbf[y == 1,1],color = 'blue',alpha = 0.5)\n",
    "ax1.scatter(X_reduced_rbf[y == 2,0],X_reduced_rbf[y == 2,1],color = 'green',alpha = 0.5)"
   ]
  },
  {
   "cell_type": "code",
   "execution_count": null,
   "metadata": {},
   "outputs": [],
   "source": []
  }
 ]
}