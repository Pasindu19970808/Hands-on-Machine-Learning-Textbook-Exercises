{
 "cells": [
  {
   "cell_type": "markdown",
   "metadata": {},
   "source": [
    "Random forests involve aggregating the predictions of a group of predictors. You often get better predictions that with the best individual predictor."
   ]
  },
  {
   "cell_type": "markdown",
   "metadata": {},
   "source": [
    "A group of predictors is called an ensemble; thus, this technique is called Ensemble Learning, and an Ensemble Learning algorithm is called an Ensemble method. "
   ]
  },
  {
   "cell_type": "markdown",
   "metadata": {},
   "source": [
    "Ensemble methods work best when the predictors are as independent from one another as possible. One way to get diverse classifiers is to train them using very different algorithms"
   ]
  },
  {
   "cell_type": "code",
   "execution_count": 1,
   "metadata": {},
   "outputs": [
    {
     "name": "stderr",
     "output_type": "stream",
     "text": [
      "C:\\Users\\ASUS\\Anaconda3\\lib\\site-packages\\sklearn\\linear_model\\logistic.py:432: FutureWarning: Default solver will be changed to 'lbfgs' in 0.22. Specify a solver to silence this warning.\n",
      "  FutureWarning)\n",
      "C:\\Users\\ASUS\\Anaconda3\\lib\\site-packages\\sklearn\\ensemble\\forest.py:245: FutureWarning: The default value of n_estimators will change from 10 in version 0.20 to 100 in 0.22.\n",
      "  \"10 in version 0.20 to 100 in 0.22.\", FutureWarning)\n",
      "C:\\Users\\ASUS\\Anaconda3\\lib\\site-packages\\sklearn\\svm\\base.py:193: FutureWarning: The default value of gamma will change from 'auto' to 'scale' in version 0.22 to account better for unscaled features. Set gamma explicitly to 'auto' or 'scale' to avoid this warning.\n",
      "  \"avoid this warning.\", FutureWarning)\n"
     ]
    },
    {
     "data": {
      "text/plain": [
       "VotingClassifier(estimators=[('lr',\n",
       "                              LogisticRegression(C=1.0, class_weight=None,\n",
       "                                                 dual=False, fit_intercept=True,\n",
       "                                                 intercept_scaling=1,\n",
       "                                                 l1_ratio=None, max_iter=100,\n",
       "                                                 multi_class='warn',\n",
       "                                                 n_jobs=None, penalty='l2',\n",
       "                                                 random_state=None,\n",
       "                                                 solver='warn', tol=0.0001,\n",
       "                                                 verbose=0, warm_start=False)),\n",
       "                             ('rf',\n",
       "                              RandomForestClassifier(bootstrap=True,\n",
       "                                                     class_weight=None,\n",
       "                                                     criterion='gini',...\n",
       "                                                     oob_score=False,\n",
       "                                                     random_state=None,\n",
       "                                                     verbose=0,\n",
       "                                                     warm_start=False)),\n",
       "                             ('svc',\n",
       "                              SVC(C=1.0, cache_size=200, class_weight=None,\n",
       "                                  coef0=0.0, decision_function_shape='ovr',\n",
       "                                  degree=3, gamma='auto_deprecated',\n",
       "                                  kernel='rbf', max_iter=-1, probability=False,\n",
       "                                  random_state=None, shrinking=True, tol=0.001,\n",
       "                                  verbose=False))],\n",
       "                 flatten_transform=True, n_jobs=None, voting='hard',\n",
       "                 weights=None)"
      ]
     },
     "execution_count": 1,
     "metadata": {},
     "output_type": "execute_result"
    }
   ],
   "source": [
    "from sklearn.ensemble import RandomForestClassifier\n",
    "from sklearn.ensemble import VotingClassifier\n",
    "from sklearn.linear_model import LogisticRegression\n",
    "from sklearn.svm import SVC\n",
    "from sklearn.datasets import make_moons\n",
    "from sklearn.model_selection import train_test_split\n",
    "X,y = make_moons(n_samples = 100, noise = 0.15, random_state = 42)\n",
    "\n",
    "X_train,X_test,y_train,y_test = train_test_split(X, y, test_size=0.2, random_state=42)\n",
    "\n",
    "log_clf = LogisticRegression()\n",
    "rnd_clf = RandomForestClassifier()\n",
    "svm_clf = SVC()\n",
    "\n",
    "voting_clf = VotingClassifier(estimators=[('lr',log_clf),\\\n",
    "                                          ('rf',rnd_clf),\\\n",
    "                                          ('svc',svm_clf)],\n",
    "                             voting = 'hard')\n",
    "\n",
    "voting_clf.fit(X_train,y_train)"
   ]
  },
  {
   "cell_type": "code",
   "execution_count": 2,
   "metadata": {},
   "outputs": [
    {
     "name": "stdout",
     "output_type": "stream",
     "text": [
      "1.0\n",
      "1.0\n",
      "1.0\n",
      "1.0\n"
     ]
    },
    {
     "name": "stderr",
     "output_type": "stream",
     "text": [
      "C:\\Users\\ASUS\\Anaconda3\\lib\\site-packages\\sklearn\\linear_model\\logistic.py:432: FutureWarning: Default solver will be changed to 'lbfgs' in 0.22. Specify a solver to silence this warning.\n",
      "  FutureWarning)\n",
      "C:\\Users\\ASUS\\Anaconda3\\lib\\site-packages\\sklearn\\ensemble\\forest.py:245: FutureWarning: The default value of n_estimators will change from 10 in version 0.20 to 100 in 0.22.\n",
      "  \"10 in version 0.20 to 100 in 0.22.\", FutureWarning)\n",
      "C:\\Users\\ASUS\\Anaconda3\\lib\\site-packages\\sklearn\\svm\\base.py:193: FutureWarning: The default value of gamma will change from 'auto' to 'scale' in version 0.22 to account better for unscaled features. Set gamma explicitly to 'auto' or 'scale' to avoid this warning.\n",
      "  \"avoid this warning.\", FutureWarning)\n",
      "C:\\Users\\ASUS\\Anaconda3\\lib\\site-packages\\sklearn\\linear_model\\logistic.py:432: FutureWarning: Default solver will be changed to 'lbfgs' in 0.22. Specify a solver to silence this warning.\n",
      "  FutureWarning)\n",
      "C:\\Users\\ASUS\\Anaconda3\\lib\\site-packages\\sklearn\\svm\\base.py:193: FutureWarning: The default value of gamma will change from 'auto' to 'scale' in version 0.22 to account better for unscaled features. Set gamma explicitly to 'auto' or 'scale' to avoid this warning.\n",
      "  \"avoid this warning.\", FutureWarning)\n"
     ]
    }
   ],
   "source": [
    "from sklearn.metrics import accuracy_score\n",
    "\n",
    "for clf in (log_clf,rnd_clf,svm_clf,voting_clf):\n",
    "    clf.fit(X_train,y_train)\n",
    "    acc = accuracy_score(y_test,clf.predict(X_test))\n",
    "    print(acc)"
   ]
  },
  {
   "cell_type": "code",
   "execution_count": 13,
   "metadata": {},
   "outputs": [
    {
     "data": {
      "text/plain": [
       "array([0, 0, 1, 0, 0, 0, 0, 1, 0, 1, 0, 0, 0, 0, 1, 0, 1, 0, 1, 0],\n",
       "      dtype=int64)"
      ]
     },
     "execution_count": 13,
     "metadata": {},
     "output_type": "execute_result"
    }
   ],
   "source": [
    "clf.predict(X_test)"
   ]
  },
  {
   "cell_type": "code",
   "execution_count": 14,
   "metadata": {},
   "outputs": [
    {
     "data": {
      "text/plain": [
       "array([0, 0, 1, 0, 0, 0, 0, 1, 0, 1, 0, 0, 0, 0, 1, 0, 1, 0, 1, 0],\n",
       "      dtype=int64)"
      ]
     },
     "execution_count": 14,
     "metadata": {},
     "output_type": "execute_result"
    }
   ],
   "source": [
    "y_test"
   ]
  },
  {
   "cell_type": "code",
   "execution_count": 6,
   "metadata": {},
   "outputs": [
    {
     "data": {
      "text/plain": [
       "array([[0.8573665 , 0.1426335 ],\n",
       "       [0.89895723, 0.10104277],\n",
       "       [0.07101239, 0.92898761],\n",
       "       [0.88033424, 0.11966576],\n",
       "       [0.91510343, 0.08489657],\n",
       "       [0.8163197 , 0.1836803 ],\n",
       "       [0.84727687, 0.15272313],\n",
       "       [0.19247908, 0.80752092],\n",
       "       [0.78439188, 0.21560812],\n",
       "       [0.0451083 , 0.9548917 ],\n",
       "       [0.71310447, 0.28689553],\n",
       "       [0.69484657, 0.30515343],\n",
       "       [0.70977661, 0.29022339],\n",
       "       [0.95620585, 0.04379415],\n",
       "       [0.16560231, 0.83439769],\n",
       "       [0.7028482 , 0.2971518 ],\n",
       "       [0.09580267, 0.90419733],\n",
       "       [0.89428015, 0.10571985],\n",
       "       [0.04194111, 0.95805889],\n",
       "       [0.75256527, 0.24743473]])"
      ]
     },
     "execution_count": 6,
     "metadata": {},
     "output_type": "execute_result"
    }
   ],
   "source": [
    "log_clf.predict_proba(X_test)"
   ]
  },
  {
   "cell_type": "markdown",
   "metadata": {},
   "source": [
    "<h1>Bagging and Pasting</h1>"
   ]
  },
  {
   "cell_type": "markdown",
   "metadata": {},
   "source": [
    "One way to get a diverse set of classifiers is to use very different training algorithms OR train the same algorithm on different random subsets of the training set.\n",
    "\n",
    "Bagging is sampling with replacement. \n",
    "\n",
    "Pasting is sampling without replacement. "
   ]
  },
  {
   "cell_type": "markdown",
   "metadata": {},
   "source": [
    "Bagging and Pasting allow training instances to be sampled several times across multiple predictors, but only bagging allows training samples to be sampled several times for the same predictor. "
   ]
  },
  {
   "cell_type": "markdown",
   "metadata": {},
   "source": [
    "Usually, given that each predictor is trained on a smaller dataset, it is of lesser accuracy (underfit) than if it were to be trained on the larger set. But aggregation reduces both bias and variance."
   ]
  },
  {
   "cell_type": "markdown",
   "metadata": {},
   "source": [
    "<h1> Bootstrap aggregating - Bagging </h1>\n",
    "\n",
    "Involves training the same algorithm using different training examples. In Bagging with replacement, you randomly select data into different bags where there is a chance you select the same training instance twice"
   ]
  },
  {
   "cell_type": "code",
   "execution_count": 7,
   "metadata": {},
   "outputs": [],
   "source": [
    "from sklearn.ensemble import BaggingClassifier\n",
    "from sklearn.tree import DecisionTreeClassifier"
   ]
  },
  {
   "cell_type": "code",
   "execution_count": 8,
   "metadata": {},
   "outputs": [],
   "source": [
    "bag_clf = BaggingClassifier(DecisionTreeClassifier(), n_estimators = 500, \n",
    "                           max_samples = 100, bootstrap = True, n_jobs = -1)"
   ]
  },
  {
   "cell_type": "code",
   "execution_count": 14,
   "metadata": {},
   "outputs": [
    {
     "data": {
      "text/plain": [
       "BaggingClassifier(base_estimator=DecisionTreeClassifier(class_weight=None,\n",
       "                                                        criterion='gini',\n",
       "                                                        max_depth=None,\n",
       "                                                        max_features=None,\n",
       "                                                        max_leaf_nodes=None,\n",
       "                                                        min_impurity_decrease=0.0,\n",
       "                                                        min_impurity_split=None,\n",
       "                                                        min_samples_leaf=1,\n",
       "                                                        min_samples_split=2,\n",
       "                                                        min_weight_fraction_leaf=0.0,\n",
       "                                                        presort=False,\n",
       "                                                        random_state=None,\n",
       "                                                        splitter='best'),\n",
       "                  bootstrap=True, bootstrap_features=False, max_features=1.0,\n",
       "                  max_samples=100, n_estimators=500, n_jobs=-1, oob_score=False,\n",
       "                  random_state=None, verbose=0, warm_start=False)"
      ]
     },
     "execution_count": 14,
     "metadata": {},
     "output_type": "execute_result"
    }
   ],
   "source": [
    "X,y = make_moons(n_samples = 500, noise = 0.15, random_state = 42)\n",
    "\n",
    "X_train,X_test,y_train,y_test = train_test_split(X, y, test_size=0.2, random_state=42)\n",
    "bag_clf.fit(X_train,y_train)"
   ]
  },
  {
   "cell_type": "code",
   "execution_count": 17,
   "metadata": {},
   "outputs": [
    {
     "data": {
      "text/plain": [
       "array([[1.   , 0.   ],\n",
       "       [0.018, 0.982],\n",
       "       [0.   , 1.   ],\n",
       "       [0.938, 0.062],\n",
       "       [0.996, 0.004],\n",
       "       [0.998, 0.002],\n",
       "       [0.904, 0.096],\n",
       "       [0.998, 0.002],\n",
       "       [0.604, 0.396],\n",
       "       [0.012, 0.988],\n",
       "       [0.9  , 0.1  ],\n",
       "       [0.918, 0.082],\n",
       "       [0.998, 0.002],\n",
       "       [0.05 , 0.95 ],\n",
       "       [0.968, 0.032],\n",
       "       [0.99 , 0.01 ],\n",
       "       [0.998, 0.002],\n",
       "       [0.998, 0.002],\n",
       "       [0.82 , 0.18 ],\n",
       "       [0.01 , 0.99 ],\n",
       "       [0.002, 0.998],\n",
       "       [0.   , 1.   ],\n",
       "       [0.984, 0.016],\n",
       "       [0.954, 0.046],\n",
       "       [0.996, 0.004],\n",
       "       [0.028, 0.972],\n",
       "       [0.926, 0.074],\n",
       "       [1.   , 0.   ],\n",
       "       [0.   , 1.   ],\n",
       "       [0.002, 0.998],\n",
       "       [0.   , 1.   ],\n",
       "       [0.844, 0.156],\n",
       "       [0.14 , 0.86 ],\n",
       "       [0.994, 0.006],\n",
       "       [0.934, 0.066],\n",
       "       [0.842, 0.158],\n",
       "       [0.   , 1.   ],\n",
       "       [0.96 , 0.04 ],\n",
       "       [0.93 , 0.07 ],\n",
       "       [0.904, 0.096],\n",
       "       [0.162, 0.838],\n",
       "       [0.01 , 0.99 ],\n",
       "       [1.   , 0.   ],\n",
       "       [0.12 , 0.88 ],\n",
       "       [0.99 , 0.01 ],\n",
       "       [0.034, 0.966],\n",
       "       [0.002, 0.998],\n",
       "       [0.996, 0.004],\n",
       "       [0.992, 0.008],\n",
       "       [0.994, 0.006],\n",
       "       [0.   , 1.   ],\n",
       "       [0.932, 0.068],\n",
       "       [1.   , 0.   ],\n",
       "       [0.018, 0.982],\n",
       "       [0.998, 0.002],\n",
       "       [0.   , 1.   ],\n",
       "       [0.994, 0.006],\n",
       "       [0.   , 1.   ],\n",
       "       [0.02 , 0.98 ],\n",
       "       [0.02 , 0.98 ],\n",
       "       [1.   , 0.   ],\n",
       "       [0.002, 0.998],\n",
       "       [0.3  , 0.7  ],\n",
       "       [0.   , 1.   ],\n",
       "       [0.968, 0.032],\n",
       "       [0.082, 0.918],\n",
       "       [0.02 , 0.98 ],\n",
       "       [0.998, 0.002],\n",
       "       [1.   , 0.   ],\n",
       "       [0.   , 1.   ],\n",
       "       [1.   , 0.   ],\n",
       "       [0.974, 0.026],\n",
       "       [0.012, 0.988],\n",
       "       [0.996, 0.004],\n",
       "       [0.022, 0.978],\n",
       "       [1.   , 0.   ],\n",
       "       [0.4  , 0.6  ],\n",
       "       [0.996, 0.004],\n",
       "       [0.458, 0.542],\n",
       "       [0.   , 1.   ],\n",
       "       [0.002, 0.998],\n",
       "       [0.828, 0.172],\n",
       "       [0.014, 0.986],\n",
       "       [0.   , 1.   ],\n",
       "       [0.086, 0.914],\n",
       "       [0.956, 0.044],\n",
       "       [0.95 , 0.05 ],\n",
       "       [1.   , 0.   ],\n",
       "       [0.764, 0.236],\n",
       "       [0.054, 0.946],\n",
       "       [0.972, 0.028],\n",
       "       [0.978, 0.022],\n",
       "       [0.888, 0.112],\n",
       "       [0.91 , 0.09 ],\n",
       "       [0.996, 0.004],\n",
       "       [0.   , 1.   ],\n",
       "       [0.238, 0.762],\n",
       "       [0.004, 0.996],\n",
       "       [0.914, 0.086],\n",
       "       [0.   , 1.   ],\n",
       "       [0.036, 0.964],\n",
       "       [1.   , 0.   ],\n",
       "       [1.   , 0.   ],\n",
       "       [0.018, 0.982],\n",
       "       [0.964, 0.036],\n",
       "       [0.   , 1.   ],\n",
       "       [0.044, 0.956],\n",
       "       [0.   , 1.   ],\n",
       "       [0.13 , 0.87 ],\n",
       "       [0.99 , 0.01 ],\n",
       "       [0.022, 0.978],\n",
       "       [0.954, 0.046],\n",
       "       [0.   , 1.   ],\n",
       "       [0.018, 0.982],\n",
       "       [0.   , 1.   ],\n",
       "       [0.056, 0.944],\n",
       "       [1.   , 0.   ],\n",
       "       [0.   , 1.   ],\n",
       "       [0.166, 0.834],\n",
       "       [0.   , 1.   ],\n",
       "       [0.786, 0.214],\n",
       "       [0.078, 0.922],\n",
       "       [0.002, 0.998],\n",
       "       [0.99 , 0.01 ],\n",
       "       [0.264, 0.736],\n",
       "       [0.994, 0.006],\n",
       "       [0.002, 0.998],\n",
       "       [0.   , 1.   ],\n",
       "       [0.036, 0.964],\n",
       "       [0.996, 0.004],\n",
       "       [0.   , 1.   ],\n",
       "       [0.44 , 0.56 ],\n",
       "       [0.298, 0.702],\n",
       "       [0.002, 0.998],\n",
       "       [0.996, 0.004],\n",
       "       [0.064, 0.936],\n",
       "       [0.944, 0.056],\n",
       "       [0.004, 0.996],\n",
       "       [0.78 , 0.22 ],\n",
       "       [1.   , 0.   ],\n",
       "       [0.994, 0.006],\n",
       "       [0.   , 1.   ],\n",
       "       [0.   , 1.   ],\n",
       "       [0.656, 0.344],\n",
       "       [0.998, 0.002],\n",
       "       [0.   , 1.   ],\n",
       "       [0.998, 0.002],\n",
       "       [0.996, 0.004],\n",
       "       [0.992, 0.008],\n",
       "       [0.912, 0.088],\n",
       "       [1.   , 0.   ],\n",
       "       [0.   , 1.   ],\n",
       "       [0.244, 0.756],\n",
       "       [0.998, 0.002],\n",
       "       [0.   , 1.   ],\n",
       "       [0.094, 0.906],\n",
       "       [0.954, 0.046],\n",
       "       [0.082, 0.918],\n",
       "       [0.94 , 0.06 ],\n",
       "       [0.   , 1.   ],\n",
       "       [0.   , 1.   ],\n",
       "       [0.996, 0.004],\n",
       "       [0.98 , 0.02 ],\n",
       "       [0.992, 0.008],\n",
       "       [0.998, 0.002],\n",
       "       [1.   , 0.   ],\n",
       "       [0.084, 0.916],\n",
       "       [0.94 , 0.06 ],\n",
       "       [0.002, 0.998],\n",
       "       [0.002, 0.998],\n",
       "       [0.054, 0.946],\n",
       "       [0.774, 0.226],\n",
       "       [0.998, 0.002],\n",
       "       [1.   , 0.   ],\n",
       "       [0.01 , 0.99 ],\n",
       "       [0.   , 1.   ],\n",
       "       [0.   , 1.   ],\n",
       "       [0.   , 1.   ],\n",
       "       [0.998, 0.002],\n",
       "       [0.996, 0.004],\n",
       "       [0.22 , 0.78 ],\n",
       "       [1.   , 0.   ],\n",
       "       [1.   , 0.   ],\n",
       "       [0.926, 0.074],\n",
       "       [0.   , 1.   ],\n",
       "       [0.914, 0.086],\n",
       "       [0.206, 0.794],\n",
       "       [0.   , 1.   ],\n",
       "       [0.   , 1.   ],\n",
       "       [0.108, 0.892],\n",
       "       [0.998, 0.002],\n",
       "       [0.996, 0.004],\n",
       "       [0.   , 1.   ],\n",
       "       [1.   , 0.   ],\n",
       "       [0.004, 0.996],\n",
       "       [0.   , 1.   ],\n",
       "       [0.978, 0.022],\n",
       "       [0.01 , 0.99 ],\n",
       "       [0.   , 1.   ],\n",
       "       [0.986, 0.014],\n",
       "       [0.018, 0.982],\n",
       "       [0.904, 0.096],\n",
       "       [0.848, 0.152],\n",
       "       [0.062, 0.938],\n",
       "       [0.996, 0.004],\n",
       "       [0.996, 0.004],\n",
       "       [1.   , 0.   ],\n",
       "       [0.   , 1.   ],\n",
       "       [0.042, 0.958],\n",
       "       [0.98 , 0.02 ],\n",
       "       [0.048, 0.952],\n",
       "       [0.992, 0.008],\n",
       "       [0.134, 0.866],\n",
       "       [0.   , 1.   ],\n",
       "       [0.996, 0.004],\n",
       "       [0.   , 1.   ],\n",
       "       [0.866, 0.134],\n",
       "       [0.932, 0.068],\n",
       "       [0.866, 0.134],\n",
       "       [0.112, 0.888],\n",
       "       [0.342, 0.658],\n",
       "       [0.008, 0.992],\n",
       "       [0.82 , 0.18 ],\n",
       "       [1.   , 0.   ],\n",
       "       [1.   , 0.   ],\n",
       "       [0.922, 0.078],\n",
       "       [0.998, 0.002],\n",
       "       [0.   , 1.   ],\n",
       "       [0.002, 0.998],\n",
       "       [0.   , 1.   ],\n",
       "       [0.914, 0.086],\n",
       "       [0.   , 1.   ],\n",
       "       [0.   , 1.   ],\n",
       "       [0.998, 0.002],\n",
       "       [0.946, 0.054],\n",
       "       [0.056, 0.944],\n",
       "       [0.966, 0.034],\n",
       "       [0.016, 0.984],\n",
       "       [0.182, 0.818],\n",
       "       [0.002, 0.998],\n",
       "       [1.   , 0.   ],\n",
       "       [0.   , 1.   ],\n",
       "       [0.002, 0.998],\n",
       "       [0.91 , 0.09 ],\n",
       "       [0.978, 0.022],\n",
       "       [0.998, 0.002],\n",
       "       [0.   , 1.   ],\n",
       "       [0.   , 1.   ],\n",
       "       [0.996, 0.004],\n",
       "       [0.   , 1.   ],\n",
       "       [0.   , 1.   ],\n",
       "       [0.954, 0.046],\n",
       "       [0.996, 0.004],\n",
       "       [0.996, 0.004],\n",
       "       [0.06 , 0.94 ],\n",
       "       [0.906, 0.094],\n",
       "       [0.97 , 0.03 ],\n",
       "       [0.   , 1.   ],\n",
       "       [0.   , 1.   ],\n",
       "       [0.998, 0.002],\n",
       "       [0.   , 1.   ],\n",
       "       [0.   , 1.   ],\n",
       "       [0.   , 1.   ],\n",
       "       [0.192, 0.808],\n",
       "       [0.944, 0.056],\n",
       "       [0.   , 1.   ],\n",
       "       [0.996, 0.004],\n",
       "       [0.902, 0.098],\n",
       "       [0.   , 1.   ],\n",
       "       [0.994, 0.006],\n",
       "       [0.95 , 0.05 ],\n",
       "       [0.   , 1.   ],\n",
       "       [0.992, 0.008],\n",
       "       [0.118, 0.882],\n",
       "       [0.002, 0.998],\n",
       "       [0.   , 1.   ],\n",
       "       [0.798, 0.202],\n",
       "       [0.88 , 0.12 ],\n",
       "       [0.   , 1.   ],\n",
       "       [1.   , 0.   ],\n",
       "       [0.982, 0.018],\n",
       "       [0.   , 1.   ],\n",
       "       [0.954, 0.046],\n",
       "       [0.996, 0.004],\n",
       "       [0.01 , 0.99 ],\n",
       "       [0.998, 0.002],\n",
       "       [0.   , 1.   ],\n",
       "       [0.002, 0.998],\n",
       "       [0.788, 0.212],\n",
       "       [0.   , 1.   ],\n",
       "       [0.996, 0.004],\n",
       "       [0.046, 0.954],\n",
       "       [0.512, 0.488],\n",
       "       [0.   , 1.   ],\n",
       "       [0.996, 0.004],\n",
       "       [0.91 , 0.09 ],\n",
       "       [0.   , 1.   ],\n",
       "       [0.   , 1.   ],\n",
       "       [0.004, 0.996],\n",
       "       [0.63 , 0.37 ],\n",
       "       [0.   , 1.   ],\n",
       "       [1.   , 0.   ],\n",
       "       [1.   , 0.   ],\n",
       "       [0.16 , 0.84 ],\n",
       "       [0.996, 0.004],\n",
       "       [0.   , 1.   ],\n",
       "       [0.964, 0.036],\n",
       "       [0.182, 0.818],\n",
       "       [0.998, 0.002],\n",
       "       [1.   , 0.   ],\n",
       "       [0.   , 1.   ],\n",
       "       [0.97 , 0.03 ],\n",
       "       [0.986, 0.014],\n",
       "       [0.   , 1.   ],\n",
       "       [0.018, 0.982],\n",
       "       [0.992, 0.008],\n",
       "       [0.012, 0.988],\n",
       "       [1.   , 0.   ],\n",
       "       [0.   , 1.   ],\n",
       "       [0.934, 0.066],\n",
       "       [1.   , 0.   ],\n",
       "       [0.002, 0.998],\n",
       "       [0.002, 0.998],\n",
       "       [0.902, 0.098],\n",
       "       [0.   , 1.   ],\n",
       "       [1.   , 0.   ],\n",
       "       [0.986, 0.014],\n",
       "       [0.852, 0.148],\n",
       "       [0.998, 0.002],\n",
       "       [0.808, 0.192],\n",
       "       [0.252, 0.748],\n",
       "       [0.02 , 0.98 ],\n",
       "       [0.994, 0.006],\n",
       "       [0.   , 1.   ],\n",
       "       [0.98 , 0.02 ],\n",
       "       [0.922, 0.078],\n",
       "       [0.992, 0.008],\n",
       "       [1.   , 0.   ],\n",
       "       [0.996, 0.004],\n",
       "       [0.168, 0.832],\n",
       "       [0.   , 1.   ],\n",
       "       [0.434, 0.566],\n",
       "       [0.   , 1.   ],\n",
       "       [0.898, 0.102],\n",
       "       [1.   , 0.   ],\n",
       "       [0.414, 0.586],\n",
       "       [1.   , 0.   ],\n",
       "       [0.712, 0.288],\n",
       "       [0.998, 0.002],\n",
       "       [0.   , 1.   ],\n",
       "       [0.428, 0.572],\n",
       "       [0.996, 0.004],\n",
       "       [1.   , 0.   ],\n",
       "       [0.998, 0.002],\n",
       "       [0.   , 1.   ],\n",
       "       [0.998, 0.002],\n",
       "       [0.056, 0.944],\n",
       "       [1.   , 0.   ],\n",
       "       [0.132, 0.868],\n",
       "       [1.   , 0.   ],\n",
       "       [0.972, 0.028],\n",
       "       [0.872, 0.128],\n",
       "       [0.   , 1.   ],\n",
       "       [1.   , 0.   ],\n",
       "       [0.   , 1.   ],\n",
       "       [0.034, 0.966],\n",
       "       [0.018, 0.982],\n",
       "       [0.   , 1.   ],\n",
       "       [1.   , 0.   ],\n",
       "       [0.982, 0.018],\n",
       "       [0.   , 1.   ],\n",
       "       [1.   , 0.   ],\n",
       "       [0.002, 0.998],\n",
       "       [1.   , 0.   ],\n",
       "       [0.002, 0.998],\n",
       "       [0.   , 1.   ],\n",
       "       [0.002, 0.998],\n",
       "       [0.   , 1.   ],\n",
       "       [0.98 , 0.02 ],\n",
       "       [0.   , 1.   ],\n",
       "       [0.548, 0.452],\n",
       "       [0.998, 0.002],\n",
       "       [0.972, 0.028],\n",
       "       [0.644, 0.356],\n",
       "       [0.97 , 0.03 ],\n",
       "       [0.082, 0.918],\n",
       "       [0.074, 0.926],\n",
       "       [0.998, 0.002],\n",
       "       [0.55 , 0.45 ],\n",
       "       [0.932, 0.068],\n",
       "       [0.916, 0.084],\n",
       "       [0.996, 0.004],\n",
       "       [0.02 , 0.98 ],\n",
       "       [0.986, 0.014],\n",
       "       [0.   , 1.   ],\n",
       "       [0.   , 1.   ],\n",
       "       [0.966, 0.034],\n",
       "       [1.   , 0.   ],\n",
       "       [0.004, 0.996],\n",
       "       [0.94 , 0.06 ]])"
      ]
     },
     "execution_count": 17,
     "metadata": {},
     "output_type": "execute_result"
    }
   ],
   "source": [
    "bag_clf.predict_proba(X_train)"
   ]
  },
  {
   "cell_type": "code",
   "execution_count": 18,
   "metadata": {},
   "outputs": [
    {
     "data": {
      "text/plain": [
       "0.97"
      ]
     },
     "execution_count": 18,
     "metadata": {},
     "output_type": "execute_result"
    }
   ],
   "source": [
    "accuracy_score(y_test,bag_clf.predict(X_test))"
   ]
  },
  {
   "cell_type": "markdown",
   "metadata": {},
   "source": [
    "Bagging Classifier visualized"
   ]
  },
  {
   "cell_type": "code",
   "execution_count": 26,
   "metadata": {},
   "outputs": [
    {
     "data": {
      "text/plain": [
       "<matplotlib.contour.QuadContourSet at 0x18fadaab828>"
      ]
     },
     "execution_count": 26,
     "metadata": {},
     "output_type": "execute_result"
    },
    {
     "data": {
      "image/png": "[encoded data removed]",
      "text/plain": [
       "<Figure size 720x576 with 1 Axes>"
      ]
     },
     "metadata": {
      "needs_background": "light"
     },
     "output_type": "display_data"
    }
   ],
   "source": [
    "import matplotlib.pyplot as plt\n",
    "import numpy as np\n",
    "from matplotlib.colors import ListedColormap\n",
    "fig,ax = plt.subplots(1,1,figsize = (10,8))\n",
    "x0range = np.linspace(min(X_train[:,0]),max(X_train[:,0]),500)\n",
    "x1range = np.linspace(min(X_train[:,1]),max(X_train[:,1]),500)\n",
    "x0mesh,x1mesh = np.meshgrid(x0range,x1range)\n",
    "xvals = np.c_[x0mesh.ravel(),x1mesh.ravel()]\n",
    "ypred = bag_clf.predict(xvals).reshape(x0mesh.shape)\n",
    "ax.plot(X_train[:,0][y_train == 0],X_train[:,1][y_train==0],'bs')\n",
    "ax.plot(X_train[:,0][y_train == 1],X_train[:,1][y_train==1],'g^')\n",
    "col_scheme = ListedColormap(['#fafab0','#9898ff']) \n",
    "ax.contourf(x0mesh,x1mesh,ypred,alpha = 0.3,cmap = col_scheme)"
   ]
  },
  {
   "cell_type": "markdown",
   "metadata": {},
   "source": [
    "Visualizing one Decision Tree"
   ]
  },
  {
   "cell_type": "code",
   "execution_count": 27,
   "metadata": {},
   "outputs": [
    {
     "data": {
      "text/plain": [
       "DecisionTreeClassifier(class_weight=None, criterion='gini', max_depth=None,\n",
       "                       max_features=None, max_leaf_nodes=None,\n",
       "                       min_impurity_decrease=0.0, min_impurity_split=None,\n",
       "                       min_samples_leaf=1, min_samples_split=2,\n",
       "                       min_weight_fraction_leaf=0.0, presort=False,\n",
       "                       random_state=None, splitter='best')"
      ]
     },
     "execution_count": 27,
     "metadata": {},
     "output_type": "execute_result"
    }
   ],
   "source": [
    "dtree = DecisionTreeClassifier()\n",
    "dtree.fit(X_train,y_train)"
   ]
  },
  {
   "cell_type": "code",
   "execution_count": 28,
   "metadata": {},
   "outputs": [
    {
     "data": {
      "text/plain": [
       "<matplotlib.contour.QuadContourSet at 0x18fadc87940>"
      ]
     },
     "execution_count": 28,
     "metadata": {},
     "output_type": "execute_result"
    },
    {
     "data": {
      "image/png": "[encoded data removed]",
      "text/plain": [
       "<Figure size 720x576 with 1 Axes>"
      ]
     },
     "metadata": {
      "needs_background": "light"
     },
     "output_type": "display_data"
    }
   ],
   "source": [
    "fig,ax = plt.subplots(1,1,figsize = (10,8))\n",
    "x0range = np.linspace(min(X_train[:,0]),max(X_train[:,0]),500)\n",
    "x1range = np.linspace(min(X_train[:,1]),max(X_train[:,1]),500)\n",
    "x0mesh,x1mesh = np.meshgrid(x0range,x1range)\n",
    "xvals = np.c_[x0mesh.ravel(),x1mesh.ravel()]\n",
    "ypred = dtree.predict(xvals).reshape(x0mesh.shape)\n",
    "ax.plot(X_train[:,0][y_train == 0],X_train[:,1][y_train==0],'bs')\n",
    "ax.plot(X_train[:,0][y_train == 1],X_train[:,1][y_train==1],'g^')\n",
    "col_scheme = ListedColormap(['#fafab0','#9898ff']) \n",
    "ax.contourf(x0mesh,x1mesh,ypred,alpha = 0.3,cmap = col_scheme)"
   ]
  },
  {
   "cell_type": "markdown",
   "metadata": {},
   "source": [
    "The Bagging Classifier Results in a much smoother decision boundary as it is the result of \"soft voting\" from 500 different Decision Tree classifiers.\n",
    "\n",
    "Notice that the ensemble is more generalized with comparable bias but less variance compared to the single decision tree. "
   ]
  },
  {
   "cell_type": "markdown",
   "metadata": {},
   "source": [
    "<h2>Out of Bag Evaluation</h2>"
   ]
  },
  {
   "cell_type": "markdown",
   "metadata": {},
   "source": [
    "In Bagging some samples will be sampled several times, while others may not be sampled at all. "
   ]
  },
  {
   "cell_type": "markdown",
   "metadata": {},
   "source": [
    "By default, a Bagging Classifier samples **m** training instances with replacement (bootstrap = True). \n",
    "\n",
    "As **m** becomes larger, the ratio of instances that are not sampled reaches 37%. These are known as out of bag instances.\n",
    "\n",
    "Since a predictor never sees the oob instances during training, it can be evaluated on the out of bag instances. "
   ]
  },
  {
   "cell_type": "code",
   "execution_count": 29,
   "metadata": {},
   "outputs": [],
   "source": [
    "bag_clf = BaggingClassifier(DecisionTreeClassifier(), n_estimators = 500,\n",
    "                           bootstrap = True, n_jobs = -1,oob_score = True)"
   ]
  },
  {
   "cell_type": "code",
   "execution_count": 30,
   "metadata": {},
   "outputs": [
    {
     "data": {
      "text/plain": [
       "BaggingClassifier(base_estimator=DecisionTreeClassifier(class_weight=None,\n",
       "                                                        criterion='gini',\n",
       "                                                        max_depth=None,\n",
       "                                                        max_features=None,\n",
       "                                                        max_leaf_nodes=None,\n",
       "                                                        min_impurity_decrease=0.0,\n",
       "                                                        min_impurity_split=None,\n",
       "                                                        min_samples_leaf=1,\n",
       "                                                        min_samples_split=2,\n",
       "                                                        min_weight_fraction_leaf=0.0,\n",
       "                                                        presort=False,\n",
       "                                                        random_state=None,\n",
       "                                                        splitter='best'),\n",
       "                  bootstrap=True, bootstrap_features=False, max_features=1.0,\n",
       "                  max_samples=1.0, n_estimators=500, n_jobs=-1, oob_score=True,\n",
       "                  random_state=None, verbose=0, warm_start=False)"
      ]
     },
     "execution_count": 30,
     "metadata": {},
     "output_type": "execute_result"
    }
   ],
   "source": [
    "bag_clf.fit(X_train,y_train)"
   ]
  },
  {
   "cell_type": "code",
   "execution_count": 31,
   "metadata": {},
   "outputs": [
    {
     "data": {
      "text/plain": [
       "0.9775"
      ]
     },
     "execution_count": 31,
     "metadata": {},
     "output_type": "execute_result"
    }
   ],
   "source": [
    "bag_clf.oob_score_"
   ]
  },
  {
   "cell_type": "markdown",
   "metadata": {},
   "source": [
    "<h1> Random Patches and Random Subspaces </h1> "
   ]
  },
  {
   "cell_type": "markdown",
   "metadata": {},
   "source": [
    "We can also sample features as well. By using max_features and bootstrap_features, we can sample features. \n",
    "\n",
    "Sampling both features and training instances is called **Random Patches Method**. \n",
    "\n",
    "Using all the training instances and sampling features is **Random Subspaces**(bootstrap = False, max_samples=1.0)"
   ]
  },
  {
   "cell_type": "markdown",
   "metadata": {},
   "source": [
    "<h1> Random Forests </h1>"
   ]
  },
  {
   "cell_type": "markdown",
   "metadata": {},
   "source": [
    "Random Forests allow for sampling of features too where it samples a subset of fetures for each estimator. This results in a greater diversity in the estimators.\n",
    "\n",
    "When growing a tree in a Random Forests, at each node, only a random subset of features are considered. Not all features are looked into for each node like in decision trees.\n",
    "\n",
    "<h1> Extra Trees </h1>\n",
    "It is also possible to make the threshold random too, rather than searching for the split within the subset of features which results in the highest information gain."
   ]
  },
  {
   "cell_type": "markdown",
   "metadata": {},
   "source": [
    "<h1> Feature Importance </h1>"
   ]
  },
  {
   "cell_type": "markdown",
   "metadata": {},
   "source": [
    "Random Forests measure the average decrease in impurity on average across all trees in the forest. \n",
    "\n",
    "It takes the weighted average of the impurity decrease of each split relevant to that feature. Adds all these weighted decrease in purity and then divides it to scale by 1. "
   ]
  },
  {
   "cell_type": "markdown",
   "metadata": {},
   "source": [
    "<h2> Feature importance of pixels of MNIST </h2>"
   ]
  },
  {
   "cell_type": "code",
   "execution_count": 32,
   "metadata": {},
   "outputs": [],
   "source": [
    "from sklearn.datasets import fetch_openml\n",
    "\n",
    "mnist = fetch_openml('mnist_784',version=1)\n",
    "mnist.target = mnist.target.astype(np.uint8)"
   ]
  },
  {
   "cell_type": "code",
   "execution_count": 33,
   "metadata": {},
   "outputs": [
    {
     "data": {
      "text/plain": [
       "RandomForestClassifier(bootstrap=True, class_weight=None, criterion='gini',\n",
       "                       max_depth=None, max_features='auto', max_leaf_nodes=None,\n",
       "                       min_impurity_decrease=0.0, min_impurity_split=None,\n",
       "                       min_samples_leaf=1, min_samples_split=2,\n",
       "                       min_weight_fraction_leaf=0.0, n_estimators=100,\n",
       "                       n_jobs=None, oob_score=False, random_state=42, verbose=0,\n",
       "                       warm_start=False)"
      ]
     },
     "execution_count": 33,
     "metadata": {},
     "output_type": "execute_result"
    }
   ],
   "source": [
    "from sklearn.ensemble import RandomForestClassifier\n",
    "rnd_clf = RandomForestClassifier(n_estimators = 100, random_state = 42)\n",
    "rnd_clf.fit(mnist[\"data\"],mnist[\"target\"])"
   ]
  },
  {
   "cell_type": "code",
   "execution_count": 36,
   "metadata": {},
   "outputs": [],
   "source": [
    "import matplotlib as mpl\n",
    "def plot_featureimportance(data):\n",
    "    image = data.reshape(28,28)\n",
    "    plt.imshow(image,cmap = mpl.cm.hot,interpolation = \"nearest\")\n",
    "    plt.axis(\"off\")"
   ]
  },
  {
   "cell_type": "code",
   "execution_count": 37,
   "metadata": {},
   "outputs": [
    {
     "data": {
      "image/png": "[encoded data removed]",
      "text/plain": [
       "<Figure size 432x288 with 1 Axes>"
      ]
     },
     "metadata": {
      "needs_background": "light"
     },
     "output_type": "display_data"
    }
   ],
   "source": [
    "plot_featureimportance(rnd_clf.feature_importances_)"
   ]
  },
  {
   "cell_type": "markdown",
   "metadata": {},
   "source": [
    "<h1>Boosting</h1>"
   ]
  },
  {
   "cell_type": "markdown",
   "metadata": {},
   "source": [
    "Involves combining several weak learners into a strong learner\n",
    "\n",
    "General idea is that it trains predictors sequentially, each trying to correct the mistakes of its predecessor.\n",
    "\n",
    "- AdaBoost\n",
    "- Gradient Boosting"
   ]
  },
  {
   "cell_type": "markdown",
   "metadata": {},
   "source": [
    "<h1> AdaBoost </h1>"
   ]
  },
  {
   "cell_type": "markdown",
   "metadata": {},
   "source": [
    "Here, the predictor tries to correct the instances that the predecessor underfitted. Hence the new predictors will focus more on the hard cases than the fitted cases. "
   ]
  },
  {
   "cell_type": "markdown",
   "metadata": {},
   "source": [
    "Once the first classifier is trained on the training instances, the relative weight of the misclassified training instances is increased. Then the second classifier is trained using updated weights. Again the misclassified training instances are increased in weight. This process is repeated."
   ]
  },
  {
   "cell_type": "markdown",
   "metadata": {},
   "source": [
    "Once all the predictors are trained, the ensemble makes predictions very much like bagging or pasting. But each predictor has different weights based on their overall accuracy on the weighted training set. "
   ]
  },
  {
   "cell_type": "markdown",
   "metadata": {},
   "source": [
    "The most suited algorithms to be used with AdaBoost are decision trees with one level as they are weak classifiers with just above random chance on a classification problem."
   ]
  },
  {
   "cell_type": "markdown",
   "metadata": {},
   "source": [
    "Each instance is assigned a weight of (1/m) = w. \n",
    "\n",
    "After the first predictor training, the error rate is calculated. \n",
    "\n",
    "error rate = (correct - N)/N.\n",
    "\n",
    "the error rate is modified:\n",
    "\n",
    "error = sum(w(i) * terror(i))/sum(w)\n",
    "\n",
    "where w(i) is the weight of each instance, terror(i) is 1 if wrongly classified and 0 is correct. \n",
    "\n",
    "once prediction is done, the **stage weight** is calculated which is the weight for the predictor in the final decision making. \n",
    "\n",
    "stage = (learningrate) * ln((1-error)/error)\n",
    "\n",
    "Higher the (1-error)/error, results in a higher stage weight. Lower error allows for this\n",
    "this is used to update the weight of each instance\n",
    "\n",
    "w = w * exp(stage * terror)\n",
    "\n",
    "**Afterwards, all the instance weights are normalized. (w/sum(w))**\n",
    "\n",
    "In making the predictions, it calculates the stage weight for all the predictors in each prediction class. Highest one is the prediction.\n",
    "\n",
    "Now since the instances have been attached with updated weights, for the next predictor, we can multiply the training instances with the weight and increase their prominence in the dataset."
   ]
  },
  {
   "cell_type": "code",
   "execution_count": 38,
   "metadata": {},
   "outputs": [],
   "source": [
    "X,y = make_moons(n_samples = 500, noise = 0.15, random_state = 42)\n",
    "\n",
    "X_train,X_test,y_train,y_test = train_test_split(X, y, test_size=0.2, random_state=42)"
   ]
  },
  {
   "cell_type": "code",
   "execution_count": 39,
   "metadata": {},
   "outputs": [],
   "source": [
    "from sklearn.ensemble import AdaBoostClassifier\n",
    "\n",
    "ada_clf = AdaBoostClassifier(DecisionTreeClassifier(max_depth=1),\n",
    "                             n_estimators = 200,\n",
    "                            algorithm=\"SAMME.R\",learning_rate = 0.5)"
   ]
  },
  {
   "cell_type": "code",
   "execution_count": 40,
   "metadata": {},
   "outputs": [
    {
     "data": {
      "text/plain": [
       "AdaBoostClassifier(algorithm='SAMME.R',\n",
       "                   base_estimator=DecisionTreeClassifier(class_weight=None,\n",
       "                                                         criterion='gini',\n",
       "                                                         max_depth=1,\n",
       "                                                         max_features=None,\n",
       "                                                         max_leaf_nodes=None,\n",
       "                                                         min_impurity_decrease=0.0,\n",
       "                                                         min_impurity_split=None,\n",
       "                                                         min_samples_leaf=1,\n",
       "                                                         min_samples_split=2,\n",
       "                                                         min_weight_fraction_leaf=0.0,\n",
       "                                                         presort=False,\n",
       "                                                         random_state=None,\n",
       "                                                         splitter='best'),\n",
       "                   learning_rate=0.5, n_estimators=200, random_state=None)"
      ]
     },
     "execution_count": 40,
     "metadata": {},
     "output_type": "execute_result"
    }
   ],
   "source": [
    "ada_clf.fit(X_train,y_train)"
   ]
  },
  {
   "cell_type": "code",
   "execution_count": 42,
   "metadata": {},
   "outputs": [
    {
     "data": {
      "text/plain": [
       "array([[0.28621151, 0.71378849],\n",
       "       [0.27779834, 0.72220166],\n",
       "       [0.27779834, 0.72220166],\n",
       "       [0.27691708, 0.72308292],\n",
       "       [0.16630669, 0.83369331],\n",
       "       [0.27416815, 0.72583185],\n",
       "       [0.72986054, 0.27013946],\n",
       "       [0.74360022, 0.25639978],\n",
       "       [0.74012106, 0.25987894],\n",
       "       [0.74360022, 0.25639978],\n",
       "       [0.04137889, 0.95862111],\n",
       "       [0.72986054, 0.27013946],\n",
       "       [0.26011562, 0.73988438],\n",
       "       [0.70202622, 0.29797378],\n",
       "       [0.06261627, 0.93738373],\n",
       "       [0.84941196, 0.15058804],\n",
       "       [0.72986054, 0.27013946],\n",
       "       [0.06261627, 0.93738373],\n",
       "       [0.06261627, 0.93738373],\n",
       "       [0.28132947, 0.71867053],\n",
       "       [0.72986054, 0.27013946],\n",
       "       [0.06589324, 0.93410676],\n",
       "       [0.28621151, 0.71378849],\n",
       "       [0.74012106, 0.25987894],\n",
       "       [0.28132947, 0.71867053],\n",
       "       [0.72775634, 0.27224366],\n",
       "       [0.55100671, 0.44899329],\n",
       "       [0.72986054, 0.27013946],\n",
       "       [0.05853246, 0.94146754],\n",
       "       [0.84941196, 0.15058804],\n",
       "       [0.01000486, 0.98999514],\n",
       "       [0.01000486, 0.98999514],\n",
       "       [0.94766065, 0.05233935],\n",
       "       [0.72986054, 0.27013946],\n",
       "       [0.27691708, 0.72308292],\n",
       "       [0.72049615, 0.27950385],\n",
       "       [0.74692863, 0.25307137],\n",
       "       [0.27691708, 0.72308292],\n",
       "       [0.27691708, 0.72308292],\n",
       "       [0.06261627, 0.93738373],\n",
       "       [0.06369115, 0.93630885],\n",
       "       [0.69896191, 0.30103809],\n",
       "       [0.72775634, 0.27224366],\n",
       "       [0.72986054, 0.27013946],\n",
       "       [0.95320661, 0.04679339],\n",
       "       [0.93781336, 0.06218664],\n",
       "       [0.27691708, 0.72308292],\n",
       "       [0.74360022, 0.25639978],\n",
       "       [0.05405723, 0.94594277],\n",
       "       [0.27779834, 0.72220166],\n",
       "       [0.27779834, 0.72220166],\n",
       "       [0.01000486, 0.98999514],\n",
       "       [0.72986054, 0.27013946],\n",
       "       [0.84941196, 0.15058804],\n",
       "       [0.27779834, 0.72220166],\n",
       "       [0.94766065, 0.05233935],\n",
       "       [0.27779834, 0.72220166],\n",
       "       [0.27691708, 0.72308292],\n",
       "       [0.84941196, 0.15058804],\n",
       "       [0.05853246, 0.94146754],\n",
       "       [0.74147256, 0.25852744],\n",
       "       [0.27691708, 0.72308292],\n",
       "       [0.06261627, 0.93738373],\n",
       "       [0.72986054, 0.27013946],\n",
       "       [0.06261627, 0.93738373],\n",
       "       [0.94766065, 0.05233935],\n",
       "       [0.72775634, 0.27224366],\n",
       "       [0.71682287, 0.28317713],\n",
       "       [0.72986054, 0.27013946],\n",
       "       [0.06369115, 0.93630885],\n",
       "       [0.72049615, 0.27950385],\n",
       "       [0.74360022, 0.25639978],\n",
       "       [0.53218331, 0.46781669],\n",
       "       [0.27691708, 0.72308292],\n",
       "       [0.72986054, 0.27013946],\n",
       "       [0.72986054, 0.27013946],\n",
       "       [0.01000486, 0.98999514],\n",
       "       [0.01000486, 0.98999514],\n",
       "       [0.95320661, 0.04679339],\n",
       "       [0.28514862, 0.71485138],\n",
       "       [0.06369115, 0.93630885],\n",
       "       [0.06589324, 0.93410676],\n",
       "       [0.27779834, 0.72220166],\n",
       "       [0.06369115, 0.93630885],\n",
       "       [0.05853246, 0.94146754],\n",
       "       [0.27691708, 0.72308292],\n",
       "       [0.27691708, 0.72308292],\n",
       "       [0.94434147, 0.05565853],\n",
       "       [0.01000486, 0.98999514],\n",
       "       [0.26011562, 0.73988438],\n",
       "       [0.06261627, 0.93738373],\n",
       "       [0.95320661, 0.04679339],\n",
       "       [0.75046812, 0.24953188],\n",
       "       [0.94766065, 0.05233935],\n",
       "       [0.72986054, 0.27013946],\n",
       "       [0.05853246, 0.94146754],\n",
       "       [0.95320661, 0.04679339],\n",
       "       [0.7138487 , 0.2861513 ],\n",
       "       [0.72049615, 0.27950385],\n",
       "       [0.01000486, 0.98999514]])"
      ]
     },
     "execution_count": 42,
     "metadata": {},
     "output_type": "execute_result"
    }
   ],
   "source": [
    "ada_clf.predict_proba(X_test)"
   ]
  },
  {
   "cell_type": "code",
   "execution_count": 45,
   "metadata": {},
   "outputs": [
    {
     "data": {
      "text/plain": [
       "array([43, 57], dtype=int64)"
      ]
     },
     "execution_count": 45,
     "metadata": {},
     "output_type": "execute_result"
    }
   ],
   "source": [
    "np.bincount(y_test)"
   ]
  },
  {
   "cell_type": "code",
   "execution_count": 46,
   "metadata": {},
   "outputs": [
    {
     "data": {
      "text/plain": [
       "{0, 1}"
      ]
     },
     "execution_count": 46,
     "metadata": {},
     "output_type": "execute_result"
    }
   ],
   "source": [
    "set(y_test)"
   ]
  },
  {
   "cell_type": "code",
   "execution_count": 47,
   "metadata": {},
   "outputs": [
    {
     "name": "stdout",
     "output_type": "stream",
     "text": [
      "0 43\n",
      "1 57\n"
     ]
    }
   ],
   "source": [
    "for i in set(y_test):\n",
    "    print(i,sum(y_test == i))"
   ]
  },
  {
   "cell_type": "code",
   "execution_count": 48,
   "metadata": {},
   "outputs": [
    {
     "data": {
      "text/plain": [
       "0.95"
      ]
     },
     "execution_count": 48,
     "metadata": {},
     "output_type": "execute_result"
    }
   ],
   "source": [
    "accuracy_score(y_test,ada_clf.predict(X_test))"
   ]
  },
  {
   "cell_type": "code",
   "execution_count": null,
   "metadata": {},
   "outputs": [],
   "source": []
  }
 ],
 "metadata": {
  "kernelspec": {
   "display_name": "Python 3",
   "language": "python",
   "name": "python3"
  },
  "language_info": {
   "codemirror_mode": {
    "name": "ipython",
    "version": 3
   },
   "file_extension": ".py",
   "mimetype": "text/x-python",
   "name": "python",
   "nbconvert_exporter": "python",
   "pygments_lexer": "ipython3",
   "version": "3.7.3"
  }
 },
 "nbformat": 4,
 "nbformat_minor": 2
}
