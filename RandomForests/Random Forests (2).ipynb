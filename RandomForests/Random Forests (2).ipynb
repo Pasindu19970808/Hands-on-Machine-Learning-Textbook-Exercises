{
 "cells": [
  {
   "cell_type": "markdown",
   "metadata": {},
   "source": [
    "Random forests involve aggregating the predictions of a group of predictors. You often get better predictions that with the best individual predictor."
   ]
  },
  {
   "cell_type": "markdown",
   "metadata": {},
   "source": [
    "A group of predictors is called an ensemble; thus, this technique is called Ensemble Learning, and an Ensemble Learning algorithm is called an Ensemble method. "
   ]
  },
  {
   "cell_type": "markdown",
   "metadata": {},
   "source": [
    "Ensemble methods work best when the predictors are as independent from one another as possible. One way to get diverse classifiers is to train them using very different algorithms"
   ]
  },
  {
   "cell_type": "code",
   "execution_count": 1,
   "metadata": {},
   "outputs": [
    {
     "name": "stderr",
     "output_type": "stream",
     "text": [
      "C:\\Users\\ASUS\\Anaconda3\\lib\\site-packages\\sklearn\\linear_model\\logistic.py:432: FutureWarning: Default solver will be changed to 'lbfgs' in 0.22. Specify a solver to silence this warning.\n",
      "  FutureWarning)\n",
      "C:\\Users\\ASUS\\Anaconda3\\lib\\site-packages\\sklearn\\ensemble\\forest.py:245: FutureWarning: The default value of n_estimators will change from 10 in version 0.20 to 100 in 0.22.\n",
      "  \"10 in version 0.20 to 100 in 0.22.\", FutureWarning)\n",
      "C:\\Users\\ASUS\\Anaconda3\\lib\\site-packages\\sklearn\\svm\\base.py:193: FutureWarning: The default value of gamma will change from 'auto' to 'scale' in version 0.22 to account better for unscaled features. Set gamma explicitly to 'auto' or 'scale' to avoid this warning.\n",
      "  \"avoid this warning.\", FutureWarning)\n"
     ]
    },
    {
     "data": {
      "text/plain": [
       "VotingClassifier(estimators=[('lr',\n",
       "                              LogisticRegression(C=1.0, class_weight=None,\n",
       "                                                 dual=False, fit_intercept=True,\n",
       "                                                 intercept_scaling=1,\n",
       "                                                 l1_ratio=None, max_iter=100,\n",
       "                                                 multi_class='warn',\n",
       "                                                 n_jobs=None, penalty='l2',\n",
       "                                                 random_state=None,\n",
       "                                                 solver='warn', tol=0.0001,\n",
       "                                                 verbose=0, warm_start=False)),\n",
       "                             ('rf',\n",
       "                              RandomForestClassifier(bootstrap=True,\n",
       "                                                     class_weight=None,\n",
       "                                                     criterion='gini',...\n",
       "                                                     oob_score=False,\n",
       "                                                     random_state=None,\n",
       "                                                     verbose=0,\n",
       "                                                     warm_start=False)),\n",
       "                             ('svc',\n",
       "                              SVC(C=1.0, cache_size=200, class_weight=None,\n",
       "                                  coef0=0.0, decision_function_shape='ovr',\n",
       "                                  degree=3, gamma='auto_deprecated',\n",
       "                                  kernel='rbf', max_iter=-1, probability=False,\n",
       "                                  random_state=None, shrinking=True, tol=0.001,\n",
       "                                  verbose=False))],\n",
       "                 flatten_transform=True, n_jobs=None, voting='hard',\n",
       "                 weights=None)"
      ]
     },
     "execution_count": 1,
     "metadata": {},
     "output_type": "execute_result"
    }
   ],
   "source": [
    "from sklearn.ensemble import RandomForestClassifier\n",
    "from sklearn.ensemble import VotingClassifier\n",
    "from sklearn.linear_model import LogisticRegression\n",
    "from sklearn.svm import SVC\n",
    "from sklearn.datasets import make_moons\n",
    "from sklearn.model_selection import train_test_split\n",
    "X,y = make_moons(n_samples = 100, noise = 0.15, random_state = 42)\n",
    "\n",
    "X_train,X_test,y_train,y_test = train_test_split(X, y, test_size=0.2, random_state=42)\n",
    "\n",
    "log_clf = LogisticRegression()\n",
    "rnd_clf = RandomForestClassifier()\n",
    "svm_clf = SVC()\n",
    "\n",
    "voting_clf = VotingClassifier(estimators=[('lr',log_clf),\\\n",
    "                                          ('rf',rnd_clf),\\\n",
    "                                          ('svc',svm_clf)],\n",
    "                             voting = 'hard')\n",
    "\n",
    "voting_clf.fit(X_train,y_train)"
   ]
  },
  {
   "cell_type": "code",
   "execution_count": 2,
   "metadata": {},
   "outputs": [
    {
     "name": "stdout",
     "output_type": "stream",
     "text": [
      "1.0\n",
      "1.0\n",
      "1.0\n",
      "1.0\n"
     ]
    },
    {
     "name": "stderr",
     "output_type": "stream",
     "text": [
      "C:\\Users\\ASUS\\Anaconda3\\lib\\site-packages\\sklearn\\linear_model\\logistic.py:432: FutureWarning: Default solver will be changed to 'lbfgs' in 0.22. Specify a solver to silence this warning.\n",
      "  FutureWarning)\n",
      "C:\\Users\\ASUS\\Anaconda3\\lib\\site-packages\\sklearn\\ensemble\\forest.py:245: FutureWarning: The default value of n_estimators will change from 10 in version 0.20 to 100 in 0.22.\n",
      "  \"10 in version 0.20 to 100 in 0.22.\", FutureWarning)\n",
      "C:\\Users\\ASUS\\Anaconda3\\lib\\site-packages\\sklearn\\svm\\base.py:193: FutureWarning: The default value of gamma will change from 'auto' to 'scale' in version 0.22 to account better for unscaled features. Set gamma explicitly to 'auto' or 'scale' to avoid this warning.\n",
      "  \"avoid this warning.\", FutureWarning)\n",
      "C:\\Users\\ASUS\\Anaconda3\\lib\\site-packages\\sklearn\\linear_model\\logistic.py:432: FutureWarning: Default solver will be changed to 'lbfgs' in 0.22. Specify a solver to silence this warning.\n",
      "  FutureWarning)\n",
      "C:\\Users\\ASUS\\Anaconda3\\lib\\site-packages\\sklearn\\svm\\base.py:193: FutureWarning: The default value of gamma will change from 'auto' to 'scale' in version 0.22 to account better for unscaled features. Set gamma explicitly to 'auto' or 'scale' to avoid this warning.\n",
      "  \"avoid this warning.\", FutureWarning)\n"
     ]
    }
   ],
   "source": [
    "from sklearn.metrics import accuracy_score\n",
    "\n",
    "for clf in (log_clf,rnd_clf,svm_clf,voting_clf):\n",
    "    clf.fit(X_train,y_train)\n",
    "    acc = accuracy_score(y_test,clf.predict(X_test))\n",
    "    print(acc)"
   ]
  },
  {
   "cell_type": "code",
   "execution_count": 3,
   "metadata": {},
   "outputs": [
    {
     "data": {
      "text/plain": [
       "array([0, 0, 1, 0, 0, 0, 0, 1, 0, 1, 0, 0, 0, 0, 1, 0, 1, 0, 1, 0],\n",
       "      dtype=int64)"
      ]
     },
     "execution_count": 3,
     "metadata": {},
     "output_type": "execute_result"
    }
   ],
   "source": [
    "clf.predict(X_test)"
   ]
  },
  {
   "cell_type": "code",
   "execution_count": 4,
   "metadata": {},
   "outputs": [
    {
     "data": {
      "text/plain": [
       "array([0, 0, 1, 0, 0, 0, 0, 1, 0, 1, 0, 0, 0, 0, 1, 0, 1, 0, 1, 0],\n",
       "      dtype=int64)"
      ]
     },
     "execution_count": 4,
     "metadata": {},
     "output_type": "execute_result"
    }
   ],
   "source": [
    "y_test"
   ]
  },
  {
   "cell_type": "code",
   "execution_count": 5,
   "metadata": {},
   "outputs": [
    {
     "data": {
      "text/plain": [
       "array([[0.8573665 , 0.1426335 ],\n",
       "       [0.89895723, 0.10104277],\n",
       "       [0.07101239, 0.92898761],\n",
       "       [0.88033424, 0.11966576],\n",
       "       [0.91510343, 0.08489657],\n",
       "       [0.8163197 , 0.1836803 ],\n",
       "       [0.84727687, 0.15272313],\n",
       "       [0.19247908, 0.80752092],\n",
       "       [0.78439188, 0.21560812],\n",
       "       [0.0451083 , 0.9548917 ],\n",
       "       [0.71310447, 0.28689553],\n",
       "       [0.69484657, 0.30515343],\n",
       "       [0.70977661, 0.29022339],\n",
       "       [0.95620585, 0.04379415],\n",
       "       [0.16560231, 0.83439769],\n",
       "       [0.7028482 , 0.2971518 ],\n",
       "       [0.09580267, 0.90419733],\n",
       "       [0.89428015, 0.10571985],\n",
       "       [0.04194111, 0.95805889],\n",
       "       [0.75256527, 0.24743473]])"
      ]
     },
     "execution_count": 5,
     "metadata": {},
     "output_type": "execute_result"
    }
   ],
   "source": [
    "log_clf.predict_proba(X_test)"
   ]
  },
  {
   "cell_type": "markdown",
   "metadata": {},
   "source": [
    "<h1>Bagging and Pasting</h1>"
   ]
  },
  {
   "cell_type": "markdown",
   "metadata": {},
   "source": [
    "One way to get a diverse set of classifiers is to use very different training algorithms OR train the same algorithm on different random subsets of the training set.\n",
    "\n",
    "Bagging is sampling with replacement. \n",
    "\n",
    "Pasting is sampling without replacement. "
   ]
  },
  {
   "cell_type": "markdown",
   "metadata": {},
   "source": [
    "Bagging and Pasting allow training instances to be sampled several times across multiple predictors, but only bagging allows training samples to be sampled several times for the same predictor. "
   ]
  },
  {
   "cell_type": "markdown",
   "metadata": {},
   "source": [
    "Usually, given that each predictor is trained on a smaller dataset, it is of lesser accuracy (underfit) than if it were to be trained on the larger set. But aggregation reduces both bias and variance."
   ]
  },
  {
   "cell_type": "markdown",
   "metadata": {},
   "source": [
    "<h1> Bootstrap aggregating - Bagging </h1>\n",
    "\n",
    "Involves training the same algorithm using different training examples. In Bagging with replacement, you randomly select data into different bags where there is a chance you select the same training instance twice"
   ]
  },
  {
   "cell_type": "code",
   "execution_count": 6,
   "metadata": {},
   "outputs": [],
   "source": [
    "from sklearn.ensemble import BaggingClassifier\n",
    "from sklearn.tree import DecisionTreeClassifier"
   ]
  },
  {
   "cell_type": "code",
   "execution_count": 7,
   "metadata": {},
   "outputs": [],
   "source": [
    "bag_clf = BaggingClassifier(DecisionTreeClassifier(), n_estimators = 500, \n",
    "                           max_samples = 100, bootstrap = True, n_jobs = -1)"
   ]
  },
  {
   "cell_type": "code",
   "execution_count": 8,
   "metadata": {},
   "outputs": [
    {
     "data": {
      "text/plain": [
       "BaggingClassifier(base_estimator=DecisionTreeClassifier(class_weight=None,\n",
       "                                                        criterion='gini',\n",
       "                                                        max_depth=None,\n",
       "                                                        max_features=None,\n",
       "                                                        max_leaf_nodes=None,\n",
       "                                                        min_impurity_decrease=0.0,\n",
       "                                                        min_impurity_split=None,\n",
       "                                                        min_samples_leaf=1,\n",
       "                                                        min_samples_split=2,\n",
       "                                                        min_weight_fraction_leaf=0.0,\n",
       "                                                        presort=False,\n",
       "                                                        random_state=None,\n",
       "                                                        splitter='best'),\n",
       "                  bootstrap=True, bootstrap_features=False, max_features=1.0,\n",
       "                  max_samples=100, n_estimators=500, n_jobs=-1, oob_score=False,\n",
       "                  random_state=None, verbose=0, warm_start=False)"
      ]
     },
     "execution_count": 8,
     "metadata": {},
     "output_type": "execute_result"
    }
   ],
   "source": [
    "X,y = make_moons(n_samples = 500, noise = 0.15, random_state = 42)\n",
    "\n",
    "X_train,X_test,y_train,y_test = train_test_split(X, y, test_size=0.2, random_state=42)\n",
    "bag_clf.fit(X_train,y_train)"
   ]
  },
  {
   "cell_type": "code",
   "execution_count": 9,
   "metadata": {},
   "outputs": [
    {
     "data": {
      "text/plain": [
       "array([[1.   , 0.   ],\n",
       "       [0.016, 0.984],\n",
       "       [0.   , 1.   ],\n",
       "       [0.926, 0.074],\n",
       "       [0.994, 0.006],\n",
       "       [1.   , 0.   ],\n",
       "       [0.908, 0.092],\n",
       "       [0.992, 0.008],\n",
       "       [0.524, 0.476],\n",
       "       [0.018, 0.982],\n",
       "       [0.898, 0.102],\n",
       "       [0.92 , 0.08 ],\n",
       "       [1.   , 0.   ],\n",
       "       [0.074, 0.926],\n",
       "       [0.952, 0.048],\n",
       "       [0.984, 0.016],\n",
       "       [0.998, 0.002],\n",
       "       [1.   , 0.   ],\n",
       "       [0.844, 0.156],\n",
       "       [0.034, 0.966],\n",
       "       [0.002, 0.998],\n",
       "       [0.004, 0.996],\n",
       "       [0.996, 0.004],\n",
       "       [0.934, 0.066],\n",
       "       [0.998, 0.002],\n",
       "       [0.022, 0.978],\n",
       "       [0.906, 0.094],\n",
       "       [1.   , 0.   ],\n",
       "       [0.   , 1.   ],\n",
       "       [0.002, 0.998],\n",
       "       [0.   , 1.   ],\n",
       "       [0.84 , 0.16 ],\n",
       "       [0.122, 0.878],\n",
       "       [0.996, 0.004],\n",
       "       [0.932, 0.068],\n",
       "       [0.844, 0.156],\n",
       "       [0.   , 1.   ],\n",
       "       [0.96 , 0.04 ],\n",
       "       [0.948, 0.052],\n",
       "       [0.912, 0.088],\n",
       "       [0.166, 0.834],\n",
       "       [0.014, 0.986],\n",
       "       [1.   , 0.   ],\n",
       "       [0.104, 0.896],\n",
       "       [0.982, 0.018],\n",
       "       [0.028, 0.972],\n",
       "       [0.004, 0.996],\n",
       "       [0.998, 0.002],\n",
       "       [0.996, 0.004],\n",
       "       [0.998, 0.002],\n",
       "       [0.   , 1.   ],\n",
       "       [0.918, 0.082],\n",
       "       [1.   , 0.   ],\n",
       "       [0.036, 0.964],\n",
       "       [1.   , 0.   ],\n",
       "       [0.   , 1.   ],\n",
       "       [1.   , 0.   ],\n",
       "       [0.004, 0.996],\n",
       "       [0.05 , 0.95 ],\n",
       "       [0.036, 0.964],\n",
       "       [1.   , 0.   ],\n",
       "       [0.002, 0.998],\n",
       "       [0.272, 0.728],\n",
       "       [0.   , 1.   ],\n",
       "       [0.956, 0.044],\n",
       "       [0.066, 0.934],\n",
       "       [0.028, 0.972],\n",
       "       [0.996, 0.004],\n",
       "       [1.   , 0.   ],\n",
       "       [0.   , 1.   ],\n",
       "       [1.   , 0.   ],\n",
       "       [0.992, 0.008],\n",
       "       [0.018, 0.982],\n",
       "       [0.994, 0.006],\n",
       "       [0.026, 0.974],\n",
       "       [1.   , 0.   ],\n",
       "       [0.376, 0.624],\n",
       "       [1.   , 0.   ],\n",
       "       [0.45 , 0.55 ],\n",
       "       [0.   , 1.   ],\n",
       "       [0.   , 1.   ],\n",
       "       [0.85 , 0.15 ],\n",
       "       [0.02 , 0.98 ],\n",
       "       [0.004, 0.996],\n",
       "       [0.106, 0.894],\n",
       "       [0.94 , 0.06 ],\n",
       "       [0.93 , 0.07 ],\n",
       "       [1.   , 0.   ],\n",
       "       [0.758, 0.242],\n",
       "       [0.066, 0.934],\n",
       "       [0.98 , 0.02 ],\n",
       "       [0.984, 0.016],\n",
       "       [0.866, 0.134],\n",
       "       [0.92 , 0.08 ],\n",
       "       [0.996, 0.004],\n",
       "       [0.   , 1.   ],\n",
       "       [0.226, 0.774],\n",
       "       [0.006, 0.994],\n",
       "       [0.894, 0.106],\n",
       "       [0.   , 1.   ],\n",
       "       [0.028, 0.972],\n",
       "       [1.   , 0.   ],\n",
       "       [1.   , 0.   ],\n",
       "       [0.014, 0.986],\n",
       "       [0.954, 0.046],\n",
       "       [0.004, 0.996],\n",
       "       [0.042, 0.958],\n",
       "       [0.   , 1.   ],\n",
       "       [0.068, 0.932],\n",
       "       [0.982, 0.018],\n",
       "       [0.034, 0.966],\n",
       "       [0.938, 0.062],\n",
       "       [0.004, 0.996],\n",
       "       [0.014, 0.986],\n",
       "       [0.   , 1.   ],\n",
       "       [0.07 , 0.93 ],\n",
       "       [1.   , 0.   ],\n",
       "       [0.004, 0.996],\n",
       "       [0.164, 0.836],\n",
       "       [0.004, 0.996],\n",
       "       [0.754, 0.246],\n",
       "       [0.084, 0.916],\n",
       "       [0.   , 1.   ],\n",
       "       [0.998, 0.002],\n",
       "       [0.252, 0.748],\n",
       "       [0.998, 0.002],\n",
       "       [0.   , 1.   ],\n",
       "       [0.   , 1.   ],\n",
       "       [0.038, 0.962],\n",
       "       [1.   , 0.   ],\n",
       "       [0.   , 1.   ],\n",
       "       [0.42 , 0.58 ],\n",
       "       [0.26 , 0.74 ],\n",
       "       [0.002, 0.998],\n",
       "       [0.994, 0.006],\n",
       "       [0.1  , 0.9  ],\n",
       "       [0.948, 0.052],\n",
       "       [0.006, 0.994],\n",
       "       [0.75 , 0.25 ],\n",
       "       [1.   , 0.   ],\n",
       "       [0.992, 0.008],\n",
       "       [0.   , 1.   ],\n",
       "       [0.   , 1.   ],\n",
       "       [0.566, 0.434],\n",
       "       [1.   , 0.   ],\n",
       "       [0.002, 0.998],\n",
       "       [1.   , 0.   ],\n",
       "       [1.   , 0.   ],\n",
       "       [0.996, 0.004],\n",
       "       [0.924, 0.076],\n",
       "       [1.   , 0.   ],\n",
       "       [0.   , 1.   ],\n",
       "       [0.214, 0.786],\n",
       "       [1.   , 0.   ],\n",
       "       [0.   , 1.   ],\n",
       "       [0.084, 0.916],\n",
       "       [0.948, 0.052],\n",
       "       [0.068, 0.932],\n",
       "       [0.938, 0.062],\n",
       "       [0.   , 1.   ],\n",
       "       [0.   , 1.   ],\n",
       "       [1.   , 0.   ],\n",
       "       [0.976, 0.024],\n",
       "       [0.996, 0.004],\n",
       "       [1.   , 0.   ],\n",
       "       [1.   , 0.   ],\n",
       "       [0.064, 0.936],\n",
       "       [0.92 , 0.08 ],\n",
       "       [0.   , 1.   ],\n",
       "       [0.   , 1.   ],\n",
       "       [0.042, 0.958],\n",
       "       [0.782, 0.218],\n",
       "       [1.   , 0.   ],\n",
       "       [1.   , 0.   ],\n",
       "       [0.014, 0.986],\n",
       "       [0.   , 1.   ],\n",
       "       [0.   , 1.   ],\n",
       "       [0.   , 1.   ],\n",
       "       [1.   , 0.   ],\n",
       "       [1.   , 0.   ],\n",
       "       [0.22 , 0.78 ],\n",
       "       [1.   , 0.   ],\n",
       "       [1.   , 0.   ],\n",
       "       [0.91 , 0.09 ],\n",
       "       [0.   , 1.   ],\n",
       "       [0.912, 0.088],\n",
       "       [0.212, 0.788],\n",
       "       [0.   , 1.   ],\n",
       "       [0.   , 1.   ],\n",
       "       [0.076, 0.924],\n",
       "       [0.996, 0.004],\n",
       "       [0.996, 0.004],\n",
       "       [0.   , 1.   ],\n",
       "       [1.   , 0.   ],\n",
       "       [0.   , 1.   ],\n",
       "       [0.004, 0.996],\n",
       "       [0.966, 0.034],\n",
       "       [0.004, 0.996],\n",
       "       [0.   , 1.   ],\n",
       "       [0.998, 0.002],\n",
       "       [0.012, 0.988],\n",
       "       [0.9  , 0.1  ],\n",
       "       [0.836, 0.164],\n",
       "       [0.062, 0.938],\n",
       "       [0.996, 0.004],\n",
       "       [0.996, 0.004],\n",
       "       [0.998, 0.002],\n",
       "       [0.   , 1.   ],\n",
       "       [0.044, 0.956],\n",
       "       [0.968, 0.032],\n",
       "       [0.042, 0.958],\n",
       "       [0.996, 0.004],\n",
       "       [0.146, 0.854],\n",
       "       [0.   , 1.   ],\n",
       "       [0.996, 0.004],\n",
       "       [0.   , 1.   ],\n",
       "       [0.872, 0.128],\n",
       "       [0.918, 0.082],\n",
       "       [0.854, 0.146],\n",
       "       [0.104, 0.896],\n",
       "       [0.332, 0.668],\n",
       "       [0.   , 1.   ],\n",
       "       [0.822, 0.178],\n",
       "       [1.   , 0.   ],\n",
       "       [1.   , 0.   ],\n",
       "       [0.93 , 0.07 ],\n",
       "       [1.   , 0.   ],\n",
       "       [0.   , 1.   ],\n",
       "       [0.002, 0.998],\n",
       "       [0.   , 1.   ],\n",
       "       [0.91 , 0.09 ],\n",
       "       [0.   , 1.   ],\n",
       "       [0.   , 1.   ],\n",
       "       [0.998, 0.002],\n",
       "       [0.938, 0.062],\n",
       "       [0.082, 0.918],\n",
       "       [0.96 , 0.04 ],\n",
       "       [0.04 , 0.96 ],\n",
       "       [0.18 , 0.82 ],\n",
       "       [0.004, 0.996],\n",
       "       [1.   , 0.   ],\n",
       "       [0.   , 1.   ],\n",
       "       [0.006, 0.994],\n",
       "       [0.91 , 0.09 ],\n",
       "       [0.984, 0.016],\n",
       "       [1.   , 0.   ],\n",
       "       [0.   , 1.   ],\n",
       "       [0.   , 1.   ],\n",
       "       [1.   , 0.   ],\n",
       "       [0.   , 1.   ],\n",
       "       [0.   , 1.   ],\n",
       "       [0.952, 0.048],\n",
       "       [1.   , 0.   ],\n",
       "       [0.996, 0.004],\n",
       "       [0.096, 0.904],\n",
       "       [0.908, 0.092],\n",
       "       [0.956, 0.044],\n",
       "       [0.   , 1.   ],\n",
       "       [0.   , 1.   ],\n",
       "       [0.996, 0.004],\n",
       "       [0.   , 1.   ],\n",
       "       [0.   , 1.   ],\n",
       "       [0.004, 0.996],\n",
       "       [0.176, 0.824],\n",
       "       [0.948, 0.052],\n",
       "       [0.004, 0.996],\n",
       "       [1.   , 0.   ],\n",
       "       [0.9  , 0.1  ],\n",
       "       [0.   , 1.   ],\n",
       "       [0.996, 0.004],\n",
       "       [0.962, 0.038],\n",
       "       [0.   , 1.   ],\n",
       "       [0.994, 0.006],\n",
       "       [0.108, 0.892],\n",
       "       [0.006, 0.994],\n",
       "       [0.   , 1.   ],\n",
       "       [0.802, 0.198],\n",
       "       [0.87 , 0.13 ],\n",
       "       [0.   , 1.   ],\n",
       "       [1.   , 0.   ],\n",
       "       [0.99 , 0.01 ],\n",
       "       [0.   , 1.   ],\n",
       "       [0.97 , 0.03 ],\n",
       "       [1.   , 0.   ],\n",
       "       [0.002, 0.998],\n",
       "       [1.   , 0.   ],\n",
       "       [0.   , 1.   ],\n",
       "       [0.   , 1.   ],\n",
       "       [0.762, 0.238],\n",
       "       [0.   , 1.   ],\n",
       "       [0.994, 0.006],\n",
       "       [0.036, 0.964],\n",
       "       [0.508, 0.492],\n",
       "       [0.   , 1.   ],\n",
       "       [1.   , 0.   ],\n",
       "       [0.91 , 0.09 ],\n",
       "       [0.004, 0.996],\n",
       "       [0.   , 1.   ],\n",
       "       [0.   , 1.   ],\n",
       "       [0.616, 0.384],\n",
       "       [0.   , 1.   ],\n",
       "       [1.   , 0.   ],\n",
       "       [1.   , 0.   ],\n",
       "       [0.19 , 0.81 ],\n",
       "       [1.   , 0.   ],\n",
       "       [0.   , 1.   ],\n",
       "       [0.972, 0.028],\n",
       "       [0.186, 0.814],\n",
       "       [1.   , 0.   ],\n",
       "       [1.   , 0.   ],\n",
       "       [0.   , 1.   ],\n",
       "       [0.97 , 0.03 ],\n",
       "       [0.974, 0.026],\n",
       "       [0.   , 1.   ],\n",
       "       [0.038, 0.962],\n",
       "       [0.996, 0.004],\n",
       "       [0.018, 0.982],\n",
       "       [1.   , 0.   ],\n",
       "       [0.   , 1.   ],\n",
       "       [0.948, 0.052],\n",
       "       [1.   , 0.   ],\n",
       "       [0.002, 0.998],\n",
       "       [0.004, 0.996],\n",
       "       [0.91 , 0.09 ],\n",
       "       [0.   , 1.   ],\n",
       "       [1.   , 0.   ],\n",
       "       [0.978, 0.022],\n",
       "       [0.846, 0.154],\n",
       "       [0.998, 0.002],\n",
       "       [0.792, 0.208],\n",
       "       [0.238, 0.762],\n",
       "       [0.024, 0.976],\n",
       "       [0.996, 0.004],\n",
       "       [0.   , 1.   ],\n",
       "       [0.984, 0.016],\n",
       "       [0.918, 0.082],\n",
       "       [0.996, 0.004],\n",
       "       [1.   , 0.   ],\n",
       "       [0.996, 0.004],\n",
       "       [0.158, 0.842],\n",
       "       [0.   , 1.   ],\n",
       "       [0.438, 0.562],\n",
       "       [0.   , 1.   ],\n",
       "       [0.91 , 0.09 ],\n",
       "       [1.   , 0.   ],\n",
       "       [0.392, 0.608],\n",
       "       [1.   , 0.   ],\n",
       "       [0.674, 0.326],\n",
       "       [1.   , 0.   ],\n",
       "       [0.   , 1.   ],\n",
       "       [0.438, 0.562],\n",
       "       [1.   , 0.   ],\n",
       "       [1.   , 0.   ],\n",
       "       [0.998, 0.002],\n",
       "       [0.   , 1.   ],\n",
       "       [0.998, 0.002],\n",
       "       [0.082, 0.918],\n",
       "       [1.   , 0.   ],\n",
       "       [0.086, 0.914],\n",
       "       [1.   , 0.   ],\n",
       "       [0.986, 0.014],\n",
       "       [0.87 , 0.13 ],\n",
       "       [0.   , 1.   ],\n",
       "       [1.   , 0.   ],\n",
       "       [0.   , 1.   ],\n",
       "       [0.052, 0.948],\n",
       "       [0.044, 0.956],\n",
       "       [0.   , 1.   ],\n",
       "       [1.   , 0.   ],\n",
       "       [0.992, 0.008],\n",
       "       [0.   , 1.   ],\n",
       "       [1.   , 0.   ],\n",
       "       [0.004, 0.996],\n",
       "       [1.   , 0.   ],\n",
       "       [0.   , 1.   ],\n",
       "       [0.   , 1.   ],\n",
       "       [0.002, 0.998],\n",
       "       [0.004, 0.996],\n",
       "       [0.984, 0.016],\n",
       "       [0.   , 1.   ],\n",
       "       [0.534, 0.466],\n",
       "       [1.   , 0.   ],\n",
       "       [0.964, 0.036],\n",
       "       [0.556, 0.444],\n",
       "       [0.952, 0.048],\n",
       "       [0.068, 0.932],\n",
       "       [0.114, 0.886],\n",
       "       [0.998, 0.002],\n",
       "       [0.526, 0.474],\n",
       "       [0.926, 0.074],\n",
       "       [0.92 , 0.08 ],\n",
       "       [0.994, 0.006],\n",
       "       [0.034, 0.966],\n",
       "       [0.978, 0.022],\n",
       "       [0.002, 0.998],\n",
       "       [0.002, 0.998],\n",
       "       [0.946, 0.054],\n",
       "       [1.   , 0.   ],\n",
       "       [0.   , 1.   ],\n",
       "       [0.924, 0.076]])"
      ]
     },
     "execution_count": 9,
     "metadata": {},
     "output_type": "execute_result"
    }
   ],
   "source": [
    "bag_clf.predict_proba(X_train)"
   ]
  },
  {
   "cell_type": "code",
   "execution_count": 10,
   "metadata": {},
   "outputs": [
    {
     "data": {
      "text/plain": [
       "0.97"
      ]
     },
     "execution_count": 10,
     "metadata": {},
     "output_type": "execute_result"
    }
   ],
   "source": [
    "accuracy_score(y_test,bag_clf.predict(X_test))"
   ]
  },
  {
   "cell_type": "markdown",
   "metadata": {},
   "source": [
    "Bagging Classifier visualized"
   ]
  },
  {
   "cell_type": "code",
   "execution_count": 11,
   "metadata": {},
   "outputs": [
    {
     "data": {
      "text/plain": [
       "<matplotlib.contour.QuadContourSet at 0x2637fdb89b0>"
      ]
     },
     "execution_count": 11,
     "metadata": {},
     "output_type": "execute_result"
    }
   ],
   "source": [
    "import matplotlib.pyplot as plt\n",
    "import numpy as np\n",
    "from matplotlib.colors import ListedColormap\n",
    "fig,ax = plt.subplots(1,1,figsize = (10,8))\n",
    "x0range = np.linspace(min(X_train[:,0]),max(X_train[:,0]),500)\n",
    "x1range = np.linspace(min(X_train[:,1]),max(X_train[:,1]),500)\n",
    "x0mesh,x1mesh = np.meshgrid(x0range,x1range)\n",
    "xvals = np.c_[x0mesh.ravel(),x1mesh.ravel()]\n",
    "ypred = bag_clf.predict(xvals).reshape(x0mesh.shape)\n",
    "ax.plot(X_train[:,0][y_train == 0],X_train[:,1][y_train==0],'bs')\n",
    "ax.plot(X_train[:,0][y_train == 1],X_train[:,1][y_train==1],'g^')\n",
    "col_scheme = ListedColormap(['#fafab0','#9898ff']) \n",
    "ax.contourf(x0mesh,x1mesh,ypred,alpha = 0.3,cmap = col_scheme)"
   ]
  },
  {
   "cell_type": "markdown",
   "metadata": {},
   "source": [
    "Visualizing one Decision Tree"
   ]
  },
  {
   "cell_type": "code",
   "execution_count": 12,
   "metadata": {},
   "outputs": [
    {
     "data": {
      "text/plain": [
       "DecisionTreeClassifier(class_weight=None, criterion='gini', max_depth=None,\n",
       "                       max_features=None, max_leaf_nodes=None,\n",
       "                       min_impurity_decrease=0.0, min_impurity_split=None,\n",
       "                       min_samples_leaf=1, min_samples_split=2,\n",
       "                       min_weight_fraction_leaf=0.0, presort=False,\n",
       "                       random_state=None, splitter='best')"
      ]
     },
     "execution_count": 12,
     "metadata": {},
     "output_type": "execute_result"
    }
   ],
   "source": [
    "dtree = DecisionTreeClassifier()\n",
    "dtree.fit(X_train,y_train)"
   ]
  },
  {
   "cell_type": "code",
   "execution_count": 13,
   "metadata": {},
   "outputs": [
    {
     "data": {
      "text/plain": [
       "<matplotlib.contour.QuadContourSet at 0x2630182ce48>"
      ]
     },
     "execution_count": 13,
     "metadata": {},
     "output_type": "execute_result"
    },
    {
     "data": {
      "image/png": "[encoded data removed]",
      "text/plain": [
       "<Figure size 720x576 with 1 Axes>"
      ]
     },
     "metadata": {
      "needs_background": "light"
     },
     "output_type": "display_data"
    }
   ],
   "source": [
    "fig,ax = plt.subplots(1,1,figsize = (10,8))\n",
    "x0range = np.linspace(min(X_train[:,0]),max(X_train[:,0]),500)\n",
    "x1range = np.linspace(min(X_train[:,1]),max(X_train[:,1]),500)\n",
    "x0mesh,x1mesh = np.meshgrid(x0range,x1range)\n",
    "xvals = np.c_[x0mesh.ravel(),x1mesh.ravel()]\n",
    "ypred = dtree.predict(xvals).reshape(x0mesh.shape)\n",
    "ax.plot(X_train[:,0][y_train == 0],X_train[:,1][y_train==0],'bs')\n",
    "ax.plot(X_train[:,0][y_train == 1],X_train[:,1][y_train==1],'g^')\n",
    "col_scheme = ListedColormap(['#fafab0','#9898ff']) \n",
    "ax.contourf(x0mesh,x1mesh,ypred,alpha = 0.3,cmap = col_scheme)"
   ]
  },
  {
   "cell_type": "markdown",
   "metadata": {},
   "source": [
    "The Bagging Classifier Results in a much smoother decision boundary as it is the result of \"soft voting\" from 500 different Decision Tree classifiers.\n",
    "\n",
    "Notice that the ensemble is more generalized with comparable bias but less variance compared to the single decision tree. "
   ]
  },
  {
   "cell_type": "markdown",
   "metadata": {},
   "source": [
    "<h2>Out of Bag Evaluation</h2>"
   ]
  },
  {
   "cell_type": "markdown",
   "metadata": {},
   "source": [
    "In Bagging some samples will be sampled several times, while others may not be sampled at all. "
   ]
  },
  {
   "cell_type": "markdown",
   "metadata": {},
   "source": [
    "By default, a Bagging Classifier samples **m** training instances with replacement (bootstrap = True). \n",
    "\n",
    "As **m** becomes larger, the ratio of instances that are not sampled reaches 37%. These are known as out of bag instances.\n",
    "\n",
    "Since a predictor never sees the oob instances during training, it can be evaluated on the out of bag instances. "
   ]
  },
  {
   "cell_type": "code",
   "execution_count": 14,
   "metadata": {},
   "outputs": [],
   "source": [
    "bag_clf = BaggingClassifier(DecisionTreeClassifier(), n_estimators = 500,\n",
    "                           bootstrap = True, n_jobs = -1,oob_score = True)"
   ]
  },
  {
   "cell_type": "code",
   "execution_count": 15,
   "metadata": {},
   "outputs": [
    {
     "data": {
      "text/plain": [
       "BaggingClassifier(base_estimator=DecisionTreeClassifier(class_weight=None,\n",
       "                                                        criterion='gini',\n",
       "                                                        max_depth=None,\n",
       "                                                        max_features=None,\n",
       "                                                        max_leaf_nodes=None,\n",
       "                                                        min_impurity_decrease=0.0,\n",
       "                                                        min_impurity_split=None,\n",
       "                                                        min_samples_leaf=1,\n",
       "                                                        min_samples_split=2,\n",
       "                                                        min_weight_fraction_leaf=0.0,\n",
       "                                                        presort=False,\n",
       "                                                        random_state=None,\n",
       "                                                        splitter='best'),\n",
       "                  bootstrap=True, bootstrap_features=False, max_features=1.0,\n",
       "                  max_samples=1.0, n_estimators=500, n_jobs=-1, oob_score=True,\n",
       "                  random_state=None, verbose=0, warm_start=False)"
      ]
     },
     "execution_count": 15,
     "metadata": {},
     "output_type": "execute_result"
    }
   ],
   "source": [
    "bag_clf.fit(X_train,y_train)"
   ]
  },
  {
   "cell_type": "code",
   "execution_count": 16,
   "metadata": {},
   "outputs": [
    {
     "data": {
      "text/plain": [
       "0.9775"
      ]
     },
     "execution_count": 16,
     "metadata": {},
     "output_type": "execute_result"
    }
   ],
   "source": [
    "bag_clf.oob_score_"
   ]
  },
  {
   "cell_type": "markdown",
   "metadata": {},
   "source": [
    "<h1> Random Patches and Random Subspaces </h1> "
   ]
  },
  {
   "cell_type": "markdown",
   "metadata": {},
   "source": [
    "We can also sample features as well. By using max_features and bootstrap_features, we can sample features. \n",
    "\n",
    "Sampling both features and training instances is called **Random Patches Method**. \n",
    "\n",
    "Using all the training instances and sampling features is **Random Subspaces**(bootstrap = False, max_samples=1.0)"
   ]
  },
  {
   "cell_type": "markdown",
   "metadata": {},
   "source": [
    "<h1> Random Forests </h1>"
   ]
  },
  {
   "cell_type": "markdown",
   "metadata": {},
   "source": [
    "Random Forests allow for sampling of features too where it samples a subset of fetures for each estimator. This results in a greater diversity in the estimators.\n",
    "\n",
    "When growing a tree in a Random Forests, at each node, only a random subset of features are considered. Not all features are looked into for each node like in decision trees.\n",
    "\n",
    "<h1> Extra Trees </h1>\n",
    "It is also possible to make the threshold random too, rather than searching for the split within the subset of features which results in the highest information gain."
   ]
  },
  {
   "cell_type": "markdown",
   "metadata": {},
   "source": [
    "<h1> Feature Importance </h1>"
   ]
  },
  {
   "cell_type": "markdown",
   "metadata": {},
   "source": [
    "Random Forests measure the average decrease in impurity on average across all trees in the forest. \n",
    "\n",
    "It takes the weighted average of the impurity decrease of each split relevant to that feature. Adds all these weighted decrease in purity and then divides it to scale by 1. "
   ]
  },
  {
   "cell_type": "markdown",
   "metadata": {},
   "source": [
    "<h2> Feature importance of pixels of MNIST </h2>"
   ]
  },
  {
   "cell_type": "code",
   "execution_count": 17,
   "metadata": {},
   "outputs": [],
   "source": [
    "from sklearn.datasets import fetch_openml\n",
    "\n",
    "mnist = fetch_openml('mnist_784',version=1)\n",
    "mnist.target = mnist.target.astype(np.uint8)"
   ]
  },
  {
   "cell_type": "code",
   "execution_count": 18,
   "metadata": {},
   "outputs": [
    {
     "data": {
      "text/plain": [
       "RandomForestClassifier(bootstrap=True, class_weight=None, criterion='gini',\n",
       "                       max_depth=None, max_features='auto', max_leaf_nodes=None,\n",
       "                       min_impurity_decrease=0.0, min_impurity_split=None,\n",
       "                       min_samples_leaf=1, min_samples_split=2,\n",
       "                       min_weight_fraction_leaf=0.0, n_estimators=100,\n",
       "                       n_jobs=None, oob_score=False, random_state=42, verbose=0,\n",
       "                       warm_start=False)"
      ]
     },
     "execution_count": 18,
     "metadata": {},
     "output_type": "execute_result"
    }
   ],
   "source": [
    "from sklearn.ensemble import RandomForestClassifier\n",
    "rnd_clf = RandomForestClassifier(n_estimators = 100, random_state = 42)\n",
    "rnd_clf.fit(mnist[\"data\"],mnist[\"target\"])"
   ]
  },
  {
   "cell_type": "code",
   "execution_count": 19,
   "metadata": {},
   "outputs": [],
   "source": [
    "import matplotlib as mpl\n",
    "def plot_featureimportance(data):\n",
    "    image = data.reshape(28,28)\n",
    "    plt.imshow(image,cmap = mpl.cm.hot,interpolation = \"nearest\")\n",
    "    plt.axis(\"off\")"
   ]
  },
  {
   "cell_type": "code",
   "execution_count": 20,
   "metadata": {},
   "outputs": [
    {
     "data": {
      "image/png": "[encoded data removed]",
      "text/plain": [
       "<Figure size 432x288 with 1 Axes>"
      ]
     },
     "metadata": {
      "needs_background": "light"
     },
     "output_type": "display_data"
    }
   ],
   "source": [
    "plot_featureimportance(rnd_clf.feature_importances_)"
   ]
  },
  {
   "cell_type": "markdown",
   "metadata": {},
   "source": [
    "<h1>Boosting</h1>"
   ]
  },
  {
   "cell_type": "markdown",
   "metadata": {},
   "source": [
    "Involves combining several weak learners into a strong learner\n",
    "\n",
    "General idea is that it trains predictors sequentially, each trying to correct the mistakes of its predecessor.\n",
    "\n",
    "- AdaBoost\n",
    "- Gradient Boosting"
   ]
  },
  {
   "cell_type": "markdown",
   "metadata": {},
   "source": [
    "<h1> AdaBoost </h1>"
   ]
  },
  {
   "cell_type": "markdown",
   "metadata": {},
   "source": [
    "Here, the predictor tries to correct the instances that the predecessor underfitted. Hence the new predictors will focus more on the hard cases than the fitted cases. "
   ]
  },
  {
   "cell_type": "markdown",
   "metadata": {},
   "source": [
    "Once the first classifier is trained on the training instances, the relative weight of the misclassified training instances is increased. Then the second classifier is trained using updated weights. Again the misclassified training instances are increased in weight. This process is repeated."
   ]
  },
  {
   "cell_type": "markdown",
   "metadata": {},
   "source": [
    "Once all the predictors are trained, the ensemble makes predictions very much like bagging or pasting. But each predictor has different weights based on their overall accuracy on the weighted training set. "
   ]
  },
  {
   "cell_type": "markdown",
   "metadata": {},
   "source": [
    "The most suited algorithms to be used with AdaBoost are decision trees with one level as they are weak classifiers with just above random chance on a classification problem."
   ]
  },
  {
   "cell_type": "markdown",
   "metadata": {},
   "source": [
    "Each instance is assigned a weight of (1/m) = w. \n",
    "\n",
    "After the first predictor training, the error rate is calculated. \n",
    "\n",
    "error rate = (correct - N)/N.\n",
    "\n",
    "the error rate is modified:\n",
    "\n",
    "error = sum(w(i) * terror(i))/sum(w)\n",
    "\n",
    "where w(i) is the weight of each instance, terror(i) is 1 if wrongly classified and 0 is correct. \n",
    "\n",
    "once prediction is done, the **stage weight** is calculated which is the weight for the predictor in the final decision making. \n",
    "\n",
    "stage = (learningrate) * ln((1-error)/error)\n",
    "\n",
    "Higher the (1-error)/error, results in a higher stage weight. Lower error allows for this\n",
    "this is used to update the weight of each instance\n",
    "\n",
    "w = w * exp(stage * terror)\n",
    "\n",
    "**Afterwards, all the instance weights are normalized. (w/sum(w))**\n",
    "\n",
    "In making the predictions, it calculates the stage weight for all the predictors in each prediction class. Highest one is the prediction.\n",
    "\n",
    "Now since the instances have been attached with updated weights, for the next predictor, we can multiply the training instances with the weight and increase their prominence in the dataset."
   ]
  },
  {
   "cell_type": "code",
   "execution_count": 21,
   "metadata": {},
   "outputs": [],
   "source": [
    "X,y = make_moons(n_samples = 500, noise = 0.15, random_state = 42)\n",
    "\n",
    "X_train,X_test,y_train,y_test = train_test_split(X, y, test_size=0.2, random_state=42)"
   ]
  },
  {
   "cell_type": "code",
   "execution_count": 22,
   "metadata": {},
   "outputs": [],
   "source": [
    "from sklearn.ensemble import AdaBoostClassifier\n",
    "\n",
    "ada_clf = AdaBoostClassifier(DecisionTreeClassifier(max_depth=1),\n",
    "                             n_estimators = 200,\n",
    "                            algorithm=\"SAMME.R\",learning_rate = 0.5)"
   ]
  },
  {
   "cell_type": "code",
   "execution_count": 23,
   "metadata": {},
   "outputs": [
    {
     "data": {
      "text/plain": [
       "AdaBoostClassifier(algorithm='SAMME.R',\n",
       "                   base_estimator=DecisionTreeClassifier(class_weight=None,\n",
       "                                                         criterion='gini',\n",
       "                                                         max_depth=1,\n",
       "                                                         max_features=None,\n",
       "                                                         max_leaf_nodes=None,\n",
       "                                                         min_impurity_decrease=0.0,\n",
       "                                                         min_impurity_split=None,\n",
       "                                                         min_samples_leaf=1,\n",
       "                                                         min_samples_split=2,\n",
       "                                                         min_weight_fraction_leaf=0.0,\n",
       "                                                         presort=False,\n",
       "                                                         random_state=None,\n",
       "                                                         splitter='best'),\n",
       "                   learning_rate=0.5, n_estimators=200, random_state=None)"
      ]
     },
     "execution_count": 23,
     "metadata": {},
     "output_type": "execute_result"
    }
   ],
   "source": [
    "ada_clf.fit(X_train,y_train)"
   ]
  },
  {
   "cell_type": "code",
   "execution_count": 24,
   "metadata": {},
   "outputs": [
    {
     "data": {
      "text/plain": [
       "array([[0.28621151, 0.71378849],\n",
       "       [0.27779834, 0.72220166],\n",
       "       [0.27779834, 0.72220166],\n",
       "       [0.27691708, 0.72308292],\n",
       "       [0.16505754, 0.83494246],\n",
       "       [0.27416815, 0.72583185],\n",
       "       [0.72986054, 0.27013946],\n",
       "       [0.74360022, 0.25639978],\n",
       "       [0.74012106, 0.25987894],\n",
       "       [0.74360022, 0.25639978],\n",
       "       [0.04137889, 0.95862111],\n",
       "       [0.72986054, 0.27013946],\n",
       "       [0.26011562, 0.73988438],\n",
       "       [0.70202622, 0.29797378],\n",
       "       [0.06261627, 0.93738373],\n",
       "       [0.84941196, 0.15058804],\n",
       "       [0.72986054, 0.27013946],\n",
       "       [0.06261627, 0.93738373],\n",
       "       [0.06261627, 0.93738373],\n",
       "       [0.28132947, 0.71867053],\n",
       "       [0.72986054, 0.27013946],\n",
       "       [0.06589324, 0.93410676],\n",
       "       [0.28621151, 0.71378849],\n",
       "       [0.74012106, 0.25987894],\n",
       "       [0.28132947, 0.71867053],\n",
       "       [0.72775634, 0.27224366],\n",
       "       [0.54877003, 0.45122997],\n",
       "       [0.72986054, 0.27013946],\n",
       "       [0.05853246, 0.94146754],\n",
       "       [0.84941196, 0.15058804],\n",
       "       [0.01000486, 0.98999514],\n",
       "       [0.01000486, 0.98999514],\n",
       "       [0.94766065, 0.05233935],\n",
       "       [0.72986054, 0.27013946],\n",
       "       [0.27691708, 0.72308292],\n",
       "       [0.72049615, 0.27950385],\n",
       "       [0.74692863, 0.25307137],\n",
       "       [0.27691708, 0.72308292],\n",
       "       [0.27691708, 0.72308292],\n",
       "       [0.06261627, 0.93738373],\n",
       "       [0.06369115, 0.93630885],\n",
       "       [0.69896191, 0.30103809],\n",
       "       [0.72775634, 0.27224366],\n",
       "       [0.72986054, 0.27013946],\n",
       "       [0.95320661, 0.04679339],\n",
       "       [0.93781336, 0.06218664],\n",
       "       [0.27691708, 0.72308292],\n",
       "       [0.74360022, 0.25639978],\n",
       "       [0.05405723, 0.94594277],\n",
       "       [0.27779834, 0.72220166],\n",
       "       [0.27779834, 0.72220166],\n",
       "       [0.01000486, 0.98999514],\n",
       "       [0.72986054, 0.27013946],\n",
       "       [0.84941196, 0.15058804],\n",
       "       [0.27779834, 0.72220166],\n",
       "       [0.94766065, 0.05233935],\n",
       "       [0.27779834, 0.72220166],\n",
       "       [0.27691708, 0.72308292],\n",
       "       [0.84941196, 0.15058804],\n",
       "       [0.05853246, 0.94146754],\n",
       "       [0.74147256, 0.25852744],\n",
       "       [0.27691708, 0.72308292],\n",
       "       [0.06261627, 0.93738373],\n",
       "       [0.72986054, 0.27013946],\n",
       "       [0.06261627, 0.93738373],\n",
       "       [0.94766065, 0.05233935],\n",
       "       [0.72775634, 0.27224366],\n",
       "       [0.71682287, 0.28317713],\n",
       "       [0.72986054, 0.27013946],\n",
       "       [0.06369115, 0.93630885],\n",
       "       [0.72049615, 0.27950385],\n",
       "       [0.74360022, 0.25639978],\n",
       "       [0.53218331, 0.46781669],\n",
       "       [0.27691708, 0.72308292],\n",
       "       [0.72986054, 0.27013946],\n",
       "       [0.72986054, 0.27013946],\n",
       "       [0.01000486, 0.98999514],\n",
       "       [0.01000486, 0.98999514],\n",
       "       [0.95320661, 0.04679339],\n",
       "       [0.28514862, 0.71485138],\n",
       "       [0.06369115, 0.93630885],\n",
       "       [0.06589324, 0.93410676],\n",
       "       [0.27779834, 0.72220166],\n",
       "       [0.06369115, 0.93630885],\n",
       "       [0.05853246, 0.94146754],\n",
       "       [0.27691708, 0.72308292],\n",
       "       [0.27691708, 0.72308292],\n",
       "       [0.94434147, 0.05565853],\n",
       "       [0.01000486, 0.98999514],\n",
       "       [0.26011562, 0.73988438],\n",
       "       [0.06261627, 0.93738373],\n",
       "       [0.95320661, 0.04679339],\n",
       "       [0.75046812, 0.24953188],\n",
       "       [0.94766065, 0.05233935],\n",
       "       [0.72986054, 0.27013946],\n",
       "       [0.05853246, 0.94146754],\n",
       "       [0.95320661, 0.04679339],\n",
       "       [0.7138487 , 0.2861513 ],\n",
       "       [0.72049615, 0.27950385],\n",
       "       [0.01000486, 0.98999514]])"
      ]
     },
     "execution_count": 24,
     "metadata": {},
     "output_type": "execute_result"
    }
   ],
   "source": [
    "ada_clf.predict_proba(X_test)"
   ]
  },
  {
   "cell_type": "code",
   "execution_count": 25,
   "metadata": {},
   "outputs": [
    {
     "data": {
      "text/plain": [
       "array([43, 57], dtype=int64)"
      ]
     },
     "execution_count": 25,
     "metadata": {},
     "output_type": "execute_result"
    }
   ],
   "source": [
    "np.bincount(y_test)"
   ]
  },
  {
   "cell_type": "code",
   "execution_count": 26,
   "metadata": {},
   "outputs": [
    {
     "data": {
      "text/plain": [
       "{0, 1}"
      ]
     },
     "execution_count": 26,
     "metadata": {},
     "output_type": "execute_result"
    }
   ],
   "source": [
    "set(y_test)"
   ]
  },
  {
   "cell_type": "code",
   "execution_count": 27,
   "metadata": {},
   "outputs": [
    {
     "name": "stdout",
     "output_type": "stream",
     "text": [
      "0 43\n",
      "1 57\n"
     ]
    }
   ],
   "source": [
    "for i in set(y_test):\n",
    "    print(i,sum(y_test == i))"
   ]
  },
  {
   "cell_type": "code",
   "execution_count": 28,
   "metadata": {},
   "outputs": [
    {
     "data": {
      "text/plain": [
       "0.95"
      ]
     },
     "execution_count": 28,
     "metadata": {},
     "output_type": "execute_result"
    }
   ],
   "source": [
    "accuracy_score(y_test,ada_clf.predict(X_test))"
   ]
  },
  {
   "cell_type": "markdown",
   "metadata": {},
   "source": [
    "<h1>Gradient Boosting</h1>"
   ]
  },
  {
   "cell_type": "markdown",
   "metadata": {},
   "source": [
    "Here too we use weak classifiers, where the next classifier will correct the mistakes of its predecessor. However instead of tweaking the instance weights on every iteration, it instead tries to fit the new predictor to the **residual errors** made by the previous predictor. "
   ]
  },
  {
   "cell_type": "code",
   "execution_count": 29,
   "metadata": {},
   "outputs": [],
   "source": [
    "np.random.seed(42)\n",
    "X = np.random.rand(100, 1) - 0.5\n",
    "y = 3*X[:, 0]**2 + 0.05 * np.random.randn(100)"
   ]
  },
  {
   "cell_type": "code",
   "execution_count": 30,
   "metadata": {},
   "outputs": [],
   "source": [
    "from sklearn.tree import DecisionTreeRegressor"
   ]
  },
  {
   "cell_type": "code",
   "execution_count": 31,
   "metadata": {},
   "outputs": [
    {
     "data": {
      "text/plain": [
       "DecisionTreeRegressor(criterion='mse', max_depth=2, max_features=None,\n",
       "                      max_leaf_nodes=None, min_impurity_decrease=0.0,\n",
       "                      min_impurity_split=None, min_samples_leaf=1,\n",
       "                      min_samples_split=2, min_weight_fraction_leaf=0.0,\n",
       "                      presort=False, random_state=42, splitter='best')"
      ]
     },
     "execution_count": 31,
     "metadata": {},
     "output_type": "execute_result"
    }
   ],
   "source": [
    "tree_reg1 = DecisionTreeRegressor(max_depth = 2, random_state=42)\n",
    "tree_reg1.fit(X,y)"
   ]
  },
  {
   "cell_type": "code",
   "execution_count": 32,
   "metadata": {},
   "outputs": [
    {
     "data": {
      "text/plain": [
       "(100,)"
      ]
     },
     "execution_count": 32,
     "metadata": {},
     "output_type": "execute_result"
    }
   ],
   "source": [
    "tree_reg1.predict(X).shape"
   ]
  },
  {
   "cell_type": "markdown",
   "metadata": {},
   "source": [
    "Now we train another DecisionTreeRegressor on the residual errors of the previous predictor."
   ]
  },
  {
   "cell_type": "code",
   "execution_count": 33,
   "metadata": {},
   "outputs": [
    {
     "data": {
      "text/plain": [
       "(100,)"
      ]
     },
     "execution_count": 33,
     "metadata": {},
     "output_type": "execute_result"
    }
   ],
   "source": [
    "residualy = y - tree_reg1.predict(X)\n",
    "residualy.shape"
   ]
  },
  {
   "cell_type": "code",
   "execution_count": 34,
   "metadata": {},
   "outputs": [
    {
     "data": {
      "text/plain": [
       "DecisionTreeRegressor(criterion='mse', max_depth=2, max_features=None,\n",
       "                      max_leaf_nodes=None, min_impurity_decrease=0.0,\n",
       "                      min_impurity_split=None, min_samples_leaf=1,\n",
       "                      min_samples_split=2, min_weight_fraction_leaf=0.0,\n",
       "                      presort=False, random_state=42, splitter='best')"
      ]
     },
     "execution_count": 34,
     "metadata": {},
     "output_type": "execute_result"
    }
   ],
   "source": [
    "tree_reg2 = DecisionTreeRegressor(max_depth = 2, random_state=42)\n",
    "tree_reg2.fit(X,residualy)"
   ]
  },
  {
   "cell_type": "code",
   "execution_count": 35,
   "metadata": {},
   "outputs": [
    {
     "data": {
      "text/plain": [
       "(100,)"
      ]
     },
     "execution_count": 35,
     "metadata": {},
     "output_type": "execute_result"
    }
   ],
   "source": [
    "tree_reg2.predict(X).shape"
   ]
  },
  {
   "cell_type": "code",
   "execution_count": 36,
   "metadata": {},
   "outputs": [
    {
     "data": {
      "text/plain": [
       "(100,)"
      ]
     },
     "execution_count": 36,
     "metadata": {},
     "output_type": "execute_result"
    }
   ],
   "source": [
    "residualy2 = residualy - tree_reg2.predict(X)\n",
    "residualy2.shape"
   ]
  },
  {
   "cell_type": "code",
   "execution_count": 37,
   "metadata": {},
   "outputs": [],
   "source": [
    "tree_reg3 = DecisionTreeRegressor(max_depth = 2, random_state=42)"
   ]
  },
  {
   "cell_type": "code",
   "execution_count": 38,
   "metadata": {},
   "outputs": [
    {
     "data": {
      "text/plain": [
       "DecisionTreeRegressor(criterion='mse', max_depth=2, max_features=None,\n",
       "                      max_leaf_nodes=None, min_impurity_decrease=0.0,\n",
       "                      min_impurity_split=None, min_samples_leaf=1,\n",
       "                      min_samples_split=2, min_weight_fraction_leaf=0.0,\n",
       "                      presort=False, random_state=42, splitter='best')"
      ]
     },
     "execution_count": 38,
     "metadata": {},
     "output_type": "execute_result"
    }
   ],
   "source": [
    "tree_reg3.fit(X,residualy2)"
   ]
  },
  {
   "cell_type": "markdown",
   "metadata": {},
   "source": [
    "As we have 3 different predictors, with 2 fitting the residual errors, the prediction for the X can be found as follows"
   ]
  },
  {
   "cell_type": "code",
   "execution_count": 39,
   "metadata": {},
   "outputs": [
    {
     "data": {
      "text/plain": [
       "(100,)"
      ]
     },
     "execution_count": 39,
     "metadata": {},
     "output_type": "execute_result"
    }
   ],
   "source": [
    "ypred_final = sum(tree.predict(X) for tree in (tree_reg1,tree_reg2,tree_reg3))\n",
    "ypred_final.shape"
   ]
  },
  {
   "cell_type": "code",
   "execution_count": 40,
   "metadata": {},
   "outputs": [],
   "source": [
    "from sklearn.metrics import mean_squared_error"
   ]
  },
  {
   "cell_type": "code",
   "execution_count": 41,
   "metadata": {},
   "outputs": [
    {
     "data": {
      "text/plain": [
       "0.005038058938993283"
      ]
     },
     "execution_count": 41,
     "metadata": {},
     "output_type": "execute_result"
    }
   ],
   "source": [
    "mean_squared_error(y,ypred_final)"
   ]
  },
  {
   "cell_type": "code",
   "execution_count": 42,
   "metadata": {},
   "outputs": [
    {
     "data": {
      "text/plain": [
       "array([[ 5.15728987e-02,  4.02116554e-02],\n",
       "       [ 5.94479790e-01,  4.99951981e-01],\n",
       "       [ 1.66051606e-01,  1.70522566e-01],\n",
       "       [-7.01779562e-02,  4.02116554e-02],\n",
       "       [ 3.43985933e-01,  2.90447615e-01],\n",
       "       [ 3.72874939e-01,  2.90447615e-01],\n",
       "       [ 6.59764984e-01,  6.67955798e-01],\n",
       "       [ 3.76341398e-01,  4.99951981e-01],\n",
       "       [-9.75194335e-03,  4.02116554e-02],\n",
       "       [ 1.04794741e-01,  1.70522566e-01],\n",
       "       [ 7.35287787e-01,  6.67955798e-01],\n",
       "       [ 6.78883363e-01,  6.78883363e-01],\n",
       "       [ 3.05066318e-01,  4.99951981e-01],\n",
       "       [ 2.73909733e-01,  2.90447615e-01],\n",
       "       [ 3.08559932e-01,  2.90447615e-01],\n",
       "       [ 3.49130363e-01,  2.90447615e-01],\n",
       "       [ 7.98606436e-02,  4.02116554e-02],\n",
       "       [-1.45444646e-02,  4.02116554e-02],\n",
       "       [-5.71096619e-03,  4.02116554e-02],\n",
       "       [ 5.75800683e-02,  4.02116554e-02],\n",
       "       [ 5.23392240e-02,  4.02116554e-02],\n",
       "       [ 4.02946793e-01,  4.94840285e-01],\n",
       "       [ 1.29867214e-01,  4.02116554e-02],\n",
       "       [ 4.18481141e-02,  4.02116554e-02],\n",
       "       [-6.49789982e-02,  4.02116554e-02],\n",
       "       [ 2.22943721e-01,  1.70522566e-01],\n",
       "       [ 2.53451786e-01,  2.90447615e-01],\n",
       "       [-3.95060058e-02,  4.02116554e-02],\n",
       "       [ 1.75570720e-02,  4.02116554e-02],\n",
       "       [ 6.37324227e-01,  6.67955798e-01],\n",
       "       [ 1.29006981e-01,  4.02116554e-02],\n",
       "       [ 3.34391950e-01,  2.90447615e-01],\n",
       "       [ 5.80417870e-01,  6.67955798e-01],\n",
       "       [ 6.00772381e-01,  4.99951981e-01],\n",
       "       [ 5.54501010e-01,  4.99951981e-01],\n",
       "       [ 2.84001079e-01,  1.70522566e-01],\n",
       "       [ 1.17538848e-01,  4.02116554e-02],\n",
       "       [ 6.08765289e-01,  4.94840285e-01],\n",
       "       [ 9.22073759e-02,  4.02116554e-02],\n",
       "       [ 2.58225391e-02,  4.02116554e-02],\n",
       "       [ 4.26829699e-01,  4.94840285e-01],\n",
       "       [-5.83641153e-02,  4.02116554e-02],\n",
       "       [ 7.07523289e-01,  6.67955798e-01],\n",
       "       [ 5.40226226e-01,  4.99951981e-01],\n",
       "       [ 2.14112889e-01,  2.90447615e-01],\n",
       "       [ 3.37711060e-02,  4.02116554e-02],\n",
       "       [ 1.76497872e-01,  4.02116554e-02],\n",
       "       [-6.88843767e-02,  4.02116554e-02],\n",
       "       [ 3.58884053e-02,  4.02116554e-02],\n",
       "       [ 4.07472924e-01,  2.90447615e-01],\n",
       "       [ 6.12002352e-01,  4.99951981e-01],\n",
       "       [ 1.98779325e-01,  1.70522566e-01],\n",
       "       [ 5.84460527e-01,  4.99951981e-01],\n",
       "       [ 4.42492127e-01,  4.99951981e-01],\n",
       "       [-4.87799540e-02,  4.02116554e-02],\n",
       "       [ 5.37361759e-01,  4.99951981e-01],\n",
       "       [ 4.54900077e-01,  4.94840285e-01],\n",
       "       [ 3.00958881e-01,  2.90447615e-01],\n",
       "       [ 5.74483445e-01,  6.67955798e-01],\n",
       "       [ 1.69025200e-01,  4.02116554e-02],\n",
       "       [-1.98442712e-03,  4.02116554e-02],\n",
       "       [ 1.40740720e-01,  2.90447615e-01],\n",
       "       [ 3.64880911e-01,  4.99951981e-01],\n",
       "       [ 1.56124184e-05,  4.02116554e-02],\n",
       "       [ 1.55342064e-01,  2.90447615e-01],\n",
       "       [ 7.08260043e-02,  4.02116554e-02],\n",
       "       [ 3.06432075e-01,  2.90447615e-01],\n",
       "       [ 2.83200738e-01,  1.70522566e-01],\n",
       "       [ 5.56015604e-01,  4.94840285e-01],\n",
       "       [ 7.50267811e-01,  7.50267811e-01],\n",
       "       [ 1.60504108e-01,  1.70522566e-01],\n",
       "       [ 2.06293891e-01,  2.90447615e-01],\n",
       "       [ 7.59622208e-01,  6.67955798e-01],\n",
       "       [ 3.13396972e-01,  1.70522566e-01],\n",
       "       [ 1.40894525e-01,  1.70522566e-01],\n",
       "       [ 1.74655260e-01,  1.70522566e-01],\n",
       "       [ 1.86761567e-01,  1.70522566e-01],\n",
       "       [ 5.55926561e-01,  4.94840285e-01],\n",
       "       [ 7.47494737e-02,  4.02116554e-02],\n",
       "       [ 4.06952167e-01,  4.94840285e-01],\n",
       "       [ 4.88821019e-01,  4.99951981e-01],\n",
       "       [ 6.92989303e-02,  4.02116554e-02],\n",
       "       [ 2.62212591e-02,  4.02116554e-02],\n",
       "       [ 6.04271621e-01,  6.67955798e-01],\n",
       "       [ 5.84489646e-02,  4.02116554e-02],\n",
       "       [ 1.31036843e-01,  4.02116554e-02],\n",
       "       [ 2.16086770e-01,  1.70522566e-01],\n",
       "       [ 1.57320579e-02,  4.02116554e-02],\n",
       "       [ 4.97969931e-01,  4.99951981e-01],\n",
       "       [ 2.29550775e-02,  4.02116554e-02],\n",
       "       [ 4.75228621e-01,  4.94840285e-01],\n",
       "       [ 2.31259667e-01,  1.70522566e-01],\n",
       "       [ 1.91757119e-01,  1.70522566e-01],\n",
       "       [-2.64221234e-02,  4.02116554e-02],\n",
       "       [ 1.75793916e-01,  1.70522566e-01],\n",
       "       [-4.06750304e-02,  4.02116554e-02],\n",
       "       [-2.30474088e-03,  4.02116554e-02],\n",
       "       [ 3.28085108e-02,  4.02116554e-02],\n",
       "       [ 6.89515556e-01,  6.67955798e-01],\n",
       "       [ 5.02606562e-01,  4.94840285e-01]])"
      ]
     },
     "execution_count": 42,
     "metadata": {},
     "output_type": "execute_result"
    }
   ],
   "source": [
    "np.c_[y,ypred_final]"
   ]
  },
  {
   "cell_type": "code",
   "execution_count": 43,
   "metadata": {},
   "outputs": [],
   "source": [
    "X_new = np.array([[0.8]])"
   ]
  },
  {
   "cell_type": "code",
   "execution_count": 44,
   "metadata": {},
   "outputs": [
    {
     "data": {
      "text/plain": [
       "array([0.75026781])"
      ]
     },
     "execution_count": 44,
     "metadata": {},
     "output_type": "execute_result"
    }
   ],
   "source": [
    "sum(tree.predict(X_new) for tree in (tree_reg1,tree_reg2,tree_reg3))"
   ]
  },
  {
   "cell_type": "markdown",
   "metadata": {},
   "source": [
    "<h1>using GradientBoostingRegressor</h1>"
   ]
  },
  {
   "cell_type": "code",
   "execution_count": 45,
   "metadata": {},
   "outputs": [],
   "source": [
    "from sklearn.ensemble import GradientBoostingRegressor"
   ]
  },
  {
   "cell_type": "code",
   "execution_count": 46,
   "metadata": {},
   "outputs": [],
   "source": [
    "gbrt = GradientBoostingRegressor(max_depth=2,n_estimators = 3,learning_rate = 1.0)"
   ]
  },
  {
   "cell_type": "code",
   "execution_count": 47,
   "metadata": {},
   "outputs": [
    {
     "data": {
      "text/plain": [
       "GradientBoostingRegressor(alpha=0.9, criterion='friedman_mse', init=None,\n",
       "                          learning_rate=1.0, loss='ls', max_depth=2,\n",
       "                          max_features=None, max_leaf_nodes=None,\n",
       "                          min_impurity_decrease=0.0, min_impurity_split=None,\n",
       "                          min_samples_leaf=1, min_samples_split=2,\n",
       "                          min_weight_fraction_leaf=0.0, n_estimators=3,\n",
       "                          n_iter_no_change=None, presort='auto',\n",
       "                          random_state=None, subsample=1.0, tol=0.0001,\n",
       "                          validation_fraction=0.1, verbose=0, warm_start=False)"
      ]
     },
     "execution_count": 47,
     "metadata": {},
     "output_type": "execute_result"
    }
   ],
   "source": [
    "gbrt.fit(X,y)"
   ]
  },
  {
   "cell_type": "markdown",
   "metadata": {},
   "source": [
    "Here the **learning_rate** scales the contribution of each tree. \n",
    "A low learning_rate results in requiring more trees,meaning it underfits as it uses less number of trees, however a more generalize solution with less overfitting. This is a regularization technique called **shrinkage**."
   ]
  },
  {
   "cell_type": "code",
   "execution_count": 48,
   "metadata": {},
   "outputs": [
    {
     "data": {
      "text/plain": [
       "GradientBoostingRegressor(alpha=0.9, criterion='friedman_mse', init=None,\n",
       "                          learning_rate=0.1, loss='ls', max_depth=2,\n",
       "                          max_features=None, max_leaf_nodes=None,\n",
       "                          min_impurity_decrease=0.0, min_impurity_split=None,\n",
       "                          min_samples_leaf=1, min_samples_split=2,\n",
       "                          min_weight_fraction_leaf=0.0, n_estimators=300,\n",
       "                          n_iter_no_change=None, presort='auto',\n",
       "                          random_state=None, subsample=1.0, tol=0.0001,\n",
       "                          validation_fraction=0.1, verbose=0, warm_start=False)"
      ]
     },
     "execution_count": 48,
     "metadata": {},
     "output_type": "execute_result"
    }
   ],
   "source": [
    "gbrt_tree3 =  GradientBoostingRegressor(max_depth=2,n_estimators = 3,learning_rate = 1.0)\n",
    "gbrt_tree3.fit(X,y)\n",
    "gbrt_tree300 =  GradientBoostingRegressor(max_depth=2,n_estimators = 300,learning_rate = 1.0)\n",
    "gbrt_tree300.fit(X,y)\n",
    "gbrt_lr01 =  GradientBoostingRegressor(max_depth=2,n_estimators = 3,learning_rate = 0.1)\n",
    "gbrt_lr01.fit(X,y)\n",
    "gbrt_lr1 =  GradientBoostingRegressor(max_depth=2,n_estimators = 300,learning_rate = 0.1)\n",
    "gbrt_lr1.fit(X,y)"
   ]
  },
  {
   "cell_type": "code",
   "execution_count": 49,
   "metadata": {},
   "outputs": [
    {
     "data": {
      "image/png": "[encoded data removed]",
      "text/plain": [
       "<Figure size 720x1080 with 18 Axes>"
      ]
     },
     "metadata": {
      "needs_background": "light"
     },
     "output_type": "display_data"
    }
   ],
   "source": [
    "treenum = [3,25,50,100,200,300]\n",
    "learnrate = [0.1,0.5,1]\n",
    "\n",
    "fig,ax = plt.subplots(6,3,figsize = (10,15))\n",
    "axesrownum = 0\n",
    "axescolnum = 0\n",
    "for tree in treenum:\n",
    "    if axescolnum != 0:\n",
    "        axesrownum +=1\n",
    "        axescolnum = 0\n",
    "    \n",
    "    for rate in learnrate:\n",
    "        xpred = np.linspace(min(X),max(X),100)\n",
    "        ax[axesrownum,axescolnum].plot(X,y,'b.')\n",
    "        gbrt = GradientBoostingRegressor(\n",
    "            max_depth=2,\n",
    "            n_estimators = tree,\n",
    "            learning_rate = rate)\n",
    "        gbrt.fit(X,y)           \n",
    "        y_predicted = gbrt.predict(xpred)\n",
    "        ax[axesrownum,axescolnum].plot(xpred,y_predicted,'r-')\n",
    "        ax[axesrownum,axescolnum].set_title('estimators:{},rate:{}'.format(tree,rate))\n",
    "        axescolnum +=1"
   ]
  },
  {
   "cell_type": "markdown",
   "metadata": {},
   "source": [
    "At a low learning rate, there is a requirement of more trees to be used in Gradient Boosting. But as the number of estimators increase, there is overfitting. \n",
    "\n",
    "At a high learning rate, even with low number of estimators, it still generalizes well. But even moderately high number of estimators causes the model to overfit.\n",
    "\n",
    "**low learning rate with moderate number of trees/ high learning rate with less num of trees generalizes well**\n",
    "\n",
    "High learning rate/less trees\n",
    "OR\n",
    "low learning rate/moderate trees\n",
    "\n",
    "Low learning rate will always generalize better, hence its always better to keep a low learning rate in GradientBoostingRegressor algorithms, and use staged_predict or earlystop to find ideal tree number."
   ]
  },
  {
   "cell_type": "code",
   "execution_count": 80,
   "metadata": {},
   "outputs": [],
   "source": [
    "X_train,X_test,y_train,y_val = train_test_split(X,y,random_state=43,test_size = 0.2)"
   ]
  },
  {
   "cell_type": "code",
   "execution_count": 51,
   "metadata": {},
   "outputs": [
    {
     "data": {
      "text/plain": [
       "GradientBoostingRegressor(alpha=0.9, criterion='friedman_mse', init=None,\n",
       "                          learning_rate=0.1, loss='ls', max_depth=2,\n",
       "                          max_features=None, max_leaf_nodes=None,\n",
       "                          min_impurity_decrease=0.0, min_impurity_split=None,\n",
       "                          min_samples_leaf=1, min_samples_split=2,\n",
       "                          min_weight_fraction_leaf=0.0, n_estimators=500,\n",
       "                          n_iter_no_change=None, presort='auto',\n",
       "                          random_state=None, subsample=1.0, tol=0.0001,\n",
       "                          validation_fraction=0.1, verbose=0, warm_start=False)"
      ]
     },
     "execution_count": 51,
     "metadata": {},
     "output_type": "execute_result"
    }
   ],
   "source": [
    "gbrt = GradientBoostingRegressor(max_depth = 2, n_estimators = 500)\n",
    "gbrt.fit(X_train,y_train)"
   ]
  },
  {
   "cell_type": "code",
   "execution_count": 52,
   "metadata": {},
   "outputs": [],
   "source": [
    "errors = [mean_squared_error(y_val,y_pred) for y_pred in gbrt.staged_predict(X_test)]"
   ]
  },
  {
   "cell_type": "code",
   "execution_count": 53,
   "metadata": {},
   "outputs": [
    {
     "data": {
      "text/plain": [
       "500"
      ]
     },
     "execution_count": 53,
     "metadata": {},
     "output_type": "execute_result"
    }
   ],
   "source": [
    "len(errors)"
   ]
  },
  {
   "cell_type": "code",
   "execution_count": 54,
   "metadata": {},
   "outputs": [],
   "source": [
    "bst_n_estimators = np.argmin(errors)"
   ]
  },
  {
   "cell_type": "code",
   "execution_count": 55,
   "metadata": {},
   "outputs": [
    {
     "data": {
      "text/plain": [
       "GradientBoostingRegressor(alpha=0.9, criterion='friedman_mse', init=None,\n",
       "                          learning_rate=0.1, loss='ls', max_depth=2,\n",
       "                          max_features=None, max_leaf_nodes=None,\n",
       "                          min_impurity_decrease=0.0, min_impurity_split=None,\n",
       "                          min_samples_leaf=1, min_samples_split=2,\n",
       "                          min_weight_fraction_leaf=0.0, n_estimators=93,\n",
       "                          n_iter_no_change=None, presort='auto',\n",
       "                          random_state=None, subsample=1.0, tol=0.0001,\n",
       "                          validation_fraction=0.1, verbose=0, warm_start=False)"
      ]
     },
     "execution_count": 55,
     "metadata": {},
     "output_type": "execute_result"
    }
   ],
   "source": [
    "gbrt_best = GradientBoostingRegressor(max_depth=2,n_estimators=bst_n_estimators)\n",
    "gbrt_best.fit(X_train, y_train)"
   ]
  },
  {
   "cell_type": "code",
   "execution_count": 56,
   "metadata": {},
   "outputs": [
    {
     "name": "stdout",
     "output_type": "stream",
     "text": [
      "82\n"
     ]
    }
   ],
   "source": [
    "gbrt = GradientBoostingRegressor(max_depth = 2,warm_start=True)\n",
    "error_list = list()\n",
    "min_val_error = float(\"inf\")\n",
    "error_up = 0\n",
    "\n",
    "for n_estimator in range(1,120):\n",
    "    gbrt.n_estimators = n_estimator\n",
    "    gbrt.fit(X_train,y_train)\n",
    "    y_pred = gbrt.predict(X_test)\n",
    "    val_error = mean_squared_error(y_val,y_pred)\n",
    "    error_list.append(val_error)\n",
    "    if val_error<min_val_error:\n",
    "        min_val_error = val_error\n",
    "        error_up = 0\n",
    "    else:\n",
    "        error_up += 1\n",
    "        if error_up == 5:\n",
    "            print(n_estimator)\n",
    "            break\n",
    "        \n",
    "        "
   ]
  },
  {
   "cell_type": "code",
   "execution_count": 57,
   "metadata": {},
   "outputs": [
    {
     "data": {
      "text/plain": [
       "[0.003062722316443404,\n",
       " 0.003055224826837069,\n",
       " 0.0030568334855971884,\n",
       " 0.0030603965887906533,\n",
       " 0.00306047408326454,\n",
       " 0.003056848557056812,\n",
       " 0.0030545861874872278,\n",
       " 0.0030658845405065896,\n",
       " 0.00307210062931013,\n",
       " 0.0030721360802529697,\n",
       " 0.003072495620879437,\n",
       " 0.0030734753951668094]"
      ]
     },
     "execution_count": 57,
     "metadata": {},
     "output_type": "execute_result"
    }
   ],
   "source": [
    "error_list[70:82]"
   ]
  },
  {
   "cell_type": "code",
   "execution_count": 82,
   "metadata": {},
   "outputs": [
    {
     "name": "stdout",
     "output_type": "stream",
     "text": [
      "0.6\n"
     ]
    }
   ],
   "source": [
    "gbrt = GradientBoostingRegressor(max_depth = 2,n_estimators = 77,warm_start=True)\n",
    "error_list = list()\n",
    "min_val_error = float(\"inf\")\n",
    "error_up = 0\n",
    "rates = list(np.linspace(0.1,10,100))\n",
    "ratelist = list()\n",
    "for rate in rates:\n",
    "    gbrt.learning_rate = rate\n",
    "    gbrt.fit(X_train,y_train)\n",
    "    y_pred = gbrt.predict(X_test)\n",
    "    val_error = mean_squared_error(y_val,y_pred)\n",
    "    error_list.append(val_error)\n",
    "    if val_error<min_val_error:\n",
    "        min_val_error = val_error\n",
    "        ratelist.append(rate)\n",
    "        error_up = 0\n",
    "    else:\n",
    "        error_up += 1\n",
    "        ratelist.append(rate)\n",
    "        if error_up == 5:\n",
    "            print(rate)\n",
    "            break\n",
    "        \n",
    "        "
   ]
  },
  {
   "cell_type": "code",
   "execution_count": 83,
   "metadata": {},
   "outputs": [
    {
     "data": {
      "text/plain": [
       "[0.1, 0.2, 0.30000000000000004, 0.4, 0.5, 0.6]"
      ]
     },
     "execution_count": 83,
     "metadata": {},
     "output_type": "execute_result"
    }
   ],
   "source": [
    "ratelist"
   ]
  },
  {
   "cell_type": "code",
   "execution_count": 84,
   "metadata": {},
   "outputs": [
    {
     "data": {
      "text/plain": [
       "[0.017082809011480314,\n",
       " 0.17377162062088336,\n",
       " 0.7201226848282104,\n",
       " 1.6561360016334583,\n",
       " 2.9818115710366286,\n",
       " 4.6971493930377255]"
      ]
     },
     "execution_count": 84,
     "metadata": {},
     "output_type": "execute_result"
    }
   ],
   "source": [
    "error_list"
   ]
  },
  {
   "cell_type": "markdown",
   "metadata": {},
   "source": [
    "https://scikit-learn.org/stable/modules/ensemble.html"
   ]
  },
  {
   "cell_type": "markdown",
   "metadata": {},
   "source": [
    "<h1>Random Subspace classifier</h1>"
   ]
  },
  {
   "cell_type": "markdown",
   "metadata": {},
   "source": [
    "BaggingClassifier(DecisionTreeClassifier(max_depth,max_features),nestimators,bootstrap=True,max_samples)"
   ]
  },
  {
   "cell_type": "code",
   "execution_count": 58,
   "metadata": {},
   "outputs": [],
   "source": [
    "\n",
    "X,y = make_moons(n_samples = 500, noise = 0.15, random_state = 42)\n",
    "\n",
    "X_train,X_test,y_train,y_test = train_test_split(X, y, test_size=0.2, random_state=42)"
   ]
  },
  {
   "cell_type": "code",
   "execution_count": 75,
   "metadata": {},
   "outputs": [
    {
     "name": "stdout",
     "output_type": "stream",
     "text": [
      "0.9\n"
     ]
    }
   ],
   "source": [
    "from sklearn.ensemble import AdaBoostClassifier\n",
    "\n",
    "accuracy_list = list()\n",
    "estimatorlist = list()\n",
    "ratelist = list()\n",
    "n_trees = list(range(1,300))\n",
    "learningrates = list(np.linspace(0.1,10,100))\n",
    "accuracy = 0\n",
    "acc_down = 0\n",
    "for rate in learningrates:\n",
    "    ada_clf = AdaBoostClassifier(DecisionTreeClassifier(max_depth = 1),\n",
    "                                n_estimators = 10, \n",
    "                                algorithm = \"SAMME.R\",\n",
    "                                learning_rate = rate)\n",
    "    ada_clf.fit(X_train,y_train)\n",
    "    y_pred = ada_clf.predict(X_test)\n",
    "    acc = accuracy_score(y_test,y_pred)\n",
    "    ratelist.append(rate)\n",
    "    #estimatorlist.append(n_estimator)\n",
    "    #print(acc)\n",
    "    if acc>accuracy:\n",
    "        accuracy = acc\n",
    "        accuracy_list.append(acc)\n",
    "        acc_down = 0\n",
    "    else:\n",
    "        acc_down += 1\n",
    "        accuracy_list.append(acc)\n",
    "        if acc_down == 5:\n",
    "            accuracy_list\n",
    "            print(rate)\n",
    "            break"
   ]
  },
  {
   "cell_type": "code",
   "execution_count": 76,
   "metadata": {},
   "outputs": [
    {
     "data": {
      "text/plain": [
       "[0.87, 0.93, 0.93, 0.99, 0.99, 0.99, 0.99, 0.99, 0.99]"
      ]
     },
     "execution_count": 76,
     "metadata": {},
     "output_type": "execute_result"
    }
   ],
   "source": [
    "accuracy_list"
   ]
  },
  {
   "cell_type": "code",
   "execution_count": 77,
   "metadata": {},
   "outputs": [
    {
     "data": {
      "text/plain": [
       "[]"
      ]
     },
     "execution_count": 77,
     "metadata": {},
     "output_type": "execute_result"
    }
   ],
   "source": [
    "estimatorlist"
   ]
  },
  {
   "cell_type": "code",
   "execution_count": 78,
   "metadata": {},
   "outputs": [
    {
     "data": {
      "text/plain": [
       "[0.1, 0.2, 0.30000000000000004, 0.4, 0.5, 0.6, 0.7000000000000001, 0.8, 0.9]"
      ]
     },
     "execution_count": 78,
     "metadata": {},
     "output_type": "execute_result"
    }
   ],
   "source": [
    "ratelist"
   ]
  },
  {
   "cell_type": "code",
   "execution_count": null,
   "metadata": {},
   "outputs": [],
   "source": []
  }
 ],
 "metadata": {
  "kernelspec": {
   "display_name": "Python 3",
   "language": "python",
   "name": "python3"
  },
  "language_info": {
   "codemirror_mode": {
    "name": "ipython",
    "version": 3
   },
   "file_extension": ".py",
   "mimetype": "text/x-python",
   "name": "python",
   "nbconvert_exporter": "python",
   "pygments_lexer": "ipython3",
   "version": "3.7.3"
  }
 },
 "nbformat": 4,
 "nbformat_minor": 2
}
